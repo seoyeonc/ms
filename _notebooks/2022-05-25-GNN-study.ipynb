{
 "cells": [
  {
   "cell_type": "markdown",
   "id": "5296ada3-4d9b-4262-8b3f-4bec3f2a3924",
   "metadata": {
    "id": "cac470df-29e7-4148-9bbd-d8b9a32fa570",
    "tags": []
   },
   "source": [
    "# (not done) Node Classification with Graph Neural Networks\n",
    "> 공부\n",
    "\n",
    "- toc:true\n",
    "- branch: master\n",
    "- badges: true\n",
    "- comments: false\n",
    "- author: 최서연\n",
    "- categories: [GNN]"
   ]
  },
  {
   "cell_type": "markdown",
   "id": "8d232d37-3c0a-4193-abd4-3ae5bc973c8d",
   "metadata": {},
   "source": [
    "ref: https://keras.io/examples/graph/gnn_citations/"
   ]
  },
  {
   "cell_type": "markdown",
   "id": "0fff1f72-b9ec-4978-8c4e-b0332ab9b726",
   "metadata": {},
   "source": [
    "- GNN의 간단한 구현 예제\n",
    "- 그래프 컨볼루션 레이어 구현"
   ]
  },
  {
   "cell_type": "markdown",
   "id": "e5255e81-3055-4ca4-832d-ccb28a814fdd",
   "metadata": {},
   "source": [
    "사용한 cora dataset\n",
    "\n",
    "https://relational.fit.cvut.cz/dataset/CORA"
   ]
  },
  {
   "cell_type": "markdown",
   "id": "d439cfa1-d166-4cb1-908b-bb6fd0bfc291",
   "metadata": {},
   "source": [
    "---"
   ]
  },
  {
   "cell_type": "markdown",
   "id": "f3b1336d-b213-470e-80d4-b991f9dd3cba",
   "metadata": {},
   "source": [
    "논문: 2708개\n",
    "- 7개의 class\n",
    "    - 'Case_Based', 'Genetic_Algorithms', 'Neural_Networks', 'Probabilistic_Methods', 'Reinforcement_Learning', 'Rule_Learning', 'Theory'\n",
    "    \n",
    "인용: 5429개\n",
    "\n",
    "단어: 1433개"
   ]
  },
  {
   "cell_type": "markdown",
   "id": "df9951dd-ca39-46d2-acb8-dce5eded7759",
   "metadata": {},
   "source": [
    "---"
   ]
  },
  {
   "cell_type": "markdown",
   "id": "6407fb2b-1c75-41c2-b243-e4c4816953ed",
   "metadata": {},
   "source": [
    "CORA 데이터 이해\n",
    "\n",
    "- The goal of our experiments is to predict the categories assigned to each paper.\n",
    "    - 각 논문에 할당된 카테고리를 예측하는 게 시험의 목표이다.\n",
    "- Dataset has been pre-processed removing papers that don't belong to at least one category. Also paper that don't have authors and don't have a title have been discarded. \n",
    "    - 하나의 카테고리에도 속하지 않은 논문들은 사전에 제거되었다. 저자가 없거나 제목 없는 논문들도 제거되었다.\n",
    "        - 즉, 결측값은 없다는 뜻\n",
    "- 11881 papers belonging to 80 different categories\n",
    "    - 80개의 다른 카테고리를 가진 11,881개의 논문\n",
    "- 16114 authors\n",
    "    - 16,114명의 저자\n",
    "- 34648 citations relations between papers\n",
    "    - 논문 사이에 인용관계 24,648\n",
    "- 27020 authorship relations between papers and authors\n",
    "    - 논문과 저자 사이의 저작권 관계 27,020\n",
    "- Each paper is associated with a vectorial representation containing its title represented as bag-of-words with TF-IDF weights.\n",
    "    - 각 논문은 벡터 표현되어 있다.\n",
    "- 목표\n",
    "    - link-prediction problem: predict citation relations between papers or authorship relations with authors\n",
    "        - 연결 예측 문제: 논문 간의 인용관계 예측 또는 저자 간의 저작권 관계 예측\n",
    "    - multi-label classification problem: predict the categories assigned to each  paper\n",
    "        - 다중 레이블 분류 문제: 각 논문에 관련된 카테고리 예측"
   ]
  },
  {
   "cell_type": "markdown",
   "id": "29eb814d-0d1f-463f-8b10-a291df2f842d",
   "metadata": {},
   "source": [
    "![](https://relational.fit.cvut.cz/assets/img/datasets-generated/CORA.svg)"
   ]
  },
  {
   "cell_type": "markdown",
   "id": "09e52e4e-5e7f-4926-b22f-a9c890ed668c",
   "metadata": {},
   "source": [
    "- The Cora dataset consists of 2708 scientific publications classified into one of seven classes. The citation network consists of 5429 links. Each publication in the dataset is described by a 0/1-valued word vector indicating the absence/presence of the corresponding word from the dictionary. The dictionary consists of 1433 unique words.\n",
    "    - Cora는 7개의 class에서 분류된 2,708개의 과학 출판물로 구성되어 있다. 이 인용 network는 5,429개의 연결로 구성되어 있고, 각 출판물은 사전에서 부합하는 단어의 존재와 부재를 나타내는 valued 단어 벡터로 0/1로써 나타난다. 사전은 1,433개의 unique 단어들로 구성되어 있다.\n",
    "    \n",
    "- The Cora dataset consists of 2,708 scientific papers classified into one of seven classes. The citation network consists of 5,429 links. Each paper has a binary word vector of size 1,433, indicating the presence of a corresponding word."
   ]
  },
  {
   "cell_type": "markdown",
   "id": "9bb7fa81-6755-4671-9088-7ad6af1aa640",
   "metadata": {},
   "source": [
    "---"
   ]
  },
  {
   "cell_type": "code",
   "execution_count": 1,
   "id": "44b7baa2-fb3e-4504-a726-e78e5c55c460",
   "metadata": {},
   "outputs": [
    {
     "name": "stderr",
     "output_type": "stream",
     "text": [
      "2022-05-28 15:30:57.462261: W tensorflow/stream_executor/platform/default/dso_loader.cc:64] Could not load dynamic library 'libcudart.so.11.0'; dlerror: libcudart.so.11.0: cannot open shared object file: No such file or directory\n",
      "2022-05-28 15:30:57.462288: I tensorflow/stream_executor/cuda/cudart_stub.cc:29] Ignore above cudart dlerror if you do not have a GPU set up on your machine.\n"
     ]
    }
   ],
   "source": [
    "import os\n",
    "import pandas as pd\n",
    "import numpy as np\n",
    "import networkx as nx\n",
    "import matplotlib.pyplot as plt\n",
    "import tensorflow as tf\n",
    "from tensorflow import keras\n",
    "from tensorflow.keras import layers"
   ]
  },
  {
   "cell_type": "markdown",
   "id": "e29dccd2-0d3f-42c4-a665-3d2bdf8c92f2",
   "metadata": {},
   "source": [
    "### Prepare the Dataset"
   ]
  },
  {
   "cell_type": "markdown",
   "id": "8aa4a54e-0ed8-4bac-bf5b-b5d179de021f",
   "metadata": {},
   "source": [
    "The dataset has two tap-separated files: cora.cites and cora.content.\n",
    "- cora.cites와 cora.content의 tab으로 구분된 파일들이다.\n",
    "\n",
    "The cora.cites includes the citation records with two columns: cited_paper_id (target) and citing_paper_id (source).\n",
    "- cora.cites는 cited_paper_id (target)와 citing_paper_id (source)의 두 개의 열이 있는 인용 레코드가 포함된다.\n",
    "\n",
    "The cora.content includes the paper content records with 1,435 columns: paper_id, subject, and 1,433 binary features.\n",
    "- cora.content는 paper_id, subject, 1,433 binary features이 1,435개의 열이 포함된 논문 내용 기록이 포함된다."
   ]
  },
  {
   "cell_type": "code",
   "execution_count": 2,
   "id": "59330b6b-f362-4245-9b33-e9609d46df86",
   "metadata": {},
   "outputs": [],
   "source": [
    "zip_file = keras.utils.get_file(\n",
    "    fname=\"cora.tgz\",\n",
    "    origin=\"https://linqs-data.soe.ucsc.edu/public/lbc/cora.tgz\",\n",
    "    extract=True,\n",
    ")\n",
    "data_dir = os.path.join(os.path.dirname(zip_file), \"cora\")"
   ]
  },
  {
   "cell_type": "code",
   "execution_count": 3,
   "id": "c718c1a1-23e1-48d0-a190-312d885a12c2",
   "metadata": {},
   "outputs": [
    {
     "data": {
      "text/plain": [
       "'/home/csy/.keras/datasets/cora'"
      ]
     },
     "execution_count": 3,
     "metadata": {},
     "output_type": "execute_result"
    }
   ],
   "source": [
    "data_dir"
   ]
  },
  {
   "cell_type": "code",
   "execution_count": 4,
   "id": "48cf5e3b-2340-4fc0-a520-1d81e85b5283",
   "metadata": {},
   "outputs": [
    {
     "name": "stdout",
     "output_type": "stream",
     "text": [
      "Citations shape: (5429, 2)\n"
     ]
    }
   ],
   "source": [
    "citations = pd.read_csv(\n",
    "    os.path.join(data_dir, \"cora.cites\"),\n",
    "    sep=\"\\t\",\n",
    "    header=None,\n",
    "    names=[\"target\", \"source\"],\n",
    ")\n",
    "print(\"Citations shape:\", citations.shape)"
   ]
  },
  {
   "cell_type": "code",
   "execution_count": 5,
   "id": "e20e0637-ec60-45a6-8f5c-8c3c0b86a526",
   "metadata": {},
   "outputs": [
    {
     "name": "stdout",
     "output_type": "stream",
     "text": [
      "<class 'pandas.core.frame.DataFrame'>\n",
      "RangeIndex: 5429 entries, 0 to 5428\n",
      "Data columns (total 2 columns):\n",
      " #   Column  Non-Null Count  Dtype\n",
      "---  ------  --------------  -----\n",
      " 0   target  5429 non-null   int64\n",
      " 1   source  5429 non-null   int64\n",
      "dtypes: int64(2)\n",
      "memory usage: 85.0 KB\n"
     ]
    }
   ],
   "source": [
    "citations.info()"
   ]
  },
  {
   "cell_type": "markdown",
   "id": "cd8977a1-b0c8-4737-b5dd-058b02df76fd",
   "metadata": {},
   "source": [
    "The target column includes the paper ids cited by the paper ids in the source column.\n",
    "- source 열에 있는 논문 id에 의해 인용된 논문 id를 target 열이 포함한다."
   ]
  },
  {
   "cell_type": "code",
   "execution_count": 6,
   "id": "ab51c199-3348-4d41-aeea-3e6a59e0806b",
   "metadata": {},
   "outputs": [
    {
     "data": {
      "text/html": [
       "<div>\n",
       "<style scoped>\n",
       "    .dataframe tbody tr th:only-of-type {\n",
       "        vertical-align: middle;\n",
       "    }\n",
       "\n",
       "    .dataframe tbody tr th {\n",
       "        vertical-align: top;\n",
       "    }\n",
       "\n",
       "    .dataframe thead th {\n",
       "        text-align: right;\n",
       "    }\n",
       "</style>\n",
       "<table border=\"1\" class=\"dataframe\">\n",
       "  <thead>\n",
       "    <tr style=\"text-align: right;\">\n",
       "      <th></th>\n",
       "      <th>target</th>\n",
       "      <th>source</th>\n",
       "    </tr>\n",
       "  </thead>\n",
       "  <tbody>\n",
       "    <tr>\n",
       "      <th>3274</th>\n",
       "      <td>52515</td>\n",
       "      <td>39199</td>\n",
       "    </tr>\n",
       "    <tr>\n",
       "      <th>1406</th>\n",
       "      <td>6782</td>\n",
       "      <td>1123068</td>\n",
       "    </tr>\n",
       "    <tr>\n",
       "      <th>3541</th>\n",
       "      <td>67584</td>\n",
       "      <td>562067</td>\n",
       "    </tr>\n",
       "    <tr>\n",
       "      <th>2994</th>\n",
       "      <td>38845</td>\n",
       "      <td>1107010</td>\n",
       "    </tr>\n",
       "    <tr>\n",
       "      <th>2584</th>\n",
       "      <td>28249</td>\n",
       "      <td>1116347</td>\n",
       "    </tr>\n",
       "  </tbody>\n",
       "</table>\n",
       "</div>"
      ],
      "text/plain": [
       "      target   source\n",
       "3274   52515    39199\n",
       "1406    6782  1123068\n",
       "3541   67584   562067\n",
       "2994   38845  1107010\n",
       "2584   28249  1116347"
      ]
     },
     "execution_count": 6,
     "metadata": {},
     "output_type": "execute_result"
    }
   ],
   "source": [
    "citations.sample(frac=1).head()"
   ]
  },
  {
   "cell_type": "code",
   "execution_count": 7,
   "id": "3dd92c8c-c3d4-489e-8792-498819a406fd",
   "metadata": {},
   "outputs": [
    {
     "data": {
      "text/html": [
       "<div>\n",
       "<style scoped>\n",
       "    .dataframe tbody tr th:only-of-type {\n",
       "        vertical-align: middle;\n",
       "    }\n",
       "\n",
       "    .dataframe tbody tr th {\n",
       "        vertical-align: top;\n",
       "    }\n",
       "\n",
       "    .dataframe thead th {\n",
       "        text-align: right;\n",
       "    }\n",
       "</style>\n",
       "<table border=\"1\" class=\"dataframe\">\n",
       "  <thead>\n",
       "    <tr style=\"text-align: right;\">\n",
       "      <th></th>\n",
       "      <th>target</th>\n",
       "      <th>source</th>\n",
       "    </tr>\n",
       "  </thead>\n",
       "  <tbody>\n",
       "    <tr>\n",
       "      <th>0</th>\n",
       "      <td>35</td>\n",
       "      <td>1033</td>\n",
       "    </tr>\n",
       "    <tr>\n",
       "      <th>1</th>\n",
       "      <td>35</td>\n",
       "      <td>103482</td>\n",
       "    </tr>\n",
       "    <tr>\n",
       "      <th>2</th>\n",
       "      <td>35</td>\n",
       "      <td>103515</td>\n",
       "    </tr>\n",
       "    <tr>\n",
       "      <th>3</th>\n",
       "      <td>35</td>\n",
       "      <td>1050679</td>\n",
       "    </tr>\n",
       "    <tr>\n",
       "      <th>4</th>\n",
       "      <td>35</td>\n",
       "      <td>1103960</td>\n",
       "    </tr>\n",
       "    <tr>\n",
       "      <th>...</th>\n",
       "      <td>...</td>\n",
       "      <td>...</td>\n",
       "    </tr>\n",
       "    <tr>\n",
       "      <th>5424</th>\n",
       "      <td>853116</td>\n",
       "      <td>19621</td>\n",
       "    </tr>\n",
       "    <tr>\n",
       "      <th>5425</th>\n",
       "      <td>853116</td>\n",
       "      <td>853155</td>\n",
       "    </tr>\n",
       "    <tr>\n",
       "      <th>5426</th>\n",
       "      <td>853118</td>\n",
       "      <td>1140289</td>\n",
       "    </tr>\n",
       "    <tr>\n",
       "      <th>5427</th>\n",
       "      <td>853155</td>\n",
       "      <td>853118</td>\n",
       "    </tr>\n",
       "    <tr>\n",
       "      <th>5428</th>\n",
       "      <td>954315</td>\n",
       "      <td>1155073</td>\n",
       "    </tr>\n",
       "  </tbody>\n",
       "</table>\n",
       "<p>5429 rows × 2 columns</p>\n",
       "</div>"
      ],
      "text/plain": [
       "      target   source\n",
       "0         35     1033\n",
       "1         35   103482\n",
       "2         35   103515\n",
       "3         35  1050679\n",
       "4         35  1103960\n",
       "...      ...      ...\n",
       "5424  853116    19621\n",
       "5425  853116   853155\n",
       "5426  853118  1140289\n",
       "5427  853155   853118\n",
       "5428  954315  1155073\n",
       "\n",
       "[5429 rows x 2 columns]"
      ]
     },
     "execution_count": 7,
     "metadata": {},
     "output_type": "execute_result"
    }
   ],
   "source": [
    "citations"
   ]
  },
  {
   "cell_type": "code",
   "execution_count": 63,
   "id": "a0ebdee8-ac81-4177-a9b4-35711ca0d2ca",
   "metadata": {},
   "outputs": [
    {
     "name": "stdout",
     "output_type": "stream",
     "text": [
      "Papers shape: (2708, 1435)\n"
     ]
    }
   ],
   "source": [
    "column_names = [\"paper_id\"] + [f\"term_{idx}\" for idx in range(1433)] + [\"subject\"]\n",
    "papers = pd.read_csv(\n",
    "    os.path.join(data_dir, \"cora.content\"), sep=\"\\t\", header=None, names=column_names,\n",
    ")\n",
    "print(\"Papers shape:\", papers.shape)"
   ]
  },
  {
   "cell_type": "code",
   "execution_count": 64,
   "id": "f1d49738-bb06-4b17-8e23-65e7f45fe118",
   "metadata": {},
   "outputs": [
    {
     "data": {
      "text/plain": [
       "2708"
      ]
     },
     "execution_count": 64,
     "metadata": {},
     "output_type": "execute_result"
    }
   ],
   "source": [
    "len(papers['subject'])"
   ]
  },
  {
   "cell_type": "code",
   "execution_count": 65,
   "id": "d96f5849-342c-40c2-9532-ac4da060142c",
   "metadata": {},
   "outputs": [
    {
     "data": {
      "text/plain": [
       "7"
      ]
     },
     "execution_count": 65,
     "metadata": {},
     "output_type": "execute_result"
    }
   ],
   "source": [
    "len(papers.groupby('subject'))"
   ]
  },
  {
   "cell_type": "code",
   "execution_count": 66,
   "id": "21c2d968-7a42-47e1-8c7a-023c0ce34289",
   "metadata": {},
   "outputs": [
    {
     "data": {
      "text/html": [
       "<div>\n",
       "<style scoped>\n",
       "    .dataframe tbody tr th:only-of-type {\n",
       "        vertical-align: middle;\n",
       "    }\n",
       "\n",
       "    .dataframe tbody tr th {\n",
       "        vertical-align: top;\n",
       "    }\n",
       "\n",
       "    .dataframe thead th {\n",
       "        text-align: right;\n",
       "    }\n",
       "</style>\n",
       "<table border=\"1\" class=\"dataframe\">\n",
       "  <thead>\n",
       "    <tr style=\"text-align: right;\">\n",
       "      <th></th>\n",
       "      <th>paper_id</th>\n",
       "      <th>term_0</th>\n",
       "      <th>term_1</th>\n",
       "      <th>term_2</th>\n",
       "      <th>term_3</th>\n",
       "      <th>term_4</th>\n",
       "      <th>term_5</th>\n",
       "      <th>term_6</th>\n",
       "      <th>term_7</th>\n",
       "      <th>term_8</th>\n",
       "      <th>...</th>\n",
       "      <th>term_1424</th>\n",
       "      <th>term_1425</th>\n",
       "      <th>term_1426</th>\n",
       "      <th>term_1427</th>\n",
       "      <th>term_1428</th>\n",
       "      <th>term_1429</th>\n",
       "      <th>term_1430</th>\n",
       "      <th>term_1431</th>\n",
       "      <th>term_1432</th>\n",
       "      <th>subject</th>\n",
       "    </tr>\n",
       "  </thead>\n",
       "  <tbody>\n",
       "    <tr>\n",
       "      <th>0</th>\n",
       "      <td>31336</td>\n",
       "      <td>0</td>\n",
       "      <td>0</td>\n",
       "      <td>0</td>\n",
       "      <td>0</td>\n",
       "      <td>0</td>\n",
       "      <td>0</td>\n",
       "      <td>0</td>\n",
       "      <td>0</td>\n",
       "      <td>0</td>\n",
       "      <td>...</td>\n",
       "      <td>0</td>\n",
       "      <td>0</td>\n",
       "      <td>1</td>\n",
       "      <td>0</td>\n",
       "      <td>0</td>\n",
       "      <td>0</td>\n",
       "      <td>0</td>\n",
       "      <td>0</td>\n",
       "      <td>0</td>\n",
       "      <td>Neural_Networks</td>\n",
       "    </tr>\n",
       "    <tr>\n",
       "      <th>1</th>\n",
       "      <td>1061127</td>\n",
       "      <td>0</td>\n",
       "      <td>0</td>\n",
       "      <td>0</td>\n",
       "      <td>0</td>\n",
       "      <td>0</td>\n",
       "      <td>0</td>\n",
       "      <td>0</td>\n",
       "      <td>0</td>\n",
       "      <td>0</td>\n",
       "      <td>...</td>\n",
       "      <td>0</td>\n",
       "      <td>1</td>\n",
       "      <td>0</td>\n",
       "      <td>0</td>\n",
       "      <td>0</td>\n",
       "      <td>0</td>\n",
       "      <td>0</td>\n",
       "      <td>0</td>\n",
       "      <td>0</td>\n",
       "      <td>Rule_Learning</td>\n",
       "    </tr>\n",
       "    <tr>\n",
       "      <th>2</th>\n",
       "      <td>1106406</td>\n",
       "      <td>0</td>\n",
       "      <td>0</td>\n",
       "      <td>0</td>\n",
       "      <td>0</td>\n",
       "      <td>0</td>\n",
       "      <td>0</td>\n",
       "      <td>0</td>\n",
       "      <td>0</td>\n",
       "      <td>0</td>\n",
       "      <td>...</td>\n",
       "      <td>0</td>\n",
       "      <td>0</td>\n",
       "      <td>0</td>\n",
       "      <td>0</td>\n",
       "      <td>0</td>\n",
       "      <td>0</td>\n",
       "      <td>0</td>\n",
       "      <td>0</td>\n",
       "      <td>0</td>\n",
       "      <td>Reinforcement_Learning</td>\n",
       "    </tr>\n",
       "    <tr>\n",
       "      <th>3</th>\n",
       "      <td>13195</td>\n",
       "      <td>0</td>\n",
       "      <td>0</td>\n",
       "      <td>0</td>\n",
       "      <td>0</td>\n",
       "      <td>0</td>\n",
       "      <td>0</td>\n",
       "      <td>0</td>\n",
       "      <td>0</td>\n",
       "      <td>0</td>\n",
       "      <td>...</td>\n",
       "      <td>0</td>\n",
       "      <td>0</td>\n",
       "      <td>0</td>\n",
       "      <td>0</td>\n",
       "      <td>0</td>\n",
       "      <td>0</td>\n",
       "      <td>0</td>\n",
       "      <td>0</td>\n",
       "      <td>0</td>\n",
       "      <td>Reinforcement_Learning</td>\n",
       "    </tr>\n",
       "    <tr>\n",
       "      <th>4</th>\n",
       "      <td>37879</td>\n",
       "      <td>0</td>\n",
       "      <td>0</td>\n",
       "      <td>0</td>\n",
       "      <td>0</td>\n",
       "      <td>0</td>\n",
       "      <td>0</td>\n",
       "      <td>0</td>\n",
       "      <td>0</td>\n",
       "      <td>0</td>\n",
       "      <td>...</td>\n",
       "      <td>0</td>\n",
       "      <td>0</td>\n",
       "      <td>0</td>\n",
       "      <td>0</td>\n",
       "      <td>0</td>\n",
       "      <td>0</td>\n",
       "      <td>0</td>\n",
       "      <td>0</td>\n",
       "      <td>0</td>\n",
       "      <td>Probabilistic_Methods</td>\n",
       "    </tr>\n",
       "    <tr>\n",
       "      <th>...</th>\n",
       "      <td>...</td>\n",
       "      <td>...</td>\n",
       "      <td>...</td>\n",
       "      <td>...</td>\n",
       "      <td>...</td>\n",
       "      <td>...</td>\n",
       "      <td>...</td>\n",
       "      <td>...</td>\n",
       "      <td>...</td>\n",
       "      <td>...</td>\n",
       "      <td>...</td>\n",
       "      <td>...</td>\n",
       "      <td>...</td>\n",
       "      <td>...</td>\n",
       "      <td>...</td>\n",
       "      <td>...</td>\n",
       "      <td>...</td>\n",
       "      <td>...</td>\n",
       "      <td>...</td>\n",
       "      <td>...</td>\n",
       "      <td>...</td>\n",
       "    </tr>\n",
       "    <tr>\n",
       "      <th>2703</th>\n",
       "      <td>1128975</td>\n",
       "      <td>0</td>\n",
       "      <td>0</td>\n",
       "      <td>0</td>\n",
       "      <td>0</td>\n",
       "      <td>0</td>\n",
       "      <td>0</td>\n",
       "      <td>0</td>\n",
       "      <td>0</td>\n",
       "      <td>0</td>\n",
       "      <td>...</td>\n",
       "      <td>0</td>\n",
       "      <td>0</td>\n",
       "      <td>0</td>\n",
       "      <td>0</td>\n",
       "      <td>0</td>\n",
       "      <td>0</td>\n",
       "      <td>0</td>\n",
       "      <td>0</td>\n",
       "      <td>0</td>\n",
       "      <td>Genetic_Algorithms</td>\n",
       "    </tr>\n",
       "    <tr>\n",
       "      <th>2704</th>\n",
       "      <td>1128977</td>\n",
       "      <td>0</td>\n",
       "      <td>0</td>\n",
       "      <td>0</td>\n",
       "      <td>0</td>\n",
       "      <td>0</td>\n",
       "      <td>0</td>\n",
       "      <td>0</td>\n",
       "      <td>0</td>\n",
       "      <td>0</td>\n",
       "      <td>...</td>\n",
       "      <td>0</td>\n",
       "      <td>0</td>\n",
       "      <td>0</td>\n",
       "      <td>0</td>\n",
       "      <td>0</td>\n",
       "      <td>0</td>\n",
       "      <td>0</td>\n",
       "      <td>0</td>\n",
       "      <td>0</td>\n",
       "      <td>Genetic_Algorithms</td>\n",
       "    </tr>\n",
       "    <tr>\n",
       "      <th>2705</th>\n",
       "      <td>1128978</td>\n",
       "      <td>0</td>\n",
       "      <td>0</td>\n",
       "      <td>0</td>\n",
       "      <td>0</td>\n",
       "      <td>0</td>\n",
       "      <td>0</td>\n",
       "      <td>0</td>\n",
       "      <td>0</td>\n",
       "      <td>0</td>\n",
       "      <td>...</td>\n",
       "      <td>0</td>\n",
       "      <td>0</td>\n",
       "      <td>0</td>\n",
       "      <td>0</td>\n",
       "      <td>0</td>\n",
       "      <td>0</td>\n",
       "      <td>0</td>\n",
       "      <td>0</td>\n",
       "      <td>0</td>\n",
       "      <td>Genetic_Algorithms</td>\n",
       "    </tr>\n",
       "    <tr>\n",
       "      <th>2706</th>\n",
       "      <td>117328</td>\n",
       "      <td>0</td>\n",
       "      <td>0</td>\n",
       "      <td>0</td>\n",
       "      <td>0</td>\n",
       "      <td>1</td>\n",
       "      <td>0</td>\n",
       "      <td>0</td>\n",
       "      <td>0</td>\n",
       "      <td>0</td>\n",
       "      <td>...</td>\n",
       "      <td>0</td>\n",
       "      <td>0</td>\n",
       "      <td>0</td>\n",
       "      <td>0</td>\n",
       "      <td>0</td>\n",
       "      <td>0</td>\n",
       "      <td>0</td>\n",
       "      <td>0</td>\n",
       "      <td>0</td>\n",
       "      <td>Case_Based</td>\n",
       "    </tr>\n",
       "    <tr>\n",
       "      <th>2707</th>\n",
       "      <td>24043</td>\n",
       "      <td>0</td>\n",
       "      <td>0</td>\n",
       "      <td>0</td>\n",
       "      <td>0</td>\n",
       "      <td>0</td>\n",
       "      <td>0</td>\n",
       "      <td>0</td>\n",
       "      <td>0</td>\n",
       "      <td>0</td>\n",
       "      <td>...</td>\n",
       "      <td>0</td>\n",
       "      <td>0</td>\n",
       "      <td>0</td>\n",
       "      <td>0</td>\n",
       "      <td>0</td>\n",
       "      <td>0</td>\n",
       "      <td>0</td>\n",
       "      <td>0</td>\n",
       "      <td>0</td>\n",
       "      <td>Neural_Networks</td>\n",
       "    </tr>\n",
       "  </tbody>\n",
       "</table>\n",
       "<p>2708 rows × 1435 columns</p>\n",
       "</div>"
      ],
      "text/plain": [
       "      paper_id  term_0  term_1  term_2  term_3  term_4  term_5  term_6  \\\n",
       "0        31336       0       0       0       0       0       0       0   \n",
       "1      1061127       0       0       0       0       0       0       0   \n",
       "2      1106406       0       0       0       0       0       0       0   \n",
       "3        13195       0       0       0       0       0       0       0   \n",
       "4        37879       0       0       0       0       0       0       0   \n",
       "...        ...     ...     ...     ...     ...     ...     ...     ...   \n",
       "2703   1128975       0       0       0       0       0       0       0   \n",
       "2704   1128977       0       0       0       0       0       0       0   \n",
       "2705   1128978       0       0       0       0       0       0       0   \n",
       "2706    117328       0       0       0       0       1       0       0   \n",
       "2707     24043       0       0       0       0       0       0       0   \n",
       "\n",
       "      term_7  term_8  ...  term_1424  term_1425  term_1426  term_1427  \\\n",
       "0          0       0  ...          0          0          1          0   \n",
       "1          0       0  ...          0          1          0          0   \n",
       "2          0       0  ...          0          0          0          0   \n",
       "3          0       0  ...          0          0          0          0   \n",
       "4          0       0  ...          0          0          0          0   \n",
       "...      ...     ...  ...        ...        ...        ...        ...   \n",
       "2703       0       0  ...          0          0          0          0   \n",
       "2704       0       0  ...          0          0          0          0   \n",
       "2705       0       0  ...          0          0          0          0   \n",
       "2706       0       0  ...          0          0          0          0   \n",
       "2707       0       0  ...          0          0          0          0   \n",
       "\n",
       "      term_1428  term_1429  term_1430  term_1431  term_1432  \\\n",
       "0             0          0          0          0          0   \n",
       "1             0          0          0          0          0   \n",
       "2             0          0          0          0          0   \n",
       "3             0          0          0          0          0   \n",
       "4             0          0          0          0          0   \n",
       "...         ...        ...        ...        ...        ...   \n",
       "2703          0          0          0          0          0   \n",
       "2704          0          0          0          0          0   \n",
       "2705          0          0          0          0          0   \n",
       "2706          0          0          0          0          0   \n",
       "2707          0          0          0          0          0   \n",
       "\n",
       "                     subject  \n",
       "0            Neural_Networks  \n",
       "1              Rule_Learning  \n",
       "2     Reinforcement_Learning  \n",
       "3     Reinforcement_Learning  \n",
       "4      Probabilistic_Methods  \n",
       "...                      ...  \n",
       "2703      Genetic_Algorithms  \n",
       "2704      Genetic_Algorithms  \n",
       "2705      Genetic_Algorithms  \n",
       "2706              Case_Based  \n",
       "2707         Neural_Networks  \n",
       "\n",
       "[2708 rows x 1435 columns]"
      ]
     },
     "execution_count": 66,
     "metadata": {},
     "output_type": "execute_result"
    }
   ],
   "source": [
    "papers"
   ]
  },
  {
   "cell_type": "code",
   "execution_count": 98,
   "id": "1f8112c9-b134-4f37-a094-68f02d03e8e8",
   "metadata": {},
   "outputs": [
    {
     "data": {
      "text/plain": [
       "['Case_Based',\n",
       " 'Genetic_Algorithms',\n",
       " 'Neural_Networks',\n",
       " 'Probabilistic_Methods',\n",
       " 'Reinforcement_Learning',\n",
       " 'Rule_Learning',\n",
       " 'Theory']"
      ]
     },
     "execution_count": 98,
     "metadata": {},
     "output_type": "execute_result"
    }
   ],
   "source": [
    "papers.groupby('subject').count().reset_index().iloc[:,0].tolist()"
   ]
  },
  {
   "cell_type": "markdown",
   "id": "28063a43-02dc-4872-9958-7a1ab2f12a23",
   "metadata": {},
   "source": [
    "Now we display a sample of the papers DataFrame. The DataFrame includes the paper_id and the subject columns, as well as 1,433 binary column representing whether a term exists in the paper or not.\n",
    "- 이 데이터에는 논문에 단어가 있는지 없는 지를 나타내는 1,433개의 이진 열과 논문id와 제목 열을 포함한다. "
   ]
  },
  {
   "cell_type": "markdown",
   "id": "05bf5a97-bd05-42d1-80c4-db5a435e312b",
   "metadata": {},
   "source": [
    "dataset.saple(n): 데이터에서 랜덤으로 n개를 뽑는다."
   ]
  },
  {
   "cell_type": "code",
   "execution_count": 10,
   "id": "3a4ab380-46d2-4aa7-b830-4e4a4f58c4d7",
   "metadata": {},
   "outputs": [
    {
     "data": {
      "text/html": [
       "<div>\n",
       "<style scoped>\n",
       "    .dataframe tbody tr th:only-of-type {\n",
       "        vertical-align: middle;\n",
       "    }\n",
       "\n",
       "    .dataframe tbody tr th {\n",
       "        vertical-align: top;\n",
       "    }\n",
       "\n",
       "    .dataframe thead th {\n",
       "        text-align: right;\n",
       "    }\n",
       "</style>\n",
       "<table border=\"1\" class=\"dataframe\">\n",
       "  <thead>\n",
       "    <tr style=\"text-align: right;\">\n",
       "      <th></th>\n",
       "      <th>paper_id</th>\n",
       "      <th>term_0</th>\n",
       "      <th>term_1</th>\n",
       "      <th>term_2</th>\n",
       "      <th>term_3</th>\n",
       "      <th>term_4</th>\n",
       "      <th>term_5</th>\n",
       "      <th>term_6</th>\n",
       "      <th>term_7</th>\n",
       "      <th>term_8</th>\n",
       "      <th>...</th>\n",
       "      <th>term_1424</th>\n",
       "      <th>term_1425</th>\n",
       "      <th>term_1426</th>\n",
       "      <th>term_1427</th>\n",
       "      <th>term_1428</th>\n",
       "      <th>term_1429</th>\n",
       "      <th>term_1430</th>\n",
       "      <th>term_1431</th>\n",
       "      <th>term_1432</th>\n",
       "      <th>subject</th>\n",
       "    </tr>\n",
       "  </thead>\n",
       "  <tbody>\n",
       "    <tr>\n",
       "      <th>606</th>\n",
       "      <td>1133196</td>\n",
       "      <td>0</td>\n",
       "      <td>0</td>\n",
       "      <td>0</td>\n",
       "      <td>0</td>\n",
       "      <td>0</td>\n",
       "      <td>0</td>\n",
       "      <td>0</td>\n",
       "      <td>0</td>\n",
       "      <td>1</td>\n",
       "      <td>...</td>\n",
       "      <td>0</td>\n",
       "      <td>0</td>\n",
       "      <td>0</td>\n",
       "      <td>0</td>\n",
       "      <td>0</td>\n",
       "      <td>0</td>\n",
       "      <td>0</td>\n",
       "      <td>0</td>\n",
       "      <td>0</td>\n",
       "      <td>Genetic_Algorithms</td>\n",
       "    </tr>\n",
       "    <tr>\n",
       "      <th>755</th>\n",
       "      <td>1129629</td>\n",
       "      <td>0</td>\n",
       "      <td>0</td>\n",
       "      <td>0</td>\n",
       "      <td>0</td>\n",
       "      <td>0</td>\n",
       "      <td>0</td>\n",
       "      <td>0</td>\n",
       "      <td>0</td>\n",
       "      <td>0</td>\n",
       "      <td>...</td>\n",
       "      <td>1</td>\n",
       "      <td>0</td>\n",
       "      <td>0</td>\n",
       "      <td>0</td>\n",
       "      <td>0</td>\n",
       "      <td>0</td>\n",
       "      <td>0</td>\n",
       "      <td>0</td>\n",
       "      <td>0</td>\n",
       "      <td>Genetic_Algorithms</td>\n",
       "    </tr>\n",
       "    <tr>\n",
       "      <th>549</th>\n",
       "      <td>12210</td>\n",
       "      <td>0</td>\n",
       "      <td>0</td>\n",
       "      <td>0</td>\n",
       "      <td>0</td>\n",
       "      <td>0</td>\n",
       "      <td>0</td>\n",
       "      <td>0</td>\n",
       "      <td>0</td>\n",
       "      <td>0</td>\n",
       "      <td>...</td>\n",
       "      <td>0</td>\n",
       "      <td>0</td>\n",
       "      <td>0</td>\n",
       "      <td>0</td>\n",
       "      <td>0</td>\n",
       "      <td>0</td>\n",
       "      <td>0</td>\n",
       "      <td>0</td>\n",
       "      <td>0</td>\n",
       "      <td>Theory</td>\n",
       "    </tr>\n",
       "    <tr>\n",
       "      <th>106</th>\n",
       "      <td>37998</td>\n",
       "      <td>0</td>\n",
       "      <td>0</td>\n",
       "      <td>0</td>\n",
       "      <td>0</td>\n",
       "      <td>0</td>\n",
       "      <td>0</td>\n",
       "      <td>0</td>\n",
       "      <td>0</td>\n",
       "      <td>0</td>\n",
       "      <td>...</td>\n",
       "      <td>0</td>\n",
       "      <td>0</td>\n",
       "      <td>0</td>\n",
       "      <td>0</td>\n",
       "      <td>0</td>\n",
       "      <td>0</td>\n",
       "      <td>0</td>\n",
       "      <td>0</td>\n",
       "      <td>0</td>\n",
       "      <td>Rule_Learning</td>\n",
       "    </tr>\n",
       "    <tr>\n",
       "      <th>1143</th>\n",
       "      <td>650834</td>\n",
       "      <td>0</td>\n",
       "      <td>0</td>\n",
       "      <td>0</td>\n",
       "      <td>0</td>\n",
       "      <td>0</td>\n",
       "      <td>0</td>\n",
       "      <td>0</td>\n",
       "      <td>0</td>\n",
       "      <td>0</td>\n",
       "      <td>...</td>\n",
       "      <td>0</td>\n",
       "      <td>0</td>\n",
       "      <td>1</td>\n",
       "      <td>0</td>\n",
       "      <td>0</td>\n",
       "      <td>0</td>\n",
       "      <td>0</td>\n",
       "      <td>0</td>\n",
       "      <td>0</td>\n",
       "      <td>Genetic_Algorithms</td>\n",
       "    </tr>\n",
       "  </tbody>\n",
       "</table>\n",
       "<p>5 rows × 1435 columns</p>\n",
       "</div>"
      ],
      "text/plain": [
       "      paper_id  term_0  term_1  term_2  term_3  term_4  term_5  term_6  \\\n",
       "606    1133196       0       0       0       0       0       0       0   \n",
       "755    1129629       0       0       0       0       0       0       0   \n",
       "549      12210       0       0       0       0       0       0       0   \n",
       "106      37998       0       0       0       0       0       0       0   \n",
       "1143    650834       0       0       0       0       0       0       0   \n",
       "\n",
       "      term_7  term_8  ...  term_1424  term_1425  term_1426  term_1427  \\\n",
       "606        0       1  ...          0          0          0          0   \n",
       "755        0       0  ...          1          0          0          0   \n",
       "549        0       0  ...          0          0          0          0   \n",
       "106        0       0  ...          0          0          0          0   \n",
       "1143       0       0  ...          0          0          1          0   \n",
       "\n",
       "      term_1428  term_1429  term_1430  term_1431  term_1432  \\\n",
       "606           0          0          0          0          0   \n",
       "755           0          0          0          0          0   \n",
       "549           0          0          0          0          0   \n",
       "106           0          0          0          0          0   \n",
       "1143          0          0          0          0          0   \n",
       "\n",
       "                 subject  \n",
       "606   Genetic_Algorithms  \n",
       "755   Genetic_Algorithms  \n",
       "549               Theory  \n",
       "106        Rule_Learning  \n",
       "1143  Genetic_Algorithms  \n",
       "\n",
       "[5 rows x 1435 columns]"
      ]
     },
     "execution_count": 10,
     "metadata": {},
     "output_type": "execute_result"
    }
   ],
   "source": [
    "papers.sample(5)"
   ]
  },
  {
   "cell_type": "code",
   "execution_count": 11,
   "id": "d8b25dc4-33bd-405b-9597-4ae9a17b6661",
   "metadata": {},
   "outputs": [
    {
     "name": "stdout",
     "output_type": "stream",
     "text": [
      "             1708           2213             1431    382            1301\n",
      "paper_id   509233        1127851            34708   44017         137380\n",
      "term_0          0              0                0       0              0\n",
      "term_1          0              0                0       0              0\n",
      "term_2          0              0                0       0              0\n",
      "term_3          0              0                0       0              0\n",
      "...           ...            ...              ...     ...            ...\n",
      "term_1429       0              0                0       0              0\n",
      "term_1430       0              0                0       0              0\n",
      "term_1431       0              0                0       0              0\n",
      "term_1432       0              0                0       0              0\n",
      "subject    Theory  Rule_Learning  Neural_Networks  Theory  Rule_Learning\n",
      "\n",
      "[1435 rows x 5 columns]\n"
     ]
    }
   ],
   "source": [
    "print(papers.sample(5).T)"
   ]
  },
  {
   "cell_type": "markdown",
   "id": "9d8d89a8-d200-4927-9023-2fdfb386a4e7",
   "metadata": {},
   "source": [
    "the count of the papers in each subject."
   ]
  },
  {
   "cell_type": "code",
   "execution_count": 12,
   "id": "14537143-2eb4-4bf4-91b7-04da8e4518ad",
   "metadata": {},
   "outputs": [
    {
     "name": "stdout",
     "output_type": "stream",
     "text": [
      "Neural_Networks           818\n",
      "Probabilistic_Methods     426\n",
      "Genetic_Algorithms        418\n",
      "Theory                    351\n",
      "Case_Based                298\n",
      "Reinforcement_Learning    217\n",
      "Rule_Learning             180\n",
      "Name: subject, dtype: int64\n"
     ]
    }
   ],
   "source": [
    "print(papers.subject.value_counts())"
   ]
  },
  {
   "cell_type": "markdown",
   "id": "b61b7adc-7e10-4d8a-88e8-ab867cbe53bd",
   "metadata": {},
   "source": [
    "We convert the paper ids and the subjects into zero-based indices.\n",
    "- 논문 id와 subject를 0 기반의 표현으로 변환한다."
   ]
  },
  {
   "cell_type": "code",
   "execution_count": 13,
   "id": "bb109ad6-ab9c-4c3a-a0d7-d0ae698c05ac",
   "metadata": {},
   "outputs": [],
   "source": [
    "class_values = sorted(papers[\"subject\"].unique())\n",
    "class_idx = {name: id for id, name in enumerate(class_values)}\n",
    "paper_idx = {name: idx for idx, name in enumerate(sorted(papers[\"paper_id\"].unique()))}\n",
    "\n",
    "papers[\"paper_id\"] = papers[\"paper_id\"].apply(lambda name: paper_idx[name])\n",
    "citations[\"source\"] = citations[\"source\"].apply(lambda name: paper_idx[name])\n",
    "citations[\"target\"] = citations[\"target\"].apply(lambda name: paper_idx[name])\n",
    "papers[\"subject\"] = papers[\"subject\"].apply(lambda value: class_idx[value])"
   ]
  },
  {
   "cell_type": "code",
   "execution_count": 14,
   "id": "d64a73f8-79ff-4b7d-99f4-9e6862227e32",
   "metadata": {},
   "outputs": [
    {
     "data": {
      "text/html": [
       "<div>\n",
       "<style scoped>\n",
       "    .dataframe tbody tr th:only-of-type {\n",
       "        vertical-align: middle;\n",
       "    }\n",
       "\n",
       "    .dataframe tbody tr th {\n",
       "        vertical-align: top;\n",
       "    }\n",
       "\n",
       "    .dataframe thead th {\n",
       "        text-align: right;\n",
       "    }\n",
       "</style>\n",
       "<table border=\"1\" class=\"dataframe\">\n",
       "  <thead>\n",
       "    <tr style=\"text-align: right;\">\n",
       "      <th></th>\n",
       "      <th>paper_id</th>\n",
       "      <th>term_0</th>\n",
       "      <th>term_1</th>\n",
       "      <th>term_2</th>\n",
       "      <th>term_3</th>\n",
       "      <th>term_4</th>\n",
       "      <th>term_5</th>\n",
       "      <th>term_6</th>\n",
       "      <th>term_7</th>\n",
       "      <th>term_8</th>\n",
       "      <th>...</th>\n",
       "      <th>term_1424</th>\n",
       "      <th>term_1425</th>\n",
       "      <th>term_1426</th>\n",
       "      <th>term_1427</th>\n",
       "      <th>term_1428</th>\n",
       "      <th>term_1429</th>\n",
       "      <th>term_1430</th>\n",
       "      <th>term_1431</th>\n",
       "      <th>term_1432</th>\n",
       "      <th>subject</th>\n",
       "    </tr>\n",
       "  </thead>\n",
       "  <tbody>\n",
       "    <tr>\n",
       "      <th>0</th>\n",
       "      <td>462</td>\n",
       "      <td>0</td>\n",
       "      <td>0</td>\n",
       "      <td>0</td>\n",
       "      <td>0</td>\n",
       "      <td>0</td>\n",
       "      <td>0</td>\n",
       "      <td>0</td>\n",
       "      <td>0</td>\n",
       "      <td>0</td>\n",
       "      <td>...</td>\n",
       "      <td>0</td>\n",
       "      <td>0</td>\n",
       "      <td>1</td>\n",
       "      <td>0</td>\n",
       "      <td>0</td>\n",
       "      <td>0</td>\n",
       "      <td>0</td>\n",
       "      <td>0</td>\n",
       "      <td>0</td>\n",
       "      <td>2</td>\n",
       "    </tr>\n",
       "    <tr>\n",
       "      <th>1</th>\n",
       "      <td>1911</td>\n",
       "      <td>0</td>\n",
       "      <td>0</td>\n",
       "      <td>0</td>\n",
       "      <td>0</td>\n",
       "      <td>0</td>\n",
       "      <td>0</td>\n",
       "      <td>0</td>\n",
       "      <td>0</td>\n",
       "      <td>0</td>\n",
       "      <td>...</td>\n",
       "      <td>0</td>\n",
       "      <td>1</td>\n",
       "      <td>0</td>\n",
       "      <td>0</td>\n",
       "      <td>0</td>\n",
       "      <td>0</td>\n",
       "      <td>0</td>\n",
       "      <td>0</td>\n",
       "      <td>0</td>\n",
       "      <td>5</td>\n",
       "    </tr>\n",
       "    <tr>\n",
       "      <th>2</th>\n",
       "      <td>2002</td>\n",
       "      <td>0</td>\n",
       "      <td>0</td>\n",
       "      <td>0</td>\n",
       "      <td>0</td>\n",
       "      <td>0</td>\n",
       "      <td>0</td>\n",
       "      <td>0</td>\n",
       "      <td>0</td>\n",
       "      <td>0</td>\n",
       "      <td>...</td>\n",
       "      <td>0</td>\n",
       "      <td>0</td>\n",
       "      <td>0</td>\n",
       "      <td>0</td>\n",
       "      <td>0</td>\n",
       "      <td>0</td>\n",
       "      <td>0</td>\n",
       "      <td>0</td>\n",
       "      <td>0</td>\n",
       "      <td>4</td>\n",
       "    </tr>\n",
       "    <tr>\n",
       "      <th>3</th>\n",
       "      <td>248</td>\n",
       "      <td>0</td>\n",
       "      <td>0</td>\n",
       "      <td>0</td>\n",
       "      <td>0</td>\n",
       "      <td>0</td>\n",
       "      <td>0</td>\n",
       "      <td>0</td>\n",
       "      <td>0</td>\n",
       "      <td>0</td>\n",
       "      <td>...</td>\n",
       "      <td>0</td>\n",
       "      <td>0</td>\n",
       "      <td>0</td>\n",
       "      <td>0</td>\n",
       "      <td>0</td>\n",
       "      <td>0</td>\n",
       "      <td>0</td>\n",
       "      <td>0</td>\n",
       "      <td>0</td>\n",
       "      <td>4</td>\n",
       "    </tr>\n",
       "    <tr>\n",
       "      <th>4</th>\n",
       "      <td>519</td>\n",
       "      <td>0</td>\n",
       "      <td>0</td>\n",
       "      <td>0</td>\n",
       "      <td>0</td>\n",
       "      <td>0</td>\n",
       "      <td>0</td>\n",
       "      <td>0</td>\n",
       "      <td>0</td>\n",
       "      <td>0</td>\n",
       "      <td>...</td>\n",
       "      <td>0</td>\n",
       "      <td>0</td>\n",
       "      <td>0</td>\n",
       "      <td>0</td>\n",
       "      <td>0</td>\n",
       "      <td>0</td>\n",
       "      <td>0</td>\n",
       "      <td>0</td>\n",
       "      <td>0</td>\n",
       "      <td>3</td>\n",
       "    </tr>\n",
       "    <tr>\n",
       "      <th>...</th>\n",
       "      <td>...</td>\n",
       "      <td>...</td>\n",
       "      <td>...</td>\n",
       "      <td>...</td>\n",
       "      <td>...</td>\n",
       "      <td>...</td>\n",
       "      <td>...</td>\n",
       "      <td>...</td>\n",
       "      <td>...</td>\n",
       "      <td>...</td>\n",
       "      <td>...</td>\n",
       "      <td>...</td>\n",
       "      <td>...</td>\n",
       "      <td>...</td>\n",
       "      <td>...</td>\n",
       "      <td>...</td>\n",
       "      <td>...</td>\n",
       "      <td>...</td>\n",
       "      <td>...</td>\n",
       "      <td>...</td>\n",
       "      <td>...</td>\n",
       "    </tr>\n",
       "    <tr>\n",
       "      <th>2703</th>\n",
       "      <td>2370</td>\n",
       "      <td>0</td>\n",
       "      <td>0</td>\n",
       "      <td>0</td>\n",
       "      <td>0</td>\n",
       "      <td>0</td>\n",
       "      <td>0</td>\n",
       "      <td>0</td>\n",
       "      <td>0</td>\n",
       "      <td>0</td>\n",
       "      <td>...</td>\n",
       "      <td>0</td>\n",
       "      <td>0</td>\n",
       "      <td>0</td>\n",
       "      <td>0</td>\n",
       "      <td>0</td>\n",
       "      <td>0</td>\n",
       "      <td>0</td>\n",
       "      <td>0</td>\n",
       "      <td>0</td>\n",
       "      <td>1</td>\n",
       "    </tr>\n",
       "    <tr>\n",
       "      <th>2704</th>\n",
       "      <td>2371</td>\n",
       "      <td>0</td>\n",
       "      <td>0</td>\n",
       "      <td>0</td>\n",
       "      <td>0</td>\n",
       "      <td>0</td>\n",
       "      <td>0</td>\n",
       "      <td>0</td>\n",
       "      <td>0</td>\n",
       "      <td>0</td>\n",
       "      <td>...</td>\n",
       "      <td>0</td>\n",
       "      <td>0</td>\n",
       "      <td>0</td>\n",
       "      <td>0</td>\n",
       "      <td>0</td>\n",
       "      <td>0</td>\n",
       "      <td>0</td>\n",
       "      <td>0</td>\n",
       "      <td>0</td>\n",
       "      <td>1</td>\n",
       "    </tr>\n",
       "    <tr>\n",
       "      <th>2705</th>\n",
       "      <td>2372</td>\n",
       "      <td>0</td>\n",
       "      <td>0</td>\n",
       "      <td>0</td>\n",
       "      <td>0</td>\n",
       "      <td>0</td>\n",
       "      <td>0</td>\n",
       "      <td>0</td>\n",
       "      <td>0</td>\n",
       "      <td>0</td>\n",
       "      <td>...</td>\n",
       "      <td>0</td>\n",
       "      <td>0</td>\n",
       "      <td>0</td>\n",
       "      <td>0</td>\n",
       "      <td>0</td>\n",
       "      <td>0</td>\n",
       "      <td>0</td>\n",
       "      <td>0</td>\n",
       "      <td>0</td>\n",
       "      <td>1</td>\n",
       "    </tr>\n",
       "    <tr>\n",
       "      <th>2706</th>\n",
       "      <td>955</td>\n",
       "      <td>0</td>\n",
       "      <td>0</td>\n",
       "      <td>0</td>\n",
       "      <td>0</td>\n",
       "      <td>1</td>\n",
       "      <td>0</td>\n",
       "      <td>0</td>\n",
       "      <td>0</td>\n",
       "      <td>0</td>\n",
       "      <td>...</td>\n",
       "      <td>0</td>\n",
       "      <td>0</td>\n",
       "      <td>0</td>\n",
       "      <td>0</td>\n",
       "      <td>0</td>\n",
       "      <td>0</td>\n",
       "      <td>0</td>\n",
       "      <td>0</td>\n",
       "      <td>0</td>\n",
       "      <td>0</td>\n",
       "    </tr>\n",
       "    <tr>\n",
       "      <th>2707</th>\n",
       "      <td>376</td>\n",
       "      <td>0</td>\n",
       "      <td>0</td>\n",
       "      <td>0</td>\n",
       "      <td>0</td>\n",
       "      <td>0</td>\n",
       "      <td>0</td>\n",
       "      <td>0</td>\n",
       "      <td>0</td>\n",
       "      <td>0</td>\n",
       "      <td>...</td>\n",
       "      <td>0</td>\n",
       "      <td>0</td>\n",
       "      <td>0</td>\n",
       "      <td>0</td>\n",
       "      <td>0</td>\n",
       "      <td>0</td>\n",
       "      <td>0</td>\n",
       "      <td>0</td>\n",
       "      <td>0</td>\n",
       "      <td>2</td>\n",
       "    </tr>\n",
       "  </tbody>\n",
       "</table>\n",
       "<p>2708 rows × 1435 columns</p>\n",
       "</div>"
      ],
      "text/plain": [
       "      paper_id  term_0  term_1  term_2  term_3  term_4  term_5  term_6  \\\n",
       "0          462       0       0       0       0       0       0       0   \n",
       "1         1911       0       0       0       0       0       0       0   \n",
       "2         2002       0       0       0       0       0       0       0   \n",
       "3          248       0       0       0       0       0       0       0   \n",
       "4          519       0       0       0       0       0       0       0   \n",
       "...        ...     ...     ...     ...     ...     ...     ...     ...   \n",
       "2703      2370       0       0       0       0       0       0       0   \n",
       "2704      2371       0       0       0       0       0       0       0   \n",
       "2705      2372       0       0       0       0       0       0       0   \n",
       "2706       955       0       0       0       0       1       0       0   \n",
       "2707       376       0       0       0       0       0       0       0   \n",
       "\n",
       "      term_7  term_8  ...  term_1424  term_1425  term_1426  term_1427  \\\n",
       "0          0       0  ...          0          0          1          0   \n",
       "1          0       0  ...          0          1          0          0   \n",
       "2          0       0  ...          0          0          0          0   \n",
       "3          0       0  ...          0          0          0          0   \n",
       "4          0       0  ...          0          0          0          0   \n",
       "...      ...     ...  ...        ...        ...        ...        ...   \n",
       "2703       0       0  ...          0          0          0          0   \n",
       "2704       0       0  ...          0          0          0          0   \n",
       "2705       0       0  ...          0          0          0          0   \n",
       "2706       0       0  ...          0          0          0          0   \n",
       "2707       0       0  ...          0          0          0          0   \n",
       "\n",
       "      term_1428  term_1429  term_1430  term_1431  term_1432  subject  \n",
       "0             0          0          0          0          0        2  \n",
       "1             0          0          0          0          0        5  \n",
       "2             0          0          0          0          0        4  \n",
       "3             0          0          0          0          0        4  \n",
       "4             0          0          0          0          0        3  \n",
       "...         ...        ...        ...        ...        ...      ...  \n",
       "2703          0          0          0          0          0        1  \n",
       "2704          0          0          0          0          0        1  \n",
       "2705          0          0          0          0          0        1  \n",
       "2706          0          0          0          0          0        0  \n",
       "2707          0          0          0          0          0        2  \n",
       "\n",
       "[2708 rows x 1435 columns]"
      ]
     },
     "execution_count": 14,
     "metadata": {},
     "output_type": "execute_result"
    }
   ],
   "source": [
    "papers"
   ]
  },
  {
   "cell_type": "markdown",
   "id": "5498e67e-6534-4002-a6ad-7bd745d2f8c5",
   "metadata": {},
   "source": [
    "---"
   ]
  },
  {
   "cell_type": "code",
   "execution_count": 15,
   "id": "33f1b5d8-df7a-40d6-b278-093c100c5ee8",
   "metadata": {},
   "outputs": [
    {
     "data": {
      "text/plain": [
       "array([2, 5, 4, 3, 6, 1, 0])"
      ]
     },
     "execution_count": 15,
     "metadata": {},
     "output_type": "execute_result"
    }
   ],
   "source": [
    "papers[\"subject\"].unique()"
   ]
  },
  {
   "cell_type": "markdown",
   "id": "0b27ae3c-f34a-454e-a190-a3f2d2f66366",
   "metadata": {},
   "source": [
    "데이터 셋 내의 유일한 값을 찾고 싶을 때 사용하는 `unique()` 고유한 값이 출력된다."
   ]
  },
  {
   "cell_type": "markdown",
   "id": "5f62cc4f-2294-4551-bb08-3fea3ad8d915",
   "metadata": {},
   "source": [
    "---"
   ]
  },
  {
   "cell_type": "code",
   "execution_count": 16,
   "id": "67a3f798-26c0-4ccf-bd8f-6484d0a1c052",
   "metadata": {},
   "outputs": [
    {
     "name": "stdout",
     "output_type": "stream",
     "text": [
      "0 [10  1  5]\n",
      "1 [6 9 8]\n",
      "2 [ 7 12 10]\n",
      "3 [ 8 14  6]\n"
     ]
    }
   ],
   "source": [
    "# example of enumerate() 열반복 시행\n",
    "df = pd.DataFrame([[10,6,7,8],\n",
    "                   [1,9,12,14],\n",
    "                   [5,8,10,6]],\n",
    "                  columns = ['a','b','c','d'])\n",
    "\n",
    "for (index, colname) in enumerate(df):\n",
    "    print(index, df[colname].values)"
   ]
  },
  {
   "cell_type": "markdown",
   "id": "d4047ec3-55ae-490b-9de3-21b27a63bc06",
   "metadata": {},
   "source": [
    "---"
   ]
  },
  {
   "cell_type": "code",
   "execution_count": 17,
   "id": "8bcbdeef-f8ec-4417-94b2-7947da6a0cc5",
   "metadata": {},
   "outputs": [
    {
     "data": {
      "text/plain": [
       "['Case_Based',\n",
       " 'Genetic_Algorithms',\n",
       " 'Neural_Networks',\n",
       " 'Probabilistic_Methods',\n",
       " 'Reinforcement_Learning',\n",
       " 'Rule_Learning',\n",
       " 'Theory']"
      ]
     },
     "execution_count": 17,
     "metadata": {},
     "output_type": "execute_result"
    }
   ],
   "source": [
    "class_values"
   ]
  },
  {
   "cell_type": "code",
   "execution_count": 18,
   "id": "bbb41b1a-1cfd-4327-b9ad-6926a03f484b",
   "metadata": {},
   "outputs": [
    {
     "data": {
      "text/plain": [
       "{'Case_Based': 0,\n",
       " 'Genetic_Algorithms': 1,\n",
       " 'Neural_Networks': 2,\n",
       " 'Probabilistic_Methods': 3,\n",
       " 'Reinforcement_Learning': 4,\n",
       " 'Rule_Learning': 5,\n",
       " 'Theory': 6}"
      ]
     },
     "execution_count": 18,
     "metadata": {},
     "output_type": "execute_result"
    }
   ],
   "source": [
    "class_idx"
   ]
  },
  {
   "cell_type": "markdown",
   "id": "36d6eb80-4f86-4ba2-9799-6bc9e63320e1",
   "metadata": {},
   "source": [
    "`isin`메서드는 DataFrame객체의 각 요소가 values값과 일치하는지 여부를 bool형식으로 반환합니다."
   ]
  },
  {
   "cell_type": "markdown",
   "id": "e43d51c2-996d-40a8-bcb1-c1d782b013fb",
   "metadata": {},
   "source": [
    "Now let's visualize the citation graph. Each node in the graph represents a paper, and the color of the node corresponds to its subject. Note that we only show a sample of the papers in the dataset.\n",
    "- 그래프의 각 노드는 논문을 의미하고, 노드의 색은 subject를 나타낸다. 여기서 보이는것은 데이터의 sample이다."
   ]
  },
  {
   "cell_type": "code",
   "execution_count": 100,
   "id": "9524e170-d7a3-4b22-9b47-c583637c11a8",
   "metadata": {},
   "outputs": [
    {
     "data": {
      "text/html": [
       "<div>\n",
       "<style scoped>\n",
       "    .dataframe tbody tr th:only-of-type {\n",
       "        vertical-align: middle;\n",
       "    }\n",
       "\n",
       "    .dataframe tbody tr th {\n",
       "        vertical-align: top;\n",
       "    }\n",
       "\n",
       "    .dataframe thead th {\n",
       "        text-align: right;\n",
       "    }\n",
       "</style>\n",
       "<table border=\"1\" class=\"dataframe\">\n",
       "  <thead>\n",
       "    <tr style=\"text-align: right;\">\n",
       "      <th></th>\n",
       "      <th>target</th>\n",
       "      <th>source</th>\n",
       "    </tr>\n",
       "  </thead>\n",
       "  <tbody>\n",
       "    <tr>\n",
       "      <th>0</th>\n",
       "      <td>0</td>\n",
       "      <td>21</td>\n",
       "    </tr>\n",
       "    <tr>\n",
       "      <th>1</th>\n",
       "      <td>0</td>\n",
       "      <td>905</td>\n",
       "    </tr>\n",
       "    <tr>\n",
       "      <th>2</th>\n",
       "      <td>0</td>\n",
       "      <td>906</td>\n",
       "    </tr>\n",
       "    <tr>\n",
       "      <th>3</th>\n",
       "      <td>0</td>\n",
       "      <td>1909</td>\n",
       "    </tr>\n",
       "    <tr>\n",
       "      <th>4</th>\n",
       "      <td>0</td>\n",
       "      <td>1940</td>\n",
       "    </tr>\n",
       "    <tr>\n",
       "      <th>...</th>\n",
       "      <td>...</td>\n",
       "      <td>...</td>\n",
       "    </tr>\n",
       "    <tr>\n",
       "      <th>5424</th>\n",
       "      <td>1873</td>\n",
       "      <td>328</td>\n",
       "    </tr>\n",
       "    <tr>\n",
       "      <th>5425</th>\n",
       "      <td>1873</td>\n",
       "      <td>1876</td>\n",
       "    </tr>\n",
       "    <tr>\n",
       "      <th>5426</th>\n",
       "      <td>1874</td>\n",
       "      <td>2586</td>\n",
       "    </tr>\n",
       "    <tr>\n",
       "      <th>5427</th>\n",
       "      <td>1876</td>\n",
       "      <td>1874</td>\n",
       "    </tr>\n",
       "    <tr>\n",
       "      <th>5428</th>\n",
       "      <td>1897</td>\n",
       "      <td>2707</td>\n",
       "    </tr>\n",
       "  </tbody>\n",
       "</table>\n",
       "<p>5429 rows × 2 columns</p>\n",
       "</div>"
      ],
      "text/plain": [
       "      target  source\n",
       "0          0      21\n",
       "1          0     905\n",
       "2          0     906\n",
       "3          0    1909\n",
       "4          0    1940\n",
       "...      ...     ...\n",
       "5424    1873     328\n",
       "5425    1873    1876\n",
       "5426    1874    2586\n",
       "5427    1876    1874\n",
       "5428    1897    2707\n",
       "\n",
       "[5429 rows x 2 columns]"
      ]
     },
     "execution_count": 100,
     "metadata": {},
     "output_type": "execute_result"
    }
   ],
   "source": [
    "citations"
   ]
  },
  {
   "cell_type": "code",
   "execution_count": 19,
   "id": "a0c8de37-bc3f-4d8e-8902-cfded184ab3c",
   "metadata": {
    "tags": []
   },
   "outputs": [
    {
     "data": {
      "image/png": "[encoded data removed]",
      "text/plain": [
       "<Figure size 720x720 with 1 Axes>"
      ]
     },
     "metadata": {},
     "output_type": "display_data"
    }
   ],
   "source": [
    "plt.figure(figsize=(10, 10))\n",
    "colors = papers[\"subject\"].tolist()\n",
    "cora_graph = nx.from_pandas_edgelist(citations.sample(n=1500))\n",
    "subjects = list(papers[papers[\"paper_id\"].isin(list(cora_graph.nodes))][\"subject\"])\n",
    "nx.draw_spring(cora_graph, node_size=15, node_color=subjects)"
   ]
  },
  {
   "cell_type": "markdown",
   "id": "28c4a062-4ad3-4ba7-bd16-6436bea3cef0",
   "metadata": {},
   "source": [
    "### Split the dataset into stratified train and test sets\n",
    "- 데이터를 계츤화된 체스트와 train셋으로 나누기"
   ]
  },
  {
   "cell_type": "markdown",
   "id": "c96e23ce-6803-4c9b-a7c2-d8fa79e4226a",
   "metadata": {},
   "source": [
    "DataFrame으로 부터 특정 비율의 표본을 무작위로 추출하기 (fraction) `df.sample(frac=0.5)`\n",
    "- DataFrame으로 부터 특정 비율(fraction)으로 무작위 표본 추출을 하고 싶으면 frac 매개변수에 0~1 사이의 부동소수형(float) 값을 입력"
   ]
  },
  {
   "cell_type": "code",
   "execution_count": 20,
   "id": "6ed3e654-92d1-4f42-9ad0-a6652d039fa2",
   "metadata": {},
   "outputs": [
    {
     "name": "stdout",
     "output_type": "stream",
     "text": [
      "Train data shape: (1339, 1435)\n",
      "Test data shape: (1369, 1435)\n"
     ]
    }
   ],
   "source": [
    "train_data, test_data = [], []\n",
    "\n",
    "for _, group_data in papers.groupby(\"subject\"):\n",
    "    # Select around 50% of the dataset for training.\n",
    "    random_selection = np.random.rand(len(group_data.index)) <= 0.5\n",
    "    train_data.append(group_data[random_selection])\n",
    "    test_data.append(group_data[~random_selection])\n",
    "\n",
    "train_data = pd.concat(train_data).sample(frac=1)\n",
    "test_data = pd.concat(test_data).sample(frac=1)\n",
    "\n",
    "print(\"Train data shape:\", train_data.shape)\n",
    "print(\"Test data shape:\", test_data.shape)"
   ]
  },
  {
   "cell_type": "markdown",
   "id": "a6cd3300-a437-4155-a7a1-f3dddf88af94",
   "metadata": {},
   "source": [
    "### Implement Train and Evaluate Experiment\n",
    "- train 으로 시험해서 test 평가"
   ]
  },
  {
   "cell_type": "code",
   "execution_count": 21,
   "id": "8b8e9e41-fe2d-4c0e-8ffe-cdacb26001a1",
   "metadata": {},
   "outputs": [],
   "source": [
    "hidden_units = [32, 32]\n",
    "learning_rate = 0.01\n",
    "dropout_rate = 0.5\n",
    "num_epochs = 300\n",
    "batch_size = 256"
   ]
  },
  {
   "cell_type": "markdown",
   "id": "caada382-5e1e-458f-93bc-2ca85ee959ed",
   "metadata": {},
   "source": [
    "This function compiles and trains an input model using the given training data.\n",
    "- 주어진 training data로 입력 모델 컴파일 및 train하는 함수"
   ]
  },
  {
   "cell_type": "markdown",
   "id": "8d3e7664-813d-4a04-b92e-c4dab927a228",
   "metadata": {},
   "source": [
    "- Adam 사용\n",
    "- 학습률은 0.01\n",
    "- 손실함수(`losses.SparseCategoricalCrossentropy()`) (https://www.tensorflow.org/api_docs/python/tf/keras/losses/SparseCategoricalCrossentropy)\n",
    "    - Use this crossentropy loss function when there are two or more label classes. We expect labels to be provided as integers. If you want to provide labels using one-hot representation, please use CategoricalCrossentropy loss. There should be # classes floating point values per feature for y_pred and a single floating point value per feature for y_true.\n",
    "    - 두 개 이상의 레이블 클래스가 있는 경우 이 crossentropy loss function을 사용한다. 레이블은 정수로 제공될 것으로 기대힌다. one-hot representation을 사용하여 레이블을 나타내려면 CategoricalCrossentropy loss를 사용한다. # classes에 대한 기능당 부동 소수점 값 y_pred 과 y_true에 대한 기능당 단일 부동 소수점 값이 있어야 한다.\n",
    "    - `from_logits`\n",
    "        - Whether y_pred is expected to be a logits tensor. By default, we assume that y_pred encodes a probability distribution.\n",
    "        - y_pred가 logits tensor로 예상되는지의 여부다. 기본설정은 y_pred가 확률분포라고 (from_logit=False) 되어 있다.\n",
    "    - Both, categorical cross entropy and sparse categorical cross entropy have the same loss function which you have mentioned above. The only difference is the format in which you mention $Y_i$ (i,e true labels).(https://stats.stackexchange.com/questions/326065/cross-entropy-vs-sparse-cross-entropy-when-to-use-one-over-the-other)\n",
    "        - If your $Y_i$'s are one-hot encoded, use categorical_crossentropy. Examples (for a 3-class classification): $[1,0,0] , [0,1,0], [0,0,1]$\n",
    "        - But if your $Y_i$'s are integers, use sparse_categorical_crossentropy. Examples for above 3-class classification problem: $[1] , [2], [3]$\n",
    "- metric(`tf.keras.metrics.SparseCategoricalAccuracy()`)\n",
    "    - tf.keras.metrics.SparseCategoricalAccuracy(name='sparse_categorical_accuracy', dtype=None)\n",
    "        - name $\\to$ (Optional) string name of the metric instance."
   ]
  },
  {
   "cell_type": "markdown",
   "id": "36cec845-3aa4-464c-b236-b329d0013e5e",
   "metadata": {},
   "source": [
    "- callback(`keras.callbacks.EarlyStopping()`) (https://www.tensorflow.org/api_docs/python/tf/keras/callbacks/EarlyStopping) (Stop training when a monitored metric has stopped improving. 모니터된 metric이 improve를 멈출때 훈련이 중지된다.)\n",
    "    - tf.keras.callbacks.EarlyStopping(monitor='val_loss',min_delta=0,patience=0,verbose=0,mode='auto',baseline=None,restore_best_weights=False)\n",
    "        - monitor\tQuantity to be monitored.\n",
    "        - patience\tNumber of epochs with no improvement after which training will be stopped.\n",
    "        - restore_best_weights\tWhether to restore model weights from the epoch with the best value of the monitored quantity. If False, the model weights obtained at the last step of training are used. An epoch will be restored regardless of the performance relative to the baseline. If no epoch improves on baseline, training will run for patience epochs and restore weights from the best epoch in that set.\n",
    "            - 가중치를 재복원할 것인지의 여부를 뭍는다. False라면 훈련의 마지막 단계에서 얻은 모델 가중치를 얻게 된다. 기저치와 관련있어서 baseline에서 에폭 변화가 없으면 그 상태에서 best 에폭으로부터 가중치를 재복원하는 것 같은.."
   ]
  },
  {
   "cell_type": "code",
   "execution_count": 22,
   "id": "f0b74596-0659-42f5-aa6d-489cbf461f4f",
   "metadata": {},
   "outputs": [],
   "source": [
    "def run_experiment(model, x_train, y_train):\n",
    "    # Compile the model.\n",
    "    model.compile(\n",
    "        optimizer=keras.optimizers.Adam(learning_rate),\n",
    "        loss=keras.losses.SparseCategoricalCrossentropy(from_logits=True),\n",
    "        metrics=[keras.metrics.SparseCategoricalAccuracy(name=\"acc\")],\n",
    "    )\n",
    "    # Create an early stopping callback.\n",
    "    early_stopping = keras.callbacks.EarlyStopping(\n",
    "        monitor=\"val_acc\", patience=50, restore_best_weights=True\n",
    "    )\n",
    "    # Fit the model.\n",
    "    history = model.fit(\n",
    "        x=x_train,\n",
    "        y=y_train,\n",
    "        epochs=num_epochs,\n",
    "        batch_size=batch_size,\n",
    "        validation_split=0.15,\n",
    "        callbacks=[early_stopping],\n",
    "    )\n",
    "\n",
    "    return history"
   ]
  },
  {
   "cell_type": "markdown",
   "id": "60dd610b-1117-4d82-aadc-b3165cb0f484",
   "metadata": {},
   "source": [
    "This function displays the loss and accuracy curves of the model during training.\n",
    "- 훈련하는 동안 손실과 정확도 곡선을 나타내는 함수"
   ]
  },
  {
   "cell_type": "code",
   "execution_count": 23,
   "id": "4ed540ed-d97c-4eff-ae91-c10d82691dc4",
   "metadata": {},
   "outputs": [],
   "source": [
    "def display_learning_curves(history):\n",
    "    fig, (ax1, ax2) = plt.subplots(1, 2, figsize=(15, 5))\n",
    "\n",
    "    ax1.plot(history.history[\"loss\"])\n",
    "    ax1.plot(history.history[\"val_loss\"])\n",
    "    ax1.legend([\"train\", \"test\"], loc=\"upper right\")\n",
    "    ax1.set_xlabel(\"Epochs\")\n",
    "    ax1.set_ylabel(\"Loss\")\n",
    "\n",
    "    ax2.plot(history.history[\"acc\"])\n",
    "    ax2.plot(history.history[\"val_acc\"])\n",
    "    ax2.legend([\"train\", \"test\"], loc=\"upper right\")\n",
    "    ax2.set_xlabel(\"Epochs\")\n",
    "    ax2.set_ylabel(\"Accuracy\")\n",
    "    plt.show()"
   ]
  },
  {
   "cell_type": "markdown",
   "id": "c6ad77ef-c2bf-463c-9227-2fb579661928",
   "metadata": {},
   "source": [
    "### Implement Feedforward Network (FFN) Module\n",
    "- 순방향 신경망 구현"
   ]
  },
  {
   "cell_type": "markdown",
   "id": "873baf45-0078-455b-9b54-9773c0dfddb2",
   "metadata": {},
   "source": [
    "- 활성화함수(`tf.nn.gelu`) (https://www.tensorflow.org/api_docs/python/tf/nn/gelu) (Gaussian Error Linear Unit (GELU) activation function.)\n",
    "    - tf.nn.gelu(features, approximate=False, name=None)\n",
    "    - Gaussian error linear unit (GELU) computes $x * P(X <= x)$, where $P(X) \\sim N(0, 1)$. The (GELU) nonlinearity weights inputs by their value, rather than gates inputs by their sign as in ReLU.\n",
    "        - GELU 가우시안 에러 선형 단위(?), Relu 함수는 부호에 따라 입력함수를 처리해주었다면, Gelu 함수는 값에 따라 입력함수를 처리한다. x $\\times$ (x의 확률이 표준정규분포를 따를때 표준정규분포표에서 x 보다 작을 확률)"
   ]
  },
  {
   "cell_type": "code",
   "execution_count": 24,
   "id": "c761552a-500a-477f-9ada-0a3d7eb1ad9d",
   "metadata": {},
   "outputs": [],
   "source": [
    "x=tf.constant(np.linspace(-10,10,100))"
   ]
  },
  {
   "cell_type": "code",
   "execution_count": 25,
   "id": "4c6d4e63-0d00-4e2a-8b9b-376016010473",
   "metadata": {},
   "outputs": [],
   "source": [
    "y=tf.nn.gelu(x)"
   ]
  },
  {
   "cell_type": "code",
   "execution_count": 26,
   "id": "6921586f-2629-475c-ba51-bcaa910375bd",
   "metadata": {},
   "outputs": [
    {
     "data": {
      "text/plain": [
       "[<matplotlib.lines.Line2D at 0x7f0050496ee0>]"
      ]
     },
     "execution_count": 26,
     "metadata": {},
     "output_type": "execute_result"
    },
    {
     "data": {
      "image/png": "[encoded data removed]",
      "text/plain": [
       "<Figure size 432x288 with 1 Axes>"
      ]
     },
     "metadata": {
      "needs_background": "light"
     },
     "output_type": "display_data"
    }
   ],
   "source": [
    "plt.plot(x,y)"
   ]
  },
  {
   "cell_type": "code",
   "execution_count": 27,
   "id": "5553b9bb-81b7-45e3-b43f-8f4b5255c9d3",
   "metadata": {},
   "outputs": [
    {
     "data": {
      "text/plain": [
       "\u001b[0;31mSignature:\u001b[0m \u001b[0mtf\u001b[0m\u001b[0;34m.\u001b[0m\u001b[0mnn\u001b[0m\u001b[0;34m.\u001b[0m\u001b[0mgelu\u001b[0m\u001b[0;34m(\u001b[0m\u001b[0mfeatures\u001b[0m\u001b[0;34m,\u001b[0m \u001b[0mapproximate\u001b[0m\u001b[0;34m=\u001b[0m\u001b[0;32mFalse\u001b[0m\u001b[0;34m,\u001b[0m \u001b[0mname\u001b[0m\u001b[0;34m=\u001b[0m\u001b[0;32mNone\u001b[0m\u001b[0;34m)\u001b[0m\u001b[0;34m\u001b[0m\u001b[0;34m\u001b[0m\u001b[0m\n",
       "\u001b[0;31mDocstring:\u001b[0m\n",
       "Compute the Gaussian Error Linear Unit (GELU) activation function.\n",
       "\n",
       "Gaussian error linear unit (GELU) computes\n",
       "`x * P(X <= x)`, where `P(X) ~ N(0, 1)`.\n",
       "The (GELU) nonlinearity weights inputs by their value, rather than gates\n",
       "inputs by their sign as in ReLU.\n",
       "\n",
       "For example:\n",
       "\n",
       ">>> x = tf.constant([-3.0, -1.0, 0.0, 1.0, 3.0], dtype=tf.float32)\n",
       ">>> y = tf.nn.gelu(x)\n",
       ">>> y.numpy()\n",
       "array([-0.00404951, -0.15865529,  0.        ,  0.8413447 ,  2.9959507 ],\n",
       "    dtype=float32)\n",
       ">>> y = tf.nn.gelu(x, approximate=True)\n",
       ">>> y.numpy()\n",
       "array([-0.00363752, -0.15880796,  0.        ,  0.841192  ,  2.9963627 ],\n",
       "    dtype=float32)\n",
       "\n",
       "Args:\n",
       "  features: A `Tensor` representing preactivation values.\n",
       "  approximate: An optional `bool`. Defaults to `False`. Whether to enable\n",
       "    approximation.\n",
       "  name: A name for the operation (optional).\n",
       "\n",
       "Returns:\n",
       "  A `Tensor` with the same type as `features`.\n",
       "\n",
       "References:\n",
       "  [Gaussian Error Linear Units (GELUs)](https://arxiv.org/abs/1606.08415).\n",
       "\u001b[0;31mFile:\u001b[0m      ~/anaconda3/envs/csy/lib/python3.8/site-packages/tensorflow/python/ops/nn_ops.py\n",
       "\u001b[0;31mType:\u001b[0m      function\n"
      ]
     },
     "metadata": {},
     "output_type": "display_data"
    }
   ],
   "source": [
    "tf.nn.gelu?"
   ]
  },
  {
   "cell_type": "code",
   "execution_count": 28,
   "id": "0d715b1e-06ba-40b2-b76a-2a04ef575649",
   "metadata": {},
   "outputs": [],
   "source": [
    "def create_ffn(hidden_units, dropout_rate, name=None):\n",
    "    fnn_layers = []\n",
    "\n",
    "    for units in hidden_units:\n",
    "        fnn_layers.append(layers.BatchNormalization())\n",
    "        fnn_layers.append(layers.Dropout(dropout_rate))\n",
    "        fnn_layers.append(layers.Dense(units, activation=tf.nn.gelu))\n",
    "\n",
    "    return keras.Sequential(fnn_layers, name=name)"
   ]
  },
  {
   "cell_type": "markdown",
   "id": "d8a91ff8-653e-4c18-9cba-e0fc432e977c",
   "metadata": {},
   "source": [
    "### Build a Baseline Neural Network Model"
   ]
  },
  {
   "cell_type": "code",
   "execution_count": 29,
   "id": "56c768b8-e20b-4ed7-a7e7-19c71ee0a0f7",
   "metadata": {},
   "outputs": [],
   "source": [
    "feature_names = set(papers.columns) - {\"paper_id\", \"subject\"}\n",
    "num_features = len(feature_names)\n",
    "num_classes = len(class_idx)\n",
    "\n",
    "# Create train and test features as a numpy array.\n",
    "x_train = train_data[feature_names].to_numpy()\n",
    "x_test = test_data[feature_names].to_numpy()\n",
    "# Create train and test targets as a numpy array.\n",
    "y_train = train_data[\"subject\"]\n",
    "y_test = test_data[\"subject\"]"
   ]
  },
  {
   "cell_type": "code",
   "execution_count": 104,
   "id": "58d8bdeb-64d4-47e2-bdc3-7ed0c90137ac",
   "metadata": {},
   "outputs": [
    {
     "data": {
      "text/plain": [
       "462     2\n",
       "169     2\n",
       "2516    1\n",
       "2691    2\n",
       "1529    4\n",
       "       ..\n",
       "2616    0\n",
       "302     5\n",
       "1190    2\n",
       "1855    0\n",
       "1462    2\n",
       "Name: subject, Length: 1339, dtype: int64"
      ]
     },
     "execution_count": 104,
     "metadata": {},
     "output_type": "execute_result"
    }
   ],
   "source": [
    "train_data['subject']"
   ]
  },
  {
   "cell_type": "markdown",
   "id": "09c06b2c-3cab-4a36-9993-922bfe47fee2",
   "metadata": {},
   "source": [
    "Implement a baseline classifier\n",
    "- We add five FFN blocks with skip connections, so that we generate a baseline model with roughly the same number of parameters as the GNN models to be built later.\n",
    "- skip connection을 가진 FFN 블록을 5개 추가해서 나중에 GNN 모델 만들때 파라미터의 수를 대략적으로 기준 모델과 같게 하도록 한다."
   ]
  },
  {
   "cell_type": "markdown",
   "id": "2c6a6f0d-c749-41d2-a4d4-5bf09c756f18",
   "metadata": {},
   "source": [
    "---"
   ]
  },
  {
   "cell_type": "markdown",
   "id": "5fcf19a7-00c8-4e98-b2e3-12e2d3895677",
   "metadata": {},
   "source": [
    "이게 뭘까.."
   ]
  },
  {
   "cell_type": "code",
   "execution_count": 30,
   "id": "c3f35a55-2120-4859-b09d-e5bb5541bb41",
   "metadata": {},
   "outputs": [
    {
     "data": {
      "text/plain": [
       "'ffn_block1'"
      ]
     },
     "execution_count": 30,
     "metadata": {},
     "output_type": "execute_result"
    }
   ],
   "source": [
    "f\"ffn_block1\""
   ]
  },
  {
   "cell_type": "markdown",
   "id": "ac2fda56-cce6-42da-87be-e54df47d7532",
   "metadata": {},
   "source": [
    "앞에 f붙이면 문자열로 인식 https://docs.python.org/3/reference/lexical_analysis.html#f-strings"
   ]
  },
  {
   "cell_type": "markdown",
   "id": "67f24555-a9ed-4221-a547-92eb1820cd57",
   "metadata": {},
   "source": [
    "---"
   ]
  },
  {
   "cell_type": "markdown",
   "id": "0cfaf126-6163-47ca-97cd-9d36eff0a28b",
   "metadata": {},
   "source": [
    "위에서 hidden_units은 [32,32]로, num_class는 class index 수로 정의"
   ]
  },
  {
   "cell_type": "code",
   "execution_count": 31,
   "id": "3117354f-ae2f-414e-854c-4126e7ad629d",
   "metadata": {},
   "outputs": [
    {
     "name": "stdout",
     "output_type": "stream",
     "text": [
      "Model: \"baseline\"\n",
      "__________________________________________________________________________________________________\n",
      " Layer (type)                   Output Shape         Param #     Connected to                     \n",
      "==================================================================================================\n",
      " input_features (InputLayer)    [(None, 1433)]       0           []                               \n",
      "                                                                                                  \n",
      " ffn_block1 (Sequential)        (None, 32)           52804       ['input_features[0][0]']         \n",
      "                                                                                                  \n",
      " ffn_block2 (Sequential)        (None, 32)           2368        ['ffn_block1[0][0]']             \n",
      "                                                                                                  \n",
      " skip_connection2 (Add)         (None, 32)           0           ['ffn_block1[0][0]',             \n",
      "                                                                  'ffn_block2[0][0]']             \n",
      "                                                                                                  \n",
      " ffn_block3 (Sequential)        (None, 32)           2368        ['skip_connection2[0][0]']       \n",
      "                                                                                                  \n",
      " skip_connection3 (Add)         (None, 32)           0           ['skip_connection2[0][0]',       \n",
      "                                                                  'ffn_block3[0][0]']             \n",
      "                                                                                                  \n",
      " ffn_block4 (Sequential)        (None, 32)           2368        ['skip_connection3[0][0]']       \n",
      "                                                                                                  \n",
      " skip_connection4 (Add)         (None, 32)           0           ['skip_connection3[0][0]',       \n",
      "                                                                  'ffn_block4[0][0]']             \n",
      "                                                                                                  \n",
      " ffn_block5 (Sequential)        (None, 32)           2368        ['skip_connection4[0][0]']       \n",
      "                                                                                                  \n",
      " skip_connection5 (Add)         (None, 32)           0           ['skip_connection4[0][0]',       \n",
      "                                                                  'ffn_block5[0][0]']             \n",
      "                                                                                                  \n",
      " logits (Dense)                 (None, 7)            231         ['skip_connection5[0][0]']       \n",
      "                                                                                                  \n",
      "==================================================================================================\n",
      "Total params: 62,507\n",
      "Trainable params: 59,065\n",
      "Non-trainable params: 3,442\n",
      "__________________________________________________________________________________________________\n"
     ]
    }
   ],
   "source": [
    "def create_baseline_model(hidden_units, num_classes, dropout_rate=0.2):\n",
    "    inputs = layers.Input(shape=(num_features,), name=\"input_features\")\n",
    "    x = create_ffn(hidden_units, dropout_rate, name=f\"ffn_block1\")(inputs)\n",
    "    for block_idx in range(4):\n",
    "        # Create an FFN block.\n",
    "        x1 = create_ffn(hidden_units, dropout_rate, name=f\"ffn_block{block_idx + 2}\")(x)\n",
    "        # Add skip connection.\n",
    "        x = layers.Add(name=f\"skip_connection{block_idx + 2}\")([x, x1])\n",
    "    # Compute logits.\n",
    "    logits = layers.Dense(num_classes, name=\"logits\")(x)\n",
    "    # Create the model.\n",
    "    return keras.Model(inputs=inputs, outputs=logits, name=\"baseline\")\n",
    "\n",
    "\n",
    "baseline_model = create_baseline_model(hidden_units, num_classes, dropout_rate)\n",
    "baseline_model.summary()"
   ]
  },
  {
   "cell_type": "code",
   "execution_count": 146,
   "id": "de0b40dc-e572-4475-8b34-34405c5863d9",
   "metadata": {},
   "outputs": [
    {
     "data": {
      "text/plain": [
       "array([ 855, 1335, 1324, ..., 2011,   98,  461])"
      ]
     },
     "execution_count": 146,
     "metadata": {},
     "output_type": "execute_result"
    }
   ],
   "source": [
    "x_train"
   ]
  },
  {
   "cell_type": "code",
   "execution_count": 147,
   "id": "2f09cf78-82a2-4b7a-b67c-44fccf125608",
   "metadata": {},
   "outputs": [
    {
     "data": {
      "text/plain": [
       "462     2\n",
       "169     2\n",
       "2516    1\n",
       "2691    2\n",
       "1529    4\n",
       "       ..\n",
       "2616    0\n",
       "302     5\n",
       "1190    2\n",
       "1855    0\n",
       "1462    2\n",
       "Name: subject, Length: 1339, dtype: int64"
      ]
     },
     "execution_count": 147,
     "metadata": {},
     "output_type": "execute_result"
    }
   ],
   "source": [
    "y_train"
   ]
  },
  {
   "cell_type": "code",
   "execution_count": 32,
   "id": "9da15583-d72f-4517-8661-ab1ea5d70193",
   "metadata": {
    "scrolled": true,
    "tags": []
   },
   "outputs": [
    {
     "name": "stdout",
     "output_type": "stream",
     "text": [
      "Epoch 1/300\n",
      "5/5 [==============================] - 2s 81ms/step - loss: 3.3838 - acc: 0.1591 - val_loss: 1.8293 - val_acc: 0.3333\n",
      "Epoch 2/300\n",
      "5/5 [==============================] - 0s 23ms/step - loss: 2.8493 - acc: 0.2487 - val_loss: 1.8352 - val_acc: 0.3582\n",
      "Epoch 3/300\n",
      "5/5 [==============================] - 0s 23ms/step - loss: 2.3855 - acc: 0.2381 - val_loss: 1.8452 - val_acc: 0.3582\n",
      "Epoch 4/300\n",
      "5/5 [==============================] - 0s 25ms/step - loss: 2.1194 - acc: 0.2575 - val_loss: 1.8508 - val_acc: 0.3582\n",
      "Epoch 5/300\n",
      "5/5 [==============================] - 0s 25ms/step - loss: 2.0218 - acc: 0.2970 - val_loss: 1.8406 - val_acc: 0.3433\n",
      "Epoch 6/300\n",
      "5/5 [==============================] - 0s 27ms/step - loss: 1.8969 - acc: 0.3137 - val_loss: 1.8392 - val_acc: 0.3532\n",
      "Epoch 7/300\n",
      "5/5 [==============================] - 0s 30ms/step - loss: 1.7959 - acc: 0.3137 - val_loss: 1.8343 - val_acc: 0.3731\n",
      "Epoch 8/300\n",
      "5/5 [==============================] - 0s 29ms/step - loss: 1.7458 - acc: 0.3506 - val_loss: 1.8208 - val_acc: 0.3980\n",
      "Epoch 9/300\n",
      "5/5 [==============================] - 0s 28ms/step - loss: 1.6478 - acc: 0.3866 - val_loss: 1.7935 - val_acc: 0.4279\n",
      "Epoch 10/300\n",
      "5/5 [==============================] - 0s 27ms/step - loss: 1.5860 - acc: 0.4139 - val_loss: 1.7525 - val_acc: 0.4328\n",
      "Epoch 11/300\n",
      "5/5 [==============================] - 0s 28ms/step - loss: 1.5732 - acc: 0.4218 - val_loss: 1.7175 - val_acc: 0.4726\n",
      "Epoch 12/300\n",
      "5/5 [==============================] - 0s 26ms/step - loss: 1.4867 - acc: 0.4490 - val_loss: 1.6776 - val_acc: 0.4428\n",
      "Epoch 13/300\n",
      "5/5 [==============================] - 0s 26ms/step - loss: 1.4645 - acc: 0.4851 - val_loss: 1.6166 - val_acc: 0.4975\n",
      "Epoch 14/300\n",
      "5/5 [==============================] - 0s 26ms/step - loss: 1.3484 - acc: 0.5149 - val_loss: 1.5430 - val_acc: 0.5274\n",
      "Epoch 15/300\n",
      "5/5 [==============================] - 0s 25ms/step - loss: 1.2595 - acc: 0.5492 - val_loss: 1.4604 - val_acc: 0.5672\n",
      "Epoch 16/300\n",
      "5/5 [==============================] - 0s 27ms/step - loss: 1.2249 - acc: 0.5861 - val_loss: 1.3513 - val_acc: 0.6169\n",
      "Epoch 17/300\n",
      "5/5 [==============================] - 0s 27ms/step - loss: 1.1489 - acc: 0.5844 - val_loss: 1.2727 - val_acc: 0.6368\n",
      "Epoch 18/300\n",
      "5/5 [==============================] - 0s 25ms/step - loss: 1.1132 - acc: 0.5967 - val_loss: 1.2267 - val_acc: 0.6219\n",
      "Epoch 19/300\n",
      "5/5 [==============================] - 0s 26ms/step - loss: 1.0342 - acc: 0.6467 - val_loss: 1.1891 - val_acc: 0.6169\n",
      "Epoch 20/300\n",
      "5/5 [==============================] - 0s 25ms/step - loss: 0.9964 - acc: 0.6564 - val_loss: 1.1554 - val_acc: 0.6020\n",
      "Epoch 21/300\n",
      "5/5 [==============================] - 0s 28ms/step - loss: 0.9210 - acc: 0.6766 - val_loss: 1.0984 - val_acc: 0.6567\n",
      "Epoch 22/300\n",
      "5/5 [==============================] - 0s 24ms/step - loss: 0.9203 - acc: 0.6784 - val_loss: 1.0590 - val_acc: 0.6517\n",
      "Epoch 23/300\n",
      "5/5 [==============================] - 0s 25ms/step - loss: 0.8925 - acc: 0.6801 - val_loss: 1.0386 - val_acc: 0.6567\n",
      "Epoch 24/300\n",
      "5/5 [==============================] - 0s 28ms/step - loss: 0.8204 - acc: 0.7373 - val_loss: 0.9927 - val_acc: 0.6816\n",
      "Epoch 25/300\n",
      "5/5 [==============================] - 0s 28ms/step - loss: 0.7849 - acc: 0.7162 - val_loss: 0.9323 - val_acc: 0.7114\n",
      "Epoch 26/300\n",
      "5/5 [==============================] - 0s 28ms/step - loss: 0.7872 - acc: 0.7285 - val_loss: 0.9494 - val_acc: 0.6965\n",
      "Epoch 27/300\n",
      "5/5 [==============================] - 0s 26ms/step - loss: 0.7349 - acc: 0.7452 - val_loss: 1.0280 - val_acc: 0.6468\n",
      "Epoch 28/300\n",
      "5/5 [==============================] - 0s 26ms/step - loss: 0.7473 - acc: 0.7293 - val_loss: 1.0401 - val_acc: 0.6418\n",
      "Epoch 29/300\n",
      "5/5 [==============================] - 0s 27ms/step - loss: 0.6878 - acc: 0.7601 - val_loss: 1.0201 - val_acc: 0.6617\n",
      "Epoch 30/300\n",
      "5/5 [==============================] - 0s 26ms/step - loss: 0.7221 - acc: 0.7469 - val_loss: 0.9669 - val_acc: 0.7015\n",
      "Epoch 31/300\n",
      "5/5 [==============================] - 0s 25ms/step - loss: 0.6537 - acc: 0.7724 - val_loss: 0.9323 - val_acc: 0.7164\n",
      "Epoch 32/300\n",
      "5/5 [==============================] - 0s 25ms/step - loss: 0.6755 - acc: 0.7663 - val_loss: 0.9484 - val_acc: 0.7065\n",
      "Epoch 33/300\n",
      "5/5 [==============================] - 0s 25ms/step - loss: 0.6595 - acc: 0.7636 - val_loss: 0.9357 - val_acc: 0.6766\n",
      "Epoch 34/300\n",
      "5/5 [==============================] - 0s 27ms/step - loss: 0.5967 - acc: 0.7979 - val_loss: 0.8799 - val_acc: 0.7363\n",
      "Epoch 35/300\n",
      "5/5 [==============================] - 0s 28ms/step - loss: 0.6507 - acc: 0.7733 - val_loss: 0.8492 - val_acc: 0.7512\n",
      "Epoch 36/300\n",
      "5/5 [==============================] - 0s 27ms/step - loss: 0.5977 - acc: 0.7961 - val_loss: 0.8108 - val_acc: 0.7910\n",
      "Epoch 37/300\n",
      "5/5 [==============================] - 0s 27ms/step - loss: 0.5991 - acc: 0.7979 - val_loss: 0.8062 - val_acc: 0.8060\n",
      "Epoch 38/300\n",
      "5/5 [==============================] - 0s 24ms/step - loss: 0.5737 - acc: 0.7970 - val_loss: 0.8313 - val_acc: 0.7811\n",
      "Epoch 39/300\n",
      "5/5 [==============================] - 0s 24ms/step - loss: 0.5465 - acc: 0.8128 - val_loss: 0.8403 - val_acc: 0.7811\n",
      "Epoch 40/300\n",
      "5/5 [==============================] - 0s 23ms/step - loss: 0.5324 - acc: 0.8102 - val_loss: 0.8210 - val_acc: 0.7910\n",
      "Epoch 41/300\n",
      "5/5 [==============================] - 0s 24ms/step - loss: 0.5548 - acc: 0.8023 - val_loss: 0.8127 - val_acc: 0.7861\n",
      "Epoch 42/300\n",
      "5/5 [==============================] - 0s 26ms/step - loss: 0.5192 - acc: 0.8190 - val_loss: 0.7963 - val_acc: 0.7861\n",
      "Epoch 43/300\n",
      "5/5 [==============================] - 0s 24ms/step - loss: 0.5351 - acc: 0.8084 - val_loss: 0.8014 - val_acc: 0.7512\n",
      "Epoch 44/300\n",
      "5/5 [==============================] - 0s 24ms/step - loss: 0.5307 - acc: 0.8181 - val_loss: 0.7791 - val_acc: 0.7662\n",
      "Epoch 45/300\n",
      "5/5 [==============================] - 0s 26ms/step - loss: 0.5190 - acc: 0.8322 - val_loss: 0.7562 - val_acc: 0.7910\n",
      "Epoch 46/300\n",
      "5/5 [==============================] - 0s 26ms/step - loss: 0.5124 - acc: 0.8207 - val_loss: 0.7589 - val_acc: 0.7960\n",
      "Epoch 47/300\n",
      "5/5 [==============================] - 0s 27ms/step - loss: 0.4969 - acc: 0.8330 - val_loss: 0.7614 - val_acc: 0.7861\n",
      "Epoch 48/300\n",
      "5/5 [==============================] - 0s 26ms/step - loss: 0.5157 - acc: 0.8243 - val_loss: 0.7538 - val_acc: 0.7662\n",
      "Epoch 49/300\n",
      "5/5 [==============================] - 0s 25ms/step - loss: 0.5253 - acc: 0.8172 - val_loss: 0.7347 - val_acc: 0.7612\n",
      "Epoch 50/300\n",
      "5/5 [==============================] - 0s 27ms/step - loss: 0.5013 - acc: 0.8295 - val_loss: 0.7250 - val_acc: 0.7512\n",
      "Epoch 51/300\n",
      "5/5 [==============================] - 0s 26ms/step - loss: 0.5057 - acc: 0.8348 - val_loss: 0.7206 - val_acc: 0.7512\n",
      "Epoch 52/300\n",
      "5/5 [==============================] - 0s 26ms/step - loss: 0.4719 - acc: 0.8234 - val_loss: 0.7532 - val_acc: 0.7413\n",
      "Epoch 53/300\n",
      "5/5 [==============================] - 0s 26ms/step - loss: 0.4428 - acc: 0.8489 - val_loss: 0.7391 - val_acc: 0.7562\n",
      "Epoch 54/300\n",
      "5/5 [==============================] - 0s 25ms/step - loss: 0.4502 - acc: 0.8418 - val_loss: 0.7247 - val_acc: 0.7861\n",
      "Epoch 55/300\n",
      "5/5 [==============================] - 0s 26ms/step - loss: 0.5010 - acc: 0.8225 - val_loss: 0.7659 - val_acc: 0.7761\n",
      "Epoch 56/300\n",
      "5/5 [==============================] - 0s 27ms/step - loss: 0.4556 - acc: 0.8374 - val_loss: 0.7679 - val_acc: 0.7612\n",
      "Epoch 57/300\n",
      "5/5 [==============================] - 0s 26ms/step - loss: 0.5088 - acc: 0.8155 - val_loss: 0.7424 - val_acc: 0.7761\n",
      "Epoch 58/300\n",
      "5/5 [==============================] - 0s 28ms/step - loss: 0.4518 - acc: 0.8445 - val_loss: 0.6739 - val_acc: 0.8209\n",
      "Epoch 59/300\n",
      "5/5 [==============================] - 0s 25ms/step - loss: 0.4882 - acc: 0.8234 - val_loss: 0.6728 - val_acc: 0.8209\n",
      "Epoch 60/300\n",
      "5/5 [==============================] - 0s 24ms/step - loss: 0.4465 - acc: 0.8366 - val_loss: 0.6908 - val_acc: 0.7960\n",
      "Epoch 61/300\n",
      "5/5 [==============================] - 0s 26ms/step - loss: 0.4193 - acc: 0.8585 - val_loss: 0.6989 - val_acc: 0.8060\n",
      "Epoch 62/300\n",
      "5/5 [==============================] - 0s 26ms/step - loss: 0.4338 - acc: 0.8480 - val_loss: 0.7027 - val_acc: 0.8159\n",
      "Epoch 63/300\n",
      "5/5 [==============================] - 0s 26ms/step - loss: 0.4288 - acc: 0.8533 - val_loss: 0.7102 - val_acc: 0.7960\n",
      "Epoch 64/300\n",
      "5/5 [==============================] - 0s 25ms/step - loss: 0.4184 - acc: 0.8576 - val_loss: 0.7215 - val_acc: 0.7910\n",
      "Epoch 65/300\n",
      "5/5 [==============================] - 0s 25ms/step - loss: 0.4480 - acc: 0.8374 - val_loss: 0.7008 - val_acc: 0.7910\n",
      "Epoch 66/300\n",
      "5/5 [==============================] - 0s 26ms/step - loss: 0.4665 - acc: 0.8313 - val_loss: 0.6688 - val_acc: 0.8010\n",
      "Epoch 67/300\n",
      "5/5 [==============================] - 0s 24ms/step - loss: 0.4277 - acc: 0.8541 - val_loss: 0.6572 - val_acc: 0.8109\n",
      "Epoch 68/300\n",
      "5/5 [==============================] - 0s 25ms/step - loss: 0.4591 - acc: 0.8515 - val_loss: 0.6697 - val_acc: 0.8010\n",
      "Epoch 69/300\n",
      "5/5 [==============================] - 0s 25ms/step - loss: 0.4236 - acc: 0.8533 - val_loss: 0.6792 - val_acc: 0.8109\n",
      "Epoch 70/300\n",
      "5/5 [==============================] - 0s 25ms/step - loss: 0.4791 - acc: 0.8392 - val_loss: 0.7129 - val_acc: 0.7861\n",
      "Epoch 71/300\n",
      "5/5 [==============================] - 0s 26ms/step - loss: 0.4495 - acc: 0.8427 - val_loss: 0.7434 - val_acc: 0.7811\n",
      "Epoch 72/300\n",
      "5/5 [==============================] - 0s 26ms/step - loss: 0.4165 - acc: 0.8497 - val_loss: 0.7145 - val_acc: 0.8060\n",
      "Epoch 73/300\n",
      "5/5 [==============================] - 0s 26ms/step - loss: 0.4256 - acc: 0.8524 - val_loss: 0.6942 - val_acc: 0.8159\n",
      "Epoch 74/300\n",
      "5/5 [==============================] - 0s 25ms/step - loss: 0.4341 - acc: 0.8533 - val_loss: 0.6802 - val_acc: 0.8209\n",
      "Epoch 75/300\n",
      "5/5 [==============================] - 0s 24ms/step - loss: 0.4452 - acc: 0.8418 - val_loss: 0.6762 - val_acc: 0.8109\n",
      "Epoch 76/300\n",
      "5/5 [==============================] - 0s 26ms/step - loss: 0.4738 - acc: 0.8366 - val_loss: 0.6814 - val_acc: 0.8109\n",
      "Epoch 77/300\n",
      "5/5 [==============================] - 0s 25ms/step - loss: 0.3896 - acc: 0.8585 - val_loss: 0.7113 - val_acc: 0.7910\n",
      "Epoch 78/300\n",
      "5/5 [==============================] - 0s 25ms/step - loss: 0.3919 - acc: 0.8673 - val_loss: 0.7351 - val_acc: 0.8060\n",
      "Epoch 79/300\n",
      "5/5 [==============================] - 0s 24ms/step - loss: 0.4197 - acc: 0.8427 - val_loss: 0.7327 - val_acc: 0.7960\n",
      "Epoch 80/300\n",
      "5/5 [==============================] - 0s 25ms/step - loss: 0.3935 - acc: 0.8576 - val_loss: 0.7272 - val_acc: 0.7960\n",
      "Epoch 81/300\n",
      "5/5 [==============================] - 0s 25ms/step - loss: 0.4160 - acc: 0.8585 - val_loss: 0.7311 - val_acc: 0.7662\n",
      "Epoch 82/300\n",
      "5/5 [==============================] - 0s 26ms/step - loss: 0.3977 - acc: 0.8585 - val_loss: 0.7335 - val_acc: 0.7662\n",
      "Epoch 83/300\n",
      "5/5 [==============================] - 0s 25ms/step - loss: 0.4127 - acc: 0.8585 - val_loss: 0.7462 - val_acc: 0.7662\n",
      "Epoch 84/300\n",
      "5/5 [==============================] - 0s 24ms/step - loss: 0.3900 - acc: 0.8656 - val_loss: 0.7708 - val_acc: 0.7612\n",
      "Epoch 85/300\n",
      "5/5 [==============================] - 0s 25ms/step - loss: 0.3854 - acc: 0.8603 - val_loss: 0.7719 - val_acc: 0.7612\n",
      "Epoch 86/300\n",
      "5/5 [==============================] - 0s 25ms/step - loss: 0.4013 - acc: 0.8576 - val_loss: 0.7606 - val_acc: 0.7811\n",
      "Epoch 87/300\n",
      "5/5 [==============================] - 0s 25ms/step - loss: 0.3969 - acc: 0.8638 - val_loss: 0.7583 - val_acc: 0.7761\n",
      "Epoch 88/300\n",
      "5/5 [==============================] - 0s 25ms/step - loss: 0.3958 - acc: 0.8576 - val_loss: 0.7430 - val_acc: 0.7861\n",
      "Epoch 89/300\n",
      "5/5 [==============================] - 0s 25ms/step - loss: 0.4274 - acc: 0.8576 - val_loss: 0.7699 - val_acc: 0.7662\n",
      "Epoch 90/300\n",
      "5/5 [==============================] - 0s 24ms/step - loss: 0.4336 - acc: 0.8453 - val_loss: 0.7597 - val_acc: 0.7711\n",
      "Epoch 91/300\n",
      "5/5 [==============================] - 0s 26ms/step - loss: 0.4042 - acc: 0.8612 - val_loss: 0.7596 - val_acc: 0.7711\n",
      "Epoch 92/300\n",
      "5/5 [==============================] - 0s 26ms/step - loss: 0.3824 - acc: 0.8585 - val_loss: 0.7969 - val_acc: 0.7562\n",
      "Epoch 93/300\n",
      "5/5 [==============================] - 0s 24ms/step - loss: 0.3999 - acc: 0.8524 - val_loss: 0.7958 - val_acc: 0.7612\n",
      "Epoch 94/300\n",
      "5/5 [==============================] - 0s 24ms/step - loss: 0.3695 - acc: 0.8682 - val_loss: 0.7618 - val_acc: 0.7861\n",
      "Epoch 95/300\n",
      "5/5 [==============================] - 0s 25ms/step - loss: 0.3709 - acc: 0.8620 - val_loss: 0.7541 - val_acc: 0.7811\n",
      "Epoch 96/300\n",
      "5/5 [==============================] - 0s 24ms/step - loss: 0.3944 - acc: 0.8568 - val_loss: 0.7635 - val_acc: 0.7761\n",
      "Epoch 97/300\n",
      "5/5 [==============================] - 0s 24ms/step - loss: 0.3565 - acc: 0.8910 - val_loss: 0.7461 - val_acc: 0.7811\n",
      "Epoch 98/300\n",
      "5/5 [==============================] - 0s 24ms/step - loss: 0.4059 - acc: 0.8620 - val_loss: 0.7534 - val_acc: 0.7662\n",
      "Epoch 99/300\n",
      "5/5 [==============================] - 0s 24ms/step - loss: 0.3890 - acc: 0.8691 - val_loss: 0.7684 - val_acc: 0.7512\n",
      "Epoch 100/300\n",
      "5/5 [==============================] - 0s 25ms/step - loss: 0.4519 - acc: 0.8497 - val_loss: 0.7904 - val_acc: 0.7612\n",
      "Epoch 101/300\n",
      "5/5 [==============================] - 0s 25ms/step - loss: 0.3975 - acc: 0.8682 - val_loss: 0.7881 - val_acc: 0.7711\n",
      "Epoch 102/300\n",
      "5/5 [==============================] - 0s 24ms/step - loss: 0.3962 - acc: 0.8612 - val_loss: 0.7845 - val_acc: 0.7761\n",
      "Epoch 103/300\n",
      "5/5 [==============================] - 0s 24ms/step - loss: 0.4000 - acc: 0.8629 - val_loss: 0.7733 - val_acc: 0.7662\n",
      "Epoch 104/300\n",
      "5/5 [==============================] - 0s 25ms/step - loss: 0.3934 - acc: 0.8673 - val_loss: 0.8023 - val_acc: 0.7512\n",
      "Epoch 105/300\n",
      "5/5 [==============================] - 0s 24ms/step - loss: 0.3405 - acc: 0.8752 - val_loss: 0.8122 - val_acc: 0.7662\n",
      "Epoch 106/300\n",
      "5/5 [==============================] - 0s 24ms/step - loss: 0.3729 - acc: 0.8656 - val_loss: 0.8185 - val_acc: 0.7512\n",
      "Epoch 107/300\n",
      "5/5 [==============================] - 0s 25ms/step - loss: 0.4089 - acc: 0.8471 - val_loss: 0.7712 - val_acc: 0.7711\n",
      "Epoch 108/300\n",
      "5/5 [==============================] - 0s 27ms/step - loss: 0.3599 - acc: 0.8875 - val_loss: 0.7375 - val_acc: 0.7711\n"
     ]
    }
   ],
   "source": [
    "history = run_experiment(baseline_model, x_train, y_train)"
   ]
  },
  {
   "cell_type": "code",
   "execution_count": 33,
   "id": "f39ea832-400b-4387-b6ac-182f900c05e9",
   "metadata": {},
   "outputs": [
    {
     "data": {
      "image/png": "[encoded data removed]",
      "text/plain": [
       "<Figure size 1080x360 with 2 Axes>"
      ]
     },
     "metadata": {
      "needs_background": "light"
     },
     "output_type": "display_data"
    }
   ],
   "source": [
    "display_learning_curves(history)"
   ]
  },
  {
   "cell_type": "markdown",
   "id": "2635e181-dd3d-40d5-89a3-f0acd380368a",
   "metadata": {},
   "source": [
    "test로 평가"
   ]
  },
  {
   "cell_type": "code",
   "execution_count": 34,
   "id": "91800ab0-9620-45bf-9b8e-5f154fd54bd1",
   "metadata": {},
   "outputs": [
    {
     "name": "stdout",
     "output_type": "stream",
     "text": [
      "Test accuracy: 75.38%\n"
     ]
    }
   ],
   "source": [
    "_, test_accuracy = baseline_model.evaluate(x=x_test, y=y_test, verbose=0)\n",
    "print(f\"Test accuracy: {round(test_accuracy * 100, 2)}%\")"
   ]
  },
  {
   "cell_type": "markdown",
   "id": "b75d39ce-c890-4124-936d-7bb298a58eaa",
   "metadata": {},
   "source": [
    "### Examine the baseline model predictions"
   ]
  },
  {
   "cell_type": "markdown",
   "id": "56b985e4-f8be-433c-89ac-3955e7007cf4",
   "metadata": {},
   "source": [
    "Let's create new data instances by randomly generating binary word vectors with respect to the word presence probabilities.\n",
    "- 단어가 존재하는 확률과 관련해서 이진 단어 벡터를 무작위로 만드는 새로운 데이터 인스턴스를 생성"
   ]
  },
  {
   "cell_type": "code",
   "execution_count": 35,
   "id": "43a1d0a1-6fcb-451d-a40c-b91d0033da88",
   "metadata": {},
   "outputs": [],
   "source": [
    "def generate_random_instances(num_instances):\n",
    "    token_probability = x_train.mean(axis=0)\n",
    "    instances = []\n",
    "    for _ in range(num_instances):\n",
    "        probabilities = np.random.uniform(size=len(token_probability))\n",
    "        instance = (probabilities <= token_probability).astype(int)\n",
    "        instances.append(instance)\n",
    "\n",
    "    return np.array(instances)\n",
    "\n",
    "\n",
    "def display_class_probabilities(probabilities):\n",
    "    for instance_idx, probs in enumerate(probabilities):\n",
    "        print(f\"Instance {instance_idx + 1}:\")\n",
    "        for class_idx, prob in enumerate(probs):\n",
    "            print(f\"- {class_values[class_idx]}: {round(prob * 100, 2)}%\")"
   ]
  },
  {
   "cell_type": "markdown",
   "id": "54091542-400e-48b8-905e-58c11c341050",
   "metadata": {},
   "source": [
    "- `tf.convert_to_tensor(logits)` logit을 텐서로 변환"
   ]
  },
  {
   "cell_type": "code",
   "execution_count": 36,
   "id": "f3265d7b-b836-459c-a259-cd9b058ef9b4",
   "metadata": {},
   "outputs": [
    {
     "name": "stdout",
     "output_type": "stream",
     "text": [
      "Instance 1:\n",
      "- Case_Based: 1.16%\n",
      "- Genetic_Algorithms: 1.02%\n",
      "- Neural_Networks: 37.81%\n",
      "- Probabilistic_Methods: 5.56%\n",
      "- Reinforcement_Learning: 0.35%\n",
      "- Rule_Learning: 1.69%\n",
      "- Theory: 52.42%\n",
      "Instance 2:\n",
      "- Case_Based: 1.83%\n",
      "- Genetic_Algorithms: 9.77%\n",
      "- Neural_Networks: 64.92%\n",
      "- Probabilistic_Methods: 12.92%\n",
      "- Reinforcement_Learning: 4.37%\n",
      "- Rule_Learning: 0.74%\n",
      "- Theory: 5.45%\n",
      "Instance 3:\n",
      "- Case_Based: 4.83%\n",
      "- Genetic_Algorithms: 2.85%\n",
      "- Neural_Networks: 53.39%\n",
      "- Probabilistic_Methods: 6.96%\n",
      "- Reinforcement_Learning: 1.06%\n",
      "- Rule_Learning: 0.85%\n",
      "- Theory: 30.05%\n",
      "Instance 4:\n",
      "- Case_Based: 0.5%\n",
      "- Genetic_Algorithms: 58.36%\n",
      "- Neural_Networks: 33.56%\n",
      "- Probabilistic_Methods: 4.26%\n",
      "- Reinforcement_Learning: 0.47%\n",
      "- Rule_Learning: 0.89%\n",
      "- Theory: 1.96%\n",
      "Instance 5:\n",
      "- Case_Based: 36.71%\n",
      "- Genetic_Algorithms: 2.45%\n",
      "- Neural_Networks: 18.55%\n",
      "- Probabilistic_Methods: 3.56%\n",
      "- Reinforcement_Learning: 0.75%\n",
      "- Rule_Learning: 26.78%\n",
      "- Theory: 11.19%\n",
      "Instance 6:\n",
      "- Case_Based: 1.27%\n",
      "- Genetic_Algorithms: 1.77%\n",
      "- Neural_Networks: 9.94%\n",
      "- Probabilistic_Methods: 69.52%\n",
      "- Reinforcement_Learning: 0.66%\n",
      "- Rule_Learning: 2.01%\n",
      "- Theory: 14.84%\n",
      "Instance 7:\n",
      "- Case_Based: 69.49%\n",
      "- Genetic_Algorithms: 1.7%\n",
      "- Neural_Networks: 6.61%\n",
      "- Probabilistic_Methods: 0.97%\n",
      "- Reinforcement_Learning: 0.72%\n",
      "- Rule_Learning: 11.45%\n",
      "- Theory: 9.05%\n"
     ]
    }
   ],
   "source": [
    "new_instances = generate_random_instances(num_classes)\n",
    "logits = baseline_model.predict(new_instances)\n",
    "probabilities = keras.activations.softmax(tf.convert_to_tensor(logits)).numpy()\n",
    "display_class_probabilities(probabilities)"
   ]
  },
  {
   "cell_type": "markdown",
   "id": "e85591c1-7455-4252-822f-759d158b0f4e",
   "metadata": {},
   "source": [
    "### Build a Graph Neural Network Model"
   ]
  },
  {
   "cell_type": "markdown",
   "id": "32989442-aa5e-4fd2-b592-5fc17a991327",
   "metadata": {},
   "source": [
    "The graph data is represented by the graph_info tuple, which consists of the following three elements:\n",
    "\n",
    "1. node_features: This is a [num_nodes, num_features] NumPy array that includes the node features. In this dataset, the nodes are the papers, and the node_features are the word-presence binary vectors of each paper.\n",
    "    - 노드 특징을 포함하는 넘파이 배열이다.노드는 papers이고, node_features는 각 논문 사이의 단어 존재 이진 벡터이다.\n",
    "2. edges: This is [num_edges, num_edges] NumPy array representing a sparse adjacency matrix of the links between the nodes. In this example, the links are the citations between the papers.\n",
    "    - 노드 사이의 연결의 희소 인접 행렬을 나타내는 넘파이 배열이다. 이 예제에서 link는 paper 사이의 인용이다.\n",
    "3. edge_weights (optional): This is a [num_edges] NumPy array that includes the edge weights, which quantify the relationships between nodes in the graph. In this example, there are no weights for the paper citations.\n",
    "    - 그래프에서 노드 사이 관계를 정량화하는 엣지 가중치를 포함하는 넘파이 배열이다. 이 예제에서 논문 잉용에 대한 가중치는 없다."
   ]
  },
  {
   "cell_type": "code",
   "execution_count": 112,
   "id": "8560e49c-b704-43fa-9e6e-46d2aff59d4c",
   "metadata": {},
   "outputs": [
    {
     "data": {
      "text/plain": [
       "(<tf.Tensor: shape=(2708, 1433), dtype=float32, numpy=\n",
       " array([[0., 0., 0., ..., 0., 0., 0.],\n",
       "        [0., 0., 0., ..., 0., 0., 0.],\n",
       "        [0., 0., 0., ..., 0., 0., 0.],\n",
       "        ...,\n",
       "        [0., 0., 0., ..., 0., 0., 0.],\n",
       "        [0., 0., 0., ..., 0., 0., 0.],\n",
       "        [0., 0., 0., ..., 0., 0., 0.]], dtype=float32)>,\n",
       " array([[  21,  905,  906, ..., 2586, 1874, 2707],\n",
       "        [   0,    0,    0, ..., 1874, 1876, 1897]]),\n",
       " <tf.Tensor: shape=(5429,), dtype=float32, numpy=array([1., 1., 1., ..., 1., 1., 1.], dtype=float32)>)"
      ]
     },
     "execution_count": 112,
     "metadata": {},
     "output_type": "execute_result"
    }
   ],
   "source": [
    "graph_info"
   ]
  },
  {
   "cell_type": "markdown",
   "id": "7615472c-601b-48c3-9b49-1f9106c0f5b4",
   "metadata": {},
   "source": [
    "**sparse adjacency matrix**\n",
    "- 노드 수보다 엣지 수가 적은 matrix"
   ]
  },
  {
   "cell_type": "code",
   "execution_count": 150,
   "id": "6bac8156-800e-43dd-a7b8-9d4b9c88b402",
   "metadata": {},
   "outputs": [
    {
     "data": {
      "text/plain": [
       "(2, 5429)"
      ]
     },
     "execution_count": 150,
     "metadata": {},
     "output_type": "execute_result"
    }
   ],
   "source": [
    "edges.shape"
   ]
  },
  {
   "cell_type": "code",
   "execution_count": 37,
   "id": "86ca47ac-9853-473e-bbce-933b4ce5e520",
   "metadata": {},
   "outputs": [
    {
     "name": "stdout",
     "output_type": "stream",
     "text": [
      "Edges shape: (2, 5429)\n",
      "Nodes shape: (2708, 1433)\n"
     ]
    }
   ],
   "source": [
    "# Create an edges array (sparse adjacency matrix) of shape [2, num_edges].\n",
    "edges = citations[[\"source\", \"target\"]].to_numpy().T\n",
    "# Create an edge weights array of ones.\n",
    "edge_weights = tf.ones(shape=edges.shape[1])\n",
    "# Create a node features array of shape [num_nodes, num_features].\n",
    "node_features = tf.cast(\n",
    "    papers.sort_values(\"paper_id\")[feature_names].to_numpy(), dtype=tf.dtypes.float32\n",
    ")\n",
    "# Create graph info tuple with node_features, edges, and edge_weights.\n",
    "graph_info = (node_features, edges, edge_weights)\n",
    "\n",
    "print(\"Edges shape:\", edges.shape)\n",
    "print(\"Nodes shape:\", node_features.shape)"
   ]
  },
  {
   "cell_type": "markdown",
   "id": "d3261d40-4d86-40d7-b666-41158da62f57",
   "metadata": {},
   "source": [
    "### Implement a graph convolution layer"
   ]
  },
  {
   "cell_type": "markdown",
   "id": "93cdbf20-56be-4862-b196-eecede0422f6",
   "metadata": {},
   "source": [
    "gru? 가 뭘까.."
   ]
  },
  {
   "cell_type": "markdown",
   "id": "4ff3541f-64b4-436a-b3a4-49a516b4fb5b",
   "metadata": {},
   "source": [
    "We implement a graph convolution module as a Keras Layer. Our GraphConvLayer performs the following steps:\n",
    "\n",
    "1. Prepare: The input node representations are processed using a FFN to produce a message. You can simplify the processing by only applying linear transformation to the representations.\n",
    "    - 입력 노드 표현은 메세지를 제공하는 FFN을 사용하여 처리된다. 그 표현을 오직 선형 변환만 적용함으로써 처리를 단순화할 수 있다.\n",
    "2. Aggregate: The messages of the neighbours of each node are aggregated with respect to the edge_weights using a permutation invariant pooling operation, such as sum, mean, and max, to prepare a single aggregated message for each node. See, for example, tf.math.unsorted_segment_sum APIs used to aggregate neighbour messages.\n",
    "    - 각 노드들의 이웃들의 메세지는 각 노드에 대해 단순 집계된 메세지를 준비하기 위해서 sum, mean, max 같은 순열 불변 풀링 operation을 사용한 edge_weights를 나타내어 집계한다. 예를들어, tf.math.unsorted_usum API는 이웃 메세지들을 집계하는데 사용된다.\n",
    "3. Update: The node_repesentations and aggregated_messages—both of shape [num_nodes, representation_dim]— are combined and processed to produce the new state of the node representations (node embeddings). If combination_type is gru, the node_repesentations and aggregated_messages are stacked to create a sequence, then processed by a GRU layer. Otherwise, the node_repesentations and aggregated_messages are added or concatenated, then processed using a FFN.\n",
    "    - node_repesentations 과 aggregated_messages—both는 노드 표현(노드 임베딩)의 새로운 상태를 제공하기 위해 결합되고 처리된다. 만일 conbination type이 gru라면, node_repesentations and aggregated_messages는 시퀀스를 만들기 위해 쌓이게 되면 GPU 층에 의해 처리된다. 반면에 node_repesentations and aggregated_messages가 추가되거나 연결되면 FFN을 사용하여 처리된다."
   ]
  },
  {
   "cell_type": "markdown",
   "id": "b78d63b8-b2c7-46fa-aae5-65809d1a89a8",
   "metadata": {},
   "source": [
    "---"
   ]
  },
  {
   "cell_type": "markdown",
   "id": "9aad862c-13d6-46db-b4b5-ec33bf4e7a97",
   "metadata": {},
   "source": [
    "GRU; Gated Recurrent Unit 게이트 순환 유닛(https://keras.io/api/layers/recurrent_layers/gru/)\n",
    "- LSTM에서의 장기 의존성 문제의 해결책은 유지하면서 은닉 상태 업데이트 계산을 줄임\n",
    "    - 학습 속도는 빠르지만 비슷한 성능을 보인다.\n",
    "- 3개의 게이트(출력, 입력, 삭제)가 존재하는 LSTM\n",
    "- 2개의 게이트(업데이트, 리셋)만 존재하는 GRU"
   ]
  },
  {
   "cell_type": "markdown",
   "id": "4e525cda-c23c-4797-a67a-efad35147534",
   "metadata": {},
   "source": [
    "---"
   ]
  },
  {
   "cell_type": "markdown",
   "id": "c912ffa2-1662-4611-99c1-f71abcdaf572",
   "metadata": {},
   "source": [
    "`*arg`\n",
    "- argument. 인자로 받음.\n",
    "- 함수 내에 몇 개의 인자로 받을지 확실하지 않을때 사용\n",
    "\n",
    "`**karg`\n",
    "- keyword argument, dictionary형테 {'keyword': value}로 함수 내부에 전달\n",
    "\n",
    "$\\star$순서\n",
    "```python\n",
    "def f(일반변수, *arg, **karg):\n",
    "...\n",
    "```"
   ]
  },
  {
   "cell_type": "markdown",
   "id": "bfaf86f6-caac-4268-9ce5-af085fac6de0",
   "metadata": {},
   "source": [
    "---"
   ]
  },
  {
   "cell_type": "markdown",
   "id": "8da4bb42-134a-4284-a646-a49ea8bdda78",
   "metadata": {},
   "source": [
    "`super(other class,self).__init__()`\n",
    "- other class를 상속받는 방법"
   ]
  },
  {
   "cell_type": "markdown",
   "id": "edabfd59-8282-4828-8d38-199b2ed45611",
   "metadata": {},
   "source": [
    "---"
   ]
  },
  {
   "cell_type": "markdown",
   "id": "567ff4a0-c9bc-48f1-bd9a-74c429501a43",
   "metadata": {},
   "source": [
    "Hyperbolic Tangent = Hyperbolic Sine / Hyperbolic Cosine\n",
    "$$\\tanh z = \\frac{\\sinh z}{\\cosh z} = \\frac{e^z - e^{-z}}{e^z + e^{-z}} = \\frac{e^{2z} -1}{e^{2z} + 1}$$"
   ]
  },
  {
   "cell_type": "markdown",
   "id": "7efdd6b7-20ae-4126-b1f4-0d7237ea781c",
   "metadata": {},
   "source": [
    "![](https://upload.wikimedia.org/wikipedia/commons/thumb/7/76/Sinh_cosh_tanh.svg/256px-Sinh_cosh_tanh.svg.png)"
   ]
  },
  {
   "cell_type": "markdown",
   "id": "f6c847a4-ccbf-4719-95a6-c04e87c4b218",
   "metadata": {},
   "source": [
    "---"
   ]
  },
  {
   "cell_type": "markdown",
   "id": "b6865307-ddc1-47a7-82c9-3897a6ac4836",
   "metadata": {},
   "source": [
    "`tf.expand_dims(,axis=)` (https://www.tensorflow.org/api_docs/python/tf/expand_dims)\n",
    "- 배열의 차원을 늘려준다.\n",
    "- axis는 몇 번째 차원을 늘릴 것인지."
   ]
  },
  {
   "cell_type": "markdown",
   "id": "f9d2974d-8db5-4395-bd8d-e83271163a2b",
   "metadata": {},
   "source": [
    "---"
   ]
  },
  {
   "cell_type": "markdown",
   "id": "6aa14d5b-1063-4c6b-928e-7fc97e17cd7a",
   "metadata": {},
   "source": [
    "`tf.math.unsorted_segment_max` (https://www.tensorflow.org/api_docs/python/tf/math/unsorted_segment_max)\n",
    "- 세그먼트들의 최대값을 계산해낸다.\n",
    "\n",
    "`tf.math.unsorted_segment_mean`\n",
    "- 세그먼트들의 평균을 계산해낸다.\n",
    "\n",
    "`tf.math.unsorted_segment_sum`\n",
    "- 세그먼트들의 합을 계산해낸다."
   ]
  },
  {
   "cell_type": "markdown",
   "id": "a3bf06ae-aedf-46fd-9be5-c330c14d3703",
   "metadata": {},
   "source": [
    "---"
   ]
  },
  {
   "cell_type": "code",
   "execution_count": 38,
   "id": "99272fb1-70f5-42c6-8181-3d7d944189d7",
   "metadata": {},
   "outputs": [],
   "source": [
    "class GraphConvLayer(layers.Layer):\n",
    "    def __init__(\n",
    "        self,\n",
    "        hidden_units,\n",
    "        dropout_rate=0.2,\n",
    "        aggregation_type=\"mean\",\n",
    "        combination_type=\"concat\",\n",
    "        normalize=False,\n",
    "        *args,\n",
    "        **kwargs,\n",
    "    ):\n",
    "        super(GraphConvLayer, self).__init__(*args, **kwargs)\n",
    "\n",
    "        self.aggregation_type = aggregation_type\n",
    "        self.combination_type = combination_type\n",
    "        self.normalize = normalize\n",
    "\n",
    "        self.ffn_prepare = create_ffn(hidden_units, dropout_rate)\n",
    "        if self.combination_type == \"gated\":\n",
    "            self.update_fn = layers.GRU(\n",
    "                units=hidden_units,\n",
    "                activation=\"tanh\",\n",
    "                recurrent_activation=\"sigmoid\",\n",
    "                dropout=dropout_rate,\n",
    "                return_state=True,\n",
    "                recurrent_dropout=dropout_rate,\n",
    "            )\n",
    "        else:\n",
    "            self.update_fn = create_ffn(hidden_units, dropout_rate)\n",
    "\n",
    "    def prepare(self, node_repesentations, weights=None):\n",
    "        # node_repesentations shape is [num_edges, embedding_dim].\n",
    "        messages = self.ffn_prepare(node_repesentations)\n",
    "        if weights is not None:\n",
    "            messages = messages * tf.expand_dims(weights, -1)\n",
    "        return messages\n",
    "\n",
    "    def aggregate(self, node_indices, aggregated_messages):\n",
    "        # node_indices shape is [num_edges].\n",
    "        # neighbour_messages shape: [num_edges, representation_dim].\n",
    "        num_nodes = tf.math.reduce_max(node_indices) + 1\n",
    "        if self.aggregation_type == \"sum\":\n",
    "            aggregated_message = tf.math.unsorted_segment_sum(\n",
    "                neighbour_messages, node_indices, num_segments=num_nodes\n",
    "            )\n",
    "        elif self.aggregation_type == \"mean\":\n",
    "            aggregated_message = tf.math.unsorted_segment_mean(\n",
    "                neighbour_messages, node_indices, num_segments=num_nodes\n",
    "            )\n",
    "        elif self.aggregation_type == \"max\":\n",
    "            aggregated_message = tf.math.unsorted_segment_max(\n",
    "                neighbour_messages, node_indices, num_segments=num_nodes\n",
    "            )\n",
    "        else:\n",
    "            raise ValueError(f\"Invalid aggregation type: {self.aggregation_type}.\")\n",
    "\n",
    "        return aggregated_message\n",
    "\n",
    "    def update(self, node_repesentations, aggregated_messages):\n",
    "        # node_repesentations shape is [num_nodes, representation_dim].\n",
    "        # aggregated_messages shape is [num_nodes, representation_dim].\n",
    "        if self.combination_type == \"gru\":\n",
    "            # Create a sequence of two elements for the GRU layer.\n",
    "            h = tf.stack([node_repesentations, aggregated_messages], axis=1)\n",
    "        elif self.combination_type == \"concat\":\n",
    "            # Concatenate the node_repesentations and aggregated_messages.\n",
    "            h = tf.concat([node_repesentations, aggregated_messages], axis=1)\n",
    "        elif self.combination_type == \"add\":\n",
    "            # Add node_repesentations and aggregated_messages.\n",
    "            h = node_repesentations + aggregated_messages\n",
    "        else:\n",
    "            raise ValueError(f\"Invalid combination type: {self.combination_type}.\")\n",
    "\n",
    "        # Apply the processing function.\n",
    "        node_embeddings = self.update_fn(h)\n",
    "        if self.combination_type == \"gru\":\n",
    "            node_embeddings = tf.unstack(node_embeddings, axis=1)[-1]\n",
    "\n",
    "        if self.normalize:\n",
    "            node_embeddings = tf.nn.l2_normalize(node_embeddings, axis=-1)\n",
    "        return node_embeddings\n",
    "\n",
    "    def call(self, inputs):\n",
    "        \"\"\"Process the inputs to produce the node_embeddings.\n",
    "\n",
    "        inputs: a tuple of three elements: node_repesentations, edges, edge_weights.\n",
    "        Returns: node_embeddings of shape [num_nodes, representation_dim].\n",
    "        \"\"\"\n",
    "\n",
    "        node_repesentations, edges, edge_weights = inputs\n",
    "        # Get node_indices (source) and neighbour_indices (target) from edges.\n",
    "        node_indices, neighbour_indices = edges[0], edges[1]\n",
    "        # neighbour_repesentations shape is [num_edges, representation_dim].\n",
    "        neighbour_repesentations = tf.gather(node_repesentations, neighbour_indices)\n",
    "\n",
    "        # Prepare the messages of the neighbours.\n",
    "        neighbour_messages = self.prepare(neighbour_repesentations, edge_weights)\n",
    "        # Aggregate the neighbour messages.\n",
    "        aggregated_messages = self.aggregate(node_indices, neighbour_messages)\n",
    "        # Update the node embedding with the neighbour messages.\n",
    "        return self.update(node_repesentations, aggregated_messages)"
   ]
  },
  {
   "cell_type": "markdown",
   "id": "c259ed02-443d-4ecb-a4eb-bf3228c96777",
   "metadata": {},
   "source": [
    "The GNN classification model follows the Design Space for Graph Neural Networks approach, as follows:\n",
    "\n",
    "1. Apply preprocessing using FFN to the node features to generate initial node representations.\n",
    "    - 초기 노드 표현을 일반화하기 위해 노드 특징들을 FFN을 사용하여 준비한다.\n",
    "2. Apply one or more graph convolutional layer, with skip connections, to the node representation to produce node embeddings.\n",
    "    - slip connection을 가진 하나 이상의 그래프 컴볼루션 레이어를 노드 표현에 적용하여 노드 임베딩을 만든다.\n",
    "3. Apply post-processing using FFN to the node embeddings to generat the final node embeddings.\n",
    "    - FFN 사용 후 마지막 노드 임베딩을 만들기 위한 노드 임베딩의 적용\n",
    "4. Feed the node embeddings in a Softmax layer to predict the node class.\n",
    "    - softmax 레이어의 노드 임베딩을 feed해 노드 클래스 예측\n",
    "\n",
    "Each graph convolutional layer added captures information from a further level of neighbours. However, adding many graph convolutional layer can cause oversmoothing, where the model produces similar embeddings for all the nodes.\n",
    "- 각 그래프 컨볼루션 레이어는 더 높은 수준의 이웃으로부터 정보를 capture한다. 하지만 그래프 컨볼루션 레이어를 많이 추가하는 것은 모델이 모든 노드에 대해 유사한 임베딩을 생성하는 oversmoothing을 야기할 수 있다. \n",
    "\n",
    "Note that the graph_info passed to the constructor of the Keras model, and used as a property of the Keras model object, rather than input data for training or prediction. The model will accept a batch of node_indices, which are used to lookup the node features and neighbours from the graph_info.\n",
    "- graph_info는 케라스 모델의 condtructor에게 전달되며, 훈련이나 예측을 위한 입력 데이터보다는 케라스모델 개체의 속성으로 사용된다. 모델은 graph_info에서 노드 특징과 이웃을 lookup하는데 사용되는 node_indices의 배치를 수용한다."
   ]
  },
  {
   "cell_type": "code",
   "execution_count": 123,
   "id": "adb990ec-2fa0-4987-a9ff-fb4a0447113f",
   "metadata": {},
   "outputs": [
    {
     "data": {
      "text/plain": [
       "(array([], dtype=int64),)"
      ]
     },
     "execution_count": 123,
     "metadata": {},
     "output_type": "execute_result"
    }
   ],
   "source": [
    "np.where(edge_weights!=1)"
   ]
  },
  {
   "cell_type": "code",
   "execution_count": 39,
   "id": "ef5b58e3-e29b-44cb-bb56-bf567fbc23b7",
   "metadata": {},
   "outputs": [],
   "source": [
    "class GNNNodeClassifier(tf.keras.Model):\n",
    "    def __init__(\n",
    "        self,\n",
    "        graph_info,\n",
    "        num_classes,\n",
    "        hidden_units,\n",
    "        aggregation_type=\"sum\",\n",
    "        combination_type=\"concat\",\n",
    "        dropout_rate=0.2,\n",
    "        normalize=True,\n",
    "        *args,\n",
    "        **kwargs,\n",
    "    ):\n",
    "        super(GNNNodeClassifier, self).__init__(*args, **kwargs)\n",
    "\n",
    "        # Unpack graph_info to three elements: node_features, edges, and edge_weight.\n",
    "        node_features, edges, edge_weights = graph_info\n",
    "        self.node_features = node_features\n",
    "        self.edges = edges\n",
    "        self.edge_weights = edge_weights\n",
    "        # Set edge_weights to ones if not provided.\n",
    "        if self.edge_weights is None:\n",
    "            self.edge_weights = tf.ones(shape=edges.shape[1])\n",
    "        # Scale edge_weights to sum to 1.\n",
    "        self.edge_weights = self.edge_weights / tf.math.reduce_sum(self.edge_weights)\n",
    "\n",
    "        # Create a process layer.\n",
    "        self.preprocess = create_ffn(hidden_units, dropout_rate, name=\"preprocess\")\n",
    "        # Create the first GraphConv layer.\n",
    "        self.conv1 = GraphConvLayer(\n",
    "            hidden_units,\n",
    "            dropout_rate,\n",
    "            aggregation_type,\n",
    "            combination_type,\n",
    "            normalize,\n",
    "            name=\"graph_conv1\",\n",
    "        )\n",
    "        # Create the second GraphConv layer.\n",
    "        self.conv2 = GraphConvLayer(\n",
    "            hidden_units,\n",
    "            dropout_rate,\n",
    "            aggregation_type,\n",
    "            combination_type,\n",
    "            normalize,\n",
    "            name=\"graph_conv2\",\n",
    "        )\n",
    "        # Create a postprocess layer.\n",
    "        self.postprocess = create_ffn(hidden_units, dropout_rate, name=\"postprocess\")\n",
    "        # Create a compute logits layer.\n",
    "        self.compute_logits = layers.Dense(units=num_classes, name=\"logits\")\n",
    "\n",
    "    def call(self, input_node_indices):\n",
    "        # Preprocess the node_features to produce node representations.\n",
    "        x = self.preprocess(self.node_features)\n",
    "        # Apply the first graph conv layer.\n",
    "        x1 = self.conv1((x, self.edges, self.edge_weights))\n",
    "        # Skip connection.\n",
    "        x = x1 + x\n",
    "        # Apply the second graph conv layer.\n",
    "        x2 = self.conv2((x, self.edges, self.edge_weights))\n",
    "        # Skip connection.\n",
    "        x = x2 + x\n",
    "        # Postprocess node embedding.\n",
    "        x = self.postprocess(x)\n",
    "        # Fetch node embeddings for the input node_indices.\n",
    "        node_embeddings = tf.gather(x, input_node_indices)\n",
    "        # Compute logits\n",
    "        return self.compute_logits(node_embeddings)"
   ]
  },
  {
   "cell_type": "code",
   "execution_count": 144,
   "id": "6858f772-3328-4c06-989d-bc21ead8cba5",
   "metadata": {},
   "outputs": [
    {
     "data": {
      "text/plain": [
       "<tf.Tensor: shape=(2708, 32), dtype=float32, numpy=\n",
       "array([[-0.0438415 ,  0.05822259,  0.01784638, ...,  0.01314815,\n",
       "        -0.00288184, -0.00842262],\n",
       "       [ 0.02056418,  0.04523989, -0.05037253, ...,  0.0137684 ,\n",
       "         0.05119981, -0.0328092 ],\n",
       "       [ 0.02786589, -0.02156354,  0.01393338, ...,  0.01485734,\n",
       "         0.0336243 ,  0.01253645],\n",
       "       ...,\n",
       "       [-0.00390293,  0.02580145, -0.05101755, ...,  0.07115817,\n",
       "         0.03063959, -0.04158287],\n",
       "       [-0.02493567, -0.00982335, -0.05645709, ...,  0.08836337,\n",
       "         0.0315274 , -0.00958259],\n",
       "       [-0.03271731, -0.02948607, -0.03748903, ..., -0.01709204,\n",
       "        -0.02062779,  0.01670217]], dtype=float32)>"
      ]
     },
     "execution_count": 144,
     "metadata": {},
     "output_type": "execute_result"
    }
   ],
   "source": [
    "create_ffn(hidden_units, dropout_rate, name=\"postprocess\")(node_features)"
   ]
  },
  {
   "cell_type": "markdown",
   "id": "97cdfca1-c836-4aea-a9e5-e00a92723543",
   "metadata": {},
   "source": [
    "---"
   ]
  },
  {
   "cell_type": "code",
   "execution_count": 124,
   "id": "065719c3-448a-478a-9332-680b03e6a791",
   "metadata": {},
   "outputs": [],
   "source": [
    "params = tf.constant(['p0', 'p1', 'p2', 'p3', 'p4', 'p5'])"
   ]
  },
  {
   "cell_type": "code",
   "execution_count": 131,
   "id": "c261512e-810a-4c75-8aa7-fd7d4f644183",
   "metadata": {},
   "outputs": [
    {
     "data": {
      "text/plain": [
       "tensorflow.python.framework.ops.EagerTensor"
      ]
     },
     "execution_count": 131,
     "metadata": {},
     "output_type": "execute_result"
    }
   ],
   "source": [
    "type(params)"
   ]
  },
  {
   "cell_type": "code",
   "execution_count": 125,
   "id": "30cb9e19-2896-4326-8351-a026f4418fbd",
   "metadata": {},
   "outputs": [
    {
     "data": {
      "text/plain": [
       "b'p3'"
      ]
     },
     "execution_count": 125,
     "metadata": {},
     "output_type": "execute_result"
    }
   ],
   "source": [
    "params[3].numpy()"
   ]
  },
  {
   "cell_type": "code",
   "execution_count": 126,
   "id": "61d1292b-9461-4685-b54a-839c0322ecd5",
   "metadata": {},
   "outputs": [
    {
     "data": {
      "text/plain": [
       "b'p3'"
      ]
     },
     "execution_count": 126,
     "metadata": {},
     "output_type": "execute_result"
    }
   ],
   "source": [
    "tf.gather(params, 3).numpy()"
   ]
  },
  {
   "cell_type": "markdown",
   "id": "8e4c330c-7f6e-438b-a1e8-86d73b8736ef",
   "metadata": {},
   "source": [
    "---"
   ]
  },
  {
   "cell_type": "markdown",
   "id": "443a0d89-1a60-4f62-a76c-eebe9c9131b8",
   "metadata": {
    "tags": []
   },
   "source": [
    "### Train the GNN model"
   ]
  },
  {
   "cell_type": "markdown",
   "id": "55b7b986-1620-47d0-b82f-2cee883031c3",
   "metadata": {},
   "source": [
    "Let's test instantiating and calling the GNN model. Notice that if you provide N node indices, the output will be a tensor of shape [N, num_classes], regardless of the size of the graph.\n",
    "- GNN 모델을 인스턴스화하고 호출하는 것을 테스트한다. N개의 node indices를 주면 결과는 그래프의 크기에 관계없이 n by class수 모양의 tensor가 될 것이다."
   ]
  },
  {
   "cell_type": "code",
   "execution_count": 40,
   "id": "6d8cfb1d-14ca-4345-81ca-3d3a2bc3b8b7",
   "metadata": {},
   "outputs": [
    {
     "name": "stdout",
     "output_type": "stream",
     "text": [
      "GNN output shape: tf.Tensor(\n",
      "[[-0.02350981 -0.14313753 -0.07081249 -0.11289644  0.14993845  0.0873058\n",
      "  -0.01819227]\n",
      " [-0.04401194  0.10897765 -0.00774123  0.0819732   0.01297503  0.0841588\n",
      "   0.08213045]\n",
      " [-0.01202856  0.14770731 -0.08484578 -0.02777675  0.05898174  0.10339345\n",
      "   0.03408212]], shape=(3, 7), dtype=float32)\n",
      "Model: \"gnn_model\"\n",
      "_________________________________________________________________\n",
      " Layer (type)                Output Shape              Param #   \n",
      "=================================================================\n",
      " preprocess (Sequential)     (2708, 32)                52804     \n",
      "                                                                 \n",
      " graph_conv1 (GraphConvLayer  multiple                 5888      \n",
      " )                                                               \n",
      "                                                                 \n",
      " graph_conv2 (GraphConvLayer  multiple                 5888      \n",
      " )                                                               \n",
      "                                                                 \n",
      " postprocess (Sequential)    (2708, 32)                2368      \n",
      "                                                                 \n",
      " logits (Dense)              multiple                  231       \n",
      "                                                                 \n",
      "=================================================================\n",
      "Total params: 67,179\n",
      "Trainable params: 63,481\n",
      "Non-trainable params: 3,698\n",
      "_________________________________________________________________\n"
     ]
    }
   ],
   "source": [
    "gnn_model = GNNNodeClassifier(\n",
    "    graph_info=graph_info,\n",
    "    num_classes=num_classes,\n",
    "    hidden_units=hidden_units,\n",
    "    dropout_rate=dropout_rate,\n",
    "    name=\"gnn_model\",\n",
    ")\n",
    "\n",
    "print(\"GNN output shape:\", gnn_model([1, 10, 100]))\n",
    "\n",
    "gnn_model.summary()"
   ]
  },
  {
   "cell_type": "markdown",
   "id": "b104e8e9-2529-48a4-b6e3-ab2f3c185c3f",
   "metadata": {},
   "source": [
    "Note that we use the standard supervised cross-entropy loss to train the model. However, we can add another self-supervised loss term for the generated node embeddings that makes sure that neighbouring nodes in graph have similar representations, while faraway nodes have dissimilar representations.\n",
    "- 모델 학습을 위해 cross-entropy loss 이용. 하지만 생성된 node embedding에 대해 또다른 자체 supervised loss term을 추가할 수 있다. 여기서 멀리 있는 노드들은 서로다른 표현을 가지는동안 그래프에 이웃한 노드들은 유사한 표현을 가지고 있다."
   ]
  },
  {
   "cell_type": "markdown",
   "id": "c176e947-b6c7-4454-9aff-907408c0c4aa",
   "metadata": {},
   "source": [
    "임베딩하는 함수가 representation이라고 보면 될듯"
   ]
  },
  {
   "cell_type": "code",
   "execution_count": 41,
   "id": "8fabff55-f3f3-47a6-ae90-6b51b0028cbf",
   "metadata": {
    "scrolled": true,
    "tags": []
   },
   "outputs": [
    {
     "name": "stdout",
     "output_type": "stream",
     "text": [
      "Epoch 1/300\n",
      "5/5 [==============================] - 3s 139ms/step - loss: 2.2355 - acc: 0.1854 - val_loss: 1.8983 - val_acc: 0.3333\n",
      "Epoch 2/300\n",
      "5/5 [==============================] - 0s 68ms/step - loss: 2.0095 - acc: 0.2557 - val_loss: 1.8857 - val_acc: 0.3383\n",
      "Epoch 3/300\n",
      "5/5 [==============================] - 0s 70ms/step - loss: 1.9142 - acc: 0.2627 - val_loss: 1.8813 - val_acc: 0.3383\n",
      "Epoch 4/300\n",
      "5/5 [==============================] - 0s 73ms/step - loss: 1.8759 - acc: 0.2715 - val_loss: 1.8771 - val_acc: 0.3383\n",
      "Epoch 5/300\n",
      "5/5 [==============================] - 0s 74ms/step - loss: 1.8869 - acc: 0.2680 - val_loss: 1.8708 - val_acc: 0.3731\n",
      "Epoch 6/300\n",
      "5/5 [==============================] - 0s 70ms/step - loss: 1.8471 - acc: 0.2856 - val_loss: 1.8615 - val_acc: 0.3682\n",
      "Epoch 7/300\n",
      "5/5 [==============================] - 0s 71ms/step - loss: 1.8296 - acc: 0.2961 - val_loss: 1.8465 - val_acc: 0.3682\n",
      "Epoch 8/300\n",
      "5/5 [==============================] - 0s 71ms/step - loss: 1.8378 - acc: 0.2926 - val_loss: 1.8316 - val_acc: 0.3632\n",
      "Epoch 9/300\n",
      "5/5 [==============================] - 0s 71ms/step - loss: 1.8211 - acc: 0.2979 - val_loss: 1.8128 - val_acc: 0.3781\n",
      "Epoch 10/300\n",
      "5/5 [==============================] - 0s 74ms/step - loss: 1.7868 - acc: 0.3207 - val_loss: 1.7859 - val_acc: 0.4179\n",
      "Epoch 11/300\n",
      "5/5 [==============================] - 0s 71ms/step - loss: 1.7429 - acc: 0.3374 - val_loss: 1.7466 - val_acc: 0.4328\n",
      "Epoch 12/300\n",
      "5/5 [==============================] - 0s 69ms/step - loss: 1.7138 - acc: 0.3656 - val_loss: 1.6900 - val_acc: 0.4229\n",
      "Epoch 13/300\n",
      "5/5 [==============================] - 0s 72ms/step - loss: 1.6644 - acc: 0.3770 - val_loss: 1.6125 - val_acc: 0.4030\n",
      "Epoch 14/300\n",
      "5/5 [==============================] - 0s 71ms/step - loss: 1.6029 - acc: 0.4104 - val_loss: 1.5857 - val_acc: 0.4030\n",
      "Epoch 15/300\n",
      "5/5 [==============================] - 0s 73ms/step - loss: 1.5503 - acc: 0.4236 - val_loss: 1.5459 - val_acc: 0.4129\n",
      "Epoch 16/300\n",
      "5/5 [==============================] - 0s 70ms/step - loss: 1.4816 - acc: 0.4569 - val_loss: 1.4324 - val_acc: 0.4428\n",
      "Epoch 17/300\n",
      "5/5 [==============================] - 0s 70ms/step - loss: 1.4676 - acc: 0.4552 - val_loss: 1.2982 - val_acc: 0.4826\n",
      "Epoch 18/300\n",
      "5/5 [==============================] - 0s 76ms/step - loss: 1.4153 - acc: 0.4912 - val_loss: 1.1818 - val_acc: 0.5622\n",
      "Epoch 19/300\n",
      "5/5 [==============================] - 0s 74ms/step - loss: 1.3781 - acc: 0.4965 - val_loss: 1.1396 - val_acc: 0.5821\n",
      "Epoch 20/300\n",
      "5/5 [==============================] - 0s 73ms/step - loss: 1.3679 - acc: 0.4982 - val_loss: 1.1260 - val_acc: 0.5622\n",
      "Epoch 21/300\n",
      "5/5 [==============================] - 0s 74ms/step - loss: 1.3385 - acc: 0.5062 - val_loss: 1.1139 - val_acc: 0.5622\n",
      "Epoch 22/300\n",
      "5/5 [==============================] - 0s 73ms/step - loss: 1.2494 - acc: 0.5387 - val_loss: 1.1030 - val_acc: 0.5473\n",
      "Epoch 23/300\n",
      "5/5 [==============================] - 0s 73ms/step - loss: 1.2325 - acc: 0.5571 - val_loss: 1.1379 - val_acc: 0.5672\n",
      "Epoch 24/300\n",
      "5/5 [==============================] - 0s 69ms/step - loss: 1.2194 - acc: 0.5369 - val_loss: 1.1325 - val_acc: 0.5672\n",
      "Epoch 25/300\n",
      "5/5 [==============================] - 0s 71ms/step - loss: 1.1638 - acc: 0.5835 - val_loss: 1.1690 - val_acc: 0.5721\n",
      "Epoch 26/300\n",
      "5/5 [==============================] - 0s 70ms/step - loss: 1.1644 - acc: 0.5844 - val_loss: 1.0896 - val_acc: 0.6020\n",
      "Epoch 27/300\n",
      "5/5 [==============================] - 0s 72ms/step - loss: 1.1679 - acc: 0.5598 - val_loss: 1.0896 - val_acc: 0.6020\n",
      "Epoch 28/300\n",
      "5/5 [==============================] - 0s 71ms/step - loss: 1.0977 - acc: 0.6019 - val_loss: 1.1027 - val_acc: 0.5970\n",
      "Epoch 29/300\n",
      "5/5 [==============================] - 0s 77ms/step - loss: 1.0916 - acc: 0.5800 - val_loss: 1.1809 - val_acc: 0.6119\n",
      "Epoch 30/300\n",
      "5/5 [==============================] - 0s 72ms/step - loss: 1.0410 - acc: 0.6142 - val_loss: 1.2276 - val_acc: 0.6119\n",
      "Epoch 31/300\n",
      "5/5 [==============================] - 0s 68ms/step - loss: 1.0477 - acc: 0.6107 - val_loss: 1.1609 - val_acc: 0.5771\n",
      "Epoch 32/300\n",
      "5/5 [==============================] - 0s 67ms/step - loss: 1.0370 - acc: 0.6257 - val_loss: 1.2113 - val_acc: 0.5771\n",
      "Epoch 33/300\n",
      "5/5 [==============================] - 0s 70ms/step - loss: 0.9868 - acc: 0.6450 - val_loss: 1.1156 - val_acc: 0.5821\n",
      "Epoch 34/300\n",
      "5/5 [==============================] - 0s 72ms/step - loss: 0.9603 - acc: 0.6406 - val_loss: 0.9833 - val_acc: 0.6318\n",
      "Epoch 35/300\n",
      "5/5 [==============================] - 0s 73ms/step - loss: 0.9757 - acc: 0.6344 - val_loss: 0.9505 - val_acc: 0.6667\n",
      "Epoch 36/300\n",
      "5/5 [==============================] - 0s 77ms/step - loss: 0.9789 - acc: 0.6327 - val_loss: 0.9336 - val_acc: 0.7065\n",
      "Epoch 37/300\n",
      "5/5 [==============================] - 0s 69ms/step - loss: 0.9378 - acc: 0.6467 - val_loss: 0.9449 - val_acc: 0.7015\n",
      "Epoch 38/300\n",
      "5/5 [==============================] - 0s 69ms/step - loss: 0.9081 - acc: 0.6573 - val_loss: 0.9561 - val_acc: 0.6866\n",
      "Epoch 39/300\n",
      "5/5 [==============================] - 0s 72ms/step - loss: 0.9292 - acc: 0.6459 - val_loss: 0.9351 - val_acc: 0.6816\n",
      "Epoch 40/300\n",
      "5/5 [==============================] - 0s 73ms/step - loss: 0.9230 - acc: 0.6608 - val_loss: 0.9369 - val_acc: 0.6716\n",
      "Epoch 41/300\n",
      "5/5 [==============================] - 0s 71ms/step - loss: 0.9179 - acc: 0.6591 - val_loss: 0.9174 - val_acc: 0.6965\n",
      "Epoch 42/300\n",
      "5/5 [==============================] - 0s 72ms/step - loss: 0.8248 - acc: 0.7118 - val_loss: 0.9092 - val_acc: 0.7562\n",
      "Epoch 43/300\n",
      "5/5 [==============================] - 0s 68ms/step - loss: 0.8294 - acc: 0.6880 - val_loss: 0.8829 - val_acc: 0.7114\n",
      "Epoch 44/300\n",
      "5/5 [==============================] - 0s 69ms/step - loss: 0.8499 - acc: 0.6819 - val_loss: 0.8698 - val_acc: 0.6816\n",
      "Epoch 45/300\n",
      "5/5 [==============================] - 0s 69ms/step - loss: 0.8064 - acc: 0.7056 - val_loss: 0.8619 - val_acc: 0.7114\n",
      "Epoch 46/300\n",
      "5/5 [==============================] - 0s 69ms/step - loss: 0.7932 - acc: 0.7056 - val_loss: 0.8386 - val_acc: 0.7463\n",
      "Epoch 47/300\n",
      "5/5 [==============================] - 0s 72ms/step - loss: 0.8040 - acc: 0.7012 - val_loss: 0.8106 - val_acc: 0.7512\n",
      "Epoch 48/300\n",
      "5/5 [==============================] - 0s 69ms/step - loss: 0.7616 - acc: 0.7179 - val_loss: 0.8140 - val_acc: 0.7363\n",
      "Epoch 49/300\n",
      "5/5 [==============================] - 0s 75ms/step - loss: 0.7658 - acc: 0.7135 - val_loss: 0.8099 - val_acc: 0.7612\n",
      "Epoch 50/300\n",
      "5/5 [==============================] - 0s 72ms/step - loss: 0.7347 - acc: 0.7206 - val_loss: 0.7884 - val_acc: 0.7413\n",
      "Epoch 51/300\n",
      "5/5 [==============================] - 0s 71ms/step - loss: 0.7330 - acc: 0.7232 - val_loss: 0.8007 - val_acc: 0.7313\n",
      "Epoch 52/300\n",
      "5/5 [==============================] - 0s 72ms/step - loss: 0.7384 - acc: 0.7337 - val_loss: 0.7356 - val_acc: 0.7711\n",
      "Epoch 53/300\n",
      "5/5 [==============================] - 0s 76ms/step - loss: 0.7356 - acc: 0.7548 - val_loss: 0.7371 - val_acc: 0.7811\n",
      "Epoch 54/300\n",
      "5/5 [==============================] - 0s 74ms/step - loss: 0.7411 - acc: 0.7469 - val_loss: 0.7933 - val_acc: 0.7612\n",
      "Epoch 55/300\n",
      "5/5 [==============================] - 0s 76ms/step - loss: 0.7421 - acc: 0.7329 - val_loss: 0.7394 - val_acc: 0.7960\n",
      "Epoch 56/300\n",
      "5/5 [==============================] - 0s 73ms/step - loss: 0.6863 - acc: 0.7715 - val_loss: 0.7468 - val_acc: 0.7861\n",
      "Epoch 57/300\n",
      "5/5 [==============================] - 0s 70ms/step - loss: 0.6877 - acc: 0.7680 - val_loss: 0.7253 - val_acc: 0.7861\n",
      "Epoch 58/300\n",
      "5/5 [==============================] - 0s 73ms/step - loss: 0.6847 - acc: 0.7627 - val_loss: 0.6664 - val_acc: 0.8060\n",
      "Epoch 59/300\n",
      "5/5 [==============================] - 0s 72ms/step - loss: 0.6929 - acc: 0.7663 - val_loss: 0.6754 - val_acc: 0.8010\n",
      "Epoch 60/300\n",
      "5/5 [==============================] - 0s 69ms/step - loss: 0.6269 - acc: 0.7856 - val_loss: 0.7156 - val_acc: 0.7562\n",
      "Epoch 61/300\n",
      "5/5 [==============================] - 0s 69ms/step - loss: 0.6250 - acc: 0.7847 - val_loss: 0.7663 - val_acc: 0.7363\n",
      "Epoch 62/300\n",
      "5/5 [==============================] - 0s 71ms/step - loss: 0.6221 - acc: 0.7909 - val_loss: 0.8174 - val_acc: 0.7413\n",
      "Epoch 63/300\n",
      "5/5 [==============================] - 0s 70ms/step - loss: 0.6076 - acc: 0.7926 - val_loss: 0.7403 - val_acc: 0.7512\n",
      "Epoch 64/300\n",
      "5/5 [==============================] - 0s 68ms/step - loss: 0.6365 - acc: 0.7821 - val_loss: 0.6872 - val_acc: 0.7612\n",
      "Epoch 65/300\n",
      "5/5 [==============================] - 0s 70ms/step - loss: 0.6273 - acc: 0.7856 - val_loss: 0.7073 - val_acc: 0.7512\n",
      "Epoch 66/300\n",
      "5/5 [==============================] - 0s 71ms/step - loss: 0.5974 - acc: 0.8023 - val_loss: 0.7585 - val_acc: 0.7662\n",
      "Epoch 67/300\n",
      "5/5 [==============================] - 0s 70ms/step - loss: 0.6100 - acc: 0.7891 - val_loss: 0.7704 - val_acc: 0.7662\n",
      "Epoch 68/300\n",
      "5/5 [==============================] - 0s 70ms/step - loss: 0.5933 - acc: 0.8014 - val_loss: 0.7405 - val_acc: 0.7562\n",
      "Epoch 69/300\n",
      "5/5 [==============================] - 0s 68ms/step - loss: 0.5849 - acc: 0.7970 - val_loss: 0.6667 - val_acc: 0.7711\n",
      "Epoch 70/300\n",
      "5/5 [==============================] - 0s 69ms/step - loss: 0.6110 - acc: 0.7953 - val_loss: 0.6119 - val_acc: 0.8010\n",
      "Epoch 71/300\n",
      "5/5 [==============================] - 0s 69ms/step - loss: 0.6197 - acc: 0.7953 - val_loss: 0.6182 - val_acc: 0.8060\n",
      "Epoch 72/300\n",
      "5/5 [==============================] - 0s 76ms/step - loss: 0.5563 - acc: 0.8137 - val_loss: 0.6370 - val_acc: 0.7612\n",
      "Epoch 73/300\n",
      "5/5 [==============================] - 0s 73ms/step - loss: 0.5930 - acc: 0.8146 - val_loss: 0.6365 - val_acc: 0.7761\n",
      "Epoch 74/300\n",
      "5/5 [==============================] - 0s 70ms/step - loss: 0.5547 - acc: 0.8225 - val_loss: 0.6313 - val_acc: 0.7811\n",
      "Epoch 75/300\n",
      "5/5 [==============================] - 0s 66ms/step - loss: 0.5407 - acc: 0.8181 - val_loss: 0.6463 - val_acc: 0.7761\n",
      "Epoch 76/300\n",
      "5/5 [==============================] - 0s 68ms/step - loss: 0.6056 - acc: 0.8032 - val_loss: 0.6537 - val_acc: 0.7711\n",
      "Epoch 77/300\n",
      "5/5 [==============================] - 0s 68ms/step - loss: 0.5634 - acc: 0.7944 - val_loss: 0.6527 - val_acc: 0.7861\n",
      "Epoch 78/300\n",
      "5/5 [==============================] - 0s 69ms/step - loss: 0.5851 - acc: 0.8128 - val_loss: 0.6477 - val_acc: 0.8010\n",
      "Epoch 79/300\n",
      "5/5 [==============================] - 0s 68ms/step - loss: 0.5256 - acc: 0.8278 - val_loss: 0.6219 - val_acc: 0.8060\n",
      "Epoch 80/300\n",
      "5/5 [==============================] - 0s 69ms/step - loss: 0.5755 - acc: 0.8190 - val_loss: 0.6343 - val_acc: 0.8010\n",
      "Epoch 81/300\n",
      "5/5 [==============================] - 0s 70ms/step - loss: 0.5609 - acc: 0.8146 - val_loss: 0.6138 - val_acc: 0.8259\n",
      "Epoch 82/300\n",
      "5/5 [==============================] - 0s 68ms/step - loss: 0.5335 - acc: 0.8181 - val_loss: 0.6124 - val_acc: 0.8159\n",
      "Epoch 83/300\n",
      "5/5 [==============================] - 0s 69ms/step - loss: 0.5298 - acc: 0.8339 - val_loss: 0.6477 - val_acc: 0.8209\n",
      "Epoch 84/300\n",
      "5/5 [==============================] - 0s 73ms/step - loss: 0.4999 - acc: 0.8383 - val_loss: 0.7449 - val_acc: 0.7960\n",
      "Epoch 85/300\n",
      "5/5 [==============================] - 0s 71ms/step - loss: 0.4961 - acc: 0.8251 - val_loss: 0.7102 - val_acc: 0.7960\n",
      "Epoch 86/300\n",
      "5/5 [==============================] - 0s 71ms/step - loss: 0.5160 - acc: 0.8269 - val_loss: 0.6693 - val_acc: 0.8209\n",
      "Epoch 87/300\n",
      "5/5 [==============================] - 0s 69ms/step - loss: 0.5062 - acc: 0.8304 - val_loss: 0.6265 - val_acc: 0.8259\n",
      "Epoch 88/300\n",
      "5/5 [==============================] - 0s 71ms/step - loss: 0.5258 - acc: 0.8322 - val_loss: 0.6261 - val_acc: 0.8209\n",
      "Epoch 89/300\n",
      "5/5 [==============================] - 0s 71ms/step - loss: 0.5107 - acc: 0.8251 - val_loss: 0.6102 - val_acc: 0.8060\n",
      "Epoch 90/300\n",
      "5/5 [==============================] - 0s 68ms/step - loss: 0.5441 - acc: 0.8313 - val_loss: 0.6589 - val_acc: 0.7861\n",
      "Epoch 91/300\n",
      "5/5 [==============================] - 0s 70ms/step - loss: 0.4943 - acc: 0.8401 - val_loss: 0.7493 - val_acc: 0.7463\n",
      "Epoch 92/300\n",
      "5/5 [==============================] - 0s 69ms/step - loss: 0.5079 - acc: 0.8374 - val_loss: 0.7057 - val_acc: 0.7960\n",
      "Epoch 93/300\n",
      "5/5 [==============================] - 0s 69ms/step - loss: 0.4725 - acc: 0.8366 - val_loss: 0.6724 - val_acc: 0.8060\n",
      "Epoch 94/300\n",
      "5/5 [==============================] - 0s 69ms/step - loss: 0.4480 - acc: 0.8524 - val_loss: 0.6837 - val_acc: 0.8060\n",
      "Epoch 95/300\n",
      "5/5 [==============================] - 0s 68ms/step - loss: 0.4878 - acc: 0.8427 - val_loss: 0.6784 - val_acc: 0.8109\n",
      "Epoch 96/300\n",
      "5/5 [==============================] - 0s 72ms/step - loss: 0.4720 - acc: 0.8489 - val_loss: 0.6529 - val_acc: 0.8209\n",
      "Epoch 97/300\n",
      "5/5 [==============================] - 0s 71ms/step - loss: 0.4932 - acc: 0.8427 - val_loss: 0.5654 - val_acc: 0.8458\n",
      "Epoch 98/300\n",
      "5/5 [==============================] - 0s 74ms/step - loss: 0.4970 - acc: 0.8366 - val_loss: 0.5442 - val_acc: 0.8507\n",
      "Epoch 99/300\n",
      "5/5 [==============================] - 0s 70ms/step - loss: 0.4280 - acc: 0.8647 - val_loss: 0.5486 - val_acc: 0.8458\n",
      "Epoch 100/300\n",
      "5/5 [==============================] - 0s 74ms/step - loss: 0.4695 - acc: 0.8401 - val_loss: 0.5635 - val_acc: 0.8358\n",
      "Epoch 101/300\n",
      "5/5 [==============================] - 0s 71ms/step - loss: 0.4648 - acc: 0.8471 - val_loss: 0.5786 - val_acc: 0.8209\n",
      "Epoch 102/300\n",
      "5/5 [==============================] - 0s 70ms/step - loss: 0.3968 - acc: 0.8656 - val_loss: 0.5666 - val_acc: 0.8358\n",
      "Epoch 103/300\n",
      "5/5 [==============================] - 0s 69ms/step - loss: 0.4732 - acc: 0.8480 - val_loss: 0.6226 - val_acc: 0.8010\n",
      "Epoch 104/300\n",
      "5/5 [==============================] - 0s 68ms/step - loss: 0.4544 - acc: 0.8409 - val_loss: 0.6143 - val_acc: 0.8060\n",
      "Epoch 105/300\n",
      "5/5 [==============================] - 0s 73ms/step - loss: 0.4545 - acc: 0.8533 - val_loss: 0.6580 - val_acc: 0.7960\n",
      "Epoch 106/300\n",
      "5/5 [==============================] - 0s 71ms/step - loss: 0.4729 - acc: 0.8366 - val_loss: 0.6247 - val_acc: 0.8010\n",
      "Epoch 107/300\n",
      "5/5 [==============================] - 0s 65ms/step - loss: 0.4750 - acc: 0.8559 - val_loss: 0.5879 - val_acc: 0.8159\n",
      "Epoch 108/300\n",
      "5/5 [==============================] - 0s 66ms/step - loss: 0.4618 - acc: 0.8533 - val_loss: 0.5577 - val_acc: 0.8358\n",
      "Epoch 109/300\n",
      "5/5 [==============================] - 0s 71ms/step - loss: 0.5050 - acc: 0.8453 - val_loss: 0.5592 - val_acc: 0.8308\n",
      "Epoch 110/300\n",
      "5/5 [==============================] - 0s 67ms/step - loss: 0.4195 - acc: 0.8506 - val_loss: 0.5738 - val_acc: 0.8259\n",
      "Epoch 111/300\n",
      "5/5 [==============================] - 0s 70ms/step - loss: 0.3991 - acc: 0.8699 - val_loss: 0.6001 - val_acc: 0.8109\n",
      "Epoch 112/300\n",
      "5/5 [==============================] - 0s 71ms/step - loss: 0.3951 - acc: 0.8682 - val_loss: 0.6510 - val_acc: 0.7960\n",
      "Epoch 113/300\n",
      "5/5 [==============================] - 0s 72ms/step - loss: 0.4472 - acc: 0.8603 - val_loss: 0.5704 - val_acc: 0.8209\n",
      "Epoch 114/300\n",
      "5/5 [==============================] - 0s 69ms/step - loss: 0.4540 - acc: 0.8471 - val_loss: 0.5490 - val_acc: 0.8458\n",
      "Epoch 115/300\n",
      "5/5 [==============================] - 0s 71ms/step - loss: 0.3941 - acc: 0.8717 - val_loss: 0.5140 - val_acc: 0.8706\n",
      "Epoch 116/300\n",
      "5/5 [==============================] - 0s 67ms/step - loss: 0.4336 - acc: 0.8673 - val_loss: 0.5042 - val_acc: 0.8657\n",
      "Epoch 117/300\n",
      "5/5 [==============================] - 0s 73ms/step - loss: 0.4300 - acc: 0.8594 - val_loss: 0.5178 - val_acc: 0.8458\n",
      "Epoch 118/300\n",
      "5/5 [==============================] - 0s 75ms/step - loss: 0.4303 - acc: 0.8559 - val_loss: 0.5148 - val_acc: 0.8408\n",
      "Epoch 119/300\n",
      "5/5 [==============================] - 0s 72ms/step - loss: 0.4049 - acc: 0.8629 - val_loss: 0.5273 - val_acc: 0.8458\n",
      "Epoch 120/300\n",
      "5/5 [==============================] - 0s 72ms/step - loss: 0.4769 - acc: 0.8453 - val_loss: 0.5245 - val_acc: 0.8557\n",
      "Epoch 121/300\n",
      "5/5 [==============================] - 0s 71ms/step - loss: 0.3611 - acc: 0.8849 - val_loss: 0.5467 - val_acc: 0.8358\n",
      "Epoch 122/300\n",
      "5/5 [==============================] - 0s 71ms/step - loss: 0.4252 - acc: 0.8594 - val_loss: 0.5487 - val_acc: 0.8308\n",
      "Epoch 123/300\n",
      "5/5 [==============================] - 0s 71ms/step - loss: 0.4046 - acc: 0.8735 - val_loss: 0.5029 - val_acc: 0.8507\n",
      "Epoch 124/300\n",
      "5/5 [==============================] - 0s 71ms/step - loss: 0.3548 - acc: 0.8884 - val_loss: 0.4951 - val_acc: 0.8507\n",
      "Epoch 125/300\n",
      "5/5 [==============================] - 0s 69ms/step - loss: 0.3974 - acc: 0.8673 - val_loss: 0.4943 - val_acc: 0.8507\n",
      "Epoch 126/300\n",
      "5/5 [==============================] - 0s 70ms/step - loss: 0.4330 - acc: 0.8533 - val_loss: 0.5000 - val_acc: 0.8557\n",
      "Epoch 127/300\n",
      "5/5 [==============================] - 0s 67ms/step - loss: 0.4539 - acc: 0.8471 - val_loss: 0.5242 - val_acc: 0.8308\n",
      "Epoch 128/300\n",
      "5/5 [==============================] - 0s 68ms/step - loss: 0.3966 - acc: 0.8779 - val_loss: 0.5912 - val_acc: 0.7960\n",
      "Epoch 129/300\n",
      "5/5 [==============================] - 0s 71ms/step - loss: 0.4607 - acc: 0.8559 - val_loss: 0.5765 - val_acc: 0.8060\n",
      "Epoch 130/300\n",
      "5/5 [==============================] - 0s 71ms/step - loss: 0.3771 - acc: 0.8735 - val_loss: 0.5548 - val_acc: 0.8109\n",
      "Epoch 131/300\n",
      "5/5 [==============================] - 0s 69ms/step - loss: 0.3991 - acc: 0.8752 - val_loss: 0.5746 - val_acc: 0.8308\n",
      "Epoch 132/300\n",
      "5/5 [==============================] - 0s 70ms/step - loss: 0.3933 - acc: 0.8814 - val_loss: 0.5789 - val_acc: 0.8408\n",
      "Epoch 133/300\n",
      "5/5 [==============================] - 0s 73ms/step - loss: 0.4072 - acc: 0.8673 - val_loss: 0.5648 - val_acc: 0.8358\n",
      "Epoch 134/300\n",
      "5/5 [==============================] - 0s 70ms/step - loss: 0.3914 - acc: 0.8787 - val_loss: 0.5582 - val_acc: 0.8308\n",
      "Epoch 135/300\n",
      "5/5 [==============================] - 0s 73ms/step - loss: 0.4140 - acc: 0.8682 - val_loss: 0.5574 - val_acc: 0.8259\n",
      "Epoch 136/300\n",
      "5/5 [==============================] - 0s 71ms/step - loss: 0.3780 - acc: 0.8779 - val_loss: 0.5653 - val_acc: 0.8259\n",
      "Epoch 137/300\n",
      "5/5 [==============================] - 0s 71ms/step - loss: 0.4287 - acc: 0.8647 - val_loss: 0.5731 - val_acc: 0.8209\n",
      "Epoch 138/300\n",
      "5/5 [==============================] - 0s 70ms/step - loss: 0.4121 - acc: 0.8779 - val_loss: 0.5711 - val_acc: 0.8159\n",
      "Epoch 139/300\n",
      "5/5 [==============================] - 0s 73ms/step - loss: 0.3734 - acc: 0.8708 - val_loss: 0.6066 - val_acc: 0.8308\n",
      "Epoch 140/300\n",
      "5/5 [==============================] - 0s 71ms/step - loss: 0.3994 - acc: 0.8647 - val_loss: 0.6184 - val_acc: 0.8159\n",
      "Epoch 141/300\n",
      "5/5 [==============================] - 0s 70ms/step - loss: 0.3957 - acc: 0.8761 - val_loss: 0.6093 - val_acc: 0.8259\n",
      "Epoch 142/300\n",
      "5/5 [==============================] - 0s 71ms/step - loss: 0.3754 - acc: 0.8787 - val_loss: 0.6111 - val_acc: 0.8209\n",
      "Epoch 143/300\n",
      "5/5 [==============================] - 0s 70ms/step - loss: 0.3586 - acc: 0.8858 - val_loss: 0.5911 - val_acc: 0.8259\n",
      "Epoch 144/300\n",
      "5/5 [==============================] - 0s 71ms/step - loss: 0.4130 - acc: 0.8647 - val_loss: 0.5874 - val_acc: 0.8209\n",
      "Epoch 145/300\n",
      "5/5 [==============================] - 0s 73ms/step - loss: 0.3788 - acc: 0.8699 - val_loss: 0.6148 - val_acc: 0.8259\n",
      "Epoch 146/300\n",
      "5/5 [==============================] - 0s 71ms/step - loss: 0.3757 - acc: 0.8770 - val_loss: 0.6078 - val_acc: 0.8209\n",
      "Epoch 147/300\n",
      "5/5 [==============================] - 0s 69ms/step - loss: 0.3877 - acc: 0.8726 - val_loss: 0.6795 - val_acc: 0.8010\n",
      "Epoch 148/300\n",
      "5/5 [==============================] - 0s 71ms/step - loss: 0.4309 - acc: 0.8708 - val_loss: 0.7197 - val_acc: 0.7811\n",
      "Epoch 149/300\n",
      "5/5 [==============================] - 0s 69ms/step - loss: 0.3693 - acc: 0.8822 - val_loss: 0.6785 - val_acc: 0.7910\n",
      "Epoch 150/300\n",
      "5/5 [==============================] - 0s 66ms/step - loss: 0.3686 - acc: 0.8743 - val_loss: 0.6047 - val_acc: 0.8259\n",
      "Epoch 151/300\n",
      "5/5 [==============================] - 0s 68ms/step - loss: 0.3965 - acc: 0.8752 - val_loss: 0.5650 - val_acc: 0.8109\n",
      "Epoch 152/300\n",
      "5/5 [==============================] - 0s 71ms/step - loss: 0.4158 - acc: 0.8752 - val_loss: 0.5551 - val_acc: 0.8259\n",
      "Epoch 153/300\n",
      "5/5 [==============================] - 0s 71ms/step - loss: 0.4360 - acc: 0.8603 - val_loss: 0.5485 - val_acc: 0.8259\n",
      "Epoch 154/300\n",
      "5/5 [==============================] - 0s 75ms/step - loss: 0.3752 - acc: 0.8735 - val_loss: 0.5558 - val_acc: 0.8209\n",
      "Epoch 155/300\n",
      "5/5 [==============================] - 0s 71ms/step - loss: 0.3680 - acc: 0.8902 - val_loss: 0.5846 - val_acc: 0.8209\n",
      "Epoch 156/300\n",
      "5/5 [==============================] - 0s 70ms/step - loss: 0.3885 - acc: 0.8805 - val_loss: 0.5997 - val_acc: 0.8259\n",
      "Epoch 157/300\n",
      "5/5 [==============================] - 0s 70ms/step - loss: 0.3671 - acc: 0.8902 - val_loss: 0.6293 - val_acc: 0.8358\n",
      "Epoch 158/300\n",
      "5/5 [==============================] - 0s 73ms/step - loss: 0.3779 - acc: 0.8814 - val_loss: 0.6208 - val_acc: 0.8308\n",
      "Epoch 159/300\n",
      "5/5 [==============================] - 0s 71ms/step - loss: 0.3459 - acc: 0.8928 - val_loss: 0.6138 - val_acc: 0.8159\n",
      "Epoch 160/300\n",
      "5/5 [==============================] - 0s 68ms/step - loss: 0.3787 - acc: 0.8875 - val_loss: 0.6500 - val_acc: 0.8010\n",
      "Epoch 161/300\n",
      "5/5 [==============================] - 0s 72ms/step - loss: 0.3264 - acc: 0.8989 - val_loss: 0.6400 - val_acc: 0.8060\n",
      "Epoch 162/300\n",
      "5/5 [==============================] - 0s 69ms/step - loss: 0.3465 - acc: 0.8981 - val_loss: 0.6258 - val_acc: 0.8209\n",
      "Epoch 163/300\n",
      "5/5 [==============================] - 0s 69ms/step - loss: 0.3846 - acc: 0.8849 - val_loss: 0.6045 - val_acc: 0.8159\n",
      "Epoch 164/300\n",
      "5/5 [==============================] - 0s 72ms/step - loss: 0.3830 - acc: 0.8805 - val_loss: 0.5844 - val_acc: 0.8308\n",
      "Epoch 165/300\n",
      "5/5 [==============================] - 0s 74ms/step - loss: 0.3937 - acc: 0.8735 - val_loss: 0.5720 - val_acc: 0.8109\n"
     ]
    }
   ],
   "source": [
    "x_train = train_data.paper_id.to_numpy()\n",
    "history = run_experiment(gnn_model, x_train, y_train)"
   ]
  },
  {
   "cell_type": "code",
   "execution_count": 42,
   "id": "b52c509f-78a7-414a-a3ba-01840099430a",
   "metadata": {},
   "outputs": [
    {
     "data": {
      "image/png": "[encoded data removed]",
      "text/plain": [
       "<Figure size 1080x360 with 2 Axes>"
      ]
     },
     "metadata": {
      "needs_background": "light"
     },
     "output_type": "display_data"
    }
   ],
   "source": [
    "display_learning_curves(history)"
   ]
  },
  {
   "cell_type": "markdown",
   "id": "78de3e50-e468-43d7-8f9f-309aff4a6a75",
   "metadata": {},
   "source": [
    "Now we evaluate the GNN model on the test data split. The results may vary depending on the training sample, however the GNN model always outperforms the baseline model in terms of the test accuracy.\n",
    "- 분할한 test 데이터에 GNN모델 평가. 결과는 훈련 샘플에 따라 달라질 수 있지만 GNN 모델은 항상 테스트 정확도의 면에서 기준모델을 능가한다."
   ]
  },
  {
   "cell_type": "code",
   "execution_count": 43,
   "id": "fdab9114-7f72-43c5-9f7d-7a527905b55f",
   "metadata": {},
   "outputs": [
    {
     "name": "stdout",
     "output_type": "stream",
     "text": [
      "Test accuracy: 82.25%\n"
     ]
    }
   ],
   "source": [
    "x_test = test_data.paper_id.to_numpy()\n",
    "_, test_accuracy = gnn_model.evaluate(x=x_test, y=y_test, verbose=0)\n",
    "print(f\"Test accuracy: {round(test_accuracy * 100, 2)}%\")"
   ]
  },
  {
   "cell_type": "markdown",
   "id": "7dbd8e5e-1240-428f-8720-75974914069a",
   "metadata": {},
   "source": [
    "Examine the GNN model predictions\n",
    "\n",
    "Let's add the new instances as nodes to the node_features, and generate links (citations) to existing nodes.\n",
    "- node_feature에 새로운 인스턴스 추가하고 기존노드에 인용연결 생성"
   ]
  },
  {
   "cell_type": "code",
   "execution_count": 44,
   "id": "6164079e-383b-4f90-ad8f-657b53064257",
   "metadata": {},
   "outputs": [],
   "source": [
    "# First we add the N new_instances as nodes to the graph\n",
    "# by appending the new_instance to node_features.\n",
    "num_nodes = node_features.shape[0]\n",
    "new_node_features = np.concatenate([node_features, new_instances])\n",
    "# Second we add the M edges (citations) from each new node to a set\n",
    "# of existing nodes in a particular subject\n",
    "new_node_indices = [i + num_nodes for i in range(num_classes)]\n",
    "new_citations = []\n",
    "for subject_idx, group in papers.groupby(\"subject\"):\n",
    "    subject_papers = list(group.paper_id)\n",
    "    # Select random x papers specific subject.\n",
    "    selected_paper_indices1 = np.random.choice(subject_papers, 5)\n",
    "    # Select random y papers from any subject (where y < x).\n",
    "    selected_paper_indices2 = np.random.choice(list(papers.paper_id), 2)\n",
    "    # Merge the selected paper indices.\n",
    "    selected_paper_indices = np.concatenate(\n",
    "        [selected_paper_indices1, selected_paper_indices2], axis=0\n",
    "    )\n",
    "    # Create edges between a citing paper idx and the selected cited papers.\n",
    "    citing_paper_indx = new_node_indices[subject_idx]\n",
    "    for cited_paper_idx in selected_paper_indices:\n",
    "        new_citations.append([citing_paper_indx, cited_paper_idx])\n",
    "\n",
    "new_citations = np.array(new_citations).T\n",
    "new_edges = np.concatenate([edges, new_citations], axis=1)\n"
   ]
  },
  {
   "cell_type": "markdown",
   "id": "112a936d-fd8b-484c-9c70-ac7db8e2575d",
   "metadata": {},
   "source": [
    "Now let's update the node_features and the edges in the GNN model."
   ]
  },
  {
   "cell_type": "code",
   "execution_count": 45,
   "id": "c30c739e-7164-4ccd-b40d-1bb12d66c3bd",
   "metadata": {},
   "outputs": [
    {
     "name": "stdout",
     "output_type": "stream",
     "text": [
      "Original node_features shape: (2708, 1433)\n",
      "Original edges shape: (2, 5429)\n",
      "New node_features shape: (2715, 1433)\n",
      "New edges shape: (2, 5478)\n",
      "Instance 1:\n",
      "- Case_Based: 52.17%\n",
      "- Genetic_Algorithms: 0.75%\n",
      "- Neural_Networks: 9.41%\n",
      "- Probabilistic_Methods: 17.1%\n",
      "- Reinforcement_Learning: 0.57%\n",
      "- Rule_Learning: 6.21%\n",
      "- Theory: 13.8%\n",
      "Instance 2:\n",
      "- Case_Based: 0.37%\n",
      "- Genetic_Algorithms: 90.15%\n",
      "- Neural_Networks: 2.64%\n",
      "- Probabilistic_Methods: 0.12%\n",
      "- Reinforcement_Learning: 6.43%\n",
      "- Rule_Learning: 0.17%\n",
      "- Theory: 0.11%\n",
      "Instance 3:\n",
      "- Case_Based: 0.16%\n",
      "- Genetic_Algorithms: 0.27%\n",
      "- Neural_Networks: 97.32%\n",
      "- Probabilistic_Methods: 1.05%\n",
      "- Reinforcement_Learning: 0.27%\n",
      "- Rule_Learning: 0.09%\n",
      "- Theory: 0.83%\n",
      "Instance 4:\n",
      "- Case_Based: 1.08%\n",
      "- Genetic_Algorithms: 0.27%\n",
      "- Neural_Networks: 18.55%\n",
      "- Probabilistic_Methods: 78.54%\n",
      "- Reinforcement_Learning: 0.34%\n",
      "- Rule_Learning: 0.19%\n",
      "- Theory: 1.03%\n",
      "Instance 5:\n",
      "- Case_Based: 9.18%\n",
      "- Genetic_Algorithms: 56.73%\n",
      "- Neural_Networks: 5.29%\n",
      "- Probabilistic_Methods: 1.33%\n",
      "- Reinforcement_Learning: 6.1%\n",
      "- Rule_Learning: 19.29%\n",
      "- Theory: 2.08%\n",
      "Instance 6:\n",
      "- Case_Based: 43.26%\n",
      "- Genetic_Algorithms: 14.25%\n",
      "- Neural_Networks: 8.86%\n",
      "- Probabilistic_Methods: 18.85%\n",
      "- Reinforcement_Learning: 3.8%\n",
      "- Rule_Learning: 6.89%\n",
      "- Theory: 4.08%\n",
      "Instance 7:\n",
      "- Case_Based: 86.88%\n",
      "- Genetic_Algorithms: 0.66%\n",
      "- Neural_Networks: 4.17%\n",
      "- Probabilistic_Methods: 2.43%\n",
      "- Reinforcement_Learning: 0.15%\n",
      "- Rule_Learning: 3.92%\n",
      "- Theory: 1.79%\n"
     ]
    }
   ],
   "source": [
    "print(\"Original node_features shape:\", gnn_model.node_features.shape)\n",
    "print(\"Original edges shape:\", gnn_model.edges.shape)\n",
    "gnn_model.node_features = new_node_features\n",
    "gnn_model.edges = new_edges\n",
    "gnn_model.edge_weights = tf.ones(shape=new_edges.shape[1])\n",
    "print(\"New node_features shape:\", gnn_model.node_features.shape)\n",
    "print(\"New edges shape:\", gnn_model.edges.shape)\n",
    "\n",
    "logits = gnn_model.predict(tf.convert_to_tensor(new_node_indices))\n",
    "probabilities = keras.activations.softmax(tf.convert_to_tensor(logits)).numpy()\n",
    "display_class_probabilities(probabilities)"
   ]
  }
 ],
 "metadata": {
  "kernelspec": {
   "display_name": "Python 3 (ipykernel)",
   "language": "python",
   "name": "python3"
  },
  "language_info": {
   "codemirror_mode": {
    "name": "ipython",
    "version": 3
   },
   "file_extension": ".py",
   "mimetype": "text/x-python",
   "name": "python",
   "nbconvert_exporter": "python",
   "pygments_lexer": "ipython3",
   "version": "3.8.12"
  }
 },
 "nbformat": 4,
 "nbformat_minor": 5
}
