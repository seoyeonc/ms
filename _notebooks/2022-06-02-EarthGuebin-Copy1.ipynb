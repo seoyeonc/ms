{
 "cells": [
  {
   "cell_type": "markdown",
   "id": "5fca747e-5d9f-444c-a480-76b77415edd4",
   "metadata": {
    "id": "cac470df-29e7-4148-9bbd-d8b9a32fa570",
    "tags": []
   },
   "source": [
    "# (guebin) Eearthquake\n",
    "> 시도1\n",
    "\n",
    "- toc:true\n",
    "- branch: master\n",
    "- badges: true\n",
    "- comments: false\n",
    "- author: 최서연, 최규빈"
   ]
  },
  {
   "cell_type": "markdown",
   "id": "572e82f3-c9ef-47f1-a3db-2b7a9f6149e8",
   "metadata": {},
   "source": [
    "### imports"
   ]
  },
  {
   "cell_type": "code",
   "execution_count": 70,
   "id": "f8630cda-e3f6-4431-8863-e89bf6d2ed4a",
   "metadata": {},
   "outputs": [],
   "source": [
    "import tqdm\n",
    "import numpy as np\n",
    "import pandas as pd \n",
    "import matplotlib.pyplot as plt \n",
    "import plotly.express as px\n",
    "import warnings\n",
    "warnings.simplefilter(\"ignore\", np.ComplexWarning)\n",
    "from haversine import haversine\n",
    "from IPython.display import HTML"
   ]
  },
  {
   "cell_type": "code",
   "execution_count": 45,
   "id": "3bc9e507-bfb4-4917-a4a5-93b3c2c02963",
   "metadata": {},
   "outputs": [
    {
     "data": {
      "text/html": [
       "<div>\n",
       "<style scoped>\n",
       "    .dataframe tbody tr th:only-of-type {\n",
       "        vertical-align: middle;\n",
       "    }\n",
       "\n",
       "    .dataframe tbody tr th {\n",
       "        vertical-align: top;\n",
       "    }\n",
       "\n",
       "    .dataframe thead th {\n",
       "        text-align: right;\n",
       "    }\n",
       "</style>\n",
       "<table border=\"1\" class=\"dataframe\">\n",
       "  <thead>\n",
       "    <tr style=\"text-align: right;\">\n",
       "      <th></th>\n",
       "      <th>순위</th>\n",
       "      <th>일자</th>\n",
       "      <th>장소</th>\n",
       "      <th>이름</th>\n",
       "      <th>규모</th>\n",
       "    </tr>\n",
       "  </thead>\n",
       "  <tbody>\n",
       "    <tr>\n",
       "      <th>0</th>\n",
       "      <td>1</td>\n",
       "      <td>1960년 5월 22일</td>\n",
       "      <td>칠레 발디비아</td>\n",
       "      <td>1960년 칠레 지진</td>\n",
       "      <td>9.4-9.6</td>\n",
       "    </tr>\n",
       "    <tr>\n",
       "      <th>1</th>\n",
       "      <td>2</td>\n",
       "      <td>1964년 3월 27일</td>\n",
       "      <td>미국 알래스카주 프린스윌리엄 만</td>\n",
       "      <td>1964년 알래스카 지진</td>\n",
       "      <td>9.2</td>\n",
       "    </tr>\n",
       "    <tr>\n",
       "      <th>2</th>\n",
       "      <td>3</td>\n",
       "      <td>2004년 12월 26일</td>\n",
       "      <td>인도네시아 수마트라섬</td>\n",
       "      <td>2004년 인도양 지진 해일</td>\n",
       "      <td>9.1-9.2</td>\n",
       "    </tr>\n",
       "    <tr>\n",
       "      <th>3</th>\n",
       "      <td>4</td>\n",
       "      <td>2011년 3월 11일</td>\n",
       "      <td>일본 산리쿠 해역</td>\n",
       "      <td>2011년 도호쿠 지방 태평양 앞바다 지진</td>\n",
       "      <td>9.1</td>\n",
       "    </tr>\n",
       "    <tr>\n",
       "      <th>4</th>\n",
       "      <td>5</td>\n",
       "      <td>1952년 11월 4일</td>\n",
       "      <td>소비에트 연방 캄차카반도</td>\n",
       "      <td>1952년 세베로쿠릴스크 지진</td>\n",
       "      <td>9.0</td>\n",
       "    </tr>\n",
       "    <tr>\n",
       "      <th>5</th>\n",
       "      <td>6 (공동)</td>\n",
       "      <td>1707년 10월 28일</td>\n",
       "      <td>일본 난카이도</td>\n",
       "      <td>1707년 호에이 지진</td>\n",
       "      <td>8.8 (추정)</td>\n",
       "    </tr>\n",
       "    <tr>\n",
       "      <th>6</th>\n",
       "      <td>6 (공동)</td>\n",
       "      <td>1833년 11월 25일</td>\n",
       "      <td>인도네시아(당시 네덜란드령 동인도 제도) 수마트라섬</td>\n",
       "      <td>1833년 수마트라 지진</td>\n",
       "      <td>8.8 (추정)</td>\n",
       "    </tr>\n",
       "    <tr>\n",
       "      <th>7</th>\n",
       "      <td>6 (공동)</td>\n",
       "      <td>1906년 1월 31일</td>\n",
       "      <td>에콰도르-콜롬비아 국경 지대</td>\n",
       "      <td>1906년 에콰도르-콜롬비아 지진</td>\n",
       "      <td>8.8</td>\n",
       "    </tr>\n",
       "    <tr>\n",
       "      <th>8</th>\n",
       "      <td>6 (공동)</td>\n",
       "      <td>2010년 2월 27일</td>\n",
       "      <td>칠레 마울레주 해역</td>\n",
       "      <td>2010년 칠레 지진</td>\n",
       "      <td>8.8</td>\n",
       "    </tr>\n",
       "  </tbody>\n",
       "</table>\n",
       "</div>"
      ],
      "text/plain": [
       "       순위             일자                            장소  \\\n",
       "0       1   1960년 5월 22일                       칠레 발디비아   \n",
       "1       2   1964년 3월 27일             미국 알래스카주 프린스윌리엄 만   \n",
       "2       3  2004년 12월 26일                   인도네시아 수마트라섬   \n",
       "3       4   2011년 3월 11일                     일본 산리쿠 해역   \n",
       "4       5   1952년 11월 4일                 소비에트 연방 캄차카반도   \n",
       "5  6 (공동)  1707년 10월 28일                       일본 난카이도   \n",
       "6  6 (공동)  1833년 11월 25일  인도네시아(당시 네덜란드령 동인도 제도) 수마트라섬   \n",
       "7  6 (공동)   1906년 1월 31일               에콰도르-콜롬비아 국경 지대   \n",
       "8  6 (공동)   2010년 2월 27일                    칠레 마울레주 해역   \n",
       "\n",
       "                        이름        규모  \n",
       "0              1960년 칠레 지진   9.4-9.6  \n",
       "1            1964년 알래스카 지진       9.2  \n",
       "2          2004년 인도양 지진 해일   9.1-9.2  \n",
       "3  2011년 도호쿠 지방 태평양 앞바다 지진       9.1  \n",
       "4         1952년 세베로쿠릴스크 지진       9.0  \n",
       "5             1707년 호에이 지진  8.8 (추정)  \n",
       "6            1833년 수마트라 지진  8.8 (추정)  \n",
       "7       1906년 에콰도르-콜롬비아 지진       8.8  \n",
       "8              2010년 칠레 지진       8.8  "
      ]
     },
     "execution_count": 45,
     "metadata": {},
     "output_type": "execute_result"
    }
   ],
   "source": [
    "pd.read_html('https://ko.wikipedia.org/wiki/%EC%A7%80%EC%A7%84_%EB%AA%A9%EB%A1%9D',encoding='utf-8')[1]"
   ]
  },
  {
   "cell_type": "code",
   "execution_count": 46,
   "id": "f9e30cff-af32-424f-b763-8cb6694b715f",
   "metadata": {},
   "outputs": [
    {
     "data": {
      "text/html": [
       "<div>\n",
       "<style scoped>\n",
       "    .dataframe tbody tr th:only-of-type {\n",
       "        vertical-align: middle;\n",
       "    }\n",
       "\n",
       "    .dataframe tbody tr th {\n",
       "        vertical-align: top;\n",
       "    }\n",
       "\n",
       "    .dataframe thead th {\n",
       "        text-align: right;\n",
       "    }\n",
       "</style>\n",
       "<table border=\"1\" class=\"dataframe\">\n",
       "  <thead>\n",
       "    <tr style=\"text-align: right;\">\n",
       "      <th></th>\n",
       "      <th>매그니튜드</th>\n",
       "      <th>2006년</th>\n",
       "      <th>2007년</th>\n",
       "      <th>2008년</th>\n",
       "      <th>2009년</th>\n",
       "      <th>2010년</th>\n",
       "      <th>2011년</th>\n",
       "      <th>2012년</th>\n",
       "      <th>2013년</th>\n",
       "      <th>2014년</th>\n",
       "      <th>2015년</th>\n",
       "      <th>2016년</th>\n",
       "    </tr>\n",
       "  </thead>\n",
       "  <tbody>\n",
       "    <tr>\n",
       "      <th>0</th>\n",
       "      <td>8.0–9.9</td>\n",
       "      <td>2</td>\n",
       "      <td>4</td>\n",
       "      <td>0</td>\n",
       "      <td>1</td>\n",
       "      <td>1</td>\n",
       "      <td>1</td>\n",
       "      <td>2</td>\n",
       "      <td>2</td>\n",
       "      <td>1</td>\n",
       "      <td>1</td>\n",
       "      <td>0</td>\n",
       "    </tr>\n",
       "    <tr>\n",
       "      <th>1</th>\n",
       "      <td>7.0–7.9</td>\n",
       "      <td>9</td>\n",
       "      <td>14</td>\n",
       "      <td>12</td>\n",
       "      <td>16</td>\n",
       "      <td>23</td>\n",
       "      <td>19</td>\n",
       "      <td>14</td>\n",
       "      <td>17</td>\n",
       "      <td>11</td>\n",
       "      <td>18</td>\n",
       "      <td>16</td>\n",
       "    </tr>\n",
       "    <tr>\n",
       "      <th>2</th>\n",
       "      <td>6.0–6.9</td>\n",
       "      <td>142</td>\n",
       "      <td>178</td>\n",
       "      <td>167</td>\n",
       "      <td>144</td>\n",
       "      <td>151</td>\n",
       "      <td>187</td>\n",
       "      <td>117</td>\n",
       "      <td>123</td>\n",
       "      <td>143</td>\n",
       "      <td>127</td>\n",
       "      <td>130</td>\n",
       "    </tr>\n",
       "    <tr>\n",
       "      <th>3</th>\n",
       "      <td>5.0–5.9</td>\n",
       "      <td>1731</td>\n",
       "      <td>2090</td>\n",
       "      <td>1790</td>\n",
       "      <td>1920</td>\n",
       "      <td>2221</td>\n",
       "      <td>2486</td>\n",
       "      <td>1546</td>\n",
       "      <td>1454</td>\n",
       "      <td>1574</td>\n",
       "      <td>1412</td>\n",
       "      <td>1550</td>\n",
       "    </tr>\n",
       "    <tr>\n",
       "      <th>4</th>\n",
       "      <td>4.0–4.9</td>\n",
       "      <td>12861</td>\n",
       "      <td>12086</td>\n",
       "      <td>12306</td>\n",
       "      <td>6835</td>\n",
       "      <td>10140</td>\n",
       "      <td>13131</td>\n",
       "      <td>10957</td>\n",
       "      <td>11872</td>\n",
       "      <td>15816</td>\n",
       "      <td>13776</td>\n",
       "      <td>13699</td>\n",
       "    </tr>\n",
       "    <tr>\n",
       "      <th>5</th>\n",
       "      <td>합계</td>\n",
       "      <td>14746</td>\n",
       "      <td>14372</td>\n",
       "      <td>14277</td>\n",
       "      <td>8917</td>\n",
       "      <td>12539</td>\n",
       "      <td>15824</td>\n",
       "      <td>12637</td>\n",
       "      <td>13469</td>\n",
       "      <td>17545</td>\n",
       "      <td>15334</td>\n",
       "      <td>15395</td>\n",
       "    </tr>\n",
       "  </tbody>\n",
       "</table>\n",
       "</div>"
      ],
      "text/plain": [
       "     매그니튜드  2006년  2007년  2008년  2009년  2010년  2011년  2012년  2013년  2014년  \\\n",
       "0  8.0–9.9      2      4      0      1      1      1      2      2      1   \n",
       "1  7.0–7.9      9     14     12     16     23     19     14     17     11   \n",
       "2  6.0–6.9    142    178    167    144    151    187    117    123    143   \n",
       "3  5.0–5.9   1731   2090   1790   1920   2221   2486   1546   1454   1574   \n",
       "4  4.0–4.9  12861  12086  12306   6835  10140  13131  10957  11872  15816   \n",
       "5       합계  14746  14372  14277   8917  12539  15824  12637  13469  17545   \n",
       "\n",
       "   2015년  2016년  \n",
       "0      1      0  \n",
       "1     18     16  \n",
       "2    127    130  \n",
       "3   1412   1550  \n",
       "4  13776  13699  \n",
       "5  15334  15395  "
      ]
     },
     "execution_count": 46,
     "metadata": {},
     "output_type": "execute_result"
    }
   ],
   "source": [
    "pd.read_html('https://ko.wikipedia.org/wiki/2016%EB%85%84_%EC%A7%80%EC%A7%84#cite_note-1',encoding='utf-8')[2]"
   ]
  },
  {
   "cell_type": "markdown",
   "id": "5701a39d-1112-4251-b0df-a696b1610ba0",
   "metadata": {},
   "source": [
    "### load data and clean it"
   ]
  },
  {
   "cell_type": "markdown",
   "id": "8c59d1b1-f6e5-4278-a7aa-c456085374d2",
   "metadata": {},
   "source": [
    "`-` load"
   ]
  },
  {
   "cell_type": "code",
   "execution_count": 47,
   "id": "d51071e5-5241-48a4-9a74-bf32bfe535fb",
   "metadata": {},
   "outputs": [
    {
     "data": {
      "text/html": [
       "<div>\n",
       "<style scoped>\n",
       "    .dataframe tbody tr th:only-of-type {\n",
       "        vertical-align: middle;\n",
       "    }\n",
       "\n",
       "    .dataframe tbody tr th {\n",
       "        vertical-align: top;\n",
       "    }\n",
       "\n",
       "    .dataframe thead th {\n",
       "        text-align: right;\n",
       "    }\n",
       "</style>\n",
       "<table border=\"1\" class=\"dataframe\">\n",
       "  <thead>\n",
       "    <tr style=\"text-align: right;\">\n",
       "      <th></th>\n",
       "      <th>Date</th>\n",
       "      <th>Latitude</th>\n",
       "      <th>Longitude</th>\n",
       "      <th>Magnitude</th>\n",
       "    </tr>\n",
       "  </thead>\n",
       "  <tbody>\n",
       "    <tr>\n",
       "      <th>0</th>\n",
       "      <td>01/02/1965</td>\n",
       "      <td>19.2460</td>\n",
       "      <td>145.6160</td>\n",
       "      <td>6.0</td>\n",
       "    </tr>\n",
       "    <tr>\n",
       "      <th>1</th>\n",
       "      <td>01/04/1965</td>\n",
       "      <td>1.8630</td>\n",
       "      <td>127.3520</td>\n",
       "      <td>5.8</td>\n",
       "    </tr>\n",
       "    <tr>\n",
       "      <th>2</th>\n",
       "      <td>01/05/1965</td>\n",
       "      <td>-20.5790</td>\n",
       "      <td>-173.9720</td>\n",
       "      <td>6.2</td>\n",
       "    </tr>\n",
       "    <tr>\n",
       "      <th>3</th>\n",
       "      <td>01/08/1965</td>\n",
       "      <td>-59.0760</td>\n",
       "      <td>-23.5570</td>\n",
       "      <td>5.8</td>\n",
       "    </tr>\n",
       "    <tr>\n",
       "      <th>4</th>\n",
       "      <td>01/09/1965</td>\n",
       "      <td>11.9380</td>\n",
       "      <td>126.4270</td>\n",
       "      <td>5.8</td>\n",
       "    </tr>\n",
       "    <tr>\n",
       "      <th>...</th>\n",
       "      <td>...</td>\n",
       "      <td>...</td>\n",
       "      <td>...</td>\n",
       "      <td>...</td>\n",
       "    </tr>\n",
       "    <tr>\n",
       "      <th>23407</th>\n",
       "      <td>12/28/2016</td>\n",
       "      <td>38.3917</td>\n",
       "      <td>-118.8941</td>\n",
       "      <td>5.6</td>\n",
       "    </tr>\n",
       "    <tr>\n",
       "      <th>23408</th>\n",
       "      <td>12/28/2016</td>\n",
       "      <td>38.3777</td>\n",
       "      <td>-118.8957</td>\n",
       "      <td>5.5</td>\n",
       "    </tr>\n",
       "    <tr>\n",
       "      <th>23409</th>\n",
       "      <td>12/28/2016</td>\n",
       "      <td>36.9179</td>\n",
       "      <td>140.4262</td>\n",
       "      <td>5.9</td>\n",
       "    </tr>\n",
       "    <tr>\n",
       "      <th>23410</th>\n",
       "      <td>12/29/2016</td>\n",
       "      <td>-9.0283</td>\n",
       "      <td>118.6639</td>\n",
       "      <td>6.3</td>\n",
       "    </tr>\n",
       "    <tr>\n",
       "      <th>23411</th>\n",
       "      <td>12/30/2016</td>\n",
       "      <td>37.3973</td>\n",
       "      <td>141.4103</td>\n",
       "      <td>5.5</td>\n",
       "    </tr>\n",
       "  </tbody>\n",
       "</table>\n",
       "<p>23412 rows × 4 columns</p>\n",
       "</div>"
      ],
      "text/plain": [
       "             Date  Latitude  Longitude  Magnitude\n",
       "0      01/02/1965   19.2460   145.6160        6.0\n",
       "1      01/04/1965    1.8630   127.3520        5.8\n",
       "2      01/05/1965  -20.5790  -173.9720        6.2\n",
       "3      01/08/1965  -59.0760   -23.5570        5.8\n",
       "4      01/09/1965   11.9380   126.4270        5.8\n",
       "...           ...       ...        ...        ...\n",
       "23407  12/28/2016   38.3917  -118.8941        5.6\n",
       "23408  12/28/2016   38.3777  -118.8957        5.5\n",
       "23409  12/28/2016   36.9179   140.4262        5.9\n",
       "23410  12/29/2016   -9.0283   118.6639        6.3\n",
       "23411  12/30/2016   37.3973   141.4103        5.5\n",
       "\n",
       "[23412 rows x 4 columns]"
      ]
     },
     "execution_count": 47,
     "metadata": {},
     "output_type": "execute_result"
    }
   ],
   "source": [
    "df= pd.read_csv('https://raw.githubusercontent.com/plotly/datasets/master/earthquakes-23k.csv')\n",
    "df"
   ]
  },
  {
   "cell_type": "markdown",
   "id": "bfa8ecef-a7d9-4fec-bd52-0963f7463d15",
   "metadata": {},
   "source": [
    "`-` cleaning"
   ]
  },
  {
   "cell_type": "code",
   "execution_count": 48,
   "id": "4bdde104-5708-4d93-9443-02be730b970b",
   "metadata": {},
   "outputs": [
    {
     "data": {
      "text/plain": [
       "3378    1975-02-23T02:58:41.000Z\n",
       "Name: Date, dtype: object"
      ]
     },
     "execution_count": 48,
     "metadata": {},
     "output_type": "execute_result"
    }
   ],
   "source": [
    "df.Date[df.Date == '1975-02-23T02:58:41.000Z']"
   ]
  },
  {
   "cell_type": "code",
   "execution_count": 49,
   "id": "f6dded53-1ee4-4516-9e3a-7ef269279818",
   "metadata": {},
   "outputs": [],
   "source": [
    "df.iloc[3378,0] = '02/03/1975'"
   ]
  },
  {
   "cell_type": "code",
   "execution_count": 50,
   "id": "098c6f68-5dce-4d4e-afa7-5c13080fca2d",
   "metadata": {},
   "outputs": [
    {
     "data": {
      "text/plain": [
       "7512    1985-04-28T02:53:41.530Z\n",
       "Name: Date, dtype: object"
      ]
     },
     "execution_count": 50,
     "metadata": {},
     "output_type": "execute_result"
    }
   ],
   "source": [
    "df.Date[df.Date == '1985-04-28T02:53:41.530Z']"
   ]
  },
  {
   "cell_type": "code",
   "execution_count": 51,
   "id": "016111d3-fe84-45e4-8e7f-5feb0ef1d100",
   "metadata": {},
   "outputs": [],
   "source": [
    "df.iloc[7512,0] = '04/28/1985'"
   ]
  },
  {
   "cell_type": "code",
   "execution_count": 52,
   "id": "9fb351b8-8d99-4934-b00f-b611a7ab8a34",
   "metadata": {},
   "outputs": [
    {
     "data": {
      "text/plain": [
       "20650    2011-03-13T02:23:34.520Z\n",
       "Name: Date, dtype: object"
      ]
     },
     "execution_count": 52,
     "metadata": {},
     "output_type": "execute_result"
    }
   ],
   "source": [
    "df.Date[df.Date == '2011-03-13T02:23:34.520Z']"
   ]
  },
  {
   "cell_type": "code",
   "execution_count": 53,
   "id": "22f313ad-ecf9-4b2b-8dad-542af76a811b",
   "metadata": {},
   "outputs": [],
   "source": [
    "df.iloc[20650,0] = '03/13/2011'"
   ]
  },
  {
   "cell_type": "code",
   "execution_count": 54,
   "id": "b9592a92-dfd4-4bbe-a194-16568d9863d6",
   "metadata": {},
   "outputs": [
    {
     "data": {
      "text/html": [
       "<div>\n",
       "<style scoped>\n",
       "    .dataframe tbody tr th:only-of-type {\n",
       "        vertical-align: middle;\n",
       "    }\n",
       "\n",
       "    .dataframe tbody tr th {\n",
       "        vertical-align: top;\n",
       "    }\n",
       "\n",
       "    .dataframe thead th {\n",
       "        text-align: right;\n",
       "    }\n",
       "</style>\n",
       "<table border=\"1\" class=\"dataframe\">\n",
       "  <thead>\n",
       "    <tr style=\"text-align: right;\">\n",
       "      <th></th>\n",
       "      <th>Latitude</th>\n",
       "      <th>Longitude</th>\n",
       "      <th>Magnitude</th>\n",
       "      <th>Year</th>\n",
       "    </tr>\n",
       "  </thead>\n",
       "  <tbody>\n",
       "    <tr>\n",
       "      <th>0</th>\n",
       "      <td>19.2460</td>\n",
       "      <td>145.6160</td>\n",
       "      <td>6.0</td>\n",
       "      <td>1965</td>\n",
       "    </tr>\n",
       "    <tr>\n",
       "      <th>1</th>\n",
       "      <td>1.8630</td>\n",
       "      <td>127.3520</td>\n",
       "      <td>5.8</td>\n",
       "      <td>1965</td>\n",
       "    </tr>\n",
       "    <tr>\n",
       "      <th>2</th>\n",
       "      <td>-20.5790</td>\n",
       "      <td>-173.9720</td>\n",
       "      <td>6.2</td>\n",
       "      <td>1965</td>\n",
       "    </tr>\n",
       "    <tr>\n",
       "      <th>3</th>\n",
       "      <td>-59.0760</td>\n",
       "      <td>-23.5570</td>\n",
       "      <td>5.8</td>\n",
       "      <td>1965</td>\n",
       "    </tr>\n",
       "    <tr>\n",
       "      <th>4</th>\n",
       "      <td>11.9380</td>\n",
       "      <td>126.4270</td>\n",
       "      <td>5.8</td>\n",
       "      <td>1965</td>\n",
       "    </tr>\n",
       "    <tr>\n",
       "      <th>...</th>\n",
       "      <td>...</td>\n",
       "      <td>...</td>\n",
       "      <td>...</td>\n",
       "      <td>...</td>\n",
       "    </tr>\n",
       "    <tr>\n",
       "      <th>23407</th>\n",
       "      <td>38.3917</td>\n",
       "      <td>-118.8941</td>\n",
       "      <td>5.6</td>\n",
       "      <td>2016</td>\n",
       "    </tr>\n",
       "    <tr>\n",
       "      <th>23408</th>\n",
       "      <td>38.3777</td>\n",
       "      <td>-118.8957</td>\n",
       "      <td>5.5</td>\n",
       "      <td>2016</td>\n",
       "    </tr>\n",
       "    <tr>\n",
       "      <th>23409</th>\n",
       "      <td>36.9179</td>\n",
       "      <td>140.4262</td>\n",
       "      <td>5.9</td>\n",
       "      <td>2016</td>\n",
       "    </tr>\n",
       "    <tr>\n",
       "      <th>23410</th>\n",
       "      <td>-9.0283</td>\n",
       "      <td>118.6639</td>\n",
       "      <td>6.3</td>\n",
       "      <td>2016</td>\n",
       "    </tr>\n",
       "    <tr>\n",
       "      <th>23411</th>\n",
       "      <td>37.3973</td>\n",
       "      <td>141.4103</td>\n",
       "      <td>5.5</td>\n",
       "      <td>2016</td>\n",
       "    </tr>\n",
       "  </tbody>\n",
       "</table>\n",
       "<p>23412 rows × 4 columns</p>\n",
       "</div>"
      ],
      "text/plain": [
       "       Latitude  Longitude  Magnitude  Year\n",
       "0       19.2460   145.6160        6.0  1965\n",
       "1        1.8630   127.3520        5.8  1965\n",
       "2      -20.5790  -173.9720        6.2  1965\n",
       "3      -59.0760   -23.5570        5.8  1965\n",
       "4       11.9380   126.4270        5.8  1965\n",
       "...         ...        ...        ...   ...\n",
       "23407   38.3917  -118.8941        5.6  2016\n",
       "23408   38.3777  -118.8957        5.5  2016\n",
       "23409   36.9179   140.4262        5.9  2016\n",
       "23410   -9.0283   118.6639        6.3  2016\n",
       "23411   37.3973   141.4103        5.5  2016\n",
       "\n",
       "[23412 rows x 4 columns]"
      ]
     },
     "execution_count": 54,
     "metadata": {},
     "output_type": "execute_result"
    }
   ],
   "source": [
    "df= df.assign(Year=list(map(lambda x: x.split('/')[-1], df.Date))).iloc[:,1:]\n",
    "df"
   ]
  },
  {
   "cell_type": "code",
   "execution_count": 55,
   "id": "19aa54d5-3f35-41c4-8980-654b73cb1965",
   "metadata": {},
   "outputs": [
    {
     "data": {
      "text/plain": [
       "array(['1965', '1966', '1967', '1968', '1969', '1970', '1971', '1972',\n",
       "       '1973', '1974', '1975', '1976', '1977', '1978', '1979', '1980',\n",
       "       '1981', '1982', '1983', '1984', '1985', '1986', '1987', '1988',\n",
       "       '1989', '1990', '1991', '1992', '1993', '1994', '1995', '1996',\n",
       "       '1997', '1998', '1999', '2000', '2001', '2002', '2003', '2004',\n",
       "       '2005', '2006', '2007', '2008', '2009', '2010', '2011', '2012',\n",
       "       '2013', '2014', '2015', '2016'], dtype=object)"
      ]
     },
     "execution_count": 55,
     "metadata": {},
     "output_type": "execute_result"
    }
   ],
   "source": [
    "df.Year.unique()"
   ]
  },
  {
   "cell_type": "code",
   "execution_count": 56,
   "id": "ce96a2f8",
   "metadata": {},
   "outputs": [],
   "source": [
    "df.Year = df.Year.astype(np.float64)"
   ]
  },
  {
   "cell_type": "markdown",
   "id": "d6edbeb0-281e-41f9-b7db-da7901e30452",
   "metadata": {},
   "source": [
    "### define class"
   ]
  },
  {
   "cell_type": "code",
   "execution_count": 57,
   "id": "2e112881-a970-4763-a5ce-0a103f335fce",
   "metadata": {},
   "outputs": [],
   "source": [
    "class MooYaHo:\n",
    "    def __init__(self,df):\n",
    "        self.df = df \n",
    "        self.f = df.Magnitude.to_numpy()\n",
    "        self.year = df.Year.to_numpy()\n",
    "        self.lat = df.Latitude.to_numpy()\n",
    "        self.long = df.Longitude.to_numpy()\n",
    "        self.n = len(self.f)\n",
    "        self.theta= None\n",
    "    def get_distance(self):\n",
    "        self.D = np.zeros([self.n,self.n])\n",
    "        locations = np.stack([self.lat, self.long],axis=1)\n",
    "        for i in tqdm.tqdm(range(self.n)):\n",
    "            for j in range(i,self.n): \n",
    "                self.D[i,j]=haversine(locations[i],locations[j])\n",
    "        self.D = self.D+self.D.T\n",
    "    def get_weightmatrix(self,theta=1,beta=0.5,kappa=4000):\n",
    "        self.theta = theta\n",
    "        dist = np.where(self.D<kappa,self.D,0)\n",
    "        self.W = np.exp(-(dist/self.theta)**2)\n",
    "#         nlst = self.df.groupby('Year').aggregate(len).Latitude.tolist()\n",
    "#         nlst = [0]+np.cumsum(nlst).tolist()\n",
    "#         beta_matrix = np.zeros([self.n,self.n])\n",
    "#         for i in range(len(nlst)-1):\n",
    "#             beta_matrix[nlst[i]:nlst[i+1],nlst[i]:nlst[i+1]] = beta\n",
    "#         self.W = self.W * beta_matrix \n",
    "#     def _get_laplacian(self):\n",
    "#         self.L = np.diag(1/np.sqrt(d)) @ (D-self.W) @ np.diag(1/np.sqrt(d))\n",
    "#         self.lamb, self.Psi = np.linalg.eigh(self.L)\n",
    "#         self.Lamb = np.diag(self.lamb)  \n",
    "\n",
    "    def _eigen(self):\n",
    "        d= self.W.sum(axis=1)\n",
    "        D= np.diag(d)\n",
    "        self.L = np.diag(1/np.sqrt(d)) @ (D-self.W) @ np.diag(1/np.sqrt(d))\n",
    "        self.lamb, self.Psi = np.linalg.eigh(self.L)\n",
    "        self.Lamb = np.diag(self.lamb)        \n",
    "    def fit(self,m):\n",
    "        self._eigen()\n",
    "        self.fhat = self.Psi[:,0:m]@self.Psi[:,0:m].T@self.f\n",
    "        self.df = self.df.assign(MagnitudeHat = self.fhat)\n",
    "        self.df = self.df.assign(Residual = self.df.Magnitude- self.df.MagnitudeHat)\n",
    "        plt.plot(self.f,'.')\n",
    "        plt.plot(self.fhat,'x')\n",
    "        \n",
    "    def vis(self,MagThresh=7,ResThresh=1):\n",
    "        fig = px.density_mapbox(self.df, \n",
    "                        lat='Latitude', \n",
    "                        lon='Longitude', \n",
    "                        z='Magnitude', \n",
    "                        radius=15,\n",
    "                        center=dict(lat=37, lon=160), \n",
    "                        zoom=1.5,\n",
    "                        height=900,\n",
    "                        opacity = 0.3,\n",
    "                        mapbox_style=\"stamen-terrain\")\n",
    "        fig.update_layout(margin={\"r\":0,\"t\":0,\"l\":0,\"b\":0})\n",
    "        fig.add_scattermapbox(lat = self.df.query('Magnitude > @MagThresh')['Latitude'],\n",
    "                      lon = self.df.query('Magnitude > @MagThresh')['Longitude'],\n",
    "                      marker_size= 8,\n",
    "                      marker_color= 'red',\n",
    "                      opacity = 1\n",
    "                      )\n",
    "        fig.add_scattermapbox(lat = self.df.query('Residual**2 > @ResThresh')['Latitude'],\n",
    "                      lon = self.df.query('Residual**2 > @ResThresh')['Longitude'],\n",
    "                      marker_size= 8,\n",
    "                      marker_color= 'blue',\n",
    "                      opacity = 1\n",
    "                      )\n",
    "        return HTML(fig.to_html(include_mathjax=False, config=dict({'scrollZoom':False})))"
   ]
  },
  {
   "cell_type": "markdown",
   "id": "458df404-7869-4e9c-9146-cf212024e421",
   "metadata": {},
   "source": [
    "### analysis"
   ]
  },
  {
   "cell_type": "markdown",
   "id": "82e5b3ea-4303-4a2d-b533-5aa247a0414c",
   "metadata": {},
   "source": [
    "`-` make instance for analysis"
   ]
  },
  {
   "cell_type": "code",
   "execution_count": 58,
   "id": "ec53d0b7-4270-4b5a-ace6-f887af2df5ab",
   "metadata": {},
   "outputs": [],
   "source": [
    "moo=MooYaHo(df.query(\"Year == 2011\"))"
   ]
  },
  {
   "cell_type": "markdown",
   "id": "fae50236-cf19-44d1-bf30-1cd8cd18bd92",
   "metadata": {},
   "source": [
    "- 테스트용으로 2016년 자료만 수집"
   ]
  },
  {
   "cell_type": "markdown",
   "id": "8eeb7048-957e-4ad1-8cb2-ab7a078602ac",
   "metadata": {},
   "source": [
    "`-` get distance "
   ]
  },
  {
   "cell_type": "code",
   "execution_count": 59,
   "id": "4f99cd72",
   "metadata": {},
   "outputs": [
    {
     "name": "stderr",
     "output_type": "stream",
     "text": [
      "100%|██████████| 713/713 [00:00<00:00, 1064.29it/s]\n"
     ]
    }
   ],
   "source": [
    "moo.get_distance()"
   ]
  },
  {
   "cell_type": "code",
   "execution_count": 60,
   "id": "9a0c1bc3-a15b-404e-af6c-052890541300",
   "metadata": {},
   "outputs": [
    {
     "data": {
      "text/plain": [
       "7319.115091032086"
      ]
     },
     "execution_count": 60,
     "metadata": {},
     "output_type": "execute_result"
    }
   ],
   "source": [
    "moo.D[moo.D>0].mean()"
   ]
  },
  {
   "cell_type": "markdown",
   "id": "eb60653b-b2a8-45ce-83d2-9fd234997717",
   "metadata": {},
   "source": [
    "- 0이 아닌 거리의 평균은 8600정도?"
   ]
  },
  {
   "cell_type": "code",
   "execution_count": 61,
   "id": "516dbf95",
   "metadata": {},
   "outputs": [
    {
     "data": {
      "text/plain": [
       "(array([100442.,  38014.,  73828.,  87238.,  65664.,  37622.,  38870.,\n",
       "         24986.,  35586.,   5406.]),\n",
       " array([5.21651856e-01, 1.99532432e+03, 3.99012699e+03, 5.98492965e+03,\n",
       "        7.97973232e+03, 9.97453499e+03, 1.19693377e+04, 1.39641403e+04,\n",
       "        1.59589430e+04, 1.79537457e+04, 1.99485483e+04]),\n",
       " <BarContainer object of 10 artists>)"
      ]
     },
     "execution_count": 61,
     "metadata": {},
     "output_type": "execute_result"
    },
    {
     "data": {
      "image/png": "[encoded data removed]",
      "text/plain": [
       "<Figure size 432x288 with 1 Axes>"
      ]
     },
     "metadata": {
      "needs_background": "light"
     },
     "output_type": "display_data"
    }
   ],
   "source": [
    "plt.hist(moo.D[moo.D>0])"
   ]
  },
  {
   "cell_type": "markdown",
   "id": "bb7b7a6c-1559-4f3d-88a0-390e01695aae",
   "metadata": {},
   "source": [
    "- 히스토그램결과 -> 2500보다 거리가 작으면 거의 같은 지역이라고 봐도 무방할듯"
   ]
  },
  {
   "cell_type": "markdown",
   "id": "15745b57-e3ef-489a-93ac-2f1b81357c18",
   "metadata": {},
   "source": [
    "`-` weight matrix"
   ]
  },
  {
   "cell_type": "code",
   "execution_count": 62,
   "id": "2c124a87-4c3c-4d42-8386-23d2b349086e",
   "metadata": {},
   "outputs": [],
   "source": [
    "moo.get_weightmatrix(theta=(8647.92),kappa=2500) "
   ]
  },
  {
   "cell_type": "markdown",
   "id": "53af4c2e-085d-4265-93c6-09818811e331",
   "metadata": {},
   "source": [
    "- 평균적으로 노드는 `np.exp(-(dist/8647)**2)=np.exp(-1)=0.36787944117144233` 정도의 연결강도를 가진다. \n",
    "- 거리가 2500이하이면 weight를 1로 설정한다. "
   ]
  },
  {
   "cell_type": "markdown",
   "id": "798802db-1490-4a44-a01c-8fa27d0dad0c",
   "metadata": {},
   "source": [
    "`-` fit"
   ]
  },
  {
   "cell_type": "code",
   "execution_count": 66,
   "id": "33b507dc-1816-4435-ac86-3ba5aba7c422",
   "metadata": {},
   "outputs": [
    {
     "data": {
      "image/png": "[encoded data removed]",
      "text/plain": [
       "<Figure size 432x288 with 1 Axes>"
      ]
     },
     "metadata": {
      "needs_background": "light"
     },
     "output_type": "display_data"
    }
   ],
   "source": [
    "moo.fit(m=200)"
   ]
  },
  {
   "cell_type": "markdown",
   "id": "26f32ee9-6a27-4ffe-ae08-9d712d579526",
   "metadata": {},
   "source": [
    "`-` vis"
   ]
  },
  {
   "cell_type": "code",
   "execution_count": 71,
   "id": "d636666e-439d-4728-8c7d-d2289142f9af",
   "metadata": {},
   "outputs": [],
   "source": [
    "# \n",
    "#moo.vis(MagThresh=7,ResThresh=1) # <- 실행해봐요"
   ]
  },
  {
   "cell_type": "markdown",
   "id": "8bc79895-ccbd-494b-816e-326719f38e4e",
   "metadata": {},
   "source": [
    "- 전체자료는 underlying에 위치 \n",
    "- 지진강도가 MagThresh 이상인 자료는 붉은점으로 시각화함 \n",
    "- 이상치정도(우리가 제안하는 새로운 메져) ResThresh 이상인 자료는 파란점으로 시각화함 "
   ]
  },
  {
   "cell_type": "markdown",
   "id": "337ec6e2-7eb2-42ba-9d7c-4cef2f59cd38",
   "metadata": {},
   "source": [
    "### 한계점 (?)"
   ]
  },
  {
   "cell_type": "markdown",
   "id": "68f3f611-297e-416a-8893-5cc007b930ac",
   "metadata": {},
   "source": [
    "`-` 시간효과를 따로 모형화하지는 않음 "
   ]
  }
 ],
 "metadata": {
  "kernelspec": {
   "display_name": "Python 3 (ipykernel)",
   "language": "python",
   "name": "python3"
  },
  "language_info": {
   "codemirror_mode": {
    "name": "ipython",
    "version": 3
   },
   "file_extension": ".py",
   "mimetype": "text/x-python",
   "name": "python",
   "nbconvert_exporter": "python",
   "pygments_lexer": "ipython3",
   "version": "3.8.12"
  }
 },
 "nbformat": 4,
 "nbformat_minor": 5
}
