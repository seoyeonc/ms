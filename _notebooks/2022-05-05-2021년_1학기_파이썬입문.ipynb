{
 "cells": [
  {
   "cell_type": "markdown",
   "id": "1474249d-3dfd-40cc-a159-3a80f55474ca",
   "metadata": {
    "id": "cac470df-29e7-4148-9bbd-d8b9a32fa570",
    "tags": []
   },
   "source": [
    "# (not done) 2021년 1학기 파이썬입문 기말고사 풀이\n",
    "> \n",
    "\n",
    "- toc:true\n",
    "- branch: master\n",
    "- badges: true\n",
    "- comments: false\n",
    "- author: 최서연\n",
    "- categories: []"
   ]
  },
  {
   "cell_type": "markdown",
   "id": "43e3ab3b-b6ce-44e6-bab0-19040697a466",
   "metadata": {},
   "source": [
    "https://miruetoto.github.io/yechan/%ED%8C%8C%EC%9D%B4%EC%8D%AC/2021/06/14/(%EC%8B%9C%ED%97%98)-2021%EB%85%84-1%ED%95%99%EA%B8%B0-%ED%8C%8C%EC%9D%B4%EC%8D%AC%EC%9E%85%EB%AC%B8-%EA%B8%B0%EB%A7%90%EA%B3%A0%EC%82%AC-%ED%92%80%EC%9D%B4-%ED%8C%8C%EC%9D%B4%EC%8D%AC.html"
   ]
  },
  {
   "cell_type": "code",
   "execution_count": null,
   "id": "634ee714-6f01-4bc9-abde-c429471add13",
   "metadata": {},
   "outputs": [],
   "source": []
  }
 ],
 "metadata": {
  "kernelspec": {
   "display_name": "R",
   "language": "R",
   "name": "ir"
  },
  "language_info": {
   "codemirror_mode": "r",
   "file_extension": ".r",
   "mimetype": "text/x-r-source",
   "name": "R",
   "pygments_lexer": "r",
   "version": "4.1.2"
  }
 },
 "nbformat": 4,
 "nbformat_minor": 5
}
