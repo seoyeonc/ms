{
 "cells": [
  {
   "cell_type": "markdown",
   "id": "8261a69f-e5b5-4b65-9a9b-7acd6db0acce",
   "metadata": {
    "id": "cac470df-29e7-4148-9bbd-d8b9a32fa570",
    "tags": []
   },
   "source": [
    "# (시도) Node Classification with Graph Neural Networks\n",
    "> 시도\n",
    "\n",
    "- toc:true\n",
    "- branch: master\n",
    "- badges: true\n",
    "- comments: false\n",
    "- author: 최서연\n",
    "- categories: [GNN]"
   ]
  },
  {
   "cell_type": "markdown",
   "id": "cf225bf2-8071-473f-a715-55080376bca0",
   "metadata": {},
   "source": [
    "### Import"
   ]
  },
  {
   "cell_type": "code",
   "execution_count": 1,
   "id": "98e7215f-d340-4c86-89ac-8155cc24a735",
   "metadata": {},
   "outputs": [],
   "source": [
    "import os\n",
    "import pandas as pd\n",
    "import numpy as np\n",
    "import networkx as nx\n",
    "import matplotlib.pyplot as plt\n",
    "import tensorflow as tf\n",
    "from tensorflow import keras\n",
    "from tensorflow.keras import layers"
   ]
  },
  {
   "cell_type": "markdown",
   "id": "4b3e76d9-0d98-4003-a973-40128d8b658c",
   "metadata": {},
   "source": [
    "### 데이터 구성"
   ]
  },
  {
   "cell_type": "code",
   "execution_count": 2,
   "id": "8a357399-2a17-4ef9-838d-dd0fc263c6e0",
   "metadata": {},
   "outputs": [],
   "source": [
    "p = 0.3"
   ]
  },
  {
   "cell_type": "code",
   "execution_count": 3,
   "id": "76054eba-e8c4-43ac-94ac-b4d57e8dcb4d",
   "metadata": {},
   "outputs": [],
   "source": [
    "a = pd.DataFrame({'X1': [p]*500,'X2': [p]*500,'X3': [p]*500,'X4': [1-p]*500,'X5': [1-p]*500,'X6': [1-p]*500})"
   ]
  },
  {
   "cell_type": "code",
   "execution_count": 4,
   "id": "ead5f8c8-119b-4c3c-8223-c42963ffa54c",
   "metadata": {},
   "outputs": [],
   "source": [
    "b = 1-pd.DataFrame({'X1': [p]*500,'X2': [p]*500,'X3': [p]*500,'X4': [1-p]*500,'X5': [1-p]*500,'X6': [1-p]*500})"
   ]
  },
  {
   "cell_type": "code",
   "execution_count": 5,
   "id": "70eb0c6a-cdc1-4090-9f63-7ace6d7af43c",
   "metadata": {},
   "outputs": [],
   "source": [
    "c = pd.DataFrame({'subject':['Deep learning']*500})"
   ]
  },
  {
   "cell_type": "code",
   "execution_count": 6,
   "id": "2bbcf482-8efb-4116-bdbb-96669589acd7",
   "metadata": {},
   "outputs": [],
   "source": [
    "d = pd.DataFrame({'subject':['Reinforcement learning']*500})"
   ]
  },
  {
   "cell_type": "code",
   "execution_count": 7,
   "id": "02b93fc9-cb54-491e-af46-bc05ff2e1e52",
   "metadata": {},
   "outputs": [
    {
     "data": {
      "text/plain": [
       "((500, 6), (500, 6), (500, 1), (500, 1))"
      ]
     },
     "execution_count": 7,
     "metadata": {},
     "output_type": "execute_result"
    }
   ],
   "source": [
    "a.shape,b.shape,c.shape,d.shape"
   ]
  },
  {
   "cell_type": "code",
   "execution_count": 8,
   "id": "2bb3d2c3-63fa-4989-8c12-9bc5a97ff52c",
   "metadata": {},
   "outputs": [
    {
     "data": {
      "text/html": [
       "<div>\n",
       "<style scoped>\n",
       "    .dataframe tbody tr th:only-of-type {\n",
       "        vertical-align: middle;\n",
       "    }\n",
       "\n",
       "    .dataframe tbody tr th {\n",
       "        vertical-align: top;\n",
       "    }\n",
       "\n",
       "    .dataframe thead th {\n",
       "        text-align: right;\n",
       "    }\n",
       "</style>\n",
       "<table border=\"1\" class=\"dataframe\">\n",
       "  <thead>\n",
       "    <tr style=\"text-align: right;\">\n",
       "      <th></th>\n",
       "      <th>paper_id</th>\n",
       "      <th>X1</th>\n",
       "      <th>X2</th>\n",
       "      <th>X3</th>\n",
       "      <th>X4</th>\n",
       "      <th>X5</th>\n",
       "      <th>X6</th>\n",
       "      <th>subject</th>\n",
       "    </tr>\n",
       "  </thead>\n",
       "  <tbody>\n",
       "    <tr>\n",
       "      <th>0</th>\n",
       "      <td>0</td>\n",
       "      <td>0.3</td>\n",
       "      <td>0.3</td>\n",
       "      <td>0.3</td>\n",
       "      <td>0.7</td>\n",
       "      <td>0.7</td>\n",
       "      <td>0.7</td>\n",
       "      <td>Deep learning</td>\n",
       "    </tr>\n",
       "    <tr>\n",
       "      <th>1</th>\n",
       "      <td>1</td>\n",
       "      <td>0.3</td>\n",
       "      <td>0.3</td>\n",
       "      <td>0.3</td>\n",
       "      <td>0.7</td>\n",
       "      <td>0.7</td>\n",
       "      <td>0.7</td>\n",
       "      <td>Deep learning</td>\n",
       "    </tr>\n",
       "    <tr>\n",
       "      <th>2</th>\n",
       "      <td>2</td>\n",
       "      <td>0.3</td>\n",
       "      <td>0.3</td>\n",
       "      <td>0.3</td>\n",
       "      <td>0.7</td>\n",
       "      <td>0.7</td>\n",
       "      <td>0.7</td>\n",
       "      <td>Deep learning</td>\n",
       "    </tr>\n",
       "    <tr>\n",
       "      <th>3</th>\n",
       "      <td>3</td>\n",
       "      <td>0.3</td>\n",
       "      <td>0.3</td>\n",
       "      <td>0.3</td>\n",
       "      <td>0.7</td>\n",
       "      <td>0.7</td>\n",
       "      <td>0.7</td>\n",
       "      <td>Deep learning</td>\n",
       "    </tr>\n",
       "    <tr>\n",
       "      <th>4</th>\n",
       "      <td>4</td>\n",
       "      <td>0.3</td>\n",
       "      <td>0.3</td>\n",
       "      <td>0.3</td>\n",
       "      <td>0.7</td>\n",
       "      <td>0.7</td>\n",
       "      <td>0.7</td>\n",
       "      <td>Deep learning</td>\n",
       "    </tr>\n",
       "    <tr>\n",
       "      <th>...</th>\n",
       "      <td>...</td>\n",
       "      <td>...</td>\n",
       "      <td>...</td>\n",
       "      <td>...</td>\n",
       "      <td>...</td>\n",
       "      <td>...</td>\n",
       "      <td>...</td>\n",
       "      <td>...</td>\n",
       "    </tr>\n",
       "    <tr>\n",
       "      <th>995</th>\n",
       "      <td>995</td>\n",
       "      <td>0.7</td>\n",
       "      <td>0.7</td>\n",
       "      <td>0.7</td>\n",
       "      <td>0.3</td>\n",
       "      <td>0.3</td>\n",
       "      <td>0.3</td>\n",
       "      <td>Reinforcement learning</td>\n",
       "    </tr>\n",
       "    <tr>\n",
       "      <th>996</th>\n",
       "      <td>996</td>\n",
       "      <td>0.7</td>\n",
       "      <td>0.7</td>\n",
       "      <td>0.7</td>\n",
       "      <td>0.3</td>\n",
       "      <td>0.3</td>\n",
       "      <td>0.3</td>\n",
       "      <td>Reinforcement learning</td>\n",
       "    </tr>\n",
       "    <tr>\n",
       "      <th>997</th>\n",
       "      <td>997</td>\n",
       "      <td>0.7</td>\n",
       "      <td>0.7</td>\n",
       "      <td>0.7</td>\n",
       "      <td>0.3</td>\n",
       "      <td>0.3</td>\n",
       "      <td>0.3</td>\n",
       "      <td>Reinforcement learning</td>\n",
       "    </tr>\n",
       "    <tr>\n",
       "      <th>998</th>\n",
       "      <td>998</td>\n",
       "      <td>0.7</td>\n",
       "      <td>0.7</td>\n",
       "      <td>0.7</td>\n",
       "      <td>0.3</td>\n",
       "      <td>0.3</td>\n",
       "      <td>0.3</td>\n",
       "      <td>Reinforcement learning</td>\n",
       "    </tr>\n",
       "    <tr>\n",
       "      <th>999</th>\n",
       "      <td>999</td>\n",
       "      <td>0.7</td>\n",
       "      <td>0.7</td>\n",
       "      <td>0.7</td>\n",
       "      <td>0.3</td>\n",
       "      <td>0.3</td>\n",
       "      <td>0.3</td>\n",
       "      <td>Reinforcement learning</td>\n",
       "    </tr>\n",
       "  </tbody>\n",
       "</table>\n",
       "<p>1000 rows × 8 columns</p>\n",
       "</div>"
      ],
      "text/plain": [
       "     paper_id   X1   X2   X3   X4   X5   X6                 subject\n",
       "0           0  0.3  0.3  0.3  0.7  0.7  0.7           Deep learning\n",
       "1           1  0.3  0.3  0.3  0.7  0.7  0.7           Deep learning\n",
       "2           2  0.3  0.3  0.3  0.7  0.7  0.7           Deep learning\n",
       "3           3  0.3  0.3  0.3  0.7  0.7  0.7           Deep learning\n",
       "4           4  0.3  0.3  0.3  0.7  0.7  0.7           Deep learning\n",
       "..        ...  ...  ...  ...  ...  ...  ...                     ...\n",
       "995       995  0.7  0.7  0.7  0.3  0.3  0.3  Reinforcement learning\n",
       "996       996  0.7  0.7  0.7  0.3  0.3  0.3  Reinforcement learning\n",
       "997       997  0.7  0.7  0.7  0.3  0.3  0.3  Reinforcement learning\n",
       "998       998  0.7  0.7  0.7  0.3  0.3  0.3  Reinforcement learning\n",
       "999       999  0.7  0.7  0.7  0.3  0.3  0.3  Reinforcement learning\n",
       "\n",
       "[1000 rows x 8 columns]"
      ]
     },
     "execution_count": 8,
     "metadata": {},
     "output_type": "execute_result"
    }
   ],
   "source": [
    "papers = pd.merge(pd.concat([a,b]).reset_index().iloc[:,1:].reset_index().rename(columns={'index':'paper_id'}),\n",
    "        pd.concat([c,d]).reset_index().iloc[:,1:].reset_index().rename(columns={'index':'paper_id'}),)\n",
    "papers"
   ]
  },
  {
   "cell_type": "markdown",
   "id": "3c68b149-f87b-4695-85da-cae7235cef85",
   "metadata": {},
   "source": [
    "id의 class가 뭔지 구분할 term들 6개"
   ]
  },
  {
   "cell_type": "code",
   "execution_count": 9,
   "id": "4bcf7ba7-72c5-43bd-99ea-f64e24b09ada",
   "metadata": {},
   "outputs": [],
   "source": [
    "# ex_Y = pd.DataFrame(np.random.randint(1,3,size=(1000,1)))\n",
    "# ex_Y.columns = ['name']\n",
    "# ex_Y['subject'] = ex_Y['name'].apply(lambda x : 'Deep learning' if x == 1 else 'Reinforcement learning' )\n",
    "# ex_Y.shape"
   ]
  },
  {
   "cell_type": "markdown",
   "id": "b45c0126-44ea-45ad-82f8-91aa1cf2f9ef",
   "metadata": {},
   "source": [
    "class = 2개"
   ]
  },
  {
   "cell_type": "code",
   "execution_count": 10,
   "id": "9230b98f-4acf-4b49-849c-dcff7fd802a3",
   "metadata": {},
   "outputs": [],
   "source": [
    "# papers = pd.concat([ex_X,ex_Y['subject']],axis=1)\n",
    "# papers"
   ]
  },
  {
   "cell_type": "code",
   "execution_count": 11,
   "id": "69ee44b4-f4f2-46fa-80ee-3c83086206f0",
   "metadata": {},
   "outputs": [],
   "source": [
    "a = pd.DataFrame(np.random.choice(range(0,1000),size=(2500,1)))\n",
    "b = pd.DataFrame(np.random.choice(range(0,1000),size=(2500,1)))"
   ]
  },
  {
   "cell_type": "code",
   "execution_count": 12,
   "id": "984c67be-e17a-47e2-81d2-a2cc6a125e0e",
   "metadata": {},
   "outputs": [
    {
     "data": {
      "text/html": [
       "<div>\n",
       "<style scoped>\n",
       "    .dataframe tbody tr th:only-of-type {\n",
       "        vertical-align: middle;\n",
       "    }\n",
       "\n",
       "    .dataframe tbody tr th {\n",
       "        vertical-align: top;\n",
       "    }\n",
       "\n",
       "    .dataframe thead th {\n",
       "        text-align: right;\n",
       "    }\n",
       "</style>\n",
       "<table border=\"1\" class=\"dataframe\">\n",
       "  <thead>\n",
       "    <tr style=\"text-align: right;\">\n",
       "      <th></th>\n",
       "      <th>target</th>\n",
       "      <th>source</th>\n",
       "    </tr>\n",
       "  </thead>\n",
       "  <tbody>\n",
       "    <tr>\n",
       "      <th>0</th>\n",
       "      <td>540</td>\n",
       "      <td>729</td>\n",
       "    </tr>\n",
       "    <tr>\n",
       "      <th>1</th>\n",
       "      <td>375</td>\n",
       "      <td>689</td>\n",
       "    </tr>\n",
       "    <tr>\n",
       "      <th>2</th>\n",
       "      <td>217</td>\n",
       "      <td>118</td>\n",
       "    </tr>\n",
       "    <tr>\n",
       "      <th>3</th>\n",
       "      <td>596</td>\n",
       "      <td>50</td>\n",
       "    </tr>\n",
       "    <tr>\n",
       "      <th>4</th>\n",
       "      <td>525</td>\n",
       "      <td>129</td>\n",
       "    </tr>\n",
       "    <tr>\n",
       "      <th>...</th>\n",
       "      <td>...</td>\n",
       "      <td>...</td>\n",
       "    </tr>\n",
       "    <tr>\n",
       "      <th>2495</th>\n",
       "      <td>5</td>\n",
       "      <td>674</td>\n",
       "    </tr>\n",
       "    <tr>\n",
       "      <th>2496</th>\n",
       "      <td>980</td>\n",
       "      <td>105</td>\n",
       "    </tr>\n",
       "    <tr>\n",
       "      <th>2497</th>\n",
       "      <td>895</td>\n",
       "      <td>540</td>\n",
       "    </tr>\n",
       "    <tr>\n",
       "      <th>2498</th>\n",
       "      <td>217</td>\n",
       "      <td>68</td>\n",
       "    </tr>\n",
       "    <tr>\n",
       "      <th>2499</th>\n",
       "      <td>864</td>\n",
       "      <td>342</td>\n",
       "    </tr>\n",
       "  </tbody>\n",
       "</table>\n",
       "<p>2500 rows × 2 columns</p>\n",
       "</div>"
      ],
      "text/plain": [
       "      target  source\n",
       "0        540     729\n",
       "1        375     689\n",
       "2        217     118\n",
       "3        596      50\n",
       "4        525     129\n",
       "...      ...     ...\n",
       "2495       5     674\n",
       "2496     980     105\n",
       "2497     895     540\n",
       "2498     217      68\n",
       "2499     864     342\n",
       "\n",
       "[2500 rows x 2 columns]"
      ]
     },
     "execution_count": 12,
     "metadata": {},
     "output_type": "execute_result"
    }
   ],
   "source": [
    "citations = pd.concat([a,b],axis=1)\n",
    "citations.columns = ['target','source']\n",
    "citations"
   ]
  },
  {
   "cell_type": "markdown",
   "id": "43631d5c-935d-4626-9c1f-1aa769535094",
   "metadata": {
    "tags": []
   },
   "source": [
    "### 그래프 표현"
   ]
  },
  {
   "cell_type": "code",
   "execution_count": 13,
   "id": "d2ed8314-238f-4155-b651-4424890d180f",
   "metadata": {},
   "outputs": [],
   "source": [
    "class_values = sorted(papers[\"subject\"].unique())\n",
    "class_idx = {name: id for id, name in enumerate(class_values)}\n",
    "paper_idx = {name: idx for idx, name in enumerate(sorted(papers[\"paper_id\"].unique()))}\n",
    "\n",
    "papers[\"paper_id\"] = papers[\"paper_id\"].apply(lambda name: paper_idx[name])\n",
    "citations[\"source\"] = citations[\"source\"].apply(lambda name: paper_idx[name])\n",
    "citations[\"target\"] = citations[\"target\"].apply(lambda name: paper_idx[name])\n",
    "papers[\"subject\"] = papers[\"subject\"].apply(lambda value: class_idx[value])"
   ]
  },
  {
   "cell_type": "code",
   "execution_count": 14,
   "id": "92af471b-f6ce-42bb-a849-1cbd33034fcb",
   "metadata": {},
   "outputs": [
    {
     "data": {
      "image/png": "[encoded data removed]",
      "text/plain": [
       "<Figure size 720x720 with 1 Axes>"
      ]
     },
     "metadata": {},
     "output_type": "display_data"
    }
   ],
   "source": [
    "plt.figure(figsize=(10, 10))\n",
    "colors = papers[\"subject\"].tolist()\n",
    "cora_graph = nx.from_pandas_edgelist(citations.sample(n=800))\n",
    "subjects = list(papers[papers[\"paper_id\"].isin(list(cora_graph.nodes))][\"subject\"])\n",
    "nx.draw_spring(cora_graph, node_size=15, node_color=subjects)"
   ]
  },
  {
   "cell_type": "markdown",
   "id": "aea3bba9-d5dd-4595-8915-21d9ae9667a9",
   "metadata": {},
   "source": [
    "### Test vs Train"
   ]
  },
  {
   "cell_type": "code",
   "execution_count": 15,
   "id": "29b2ba4e-b70b-479b-92c6-e51a0a52dec9",
   "metadata": {},
   "outputs": [
    {
     "name": "stdout",
     "output_type": "stream",
     "text": [
      "Train data shape: (510, 8)\n",
      "Test data shape: (490, 8)\n"
     ]
    }
   ],
   "source": [
    "train_data, test_data = [], []\n",
    "\n",
    "for _, group_data in papers.groupby(\"subject\"):\n",
    "    # Select around 50% of the dataset for training.\n",
    "    random_selection = np.random.rand(len(group_data.index)) <= 0.5\n",
    "    train_data.append(group_data[random_selection])\n",
    "    test_data.append(group_data[~random_selection])\n",
    "\n",
    "train_data = pd.concat(train_data).sample(frac=1)\n",
    "test_data = pd.concat(test_data).sample(frac=1)\n",
    "\n",
    "print(\"Train data shape:\", train_data.shape)\n",
    "print(\"Test data shape:\", test_data.shape)"
   ]
  },
  {
   "cell_type": "code",
   "execution_count": 16,
   "id": "f87040a3-f0aa-4444-ac2c-24b6a4468a1f",
   "metadata": {},
   "outputs": [],
   "source": [
    "hidden_units = [32,32]\n",
    "learning_rate = 0.01\n",
    "dropout_rate = 0.5\n",
    "num_epochs = 200\n",
    "batch_size = 128"
   ]
  },
  {
   "cell_type": "code",
   "execution_count": 17,
   "id": "a02381d9-ed33-4314-a4d2-bf6ff83d9dfd",
   "metadata": {},
   "outputs": [],
   "source": [
    "def run_experiment(model, x_train, y_train):\n",
    "    # Compile the model.\n",
    "    model.compile(\n",
    "        optimizer=keras.optimizers.Adam(learning_rate),\n",
    "        loss=keras.losses.SparseCategoricalCrossentropy(from_logits=True),\n",
    "        metrics=[keras.metrics.SparseCategoricalAccuracy(name=\"acc\")],\n",
    "    )\n",
    "    # Create an early stopping callback.\n",
    "    early_stopping = keras.callbacks.EarlyStopping(\n",
    "        monitor=\"val_acc\", patience=50, restore_best_weights=True\n",
    "    )\n",
    "    # Fit the model.\n",
    "    history = model.fit(\n",
    "        x=x_train,\n",
    "        y=y_train,\n",
    "        epochs=num_epochs,\n",
    "        batch_size=batch_size,\n",
    "        validation_split=0.15,\n",
    "        callbacks=[early_stopping],\n",
    "    )\n",
    "\n",
    "    return history"
   ]
  },
  {
   "cell_type": "code",
   "execution_count": 18,
   "id": "e8d4e472-96c4-4336-814b-ead351e5fe15",
   "metadata": {},
   "outputs": [],
   "source": [
    "def display_learning_curves(history):\n",
    "    fig, (ax1, ax2) = plt.subplots(1, 2, figsize=(15, 5))\n",
    "\n",
    "    ax1.plot(history.history[\"loss\"])\n",
    "    ax1.plot(history.history[\"val_loss\"])\n",
    "    ax1.legend([\"train\", \"test\"], loc=\"upper right\")\n",
    "    ax1.set_xlabel(\"Epochs\")\n",
    "    ax1.set_ylabel(\"Loss\")\n",
    "\n",
    "    ax2.plot(history.history[\"acc\"])\n",
    "    ax2.plot(history.history[\"val_acc\"])\n",
    "    ax2.legend([\"train\", \"test\"], loc=\"upper right\")\n",
    "    ax2.set_xlabel(\"Epochs\")\n",
    "    ax2.set_ylabel(\"Accuracy\")\n",
    "    plt.show()"
   ]
  },
  {
   "cell_type": "code",
   "execution_count": 19,
   "id": "4ad6879b-52e8-4e32-8f1f-a47359a4e408",
   "metadata": {},
   "outputs": [],
   "source": [
    "def create_ffn(hidden_units, dropout_rate, name=None):\n",
    "    fnn_layers = []\n",
    "\n",
    "    for units in hidden_units:\n",
    "        fnn_layers.append(layers.BatchNormalization())\n",
    "        fnn_layers.append(layers.Dropout(dropout_rate))\n",
    "        fnn_layers.append(layers.Dense(units, activation=tf.nn.gelu))\n",
    "\n",
    "    return keras.Sequential(fnn_layers, name=name)"
   ]
  },
  {
   "cell_type": "code",
   "execution_count": 20,
   "id": "98affd7f-922e-496a-803d-05dfdbaa21d6",
   "metadata": {},
   "outputs": [],
   "source": [
    "feature_names = set(papers.columns) - {\"paper_id\", \"subject\"}\n",
    "num_features = len(feature_names)\n",
    "num_classes = len(class_idx)\n",
    "\n",
    "# Create train and test features as a numpy array.\n",
    "x_train = train_data[feature_names].to_numpy()\n",
    "x_test = test_data[feature_names].to_numpy()\n",
    "# Create train and test targets as a numpy array.\n",
    "y_train = train_data[\"subject\"]\n",
    "y_test = test_data[\"subject\"]"
   ]
  },
  {
   "cell_type": "code",
   "execution_count": 21,
   "id": "7005e167-e5cc-4106-b97f-c62ca7a11432",
   "metadata": {},
   "outputs": [
    {
     "name": "stdout",
     "output_type": "stream",
     "text": [
      "Model: \"baseline\"\n",
      "__________________________________________________________________________________________________\n",
      " Layer (type)                   Output Shape         Param #     Connected to                     \n",
      "==================================================================================================\n",
      " input_features (InputLayer)    [(None, 6)]          0           []                               \n",
      "                                                                                                  \n",
      " ffn_block1 (Sequential)        (None, 32)           1432        ['input_features[0][0]']         \n",
      "                                                                                                  \n",
      " ffn_block2 (Sequential)        (None, 32)           2368        ['ffn_block1[0][0]']             \n",
      "                                                                                                  \n",
      " skip_connection2 (Add)         (None, 32)           0           ['ffn_block1[0][0]',             \n",
      "                                                                  'ffn_block2[0][0]']             \n",
      "                                                                                                  \n",
      " ffn_block3 (Sequential)        (None, 32)           2368        ['skip_connection2[0][0]']       \n",
      "                                                                                                  \n",
      " skip_connection3 (Add)         (None, 32)           0           ['skip_connection2[0][0]',       \n",
      "                                                                  'ffn_block3[0][0]']             \n",
      "                                                                                                  \n",
      " ffn_block4 (Sequential)        (None, 32)           2368        ['skip_connection3[0][0]']       \n",
      "                                                                                                  \n",
      " skip_connection4 (Add)         (None, 32)           0           ['skip_connection3[0][0]',       \n",
      "                                                                  'ffn_block4[0][0]']             \n",
      "                                                                                                  \n",
      " ffn_block5 (Sequential)        (None, 32)           2368        ['skip_connection4[0][0]']       \n",
      "                                                                                                  \n",
      " skip_connection5 (Add)         (None, 32)           0           ['skip_connection4[0][0]',       \n",
      "                                                                  'ffn_block5[0][0]']             \n",
      "                                                                                                  \n",
      " logits (Dense)                 (None, 2)            66          ['skip_connection5[0][0]']       \n",
      "                                                                                                  \n",
      "==================================================================================================\n",
      "Total params: 10,970\n",
      "Trainable params: 10,382\n",
      "Non-trainable params: 588\n",
      "__________________________________________________________________________________________________\n"
     ]
    }
   ],
   "source": [
    "def create_baseline_model(hidden_units, num_classes, dropout_rate=0.2):\n",
    "    inputs = layers.Input(shape=(num_features,), name=\"input_features\")\n",
    "    x = create_ffn(hidden_units, dropout_rate, name=f\"ffn_block1\")(inputs)\n",
    "    for block_idx in range(4):\n",
    "        # Create an FFN block.\n",
    "        x1 = create_ffn(hidden_units, dropout_rate, name=f\"ffn_block{block_idx + 2}\")(x)\n",
    "        # Add skip connection.\n",
    "        x = layers.Add(name=f\"skip_connection{block_idx + 2}\")([x, x1])\n",
    "    # Compute logits.\n",
    "    logits = layers.Dense(num_classes, name=\"logits\")(x)\n",
    "    # Create the model.\n",
    "    return keras.Model(inputs=inputs, outputs=logits, name=\"baseline\")\n",
    "\n",
    "\n",
    "baseline_model = create_baseline_model(hidden_units, num_classes, dropout_rate)\n",
    "baseline_model.summary()"
   ]
  },
  {
   "cell_type": "code",
   "execution_count": 22,
   "id": "d20c118a-26b8-45be-868d-f7da47a25162",
   "metadata": {},
   "outputs": [
    {
     "name": "stdout",
     "output_type": "stream",
     "text": [
      "Epoch 1/200\n",
      "4/4 [==============================] - 2s 93ms/step - loss: 1.0790 - acc: 0.6628 - val_loss: 0.6642 - val_acc: 0.4805\n",
      "Epoch 2/200\n",
      "4/4 [==============================] - 0s 17ms/step - loss: 0.4557 - acc: 0.8291 - val_loss: 0.4495 - val_acc: 1.0000\n",
      "Epoch 3/200\n",
      "4/4 [==============================] - 0s 16ms/step - loss: 0.1305 - acc: 0.9423 - val_loss: 0.2855 - val_acc: 1.0000\n",
      "Epoch 4/200\n",
      "4/4 [==============================] - 0s 17ms/step - loss: 0.0914 - acc: 0.9492 - val_loss: 0.1779 - val_acc: 1.0000\n",
      "Epoch 5/200\n",
      "4/4 [==============================] - 0s 17ms/step - loss: 0.0835 - acc: 0.9677 - val_loss: 0.1115 - val_acc: 1.0000\n",
      "Epoch 6/200\n",
      "4/4 [==============================] - 0s 18ms/step - loss: 0.0388 - acc: 0.9838 - val_loss: 0.0782 - val_acc: 1.0000\n",
      "Epoch 7/200\n",
      "4/4 [==============================] - 0s 20ms/step - loss: 0.0833 - acc: 0.9746 - val_loss: 0.0554 - val_acc: 1.0000\n",
      "Epoch 8/200\n",
      "4/4 [==============================] - 0s 17ms/step - loss: 0.0205 - acc: 0.9885 - val_loss: 0.0418 - val_acc: 1.0000\n",
      "Epoch 9/200\n",
      "4/4 [==============================] - 0s 19ms/step - loss: 0.0567 - acc: 0.9769 - val_loss: 0.0359 - val_acc: 1.0000\n",
      "Epoch 10/200\n",
      "4/4 [==============================] - 0s 18ms/step - loss: 0.0579 - acc: 0.9792 - val_loss: 0.0335 - val_acc: 1.0000\n",
      "Epoch 11/200\n",
      "4/4 [==============================] - 0s 16ms/step - loss: 0.0169 - acc: 0.9931 - val_loss: 0.0315 - val_acc: 1.0000\n",
      "Epoch 12/200\n",
      "4/4 [==============================] - 0s 20ms/step - loss: 0.0261 - acc: 0.9954 - val_loss: 0.0292 - val_acc: 1.0000\n",
      "Epoch 13/200\n",
      "4/4 [==============================] - 0s 19ms/step - loss: 0.0491 - acc: 0.9815 - val_loss: 0.0278 - val_acc: 1.0000\n",
      "Epoch 14/200\n",
      "4/4 [==============================] - 0s 20ms/step - loss: 0.0425 - acc: 0.9815 - val_loss: 0.0264 - val_acc: 1.0000\n",
      "Epoch 15/200\n",
      "4/4 [==============================] - 0s 20ms/step - loss: 0.0246 - acc: 0.9885 - val_loss: 0.0246 - val_acc: 1.0000\n",
      "Epoch 16/200\n",
      "4/4 [==============================] - 0s 23ms/step - loss: 0.0374 - acc: 0.9861 - val_loss: 0.0225 - val_acc: 1.0000\n",
      "Epoch 17/200\n",
      "4/4 [==============================] - 0s 23ms/step - loss: 0.0151 - acc: 0.9931 - val_loss: 0.0206 - val_acc: 1.0000\n",
      "Epoch 18/200\n",
      "4/4 [==============================] - 0s 22ms/step - loss: 0.0310 - acc: 0.9861 - val_loss: 0.0196 - val_acc: 1.0000\n",
      "Epoch 19/200\n",
      "4/4 [==============================] - 0s 20ms/step - loss: 0.0065 - acc: 0.9977 - val_loss: 0.0189 - val_acc: 1.0000\n",
      "Epoch 20/200\n",
      "4/4 [==============================] - 0s 21ms/step - loss: 0.0239 - acc: 0.9908 - val_loss: 0.0160 - val_acc: 1.0000\n",
      "Epoch 21/200\n",
      "4/4 [==============================] - 0s 19ms/step - loss: 0.0241 - acc: 0.9908 - val_loss: 0.0146 - val_acc: 1.0000\n",
      "Epoch 22/200\n",
      "4/4 [==============================] - 0s 21ms/step - loss: 0.0305 - acc: 0.9861 - val_loss: 0.0148 - val_acc: 1.0000\n",
      "Epoch 23/200\n",
      "4/4 [==============================] - 0s 22ms/step - loss: 0.0145 - acc: 0.9931 - val_loss: 0.0164 - val_acc: 1.0000\n",
      "Epoch 24/200\n",
      "4/4 [==============================] - 0s 23ms/step - loss: 0.0360 - acc: 0.9861 - val_loss: 0.0161 - val_acc: 1.0000\n",
      "Epoch 25/200\n",
      "4/4 [==============================] - 0s 23ms/step - loss: 0.0391 - acc: 0.9792 - val_loss: 0.0141 - val_acc: 1.0000\n",
      "Epoch 26/200\n",
      "4/4 [==============================] - 0s 20ms/step - loss: 0.0263 - acc: 0.9861 - val_loss: 0.0114 - val_acc: 1.0000\n",
      "Epoch 27/200\n",
      "4/4 [==============================] - 0s 21ms/step - loss: 0.0260 - acc: 0.9885 - val_loss: 0.0103 - val_acc: 1.0000\n",
      "Epoch 28/200\n",
      "4/4 [==============================] - 0s 23ms/step - loss: 0.0360 - acc: 0.9838 - val_loss: 0.0098 - val_acc: 1.0000\n",
      "Epoch 29/200\n",
      "4/4 [==============================] - 0s 19ms/step - loss: 0.0361 - acc: 0.9838 - val_loss: 0.0100 - val_acc: 1.0000\n",
      "Epoch 30/200\n",
      "4/4 [==============================] - 0s 23ms/step - loss: 0.0157 - acc: 0.9954 - val_loss: 0.0093 - val_acc: 1.0000\n",
      "Epoch 31/200\n",
      "4/4 [==============================] - 0s 23ms/step - loss: 0.0301 - acc: 0.9838 - val_loss: 0.0084 - val_acc: 1.0000\n",
      "Epoch 32/200\n",
      "4/4 [==============================] - 0s 21ms/step - loss: 0.0244 - acc: 0.9931 - val_loss: 0.0079 - val_acc: 1.0000\n",
      "Epoch 33/200\n",
      "4/4 [==============================] - 0s 22ms/step - loss: 0.0331 - acc: 0.9885 - val_loss: 0.0073 - val_acc: 1.0000\n",
      "Epoch 34/200\n",
      "4/4 [==============================] - 0s 25ms/step - loss: 0.0106 - acc: 1.0000 - val_loss: 0.0082 - val_acc: 1.0000\n",
      "Epoch 35/200\n",
      "4/4 [==============================] - 0s 21ms/step - loss: 0.0301 - acc: 0.9861 - val_loss: 0.0067 - val_acc: 1.0000\n",
      "Epoch 36/200\n",
      "4/4 [==============================] - 0s 21ms/step - loss: 0.0212 - acc: 0.9908 - val_loss: 0.0054 - val_acc: 1.0000\n",
      "Epoch 37/200\n",
      "4/4 [==============================] - 0s 23ms/step - loss: 0.0237 - acc: 0.9908 - val_loss: 0.0044 - val_acc: 1.0000\n",
      "Epoch 38/200\n",
      "4/4 [==============================] - 0s 22ms/step - loss: 0.0236 - acc: 0.9931 - val_loss: 0.0037 - val_acc: 1.0000\n",
      "Epoch 39/200\n",
      "4/4 [==============================] - 0s 19ms/step - loss: 0.0287 - acc: 0.9861 - val_loss: 0.0041 - val_acc: 1.0000\n",
      "Epoch 40/200\n",
      "4/4 [==============================] - 0s 21ms/step - loss: 0.0297 - acc: 0.9861 - val_loss: 0.0037 - val_acc: 1.0000\n",
      "Epoch 41/200\n",
      "4/4 [==============================] - 0s 19ms/step - loss: 0.0378 - acc: 0.9885 - val_loss: 0.0026 - val_acc: 1.0000\n",
      "Epoch 42/200\n",
      "4/4 [==============================] - 0s 22ms/step - loss: 0.0217 - acc: 0.9885 - val_loss: 0.0025 - val_acc: 1.0000\n",
      "Epoch 43/200\n",
      "4/4 [==============================] - 0s 24ms/step - loss: 0.0243 - acc: 0.9908 - val_loss: 0.0026 - val_acc: 1.0000\n",
      "Epoch 44/200\n",
      "4/4 [==============================] - 0s 23ms/step - loss: 0.0279 - acc: 0.9885 - val_loss: 0.0023 - val_acc: 1.0000\n",
      "Epoch 45/200\n",
      "4/4 [==============================] - 0s 22ms/step - loss: 0.0412 - acc: 0.9838 - val_loss: 0.0020 - val_acc: 1.0000\n",
      "Epoch 46/200\n",
      "4/4 [==============================] - 0s 21ms/step - loss: 0.0332 - acc: 0.9838 - val_loss: 0.0022 - val_acc: 1.0000\n",
      "Epoch 47/200\n",
      "4/4 [==============================] - 0s 20ms/step - loss: 0.0083 - acc: 0.9977 - val_loss: 0.0023 - val_acc: 1.0000\n",
      "Epoch 48/200\n",
      "4/4 [==============================] - 0s 21ms/step - loss: 0.0157 - acc: 0.9908 - val_loss: 0.0022 - val_acc: 1.0000\n",
      "Epoch 49/200\n",
      "4/4 [==============================] - 0s 21ms/step - loss: 0.0215 - acc: 0.9931 - val_loss: 0.0020 - val_acc: 1.0000\n",
      "Epoch 50/200\n",
      "4/4 [==============================] - 0s 21ms/step - loss: 0.0107 - acc: 0.9954 - val_loss: 0.0021 - val_acc: 1.0000\n",
      "Epoch 51/200\n",
      "4/4 [==============================] - 0s 24ms/step - loss: 0.0196 - acc: 0.9931 - val_loss: 0.0023 - val_acc: 1.0000\n",
      "Epoch 52/200\n",
      "4/4 [==============================] - 0s 27ms/step - loss: 0.0456 - acc: 0.9838 - val_loss: 0.0016 - val_acc: 1.0000\n"
     ]
    }
   ],
   "source": [
    "history = run_experiment(baseline_model, x_train, y_train)"
   ]
  },
  {
   "cell_type": "code",
   "execution_count": 23,
   "id": "f57921d1-fa5d-45f2-9a04-4673c006392c",
   "metadata": {},
   "outputs": [
    {
     "data": {
      "image/png": "[encoded data removed]",
      "text/plain": [
       "<Figure size 1080x360 with 2 Axes>"
      ]
     },
     "metadata": {
      "needs_background": "light"
     },
     "output_type": "display_data"
    }
   ],
   "source": [
    "display_learning_curves(history)"
   ]
  },
  {
   "cell_type": "code",
   "execution_count": 24,
   "id": "c37eb17a-7aea-4c4d-912e-97ef6ace88e7",
   "metadata": {},
   "outputs": [
    {
     "name": "stdout",
     "output_type": "stream",
     "text": [
      "Test accuracy: 100.0%\n"
     ]
    }
   ],
   "source": [
    "_, test_accuracy = baseline_model.evaluate(x=x_test, y=y_test, verbose=0)\n",
    "print(f\"Test accuracy: {round(test_accuracy * 100, 2)}%\")"
   ]
  },
  {
   "cell_type": "markdown",
   "id": "ec16bd0c-202c-4b1a-b447-dbfd07558df0",
   "metadata": {
    "tags": []
   },
   "source": [
    "### baseline 모델 예측"
   ]
  },
  {
   "cell_type": "code",
   "execution_count": 25,
   "id": "7e996d18-027b-42dd-b821-4e68031387d9",
   "metadata": {},
   "outputs": [],
   "source": [
    "def generate_random_instances(num_instances):\n",
    "    token_probability = x_train.mean(axis=0)\n",
    "    instances = []\n",
    "    for _ in range(num_instances):\n",
    "        probabilities = np.random.uniform(size=len(token_probability))\n",
    "        instance = (probabilities <= token_probability).astype(int)\n",
    "        instances.append(instance)\n",
    "\n",
    "    return np.array(instances)\n",
    "\n",
    "\n",
    "def display_class_probabilities(probabilities):\n",
    "    for instance_idx, probs in enumerate(probabilities):\n",
    "        print(f\"Instance {instance_idx + 1}:\")\n",
    "        for class_idx, prob in enumerate(probs):\n",
    "            print(f\"- {class_values[class_idx]}: {round(prob * 100, 2)}%\")"
   ]
  },
  {
   "cell_type": "code",
   "execution_count": 26,
   "id": "aa584640-ef63-45eb-bb5a-1e463bbc8c82",
   "metadata": {},
   "outputs": [
    {
     "name": "stdout",
     "output_type": "stream",
     "text": [
      "Instance 1:\n",
      "- Deep learning: 53.16%\n",
      "- Reinforcement learning: 46.84%\n",
      "Instance 2:\n",
      "- Deep learning: 15.14%\n",
      "- Reinforcement learning: 84.86%\n"
     ]
    }
   ],
   "source": [
    "new_instances = generate_random_instances(num_classes)\n",
    "logits = baseline_model.predict(new_instances)\n",
    "probabilities = keras.activations.softmax(tf.convert_to_tensor(logits)).numpy()\n",
    "display_class_probabilities(probabilities)"
   ]
  },
  {
   "cell_type": "code",
   "execution_count": 27,
   "id": "0e1ada6c-9562-42c6-bb6c-6fc4ad2109d3",
   "metadata": {},
   "outputs": [
    {
     "name": "stdout",
     "output_type": "stream",
     "text": [
      "Edges shape: (2, 2500)\n",
      "Nodes shape: (1000, 6)\n"
     ]
    }
   ],
   "source": [
    "# Create an edges array (sparse adjacency matrix) of shape [2, num_edges].\n",
    "edges = citations[[\"source\", \"target\"]].to_numpy().T\n",
    "# Create an edge weights array of ones.\n",
    "edge_weights = tf.ones(shape=edges.shape[1])\n",
    "# Create a node features array of shape [num_nodes, num_features].\n",
    "node_features = tf.cast(\n",
    "    papers.sort_values(\"paper_id\")[feature_names].to_numpy(), dtype=tf.dtypes.float32\n",
    ")\n",
    "# Create graph info tuple with node_features, edges, and edge_weights.\n",
    "graph_info = (node_features, edges, edge_weights)\n",
    "\n",
    "print(\"Edges shape:\", edges.shape)\n",
    "print(\"Nodes shape:\", node_features.shape)"
   ]
  },
  {
   "cell_type": "code",
   "execution_count": 28,
   "id": "126017ae-0b43-4980-a8b6-7bc7f0d4be5e",
   "metadata": {},
   "outputs": [],
   "source": [
    "class GraphConvLayer(layers.Layer):\n",
    "    def __init__(\n",
    "        self,\n",
    "        hidden_units,\n",
    "        dropout_rate=0.2,\n",
    "        aggregation_type=\"mean\",\n",
    "        combination_type=\"concat\",\n",
    "        normalize=False,\n",
    "        *args,\n",
    "        **kwargs,\n",
    "    ):\n",
    "        super(GraphConvLayer, self).__init__(*args, **kwargs)\n",
    "\n",
    "        self.aggregation_type = aggregation_type\n",
    "        self.combination_type = combination_type\n",
    "        self.normalize = normalize\n",
    "\n",
    "        self.ffn_prepare = create_ffn(hidden_units, dropout_rate)\n",
    "        if self.combination_type == \"gated\":\n",
    "            self.update_fn = layers.GRU(\n",
    "                units=hidden_units,\n",
    "                activation=\"tanh\",\n",
    "                recurrent_activation=\"sigmoid\",\n",
    "                dropout=dropout_rate,\n",
    "                return_state=True,\n",
    "                recurrent_dropout=dropout_rate,\n",
    "            )\n",
    "        else:\n",
    "            self.update_fn = create_ffn(hidden_units, dropout_rate)\n",
    "\n",
    "    def prepare(self, node_repesentations, weights=None):\n",
    "        # node_repesentations shape is [num_edges, embedding_dim].\n",
    "        messages = self.ffn_prepare(node_repesentations)\n",
    "        if weights is not None:\n",
    "            messages = messages * tf.expand_dims(weights, -1)\n",
    "        return messages\n",
    "\n",
    "    def aggregate(self, node_indices, aggregated_messages):\n",
    "        # node_indices shape is [num_edges].\n",
    "        # neighbour_messages shape: [num_edges, representation_dim].\n",
    "        num_nodes = tf.math.reduce_max(node_indices) + 1\n",
    "        if self.aggregation_type == \"sum\":\n",
    "            aggregated_message = tf.math.unsorted_segment_sum(\n",
    "                neighbour_messages, node_indices, num_segments=num_nodes\n",
    "            )\n",
    "        elif self.aggregation_type == \"mean\":\n",
    "            aggregated_message = tf.math.unsorted_segment_mean(\n",
    "                neighbour_messages, node_indices, num_segments=num_nodes\n",
    "            )\n",
    "        elif self.aggregation_type == \"max\":\n",
    "            aggregated_message = tf.math.unsorted_segment_max(\n",
    "                neighbour_messages, node_indices, num_segments=num_nodes\n",
    "            )\n",
    "        else:\n",
    "            raise ValueError(f\"Invalid aggregation type: {self.aggregation_type}.\")\n",
    "\n",
    "        return aggregated_message\n",
    "\n",
    "    def update(self, node_repesentations, aggregated_messages):\n",
    "        # node_repesentations shape is [num_nodes, representation_dim].\n",
    "        # aggregated_messages shape is [num_nodes, representation_dim].\n",
    "        if self.combination_type == \"gru\":\n",
    "            # Create a sequence of two elements for the GRU layer.\n",
    "            h = tf.stack([node_repesentations, aggregated_messages], axis=1)\n",
    "        elif self.combination_type == \"concat\":\n",
    "            # Concatenate the node_repesentations and aggregated_messages.\n",
    "            h = tf.concat([node_repesentations, aggregated_messages], axis=1)\n",
    "        elif self.combination_type == \"add\":\n",
    "            # Add node_repesentations and aggregated_messages.\n",
    "            h = node_repesentations + aggregated_messages\n",
    "        else:\n",
    "            raise ValueError(f\"Invalid combination type: {self.combination_type}.\")\n",
    "\n",
    "        # Apply the processing function.\n",
    "        node_embeddings = self.update_fn(h)\n",
    "        if self.combination_type == \"gru\":\n",
    "            node_embeddings = tf.unstack(node_embeddings, axis=1)[-1]\n",
    "\n",
    "        if self.normalize:\n",
    "            node_embeddings = tf.nn.l2_normalize(node_embeddings, axis=-1)\n",
    "        return node_embeddings\n",
    "\n",
    "    def call(self, inputs):\n",
    "        \"\"\"Process the inputs to produce the node_embeddings.\n",
    "\n",
    "        inputs: a tuple of three elements: node_repesentations, edges, edge_weights.\n",
    "        Returns: node_embeddings of shape [num_nodes, representation_dim].\n",
    "        \"\"\"\n",
    "\n",
    "        node_repesentations, edges, edge_weights = inputs\n",
    "        # Get node_indices (source) and neighbour_indices (target) from edges.\n",
    "        node_indices, neighbour_indices = edges[0], edges[1]\n",
    "        # neighbour_repesentations shape is [num_edges, representation_dim].\n",
    "        neighbour_repesentations = tf.gather(node_repesentations, neighbour_indices)\n",
    "\n",
    "        # Prepare the messages of the neighbours.\n",
    "        neighbour_messages = self.prepare(neighbour_repesentations, edge_weights)\n",
    "        # Aggregate the neighbour messages.\n",
    "        aggregated_messages = self.aggregate(node_indices, neighbour_messages)\n",
    "        # Update the node embedding with the neighbour messages.\n",
    "        return self.update(node_repesentations, aggregated_messages)"
   ]
  },
  {
   "cell_type": "code",
   "execution_count": 29,
   "id": "dc959e4a-d1c6-4373-be64-40801644fb21",
   "metadata": {},
   "outputs": [],
   "source": [
    "class GNNNodeClassifier(tf.keras.Model):\n",
    "    def __init__(\n",
    "        self,\n",
    "        graph_info,\n",
    "        num_classes,\n",
    "        hidden_units,\n",
    "        aggregation_type=\"sum\",\n",
    "        combination_type=\"concat\",\n",
    "        dropout_rate=0.2,\n",
    "        normalize=True,\n",
    "        *args,\n",
    "        **kwargs,\n",
    "    ):\n",
    "        super(GNNNodeClassifier, self).__init__(*args, **kwargs)\n",
    "\n",
    "        # Unpack graph_info to three elements: node_features, edges, and edge_weight.\n",
    "        node_features, edges, edge_weights = graph_info\n",
    "        self.node_features = node_features\n",
    "        self.edges = edges\n",
    "        self.edge_weights = edge_weights\n",
    "        # Set edge_weights to ones if not provided.\n",
    "        if self.edge_weights is None:\n",
    "            self.edge_weights = tf.ones(shape=edges.shape[1])\n",
    "        # Scale edge_weights to sum to 1.\n",
    "        self.edge_weights = self.edge_weights / tf.math.reduce_sum(self.edge_weights)\n",
    "\n",
    "        # Create a process layer.\n",
    "        self.preprocess = create_ffn(hidden_units, dropout_rate, name=\"preprocess\")\n",
    "        # Create the first GraphConv layer.\n",
    "        self.conv1 = GraphConvLayer(\n",
    "            hidden_units,\n",
    "            dropout_rate,\n",
    "            aggregation_type,\n",
    "            combination_type,\n",
    "            normalize,\n",
    "            name=\"graph_conv1\",\n",
    "        )\n",
    "        # Create the second GraphConv layer.\n",
    "        self.conv2 = GraphConvLayer(\n",
    "            hidden_units,\n",
    "            dropout_rate,\n",
    "            aggregation_type,\n",
    "            combination_type,\n",
    "            normalize,\n",
    "            name=\"graph_conv2\",\n",
    "        )\n",
    "        # Create a postprocess layer.\n",
    "        self.postprocess = create_ffn(hidden_units, dropout_rate, name=\"postprocess\")\n",
    "        # Create a compute logits layer.\n",
    "        self.compute_logits = layers.Dense(units=num_classes, name=\"logits\")\n",
    "\n",
    "    def call(self, input_node_indices):\n",
    "        # Preprocess the node_features to produce node representations.\n",
    "        x = self.preprocess(self.node_features)\n",
    "        # Apply the first graph conv layer.\n",
    "        x1 = self.conv1((x, self.edges, self.edge_weights))\n",
    "        # Skip connection.\n",
    "        x = x1 + x\n",
    "        # Apply the second graph conv layer.\n",
    "        x2 = self.conv2((x, self.edges, self.edge_weights))\n",
    "        # Skip connection.\n",
    "        x = x2 + x\n",
    "        # Postprocess node embedding.\n",
    "        x = self.postprocess(x)\n",
    "        # Fetch node embeddings for the input node_indices.\n",
    "        node_embeddings = tf.gather(x, input_node_indices)\n",
    "        # Compute logits\n",
    "        return self.compute_logits(node_embeddings)"
   ]
  },
  {
   "cell_type": "code",
   "execution_count": 30,
   "id": "390ebe01-171b-44af-b9a7-310b69f91a58",
   "metadata": {},
   "outputs": [
    {
     "ename": "NameError",
     "evalue": "Exception encountered when calling layer \"graph_conv1\" (type GraphConvLayer).\n\nname 'neighbour_messages' is not defined\n\nCall arguments received:\n  • inputs=('tf.Tensor(shape=(1000, 32), dtype=float32)', 'tf.Tensor(shape=(2, 2500), dtype=int64)', 'tf.Tensor(shape=(2500,), dtype=float32)')",
     "output_type": "error",
     "traceback": [
      "\u001b[0;31m---------------------------------------------------------------------------\u001b[0m",
      "\u001b[0;31mNameError\u001b[0m                                 Traceback (most recent call last)",
      "\u001b[0;32m/tmp/ipykernel_813158/645309841.py\u001b[0m in \u001b[0;36m<module>\u001b[0;34m\u001b[0m\n\u001b[1;32m      7\u001b[0m )\n\u001b[1;32m      8\u001b[0m \u001b[0;34m\u001b[0m\u001b[0m\n\u001b[0;32m----> 9\u001b[0;31m \u001b[0mprint\u001b[0m\u001b[0;34m(\u001b[0m\u001b[0;34m\"GNN output shape:\"\u001b[0m\u001b[0;34m,\u001b[0m \u001b[0mgnn_model\u001b[0m\u001b[0;34m(\u001b[0m\u001b[0;34m[\u001b[0m\u001b[0;36m1\u001b[0m\u001b[0;34m,\u001b[0m \u001b[0;36m10\u001b[0m\u001b[0;34m,\u001b[0m \u001b[0;36m100\u001b[0m\u001b[0;34m]\u001b[0m\u001b[0;34m)\u001b[0m\u001b[0;34m)\u001b[0m\u001b[0;34m\u001b[0m\u001b[0;34m\u001b[0m\u001b[0m\n\u001b[0m\u001b[1;32m     10\u001b[0m \u001b[0;34m\u001b[0m\u001b[0m\n\u001b[1;32m     11\u001b[0m \u001b[0mgnn_model\u001b[0m\u001b[0;34m.\u001b[0m\u001b[0msummary\u001b[0m\u001b[0;34m(\u001b[0m\u001b[0;34m)\u001b[0m\u001b[0;34m\u001b[0m\u001b[0;34m\u001b[0m\u001b[0m\n",
      "\u001b[0;32m~/anaconda3/envs/csy/lib/python3.8/site-packages/keras/utils/traceback_utils.py\u001b[0m in \u001b[0;36merror_handler\u001b[0;34m(*args, **kwargs)\u001b[0m\n\u001b[1;32m     65\u001b[0m     \u001b[0;32mexcept\u001b[0m \u001b[0mException\u001b[0m \u001b[0;32mas\u001b[0m \u001b[0me\u001b[0m\u001b[0;34m:\u001b[0m  \u001b[0;31m# pylint: disable=broad-except\u001b[0m\u001b[0;34m\u001b[0m\u001b[0;34m\u001b[0m\u001b[0m\n\u001b[1;32m     66\u001b[0m       \u001b[0mfiltered_tb\u001b[0m \u001b[0;34m=\u001b[0m \u001b[0m_process_traceback_frames\u001b[0m\u001b[0;34m(\u001b[0m\u001b[0me\u001b[0m\u001b[0;34m.\u001b[0m\u001b[0m__traceback__\u001b[0m\u001b[0;34m)\u001b[0m\u001b[0;34m\u001b[0m\u001b[0;34m\u001b[0m\u001b[0m\n\u001b[0;32m---> 67\u001b[0;31m       \u001b[0;32mraise\u001b[0m \u001b[0me\u001b[0m\u001b[0;34m.\u001b[0m\u001b[0mwith_traceback\u001b[0m\u001b[0;34m(\u001b[0m\u001b[0mfiltered_tb\u001b[0m\u001b[0;34m)\u001b[0m \u001b[0;32mfrom\u001b[0m \u001b[0;32mNone\u001b[0m\u001b[0;34m\u001b[0m\u001b[0;34m\u001b[0m\u001b[0m\n\u001b[0m\u001b[1;32m     68\u001b[0m     \u001b[0;32mfinally\u001b[0m\u001b[0;34m:\u001b[0m\u001b[0;34m\u001b[0m\u001b[0;34m\u001b[0m\u001b[0m\n\u001b[1;32m     69\u001b[0m       \u001b[0;32mdel\u001b[0m \u001b[0mfiltered_tb\u001b[0m\u001b[0;34m\u001b[0m\u001b[0;34m\u001b[0m\u001b[0m\n",
      "\u001b[0;32m/tmp/ipykernel_813158/2180048713.py\u001b[0m in \u001b[0;36mcall\u001b[0;34m(self, input_node_indices)\u001b[0m\n\u001b[1;32m     54\u001b[0m         \u001b[0mx\u001b[0m \u001b[0;34m=\u001b[0m \u001b[0mself\u001b[0m\u001b[0;34m.\u001b[0m\u001b[0mpreprocess\u001b[0m\u001b[0;34m(\u001b[0m\u001b[0mself\u001b[0m\u001b[0;34m.\u001b[0m\u001b[0mnode_features\u001b[0m\u001b[0;34m)\u001b[0m\u001b[0;34m\u001b[0m\u001b[0;34m\u001b[0m\u001b[0m\n\u001b[1;32m     55\u001b[0m         \u001b[0;31m# Apply the first graph conv layer.\u001b[0m\u001b[0;34m\u001b[0m\u001b[0;34m\u001b[0m\u001b[0;34m\u001b[0m\u001b[0m\n\u001b[0;32m---> 56\u001b[0;31m         \u001b[0mx1\u001b[0m \u001b[0;34m=\u001b[0m \u001b[0mself\u001b[0m\u001b[0;34m.\u001b[0m\u001b[0mconv1\u001b[0m\u001b[0;34m(\u001b[0m\u001b[0;34m(\u001b[0m\u001b[0mx\u001b[0m\u001b[0;34m,\u001b[0m \u001b[0mself\u001b[0m\u001b[0;34m.\u001b[0m\u001b[0medges\u001b[0m\u001b[0;34m,\u001b[0m \u001b[0mself\u001b[0m\u001b[0;34m.\u001b[0m\u001b[0medge_weights\u001b[0m\u001b[0;34m)\u001b[0m\u001b[0;34m)\u001b[0m\u001b[0;34m\u001b[0m\u001b[0;34m\u001b[0m\u001b[0m\n\u001b[0m\u001b[1;32m     57\u001b[0m         \u001b[0;31m# Skip connection.\u001b[0m\u001b[0;34m\u001b[0m\u001b[0;34m\u001b[0m\u001b[0;34m\u001b[0m\u001b[0m\n\u001b[1;32m     58\u001b[0m         \u001b[0mx\u001b[0m \u001b[0;34m=\u001b[0m \u001b[0mx1\u001b[0m \u001b[0;34m+\u001b[0m \u001b[0mx\u001b[0m\u001b[0;34m\u001b[0m\u001b[0;34m\u001b[0m\u001b[0m\n",
      "\u001b[0;32m/tmp/ipykernel_813158/1683923807.py\u001b[0m in \u001b[0;36mcall\u001b[0;34m(self, inputs)\u001b[0m\n\u001b[1;32m     97\u001b[0m         \u001b[0mneighbour_messages\u001b[0m \u001b[0;34m=\u001b[0m \u001b[0mself\u001b[0m\u001b[0;34m.\u001b[0m\u001b[0mprepare\u001b[0m\u001b[0;34m(\u001b[0m\u001b[0mneighbour_repesentations\u001b[0m\u001b[0;34m,\u001b[0m \u001b[0medge_weights\u001b[0m\u001b[0;34m)\u001b[0m\u001b[0;34m\u001b[0m\u001b[0;34m\u001b[0m\u001b[0m\n\u001b[1;32m     98\u001b[0m         \u001b[0;31m# Aggregate the neighbour messages.\u001b[0m\u001b[0;34m\u001b[0m\u001b[0;34m\u001b[0m\u001b[0;34m\u001b[0m\u001b[0m\n\u001b[0;32m---> 99\u001b[0;31m         \u001b[0maggregated_messages\u001b[0m \u001b[0;34m=\u001b[0m \u001b[0mself\u001b[0m\u001b[0;34m.\u001b[0m\u001b[0maggregate\u001b[0m\u001b[0;34m(\u001b[0m\u001b[0mnode_indices\u001b[0m\u001b[0;34m,\u001b[0m \u001b[0mneighbour_messages\u001b[0m\u001b[0;34m)\u001b[0m\u001b[0;34m\u001b[0m\u001b[0;34m\u001b[0m\u001b[0m\n\u001b[0m\u001b[1;32m    100\u001b[0m         \u001b[0;31m# Update the node embedding with the neighbour messages.\u001b[0m\u001b[0;34m\u001b[0m\u001b[0;34m\u001b[0m\u001b[0;34m\u001b[0m\u001b[0m\n\u001b[1;32m    101\u001b[0m         \u001b[0;32mreturn\u001b[0m \u001b[0mself\u001b[0m\u001b[0;34m.\u001b[0m\u001b[0mupdate\u001b[0m\u001b[0;34m(\u001b[0m\u001b[0mnode_repesentations\u001b[0m\u001b[0;34m,\u001b[0m \u001b[0maggregated_messages\u001b[0m\u001b[0;34m)\u001b[0m\u001b[0;34m\u001b[0m\u001b[0;34m\u001b[0m\u001b[0m\n",
      "\u001b[0;32m/tmp/ipykernel_813158/1683923807.py\u001b[0m in \u001b[0;36maggregate\u001b[0;34m(self, node_indices, aggregated_messages)\u001b[0m\n\u001b[1;32m     42\u001b[0m         \u001b[0;32mif\u001b[0m \u001b[0mself\u001b[0m\u001b[0;34m.\u001b[0m\u001b[0maggregation_type\u001b[0m \u001b[0;34m==\u001b[0m \u001b[0;34m\"sum\"\u001b[0m\u001b[0;34m:\u001b[0m\u001b[0;34m\u001b[0m\u001b[0;34m\u001b[0m\u001b[0m\n\u001b[1;32m     43\u001b[0m             aggregated_message = tf.math.unsorted_segment_sum(\n\u001b[0;32m---> 44\u001b[0;31m                 \u001b[0mneighbour_messages\u001b[0m\u001b[0;34m,\u001b[0m \u001b[0mnode_indices\u001b[0m\u001b[0;34m,\u001b[0m \u001b[0mnum_segments\u001b[0m\u001b[0;34m=\u001b[0m\u001b[0mnum_nodes\u001b[0m\u001b[0;34m\u001b[0m\u001b[0;34m\u001b[0m\u001b[0m\n\u001b[0m\u001b[1;32m     45\u001b[0m             )\n\u001b[1;32m     46\u001b[0m         \u001b[0;32melif\u001b[0m \u001b[0mself\u001b[0m\u001b[0;34m.\u001b[0m\u001b[0maggregation_type\u001b[0m \u001b[0;34m==\u001b[0m \u001b[0;34m\"mean\"\u001b[0m\u001b[0;34m:\u001b[0m\u001b[0;34m\u001b[0m\u001b[0;34m\u001b[0m\u001b[0m\n",
      "\u001b[0;31mNameError\u001b[0m: Exception encountered when calling layer \"graph_conv1\" (type GraphConvLayer).\n\nname 'neighbour_messages' is not defined\n\nCall arguments received:\n  • inputs=('tf.Tensor(shape=(1000, 32), dtype=float32)', 'tf.Tensor(shape=(2, 2500), dtype=int64)', 'tf.Tensor(shape=(2500,), dtype=float32)')"
     ]
    }
   ],
   "source": [
    "gnn_model = GNNNodeClassifier(\n",
    "    graph_info=graph_info,\n",
    "    num_classes=num_classes,\n",
    "    hidden_units=hidden_units,\n",
    "    dropout_rate=dropout_rate,\n",
    "    name=\"gnn_model\",\n",
    ")\n",
    "\n",
    "print(\"GNN output shape:\", gnn_model([1, 10, 100]))\n",
    "\n",
    "gnn_model.summary()"
   ]
  },
  {
   "cell_type": "code",
   "execution_count": null,
   "id": "1b4d28e1-9c43-4050-a467-43f1386a76b6",
   "metadata": {},
   "outputs": [],
   "source": []
  }
 ],
 "metadata": {
  "kernelspec": {
   "display_name": "Python 3 (ipykernel)",
   "language": "python",
   "name": "python3"
  },
  "language_info": {
   "codemirror_mode": {
    "name": "ipython",
    "version": 3
   },
   "file_extension": ".py",
   "mimetype": "text/x-python",
   "name": "python",
   "nbconvert_exporter": "python",
   "pygments_lexer": "ipython3",
   "version": "3.8.12"
  }
 },
 "nbformat": 4,
 "nbformat_minor": 5
}
