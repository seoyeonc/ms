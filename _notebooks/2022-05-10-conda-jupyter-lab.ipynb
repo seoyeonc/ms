{
 "cells": [
  {
   "cell_type": "markdown",
   "id": "baa5ef6a-c8f6-4692-990d-364c8ce56f76",
   "metadata": {
    "id": "cac470df-29e7-4148-9bbd-d8b9a32fa570",
    "tags": []
   },
   "source": [
    "# (tip) 아나콘다에서 Jupyter lab 사용하기\n",
    "> \n",
    "\n",
    "- toc:true\n",
    "- branch: master\n",
    "- badges: true\n",
    "- comments: false\n",
    "- author: 최서연\n",
    "- categories: [jupyter lab]"
   ]
  },
  {
   "cell_type": "markdown",
   "id": "42a58c24-6756-48c3-9352-80f9249b24d0",
   "metadata": {},
   "source": [
    "`conda env list`"
   ]
  },
  {
   "cell_type": "markdown",
   "id": "f6d73594-258d-4667-a998-8193632d5621",
   "metadata": {},
   "source": [
    "list 보고 싶다."
   ]
  },
  {
   "cell_type": "markdown",
   "id": "a33ce63a-118d-469d-bc79-4b9861fc1282",
   "metadata": {},
   "source": [
    "`conda remove -n test`"
   ]
  },
  {
   "cell_type": "markdown",
   "id": "1e4dc003-bb52-45cf-906f-96e22fd2199d",
   "metadata": {},
   "source": [
    "test라는 환경을 지우겠다"
   ]
  },
  {
   "cell_type": "markdown",
   "id": "1b7c0333-9dbe-4b0c-b8d4-b2d5f54228b4",
   "metadata": {},
   "source": [
    "`conda activate test`"
   ]
  },
  {
   "cell_type": "markdown",
   "id": "3ad3daed-09ff-43b3-a03e-284ec1bf158e",
   "metadata": {},
   "source": [
    "test 환경에 들어간다."
   ]
  },
  {
   "cell_type": "markdown",
   "id": "e0b2c50f-7753-4c53-a48c-d235550f5e3b",
   "metadata": {},
   "source": [
    "`jupyter lab`"
   ]
  },
  {
   "cell_type": "markdown",
   "id": "cdabcfcd-f696-4e6f-884e-d5174f5c1de6",
   "metadata": {},
   "source": [
    "환경에 들어가서 주피터랩 싱행 후 사용, but, 깔려있어야 하겠지"
   ]
  },
  {
   "cell_type": "markdown",
   "id": "30af38c0-ee57-482f-9b4c-8d71b7c21ff1",
   "metadata": {},
   "source": [
    "`conda deactivate test`"
   ]
  },
  {
   "cell_type": "markdown",
   "id": "669209a0-4e71-43f0-a12b-ab038154f60d",
   "metadata": {},
   "source": [
    "test라는 환경에서 나온다."
   ]
  },
  {
   "cell_type": "markdown",
   "id": "aa6d5a32-3e8c-4e9c-b5c5-c24f86041487",
   "metadata": {},
   "source": [
    "`conda create -n test`"
   ]
  },
  {
   "cell_type": "markdown",
   "id": "39d4edd5-0494-4830-b056-034848d5b287",
   "metadata": {},
   "source": [
    "test라는 환경을 만든다. 아직 아무것도 없는 상태"
   ]
  },
  {
   "cell_type": "markdown",
   "id": "53e13138-3980-4d36-8fb8-64546005aa39",
   "metadata": {},
   "source": [
    "`conda install -c conda-forge jupyterlab`"
   ]
  },
  {
   "cell_type": "markdown",
   "id": "a5c93edf-8f6f-4eee-8a3c-0bfb3fa6fa83",
   "metadata": {},
   "source": [
    "conda라는 앱스토어에 들어가서 주피터랩 깔아라, 그런데 conda에서 추천하는 버전으로!!\n",
    "\n",
    "중간에 뭐 깔꺼냐고 y/n 선택하라고 물어보는 이유, 적절한 건 있는데 이렇게 설치 정말 할건지!, 그니까 원래 있던 버전 지우고 다른 버전깐다고 물어볼수도..\n",
    "\n",
    "pip / conda intall 차이점 pip는 최신 패키지만 다운 받음 conda install는 적절한 버전을 다운 받기 가능"
   ]
  },
  {
   "cell_type": "markdown",
   "id": "5a36dead-a399-4e4a-ae04-c4a98bb08c6f",
   "metadata": {},
   "source": [
    "`conda install -c conda forge rise`"
   ]
  },
  {
   "cell_type": "markdown",
   "id": "43ab5bbc-0519-42fb-bad1-50f63a38e6d0",
   "metadata": {},
   "source": [
    "주피터 노트북으로 발효자 만들기, 슬라이드 쇼 만들 수 있게!\n",
    "\n",
    "주피터 노트북에서 view에서 slide show~, 슬라이드쇼 하는 중간에 수정도 가능"
   ]
  }
 ],
 "metadata": {
  "kernelspec": {
   "display_name": "Python 3 (ipykernel)",
   "language": "python",
   "name": "python3"
  },
  "language_info": {
   "codemirror_mode": {
    "name": "ipython",
    "version": 3
   },
   "file_extension": ".py",
   "mimetype": "text/x-python",
   "name": "python",
   "nbconvert_exporter": "python",
   "pygments_lexer": "ipython3",
   "version": "3.8.12"
  }
 },
 "nbformat": 4,
 "nbformat_minor": 5
}
