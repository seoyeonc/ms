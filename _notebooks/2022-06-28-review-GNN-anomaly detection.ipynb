{
 "cells": [
  {
   "cell_type": "markdown",
   "id": "5cb274e3-624b-4428-9b16-33ec919f8e3b",
   "metadata": {
    "id": "cac470df-29e7-4148-9bbd-d8b9a32fa570",
    "tags": []
   },
   "source": [
    "# (review) Graph Neural Network-Based Anomaly Detection in Multivariate Time Series\n",
    "> 논문\n",
    "\n",
    "- toc:true\n",
    "- branch: master\n",
    "- badges: true\n",
    "- comments: false\n",
    "- author: 최서연\n",
    "- categories: [GNN]"
   ]
  },
  {
   "cell_type": "markdown",
   "id": "bd662654-a78e-46bd-a011-44d1c4cdfb13",
   "metadata": {},
   "source": [
    "github: https://github.com/d-ailin/GDN"
   ]
  },
  {
   "cell_type": "markdown",
   "id": "7242bd44-de1c-4448-ac12-2c4ce6399f05",
   "metadata": {},
   "source": [
    "https://arxiv.org/pdf/2106.06947.pdf"
   ]
  },
  {
   "cell_type": "code",
   "execution_count": 64,
   "id": "cd725751-9a7c-416a-9540-8d4f5493a338",
   "metadata": {},
   "outputs": [],
   "source": [
    "import pandas as pd\n",
    "import matplotlib.pyplot as plt"
   ]
  },
  {
   "cell_type": "markdown",
   "id": "8cdbece6-6ddb-477e-b7a2-38b782a1aa93",
   "metadata": {},
   "source": [
    "### 3.1 Problem Statement"
   ]
  },
  {
   "cell_type": "markdown",
   "id": "e5b40619-5146-413c-a6b4-9d1b58fe5aab",
   "metadata": {},
   "source": [
    "- $N$ 개 sensors\n",
    "- $T_{min}$ 개 time stick\n",
    "- $S_{train} = [ s^{(1)}_{train} \\dots s^{(T_{min}}_{train} ]$"
   ]
  },
  {
   "cell_type": "code",
   "execution_count": 52,
   "id": "0a13d0f3-8239-4819-8535-94cb36198937",
   "metadata": {},
   "outputs": [
    {
     "data": {
      "text/html": [
       "<div>\n",
       "<style scoped>\n",
       "    .dataframe tbody tr th:only-of-type {\n",
       "        vertical-align: middle;\n",
       "    }\n",
       "\n",
       "    .dataframe tbody tr th {\n",
       "        vertical-align: top;\n",
       "    }\n",
       "\n",
       "    .dataframe thead th {\n",
       "        text-align: right;\n",
       "    }\n",
       "</style>\n",
       "<table border=\"1\" class=\"dataframe\">\n",
       "  <thead>\n",
       "    <tr style=\"text-align: right;\">\n",
       "      <th></th>\n",
       "      <th>0</th>\n",
       "      <th>1</th>\n",
       "      <th>2</th>\n",
       "      <th>3</th>\n",
       "      <th>4</th>\n",
       "      <th>5</th>\n",
       "      <th>6</th>\n",
       "      <th>7</th>\n",
       "      <th>8</th>\n",
       "      <th>9</th>\n",
       "      <th>...</th>\n",
       "      <th>355</th>\n",
       "      <th>356</th>\n",
       "      <th>357</th>\n",
       "      <th>358</th>\n",
       "      <th>359</th>\n",
       "      <th>360</th>\n",
       "      <th>361</th>\n",
       "      <th>362</th>\n",
       "      <th>363</th>\n",
       "      <th>364</th>\n",
       "    </tr>\n",
       "  </thead>\n",
       "  <tbody>\n",
       "    <tr>\n",
       "      <th>0</th>\n",
       "      <td>서울1</td>\n",
       "      <td>서울2</td>\n",
       "      <td>서울3</td>\n",
       "      <td>서울4</td>\n",
       "      <td>서울5</td>\n",
       "      <td>서울6</td>\n",
       "      <td>서울7</td>\n",
       "      <td>서울8</td>\n",
       "      <td>서울9</td>\n",
       "      <td>서울10</td>\n",
       "      <td>...</td>\n",
       "      <td>서울356</td>\n",
       "      <td>서울357</td>\n",
       "      <td>서울358</td>\n",
       "      <td>서울359</td>\n",
       "      <td>서울360</td>\n",
       "      <td>서울361</td>\n",
       "      <td>서울362</td>\n",
       "      <td>서울363</td>\n",
       "      <td>서울364</td>\n",
       "      <td>서울365</td>\n",
       "    </tr>\n",
       "    <tr>\n",
       "      <th>0</th>\n",
       "      <td>경기1</td>\n",
       "      <td>경기2</td>\n",
       "      <td>경기3</td>\n",
       "      <td>경기4</td>\n",
       "      <td>경기5</td>\n",
       "      <td>경기6</td>\n",
       "      <td>경기7</td>\n",
       "      <td>경기8</td>\n",
       "      <td>경기9</td>\n",
       "      <td>경기10</td>\n",
       "      <td>...</td>\n",
       "      <td>경기356</td>\n",
       "      <td>경기357</td>\n",
       "      <td>경기358</td>\n",
       "      <td>경기359</td>\n",
       "      <td>경기360</td>\n",
       "      <td>경기361</td>\n",
       "      <td>경기362</td>\n",
       "      <td>경기363</td>\n",
       "      <td>경기364</td>\n",
       "      <td>경기365</td>\n",
       "    </tr>\n",
       "    <tr>\n",
       "      <th>0</th>\n",
       "      <td>부산1</td>\n",
       "      <td>부산2</td>\n",
       "      <td>부산3</td>\n",
       "      <td>부산4</td>\n",
       "      <td>부산5</td>\n",
       "      <td>부산6</td>\n",
       "      <td>부산7</td>\n",
       "      <td>부산8</td>\n",
       "      <td>부산9</td>\n",
       "      <td>부산10</td>\n",
       "      <td>...</td>\n",
       "      <td>부산356</td>\n",
       "      <td>부산357</td>\n",
       "      <td>부산358</td>\n",
       "      <td>부산359</td>\n",
       "      <td>부산360</td>\n",
       "      <td>부산361</td>\n",
       "      <td>부산362</td>\n",
       "      <td>부산363</td>\n",
       "      <td>부산364</td>\n",
       "      <td>부산365</td>\n",
       "    </tr>\n",
       "  </tbody>\n",
       "</table>\n",
       "<p>3 rows × 365 columns</p>\n",
       "</div>"
      ],
      "text/plain": [
       "   0    1    2    3    4    5    6    7    8     9    ...    355    356  \\\n",
       "0  서울1  서울2  서울3  서울4  서울5  서울6  서울7  서울8  서울9  서울10  ...  서울356  서울357   \n",
       "0  경기1  경기2  경기3  경기4  경기5  경기6  경기7  경기8  경기9  경기10  ...  경기356  경기357   \n",
       "0  부산1  부산2  부산3  부산4  부산5  부산6  부산7  부산8  부산9  부산10  ...  부산356  부산357   \n",
       "\n",
       "     357    358    359    360    361    362    363    364  \n",
       "0  서울358  서울359  서울360  서울361  서울362  서울363  서울364  서울365  \n",
       "0  경기358  경기359  경기360  경기361  경기362  경기363  경기364  경기365  \n",
       "0  부산358  부산359  부산360  부산361  부산362  부산363  부산364  부산365  \n",
       "\n",
       "[3 rows x 365 columns]"
      ]
     },
     "execution_count": 52,
     "metadata": {},
     "output_type": "execute_result"
    }
   ],
   "source": [
    "Strain = pd.concat([pd.DataFrame([f\"서울{idx}\" for idx in range(1,366)]).T,\n",
    "           pd.DataFrame([f\"경기{idx}\" for idx in range(1,366)]).T,\n",
    "          pd.DataFrame([f\"부산{idx}\" for idx in range(1,366)]).T],axis=0)\n",
    "Strain"
   ]
  },
  {
   "cell_type": "code",
   "execution_count": 55,
   "id": "b39aa793-fbd8-49e7-86e7-bde08ce9a15f",
   "metadata": {},
   "outputs": [
    {
     "data": {
      "text/plain": [
       "0    서울1\n",
       "0    경기1\n",
       "0    부산1\n",
       "Name: 0, dtype: object"
      ]
     },
     "execution_count": 55,
     "metadata": {},
     "output_type": "execute_result"
    }
   ],
   "source": [
    "Strain_1 = Strain.iloc[:,0]\n",
    "Strain_1"
   ]
  },
  {
   "cell_type": "code",
   "execution_count": 56,
   "id": "7db18001-ed05-408f-9a62-1c3f12c0c395",
   "metadata": {},
   "outputs": [
    {
     "data": {
      "text/plain": [
       "0    서울365\n",
       "0    경기365\n",
       "0    부산365\n",
       "Name: 364, dtype: object"
      ]
     },
     "execution_count": 56,
     "metadata": {},
     "output_type": "execute_result"
    }
   ],
   "source": [
    "Strain_365 = Strain.iloc[:,364]\n",
    "Strain_365"
   ]
  },
  {
   "cell_type": "markdown",
   "id": "db492e0a-0bd0-4520-804e-0a3a3d637319",
   "metadata": {},
   "source": [
    "$S_{train}^{(t)} \\in \\mathbb{R}^{N}$"
   ]
  },
  {
   "cell_type": "code",
   "execution_count": 58,
   "id": "c70484cc-d8f6-4846-9966-3ba81f832e88",
   "metadata": {},
   "outputs": [
    {
     "data": {
      "text/html": [
       "<div>\n",
       "<style scoped>\n",
       "    .dataframe tbody tr th:only-of-type {\n",
       "        vertical-align: middle;\n",
       "    }\n",
       "\n",
       "    .dataframe tbody tr th {\n",
       "        vertical-align: top;\n",
       "    }\n",
       "\n",
       "    .dataframe thead th {\n",
       "        text-align: right;\n",
       "    }\n",
       "</style>\n",
       "<table border=\"1\" class=\"dataframe\">\n",
       "  <thead>\n",
       "    <tr style=\"text-align: right;\">\n",
       "      <th></th>\n",
       "      <th>0</th>\n",
       "      <th>1</th>\n",
       "      <th>2</th>\n",
       "      <th>3</th>\n",
       "      <th>4</th>\n",
       "      <th>5</th>\n",
       "      <th>6</th>\n",
       "      <th>7</th>\n",
       "      <th>8</th>\n",
       "      <th>9</th>\n",
       "      <th>...</th>\n",
       "      <th>355</th>\n",
       "      <th>356</th>\n",
       "      <th>357</th>\n",
       "      <th>358</th>\n",
       "      <th>359</th>\n",
       "      <th>360</th>\n",
       "      <th>361</th>\n",
       "      <th>362</th>\n",
       "      <th>363</th>\n",
       "      <th>364</th>\n",
       "    </tr>\n",
       "  </thead>\n",
       "  <tbody>\n",
       "    <tr>\n",
       "      <th>0</th>\n",
       "      <td>서울366</td>\n",
       "      <td>서울367</td>\n",
       "      <td>서울368</td>\n",
       "      <td>서울369</td>\n",
       "      <td>서울370</td>\n",
       "      <td>서울371</td>\n",
       "      <td>서울372</td>\n",
       "      <td>서울373</td>\n",
       "      <td>서울374</td>\n",
       "      <td>서울375</td>\n",
       "      <td>...</td>\n",
       "      <td>서울721</td>\n",
       "      <td>서울722</td>\n",
       "      <td>서울723</td>\n",
       "      <td>서울724</td>\n",
       "      <td>서울725</td>\n",
       "      <td>서울726</td>\n",
       "      <td>서울727</td>\n",
       "      <td>서울728</td>\n",
       "      <td>서울729</td>\n",
       "      <td>서울730</td>\n",
       "    </tr>\n",
       "    <tr>\n",
       "      <th>0</th>\n",
       "      <td>경기366</td>\n",
       "      <td>경기367</td>\n",
       "      <td>경기368</td>\n",
       "      <td>경기369</td>\n",
       "      <td>경기370</td>\n",
       "      <td>경기371</td>\n",
       "      <td>경기372</td>\n",
       "      <td>경기373</td>\n",
       "      <td>경기374</td>\n",
       "      <td>경기375</td>\n",
       "      <td>...</td>\n",
       "      <td>경기721</td>\n",
       "      <td>경기722</td>\n",
       "      <td>경기723</td>\n",
       "      <td>경기724</td>\n",
       "      <td>경기725</td>\n",
       "      <td>경기726</td>\n",
       "      <td>경기727</td>\n",
       "      <td>경기728</td>\n",
       "      <td>경기729</td>\n",
       "      <td>경기730</td>\n",
       "    </tr>\n",
       "    <tr>\n",
       "      <th>0</th>\n",
       "      <td>부산366</td>\n",
       "      <td>부산367</td>\n",
       "      <td>부산368</td>\n",
       "      <td>부산369</td>\n",
       "      <td>부산370</td>\n",
       "      <td>부산371</td>\n",
       "      <td>부산372</td>\n",
       "      <td>부산373</td>\n",
       "      <td>부산374</td>\n",
       "      <td>부산375</td>\n",
       "      <td>...</td>\n",
       "      <td>부산721</td>\n",
       "      <td>부산722</td>\n",
       "      <td>부산723</td>\n",
       "      <td>부산724</td>\n",
       "      <td>부산725</td>\n",
       "      <td>부산726</td>\n",
       "      <td>부산727</td>\n",
       "      <td>부산728</td>\n",
       "      <td>부산729</td>\n",
       "      <td>부산730</td>\n",
       "    </tr>\n",
       "  </tbody>\n",
       "</table>\n",
       "<p>3 rows × 365 columns</p>\n",
       "</div>"
      ],
      "text/plain": [
       "     0      1      2      3      4      5      6      7      8      9    ...  \\\n",
       "0  서울366  서울367  서울368  서울369  서울370  서울371  서울372  서울373  서울374  서울375  ...   \n",
       "0  경기366  경기367  경기368  경기369  경기370  경기371  경기372  경기373  경기374  경기375  ...   \n",
       "0  부산366  부산367  부산368  부산369  부산370  부산371  부산372  부산373  부산374  부산375  ...   \n",
       "\n",
       "     355    356    357    358    359    360    361    362    363    364  \n",
       "0  서울721  서울722  서울723  서울724  서울725  서울726  서울727  서울728  서울729  서울730  \n",
       "0  경기721  경기722  경기723  경기724  경기725  경기726  경기727  경기728  경기729  경기730  \n",
       "0  부산721  부산722  부산723  부산724  부산725  부산726  부산727  부산728  부산729  부산730  \n",
       "\n",
       "[3 rows x 365 columns]"
      ]
     },
     "execution_count": 58,
     "metadata": {},
     "output_type": "execute_result"
    }
   ],
   "source": [
    "Stest = pd.concat([pd.DataFrame([f\"서울{idx}\" for idx in range(366,731)]).T,\n",
    "           pd.DataFrame([f\"경기{idx}\" for idx in range(366,731)]).T,\n",
    "          pd.DataFrame([f\"부산{idx}\" for idx in range(366,731)]).T],axis=0)\n",
    "Stest"
   ]
  },
  {
   "cell_type": "code",
   "execution_count": 59,
   "id": "b850afe8-46d9-4217-8178-28bc1c1310a4",
   "metadata": {},
   "outputs": [
    {
     "data": {
      "text/plain": [
       "0    서울366\n",
       "0    경기366\n",
       "0    부산366\n",
       "Name: 0, dtype: object"
      ]
     },
     "execution_count": 59,
     "metadata": {},
     "output_type": "execute_result"
    }
   ],
   "source": [
    "Steat_1 = Stest.iloc[:,0]\n",
    "Steat_1"
   ]
  },
  {
   "cell_type": "code",
   "execution_count": 62,
   "id": "b4964801-e9a4-43b6-9de9-55d2753bd600",
   "metadata": {},
   "outputs": [
    {
     "data": {
      "text/plain": [
       "0    서울730\n",
       "0    경기730\n",
       "0    부산730\n",
       "Name: 364, dtype: object"
      ]
     },
     "execution_count": 62,
     "metadata": {},
     "output_type": "execute_result"
    }
   ],
   "source": [
    "Stest_365 = Stest.iloc[:,364]\n",
    "Stest_365"
   ]
  },
  {
   "cell_type": "markdown",
   "id": "717ad14a-07d0-4628-b515-18391650f7b5",
   "metadata": {},
   "source": [
    "$a(t) \\in \\{ 0,1 \\}$"
   ]
  },
  {
   "cell_type": "markdown",
   "id": "87fbb6b6-a0f9-40a0-b03b-775b672ee53a",
   "metadata": {},
   "source": [
    "$a(t) = 1$  indicates that time t is anomalous."
   ]
  },
  {
   "cell_type": "code",
   "execution_count": 68,
   "id": "f34120ce-d2bc-4e60-9f3c-c808058adfef",
   "metadata": {},
   "outputs": [
    {
     "data": {
      "text/plain": [
       "[<matplotlib.lines.Line2D at 0x7f34be1de5e0>]"
      ]
     },
     "execution_count": 68,
     "metadata": {},
     "output_type": "execute_result"
    },
    {
     "data": {
      "image/png": "[encoded data removed]",
      "text/plain": [
       "<Figure size 432x288 with 1 Axes>"
      ]
     },
     "metadata": {
      "needs_background": "light"
     },
     "output_type": "display_data"
    }
   ],
   "source": [
    "plt.plot([1,2,3,4,5,6,7,8,9,10,11],[2,2,2,2,2,4,2,2,2,2,2])"
   ]
  },
  {
   "cell_type": "markdown",
   "id": "4da0b8da-969c-4b3c-b99f-51d412a661b7",
   "metadata": {},
   "source": [
    "여기서 $a(6) = 1$, 나머지는 0"
   ]
  },
  {
   "cell_type": "markdown",
   "id": "85d50af3-8129-4b2e-ad8f-4b1d1f617abe",
   "metadata": {},
   "source": [
    "### 3.3 Sensor Embedding"
   ]
  },
  {
   "cell_type": "markdown",
   "id": "b6cfaf50-3850-4b5a-82e8-628514dfaa9f",
   "metadata": {},
   "source": [
    "we do this by introducing an embedding vector for each sensor, representing its characteristics:"
   ]
  },
  {
   "cell_type": "markdown",
   "id": "2f277851-0300-4fec-98a1-4dbdfff36757",
   "metadata": {},
   "source": [
    "$v_i \\in \\mathbb{R}^{d} , \\text{for  } i \\in \\{ 1,2, \\dots , N \\}$"
   ]
  },
  {
   "cell_type": "code",
   "execution_count": 77,
   "id": "cf152367-8269-4f2a-abe1-28cc0a9a97d7",
   "metadata": {},
   "outputs": [
    {
     "data": {
      "text/plain": [
       "['V_서울', 'V_부산', 'V_경기']"
      ]
     },
     "execution_count": 77,
     "metadata": {},
     "output_type": "execute_result"
    }
   ],
   "source": [
    "['V_서울','V_부산', 'V_경기']"
   ]
  },
  {
   "cell_type": "code",
   "execution_count": 80,
   "id": "c05e99d6-e33c-4f16-af86-953193ae460b",
   "metadata": {},
   "outputs": [
    {
     "data": {
      "text/html": [
       "<div>\n",
       "<style scoped>\n",
       "    .dataframe tbody tr th:only-of-type {\n",
       "        vertical-align: middle;\n",
       "    }\n",
       "\n",
       "    .dataframe tbody tr th {\n",
       "        vertical-align: top;\n",
       "    }\n",
       "\n",
       "    .dataframe thead th {\n",
       "        text-align: right;\n",
       "    }\n",
       "</style>\n",
       "<table border=\"1\" class=\"dataframe\">\n",
       "  <thead>\n",
       "    <tr style=\"text-align: right;\">\n",
       "      <th></th>\n",
       "      <th>0</th>\n",
       "      <th>1</th>\n",
       "      <th>2</th>\n",
       "      <th>3</th>\n",
       "      <th>4</th>\n",
       "      <th>5</th>\n",
       "      <th>6</th>\n",
       "      <th>7</th>\n",
       "      <th>8</th>\n",
       "    </tr>\n",
       "  </thead>\n",
       "  <tbody>\n",
       "    <tr>\n",
       "      <th>0</th>\n",
       "      <td>서울1</td>\n",
       "      <td>서울2</td>\n",
       "      <td>서울3</td>\n",
       "      <td>서울4</td>\n",
       "      <td>서울5</td>\n",
       "      <td>서울6</td>\n",
       "      <td>서울7</td>\n",
       "      <td>서울8</td>\n",
       "      <td>서울9</td>\n",
       "    </tr>\n",
       "  </tbody>\n",
       "</table>\n",
       "</div>"
      ],
      "text/plain": [
       "     0    1    2    3    4    5    6    7    8\n",
       "0  서울1  서울2  서울3  서울4  서울5  서울6  서울7  서울8  서울9"
      ]
     },
     "execution_count": 80,
     "metadata": {},
     "output_type": "execute_result"
    }
   ],
   "source": [
    "v_서울 = pd.DataFrame([f\"서울{idx}\" for idx in range(1,10)]).T\n",
    "v_서울"
   ]
  },
  {
   "cell_type": "markdown",
   "id": "a50de1d1-52c2-4638-90a6-4b313d3435c5",
   "metadata": {},
   "source": [
    "$v_i$의 $d$ 는 임의로 정하는 것이며, 이는 $S_{traIn}$의 행을 의미한다.\n",
    "- v_서울은 1행에서 10개를 뽑은 것"
   ]
  },
  {
   "cell_type": "markdown",
   "id": "54c146fe-4050-49c0-9e07-0ad8558bc80a",
   "metadata": {},
   "source": [
    "### 3.4 Graph Structure Learning"
   ]
  },
  {
   "cell_type": "markdown",
   "id": "e63a7381-bc47-4f11-98d7-b8826047c968",
   "metadata": {},
   "source": [
    "This prior information can be flexibly represented as a set of candidate relations $\\mathcal{C}_i$ for each sensor $i$, i.e. the sensors it could be dependent on:"
   ]
  },
  {
   "cell_type": "markdown",
   "id": "f04441ca-7412-4d8c-bf91-f631738a9517",
   "metadata": {},
   "source": [
    "$\\mathcal{C}_i \\subseteq \\{ 1,2, \\dots , N \\} \\ \\{ i \\}$"
   ]
  },
  {
   "cell_type": "code",
   "execution_count": 81,
   "id": "8e485bbd-c41e-4e65-b843-20b6dfb5e50c",
   "metadata": {},
   "outputs": [
    {
     "data": {
      "text/plain": [
       "['경기', '인천']"
      ]
     },
     "execution_count": 81,
     "metadata": {},
     "output_type": "execute_result"
    }
   ],
   "source": [
    "C_서울 = ['경기','인천']\n",
    "C_서울"
   ]
  },
  {
   "cell_type": "markdown",
   "id": "99136c08-f4d2-43eb-bc26-4afc6b249a49",
   "metadata": {},
   "source": [
    "위와 같이 인접 구역을 의미하며, 인접 거리에 대한 정의는 임의로"
   ]
  },
  {
   "cell_type": "markdown",
   "id": "60b0cd28-a46b-45c4-be30-20ab1c740101",
   "metadata": {},
   "source": [
    "$e_{ji} = \\cfrac{v_i^{\\top} v_j}{||v_i||\\cdot||v_j||} \\text{for  } j \\in \\mathcal{C}_i$"
   ]
  },
  {
   "cell_type": "markdown",
   "id": "ad49e3a4-8eed-4dc6-a474-ac5225fde79e",
   "metadata": {},
   "source": [
    "위는 distance 개념"
   ]
  },
  {
   "cell_type": "markdown",
   "id": "57e8cc5a-0a72-4b9a-a37f-9a8dc6ba1b5a",
   "metadata": {},
   "source": [
    "$A_{ji} = \\mathbb{1} \\{ j \\in \\text{TopK } (\\{e_{ki} : k \\in \\mathcal(C)_i \\} ) \\}$"
   ]
  },
  {
   "cell_type": "markdown",
   "id": "ba6efec9-3121-4ef2-b1c9-7bb09ea64b21",
   "metadata": {},
   "source": [
    "연결 되면 1이 되고, 연결되어 있지 않으면 0이 된다."
   ]
  },
  {
   "cell_type": "markdown",
   "id": "eb456b1b-e5fc-45c0-84af-16872db5b8b2",
   "metadata": {},
   "source": [
    "$e_{ji}$와 $A_{ji}$는 모두 $\\mathcal{C}_i$의 연장선이다."
   ]
  },
  {
   "cell_type": "markdown",
   "id": "e7efbf83-db7a-4b27-a140-0437ff3fc2b9",
   "metadata": {},
   "source": [
    "$\\mathcal{C}_i$에서 아무리 길게 정해도 $A_{ji}$에서 정한 top을 넘으면 잘림!"
   ]
  },
  {
   "cell_type": "markdown",
   "id": "d2d5cc35-64a1-4ce6-bf69-29a7c22fa2a4",
   "metadata": {},
   "source": [
    "TopK denotes the indices of top-k val\u0002ues among its input (i.e. the normalized dot products)."
   ]
  },
  {
   "cell_type": "markdown",
   "id": "9493577f-a022-4304-b8b0-c52be2d64a14",
   "metadata": {},
   "source": [
    "###  3.5 Graph Attention-Based Forecasting"
   ]
  },
  {
   "cell_type": "markdown",
   "id": "c2571c54-b42b-449c-9663-1e26a56cd461",
   "metadata": {},
   "source": [
    "$x^{(t)} \\in \\mathbb{R}^{N \\times w}$"
   ]
  },
  {
   "cell_type": "markdown",
   "id": "20c992fc-4ff2-409f-b3e7-4a9215e3ad24",
   "metadata": {},
   "source": [
    "$x^{(t)} := [s^{(t-w)},s^{(t-w+1)},\\dots, s^{(t-1)}]$"
   ]
  },
  {
   "cell_type": "code",
   "execution_count": 92,
   "id": "922a084e-8b73-4f7e-89e6-9511ee6c9599",
   "metadata": {},
   "outputs": [
    {
     "data": {
      "text/html": [
       "<div>\n",
       "<style scoped>\n",
       "    .dataframe tbody tr th:only-of-type {\n",
       "        vertical-align: middle;\n",
       "    }\n",
       "\n",
       "    .dataframe tbody tr th {\n",
       "        vertical-align: top;\n",
       "    }\n",
       "\n",
       "    .dataframe thead th {\n",
       "        text-align: right;\n",
       "    }\n",
       "</style>\n",
       "<table border=\"1\" class=\"dataframe\">\n",
       "  <thead>\n",
       "    <tr style=\"text-align: right;\">\n",
       "      <th></th>\n",
       "      <th>0</th>\n",
       "      <th>1</th>\n",
       "      <th>2</th>\n",
       "      <th>3</th>\n",
       "      <th>4</th>\n",
       "    </tr>\n",
       "  </thead>\n",
       "  <tbody>\n",
       "    <tr>\n",
       "      <th>0</th>\n",
       "      <td>서울1</td>\n",
       "      <td>서울2</td>\n",
       "      <td>서울t-w</td>\n",
       "      <td>서울t-2</td>\n",
       "      <td>서울t-1</td>\n",
       "    </tr>\n",
       "    <tr>\n",
       "      <th>1</th>\n",
       "      <td>경기1</td>\n",
       "      <td>경기2</td>\n",
       "      <td>경기t-w</td>\n",
       "      <td>경기t-2</td>\n",
       "      <td>경기t-1</td>\n",
       "    </tr>\n",
       "    <tr>\n",
       "      <th>2</th>\n",
       "      <td>인천1</td>\n",
       "      <td>인천2</td>\n",
       "      <td>인천t-w</td>\n",
       "      <td>인천t-2</td>\n",
       "      <td>인천t-1</td>\n",
       "    </tr>\n",
       "  </tbody>\n",
       "</table>\n",
       "</div>"
      ],
      "text/plain": [
       "     0    1      2      3      4\n",
       "0  서울1  서울2  서울t-w  서울t-2  서울t-1\n",
       "1  경기1  경기2  경기t-w  경기t-2  경기t-1\n",
       "2  인천1  인천2  인천t-w  인천t-2  인천t-1"
      ]
     },
     "execution_count": 92,
     "metadata": {},
     "output_type": "execute_result"
    }
   ],
   "source": [
    "x_t = pd.DataFrame([['서울1','서울2','서울t-w','서울t-2','서울t-1'],['경기1','경기2','경기t-w','경기t-2','경기t-1'],['인천1','인천2','인천t-w','인천t-2','인천t-1']])\n",
    "x_t"
   ]
  },
  {
   "cell_type": "markdown",
   "id": "14db343e-0b85-4ce3-ba26-846053de1583",
   "metadata": {},
   "source": [
    "이 $x_t$는 $S_{train}$에서 추출된 w 열 만큼의 데이터이다."
   ]
  },
  {
   "cell_type": "code",
   "execution_count": 99,
   "id": "934b63c7-1258-4eed-83cf-652b6191a0a4",
   "metadata": {},
   "outputs": [
    {
     "data": {
      "text/plain": [
       "0    서울t-1\n",
       "1    경기t-1\n",
       "2    인천t-1\n",
       "Name: 4, dtype: object"
      ]
     },
     "execution_count": 99,
     "metadata": {},
     "output_type": "execute_result"
    }
   ],
   "source": [
    "s_t_1 = x_t.iloc[:,4] # S(t-1)\n",
    "s_t_1"
   ]
  },
  {
   "cell_type": "code",
   "execution_count": 100,
   "id": "b72ded4a-629e-48f6-947b-8f01473827d7",
   "metadata": {},
   "outputs": [
    {
     "data": {
      "text/plain": [
       "0    서울t-w\n",
       "1    경기t-w\n",
       "2    인천t-w\n",
       "Name: 2, dtype: object"
      ]
     },
     "execution_count": 100,
     "metadata": {},
     "output_type": "execute_result"
    }
   ],
   "source": [
    "s_t_w = x_t.iloc[:,2] # S(t-w)\n",
    "s_t_w"
   ]
  },
  {
   "cell_type": "markdown",
   "id": "3aca1e35-9ea1-4368-8fcd-a2800404c9c2",
   "metadata": {},
   "source": [
    "$z_i^{(t)} = \\text{ReLU} \\big( \\alpha_{i,i} W x_{i}^{(t)} + \\sum_{j \\in \\mathbb{N}(i)} \\alpha_{i,j} W x_{j}^{(t)} \\big)$"
   ]
  },
  {
   "cell_type": "markdown",
   "id": "9a0d7819-744a-4ab0-93b4-167fd4b8cf0a",
   "metadata": {},
   "source": [
    "여기서 $z_{i}^{(t)}$는 $d \\times 1$ 행렬"
   ]
  },
  {
   "cell_type": "markdown",
   "id": "8575400a-a670-40ef-be49-a92415e2060b",
   "metadata": {},
   "source": [
    "$x_{i}^{(t)} \\in \\mathbb{R}^{w}$"
   ]
  },
  {
   "cell_type": "markdown",
   "id": "28f1c1bf-ec85-4d58-bafd-969b9b72ffae",
   "metadata": {},
   "source": [
    "$\\mathcal{N}(i) = \\{ j | A_{ji} > 0 \\}$"
   ]
  },
  {
   "cell_type": "markdown",
   "id": "7c44c091-0606-4c99-ab2e-b2518bc3d00b",
   "metadata": {},
   "source": [
    "$W \\in \\mathbb{R}^{d \\times w}$"
   ]
  },
  {
   "cell_type": "code",
   "execution_count": null,
   "id": "bca53e8a-994f-49a7-b6ed-22087b3e3d17",
   "metadata": {},
   "outputs": [],
   "source": []
  }
 ],
 "metadata": {
  "kernelspec": {
   "display_name": "Python 3 (ipykernel)",
   "language": "python",
   "name": "python3"
  },
  "language_info": {
   "codemirror_mode": {
    "name": "ipython",
    "version": 3
   },
   "file_extension": ".py",
   "mimetype": "text/x-python",
   "name": "python",
   "nbconvert_exporter": "python",
   "pygments_lexer": "ipython3",
   "version": "3.8.12"
  }
 },
 "nbformat": 4,
 "nbformat_minor": 5
}
