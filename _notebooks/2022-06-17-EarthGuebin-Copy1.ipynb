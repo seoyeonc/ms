{
 "cells": [
  {
   "cell_type": "markdown",
   "id": "5fca747e-5d9f-444c-a480-76b77415edd4",
   "metadata": {
    "id": "cac470df-29e7-4148-9bbd-d8b9a32fa570",
    "tags": []
   },
   "source": [
    "# (시도) Eearthquake\n",
    "> \n",
    "\n",
    "- toc:true\n",
    "- branch: master\n",
    "- badges: true\n",
    "- comments: false\n",
    "- author: 최서연, 최규빈"
   ]
  },
  {
   "cell_type": "markdown",
   "id": "572e82f3-c9ef-47f1-a3db-2b7a9f6149e8",
   "metadata": {},
   "source": [
    "### imports"
   ]
  },
  {
   "cell_type": "code",
   "execution_count": 570,
   "id": "f8630cda-e3f6-4431-8863-e89bf6d2ed4a",
   "metadata": {},
   "outputs": [],
   "source": [
    "import tqdm\n",
    "import numpy as np\n",
    "import pandas as pd \n",
    "import matplotlib.pyplot as plt \n",
    "import plotly.express as px\n",
    "import warnings\n",
    "warnings.simplefilter(\"ignore\", np.ComplexWarning)\n",
    "from haversine import haversine\n",
    "from IPython.display import HTML"
   ]
  },
  {
   "cell_type": "markdown",
   "id": "5701a39d-1112-4251-b0df-a696b1610ba0",
   "metadata": {},
   "source": [
    "### load data and clean it"
   ]
  },
  {
   "cell_type": "markdown",
   "id": "8c59d1b1-f6e5-4278-a7aa-c456085374d2",
   "metadata": {},
   "source": [
    "`-` load"
   ]
  },
  {
   "cell_type": "code",
   "execution_count": 571,
   "id": "d51071e5-5241-48a4-9a74-bf32bfe535fb",
   "metadata": {},
   "outputs": [
    {
     "data": {
      "text/html": [
       "<div>\n",
       "<style scoped>\n",
       "    .dataframe tbody tr th:only-of-type {\n",
       "        vertical-align: middle;\n",
       "    }\n",
       "\n",
       "    .dataframe tbody tr th {\n",
       "        vertical-align: top;\n",
       "    }\n",
       "\n",
       "    .dataframe thead th {\n",
       "        text-align: right;\n",
       "    }\n",
       "</style>\n",
       "<table border=\"1\" class=\"dataframe\">\n",
       "  <thead>\n",
       "    <tr style=\"text-align: right;\">\n",
       "      <th></th>\n",
       "      <th>Date</th>\n",
       "      <th>Latitude</th>\n",
       "      <th>Longitude</th>\n",
       "      <th>Magnitude</th>\n",
       "    </tr>\n",
       "  </thead>\n",
       "  <tbody>\n",
       "    <tr>\n",
       "      <th>0</th>\n",
       "      <td>01/02/1965</td>\n",
       "      <td>19.2460</td>\n",
       "      <td>145.6160</td>\n",
       "      <td>6.0</td>\n",
       "    </tr>\n",
       "    <tr>\n",
       "      <th>1</th>\n",
       "      <td>01/04/1965</td>\n",
       "      <td>1.8630</td>\n",
       "      <td>127.3520</td>\n",
       "      <td>5.8</td>\n",
       "    </tr>\n",
       "    <tr>\n",
       "      <th>2</th>\n",
       "      <td>01/05/1965</td>\n",
       "      <td>-20.5790</td>\n",
       "      <td>-173.9720</td>\n",
       "      <td>6.2</td>\n",
       "    </tr>\n",
       "    <tr>\n",
       "      <th>3</th>\n",
       "      <td>01/08/1965</td>\n",
       "      <td>-59.0760</td>\n",
       "      <td>-23.5570</td>\n",
       "      <td>5.8</td>\n",
       "    </tr>\n",
       "    <tr>\n",
       "      <th>4</th>\n",
       "      <td>01/09/1965</td>\n",
       "      <td>11.9380</td>\n",
       "      <td>126.4270</td>\n",
       "      <td>5.8</td>\n",
       "    </tr>\n",
       "    <tr>\n",
       "      <th>...</th>\n",
       "      <td>...</td>\n",
       "      <td>...</td>\n",
       "      <td>...</td>\n",
       "      <td>...</td>\n",
       "    </tr>\n",
       "    <tr>\n",
       "      <th>23407</th>\n",
       "      <td>12/28/2016</td>\n",
       "      <td>38.3917</td>\n",
       "      <td>-118.8941</td>\n",
       "      <td>5.6</td>\n",
       "    </tr>\n",
       "    <tr>\n",
       "      <th>23408</th>\n",
       "      <td>12/28/2016</td>\n",
       "      <td>38.3777</td>\n",
       "      <td>-118.8957</td>\n",
       "      <td>5.5</td>\n",
       "    </tr>\n",
       "    <tr>\n",
       "      <th>23409</th>\n",
       "      <td>12/28/2016</td>\n",
       "      <td>36.9179</td>\n",
       "      <td>140.4262</td>\n",
       "      <td>5.9</td>\n",
       "    </tr>\n",
       "    <tr>\n",
       "      <th>23410</th>\n",
       "      <td>12/29/2016</td>\n",
       "      <td>-9.0283</td>\n",
       "      <td>118.6639</td>\n",
       "      <td>6.3</td>\n",
       "    </tr>\n",
       "    <tr>\n",
       "      <th>23411</th>\n",
       "      <td>12/30/2016</td>\n",
       "      <td>37.3973</td>\n",
       "      <td>141.4103</td>\n",
       "      <td>5.5</td>\n",
       "    </tr>\n",
       "  </tbody>\n",
       "</table>\n",
       "<p>23412 rows × 4 columns</p>\n",
       "</div>"
      ],
      "text/plain": [
       "             Date  Latitude  Longitude  Magnitude\n",
       "0      01/02/1965   19.2460   145.6160        6.0\n",
       "1      01/04/1965    1.8630   127.3520        5.8\n",
       "2      01/05/1965  -20.5790  -173.9720        6.2\n",
       "3      01/08/1965  -59.0760   -23.5570        5.8\n",
       "4      01/09/1965   11.9380   126.4270        5.8\n",
       "...           ...       ...        ...        ...\n",
       "23407  12/28/2016   38.3917  -118.8941        5.6\n",
       "23408  12/28/2016   38.3777  -118.8957        5.5\n",
       "23409  12/28/2016   36.9179   140.4262        5.9\n",
       "23410  12/29/2016   -9.0283   118.6639        6.3\n",
       "23411  12/30/2016   37.3973   141.4103        5.5\n",
       "\n",
       "[23412 rows x 4 columns]"
      ]
     },
     "execution_count": 571,
     "metadata": {},
     "output_type": "execute_result"
    }
   ],
   "source": [
    "df= pd.read_csv('https://raw.githubusercontent.com/plotly/datasets/master/earthquakes-23k.csv')\n",
    "df"
   ]
  },
  {
   "cell_type": "markdown",
   "id": "7199f94e-ede8-4e92-a145-ae2cb6ab8acf",
   "metadata": {},
   "source": [
    "https://www.weather.go.kr/w/eqk-vol/search/korea.do?schOption=&xls=0&startTm=2012-01-02&endTm=2022-06-17&startSize=2&endSize=&startLat=&endLat=&startLon=&endLon=&lat=&lon=&dist=&keyword=&dpType=m"
   ]
  },
  {
   "cell_type": "code",
   "execution_count": 572,
   "id": "995605be-35de-46d6-833e-60ec52725c32",
   "metadata": {},
   "outputs": [
    {
     "data": {
      "text/html": [
       "<div>\n",
       "<style scoped>\n",
       "    .dataframe tbody tr th:only-of-type {\n",
       "        vertical-align: middle;\n",
       "    }\n",
       "\n",
       "    .dataframe tbody tr th {\n",
       "        vertical-align: top;\n",
       "    }\n",
       "\n",
       "    .dataframe thead th {\n",
       "        text-align: right;\n",
       "    }\n",
       "</style>\n",
       "<table border=\"1\" class=\"dataframe\">\n",
       "  <thead>\n",
       "    <tr style=\"text-align: right;\">\n",
       "      <th></th>\n",
       "      <th>발생시각</th>\n",
       "      <th>Magnitude</th>\n",
       "      <th>Latitude</th>\n",
       "      <th>Longitude</th>\n",
       "    </tr>\n",
       "  </thead>\n",
       "  <tbody>\n",
       "    <tr>\n",
       "      <th>0</th>\n",
       "      <td>2016/12/31 0:00</td>\n",
       "      <td>2.6</td>\n",
       "      <td>39.31</td>\n",
       "      <td>126.27</td>\n",
       "    </tr>\n",
       "    <tr>\n",
       "      <th>1</th>\n",
       "      <td>2016/12/30 0:00</td>\n",
       "      <td>2.5</td>\n",
       "      <td>38.64</td>\n",
       "      <td>125.76</td>\n",
       "    </tr>\n",
       "    <tr>\n",
       "      <th>2</th>\n",
       "      <td>2016/12/29 0:00</td>\n",
       "      <td>2.3</td>\n",
       "      <td>36.12</td>\n",
       "      <td>129.36</td>\n",
       "    </tr>\n",
       "    <tr>\n",
       "      <th>3</th>\n",
       "      <td>2016/12/29 0:00</td>\n",
       "      <td>2.6</td>\n",
       "      <td>38.71</td>\n",
       "      <td>125.76</td>\n",
       "    </tr>\n",
       "    <tr>\n",
       "      <th>4</th>\n",
       "      <td>2016/12/25 0:00</td>\n",
       "      <td>2.5</td>\n",
       "      <td>35.78</td>\n",
       "      <td>129.31</td>\n",
       "    </tr>\n",
       "    <tr>\n",
       "      <th>...</th>\n",
       "      <td>...</td>\n",
       "      <td>...</td>\n",
       "      <td>...</td>\n",
       "      <td>...</td>\n",
       "    </tr>\n",
       "    <tr>\n",
       "      <th>994</th>\n",
       "      <td>2000/04/12 0:00</td>\n",
       "      <td>3.5</td>\n",
       "      <td>36.90</td>\n",
       "      <td>125.30</td>\n",
       "    </tr>\n",
       "    <tr>\n",
       "      <th>995</th>\n",
       "      <td>2000/03/21 0:00</td>\n",
       "      <td>2.3</td>\n",
       "      <td>36.50</td>\n",
       "      <td>126.00</td>\n",
       "    </tr>\n",
       "    <tr>\n",
       "      <th>996</th>\n",
       "      <td>2000/03/15 0:00</td>\n",
       "      <td>2.5</td>\n",
       "      <td>36.30</td>\n",
       "      <td>125.90</td>\n",
       "    </tr>\n",
       "    <tr>\n",
       "      <th>997</th>\n",
       "      <td>2000/02/21 0:00</td>\n",
       "      <td>2.1</td>\n",
       "      <td>35.80</td>\n",
       "      <td>128.20</td>\n",
       "    </tr>\n",
       "    <tr>\n",
       "      <th>998</th>\n",
       "      <td>2000/01/18 0:00</td>\n",
       "      <td>3.0</td>\n",
       "      <td>38.70</td>\n",
       "      <td>127.90</td>\n",
       "    </tr>\n",
       "  </tbody>\n",
       "</table>\n",
       "<p>999 rows × 4 columns</p>\n",
       "</div>"
      ],
      "text/plain": [
       "                발생시각  Magnitude  Latitude  Longitude\n",
       "0    2016/12/31 0:00        2.6     39.31     126.27\n",
       "1    2016/12/30 0:00        2.5     38.64     125.76\n",
       "2    2016/12/29 0:00        2.3     36.12     129.36\n",
       "3    2016/12/29 0:00        2.6     38.71     125.76\n",
       "4    2016/12/25 0:00        2.5     35.78     129.31\n",
       "..               ...        ...       ...        ...\n",
       "994  2000/04/12 0:00        3.5     36.90     125.30\n",
       "995  2000/03/21 0:00        2.3     36.50     126.00\n",
       "996  2000/03/15 0:00        2.5     36.30     125.90\n",
       "997  2000/02/21 0:00        2.1     35.80     128.20\n",
       "998  2000/01/18 0:00        3.0     38.70     127.90\n",
       "\n",
       "[999 rows x 4 columns]"
      ]
     },
     "execution_count": 572,
     "metadata": {},
     "output_type": "execute_result"
    }
   ],
   "source": [
    "df_korea= pd.read_csv('korea2.csv').rename(columns={'위도':'Latitude','경도':'Longitude','규모':'Magnitude'})\n",
    "df_korea"
   ]
  },
  {
   "cell_type": "code",
   "execution_count": 573,
   "id": "0ce7fb7f-6e6d-4b3b-815a-fdd7d66b31bf",
   "metadata": {},
   "outputs": [
    {
     "data": {
      "text/html": [
       "<div>\n",
       "<style scoped>\n",
       "    .dataframe tbody tr th:only-of-type {\n",
       "        vertical-align: middle;\n",
       "    }\n",
       "\n",
       "    .dataframe tbody tr th {\n",
       "        vertical-align: top;\n",
       "    }\n",
       "\n",
       "    .dataframe thead th {\n",
       "        text-align: right;\n",
       "    }\n",
       "</style>\n",
       "<table border=\"1\" class=\"dataframe\">\n",
       "  <thead>\n",
       "    <tr style=\"text-align: right;\">\n",
       "      <th></th>\n",
       "      <th>time</th>\n",
       "      <th>Latitude</th>\n",
       "      <th>Longitude</th>\n",
       "      <th>Magnitude</th>\n",
       "    </tr>\n",
       "  </thead>\n",
       "  <tbody>\n",
       "    <tr>\n",
       "      <th>0</th>\n",
       "      <td>2005-12-31T12:14:02.240Z</td>\n",
       "      <td>-28.9880</td>\n",
       "      <td>-71.519000</td>\n",
       "      <td>5.00</td>\n",
       "    </tr>\n",
       "    <tr>\n",
       "      <th>1</th>\n",
       "      <td>2005-12-31T09:29:27.350Z</td>\n",
       "      <td>-27.1800</td>\n",
       "      <td>-176.434000</td>\n",
       "      <td>5.20</td>\n",
       "    </tr>\n",
       "    <tr>\n",
       "      <th>2</th>\n",
       "      <td>2005-12-30T18:26:43.900Z</td>\n",
       "      <td>7.5290</td>\n",
       "      <td>-82.266000</td>\n",
       "      <td>6.10</td>\n",
       "    </tr>\n",
       "    <tr>\n",
       "      <th>3</th>\n",
       "      <td>2005-12-29T08:30:34.480Z</td>\n",
       "      <td>27.3670</td>\n",
       "      <td>139.853000</td>\n",
       "      <td>5.30</td>\n",
       "    </tr>\n",
       "    <tr>\n",
       "      <th>4</th>\n",
       "      <td>2005-12-29T07:20:55.730Z</td>\n",
       "      <td>25.0100</td>\n",
       "      <td>96.197000</td>\n",
       "      <td>5.10</td>\n",
       "    </tr>\n",
       "    <tr>\n",
       "      <th>...</th>\n",
       "      <td>...</td>\n",
       "      <td>...</td>\n",
       "      <td>...</td>\n",
       "      <td>...</td>\n",
       "    </tr>\n",
       "    <tr>\n",
       "      <th>42809</th>\n",
       "      <td>2015-01-02T10:15:34.380Z</td>\n",
       "      <td>50.8632</td>\n",
       "      <td>-130.365400</td>\n",
       "      <td>5.40</td>\n",
       "    </tr>\n",
       "    <tr>\n",
       "      <th>42810</th>\n",
       "      <td>2015-01-02T08:25:52.660Z</td>\n",
       "      <td>6.4488</td>\n",
       "      <td>60.298500</td>\n",
       "      <td>5.40</td>\n",
       "    </tr>\n",
       "    <tr>\n",
       "      <th>42811</th>\n",
       "      <td>2015-01-02T08:21:55.900Z</td>\n",
       "      <td>6.5739</td>\n",
       "      <td>60.365300</td>\n",
       "      <td>5.50</td>\n",
       "    </tr>\n",
       "    <tr>\n",
       "      <th>42812</th>\n",
       "      <td>2015-01-01T12:16:14.570Z</td>\n",
       "      <td>40.4420</td>\n",
       "      <td>-125.774667</td>\n",
       "      <td>5.36</td>\n",
       "    </tr>\n",
       "    <tr>\n",
       "      <th>42813</th>\n",
       "      <td>2015-01-01T08:49:53.200Z</td>\n",
       "      <td>28.7280</td>\n",
       "      <td>51.858000</td>\n",
       "      <td>5.10</td>\n",
       "    </tr>\n",
       "  </tbody>\n",
       "</table>\n",
       "<p>42814 rows × 4 columns</p>\n",
       "</div>"
      ],
      "text/plain": [
       "                           time  Latitude   Longitude  Magnitude\n",
       "0      2005-12-31T12:14:02.240Z  -28.9880  -71.519000       5.00\n",
       "1      2005-12-31T09:29:27.350Z  -27.1800 -176.434000       5.20\n",
       "2      2005-12-30T18:26:43.900Z    7.5290  -82.266000       6.10\n",
       "3      2005-12-29T08:30:34.480Z   27.3670  139.853000       5.30\n",
       "4      2005-12-29T07:20:55.730Z   25.0100   96.197000       5.10\n",
       "...                         ...       ...         ...        ...\n",
       "42809  2015-01-02T10:15:34.380Z   50.8632 -130.365400       5.40\n",
       "42810  2015-01-02T08:25:52.660Z    6.4488   60.298500       5.40\n",
       "42811  2015-01-02T08:21:55.900Z    6.5739   60.365300       5.50\n",
       "42812  2015-01-01T12:16:14.570Z   40.4420 -125.774667       5.36\n",
       "42813  2015-01-01T08:49:53.200Z   28.7280   51.858000       5.10\n",
       "\n",
       "[42814 rows x 4 columns]"
      ]
     },
     "execution_count": 573,
     "metadata": {},
     "output_type": "execute_result"
    }
   ],
   "source": [
    "df_global= pd.concat([pd.read_csv('00_05.csv'),pd.read_csv('05_10.csv'),pd.read_csv('10_15.csv'),pd.read_csv('15_20.csv')]).iloc[:,[0,1,2,4]].rename(columns={'latitude':'Latitude','longitude':'Longitude','mag':'Magnitude'}).reset_index().iloc[:,1:]\n",
    "df_global"
   ]
  },
  {
   "cell_type": "markdown",
   "id": "bfa8ecef-a7d9-4fec-bd52-0963f7463d15",
   "metadata": {},
   "source": [
    "`-` cleaning"
   ]
  },
  {
   "cell_type": "code",
   "execution_count": 574,
   "id": "4bdde104-5708-4d93-9443-02be730b970b",
   "metadata": {},
   "outputs": [
    {
     "data": {
      "text/plain": [
       "3378    1975-02-23T02:58:41.000Z\n",
       "Name: Date, dtype: object"
      ]
     },
     "execution_count": 574,
     "metadata": {},
     "output_type": "execute_result"
    }
   ],
   "source": [
    "df.Date[df.Date == '1975-02-23T02:58:41.000Z']"
   ]
  },
  {
   "cell_type": "code",
   "execution_count": 575,
   "id": "f6dded53-1ee4-4516-9e3a-7ef269279818",
   "metadata": {},
   "outputs": [],
   "source": [
    "df.iloc[3378,0] = '02/03/1975'"
   ]
  },
  {
   "cell_type": "code",
   "execution_count": 576,
   "id": "098c6f68-5dce-4d4e-afa7-5c13080fca2d",
   "metadata": {},
   "outputs": [
    {
     "data": {
      "text/plain": [
       "7512    1985-04-28T02:53:41.530Z\n",
       "Name: Date, dtype: object"
      ]
     },
     "execution_count": 576,
     "metadata": {},
     "output_type": "execute_result"
    }
   ],
   "source": [
    "df.Date[df.Date == '1985-04-28T02:53:41.530Z']"
   ]
  },
  {
   "cell_type": "code",
   "execution_count": 577,
   "id": "016111d3-fe84-45e4-8e7f-5feb0ef1d100",
   "metadata": {},
   "outputs": [],
   "source": [
    "df.iloc[7512,0] = '04/28/1985'"
   ]
  },
  {
   "cell_type": "code",
   "execution_count": 578,
   "id": "9fb351b8-8d99-4934-b00f-b611a7ab8a34",
   "metadata": {},
   "outputs": [
    {
     "data": {
      "text/plain": [
       "20650    2011-03-13T02:23:34.520Z\n",
       "Name: Date, dtype: object"
      ]
     },
     "execution_count": 578,
     "metadata": {},
     "output_type": "execute_result"
    }
   ],
   "source": [
    "df.Date[df.Date == '2011-03-13T02:23:34.520Z']"
   ]
  },
  {
   "cell_type": "code",
   "execution_count": 579,
   "id": "22f313ad-ecf9-4b2b-8dad-542af76a811b",
   "metadata": {},
   "outputs": [],
   "source": [
    "df.iloc[20650,0] = '03/13/2011'"
   ]
  },
  {
   "cell_type": "code",
   "execution_count": 580,
   "id": "b9592a92-dfd4-4bbe-a194-16568d9863d6",
   "metadata": {},
   "outputs": [
    {
     "data": {
      "text/html": [
       "<div>\n",
       "<style scoped>\n",
       "    .dataframe tbody tr th:only-of-type {\n",
       "        vertical-align: middle;\n",
       "    }\n",
       "\n",
       "    .dataframe tbody tr th {\n",
       "        vertical-align: top;\n",
       "    }\n",
       "\n",
       "    .dataframe thead th {\n",
       "        text-align: right;\n",
       "    }\n",
       "</style>\n",
       "<table border=\"1\" class=\"dataframe\">\n",
       "  <thead>\n",
       "    <tr style=\"text-align: right;\">\n",
       "      <th></th>\n",
       "      <th>Latitude</th>\n",
       "      <th>Longitude</th>\n",
       "      <th>Magnitude</th>\n",
       "      <th>Year</th>\n",
       "    </tr>\n",
       "  </thead>\n",
       "  <tbody>\n",
       "    <tr>\n",
       "      <th>0</th>\n",
       "      <td>19.2460</td>\n",
       "      <td>145.6160</td>\n",
       "      <td>6.0</td>\n",
       "      <td>1965</td>\n",
       "    </tr>\n",
       "    <tr>\n",
       "      <th>1</th>\n",
       "      <td>1.8630</td>\n",
       "      <td>127.3520</td>\n",
       "      <td>5.8</td>\n",
       "      <td>1965</td>\n",
       "    </tr>\n",
       "    <tr>\n",
       "      <th>2</th>\n",
       "      <td>-20.5790</td>\n",
       "      <td>-173.9720</td>\n",
       "      <td>6.2</td>\n",
       "      <td>1965</td>\n",
       "    </tr>\n",
       "    <tr>\n",
       "      <th>3</th>\n",
       "      <td>-59.0760</td>\n",
       "      <td>-23.5570</td>\n",
       "      <td>5.8</td>\n",
       "      <td>1965</td>\n",
       "    </tr>\n",
       "    <tr>\n",
       "      <th>4</th>\n",
       "      <td>11.9380</td>\n",
       "      <td>126.4270</td>\n",
       "      <td>5.8</td>\n",
       "      <td>1965</td>\n",
       "    </tr>\n",
       "    <tr>\n",
       "      <th>...</th>\n",
       "      <td>...</td>\n",
       "      <td>...</td>\n",
       "      <td>...</td>\n",
       "      <td>...</td>\n",
       "    </tr>\n",
       "    <tr>\n",
       "      <th>23407</th>\n",
       "      <td>38.3917</td>\n",
       "      <td>-118.8941</td>\n",
       "      <td>5.6</td>\n",
       "      <td>2016</td>\n",
       "    </tr>\n",
       "    <tr>\n",
       "      <th>23408</th>\n",
       "      <td>38.3777</td>\n",
       "      <td>-118.8957</td>\n",
       "      <td>5.5</td>\n",
       "      <td>2016</td>\n",
       "    </tr>\n",
       "    <tr>\n",
       "      <th>23409</th>\n",
       "      <td>36.9179</td>\n",
       "      <td>140.4262</td>\n",
       "      <td>5.9</td>\n",
       "      <td>2016</td>\n",
       "    </tr>\n",
       "    <tr>\n",
       "      <th>23410</th>\n",
       "      <td>-9.0283</td>\n",
       "      <td>118.6639</td>\n",
       "      <td>6.3</td>\n",
       "      <td>2016</td>\n",
       "    </tr>\n",
       "    <tr>\n",
       "      <th>23411</th>\n",
       "      <td>37.3973</td>\n",
       "      <td>141.4103</td>\n",
       "      <td>5.5</td>\n",
       "      <td>2016</td>\n",
       "    </tr>\n",
       "  </tbody>\n",
       "</table>\n",
       "<p>23412 rows × 4 columns</p>\n",
       "</div>"
      ],
      "text/plain": [
       "       Latitude  Longitude  Magnitude  Year\n",
       "0       19.2460   145.6160        6.0  1965\n",
       "1        1.8630   127.3520        5.8  1965\n",
       "2      -20.5790  -173.9720        6.2  1965\n",
       "3      -59.0760   -23.5570        5.8  1965\n",
       "4       11.9380   126.4270        5.8  1965\n",
       "...         ...        ...        ...   ...\n",
       "23407   38.3917  -118.8941        5.6  2016\n",
       "23408   38.3777  -118.8957        5.5  2016\n",
       "23409   36.9179   140.4262        5.9  2016\n",
       "23410   -9.0283   118.6639        6.3  2016\n",
       "23411   37.3973   141.4103        5.5  2016\n",
       "\n",
       "[23412 rows x 4 columns]"
      ]
     },
     "execution_count": 580,
     "metadata": {},
     "output_type": "execute_result"
    }
   ],
   "source": [
    "df= df.assign(Year=list(map(lambda x: x.split('/')[-1], df.Date))).iloc[:,1:]\n",
    "df"
   ]
  },
  {
   "cell_type": "code",
   "execution_count": 581,
   "id": "3c5aec44-4b7a-461f-bbdd-b0db15bd2bad",
   "metadata": {},
   "outputs": [
    {
     "data": {
      "text/html": [
       "<div>\n",
       "<style scoped>\n",
       "    .dataframe tbody tr th:only-of-type {\n",
       "        vertical-align: middle;\n",
       "    }\n",
       "\n",
       "    .dataframe tbody tr th {\n",
       "        vertical-align: top;\n",
       "    }\n",
       "\n",
       "    .dataframe thead th {\n",
       "        text-align: right;\n",
       "    }\n",
       "</style>\n",
       "<table border=\"1\" class=\"dataframe\">\n",
       "  <thead>\n",
       "    <tr style=\"text-align: right;\">\n",
       "      <th></th>\n",
       "      <th>Magnitude</th>\n",
       "      <th>Latitude</th>\n",
       "      <th>Longitude</th>\n",
       "      <th>Year</th>\n",
       "    </tr>\n",
       "  </thead>\n",
       "  <tbody>\n",
       "    <tr>\n",
       "      <th>0</th>\n",
       "      <td>2.6</td>\n",
       "      <td>39.31</td>\n",
       "      <td>126.27</td>\n",
       "      <td>2016</td>\n",
       "    </tr>\n",
       "    <tr>\n",
       "      <th>1</th>\n",
       "      <td>2.5</td>\n",
       "      <td>38.64</td>\n",
       "      <td>125.76</td>\n",
       "      <td>2016</td>\n",
       "    </tr>\n",
       "    <tr>\n",
       "      <th>2</th>\n",
       "      <td>2.3</td>\n",
       "      <td>36.12</td>\n",
       "      <td>129.36</td>\n",
       "      <td>2016</td>\n",
       "    </tr>\n",
       "    <tr>\n",
       "      <th>3</th>\n",
       "      <td>2.6</td>\n",
       "      <td>38.71</td>\n",
       "      <td>125.76</td>\n",
       "      <td>2016</td>\n",
       "    </tr>\n",
       "    <tr>\n",
       "      <th>4</th>\n",
       "      <td>2.5</td>\n",
       "      <td>35.78</td>\n",
       "      <td>129.31</td>\n",
       "      <td>2016</td>\n",
       "    </tr>\n",
       "    <tr>\n",
       "      <th>...</th>\n",
       "      <td>...</td>\n",
       "      <td>...</td>\n",
       "      <td>...</td>\n",
       "      <td>...</td>\n",
       "    </tr>\n",
       "    <tr>\n",
       "      <th>994</th>\n",
       "      <td>3.5</td>\n",
       "      <td>36.90</td>\n",
       "      <td>125.30</td>\n",
       "      <td>2000</td>\n",
       "    </tr>\n",
       "    <tr>\n",
       "      <th>995</th>\n",
       "      <td>2.3</td>\n",
       "      <td>36.50</td>\n",
       "      <td>126.00</td>\n",
       "      <td>2000</td>\n",
       "    </tr>\n",
       "    <tr>\n",
       "      <th>996</th>\n",
       "      <td>2.5</td>\n",
       "      <td>36.30</td>\n",
       "      <td>125.90</td>\n",
       "      <td>2000</td>\n",
       "    </tr>\n",
       "    <tr>\n",
       "      <th>997</th>\n",
       "      <td>2.1</td>\n",
       "      <td>35.80</td>\n",
       "      <td>128.20</td>\n",
       "      <td>2000</td>\n",
       "    </tr>\n",
       "    <tr>\n",
       "      <th>998</th>\n",
       "      <td>3.0</td>\n",
       "      <td>38.70</td>\n",
       "      <td>127.90</td>\n",
       "      <td>2000</td>\n",
       "    </tr>\n",
       "  </tbody>\n",
       "</table>\n",
       "<p>999 rows × 4 columns</p>\n",
       "</div>"
      ],
      "text/plain": [
       "     Magnitude  Latitude  Longitude  Year\n",
       "0          2.6     39.31     126.27  2016\n",
       "1          2.5     38.64     125.76  2016\n",
       "2          2.3     36.12     129.36  2016\n",
       "3          2.6     38.71     125.76  2016\n",
       "4          2.5     35.78     129.31  2016\n",
       "..         ...       ...        ...   ...\n",
       "994        3.5     36.90     125.30  2000\n",
       "995        2.3     36.50     126.00  2000\n",
       "996        2.5     36.30     125.90  2000\n",
       "997        2.1     35.80     128.20  2000\n",
       "998        3.0     38.70     127.90  2000\n",
       "\n",
       "[999 rows x 4 columns]"
      ]
     },
     "execution_count": 581,
     "metadata": {},
     "output_type": "execute_result"
    }
   ],
   "source": [
    "df_korea = df_korea.assign(Year=list(map(lambda x: x.split('/')[0], df_korea.발생시각))).iloc[:,1:]\n",
    "df_korea"
   ]
  },
  {
   "cell_type": "code",
   "execution_count": 582,
   "id": "cdb67b1a-a7c4-45ee-92c8-f6b50099698d",
   "metadata": {},
   "outputs": [
    {
     "data": {
      "text/html": [
       "<div>\n",
       "<style scoped>\n",
       "    .dataframe tbody tr th:only-of-type {\n",
       "        vertical-align: middle;\n",
       "    }\n",
       "\n",
       "    .dataframe tbody tr th {\n",
       "        vertical-align: top;\n",
       "    }\n",
       "\n",
       "    .dataframe thead th {\n",
       "        text-align: right;\n",
       "    }\n",
       "</style>\n",
       "<table border=\"1\" class=\"dataframe\">\n",
       "  <thead>\n",
       "    <tr style=\"text-align: right;\">\n",
       "      <th></th>\n",
       "      <th>Latitude</th>\n",
       "      <th>Longitude</th>\n",
       "      <th>Magnitude</th>\n",
       "      <th>Year</th>\n",
       "    </tr>\n",
       "  </thead>\n",
       "  <tbody>\n",
       "    <tr>\n",
       "      <th>0</th>\n",
       "      <td>-28.9880</td>\n",
       "      <td>-71.519000</td>\n",
       "      <td>5.00</td>\n",
       "      <td>2005</td>\n",
       "    </tr>\n",
       "    <tr>\n",
       "      <th>1</th>\n",
       "      <td>-27.1800</td>\n",
       "      <td>-176.434000</td>\n",
       "      <td>5.20</td>\n",
       "      <td>2005</td>\n",
       "    </tr>\n",
       "    <tr>\n",
       "      <th>2</th>\n",
       "      <td>7.5290</td>\n",
       "      <td>-82.266000</td>\n",
       "      <td>6.10</td>\n",
       "      <td>2005</td>\n",
       "    </tr>\n",
       "    <tr>\n",
       "      <th>3</th>\n",
       "      <td>27.3670</td>\n",
       "      <td>139.853000</td>\n",
       "      <td>5.30</td>\n",
       "      <td>2005</td>\n",
       "    </tr>\n",
       "    <tr>\n",
       "      <th>4</th>\n",
       "      <td>25.0100</td>\n",
       "      <td>96.197000</td>\n",
       "      <td>5.10</td>\n",
       "      <td>2005</td>\n",
       "    </tr>\n",
       "    <tr>\n",
       "      <th>...</th>\n",
       "      <td>...</td>\n",
       "      <td>...</td>\n",
       "      <td>...</td>\n",
       "      <td>...</td>\n",
       "    </tr>\n",
       "    <tr>\n",
       "      <th>42809</th>\n",
       "      <td>50.8632</td>\n",
       "      <td>-130.365400</td>\n",
       "      <td>5.40</td>\n",
       "      <td>2015</td>\n",
       "    </tr>\n",
       "    <tr>\n",
       "      <th>42810</th>\n",
       "      <td>6.4488</td>\n",
       "      <td>60.298500</td>\n",
       "      <td>5.40</td>\n",
       "      <td>2015</td>\n",
       "    </tr>\n",
       "    <tr>\n",
       "      <th>42811</th>\n",
       "      <td>6.5739</td>\n",
       "      <td>60.365300</td>\n",
       "      <td>5.50</td>\n",
       "      <td>2015</td>\n",
       "    </tr>\n",
       "    <tr>\n",
       "      <th>42812</th>\n",
       "      <td>40.4420</td>\n",
       "      <td>-125.774667</td>\n",
       "      <td>5.36</td>\n",
       "      <td>2015</td>\n",
       "    </tr>\n",
       "    <tr>\n",
       "      <th>42813</th>\n",
       "      <td>28.7280</td>\n",
       "      <td>51.858000</td>\n",
       "      <td>5.10</td>\n",
       "      <td>2015</td>\n",
       "    </tr>\n",
       "  </tbody>\n",
       "</table>\n",
       "<p>42814 rows × 4 columns</p>\n",
       "</div>"
      ],
      "text/plain": [
       "       Latitude   Longitude  Magnitude  Year\n",
       "0      -28.9880  -71.519000       5.00  2005\n",
       "1      -27.1800 -176.434000       5.20  2005\n",
       "2        7.5290  -82.266000       6.10  2005\n",
       "3       27.3670  139.853000       5.30  2005\n",
       "4       25.0100   96.197000       5.10  2005\n",
       "...         ...         ...        ...   ...\n",
       "42809   50.8632 -130.365400       5.40  2015\n",
       "42810    6.4488   60.298500       5.40  2015\n",
       "42811    6.5739   60.365300       5.50  2015\n",
       "42812   40.4420 -125.774667       5.36  2015\n",
       "42813   28.7280   51.858000       5.10  2015\n",
       "\n",
       "[42814 rows x 4 columns]"
      ]
     },
     "execution_count": 582,
     "metadata": {},
     "output_type": "execute_result"
    }
   ],
   "source": [
    "df_global = df_global.assign(Year=list(map(lambda x: x.split('-')[0], df_global.time))).iloc[:,1:]\n",
    "df_global"
   ]
  },
  {
   "cell_type": "code",
   "execution_count": 583,
   "id": "19aa54d5-3f35-41c4-8980-654b73cb1965",
   "metadata": {},
   "outputs": [
    {
     "data": {
      "text/plain": [
       "array(['1965', '1966', '1967', '1968', '1969', '1970', '1971', '1972',\n",
       "       '1973', '1974', '1975', '1976', '1977', '1978', '1979', '1980',\n",
       "       '1981', '1982', '1983', '1984', '1985', '1986', '1987', '1988',\n",
       "       '1989', '1990', '1991', '1992', '1993', '1994', '1995', '1996',\n",
       "       '1997', '1998', '1999', '2000', '2001', '2002', '2003', '2004',\n",
       "       '2005', '2006', '2007', '2008', '2009', '2010', '2011', '2012',\n",
       "       '2013', '2014', '2015', '2016'], dtype=object)"
      ]
     },
     "execution_count": 583,
     "metadata": {},
     "output_type": "execute_result"
    }
   ],
   "source": [
    "df.Year.unique()"
   ]
  },
  {
   "cell_type": "code",
   "execution_count": 584,
   "id": "ce96a2f8",
   "metadata": {},
   "outputs": [],
   "source": [
    "df.Year = df.Year.astype(np.float64)"
   ]
  },
  {
   "cell_type": "code",
   "execution_count": 585,
   "id": "3082f1fc-68cd-441d-ba66-9c619a50ca45",
   "metadata": {},
   "outputs": [],
   "source": [
    "df_korea.Year = df_korea.Year.astype(np.float64)"
   ]
  },
  {
   "cell_type": "code",
   "execution_count": 586,
   "id": "504a22b3-7952-4d76-8f5a-5758cc212802",
   "metadata": {},
   "outputs": [],
   "source": [
    "df_global.Year = df_global.Year.astype(np.float64)"
   ]
  },
  {
   "cell_type": "code",
   "execution_count": 587,
   "id": "8e16ce94-ded4-4aa3-8efb-2f24390a0af3",
   "metadata": {},
   "outputs": [],
   "source": [
    "df_global = df_global.sort_values(by=['Year'])"
   ]
  },
  {
   "cell_type": "markdown",
   "id": "d6edbeb0-281e-41f9-b7db-da7901e30452",
   "metadata": {},
   "source": [
    "### define class"
   ]
  },
  {
   "cell_type": "code",
   "execution_count": 588,
   "id": "2e112881-a970-4763-a5ce-0a103f335fce",
   "metadata": {},
   "outputs": [],
   "source": [
    "class MooYaHo:\n",
    "    def __init__(self,df):\n",
    "        self.df = df \n",
    "        self.f = df.Magnitude.to_numpy()\n",
    "        self.year = df.Year.to_numpy()\n",
    "        self.lat = df.Latitude.to_numpy()\n",
    "        self.long = df.Longitude.to_numpy()\n",
    "        self.n = len(self.f)\n",
    "        self.theta= None\n",
    "    def get_distance(self):\n",
    "        self.D = np.zeros([self.n,self.n])\n",
    "        locations = np.stack([self.lat, self.long],axis=1)\n",
    "        for i in tqdm.tqdm(range(self.n)):\n",
    "            for j in range(i,self.n): \n",
    "                self.D[i,j]=haversine(locations[i],locations[j])\n",
    "        self.D = self.D+self.D.T\n",
    "    def get_weightmatrix(self,theta=1,beta=0.5,kappa=4000):\n",
    "        self.theta = theta\n",
    "        dist = np.where(self.D<kappa,self.D,0)\n",
    "        self.W = np.exp(-(dist/self.theta)**2)\n",
    "#         nlst = self.df.groupby('Year').aggregate(len).Latitude.tolist()\n",
    "#         nlst = [0]+np.cumsum(nlst).tolist()\n",
    "#         beta_matrix = np.zeros([self.n,self.n])\n",
    "#         for i in range(len(nlst)-1):\n",
    "#             beta_matrix[nlst[i]:nlst[i+1],nlst[i]:nlst[i+1]] = beta\n",
    "#         self.W = self.W * beta_matrix \n",
    "#     def _get_laplacian(self):\n",
    "#         self.L = np.diag(1/np.sqrt(d)) @ (D-self.W) @ np.diag(1/np.sqrt(d))\n",
    "#         self.lamb, self.Psi = np.linalg.eigh(self.L)\n",
    "#         self.Lamb = np.diag(self.lamb)  \n",
    "\n",
    "    def _eigen(self):\n",
    "        d= self.W.sum(axis=1)\n",
    "        D= np.diag(d)\n",
    "        self.L = np.diag(1/np.sqrt(d)) @ (D-self.W) @ np.diag(1/np.sqrt(d))\n",
    "        self.lamb, self.Psi = np.linalg.eigh(self.L)\n",
    "        self.Lamb = np.diag(self.lamb)        \n",
    "    def fit(self,m):\n",
    "        self._eigen()\n",
    "        self.fhat = self.Psi[:,0:m]@self.Psi[:,0:m].T@self.f\n",
    "        self.df = self.df.assign(MagnitudeHat = self.fhat)\n",
    "        self.df = self.df.assign(Residual = self.df.Magnitude- self.df.MagnitudeHat)\n",
    "        plt.plot(self.f,'.')\n",
    "        plt.plot(self.fhat,'x')\n",
    "        \n",
    "    def vis(self,MagThresh=7,ResThresh=1):\n",
    "        fig = px.density_mapbox(self.df, \n",
    "                        lat='Latitude', \n",
    "                        lon='Longitude', \n",
    "                        z='Magnitude',\n",
    "                        animation_frame=\"Year\",animation_group=\"Year\",\n",
    "                        radius=15,\n",
    "                        center=dict(lat=37, lon=160), \n",
    "                        zoom=1.5,\n",
    "                        height=900,\n",
    "                        opacity = 0.3,\n",
    "                        mapbox_style=\"stamen-terrain\")\n",
    "        fig.update_layout(margin={\"r\":0,\"t\":0,\"l\":0,\"b\":0})\n",
    "        fig.add_scattermapbox(lat = self.df.query('Magnitude > @MagThresh')['Latitude'],\n",
    "                      lon = self.df.query('Magnitude > @MagThresh')['Longitude'],\n",
    "                      marker_size= 8,\n",
    "                      marker_color= 'red',\n",
    "                      opacity = 1\n",
    "                      )\n",
    "        fig.add_scattermapbox(lat = self.df.query('Residual**2 > @ResThresh')['Latitude'],\n",
    "                      lon = self.df.query('Residual**2 > @ResThresh')['Longitude'],\n",
    "                      marker_size= 8,\n",
    "                      marker_color= 'blue',\n",
    "                      opacity = 1\n",
    "                      )\n",
    "        return HTML(fig.to_html(include_mathjax=False, config=dict({'scrollZoom':False})))"
   ]
  },
  {
   "cell_type": "markdown",
   "id": "458df404-7869-4e9c-9146-cf212024e421",
   "metadata": {},
   "source": [
    "### analysis"
   ]
  },
  {
   "cell_type": "markdown",
   "id": "82e5b3ea-4303-4a2d-b533-5aa247a0414c",
   "metadata": {},
   "source": [
    "`-` make instance for analysis"
   ]
  },
  {
   "cell_type": "code",
   "execution_count": 485,
   "id": "ec53d0b7-4270-4b5a-ace6-f887af2df5ab",
   "metadata": {},
   "outputs": [],
   "source": [
    "moo=MooYaHo(df.query(\"Year >= 2010\"))"
   ]
  },
  {
   "cell_type": "markdown",
   "id": "fae50236-cf19-44d1-bf30-1cd8cd18bd92",
   "metadata": {},
   "source": [
    "- 테스트용으로 2016년 자료만 수집"
   ]
  },
  {
   "cell_type": "markdown",
   "id": "8eeb7048-957e-4ad1-8cb2-ab7a078602ac",
   "metadata": {},
   "source": [
    "`-` get distance "
   ]
  },
  {
   "cell_type": "code",
   "execution_count": 486,
   "id": "4f99cd72",
   "metadata": {},
   "outputs": [
    {
     "name": "stderr",
     "output_type": "stream",
     "text": [
      "100%|██████████| 3574/3574 [00:15<00:00, 233.13it/s] \n"
     ]
    }
   ],
   "source": [
    "moo.get_distance()"
   ]
  },
  {
   "cell_type": "code",
   "execution_count": 487,
   "id": "9a0c1bc3-a15b-404e-af6c-052890541300",
   "metadata": {},
   "outputs": [
    {
     "data": {
      "text/plain": [
       "8716.421563562202"
      ]
     },
     "execution_count": 487,
     "metadata": {},
     "output_type": "execute_result"
    }
   ],
   "source": [
    "moo.D[moo.D>0].mean()"
   ]
  },
  {
   "cell_type": "markdown",
   "id": "eb60653b-b2a8-45ce-83d2-9fd234997717",
   "metadata": {},
   "source": [
    "- 0이 아닌 거리의 평균은 8600정도?"
   ]
  },
  {
   "cell_type": "code",
   "execution_count": 488,
   "id": "516dbf95",
   "metadata": {},
   "outputs": [
    {
     "data": {
      "text/plain": [
       "(array([1150424., 1296390., 1778470., 1844656., 1636686., 1500852.,\n",
       "        1388466.,  983160.,  974240.,  216558.]),\n",
       " array([9.12695937e-02, 2.00065540e+03, 4.00121954e+03, 6.00178367e+03,\n",
       "        8.00234781e+03, 1.00029119e+04, 1.20034761e+04, 1.40040402e+04,\n",
       "        1.60046043e+04, 1.80051685e+04, 2.00057326e+04]),\n",
       " <BarContainer object of 10 artists>)"
      ]
     },
     "execution_count": 488,
     "metadata": {},
     "output_type": "execute_result"
    },
    {
     "data": {
      "image/png": "[encoded data removed]",
      "text/plain": [
       "<Figure size 432x288 with 1 Axes>"
      ]
     },
     "metadata": {
      "needs_background": "light"
     },
     "output_type": "display_data"
    }
   ],
   "source": [
    "plt.hist(moo.D[moo.D>0])"
   ]
  },
  {
   "cell_type": "markdown",
   "id": "bb7b7a6c-1559-4f3d-88a0-390e01695aae",
   "metadata": {},
   "source": [
    "- 히스토그램결과 -> 2500보다 거리가 작으면 거의 같은 지역이라고 봐도 무방할듯"
   ]
  },
  {
   "cell_type": "markdown",
   "id": "15745b57-e3ef-489a-93ac-2f1b81357c18",
   "metadata": {},
   "source": [
    "`-` weight matrix"
   ]
  },
  {
   "cell_type": "code",
   "execution_count": 489,
   "id": "2c124a87-4c3c-4d42-8386-23d2b349086e",
   "metadata": {},
   "outputs": [],
   "source": [
    "moo.get_weightmatrix(theta=(8647.92),kappa=3000) "
   ]
  },
  {
   "cell_type": "markdown",
   "id": "53af4c2e-085d-4265-93c6-09818811e331",
   "metadata": {},
   "source": [
    "- 평균적으로 노드는 `np.exp(-(dist/8647)**2)=np.exp(-1)=0.36787944117144233` 정도의 연결강도를 가진다. \n",
    "- 거리가 2500이하이면 weight를 1로 설정한다. "
   ]
  },
  {
   "cell_type": "markdown",
   "id": "798802db-1490-4a44-a01c-8fa27d0dad0c",
   "metadata": {},
   "source": [
    "`-` fit"
   ]
  },
  {
   "cell_type": "code",
   "execution_count": 490,
   "id": "33b507dc-1816-4435-ac86-3ba5aba7c422",
   "metadata": {},
   "outputs": [
    {
     "data": {
      "image/png": "[encoded data removed]",
      "text/plain": [
       "<Figure size 432x288 with 1 Axes>"
      ]
     },
     "metadata": {
      "needs_background": "light"
     },
     "output_type": "display_data"
    }
   ],
   "source": [
    "moo.fit(m=1200)"
   ]
  },
  {
   "cell_type": "code",
   "execution_count": 491,
   "id": "a50571fa-b52b-4702-a758-c5bed088da7a",
   "metadata": {},
   "outputs": [
    {
     "data": {
      "text/html": [
       "<div>\n",
       "<style scoped>\n",
       "    .dataframe tbody tr th:only-of-type {\n",
       "        vertical-align: middle;\n",
       "    }\n",
       "\n",
       "    .dataframe tbody tr th {\n",
       "        vertical-align: top;\n",
       "    }\n",
       "\n",
       "    .dataframe thead th {\n",
       "        text-align: right;\n",
       "    }\n",
       "</style>\n",
       "<table border=\"1\" class=\"dataframe\">\n",
       "  <thead>\n",
       "    <tr style=\"text-align: right;\">\n",
       "      <th></th>\n",
       "      <th>Latitude</th>\n",
       "      <th>Longitude</th>\n",
       "      <th>Magnitude</th>\n",
       "      <th>Year</th>\n",
       "      <th>MagnitudeHat</th>\n",
       "      <th>Residual</th>\n",
       "    </tr>\n",
       "  </thead>\n",
       "  <tbody>\n",
       "    <tr>\n",
       "      <th>19856</th>\n",
       "      <td>18.443</td>\n",
       "      <td>-72.571</td>\n",
       "      <td>7.0</td>\n",
       "      <td>2010.0</td>\n",
       "      <td>6.203242</td>\n",
       "      <td>0.796758</td>\n",
       "    </tr>\n",
       "  </tbody>\n",
       "</table>\n",
       "</div>"
      ],
      "text/plain": [
       "       Latitude  Longitude  Magnitude    Year  MagnitudeHat  Residual\n",
       "19856    18.443    -72.571        7.0  2010.0      6.203242  0.796758"
      ]
     },
     "execution_count": 491,
     "metadata": {},
     "output_type": "execute_result"
    }
   ],
   "source": [
    "moo.df.query('Year==2010 & Latitude == 18.443')"
   ]
  },
  {
   "cell_type": "markdown",
   "id": "a05bf54c-6167-4acb-abf8-99bbd227d409",
   "metadata": {},
   "source": [
    "`-` Residual ; m & theta 의 조합 2010년 이후 아이티 기준\n",
    "- m: 1000, kappa: 2000, Residual: 1.227006\n",
    "- m: 1000, kappa: 2500, Residual: 1.009784\n",
    "- m: 800, kappa: 2750, Residual: 1.022774\n",
    "- m: kappa: Residual:\n",
    "- m: kappa: Residual:"
   ]
  },
  {
   "cell_type": "markdown",
   "id": "26f32ee9-6a27-4ffe-ae08-9d712d579526",
   "metadata": {},
   "source": [
    "`-` vis"
   ]
  },
  {
   "cell_type": "code",
   "execution_count": 1,
   "id": "d636666e-439d-4728-8c7d-d2289142f9af",
   "metadata": {},
   "outputs": [],
   "source": [
    "#moo.vis(MagThresh=7,ResThresh=1.4) # <- 실행해봐요"
   ]
  },
  {
   "cell_type": "markdown",
   "id": "8bc79895-ccbd-494b-816e-326719f38e4e",
   "metadata": {},
   "source": [
    "- 전체자료는 underlying에 위치 \n",
    "- 지진강도가 MagThresh 이상인 자료는 붉은점으로 시각화함 \n",
    "- 이상치정도(우리가 제안하는 새로운 메져) ResThresh 이상인 자료는 파란점으로 시각화함 "
   ]
  },
  {
   "cell_type": "markdown",
   "id": "337ec6e2-7eb2-42ba-9d7c-4cef2f59cd38",
   "metadata": {},
   "source": [
    "### 한계점 (?)"
   ]
  },
  {
   "cell_type": "markdown",
   "id": "68f3f611-297e-416a-8893-5cc007b930ac",
   "metadata": {},
   "source": [
    "`-` 시간효과를 따로 모형화하지는 않음 "
   ]
  },
  {
   "cell_type": "markdown",
   "id": "cf9026ad-1af0-4bf3-9460-e413f4547d7e",
   "metadata": {},
   "source": [
    "---"
   ]
  },
  {
   "cell_type": "code",
   "execution_count": 143,
   "id": "3bc9e507-bfb4-4917-a4a5-93b3c2c02963",
   "metadata": {},
   "outputs": [
    {
     "data": {
      "text/html": [
       "<div>\n",
       "<style scoped>\n",
       "    .dataframe tbody tr th:only-of-type {\n",
       "        vertical-align: middle;\n",
       "    }\n",
       "\n",
       "    .dataframe tbody tr th {\n",
       "        vertical-align: top;\n",
       "    }\n",
       "\n",
       "    .dataframe thead th {\n",
       "        text-align: right;\n",
       "    }\n",
       "</style>\n",
       "<table border=\"1\" class=\"dataframe\">\n",
       "  <thead>\n",
       "    <tr style=\"text-align: right;\">\n",
       "      <th></th>\n",
       "      <th>순위</th>\n",
       "      <th>일자</th>\n",
       "      <th>장소</th>\n",
       "      <th>이름</th>\n",
       "      <th>사망자</th>\n",
       "      <th>규모</th>\n",
       "      <th>비고</th>\n",
       "    </tr>\n",
       "  </thead>\n",
       "  <tbody>\n",
       "    <tr>\n",
       "      <th>1</th>\n",
       "      <td>2</td>\n",
       "      <td>1976년 7월 28일</td>\n",
       "      <td>중국 탕산</td>\n",
       "      <td>탕산지진</td>\n",
       "      <td>255,000 (공식)</td>\n",
       "      <td>7.5</td>\n",
       "      <td>NaN</td>\n",
       "    </tr>\n",
       "    <tr>\n",
       "      <th>2</th>\n",
       "      <td>3</td>\n",
       "      <td>2010년 1월 12일</td>\n",
       "      <td>아이티</td>\n",
       "      <td>2010년 아이티 지진</td>\n",
       "      <td>230,000 이상</td>\n",
       "      <td>7.0</td>\n",
       "      <td>NaN</td>\n",
       "    </tr>\n",
       "    <tr>\n",
       "      <th>3</th>\n",
       "      <td>4</td>\n",
       "      <td>2004년 12월 26일</td>\n",
       "      <td>인도네시아 수마트라섬</td>\n",
       "      <td>2004년 인도양 지진 해일</td>\n",
       "      <td>230210</td>\n",
       "      <td>9.1-9.3</td>\n",
       "      <td>NaN</td>\n",
       "    </tr>\n",
       "  </tbody>\n",
       "</table>\n",
       "</div>"
      ],
      "text/plain": [
       "   순위             일자           장소               이름           사망자       규모  비고\n",
       "1   2   1976년 7월 28일        중국 탕산             탕산지진  255,000 (공식)      7.5 NaN\n",
       "2   3   2010년 1월 12일          아이티     2010년 아이티 지진    230,000 이상      7.0 NaN\n",
       "3   4  2004년 12월 26일  인도네시아 수마트라섬  2004년 인도양 지진 해일        230210  9.1-9.3 NaN"
      ]
     },
     "execution_count": 143,
     "metadata": {},
     "output_type": "execute_result"
    }
   ],
   "source": [
    "pd.read_html('https://ko.wikipedia.org/wiki/%EC%A7%80%EC%A7%84_%EB%AA%A9%EB%A1%9D',encoding='utf-8')[0].iloc[[1,2,3],:] # 가장 피해가 컸던 지진"
   ]
  },
  {
   "cell_type": "code",
   "execution_count": 146,
   "id": "373d2971-ad3f-409b-ae67-3c03e64d209d",
   "metadata": {},
   "outputs": [
    {
     "data": {
      "text/html": [
       "<div>\n",
       "<style scoped>\n",
       "    .dataframe tbody tr th:only-of-type {\n",
       "        vertical-align: middle;\n",
       "    }\n",
       "\n",
       "    .dataframe tbody tr th {\n",
       "        vertical-align: top;\n",
       "    }\n",
       "\n",
       "    .dataframe thead th {\n",
       "        text-align: right;\n",
       "    }\n",
       "</style>\n",
       "<table border=\"1\" class=\"dataframe\">\n",
       "  <thead>\n",
       "    <tr style=\"text-align: right;\">\n",
       "      <th></th>\n",
       "      <th>순위</th>\n",
       "      <th>일자</th>\n",
       "      <th>장소</th>\n",
       "      <th>이름</th>\n",
       "      <th>규모</th>\n",
       "    </tr>\n",
       "  </thead>\n",
       "  <tbody>\n",
       "    <tr>\n",
       "      <th>2</th>\n",
       "      <td>3</td>\n",
       "      <td>2004년 12월 26일</td>\n",
       "      <td>인도네시아 수마트라섬</td>\n",
       "      <td>2004년 인도양 지진 해일</td>\n",
       "      <td>9.1-9.2</td>\n",
       "    </tr>\n",
       "    <tr>\n",
       "      <th>3</th>\n",
       "      <td>4</td>\n",
       "      <td>2011년 3월 11일</td>\n",
       "      <td>일본 산리쿠 해역</td>\n",
       "      <td>2011년 도호쿠 지방 태평양 앞바다 지진</td>\n",
       "      <td>9.1</td>\n",
       "    </tr>\n",
       "    <tr>\n",
       "      <th>8</th>\n",
       "      <td>6 (공동)</td>\n",
       "      <td>2010년 2월 27일</td>\n",
       "      <td>칠레 마울레주 해역</td>\n",
       "      <td>2010년 칠레 지진</td>\n",
       "      <td>8.8</td>\n",
       "    </tr>\n",
       "  </tbody>\n",
       "</table>\n",
       "</div>"
      ],
      "text/plain": [
       "       순위             일자           장소                       이름       규모\n",
       "2       3  2004년 12월 26일  인도네시아 수마트라섬          2004년 인도양 지진 해일  9.1-9.2\n",
       "3       4   2011년 3월 11일    일본 산리쿠 해역  2011년 도호쿠 지방 태평양 앞바다 지진      9.1\n",
       "8  6 (공동)   2010년 2월 27일   칠레 마울레주 해역              2010년 칠레 지진      8.8"
      ]
     },
     "execution_count": 146,
     "metadata": {},
     "output_type": "execute_result"
    }
   ],
   "source": [
    "pd.read_html('https://ko.wikipedia.org/wiki/%EC%A7%80%EC%A7%84_%EB%AA%A9%EB%A1%9D',encoding='utf-8')[1].iloc[[2,3,8],:]# 가장 규모가 컸던 지진"
   ]
  },
  {
   "cell_type": "code",
   "execution_count": 147,
   "id": "f9e30cff-af32-424f-b763-8cb6694b715f",
   "metadata": {},
   "outputs": [
    {
     "data": {
      "text/html": [
       "<div>\n",
       "<style scoped>\n",
       "    .dataframe tbody tr th:only-of-type {\n",
       "        vertical-align: middle;\n",
       "    }\n",
       "\n",
       "    .dataframe tbody tr th {\n",
       "        vertical-align: top;\n",
       "    }\n",
       "\n",
       "    .dataframe thead th {\n",
       "        text-align: right;\n",
       "    }\n",
       "</style>\n",
       "<table border=\"1\" class=\"dataframe\">\n",
       "  <thead>\n",
       "    <tr style=\"text-align: right;\">\n",
       "      <th></th>\n",
       "      <th>매그니튜드</th>\n",
       "      <th>2006년</th>\n",
       "      <th>2007년</th>\n",
       "      <th>2008년</th>\n",
       "      <th>2009년</th>\n",
       "      <th>2010년</th>\n",
       "      <th>2011년</th>\n",
       "      <th>2012년</th>\n",
       "      <th>2013년</th>\n",
       "      <th>2014년</th>\n",
       "      <th>2015년</th>\n",
       "      <th>2016년</th>\n",
       "    </tr>\n",
       "  </thead>\n",
       "  <tbody>\n",
       "    <tr>\n",
       "      <th>0</th>\n",
       "      <td>8.0–9.9</td>\n",
       "      <td>2</td>\n",
       "      <td>4</td>\n",
       "      <td>0</td>\n",
       "      <td>1</td>\n",
       "      <td>1</td>\n",
       "      <td>1</td>\n",
       "      <td>2</td>\n",
       "      <td>2</td>\n",
       "      <td>1</td>\n",
       "      <td>1</td>\n",
       "      <td>0</td>\n",
       "    </tr>\n",
       "    <tr>\n",
       "      <th>1</th>\n",
       "      <td>7.0–7.9</td>\n",
       "      <td>9</td>\n",
       "      <td>14</td>\n",
       "      <td>12</td>\n",
       "      <td>16</td>\n",
       "      <td>23</td>\n",
       "      <td>19</td>\n",
       "      <td>14</td>\n",
       "      <td>17</td>\n",
       "      <td>11</td>\n",
       "      <td>18</td>\n",
       "      <td>16</td>\n",
       "    </tr>\n",
       "    <tr>\n",
       "      <th>2</th>\n",
       "      <td>6.0–6.9</td>\n",
       "      <td>142</td>\n",
       "      <td>178</td>\n",
       "      <td>167</td>\n",
       "      <td>144</td>\n",
       "      <td>151</td>\n",
       "      <td>187</td>\n",
       "      <td>117</td>\n",
       "      <td>123</td>\n",
       "      <td>143</td>\n",
       "      <td>127</td>\n",
       "      <td>130</td>\n",
       "    </tr>\n",
       "    <tr>\n",
       "      <th>3</th>\n",
       "      <td>5.0–5.9</td>\n",
       "      <td>1731</td>\n",
       "      <td>2090</td>\n",
       "      <td>1790</td>\n",
       "      <td>1920</td>\n",
       "      <td>2221</td>\n",
       "      <td>2486</td>\n",
       "      <td>1546</td>\n",
       "      <td>1454</td>\n",
       "      <td>1574</td>\n",
       "      <td>1412</td>\n",
       "      <td>1550</td>\n",
       "    </tr>\n",
       "    <tr>\n",
       "      <th>4</th>\n",
       "      <td>4.0–4.9</td>\n",
       "      <td>12861</td>\n",
       "      <td>12086</td>\n",
       "      <td>12306</td>\n",
       "      <td>6835</td>\n",
       "      <td>10140</td>\n",
       "      <td>13131</td>\n",
       "      <td>10957</td>\n",
       "      <td>11872</td>\n",
       "      <td>15816</td>\n",
       "      <td>13776</td>\n",
       "      <td>13699</td>\n",
       "    </tr>\n",
       "    <tr>\n",
       "      <th>5</th>\n",
       "      <td>합계</td>\n",
       "      <td>14746</td>\n",
       "      <td>14372</td>\n",
       "      <td>14277</td>\n",
       "      <td>8917</td>\n",
       "      <td>12539</td>\n",
       "      <td>15824</td>\n",
       "      <td>12637</td>\n",
       "      <td>13469</td>\n",
       "      <td>17545</td>\n",
       "      <td>15334</td>\n",
       "      <td>15395</td>\n",
       "    </tr>\n",
       "  </tbody>\n",
       "</table>\n",
       "</div>"
      ],
      "text/plain": [
       "     매그니튜드  2006년  2007년  2008년  2009년  2010년  2011년  2012년  2013년  2014년  \\\n",
       "0  8.0–9.9      2      4      0      1      1      1      2      2      1   \n",
       "1  7.0–7.9      9     14     12     16     23     19     14     17     11   \n",
       "2  6.0–6.9    142    178    167    144    151    187    117    123    143   \n",
       "3  5.0–5.9   1731   2090   1790   1920   2221   2486   1546   1454   1574   \n",
       "4  4.0–4.9  12861  12086  12306   6835  10140  13131  10957  11872  15816   \n",
       "5       합계  14746  14372  14277   8917  12539  15824  12637  13469  17545   \n",
       "\n",
       "   2015년  2016년  \n",
       "0      1      0  \n",
       "1     18     16  \n",
       "2    127    130  \n",
       "3   1412   1550  \n",
       "4  13776  13699  \n",
       "5  15334  15395  "
      ]
     },
     "execution_count": 147,
     "metadata": {},
     "output_type": "execute_result"
    }
   ],
   "source": [
    "pd.read_html('https://ko.wikipedia.org/wiki/2016%EB%85%84_%EC%A7%80%EC%A7%84#cite_note-1',encoding='utf-8')[2] # 2006년부터 2016년까지의 세계 지진 발생 수"
   ]
  },
  {
   "cell_type": "markdown",
   "id": "1cf2310b-545d-445f-a86b-bdd111cce4f9",
   "metadata": {},
   "source": [
    "https://www.usgs.gov/programs/earthquake-hazards/lists-maps-and-statistics"
   ]
  },
  {
   "cell_type": "code",
   "execution_count": 148,
   "id": "3f111a48-906d-41d0-a4a9-d6d6890660bc",
   "metadata": {},
   "outputs": [
    {
     "data": {
      "text/html": [
       "<div>\n",
       "<style scoped>\n",
       "    .dataframe tbody tr th:only-of-type {\n",
       "        vertical-align: middle;\n",
       "    }\n",
       "\n",
       "    .dataframe tbody tr th {\n",
       "        vertical-align: top;\n",
       "    }\n",
       "\n",
       "    .dataframe thead th {\n",
       "        text-align: right;\n",
       "    }\n",
       "</style>\n",
       "<table border=\"1\" class=\"dataframe\">\n",
       "  <thead>\n",
       "    <tr style=\"text-align: right;\">\n",
       "      <th></th>\n",
       "      <th>No.</th>\n",
       "      <th>Mag</th>\n",
       "      <th>Location</th>\n",
       "      <th>Alternative Name</th>\n",
       "      <th>Date (UTC)</th>\n",
       "      <th>Time (UTC)</th>\n",
       "      <th>Latitude</th>\n",
       "      <th>Longitude</th>\n",
       "      <th>References</th>\n",
       "    </tr>\n",
       "  </thead>\n",
       "  <tbody>\n",
       "    <tr>\n",
       "      <th>2</th>\n",
       "      <td>3.0</td>\n",
       "      <td>9.1</td>\n",
       "      <td>Off the West Coast of Northern Sumatra</td>\n",
       "      <td>Sumatra-Andaman Islands Earthquake, 2004 Sumat...</td>\n",
       "      <td>2004-12-26</td>\n",
       "      <td>00:58</td>\n",
       "      <td>3.30°N</td>\n",
       "      <td>95.98°E</td>\n",
       "      <td>Duputel et al., 2012</td>\n",
       "    </tr>\n",
       "    <tr>\n",
       "      <th>3</th>\n",
       "      <td>4.0</td>\n",
       "      <td>9.1</td>\n",
       "      <td>Near the East Coast of Honshu, Japan</td>\n",
       "      <td>Tohoku Earthquake</td>\n",
       "      <td>2011-03-11</td>\n",
       "      <td>05:46</td>\n",
       "      <td>38.30°N</td>\n",
       "      <td>142.37°E</td>\n",
       "      <td>Duputel et al., 2012</td>\n",
       "    </tr>\n",
       "    <tr>\n",
       "      <th>5</th>\n",
       "      <td>6.0</td>\n",
       "      <td>8.8</td>\n",
       "      <td>Offshore Bio-Bio, Chile</td>\n",
       "      <td>Maule Earthquake</td>\n",
       "      <td>2010-02-27</td>\n",
       "      <td>06:34</td>\n",
       "      <td>36.12°S</td>\n",
       "      <td>72.90°W</td>\n",
       "      <td>Duputel et al., 2012</td>\n",
       "    </tr>\n",
       "    <tr>\n",
       "      <th>7</th>\n",
       "      <td>8.0</td>\n",
       "      <td>8.7</td>\n",
       "      <td>Rat Islands, Aleutian Islands, Alaska</td>\n",
       "      <td>Rat Islands Earthquake</td>\n",
       "      <td>1965-02-04</td>\n",
       "      <td>05:01</td>\n",
       "      <td>51.25°N</td>\n",
       "      <td>178.72°E</td>\n",
       "      <td>Kanamori &amp; Anderson, 1975</td>\n",
       "    </tr>\n",
       "    <tr>\n",
       "      <th>9</th>\n",
       "      <td>10.0</td>\n",
       "      <td>8.6</td>\n",
       "      <td>Off the West Coast of Northern Sumatra</td>\n",
       "      <td>NaN</td>\n",
       "      <td>2012-04-11</td>\n",
       "      <td>08:39</td>\n",
       "      <td>2.33°N</td>\n",
       "      <td>93.06°E</td>\n",
       "      <td>Duputel et al., 2012</td>\n",
       "    </tr>\n",
       "    <tr>\n",
       "      <th>10</th>\n",
       "      <td>11.0</td>\n",
       "      <td>8.6</td>\n",
       "      <td>Northern Sumatra, Indonesia</td>\n",
       "      <td>Nias Earthquake</td>\n",
       "      <td>2005-03-28</td>\n",
       "      <td>16:10</td>\n",
       "      <td>2.09°N</td>\n",
       "      <td>97.11°E</td>\n",
       "      <td>NEIC</td>\n",
       "    </tr>\n",
       "    <tr>\n",
       "      <th>17</th>\n",
       "      <td>18.0</td>\n",
       "      <td>8.4</td>\n",
       "      <td>Southern Sumatra, Indonesia</td>\n",
       "      <td>NaN</td>\n",
       "      <td>2007-09-12</td>\n",
       "      <td>11:10</td>\n",
       "      <td>4.44°S</td>\n",
       "      <td>101.37°E</td>\n",
       "      <td>NEIC</td>\n",
       "    </tr>\n",
       "    <tr>\n",
       "      <th>18</th>\n",
       "      <td>19.0</td>\n",
       "      <td>8.4</td>\n",
       "      <td>Near the Coast of Southern Peru</td>\n",
       "      <td>Arequipa, Peru Earthquake</td>\n",
       "      <td>2001-06-23</td>\n",
       "      <td>20:33</td>\n",
       "      <td>16.27°S</td>\n",
       "      <td>73.64°W</td>\n",
       "      <td>Duputel et al., 2012</td>\n",
       "    </tr>\n",
       "  </tbody>\n",
       "</table>\n",
       "</div>"
      ],
      "text/plain": [
       "     No.  Mag                                Location  \\\n",
       "2    3.0  9.1  Off the West Coast of Northern Sumatra   \n",
       "3    4.0  9.1    Near the East Coast of Honshu, Japan   \n",
       "5    6.0  8.8                 Offshore Bio-Bio, Chile   \n",
       "7    8.0  8.7   Rat Islands, Aleutian Islands, Alaska   \n",
       "9   10.0  8.6  Off the West Coast of Northern Sumatra   \n",
       "10  11.0  8.6             Northern Sumatra, Indonesia   \n",
       "17  18.0  8.4             Southern Sumatra, Indonesia   \n",
       "18  19.0  8.4         Near the Coast of Southern Peru   \n",
       "\n",
       "                                     Alternative Name  Date (UTC) Time (UTC)  \\\n",
       "2   Sumatra-Andaman Islands Earthquake, 2004 Sumat...  2004-12-26      00:58   \n",
       "3                                   Tohoku Earthquake  2011-03-11      05:46   \n",
       "5                                    Maule Earthquake  2010-02-27      06:34   \n",
       "7                              Rat Islands Earthquake  1965-02-04      05:01   \n",
       "9                                                 NaN  2012-04-11      08:39   \n",
       "10                                    Nias Earthquake  2005-03-28      16:10   \n",
       "17                                                NaN  2007-09-12      11:10   \n",
       "18                          Arequipa, Peru Earthquake  2001-06-23      20:33   \n",
       "\n",
       "   Latitude Longitude                 References  \n",
       "2    3.30°N   95.98°E       Duputel et al., 2012  \n",
       "3   38.30°N  142.37°E       Duputel et al., 2012  \n",
       "5   36.12°S   72.90°W       Duputel et al., 2012  \n",
       "7   51.25°N  178.72°E  Kanamori & Anderson, 1975  \n",
       "9    2.33°N   93.06°E       Duputel et al., 2012  \n",
       "10   2.09°N   97.11°E                       NEIC  \n",
       "17   4.44°S  101.37°E                       NEIC  \n",
       "18  16.27°S   73.64°W       Duputel et al., 2012  "
      ]
     },
     "execution_count": 148,
     "metadata": {},
     "output_type": "execute_result"
    }
   ],
   "source": [
    "pd.read_html('https://www.usgs.gov/programs/earthquake-hazards/science/20-largest-earthquakes-world',encoding='utf-8')[1].iloc[[2,3,5,7,9,10,17,18],:] # A list of the 20 largest earthquakes in the world."
   ]
  },
  {
   "cell_type": "markdown",
   "id": "02d033cf-e348-42ef-9a91-0d9b306d804f",
   "metadata": {},
   "source": [
    "---"
   ]
  },
  {
   "cell_type": "markdown",
   "id": "73fefefe-11c1-40c5-a550-f57a2a45ccd8",
   "metadata": {},
   "source": [
    "`-` 예상: 특정 진도 이상이면서 residual 1보다 큰 곳이 의미있는 지점일 것이다."
   ]
  },
  {
   "cell_type": "markdown",
   "id": "08e5e9fc-b1af-4cdd-909a-8626120adb43",
   "metadata": {},
   "source": [
    "`-` 1976년\n",
    "- 중국 탕산 지진, 일어난 3곳 ( 2곳은 residual 1초과)"
   ]
  },
  {
   "cell_type": "markdown",
   "id": "5ff225eb-4f52-4ea1-9182-a5355b4cedd3",
   "metadata": {},
   "source": [
    "`-` 2004년\n",
    "- 인도 수마트라섬 지진, 9 이상인 점(red)과 residual 1 초과인 점(blue)이 겹침\n",
    "- 때때로 해구에 도달하는 지진에서 섭입판 경계면이 파열되어 1907년, 2004년, 2010년과 같은 대형 쓰나미가 발생한다. (https://ko.wikipedia.org/wiki/2022%EB%85%84_%EC%88%98%EB%A7%88%ED%8A%B8%EB%9D%BC_%EC%A7%80%EC%A7%84)"
   ]
  },
  {
   "cell_type": "markdown",
   "id": "b898c293-923a-4604-877f-b54991c5da37",
   "metadata": {},
   "source": [
    "`-` 2010년\n",
    "- 아이티지진(7.0)(지정한 MagThresh 기준은 초과이므로 6.9정도 넣고 돌림)\n",
    "- 칠레 마줄레주해역 지진(8.8)"
   ]
  },
  {
   "cell_type": "markdown",
   "id": "0ec31376-0d45-4072-b609-a065c830f20c",
   "metadata": {},
   "source": [
    "`-` 2011년\n",
    "- 진도 9 이상 일본 한 건, 진도가 9이면서 residual이 1 초과인 1곳 존재"
   ]
  },
  {
   "cell_type": "markdown",
   "id": "71b8553a-4073-449b-a550-7ee7d005898e",
   "metadata": {},
   "source": [
    "`-` 2016년\n",
    "- 경주 지진 있던 해, 진도가 5.4 이상, 해당 데이터가 존재하지 않아 지도에도 표시되지 않음(한국의 지진 데이터가 없는 것 같다.)"
   ]
  },
  {
   "cell_type": "markdown",
   "id": "5b6590a3-4633-4a47-be27-6cdf244f02ba",
   "metadata": {},
   "source": [
    "---"
   ]
  },
  {
   "cell_type": "markdown",
   "id": "459a1e98-3322-448c-9d1b-ed44047558e0",
   "metadata": {
    "tags": []
   },
   "source": [
    "### analysis_Korea"
   ]
  },
  {
   "cell_type": "code",
   "execution_count": 635,
   "id": "237c0276-7503-4b01-9015-81b1023f04b1",
   "metadata": {},
   "outputs": [],
   "source": [
    "class MooKR(MooYaHo):\n",
    "    def vis(self,MagThresh=7,ResThresh=1):\n",
    "        fig = px.density_mapbox(self.df, \n",
    "                        lat='Latitude', \n",
    "                        lon='Longitude', \n",
    "                        z='Magnitude',\n",
    "                        animation_frame=\"Year\",animation_group=\"Year\",\n",
    "                        radius=15,\n",
    "                        center=dict(lat=37, lon=126), \n",
    "                        zoom=5.7,\n",
    "                        height=900,\n",
    "                        opacity = 0.3,\n",
    "                        mapbox_style=\"stamen-terrain\")\n",
    "        fig.update_layout(margin={\"r\":0,\"t\":0,\"l\":0,\"b\":0})\n",
    "        fig.add_scattermapbox(lat = self.df.query('Magnitude > @MagThresh')['Latitude'],\n",
    "                      lon = self.df.query('Magnitude > @MagThresh')['Longitude'],\n",
    "                      marker_size= 8,\n",
    "                      marker_color= 'red',\n",
    "                      opacity = 1\n",
    "                      )\n",
    "        fig.add_scattermapbox(lat = self.df.query('Residual**2 > @ResThresh')['Latitude'],\n",
    "                      lon = self.df.query('Residual**2 > @ResThresh')['Longitude'],\n",
    "                      marker_size= 8,\n",
    "                      marker_color= 'blue',\n",
    "                      opacity = 1\n",
    "                      )\n",
    "        return HTML(fig.to_html(include_mathjax=False, config=dict({'scrollZoom':False})))"
   ]
  },
  {
   "cell_type": "markdown",
   "id": "9b28b9a6-d24c-48c8-aada-a80f4ad90019",
   "metadata": {},
   "source": [
    "`-` make instance for analysis"
   ]
  },
  {
   "cell_type": "code",
   "execution_count": 636,
   "id": "e26c180d-d460-4e7c-b0bd-99e57030b9ed",
   "metadata": {},
   "outputs": [],
   "source": [
    "moo_korea=MooKR(df_korea)"
   ]
  },
  {
   "cell_type": "markdown",
   "id": "a25c715a-0b61-409c-85c0-73f650a304ea",
   "metadata": {},
   "source": [
    "`-` get distance "
   ]
  },
  {
   "cell_type": "code",
   "execution_count": 637,
   "id": "bf8e475c-9de3-4266-96d5-735e0e778600",
   "metadata": {},
   "outputs": [
    {
     "name": "stderr",
     "output_type": "stream",
     "text": [
      "100%|██████████| 999/999 [00:01<00:00, 791.94it/s] \n"
     ]
    }
   ],
   "source": [
    "moo_korea.get_distance()"
   ]
  },
  {
   "cell_type": "code",
   "execution_count": 638,
   "id": "3359d85a-8543-4a53-b0df-7aa4d51ddd88",
   "metadata": {},
   "outputs": [
    {
     "data": {
      "text/plain": [
       "272.5292362407177"
      ]
     },
     "execution_count": 638,
     "metadata": {},
     "output_type": "execute_result"
    }
   ],
   "source": [
    "moo_korea.D[moo_korea.D>0].mean()"
   ]
  },
  {
   "cell_type": "code",
   "execution_count": 639,
   "id": "d9855ac9-c3ae-4c61-92ae-34a67b7e49e3",
   "metadata": {},
   "outputs": [
    {
     "data": {
      "text/plain": [
       "(array([1.35880e+05, 1.96406e+05, 1.89208e+05, 2.00592e+05, 1.73846e+05,\n",
       "        7.20240e+04, 2.17020e+04, 3.53800e+03, 9.46000e+02, 8.40000e+01]),\n",
       " array([8.63047808e-01, 9.43702012e+01, 1.87877355e+02, 2.81384508e+02,\n",
       "        3.74891661e+02, 4.68398815e+02, 5.61905968e+02, 6.55413122e+02,\n",
       "        7.48920275e+02, 8.42427428e+02, 9.35934582e+02]),\n",
       " <BarContainer object of 10 artists>)"
      ]
     },
     "execution_count": 639,
     "metadata": {},
     "output_type": "execute_result"
    },
    {
     "data": {
      "image/png": "[encoded data removed]",
      "text/plain": [
       "<Figure size 432x288 with 1 Axes>"
      ]
     },
     "metadata": {
      "needs_background": "light"
     },
     "output_type": "display_data"
    }
   ],
   "source": [
    "plt.hist(moo_korea.D[moo_korea.D>0])"
   ]
  },
  {
   "cell_type": "markdown",
   "id": "18718af5-d9b0-4d21-a8ba-2ad5bfc5886d",
   "metadata": {},
   "source": [
    "`-` weight matrix"
   ]
  },
  {
   "cell_type": "code",
   "execution_count": 640,
   "id": "18243575-b387-4794-9742-c19d22e0655e",
   "metadata": {},
   "outputs": [],
   "source": [
    "moo_korea.get_weightmatrix(theta=(217.66709),kappa=1000) "
   ]
  },
  {
   "cell_type": "markdown",
   "id": "7a2fd261-41e5-456f-a837-b0049c9876a2",
   "metadata": {},
   "source": [
    "`-` fit"
   ]
  },
  {
   "cell_type": "code",
   "execution_count": 641,
   "id": "d58aa4e8-6fa4-48de-aa41-9f15950baafe",
   "metadata": {},
   "outputs": [
    {
     "data": {
      "image/png": "[encoded data removed]",
      "text/plain": [
       "<Figure size 432x288 with 1 Axes>"
      ]
     },
     "metadata": {
      "needs_background": "light"
     },
     "output_type": "display_data"
    }
   ],
   "source": [
    "moo_korea.fit(m=700)"
   ]
  },
  {
   "cell_type": "code",
   "execution_count": 642,
   "id": "0d9951ee-7b70-4f56-87d1-0b3f5f814fd3",
   "metadata": {},
   "outputs": [
    {
     "data": {
      "text/html": [
       "<div>\n",
       "<style scoped>\n",
       "    .dataframe tbody tr th:only-of-type {\n",
       "        vertical-align: middle;\n",
       "    }\n",
       "\n",
       "    .dataframe tbody tr th {\n",
       "        vertical-align: top;\n",
       "    }\n",
       "\n",
       "    .dataframe thead th {\n",
       "        text-align: right;\n",
       "    }\n",
       "</style>\n",
       "<table border=\"1\" class=\"dataframe\">\n",
       "  <thead>\n",
       "    <tr style=\"text-align: right;\">\n",
       "      <th></th>\n",
       "      <th>Magnitude</th>\n",
       "      <th>Latitude</th>\n",
       "      <th>Longitude</th>\n",
       "      <th>Year</th>\n",
       "      <th>MagnitudeHat</th>\n",
       "      <th>Residual</th>\n",
       "    </tr>\n",
       "  </thead>\n",
       "  <tbody>\n",
       "    <tr>\n",
       "      <th>81</th>\n",
       "      <td>4.5</td>\n",
       "      <td>35.74</td>\n",
       "      <td>129.18</td>\n",
       "      <td>2016.0</td>\n",
       "      <td>2.945205</td>\n",
       "      <td>1.554795</td>\n",
       "    </tr>\n",
       "    <tr>\n",
       "      <th>187</th>\n",
       "      <td>5.8</td>\n",
       "      <td>35.76</td>\n",
       "      <td>129.19</td>\n",
       "      <td>2016.0</td>\n",
       "      <td>3.290449</td>\n",
       "      <td>2.509551</td>\n",
       "    </tr>\n",
       "    <tr>\n",
       "      <th>229</th>\n",
       "      <td>3.9</td>\n",
       "      <td>36.02</td>\n",
       "      <td>126.95</td>\n",
       "      <td>2015.0</td>\n",
       "      <td>2.898130</td>\n",
       "      <td>1.001870</td>\n",
       "    </tr>\n",
       "    <tr>\n",
       "      <th>404</th>\n",
       "      <td>4.9</td>\n",
       "      <td>35.16</td>\n",
       "      <td>124.56</td>\n",
       "      <td>2013.0</td>\n",
       "      <td>3.687209</td>\n",
       "      <td>1.212791</td>\n",
       "    </tr>\n",
       "    <tr>\n",
       "      <th>602</th>\n",
       "      <td>4.0</td>\n",
       "      <td>36.56</td>\n",
       "      <td>128.71</td>\n",
       "      <td>2009.0</td>\n",
       "      <td>2.973552</td>\n",
       "      <td>1.026448</td>\n",
       "    </tr>\n",
       "  </tbody>\n",
       "</table>\n",
       "</div>"
      ],
      "text/plain": [
       "     Magnitude  Latitude  Longitude    Year  MagnitudeHat  Residual\n",
       "81         4.5     35.74     129.18  2016.0      2.945205  1.554795\n",
       "187        5.8     35.76     129.19  2016.0      3.290449  2.509551\n",
       "229        3.9     36.02     126.95  2015.0      2.898130  1.001870\n",
       "404        4.9     35.16     124.56  2013.0      3.687209  1.212791\n",
       "602        4.0     36.56     128.71  2009.0      2.973552  1.026448"
      ]
     },
     "execution_count": 642,
     "metadata": {},
     "output_type": "execute_result"
    }
   ],
   "source": [
    "moo_korea.df.query('Residual>=1').iloc[:,:] "
   ]
  },
  {
   "cell_type": "markdown",
   "id": "606dd484-d9c1-48e7-8eb6-ddb5575f2bd5",
   "metadata": {},
   "source": [
    "경주는 Latitude 35.7808 Longitude 129.2162 이 정도의 위치!"
   ]
  },
  {
   "cell_type": "markdown",
   "id": "4aa55f71-e2b6-4d84-80c0-dbeb50af0ae0",
   "metadata": {},
   "source": [
    "`-` vis"
   ]
  },
  {
   "cell_type": "code",
   "execution_count": 653,
   "id": "24945012-e83a-4f59-b58f-a5dba9568999",
   "metadata": {},
   "outputs": [],
   "source": [
    "#moo_korea.vis(MagThresh=5,ResThresh=1) # <- 실행해봐요"
   ]
  },
  {
   "cell_type": "markdown",
   "id": "8b023aeb-8caf-4fb1-8911-d729c015df3a",
   "metadata": {},
   "source": [
    "---"
   ]
  },
  {
   "cell_type": "markdown",
   "id": "3df5321e-0515-4c4a-85f0-62a6a3bd9399",
   "metadata": {
    "tags": []
   },
   "source": [
    "### analysis_Global"
   ]
  },
  {
   "cell_type": "markdown",
   "id": "2600cda8-6523-43b2-9380-096c813ede9a",
   "metadata": {},
   "source": [
    "`-` make instance for analysis"
   ]
  },
  {
   "cell_type": "code",
   "execution_count": 497,
   "id": "f73806a9-3bc5-43fc-9420-b1a9898400bd",
   "metadata": {},
   "outputs": [],
   "source": [
    "moo_global=MooYaHo(df_global.query('Year>=2010'))"
   ]
  },
  {
   "cell_type": "markdown",
   "id": "959b7536-4e83-4a49-babd-58fc440d5319",
   "metadata": {},
   "source": [
    "`-` get distance "
   ]
  },
  {
   "cell_type": "code",
   "execution_count": 498,
   "id": "37276d6c-08d6-4582-98d3-a91610337bbf",
   "metadata": {},
   "outputs": [
    {
     "name": "stderr",
     "output_type": "stream",
     "text": [
      "100%|██████████| 23737/23737 [11:05<00:00, 35.68it/s] \n"
     ]
    }
   ],
   "source": [
    "moo_global.get_distance()"
   ]
  },
  {
   "cell_type": "code",
   "execution_count": 499,
   "id": "5b0ae65d-a2f4-41fe-96c6-583c3305fae0",
   "metadata": {},
   "outputs": [
    {
     "data": {
      "text/plain": [
       "8817.41643144456"
      ]
     },
     "execution_count": 499,
     "metadata": {},
     "output_type": "execute_result"
    }
   ],
   "source": [
    "moo_global.D[moo_global.D>0].mean()"
   ]
  },
  {
   "cell_type": "code",
   "execution_count": 500,
   "id": "3ecaf888-258c-49c3-852f-1582e0d38d56",
   "metadata": {},
   "outputs": [
    {
     "data": {
      "text/plain": [
       "(array([48831448., 59449960., 75911578., 79513042., 70598224., 66424030.,\n",
       "        61067528., 48832394., 43150940.,  9634370.]),\n",
       " array([2.54728455e-02, 2.00145292e+03, 4.00288038e+03, 6.00430783e+03,\n",
       "        8.00573528e+03, 1.00071627e+04, 1.20085902e+04, 1.40100176e+04,\n",
       "        1.60114451e+04, 1.80128725e+04, 2.00143000e+04]),\n",
       " <BarContainer object of 10 artists>)"
      ]
     },
     "execution_count": 500,
     "metadata": {},
     "output_type": "execute_result"
    },
    {
     "data": {
      "image/png": "[encoded data removed]",
      "text/plain": [
       "<Figure size 432x288 with 1 Axes>"
      ]
     },
     "metadata": {
      "needs_background": "light"
     },
     "output_type": "display_data"
    }
   ],
   "source": [
    "plt.hist(moo_global.D[moo_global.D>0])"
   ]
  },
  {
   "cell_type": "markdown",
   "id": "79fcef8e-7193-474b-a44a-8b2c2628487b",
   "metadata": {},
   "source": [
    "`-` weight matrix"
   ]
  },
  {
   "cell_type": "code",
   "execution_count": 516,
   "id": "fc15fa39-e46a-41cd-879f-eeeef10462f8",
   "metadata": {},
   "outputs": [],
   "source": [
    "moo_global.get_weightmatrix(theta=(8268.6226),kappa=4000) "
   ]
  },
  {
   "cell_type": "markdown",
   "id": "62c3d1e9-1012-4545-b5a9-92ced3c5d431",
   "metadata": {},
   "source": [
    "`-` fit"
   ]
  },
  {
   "cell_type": "code",
   "execution_count": 527,
   "id": "d89c5ae6-4288-4214-a161-f4aabf8d3695",
   "metadata": {},
   "outputs": [
    {
     "data": {
      "image/png": "[encoded data removed]",
      "text/plain": [
       "<Figure size 432x288 with 1 Axes>"
      ]
     },
     "metadata": {
      "needs_background": "light"
     },
     "output_type": "display_data"
    }
   ],
   "source": [
    "moo_global.fit(m=10000)"
   ]
  },
  {
   "cell_type": "markdown",
   "id": "9425ce00-8d9b-491c-98a0-1a26a0ad9c43",
   "metadata": {},
   "source": [
    "`-` vis"
   ]
  },
  {
   "cell_type": "code",
   "execution_count": 528,
   "id": "492dee68-96d2-444b-98c3-4e449981ae69",
   "metadata": {},
   "outputs": [
    {
     "data": {
      "text/html": [
       "<div>\n",
       "<style scoped>\n",
       "    .dataframe tbody tr th:only-of-type {\n",
       "        vertical-align: middle;\n",
       "    }\n",
       "\n",
       "    .dataframe tbody tr th {\n",
       "        vertical-align: top;\n",
       "    }\n",
       "\n",
       "    .dataframe thead th {\n",
       "        text-align: right;\n",
       "    }\n",
       "</style>\n",
       "<table border=\"1\" class=\"dataframe\">\n",
       "  <thead>\n",
       "    <tr style=\"text-align: right;\">\n",
       "      <th></th>\n",
       "      <th>Latitude</th>\n",
       "      <th>Longitude</th>\n",
       "      <th>Magnitude</th>\n",
       "      <th>Year</th>\n",
       "      <th>MagnitudeHat</th>\n",
       "      <th>Residual</th>\n",
       "    </tr>\n",
       "  </thead>\n",
       "  <tbody>\n",
       "    <tr>\n",
       "      <th>33065</th>\n",
       "      <td>18.443</td>\n",
       "      <td>-72.571</td>\n",
       "      <td>7.0</td>\n",
       "      <td>2010.0</td>\n",
       "      <td>5.985154</td>\n",
       "      <td>1.014846</td>\n",
       "    </tr>\n",
       "    <tr>\n",
       "      <th>11356</th>\n",
       "      <td>18.443</td>\n",
       "      <td>-72.571</td>\n",
       "      <td>7.0</td>\n",
       "      <td>2010.0</td>\n",
       "      <td>5.763248</td>\n",
       "      <td>1.236752</td>\n",
       "    </tr>\n",
       "  </tbody>\n",
       "</table>\n",
       "</div>"
      ],
      "text/plain": [
       "       Latitude  Longitude  Magnitude    Year  MagnitudeHat  Residual\n",
       "33065    18.443    -72.571        7.0  2010.0      5.985154  1.014846\n",
       "11356    18.443    -72.571        7.0  2010.0      5.763248  1.236752"
      ]
     },
     "execution_count": 528,
     "metadata": {},
     "output_type": "execute_result"
    }
   ],
   "source": [
    "moo_global.df.query('Year==2010 & Latitude == 18.443')"
   ]
  },
  {
   "cell_type": "code",
   "execution_count": 529,
   "id": "f771e390-eb79-460f-96c7-5605d8f74697",
   "metadata": {},
   "outputs": [],
   "source": [
    "#moo_global.vis(MagThresh=9,ResThresh=1) # <- 실행해봐요"
   ]
  },
  {
   "cell_type": "code",
   "execution_count": 652,
   "id": "ac3254f3-c1cf-47e6-a4e1-2dd00cf46beb",
   "metadata": {},
   "outputs": [
    {
     "data": {
      "text/plain": [
       "array([[0., 0., 0., ..., 0., 0., 0.],\n",
       "       [0., 0., 0., ..., 0., 0., 0.],\n",
       "       [0., 0., 0., ..., 0., 0., 0.],\n",
       "       ...,\n",
       "       [0., 0., 0., ..., 0., 0., 0.],\n",
       "       [0., 0., 0., ..., 0., 0., 0.],\n",
       "       [0., 0., 0., ..., 0., 0., 0.]])"
      ]
     },
     "execution_count": 652,
     "metadata": {},
     "output_type": "execute_result"
    }
   ],
   "source": [
    "nn= 18*10000\n",
    "np.zeros([nn,nn])"
   ]
  },
  {
   "cell_type": "code",
   "execution_count": null,
   "id": "4d0495d3-f588-4b6d-8e31-d84f0ba2c9b6",
   "metadata": {},
   "outputs": [],
   "source": []
  }
 ],
 "metadata": {
  "kernelspec": {
   "display_name": "Python 3 (ipykernel)",
   "language": "python",
   "name": "python3"
  },
  "language_info": {
   "codemirror_mode": {
    "name": "ipython",
    "version": 3
   },
   "file_extension": ".py",
   "mimetype": "text/x-python",
   "name": "python",
   "nbconvert_exporter": "python",
   "pygments_lexer": "ipython3",
   "version": "3.8.12"
  }
 },
 "nbformat": 4,
 "nbformat_minor": 5
}
