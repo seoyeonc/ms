{
 "cells": [
  {
   "cell_type": "markdown",
   "id": "0085e656-9275-4908-be69-1bc35f341a2b",
   "metadata": {
    "id": "cac470df-29e7-4148-9bbd-d8b9a32fa570",
    "tags": []
   },
   "source": [
    "# (study) 파이썬 입문 (10주차) 5월9일\n",
    "> 클래스 (밈과 클래스, motivation)\n",
    "\n",
    "- toc:true\n",
    "- branch: master\n",
    "- badges: true\n",
    "- comments: false\n",
    "- author: 최서연\n",
    "- categories: [Python, class]"
   ]
  },
  {
   "cell_type": "markdown",
   "id": "3cefc9ae-9889-4158-9a8a-2681d43f55e3",
   "metadata": {
    "id": "3cefc9ae-9889-4158-9a8a-2681d43f55e3"
   },
   "source": [
    "## 강의영상 "
   ]
  },
  {
   "cell_type": "markdown",
   "id": "b5bc9c9e-a52a-46e2-9972-a72fb7e81867",
   "metadata": {
    "id": "b5bc9c9e-a52a-46e2-9972-a72fb7e81867"
   },
   "source": [
    "> youtube: https://youtube.com/playlist?list=PLQqh36zP38-wAhv4pNo7JMS_XygOrjZvO"
   ]
  },
  {
   "cell_type": "markdown",
   "id": "63b43747-2636-462e-9bbe-c1f80555426e",
   "metadata": {
    "id": "63b43747-2636-462e-9bbe-c1f80555426e"
   },
   "source": [
    "## 밈(Meme)과 클래스"
   ]
  },
  {
   "cell_type": "markdown",
   "id": "a02c0c24-07d9-40f8-84a1-7e260afb95cb",
   "metadata": {
    "id": "a02c0c24-07d9-40f8-84a1-7e260afb95cb"
   },
   "source": [
    "### 신혜선 어쩔티비\n"
   ]
  },
  {
   "cell_type": "markdown",
   "id": "589b241c-7905-4950-8cb3-5c8041ee57d3",
   "metadata": {
    "id": "589b241c-7905-4950-8cb3-5c8041ee57d3"
   },
   "source": [
    "`-` 원본\n",
    "\n",
    "- youtube: https://www.youtube.com/watch?v=ReKRSTB5PK8&t=2s"
   ]
  },
  {
   "cell_type": "markdown",
   "id": "879e0c22-76c6-4be3-9d69-123477fa8640",
   "metadata": {
    "id": "879e0c22-76c6-4be3-9d69-123477fa8640"
   },
   "source": [
    "`-` 무슨말인지 하나도 몰랐어요"
   ]
  },
  {
   "cell_type": "markdown",
   "id": "96ec3a1a-3988-4e93-a20f-312c3f86104b",
   "metadata": {
    "id": "96ec3a1a-3988-4e93-a20f-312c3f86104b"
   },
   "source": [
    "`-` 하나하나가 요즘 많이 쓰는 말인것은 알겠음 "
   ]
  },
  {
   "cell_type": "markdown",
   "id": "30edc71b-bdb9-4113-9195-cda415258860",
   "metadata": {
    "id": "30edc71b-bdb9-4113-9195-cda415258860"
   },
   "source": [
    "`-` 멈춰까지 유행어였음!! (몰랐어요, 댓글보고 알았음) "
   ]
  },
  {
   "cell_type": "markdown",
   "id": "e98e07c3-404d-4541-a806-1a76f130272e",
   "metadata": {
    "id": "e98e07c3-404d-4541-a806-1a76f130272e"
   },
   "source": [
    "`-` 이런걸 인터넷밈 혹은 줄여서 그냥 밈이라고 부른다. "
   ]
  },
  {
   "cell_type": "markdown",
   "id": "1c05d0d9-2579-469c-acba-b5faa6529976",
   "metadata": {
    "id": "1c05d0d9-2579-469c-acba-b5faa6529976"
   },
   "source": [
    "`-` 너무 재밋어서 사람들이 따라하면서 유행시킵니다. (약간변형하기도 하고요)\n",
    "- 분홍밤의 어쩔티비: https://www.youtube.com/watch?v=_lQqPec8dFU"
   ]
  },
  {
   "cell_type": "markdown",
   "id": "8a13b94a-d384-41eb-a73b-41f816c2604e",
   "metadata": {
    "id": "8a13b94a-d384-41eb-a73b-41f816c2604e"
   },
   "source": [
    "### 밈과 인터넷밈"
   ]
  },
  {
   "cell_type": "markdown",
   "id": "294eeaca-aee7-429a-8e8a-d7a352db5f14",
   "metadata": {
    "id": "294eeaca-aee7-429a-8e8a-d7a352db5f14"
   },
   "source": [
    "`-` 밈이란? (유전자처럼) 복제가능한 something \n",
    "- 이기적 유전자에서 제시한 개념 \n",
    "- 유전자는 (1) 복제 (2) 변형되면서 전파되는 속성이 있다는 사실을 관찰 \n",
    "- 종교, 사상, 이념도 유전자처럼 (1) 복제 (2) 변형되면서 전파되더라.. \n",
    "- 밈 = 유전자의 일반화된 개념 = 복제가능한 something "
   ]
  },
  {
   "cell_type": "markdown",
   "id": "a1ac13cd-327a-4f40-9f00-65f4f745222c",
   "metadata": {
    "id": "a1ac13cd-327a-4f40-9f00-65f4f745222c"
   },
   "source": [
    "`-` 인터넷 밈 \n",
    "- 밈의 한 형태\n",
    "- 인터넷을 통하여 (1)복제 (2)변형되면서 전파되는 something"
   ]
  },
  {
   "cell_type": "markdown",
   "id": "55f3e02f-85e7-40bd-9f10-5494c3594bf6",
   "metadata": {
    "id": "55f3e02f-85e7-40bd-9f10-5494c3594bf6"
   },
   "source": [
    "### 신혜선의 어쩔티비에 사용된 밈"
   ]
  },
  {
   "cell_type": "markdown",
   "id": "eb755118-20b2-4838-b2c7-db5c060bd369",
   "metadata": {
    "id": "eb755118-20b2-4838-b2c7-db5c060bd369"
   },
   "source": [
    "#### (1) 어쩔티비? "
   ]
  },
  {
   "cell_type": "markdown",
   "id": "0a57ad71-f5f6-497e-a8e2-0ca71ee04b4e",
   "metadata": {
    "id": "0a57ad71-f5f6-497e-a8e2-0ca71ee04b4e"
   },
   "source": [
    "`-` 기원: 불분명 \n",
    "- 가설1: 초등학생이 유투브채널 개설할때 XX티비 라고 개설하는것에서 유래?\n",
    "- 가설2: \"어쩌라고 티비나봐\"의 줄임말? "
   ]
  },
  {
   "cell_type": "markdown",
   "id": "1a9e2062-1e04-447e-9e19-7629ccdc7e0e",
   "metadata": {
    "id": "1a9e2062-1e04-447e-9e19-7629ccdc7e0e"
   },
   "source": [
    "`-` 발전: 인터넷을 통하여 사람들이 쓰기시작하면서 밈화\n",
    "- 변형1: 저쩔티비, 안물티비, 안궁티비.. \n",
    "- 변형2: 어쩔냉장고, 어쩔세탁기, 어쩔다이슨청소기내돈내산.. \n",
    "\n",
    "> note: 사실 내돈내산도 밈이라고 볼 수 있음 "
   ]
  },
  {
   "cell_type": "markdown",
   "id": "dde69628-1f69-400a-980c-0a0ad5ba39a1",
   "metadata": {
    "id": "dde69628-1f69-400a-980c-0a0ad5ba39a1"
   },
   "source": [
    "`-` 유행 \n",
    "- 분석글: https://whitefaceone.tistory.com/2494\n",
    "- 중앙일보 분석기사: https://www.joongang.co.kr/article/25048899#home"
   ]
  },
  {
   "cell_type": "markdown",
   "id": "4edd689a-f7bd-4b1d-ba9b-c5d1e73f7812",
   "metadata": {
    "id": "4edd689a-f7bd-4b1d-ba9b-c5d1e73f7812"
   },
   "source": [
    "#### (2) 우짤래미 "
   ]
  },
  {
   "cell_type": "markdown",
   "id": "2da45cb3-f1f5-4d57-92e2-fbf5ebf3d412",
   "metadata": {
    "id": "2da45cb3-f1f5-4d57-92e2-fbf5ebf3d412"
   },
   "source": [
    "`-` 기원\n",
    "\n",
    "- https://pann.nate.com/talk/357542118"
   ]
  },
  {
   "cell_type": "markdown",
   "id": "46f21d81-2551-41f9-8ef9-9bf71de7c70a",
   "metadata": {
    "id": "46f21d81-2551-41f9-8ef9-9bf71de7c70a"
   },
   "source": [
    "#### (3) 아무고토못하쥬? "
   ]
  },
  {
   "cell_type": "markdown",
   "id": "698fa8ff-66e7-4fff-a449-76cc07f42458",
   "metadata": {
    "id": "698fa8ff-66e7-4fff-a449-76cc07f42458"
   },
   "source": [
    "`-` 기원: 인터넷방송? \n",
    "\n",
    "- https://www.inven.co.kr/board/overwatch/4538/2776334"
   ]
  },
  {
   "cell_type": "markdown",
   "id": "4a45828f-21db-46e6-9d98-f9dff0979213",
   "metadata": {
    "id": "4a45828f-21db-46e6-9d98-f9dff0979213"
   },
   "source": [
    "#### (4) 크크루삐뽕"
   ]
  },
  {
   "cell_type": "markdown",
   "id": "958745bd-ce6a-4879-b141-63a3131e479d",
   "metadata": {
    "id": "958745bd-ce6a-4879-b141-63a3131e479d"
   },
   "source": [
    "`-` 기원: 트위치? \n",
    "\n",
    "- https://whitefaceone.tistory.com/2067"
   ]
  },
  {
   "cell_type": "markdown",
   "id": "691e6b78-554e-477e-8990-cce91de966be",
   "metadata": {
    "id": "691e6b78-554e-477e-8990-cce91de966be"
   },
   "source": [
    "#### (5) 슉슈슈슈슉 ㅅㅂㄹㅁ ($\\star$)"
   ]
  },
  {
   "cell_type": "markdown",
   "id": "b6ec2930-7122-4380-8ff0-e3ea8be28814",
   "metadata": {
    "id": "b6ec2930-7122-4380-8ff0-e3ea8be28814"
   },
   "source": [
    "`-` 기원: 트위치 -> 문자 -> 돌하르방\n",
    "\n",
    "- https://namu.wiki/w/%EC%8A%88%EC%8A%89%20%EC%8A%88%EC%88%99.%20%EC%8A%89.%20%EC%8B%9C.%20%EC%8B%9C%EB%B0%9C%EB%9F%BC%EC%95%84."
   ]
  },
  {
   "cell_type": "markdown",
   "id": "0b1d94c4-1d79-45a4-9294-e37a28cf03f3",
   "metadata": {
    "id": "0b1d94c4-1d79-45a4-9294-e37a28cf03f3"
   },
   "source": [
    "`-` 전혀 다른 성질을 가진 밈으로 재탄생한 경우임 \n",
    "- 만들어진 계기: 트위치에서 tts를 이용해 조롱을 하기 위해 탄생 \n",
    "- 유명해진 계기: 택배실수 \n",
    "- 슉슈슈슈슉: 돌하르방과 결합.. (돌하르방의 기묘한 자세와 결합하여 더 재미있음) "
   ]
  },
  {
   "cell_type": "markdown",
   "id": "bd317db5-30a9-4a7c-8ea4-19f93c7d548f",
   "metadata": {
    "id": "bd317db5-30a9-4a7c-8ea4-19f93c7d548f"
   },
   "source": [
    "#### (6) 멈춰! ($\\star$)"
   ]
  },
  {
   "cell_type": "markdown",
   "id": "6e60cdd6-a886-4716-966a-83e6d2f836ab",
   "metadata": {
    "id": "6e60cdd6-a886-4716-966a-83e6d2f836ab"
   },
   "source": [
    "`-` 기원 학교폭력, 멈춰\n",
    "\n",
    "- youtube: https://www.youtube.com/watch?v=aQyLhYC4E8Y"
   ]
  },
  {
   "cell_type": "markdown",
   "id": "ba3fbe69-ea08-46f4-a72b-7550003af894",
   "metadata": {
    "id": "ba3fbe69-ea08-46f4-a72b-7550003af894"
   },
   "source": [
    "`-` 발전 (뒤늦게 생각해보니까 너무 어이없고 재미있음) \n",
    "\n",
    "- https://www.youtube.com/watch?v=lmkLZufjJS4&list=PLSEouoj9wewjzMFrPKZPPUeMpn9Da_hSs&index=8\n",
    "- 코스피하락, 멈춰~ : https://www.teamblind.com/kr/post/%EC%BD%94%EC%8A%A4%ED%94%BC-%ED%95%98%EB%9D%BD-%EB%A9%88%EC%B6%B0-nsn651dz\n",
    "- 수강신청 매크로, 멈춰~ : https://www.youtube.com/watch?v=RsXy5Hk_s8Q"
   ]
  },
  {
   "cell_type": "markdown",
   "id": "0798615b-6b02-4b7f-812d-50d1827308ee",
   "metadata": {
    "id": "0798615b-6b02-4b7f-812d-50d1827308ee"
   },
   "source": [
    "`-` 이것 역시 전혀 다른 성질을 가진 밈으로 재 탄생한 경우임 "
   ]
  },
  {
   "cell_type": "markdown",
   "id": "79aa2fc0-0896-41e0-935c-181c3d352aca",
   "metadata": {
    "id": "79aa2fc0-0896-41e0-935c-181c3d352aca",
    "tags": []
   },
   "source": [
    "#### (1)~(6) 이외에 더 있을수도.. // 내가 모를 수도 // 떠올리지 못 했을 수도 // 내가 무지했을 수도 //  내가 또 잘못을 // 내가 감히\n",
    "\n",
    "- https://www.careet.net/606"
   ]
  },
  {
   "cell_type": "markdown",
   "id": "c6df9a4b-c3e6-46a9-beda-39cb30ec6d41",
   "metadata": {
    "id": "c6df9a4b-c3e6-46a9-beda-39cb30ec6d41"
   },
   "source": [
    "### 예제들을 통해 살펴본 밈의 의미"
   ]
  },
  {
   "cell_type": "markdown",
   "id": "f038229a-1273-48ed-912e-9dccd1ae60c0",
   "metadata": {
    "id": "f038229a-1273-48ed-912e-9dccd1ae60c0"
   },
   "source": [
    "`-` 딱히 정형화 하기 어렵지만 위의예제들은 복제가 되는 어떠한 틀이 있다. 이것을 밈(=유전자)라고 부른다!!"
   ]
  },
  {
   "cell_type": "markdown",
   "id": "9e67c31f-ec84-4f63-a2cd-cbf2cd0dd1df",
   "metadata": {
    "id": "9e67c31f-ec84-4f63-a2cd-cbf2cd0dd1df"
   },
   "source": [
    "`-` 많은 사람들에게 그 복제내용이 확산되어 재생산된다. 이것을 밈화라고 한다. "
   ]
  },
  {
   "cell_type": "markdown",
   "id": "21ae3e9e-952d-49e4-815f-9e1ca582ccee",
   "metadata": {
    "id": "21ae3e9e-952d-49e4-815f-9e1ca582ccee"
   },
   "source": [
    "`-` 그대로 복제하지 않고 변형을 거치며 전혀 다른 성질을 가질 수 있다."
   ]
  },
  {
   "cell_type": "markdown",
   "id": "70f1d5c9-872b-424b-a691-14d357a33e90",
   "metadata": {
    "id": "70f1d5c9-872b-424b-a691-14d357a33e90"
   },
   "source": [
    "`-` 밈이 또 다른 밈을 만들수 있다.\n",
    "- 신혜선의 어쩔티비는 다양한 밈의 결합체, 그리고 신혜선의 어쩔티비 자체가 밈화 되었음. \n",
    "- 내돈내산 밈과 어쩔티비밈의 변형이 결합하여 어쩔다이슨청소기내돈내산 이 탄생. "
   ]
  },
  {
   "cell_type": "markdown",
   "id": "6db4aeb7-f802-419d-9a8a-38545364ef62",
   "metadata": {
    "id": "6db4aeb7-f802-419d-9a8a-38545364ef62"
   },
   "source": [
    "### 클래스 "
   ]
  },
  {
   "cell_type": "markdown",
   "id": "64e54625-8e28-40c8-9164-3615647252f3",
   "metadata": {
    "id": "64e54625-8e28-40c8-9164-3615647252f3"
   },
   "source": [
    "`-` 클래스의 정의 \n",
    "- 많은 교재에서 정의를 회피한다. \n",
    "- 대신에 비유적으로 설명하거나 다른 대상을 가져와서 설명한다. "
   ]
  },
  {
   "cell_type": "markdown",
   "id": "4a441f82-b1aa-49b0-bad5-9a8fb383ef7c",
   "metadata": {
    "id": "4a441f82-b1aa-49b0-bad5-9a8fb383ef7c"
   },
   "source": [
    "`-` 클래스에 대한 비유적 설명 (implicit definition) \n",
    "- 클래스는 과자틀과 비슷하다. 클래스란 똑같은 무엇인가를 계속 만들어 낼 수도 있는 설계도면이고 객체란 클래스로 만든 피조물을 뜻한다. (점프투파이썬)  \n",
    "-  In object-oriented programming, a class is an extensible program-code-template for creating objects, providing initial values for state (member variables) and implementations of behavior (member functions or methods). // 객체 지향 프로그래밍에서 클래스는 상태(멤버 변수) 및 동작 구현(멤버 함수 또는 메서드)에 대한 초기 값을 제공하는 객체 생성을 위한 확장 가능한 프로그램 코드 템플릿입니다.\n",
    "- http://www.tcpschool.com/java/java_class_intro\n",
    "- https://javacpro.tistory.com/29\n",
    "- https://ko.wikipedia.org/wiki/%ED%81%B4%EB%9E%98%EC%8A%A4_(%EC%BB%B4%ED%93%A8%ED%84%B0_%ED%94%84%EB%A1%9C%EA%B7%B8%EB%9E%98%EB%B0%8D)\n",
    "- 기타 서적들.. (진짜 무슨 한 챕터씩 설명하고 있음)\n"
   ]
  },
  {
   "cell_type": "markdown",
   "id": "93706272-39d6-4d30-bf18-441949f84282",
   "metadata": {
    "id": "93706272-39d6-4d30-bf18-441949f84282"
   },
   "source": [
    "`-` **클래스에 대한 명시적 정의 (책에 나온것 아니고 제 생각입니다!!)**\n",
    "- 클래스는 복제, 변형, 재생산을 용이하게 하기 위해 만들어진 확장가능한 프로그램의 코드의 단위(**extensible program-code-template**)이다. 즉 밈이다. "
   ]
  },
  {
   "cell_type": "markdown",
   "id": "320c3a98-c121-4b5d-a84c-a0c933187cb4",
   "metadata": {
    "id": "320c3a98-c121-4b5d-a84c-a0c933187cb4"
   },
   "source": [
    "`-` 클래스도 결국 밈이다. 생각해보면 클래스를 만들고 사용하는 과정이 인터넷에서 밈을 만들고 노는것과 닮아 있다. \n",
    "- 1단계: 개념의 인지  (이거 재미있겠다 밈으로 만들자 // 이 코드 쓸모있다, 이 코드를 쉽게 찍어내는 클래스로 만들어두자) \n",
    "- 2단계: 복사하고 싶은 속성을 추려 복사가능한 틀을 만듬 (밈 초기 컨텐츠 //  클래스의 선언) \n",
    "- 3단계: 밈에서 다양한 컨텐츠를 재생산, 때로는 변형하여 재생산, 때로는 그것을 응용한 다른밈을 만듬 (밈화 // 클래스의 인스턴스화, 상속, 메소드오버라이딩) "
   ]
  },
  {
   "cell_type": "markdown",
   "id": "313a9011-bdbc-40d8-a3a7-dfbc919a5c49",
   "metadata": {
    "id": "313a9011-bdbc-40d8-a3a7-dfbc919a5c49"
   },
   "source": [
    "## \"멈춰\"밈을 컨텐츠화 "
   ]
  },
  {
   "cell_type": "markdown",
   "id": "b19590f1-5ab8-47e9-9efa-f642cc87c240",
   "metadata": {
    "id": "b19590f1-5ab8-47e9-9efa-f642cc87c240"
   },
   "source": [
    "`-` 멈춰밈을 이용하여 코스피하락, 수강신청매크로등 다양한 예제를 만들고 놀고 싶다. "
   ]
  },
  {
   "cell_type": "code",
   "execution_count": 1,
   "id": "86e3c598-9298-4abe-97d4-71959d7f4001",
   "metadata": {
    "id": "86e3c598-9298-4abe-97d4-71959d7f4001"
   },
   "outputs": [],
   "source": [
    "from IPython.core.display import HTML "
   ]
  },
  {
   "cell_type": "markdown",
   "id": "756ff218-b805-4531-9418-34d893da4908",
   "metadata": {
    "id": "756ff218-b805-4531-9418-34d893da4908"
   },
   "source": [
    "### 예비학습"
   ]
  },
  {
   "cell_type": "markdown",
   "id": "ca1cc8b6-cb38-4721-84fa-8d7273e930d5",
   "metadata": {
    "id": "ca1cc8b6-cb38-4721-84fa-8d7273e930d5"
   },
   "source": [
    "#### 문자열포맷팅 (문자열끼워넣기)"
   ]
  },
  {
   "cell_type": "markdown",
   "id": "81122759-ee4b-4501-b9bf-a4663a313a7a",
   "metadata": {
    "id": "81122759-ee4b-4501-b9bf-a4663a313a7a"
   },
   "source": [
    "`-` 예제1"
   ]
  },
  {
   "cell_type": "code",
   "execution_count": 2,
   "id": "f5032cab-9f2c-4609-adc5-4c69b2c9e112",
   "metadata": {
    "id": "f5032cab-9f2c-4609-adc5-4c69b2c9e112",
    "outputId": "fe4f72d5-732e-470c-bd0a-465de4063615"
   },
   "outputs": [
    {
     "data": {
      "text/plain": [
       "'제 이름은 최규빈입니다'"
      ]
     },
     "execution_count": 2,
     "metadata": {},
     "output_type": "execute_result"
    }
   ],
   "source": [
    "'제 이름은 {}입니다'.format('최규빈')"
   ]
  },
  {
   "cell_type": "markdown",
   "id": "4de4bb65-09fa-46b5-82db-c88ec0f39043",
   "metadata": {
    "id": "4de4bb65-09fa-46b5-82db-c88ec0f39043"
   },
   "source": [
    "`-` 예제2"
   ]
  },
  {
   "cell_type": "code",
   "execution_count": 3,
   "id": "61c59455-4189-48a8-91de-7bb5a705ee25",
   "metadata": {
    "id": "61c59455-4189-48a8-91de-7bb5a705ee25",
    "outputId": "a547320d-ddd5-4912-cc6d-af614657b46b"
   },
   "outputs": [
    {
     "data": {
      "text/plain": [
       "'제 이름은 최규빈이고 사는곳은 전주입니다.'"
      ]
     },
     "execution_count": 3,
     "metadata": {},
     "output_type": "execute_result"
    }
   ],
   "source": [
    "'제 이름은 {}이고 사는곳은 {}입니다.'.format('최규빈','전주')"
   ]
  },
  {
   "cell_type": "code",
   "execution_count": 4,
   "id": "0a457401-fadd-40ff-9764-8e2dcd38d391",
   "metadata": {
    "id": "0a457401-fadd-40ff-9764-8e2dcd38d391",
    "outputId": "c302a48c-92a1-4249-c721-7977abfadc4d"
   },
   "outputs": [
    {
     "data": {
      "text/plain": [
       "'제 이름은 전주이고 사는곳은 최규빈입니다.'"
      ]
     },
     "execution_count": 4,
     "metadata": {},
     "output_type": "execute_result"
    }
   ],
   "source": [
    "'제 이름은 {}이고 사는곳은 {}입니다.'.format('전주','최규빈')"
   ]
  },
  {
   "cell_type": "code",
   "execution_count": 5,
   "id": "80147121-5c1d-4f69-bb87-d3cb186bfc85",
   "metadata": {
    "id": "0a457401-fadd-40ff-9764-8e2dcd38d391",
    "outputId": "c302a48c-92a1-4249-c721-7977abfadc4d"
   },
   "outputs": [
    {
     "ename": "IndexError",
     "evalue": "Replacement index 1 out of range for positional args tuple",
     "output_type": "error",
     "traceback": [
      "\u001b[0;31m---------------------------------------------------------------------------\u001b[0m",
      "\u001b[0;31mIndexError\u001b[0m                                Traceback (most recent call last)",
      "\u001b[0;32m/tmp/ipykernel_560529/3071290817.py\u001b[0m in \u001b[0;36m<module>\u001b[0;34m\u001b[0m\n\u001b[0;32m----> 1\u001b[0;31m \u001b[0;34m'제 이름은 {}이고 사는곳은 {}입니다.'\u001b[0m\u001b[0;34m.\u001b[0m\u001b[0mformat\u001b[0m\u001b[0;34m(\u001b[0m\u001b[0;34m'전주'\u001b[0m\u001b[0;34m)\u001b[0m\u001b[0;34m\u001b[0m\u001b[0;34m\u001b[0m\u001b[0m\n\u001b[0m",
      "\u001b[0;31mIndexError\u001b[0m: Replacement index 1 out of range for positional args tuple"
     ]
    }
   ],
   "source": [
    "'제 이름은 {}이고 사는곳은 {}입니다.'.format('전주')"
   ]
  },
  {
   "cell_type": "markdown",
   "id": "3c4081c1-2fba-4bed-a254-1327503992fe",
   "metadata": {
    "id": "3c4081c1-2fba-4bed-a254-1327503992fe"
   },
   "source": [
    "`-` 예제3"
   ]
  },
  {
   "cell_type": "code",
   "execution_count": 6,
   "id": "640ef855-07d6-40f0-a706-1b379b0930f0",
   "metadata": {
    "id": "640ef855-07d6-40f0-a706-1b379b0930f0",
    "outputId": "a20e8ceb-cf99-4990-ff8f-3ba960a53475"
   },
   "outputs": [
    {
     "data": {
      "text/plain": [
       "'제 이름은 최규빈이고 사는곳은 전주입니다.'"
      ]
     },
     "execution_count": 6,
     "metadata": {},
     "output_type": "execute_result"
    }
   ],
   "source": [
    "'제 이름은 {name}이고 사는곳은 {add}입니다.'.format(name='최규빈',add='전주')"
   ]
  },
  {
   "cell_type": "code",
   "execution_count": 8,
   "id": "39e0628d-76ea-4bd5-98de-4497f6eab4d6",
   "metadata": {
    "id": "39e0628d-76ea-4bd5-98de-4497f6eab4d6",
    "outputId": "621c51ad-e437-41df-b79c-360fcf484abf"
   },
   "outputs": [
    {
     "data": {
      "text/plain": [
       "'제 이름은 최규빈이고 사는곳은 전주입니다.'"
      ]
     },
     "execution_count": 8,
     "metadata": {},
     "output_type": "execute_result"
    }
   ],
   "source": [
    "'제 이름은 {name}이고 사는곳은 {add}입니다.'.format(add='전주',name='최규빈')"
   ]
  },
  {
   "cell_type": "markdown",
   "id": "8972af43-5b16-4b7c-9530-1e4dcd6cb4e7",
   "metadata": {
    "id": "8972af43-5b16-4b7c-9530-1e4dcd6cb4e7"
   },
   "source": [
    "#### HTML "
   ]
  },
  {
   "cell_type": "markdown",
   "id": "d8cdf133-4eb4-45c0-b101-750a49063d7e",
   "metadata": {
    "id": "d8cdf133-4eb4-45c0-b101-750a49063d7e"
   },
   "source": [
    "`-` 예제1"
   ]
  },
  {
   "cell_type": "code",
   "execution_count": null,
   "id": "af678aee-922c-42aa-a086-57cdaf162dab",
   "metadata": {
    "id": "af678aee-922c-42aa-a086-57cdaf162dab",
    "outputId": "f4d63b26-3ba0-4505-a937-955a04b4ab0d"
   },
   "outputs": [
    {
     "data": {
      "text/html": [
       "<p> 이름 </p>"
      ],
      "text/plain": [
       "<IPython.core.display.HTML object>"
      ]
     },
     "execution_count": 7,
     "metadata": {},
     "output_type": "execute_result"
    }
   ],
   "source": [
    "HTML(\"<p> 이름 </p>\")"
   ]
  },
  {
   "cell_type": "markdown",
   "id": "12b66dd8-35bd-472c-bf3f-caefd6ce61c7",
   "metadata": {
    "id": "12b66dd8-35bd-472c-bf3f-caefd6ce61c7"
   },
   "source": [
    "`-` 예제2"
   ]
  },
  {
   "cell_type": "code",
   "execution_count": null,
   "id": "a0a8a3f2-297d-41dc-baad-0b3bb1d17668",
   "metadata": {
    "id": "a0a8a3f2-297d-41dc-baad-0b3bb1d17668",
    "outputId": "b25b220a-222d-4c74-c276-d9a78891dfc9"
   },
   "outputs": [
    {
     "data": {
      "text/html": [
       "<img src='https://stat.jbnu.ac.kr/sites/stat/atchmnfl_mngr/imageSlide/469/temp_1573001043314100.jpg'>"
      ],
      "text/plain": [
       "<IPython.core.display.HTML object>"
      ]
     },
     "execution_count": 8,
     "metadata": {},
     "output_type": "execute_result"
    }
   ],
   "source": [
    "HTML(\"<img src='https://stat.jbnu.ac.kr/sites/stat/atchmnfl_mngr/imageSlide/469/temp_1573001043314100.jpg'>\")"
   ]
  },
  {
   "cell_type": "markdown",
   "id": "bee618cb-a4a3-40d4-9d9d-56052ac40f30",
   "metadata": {
    "id": "bee618cb-a4a3-40d4-9d9d-56052ac40f30"
   },
   "source": [
    "`-` 예제3"
   ]
  },
  {
   "cell_type": "code",
   "execution_count": null,
   "id": "dea758df-27db-43ea-86a6-7c6141097e7d",
   "metadata": {
    "id": "dea758df-27db-43ea-86a6-7c6141097e7d",
    "outputId": "083f7474-4c25-497d-8876-c26b81612083"
   },
   "outputs": [
    {
     "data": {
      "text/html": [
       "<p> 전북대학교 </p> <img src='https://stat.jbnu.ac.kr/sites/stat/atchmnfl_mngr/imageSlide/469/temp_1573001043314100.jpg'>"
      ],
      "text/plain": [
       "<IPython.core.display.HTML object>"
      ]
     },
     "execution_count": 9,
     "metadata": {},
     "output_type": "execute_result"
    }
   ],
   "source": [
    "HTML(\"<p> 전북대학교 </p> <img src='https://stat.jbnu.ac.kr/sites/stat/atchmnfl_mngr/imageSlide/469/temp_1573001043314100.jpg'>\")"
   ]
  },
  {
   "cell_type": "markdown",
   "id": "628aeb59-e833-4698-8265-77cd1a9df010",
   "metadata": {
    "id": "628aeb59-e833-4698-8265-77cd1a9df010"
   },
   "source": [
    "### HTML을 이용한 밈생성"
   ]
  },
  {
   "cell_type": "markdown",
   "id": "be7fe4a9-7f61-48bd-a59d-a6d3cfe0459e",
   "metadata": {
    "id": "be7fe4a9-7f61-48bd-a59d-a6d3cfe0459e"
   },
   "source": [
    "`-` 밈을 위한 이미지 주소"
   ]
  },
  {
   "cell_type": "code",
   "execution_count": null,
   "id": "ac8a5b40-1fe3-46b0-83c0-783e87cdf8a9",
   "metadata": {
    "id": "ac8a5b40-1fe3-46b0-83c0-783e87cdf8a9"
   },
   "outputs": [],
   "source": [
    "url1='https://github.com/guebin/IP2022/blob/master/_notebooks/2022-05-07-stop1.jpeg?raw=true'\n",
    "url2='https://github.com/guebin/IP2022/blob/master/_notebooks/2022-05-07-stop2.png?raw=true'"
   ]
  },
  {
   "cell_type": "markdown",
   "id": "8cb5a0d2-34cc-4479-8626-61be4a847832",
   "metadata": {
    "id": "8cb5a0d2-34cc-4479-8626-61be4a847832"
   },
   "source": [
    "`-` 예제1: 원본"
   ]
  },
  {
   "cell_type": "code",
   "execution_count": null,
   "id": "9a5fb71f-9a78-42e9-bceb-e02669bf7abd",
   "metadata": {
    "id": "9a5fb71f-9a78-42e9-bceb-e02669bf7abd",
    "outputId": "8286f542-268e-445d-d1ff-463ff21bb082"
   },
   "outputs": [
    {
     "data": {
      "text/html": [
       "<p> 학교폭력 </p> <img src= 'https://github.com/guebin/IP2022/blob/master/_notebooks/2022-05-07-stop1.jpeg?raw=true'> <p> 멈춰~~~~ </p> "
      ],
      "text/plain": [
       "<IPython.core.display.HTML object>"
      ]
     },
     "execution_count": 11,
     "metadata": {},
     "output_type": "execute_result"
    }
   ],
   "source": [
    "htmlstr = \"<p> {title} </p> <img src= '{url}'> <p> {end} </p> \" \n",
    "HTML(htmlstr.format(title='학교폭력',url=url1,end='멈춰~~~~'))"
   ]
  },
  {
   "cell_type": "markdown",
   "id": "c3db010f-36ab-49bf-90e5-262f3279922c",
   "metadata": {
    "id": "c3db010f-36ab-49bf-90e5-262f3279922c"
   },
   "source": [
    "`-` 예제1: 코스피하락 "
   ]
  },
  {
   "cell_type": "code",
   "execution_count": null,
   "id": "2aa74cd2-3e0e-4452-b4eb-c51e531dbe3a",
   "metadata": {
    "id": "2aa74cd2-3e0e-4452-b4eb-c51e531dbe3a",
    "outputId": "348a1050-8578-40b9-fbd1-7df74c16f6b1"
   },
   "outputs": [
    {
     "data": {
      "text/html": [
       "<p> 코스피하락 </p> <img src= 'https://github.com/guebin/IP2022/blob/master/_notebooks/2022-05-07-stop1.jpeg?raw=true'> <p> 멈춰~~~~ </p> "
      ],
      "text/plain": [
       "<IPython.core.display.HTML object>"
      ]
     },
     "execution_count": 12,
     "metadata": {},
     "output_type": "execute_result"
    }
   ],
   "source": [
    "HTML(htmlstr.format(title='코스피하락',url=url1,end='멈춰~~~~'))"
   ]
  },
  {
   "cell_type": "markdown",
   "id": "b5118582-5fd1-40ff-957f-30f53c811d8d",
   "metadata": {
    "id": "b5118582-5fd1-40ff-957f-30f53c811d8d"
   },
   "source": [
    "`-` 예제3: 수강신청 매크로 "
   ]
  },
  {
   "cell_type": "code",
   "execution_count": null,
   "id": "ba418296-1ac9-4cc7-946b-01849250d96d",
   "metadata": {
    "id": "ba418296-1ac9-4cc7-946b-01849250d96d",
    "outputId": "998e2876-7f78-4032-81e8-3c7035ec2369"
   },
   "outputs": [
    {
     "data": {
      "text/html": [
       "<p> 수강신청 매크로 </p> <img src= 'https://github.com/guebin/IP2022/blob/master/_notebooks/2022-05-07-stop1.jpeg?raw=true'> <p> 멈춰~~~~ </p> "
      ],
      "text/plain": [
       "<IPython.core.display.HTML object>"
      ]
     },
     "execution_count": 13,
     "metadata": {},
     "output_type": "execute_result"
    }
   ],
   "source": [
    "HTML(htmlstr.format(title='수강신청 매크로',url=url1,end='멈춰~~~~'))"
   ]
  },
  {
   "cell_type": "markdown",
   "id": "b8ec23ed-bc44-430f-bdd7-04fa312ba73e",
   "metadata": {
    "id": "b8ec23ed-bc44-430f-bdd7-04fa312ba73e"
   },
   "source": [
    "### 함수를 만들어서 코드를 관리 "
   ]
  },
  {
   "cell_type": "markdown",
   "id": "06e1fe65-3321-45f8-a6c1-53baa57f4c2f",
   "metadata": {
    "id": "06e1fe65-3321-45f8-a6c1-53baa57f4c2f"
   },
   "source": [
    "`-` 함수의 선언"
   ]
  },
  {
   "cell_type": "code",
   "execution_count": null,
   "id": "6ff30ecb-041e-440a-8979-2a452fbe6a69",
   "metadata": {
    "id": "6ff30ecb-041e-440a-8979-2a452fbe6a69"
   },
   "outputs": [],
   "source": [
    "def stop():\n",
    "    htmlstr = \"<p> {title} </p> <img src= '{url}'> <p> {end} </p> \" \n",
    "    display(HTML(htmlstr.format(title=ttl,url=url,end=end)))"
   ]
  },
  {
   "cell_type": "markdown",
   "id": "b4dbac6e-82dd-4e29-b880-98914e0f046d",
   "metadata": {
    "id": "b4dbac6e-82dd-4e29-b880-98914e0f046d"
   },
   "source": [
    "## 예제 1,2,3을 함수로 동시관리 "
   ]
  },
  {
   "cell_type": "markdown",
   "id": "f8b35c63-4d78-4fbc-80ca-ddaf1d5eb912",
   "metadata": {
    "id": "f8b35c63-4d78-4fbc-80ca-ddaf1d5eb912"
   },
   "source": [
    "### $t=1$ \"학교폭력 멈춰\" 생성"
   ]
  },
  {
   "cell_type": "code",
   "execution_count": null,
   "id": "8dc34744-0882-4805-abb5-edbc0d70ba7c",
   "metadata": {
    "id": "8dc34744-0882-4805-abb5-edbc0d70ba7c",
    "outputId": "1ce06bf3-f19b-449c-bdc1-71ca96956bfd"
   },
   "outputs": [
    {
     "data": {
      "text/html": [
       "<p> 학교폭력 </p> <img src= 'https://github.com/guebin/IP2022/blob/master/_notebooks/2022-05-07-stop1.jpeg?raw=true'> <p> 멈춰~~~~ </p> "
      ],
      "text/plain": [
       "<IPython.core.display.HTML object>"
      ]
     },
     "metadata": {},
     "output_type": "display_data"
    }
   ],
   "source": [
    "ttl = '학교폭력'\n",
    "url = url1\n",
    "end = '멈춰~~~~'\n",
    "stop()"
   ]
  },
  {
   "cell_type": "markdown",
   "id": "dc810d92-679b-4f66-a49b-ed37274eedad",
   "metadata": {
    "id": "dc810d92-679b-4f66-a49b-ed37274eedad"
   },
   "source": [
    "### $t=2$: \"코스피하락 멈춰\" 생성 "
   ]
  },
  {
   "cell_type": "code",
   "execution_count": null,
   "id": "63d7ca5e-2b6e-4e67-8668-6963473af772",
   "metadata": {
    "id": "63d7ca5e-2b6e-4e67-8668-6963473af772",
    "outputId": "8fde6f57-611f-4c43-ba08-670f667f83ec"
   },
   "outputs": [
    {
     "data": {
      "text/html": [
       "<p> 코스피하락 </p> <img src= 'https://github.com/guebin/IP2022/blob/master/_notebooks/2022-05-07-stop1.jpeg?raw=true'> <p> 멈춰~~~~ </p> "
      ],
      "text/plain": [
       "<IPython.core.display.HTML object>"
      ]
     },
     "metadata": {},
     "output_type": "display_data"
    }
   ],
   "source": [
    "ttl = '코스피하락'\n",
    "url = url1\n",
    "end = '멈춰~~~~'\n",
    "stop()"
   ]
  },
  {
   "cell_type": "markdown",
   "id": "e4e50838-188e-458c-b7a9-d1200bc28b34",
   "metadata": {
    "id": "e4e50838-188e-458c-b7a9-d1200bc28b34"
   },
   "source": [
    "### $t=3$: \"수강신청 매크로 멈춰\" 생성"
   ]
  },
  {
   "cell_type": "code",
   "execution_count": null,
   "id": "199b688a-4846-43cf-99ba-ba2df5ac20bf",
   "metadata": {
    "id": "199b688a-4846-43cf-99ba-ba2df5ac20bf",
    "outputId": "22c6a02b-12a0-475c-b7ad-49b1468ca81c"
   },
   "outputs": [
    {
     "data": {
      "text/html": [
       "<p> 수강신청 매크로 </p> <img src= 'https://github.com/guebin/IP2022/blob/master/_notebooks/2022-05-07-stop1.jpeg?raw=true'> <p> 멈춰~~~~ </p> "
      ],
      "text/plain": [
       "<IPython.core.display.HTML object>"
      ]
     },
     "metadata": {},
     "output_type": "display_data"
    }
   ],
   "source": [
    "ttl = '수강신청 매크로'\n",
    "url = url1\n",
    "end = '멈춰~~~~'\n",
    "stop()"
   ]
  },
  {
   "cell_type": "markdown",
   "id": "818f1722-fb68-4cbb-aa65-936cb2c5b199",
   "metadata": {
    "id": "818f1722-fb68-4cbb-aa65-936cb2c5b199"
   },
   "source": [
    "### $t=4$: \"수강신청 매크로 멈춰\"의 끝을 물결대신 느낌표로!"
   ]
  },
  {
   "cell_type": "code",
   "execution_count": null,
   "id": "bea58791-3b2c-44a9-91a8-f58322c09023",
   "metadata": {
    "id": "bea58791-3b2c-44a9-91a8-f58322c09023",
    "outputId": "b8f328dc-6bb5-4144-d662-3957b6637046"
   },
   "outputs": [
    {
     "data": {
      "text/html": [
       "<p> 수강신청 매크로 </p> <img src= 'https://github.com/guebin/IP2022/blob/master/_notebooks/2022-05-07-stop1.jpeg?raw=true'> <p> 멈춰!!!!! </p> "
      ],
      "text/plain": [
       "<IPython.core.display.HTML object>"
      ]
     },
     "metadata": {},
     "output_type": "display_data"
    }
   ],
   "source": [
    "ttl = '수강신청 매크로'\n",
    "url = url1\n",
    "end = '멈춰!!!!!'\n",
    "stop()"
   ]
  },
  {
   "cell_type": "markdown",
   "id": "a7ba08b2-4971-448a-bcb3-b9d98cbb6d07",
   "metadata": {
    "id": "a7ba08b2-4971-448a-bcb3-b9d98cbb6d07"
   },
   "source": [
    "### $t=5$: \"코스피하락 멈춰\"를 다시 출력 <-- 실수발생가능"
   ]
  },
  {
   "cell_type": "code",
   "execution_count": null,
   "id": "292f223a-8b91-43e7-9d51-c428ae794b8f",
   "metadata": {
    "id": "292f223a-8b91-43e7-9d51-c428ae794b8f",
    "outputId": "861277e5-abf4-4f5e-f058-8a2ecb921bdf"
   },
   "outputs": [
    {
     "data": {
      "text/html": [
       "<p> 코스피하락 </p> <img src= 'https://github.com/guebin/IP2022/blob/master/_notebooks/2022-05-07-stop1.jpeg?raw=true'> <p> 멈춰!!!!! </p> "
      ],
      "text/plain": [
       "<IPython.core.display.HTML object>"
      ]
     },
     "metadata": {},
     "output_type": "display_data"
    }
   ],
   "source": [
    "ttl = '코스피하락'\n",
    "url = url1\n",
    "end = '멈춰!!!!!'\n",
    "stop()"
   ]
  },
  {
   "cell_type": "markdown",
   "id": "be04e89a-2c15-4b97-ae9a-09a068e1c01f",
   "metadata": {
    "id": "be04e89a-2c15-4b97-ae9a-09a068e1c01f"
   },
   "source": [
    "- 앗 실수 "
   ]
  },
  {
   "cell_type": "code",
   "execution_count": null,
   "id": "1faa2fd7-b534-4749-8fb4-20fc3c5c579f",
   "metadata": {
    "id": "1faa2fd7-b534-4749-8fb4-20fc3c5c579f",
    "outputId": "ca780a9e-099e-44bf-a065-b4b967de0ca9"
   },
   "outputs": [
    {
     "data": {
      "text/html": [
       "<p> 코스피하락 </p> <img src= 'https://github.com/guebin/IP2022/blob/master/_notebooks/2022-05-07-stop1.jpeg?raw=true'> <p> 멈춰~~~~ </p> "
      ],
      "text/plain": [
       "<IPython.core.display.HTML object>"
      ]
     },
     "metadata": {},
     "output_type": "display_data"
    }
   ],
   "source": [
    "ttl = '코스피하락'\n",
    "url = url1\n",
    "end = '멈춰~~~~'\n",
    "stop()"
   ]
  },
  {
   "cell_type": "markdown",
   "id": "97ddb2d8-9457-4987-8eec-8811f282058a",
   "metadata": {
    "id": "97ddb2d8-9457-4987-8eec-8811f282058a"
   },
   "source": [
    "### $t=6$: \"학교폭력 멈춰\"와 \"코스피하락 멈춰\"를 동시에 출력"
   ]
  },
  {
   "cell_type": "code",
   "execution_count": null,
   "id": "c68ab45f-458b-4261-aa07-97a8902c5a8b",
   "metadata": {
    "id": "c68ab45f-458b-4261-aa07-97a8902c5a8b",
    "outputId": "5131133a-6866-44c6-97df-3bbfa58c1ded"
   },
   "outputs": [
    {
     "data": {
      "text/html": [
       "<p> 학교폭력 </p> <img src= 'https://github.com/guebin/IP2022/blob/master/_notebooks/2022-05-07-stop1.jpeg?raw=true'> <p> 멈춰~~~~ </p> "
      ],
      "text/plain": [
       "<IPython.core.display.HTML object>"
      ]
     },
     "metadata": {},
     "output_type": "display_data"
    }
   ],
   "source": [
    "ttl = '학교폭력'\n",
    "url = url1\n",
    "end = '멈춰~~~~'\n",
    "stop()"
   ]
  },
  {
   "cell_type": "code",
   "execution_count": null,
   "id": "327a4f8c-4068-450c-94bd-06e530da4b25",
   "metadata": {
    "id": "327a4f8c-4068-450c-94bd-06e530da4b25",
    "outputId": "a05d29d7-314f-4fb0-d546-f5b56f1d8b26"
   },
   "outputs": [
    {
     "data": {
      "text/html": [
       "<p> 코스피하락 </p> <img src= 'https://github.com/guebin/IP2022/blob/master/_notebooks/2022-05-07-stop1.jpeg?raw=true'> <p> 멈춰~~~~ </p> "
      ],
      "text/plain": [
       "<IPython.core.display.HTML object>"
      ]
     },
     "metadata": {},
     "output_type": "display_data"
    }
   ],
   "source": [
    "ttl = '코스피하락'\n",
    "url = url1\n",
    "end = '멈춰~~~~'\n",
    "stop()"
   ]
  },
  {
   "cell_type": "markdown",
   "id": "a89dc5cd-8e46-403f-bc79-dd9d4c454b7b",
   "metadata": {
    "id": "a89dc5cd-8e46-403f-bc79-dd9d4c454b7b"
   },
   "source": [
    "### $t=7$ \"학교폭력 멈춰\"의 이미지를 신혜선으로 변경, \"코스피하락 멈춰\"의 title을 'KOSPI하락'으로 변경"
   ]
  },
  {
   "cell_type": "code",
   "execution_count": null,
   "id": "eecb8c5c-f74a-4da9-950d-8aa304c5aa97",
   "metadata": {
    "id": "eecb8c5c-f74a-4da9-950d-8aa304c5aa97",
    "outputId": "ac9e794e-8bf0-4445-9026-d7df68d8e0bf"
   },
   "outputs": [
    {
     "data": {
      "text/html": [
       "<p> 학교폭력 </p> <img src= 'https://github.com/guebin/IP2022/blob/master/_notebooks/2022-05-07-stop2.png?raw=true'> <p> 멈춰!!!!! </p> "
      ],
      "text/plain": [
       "<IPython.core.display.HTML object>"
      ]
     },
     "metadata": {},
     "output_type": "display_data"
    }
   ],
   "source": [
    "ttl = '학교폭력'\n",
    "url = url2\n",
    "end = '멈춰!!!!!'\n",
    "stop()"
   ]
  },
  {
   "cell_type": "code",
   "execution_count": null,
   "id": "2a592ee4-b102-4fc8-b2ff-0e6673eaea0a",
   "metadata": {
    "id": "2a592ee4-b102-4fc8-b2ff-0e6673eaea0a",
    "outputId": "9e72f246-c99c-4736-e433-a8f3be1717bb"
   },
   "outputs": [
    {
     "data": {
      "text/html": [
       "<p> KOSPI 하락 </p> <img src= 'https://github.com/guebin/IP2022/blob/master/_notebooks/2022-05-07-stop1.jpeg?raw=true'> <p> 멈춰!!!!! </p> "
      ],
      "text/plain": [
       "<IPython.core.display.HTML object>"
      ]
     },
     "metadata": {},
     "output_type": "display_data"
    }
   ],
   "source": [
    "ttl = 'KOSPI 하락'\n",
    "url = url1\n",
    "end = '멈춰!!!!!'\n",
    "stop()"
   ]
  },
  {
   "cell_type": "markdown",
   "id": "6c0ad7d6-6c92-4e20-8508-a56f588cdcaf",
   "metadata": {
    "id": "6c0ad7d6-6c92-4e20-8508-a56f588cdcaf"
   },
   "source": [
    "## 예제 1,2,3을 클래스를 이용해 동시관리 "
   ]
  },
  {
   "cell_type": "code",
   "execution_count": null,
   "id": "99aebea0-7327-40d0-af8d-81975dfdbaf8",
   "metadata": {
    "id": "99aebea0-7327-40d0-af8d-81975dfdbaf8"
   },
   "outputs": [],
   "source": [
    "class STOOOP: # STOOOP 은 양식문서의 이름이라 생각할 수 있다. \n",
    "    title = \"학교폭력\" \n",
    "    url = url1 \n",
    "    end = \"멈춰~~~~\" \n",
    "    def stop(self): ## 규칙1: class안에서 정의된 함수는 첫번째 입력으로 무조건 self \n",
    "        htmlstr = \"<p> {title} </p> <img src= '{url}'> <p> {end} </p> \" \n",
    "        display(HTML(htmlstr.format(title=self.title,url=self.url,end=self.end)))\n",
    "        ## 규칙2: class안에서 정의된 변수 (title, url, end)를 쓰려면 \"self.변수이름\"의 형태로 써야함"
   ]
  },
  {
   "cell_type": "markdown",
   "id": "d5a0d73f-6f25-4d91-958a-2a2465ad9bac",
   "metadata": {
    "id": "d5a0d73f-6f25-4d91-958a-2a2465ad9bac"
   },
   "source": [
    "### $t=1$ \"학교폭력 멈춰\" 생성"
   ]
  },
  {
   "cell_type": "code",
   "execution_count": null,
   "id": "ea3b28c3-0ce4-41fc-b82c-0290e0a8e866",
   "metadata": {
    "id": "ea3b28c3-0ce4-41fc-b82c-0290e0a8e866"
   },
   "outputs": [],
   "source": [
    "school = STOOOP() \n",
    "# STOOOP이라는 이름의 양식문서를 복사해 하나의 hwp를 파일을 만들어 밈을 생성하고 그 파일이름을 school이라고 하자.\n",
    "# 그러니까 STOOP.hwp 와 school.hwp가 있는 상황"
   ]
  },
  {
   "cell_type": "code",
   "execution_count": null,
   "id": "a7804ace-4af5-42e2-9dd5-4ac2c0ddd857",
   "metadata": {
    "id": "a7804ace-4af5-42e2-9dd5-4ac2c0ddd857",
    "outputId": "df96a061-00aa-4b2b-b76f-e51baaabbd1b"
   },
   "outputs": [
    {
     "data": {
      "text/plain": [
       "'학교폭력'"
      ]
     },
     "execution_count": 32,
     "metadata": {},
     "output_type": "execute_result"
    }
   ],
   "source": [
    "school.title"
   ]
  },
  {
   "cell_type": "code",
   "execution_count": null,
   "id": "a22839e9-820c-44bc-9e0f-751291216407",
   "metadata": {
    "id": "a22839e9-820c-44bc-9e0f-751291216407",
    "outputId": "f764412a-62a0-4dd4-c4a5-17e7253b7cc2"
   },
   "outputs": [
    {
     "data": {
      "text/plain": [
       "'https://github.com/guebin/IP2022/blob/master/_notebooks/2022-05-07-stop1.jpeg?raw=true'"
      ]
     },
     "execution_count": 34,
     "metadata": {},
     "output_type": "execute_result"
    }
   ],
   "source": [
    "school.url"
   ]
  },
  {
   "cell_type": "code",
   "execution_count": null,
   "id": "3b295a9d-a1d2-4953-8d0e-8df0cca72af3",
   "metadata": {
    "id": "3b295a9d-a1d2-4953-8d0e-8df0cca72af3",
    "outputId": "a9d18830-0c07-45ec-bf31-697d10c67296"
   },
   "outputs": [
    {
     "data": {
      "text/plain": [
       "'멈춰~~~~'"
      ]
     },
     "execution_count": 35,
     "metadata": {},
     "output_type": "execute_result"
    }
   ],
   "source": [
    "school.end"
   ]
  },
  {
   "cell_type": "code",
   "execution_count": null,
   "id": "9a310fd8-1cbe-49f5-898e-a089a15f6d9b",
   "metadata": {
    "id": "9a310fd8-1cbe-49f5-898e-a089a15f6d9b",
    "outputId": "1806e271-00a6-4689-dd5f-59bef1cea8c8"
   },
   "outputs": [
    {
     "data": {
      "text/html": [
       "<p> 학교폭력 </p> <img src= 'https://github.com/guebin/IP2022/blob/master/_notebooks/2022-05-07-stop1.jpeg?raw=true'> <p> 멈춰~~~~ </p> "
      ],
      "text/plain": [
       "<IPython.core.display.HTML object>"
      ]
     },
     "metadata": {},
     "output_type": "display_data"
    }
   ],
   "source": [
    "school.stop()"
   ]
  },
  {
   "cell_type": "markdown",
   "id": "ca073dfb-239b-4569-942c-3f35e1128432",
   "metadata": {
    "id": "ca073dfb-239b-4569-942c-3f35e1128432"
   },
   "source": [
    "### $t=2$: \"코스피하락 멈춰\" 생성 "
   ]
  },
  {
   "cell_type": "code",
   "execution_count": null,
   "id": "83da3741-a961-46a3-aa3b-b2fc9de7573e",
   "metadata": {
    "id": "83da3741-a961-46a3-aa3b-b2fc9de7573e"
   },
   "outputs": [],
   "source": [
    "kospi = STOOOP() # 코스피하락 멈춰를 위해 STOOP.hwp양식문서에서 하나의 밈을 찍어낸다(=kospi.hwp 생성)."
   ]
  },
  {
   "cell_type": "code",
   "execution_count": null,
   "id": "abd48496-e913-4ad8-9069-eae78071220a",
   "metadata": {
    "id": "abd48496-e913-4ad8-9069-eae78071220a",
    "outputId": "64190f66-d7ab-4238-b384-ba020ce6005c"
   },
   "outputs": [
    {
     "data": {
      "text/plain": [
       "('학교폭력',\n",
       " 'https://github.com/guebin/IP2022/blob/master/_notebooks/2022-05-07-stop1.jpeg?raw=true',\n",
       " '멈춰~~~~')"
      ]
     },
     "execution_count": 58,
     "metadata": {},
     "output_type": "execute_result"
    }
   ],
   "source": [
    "kospi.title, kospi.url, kospi.end"
   ]
  },
  {
   "cell_type": "code",
   "execution_count": null,
   "id": "cab49a49-627a-4562-84c2-867cb6033d1c",
   "metadata": {
    "id": "cab49a49-627a-4562-84c2-867cb6033d1c"
   },
   "outputs": [],
   "source": [
    "kospi.title = '코스피하락' # kospi.hwp 제목을 코스피하락으로 변경 "
   ]
  },
  {
   "cell_type": "code",
   "execution_count": null,
   "id": "76cbe629-a226-4b5c-baac-73ea9b6ef0f5",
   "metadata": {
    "id": "76cbe629-a226-4b5c-baac-73ea9b6ef0f5",
    "outputId": "63424894-946d-4bc9-bbff-94295862c466"
   },
   "outputs": [
    {
     "data": {
      "text/plain": [
       "('코스피하락',\n",
       " 'https://github.com/guebin/IP2022/blob/master/_notebooks/2022-05-07-stop1.jpeg?raw=true',\n",
       " '멈춰~~~~')"
      ]
     },
     "execution_count": 60,
     "metadata": {},
     "output_type": "execute_result"
    }
   ],
   "source": [
    "kospi.title, kospi.url, kospi.end"
   ]
  },
  {
   "cell_type": "code",
   "execution_count": null,
   "id": "427a1f40-e951-450b-80e0-397acd75d3e6",
   "metadata": {
    "id": "427a1f40-e951-450b-80e0-397acd75d3e6",
    "outputId": "6757353c-a8e9-4975-e1c0-924a4dbda56e"
   },
   "outputs": [
    {
     "data": {
      "text/html": [
       "<p> 코스피하락 </p> <img src= 'https://github.com/guebin/IP2022/blob/master/_notebooks/2022-05-07-stop1.jpeg?raw=true'> <p> 멈춰~~~~ </p> "
      ],
      "text/plain": [
       "<IPython.core.display.HTML object>"
      ]
     },
     "metadata": {},
     "output_type": "display_data"
    }
   ],
   "source": [
    "kospi.stop()"
   ]
  },
  {
   "cell_type": "markdown",
   "id": "3bef125b-8d51-4465-93d8-58093983765c",
   "metadata": {
    "id": "3bef125b-8d51-4465-93d8-58093983765c"
   },
   "source": [
    "### $t=3$: \"수강신청 매크로 멈춰\" 생성"
   ]
  },
  {
   "cell_type": "code",
   "execution_count": null,
   "id": "6556978c-a265-48f5-9baf-075f27272a0a",
   "metadata": {
    "id": "6556978c-a265-48f5-9baf-075f27272a0a"
   },
   "outputs": [],
   "source": [
    "macro = STOOOP() "
   ]
  },
  {
   "cell_type": "code",
   "execution_count": null,
   "id": "479b2d2c-a403-4589-8268-e9eaaccc857b",
   "metadata": {
    "id": "479b2d2c-a403-4589-8268-e9eaaccc857b",
    "outputId": "813d9069-d8cb-41ad-c336-4dcb28e3e602"
   },
   "outputs": [
    {
     "data": {
      "text/plain": [
       "('학교폭력',\n",
       " 'https://github.com/guebin/IP2022/blob/master/_notebooks/2022-05-07-stop1.jpeg?raw=true',\n",
       " '멈춰~~~~')"
      ]
     },
     "execution_count": 63,
     "metadata": {},
     "output_type": "execute_result"
    }
   ],
   "source": [
    "macro.title, macro.url, macro.end"
   ]
  },
  {
   "cell_type": "code",
   "execution_count": null,
   "id": "c0fb78cf-918b-4aab-9110-3b03bbc1d83a",
   "metadata": {
    "id": "c0fb78cf-918b-4aab-9110-3b03bbc1d83a"
   },
   "outputs": [],
   "source": [
    "macro.title = '수강신청 매크로'"
   ]
  },
  {
   "cell_type": "code",
   "execution_count": null,
   "id": "5fa67d5c-bf64-4808-a52d-45ae2dc111a3",
   "metadata": {
    "id": "5fa67d5c-bf64-4808-a52d-45ae2dc111a3",
    "outputId": "8604674a-7789-4ec1-9dea-774167f1b620"
   },
   "outputs": [
    {
     "data": {
      "text/plain": [
       "('수강신청 매크로',\n",
       " 'https://github.com/guebin/IP2022/blob/master/_notebooks/2022-05-07-stop1.jpeg?raw=true',\n",
       " '멈춰~~~~')"
      ]
     },
     "execution_count": 65,
     "metadata": {},
     "output_type": "execute_result"
    }
   ],
   "source": [
    "macro.title, macro.url, macro.end"
   ]
  },
  {
   "cell_type": "code",
   "execution_count": null,
   "id": "56a291c8-8bf1-440b-8e93-27d0fa2d1fc9",
   "metadata": {
    "id": "56a291c8-8bf1-440b-8e93-27d0fa2d1fc9",
    "outputId": "9d58ef8e-8e62-4231-8099-5672909548ae"
   },
   "outputs": [
    {
     "data": {
      "text/html": [
       "<p> 수강신청 매크로 </p> <img src= 'https://github.com/guebin/IP2022/blob/master/_notebooks/2022-05-07-stop1.jpeg?raw=true'> <p> 멈춰~~~~ </p> "
      ],
      "text/plain": [
       "<IPython.core.display.HTML object>"
      ]
     },
     "metadata": {},
     "output_type": "display_data"
    }
   ],
   "source": [
    "macro.stop()"
   ]
  },
  {
   "cell_type": "markdown",
   "id": "c2a591ae-04e3-4242-9ff4-1293a117b7ee",
   "metadata": {
    "id": "c2a591ae-04e3-4242-9ff4-1293a117b7ee"
   },
   "source": [
    "### $t=4$: \"수강신청 매크로 멈춰\"의 끝을 물결대신 느낌표로!"
   ]
  },
  {
   "cell_type": "code",
   "execution_count": null,
   "id": "2db92cc1-6ed1-43e1-9c42-67e12975eb97",
   "metadata": {
    "id": "2db92cc1-6ed1-43e1-9c42-67e12975eb97"
   },
   "outputs": [],
   "source": [
    "macro.end = '멈춰!!!!!'"
   ]
  },
  {
   "cell_type": "code",
   "execution_count": null,
   "id": "c8142e91-2623-4c56-85da-7a34aebc197d",
   "metadata": {
    "id": "c8142e91-2623-4c56-85da-7a34aebc197d",
    "outputId": "ff3cb1b4-c2af-4690-fe64-88e1767e0961"
   },
   "outputs": [
    {
     "data": {
      "text/html": [
       "<p> 수강신청 매크로 </p> <img src= 'https://github.com/guebin/IP2022/blob/master/_notebooks/2022-05-07-stop1.jpeg?raw=true'> <p> 멈춰!!!!! </p> "
      ],
      "text/plain": [
       "<IPython.core.display.HTML object>"
      ]
     },
     "metadata": {},
     "output_type": "display_data"
    }
   ],
   "source": [
    "macro.stop()"
   ]
  },
  {
   "cell_type": "markdown",
   "id": "656a627a-98f6-4d2e-a496-847ffc6a293c",
   "metadata": {
    "id": "656a627a-98f6-4d2e-a496-847ffc6a293c"
   },
   "source": [
    "### $t=5$: \"코스피하락 멈춰\"를 다시 출력 "
   ]
  },
  {
   "cell_type": "code",
   "execution_count": null,
   "id": "4eb9fb67-b043-4c45-874c-7677ed4d64ff",
   "metadata": {
    "id": "4eb9fb67-b043-4c45-874c-7677ed4d64ff",
    "outputId": "c42be776-faea-455f-c1d9-d744d49dfafa"
   },
   "outputs": [
    {
     "data": {
      "text/html": [
       "<p> 코스피하락 </p> <img src= 'https://github.com/guebin/IP2022/blob/master/_notebooks/2022-05-07-stop1.jpeg?raw=true'> <p> 멈춰~~~~ </p> "
      ],
      "text/plain": [
       "<IPython.core.display.HTML object>"
      ]
     },
     "metadata": {},
     "output_type": "display_data"
    }
   ],
   "source": [
    "kospi.stop()"
   ]
  },
  {
   "cell_type": "markdown",
   "id": "69bd1774-2ac9-475c-adc3-4730fff634c8",
   "metadata": {
    "id": "69bd1774-2ac9-475c-adc3-4730fff634c8"
   },
   "source": [
    "### $t=6$: \"학교폭력 멈춰\"와 \"코스피하락 멈춰\"를 동시에 출력"
   ]
  },
  {
   "cell_type": "code",
   "execution_count": null,
   "id": "255250b3-cf45-4587-81b8-aad2ad0f3fea",
   "metadata": {
    "id": "255250b3-cf45-4587-81b8-aad2ad0f3fea",
    "outputId": "996c2bd3-c426-4b6a-dd79-153b80a3bd94"
   },
   "outputs": [
    {
     "data": {
      "text/html": [
       "<p> 학교폭력 </p> <img src= 'https://github.com/guebin/IP2022/blob/master/_notebooks/2022-05-07-stop1.jpeg?raw=true'> <p> 멈춰~~~~ </p> "
      ],
      "text/plain": [
       "<IPython.core.display.HTML object>"
      ]
     },
     "metadata": {},
     "output_type": "display_data"
    }
   ],
   "source": [
    "school.stop()"
   ]
  },
  {
   "cell_type": "code",
   "execution_count": null,
   "id": "ea0feb1e-1ebc-43f9-a0d7-53d8d2f71612",
   "metadata": {
    "id": "ea0feb1e-1ebc-43f9-a0d7-53d8d2f71612",
    "outputId": "98ca6504-89cb-4d65-b8a3-348c52346280"
   },
   "outputs": [
    {
     "data": {
      "text/html": [
       "<p> 코스피하락 </p> <img src= 'https://github.com/guebin/IP2022/blob/master/_notebooks/2022-05-07-stop1.jpeg?raw=true'> <p> 멈춰~~~~ </p> "
      ],
      "text/plain": [
       "<IPython.core.display.HTML object>"
      ]
     },
     "metadata": {},
     "output_type": "display_data"
    }
   ],
   "source": [
    "kospi.stop()"
   ]
  },
  {
   "cell_type": "markdown",
   "id": "cb754ecd-938d-4fd8-86b8-09ea801cd1e0",
   "metadata": {
    "id": "cb754ecd-938d-4fd8-86b8-09ea801cd1e0"
   },
   "source": [
    "### $t=7$ \"학교폭력 멈춰\"의 이미지를 신혜선으로 변경, \"코스피하락 멈춰\"의 title을 'KOSPI하락'으로 변경"
   ]
  },
  {
   "cell_type": "code",
   "execution_count": null,
   "id": "64d2d2bc-195e-4e8b-924f-d83c10484ea0",
   "metadata": {
    "id": "64d2d2bc-195e-4e8b-924f-d83c10484ea0"
   },
   "outputs": [],
   "source": [
    "school.url = url2 \n",
    "kospi.title = 'KOSPI 하락'"
   ]
  },
  {
   "cell_type": "code",
   "execution_count": null,
   "id": "1606ca4d-020d-4121-9e07-6dd5f940706a",
   "metadata": {
    "id": "1606ca4d-020d-4121-9e07-6dd5f940706a",
    "outputId": "73346a84-d930-4fc5-e793-0c27aed59943"
   },
   "outputs": [
    {
     "data": {
      "text/html": [
       "<p> 학교폭력 </p> <img src= 'https://github.com/guebin/IP2022/blob/master/_notebooks/2022-05-07-stop2.png?raw=true'> <p> 멈춰~~~~ </p> "
      ],
      "text/plain": [
       "<IPython.core.display.HTML object>"
      ]
     },
     "metadata": {},
     "output_type": "display_data"
    }
   ],
   "source": [
    "school.stop()"
   ]
  },
  {
   "cell_type": "code",
   "execution_count": null,
   "id": "ad6d9826-c571-4b7d-9288-6fae0f28fe26",
   "metadata": {
    "id": "ad6d9826-c571-4b7d-9288-6fae0f28fe26",
    "outputId": "bf9b68b4-298b-47a4-ffe3-861f5a932277"
   },
   "outputs": [
    {
     "data": {
      "text/html": [
       "<p> KOSPI 하락 </p> <img src= 'https://github.com/guebin/IP2022/blob/master/_notebooks/2022-05-07-stop1.jpeg?raw=true'> <p> 멈춰~~~~ </p> "
      ],
      "text/plain": [
       "<IPython.core.display.HTML object>"
      ]
     },
     "metadata": {},
     "output_type": "display_data"
    }
   ],
   "source": [
    "kospi.stop()"
   ]
  },
  {
   "cell_type": "markdown",
   "id": "c2067f38-84f2-4059-a636-b14819a847ba",
   "metadata": {
    "id": "c2067f38-84f2-4059-a636-b14819a847ba"
   },
   "source": [
    "## 숙제"
   ]
  },
  {
   "cell_type": "markdown",
   "id": "84bc89d3-35bd-4d27-a407-ee305e40f55d",
   "metadata": {
    "id": "84bc89d3-35bd-4d27-a407-ee305e40f55d"
   },
   "source": [
    "`-` \"수강신청 멈춰\"의 이미지를 신혜선으로 변경하고 출력해볼 것 \n",
    "- macro.url 변경\n",
    "- macro.stop() 을 사용"
   ]
  }
 ],
 "metadata": {
  "celltoolbar": "Slideshow",
  "colab": {
   "name": "2022-05-09-(10주차) 5월9일.ipynb",
   "provenance": []
  },
  "kernelspec": {
   "display_name": "Python 3 (ipykernel)",
   "language": "python",
   "name": "python3"
  },
  "language_info": {
   "codemirror_mode": {
    "name": "ipython",
    "version": 3
   },
   "file_extension": ".py",
   "mimetype": "text/x-python",
   "name": "python",
   "nbconvert_exporter": "python",
   "pygments_lexer": "ipython3",
   "version": "3.8.12"
  }
 },
 "nbformat": 4,
 "nbformat_minor": 5
}
