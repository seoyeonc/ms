{
 "cells": [
  {
   "cell_type": "markdown",
   "id": "0539ac18-25a6-473c-90c9-2d4711268a9c",
   "metadata": {
    "id": "b9918d88-edd6-44b5-8919-e7c24f94005a",
    "tags": []
   },
   "source": [
    "# (study) 2022년 파이썬 입문 기말고사\n",
    "> \n",
    "\n",
    "- toc:true\n",
    "- branch: master\n",
    "- badges: true\n",
    "- comments: false\n",
    "- author: 최서연\n",
    "- categories: [Python]"
   ]
  },
  {
   "cell_type": "markdown",
   "id": "bb7abaed-489b-4414-8bf2-96f0e19c80b0",
   "metadata": {
    "id": "bb7abaed-489b-4414-8bf2-96f0e19c80b0",
    "tags": []
   },
   "source": [
    "## `0`. imports\n",
    "아래코드를 이용하여 numpy, matplotlib, pandas를 import하라. "
   ]
  },
  {
   "cell_type": "code",
   "execution_count": 1,
   "id": "e4797193-b171-4255-8e55-9b4cf3d3a361",
   "metadata": {
    "id": "e4797193-b171-4255-8e55-9b4cf3d3a361"
   },
   "outputs": [],
   "source": [
    "import numpy as np\n",
    "import matplotlib.pyplot as plt \n",
    "import pandas as pd\n",
    "from IPython.display import HTML"
   ]
  },
  {
   "cell_type": "markdown",
   "id": "f5df13bc-7339-4f49-94e4-8f86044a8aee",
   "metadata": {
    "id": "f5df13bc-7339-4f49-94e4-8f86044a8aee"
   },
   "source": [
    "## `1`. 기본문제 (50점)"
   ]
  },
  {
   "cell_type": "markdown",
   "id": "510e38de-b6a7-476e-b680-fccd636265dc",
   "metadata": {
    "id": "510e38de-b6a7-476e-b680-fccd636265dc"
   },
   "source": [
    "`(1)` 도함수를 구하는 함수 `derivate`를 선언하라. 이 함수를 이용하여 $f(x)=x^2$의 그래프와 $f'(x)=2x$의 그래프를 $x \\in (-1,1)$의 범위에서 그려라. "
   ]
  },
  {
   "cell_type": "code",
   "execution_count": 26,
   "id": "04eb859c-c1af-4e55-9109-3fef9f6231c3",
   "metadata": {},
   "outputs": [],
   "source": [
    "def derivate(x):\n",
    "    return ((x + 0.000000001)**2-(x**2))/0.000000001"
   ]
  },
  {
   "cell_type": "code",
   "execution_count": 27,
   "id": "68b707e6-3596-45f4-93b5-cf7cc0cffe0b",
   "metadata": {},
   "outputs": [
    {
     "data": {
      "text/plain": [
       "4.000000330961484"
      ]
     },
     "execution_count": 27,
     "metadata": {},
     "output_type": "execute_result"
    }
   ],
   "source": [
    "derivate(2)"
   ]
  },
  {
   "cell_type": "code",
   "execution_count": 31,
   "id": "1508be1a-c433-4678-9cbf-6584c9d3f924",
   "metadata": {},
   "outputs": [
    {
     "data": {
      "text/plain": [
       "[<matplotlib.lines.Line2D at 0x7fc86d5c5a60>]"
      ]
     },
     "execution_count": 31,
     "metadata": {},
     "output_type": "execute_result"
    },
    {
     "data": {
      "image/png": "[encoded data removed]",
      "text/plain": [
       "<Figure size 432x288 with 1 Axes>"
      ]
     },
     "metadata": {
      "needs_background": "light"
     },
     "output_type": "display_data"
    }
   ],
   "source": [
    "plt.plot(np.linspace(-1,1),np.linspace(-1,1)**2)\n",
    "plt.plot(np.linspace(-1,1),derivate(np.linspace(-1,1)))"
   ]
  },
  {
   "cell_type": "markdown",
   "id": "ee8975ea-573a-42fb-b9f8-9facc23ca163",
   "metadata": {
    "id": "ee8975ea-573a-42fb-b9f8-9facc23ca163"
   },
   "source": [
    "`(2)` 적당한 클래스 정의하여 인스턴스 a를 만들고 print(a)의 출력결과가 본인의 학번이 나오도록 하라. \n",
    "\n",
    "```python\n",
    "## 코드예시\n",
    "class Klass:\n",
    "    ???\n",
    "    ???\n",
    "a=Klass()\n",
    "print(a)\n",
    "```\n",
    "```\n",
    "## 출력결과\n",
    "2022-43052\n",
    "```"
   ]
  },
  {
   "cell_type": "code",
   "execution_count": 18,
   "id": "36a4703a-949d-449b-9f6f-72e039556f92",
   "metadata": {},
   "outputs": [],
   "source": [
    "class Klass:\n",
    "    def __init__(self,number = 202150754):\n",
    "        self.number=number\n",
    "    def _repr_html_(self):\n",
    "        html_str = \"\"\"\n",
    "        {}\"\"\".format(self.number)\n",
    "        return html_str"
   ]
  },
  {
   "cell_type": "code",
   "execution_count": 19,
   "id": "ad2fa7c8-f3eb-485d-a697-8dcd5768c06a",
   "metadata": {},
   "outputs": [
    {
     "data": {
      "text/html": [
       "\n",
       "        202150754"
      ],
      "text/plain": [
       "<__main__.Klass at 0x7fc86d7c4af0>"
      ]
     },
     "execution_count": 19,
     "metadata": {},
     "output_type": "execute_result"
    }
   ],
   "source": [
    "Klass()"
   ]
  },
  {
   "cell_type": "markdown",
   "id": "5dd8984b-df85-4a07-a3b8-1106646b1089",
   "metadata": {
    "id": "5dd8984b-df85-4a07-a3b8-1106646b1089"
   },
   "source": [
    "`(3)` for문이 실행될때마다 [묵,찌,빠] 중에 하나를 내며 빠를 누적 3회 낼경우 for문이 멈추는 이터레이터를 생성하라. "
   ]
  },
  {
   "cell_type": "code",
   "execution_count": 110,
   "id": "93bee293-05bb-45d9-985a-6a7879437965",
   "metadata": {},
   "outputs": [],
   "source": [
    "class Klass: # 찌를 내는순간 for문이 멈추도록 하는 이터레이터를 만들자\n",
    "    def __init__(self): \n",
    "        self.candidate = [\"묵\",\"찌\",\"빠\"] \n",
    "        self.add = []\n",
    "    def __iter__(self):\n",
    "        return self \n",
    "    def __next__(self):\n",
    "        action = np.random.choice(self.candidate)\n",
    "        self.add.append(action)\n",
    "        if self.add.count(\"빠\") == 3:\n",
    "            print(\"빠가 3번 나와서 for문을 멈춥니다\")\n",
    "            raise StopIteration\n",
    "        else:\n",
    "            return action"
   ]
  },
  {
   "cell_type": "code",
   "execution_count": 111,
   "id": "1d8ac51e-c72a-4f3d-922a-5c6adfd21483",
   "metadata": {},
   "outputs": [],
   "source": [
    "a = Klass()"
   ]
  },
  {
   "cell_type": "code",
   "execution_count": 112,
   "id": "ce9f0d6f-e675-4a87-a892-240c40beb253",
   "metadata": {},
   "outputs": [
    {
     "name": "stdout",
     "output_type": "stream",
     "text": [
      "묵\n",
      "묵\n",
      "묵\n",
      "묵\n",
      "묵\n",
      "빠\n",
      "찌\n",
      "묵\n",
      "빠\n",
      "빠가 3번 나와서 for문을 멈춥니다\n"
     ]
    }
   ],
   "source": [
    "for i in a:\n",
    "    print(i)"
   ]
  },
  {
   "cell_type": "markdown",
   "id": "869cf2b5-3a5d-4a43-b01c-55ce152646aa",
   "metadata": {
    "id": "869cf2b5-3a5d-4a43-b01c-55ce152646aa"
   },
   "source": [
    "***(4)-(6)*** "
   ]
  },
  {
   "cell_type": "code",
   "execution_count": null,
   "id": "9b9f8a56-9146-46a6-81bf-62aae65f3c2a",
   "metadata": {
    "id": "9b9f8a56-9146-46a6-81bf-62aae65f3c2a"
   },
   "outputs": [],
   "source": [
    "class GS25: \n",
    "    n=0 \n",
    "    total_number_of_guests = 0 \n",
    "    def __init__(self):\n",
    "        self.number_of_guests = 0 "
   ]
  },
  {
   "cell_type": "markdown",
   "id": "8831ee19-933b-48a9-a333-fe91565ca52a",
   "metadata": {
    "id": "8831ee19-933b-48a9-a333-fe91565ca52a"
   },
   "source": [
    "`(4)` 위의 클래스를 수정하여 아래와 같이 GS25에서 새로운 인스턴스가 생성될때마다 \n",
    "```\n",
    "GS25의 점포수가 ?개로 늘었습니다.\n",
    "``` \n",
    "라는 메시지가 출력되도록 하라. "
   ]
  },
  {
   "cell_type": "code",
   "execution_count": 254,
   "id": "347424c6-b44b-4cbe-8772-1b1e3b231242",
   "metadata": {},
   "outputs": [],
   "source": [
    "class GS25: \n",
    "    n=0 \n",
    "    total_number_of_guests = 0 \n",
    "    def __init__(self):\n",
    "        self.number_of_guests = 0 \n",
    "    def __add__(self): \n",
    "        self.number_of_guests=self.number_of_guests+1\n",
    "        return self.number_of_guests #print(\"GS25의 점포수가 {}개로 늘었습니다.\".format(self.number_of_guests))\n",
    "    def _repr_html_(self):\n",
    "        html_str = \"\"\"\n",
    "        GS25의 점포수가 {}개로 늘었습니다.\n",
    "        \"\"\".format(self.number_of_guests)\n",
    "        return html_str"
   ]
  },
  {
   "cell_type": "code",
   "execution_count": 272,
   "id": "03d179b1-c816-499d-b488-8154dd70f84c",
   "metadata": {},
   "outputs": [],
   "source": [
    "gs = GS25()"
   ]
  },
  {
   "cell_type": "code",
   "execution_count": 273,
   "id": "ed2e77bb-3bc6-4fd8-8e55-2f3723818722",
   "metadata": {},
   "outputs": [
    {
     "data": {
      "text/html": [
       "\n",
       "        GS25의 점포수가 1개로 늘었습니다.\n",
       "        "
      ],
      "text/plain": [
       "<__main__.GS25 at 0x7fc86c75fdc0>"
      ]
     },
     "execution_count": 273,
     "metadata": {},
     "output_type": "execute_result"
    }
   ],
   "source": [
    "gs.__add__()\n",
    "gs"
   ]
  },
  {
   "cell_type": "code",
   "execution_count": 274,
   "id": "6990ec21-b9d5-486d-874c-d83a4b0b0c71",
   "metadata": {},
   "outputs": [
    {
     "data": {
      "text/html": [
       "\n",
       "        GS25의 점포수가 2개로 늘었습니다.\n",
       "        "
      ],
      "text/plain": [
       "<__main__.GS25 at 0x7fc86c75fdc0>"
      ]
     },
     "execution_count": 274,
     "metadata": {},
     "output_type": "execute_result"
    }
   ],
   "source": [
    "gs.__add__()\n",
    "gs"
   ]
  },
  {
   "cell_type": "code",
   "execution_count": 275,
   "id": "60810b72-5c28-4c01-b97e-8ba070c05b9b",
   "metadata": {},
   "outputs": [
    {
     "data": {
      "text/html": [
       "\n",
       "        GS25의 점포수가 3개로 늘었습니다.\n",
       "        "
      ],
      "text/plain": [
       "<__main__.GS25 at 0x7fc86c75fdc0>"
      ]
     },
     "execution_count": 275,
     "metadata": {},
     "output_type": "execute_result"
    }
   ],
   "source": [
    "gs.__add__()\n",
    "gs"
   ]
  },
  {
   "cell_type": "markdown",
   "id": "fa402459-84f6-4015-b2c2-6d6a87979f06",
   "metadata": {
    "id": "fa402459-84f6-4015-b2c2-6d6a87979f06"
   },
   "source": [
    "`(5)` 함수 `come`를 인스턴스 메소드로 정의하라. 이 메소드가 실행될때마다 각 점포의 손님 인스턴스 변수 `number_of_guests`와 클래스변수 `total_number_of_guests`를 1씩 증가시키고 아래의 메시지를 출력하라. \n",
    "```\n",
    "새로운 손님이 오셨습니다!\n",
    "GS25를 방문한 총 손님수는 n명입니다. \n",
    "현재 GS25 점포를 방문한 손님수는 m명입니다. \n",
    "```"
   ]
  },
  {
   "cell_type": "code",
   "execution_count": 235,
   "id": "9d37054b-952a-4d14-b730-a80e50d9ca95",
   "metadata": {},
   "outputs": [],
   "source": [
    "class GS25: \n",
    "    n=0 \n",
    "    total_number_of_guests = 0 \n",
    "    def __init__(self):\n",
    "        self.number_of_guests = 0 \n",
    "    def come(self): \n",
    "        self.number_of_guests=self.number_of_guests+1\n",
    "        self.total_number_of_guests = self.total_number_of_guests+1\n",
    "        print(\"새로운 손님이 오셨습니다!\")\n",
    "        print(\"GS25를 방문한 총 손님수는 {}명입니다.\".format(self.total_number_of_guests))\n",
    "        print(\"현재 GS25 점포를 방문한 손님수는 {}명입니다\".format(self.number_of_guests))"
   ]
  },
  {
   "cell_type": "code",
   "execution_count": 236,
   "id": "cf8cbc7e-2c44-4d65-946b-695345d886d8",
   "metadata": {},
   "outputs": [],
   "source": [
    "gs = GS25()"
   ]
  },
  {
   "cell_type": "code",
   "execution_count": 237,
   "id": "fe4b6359-a79c-40c3-aa98-f615bed88d02",
   "metadata": {},
   "outputs": [
    {
     "name": "stdout",
     "output_type": "stream",
     "text": [
      "새로운 손님이 오셨습니다!\n",
      "GS25를 방문한 총 손님수는 1명입니다.\n",
      "현재 GS25 점포를 방문한 손님수는 1명입니다\n"
     ]
    }
   ],
   "source": [
    "gs.come()"
   ]
  },
  {
   "cell_type": "code",
   "execution_count": 238,
   "id": "905e51ec-3a45-49fb-aa39-7e865a635c89",
   "metadata": {},
   "outputs": [
    {
     "name": "stdout",
     "output_type": "stream",
     "text": [
      "새로운 손님이 오셨습니다!\n",
      "GS25를 방문한 총 손님수는 2명입니다.\n",
      "현재 GS25 점포를 방문한 손님수는 2명입니다\n"
     ]
    }
   ],
   "source": [
    "gs.come()"
   ]
  },
  {
   "cell_type": "code",
   "execution_count": 239,
   "id": "8a2aea3f-b368-4fcb-951d-5d402b895c6d",
   "metadata": {},
   "outputs": [
    {
     "name": "stdout",
     "output_type": "stream",
     "text": [
      "새로운 손님이 오셨습니다!\n",
      "GS25를 방문한 총 손님수는 3명입니다.\n",
      "현재 GS25 점포를 방문한 손님수는 3명입니다\n"
     ]
    }
   ],
   "source": [
    "gs.come()"
   ]
  },
  {
   "cell_type": "markdown",
   "id": "e29fe845-6c89-4513-a844-c3f4d1a9d9c4",
   "metadata": {
    "id": "e29fe845-6c89-4513-a844-c3f4d1a9d9c4"
   },
   "source": [
    "`(6)` 새로운 클래스메서드 show를 만들고 아래와 같은 메시지를 출력하도록 하라. "
   ]
  },
  {
   "cell_type": "markdown",
   "id": "f77a0396-71c2-4b64-9aee-b39fe412b0ec",
   "metadata": {
    "id": "f77a0396-71c2-4b64-9aee-b39fe412b0ec"
   },
   "source": [
    "```\n",
    "GS25의 점포수: ??\n",
    "GS25를 방문한 총 손님수: ??\n",
    "```"
   ]
  },
  {
   "cell_type": "code",
   "execution_count": 240,
   "id": "af698373-b2dd-44a8-83dd-7d2910c3f17f",
   "metadata": {},
   "outputs": [],
   "source": [
    "class GS25: \n",
    "    n=0 \n",
    "    total_number_of_guests = 0 \n",
    "    def __init__(self):\n",
    "        self.number_of_guests = 0\n",
    "    def come(self):\n",
    "        self.number_of_guests = self.number_of_guests+1\n",
    "        self.total_number_of_guests = self.total_number_of_guests+1 \n",
    "        print(\"새로운 손님이 오셨습니다!\")\n",
    "        print(\"GS25를 방문한 총 손님수는 {}명입니다.\".format(self.total_number_of_guests))\n",
    "        print(\"현재 GS25 점포를 방문한 손님수는 {}명입니다\".format(self.number_of_guests))\n",
    "    def show(self):\n",
    "        self.number_of_guests = self.number_of_guests+1\n",
    "        self.total_number_of_guests = self.total_number_of_guests+1 \n",
    "        print(\"GS25의 점포수 : {}\".format(self.number_of_guests))\n",
    "        print(\"GS25를 방문한 총 손님수: {}\".format(self.total_number_of_guests))"
   ]
  },
  {
   "cell_type": "code",
   "execution_count": 241,
   "id": "e3b804b8-827d-4d69-a8a2-bc75aa7c969c",
   "metadata": {},
   "outputs": [],
   "source": [
    "gs = GS25()"
   ]
  },
  {
   "cell_type": "code",
   "execution_count": 242,
   "id": "aff8a56b-b4c1-40bd-9003-8a044bfd6dda",
   "metadata": {},
   "outputs": [
    {
     "name": "stdout",
     "output_type": "stream",
     "text": [
      "GS25의 점포수 : 1\n",
      "GS25를 방문한 총 손님수: 1\n"
     ]
    }
   ],
   "source": [
    "gs.show()"
   ]
  },
  {
   "cell_type": "code",
   "execution_count": 243,
   "id": "0929fb56-f561-4de4-970d-62c2f86b4b32",
   "metadata": {},
   "outputs": [
    {
     "name": "stdout",
     "output_type": "stream",
     "text": [
      "GS25의 점포수 : 2\n",
      "GS25를 방문한 총 손님수: 2\n"
     ]
    }
   ],
   "source": [
    "gs.show()"
   ]
  },
  {
   "cell_type": "markdown",
   "id": "7bfd520b-b933-4c06-bb9a-936f9a28b864",
   "metadata": {
    "id": "7bfd520b-b933-4c06-bb9a-936f9a28b864"
   },
   "source": [
    "(사용예시) (4)-(6)을 모두 적용한 경우 사용예시는 아래와 같다. "
   ]
  },
  {
   "cell_type": "code",
   "execution_count": null,
   "id": "23ae8ff6-c101-4ec3-af82-7ede3cd2061c",
   "metadata": {
    "id": "23ae8ff6-c101-4ec3-af82-7ede3cd2061c",
    "outputId": "97aa2095-2e8e-4bc5-98d2-ac85fc95e944"
   },
   "outputs": [
    {
     "name": "stdout",
     "output_type": "stream",
     "text": [
      "GS25의 점포수가 1개로 늘었습니다.\n"
     ]
    }
   ],
   "source": [
    "a=GS25() ## (4)의 사용예시"
   ]
  },
  {
   "cell_type": "code",
   "execution_count": null,
   "id": "c5186a43-6833-4615-a277-46d3797c5b7d",
   "metadata": {
    "id": "c5186a43-6833-4615-a277-46d3797c5b7d",
    "outputId": "b36884c2-a44a-4a05-8437-63ef01d87f40"
   },
   "outputs": [
    {
     "name": "stdout",
     "output_type": "stream",
     "text": [
      "GS25의 점포수가 2개로 늘었습니다.\n"
     ]
    }
   ],
   "source": [
    "b=GS25() ## (4)의 사용예시"
   ]
  },
  {
   "cell_type": "code",
   "execution_count": null,
   "id": "c8648f2f-1d7d-42b8-bd75-c6913d9e4662",
   "metadata": {
    "id": "c8648f2f-1d7d-42b8-bd75-c6913d9e4662",
    "outputId": "7717be48-e7fe-4305-9eb8-2f198a338615"
   },
   "outputs": [
    {
     "name": "stdout",
     "output_type": "stream",
     "text": [
      "새로운 손님이 오셨습니다!\n",
      "GS25를 방문한 모든 손님수는 1명입니다.\n",
      "현재 GS25 점포를 방문한 손님수는 1명입니다. \n"
     ]
    }
   ],
   "source": [
    "a.come() ## (5)의 사용예시"
   ]
  },
  {
   "cell_type": "code",
   "execution_count": null,
   "id": "e2c7da1d-eea1-4273-8f3b-c4323beed2a4",
   "metadata": {
    "id": "e2c7da1d-eea1-4273-8f3b-c4323beed2a4",
    "outputId": "8a0eaf1d-1ea2-40b2-b631-01d9152e7eb6"
   },
   "outputs": [
    {
     "name": "stdout",
     "output_type": "stream",
     "text": [
      "새로운 손님이 오셨습니다!\n",
      "GS25를 방문한 모든 손님수는 2명입니다.\n",
      "현재 GS25 점포를 방문한 손님수는 2명입니다. \n"
     ]
    }
   ],
   "source": [
    "a.come() ## (5)의 사용예시"
   ]
  },
  {
   "cell_type": "code",
   "execution_count": null,
   "id": "07369ad1-7295-42a8-8c0c-5bc2691eac5b",
   "metadata": {
    "id": "07369ad1-7295-42a8-8c0c-5bc2691eac5b",
    "outputId": "63119a77-f1e8-4e3b-adbd-e6bcb8daca9c"
   },
   "outputs": [
    {
     "name": "stdout",
     "output_type": "stream",
     "text": [
      "새로운 손님이 오셨습니다!\n",
      "GS25를 방문한 모든 손님수는 3명입니다.\n",
      "현재 GS25 점포를 방문한 손님수는 1명입니다. \n"
     ]
    }
   ],
   "source": [
    "b.come() ## (5)의 사용예시"
   ]
  },
  {
   "cell_type": "code",
   "execution_count": null,
   "id": "3a461957-1be3-48b5-b8c3-838a4ef98b6f",
   "metadata": {
    "id": "3a461957-1be3-48b5-b8c3-838a4ef98b6f",
    "outputId": "f81e65d6-7713-45c3-ee41-7b29d5a4c207"
   },
   "outputs": [
    {
     "name": "stdout",
     "output_type": "stream",
     "text": [
      "GS25의 점포수: 2\n",
      "GS25를 방문한 총 손님수: 3\n"
     ]
    }
   ],
   "source": [
    "GS25.show() ## (6)의 사용예시"
   ]
  },
  {
   "cell_type": "markdown",
   "id": "7e093061-981b-41cd-b402-bbce126efcfe",
   "metadata": {
    "id": "7e093061-981b-41cd-b402-bbce126efcfe"
   },
   "source": [
    "`(7)` `__eq__`는 연산 `==` 를 재정의하는 메소드이다. 클래스 `RPC_BASE`를 상속하여 새로운 클래스 RPC5를 만들라. 연산 `==`를 재정의하여 RPC5의 두 인스턴스의 action이 같은 경우 true를 리턴하는 기능을 구현하라. "
   ]
  },
  {
   "cell_type": "code",
   "execution_count": 277,
   "id": "a2191cda-e5d8-4df3-97d0-0cd1ac79da00",
   "metadata": {
    "id": "a2191cda-e5d8-4df3-97d0-0cd1ac79da00"
   },
   "outputs": [],
   "source": [
    "class RPC_BASE:\n",
    "    def __init__(self):\n",
    "        self.action = np.random.choice(['가위','바위','보'])"
   ]
  },
  {
   "cell_type": "markdown",
   "id": "f25a1476-e9ac-4cd0-8040-628c8a70d83f",
   "metadata": {
    "id": "f25a1476-e9ac-4cd0-8040-628c8a70d83f"
   },
   "source": [
    "**hint:** Appendix를 참고할 것"
   ]
  },
  {
   "cell_type": "markdown",
   "id": "7dcb3e90-693e-4700-8f2e-b8c0a7c8f76f",
   "metadata": {
    "id": "7dcb3e90-693e-4700-8f2e-b8c0a7c8f76f"
   },
   "source": [
    "**hint:** RPC5의 선언부분은 아래와 같은 형태를 가지고 있다. \n",
    "\n",
    "```python\n",
    "class RPC5(???):\n",
    "    def __eq__(self,other):\n",
    "        return ??????\n",
    "```"
   ]
  },
  {
   "cell_type": "code",
   "execution_count": 288,
   "id": "30ba2091-b114-4b5e-8a67-f372a1cc08bc",
   "metadata": {},
   "outputs": [],
   "source": [
    "_a = [1,2,3]"
   ]
  },
  {
   "cell_type": "code",
   "execution_count": 290,
   "id": "de8c94ba-d507-4122-8d38-a016f6b4be2b",
   "metadata": {},
   "outputs": [
    {
     "data": {
      "text/plain": [
       "\u001b[0;31mSignature:\u001b[0m      \u001b[0m_a\u001b[0m\u001b[0;34m.\u001b[0m\u001b[0m__eq__\u001b[0m\u001b[0;34m(\u001b[0m\u001b[0mvalue\u001b[0m\u001b[0;34m,\u001b[0m \u001b[0;34m/\u001b[0m\u001b[0;34m)\u001b[0m\u001b[0;34m\u001b[0m\u001b[0;34m\u001b[0m\u001b[0m\n",
       "\u001b[0;31mCall signature:\u001b[0m \u001b[0m_a\u001b[0m\u001b[0;34m.\u001b[0m\u001b[0m__eq__\u001b[0m\u001b[0;34m(\u001b[0m\u001b[0;34m*\u001b[0m\u001b[0margs\u001b[0m\u001b[0;34m,\u001b[0m \u001b[0;34m**\u001b[0m\u001b[0mkwargs\u001b[0m\u001b[0;34m)\u001b[0m\u001b[0;34m\u001b[0m\u001b[0;34m\u001b[0m\u001b[0m\n",
       "\u001b[0;31mType:\u001b[0m           method-wrapper\n",
       "\u001b[0;31mString form:\u001b[0m    <method-wrapper '__eq__' of list object at 0x7fc86c71fb00>\n",
       "\u001b[0;31mDocstring:\u001b[0m      Return self==value.\n"
      ]
     },
     "metadata": {},
     "output_type": "display_data"
    }
   ],
   "source": [
    "_a.__eq__??"
   ]
  },
  {
   "cell_type": "code",
   "execution_count": 295,
   "id": "816f1965-0131-4f3b-b0a9-b4e760a7d080",
   "metadata": {},
   "outputs": [],
   "source": [
    "class RPC5(RPC_BASE):\n",
    "    def __eq__(self,orher):\n",
    "        return self.action == orher"
   ]
  },
  {
   "cell_type": "code",
   "execution_count": 296,
   "id": "e8275c97-e53b-4516-979d-c218fe1ebd82",
   "metadata": {
    "id": "48584644-b245-4bee-b9d0-3113cd4affde",
    "outputId": "bbca143c-fa67-4025-d1cf-f9061d7912c5"
   },
   "outputs": [
    {
     "data": {
      "text/plain": [
       "'가위'"
      ]
     },
     "execution_count": 296,
     "metadata": {},
     "output_type": "execute_result"
    }
   ],
   "source": [
    "a=RPC5()\n",
    "a.action"
   ]
  },
  {
   "cell_type": "code",
   "execution_count": 297,
   "id": "6646c52d-6634-4cd5-a9a4-a5526ce06f84",
   "metadata": {
    "id": "39321e1c-e27d-48bd-a437-d360c48044a3",
    "outputId": "0dd4900b-0c4c-4d04-b037-9040f56e10b8"
   },
   "outputs": [
    {
     "data": {
      "text/plain": [
       "'바위'"
      ]
     },
     "execution_count": 297,
     "metadata": {},
     "output_type": "execute_result"
    }
   ],
   "source": [
    "b=RPC5()\n",
    "b.action"
   ]
  },
  {
   "cell_type": "code",
   "execution_count": 298,
   "id": "ff7d0a4a-7c98-47e3-a97a-74539110b0a5",
   "metadata": {
    "id": "e865c70c-6c73-4a77-ae26-3141c8118493",
    "outputId": "7c543067-97a7-461a-c08c-d84d6c675ca9"
   },
   "outputs": [
    {
     "data": {
      "text/plain": [
       "False"
      ]
     },
     "execution_count": 298,
     "metadata": {},
     "output_type": "execute_result"
    }
   ],
   "source": [
    "a==b"
   ]
  },
  {
   "cell_type": "markdown",
   "id": "6e43a4fa-2f09-462c-a16b-1cf3151d6674",
   "metadata": {
    "id": "6e43a4fa-2f09-462c-a16b-1cf3151d6674"
   },
   "source": [
    "**hint:** RPC5클래스의 사용예시는 아래와 같다. "
   ]
  },
  {
   "cell_type": "code",
   "execution_count": null,
   "id": "48584644-b245-4bee-b9d0-3113cd4affde",
   "metadata": {
    "id": "48584644-b245-4bee-b9d0-3113cd4affde",
    "outputId": "bbca143c-fa67-4025-d1cf-f9061d7912c5"
   },
   "outputs": [
    {
     "data": {
      "text/plain": [
       "'바위'"
      ]
     },
     "execution_count": 50,
     "metadata": {},
     "output_type": "execute_result"
    }
   ],
   "source": [
    "a=RPC5()\n",
    "a.action"
   ]
  },
  {
   "cell_type": "code",
   "execution_count": null,
   "id": "39321e1c-e27d-48bd-a437-d360c48044a3",
   "metadata": {
    "id": "39321e1c-e27d-48bd-a437-d360c48044a3",
    "outputId": "0dd4900b-0c4c-4d04-b037-9040f56e10b8"
   },
   "outputs": [
    {
     "data": {
      "text/plain": [
       "'보'"
      ]
     },
     "execution_count": 51,
     "metadata": {},
     "output_type": "execute_result"
    }
   ],
   "source": [
    "b=RPC5()\n",
    "b.action"
   ]
  },
  {
   "cell_type": "code",
   "execution_count": null,
   "id": "e865c70c-6c73-4a77-ae26-3141c8118493",
   "metadata": {
    "id": "e865c70c-6c73-4a77-ae26-3141c8118493",
    "outputId": "7c543067-97a7-461a-c08c-d84d6c675ca9"
   },
   "outputs": [
    {
     "data": {
      "text/plain": [
       "False"
      ]
     },
     "execution_count": 52,
     "metadata": {},
     "output_type": "execute_result"
    }
   ],
   "source": [
    "a==b"
   ]
  },
  {
   "cell_type": "markdown",
   "id": "000f9ee9-0f1b-4459-a27d-e6738f4aed4a",
   "metadata": {
    "id": "000f9ee9-0f1b-4459-a27d-e6738f4aed4a"
   },
   "source": [
    "`(8)` `__gt__`는 연산 `>` 를 재정의하는 메소드이다. 클래스 `RPC_BASE`를 상속하여 새로운 클래스 RPC6를 만들라. 연산 `>`를 재정의하여 RPC6의 두 인스턴스 a,b의 action이 각각 ('가위','보'), ('바위','가위'), ('보','바위') 인 경우 true를 리턴하는 기능을 구현하라. "
   ]
  },
  {
   "cell_type": "code",
   "execution_count": 299,
   "id": "e37318de-ea36-46c9-8aae-b623b204f8fd",
   "metadata": {},
   "outputs": [],
   "source": [
    "_a = [1,2,3]"
   ]
  },
  {
   "cell_type": "code",
   "execution_count": 300,
   "id": "904ce08d-7dcc-43bd-933d-0b1e650b84d1",
   "metadata": {},
   "outputs": [
    {
     "data": {
      "text/plain": [
       "\u001b[0;31mSignature:\u001b[0m      \u001b[0m_a\u001b[0m\u001b[0;34m.\u001b[0m\u001b[0m__gt__\u001b[0m\u001b[0;34m(\u001b[0m\u001b[0mvalue\u001b[0m\u001b[0;34m,\u001b[0m \u001b[0;34m/\u001b[0m\u001b[0;34m)\u001b[0m\u001b[0;34m\u001b[0m\u001b[0;34m\u001b[0m\u001b[0m\n",
       "\u001b[0;31mCall signature:\u001b[0m \u001b[0m_a\u001b[0m\u001b[0;34m.\u001b[0m\u001b[0m__gt__\u001b[0m\u001b[0;34m(\u001b[0m\u001b[0;34m*\u001b[0m\u001b[0margs\u001b[0m\u001b[0;34m,\u001b[0m \u001b[0;34m**\u001b[0m\u001b[0mkwargs\u001b[0m\u001b[0;34m)\u001b[0m\u001b[0;34m\u001b[0m\u001b[0;34m\u001b[0m\u001b[0m\n",
       "\u001b[0;31mType:\u001b[0m           method-wrapper\n",
       "\u001b[0;31mString form:\u001b[0m    <method-wrapper '__gt__' of list object at 0x7fc86d672bc0>\n",
       "\u001b[0;31mDocstring:\u001b[0m      Return self>value.\n"
      ]
     },
     "metadata": {},
     "output_type": "display_data"
    }
   ],
   "source": [
    "_a.__gt__??"
   ]
  },
  {
   "cell_type": "code",
   "execution_count": 419,
   "id": "8b56f114-3fa1-4978-bbee-e65a65421491",
   "metadata": {},
   "outputs": [],
   "source": [
    "class RPC6(RPC_BASE):\n",
    "    def __gt__(self,other):\n",
    "        if ((self.action == '가위') and (other == '보')):\n",
    "            return self.action > other\n",
    "        else: \n",
    "            return self.action < other\n",
    "        if ((self.action == '바위') and (other == '가위')):\n",
    "            return self.action > other\n",
    "        else: \n",
    "            return self.action < other\n",
    "        if ((self.action == '보') and (other == '바위')):\n",
    "            return self.action > other\n",
    "        else: \n",
    "            return self.action < other"
   ]
  },
  {
   "cell_type": "code",
   "execution_count": 430,
   "id": "63f134ee-e49e-4a24-a835-dabbea4ba025",
   "metadata": {
    "id": "dd0a9872-2b5e-4547-91e1-bb42de1dcfdd",
    "outputId": "3b9d525a-0834-4902-efb4-29f4bdeaddd3"
   },
   "outputs": [
    {
     "data": {
      "text/plain": [
       "'보'"
      ]
     },
     "execution_count": 430,
     "metadata": {},
     "output_type": "execute_result"
    }
   ],
   "source": [
    "a=RPC6()\n",
    "a.action"
   ]
  },
  {
   "cell_type": "code",
   "execution_count": 431,
   "id": "9261c1bb-8010-468a-a2d5-300478c173e8",
   "metadata": {
    "id": "1ec4af26-a7f1-4f4b-8bc5-3b72cb8d6940",
    "outputId": "23ca0ae0-ffdf-43e7-e008-b583b96aa019"
   },
   "outputs": [
    {
     "data": {
      "text/plain": [
       "'바위'"
      ]
     },
     "execution_count": 431,
     "metadata": {},
     "output_type": "execute_result"
    }
   ],
   "source": [
    "b=RPC6()\n",
    "b.action"
   ]
  },
  {
   "cell_type": "code",
   "execution_count": 432,
   "id": "d94cf0d5-6f94-4b4c-9a2b-06ca9ceadfcb",
   "metadata": {
    "id": "4fb63031-7052-4e8b-ab28-ff94e1299bb1",
    "outputId": "d4e400b0-9188-4f89-a4ff-185b10e04613"
   },
   "outputs": [
    {
     "data": {
      "text/plain": [
       "(True, False)"
      ]
     },
     "execution_count": 432,
     "metadata": {},
     "output_type": "execute_result"
    }
   ],
   "source": [
    "a>b, a<b"
   ]
  },
  {
   "cell_type": "markdown",
   "id": "d97152d3-1694-4537-9278-baa8468ec63c",
   "metadata": {
    "id": "d97152d3-1694-4537-9278-baa8468ec63c"
   },
   "source": [
    "**hint:** Appendix를 참고할 것"
   ]
  },
  {
   "cell_type": "markdown",
   "id": "4c51cfd3-aefe-48b9-bc2c-ad5a9303cda6",
   "metadata": {
    "id": "4c51cfd3-aefe-48b9-bc2c-ad5a9303cda6"
   },
   "source": [
    "**hint:** RPC6클래스의 사용예시는 아래와 같다. "
   ]
  },
  {
   "cell_type": "code",
   "execution_count": null,
   "id": "dd0a9872-2b5e-4547-91e1-bb42de1dcfdd",
   "metadata": {
    "id": "dd0a9872-2b5e-4547-91e1-bb42de1dcfdd",
    "outputId": "3b9d525a-0834-4902-efb4-29f4bdeaddd3"
   },
   "outputs": [
    {
     "data": {
      "text/plain": [
       "'바위'"
      ]
     },
     "execution_count": 72,
     "metadata": {},
     "output_type": "execute_result"
    }
   ],
   "source": [
    "a=RPC6()\n",
    "a.action"
   ]
  },
  {
   "cell_type": "code",
   "execution_count": null,
   "id": "1ec4af26-a7f1-4f4b-8bc5-3b72cb8d6940",
   "metadata": {
    "id": "1ec4af26-a7f1-4f4b-8bc5-3b72cb8d6940",
    "outputId": "23ca0ae0-ffdf-43e7-e008-b583b96aa019"
   },
   "outputs": [
    {
     "data": {
      "text/plain": [
       "'보'"
      ]
     },
     "execution_count": 73,
     "metadata": {},
     "output_type": "execute_result"
    }
   ],
   "source": [
    "b=RPC6()\n",
    "b.action"
   ]
  },
  {
   "cell_type": "code",
   "execution_count": null,
   "id": "4fb63031-7052-4e8b-ab28-ff94e1299bb1",
   "metadata": {
    "id": "4fb63031-7052-4e8b-ab28-ff94e1299bb1",
    "outputId": "d4e400b0-9188-4f89-a4ff-185b10e04613"
   },
   "outputs": [
    {
     "data": {
      "text/plain": [
       "(False, True)"
      ]
     },
     "execution_count": 74,
     "metadata": {},
     "output_type": "execute_result"
    }
   ],
   "source": [
    "a>b, a<b"
   ]
  },
  {
   "cell_type": "markdown",
   "id": "161d4564-4497-40e5-9372-dc4118fb760f",
   "metadata": {
    "id": "161d4564-4497-40e5-9372-dc4118fb760f"
   },
   "source": [
    "***(9)-(10)***"
   ]
  },
  {
   "cell_type": "markdown",
   "id": "96190964-a7dc-4135-b411-fcb933996195",
   "metadata": {
    "id": "96190964-a7dc-4135-b411-fcb933996195"
   },
   "source": [
    "아래와 같은 데이터프레임을 선언하고 물음에 답하라. "
   ]
  },
  {
   "cell_type": "code",
   "execution_count": 433,
   "id": "d6ff7b13-47b3-4cd4-b9dc-91421865eca7",
   "metadata": {
    "id": "d6ff7b13-47b3-4cd4-b9dc-91421865eca7",
    "outputId": "7c6a97ed-b838-45f7-e8e8-5f54ca9bfbae"
   },
   "outputs": [
    {
     "data": {
      "text/html": [
       "<div>\n",
       "<style scoped>\n",
       "    .dataframe tbody tr th:only-of-type {\n",
       "        vertical-align: middle;\n",
       "    }\n",
       "\n",
       "    .dataframe tbody tr th {\n",
       "        vertical-align: top;\n",
       "    }\n",
       "\n",
       "    .dataframe thead th {\n",
       "        text-align: right;\n",
       "    }\n",
       "</style>\n",
       "<table border=\"1\" class=\"dataframe\">\n",
       "  <thead>\n",
       "    <tr style=\"text-align: right;\">\n",
       "      <th></th>\n",
       "      <th>type</th>\n",
       "      <th>score</th>\n",
       "    </tr>\n",
       "  </thead>\n",
       "  <tbody>\n",
       "    <tr>\n",
       "      <th>0</th>\n",
       "      <td>B</td>\n",
       "      <td>45</td>\n",
       "    </tr>\n",
       "    <tr>\n",
       "      <th>1</th>\n",
       "      <td>A</td>\n",
       "      <td>40</td>\n",
       "    </tr>\n",
       "    <tr>\n",
       "      <th>2</th>\n",
       "      <td>B</td>\n",
       "      <td>79</td>\n",
       "    </tr>\n",
       "    <tr>\n",
       "      <th>3</th>\n",
       "      <td>B</td>\n",
       "      <td>46</td>\n",
       "    </tr>\n",
       "    <tr>\n",
       "      <th>4</th>\n",
       "      <td>B</td>\n",
       "      <td>57</td>\n",
       "    </tr>\n",
       "    <tr>\n",
       "      <th>...</th>\n",
       "      <td>...</td>\n",
       "      <td>...</td>\n",
       "    </tr>\n",
       "    <tr>\n",
       "      <th>95</th>\n",
       "      <td>B</td>\n",
       "      <td>69</td>\n",
       "    </tr>\n",
       "    <tr>\n",
       "      <th>96</th>\n",
       "      <td>A</td>\n",
       "      <td>71</td>\n",
       "    </tr>\n",
       "    <tr>\n",
       "      <th>97</th>\n",
       "      <td>A</td>\n",
       "      <td>93</td>\n",
       "    </tr>\n",
       "    <tr>\n",
       "      <th>98</th>\n",
       "      <td>A</td>\n",
       "      <td>63</td>\n",
       "    </tr>\n",
       "    <tr>\n",
       "      <th>99</th>\n",
       "      <td>A</td>\n",
       "      <td>82</td>\n",
       "    </tr>\n",
       "  </tbody>\n",
       "</table>\n",
       "<p>100 rows × 2 columns</p>\n",
       "</div>"
      ],
      "text/plain": [
       "   type  score\n",
       "0     B     45\n",
       "1     A     40\n",
       "2     B     79\n",
       "3     B     46\n",
       "4     B     57\n",
       "..  ...    ...\n",
       "95    B     69\n",
       "96    A     71\n",
       "97    A     93\n",
       "98    A     63\n",
       "99    A     82\n",
       "\n",
       "[100 rows x 2 columns]"
      ]
     },
     "execution_count": 433,
     "metadata": {},
     "output_type": "execute_result"
    }
   ],
   "source": [
    "np.random.seed(43052)\n",
    "df=pd.DataFrame({'type':np.random.choice(['A','B'],100), 'score':np.random.randint(40,95,100)})\n",
    "df"
   ]
  },
  {
   "cell_type": "markdown",
   "id": "2451578c-6c1d-46cc-b188-f2f3ce9f9edf",
   "metadata": {
    "id": "2451578c-6c1d-46cc-b188-f2f3ce9f9edf"
   },
   "source": [
    "`(9)` type=='A'의 평균score를 구하는 코드를 작성하라. "
   ]
  },
  {
   "cell_type": "code",
   "execution_count": 455,
   "id": "ef1fdd18-6bcc-4372-900a-90ee95514a61",
   "metadata": {},
   "outputs": [
    {
     "data": {
      "text/plain": [
       "68.4"
      ]
     },
     "execution_count": 455,
     "metadata": {},
     "output_type": "execute_result"
    }
   ],
   "source": [
    "df.query('type==\"A\"').iloc[:,1].mean()"
   ]
  },
  {
   "cell_type": "markdown",
   "id": "849c6997-ac04-4afb-a07e-d9a2e0bc45b1",
   "metadata": {
    "id": "849c6997-ac04-4afb-a07e-d9a2e0bc45b1"
   },
   "source": [
    "`(10)` type=='A'의 평균score보다 같거나 큰 값을 가지는 행을 출력하라."
   ]
  },
  {
   "cell_type": "code",
   "execution_count": 483,
   "id": "c8ca2985-d275-4b03-be39-11785670c4fc",
   "metadata": {},
   "outputs": [
    {
     "data": {
      "text/html": [
       "<div>\n",
       "<style scoped>\n",
       "    .dataframe tbody tr th:only-of-type {\n",
       "        vertical-align: middle;\n",
       "    }\n",
       "\n",
       "    .dataframe tbody tr th {\n",
       "        vertical-align: top;\n",
       "    }\n",
       "\n",
       "    .dataframe thead th {\n",
       "        text-align: right;\n",
       "    }\n",
       "</style>\n",
       "<table border=\"1\" class=\"dataframe\">\n",
       "  <thead>\n",
       "    <tr style=\"text-align: right;\">\n",
       "      <th></th>\n",
       "      <th>index</th>\n",
       "      <th>score</th>\n",
       "    </tr>\n",
       "  </thead>\n",
       "  <tbody>\n",
       "    <tr>\n",
       "      <th>0</th>\n",
       "      <td>0</td>\n",
       "      <td>True</td>\n",
       "    </tr>\n",
       "    <tr>\n",
       "      <th>1</th>\n",
       "      <td>1</td>\n",
       "      <td>True</td>\n",
       "    </tr>\n",
       "    <tr>\n",
       "      <th>2</th>\n",
       "      <td>2</td>\n",
       "      <td>True</td>\n",
       "    </tr>\n",
       "    <tr>\n",
       "      <th>3</th>\n",
       "      <td>3</td>\n",
       "      <td>True</td>\n",
       "    </tr>\n",
       "    <tr>\n",
       "      <th>4</th>\n",
       "      <td>4</td>\n",
       "      <td>True</td>\n",
       "    </tr>\n",
       "    <tr>\n",
       "      <th>5</th>\n",
       "      <td>5</td>\n",
       "      <td>True</td>\n",
       "    </tr>\n",
       "    <tr>\n",
       "      <th>6</th>\n",
       "      <td>6</td>\n",
       "      <td>True</td>\n",
       "    </tr>\n",
       "    <tr>\n",
       "      <th>7</th>\n",
       "      <td>7</td>\n",
       "      <td>True</td>\n",
       "    </tr>\n",
       "    <tr>\n",
       "      <th>8</th>\n",
       "      <td>8</td>\n",
       "      <td>True</td>\n",
       "    </tr>\n",
       "    <tr>\n",
       "      <th>9</th>\n",
       "      <td>9</td>\n",
       "      <td>True</td>\n",
       "    </tr>\n",
       "    <tr>\n",
       "      <th>10</th>\n",
       "      <td>10</td>\n",
       "      <td>True</td>\n",
       "    </tr>\n",
       "    <tr>\n",
       "      <th>11</th>\n",
       "      <td>11</td>\n",
       "      <td>True</td>\n",
       "    </tr>\n",
       "    <tr>\n",
       "      <th>12</th>\n",
       "      <td>12</td>\n",
       "      <td>True</td>\n",
       "    </tr>\n",
       "    <tr>\n",
       "      <th>13</th>\n",
       "      <td>13</td>\n",
       "      <td>True</td>\n",
       "    </tr>\n",
       "    <tr>\n",
       "      <th>14</th>\n",
       "      <td>14</td>\n",
       "      <td>True</td>\n",
       "    </tr>\n",
       "    <tr>\n",
       "      <th>15</th>\n",
       "      <td>15</td>\n",
       "      <td>True</td>\n",
       "    </tr>\n",
       "    <tr>\n",
       "      <th>16</th>\n",
       "      <td>16</td>\n",
       "      <td>True</td>\n",
       "    </tr>\n",
       "    <tr>\n",
       "      <th>17</th>\n",
       "      <td>17</td>\n",
       "      <td>True</td>\n",
       "    </tr>\n",
       "    <tr>\n",
       "      <th>18</th>\n",
       "      <td>18</td>\n",
       "      <td>True</td>\n",
       "    </tr>\n",
       "    <tr>\n",
       "      <th>19</th>\n",
       "      <td>19</td>\n",
       "      <td>True</td>\n",
       "    </tr>\n",
       "    <tr>\n",
       "      <th>20</th>\n",
       "      <td>20</td>\n",
       "      <td>True</td>\n",
       "    </tr>\n",
       "    <tr>\n",
       "      <th>21</th>\n",
       "      <td>21</td>\n",
       "      <td>True</td>\n",
       "    </tr>\n",
       "    <tr>\n",
       "      <th>22</th>\n",
       "      <td>22</td>\n",
       "      <td>True</td>\n",
       "    </tr>\n",
       "    <tr>\n",
       "      <th>23</th>\n",
       "      <td>23</td>\n",
       "      <td>True</td>\n",
       "    </tr>\n",
       "    <tr>\n",
       "      <th>24</th>\n",
       "      <td>24</td>\n",
       "      <td>True</td>\n",
       "    </tr>\n",
       "    <tr>\n",
       "      <th>25</th>\n",
       "      <td>25</td>\n",
       "      <td>True</td>\n",
       "    </tr>\n",
       "    <tr>\n",
       "      <th>26</th>\n",
       "      <td>26</td>\n",
       "      <td>True</td>\n",
       "    </tr>\n",
       "    <tr>\n",
       "      <th>27</th>\n",
       "      <td>27</td>\n",
       "      <td>True</td>\n",
       "    </tr>\n",
       "    <tr>\n",
       "      <th>28</th>\n",
       "      <td>28</td>\n",
       "      <td>True</td>\n",
       "    </tr>\n",
       "    <tr>\n",
       "      <th>29</th>\n",
       "      <td>29</td>\n",
       "      <td>True</td>\n",
       "    </tr>\n",
       "    <tr>\n",
       "      <th>30</th>\n",
       "      <td>30</td>\n",
       "      <td>True</td>\n",
       "    </tr>\n",
       "    <tr>\n",
       "      <th>31</th>\n",
       "      <td>31</td>\n",
       "      <td>True</td>\n",
       "    </tr>\n",
       "    <tr>\n",
       "      <th>32</th>\n",
       "      <td>32</td>\n",
       "      <td>True</td>\n",
       "    </tr>\n",
       "    <tr>\n",
       "      <th>33</th>\n",
       "      <td>33</td>\n",
       "      <td>True</td>\n",
       "    </tr>\n",
       "    <tr>\n",
       "      <th>34</th>\n",
       "      <td>34</td>\n",
       "      <td>True</td>\n",
       "    </tr>\n",
       "    <tr>\n",
       "      <th>35</th>\n",
       "      <td>35</td>\n",
       "      <td>True</td>\n",
       "    </tr>\n",
       "    <tr>\n",
       "      <th>36</th>\n",
       "      <td>36</td>\n",
       "      <td>True</td>\n",
       "    </tr>\n",
       "    <tr>\n",
       "      <th>37</th>\n",
       "      <td>37</td>\n",
       "      <td>True</td>\n",
       "    </tr>\n",
       "    <tr>\n",
       "      <th>38</th>\n",
       "      <td>38</td>\n",
       "      <td>True</td>\n",
       "    </tr>\n",
       "    <tr>\n",
       "      <th>39</th>\n",
       "      <td>39</td>\n",
       "      <td>True</td>\n",
       "    </tr>\n",
       "    <tr>\n",
       "      <th>40</th>\n",
       "      <td>40</td>\n",
       "      <td>True</td>\n",
       "    </tr>\n",
       "    <tr>\n",
       "      <th>41</th>\n",
       "      <td>41</td>\n",
       "      <td>True</td>\n",
       "    </tr>\n",
       "    <tr>\n",
       "      <th>42</th>\n",
       "      <td>42</td>\n",
       "      <td>True</td>\n",
       "    </tr>\n",
       "    <tr>\n",
       "      <th>43</th>\n",
       "      <td>43</td>\n",
       "      <td>True</td>\n",
       "    </tr>\n",
       "  </tbody>\n",
       "</table>\n",
       "</div>"
      ],
      "text/plain": [
       "    index  score\n",
       "0       0   True\n",
       "1       1   True\n",
       "2       2   True\n",
       "3       3   True\n",
       "4       4   True\n",
       "5       5   True\n",
       "6       6   True\n",
       "7       7   True\n",
       "8       8   True\n",
       "9       9   True\n",
       "10     10   True\n",
       "11     11   True\n",
       "12     12   True\n",
       "13     13   True\n",
       "14     14   True\n",
       "15     15   True\n",
       "16     16   True\n",
       "17     17   True\n",
       "18     18   True\n",
       "19     19   True\n",
       "20     20   True\n",
       "21     21   True\n",
       "22     22   True\n",
       "23     23   True\n",
       "24     24   True\n",
       "25     25   True\n",
       "26     26   True\n",
       "27     27   True\n",
       "28     28   True\n",
       "29     29   True\n",
       "30     30   True\n",
       "31     31   True\n",
       "32     32   True\n",
       "33     33   True\n",
       "34     34   True\n",
       "35     35   True\n",
       "36     36   True\n",
       "37     37   True\n",
       "38     38   True\n",
       "39     39   True\n",
       "40     40   True\n",
       "41     41   True\n",
       "42     42   True\n",
       "43     43   True"
      ]
     },
     "execution_count": 483,
     "metadata": {},
     "output_type": "execute_result"
    }
   ],
   "source": [
    "(df['score'] >= df.query('type==\"A\"').iloc[:,1].mean()).reset_index().query('score==True').reset_index().iloc[:,2].reset_index()"
   ]
  },
  {
   "cell_type": "markdown",
   "id": "7d4fdd4f-6451-4a34-a860-7f80222e033f",
   "metadata": {
    "id": "7d4fdd4f-6451-4a34-a860-7f80222e033f"
   },
   "source": [
    "## `2`. 가위, 바위, 보 하나빼기 (150점)"
   ]
  },
  {
   "cell_type": "markdown",
   "id": "b1338495-e05c-4d37-b9cb-5c7a70c9b265",
   "metadata": {
    "id": "b1338495-e05c-4d37-b9cb-5c7a70c9b265"
   },
   "source": [
    "`(1)` 플레이어A는 (가위,가위) 중 하나를 선택할 수 있고 플레이어B는 (가위,바위) 중 하나를 선택할 수 있다. 각 플레이어는 각 패 중 하나를 랜덤으로 선택하는 액션을 한다고 가정하자.\n",
    "아래에 해당하는 확률을 시뮬레이션을 이용하여 추정하라. \n",
    "\n",
    "- 플레이어A가 승리할 확률:\n",
    "- 플레이어B가 승리할 확률:\n",
    "- 플레이어A와 플레이어B가 비길 확률: "
   ]
  },
  {
   "cell_type": "markdown",
   "id": "c35521de-b3d9-4a32-bb97-78bd4339641f",
   "metadata": {
    "id": "c35521de-b3d9-4a32-bb97-78bd4339641f"
   },
   "source": [
    "**hint**: 50% 확률로 b가 승리하고 50% 확률로 비긴다. "
   ]
  },
  {
   "cell_type": "code",
   "execution_count": 571,
   "id": "86707c99-ff9d-4686-b84e-c533f43b3a69",
   "metadata": {},
   "outputs": [],
   "source": [
    "class RSP: \n",
    "    def __init__(self,candidate=['가위','바위']):\n",
    "        self.candidate = candidate\n",
    "        self.actions = list() \n",
    "        self.results = list()\n",
    "    def __mul__(self,other):\n",
    "        self.choose()\n",
    "        other.choose()\n",
    "        if self.actions[-1]=='가위' and other.actions[-1]=='가위':\n",
    "            self.results.append(0)\n",
    "            other.results.append(0)\n",
    "        if self.actions[-1]=='가위' and other.actions[-1]=='바위':\n",
    "            self.results.append(-1)\n",
    "            other.results.append(1)\n",
    "        if self.actions[-1]=='바위' and other.actions[-1]=='가위':\n",
    "            self.results.append(1)\n",
    "            other.results.append(-1)\n",
    "    def choose(self):\n",
    "        self.actions.append(np.random.choice(self.candidate))\n",
    "    def _repr_html_(self):\n",
    "        html_str = \"\"\"\n",
    "        낼 수 있는 패: {} <br/> \n",
    "        액션: {} <br/>\n",
    "        승패: {}\n",
    "        \"\"\"\n",
    "        return html_str.format(self.candidate,self.actions,self.results)"
   ]
  },
  {
   "cell_type": "code",
   "execution_count": 585,
   "id": "671616c7-bdae-4553-b28f-553837d64319",
   "metadata": {},
   "outputs": [],
   "source": [
    "a=RSP()\n",
    "b=RSP(candidate=['가위','가위'])"
   ]
  },
  {
   "cell_type": "code",
   "execution_count": 586,
   "id": "ec17af54-89f6-425e-b4cb-922a27bd6d53",
   "metadata": {},
   "outputs": [],
   "source": [
    "for i in range(5):\n",
    "    a*b"
   ]
  },
  {
   "cell_type": "code",
   "execution_count": 587,
   "id": "07b85fac-9612-4ddc-826c-ba1684d0039c",
   "metadata": {},
   "outputs": [
    {
     "data": {
      "text/html": [
       "\n",
       "        낼 수 있는 패: ['가위', '바위'] <br/> \n",
       "        액션: ['바위', '가위', '바위', '바위', '바위'] <br/>\n",
       "        승패: [1, 0, 1, 1, 1]\n",
       "        "
      ],
      "text/plain": [
       "<__main__.RSP at 0x7fc86a1e4670>"
      ]
     },
     "execution_count": 587,
     "metadata": {},
     "output_type": "execute_result"
    }
   ],
   "source": [
    "a"
   ]
  },
  {
   "cell_type": "code",
   "execution_count": 588,
   "id": "017cffee-f691-4138-b4eb-26517d3a5b06",
   "metadata": {},
   "outputs": [
    {
     "data": {
      "text/html": [
       "\n",
       "        낼 수 있는 패: ['가위', '가위'] <br/> \n",
       "        액션: ['가위', '가위', '가위', '가위', '가위'] <br/>\n",
       "        승패: [-1, 0, -1, -1, -1]\n",
       "        "
      ],
      "text/plain": [
       "<__main__.RSP at 0x7fc86a1e4610>"
      ]
     },
     "execution_count": 588,
     "metadata": {},
     "output_type": "execute_result"
    }
   ],
   "source": [
    "b"
   ]
  },
  {
   "cell_type": "code",
   "execution_count": 589,
   "id": "15d4be9b-9c0f-4108-81e4-3557aedcf41e",
   "metadata": {},
   "outputs": [],
   "source": [
    "for i in range(50000):\n",
    "    a*b"
   ]
  },
  {
   "cell_type": "code",
   "execution_count": 590,
   "id": "68078331-8eab-4458-a202-314b10aeceb1",
   "metadata": {},
   "outputs": [
    {
     "data": {
      "text/plain": [
       "0.498010198980102"
      ]
     },
     "execution_count": 590,
     "metadata": {},
     "output_type": "execute_result"
    }
   ],
   "source": [
    "sum(a.results)/len(a.results)"
   ]
  },
  {
   "cell_type": "code",
   "execution_count": 591,
   "id": "c824a7ae-395d-45b7-b316-c868905cc452",
   "metadata": {},
   "outputs": [
    {
     "data": {
      "text/plain": [
       "-0.498010198980102"
      ]
     },
     "execution_count": 591,
     "metadata": {},
     "output_type": "execute_result"
    }
   ],
   "source": [
    "sum(b.results)/len(a.results)"
   ]
  },
  {
   "cell_type": "markdown",
   "id": "d98feb08-4d95-4a9e-8a34-80eff77f1489",
   "metadata": {
    "id": "d98feb08-4d95-4a9e-8a34-80eff77f1489"
   },
   "source": [
    "`(2)` 문제 (1)과 같이 아래의 상황을 가정하자. \n",
    "\n",
    "||플레이어A|플레이어B|\n",
    "|:-:|:-:|:-:|\n",
    "|각 플레이어가 낼 수 있는 패 (candidate) | (가위,가위) | (가위,바위) |\n",
    "|각 패를 선택할 확률 (prob) | (0.5,0.5) | (0.5,0.5) |\n",
    "\n",
    "\n",
    "\n",
    "각 플레이어는 아래와 같은 규칙으로 가위바위보 결과에 따른 보상점수를 적립한다고 하자. \n",
    "- 승리: 보상점수 2점 적립\n",
    "- 무승부: 보상점수 1점 적립\n",
    "- 패배: 보상점수 0점 적립\n",
    "\n",
    "100번째 대결까지 시뮬레이션을 시행하고 플레이어B가 가위를 낼 경우 얻은 보상점수의 총합과 바위를 낼 경우 얻은 보상점수의 총합을 각각 구하라. 플레이어B는 가위를 내는것이 유리한가? 바위를 내는것이 유리한가? "
   ]
  },
  {
   "cell_type": "markdown",
   "id": "b531f35e-41d4-4bb6-9f1b-287a58d4efc2",
   "metadata": {
    "id": "b531f35e-41d4-4bb6-9f1b-287a58d4efc2"
   },
   "source": [
    "**hint**: 플레이어B는 바위를 내는 것이 유리하다. \n",
    "\n",
    "**hint**: 플레이어B가 100번중에 49번 가위를 내고 51번 바위를 낸다면 플레이어B가 적립할 보상점수는 각각 아래와 같다. \n",
    "- 가위를 내었을 경우: 49 * 1 = 49점 \n",
    "- 바위를 내었을 경우: 51 * 2 = 102점 \n",
    "- 총 보상점수 = 49점 + 102점 = 151점 "
   ]
  },
  {
   "cell_type": "code",
   "execution_count": 607,
   "id": "2b349741-12eb-47b0-bff0-4350187cd2a5",
   "metadata": {},
   "outputs": [],
   "source": [
    "class RSP: \n",
    "    def __init__(self,candidate=['가위','바위']):\n",
    "        self.candidate = candidate\n",
    "        self.actions = list() \n",
    "        self.results = list()\n",
    "        self.points = list()\n",
    "    def __mul__(self,other):\n",
    "        self.choose()\n",
    "        other.choose()\n",
    "        if self.actions[-1]=='가위' and other.actions[-1]=='가위':\n",
    "            self.results.append(0)\n",
    "            other.results.append(0)\n",
    "            self.points.append(1)\n",
    "            other.points.append(1)\n",
    "        if self.actions[-1]=='가위' and other.actions[-1]=='바위':\n",
    "            self.results.append(-1)\n",
    "            other.results.append(1)\n",
    "            self.points.append(0)\n",
    "            other.points.append(2)\n",
    "        if self.actions[-1]=='바위' and other.actions[-1]=='가위':\n",
    "            self.results.append(1)\n",
    "            other.results.append(-1)\n",
    "            self.points.append(2)\n",
    "            other.points.append(0)\n",
    "    def choose(self):\n",
    "        self.actions.append(np.random.choice(self.candidate))\n",
    "    def _repr_html_(self):\n",
    "        html_str = \"\"\"\n",
    "        낼 수 있는 패: {} <br/> \n",
    "        액션: {} <br/>\n",
    "        승패: {} <br/>\n",
    "        점수: {}\n",
    "        \"\"\"\n",
    "        return html_str.format(self.candidate,self.actions,self.results,self.points)"
   ]
  },
  {
   "cell_type": "code",
   "execution_count": 608,
   "id": "0826230b-1135-4a11-9d16-e92adb32832e",
   "metadata": {},
   "outputs": [],
   "source": [
    "a=RSP()\n",
    "b=RSP(candidate=['가위','가위'])"
   ]
  },
  {
   "cell_type": "code",
   "execution_count": 609,
   "id": "45a984de-5d0d-4586-a970-4ee02d609097",
   "metadata": {},
   "outputs": [],
   "source": [
    "for i in range(5):\n",
    "    a*b"
   ]
  },
  {
   "cell_type": "code",
   "execution_count": 610,
   "id": "95ff5da5-1d41-4546-837b-73774d94e179",
   "metadata": {},
   "outputs": [
    {
     "data": {
      "text/html": [
       "\n",
       "        낼 수 있는 패: ['가위', '바위'] <br/> \n",
       "        액션: ['가위', '가위', '가위', '바위', '바위'] <br/>\n",
       "        승패: [0, 0, 0, 1, 1] <br/>\n",
       "        점수: [1, 1, 1, 2, 2]\n",
       "        "
      ],
      "text/plain": [
       "<__main__.RSP at 0x7fc86a08ea00>"
      ]
     },
     "execution_count": 610,
     "metadata": {},
     "output_type": "execute_result"
    }
   ],
   "source": [
    "a"
   ]
  },
  {
   "cell_type": "code",
   "execution_count": 611,
   "id": "54659cb1-2623-40b9-bc37-b9ac790678eb",
   "metadata": {},
   "outputs": [
    {
     "data": {
      "text/html": [
       "\n",
       "        낼 수 있는 패: ['가위', '가위'] <br/> \n",
       "        액션: ['가위', '가위', '가위', '가위', '가위'] <br/>\n",
       "        승패: [0, 0, 0, -1, -1] <br/>\n",
       "        점수: [1, 1, 1, 0, 0]\n",
       "        "
      ],
      "text/plain": [
       "<__main__.RSP at 0x7fc86a40fcd0>"
      ]
     },
     "execution_count": 611,
     "metadata": {},
     "output_type": "execute_result"
    }
   ],
   "source": [
    "b"
   ]
  },
  {
   "cell_type": "code",
   "execution_count": 613,
   "id": "dc53a8f3-a1f7-42ef-ae37-f6b1c3a56d57",
   "metadata": {},
   "outputs": [],
   "source": [
    "for i in range(100):\n",
    "    a*b"
   ]
  },
  {
   "cell_type": "code",
   "execution_count": 617,
   "id": "67f4870d-b8c3-45fe-93b4-d564c0d5bd3e",
   "metadata": {},
   "outputs": [
    {
     "data": {
      "text/plain": [
       "75181"
      ]
     },
     "execution_count": 617,
     "metadata": {},
     "output_type": "execute_result"
    }
   ],
   "source": [
    "sum(a.points)"
   ]
  },
  {
   "cell_type": "code",
   "execution_count": 616,
   "id": "016a38fb-a02e-4501-afbc-c14dc21e58f3",
   "metadata": {},
   "outputs": [
    {
     "data": {
      "text/plain": [
       "25029"
      ]
     },
     "execution_count": 616,
     "metadata": {},
     "output_type": "execute_result"
    }
   ],
   "source": [
    "sum(b.points)"
   ]
  },
  {
   "cell_type": "code",
   "execution_count": 625,
   "id": "de83aa8f-e11f-4836-b512-8abaa8b978cd",
   "metadata": {},
   "outputs": [
    {
     "ename": "TypeError",
     "evalue": "dict expected at most 1 argument, got 2",
     "output_type": "error",
     "traceback": [
      "\u001b[0;31m---------------------------------------------------------------------------\u001b[0m",
      "\u001b[0;31mTypeError\u001b[0m                                 Traceback (most recent call last)",
      "\u001b[0;32m/tmp/ipykernel_2378092/3252964449.py\u001b[0m in \u001b[0;36m<module>\u001b[0;34m\u001b[0m\n\u001b[0;32m----> 1\u001b[0;31m \u001b[0mdict\u001b[0m\u001b[0;34m(\u001b[0m\u001b[0mb\u001b[0m\u001b[0;34m.\u001b[0m\u001b[0mcandidate\u001b[0m\u001b[0;34m,\u001b[0m\u001b[0mb\u001b[0m\u001b[0;34m.\u001b[0m\u001b[0mactions\u001b[0m\u001b[0;34m)\u001b[0m\u001b[0;34m\u001b[0m\u001b[0;34m\u001b[0m\u001b[0m\n\u001b[0m",
      "\u001b[0;31mTypeError\u001b[0m: dict expected at most 1 argument, got 2"
     ]
    }
   ],
   "source": [
    "dict(b.candidate,b.actions)"
   ]
  },
  {
   "cell_type": "markdown",
   "id": "23606f98-82ac-4086-aa97-be5315b76578",
   "metadata": {
    "id": "23606f98-82ac-4086-aa97-be5315b76578"
   },
   "source": [
    "`(3)` (2)에서 얻은 데이터를 **학습**하여 플레이어B가 \"가위\" 혹은 \"바위\" 를 선택할 확률을 매시점 조금씩 조정한다고 가정하자. 구체적으로는 현재시점까지 얻은 보상점수의 비율로 확률을 결정한다. 예를들어 플레이어B가 100회의 대결동안 누적한 보상점수의 총합이 아래와 같다고 하자. \n",
    "\n",
    "- 가위를 내었을 경우 보상점수 총합 = 50점 \n",
    "- 바위를 내었을 경우 보상점수 총합 = 100점\n",
    "\n",
    "\n",
    "그렇다면 플레이어B는 각각 (50/150,100/150) 의 확률로 (가위,바위) 중 하나를 선택한다. 101번째 대결에 플레이어B가 가위를 내서 비겼다면 이후에는 (51/151,100/151) 의 확률로 (가위,바위) 중 하나를 선택한다. 102번째 대결에 플레이어B가 바위를 내서 이겼다면 이후에는 각각 (51/153,102/153) 의 확률로 (가위,바위) 중 하나를 선택한다. 이러한 상황을 요약하여 표로 정리하면 아래와 같다. \n",
    "\n",
    "\n",
    "|시점|플레이어B가 가위를 냈을 경우 얻은 점수 총합|플레이어B가 바위를 냈을 경우 얻은 점수 총합| t+1시점에서 플레이어B가 (가위,바위)를 낼 확률|\n",
    "|:-:|:-:|:-:|:-:|\n",
    "|t=100|50|100| (50/150, 100/150)|\n",
    "|t=101|51|100| (51/151, 100/151)|\n",
    "|t=102|51|102| (51/153, 102/153)|\n",
    "\n",
    "\n",
    "이러한 방식으로 500회까지 게임을 진행하며 확률을 수정하였을 경우 501번째 대결에서 플레이어B가 (가위,바위)를 낼 확률은 각각 얼마인가? \n"
   ]
  },
  {
   "cell_type": "markdown",
   "id": "9532fd24-ff0c-4e67-bd8d-fd2004432f22",
   "metadata": {
    "id": "9532fd24-ff0c-4e67-bd8d-fd2004432f22"
   },
   "source": [
    "**hint: 시간이 지날수록 플레이어B는 (가위,바위)중 바위를 내는 쪽이 유리하다는 것을 알게 될 것이다.**"
   ]
  },
  {
   "cell_type": "markdown",
   "id": "de442f38-ac1f-44b3-bc16-06535e37f067",
   "metadata": {
    "id": "de442f38-ac1f-44b3-bc16-06535e37f067"
   },
   "source": [
    "---"
   ]
  },
  {
   "cell_type": "markdown",
   "id": "021ead79-79da-44fd-8533-0680b0ba11de",
   "metadata": {
    "id": "021ead79-79da-44fd-8533-0680b0ba11de"
   },
   "source": [
    "앞으로 아래와 같은 용어를 사용한다. \n",
    "- ***(정의) 어떠한 플레이어가 양손 중 하나를 선택하는 확률을 데이터를 바탕으로 매 순간 업데이트 한다면 그 플레이어는 \"학습모드 상태이다\"고 표현한다.***\n",
    "- ***(정의) 반대로 어떠한 플레이어가 양손 중 하나를 항상 동일한 확률로 낸다면 그 플레이어는 \"학습모드 상태가 아니다\"라고 표현한다.***"
   ]
  },
  {
   "cell_type": "markdown",
   "id": "15002921-e9e3-4271-ba37-08435f009661",
   "metadata": {
    "id": "15002921-e9e3-4271-ba37-08435f009661"
   },
   "source": [
    "---"
   ]
  },
  {
   "cell_type": "markdown",
   "id": "164af0f1-7649-43d8-a309-c1a3f71e5bde",
   "metadata": {
    "id": "164af0f1-7649-43d8-a309-c1a3f71e5bde"
   },
   "source": [
    "`(4)` 새로운 두명의 플레이어C와 플레이어D를 만들어라. 두 플레이어는 모두 동일하게 (가위,바위) 중 하나를 선택할 수 있다. 두 명의 플레이어는 100번째 대결까지는 두 가지 패중 하나를 랜덤하게 선택하고 101번째 대결부터 500번째 대결까지는 문제(3)의 플레이어B와 같은 방식으로 확률을 업데이트 하여 두 가지 패를 서로 다른 확률로 낸다고 하자. 즉 100번째 대결까지는 두 플레이어가 모두 학습모드 상태가 아니고 101번째부터 500번째 대결까지는 두 플레이어가 모두 학습모드 상태이다. 500번째 대결까지의 학습이 끝났을 경우 플레이어 C와 플레이어D가 각 패를 낼 확률은 각각 얼마인가? "
   ]
  },
  {
   "cell_type": "markdown",
   "id": "d5c638ca-ac78-4b35-bc64-5eb0e6de54bb",
   "metadata": {
    "id": "d5c638ca-ac78-4b35-bc64-5eb0e6de54bb"
   },
   "source": [
    "|시점|플레이어C가 (가위,바위)를 낼 확률|플레이어D가 (가위,바위)를 낼 확률|비고|\n",
    "|:-:|:-:|:-:|:-:|\n",
    "|t <= 100|  (1/2, 1/2)|  (1/2, 1/2)| 양쪽 플레이어 모두 학습모드가 아님|\n",
    "|t <= 500| 대결 데이터를 학습하여 수정한 확률| 대결 데이터를 학습하여 수정한 확률| 양쪽 플레이어 모두 학습모드임 |"
   ]
  },
  {
   "cell_type": "markdown",
   "id": "9b0bb015-af68-46bc-8d17-b48e23b16bcd",
   "metadata": {
    "id": "9b0bb015-af68-46bc-8d17-b48e23b16bcd"
   },
   "source": [
    "**hint: 시간이 지날수록 두 플레이어 모두 바위를 내는 쪽이 유리하다는 것을 알게 될 것이다.**"
   ]
  },
  {
   "cell_type": "markdown",
   "id": "37542381-a4a6-46ab-9e49-7ac2eec5c153",
   "metadata": {
    "id": "37542381-a4a6-46ab-9e49-7ac2eec5c153"
   },
   "source": [
    "`(5)` 새로운 플레이어 E와 F를 생각하자. 플레이어E와 플레이어F는 각각 (가위,바위) 그리고 (가위,보) 중 하나를 선택할 수 있다고 가정하자. 시뮬레이션 대결결과를 이용하여 아래의 확률을 근사적으로 추정하라. \n",
    "\n",
    "- 플레이어E가 승리할 확률:\n",
    "- 플레이어F가 승리할 확률:\n",
    "- 플레이어E와 플레이어F가 비길 확률: "
   ]
  },
  {
   "cell_type": "markdown",
   "id": "493bd704-c8d2-4096-975d-eaa040fe2fa9",
   "metadata": {
    "id": "493bd704-c8d2-4096-975d-eaa040fe2fa9"
   },
   "source": [
    "**hint: 플레이어E가 가위를 낸다면 최소한 지지는 않기 때문에 플레이어E가 좀 더 유리한 패를 가지고 있다. 따라서 플레이어E의 결과가 더 좋을 것이다.**"
   ]
  },
  {
   "cell_type": "markdown",
   "id": "675dd15c-6c25-4c26-a47c-302a31444cf0",
   "metadata": {
    "id": "675dd15c-6c25-4c26-a47c-302a31444cf0"
   },
   "source": [
    "`(6)` (5)와 동일한 두 명의 플레이어E, F를 생각하자. 두 플레이어는 100회까지는 랜덤으로 자신의 패를 선택한다. 그리고 101회부터 500회까지는 플레이어F만 데이터로 부터 학습을 하여 수정된 확률을 사용한다. 500번의 대결이 끝나고 플레이어F가 (가위,보)를 선택하는 확률이 어떻게 업데이트 되어있는가?"
   ]
  },
  {
   "cell_type": "markdown",
   "id": "a89b3339-debc-41ac-ad34-73d499a32c13",
   "metadata": {
    "id": "a89b3339-debc-41ac-ad34-73d499a32c13"
   },
   "source": [
    "|시점|플레이어E가 (가위,바위)를 낼 확률|플레이어F가 (가위,보)를 낼 확률|비고|\n",
    "|:-:|:-:|:-:|:-:|\n",
    "|t <= 100|  (1/2, 1/2) |  (1/2, 1/2)| 양쪽 플레이어 모두 학습모드가 아님|\n",
    "|t <= 500| (1/2, 1/2) | 데이터를 학습하여 수정한 확률 | 플레이어E는 학습모드아님 / 플레이어F는 학습모드 |"
   ]
  },
  {
   "cell_type": "markdown",
   "id": "66ac842c-42ef-4a6d-9f59-c422fa147785",
   "metadata": {
    "id": "66ac842c-42ef-4a6d-9f59-c422fa147785"
   },
   "source": [
    "**hint: 플레이어F는 보를 내는 것이 낫다고 생각할 것이다. (가위를 내면 지거나 비기지만 보를 내면 지거나 이긴다.)**"
   ]
  },
  {
   "cell_type": "markdown",
   "id": "9eec7000-7bbb-4eaf-b90a-dcd7be1095c0",
   "metadata": {
    "id": "9eec7000-7bbb-4eaf-b90a-dcd7be1095c0"
   },
   "source": [
    "`(7)` (6)번의 플레이어E와 플레이어F가 500회~1000회까지 추가로 게임을 한다. 이번에는 플레이어E만 데이터로부터 학습한다. 1000회까지 대결을 끝낸 이후 플레이어E가 (가위,바위)를 내는 확률은 어떻게 업데이트 되었는가? \n",
    "\n",
    "|시점|플레이어E가 (가위,바위)를 낼 확률|플레이어F가 (가위,보)를 낼 확률|비고|\n",
    "|:-:|:-:|:-:|:-:|\n",
    "|t <= 100|  (1/2, 1/2) |  (1/2, 1/2)| 양쪽 플레이어 모두 학습모드가 아님|\n",
    "|t <= 500| (1/2, 1/2) | 데이터를 학습하여 수정한 확률 | 플레이어E는 학습모드아님 / 플레이어F는 학습모드 |\n",
    "|t <= 1000| 데이터를 학습하여 수정한 확률 | t=500시점에 업데이트된 확률 | 플레이어E는 학습모드 / 플레이어F는 학습모드아님 |\n"
   ]
  },
  {
   "cell_type": "markdown",
   "id": "314993b9-aff2-45ba-aafc-9b3ecc48f78d",
   "metadata": {
    "id": "314993b9-aff2-45ba-aafc-9b3ecc48f78d"
   },
   "source": [
    "**hint: 플레이어F는 보를 내도록 학습되어 있다. 따라서 플레이어E가 바위를 내면 지고 가위를 내면 이길것이다. 따라서 플레이어E는 가위가 유리하다고 생각할 것이다.**"
   ]
  },
  {
   "cell_type": "markdown",
   "id": "7fcdf4c8-1921-4fd4-af9a-36207f06d7f0",
   "metadata": {
    "id": "7fcdf4c8-1921-4fd4-af9a-36207f06d7f0"
   },
   "source": [
    "`(8)` (7)번의 플레이어E와 플레이어F가 1000회~30000회까지 추가로 게임을 한다. 이번에는 플레이어F만 데이터로부터 학습한다. 30000회까지 대결을 끝낸 이후 플레이어F가 (가위,보)를 내는 확률은 어떻게 업데이트 되었는가? "
   ]
  },
  {
   "cell_type": "markdown",
   "id": "ea2685ac-ec28-4941-a78a-286747f860d6",
   "metadata": {
    "id": "ea2685ac-ec28-4941-a78a-286747f860d6"
   },
   "source": [
    "\n",
    "|시점|플레이어E가 (가위,바위)를 낼 확률|플레이어F가 (가위,보)를 낼 확률|비고|\n",
    "|:-:|:-:|:-:|:-:|\n",
    "|t <= 100|  (1/2, 1/2) |  (1/2, 1/2)| 양쪽 플레이어 모두 학습모드가 아님|\n",
    "|t <= 500| (1/2, 1/2) | 데이터를 학습하여 수정한 확률 | 플레이어E는 학습모드아님 / 플레이어F는 학습모드 |\n",
    "|t <= 1000| 데이터를 학습하여 수정한 확률 | t=500시점에 업데이트된 확률 | 플레이어E는 학습모드 / 플레이어F는 학습모드아님 |\n",
    "|t <= 30000|   t=1000시점에 업데이트된 확률 |  데이터를 학습하여 수정한 확률 |  플레이어E는 학습모드아님 / 플레이어F는 학습모드 |"
   ]
  },
  {
   "cell_type": "markdown",
   "id": "d604ce02-a491-48a7-ae6b-9c5034cbacac",
   "metadata": {
    "id": "d604ce02-a491-48a7-ae6b-9c5034cbacac"
   },
   "source": [
    "**hint: 플레이어F는 원래 보가 유리하다고 생각하여 보를 자주 내도록 학습되었다. 하지만 플레이어E가 그러한 플레이어F의 성향을 파악하고 가위를 주로 내도록 학습하였다. 플레이어F는 그러한 플레이어E의 성향을 다시 파악하여 이번에는 가위을 자주 내는 것이 유리하다고 생각할 것이다.**"
   ]
  },
  {
   "cell_type": "markdown",
   "id": "ac9b7032-1d52-40ea-a8fa-e8c3b545c806",
   "metadata": {
    "id": "ac9b7032-1d52-40ea-a8fa-e8c3b545c806"
   },
   "source": [
    "`(9)` 플레이어E와 플레이어F의 대결기록을 초기화 한다. 이번에는 플레이어F가 항상 (3/4)의 확률로 가위를 (1/4)의 확률로 보를 낸다고 가정한다. 플레이어E는 100번의 대결까지는 랜덤으로 (가위,바위)중 하나를 내고 101번째 대결부터 1000번째 대결까지는 대결 데이터를 학습하여 수정한 확률을 사용한다고 하자. 1000번째 대결이후에 플레이어E가 (가위,바위)를 내는 확률이 어떻게 업데이트 되어있는가? "
   ]
  },
  {
   "cell_type": "markdown",
   "id": "74a9c273-4e7f-46e6-b11b-7d9fd2dbdb97",
   "metadata": {
    "id": "74a9c273-4e7f-46e6-b11b-7d9fd2dbdb97"
   },
   "source": [
    "|시점|플레이어E가 (가위,바위)를 낼 확률|플레이어F가 (가위,보)를 낼 확률|비고|\n",
    "|:-:|:-:|:-:|:-:|\n",
    "|t <= 100|  (1/2, 1/2) |  (3/4, 1/4)| 양쪽 플레이어 모두 학습모드가 아님|\n",
    "|t <= 1000| 데이터를 학습하여 수정한 확률 | (3/4, 1/4) | 플레이어E는 학습모드 / 플레이어F는 학습모드 아님 |"
   ]
  },
  {
   "cell_type": "markdown",
   "id": "8ea2b638-7beb-42d4-a270-3d521606aed1",
   "metadata": {
    "id": "8ea2b638-7beb-42d4-a270-3d521606aed1"
   },
   "source": [
    "`(10)` 플레이어E와 플레이어F의 대결기록을 초기화 한다. 이번에는 플레이어F가 항상 (2/3)의 확률로 가위를 (1/3)의 확률로 보를 낸다고 가정한다. 플레이어E는 100번의 대결까지는 랜덤으로 (가위,바위)중 하나를 내고 101번째 대결부터 1000번째 대결까지는 대결 데이터를 학습하여 수정한 확률을 사용한다고 하자. 1000번째 대결이후에 플레이어E가 (가위,바위)를 내는 확률이 어떻게 업데이트 되어있는가? "
   ]
  },
  {
   "cell_type": "markdown",
   "id": "3c3e083e-5cb8-4764-87cd-63e6fef410fc",
   "metadata": {
    "id": "3c3e083e-5cb8-4764-87cd-63e6fef410fc"
   },
   "source": [
    "|시점|플레이어E가 (가위,바위)를 낼 확률|플레이어F가 (가위,보)를 낼 확률|비고|\n",
    "|:-:|:-:|:-:|:-:|\n",
    "|t <= 100|  (1/2, 1/2) |  (2/3, 1/3)| 양쪽 플레이어 모두 학습모드가 아님|\n",
    "|t <= 1000| 데이터를 학습하여 수정한 확률 | (2/3, 1/3) | 플레이어E는 학습모드 / 플레이어F는 학습모드 아님 |"
   ]
  },
  {
   "cell_type": "markdown",
   "id": "9cbea14a-ec13-4485-a864-f24820baf54b",
   "metadata": {
    "id": "9cbea14a-ec13-4485-a864-f24820baf54b"
   },
   "source": [
    "## Appendix"
   ]
  },
  {
   "cell_type": "markdown",
   "id": "88fc7afc-cba0-4bd1-8634-e5b172dee372",
   "metadata": {
    "id": "88fc7afc-cba0-4bd1-8634-e5b172dee372"
   },
   "source": [
    "`-` 아래의 클래스를 참고하여 문제1,2을 풀어라. (5월25일 강의노트에 소개된 클래스를 약간 정리한 것) \n",
    "- 참고하지 않아도 감점은 없음"
   ]
  },
  {
   "cell_type": "code",
   "execution_count": null,
   "id": "9ab98c74-1e81-4110-8234-5d5c873098d8",
   "metadata": {
    "id": "9ab98c74-1e81-4110-8234-5d5c873098d8"
   },
   "outputs": [],
   "source": [
    "class RPC:\n",
    "    def __init__(self,candidate):\n",
    "        self.candidate = candidate\n",
    "        self.actions = list() \n",
    "        self.rewards = list()\n",
    "        self.prob = [0.5,0.5]\n",
    "\n",
    "    def __eq__(self,other): # 연산 == 를 재정의 \n",
    "        return self.actions[-1] == other.actions[-1] \n",
    "        #note: 둘의 액션이 같으면 무승부 \n",
    "    \n",
    "    def __gt__(self,other): # 연산 > 를 재정의 \n",
    "        pair = self.actions[-1], other.actions[-1]\n",
    "        return pair == ('가위','보') or pair == ('바위','가위') or pair == ('보','바위') \n",
    "        #note: 가위>보, 바위>가위, 보>가위 \n",
    "    \n",
    "    def __mul__(self,other):\n",
    "        # step1: 각자의 패를 선택 \n",
    "        self.choose()\n",
    "        other.choose()\n",
    "        \n",
    "        # step2: 승패 판단 + upate reward\n",
    "        if self == other: # 무승부일경우 \n",
    "            self.rewards.append(1)\n",
    "            other.rewards.append(1)\n",
    "        elif self > other: # self의 승리 \n",
    "            self.rewards.append(2)\n",
    "            other.rewards.append(0)\n",
    "        else: # other의 승리 \n",
    "            self.rewards.append(0)\n",
    "            other.rewards.append(2)\n",
    "        \n",
    "        # step3: update data\n",
    "        self.update_data()\n",
    "        other.update_data()\n",
    "    \n",
    "    def update_data(self):\n",
    "        self.data = pd.DataFrame({'actions':self.actions, 'rewards':self.rewards})\n",
    "    \n",
    "    def _repr_html_(self):\n",
    "        html_str = \"\"\"\n",
    "        낼 수 있는 패: {} <br/> \n",
    "        데이터: <br/>\n",
    "        {}\n",
    "        \"\"\"        \n",
    "        return html_str.format(self.candidate,self.data._repr_html_())\n",
    "    \n",
    "    def choose(self):\n",
    "        self.actions.append(np.random.choice(self.candidate,p=self.prob))"
   ]
  },
  {
   "cell_type": "markdown",
   "id": "e8483930-ec2e-4b87-8741-57248b1723a8",
   "metadata": {
    "id": "e8483930-ec2e-4b87-8741-57248b1723a8"
   },
   "source": [
    "`-` 사용예시"
   ]
  },
  {
   "cell_type": "code",
   "execution_count": null,
   "id": "c9e0a8cd-3a76-46f2-9b07-85365382ca81",
   "metadata": {
    "id": "c9e0a8cd-3a76-46f2-9b07-85365382ca81"
   },
   "outputs": [],
   "source": [
    "a=RPC(['가위','가위'])\n",
    "b=RPC(['가위','보'])"
   ]
  },
  {
   "cell_type": "code",
   "execution_count": null,
   "id": "46d2d7d5-eaff-4e12-aef0-c32701f63f6a",
   "metadata": {
    "id": "46d2d7d5-eaff-4e12-aef0-c32701f63f6a"
   },
   "outputs": [],
   "source": [
    "for i in range(5):\n",
    "    a*b"
   ]
  },
  {
   "cell_type": "code",
   "execution_count": null,
   "id": "55dfcfd8-3224-4acc-9452-36233fce1f3b",
   "metadata": {
    "id": "55dfcfd8-3224-4acc-9452-36233fce1f3b",
    "outputId": "46be6345-e19b-4074-d991-b92b5511de78"
   },
   "outputs": [
    {
     "data": {
      "text/html": [
       "\n",
       "        낼 수 있는 패: ['가위', '가위'] <br/> \n",
       "        데이터: <br/>\n",
       "        <div>\n",
       "<style scoped>\n",
       "    .dataframe tbody tr th:only-of-type {\n",
       "        vertical-align: middle;\n",
       "    }\n",
       "\n",
       "    .dataframe tbody tr th {\n",
       "        vertical-align: top;\n",
       "    }\n",
       "\n",
       "    .dataframe thead th {\n",
       "        text-align: right;\n",
       "    }\n",
       "</style>\n",
       "<table border=\"1\" class=\"dataframe\">\n",
       "  <thead>\n",
       "    <tr style=\"text-align: right;\">\n",
       "      <th></th>\n",
       "      <th>actions</th>\n",
       "      <th>rewards</th>\n",
       "    </tr>\n",
       "  </thead>\n",
       "  <tbody>\n",
       "    <tr>\n",
       "      <th>0</th>\n",
       "      <td>가위</td>\n",
       "      <td>2</td>\n",
       "    </tr>\n",
       "    <tr>\n",
       "      <th>1</th>\n",
       "      <td>가위</td>\n",
       "      <td>2</td>\n",
       "    </tr>\n",
       "    <tr>\n",
       "      <th>2</th>\n",
       "      <td>가위</td>\n",
       "      <td>1</td>\n",
       "    </tr>\n",
       "    <tr>\n",
       "      <th>3</th>\n",
       "      <td>가위</td>\n",
       "      <td>2</td>\n",
       "    </tr>\n",
       "    <tr>\n",
       "      <th>4</th>\n",
       "      <td>가위</td>\n",
       "      <td>2</td>\n",
       "    </tr>\n",
       "  </tbody>\n",
       "</table>\n",
       "</div>\n",
       "        "
      ],
      "text/plain": [
       "<__main__.RPC at 0x7fa369b290c0>"
      ]
     },
     "execution_count": 12,
     "metadata": {},
     "output_type": "execute_result"
    }
   ],
   "source": [
    "a"
   ]
  },
  {
   "cell_type": "code",
   "execution_count": null,
   "id": "39c67f96-772f-44e6-ab0b-9ed410a09bce",
   "metadata": {
    "id": "39c67f96-772f-44e6-ab0b-9ed410a09bce",
    "outputId": "20c94da2-1f77-4ef3-f734-a0c14043724a"
   },
   "outputs": [
    {
     "data": {
      "text/html": [
       "\n",
       "        낼 수 있는 패: ['가위', '보'] <br/> \n",
       "        데이터: <br/>\n",
       "        <div>\n",
       "<style scoped>\n",
       "    .dataframe tbody tr th:only-of-type {\n",
       "        vertical-align: middle;\n",
       "    }\n",
       "\n",
       "    .dataframe tbody tr th {\n",
       "        vertical-align: top;\n",
       "    }\n",
       "\n",
       "    .dataframe thead th {\n",
       "        text-align: right;\n",
       "    }\n",
       "</style>\n",
       "<table border=\"1\" class=\"dataframe\">\n",
       "  <thead>\n",
       "    <tr style=\"text-align: right;\">\n",
       "      <th></th>\n",
       "      <th>actions</th>\n",
       "      <th>rewards</th>\n",
       "    </tr>\n",
       "  </thead>\n",
       "  <tbody>\n",
       "    <tr>\n",
       "      <th>0</th>\n",
       "      <td>보</td>\n",
       "      <td>0</td>\n",
       "    </tr>\n",
       "    <tr>\n",
       "      <th>1</th>\n",
       "      <td>보</td>\n",
       "      <td>0</td>\n",
       "    </tr>\n",
       "    <tr>\n",
       "      <th>2</th>\n",
       "      <td>가위</td>\n",
       "      <td>1</td>\n",
       "    </tr>\n",
       "    <tr>\n",
       "      <th>3</th>\n",
       "      <td>보</td>\n",
       "      <td>0</td>\n",
       "    </tr>\n",
       "    <tr>\n",
       "      <th>4</th>\n",
       "      <td>보</td>\n",
       "      <td>0</td>\n",
       "    </tr>\n",
       "  </tbody>\n",
       "</table>\n",
       "</div>\n",
       "        "
      ],
      "text/plain": [
       "<__main__.RPC at 0x7fa369b28eb0>"
      ]
     },
     "execution_count": 13,
     "metadata": {},
     "output_type": "execute_result"
    }
   ],
   "source": [
    "b"
   ]
  }
 ],
 "metadata": {
  "colab": {
   "name": "2022-06-13-2022년 파이썬입문 기말고사.ipynb",
   "provenance": []
  },
  "kernelspec": {
   "display_name": "Python 3 (ipykernel)",
   "language": "python",
   "name": "python3"
  },
  "language_info": {
   "codemirror_mode": {
    "name": "ipython",
    "version": 3
   },
   "file_extension": ".py",
   "mimetype": "text/x-python",
   "name": "python",
   "nbconvert_exporter": "python",
   "pygments_lexer": "ipython3",
   "version": "3.8.12"
  }
 },
 "nbformat": 4,
 "nbformat_minor": 5
}
