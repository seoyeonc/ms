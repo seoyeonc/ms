{
 "cells": [
  {
   "cell_type": "markdown",
   "id": "5fca747e-5d9f-444c-a480-76b77415edd4",
   "metadata": {
    "id": "cac470df-29e7-4148-9bbd-d8b9a32fa570",
    "tags": []
   },
   "source": [
    "# (시도) Eearthquake (2)\n",
    "> \n",
    "\n",
    "- toc:true\n",
    "- branch: master\n",
    "- badges: true\n",
    "- comments: false\n",
    "- author: 최서연, 최규빈"
   ]
  },
  {
   "cell_type": "markdown",
   "id": "572e82f3-c9ef-47f1-a3db-2b7a9f6149e8",
   "metadata": {},
   "source": [
    "### imports"
   ]
  },
  {
   "cell_type": "code",
   "execution_count": 146,
   "id": "f8630cda-e3f6-4431-8863-e89bf6d2ed4a",
   "metadata": {},
   "outputs": [],
   "source": [
    "import tqdm\n",
    "import numpy as np\n",
    "import pandas as pd\n",
    "import matplotlib.pyplot as plt \n",
    "import plotly.express as px\n",
    "import warnings\n",
    "warnings.simplefilter(\"ignore\", np.ComplexWarning)\n",
    "from haversine import haversine\n",
    "from IPython.display import HTML"
   ]
  },
  {
   "cell_type": "code",
   "execution_count": 2,
   "id": "2ac1743d-2fb3-4dea-b5e7-a58f6be03603",
   "metadata": {},
   "outputs": [],
   "source": [
    "import rpy2\n",
    "import rpy2.robjects as ro \n",
    "from rpy2.robjects.vectors import FloatVector \n",
    "from rpy2.robjects.packages import importr"
   ]
  },
  {
   "cell_type": "markdown",
   "id": "5701a39d-1112-4251-b0df-a696b1610ba0",
   "metadata": {},
   "source": [
    "### load data and clean it"
   ]
  },
  {
   "cell_type": "markdown",
   "id": "8c59d1b1-f6e5-4278-a7aa-c456085374d2",
   "metadata": {},
   "source": [
    "`-` load"
   ]
  },
  {
   "cell_type": "code",
   "execution_count": 3,
   "id": "d51071e5-5241-48a4-9a74-bf32bfe535fb",
   "metadata": {},
   "outputs": [
    {
     "data": {
      "text/html": [
       "<div>\n",
       "<style scoped>\n",
       "    .dataframe tbody tr th:only-of-type {\n",
       "        vertical-align: middle;\n",
       "    }\n",
       "\n",
       "    .dataframe tbody tr th {\n",
       "        vertical-align: top;\n",
       "    }\n",
       "\n",
       "    .dataframe thead th {\n",
       "        text-align: right;\n",
       "    }\n",
       "</style>\n",
       "<table border=\"1\" class=\"dataframe\">\n",
       "  <thead>\n",
       "    <tr style=\"text-align: right;\">\n",
       "      <th></th>\n",
       "      <th>Date</th>\n",
       "      <th>Latitude</th>\n",
       "      <th>Longitude</th>\n",
       "      <th>Magnitude</th>\n",
       "    </tr>\n",
       "  </thead>\n",
       "  <tbody>\n",
       "    <tr>\n",
       "      <th>0</th>\n",
       "      <td>01/02/1965</td>\n",
       "      <td>19.2460</td>\n",
       "      <td>145.6160</td>\n",
       "      <td>6.0</td>\n",
       "    </tr>\n",
       "    <tr>\n",
       "      <th>1</th>\n",
       "      <td>01/04/1965</td>\n",
       "      <td>1.8630</td>\n",
       "      <td>127.3520</td>\n",
       "      <td>5.8</td>\n",
       "    </tr>\n",
       "    <tr>\n",
       "      <th>2</th>\n",
       "      <td>01/05/1965</td>\n",
       "      <td>-20.5790</td>\n",
       "      <td>-173.9720</td>\n",
       "      <td>6.2</td>\n",
       "    </tr>\n",
       "    <tr>\n",
       "      <th>3</th>\n",
       "      <td>01/08/1965</td>\n",
       "      <td>-59.0760</td>\n",
       "      <td>-23.5570</td>\n",
       "      <td>5.8</td>\n",
       "    </tr>\n",
       "    <tr>\n",
       "      <th>4</th>\n",
       "      <td>01/09/1965</td>\n",
       "      <td>11.9380</td>\n",
       "      <td>126.4270</td>\n",
       "      <td>5.8</td>\n",
       "    </tr>\n",
       "    <tr>\n",
       "      <th>...</th>\n",
       "      <td>...</td>\n",
       "      <td>...</td>\n",
       "      <td>...</td>\n",
       "      <td>...</td>\n",
       "    </tr>\n",
       "    <tr>\n",
       "      <th>23407</th>\n",
       "      <td>12/28/2016</td>\n",
       "      <td>38.3917</td>\n",
       "      <td>-118.8941</td>\n",
       "      <td>5.6</td>\n",
       "    </tr>\n",
       "    <tr>\n",
       "      <th>23408</th>\n",
       "      <td>12/28/2016</td>\n",
       "      <td>38.3777</td>\n",
       "      <td>-118.8957</td>\n",
       "      <td>5.5</td>\n",
       "    </tr>\n",
       "    <tr>\n",
       "      <th>23409</th>\n",
       "      <td>12/28/2016</td>\n",
       "      <td>36.9179</td>\n",
       "      <td>140.4262</td>\n",
       "      <td>5.9</td>\n",
       "    </tr>\n",
       "    <tr>\n",
       "      <th>23410</th>\n",
       "      <td>12/29/2016</td>\n",
       "      <td>-9.0283</td>\n",
       "      <td>118.6639</td>\n",
       "      <td>6.3</td>\n",
       "    </tr>\n",
       "    <tr>\n",
       "      <th>23411</th>\n",
       "      <td>12/30/2016</td>\n",
       "      <td>37.3973</td>\n",
       "      <td>141.4103</td>\n",
       "      <td>5.5</td>\n",
       "    </tr>\n",
       "  </tbody>\n",
       "</table>\n",
       "<p>23412 rows × 4 columns</p>\n",
       "</div>"
      ],
      "text/plain": [
       "             Date  Latitude  Longitude  Magnitude\n",
       "0      01/02/1965   19.2460   145.6160        6.0\n",
       "1      01/04/1965    1.8630   127.3520        5.8\n",
       "2      01/05/1965  -20.5790  -173.9720        6.2\n",
       "3      01/08/1965  -59.0760   -23.5570        5.8\n",
       "4      01/09/1965   11.9380   126.4270        5.8\n",
       "...           ...       ...        ...        ...\n",
       "23407  12/28/2016   38.3917  -118.8941        5.6\n",
       "23408  12/28/2016   38.3777  -118.8957        5.5\n",
       "23409  12/28/2016   36.9179   140.4262        5.9\n",
       "23410  12/29/2016   -9.0283   118.6639        6.3\n",
       "23411  12/30/2016   37.3973   141.4103        5.5\n",
       "\n",
       "[23412 rows x 4 columns]"
      ]
     },
     "execution_count": 3,
     "metadata": {},
     "output_type": "execute_result"
    }
   ],
   "source": [
    "df= pd.read_csv('https://raw.githubusercontent.com/plotly/datasets/master/earthquakes-23k.csv')\n",
    "df"
   ]
  },
  {
   "cell_type": "code",
   "execution_count": 4,
   "id": "e4c4e73f-95f2-4d17-a0d9-7bc459706bfc",
   "metadata": {},
   "outputs": [],
   "source": [
    "df_korea= pd.read_csv('earthquake_korea2.csv').iloc[:,[1,2,5,6]].rename(columns={'규모':'Magnitude'})"
   ]
  },
  {
   "cell_type": "markdown",
   "id": "2bdb592f-6fbf-4916-8084-c8ddaf6c679a",
   "metadata": {},
   "source": [
    "https://www.weather.go.kr/w/eqk-vol/search/korea.do?schOption=&xls=0&startTm=2012-01-02&endTm=2022-06-17&startSize=2&endSize=&startLat=&endLat=&startLon=&endLon=&lat=&lon=&dist=&keyword=&dpType=m"
   ]
  },
  {
   "cell_type": "code",
   "execution_count": 5,
   "id": "1eeb883f-2d2d-4442-a22c-e51efbc00df5",
   "metadata": {},
   "outputs": [],
   "source": [
    "df_global= pd.concat([pd.read_csv('00_05.csv'),pd.read_csv('05_10.csv'),pd.read_csv('10_15.csv'),pd.read_csv('15_20.csv')]).iloc[:,[0,1,2,4]].rename(columns={'latitude':'Latitude','longitude':'Longitude','mag':'Magnitude'}).reset_index().iloc[:,1:]"
   ]
  },
  {
   "cell_type": "markdown",
   "id": "dc469794-7aab-49aa-b98b-ad8f7dacb8ad",
   "metadata": {},
   "source": [
    "https://www.usgs.gov/programs/earthquake-hazards/lists-maps-and-statistics"
   ]
  },
  {
   "cell_type": "markdown",
   "id": "bfa8ecef-a7d9-4fec-bd52-0963f7463d15",
   "metadata": {},
   "source": [
    "`-` cleaning"
   ]
  },
  {
   "cell_type": "code",
   "execution_count": 6,
   "id": "4bdde104-5708-4d93-9443-02be730b970b",
   "metadata": {},
   "outputs": [
    {
     "data": {
      "text/plain": [
       "3378    1975-02-23T02:58:41.000Z\n",
       "Name: Date, dtype: object"
      ]
     },
     "execution_count": 6,
     "metadata": {},
     "output_type": "execute_result"
    }
   ],
   "source": [
    "df.Date[df.Date == '1975-02-23T02:58:41.000Z']"
   ]
  },
  {
   "cell_type": "code",
   "execution_count": 7,
   "id": "f6dded53-1ee4-4516-9e3a-7ef269279818",
   "metadata": {},
   "outputs": [],
   "source": [
    "df.iloc[3378,0] = '02/03/1975'"
   ]
  },
  {
   "cell_type": "code",
   "execution_count": 8,
   "id": "098c6f68-5dce-4d4e-afa7-5c13080fca2d",
   "metadata": {},
   "outputs": [
    {
     "data": {
      "text/plain": [
       "7512    1985-04-28T02:53:41.530Z\n",
       "Name: Date, dtype: object"
      ]
     },
     "execution_count": 8,
     "metadata": {},
     "output_type": "execute_result"
    }
   ],
   "source": [
    "df.Date[df.Date == '1985-04-28T02:53:41.530Z']"
   ]
  },
  {
   "cell_type": "code",
   "execution_count": 9,
   "id": "016111d3-fe84-45e4-8e7f-5feb0ef1d100",
   "metadata": {},
   "outputs": [],
   "source": [
    "df.iloc[7512,0] = '04/28/1985'"
   ]
  },
  {
   "cell_type": "code",
   "execution_count": 10,
   "id": "9fb351b8-8d99-4934-b00f-b611a7ab8a34",
   "metadata": {},
   "outputs": [
    {
     "data": {
      "text/plain": [
       "20650    2011-03-13T02:23:34.520Z\n",
       "Name: Date, dtype: object"
      ]
     },
     "execution_count": 10,
     "metadata": {},
     "output_type": "execute_result"
    }
   ],
   "source": [
    "df.Date[df.Date == '2011-03-13T02:23:34.520Z']"
   ]
  },
  {
   "cell_type": "code",
   "execution_count": 11,
   "id": "22f313ad-ecf9-4b2b-8dad-542af76a811b",
   "metadata": {},
   "outputs": [],
   "source": [
    "df.iloc[20650,0] = '03/13/2011'"
   ]
  },
  {
   "cell_type": "code",
   "execution_count": 12,
   "id": "b9592a92-dfd4-4bbe-a194-16568d9863d6",
   "metadata": {},
   "outputs": [
    {
     "data": {
      "text/html": [
       "<div>\n",
       "<style scoped>\n",
       "    .dataframe tbody tr th:only-of-type {\n",
       "        vertical-align: middle;\n",
       "    }\n",
       "\n",
       "    .dataframe tbody tr th {\n",
       "        vertical-align: top;\n",
       "    }\n",
       "\n",
       "    .dataframe thead th {\n",
       "        text-align: right;\n",
       "    }\n",
       "</style>\n",
       "<table border=\"1\" class=\"dataframe\">\n",
       "  <thead>\n",
       "    <tr style=\"text-align: right;\">\n",
       "      <th></th>\n",
       "      <th>Latitude</th>\n",
       "      <th>Longitude</th>\n",
       "      <th>Magnitude</th>\n",
       "      <th>Year</th>\n",
       "    </tr>\n",
       "  </thead>\n",
       "  <tbody>\n",
       "    <tr>\n",
       "      <th>0</th>\n",
       "      <td>19.2460</td>\n",
       "      <td>145.6160</td>\n",
       "      <td>6.0</td>\n",
       "      <td>1965</td>\n",
       "    </tr>\n",
       "    <tr>\n",
       "      <th>1</th>\n",
       "      <td>1.8630</td>\n",
       "      <td>127.3520</td>\n",
       "      <td>5.8</td>\n",
       "      <td>1965</td>\n",
       "    </tr>\n",
       "    <tr>\n",
       "      <th>2</th>\n",
       "      <td>-20.5790</td>\n",
       "      <td>-173.9720</td>\n",
       "      <td>6.2</td>\n",
       "      <td>1965</td>\n",
       "    </tr>\n",
       "    <tr>\n",
       "      <th>3</th>\n",
       "      <td>-59.0760</td>\n",
       "      <td>-23.5570</td>\n",
       "      <td>5.8</td>\n",
       "      <td>1965</td>\n",
       "    </tr>\n",
       "    <tr>\n",
       "      <th>4</th>\n",
       "      <td>11.9380</td>\n",
       "      <td>126.4270</td>\n",
       "      <td>5.8</td>\n",
       "      <td>1965</td>\n",
       "    </tr>\n",
       "    <tr>\n",
       "      <th>...</th>\n",
       "      <td>...</td>\n",
       "      <td>...</td>\n",
       "      <td>...</td>\n",
       "      <td>...</td>\n",
       "    </tr>\n",
       "    <tr>\n",
       "      <th>23407</th>\n",
       "      <td>38.3917</td>\n",
       "      <td>-118.8941</td>\n",
       "      <td>5.6</td>\n",
       "      <td>2016</td>\n",
       "    </tr>\n",
       "    <tr>\n",
       "      <th>23408</th>\n",
       "      <td>38.3777</td>\n",
       "      <td>-118.8957</td>\n",
       "      <td>5.5</td>\n",
       "      <td>2016</td>\n",
       "    </tr>\n",
       "    <tr>\n",
       "      <th>23409</th>\n",
       "      <td>36.9179</td>\n",
       "      <td>140.4262</td>\n",
       "      <td>5.9</td>\n",
       "      <td>2016</td>\n",
       "    </tr>\n",
       "    <tr>\n",
       "      <th>23410</th>\n",
       "      <td>-9.0283</td>\n",
       "      <td>118.6639</td>\n",
       "      <td>6.3</td>\n",
       "      <td>2016</td>\n",
       "    </tr>\n",
       "    <tr>\n",
       "      <th>23411</th>\n",
       "      <td>37.3973</td>\n",
       "      <td>141.4103</td>\n",
       "      <td>5.5</td>\n",
       "      <td>2016</td>\n",
       "    </tr>\n",
       "  </tbody>\n",
       "</table>\n",
       "<p>23412 rows × 4 columns</p>\n",
       "</div>"
      ],
      "text/plain": [
       "       Latitude  Longitude  Magnitude  Year\n",
       "0       19.2460   145.6160        6.0  1965\n",
       "1        1.8630   127.3520        5.8  1965\n",
       "2      -20.5790  -173.9720        6.2  1965\n",
       "3      -59.0760   -23.5570        5.8  1965\n",
       "4       11.9380   126.4270        5.8  1965\n",
       "...         ...        ...        ...   ...\n",
       "23407   38.3917  -118.8941        5.6  2016\n",
       "23408   38.3777  -118.8957        5.5  2016\n",
       "23409   36.9179   140.4262        5.9  2016\n",
       "23410   -9.0283   118.6639        6.3  2016\n",
       "23411   37.3973   141.4103        5.5  2016\n",
       "\n",
       "[23412 rows x 4 columns]"
      ]
     },
     "execution_count": 12,
     "metadata": {},
     "output_type": "execute_result"
    }
   ],
   "source": [
    "df= df.assign(Year=list(map(lambda x: x.split('/')[-1], df.Date))).iloc[:,1:]\n",
    "df"
   ]
  },
  {
   "cell_type": "code",
   "execution_count": 13,
   "id": "ce96a2f8",
   "metadata": {},
   "outputs": [],
   "source": [
    "df.Year = df.Year.astype(np.float64)"
   ]
  },
  {
   "cell_type": "code",
   "execution_count": 14,
   "id": "56ab5b70-6750-40db-b810-7208f8b2c120",
   "metadata": {},
   "outputs": [],
   "source": [
    "df_korea = df_korea.assign(Year=list(map(lambda x: x.split('/')[0], df_korea.발생시각))).iloc[:,1:]\n",
    "df_korea = df_korea.assign(Latitude=list(map(lambda x: x.split(' ')[0], df_korea.위도))).iloc[:,[0,2,3,4]]\n",
    "df_korea = df_korea.assign(Longitude=list(map(lambda x: x.split(' ')[0], df_korea.경도))).iloc[:,[0,2,3,4]]"
   ]
  },
  {
   "cell_type": "code",
   "execution_count": 15,
   "id": "b94778c7-5ac1-4a27-af7e-4e61875b23e6",
   "metadata": {},
   "outputs": [],
   "source": [
    "df_global = df_global.assign(Year=list(map(lambda x: x.split('-')[0], df_global.time))).iloc[:,1:]"
   ]
  },
  {
   "cell_type": "code",
   "execution_count": 16,
   "id": "f53ed97d-c585-4faf-b1ac-570abbdfbb8c",
   "metadata": {},
   "outputs": [],
   "source": [
    "df_korea.Year = df_korea.Year.astype(np.float64)\n",
    "df_korea.Latitude = df_korea.Latitude.astype(np.float64)\n",
    "df_korea.Longitude = df_korea.Longitude.astype(np.float64)\n",
    "df_global.Year = df_global.Year.astype(np.float64)"
   ]
  },
  {
   "cell_type": "markdown",
   "id": "d6edbeb0-281e-41f9-b7db-da7901e30452",
   "metadata": {
    "tags": []
   },
   "source": [
    "### define class"
   ]
  },
  {
   "cell_type": "code",
   "execution_count": 186,
   "id": "2e112881-a970-4763-a5ce-0a103f335fce",
   "metadata": {},
   "outputs": [],
   "source": [
    "class MooYaHo:\n",
    "    def __init__(self,df):\n",
    "        self.df = df \n",
    "        self.f = df.Magnitude.to_numpy()\n",
    "        self.year = df.Year.to_numpy()\n",
    "        self.lat = df.Latitude.to_numpy()\n",
    "        self.long = df.Longitude.to_numpy()\n",
    "        self.n = len(self.f)\n",
    "        self.theta= None\n",
    "    def get_distance(self):\n",
    "        self.D = np.zeros([self.n,self.n])\n",
    "        locations = np.stack([self.lat, self.long],axis=1)\n",
    "        for i in tqdm.tqdm(range(self.n)):\n",
    "            for j in range(i,self.n): \n",
    "                self.D[i,j]=haversine(locations[i],locations[j])\n",
    "        self.D = self.D+self.D.T\n",
    "    def get_weightmatrix(self,theta=1,beta=0.5,kappa=4000):\n",
    "        self.theta = theta\n",
    "        dist = np.where(self.D<kappa,self.D,0)\n",
    "        self.W = np.exp(-(dist/self.theta)**2)\n",
    "\n",
    "    def _eigen(self):\n",
    "        d= self.W.sum(axis=1)\n",
    "        D= np.diag(d)\n",
    "        self.L = np.diag(1/np.sqrt(d)) @ (D-self.W) @ np.diag(1/np.sqrt(d))\n",
    "        self.lamb, self.Psi = np.linalg.eigh(self.L)\n",
    "        self.Lamb = np.diag(self.lamb)        \n",
    "    def fit(self,m):\n",
    "        self._eigen()\n",
    "        self.fhat = self.Psi[:,0:m]@self.Psi[:,0:m].T@self.f\n",
    "        self.df = self.df.assign(MagnitudeHat = self.fhat)\n",
    "        self.df = self.df.assign(Residual = self.df.Magnitude- self.df.MagnitudeHat)\n",
    "        plt.plot(self.f,'.')\n",
    "        plt.plot(self.fhat,'x')\n",
    "        \n",
    "    def vis(self,MagThresh=7,ResThresh=1):\n",
    "        fig = px.density_mapbox(self.df, \n",
    "                        lat='Latitude', \n",
    "                        lon='Longitude', \n",
    "                        z='Magnitude', \n",
    "                        radius=15,\n",
    "                        center=dict(lat=37, lon=160), \n",
    "                        zoom=1.5,\n",
    "                        height=900,\n",
    "                        opacity = 0.1,\n",
    "                        mapbox_style=\"stamen-terrain\")\n",
    "        fig.update_layout(margin={\"r\":0,\"t\":0,\"l\":0,\"b\":0})\n",
    "        fig.add_scattermapbox(lat = self.df.query('Magnitude > @MagThresh')['Latitude'],\n",
    "                      lon = self.df.query('Magnitude > @MagThresh')['Longitude'],\n",
    "                      text = self.df.query('Magnitude > @MagThresh')['Magnitude'],\n",
    "                      marker_size= 8,\n",
    "                      marker_color= 'red',\n",
    "                      opacity = 0.6\n",
    "                      )\n",
    "        fig.add_scattermapbox(lat = self.df.query('Residual**2 > @ResThresh')['Latitude'],\n",
    "                      lon = self.df.query('Residual**2 > @ResThresh')['Longitude'],\n",
    "                      text = self.df.query('Magnitude > @ResThresh')['Magnitude'],\n",
    "                      marker_size= 8,\n",
    "                      marker_color= 'blue',\n",
    "                      opacity = 0.5\n",
    "                      )\n",
    "        return HTML(fig.to_html(include_mathjax=False, config=dict({'scrollZoom':False})))\n",
    "    def visf(self):\n",
    "        fig = px.density_mapbox(self.df, \n",
    "                        lat='Latitude', \n",
    "                        lon='Longitude', \n",
    "                        z='Magnitude', \n",
    "                        radius=15,\n",
    "                        center=dict(lat=37, lon=160), \n",
    "                        zoom=1.5,\n",
    "                        height=900,\n",
    "                        opacity = 0.1,\n",
    "                        mapbox_style=\"stamen-terrain\")\n",
    "        fig.update_layout(margin={\"r\":0,\"t\":0,\"l\":0,\"b\":0})\n",
    "        return HTML(fig.to_html(include_mathjax=False, config=dict({'scrollZoom':False})))\n",
    "    def visfhat(self):\n",
    "        fig = px.density_mapbox(self.df, \n",
    "                        lat='Latitude', \n",
    "                        lon='Longitude', \n",
    "                        z='MagnitudeHat', \n",
    "                        radius=15,\n",
    "                        center=dict(lat=37, lon=160), \n",
    "                        zoom=1.5,\n",
    "                        height=900,\n",
    "                        opacity = 0.1,\n",
    "                        mapbox_style=\"stamen-terrain\")\n",
    "        fig.update_layout(margin={\"r\":0,\"t\":0,\"l\":0,\"b\":0})\n",
    "        return HTML(fig.to_html(include_mathjax=False, config=dict({'scrollZoom':False})))\n",
    "    def visres(self,MagThresh=7,ResThresh=1):\n",
    "        fig = px.scatter_mapbox(self.df, \n",
    "                        lat=self.df.query('Magnitude > @MagThresh')['Latitude'], \n",
    "                        lon=self.df.query('Magnitude > @MagThresh')['Longitude'], \n",
    "                        z=self.df.query('Magnitude > @MagThresh')['Magnitude'], \n",
    "                        radius=15,\n",
    "                        center=dict(lat=37, lon=160), \n",
    "                        zoom=1.5,\n",
    "                        height=900,\n",
    "                        opacity = 0.1,\n",
    "                        mapbox_style=\"stamen-terrain\")\n",
    "        fig.update_layout(margin={\"r\":0,\"t\":0,\"l\":0,\"b\":0})\n",
    "        return HTML(fig.to_html(include_mathjax=False, config=dict({'scrollZoom':False})))"
   ]
  },
  {
   "cell_type": "code",
   "execution_count": 280,
   "id": "e1da0ee7-2136-4089-91d8-e0cb270553f9",
   "metadata": {},
   "outputs": [],
   "source": [
    "class MooYaHo2(MooYaHo): # ebayesthresh 기능추가\n",
    "    def fit2(self,ref=0.5): # fit with ebayesthresh\n",
    "        self._eigen()\n",
    "        self.fbar = self.Psi.T @ self.f # fbar := graph fourier transform of f\n",
    "        self.power = self.fbar**2 \n",
    "        ebayesthresh = importr('EbayesThresh').ebayesthresh\n",
    "        self.power_threshed=np.array(ebayesthresh(FloatVector(self.fbar**2)))\n",
    "        self.fbar_threshed = np.where(self.power_threshed>0,self.fbar,0)\n",
    "        self.fhat = self.Psi@self.fbar_threshed\n",
    "        self.df = self.df.assign(MagnitudeHat = self.fhat)\n",
    "        self.df = self.df.assign(Residual = self.df.Magnitude- self.df.MagnitudeHat)\n",
    "        #plt.plot(self.f,'.')\n",
    "        #plt.plot(self.fhat,'x')\n",
    "        fig, axs = plt.subplots(2,2,figsize=(16,10))\n",
    "\n",
    "        axs[0,0].plot(self.f,'b')\n",
    "        axs[0,0].set_title('Magnitude')\n",
    "        axs[0,0].set_ylim([4.5,9])\n",
    "\n",
    "        axs[0,1].plot(self.fhat,'k')\n",
    "        axs[0,1].set_title('MagnitudeHat')\n",
    "        axs[0,1].set_ylim([4.5,9])\n",
    "\n",
    "        axs[1,0].plot(self.df.reset_index().Residual**2,'r*')\n",
    "        axs[1,0].set_title('Residual square')\n",
    "\n",
    "        axs[1,1].plot(self.f,'b')\n",
    "        axs[1,1].plot(self.fhat,'k')\n",
    "        axs[1,1].plot(self.df.query('self.df.reset_index().Residual**2>ref')['Magnitude'],'r*')\n",
    "        axs[1,1].set_title('Graph')\n",
    "        axs[1,1].set_ylim([4.5,9])\n",
    "\n",
    "        plt.tight_layout()\n",
    "        plt.show()"
   ]
  },
  {
   "cell_type": "code",
   "execution_count": 281,
   "id": "46dd3930-8781-4176-93f0-fd27d364236f",
   "metadata": {},
   "outputs": [],
   "source": [
    "class MooYaHo3(MooYaHo2):\n",
    "    def vis(self,MagThresh=7,ResThresh=1):\n",
    "        fig = px.density_mapbox(self.df, \n",
    "                        lat='Latitude', \n",
    "                        lon='Longitude', \n",
    "                        z='Magnitude', \n",
    "                        radius=15,\n",
    "                        center=dict(lat=37, lon=126), \n",
    "                        zoom=5.7,\n",
    "                        height=900,\n",
    "                        opacity = 0.3,\n",
    "                        mapbox_style=\"stamen-terrain\")\n",
    "        fig.update_layout(margin={\"r\":0,\"t\":0,\"l\":0,\"b\":0})\n",
    "        fig.add_scattermapbox(lat = self.df.query('Magnitude > @MagThresh')['Latitude'],\n",
    "                      lon = self.df.query('Magnitude > @MagThresh')['Longitude'],\n",
    "                      text = self.df.query('Magnitude > @MagThresh')['Magnitude'],\n",
    "                      marker_size= 8,\n",
    "                      marker_color= 'red',\n",
    "                      opacity = 0.5\n",
    "                      )\n",
    "        fig.add_scattermapbox(lat = self.df.query('Residual**2 > @ResThresh')['Latitude'],\n",
    "                      lon = self.df.query('Residual**2 > @ResThresh')['Longitude'],\n",
    "                      text = self.df.query('Magnitude > @ResThresh')['Magnitude'],\n",
    "                      marker_size= 8,\n",
    "                      marker_color= 'blue',\n",
    "                      opacity = 0.5\n",
    "                      )\n",
    "        return HTML(fig.to_html(include_mathjax=False, config=dict({'scrollZoom':False})))"
   ]
  },
  {
   "cell_type": "code",
   "execution_count": 282,
   "id": "f89312bf-1f78-41b0-8198-15c3d4554332",
   "metadata": {},
   "outputs": [],
   "source": [
    "       ebayesthresh = importr('EbayesThresh').ebayesthresh"
   ]
  },
  {
   "cell_type": "markdown",
   "id": "458df404-7869-4e9c-9146-cf212024e421",
   "metadata": {
    "tags": []
   },
   "source": [
    "### analysis_df"
   ]
  },
  {
   "cell_type": "markdown",
   "id": "82e5b3ea-4303-4a2d-b533-5aa247a0414c",
   "metadata": {},
   "source": [
    "`-` make instance for analysis"
   ]
  },
  {
   "cell_type": "code",
   "execution_count": 283,
   "id": "ec53d0b7-4270-4b5a-ace6-f887af2df5ab",
   "metadata": {},
   "outputs": [],
   "source": [
    "moo=MooYaHo2(df.query(\"Year == 2016\"))"
   ]
  },
  {
   "cell_type": "markdown",
   "id": "fae50236-cf19-44d1-bf30-1cd8cd18bd92",
   "metadata": {},
   "source": [
    "- 테스트용으로 2016년 자료만 수집"
   ]
  },
  {
   "cell_type": "markdown",
   "id": "8eeb7048-957e-4ad1-8cb2-ab7a078602ac",
   "metadata": {},
   "source": [
    "`-` get distance "
   ]
  },
  {
   "cell_type": "code",
   "execution_count": 264,
   "id": "4f99cd72",
   "metadata": {},
   "outputs": [
    {
     "name": "stderr",
     "output_type": "stream",
     "text": [
      "100%|██████████| 469/469 [00:00<00:00, 1573.00it/s]\n"
     ]
    }
   ],
   "source": [
    "moo.get_distance()"
   ]
  },
  {
   "cell_type": "code",
   "execution_count": 265,
   "id": "9a0c1bc3-a15b-404e-af6c-052890541300",
   "metadata": {},
   "outputs": [
    {
     "data": {
      "text/plain": [
       "8647.918085847994"
      ]
     },
     "execution_count": 265,
     "metadata": {},
     "output_type": "execute_result"
    }
   ],
   "source": [
    "moo.D[moo.D>0].mean()"
   ]
  },
  {
   "cell_type": "markdown",
   "id": "eb60653b-b2a8-45ce-83d2-9fd234997717",
   "metadata": {},
   "source": [
    "- 0이 아닌 거리의 평균은 8600정도?"
   ]
  },
  {
   "cell_type": "code",
   "execution_count": 266,
   "id": "516dbf95",
   "metadata": {},
   "outputs": [
    {
     "data": {
      "text/plain": [
       "(array([18438., 25088., 29216., 29204., 30978., 28712., 22932., 17002.,\n",
       "        13158.,  4764.]),\n",
       " array([3.09519959e-01, 1.99516074e+03, 3.99001197e+03, 5.98486319e+03,\n",
       "        7.97971442e+03, 9.97456564e+03, 1.19694169e+04, 1.39642681e+04,\n",
       "        1.59591193e+04, 1.79539705e+04, 1.99488218e+04]),\n",
       " <BarContainer object of 10 artists>)"
      ]
     },
     "execution_count": 266,
     "metadata": {},
     "output_type": "execute_result"
    },
    {
     "data": {
      "image/png": "[encoded data removed]",
      "text/plain": [
       "<Figure size 432x288 with 1 Axes>"
      ]
     },
     "metadata": {
      "needs_background": "light"
     },
     "output_type": "display_data"
    }
   ],
   "source": [
    "plt.hist(moo.D[moo.D>0])"
   ]
  },
  {
   "cell_type": "markdown",
   "id": "bb7b7a6c-1559-4f3d-88a0-390e01695aae",
   "metadata": {},
   "source": [
    "- 히스토그램결과 -> 2500보다 거리가 작으면 거의 같은 지역이라고 봐도 무방할듯"
   ]
  },
  {
   "cell_type": "markdown",
   "id": "15745b57-e3ef-489a-93ac-2f1b81357c18",
   "metadata": {},
   "source": [
    "`-` weight matrix"
   ]
  },
  {
   "cell_type": "code",
   "execution_count": 111,
   "id": "2c124a87-4c3c-4d42-8386-23d2b349086e",
   "metadata": {},
   "outputs": [],
   "source": [
    "moo.get_weightmatrix(theta=(8647.92),kappa=2500) "
   ]
  },
  {
   "cell_type": "markdown",
   "id": "53af4c2e-085d-4265-93c6-09818811e331",
   "metadata": {},
   "source": [
    "- 평균적으로 노드는 `np.exp(-(dist/8647)**2)=np.exp(-1)=0.36787944117144233` 정도의 연결강도를 가진다. \n",
    "- 거리가 2500이하이면 weight를 1로 설정한다. "
   ]
  },
  {
   "cell_type": "markdown",
   "id": "798802db-1490-4a44-a01c-8fa27d0dad0c",
   "metadata": {},
   "source": [
    "`-` fit"
   ]
  },
  {
   "cell_type": "code",
   "execution_count": 112,
   "id": "33b507dc-1816-4435-ac86-3ba5aba7c422",
   "metadata": {},
   "outputs": [
    {
     "data": {
      "image/png": "[encoded data removed]",
      "text/plain": [
       "<Figure size 432x288 with 1 Axes>"
      ]
     },
     "metadata": {
      "needs_background": "light"
     },
     "output_type": "display_data"
    }
   ],
   "source": [
    "moo.fit2()"
   ]
  },
  {
   "cell_type": "code",
   "execution_count": 115,
   "id": "aa9cc6cc-88e1-4347-a349-cc1983285344",
   "metadata": {},
   "outputs": [
    {
     "data": {
      "text/plain": [
       "[<matplotlib.lines.Line2D at 0x7f65ab8cb700>]"
      ]
     },
     "execution_count": 115,
     "metadata": {},
     "output_type": "execute_result"
    },
    {
     "data": {
      "image/png": "[encoded data removed]",
      "text/plain": [
       "<Figure size 432x288 with 1 Axes>"
      ]
     },
     "metadata": {
      "needs_background": "light"
     },
     "output_type": "display_data"
    }
   ],
   "source": [
    "plt.plot((moo.df.Residual)**2)"
   ]
  },
  {
   "cell_type": "markdown",
   "id": "26f32ee9-6a27-4ffe-ae08-9d712d579526",
   "metadata": {},
   "source": [
    "`-` vis"
   ]
  },
  {
   "cell_type": "code",
   "execution_count": 117,
   "id": "d636666e-439d-4728-8c7d-d2289142f9af",
   "metadata": {},
   "outputs": [],
   "source": [
    "#moo.vis(MagThresh=6,ResThresh=0.1) # <- 실행해봐요"
   ]
  },
  {
   "cell_type": "markdown",
   "id": "8bc79895-ccbd-494b-816e-326719f38e4e",
   "metadata": {},
   "source": [
    "- 전체자료는 underlying에 위치 \n",
    "- 지진강도가 MagThresh 이상인 자료는 붉은점으로 시각화함 \n",
    "- 이상치정도(우리가 제안하는 새로운 메져) ResThresh 이상인 자료는 파란점으로 시각화함 "
   ]
  },
  {
   "cell_type": "markdown",
   "id": "3f139003-e52c-4457-bc01-6182b970cd79",
   "metadata": {
    "tags": []
   },
   "source": [
    "### analysis_df_korea"
   ]
  },
  {
   "cell_type": "markdown",
   "id": "adc61812-80d0-4a28-9fbf-5718a8019a7e",
   "metadata": {},
   "source": [
    "`-` make instance for analysis"
   ]
  },
  {
   "cell_type": "code",
   "execution_count": 23,
   "id": "393502be-28d1-407d-bd99-57201ee54dab",
   "metadata": {},
   "outputs": [],
   "source": [
    "moo_korea=MooYaHo3(df_korea.query(\"Year >= 2010\"))"
   ]
  },
  {
   "cell_type": "markdown",
   "id": "f290f186-e2ca-4738-a8c7-49ecbfc3212d",
   "metadata": {},
   "source": [
    "`-` get distance "
   ]
  },
  {
   "cell_type": "code",
   "execution_count": 24,
   "id": "58b75192-2037-4c25-bf23-f6ed51b9b64b",
   "metadata": {},
   "outputs": [
    {
     "name": "stderr",
     "output_type": "stream",
     "text": [
      "100%|██████████| 1089/1089 [00:01<00:00, 689.74it/s]\n"
     ]
    }
   ],
   "source": [
    "moo_korea.get_distance()"
   ]
  },
  {
   "cell_type": "code",
   "execution_count": 25,
   "id": "9aef406d-f5ea-4396-8ff8-bbb0ec128ca4",
   "metadata": {},
   "outputs": [
    {
     "data": {
      "text/plain": [
       "280.08231084100714"
      ]
     },
     "execution_count": 25,
     "metadata": {},
     "output_type": "execute_result"
    }
   ],
   "source": [
    "moo_korea.D[moo_korea.D>0].mean()"
   ]
  },
  {
   "cell_type": "code",
   "execution_count": 26,
   "id": "f1e90d40-3415-46ec-88d3-30d2e8b9029a",
   "metadata": {},
   "outputs": [
    {
     "data": {
      "text/plain": [
       "(array([240072., 198280., 184446., 213856., 223120.,  70214.,  37058.,\n",
       "          5692.,   3788.,   4064.]),\n",
       " array([8.35112529e-01, 9.93726346e+01, 1.97910157e+02, 2.96447679e+02,\n",
       "        3.94985201e+02, 4.93522723e+02, 5.92060245e+02, 6.90597767e+02,\n",
       "        7.89135289e+02, 8.87672811e+02, 9.86210333e+02]),\n",
       " <BarContainer object of 10 artists>)"
      ]
     },
     "execution_count": 26,
     "metadata": {},
     "output_type": "execute_result"
    },
    {
     "data": {
      "image/png": "[encoded data removed]",
      "text/plain": [
       "<Figure size 432x288 with 1 Axes>"
      ]
     },
     "metadata": {
      "needs_background": "light"
     },
     "output_type": "display_data"
    }
   ],
   "source": [
    "plt.hist(moo_korea.D[moo_korea.D>0])"
   ]
  },
  {
   "cell_type": "markdown",
   "id": "9483e76b-e2d5-4248-856f-283cbf40c67a",
   "metadata": {},
   "source": [
    "`-` weight matrix"
   ]
  },
  {
   "cell_type": "code",
   "execution_count": 27,
   "id": "fee34ad6-b111-4ecc-b3c9-45d9d35b988a",
   "metadata": {},
   "outputs": [],
   "source": [
    "moo_korea.get_weightmatrix(theta=(280.08),kappa=200) "
   ]
  },
  {
   "cell_type": "markdown",
   "id": "486ffeb1-a42d-4369-8e71-0b019817315d",
   "metadata": {},
   "source": [
    "`-` fit"
   ]
  },
  {
   "cell_type": "code",
   "execution_count": 28,
   "id": "df4bed3e-e082-4fd7-a795-74a0cb3df20a",
   "metadata": {},
   "outputs": [
    {
     "data": {
      "image/png": "[encoded data removed]",
      "text/plain": [
       "<Figure size 432x288 with 1 Axes>"
      ]
     },
     "metadata": {
      "needs_background": "light"
     },
     "output_type": "display_data"
    }
   ],
   "source": [
    "moo_korea.fit2()"
   ]
  },
  {
   "cell_type": "code",
   "execution_count": null,
   "id": "a96815f7-4aad-46c5-ad1d-173e7d80ed3c",
   "metadata": {},
   "outputs": [],
   "source": [
    "moo_korea.df.query('Magnitude>5')"
   ]
  },
  {
   "cell_type": "code",
   "execution_count": null,
   "id": "314fa596-0009-4fea-a8b3-d70daf595052",
   "metadata": {},
   "outputs": [],
   "source": [
    "plt.plot((moo_korea.df.Residual)**2)"
   ]
  },
  {
   "cell_type": "markdown",
   "id": "e206a1d6-e7bf-4e92-a4f0-cf1ca9bfe096",
   "metadata": {},
   "source": [
    "`-` vis"
   ]
  },
  {
   "cell_type": "code",
   "execution_count": null,
   "id": "9615e125-19ab-4e75-b4e7-e67058cbad77",
   "metadata": {},
   "outputs": [],
   "source": [
    "#moo_korea.vis(MagThresh=5,ResThresh=0.3) # <- 실행해봐요"
   ]
  },
  {
   "cell_type": "markdown",
   "id": "ca61eb8f-0344-4704-9b02-a519865a6083",
   "metadata": {
    "tags": []
   },
   "source": [
    "### analysis_df_global(2010~2015)"
   ]
  },
  {
   "cell_type": "markdown",
   "id": "0d711324-8ff6-4df7-bbbb-b46882fd58e9",
   "metadata": {},
   "source": [
    "`-` make instance for analysis"
   ]
  },
  {
   "cell_type": "code",
   "execution_count": 284,
   "id": "1d0b9187-1e48-4557-b110-9c0cf36a819e",
   "metadata": {},
   "outputs": [],
   "source": [
    "moo_global=MooYaHo2(df_global.query(\"2010 <= Year < 2015\"))"
   ]
  },
  {
   "cell_type": "markdown",
   "id": "7552fd22-eb71-44b3-8cf9-ce37990d1c68",
   "metadata": {},
   "source": [
    "`-` get distance "
   ]
  },
  {
   "cell_type": "code",
   "execution_count": 285,
   "id": "d9a7e104-1cc8-4cab-9d7a-7c11f6852c8e",
   "metadata": {},
   "outputs": [
    {
     "name": "stderr",
     "output_type": "stream",
     "text": [
      "100%|██████████| 12498/12498 [03:23<00:00, 61.35it/s] \n"
     ]
    }
   ],
   "source": [
    "moo_global.get_distance()"
   ]
  },
  {
   "cell_type": "code",
   "execution_count": 286,
   "id": "a0e98271-e32d-4948-86be-8773273577ce",
   "metadata": {},
   "outputs": [
    {
     "data": {
      "text/plain": [
       "8810.865423093777"
      ]
     },
     "execution_count": 286,
     "metadata": {},
     "output_type": "execute_result"
    }
   ],
   "source": [
    "moo_global.D[moo_global.D>0].mean()"
   ]
  },
  {
   "cell_type": "code",
   "execution_count": 287,
   "id": "7bce867d-e21e-4329-b1e2-042c6c638d7c",
   "metadata": {},
   "outputs": [
    {
     "data": {
      "text/plain": [
       "(array([14176290., 16005894., 21186674., 22331128., 19394182., 17548252.,\n",
       "        16668048., 13316436., 12973260.,  2582550.]),\n",
       " array([8.97930163e-02, 2.00141141e+03, 4.00273303e+03, 6.00405465e+03,\n",
       "        8.00537626e+03, 1.00066979e+04, 1.20080195e+04, 1.40093411e+04,\n",
       "        1.60106627e+04, 1.80119844e+04, 2.00133060e+04]),\n",
       " <BarContainer object of 10 artists>)"
      ]
     },
     "execution_count": 287,
     "metadata": {},
     "output_type": "execute_result"
    },
    {
     "data": {
      "image/png": "[encoded data removed]",
      "text/plain": [
       "<Figure size 432x288 with 1 Axes>"
      ]
     },
     "metadata": {
      "needs_background": "light"
     },
     "output_type": "display_data"
    }
   ],
   "source": [
    "plt.hist(moo_global.D[moo_global.D>0])"
   ]
  },
  {
   "cell_type": "markdown",
   "id": "47e7e3aa-6bbc-49de-bd29-ad9ab660da00",
   "metadata": {},
   "source": [
    "`-` weight matrix"
   ]
  },
  {
   "cell_type": "code",
   "execution_count": 288,
   "id": "f45ef2ac-e190-4002-8550-1da1bd66f451",
   "metadata": {},
   "outputs": [],
   "source": [
    "moo_global.get_weightmatrix(theta=(8810.865423093777),kappa=2500) "
   ]
  },
  {
   "cell_type": "markdown",
   "id": "20a99e24-ccf7-49aa-957e-123373959e9d",
   "metadata": {},
   "source": [
    "`-` fit"
   ]
  },
  {
   "cell_type": "code",
   "execution_count": 289,
   "id": "4c08f649-09f7-4b0a-842e-dd687df0f7c4",
   "metadata": {},
   "outputs": [
    {
     "ename": "UndefinedVariableError",
     "evalue": "name 'self' is not defined",
     "output_type": "error",
     "traceback": [
      "\u001b[0;31m---------------------------------------------------------------------------\u001b[0m",
      "\u001b[0;31mKeyError\u001b[0m                                  Traceback (most recent call last)",
      "\u001b[0;32m~/anaconda3/envs/csy/lib/python3.8/site-packages/pandas/core/computation/scope.py\u001b[0m in \u001b[0;36mresolve\u001b[0;34m(self, key, is_local)\u001b[0m\n\u001b[1;32m    199\u001b[0m             \u001b[0;32mif\u001b[0m \u001b[0mself\u001b[0m\u001b[0;34m.\u001b[0m\u001b[0mhas_resolvers\u001b[0m\u001b[0;34m:\u001b[0m\u001b[0;34m\u001b[0m\u001b[0;34m\u001b[0m\u001b[0m\n\u001b[0;32m--> 200\u001b[0;31m                 \u001b[0;32mreturn\u001b[0m \u001b[0mself\u001b[0m\u001b[0;34m.\u001b[0m\u001b[0mresolvers\u001b[0m\u001b[0;34m[\u001b[0m\u001b[0mkey\u001b[0m\u001b[0;34m]\u001b[0m\u001b[0;34m\u001b[0m\u001b[0;34m\u001b[0m\u001b[0m\n\u001b[0m\u001b[1;32m    201\u001b[0m \u001b[0;34m\u001b[0m\u001b[0m\n",
      "\u001b[0;32m~/anaconda3/envs/csy/lib/python3.8/collections/__init__.py\u001b[0m in \u001b[0;36m__getitem__\u001b[0;34m(self, key)\u001b[0m\n\u001b[1;32m    897\u001b[0m                 \u001b[0;32mpass\u001b[0m\u001b[0;34m\u001b[0m\u001b[0;34m\u001b[0m\u001b[0m\n\u001b[0;32m--> 898\u001b[0;31m         \u001b[0;32mreturn\u001b[0m \u001b[0mself\u001b[0m\u001b[0;34m.\u001b[0m\u001b[0m__missing__\u001b[0m\u001b[0;34m(\u001b[0m\u001b[0mkey\u001b[0m\u001b[0;34m)\u001b[0m            \u001b[0;31m# support subclasses that define __missing__\u001b[0m\u001b[0;34m\u001b[0m\u001b[0;34m\u001b[0m\u001b[0m\n\u001b[0m\u001b[1;32m    899\u001b[0m \u001b[0;34m\u001b[0m\u001b[0m\n",
      "\u001b[0;32m~/anaconda3/envs/csy/lib/python3.8/collections/__init__.py\u001b[0m in \u001b[0;36m__missing__\u001b[0;34m(self, key)\u001b[0m\n\u001b[1;32m    889\u001b[0m     \u001b[0;32mdef\u001b[0m \u001b[0m__missing__\u001b[0m\u001b[0;34m(\u001b[0m\u001b[0mself\u001b[0m\u001b[0;34m,\u001b[0m \u001b[0mkey\u001b[0m\u001b[0;34m)\u001b[0m\u001b[0;34m:\u001b[0m\u001b[0;34m\u001b[0m\u001b[0;34m\u001b[0m\u001b[0m\n\u001b[0;32m--> 890\u001b[0;31m         \u001b[0;32mraise\u001b[0m \u001b[0mKeyError\u001b[0m\u001b[0;34m(\u001b[0m\u001b[0mkey\u001b[0m\u001b[0;34m)\u001b[0m\u001b[0;34m\u001b[0m\u001b[0;34m\u001b[0m\u001b[0m\n\u001b[0m\u001b[1;32m    891\u001b[0m \u001b[0;34m\u001b[0m\u001b[0m\n",
      "\u001b[0;31mKeyError\u001b[0m: 'self'",
      "\nDuring handling of the above exception, another exception occurred:\n",
      "\u001b[0;31mKeyError\u001b[0m                                  Traceback (most recent call last)",
      "\u001b[0;32m~/anaconda3/envs/csy/lib/python3.8/site-packages/pandas/core/computation/scope.py\u001b[0m in \u001b[0;36mresolve\u001b[0;34m(self, key, is_local)\u001b[0m\n\u001b[1;32m    210\u001b[0m                 \u001b[0;31m# e.g., df[df > 0]\u001b[0m\u001b[0;34m\u001b[0m\u001b[0;34m\u001b[0m\u001b[0;34m\u001b[0m\u001b[0m\n\u001b[0;32m--> 211\u001b[0;31m                 \u001b[0;32mreturn\u001b[0m \u001b[0mself\u001b[0m\u001b[0;34m.\u001b[0m\u001b[0mtemps\u001b[0m\u001b[0;34m[\u001b[0m\u001b[0mkey\u001b[0m\u001b[0;34m]\u001b[0m\u001b[0;34m\u001b[0m\u001b[0;34m\u001b[0m\u001b[0m\n\u001b[0m\u001b[1;32m    212\u001b[0m             \u001b[0;32mexcept\u001b[0m \u001b[0mKeyError\u001b[0m \u001b[0;32mas\u001b[0m \u001b[0merr\u001b[0m\u001b[0;34m:\u001b[0m\u001b[0;34m\u001b[0m\u001b[0;34m\u001b[0m\u001b[0m\n",
      "\u001b[0;31mKeyError\u001b[0m: 'self'",
      "\nThe above exception was the direct cause of the following exception:\n",
      "\u001b[0;31mUndefinedVariableError\u001b[0m                    Traceback (most recent call last)",
      "\u001b[0;32m/tmp/ipykernel_3708260/86163296.py\u001b[0m in \u001b[0;36m<module>\u001b[0;34m\u001b[0m\n\u001b[0;32m----> 1\u001b[0;31m \u001b[0mmoo_global\u001b[0m\u001b[0;34m.\u001b[0m\u001b[0mfit2\u001b[0m\u001b[0;34m(\u001b[0m\u001b[0;34m)\u001b[0m\u001b[0;34m\u001b[0m\u001b[0;34m\u001b[0m\u001b[0m\n\u001b[0m",
      "\u001b[0;32m/tmp/ipykernel_3708260/939953679.py\u001b[0m in \u001b[0;36mfit2\u001b[0;34m(self, ref)\u001b[0m\n\u001b[1;32m     27\u001b[0m         \u001b[0maxs\u001b[0m\u001b[0;34m[\u001b[0m\u001b[0;36m1\u001b[0m\u001b[0;34m,\u001b[0m\u001b[0;36m1\u001b[0m\u001b[0;34m]\u001b[0m\u001b[0;34m.\u001b[0m\u001b[0mplot\u001b[0m\u001b[0;34m(\u001b[0m\u001b[0mself\u001b[0m\u001b[0;34m.\u001b[0m\u001b[0mf\u001b[0m\u001b[0;34m,\u001b[0m\u001b[0;34m'b'\u001b[0m\u001b[0;34m)\u001b[0m\u001b[0;34m\u001b[0m\u001b[0;34m\u001b[0m\u001b[0m\n\u001b[1;32m     28\u001b[0m         \u001b[0maxs\u001b[0m\u001b[0;34m[\u001b[0m\u001b[0;36m1\u001b[0m\u001b[0;34m,\u001b[0m\u001b[0;36m1\u001b[0m\u001b[0;34m]\u001b[0m\u001b[0;34m.\u001b[0m\u001b[0mplot\u001b[0m\u001b[0;34m(\u001b[0m\u001b[0mself\u001b[0m\u001b[0;34m.\u001b[0m\u001b[0mfhat\u001b[0m\u001b[0;34m,\u001b[0m\u001b[0;34m'k'\u001b[0m\u001b[0;34m)\u001b[0m\u001b[0;34m\u001b[0m\u001b[0;34m\u001b[0m\u001b[0m\n\u001b[0;32m---> 29\u001b[0;31m         \u001b[0maxs\u001b[0m\u001b[0;34m[\u001b[0m\u001b[0;36m1\u001b[0m\u001b[0;34m,\u001b[0m\u001b[0;36m1\u001b[0m\u001b[0;34m]\u001b[0m\u001b[0;34m.\u001b[0m\u001b[0mplot\u001b[0m\u001b[0;34m(\u001b[0m\u001b[0mself\u001b[0m\u001b[0;34m.\u001b[0m\u001b[0mdf\u001b[0m\u001b[0;34m.\u001b[0m\u001b[0mquery\u001b[0m\u001b[0;34m(\u001b[0m\u001b[0;34m'self.df.reset_index().Residual**2>ref'\u001b[0m\u001b[0;34m)\u001b[0m\u001b[0;34m[\u001b[0m\u001b[0;34m'Magnitude'\u001b[0m\u001b[0;34m]\u001b[0m\u001b[0;34m,\u001b[0m\u001b[0;34m'r*'\u001b[0m\u001b[0;34m)\u001b[0m\u001b[0;34m\u001b[0m\u001b[0;34m\u001b[0m\u001b[0m\n\u001b[0m\u001b[1;32m     30\u001b[0m         \u001b[0maxs\u001b[0m\u001b[0;34m[\u001b[0m\u001b[0;36m1\u001b[0m\u001b[0;34m,\u001b[0m\u001b[0;36m1\u001b[0m\u001b[0;34m]\u001b[0m\u001b[0;34m.\u001b[0m\u001b[0mset_title\u001b[0m\u001b[0;34m(\u001b[0m\u001b[0;34m'Graph'\u001b[0m\u001b[0;34m)\u001b[0m\u001b[0;34m\u001b[0m\u001b[0;34m\u001b[0m\u001b[0m\n\u001b[1;32m     31\u001b[0m         \u001b[0maxs\u001b[0m\u001b[0;34m[\u001b[0m\u001b[0;36m1\u001b[0m\u001b[0;34m,\u001b[0m\u001b[0;36m1\u001b[0m\u001b[0;34m]\u001b[0m\u001b[0;34m.\u001b[0m\u001b[0mset_ylim\u001b[0m\u001b[0;34m(\u001b[0m\u001b[0;34m[\u001b[0m\u001b[0;36m4.5\u001b[0m\u001b[0;34m,\u001b[0m\u001b[0;36m9\u001b[0m\u001b[0;34m]\u001b[0m\u001b[0;34m)\u001b[0m\u001b[0;34m\u001b[0m\u001b[0;34m\u001b[0m\u001b[0m\n",
      "\u001b[0;32m~/anaconda3/envs/csy/lib/python3.8/site-packages/pandas/core/frame.py\u001b[0m in \u001b[0;36mquery\u001b[0;34m(self, expr, inplace, **kwargs)\u001b[0m\n\u001b[1;32m   4058\u001b[0m         \u001b[0mkwargs\u001b[0m\u001b[0;34m[\u001b[0m\u001b[0;34m\"level\"\u001b[0m\u001b[0;34m]\u001b[0m \u001b[0;34m=\u001b[0m \u001b[0mkwargs\u001b[0m\u001b[0;34m.\u001b[0m\u001b[0mpop\u001b[0m\u001b[0;34m(\u001b[0m\u001b[0;34m\"level\"\u001b[0m\u001b[0;34m,\u001b[0m \u001b[0;36m0\u001b[0m\u001b[0;34m)\u001b[0m \u001b[0;34m+\u001b[0m \u001b[0;36m1\u001b[0m\u001b[0;34m\u001b[0m\u001b[0;34m\u001b[0m\u001b[0m\n\u001b[1;32m   4059\u001b[0m         \u001b[0mkwargs\u001b[0m\u001b[0;34m[\u001b[0m\u001b[0;34m\"target\"\u001b[0m\u001b[0;34m]\u001b[0m \u001b[0;34m=\u001b[0m \u001b[0;32mNone\u001b[0m\u001b[0;34m\u001b[0m\u001b[0;34m\u001b[0m\u001b[0m\n\u001b[0;32m-> 4060\u001b[0;31m         \u001b[0mres\u001b[0m \u001b[0;34m=\u001b[0m \u001b[0mself\u001b[0m\u001b[0;34m.\u001b[0m\u001b[0meval\u001b[0m\u001b[0;34m(\u001b[0m\u001b[0mexpr\u001b[0m\u001b[0;34m,\u001b[0m \u001b[0;34m**\u001b[0m\u001b[0mkwargs\u001b[0m\u001b[0;34m)\u001b[0m\u001b[0;34m\u001b[0m\u001b[0;34m\u001b[0m\u001b[0m\n\u001b[0m\u001b[1;32m   4061\u001b[0m \u001b[0;34m\u001b[0m\u001b[0m\n\u001b[1;32m   4062\u001b[0m         \u001b[0;32mtry\u001b[0m\u001b[0;34m:\u001b[0m\u001b[0;34m\u001b[0m\u001b[0;34m\u001b[0m\u001b[0m\n",
      "\u001b[0;32m~/anaconda3/envs/csy/lib/python3.8/site-packages/pandas/core/frame.py\u001b[0m in \u001b[0;36meval\u001b[0;34m(self, expr, inplace, **kwargs)\u001b[0m\n\u001b[1;32m   4189\u001b[0m         \u001b[0mkwargs\u001b[0m\u001b[0;34m[\u001b[0m\u001b[0;34m\"resolvers\"\u001b[0m\u001b[0;34m]\u001b[0m \u001b[0;34m=\u001b[0m \u001b[0mkwargs\u001b[0m\u001b[0;34m.\u001b[0m\u001b[0mget\u001b[0m\u001b[0;34m(\u001b[0m\u001b[0;34m\"resolvers\"\u001b[0m\u001b[0;34m,\u001b[0m \u001b[0;34m(\u001b[0m\u001b[0;34m)\u001b[0m\u001b[0;34m)\u001b[0m \u001b[0;34m+\u001b[0m \u001b[0mtuple\u001b[0m\u001b[0;34m(\u001b[0m\u001b[0mresolvers\u001b[0m\u001b[0;34m)\u001b[0m\u001b[0;34m\u001b[0m\u001b[0;34m\u001b[0m\u001b[0m\n\u001b[1;32m   4190\u001b[0m \u001b[0;34m\u001b[0m\u001b[0m\n\u001b[0;32m-> 4191\u001b[0;31m         \u001b[0;32mreturn\u001b[0m \u001b[0m_eval\u001b[0m\u001b[0;34m(\u001b[0m\u001b[0mexpr\u001b[0m\u001b[0;34m,\u001b[0m \u001b[0minplace\u001b[0m\u001b[0;34m=\u001b[0m\u001b[0minplace\u001b[0m\u001b[0;34m,\u001b[0m \u001b[0;34m**\u001b[0m\u001b[0mkwargs\u001b[0m\u001b[0;34m)\u001b[0m\u001b[0;34m\u001b[0m\u001b[0;34m\u001b[0m\u001b[0m\n\u001b[0m\u001b[1;32m   4192\u001b[0m \u001b[0;34m\u001b[0m\u001b[0m\n\u001b[1;32m   4193\u001b[0m     \u001b[0;32mdef\u001b[0m \u001b[0mselect_dtypes\u001b[0m\u001b[0;34m(\u001b[0m\u001b[0mself\u001b[0m\u001b[0;34m,\u001b[0m \u001b[0minclude\u001b[0m\u001b[0;34m=\u001b[0m\u001b[0;32mNone\u001b[0m\u001b[0;34m,\u001b[0m \u001b[0mexclude\u001b[0m\u001b[0;34m=\u001b[0m\u001b[0;32mNone\u001b[0m\u001b[0;34m)\u001b[0m \u001b[0;34m->\u001b[0m \u001b[0mDataFrame\u001b[0m\u001b[0;34m:\u001b[0m\u001b[0;34m\u001b[0m\u001b[0;34m\u001b[0m\u001b[0m\n",
      "\u001b[0;32m~/anaconda3/envs/csy/lib/python3.8/site-packages/pandas/core/computation/eval.py\u001b[0m in \u001b[0;36meval\u001b[0;34m(expr, parser, engine, truediv, local_dict, global_dict, resolvers, level, target, inplace)\u001b[0m\n\u001b[1;32m    346\u001b[0m         )\n\u001b[1;32m    347\u001b[0m \u001b[0;34m\u001b[0m\u001b[0m\n\u001b[0;32m--> 348\u001b[0;31m         \u001b[0mparsed_expr\u001b[0m \u001b[0;34m=\u001b[0m \u001b[0mExpr\u001b[0m\u001b[0;34m(\u001b[0m\u001b[0mexpr\u001b[0m\u001b[0;34m,\u001b[0m \u001b[0mengine\u001b[0m\u001b[0;34m=\u001b[0m\u001b[0mengine\u001b[0m\u001b[0;34m,\u001b[0m \u001b[0mparser\u001b[0m\u001b[0;34m=\u001b[0m\u001b[0mparser\u001b[0m\u001b[0;34m,\u001b[0m \u001b[0menv\u001b[0m\u001b[0;34m=\u001b[0m\u001b[0menv\u001b[0m\u001b[0;34m)\u001b[0m\u001b[0;34m\u001b[0m\u001b[0;34m\u001b[0m\u001b[0m\n\u001b[0m\u001b[1;32m    349\u001b[0m \u001b[0;34m\u001b[0m\u001b[0m\n\u001b[1;32m    350\u001b[0m         \u001b[0;31m# construct the engine and evaluate the parsed expression\u001b[0m\u001b[0;34m\u001b[0m\u001b[0;34m\u001b[0m\u001b[0;34m\u001b[0m\u001b[0m\n",
      "\u001b[0;32m~/anaconda3/envs/csy/lib/python3.8/site-packages/pandas/core/computation/expr.py\u001b[0m in \u001b[0;36m__init__\u001b[0;34m(self, expr, engine, parser, env, level)\u001b[0m\n\u001b[1;32m    804\u001b[0m         \u001b[0mself\u001b[0m\u001b[0;34m.\u001b[0m\u001b[0mparser\u001b[0m \u001b[0;34m=\u001b[0m \u001b[0mparser\u001b[0m\u001b[0;34m\u001b[0m\u001b[0;34m\u001b[0m\u001b[0m\n\u001b[1;32m    805\u001b[0m         \u001b[0mself\u001b[0m\u001b[0;34m.\u001b[0m\u001b[0m_visitor\u001b[0m \u001b[0;34m=\u001b[0m \u001b[0mPARSERS\u001b[0m\u001b[0;34m[\u001b[0m\u001b[0mparser\u001b[0m\u001b[0;34m]\u001b[0m\u001b[0;34m(\u001b[0m\u001b[0mself\u001b[0m\u001b[0;34m.\u001b[0m\u001b[0menv\u001b[0m\u001b[0;34m,\u001b[0m \u001b[0mself\u001b[0m\u001b[0;34m.\u001b[0m\u001b[0mengine\u001b[0m\u001b[0;34m,\u001b[0m \u001b[0mself\u001b[0m\u001b[0;34m.\u001b[0m\u001b[0mparser\u001b[0m\u001b[0;34m)\u001b[0m\u001b[0;34m\u001b[0m\u001b[0;34m\u001b[0m\u001b[0m\n\u001b[0;32m--> 806\u001b[0;31m         \u001b[0mself\u001b[0m\u001b[0;34m.\u001b[0m\u001b[0mterms\u001b[0m \u001b[0;34m=\u001b[0m \u001b[0mself\u001b[0m\u001b[0;34m.\u001b[0m\u001b[0mparse\u001b[0m\u001b[0;34m(\u001b[0m\u001b[0;34m)\u001b[0m\u001b[0;34m\u001b[0m\u001b[0;34m\u001b[0m\u001b[0m\n\u001b[0m\u001b[1;32m    807\u001b[0m \u001b[0;34m\u001b[0m\u001b[0m\n\u001b[1;32m    808\u001b[0m     \u001b[0;34m@\u001b[0m\u001b[0mproperty\u001b[0m\u001b[0;34m\u001b[0m\u001b[0;34m\u001b[0m\u001b[0m\n",
      "\u001b[0;32m~/anaconda3/envs/csy/lib/python3.8/site-packages/pandas/core/computation/expr.py\u001b[0m in \u001b[0;36mparse\u001b[0;34m(self)\u001b[0m\n\u001b[1;32m    823\u001b[0m         \u001b[0mParse\u001b[0m \u001b[0man\u001b[0m \u001b[0mexpression\u001b[0m\u001b[0;34m.\u001b[0m\u001b[0;34m\u001b[0m\u001b[0;34m\u001b[0m\u001b[0m\n\u001b[1;32m    824\u001b[0m         \"\"\"\n\u001b[0;32m--> 825\u001b[0;31m         \u001b[0;32mreturn\u001b[0m \u001b[0mself\u001b[0m\u001b[0;34m.\u001b[0m\u001b[0m_visitor\u001b[0m\u001b[0;34m.\u001b[0m\u001b[0mvisit\u001b[0m\u001b[0;34m(\u001b[0m\u001b[0mself\u001b[0m\u001b[0;34m.\u001b[0m\u001b[0mexpr\u001b[0m\u001b[0;34m)\u001b[0m\u001b[0;34m\u001b[0m\u001b[0;34m\u001b[0m\u001b[0m\n\u001b[0m\u001b[1;32m    826\u001b[0m \u001b[0;34m\u001b[0m\u001b[0m\n\u001b[1;32m    827\u001b[0m     \u001b[0;34m@\u001b[0m\u001b[0mproperty\u001b[0m\u001b[0;34m\u001b[0m\u001b[0;34m\u001b[0m\u001b[0m\n",
      "\u001b[0;32m~/anaconda3/envs/csy/lib/python3.8/site-packages/pandas/core/computation/expr.py\u001b[0m in \u001b[0;36mvisit\u001b[0;34m(self, node, **kwargs)\u001b[0m\n\u001b[1;32m    409\u001b[0m         \u001b[0mmethod\u001b[0m \u001b[0;34m=\u001b[0m \u001b[0;34m\"visit_\"\u001b[0m \u001b[0;34m+\u001b[0m \u001b[0mtype\u001b[0m\u001b[0;34m(\u001b[0m\u001b[0mnode\u001b[0m\u001b[0;34m)\u001b[0m\u001b[0;34m.\u001b[0m\u001b[0m__name__\u001b[0m\u001b[0;34m\u001b[0m\u001b[0;34m\u001b[0m\u001b[0m\n\u001b[1;32m    410\u001b[0m         \u001b[0mvisitor\u001b[0m \u001b[0;34m=\u001b[0m \u001b[0mgetattr\u001b[0m\u001b[0;34m(\u001b[0m\u001b[0mself\u001b[0m\u001b[0;34m,\u001b[0m \u001b[0mmethod\u001b[0m\u001b[0;34m)\u001b[0m\u001b[0;34m\u001b[0m\u001b[0;34m\u001b[0m\u001b[0m\n\u001b[0;32m--> 411\u001b[0;31m         \u001b[0;32mreturn\u001b[0m \u001b[0mvisitor\u001b[0m\u001b[0;34m(\u001b[0m\u001b[0mnode\u001b[0m\u001b[0;34m,\u001b[0m \u001b[0;34m**\u001b[0m\u001b[0mkwargs\u001b[0m\u001b[0;34m)\u001b[0m\u001b[0;34m\u001b[0m\u001b[0;34m\u001b[0m\u001b[0m\n\u001b[0m\u001b[1;32m    412\u001b[0m \u001b[0;34m\u001b[0m\u001b[0m\n\u001b[1;32m    413\u001b[0m     \u001b[0;32mdef\u001b[0m \u001b[0mvisit_Module\u001b[0m\u001b[0;34m(\u001b[0m\u001b[0mself\u001b[0m\u001b[0;34m,\u001b[0m \u001b[0mnode\u001b[0m\u001b[0;34m,\u001b[0m \u001b[0;34m**\u001b[0m\u001b[0mkwargs\u001b[0m\u001b[0;34m)\u001b[0m\u001b[0;34m:\u001b[0m\u001b[0;34m\u001b[0m\u001b[0;34m\u001b[0m\u001b[0m\n",
      "\u001b[0;32m~/anaconda3/envs/csy/lib/python3.8/site-packages/pandas/core/computation/expr.py\u001b[0m in \u001b[0;36mvisit_Module\u001b[0;34m(self, node, **kwargs)\u001b[0m\n\u001b[1;32m    415\u001b[0m             \u001b[0;32mraise\u001b[0m \u001b[0mSyntaxError\u001b[0m\u001b[0;34m(\u001b[0m\u001b[0;34m\"only a single expression is allowed\"\u001b[0m\u001b[0;34m)\u001b[0m\u001b[0;34m\u001b[0m\u001b[0;34m\u001b[0m\u001b[0m\n\u001b[1;32m    416\u001b[0m         \u001b[0mexpr\u001b[0m \u001b[0;34m=\u001b[0m \u001b[0mnode\u001b[0m\u001b[0;34m.\u001b[0m\u001b[0mbody\u001b[0m\u001b[0;34m[\u001b[0m\u001b[0;36m0\u001b[0m\u001b[0;34m]\u001b[0m\u001b[0;34m\u001b[0m\u001b[0;34m\u001b[0m\u001b[0m\n\u001b[0;32m--> 417\u001b[0;31m         \u001b[0;32mreturn\u001b[0m \u001b[0mself\u001b[0m\u001b[0;34m.\u001b[0m\u001b[0mvisit\u001b[0m\u001b[0;34m(\u001b[0m\u001b[0mexpr\u001b[0m\u001b[0;34m,\u001b[0m \u001b[0;34m**\u001b[0m\u001b[0mkwargs\u001b[0m\u001b[0;34m)\u001b[0m\u001b[0;34m\u001b[0m\u001b[0;34m\u001b[0m\u001b[0m\n\u001b[0m\u001b[1;32m    418\u001b[0m \u001b[0;34m\u001b[0m\u001b[0m\n\u001b[1;32m    419\u001b[0m     \u001b[0;32mdef\u001b[0m \u001b[0mvisit_Expr\u001b[0m\u001b[0;34m(\u001b[0m\u001b[0mself\u001b[0m\u001b[0;34m,\u001b[0m \u001b[0mnode\u001b[0m\u001b[0;34m,\u001b[0m \u001b[0;34m**\u001b[0m\u001b[0mkwargs\u001b[0m\u001b[0;34m)\u001b[0m\u001b[0;34m:\u001b[0m\u001b[0;34m\u001b[0m\u001b[0;34m\u001b[0m\u001b[0m\n",
      "\u001b[0;32m~/anaconda3/envs/csy/lib/python3.8/site-packages/pandas/core/computation/expr.py\u001b[0m in \u001b[0;36mvisit\u001b[0;34m(self, node, **kwargs)\u001b[0m\n\u001b[1;32m    409\u001b[0m         \u001b[0mmethod\u001b[0m \u001b[0;34m=\u001b[0m \u001b[0;34m\"visit_\"\u001b[0m \u001b[0;34m+\u001b[0m \u001b[0mtype\u001b[0m\u001b[0;34m(\u001b[0m\u001b[0mnode\u001b[0m\u001b[0;34m)\u001b[0m\u001b[0;34m.\u001b[0m\u001b[0m__name__\u001b[0m\u001b[0;34m\u001b[0m\u001b[0;34m\u001b[0m\u001b[0m\n\u001b[1;32m    410\u001b[0m         \u001b[0mvisitor\u001b[0m \u001b[0;34m=\u001b[0m \u001b[0mgetattr\u001b[0m\u001b[0;34m(\u001b[0m\u001b[0mself\u001b[0m\u001b[0;34m,\u001b[0m \u001b[0mmethod\u001b[0m\u001b[0;34m)\u001b[0m\u001b[0;34m\u001b[0m\u001b[0;34m\u001b[0m\u001b[0m\n\u001b[0;32m--> 411\u001b[0;31m         \u001b[0;32mreturn\u001b[0m \u001b[0mvisitor\u001b[0m\u001b[0;34m(\u001b[0m\u001b[0mnode\u001b[0m\u001b[0;34m,\u001b[0m \u001b[0;34m**\u001b[0m\u001b[0mkwargs\u001b[0m\u001b[0;34m)\u001b[0m\u001b[0;34m\u001b[0m\u001b[0;34m\u001b[0m\u001b[0m\n\u001b[0m\u001b[1;32m    412\u001b[0m \u001b[0;34m\u001b[0m\u001b[0m\n\u001b[1;32m    413\u001b[0m     \u001b[0;32mdef\u001b[0m \u001b[0mvisit_Module\u001b[0m\u001b[0;34m(\u001b[0m\u001b[0mself\u001b[0m\u001b[0;34m,\u001b[0m \u001b[0mnode\u001b[0m\u001b[0;34m,\u001b[0m \u001b[0;34m**\u001b[0m\u001b[0mkwargs\u001b[0m\u001b[0;34m)\u001b[0m\u001b[0;34m:\u001b[0m\u001b[0;34m\u001b[0m\u001b[0;34m\u001b[0m\u001b[0m\n",
      "\u001b[0;32m~/anaconda3/envs/csy/lib/python3.8/site-packages/pandas/core/computation/expr.py\u001b[0m in \u001b[0;36mvisit_Expr\u001b[0;34m(self, node, **kwargs)\u001b[0m\n\u001b[1;32m    418\u001b[0m \u001b[0;34m\u001b[0m\u001b[0m\n\u001b[1;32m    419\u001b[0m     \u001b[0;32mdef\u001b[0m \u001b[0mvisit_Expr\u001b[0m\u001b[0;34m(\u001b[0m\u001b[0mself\u001b[0m\u001b[0;34m,\u001b[0m \u001b[0mnode\u001b[0m\u001b[0;34m,\u001b[0m \u001b[0;34m**\u001b[0m\u001b[0mkwargs\u001b[0m\u001b[0;34m)\u001b[0m\u001b[0;34m:\u001b[0m\u001b[0;34m\u001b[0m\u001b[0;34m\u001b[0m\u001b[0m\n\u001b[0;32m--> 420\u001b[0;31m         \u001b[0;32mreturn\u001b[0m \u001b[0mself\u001b[0m\u001b[0;34m.\u001b[0m\u001b[0mvisit\u001b[0m\u001b[0;34m(\u001b[0m\u001b[0mnode\u001b[0m\u001b[0;34m.\u001b[0m\u001b[0mvalue\u001b[0m\u001b[0;34m,\u001b[0m \u001b[0;34m**\u001b[0m\u001b[0mkwargs\u001b[0m\u001b[0;34m)\u001b[0m\u001b[0;34m\u001b[0m\u001b[0;34m\u001b[0m\u001b[0m\n\u001b[0m\u001b[1;32m    421\u001b[0m \u001b[0;34m\u001b[0m\u001b[0m\n\u001b[1;32m    422\u001b[0m     \u001b[0;32mdef\u001b[0m \u001b[0m_rewrite_membership_op\u001b[0m\u001b[0;34m(\u001b[0m\u001b[0mself\u001b[0m\u001b[0;34m,\u001b[0m \u001b[0mnode\u001b[0m\u001b[0;34m,\u001b[0m \u001b[0mleft\u001b[0m\u001b[0;34m,\u001b[0m \u001b[0mright\u001b[0m\u001b[0;34m)\u001b[0m\u001b[0;34m:\u001b[0m\u001b[0;34m\u001b[0m\u001b[0;34m\u001b[0m\u001b[0m\n",
      "\u001b[0;32m~/anaconda3/envs/csy/lib/python3.8/site-packages/pandas/core/computation/expr.py\u001b[0m in \u001b[0;36mvisit\u001b[0;34m(self, node, **kwargs)\u001b[0m\n\u001b[1;32m    409\u001b[0m         \u001b[0mmethod\u001b[0m \u001b[0;34m=\u001b[0m \u001b[0;34m\"visit_\"\u001b[0m \u001b[0;34m+\u001b[0m \u001b[0mtype\u001b[0m\u001b[0;34m(\u001b[0m\u001b[0mnode\u001b[0m\u001b[0;34m)\u001b[0m\u001b[0;34m.\u001b[0m\u001b[0m__name__\u001b[0m\u001b[0;34m\u001b[0m\u001b[0;34m\u001b[0m\u001b[0m\n\u001b[1;32m    410\u001b[0m         \u001b[0mvisitor\u001b[0m \u001b[0;34m=\u001b[0m \u001b[0mgetattr\u001b[0m\u001b[0;34m(\u001b[0m\u001b[0mself\u001b[0m\u001b[0;34m,\u001b[0m \u001b[0mmethod\u001b[0m\u001b[0;34m)\u001b[0m\u001b[0;34m\u001b[0m\u001b[0;34m\u001b[0m\u001b[0m\n\u001b[0;32m--> 411\u001b[0;31m         \u001b[0;32mreturn\u001b[0m \u001b[0mvisitor\u001b[0m\u001b[0;34m(\u001b[0m\u001b[0mnode\u001b[0m\u001b[0;34m,\u001b[0m \u001b[0;34m**\u001b[0m\u001b[0mkwargs\u001b[0m\u001b[0;34m)\u001b[0m\u001b[0;34m\u001b[0m\u001b[0;34m\u001b[0m\u001b[0m\n\u001b[0m\u001b[1;32m    412\u001b[0m \u001b[0;34m\u001b[0m\u001b[0m\n\u001b[1;32m    413\u001b[0m     \u001b[0;32mdef\u001b[0m \u001b[0mvisit_Module\u001b[0m\u001b[0;34m(\u001b[0m\u001b[0mself\u001b[0m\u001b[0;34m,\u001b[0m \u001b[0mnode\u001b[0m\u001b[0;34m,\u001b[0m \u001b[0;34m**\u001b[0m\u001b[0mkwargs\u001b[0m\u001b[0;34m)\u001b[0m\u001b[0;34m:\u001b[0m\u001b[0;34m\u001b[0m\u001b[0;34m\u001b[0m\u001b[0m\n",
      "\u001b[0;32m~/anaconda3/envs/csy/lib/python3.8/site-packages/pandas/core/computation/expr.py\u001b[0m in \u001b[0;36mvisit_Compare\u001b[0;34m(self, node, **kwargs)\u001b[0m\n\u001b[1;32m    716\u001b[0m             \u001b[0mop\u001b[0m \u001b[0;34m=\u001b[0m \u001b[0mself\u001b[0m\u001b[0;34m.\u001b[0m\u001b[0mtranslate_In\u001b[0m\u001b[0;34m(\u001b[0m\u001b[0mops\u001b[0m\u001b[0;34m[\u001b[0m\u001b[0;36m0\u001b[0m\u001b[0;34m]\u001b[0m\u001b[0;34m)\u001b[0m\u001b[0;34m\u001b[0m\u001b[0;34m\u001b[0m\u001b[0m\n\u001b[1;32m    717\u001b[0m             \u001b[0mbinop\u001b[0m \u001b[0;34m=\u001b[0m \u001b[0mast\u001b[0m\u001b[0;34m.\u001b[0m\u001b[0mBinOp\u001b[0m\u001b[0;34m(\u001b[0m\u001b[0mop\u001b[0m\u001b[0;34m=\u001b[0m\u001b[0mop\u001b[0m\u001b[0;34m,\u001b[0m \u001b[0mleft\u001b[0m\u001b[0;34m=\u001b[0m\u001b[0mnode\u001b[0m\u001b[0;34m.\u001b[0m\u001b[0mleft\u001b[0m\u001b[0;34m,\u001b[0m \u001b[0mright\u001b[0m\u001b[0;34m=\u001b[0m\u001b[0mcomps\u001b[0m\u001b[0;34m[\u001b[0m\u001b[0;36m0\u001b[0m\u001b[0;34m]\u001b[0m\u001b[0;34m)\u001b[0m\u001b[0;34m\u001b[0m\u001b[0;34m\u001b[0m\u001b[0m\n\u001b[0;32m--> 718\u001b[0;31m             \u001b[0;32mreturn\u001b[0m \u001b[0mself\u001b[0m\u001b[0;34m.\u001b[0m\u001b[0mvisit\u001b[0m\u001b[0;34m(\u001b[0m\u001b[0mbinop\u001b[0m\u001b[0;34m)\u001b[0m\u001b[0;34m\u001b[0m\u001b[0;34m\u001b[0m\u001b[0m\n\u001b[0m\u001b[1;32m    719\u001b[0m \u001b[0;34m\u001b[0m\u001b[0m\n\u001b[1;32m    720\u001b[0m         \u001b[0;31m# recursive case: we have a chained comparison, a CMP b CMP c, etc.\u001b[0m\u001b[0;34m\u001b[0m\u001b[0;34m\u001b[0m\u001b[0;34m\u001b[0m\u001b[0m\n",
      "\u001b[0;32m~/anaconda3/envs/csy/lib/python3.8/site-packages/pandas/core/computation/expr.py\u001b[0m in \u001b[0;36mvisit\u001b[0;34m(self, node, **kwargs)\u001b[0m\n\u001b[1;32m    409\u001b[0m         \u001b[0mmethod\u001b[0m \u001b[0;34m=\u001b[0m \u001b[0;34m\"visit_\"\u001b[0m \u001b[0;34m+\u001b[0m \u001b[0mtype\u001b[0m\u001b[0;34m(\u001b[0m\u001b[0mnode\u001b[0m\u001b[0;34m)\u001b[0m\u001b[0;34m.\u001b[0m\u001b[0m__name__\u001b[0m\u001b[0;34m\u001b[0m\u001b[0;34m\u001b[0m\u001b[0m\n\u001b[1;32m    410\u001b[0m         \u001b[0mvisitor\u001b[0m \u001b[0;34m=\u001b[0m \u001b[0mgetattr\u001b[0m\u001b[0;34m(\u001b[0m\u001b[0mself\u001b[0m\u001b[0;34m,\u001b[0m \u001b[0mmethod\u001b[0m\u001b[0;34m)\u001b[0m\u001b[0;34m\u001b[0m\u001b[0;34m\u001b[0m\u001b[0m\n\u001b[0;32m--> 411\u001b[0;31m         \u001b[0;32mreturn\u001b[0m \u001b[0mvisitor\u001b[0m\u001b[0;34m(\u001b[0m\u001b[0mnode\u001b[0m\u001b[0;34m,\u001b[0m \u001b[0;34m**\u001b[0m\u001b[0mkwargs\u001b[0m\u001b[0;34m)\u001b[0m\u001b[0;34m\u001b[0m\u001b[0;34m\u001b[0m\u001b[0m\n\u001b[0m\u001b[1;32m    412\u001b[0m \u001b[0;34m\u001b[0m\u001b[0m\n\u001b[1;32m    413\u001b[0m     \u001b[0;32mdef\u001b[0m \u001b[0mvisit_Module\u001b[0m\u001b[0;34m(\u001b[0m\u001b[0mself\u001b[0m\u001b[0;34m,\u001b[0m \u001b[0mnode\u001b[0m\u001b[0;34m,\u001b[0m \u001b[0;34m**\u001b[0m\u001b[0mkwargs\u001b[0m\u001b[0;34m)\u001b[0m\u001b[0;34m:\u001b[0m\u001b[0;34m\u001b[0m\u001b[0;34m\u001b[0m\u001b[0m\n",
      "\u001b[0;32m~/anaconda3/envs/csy/lib/python3.8/site-packages/pandas/core/computation/expr.py\u001b[0m in \u001b[0;36mvisit_BinOp\u001b[0;34m(self, node, **kwargs)\u001b[0m\n\u001b[1;32m    530\u001b[0m \u001b[0;34m\u001b[0m\u001b[0m\n\u001b[1;32m    531\u001b[0m     \u001b[0;32mdef\u001b[0m \u001b[0mvisit_BinOp\u001b[0m\u001b[0;34m(\u001b[0m\u001b[0mself\u001b[0m\u001b[0;34m,\u001b[0m \u001b[0mnode\u001b[0m\u001b[0;34m,\u001b[0m \u001b[0;34m**\u001b[0m\u001b[0mkwargs\u001b[0m\u001b[0;34m)\u001b[0m\u001b[0;34m:\u001b[0m\u001b[0;34m\u001b[0m\u001b[0;34m\u001b[0m\u001b[0m\n\u001b[0;32m--> 532\u001b[0;31m         \u001b[0mop\u001b[0m\u001b[0;34m,\u001b[0m \u001b[0mop_class\u001b[0m\u001b[0;34m,\u001b[0m \u001b[0mleft\u001b[0m\u001b[0;34m,\u001b[0m \u001b[0mright\u001b[0m \u001b[0;34m=\u001b[0m \u001b[0mself\u001b[0m\u001b[0;34m.\u001b[0m\u001b[0m_maybe_transform_eq_ne\u001b[0m\u001b[0;34m(\u001b[0m\u001b[0mnode\u001b[0m\u001b[0;34m)\u001b[0m\u001b[0;34m\u001b[0m\u001b[0;34m\u001b[0m\u001b[0m\n\u001b[0m\u001b[1;32m    533\u001b[0m         \u001b[0mleft\u001b[0m\u001b[0;34m,\u001b[0m \u001b[0mright\u001b[0m \u001b[0;34m=\u001b[0m \u001b[0mself\u001b[0m\u001b[0;34m.\u001b[0m\u001b[0m_maybe_downcast_constants\u001b[0m\u001b[0;34m(\u001b[0m\u001b[0mleft\u001b[0m\u001b[0;34m,\u001b[0m \u001b[0mright\u001b[0m\u001b[0;34m)\u001b[0m\u001b[0;34m\u001b[0m\u001b[0;34m\u001b[0m\u001b[0m\n\u001b[1;32m    534\u001b[0m         \u001b[0;32mreturn\u001b[0m \u001b[0mself\u001b[0m\u001b[0;34m.\u001b[0m\u001b[0m_maybe_evaluate_binop\u001b[0m\u001b[0;34m(\u001b[0m\u001b[0mop\u001b[0m\u001b[0;34m,\u001b[0m \u001b[0mop_class\u001b[0m\u001b[0;34m,\u001b[0m \u001b[0mleft\u001b[0m\u001b[0;34m,\u001b[0m \u001b[0mright\u001b[0m\u001b[0;34m)\u001b[0m\u001b[0;34m\u001b[0m\u001b[0;34m\u001b[0m\u001b[0m\n",
      "\u001b[0;32m~/anaconda3/envs/csy/lib/python3.8/site-packages/pandas/core/computation/expr.py\u001b[0m in \u001b[0;36m_maybe_transform_eq_ne\u001b[0;34m(self, node, left, right)\u001b[0m\n\u001b[1;32m    450\u001b[0m     \u001b[0;32mdef\u001b[0m \u001b[0m_maybe_transform_eq_ne\u001b[0m\u001b[0;34m(\u001b[0m\u001b[0mself\u001b[0m\u001b[0;34m,\u001b[0m \u001b[0mnode\u001b[0m\u001b[0;34m,\u001b[0m \u001b[0mleft\u001b[0m\u001b[0;34m=\u001b[0m\u001b[0;32mNone\u001b[0m\u001b[0;34m,\u001b[0m \u001b[0mright\u001b[0m\u001b[0;34m=\u001b[0m\u001b[0;32mNone\u001b[0m\u001b[0;34m)\u001b[0m\u001b[0;34m:\u001b[0m\u001b[0;34m\u001b[0m\u001b[0;34m\u001b[0m\u001b[0m\n\u001b[1;32m    451\u001b[0m         \u001b[0;32mif\u001b[0m \u001b[0mleft\u001b[0m \u001b[0;32mis\u001b[0m \u001b[0;32mNone\u001b[0m\u001b[0;34m:\u001b[0m\u001b[0;34m\u001b[0m\u001b[0;34m\u001b[0m\u001b[0m\n\u001b[0;32m--> 452\u001b[0;31m             \u001b[0mleft\u001b[0m \u001b[0;34m=\u001b[0m \u001b[0mself\u001b[0m\u001b[0;34m.\u001b[0m\u001b[0mvisit\u001b[0m\u001b[0;34m(\u001b[0m\u001b[0mnode\u001b[0m\u001b[0;34m.\u001b[0m\u001b[0mleft\u001b[0m\u001b[0;34m,\u001b[0m \u001b[0mside\u001b[0m\u001b[0;34m=\u001b[0m\u001b[0;34m\"left\"\u001b[0m\u001b[0;34m)\u001b[0m\u001b[0;34m\u001b[0m\u001b[0;34m\u001b[0m\u001b[0m\n\u001b[0m\u001b[1;32m    453\u001b[0m         \u001b[0;32mif\u001b[0m \u001b[0mright\u001b[0m \u001b[0;32mis\u001b[0m \u001b[0;32mNone\u001b[0m\u001b[0;34m:\u001b[0m\u001b[0;34m\u001b[0m\u001b[0;34m\u001b[0m\u001b[0m\n\u001b[1;32m    454\u001b[0m             \u001b[0mright\u001b[0m \u001b[0;34m=\u001b[0m \u001b[0mself\u001b[0m\u001b[0;34m.\u001b[0m\u001b[0mvisit\u001b[0m\u001b[0;34m(\u001b[0m\u001b[0mnode\u001b[0m\u001b[0;34m.\u001b[0m\u001b[0mright\u001b[0m\u001b[0;34m,\u001b[0m \u001b[0mside\u001b[0m\u001b[0;34m=\u001b[0m\u001b[0;34m\"right\"\u001b[0m\u001b[0;34m)\u001b[0m\u001b[0;34m\u001b[0m\u001b[0;34m\u001b[0m\u001b[0m\n",
      "\u001b[0;32m~/anaconda3/envs/csy/lib/python3.8/site-packages/pandas/core/computation/expr.py\u001b[0m in \u001b[0;36mvisit\u001b[0;34m(self, node, **kwargs)\u001b[0m\n\u001b[1;32m    409\u001b[0m         \u001b[0mmethod\u001b[0m \u001b[0;34m=\u001b[0m \u001b[0;34m\"visit_\"\u001b[0m \u001b[0;34m+\u001b[0m \u001b[0mtype\u001b[0m\u001b[0;34m(\u001b[0m\u001b[0mnode\u001b[0m\u001b[0;34m)\u001b[0m\u001b[0;34m.\u001b[0m\u001b[0m__name__\u001b[0m\u001b[0;34m\u001b[0m\u001b[0;34m\u001b[0m\u001b[0m\n\u001b[1;32m    410\u001b[0m         \u001b[0mvisitor\u001b[0m \u001b[0;34m=\u001b[0m \u001b[0mgetattr\u001b[0m\u001b[0;34m(\u001b[0m\u001b[0mself\u001b[0m\u001b[0;34m,\u001b[0m \u001b[0mmethod\u001b[0m\u001b[0;34m)\u001b[0m\u001b[0;34m\u001b[0m\u001b[0;34m\u001b[0m\u001b[0m\n\u001b[0;32m--> 411\u001b[0;31m         \u001b[0;32mreturn\u001b[0m \u001b[0mvisitor\u001b[0m\u001b[0;34m(\u001b[0m\u001b[0mnode\u001b[0m\u001b[0;34m,\u001b[0m \u001b[0;34m**\u001b[0m\u001b[0mkwargs\u001b[0m\u001b[0;34m)\u001b[0m\u001b[0;34m\u001b[0m\u001b[0;34m\u001b[0m\u001b[0m\n\u001b[0m\u001b[1;32m    412\u001b[0m \u001b[0;34m\u001b[0m\u001b[0m\n\u001b[1;32m    413\u001b[0m     \u001b[0;32mdef\u001b[0m \u001b[0mvisit_Module\u001b[0m\u001b[0;34m(\u001b[0m\u001b[0mself\u001b[0m\u001b[0;34m,\u001b[0m \u001b[0mnode\u001b[0m\u001b[0;34m,\u001b[0m \u001b[0;34m**\u001b[0m\u001b[0mkwargs\u001b[0m\u001b[0;34m)\u001b[0m\u001b[0;34m:\u001b[0m\u001b[0;34m\u001b[0m\u001b[0;34m\u001b[0m\u001b[0m\n",
      "\u001b[0;32m~/anaconda3/envs/csy/lib/python3.8/site-packages/pandas/core/computation/expr.py\u001b[0m in \u001b[0;36mvisit_BinOp\u001b[0;34m(self, node, **kwargs)\u001b[0m\n\u001b[1;32m    530\u001b[0m \u001b[0;34m\u001b[0m\u001b[0m\n\u001b[1;32m    531\u001b[0m     \u001b[0;32mdef\u001b[0m \u001b[0mvisit_BinOp\u001b[0m\u001b[0;34m(\u001b[0m\u001b[0mself\u001b[0m\u001b[0;34m,\u001b[0m \u001b[0mnode\u001b[0m\u001b[0;34m,\u001b[0m \u001b[0;34m**\u001b[0m\u001b[0mkwargs\u001b[0m\u001b[0;34m)\u001b[0m\u001b[0;34m:\u001b[0m\u001b[0;34m\u001b[0m\u001b[0;34m\u001b[0m\u001b[0m\n\u001b[0;32m--> 532\u001b[0;31m         \u001b[0mop\u001b[0m\u001b[0;34m,\u001b[0m \u001b[0mop_class\u001b[0m\u001b[0;34m,\u001b[0m \u001b[0mleft\u001b[0m\u001b[0;34m,\u001b[0m \u001b[0mright\u001b[0m \u001b[0;34m=\u001b[0m \u001b[0mself\u001b[0m\u001b[0;34m.\u001b[0m\u001b[0m_maybe_transform_eq_ne\u001b[0m\u001b[0;34m(\u001b[0m\u001b[0mnode\u001b[0m\u001b[0;34m)\u001b[0m\u001b[0;34m\u001b[0m\u001b[0;34m\u001b[0m\u001b[0m\n\u001b[0m\u001b[1;32m    533\u001b[0m         \u001b[0mleft\u001b[0m\u001b[0;34m,\u001b[0m \u001b[0mright\u001b[0m \u001b[0;34m=\u001b[0m \u001b[0mself\u001b[0m\u001b[0;34m.\u001b[0m\u001b[0m_maybe_downcast_constants\u001b[0m\u001b[0;34m(\u001b[0m\u001b[0mleft\u001b[0m\u001b[0;34m,\u001b[0m \u001b[0mright\u001b[0m\u001b[0;34m)\u001b[0m\u001b[0;34m\u001b[0m\u001b[0;34m\u001b[0m\u001b[0m\n\u001b[1;32m    534\u001b[0m         \u001b[0;32mreturn\u001b[0m \u001b[0mself\u001b[0m\u001b[0;34m.\u001b[0m\u001b[0m_maybe_evaluate_binop\u001b[0m\u001b[0;34m(\u001b[0m\u001b[0mop\u001b[0m\u001b[0;34m,\u001b[0m \u001b[0mop_class\u001b[0m\u001b[0;34m,\u001b[0m \u001b[0mleft\u001b[0m\u001b[0;34m,\u001b[0m \u001b[0mright\u001b[0m\u001b[0;34m)\u001b[0m\u001b[0;34m\u001b[0m\u001b[0;34m\u001b[0m\u001b[0m\n",
      "\u001b[0;32m~/anaconda3/envs/csy/lib/python3.8/site-packages/pandas/core/computation/expr.py\u001b[0m in \u001b[0;36m_maybe_transform_eq_ne\u001b[0;34m(self, node, left, right)\u001b[0m\n\u001b[1;32m    450\u001b[0m     \u001b[0;32mdef\u001b[0m \u001b[0m_maybe_transform_eq_ne\u001b[0m\u001b[0;34m(\u001b[0m\u001b[0mself\u001b[0m\u001b[0;34m,\u001b[0m \u001b[0mnode\u001b[0m\u001b[0;34m,\u001b[0m \u001b[0mleft\u001b[0m\u001b[0;34m=\u001b[0m\u001b[0;32mNone\u001b[0m\u001b[0;34m,\u001b[0m \u001b[0mright\u001b[0m\u001b[0;34m=\u001b[0m\u001b[0;32mNone\u001b[0m\u001b[0;34m)\u001b[0m\u001b[0;34m:\u001b[0m\u001b[0;34m\u001b[0m\u001b[0;34m\u001b[0m\u001b[0m\n\u001b[1;32m    451\u001b[0m         \u001b[0;32mif\u001b[0m \u001b[0mleft\u001b[0m \u001b[0;32mis\u001b[0m \u001b[0;32mNone\u001b[0m\u001b[0;34m:\u001b[0m\u001b[0;34m\u001b[0m\u001b[0;34m\u001b[0m\u001b[0m\n\u001b[0;32m--> 452\u001b[0;31m             \u001b[0mleft\u001b[0m \u001b[0;34m=\u001b[0m \u001b[0mself\u001b[0m\u001b[0;34m.\u001b[0m\u001b[0mvisit\u001b[0m\u001b[0;34m(\u001b[0m\u001b[0mnode\u001b[0m\u001b[0;34m.\u001b[0m\u001b[0mleft\u001b[0m\u001b[0;34m,\u001b[0m \u001b[0mside\u001b[0m\u001b[0;34m=\u001b[0m\u001b[0;34m\"left\"\u001b[0m\u001b[0;34m)\u001b[0m\u001b[0;34m\u001b[0m\u001b[0;34m\u001b[0m\u001b[0m\n\u001b[0m\u001b[1;32m    453\u001b[0m         \u001b[0;32mif\u001b[0m \u001b[0mright\u001b[0m \u001b[0;32mis\u001b[0m \u001b[0;32mNone\u001b[0m\u001b[0;34m:\u001b[0m\u001b[0;34m\u001b[0m\u001b[0;34m\u001b[0m\u001b[0m\n\u001b[1;32m    454\u001b[0m             \u001b[0mright\u001b[0m \u001b[0;34m=\u001b[0m \u001b[0mself\u001b[0m\u001b[0;34m.\u001b[0m\u001b[0mvisit\u001b[0m\u001b[0;34m(\u001b[0m\u001b[0mnode\u001b[0m\u001b[0;34m.\u001b[0m\u001b[0mright\u001b[0m\u001b[0;34m,\u001b[0m \u001b[0mside\u001b[0m\u001b[0;34m=\u001b[0m\u001b[0;34m\"right\"\u001b[0m\u001b[0;34m)\u001b[0m\u001b[0;34m\u001b[0m\u001b[0;34m\u001b[0m\u001b[0m\n",
      "\u001b[0;32m~/anaconda3/envs/csy/lib/python3.8/site-packages/pandas/core/computation/expr.py\u001b[0m in \u001b[0;36mvisit\u001b[0;34m(self, node, **kwargs)\u001b[0m\n\u001b[1;32m    409\u001b[0m         \u001b[0mmethod\u001b[0m \u001b[0;34m=\u001b[0m \u001b[0;34m\"visit_\"\u001b[0m \u001b[0;34m+\u001b[0m \u001b[0mtype\u001b[0m\u001b[0;34m(\u001b[0m\u001b[0mnode\u001b[0m\u001b[0;34m)\u001b[0m\u001b[0;34m.\u001b[0m\u001b[0m__name__\u001b[0m\u001b[0;34m\u001b[0m\u001b[0;34m\u001b[0m\u001b[0m\n\u001b[1;32m    410\u001b[0m         \u001b[0mvisitor\u001b[0m \u001b[0;34m=\u001b[0m \u001b[0mgetattr\u001b[0m\u001b[0;34m(\u001b[0m\u001b[0mself\u001b[0m\u001b[0;34m,\u001b[0m \u001b[0mmethod\u001b[0m\u001b[0;34m)\u001b[0m\u001b[0;34m\u001b[0m\u001b[0;34m\u001b[0m\u001b[0m\n\u001b[0;32m--> 411\u001b[0;31m         \u001b[0;32mreturn\u001b[0m \u001b[0mvisitor\u001b[0m\u001b[0;34m(\u001b[0m\u001b[0mnode\u001b[0m\u001b[0;34m,\u001b[0m \u001b[0;34m**\u001b[0m\u001b[0mkwargs\u001b[0m\u001b[0;34m)\u001b[0m\u001b[0;34m\u001b[0m\u001b[0;34m\u001b[0m\u001b[0m\n\u001b[0m\u001b[1;32m    412\u001b[0m \u001b[0;34m\u001b[0m\u001b[0m\n\u001b[1;32m    413\u001b[0m     \u001b[0;32mdef\u001b[0m \u001b[0mvisit_Module\u001b[0m\u001b[0;34m(\u001b[0m\u001b[0mself\u001b[0m\u001b[0;34m,\u001b[0m \u001b[0mnode\u001b[0m\u001b[0;34m,\u001b[0m \u001b[0;34m**\u001b[0m\u001b[0mkwargs\u001b[0m\u001b[0;34m)\u001b[0m\u001b[0;34m:\u001b[0m\u001b[0;34m\u001b[0m\u001b[0;34m\u001b[0m\u001b[0m\n",
      "\u001b[0;32m~/anaconda3/envs/csy/lib/python3.8/site-packages/pandas/core/computation/expr.py\u001b[0m in \u001b[0;36mvisit_Attribute\u001b[0;34m(self, node, **kwargs)\u001b[0m\n\u001b[1;32m    639\u001b[0m         \u001b[0;32mif\u001b[0m \u001b[0misinstance\u001b[0m\u001b[0;34m(\u001b[0m\u001b[0mctx\u001b[0m\u001b[0;34m,\u001b[0m \u001b[0mast\u001b[0m\u001b[0;34m.\u001b[0m\u001b[0mLoad\u001b[0m\u001b[0;34m)\u001b[0m\u001b[0;34m:\u001b[0m\u001b[0;34m\u001b[0m\u001b[0;34m\u001b[0m\u001b[0m\n\u001b[1;32m    640\u001b[0m             \u001b[0;31m# resolve the value\u001b[0m\u001b[0;34m\u001b[0m\u001b[0;34m\u001b[0m\u001b[0;34m\u001b[0m\u001b[0m\n\u001b[0;32m--> 641\u001b[0;31m             \u001b[0mresolved\u001b[0m \u001b[0;34m=\u001b[0m \u001b[0mself\u001b[0m\u001b[0;34m.\u001b[0m\u001b[0mvisit\u001b[0m\u001b[0;34m(\u001b[0m\u001b[0mvalue\u001b[0m\u001b[0;34m)\u001b[0m\u001b[0;34m.\u001b[0m\u001b[0mvalue\u001b[0m\u001b[0;34m\u001b[0m\u001b[0;34m\u001b[0m\u001b[0m\n\u001b[0m\u001b[1;32m    642\u001b[0m             \u001b[0;32mtry\u001b[0m\u001b[0;34m:\u001b[0m\u001b[0;34m\u001b[0m\u001b[0;34m\u001b[0m\u001b[0m\n\u001b[1;32m    643\u001b[0m                 \u001b[0mv\u001b[0m \u001b[0;34m=\u001b[0m \u001b[0mgetattr\u001b[0m\u001b[0;34m(\u001b[0m\u001b[0mresolved\u001b[0m\u001b[0;34m,\u001b[0m \u001b[0mattr\u001b[0m\u001b[0;34m)\u001b[0m\u001b[0;34m\u001b[0m\u001b[0;34m\u001b[0m\u001b[0m\n",
      "\u001b[0;32m~/anaconda3/envs/csy/lib/python3.8/site-packages/pandas/core/computation/expr.py\u001b[0m in \u001b[0;36mvisit\u001b[0;34m(self, node, **kwargs)\u001b[0m\n\u001b[1;32m    409\u001b[0m         \u001b[0mmethod\u001b[0m \u001b[0;34m=\u001b[0m \u001b[0;34m\"visit_\"\u001b[0m \u001b[0;34m+\u001b[0m \u001b[0mtype\u001b[0m\u001b[0;34m(\u001b[0m\u001b[0mnode\u001b[0m\u001b[0;34m)\u001b[0m\u001b[0;34m.\u001b[0m\u001b[0m__name__\u001b[0m\u001b[0;34m\u001b[0m\u001b[0;34m\u001b[0m\u001b[0m\n\u001b[1;32m    410\u001b[0m         \u001b[0mvisitor\u001b[0m \u001b[0;34m=\u001b[0m \u001b[0mgetattr\u001b[0m\u001b[0;34m(\u001b[0m\u001b[0mself\u001b[0m\u001b[0;34m,\u001b[0m \u001b[0mmethod\u001b[0m\u001b[0;34m)\u001b[0m\u001b[0;34m\u001b[0m\u001b[0;34m\u001b[0m\u001b[0m\n\u001b[0;32m--> 411\u001b[0;31m         \u001b[0;32mreturn\u001b[0m \u001b[0mvisitor\u001b[0m\u001b[0;34m(\u001b[0m\u001b[0mnode\u001b[0m\u001b[0;34m,\u001b[0m \u001b[0;34m**\u001b[0m\u001b[0mkwargs\u001b[0m\u001b[0;34m)\u001b[0m\u001b[0;34m\u001b[0m\u001b[0;34m\u001b[0m\u001b[0m\n\u001b[0m\u001b[1;32m    412\u001b[0m \u001b[0;34m\u001b[0m\u001b[0m\n\u001b[1;32m    413\u001b[0m     \u001b[0;32mdef\u001b[0m \u001b[0mvisit_Module\u001b[0m\u001b[0;34m(\u001b[0m\u001b[0mself\u001b[0m\u001b[0;34m,\u001b[0m \u001b[0mnode\u001b[0m\u001b[0;34m,\u001b[0m \u001b[0;34m**\u001b[0m\u001b[0mkwargs\u001b[0m\u001b[0;34m)\u001b[0m\u001b[0;34m:\u001b[0m\u001b[0;34m\u001b[0m\u001b[0;34m\u001b[0m\u001b[0m\n",
      "\u001b[0;32m~/anaconda3/envs/csy/lib/python3.8/site-packages/pandas/core/computation/expr.py\u001b[0m in \u001b[0;36mvisit_Call\u001b[0;34m(self, node, side, **kwargs)\u001b[0m\n\u001b[1;32m    655\u001b[0m \u001b[0;34m\u001b[0m\u001b[0m\n\u001b[1;32m    656\u001b[0m         \u001b[0;32mif\u001b[0m \u001b[0misinstance\u001b[0m\u001b[0;34m(\u001b[0m\u001b[0mnode\u001b[0m\u001b[0;34m.\u001b[0m\u001b[0mfunc\u001b[0m\u001b[0;34m,\u001b[0m \u001b[0mast\u001b[0m\u001b[0;34m.\u001b[0m\u001b[0mAttribute\u001b[0m\u001b[0;34m)\u001b[0m \u001b[0;32mand\u001b[0m \u001b[0mnode\u001b[0m\u001b[0;34m.\u001b[0m\u001b[0mfunc\u001b[0m\u001b[0;34m.\u001b[0m\u001b[0mattr\u001b[0m \u001b[0;34m!=\u001b[0m \u001b[0;34m\"__call__\"\u001b[0m\u001b[0;34m:\u001b[0m\u001b[0;34m\u001b[0m\u001b[0;34m\u001b[0m\u001b[0m\n\u001b[0;32m--> 657\u001b[0;31m             \u001b[0mres\u001b[0m \u001b[0;34m=\u001b[0m \u001b[0mself\u001b[0m\u001b[0;34m.\u001b[0m\u001b[0mvisit_Attribute\u001b[0m\u001b[0;34m(\u001b[0m\u001b[0mnode\u001b[0m\u001b[0;34m.\u001b[0m\u001b[0mfunc\u001b[0m\u001b[0;34m)\u001b[0m\u001b[0;34m\u001b[0m\u001b[0;34m\u001b[0m\u001b[0m\n\u001b[0m\u001b[1;32m    658\u001b[0m         \u001b[0;32melif\u001b[0m \u001b[0;32mnot\u001b[0m \u001b[0misinstance\u001b[0m\u001b[0;34m(\u001b[0m\u001b[0mnode\u001b[0m\u001b[0;34m.\u001b[0m\u001b[0mfunc\u001b[0m\u001b[0;34m,\u001b[0m \u001b[0mast\u001b[0m\u001b[0;34m.\u001b[0m\u001b[0mName\u001b[0m\u001b[0;34m)\u001b[0m\u001b[0;34m:\u001b[0m\u001b[0;34m\u001b[0m\u001b[0;34m\u001b[0m\u001b[0m\n\u001b[1;32m    659\u001b[0m             \u001b[0;32mraise\u001b[0m \u001b[0mTypeError\u001b[0m\u001b[0;34m(\u001b[0m\u001b[0;34m\"Only named functions are supported\"\u001b[0m\u001b[0;34m)\u001b[0m\u001b[0;34m\u001b[0m\u001b[0;34m\u001b[0m\u001b[0m\n",
      "\u001b[0;32m~/anaconda3/envs/csy/lib/python3.8/site-packages/pandas/core/computation/expr.py\u001b[0m in \u001b[0;36mvisit_Attribute\u001b[0;34m(self, node, **kwargs)\u001b[0m\n\u001b[1;32m    639\u001b[0m         \u001b[0;32mif\u001b[0m \u001b[0misinstance\u001b[0m\u001b[0;34m(\u001b[0m\u001b[0mctx\u001b[0m\u001b[0;34m,\u001b[0m \u001b[0mast\u001b[0m\u001b[0;34m.\u001b[0m\u001b[0mLoad\u001b[0m\u001b[0;34m)\u001b[0m\u001b[0;34m:\u001b[0m\u001b[0;34m\u001b[0m\u001b[0;34m\u001b[0m\u001b[0m\n\u001b[1;32m    640\u001b[0m             \u001b[0;31m# resolve the value\u001b[0m\u001b[0;34m\u001b[0m\u001b[0;34m\u001b[0m\u001b[0;34m\u001b[0m\u001b[0m\n\u001b[0;32m--> 641\u001b[0;31m             \u001b[0mresolved\u001b[0m \u001b[0;34m=\u001b[0m \u001b[0mself\u001b[0m\u001b[0;34m.\u001b[0m\u001b[0mvisit\u001b[0m\u001b[0;34m(\u001b[0m\u001b[0mvalue\u001b[0m\u001b[0;34m)\u001b[0m\u001b[0;34m.\u001b[0m\u001b[0mvalue\u001b[0m\u001b[0;34m\u001b[0m\u001b[0;34m\u001b[0m\u001b[0m\n\u001b[0m\u001b[1;32m    642\u001b[0m             \u001b[0;32mtry\u001b[0m\u001b[0;34m:\u001b[0m\u001b[0;34m\u001b[0m\u001b[0;34m\u001b[0m\u001b[0m\n\u001b[1;32m    643\u001b[0m                 \u001b[0mv\u001b[0m \u001b[0;34m=\u001b[0m \u001b[0mgetattr\u001b[0m\u001b[0;34m(\u001b[0m\u001b[0mresolved\u001b[0m\u001b[0;34m,\u001b[0m \u001b[0mattr\u001b[0m\u001b[0;34m)\u001b[0m\u001b[0;34m\u001b[0m\u001b[0;34m\u001b[0m\u001b[0m\n",
      "\u001b[0;32m~/anaconda3/envs/csy/lib/python3.8/site-packages/pandas/core/computation/expr.py\u001b[0m in \u001b[0;36mvisit\u001b[0;34m(self, node, **kwargs)\u001b[0m\n\u001b[1;32m    409\u001b[0m         \u001b[0mmethod\u001b[0m \u001b[0;34m=\u001b[0m \u001b[0;34m\"visit_\"\u001b[0m \u001b[0;34m+\u001b[0m \u001b[0mtype\u001b[0m\u001b[0;34m(\u001b[0m\u001b[0mnode\u001b[0m\u001b[0;34m)\u001b[0m\u001b[0;34m.\u001b[0m\u001b[0m__name__\u001b[0m\u001b[0;34m\u001b[0m\u001b[0;34m\u001b[0m\u001b[0m\n\u001b[1;32m    410\u001b[0m         \u001b[0mvisitor\u001b[0m \u001b[0;34m=\u001b[0m \u001b[0mgetattr\u001b[0m\u001b[0;34m(\u001b[0m\u001b[0mself\u001b[0m\u001b[0;34m,\u001b[0m \u001b[0mmethod\u001b[0m\u001b[0;34m)\u001b[0m\u001b[0;34m\u001b[0m\u001b[0;34m\u001b[0m\u001b[0m\n\u001b[0;32m--> 411\u001b[0;31m         \u001b[0;32mreturn\u001b[0m \u001b[0mvisitor\u001b[0m\u001b[0;34m(\u001b[0m\u001b[0mnode\u001b[0m\u001b[0;34m,\u001b[0m \u001b[0;34m**\u001b[0m\u001b[0mkwargs\u001b[0m\u001b[0;34m)\u001b[0m\u001b[0;34m\u001b[0m\u001b[0;34m\u001b[0m\u001b[0m\n\u001b[0m\u001b[1;32m    412\u001b[0m \u001b[0;34m\u001b[0m\u001b[0m\n\u001b[1;32m    413\u001b[0m     \u001b[0;32mdef\u001b[0m \u001b[0mvisit_Module\u001b[0m\u001b[0;34m(\u001b[0m\u001b[0mself\u001b[0m\u001b[0;34m,\u001b[0m \u001b[0mnode\u001b[0m\u001b[0;34m,\u001b[0m \u001b[0;34m**\u001b[0m\u001b[0mkwargs\u001b[0m\u001b[0;34m)\u001b[0m\u001b[0;34m:\u001b[0m\u001b[0;34m\u001b[0m\u001b[0;34m\u001b[0m\u001b[0m\n",
      "\u001b[0;32m~/anaconda3/envs/csy/lib/python3.8/site-packages/pandas/core/computation/expr.py\u001b[0m in \u001b[0;36mvisit_Attribute\u001b[0;34m(self, node, **kwargs)\u001b[0m\n\u001b[1;32m    639\u001b[0m         \u001b[0;32mif\u001b[0m \u001b[0misinstance\u001b[0m\u001b[0;34m(\u001b[0m\u001b[0mctx\u001b[0m\u001b[0;34m,\u001b[0m \u001b[0mast\u001b[0m\u001b[0;34m.\u001b[0m\u001b[0mLoad\u001b[0m\u001b[0;34m)\u001b[0m\u001b[0;34m:\u001b[0m\u001b[0;34m\u001b[0m\u001b[0;34m\u001b[0m\u001b[0m\n\u001b[1;32m    640\u001b[0m             \u001b[0;31m# resolve the value\u001b[0m\u001b[0;34m\u001b[0m\u001b[0;34m\u001b[0m\u001b[0;34m\u001b[0m\u001b[0m\n\u001b[0;32m--> 641\u001b[0;31m             \u001b[0mresolved\u001b[0m \u001b[0;34m=\u001b[0m \u001b[0mself\u001b[0m\u001b[0;34m.\u001b[0m\u001b[0mvisit\u001b[0m\u001b[0;34m(\u001b[0m\u001b[0mvalue\u001b[0m\u001b[0;34m)\u001b[0m\u001b[0;34m.\u001b[0m\u001b[0mvalue\u001b[0m\u001b[0;34m\u001b[0m\u001b[0;34m\u001b[0m\u001b[0m\n\u001b[0m\u001b[1;32m    642\u001b[0m             \u001b[0;32mtry\u001b[0m\u001b[0;34m:\u001b[0m\u001b[0;34m\u001b[0m\u001b[0;34m\u001b[0m\u001b[0m\n\u001b[1;32m    643\u001b[0m                 \u001b[0mv\u001b[0m \u001b[0;34m=\u001b[0m \u001b[0mgetattr\u001b[0m\u001b[0;34m(\u001b[0m\u001b[0mresolved\u001b[0m\u001b[0;34m,\u001b[0m \u001b[0mattr\u001b[0m\u001b[0;34m)\u001b[0m\u001b[0;34m\u001b[0m\u001b[0;34m\u001b[0m\u001b[0m\n",
      "\u001b[0;32m~/anaconda3/envs/csy/lib/python3.8/site-packages/pandas/core/computation/expr.py\u001b[0m in \u001b[0;36mvisit\u001b[0;34m(self, node, **kwargs)\u001b[0m\n\u001b[1;32m    409\u001b[0m         \u001b[0mmethod\u001b[0m \u001b[0;34m=\u001b[0m \u001b[0;34m\"visit_\"\u001b[0m \u001b[0;34m+\u001b[0m \u001b[0mtype\u001b[0m\u001b[0;34m(\u001b[0m\u001b[0mnode\u001b[0m\u001b[0;34m)\u001b[0m\u001b[0;34m.\u001b[0m\u001b[0m__name__\u001b[0m\u001b[0;34m\u001b[0m\u001b[0;34m\u001b[0m\u001b[0m\n\u001b[1;32m    410\u001b[0m         \u001b[0mvisitor\u001b[0m \u001b[0;34m=\u001b[0m \u001b[0mgetattr\u001b[0m\u001b[0;34m(\u001b[0m\u001b[0mself\u001b[0m\u001b[0;34m,\u001b[0m \u001b[0mmethod\u001b[0m\u001b[0;34m)\u001b[0m\u001b[0;34m\u001b[0m\u001b[0;34m\u001b[0m\u001b[0m\n\u001b[0;32m--> 411\u001b[0;31m         \u001b[0;32mreturn\u001b[0m \u001b[0mvisitor\u001b[0m\u001b[0;34m(\u001b[0m\u001b[0mnode\u001b[0m\u001b[0;34m,\u001b[0m \u001b[0;34m**\u001b[0m\u001b[0mkwargs\u001b[0m\u001b[0;34m)\u001b[0m\u001b[0;34m\u001b[0m\u001b[0;34m\u001b[0m\u001b[0m\n\u001b[0m\u001b[1;32m    412\u001b[0m \u001b[0;34m\u001b[0m\u001b[0m\n\u001b[1;32m    413\u001b[0m     \u001b[0;32mdef\u001b[0m \u001b[0mvisit_Module\u001b[0m\u001b[0;34m(\u001b[0m\u001b[0mself\u001b[0m\u001b[0;34m,\u001b[0m \u001b[0mnode\u001b[0m\u001b[0;34m,\u001b[0m \u001b[0;34m**\u001b[0m\u001b[0mkwargs\u001b[0m\u001b[0;34m)\u001b[0m\u001b[0;34m:\u001b[0m\u001b[0;34m\u001b[0m\u001b[0;34m\u001b[0m\u001b[0m\n",
      "\u001b[0;32m~/anaconda3/envs/csy/lib/python3.8/site-packages/pandas/core/computation/expr.py\u001b[0m in \u001b[0;36mvisit_Name\u001b[0;34m(self, node, **kwargs)\u001b[0m\n\u001b[1;32m    543\u001b[0m \u001b[0;34m\u001b[0m\u001b[0m\n\u001b[1;32m    544\u001b[0m     \u001b[0;32mdef\u001b[0m \u001b[0mvisit_Name\u001b[0m\u001b[0;34m(\u001b[0m\u001b[0mself\u001b[0m\u001b[0;34m,\u001b[0m \u001b[0mnode\u001b[0m\u001b[0;34m,\u001b[0m \u001b[0;34m**\u001b[0m\u001b[0mkwargs\u001b[0m\u001b[0;34m)\u001b[0m\u001b[0;34m:\u001b[0m\u001b[0;34m\u001b[0m\u001b[0;34m\u001b[0m\u001b[0m\n\u001b[0;32m--> 545\u001b[0;31m         \u001b[0;32mreturn\u001b[0m \u001b[0mself\u001b[0m\u001b[0;34m.\u001b[0m\u001b[0mterm_type\u001b[0m\u001b[0;34m(\u001b[0m\u001b[0mnode\u001b[0m\u001b[0;34m.\u001b[0m\u001b[0mid\u001b[0m\u001b[0;34m,\u001b[0m \u001b[0mself\u001b[0m\u001b[0;34m.\u001b[0m\u001b[0menv\u001b[0m\u001b[0;34m,\u001b[0m \u001b[0;34m**\u001b[0m\u001b[0mkwargs\u001b[0m\u001b[0;34m)\u001b[0m\u001b[0;34m\u001b[0m\u001b[0;34m\u001b[0m\u001b[0m\n\u001b[0m\u001b[1;32m    546\u001b[0m \u001b[0;34m\u001b[0m\u001b[0m\n\u001b[1;32m    547\u001b[0m     \u001b[0;32mdef\u001b[0m \u001b[0mvisit_NameConstant\u001b[0m\u001b[0;34m(\u001b[0m\u001b[0mself\u001b[0m\u001b[0;34m,\u001b[0m \u001b[0mnode\u001b[0m\u001b[0;34m,\u001b[0m \u001b[0;34m**\u001b[0m\u001b[0mkwargs\u001b[0m\u001b[0;34m)\u001b[0m\u001b[0;34m:\u001b[0m\u001b[0;34m\u001b[0m\u001b[0;34m\u001b[0m\u001b[0m\n",
      "\u001b[0;32m~/anaconda3/envs/csy/lib/python3.8/site-packages/pandas/core/computation/ops.py\u001b[0m in \u001b[0;36m__init__\u001b[0;34m(self, name, env, side, encoding)\u001b[0m\n\u001b[1;32m     96\u001b[0m         \u001b[0mtname\u001b[0m \u001b[0;34m=\u001b[0m \u001b[0mstr\u001b[0m\u001b[0;34m(\u001b[0m\u001b[0mname\u001b[0m\u001b[0;34m)\u001b[0m\u001b[0;34m\u001b[0m\u001b[0;34m\u001b[0m\u001b[0m\n\u001b[1;32m     97\u001b[0m         \u001b[0mself\u001b[0m\u001b[0;34m.\u001b[0m\u001b[0mis_local\u001b[0m \u001b[0;34m=\u001b[0m \u001b[0mtname\u001b[0m\u001b[0;34m.\u001b[0m\u001b[0mstartswith\u001b[0m\u001b[0;34m(\u001b[0m\u001b[0mLOCAL_TAG\u001b[0m\u001b[0;34m)\u001b[0m \u001b[0;32mor\u001b[0m \u001b[0mtname\u001b[0m \u001b[0;32min\u001b[0m \u001b[0mDEFAULT_GLOBALS\u001b[0m\u001b[0;34m\u001b[0m\u001b[0;34m\u001b[0m\u001b[0m\n\u001b[0;32m---> 98\u001b[0;31m         \u001b[0mself\u001b[0m\u001b[0;34m.\u001b[0m\u001b[0m_value\u001b[0m \u001b[0;34m=\u001b[0m \u001b[0mself\u001b[0m\u001b[0;34m.\u001b[0m\u001b[0m_resolve_name\u001b[0m\u001b[0;34m(\u001b[0m\u001b[0;34m)\u001b[0m\u001b[0;34m\u001b[0m\u001b[0;34m\u001b[0m\u001b[0m\n\u001b[0m\u001b[1;32m     99\u001b[0m         \u001b[0mself\u001b[0m\u001b[0;34m.\u001b[0m\u001b[0mencoding\u001b[0m \u001b[0;34m=\u001b[0m \u001b[0mencoding\u001b[0m\u001b[0;34m\u001b[0m\u001b[0;34m\u001b[0m\u001b[0m\n\u001b[1;32m    100\u001b[0m \u001b[0;34m\u001b[0m\u001b[0m\n",
      "\u001b[0;32m~/anaconda3/envs/csy/lib/python3.8/site-packages/pandas/core/computation/ops.py\u001b[0m in \u001b[0;36m_resolve_name\u001b[0;34m(self)\u001b[0m\n\u001b[1;32m    113\u001b[0m \u001b[0;34m\u001b[0m\u001b[0m\n\u001b[1;32m    114\u001b[0m     \u001b[0;32mdef\u001b[0m \u001b[0m_resolve_name\u001b[0m\u001b[0;34m(\u001b[0m\u001b[0mself\u001b[0m\u001b[0;34m)\u001b[0m\u001b[0;34m:\u001b[0m\u001b[0;34m\u001b[0m\u001b[0;34m\u001b[0m\u001b[0m\n\u001b[0;32m--> 115\u001b[0;31m         \u001b[0mres\u001b[0m \u001b[0;34m=\u001b[0m \u001b[0mself\u001b[0m\u001b[0;34m.\u001b[0m\u001b[0menv\u001b[0m\u001b[0;34m.\u001b[0m\u001b[0mresolve\u001b[0m\u001b[0;34m(\u001b[0m\u001b[0mself\u001b[0m\u001b[0;34m.\u001b[0m\u001b[0mlocal_name\u001b[0m\u001b[0;34m,\u001b[0m \u001b[0mis_local\u001b[0m\u001b[0;34m=\u001b[0m\u001b[0mself\u001b[0m\u001b[0;34m.\u001b[0m\u001b[0mis_local\u001b[0m\u001b[0;34m)\u001b[0m\u001b[0;34m\u001b[0m\u001b[0;34m\u001b[0m\u001b[0m\n\u001b[0m\u001b[1;32m    116\u001b[0m         \u001b[0mself\u001b[0m\u001b[0;34m.\u001b[0m\u001b[0mupdate\u001b[0m\u001b[0;34m(\u001b[0m\u001b[0mres\u001b[0m\u001b[0;34m)\u001b[0m\u001b[0;34m\u001b[0m\u001b[0;34m\u001b[0m\u001b[0m\n\u001b[1;32m    117\u001b[0m \u001b[0;34m\u001b[0m\u001b[0m\n",
      "\u001b[0;32m~/anaconda3/envs/csy/lib/python3.8/site-packages/pandas/core/computation/scope.py\u001b[0m in \u001b[0;36mresolve\u001b[0;34m(self, key, is_local)\u001b[0m\n\u001b[1;32m    214\u001b[0m                 \u001b[0;32mfrom\u001b[0m \u001b[0mpandas\u001b[0m\u001b[0;34m.\u001b[0m\u001b[0mcore\u001b[0m\u001b[0;34m.\u001b[0m\u001b[0mcomputation\u001b[0m\u001b[0;34m.\u001b[0m\u001b[0mops\u001b[0m \u001b[0;32mimport\u001b[0m \u001b[0mUndefinedVariableError\u001b[0m\u001b[0;34m\u001b[0m\u001b[0;34m\u001b[0m\u001b[0m\n\u001b[1;32m    215\u001b[0m \u001b[0;34m\u001b[0m\u001b[0m\n\u001b[0;32m--> 216\u001b[0;31m                 \u001b[0;32mraise\u001b[0m \u001b[0mUndefinedVariableError\u001b[0m\u001b[0;34m(\u001b[0m\u001b[0mkey\u001b[0m\u001b[0;34m,\u001b[0m \u001b[0mis_local\u001b[0m\u001b[0;34m)\u001b[0m \u001b[0;32mfrom\u001b[0m \u001b[0merr\u001b[0m\u001b[0;34m\u001b[0m\u001b[0;34m\u001b[0m\u001b[0m\n\u001b[0m\u001b[1;32m    217\u001b[0m \u001b[0;34m\u001b[0m\u001b[0m\n\u001b[1;32m    218\u001b[0m     \u001b[0;32mdef\u001b[0m \u001b[0mswapkey\u001b[0m\u001b[0;34m(\u001b[0m\u001b[0mself\u001b[0m\u001b[0;34m,\u001b[0m \u001b[0mold_key\u001b[0m\u001b[0;34m:\u001b[0m \u001b[0mstr\u001b[0m\u001b[0;34m,\u001b[0m \u001b[0mnew_key\u001b[0m\u001b[0;34m:\u001b[0m \u001b[0mstr\u001b[0m\u001b[0;34m,\u001b[0m \u001b[0mnew_value\u001b[0m\u001b[0;34m=\u001b[0m\u001b[0;32mNone\u001b[0m\u001b[0;34m)\u001b[0m \u001b[0;34m->\u001b[0m \u001b[0;32mNone\u001b[0m\u001b[0;34m:\u001b[0m\u001b[0;34m\u001b[0m\u001b[0;34m\u001b[0m\u001b[0m\n",
      "\u001b[0;31mUndefinedVariableError\u001b[0m: name 'self' is not defined"
     ]
    },
    {
     "data": {
      "image/png": "[encoded data removed]",
      "text/plain": [
       "<Figure size 1152x720 with 4 Axes>"
      ]
     },
     "metadata": {
      "needs_background": "light"
     },
     "output_type": "display_data"
    }
   ],
   "source": [
    "moo_global.fit2()"
   ]
  },
  {
   "cell_type": "code",
   "execution_count": null,
   "id": "7649a020-5bc6-4c54-9c91-17de2d9367ab",
   "metadata": {},
   "outputs": [],
   "source": [
    "moo_global.df.sort_values(\"Residual\",ascending=False).iloc[:40,:]"
   ]
  },
  {
   "cell_type": "markdown",
   "id": "286ece61-a6ad-46aa-93d7-953b88a52499",
   "metadata": {},
   "source": [
    "(2010~2014 시도)\n",
    "- 21번째 Ouest Department, Haiti 아이티 지진 2010년 진도 7.0\n",
    "- 24번쨰 Puchuncavi, Valparaíso, Chile 칠레 지진 2014년 진도 6.4\n",
    "- 28번째 Baoxing County, Yaan, Sichuan, China 중국 쓰촨성 지진 2013년 진도 6.6\n",
    "\n",
    "(2010~2015 시도_결과 좋지 않음?!)\n",
    "- 23번째 2010년 West New Britain Province, Papua New Guinea 진도 7.3\n",
    "- 24번째 2011년 Kuzawa Terayama, Tanagura, Higashishirakawa District, Fukushima 963-5671, Japan 진도 6.6\n",
    "- 29번째 2015년 Kishim, Afghanistan 진도 7.5"
   ]
  },
  {
   "cell_type": "markdown",
   "id": "ea5eefc2-4dee-4c5a-b94a-e7df010d80e0",
   "metadata": {},
   "source": [
    "`-` vis"
   ]
  },
  {
   "cell_type": "code",
   "execution_count": null,
   "id": "f70dc4fb-5597-4405-a31e-069437e4b219",
   "metadata": {},
   "outputs": [],
   "source": [
    "#moo_global.visf()"
   ]
  },
  {
   "cell_type": "code",
   "execution_count": null,
   "id": "14dbabce-84b0-4ead-82f0-3cc5844fbc15",
   "metadata": {},
   "outputs": [],
   "source": [
    "#moo_global.visfhat()"
   ]
  },
  {
   "cell_type": "code",
   "execution_count": null,
   "id": "9ba53157-2561-48ff-ace9-eb150816ccca",
   "metadata": {},
   "outputs": [],
   "source": [
    "#moo_global.visres(MagThresh=6.9,ResThresh=0.5)"
   ]
  },
  {
   "cell_type": "code",
   "execution_count": 214,
   "id": "14f7d893-85e8-4fa9-a950-0177b457d53a",
   "metadata": {},
   "outputs": [],
   "source": [
    "#moo_global.vis(MagThresh=6.9,ResThresh=0.5)"
   ]
  },
  {
   "cell_type": "markdown",
   "id": "761489b4-f42b-4811-9b60-462203292f4d",
   "metadata": {
    "tags": []
   },
   "source": [
    "### analysis_df_global(2015~2020)"
   ]
  },
  {
   "cell_type": "markdown",
   "id": "3c5d902b-f33f-466d-a288-277675706954",
   "metadata": {},
   "source": [
    "`-` make instance for analysis"
   ]
  },
  {
   "cell_type": "code",
   "execution_count": 33,
   "id": "b68069b3-fea4-4f56-b766-03bf5210d6c0",
   "metadata": {},
   "outputs": [],
   "source": [
    "moo_global=MooYaHo2(df_global.query(\"2015 <= Year <= 2020\"))"
   ]
  },
  {
   "cell_type": "markdown",
   "id": "85ea6d2a-968c-4703-87a3-efbd43c3b5e6",
   "metadata": {},
   "source": [
    "`-` get distance "
   ]
  },
  {
   "cell_type": "code",
   "execution_count": 34,
   "id": "ee52b4be-3c19-447d-b67f-e1c6d0f59790",
   "metadata": {},
   "outputs": [
    {
     "name": "stderr",
     "output_type": "stream",
     "text": [
      "100%|██████████| 11239/11239 [02:44<00:00, 68.51it/s] \n"
     ]
    }
   ],
   "source": [
    "moo_global.get_distance()"
   ]
  },
  {
   "cell_type": "code",
   "execution_count": 35,
   "id": "8ce69945-5e5c-4c41-a643-08e7f59d2d7e",
   "metadata": {},
   "outputs": [
    {
     "data": {
      "text/plain": [
       "8814.318793468068"
      ]
     },
     "execution_count": 35,
     "metadata": {},
     "output_type": "execute_result"
    }
   ],
   "source": [
    "moo_global.D[moo_global.D>0].mean()"
   ]
  },
  {
   "cell_type": "code",
   "execution_count": 36,
   "id": "f9c31312-c721-454f-b127-dd17b700882d",
   "metadata": {},
   "outputs": [
    {
     "data": {
      "text/plain": [
       "(array([10894274., 13618924., 16426520., 17583818., 16025000., 15684642.,\n",
       "        13794372., 10946494.,  9072574.,  2254138.]),\n",
       " array([2.54728455e-02, 2.00123511e+03, 4.00244475e+03, 6.00365439e+03,\n",
       "        8.00486402e+03, 1.00060737e+04, 1.20072833e+04, 1.40084929e+04,\n",
       "        1.60097026e+04, 1.80109122e+04, 2.00121218e+04]),\n",
       " <BarContainer object of 10 artists>)"
      ]
     },
     "execution_count": 36,
     "metadata": {},
     "output_type": "execute_result"
    },
    {
     "data": {
      "image/png": "[encoded data removed]",
      "text/plain": [
       "<Figure size 432x288 with 1 Axes>"
      ]
     },
     "metadata": {
      "needs_background": "light"
     },
     "output_type": "display_data"
    }
   ],
   "source": [
    "plt.hist(moo_global.D[moo_global.D>0])"
   ]
  },
  {
   "cell_type": "markdown",
   "id": "f5c12e33-7e74-41e5-8e19-4b03afeb0d8d",
   "metadata": {},
   "source": [
    "`-` weight matrix"
   ]
  },
  {
   "cell_type": "code",
   "execution_count": 37,
   "id": "e175e75d-58db-47f0-a374-8c32fb6fccd3",
   "metadata": {},
   "outputs": [],
   "source": [
    "moo_global.get_weightmatrix(theta=(8814.318793468068),kappa=2500) "
   ]
  },
  {
   "cell_type": "markdown",
   "id": "69b60db8-c3b5-4c68-a245-b559b05c6845",
   "metadata": {},
   "source": [
    "`-` fit"
   ]
  },
  {
   "cell_type": "code",
   "execution_count": 38,
   "id": "65444942-9936-4d25-830c-9fa0f2e48ac3",
   "metadata": {},
   "outputs": [
    {
     "data": {
      "image/png": "[encoded data removed]",
      "text/plain": [
       "<Figure size 432x288 with 1 Axes>"
      ]
     },
     "metadata": {
      "needs_background": "light"
     },
     "output_type": "display_data"
    }
   ],
   "source": [
    "moo_global.fit2()"
   ]
  },
  {
   "cell_type": "code",
   "execution_count": 39,
   "id": "c9d73266-aec7-48e7-8cb4-fe3cdf97f3ba",
   "metadata": {},
   "outputs": [
    {
     "data": {
      "text/html": [
       "<div>\n",
       "<style scoped>\n",
       "    .dataframe tbody tr th:only-of-type {\n",
       "        vertical-align: middle;\n",
       "    }\n",
       "\n",
       "    .dataframe tbody tr th {\n",
       "        vertical-align: top;\n",
       "    }\n",
       "\n",
       "    .dataframe thead th {\n",
       "        text-align: right;\n",
       "    }\n",
       "</style>\n",
       "<table border=\"1\" class=\"dataframe\">\n",
       "  <thead>\n",
       "    <tr style=\"text-align: right;\">\n",
       "      <th></th>\n",
       "      <th>Latitude</th>\n",
       "      <th>Longitude</th>\n",
       "      <th>Magnitude</th>\n",
       "      <th>Year</th>\n",
       "      <th>MagnitudeHat</th>\n",
       "      <th>Residual</th>\n",
       "    </tr>\n",
       "  </thead>\n",
       "  <tbody>\n",
       "    <tr>\n",
       "      <th>41735</th>\n",
       "      <td>-31.5729</td>\n",
       "      <td>-71.6744</td>\n",
       "      <td>8.3</td>\n",
       "      <td>2015.0</td>\n",
       "      <td>7.247889</td>\n",
       "      <td>1.052111</td>\n",
       "    </tr>\n",
       "    <tr>\n",
       "      <th>36993</th>\n",
       "      <td>-18.1125</td>\n",
       "      <td>-178.1530</td>\n",
       "      <td>8.2</td>\n",
       "      <td>2018.0</td>\n",
       "      <td>7.151339</td>\n",
       "      <td>1.048661</td>\n",
       "    </tr>\n",
       "    <tr>\n",
       "      <th>21952</th>\n",
       "      <td>-31.5729</td>\n",
       "      <td>-71.6744</td>\n",
       "      <td>8.3</td>\n",
       "      <td>2015.0</td>\n",
       "      <td>7.377015</td>\n",
       "      <td>0.922985</td>\n",
       "    </tr>\n",
       "    <tr>\n",
       "      <th>36363</th>\n",
       "      <td>-21.9496</td>\n",
       "      <td>169.4266</td>\n",
       "      <td>7.5</td>\n",
       "      <td>2018.0</td>\n",
       "      <td>6.641801</td>\n",
       "      <td>0.858199</td>\n",
       "    </tr>\n",
       "    <tr>\n",
       "      <th>39771</th>\n",
       "      <td>-10.6812</td>\n",
       "      <td>161.3273</td>\n",
       "      <td>7.8</td>\n",
       "      <td>2016.0</td>\n",
       "      <td>6.952781</td>\n",
       "      <td>0.847219</td>\n",
       "    </tr>\n",
       "    <tr>\n",
       "      <th>41015</th>\n",
       "      <td>-4.9521</td>\n",
       "      <td>94.3299</td>\n",
       "      <td>7.8</td>\n",
       "      <td>2016.0</td>\n",
       "      <td>6.982741</td>\n",
       "      <td>0.817259</td>\n",
       "    </tr>\n",
       "    <tr>\n",
       "      <th>33896</th>\n",
       "      <td>-33.2927</td>\n",
       "      <td>-177.8571</td>\n",
       "      <td>7.4</td>\n",
       "      <td>2020.0</td>\n",
       "      <td>6.584337</td>\n",
       "      <td>0.815663</td>\n",
       "    </tr>\n",
       "    <tr>\n",
       "      <th>39932</th>\n",
       "      <td>-42.7373</td>\n",
       "      <td>173.0540</td>\n",
       "      <td>7.8</td>\n",
       "      <td>2016.0</td>\n",
       "      <td>6.994644</td>\n",
       "      <td>0.805356</td>\n",
       "    </tr>\n",
       "    <tr>\n",
       "      <th>21719</th>\n",
       "      <td>-8.3381</td>\n",
       "      <td>124.8754</td>\n",
       "      <td>6.5</td>\n",
       "      <td>2015.0</td>\n",
       "      <td>5.698561</td>\n",
       "      <td>0.801439</td>\n",
       "    </tr>\n",
       "    <tr>\n",
       "      <th>33404</th>\n",
       "      <td>54.6020</td>\n",
       "      <td>-159.6258</td>\n",
       "      <td>7.6</td>\n",
       "      <td>2020.0</td>\n",
       "      <td>6.825914</td>\n",
       "      <td>0.774086</td>\n",
       "    </tr>\n",
       "    <tr>\n",
       "      <th>33593</th>\n",
       "      <td>-27.9686</td>\n",
       "      <td>-71.3062</td>\n",
       "      <td>6.8</td>\n",
       "      <td>2020.0</td>\n",
       "      <td>6.068130</td>\n",
       "      <td>0.731870</td>\n",
       "    </tr>\n",
       "    <tr>\n",
       "      <th>21559</th>\n",
       "      <td>38.2107</td>\n",
       "      <td>72.7797</td>\n",
       "      <td>7.2</td>\n",
       "      <td>2015.0</td>\n",
       "      <td>6.476211</td>\n",
       "      <td>0.723789</td>\n",
       "    </tr>\n",
       "    <tr>\n",
       "      <th>36263</th>\n",
       "      <td>55.0999</td>\n",
       "      <td>164.6993</td>\n",
       "      <td>7.3</td>\n",
       "      <td>2018.0</td>\n",
       "      <td>6.591954</td>\n",
       "      <td>0.708046</td>\n",
       "    </tr>\n",
       "    <tr>\n",
       "      <th>42106</th>\n",
       "      <td>-36.3601</td>\n",
       "      <td>-73.8120</td>\n",
       "      <td>6.4</td>\n",
       "      <td>2015.0</td>\n",
       "      <td>5.712923</td>\n",
       "      <td>0.687077</td>\n",
       "    </tr>\n",
       "    <tr>\n",
       "      <th>37769</th>\n",
       "      <td>-6.0699</td>\n",
       "      <td>142.7536</td>\n",
       "      <td>7.5</td>\n",
       "      <td>2018.0</td>\n",
       "      <td>6.826692</td>\n",
       "      <td>0.673308</td>\n",
       "    </tr>\n",
       "    <tr>\n",
       "      <th>36848</th>\n",
       "      <td>-18.4743</td>\n",
       "      <td>179.3502</td>\n",
       "      <td>7.9</td>\n",
       "      <td>2018.0</td>\n",
       "      <td>7.233195</td>\n",
       "      <td>0.666805</td>\n",
       "    </tr>\n",
       "    <tr>\n",
       "      <th>39584</th>\n",
       "      <td>-43.4064</td>\n",
       "      <td>-73.9413</td>\n",
       "      <td>7.6</td>\n",
       "      <td>2016.0</td>\n",
       "      <td>6.936485</td>\n",
       "      <td>0.663515</td>\n",
       "    </tr>\n",
       "    <tr>\n",
       "      <th>22246</th>\n",
       "      <td>-9.3070</td>\n",
       "      <td>158.4030</td>\n",
       "      <td>6.7</td>\n",
       "      <td>2015.0</td>\n",
       "      <td>6.036540</td>\n",
       "      <td>0.663460</td>\n",
       "    </tr>\n",
       "    <tr>\n",
       "      <th>36301</th>\n",
       "      <td>-58.5446</td>\n",
       "      <td>-26.3856</td>\n",
       "      <td>7.1</td>\n",
       "      <td>2018.0</td>\n",
       "      <td>6.448234</td>\n",
       "      <td>0.651766</td>\n",
       "    </tr>\n",
       "    <tr>\n",
       "      <th>42271</th>\n",
       "      <td>27.8087</td>\n",
       "      <td>86.0655</td>\n",
       "      <td>7.3</td>\n",
       "      <td>2015.0</td>\n",
       "      <td>6.651371</td>\n",
       "      <td>0.648629</td>\n",
       "    </tr>\n",
       "    <tr>\n",
       "      <th>40675</th>\n",
       "      <td>-56.2409</td>\n",
       "      <td>-26.9353</td>\n",
       "      <td>7.2</td>\n",
       "      <td>2016.0</td>\n",
       "      <td>6.551931</td>\n",
       "      <td>0.648069</td>\n",
       "    </tr>\n",
       "    <tr>\n",
       "      <th>42622</th>\n",
       "      <td>-10.7598</td>\n",
       "      <td>164.1216</td>\n",
       "      <td>6.1</td>\n",
       "      <td>2015.0</td>\n",
       "      <td>5.469452</td>\n",
       "      <td>0.630548</td>\n",
       "    </tr>\n",
       "    <tr>\n",
       "      <th>35487</th>\n",
       "      <td>-30.6441</td>\n",
       "      <td>-178.0995</td>\n",
       "      <td>7.3</td>\n",
       "      <td>2019.0</td>\n",
       "      <td>6.673190</td>\n",
       "      <td>0.626810</td>\n",
       "    </tr>\n",
       "    <tr>\n",
       "      <th>22521</th>\n",
       "      <td>-7.2175</td>\n",
       "      <td>154.5567</td>\n",
       "      <td>7.1</td>\n",
       "      <td>2015.0</td>\n",
       "      <td>6.493164</td>\n",
       "      <td>0.606836</td>\n",
       "    </tr>\n",
       "    <tr>\n",
       "      <th>42475</th>\n",
       "      <td>-4.7294</td>\n",
       "      <td>152.5623</td>\n",
       "      <td>7.5</td>\n",
       "      <td>2015.0</td>\n",
       "      <td>6.897835</td>\n",
       "      <td>0.602165</td>\n",
       "    </tr>\n",
       "    <tr>\n",
       "      <th>36101</th>\n",
       "      <td>-30.0404</td>\n",
       "      <td>-71.3815</td>\n",
       "      <td>6.7</td>\n",
       "      <td>2019.0</td>\n",
       "      <td>6.098721</td>\n",
       "      <td>0.601279</td>\n",
       "    </tr>\n",
       "    <tr>\n",
       "      <th>37927</th>\n",
       "      <td>56.0039</td>\n",
       "      <td>-149.1658</td>\n",
       "      <td>7.9</td>\n",
       "      <td>2018.0</td>\n",
       "      <td>7.307120</td>\n",
       "      <td>0.592880</td>\n",
       "    </tr>\n",
       "    <tr>\n",
       "      <th>38520</th>\n",
       "      <td>15.0222</td>\n",
       "      <td>-93.8993</td>\n",
       "      <td>8.2</td>\n",
       "      <td>2017.0</td>\n",
       "      <td>7.608529</td>\n",
       "      <td>0.591471</td>\n",
       "    </tr>\n",
       "    <tr>\n",
       "      <th>21912</th>\n",
       "      <td>-31.5173</td>\n",
       "      <td>-71.8040</td>\n",
       "      <td>6.7</td>\n",
       "      <td>2015.0</td>\n",
       "      <td>6.110265</td>\n",
       "      <td>0.589735</td>\n",
       "    </tr>\n",
       "    <tr>\n",
       "      <th>41887</th>\n",
       "      <td>-9.3438</td>\n",
       "      <td>158.0525</td>\n",
       "      <td>6.6</td>\n",
       "      <td>2015.0</td>\n",
       "      <td>6.012902</td>\n",
       "      <td>0.587098</td>\n",
       "    </tr>\n",
       "  </tbody>\n",
       "</table>\n",
       "</div>"
      ],
      "text/plain": [
       "       Latitude  Longitude  Magnitude    Year  MagnitudeHat  Residual\n",
       "41735  -31.5729   -71.6744        8.3  2015.0      7.247889  1.052111\n",
       "36993  -18.1125  -178.1530        8.2  2018.0      7.151339  1.048661\n",
       "21952  -31.5729   -71.6744        8.3  2015.0      7.377015  0.922985\n",
       "36363  -21.9496   169.4266        7.5  2018.0      6.641801  0.858199\n",
       "39771  -10.6812   161.3273        7.8  2016.0      6.952781  0.847219\n",
       "41015   -4.9521    94.3299        7.8  2016.0      6.982741  0.817259\n",
       "33896  -33.2927  -177.8571        7.4  2020.0      6.584337  0.815663\n",
       "39932  -42.7373   173.0540        7.8  2016.0      6.994644  0.805356\n",
       "21719   -8.3381   124.8754        6.5  2015.0      5.698561  0.801439\n",
       "33404   54.6020  -159.6258        7.6  2020.0      6.825914  0.774086\n",
       "33593  -27.9686   -71.3062        6.8  2020.0      6.068130  0.731870\n",
       "21559   38.2107    72.7797        7.2  2015.0      6.476211  0.723789\n",
       "36263   55.0999   164.6993        7.3  2018.0      6.591954  0.708046\n",
       "42106  -36.3601   -73.8120        6.4  2015.0      5.712923  0.687077\n",
       "37769   -6.0699   142.7536        7.5  2018.0      6.826692  0.673308\n",
       "36848  -18.4743   179.3502        7.9  2018.0      7.233195  0.666805\n",
       "39584  -43.4064   -73.9413        7.6  2016.0      6.936485  0.663515\n",
       "22246   -9.3070   158.4030        6.7  2015.0      6.036540  0.663460\n",
       "36301  -58.5446   -26.3856        7.1  2018.0      6.448234  0.651766\n",
       "42271   27.8087    86.0655        7.3  2015.0      6.651371  0.648629\n",
       "40675  -56.2409   -26.9353        7.2  2016.0      6.551931  0.648069\n",
       "42622  -10.7598   164.1216        6.1  2015.0      5.469452  0.630548\n",
       "35487  -30.6441  -178.0995        7.3  2019.0      6.673190  0.626810\n",
       "22521   -7.2175   154.5567        7.1  2015.0      6.493164  0.606836\n",
       "42475   -4.7294   152.5623        7.5  2015.0      6.897835  0.602165\n",
       "36101  -30.0404   -71.3815        6.7  2019.0      6.098721  0.601279\n",
       "37927   56.0039  -149.1658        7.9  2018.0      7.307120  0.592880\n",
       "38520   15.0222   -93.8993        8.2  2017.0      7.608529  0.591471\n",
       "21912  -31.5173   -71.8040        6.7  2015.0      6.110265  0.589735\n",
       "41887   -9.3438   158.0525        6.6  2015.0      6.012902  0.587098"
      ]
     },
     "execution_count": 39,
     "metadata": {},
     "output_type": "execute_result"
    }
   ],
   "source": [
    "moo_global.df.sort_values(\"Residual\",ascending=False).iloc[:30,:]"
   ]
  },
  {
   "cell_type": "markdown",
   "id": "2668e376-a4eb-47c7-9636-9e6af8be2df1",
   "metadata": {},
   "source": [
    "바다 아닌 거\n",
    "- 8번째 2016년 Rotherham, New Zealand 뉴질랜드 카이코우라 지진 진도 7.8\n",
    "- 9번째 2015년 Langkuru Utara, Pureman, Alor Regency, East Nusa Tenggara, Indonesia 수마트라 진도 6.5\n",
    "- 15번째 2018년 Hela Province, Papua New Guinea 파푸아뉴기니 진도 7.5\n",
    "- 20번째 2015년 Kalinchok, Nepal 네팧 진도 7.3\n",
    "- 26번째 2019년 Coquimbo, Chile 칠레 코킴보주 진도 6.7"
   ]
  },
  {
   "cell_type": "code",
   "execution_count": 40,
   "id": "1fe094c0-4908-474b-ade5-5935440a78f9",
   "metadata": {},
   "outputs": [
    {
     "data": {
      "text/plain": [
       "[<matplotlib.lines.Line2D at 0x7f65b347ba90>]"
      ]
     },
     "execution_count": 40,
     "metadata": {},
     "output_type": "execute_result"
    },
    {
     "data": {
      "image/png": "[encoded data removed]",
      "text/plain": [
       "<Figure size 432x288 with 1 Axes>"
      ]
     },
     "metadata": {
      "needs_background": "light"
     },
     "output_type": "display_data"
    }
   ],
   "source": [
    "plt.plot((moo_global.df.Residual)**2)"
   ]
  },
  {
   "cell_type": "markdown",
   "id": "2f0371e6-ded4-4753-acea-1c99a7bfeb64",
   "metadata": {},
   "source": [
    "`-` vis"
   ]
  },
  {
   "cell_type": "code",
   "execution_count": null,
   "id": "8a192f04-7eeb-4e76-a3f6-fdcefe4bc9e6",
   "metadata": {},
   "outputs": [],
   "source": [
    "#moo_global.vis(MagThresh=7,ResThresh=0.3)"
   ]
  },
  {
   "cell_type": "markdown",
   "id": "b9025cad-308a-489e-9c42-f719bfc9121b",
   "metadata": {},
   "source": [
    "---"
   ]
  },
  {
   "cell_type": "code",
   "execution_count": 237,
   "id": "90e37a71-fe6e-4f0e-82d6-da7a9eba52d8",
   "metadata": {},
   "outputs": [
    {
     "data": {
      "text/html": [
       "<div>\n",
       "<style scoped>\n",
       "    .dataframe tbody tr th:only-of-type {\n",
       "        vertical-align: middle;\n",
       "    }\n",
       "\n",
       "    .dataframe tbody tr th {\n",
       "        vertical-align: top;\n",
       "    }\n",
       "\n",
       "    .dataframe thead th {\n",
       "        text-align: right;\n",
       "    }\n",
       "</style>\n",
       "<table border=\"1\" class=\"dataframe\">\n",
       "  <thead>\n",
       "    <tr style=\"text-align: right;\">\n",
       "      <th></th>\n",
       "      <th>Rank</th>\n",
       "      <th>Fatalities</th>\n",
       "      <th>Magnitude</th>\n",
       "      <th>Location</th>\n",
       "      <th>Event</th>\n",
       "      <th>Date</th>\n",
       "    </tr>\n",
       "  </thead>\n",
       "  <tbody>\n",
       "    <tr>\n",
       "      <th>1</th>\n",
       "      <td>2</td>\n",
       "      <td>160000</td>\n",
       "      <td>7.0</td>\n",
       "      <td>Haiti</td>\n",
       "      <td>2010 Haiti earthquake</td>\n",
       "      <td>January 12, 2010</td>\n",
       "    </tr>\n",
       "    <tr>\n",
       "      <th>4</th>\n",
       "      <td>5</td>\n",
       "      <td>26271</td>\n",
       "      <td>6.6</td>\n",
       "      <td>Iran</td>\n",
       "      <td>2003 Bam earthquake</td>\n",
       "      <td>December 26, 2003</td>\n",
       "    </tr>\n",
       "    <tr>\n",
       "      <th>8</th>\n",
       "      <td>9</td>\n",
       "      <td>5782</td>\n",
       "      <td>6.4</td>\n",
       "      <td>Indonesia</td>\n",
       "      <td>2006 Yogyakarta earthquake</td>\n",
       "      <td>May 26, 2006</td>\n",
       "    </tr>\n",
       "    <tr>\n",
       "      <th>10</th>\n",
       "      <td>11</td>\n",
       "      <td>2968</td>\n",
       "      <td>6.9</td>\n",
       "      <td>China</td>\n",
       "      <td>2010 Yushu earthquake</td>\n",
       "      <td>April 13, 2010</td>\n",
       "    </tr>\n",
       "    <tr>\n",
       "      <th>11</th>\n",
       "      <td>12</td>\n",
       "      <td>2266</td>\n",
       "      <td>6.8</td>\n",
       "      <td>Algeria</td>\n",
       "      <td>2003 Boumerdès earthquake</td>\n",
       "      <td>May 21, 2003</td>\n",
       "    </tr>\n",
       "    <tr>\n",
       "      <th>14</th>\n",
       "      <td>15</td>\n",
       "      <td>1143</td>\n",
       "      <td>5.9</td>\n",
       "      <td>Afghanistan</td>\n",
       "      <td>June 2022 Afghanistan earthquake</td>\n",
       "      <td>June 21, 2022</td>\n",
       "    </tr>\n",
       "  </tbody>\n",
       "</table>\n",
       "</div>"
      ],
      "text/plain": [
       "    Rank  Fatalities  Magnitude     Location  \\\n",
       "1      2      160000        7.0        Haiti   \n",
       "4      5       26271        6.6         Iran   \n",
       "8      9        5782        6.4    Indonesia   \n",
       "10    11        2968        6.9        China   \n",
       "11    12        2266        6.8      Algeria   \n",
       "14    15        1143        5.9  Afghanistan   \n",
       "\n",
       "                               Event               Date  \n",
       "1              2010 Haiti earthquake   January 12, 2010  \n",
       "4                2003 Bam earthquake  December 26, 2003  \n",
       "8         2006 Yogyakarta earthquake       May 26, 2006  \n",
       "10             2010 Yushu earthquake     April 13, 2010  \n",
       "11         2003 Boumerdès earthquake       May 21, 2003  \n",
       "14  June 2022 Afghanistan earthquake      June 21, 2022  "
      ]
     },
     "execution_count": 237,
     "metadata": {},
     "output_type": "execute_result"
    }
   ],
   "source": [
    "pd.read_html('https://en.wikipedia.org/wiki/Lists_of_21st-century_earthquakes',encoding='utf-8')[0].query('Magnitude<=7')# List of deadliest earthquakes"
   ]
  },
  {
   "cell_type": "code",
   "execution_count": 271,
   "id": "05ea43e7-5db0-4582-82e6-f1463988b612",
   "metadata": {},
   "outputs": [
    {
     "data": {
      "text/html": [
       "<div>\n",
       "<style scoped>\n",
       "    .dataframe tbody tr th:only-of-type {\n",
       "        vertical-align: middle;\n",
       "    }\n",
       "\n",
       "    .dataframe tbody tr th {\n",
       "        vertical-align: top;\n",
       "    }\n",
       "\n",
       "    .dataframe thead th {\n",
       "        text-align: right;\n",
       "    }\n",
       "</style>\n",
       "<table border=\"1\" class=\"dataframe\">\n",
       "  <thead>\n",
       "    <tr style=\"text-align: right;\">\n",
       "      <th></th>\n",
       "      <th>Year</th>\n",
       "      <th>Fatalities</th>\n",
       "      <th>Magnitude</th>\n",
       "      <th>Event</th>\n",
       "      <th>Location</th>\n",
       "      <th>Date</th>\n",
       "      <th>Death toll</th>\n",
       "    </tr>\n",
       "  </thead>\n",
       "  <tbody>\n",
       "    <tr>\n",
       "      <th>0</th>\n",
       "      <td>2001</td>\n",
       "      <td>20085</td>\n",
       "      <td>7.7</td>\n",
       "      <td>2001 Gujarat earthquake</td>\n",
       "      <td>India</td>\n",
       "      <td>January 26</td>\n",
       "      <td>21357</td>\n",
       "    </tr>\n",
       "    <tr>\n",
       "      <th>1</th>\n",
       "      <td>2002</td>\n",
       "      <td>1000</td>\n",
       "      <td>6.1</td>\n",
       "      <td>2002 Hindu Kush earthquakes</td>\n",
       "      <td>Afghanistan</td>\n",
       "      <td>March 25</td>\n",
       "      <td>1685</td>\n",
       "    </tr>\n",
       "    <tr>\n",
       "      <th>2</th>\n",
       "      <td>2003</td>\n",
       "      <td>26271</td>\n",
       "      <td>6.6</td>\n",
       "      <td>2003 Bam earthquake</td>\n",
       "      <td>Iran</td>\n",
       "      <td>December 26</td>\n",
       "      <td>33819</td>\n",
       "    </tr>\n",
       "    <tr>\n",
       "      <th>3</th>\n",
       "      <td>2004</td>\n",
       "      <td>227898</td>\n",
       "      <td>9.1</td>\n",
       "      <td>2004 Indian Ocean earthquake and tsunami</td>\n",
       "      <td>Indonesia, Indian Ocean</td>\n",
       "      <td>December 26</td>\n",
       "      <td>227898</td>\n",
       "    </tr>\n",
       "    <tr>\n",
       "      <th>4</th>\n",
       "      <td>2005</td>\n",
       "      <td>87351</td>\n",
       "      <td>7.6</td>\n",
       "      <td>2005 Kashmir earthquake</td>\n",
       "      <td>Pakistan</td>\n",
       "      <td>October 8</td>\n",
       "      <td>87992</td>\n",
       "    </tr>\n",
       "    <tr>\n",
       "      <th>5</th>\n",
       "      <td>2006</td>\n",
       "      <td>5782</td>\n",
       "      <td>6.4</td>\n",
       "      <td>2006 Yogyakarta earthquake</td>\n",
       "      <td>Indonesia</td>\n",
       "      <td>May 26</td>\n",
       "      <td>6605</td>\n",
       "    </tr>\n",
       "    <tr>\n",
       "      <th>6</th>\n",
       "      <td>2007</td>\n",
       "      <td>519</td>\n",
       "      <td>8.0</td>\n",
       "      <td>2007 Peru earthquake</td>\n",
       "      <td>Peru</td>\n",
       "      <td>August 15</td>\n",
       "      <td>708</td>\n",
       "    </tr>\n",
       "    <tr>\n",
       "      <th>7</th>\n",
       "      <td>2008</td>\n",
       "      <td>87587</td>\n",
       "      <td>7.9</td>\n",
       "      <td>2008 Sichuan earthquake</td>\n",
       "      <td>China</td>\n",
       "      <td>May 12</td>\n",
       "      <td>88708</td>\n",
       "    </tr>\n",
       "    <tr>\n",
       "      <th>8</th>\n",
       "      <td>2009</td>\n",
       "      <td>1115</td>\n",
       "      <td>7.6</td>\n",
       "      <td>2009 Sumatra earthquakes</td>\n",
       "      <td>Indonesia</td>\n",
       "      <td>September 30</td>\n",
       "      <td>1790</td>\n",
       "    </tr>\n",
       "    <tr>\n",
       "      <th>9</th>\n",
       "      <td>2010</td>\n",
       "      <td>160000</td>\n",
       "      <td>7.0</td>\n",
       "      <td>2010 Haiti earthquake</td>\n",
       "      <td>Haiti</td>\n",
       "      <td>January 12</td>\n",
       "      <td>164627</td>\n",
       "    </tr>\n",
       "    <tr>\n",
       "      <th>10</th>\n",
       "      <td>2011</td>\n",
       "      <td>20896</td>\n",
       "      <td>9.0</td>\n",
       "      <td>2011 Tōhoku earthquake and tsunami</td>\n",
       "      <td>Japan</td>\n",
       "      <td>March 11</td>\n",
       "      <td>21492</td>\n",
       "    </tr>\n",
       "    <tr>\n",
       "      <th>11</th>\n",
       "      <td>2012</td>\n",
       "      <td>306</td>\n",
       "      <td>6.4</td>\n",
       "      <td>2012 East Azerbaijan earthquakes</td>\n",
       "      <td>Iran</td>\n",
       "      <td>August 11</td>\n",
       "      <td>689</td>\n",
       "    </tr>\n",
       "    <tr>\n",
       "      <th>12</th>\n",
       "      <td>2013</td>\n",
       "      <td>825</td>\n",
       "      <td>7.7</td>\n",
       "      <td>2013 Balochistan earthquakes</td>\n",
       "      <td>Pakistan</td>\n",
       "      <td>September 24</td>\n",
       "      <td>1572</td>\n",
       "    </tr>\n",
       "    <tr>\n",
       "      <th>13</th>\n",
       "      <td>2014</td>\n",
       "      <td>729</td>\n",
       "      <td>6.1</td>\n",
       "      <td>2014 Ludian earthquake</td>\n",
       "      <td>China</td>\n",
       "      <td>August 3</td>\n",
       "      <td>756</td>\n",
       "    </tr>\n",
       "    <tr>\n",
       "      <th>14</th>\n",
       "      <td>2015</td>\n",
       "      <td>8964</td>\n",
       "      <td>7.8</td>\n",
       "      <td>2015 Nepal earthquake</td>\n",
       "      <td>Nepal</td>\n",
       "      <td>April 25</td>\n",
       "      <td>9624</td>\n",
       "    </tr>\n",
       "    <tr>\n",
       "      <th>15</th>\n",
       "      <td>2016</td>\n",
       "      <td>673</td>\n",
       "      <td>7.8</td>\n",
       "      <td>2016 Ecuador earthquake</td>\n",
       "      <td>Ecuador</td>\n",
       "      <td>April 16</td>\n",
       "      <td>1339</td>\n",
       "    </tr>\n",
       "    <tr>\n",
       "      <th>16</th>\n",
       "      <td>2017</td>\n",
       "      <td>630</td>\n",
       "      <td>7.3</td>\n",
       "      <td>2017 Iran–Iraq earthquake</td>\n",
       "      <td>Iran</td>\n",
       "      <td>November 12</td>\n",
       "      <td>1232</td>\n",
       "    </tr>\n",
       "    <tr>\n",
       "      <th>17</th>\n",
       "      <td>2018</td>\n",
       "      <td>4340</td>\n",
       "      <td>7.5</td>\n",
       "      <td>2018 Sulawesi earthquake and tsunami</td>\n",
       "      <td>Indonesia</td>\n",
       "      <td>September 28</td>\n",
       "      <td>5239</td>\n",
       "    </tr>\n",
       "    <tr>\n",
       "      <th>18</th>\n",
       "      <td>2019</td>\n",
       "      <td>51</td>\n",
       "      <td>6.4</td>\n",
       "      <td>2019 Albania earthquake</td>\n",
       "      <td>Albania</td>\n",
       "      <td>November 26</td>\n",
       "      <td>288</td>\n",
       "    </tr>\n",
       "    <tr>\n",
       "      <th>19</th>\n",
       "      <td>2020</td>\n",
       "      <td>119</td>\n",
       "      <td>7.0</td>\n",
       "      <td>2020 Aegean Sea earthquake</td>\n",
       "      <td>Turkey/ Greece</td>\n",
       "      <td>October 30</td>\n",
       "      <td>207</td>\n",
       "    </tr>\n",
       "    <tr>\n",
       "      <th>20</th>\n",
       "      <td>2021</td>\n",
       "      <td>2248</td>\n",
       "      <td>7.2</td>\n",
       "      <td>2021 Haiti earthquake</td>\n",
       "      <td>Haiti</td>\n",
       "      <td>August 14</td>\n",
       "      <td>2476</td>\n",
       "    </tr>\n",
       "    <tr>\n",
       "      <th>21</th>\n",
       "      <td>2022</td>\n",
       "      <td>1143</td>\n",
       "      <td>5.9</td>\n",
       "      <td>June 2022 Afghanistan earthquake</td>\n",
       "      <td>Afghanistan</td>\n",
       "      <td>June 21</td>\n",
       "      <td>1233</td>\n",
       "    </tr>\n",
       "  </tbody>\n",
       "</table>\n",
       "</div>"
      ],
      "text/plain": [
       "    Year  Fatalities  Magnitude                                     Event  \\\n",
       "0   2001       20085        7.7                   2001 Gujarat earthquake   \n",
       "1   2002        1000        6.1               2002 Hindu Kush earthquakes   \n",
       "2   2003       26271        6.6                       2003 Bam earthquake   \n",
       "3   2004      227898        9.1  2004 Indian Ocean earthquake and tsunami   \n",
       "4   2005       87351        7.6                   2005 Kashmir earthquake   \n",
       "5   2006        5782        6.4                2006 Yogyakarta earthquake   \n",
       "6   2007         519        8.0                      2007 Peru earthquake   \n",
       "7   2008       87587        7.9                   2008 Sichuan earthquake   \n",
       "8   2009        1115        7.6                  2009 Sumatra earthquakes   \n",
       "9   2010      160000        7.0                     2010 Haiti earthquake   \n",
       "10  2011       20896        9.0        2011 Tōhoku earthquake and tsunami   \n",
       "11  2012         306        6.4          2012 East Azerbaijan earthquakes   \n",
       "12  2013         825        7.7              2013 Balochistan earthquakes   \n",
       "13  2014         729        6.1                    2014 Ludian earthquake   \n",
       "14  2015        8964        7.8                     2015 Nepal earthquake   \n",
       "15  2016         673        7.8                   2016 Ecuador earthquake   \n",
       "16  2017         630        7.3                 2017 Iran–Iraq earthquake   \n",
       "17  2018        4340        7.5      2018 Sulawesi earthquake and tsunami   \n",
       "18  2019          51        6.4                   2019 Albania earthquake   \n",
       "19  2020         119        7.0                2020 Aegean Sea earthquake   \n",
       "20  2021        2248        7.2                     2021 Haiti earthquake   \n",
       "21  2022        1143        5.9          June 2022 Afghanistan earthquake   \n",
       "\n",
       "                   Location          Date  Death toll  \n",
       "0                     India    January 26       21357  \n",
       "1               Afghanistan      March 25        1685  \n",
       "2                      Iran   December 26       33819  \n",
       "3   Indonesia, Indian Ocean   December 26      227898  \n",
       "4                  Pakistan     October 8       87992  \n",
       "5                 Indonesia        May 26        6605  \n",
       "6                      Peru     August 15         708  \n",
       "7                     China        May 12       88708  \n",
       "8                 Indonesia  September 30        1790  \n",
       "9                     Haiti    January 12      164627  \n",
       "10                    Japan      March 11       21492  \n",
       "11                     Iran     August 11         689  \n",
       "12                 Pakistan  September 24        1572  \n",
       "13                    China      August 3         756  \n",
       "14                    Nepal      April 25        9624  \n",
       "15                  Ecuador      April 16        1339  \n",
       "16                     Iran   November 12        1232  \n",
       "17                Indonesia  September 28        5239  \n",
       "18                  Albania   November 26         288  \n",
       "19           Turkey/ Greece    October 30         207  \n",
       "20                    Haiti     August 14        2476  \n",
       "21              Afghanistan       June 21        1233  "
      ]
     },
     "execution_count": 271,
     "metadata": {},
     "output_type": "execute_result"
    }
   ],
   "source": [
    "pd.read_html('https://en.wikipedia.org/wiki/Lists_of_21st-century_earthquakes',encoding='utf-8')[3] # Deadliest earthquakes by year"
   ]
  }
 ],
 "metadata": {
  "kernelspec": {
   "display_name": "Python 3 (ipykernel)",
   "language": "python",
   "name": "python3"
  },
  "language_info": {
   "codemirror_mode": {
    "name": "ipython",
    "version": 3
   },
   "file_extension": ".py",
   "mimetype": "text/x-python",
   "name": "python",
   "nbconvert_exporter": "python",
   "pygments_lexer": "ipython3",
   "version": "3.8.12"
  }
 },
 "nbformat": 4,
 "nbformat_minor": 5
}
