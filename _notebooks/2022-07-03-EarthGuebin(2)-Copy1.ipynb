{
 "cells": [
  {
   "cell_type": "markdown",
   "id": "5fca747e-5d9f-444c-a480-76b77415edd4",
   "metadata": {
    "id": "cac470df-29e7-4148-9bbd-d8b9a32fa570",
    "tags": []
   },
   "source": [
    "# (시도) Eearthquake (2)\n",
    "> \n",
    "\n",
    "- toc:true\n",
    "- branch: master\n",
    "- badges: true\n",
    "- comments: false\n",
    "- author: 최서연, 최규빈"
   ]
  },
  {
   "cell_type": "markdown",
   "id": "572e82f3-c9ef-47f1-a3db-2b7a9f6149e8",
   "metadata": {},
   "source": [
    "### imports"
   ]
  },
  {
   "cell_type": "code",
   "execution_count": 1,
   "id": "f8630cda-e3f6-4431-8863-e89bf6d2ed4a",
   "metadata": {},
   "outputs": [],
   "source": [
    "import tqdm\n",
    "import numpy as np\n",
    "import pandas as pd\n",
    "import matplotlib.pyplot as plt \n",
    "import plotly.express as px\n",
    "import warnings\n",
    "warnings.simplefilter(\"ignore\", np.ComplexWarning)\n",
    "from haversine import haversine\n",
    "from IPython.display import HTML"
   ]
  },
  {
   "cell_type": "code",
   "execution_count": 2,
   "id": "2ac1743d-2fb3-4dea-b5e7-a58f6be03603",
   "metadata": {},
   "outputs": [],
   "source": [
    "import rpy2\n",
    "import rpy2.robjects as ro \n",
    "from rpy2.robjects.vectors import FloatVector \n",
    "from rpy2.robjects.packages import importr"
   ]
  },
  {
   "cell_type": "markdown",
   "id": "5701a39d-1112-4251-b0df-a696b1610ba0",
   "metadata": {},
   "source": [
    "### load data and clean it"
   ]
  },
  {
   "cell_type": "markdown",
   "id": "8c59d1b1-f6e5-4278-a7aa-c456085374d2",
   "metadata": {},
   "source": [
    "`-` load"
   ]
  },
  {
   "cell_type": "code",
   "execution_count": 3,
   "id": "d51071e5-5241-48a4-9a74-bf32bfe535fb",
   "metadata": {},
   "outputs": [
    {
     "data": {
      "text/html": [
       "<div>\n",
       "<style scoped>\n",
       "    .dataframe tbody tr th:only-of-type {\n",
       "        vertical-align: middle;\n",
       "    }\n",
       "\n",
       "    .dataframe tbody tr th {\n",
       "        vertical-align: top;\n",
       "    }\n",
       "\n",
       "    .dataframe thead th {\n",
       "        text-align: right;\n",
       "    }\n",
       "</style>\n",
       "<table border=\"1\" class=\"dataframe\">\n",
       "  <thead>\n",
       "    <tr style=\"text-align: right;\">\n",
       "      <th></th>\n",
       "      <th>Date</th>\n",
       "      <th>Latitude</th>\n",
       "      <th>Longitude</th>\n",
       "      <th>Magnitude</th>\n",
       "    </tr>\n",
       "  </thead>\n",
       "  <tbody>\n",
       "    <tr>\n",
       "      <th>0</th>\n",
       "      <td>01/02/1965</td>\n",
       "      <td>19.2460</td>\n",
       "      <td>145.6160</td>\n",
       "      <td>6.0</td>\n",
       "    </tr>\n",
       "    <tr>\n",
       "      <th>1</th>\n",
       "      <td>01/04/1965</td>\n",
       "      <td>1.8630</td>\n",
       "      <td>127.3520</td>\n",
       "      <td>5.8</td>\n",
       "    </tr>\n",
       "    <tr>\n",
       "      <th>2</th>\n",
       "      <td>01/05/1965</td>\n",
       "      <td>-20.5790</td>\n",
       "      <td>-173.9720</td>\n",
       "      <td>6.2</td>\n",
       "    </tr>\n",
       "    <tr>\n",
       "      <th>3</th>\n",
       "      <td>01/08/1965</td>\n",
       "      <td>-59.0760</td>\n",
       "      <td>-23.5570</td>\n",
       "      <td>5.8</td>\n",
       "    </tr>\n",
       "    <tr>\n",
       "      <th>4</th>\n",
       "      <td>01/09/1965</td>\n",
       "      <td>11.9380</td>\n",
       "      <td>126.4270</td>\n",
       "      <td>5.8</td>\n",
       "    </tr>\n",
       "    <tr>\n",
       "      <th>...</th>\n",
       "      <td>...</td>\n",
       "      <td>...</td>\n",
       "      <td>...</td>\n",
       "      <td>...</td>\n",
       "    </tr>\n",
       "    <tr>\n",
       "      <th>23407</th>\n",
       "      <td>12/28/2016</td>\n",
       "      <td>38.3917</td>\n",
       "      <td>-118.8941</td>\n",
       "      <td>5.6</td>\n",
       "    </tr>\n",
       "    <tr>\n",
       "      <th>23408</th>\n",
       "      <td>12/28/2016</td>\n",
       "      <td>38.3777</td>\n",
       "      <td>-118.8957</td>\n",
       "      <td>5.5</td>\n",
       "    </tr>\n",
       "    <tr>\n",
       "      <th>23409</th>\n",
       "      <td>12/28/2016</td>\n",
       "      <td>36.9179</td>\n",
       "      <td>140.4262</td>\n",
       "      <td>5.9</td>\n",
       "    </tr>\n",
       "    <tr>\n",
       "      <th>23410</th>\n",
       "      <td>12/29/2016</td>\n",
       "      <td>-9.0283</td>\n",
       "      <td>118.6639</td>\n",
       "      <td>6.3</td>\n",
       "    </tr>\n",
       "    <tr>\n",
       "      <th>23411</th>\n",
       "      <td>12/30/2016</td>\n",
       "      <td>37.3973</td>\n",
       "      <td>141.4103</td>\n",
       "      <td>5.5</td>\n",
       "    </tr>\n",
       "  </tbody>\n",
       "</table>\n",
       "<p>23412 rows × 4 columns</p>\n",
       "</div>"
      ],
      "text/plain": [
       "             Date  Latitude  Longitude  Magnitude\n",
       "0      01/02/1965   19.2460   145.6160        6.0\n",
       "1      01/04/1965    1.8630   127.3520        5.8\n",
       "2      01/05/1965  -20.5790  -173.9720        6.2\n",
       "3      01/08/1965  -59.0760   -23.5570        5.8\n",
       "4      01/09/1965   11.9380   126.4270        5.8\n",
       "...           ...       ...        ...        ...\n",
       "23407  12/28/2016   38.3917  -118.8941        5.6\n",
       "23408  12/28/2016   38.3777  -118.8957        5.5\n",
       "23409  12/28/2016   36.9179   140.4262        5.9\n",
       "23410  12/29/2016   -9.0283   118.6639        6.3\n",
       "23411  12/30/2016   37.3973   141.4103        5.5\n",
       "\n",
       "[23412 rows x 4 columns]"
      ]
     },
     "execution_count": 3,
     "metadata": {},
     "output_type": "execute_result"
    }
   ],
   "source": [
    "df= pd.read_csv('https://raw.githubusercontent.com/plotly/datasets/master/earthquakes-23k.csv')\n",
    "df"
   ]
  },
  {
   "cell_type": "code",
   "execution_count": 40,
   "id": "e4c4e73f-95f2-4d17-a0d9-7bc459706bfc",
   "metadata": {},
   "outputs": [],
   "source": [
    "df_korea= pd.read_csv('earthquake_korea2.csv').iloc[:,[1,2,5,6]].rename(columns={'규모':'Magnitude'})"
   ]
  },
  {
   "cell_type": "code",
   "execution_count": 41,
   "id": "1eeb883f-2d2d-4442-a22c-e51efbc00df5",
   "metadata": {},
   "outputs": [],
   "source": [
    "df_global= pd.concat([pd.read_csv('00_05.csv'),pd.read_csv('05_10.csv'),pd.read_csv('10_15.csv'),pd.read_csv('15_20.csv')]).iloc[:,[0,1,2,4]].rename(columns={'latitude':'Latitude','longitude':'Longitude','mag':'Magnitude'}).reset_index().iloc[:,1:]"
   ]
  },
  {
   "cell_type": "markdown",
   "id": "bfa8ecef-a7d9-4fec-bd52-0963f7463d15",
   "metadata": {},
   "source": [
    "`-` cleaning"
   ]
  },
  {
   "cell_type": "code",
   "execution_count": 4,
   "id": "4bdde104-5708-4d93-9443-02be730b970b",
   "metadata": {},
   "outputs": [
    {
     "data": {
      "text/plain": [
       "3378    1975-02-23T02:58:41.000Z\n",
       "Name: Date, dtype: object"
      ]
     },
     "execution_count": 4,
     "metadata": {},
     "output_type": "execute_result"
    }
   ],
   "source": [
    "df.Date[df.Date == '1975-02-23T02:58:41.000Z']"
   ]
  },
  {
   "cell_type": "code",
   "execution_count": 5,
   "id": "f6dded53-1ee4-4516-9e3a-7ef269279818",
   "metadata": {},
   "outputs": [],
   "source": [
    "df.iloc[3378,0] = '02/03/1975'"
   ]
  },
  {
   "cell_type": "code",
   "execution_count": 6,
   "id": "098c6f68-5dce-4d4e-afa7-5c13080fca2d",
   "metadata": {},
   "outputs": [
    {
     "data": {
      "text/plain": [
       "7512    1985-04-28T02:53:41.530Z\n",
       "Name: Date, dtype: object"
      ]
     },
     "execution_count": 6,
     "metadata": {},
     "output_type": "execute_result"
    }
   ],
   "source": [
    "df.Date[df.Date == '1985-04-28T02:53:41.530Z']"
   ]
  },
  {
   "cell_type": "code",
   "execution_count": 7,
   "id": "016111d3-fe84-45e4-8e7f-5feb0ef1d100",
   "metadata": {},
   "outputs": [],
   "source": [
    "df.iloc[7512,0] = '04/28/1985'"
   ]
  },
  {
   "cell_type": "code",
   "execution_count": 8,
   "id": "9fb351b8-8d99-4934-b00f-b611a7ab8a34",
   "metadata": {},
   "outputs": [
    {
     "data": {
      "text/plain": [
       "20650    2011-03-13T02:23:34.520Z\n",
       "Name: Date, dtype: object"
      ]
     },
     "execution_count": 8,
     "metadata": {},
     "output_type": "execute_result"
    }
   ],
   "source": [
    "df.Date[df.Date == '2011-03-13T02:23:34.520Z']"
   ]
  },
  {
   "cell_type": "code",
   "execution_count": 9,
   "id": "22f313ad-ecf9-4b2b-8dad-542af76a811b",
   "metadata": {},
   "outputs": [],
   "source": [
    "df.iloc[20650,0] = '03/13/2011'"
   ]
  },
  {
   "cell_type": "code",
   "execution_count": 10,
   "id": "b9592a92-dfd4-4bbe-a194-16568d9863d6",
   "metadata": {},
   "outputs": [
    {
     "data": {
      "text/html": [
       "<div>\n",
       "<style scoped>\n",
       "    .dataframe tbody tr th:only-of-type {\n",
       "        vertical-align: middle;\n",
       "    }\n",
       "\n",
       "    .dataframe tbody tr th {\n",
       "        vertical-align: top;\n",
       "    }\n",
       "\n",
       "    .dataframe thead th {\n",
       "        text-align: right;\n",
       "    }\n",
       "</style>\n",
       "<table border=\"1\" class=\"dataframe\">\n",
       "  <thead>\n",
       "    <tr style=\"text-align: right;\">\n",
       "      <th></th>\n",
       "      <th>Latitude</th>\n",
       "      <th>Longitude</th>\n",
       "      <th>Magnitude</th>\n",
       "      <th>Year</th>\n",
       "    </tr>\n",
       "  </thead>\n",
       "  <tbody>\n",
       "    <tr>\n",
       "      <th>0</th>\n",
       "      <td>19.2460</td>\n",
       "      <td>145.6160</td>\n",
       "      <td>6.0</td>\n",
       "      <td>1965</td>\n",
       "    </tr>\n",
       "    <tr>\n",
       "      <th>1</th>\n",
       "      <td>1.8630</td>\n",
       "      <td>127.3520</td>\n",
       "      <td>5.8</td>\n",
       "      <td>1965</td>\n",
       "    </tr>\n",
       "    <tr>\n",
       "      <th>2</th>\n",
       "      <td>-20.5790</td>\n",
       "      <td>-173.9720</td>\n",
       "      <td>6.2</td>\n",
       "      <td>1965</td>\n",
       "    </tr>\n",
       "    <tr>\n",
       "      <th>3</th>\n",
       "      <td>-59.0760</td>\n",
       "      <td>-23.5570</td>\n",
       "      <td>5.8</td>\n",
       "      <td>1965</td>\n",
       "    </tr>\n",
       "    <tr>\n",
       "      <th>4</th>\n",
       "      <td>11.9380</td>\n",
       "      <td>126.4270</td>\n",
       "      <td>5.8</td>\n",
       "      <td>1965</td>\n",
       "    </tr>\n",
       "    <tr>\n",
       "      <th>...</th>\n",
       "      <td>...</td>\n",
       "      <td>...</td>\n",
       "      <td>...</td>\n",
       "      <td>...</td>\n",
       "    </tr>\n",
       "    <tr>\n",
       "      <th>23407</th>\n",
       "      <td>38.3917</td>\n",
       "      <td>-118.8941</td>\n",
       "      <td>5.6</td>\n",
       "      <td>2016</td>\n",
       "    </tr>\n",
       "    <tr>\n",
       "      <th>23408</th>\n",
       "      <td>38.3777</td>\n",
       "      <td>-118.8957</td>\n",
       "      <td>5.5</td>\n",
       "      <td>2016</td>\n",
       "    </tr>\n",
       "    <tr>\n",
       "      <th>23409</th>\n",
       "      <td>36.9179</td>\n",
       "      <td>140.4262</td>\n",
       "      <td>5.9</td>\n",
       "      <td>2016</td>\n",
       "    </tr>\n",
       "    <tr>\n",
       "      <th>23410</th>\n",
       "      <td>-9.0283</td>\n",
       "      <td>118.6639</td>\n",
       "      <td>6.3</td>\n",
       "      <td>2016</td>\n",
       "    </tr>\n",
       "    <tr>\n",
       "      <th>23411</th>\n",
       "      <td>37.3973</td>\n",
       "      <td>141.4103</td>\n",
       "      <td>5.5</td>\n",
       "      <td>2016</td>\n",
       "    </tr>\n",
       "  </tbody>\n",
       "</table>\n",
       "<p>23412 rows × 4 columns</p>\n",
       "</div>"
      ],
      "text/plain": [
       "       Latitude  Longitude  Magnitude  Year\n",
       "0       19.2460   145.6160        6.0  1965\n",
       "1        1.8630   127.3520        5.8  1965\n",
       "2      -20.5790  -173.9720        6.2  1965\n",
       "3      -59.0760   -23.5570        5.8  1965\n",
       "4       11.9380   126.4270        5.8  1965\n",
       "...         ...        ...        ...   ...\n",
       "23407   38.3917  -118.8941        5.6  2016\n",
       "23408   38.3777  -118.8957        5.5  2016\n",
       "23409   36.9179   140.4262        5.9  2016\n",
       "23410   -9.0283   118.6639        6.3  2016\n",
       "23411   37.3973   141.4103        5.5  2016\n",
       "\n",
       "[23412 rows x 4 columns]"
      ]
     },
     "execution_count": 10,
     "metadata": {},
     "output_type": "execute_result"
    }
   ],
   "source": [
    "df= df.assign(Year=list(map(lambda x: x.split('/')[-1], df.Date))).iloc[:,1:]\n",
    "df"
   ]
  },
  {
   "cell_type": "code",
   "execution_count": 11,
   "id": "ce96a2f8",
   "metadata": {},
   "outputs": [],
   "source": [
    "df.Year = df.Year.astype(np.float64)"
   ]
  },
  {
   "cell_type": "code",
   "execution_count": 42,
   "id": "56ab5b70-6750-40db-b810-7208f8b2c120",
   "metadata": {},
   "outputs": [],
   "source": [
    "df_korea = df_korea.assign(Year=list(map(lambda x: x.split('/')[0], df_korea.발생시각))).iloc[:,1:]\n",
    "df_korea = df_korea.assign(Latitude=list(map(lambda x: x.split(' ')[0], df_korea.위도))).iloc[:,[0,2,3,4]]\n",
    "df_korea = df_korea.assign(Longitude=list(map(lambda x: x.split(' ')[0], df_korea.경도))).iloc[:,[0,2,3,4]]"
   ]
  },
  {
   "cell_type": "code",
   "execution_count": 43,
   "id": "b94778c7-5ac1-4a27-af7e-4e61875b23e6",
   "metadata": {},
   "outputs": [],
   "source": [
    "df_global = df_global.assign(Year=list(map(lambda x: x.split('-')[0], df_global.time))).iloc[:,1:]"
   ]
  },
  {
   "cell_type": "code",
   "execution_count": 44,
   "id": "f53ed97d-c585-4faf-b1ac-570abbdfbb8c",
   "metadata": {},
   "outputs": [],
   "source": [
    "df_korea.Year = df_korea.Year.astype(np.float64)\n",
    "df_korea.Latitude = df_korea.Latitude.astype(np.float64)\n",
    "df_korea.Longitude = df_korea.Longitude.astype(np.float64)\n",
    "df_global.Year = df_global.Year.astype(np.float64)"
   ]
  },
  {
   "cell_type": "code",
   "execution_count": 157,
   "id": "5f6e141b-c477-425d-bac5-bc7f43203391",
   "metadata": {},
   "outputs": [
    {
     "data": {
      "text/html": [
       "<div>\n",
       "<style scoped>\n",
       "    .dataframe tbody tr th:only-of-type {\n",
       "        vertical-align: middle;\n",
       "    }\n",
       "\n",
       "    .dataframe tbody tr th {\n",
       "        vertical-align: top;\n",
       "    }\n",
       "\n",
       "    .dataframe thead th {\n",
       "        text-align: right;\n",
       "    }\n",
       "</style>\n",
       "<table border=\"1\" class=\"dataframe\">\n",
       "  <thead>\n",
       "    <tr style=\"text-align: right;\">\n",
       "      <th></th>\n",
       "      <th>Latitude</th>\n",
       "      <th>Longitude</th>\n",
       "      <th>Magnitude</th>\n",
       "      <th>Year</th>\n",
       "    </tr>\n",
       "  </thead>\n",
       "  <tbody>\n",
       "    <tr>\n",
       "      <th>9665</th>\n",
       "      <td>-4.963</td>\n",
       "      <td>133.760</td>\n",
       "      <td>7.0</td>\n",
       "      <td>2010.0</td>\n",
       "    </tr>\n",
       "    <tr>\n",
       "      <th>9812</th>\n",
       "      <td>-43.522</td>\n",
       "      <td>171.830</td>\n",
       "      <td>7.0</td>\n",
       "      <td>2010.0</td>\n",
       "    </tr>\n",
       "    <tr>\n",
       "      <th>9990</th>\n",
       "      <td>-5.746</td>\n",
       "      <td>150.765</td>\n",
       "      <td>7.0</td>\n",
       "      <td>2010.0</td>\n",
       "    </tr>\n",
       "    <tr>\n",
       "      <th>10269</th>\n",
       "      <td>-2.174</td>\n",
       "      <td>136.543</td>\n",
       "      <td>7.0</td>\n",
       "      <td>2010.0</td>\n",
       "    </tr>\n",
       "    <tr>\n",
       "      <th>10781</th>\n",
       "      <td>-34.326</td>\n",
       "      <td>-71.799</td>\n",
       "      <td>7.0</td>\n",
       "      <td>2010.0</td>\n",
       "    </tr>\n",
       "    <tr>\n",
       "      <th>11096</th>\n",
       "      <td>25.930</td>\n",
       "      <td>128.425</td>\n",
       "      <td>7.0</td>\n",
       "      <td>2010.0</td>\n",
       "    </tr>\n",
       "    <tr>\n",
       "      <th>11356</th>\n",
       "      <td>18.443</td>\n",
       "      <td>-72.571</td>\n",
       "      <td>7.0</td>\n",
       "      <td>2010.0</td>\n",
       "    </tr>\n",
       "    <tr>\n",
       "      <th>31374</th>\n",
       "      <td>-4.963</td>\n",
       "      <td>133.760</td>\n",
       "      <td>7.0</td>\n",
       "      <td>2010.0</td>\n",
       "    </tr>\n",
       "    <tr>\n",
       "      <th>31521</th>\n",
       "      <td>-43.522</td>\n",
       "      <td>171.830</td>\n",
       "      <td>7.0</td>\n",
       "      <td>2010.0</td>\n",
       "    </tr>\n",
       "    <tr>\n",
       "      <th>31699</th>\n",
       "      <td>-5.746</td>\n",
       "      <td>150.765</td>\n",
       "      <td>7.0</td>\n",
       "      <td>2010.0</td>\n",
       "    </tr>\n",
       "    <tr>\n",
       "      <th>31978</th>\n",
       "      <td>-2.174</td>\n",
       "      <td>136.543</td>\n",
       "      <td>7.0</td>\n",
       "      <td>2010.0</td>\n",
       "    </tr>\n",
       "    <tr>\n",
       "      <th>32490</th>\n",
       "      <td>-34.326</td>\n",
       "      <td>-71.799</td>\n",
       "      <td>7.0</td>\n",
       "      <td>2010.0</td>\n",
       "    </tr>\n",
       "    <tr>\n",
       "      <th>32805</th>\n",
       "      <td>25.930</td>\n",
       "      <td>128.425</td>\n",
       "      <td>7.0</td>\n",
       "      <td>2010.0</td>\n",
       "    </tr>\n",
       "    <tr>\n",
       "      <th>33065</th>\n",
       "      <td>18.443</td>\n",
       "      <td>-72.571</td>\n",
       "      <td>7.0</td>\n",
       "      <td>2010.0</td>\n",
       "    </tr>\n",
       "  </tbody>\n",
       "</table>\n",
       "</div>"
      ],
      "text/plain": [
       "       Latitude  Longitude  Magnitude    Year\n",
       "9665     -4.963    133.760        7.0  2010.0\n",
       "9812    -43.522    171.830        7.0  2010.0\n",
       "9990     -5.746    150.765        7.0  2010.0\n",
       "10269    -2.174    136.543        7.0  2010.0\n",
       "10781   -34.326    -71.799        7.0  2010.0\n",
       "11096    25.930    128.425        7.0  2010.0\n",
       "11356    18.443    -72.571        7.0  2010.0\n",
       "31374    -4.963    133.760        7.0  2010.0\n",
       "31521   -43.522    171.830        7.0  2010.0\n",
       "31699    -5.746    150.765        7.0  2010.0\n",
       "31978    -2.174    136.543        7.0  2010.0\n",
       "32490   -34.326    -71.799        7.0  2010.0\n",
       "32805    25.930    128.425        7.0  2010.0\n",
       "33065    18.443    -72.571        7.0  2010.0"
      ]
     },
     "execution_count": 157,
     "metadata": {},
     "output_type": "execute_result"
    }
   ],
   "source": [
    "df_global[(df_global.Magnitude == 7.0) & (df_global.Year == 2010)]"
   ]
  },
  {
   "cell_type": "markdown",
   "id": "d6edbeb0-281e-41f9-b7db-da7901e30452",
   "metadata": {
    "tags": []
   },
   "source": [
    "### define class"
   ]
  },
  {
   "cell_type": "code",
   "execution_count": 12,
   "id": "2e112881-a970-4763-a5ce-0a103f335fce",
   "metadata": {},
   "outputs": [],
   "source": [
    "class MooYaHo:\n",
    "    def __init__(self,df):\n",
    "        self.df = df \n",
    "        self.f = df.Magnitude.to_numpy()\n",
    "        self.year = df.Year.to_numpy()\n",
    "        self.lat = df.Latitude.to_numpy()\n",
    "        self.long = df.Longitude.to_numpy()\n",
    "        self.n = len(self.f)\n",
    "        self.theta= None\n",
    "    def get_distance(self):\n",
    "        self.D = np.zeros([self.n,self.n])\n",
    "        locations = np.stack([self.lat, self.long],axis=1)\n",
    "        for i in tqdm.tqdm(range(self.n)):\n",
    "            for j in range(i,self.n): \n",
    "                self.D[i,j]=haversine(locations[i],locations[j])\n",
    "        self.D = self.D+self.D.T\n",
    "    def get_weightmatrix(self,theta=1,beta=0.5,kappa=4000):\n",
    "        self.theta = theta\n",
    "        dist = np.where(self.D<kappa,self.D,0)\n",
    "        self.W = np.exp(-(dist/self.theta)**2)\n",
    "\n",
    "    def _eigen(self):\n",
    "        d= self.W.sum(axis=1)\n",
    "        D= np.diag(d)\n",
    "        self.L = np.diag(1/np.sqrt(d)) @ (D-self.W) @ np.diag(1/np.sqrt(d))\n",
    "        self.lamb, self.Psi = np.linalg.eigh(self.L)\n",
    "        self.Lamb = np.diag(self.lamb)        \n",
    "    def fit(self,m):\n",
    "        self._eigen()\n",
    "        self.fhat = self.Psi[:,0:m]@self.Psi[:,0:m].T@self.f\n",
    "        self.df = self.df.assign(MagnitudeHat = self.fhat)\n",
    "        self.df = self.df.assign(Residual = self.df.Magnitude- self.df.MagnitudeHat)\n",
    "        plt.plot(self.f,'.')\n",
    "        plt.plot(self.fhat,'x')\n",
    "        \n",
    "    def vis(self,MagThresh=7,ResThresh=1):\n",
    "        fig = px.density_mapbox(self.df, \n",
    "                        lat='Latitude', \n",
    "                        lon='Longitude', \n",
    "                        z='Magnitude', \n",
    "                        radius=15,\n",
    "                        center=dict(lat=37, lon=160), \n",
    "                        zoom=1.5,\n",
    "                        height=900,\n",
    "                        opacity = 0.3,\n",
    "                        mapbox_style=\"stamen-terrain\")\n",
    "        fig.update_layout(margin={\"r\":0,\"t\":0,\"l\":0,\"b\":0})\n",
    "        fig.add_scattermapbox(lat = self.df.query('Magnitude > @MagThresh')['Latitude'],\n",
    "                      lon = self.df.query('Magnitude > @MagThresh')['Longitude'],\n",
    "                      text = self.df.query('Magnitude > @MagThresh')['Magnitude'],\n",
    "                      marker_size= 8,\n",
    "                      marker_color= 'red',\n",
    "                      opacity = 0.5\n",
    "                      )\n",
    "        fig.add_scattermapbox(lat = self.df.query('Residual**2 > @ResThresh')['Latitude'],\n",
    "                      lon = self.df.query('Residual**2 > @ResThresh')['Longitude'],\n",
    "                      text = self.df.query('Magnitude > @ResThresh')['Magnitude'],\n",
    "                      marker_size= 8,\n",
    "                      marker_color= 'blue',\n",
    "                      opacity = 0.5\n",
    "                      )\n",
    "        return HTML(fig.to_html(include_mathjax=False, config=dict({'scrollZoom':False})))"
   ]
  },
  {
   "cell_type": "code",
   "execution_count": 13,
   "id": "e1da0ee7-2136-4089-91d8-e0cb270553f9",
   "metadata": {},
   "outputs": [],
   "source": [
    "class MooYaHo2(MooYaHo): # ebayesthresh 기능추가\n",
    "    def fit2(self): # fit with ebayesthresh\n",
    "        self._eigen()\n",
    "        self.fbar = self.Psi.T @ self.f # fbar := graph fourier transform of f\n",
    "        self.power = self.fbar**2 \n",
    "        ebayesthresh = importr('EbayesThresh').ebayesthresh\n",
    "        self.power_threshed=np.array(ebayesthresh(FloatVector(self.fbar**2)))\n",
    "        self.fbar_threshed = np.where(self.power_threshed>0,self.fbar,0)\n",
    "        self.fhat = self.Psi@self.fbar_threshed\n",
    "        self.df = self.df.assign(MagnitudeHat = self.fhat)\n",
    "        self.df = self.df.assign(Residual = self.df.Magnitude- self.df.MagnitudeHat)\n",
    "        plt.plot(self.f,'.')\n",
    "        plt.plot(self.fhat,'x')\n",
    "        "
   ]
  },
  {
   "cell_type": "code",
   "execution_count": 82,
   "id": "46dd3930-8781-4176-93f0-fd27d364236f",
   "metadata": {},
   "outputs": [],
   "source": [
    "class MooYaHo3(MooYaHo2):\n",
    "    def vis(self,MagThresh=7,ResThresh=1):\n",
    "        fig = px.density_mapbox(self.df, \n",
    "                        lat='Latitude', \n",
    "                        lon='Longitude', \n",
    "                        z='Magnitude', \n",
    "                        radius=15,\n",
    "                        center=dict(lat=37, lon=126), \n",
    "                        zoom=5.7,\n",
    "                        height=900,\n",
    "                        opacity = 0.3,\n",
    "                        mapbox_style=\"stamen-terrain\")\n",
    "        fig.update_layout(margin={\"r\":0,\"t\":0,\"l\":0,\"b\":0})\n",
    "        fig.add_scattermapbox(lat = self.df.query('Magnitude > @MagThresh')['Latitude'],\n",
    "                      lon = self.df.query('Magnitude > @MagThresh')['Longitude'],\n",
    "                      text = self.df.query('Magnitude > @MagThresh')['Magnitude'],\n",
    "                      marker_size= 8,\n",
    "                      marker_color= 'red',\n",
    "                      opacity = 0.5\n",
    "                      )\n",
    "        fig.add_scattermapbox(lat = self.df.query('Residual**2 > @ResThresh')['Latitude'],\n",
    "                      lon = self.df.query('Residual**2 > @ResThresh')['Longitude'],\n",
    "                      text = self.df.query('Magnitude > @ResThresh')['Magnitude'],\n",
    "                      marker_size= 8,\n",
    "                      marker_color= 'blue',\n",
    "                      opacity = 0.5\n",
    "                      )\n",
    "        return HTML(fig.to_html(include_mathjax=False, config=dict({'scrollZoom':False})))"
   ]
  },
  {
   "cell_type": "code",
   "execution_count": 17,
   "id": "f89312bf-1f78-41b0-8198-15c3d4554332",
   "metadata": {},
   "outputs": [],
   "source": [
    "       ebayesthresh = importr('EbayesThresh').ebayesthresh"
   ]
  },
  {
   "cell_type": "markdown",
   "id": "458df404-7869-4e9c-9146-cf212024e421",
   "metadata": {
    "tags": []
   },
   "source": [
    "### analysis_df"
   ]
  },
  {
   "cell_type": "markdown",
   "id": "82e5b3ea-4303-4a2d-b533-5aa247a0414c",
   "metadata": {},
   "source": [
    "`-` make instance for analysis"
   ]
  },
  {
   "cell_type": "code",
   "execution_count": 18,
   "id": "ec53d0b7-4270-4b5a-ace6-f887af2df5ab",
   "metadata": {},
   "outputs": [],
   "source": [
    "moo=MooYaHo2(df.query(\"Year == 2016\"))"
   ]
  },
  {
   "cell_type": "markdown",
   "id": "fae50236-cf19-44d1-bf30-1cd8cd18bd92",
   "metadata": {},
   "source": [
    "- 테스트용으로 2016년 자료만 수집"
   ]
  },
  {
   "cell_type": "markdown",
   "id": "8eeb7048-957e-4ad1-8cb2-ab7a078602ac",
   "metadata": {},
   "source": [
    "`-` get distance "
   ]
  },
  {
   "cell_type": "code",
   "execution_count": 19,
   "id": "4f99cd72",
   "metadata": {},
   "outputs": [
    {
     "name": "stderr",
     "output_type": "stream",
     "text": [
      "100%|██████████| 469/469 [00:00<00:00, 1478.49it/s]\n"
     ]
    }
   ],
   "source": [
    "moo.get_distance()"
   ]
  },
  {
   "cell_type": "code",
   "execution_count": 20,
   "id": "9a0c1bc3-a15b-404e-af6c-052890541300",
   "metadata": {},
   "outputs": [
    {
     "data": {
      "text/plain": [
       "8647.918085847994"
      ]
     },
     "execution_count": 20,
     "metadata": {},
     "output_type": "execute_result"
    }
   ],
   "source": [
    "moo.D[moo.D>0].mean()"
   ]
  },
  {
   "cell_type": "markdown",
   "id": "eb60653b-b2a8-45ce-83d2-9fd234997717",
   "metadata": {},
   "source": [
    "- 0이 아닌 거리의 평균은 8600정도?"
   ]
  },
  {
   "cell_type": "code",
   "execution_count": 21,
   "id": "516dbf95",
   "metadata": {},
   "outputs": [
    {
     "data": {
      "text/plain": [
       "(array([18438., 25088., 29216., 29204., 30978., 28712., 22932., 17002.,\n",
       "        13158.,  4764.]),\n",
       " array([3.09519959e-01, 1.99516074e+03, 3.99001197e+03, 5.98486319e+03,\n",
       "        7.97971442e+03, 9.97456564e+03, 1.19694169e+04, 1.39642681e+04,\n",
       "        1.59591193e+04, 1.79539705e+04, 1.99488218e+04]),\n",
       " <BarContainer object of 10 artists>)"
      ]
     },
     "execution_count": 21,
     "metadata": {},
     "output_type": "execute_result"
    },
    {
     "data": {
      "image/png": "[encoded data removed]",
      "text/plain": [
       "<Figure size 432x288 with 1 Axes>"
      ]
     },
     "metadata": {
      "needs_background": "light"
     },
     "output_type": "display_data"
    }
   ],
   "source": [
    "plt.hist(moo.D[moo.D>0])"
   ]
  },
  {
   "cell_type": "markdown",
   "id": "bb7b7a6c-1559-4f3d-88a0-390e01695aae",
   "metadata": {},
   "source": [
    "- 히스토그램결과 -> 2500보다 거리가 작으면 거의 같은 지역이라고 봐도 무방할듯"
   ]
  },
  {
   "cell_type": "markdown",
   "id": "15745b57-e3ef-489a-93ac-2f1b81357c18",
   "metadata": {},
   "source": [
    "`-` weight matrix"
   ]
  },
  {
   "cell_type": "code",
   "execution_count": 22,
   "id": "2c124a87-4c3c-4d42-8386-23d2b349086e",
   "metadata": {},
   "outputs": [],
   "source": [
    "moo.get_weightmatrix(theta=(8647.92),kappa=2500) "
   ]
  },
  {
   "cell_type": "markdown",
   "id": "53af4c2e-085d-4265-93c6-09818811e331",
   "metadata": {},
   "source": [
    "- 평균적으로 노드는 `np.exp(-(dist/8647)**2)=np.exp(-1)=0.36787944117144233` 정도의 연결강도를 가진다. \n",
    "- 거리가 2500이하이면 weight를 1로 설정한다. "
   ]
  },
  {
   "cell_type": "markdown",
   "id": "798802db-1490-4a44-a01c-8fa27d0dad0c",
   "metadata": {},
   "source": [
    "`-` fit"
   ]
  },
  {
   "cell_type": "code",
   "execution_count": 23,
   "id": "33b507dc-1816-4435-ac86-3ba5aba7c422",
   "metadata": {},
   "outputs": [
    {
     "data": {
      "image/png": "[encoded data removed]",
      "text/plain": [
       "<Figure size 432x288 with 1 Axes>"
      ]
     },
     "metadata": {
      "needs_background": "light"
     },
     "output_type": "display_data"
    }
   ],
   "source": [
    "moo.fit2()"
   ]
  },
  {
   "cell_type": "code",
   "execution_count": 24,
   "id": "f6f31502-0bd8-4ea0-b6ee-8ab0f870a92f",
   "metadata": {},
   "outputs": [
    {
     "data": {
      "text/html": [
       "<div>\n",
       "<style scoped>\n",
       "    .dataframe tbody tr th:only-of-type {\n",
       "        vertical-align: middle;\n",
       "    }\n",
       "\n",
       "    .dataframe tbody tr th {\n",
       "        vertical-align: top;\n",
       "    }\n",
       "\n",
       "    .dataframe thead th {\n",
       "        text-align: right;\n",
       "    }\n",
       "</style>\n",
       "<table border=\"1\" class=\"dataframe\">\n",
       "  <thead>\n",
       "    <tr style=\"text-align: right;\">\n",
       "      <th></th>\n",
       "      <th>Latitude</th>\n",
       "      <th>Longitude</th>\n",
       "      <th>Magnitude</th>\n",
       "      <th>Year</th>\n",
       "      <th>MagnitudeHat</th>\n",
       "      <th>Residual</th>\n",
       "    </tr>\n",
       "  </thead>\n",
       "  <tbody>\n",
       "    <tr>\n",
       "      <th>22943</th>\n",
       "      <td>-50.5575</td>\n",
       "      <td>139.4489</td>\n",
       "      <td>6.3</td>\n",
       "      <td>2016.0</td>\n",
       "      <td>6.281381</td>\n",
       "      <td>0.018619</td>\n",
       "    </tr>\n",
       "    <tr>\n",
       "      <th>22944</th>\n",
       "      <td>-28.6278</td>\n",
       "      <td>-177.2810</td>\n",
       "      <td>5.8</td>\n",
       "      <td>2016.0</td>\n",
       "      <td>5.851652</td>\n",
       "      <td>-0.051652</td>\n",
       "    </tr>\n",
       "    <tr>\n",
       "      <th>22945</th>\n",
       "      <td>44.8069</td>\n",
       "      <td>129.9406</td>\n",
       "      <td>5.8</td>\n",
       "      <td>2016.0</td>\n",
       "      <td>6.064076</td>\n",
       "      <td>-0.264076</td>\n",
       "    </tr>\n",
       "    <tr>\n",
       "      <th>22946</th>\n",
       "      <td>24.8036</td>\n",
       "      <td>93.6505</td>\n",
       "      <td>6.7</td>\n",
       "      <td>2016.0</td>\n",
       "      <td>6.490338</td>\n",
       "      <td>0.209662</td>\n",
       "    </tr>\n",
       "    <tr>\n",
       "      <th>22947</th>\n",
       "      <td>30.6132</td>\n",
       "      <td>132.7337</td>\n",
       "      <td>5.8</td>\n",
       "      <td>2016.0</td>\n",
       "      <td>5.905925</td>\n",
       "      <td>-0.105925</td>\n",
       "    </tr>\n",
       "    <tr>\n",
       "      <th>...</th>\n",
       "      <td>...</td>\n",
       "      <td>...</td>\n",
       "      <td>...</td>\n",
       "      <td>...</td>\n",
       "      <td>...</td>\n",
       "      <td>...</td>\n",
       "    </tr>\n",
       "    <tr>\n",
       "      <th>23407</th>\n",
       "      <td>38.3917</td>\n",
       "      <td>-118.8941</td>\n",
       "      <td>5.6</td>\n",
       "      <td>2016.0</td>\n",
       "      <td>5.582930</td>\n",
       "      <td>0.017070</td>\n",
       "    </tr>\n",
       "    <tr>\n",
       "      <th>23408</th>\n",
       "      <td>38.3777</td>\n",
       "      <td>-118.8957</td>\n",
       "      <td>5.5</td>\n",
       "      <td>2016.0</td>\n",
       "      <td>5.710473</td>\n",
       "      <td>-0.210473</td>\n",
       "    </tr>\n",
       "    <tr>\n",
       "      <th>23409</th>\n",
       "      <td>36.9179</td>\n",
       "      <td>140.4262</td>\n",
       "      <td>5.9</td>\n",
       "      <td>2016.0</td>\n",
       "      <td>5.954437</td>\n",
       "      <td>-0.054437</td>\n",
       "    </tr>\n",
       "    <tr>\n",
       "      <th>23410</th>\n",
       "      <td>-9.0283</td>\n",
       "      <td>118.6639</td>\n",
       "      <td>6.3</td>\n",
       "      <td>2016.0</td>\n",
       "      <td>6.277083</td>\n",
       "      <td>0.022917</td>\n",
       "    </tr>\n",
       "    <tr>\n",
       "      <th>23411</th>\n",
       "      <td>37.3973</td>\n",
       "      <td>141.4103</td>\n",
       "      <td>5.5</td>\n",
       "      <td>2016.0</td>\n",
       "      <td>5.756306</td>\n",
       "      <td>-0.256306</td>\n",
       "    </tr>\n",
       "  </tbody>\n",
       "</table>\n",
       "<p>469 rows × 6 columns</p>\n",
       "</div>"
      ],
      "text/plain": [
       "       Latitude  Longitude  Magnitude    Year  MagnitudeHat  Residual\n",
       "22943  -50.5575   139.4489        6.3  2016.0      6.281381  0.018619\n",
       "22944  -28.6278  -177.2810        5.8  2016.0      5.851652 -0.051652\n",
       "22945   44.8069   129.9406        5.8  2016.0      6.064076 -0.264076\n",
       "22946   24.8036    93.6505        6.7  2016.0      6.490338  0.209662\n",
       "22947   30.6132   132.7337        5.8  2016.0      5.905925 -0.105925\n",
       "...         ...        ...        ...     ...           ...       ...\n",
       "23407   38.3917  -118.8941        5.6  2016.0      5.582930  0.017070\n",
       "23408   38.3777  -118.8957        5.5  2016.0      5.710473 -0.210473\n",
       "23409   36.9179   140.4262        5.9  2016.0      5.954437 -0.054437\n",
       "23410   -9.0283   118.6639        6.3  2016.0      6.277083  0.022917\n",
       "23411   37.3973   141.4103        5.5  2016.0      5.756306 -0.256306\n",
       "\n",
       "[469 rows x 6 columns]"
      ]
     },
     "execution_count": 24,
     "metadata": {},
     "output_type": "execute_result"
    }
   ],
   "source": [
    "moo.df"
   ]
  },
  {
   "cell_type": "code",
   "execution_count": 25,
   "id": "f23072aa-bcf5-40a3-9bc7-06d591df80aa",
   "metadata": {},
   "outputs": [
    {
     "data": {
      "text/html": [
       "<div>\n",
       "<style scoped>\n",
       "    .dataframe tbody tr th:only-of-type {\n",
       "        vertical-align: middle;\n",
       "    }\n",
       "\n",
       "    .dataframe tbody tr th {\n",
       "        vertical-align: top;\n",
       "    }\n",
       "\n",
       "    .dataframe thead th {\n",
       "        text-align: right;\n",
       "    }\n",
       "</style>\n",
       "<table border=\"1\" class=\"dataframe\">\n",
       "  <thead>\n",
       "    <tr style=\"text-align: right;\">\n",
       "      <th></th>\n",
       "      <th>Latitude</th>\n",
       "      <th>Longitude</th>\n",
       "      <th>Magnitude</th>\n",
       "      <th>Year</th>\n",
       "      <th>MagnitudeHat</th>\n",
       "      <th>Residual</th>\n",
       "    </tr>\n",
       "  </thead>\n",
       "  <tbody>\n",
       "    <tr>\n",
       "      <th>22969</th>\n",
       "      <td>59.6363</td>\n",
       "      <td>-153.4051</td>\n",
       "      <td>7.1</td>\n",
       "      <td>2016.0</td>\n",
       "      <td>6.778637</td>\n",
       "      <td>0.321363</td>\n",
       "    </tr>\n",
       "    <tr>\n",
       "      <th>22976</th>\n",
       "      <td>53.9776</td>\n",
       "      <td>158.5463</td>\n",
       "      <td>7.2</td>\n",
       "      <td>2016.0</td>\n",
       "      <td>7.210593</td>\n",
       "      <td>-0.010593</td>\n",
       "    </tr>\n",
       "    <tr>\n",
       "      <th>23005</th>\n",
       "      <td>-4.9521</td>\n",
       "      <td>94.3299</td>\n",
       "      <td>7.8</td>\n",
       "      <td>2016.0</td>\n",
       "      <td>7.745838</td>\n",
       "      <td>0.054162</td>\n",
       "    </tr>\n",
       "    <tr>\n",
       "      <th>23066</th>\n",
       "      <td>0.3819</td>\n",
       "      <td>-79.9218</td>\n",
       "      <td>7.8</td>\n",
       "      <td>2016.0</td>\n",
       "      <td>7.384892</td>\n",
       "      <td>0.415108</td>\n",
       "    </tr>\n",
       "    <tr>\n",
       "      <th>23116</th>\n",
       "      <td>-56.2409</td>\n",
       "      <td>-26.9353</td>\n",
       "      <td>7.2</td>\n",
       "      <td>2016.0</td>\n",
       "      <td>7.161455</td>\n",
       "      <td>0.038545</td>\n",
       "    </tr>\n",
       "    <tr>\n",
       "      <th>23193</th>\n",
       "      <td>18.5429</td>\n",
       "      <td>145.5073</td>\n",
       "      <td>7.7</td>\n",
       "      <td>2016.0</td>\n",
       "      <td>7.444264</td>\n",
       "      <td>0.255736</td>\n",
       "    </tr>\n",
       "    <tr>\n",
       "      <th>23203</th>\n",
       "      <td>-22.4765</td>\n",
       "      <td>173.1167</td>\n",
       "      <td>7.2</td>\n",
       "      <td>2016.0</td>\n",
       "      <td>6.674166</td>\n",
       "      <td>0.525834</td>\n",
       "    </tr>\n",
       "    <tr>\n",
       "      <th>23213</th>\n",
       "      <td>-55.2852</td>\n",
       "      <td>-31.8766</td>\n",
       "      <td>7.4</td>\n",
       "      <td>2016.0</td>\n",
       "      <td>7.353259</td>\n",
       "      <td>0.046741</td>\n",
       "    </tr>\n",
       "    <tr>\n",
       "      <th>23230</th>\n",
       "      <td>-0.0456</td>\n",
       "      <td>-17.8255</td>\n",
       "      <td>7.1</td>\n",
       "      <td>2016.0</td>\n",
       "      <td>6.991051</td>\n",
       "      <td>0.108949</td>\n",
       "    </tr>\n",
       "    <tr>\n",
       "      <th>23326</th>\n",
       "      <td>-42.7358</td>\n",
       "      <td>173.0499</td>\n",
       "      <td>7.8</td>\n",
       "      <td>2016.0</td>\n",
       "      <td>7.304564</td>\n",
       "      <td>0.495436</td>\n",
       "    </tr>\n",
       "    <tr>\n",
       "      <th>23369</th>\n",
       "      <td>-10.6787</td>\n",
       "      <td>161.3214</td>\n",
       "      <td>7.8</td>\n",
       "      <td>2016.0</td>\n",
       "      <td>7.436619</td>\n",
       "      <td>0.363381</td>\n",
       "    </tr>\n",
       "    <tr>\n",
       "      <th>23386</th>\n",
       "      <td>-4.5049</td>\n",
       "      <td>153.5216</td>\n",
       "      <td>7.9</td>\n",
       "      <td>2016.0</td>\n",
       "      <td>7.397445</td>\n",
       "      <td>0.502555</td>\n",
       "    </tr>\n",
       "    <tr>\n",
       "      <th>23403</th>\n",
       "      <td>-43.4029</td>\n",
       "      <td>-73.9395</td>\n",
       "      <td>7.6</td>\n",
       "      <td>2016.0</td>\n",
       "      <td>7.551050</td>\n",
       "      <td>0.048950</td>\n",
       "    </tr>\n",
       "  </tbody>\n",
       "</table>\n",
       "</div>"
      ],
      "text/plain": [
       "       Latitude  Longitude  Magnitude    Year  MagnitudeHat  Residual\n",
       "22969   59.6363  -153.4051        7.1  2016.0      6.778637  0.321363\n",
       "22976   53.9776   158.5463        7.2  2016.0      7.210593 -0.010593\n",
       "23005   -4.9521    94.3299        7.8  2016.0      7.745838  0.054162\n",
       "23066    0.3819   -79.9218        7.8  2016.0      7.384892  0.415108\n",
       "23116  -56.2409   -26.9353        7.2  2016.0      7.161455  0.038545\n",
       "23193   18.5429   145.5073        7.7  2016.0      7.444264  0.255736\n",
       "23203  -22.4765   173.1167        7.2  2016.0      6.674166  0.525834\n",
       "23213  -55.2852   -31.8766        7.4  2016.0      7.353259  0.046741\n",
       "23230   -0.0456   -17.8255        7.1  2016.0      6.991051  0.108949\n",
       "23326  -42.7358   173.0499        7.8  2016.0      7.304564  0.495436\n",
       "23369  -10.6787   161.3214        7.8  2016.0      7.436619  0.363381\n",
       "23386   -4.5049   153.5216        7.9  2016.0      7.397445  0.502555\n",
       "23403  -43.4029   -73.9395        7.6  2016.0      7.551050  0.048950"
      ]
     },
     "execution_count": 25,
     "metadata": {},
     "output_type": "execute_result"
    }
   ],
   "source": [
    "moo.df.query('Magnitude>7')"
   ]
  },
  {
   "cell_type": "code",
   "execution_count": 26,
   "id": "aa9cc6cc-88e1-4347-a349-cc1983285344",
   "metadata": {},
   "outputs": [
    {
     "data": {
      "text/plain": [
       "[<matplotlib.lines.Line2D at 0x7f387f631190>]"
      ]
     },
     "execution_count": 26,
     "metadata": {},
     "output_type": "execute_result"
    },
    {
     "data": {
      "image/png": "[encoded data removed]",
      "text/plain": [
       "<Figure size 432x288 with 1 Axes>"
      ]
     },
     "metadata": {
      "needs_background": "light"
     },
     "output_type": "display_data"
    }
   ],
   "source": [
    "plt.plot((moo.df.Residual)**2)"
   ]
  },
  {
   "cell_type": "markdown",
   "id": "26f32ee9-6a27-4ffe-ae08-9d712d579526",
   "metadata": {},
   "source": [
    "`-` vis"
   ]
  },
  {
   "cell_type": "code",
   "execution_count": 28,
   "id": "d636666e-439d-4728-8c7d-d2289142f9af",
   "metadata": {},
   "outputs": [],
   "source": [
    "#moo.vis(MagThresh=7,ResThresh=0.3) # <- 실행해봐요"
   ]
  },
  {
   "cell_type": "markdown",
   "id": "8bc79895-ccbd-494b-816e-326719f38e4e",
   "metadata": {},
   "source": [
    "- 전체자료는 underlying에 위치 \n",
    "- 지진강도가 MagThresh 이상인 자료는 붉은점으로 시각화함 \n",
    "- 이상치정도(우리가 제안하는 새로운 메져) ResThresh 이상인 자료는 파란점으로 시각화함 "
   ]
  },
  {
   "cell_type": "markdown",
   "id": "3f139003-e52c-4457-bc01-6182b970cd79",
   "metadata": {
    "tags": []
   },
   "source": [
    "### analysis_df_korea"
   ]
  },
  {
   "cell_type": "markdown",
   "id": "adc61812-80d0-4a28-9fbf-5718a8019a7e",
   "metadata": {},
   "source": [
    "`-` make instance for analysis"
   ]
  },
  {
   "cell_type": "code",
   "execution_count": 194,
   "id": "393502be-28d1-407d-bd99-57201ee54dab",
   "metadata": {},
   "outputs": [],
   "source": [
    "moo_korea=MooYaHo3(df_korea.query(\"Year >= 2010\"))"
   ]
  },
  {
   "cell_type": "markdown",
   "id": "f290f186-e2ca-4738-a8c7-49ecbfc3212d",
   "metadata": {},
   "source": [
    "`-` get distance "
   ]
  },
  {
   "cell_type": "code",
   "execution_count": 195,
   "id": "58b75192-2037-4c25-bf23-f6ed51b9b64b",
   "metadata": {},
   "outputs": [
    {
     "name": "stderr",
     "output_type": "stream",
     "text": [
      "100%|██████████| 1089/1089 [00:01<00:00, 635.25it/s]\n"
     ]
    }
   ],
   "source": [
    "moo_korea.get_distance()"
   ]
  },
  {
   "cell_type": "code",
   "execution_count": 196,
   "id": "9aef406d-f5ea-4396-8ff8-bbb0ec128ca4",
   "metadata": {},
   "outputs": [
    {
     "data": {
      "text/plain": [
       "280.08231084100714"
      ]
     },
     "execution_count": 196,
     "metadata": {},
     "output_type": "execute_result"
    }
   ],
   "source": [
    "moo_korea.D[moo_korea.D>0].mean()"
   ]
  },
  {
   "cell_type": "code",
   "execution_count": 197,
   "id": "f1e90d40-3415-46ec-88d3-30d2e8b9029a",
   "metadata": {},
   "outputs": [
    {
     "data": {
      "text/plain": [
       "(array([240072., 198280., 184446., 213856., 223120.,  70214.,  37058.,\n",
       "          5692.,   3788.,   4064.]),\n",
       " array([8.35112529e-01, 9.93726346e+01, 1.97910157e+02, 2.96447679e+02,\n",
       "        3.94985201e+02, 4.93522723e+02, 5.92060245e+02, 6.90597767e+02,\n",
       "        7.89135289e+02, 8.87672811e+02, 9.86210333e+02]),\n",
       " <BarContainer object of 10 artists>)"
      ]
     },
     "execution_count": 197,
     "metadata": {},
     "output_type": "execute_result"
    },
    {
     "data": {
      "image/png": "[encoded data removed]",
      "text/plain": [
       "<Figure size 432x288 with 1 Axes>"
      ]
     },
     "metadata": {
      "needs_background": "light"
     },
     "output_type": "display_data"
    }
   ],
   "source": [
    "plt.hist(moo_korea.D[moo_korea.D>0])"
   ]
  },
  {
   "cell_type": "markdown",
   "id": "9483e76b-e2d5-4248-856f-283cbf40c67a",
   "metadata": {},
   "source": [
    "`-` weight matrix"
   ]
  },
  {
   "cell_type": "code",
   "execution_count": 199,
   "id": "fee34ad6-b111-4ecc-b3c9-45d9d35b988a",
   "metadata": {},
   "outputs": [],
   "source": [
    "moo_korea.get_weightmatrix(theta=(280.08),kappa=200) "
   ]
  },
  {
   "cell_type": "markdown",
   "id": "486ffeb1-a42d-4369-8e71-0b019817315d",
   "metadata": {},
   "source": [
    "`-` fit"
   ]
  },
  {
   "cell_type": "code",
   "execution_count": 200,
   "id": "df4bed3e-e082-4fd7-a795-74a0cb3df20a",
   "metadata": {},
   "outputs": [
    {
     "data": {
      "image/png": "[encoded data removed]",
      "text/plain": [
       "<Figure size 432x288 with 1 Axes>"
      ]
     },
     "metadata": {
      "needs_background": "light"
     },
     "output_type": "display_data"
    }
   ],
   "source": [
    "moo_korea.fit2()"
   ]
  },
  {
   "cell_type": "code",
   "execution_count": 201,
   "id": "1ccfe313-af2a-44a1-b167-179ae4b4d6ca",
   "metadata": {},
   "outputs": [
    {
     "data": {
      "text/html": [
       "<div>\n",
       "<style scoped>\n",
       "    .dataframe tbody tr th:only-of-type {\n",
       "        vertical-align: middle;\n",
       "    }\n",
       "\n",
       "    .dataframe tbody tr th {\n",
       "        vertical-align: top;\n",
       "    }\n",
       "\n",
       "    .dataframe thead th {\n",
       "        text-align: right;\n",
       "    }\n",
       "</style>\n",
       "<table border=\"1\" class=\"dataframe\">\n",
       "  <thead>\n",
       "    <tr style=\"text-align: right;\">\n",
       "      <th></th>\n",
       "      <th>Magnitude</th>\n",
       "      <th>Year</th>\n",
       "      <th>Latitude</th>\n",
       "      <th>Longitude</th>\n",
       "      <th>MagnitudeHat</th>\n",
       "      <th>Residual</th>\n",
       "    </tr>\n",
       "  </thead>\n",
       "  <tbody>\n",
       "    <tr>\n",
       "      <th>0</th>\n",
       "      <td>2.6</td>\n",
       "      <td>2022.0</td>\n",
       "      <td>38.12</td>\n",
       "      <td>130.98</td>\n",
       "      <td>2.604306</td>\n",
       "      <td>-0.004306</td>\n",
       "    </tr>\n",
       "    <tr>\n",
       "      <th>1</th>\n",
       "      <td>2.3</td>\n",
       "      <td>2022.0</td>\n",
       "      <td>33.34</td>\n",
       "      <td>127.22</td>\n",
       "      <td>2.396215</td>\n",
       "      <td>-0.096215</td>\n",
       "    </tr>\n",
       "    <tr>\n",
       "      <th>2</th>\n",
       "      <td>2.3</td>\n",
       "      <td>2022.0</td>\n",
       "      <td>38.98</td>\n",
       "      <td>127.29</td>\n",
       "      <td>2.093405</td>\n",
       "      <td>0.206595</td>\n",
       "    </tr>\n",
       "    <tr>\n",
       "      <th>3</th>\n",
       "      <td>2.3</td>\n",
       "      <td>2022.0</td>\n",
       "      <td>38.85</td>\n",
       "      <td>125.78</td>\n",
       "      <td>2.441687</td>\n",
       "      <td>-0.141687</td>\n",
       "    </tr>\n",
       "    <tr>\n",
       "      <th>4</th>\n",
       "      <td>2.3</td>\n",
       "      <td>2022.0</td>\n",
       "      <td>37.26</td>\n",
       "      <td>126.10</td>\n",
       "      <td>2.674811</td>\n",
       "      <td>-0.374811</td>\n",
       "    </tr>\n",
       "    <tr>\n",
       "      <th>...</th>\n",
       "      <td>...</td>\n",
       "      <td>...</td>\n",
       "      <td>...</td>\n",
       "      <td>...</td>\n",
       "      <td>...</td>\n",
       "      <td>...</td>\n",
       "    </tr>\n",
       "    <tr>\n",
       "      <th>1084</th>\n",
       "      <td>2.5</td>\n",
       "      <td>2012.0</td>\n",
       "      <td>35.13</td>\n",
       "      <td>129.80</td>\n",
       "      <td>2.284130</td>\n",
       "      <td>0.215870</td>\n",
       "    </tr>\n",
       "    <tr>\n",
       "      <th>1085</th>\n",
       "      <td>2.7</td>\n",
       "      <td>2012.0</td>\n",
       "      <td>35.13</td>\n",
       "      <td>129.89</td>\n",
       "      <td>2.679352</td>\n",
       "      <td>0.020648</td>\n",
       "    </tr>\n",
       "    <tr>\n",
       "      <th>1086</th>\n",
       "      <td>2.2</td>\n",
       "      <td>2012.0</td>\n",
       "      <td>37.12</td>\n",
       "      <td>125.96</td>\n",
       "      <td>2.318098</td>\n",
       "      <td>-0.118098</td>\n",
       "    </tr>\n",
       "    <tr>\n",
       "      <th>1087</th>\n",
       "      <td>2.7</td>\n",
       "      <td>2012.0</td>\n",
       "      <td>38.51</td>\n",
       "      <td>126.23</td>\n",
       "      <td>2.380168</td>\n",
       "      <td>0.319832</td>\n",
       "    </tr>\n",
       "    <tr>\n",
       "      <th>1088</th>\n",
       "      <td>2.2</td>\n",
       "      <td>2012.0</td>\n",
       "      <td>36.79</td>\n",
       "      <td>128.75</td>\n",
       "      <td>2.177098</td>\n",
       "      <td>0.022902</td>\n",
       "    </tr>\n",
       "  </tbody>\n",
       "</table>\n",
       "<p>1089 rows × 6 columns</p>\n",
       "</div>"
      ],
      "text/plain": [
       "      Magnitude    Year  Latitude  Longitude  MagnitudeHat  Residual\n",
       "0           2.6  2022.0     38.12     130.98      2.604306 -0.004306\n",
       "1           2.3  2022.0     33.34     127.22      2.396215 -0.096215\n",
       "2           2.3  2022.0     38.98     127.29      2.093405  0.206595\n",
       "3           2.3  2022.0     38.85     125.78      2.441687 -0.141687\n",
       "4           2.3  2022.0     37.26     126.10      2.674811 -0.374811\n",
       "...         ...     ...       ...        ...           ...       ...\n",
       "1084        2.5  2012.0     35.13     129.80      2.284130  0.215870\n",
       "1085        2.7  2012.0     35.13     129.89      2.679352  0.020648\n",
       "1086        2.2  2012.0     37.12     125.96      2.318098 -0.118098\n",
       "1087        2.7  2012.0     38.51     126.23      2.380168  0.319832\n",
       "1088        2.2  2012.0     36.79     128.75      2.177098  0.022902\n",
       "\n",
       "[1089 rows x 6 columns]"
      ]
     },
     "execution_count": 201,
     "metadata": {},
     "output_type": "execute_result"
    }
   ],
   "source": [
    "moo_korea.df"
   ]
  },
  {
   "cell_type": "code",
   "execution_count": 202,
   "id": "a96815f7-4aad-46c5-ad1d-173e7d80ed3c",
   "metadata": {},
   "outputs": [
    {
     "data": {
      "text/html": [
       "<div>\n",
       "<style scoped>\n",
       "    .dataframe tbody tr th:only-of-type {\n",
       "        vertical-align: middle;\n",
       "    }\n",
       "\n",
       "    .dataframe tbody tr th {\n",
       "        vertical-align: top;\n",
       "    }\n",
       "\n",
       "    .dataframe thead th {\n",
       "        text-align: right;\n",
       "    }\n",
       "</style>\n",
       "<table border=\"1\" class=\"dataframe\">\n",
       "  <thead>\n",
       "    <tr style=\"text-align: right;\">\n",
       "      <th></th>\n",
       "      <th>Magnitude</th>\n",
       "      <th>Year</th>\n",
       "      <th>Latitude</th>\n",
       "      <th>Longitude</th>\n",
       "      <th>MagnitudeHat</th>\n",
       "      <th>Residual</th>\n",
       "    </tr>\n",
       "  </thead>\n",
       "  <tbody>\n",
       "    <tr>\n",
       "      <th>462</th>\n",
       "      <td>5.4</td>\n",
       "      <td>2017.0</td>\n",
       "      <td>36.11</td>\n",
       "      <td>129.37</td>\n",
       "      <td>5.229724</td>\n",
       "      <td>0.170276</td>\n",
       "    </tr>\n",
       "    <tr>\n",
       "      <th>781</th>\n",
       "      <td>5.8</td>\n",
       "      <td>2016.0</td>\n",
       "      <td>35.76</td>\n",
       "      <td>129.19</td>\n",
       "      <td>5.349949</td>\n",
       "      <td>0.450051</td>\n",
       "    </tr>\n",
       "    <tr>\n",
       "      <th>798</th>\n",
       "      <td>5.1</td>\n",
       "      <td>2016.0</td>\n",
       "      <td>35.77</td>\n",
       "      <td>129.19</td>\n",
       "      <td>4.620448</td>\n",
       "      <td>0.479552</td>\n",
       "    </tr>\n",
       "    <tr>\n",
       "      <th>932</th>\n",
       "      <td>5.1</td>\n",
       "      <td>2014.0</td>\n",
       "      <td>36.95</td>\n",
       "      <td>124.50</td>\n",
       "      <td>4.682705</td>\n",
       "      <td>0.417295</td>\n",
       "    </tr>\n",
       "  </tbody>\n",
       "</table>\n",
       "</div>"
      ],
      "text/plain": [
       "     Magnitude    Year  Latitude  Longitude  MagnitudeHat  Residual\n",
       "462        5.4  2017.0     36.11     129.37      5.229724  0.170276\n",
       "781        5.8  2016.0     35.76     129.19      5.349949  0.450051\n",
       "798        5.1  2016.0     35.77     129.19      4.620448  0.479552\n",
       "932        5.1  2014.0     36.95     124.50      4.682705  0.417295"
      ]
     },
     "execution_count": 202,
     "metadata": {},
     "output_type": "execute_result"
    }
   ],
   "source": [
    "moo_korea.df.query('Magnitude>5')"
   ]
  },
  {
   "cell_type": "code",
   "execution_count": 203,
   "id": "314fa596-0009-4fea-a8b3-d70daf595052",
   "metadata": {},
   "outputs": [
    {
     "data": {
      "text/plain": [
       "[<matplotlib.lines.Line2D at 0x7f3864383e50>]"
      ]
     },
     "execution_count": 203,
     "metadata": {},
     "output_type": "execute_result"
    },
    {
     "data": {
      "image/png": "[encoded data removed]",
      "text/plain": [
       "<Figure size 432x288 with 1 Axes>"
      ]
     },
     "metadata": {
      "needs_background": "light"
     },
     "output_type": "display_data"
    }
   ],
   "source": [
    "plt.plot((moo_korea.df.Residual)**2)"
   ]
  },
  {
   "cell_type": "markdown",
   "id": "e206a1d6-e7bf-4e92-a4f0-cf1ca9bfe096",
   "metadata": {},
   "source": [
    "`-` vis"
   ]
  },
  {
   "cell_type": "code",
   "execution_count": 205,
   "id": "9615e125-19ab-4e75-b4e7-e67058cbad77",
   "metadata": {},
   "outputs": [],
   "source": [
    "#moo_korea.vis(MagThresh=5,ResThresh=0.3) # <- 실행해봐요"
   ]
  },
  {
   "cell_type": "code",
   "execution_count": 97,
   "id": "9f011410-eab1-40d3-a574-83c87887b7f2",
   "metadata": {},
   "outputs": [
    {
     "data": {
      "text/html": [
       "<div>\n",
       "<style scoped>\n",
       "    .dataframe tbody tr th:only-of-type {\n",
       "        vertical-align: middle;\n",
       "    }\n",
       "\n",
       "    .dataframe tbody tr th {\n",
       "        vertical-align: top;\n",
       "    }\n",
       "\n",
       "    .dataframe thead th {\n",
       "        text-align: right;\n",
       "    }\n",
       "</style>\n",
       "<table border=\"1\" class=\"dataframe\">\n",
       "  <thead>\n",
       "    <tr style=\"text-align: right;\">\n",
       "      <th></th>\n",
       "      <th>Magnitude</th>\n",
       "      <th>Year</th>\n",
       "      <th>Latitude</th>\n",
       "      <th>Longitude</th>\n",
       "      <th>MagnitudeHat</th>\n",
       "      <th>Residual</th>\n",
       "    </tr>\n",
       "  </thead>\n",
       "  <tbody>\n",
       "    <tr>\n",
       "      <th>781</th>\n",
       "      <td>5.8</td>\n",
       "      <td>2016.0</td>\n",
       "      <td>35.76</td>\n",
       "      <td>129.19</td>\n",
       "      <td>5.298691</td>\n",
       "      <td>0.501309</td>\n",
       "    </tr>\n",
       "    <tr>\n",
       "      <th>798</th>\n",
       "      <td>5.1</td>\n",
       "      <td>2016.0</td>\n",
       "      <td>35.77</td>\n",
       "      <td>129.19</td>\n",
       "      <td>4.739180</td>\n",
       "      <td>0.360820</td>\n",
       "    </tr>\n",
       "  </tbody>\n",
       "</table>\n",
       "</div>"
      ],
      "text/plain": [
       "     Magnitude    Year  Latitude  Longitude  MagnitudeHat  Residual\n",
       "781        5.8  2016.0     35.76     129.19      5.298691  0.501309\n",
       "798        5.1  2016.0     35.77     129.19      4.739180  0.360820"
      ]
     },
     "execution_count": 97,
     "metadata": {},
     "output_type": "execute_result"
    }
   ],
   "source": [
    "a # 2016년 경주 지진 Residual, theta = 2016년 Magnitude 평균, kappa = 200"
   ]
  },
  {
   "cell_type": "code",
   "execution_count": 121,
   "id": "c0da51e3-a8d4-4db8-b1f1-87452f6da846",
   "metadata": {},
   "outputs": [
    {
     "data": {
      "text/html": [
       "<div>\n",
       "<style scoped>\n",
       "    .dataframe tbody tr th:only-of-type {\n",
       "        vertical-align: middle;\n",
       "    }\n",
       "\n",
       "    .dataframe tbody tr th {\n",
       "        vertical-align: top;\n",
       "    }\n",
       "\n",
       "    .dataframe thead th {\n",
       "        text-align: right;\n",
       "    }\n",
       "</style>\n",
       "<table border=\"1\" class=\"dataframe\">\n",
       "  <thead>\n",
       "    <tr style=\"text-align: right;\">\n",
       "      <th></th>\n",
       "      <th>Magnitude</th>\n",
       "      <th>Year</th>\n",
       "      <th>Latitude</th>\n",
       "      <th>Longitude</th>\n",
       "      <th>MagnitudeHat</th>\n",
       "      <th>Residual</th>\n",
       "    </tr>\n",
       "  </thead>\n",
       "  <tbody>\n",
       "    <tr>\n",
       "      <th>462</th>\n",
       "      <td>5.4</td>\n",
       "      <td>2017.0</td>\n",
       "      <td>36.11</td>\n",
       "      <td>129.37</td>\n",
       "      <td>4.821407</td>\n",
       "      <td>0.578593</td>\n",
       "    </tr>\n",
       "  </tbody>\n",
       "</table>\n",
       "</div>"
      ],
      "text/plain": [
       "     Magnitude    Year  Latitude  Longitude  MagnitudeHat  Residual\n",
       "462        5.4  2017.0     36.11     129.37      4.821407  0.578593"
      ]
     },
     "execution_count": 121,
     "metadata": {},
     "output_type": "execute_result"
    }
   ],
   "source": [
    "a2 # 2017년 포항 지진 Residual, theta - 2017년 Magnitude 평규느 kappa 400"
   ]
  },
  {
   "cell_type": "markdown",
   "id": "ca61eb8f-0344-4704-9b02-a519865a6083",
   "metadata": {
    "tags": []
   },
   "source": [
    "### analysis_df_global"
   ]
  },
  {
   "cell_type": "markdown",
   "id": "0d711324-8ff6-4df7-bbbb-b46882fd58e9",
   "metadata": {},
   "source": [
    "`-` make instance for analysis"
   ]
  },
  {
   "cell_type": "code",
   "execution_count": 180,
   "id": "1d0b9187-1e48-4557-b110-9c0cf36a819e",
   "metadata": {},
   "outputs": [],
   "source": [
    "moo_global=MooYaHo2(df_global.query(\"Year == 2011\"))"
   ]
  },
  {
   "cell_type": "markdown",
   "id": "7552fd22-eb71-44b3-8cf9-ce37990d1c68",
   "metadata": {},
   "source": [
    "`-` get distance "
   ]
  },
  {
   "cell_type": "code",
   "execution_count": 181,
   "id": "1bc5705e-09a9-447b-ae1d-f6656d94c053",
   "metadata": {},
   "outputs": [
    {
     "name": "stderr",
     "output_type": "stream",
     "text": [
      "100%|██████████| 2694/2694 [00:09<00:00, 276.01it/s] \n"
     ]
    }
   ],
   "source": [
    "moo_global.get_distance()"
   ]
  },
  {
   "cell_type": "code",
   "execution_count": 182,
   "id": "a0e98271-e32d-4948-86be-8773273577ce",
   "metadata": {},
   "outputs": [
    {
     "data": {
      "text/plain": [
       "7773.767200271409"
      ]
     },
     "execution_count": 182,
     "metadata": {},
     "output_type": "execute_result"
    }
   ],
   "source": [
    "moo_global.D[moo_global.D>0].mean()"
   ]
  },
  {
   "cell_type": "code",
   "execution_count": 183,
   "id": "7bce867d-e21e-4329-b1e2-042c6c638d7c",
   "metadata": {},
   "outputs": [
    {
     "data": {
      "text/plain": [
       "(array([1201832.,  586308.,  972838., 1255264.,  987058.,  646994.,\n",
       "         559076.,  411290.,  554918.,   79364.]),\n",
       " array([8.97930163e-02, 1.99974277e+03, 3.99939574e+03, 5.99904871e+03,\n",
       "        7.99870169e+03, 9.99835466e+03, 1.19980076e+04, 1.39976606e+04,\n",
       "        1.59973136e+04, 1.79969666e+04, 1.99966195e+04]),\n",
       " <BarContainer object of 10 artists>)"
      ]
     },
     "execution_count": 183,
     "metadata": {},
     "output_type": "execute_result"
    },
    {
     "data": {
      "image/png": "[encoded data removed]",
      "text/plain": [
       "<Figure size 432x288 with 1 Axes>"
      ]
     },
     "metadata": {
      "needs_background": "light"
     },
     "output_type": "display_data"
    }
   ],
   "source": [
    "plt.hist(moo_global.D[moo_global.D>0])"
   ]
  },
  {
   "cell_type": "markdown",
   "id": "47e7e3aa-6bbc-49de-bd29-ad9ab660da00",
   "metadata": {},
   "source": [
    "`-` weight matrix"
   ]
  },
  {
   "cell_type": "code",
   "execution_count": 184,
   "id": "77fa6fd7-7f37-4f85-958d-b1f47c063576",
   "metadata": {},
   "outputs": [],
   "source": [
    "moo_global.get_weightmatrix(theta=(7773.77),kappa=2500) "
   ]
  },
  {
   "cell_type": "markdown",
   "id": "a960557d-57c1-4065-9ad4-692ff90b53b8",
   "metadata": {},
   "source": [
    "`-` fit"
   ]
  },
  {
   "cell_type": "code",
   "execution_count": 185,
   "id": "df9300eb-f645-4d99-83be-ec9e72685e03",
   "metadata": {},
   "outputs": [
    {
     "data": {
      "image/png": "[encoded data removed]",
      "text/plain": [
       "<Figure size 432x288 with 1 Axes>"
      ]
     },
     "metadata": {
      "needs_background": "light"
     },
     "output_type": "display_data"
    }
   ],
   "source": [
    "moo_global.fit2()"
   ]
  },
  {
   "cell_type": "code",
   "execution_count": 186,
   "id": "01fda502-17eb-4d8c-89bb-8b07cf680d40",
   "metadata": {},
   "outputs": [
    {
     "data": {
      "text/html": [
       "<div>\n",
       "<style scoped>\n",
       "    .dataframe tbody tr th:only-of-type {\n",
       "        vertical-align: middle;\n",
       "    }\n",
       "\n",
       "    .dataframe tbody tr th {\n",
       "        vertical-align: top;\n",
       "    }\n",
       "\n",
       "    .dataframe thead th {\n",
       "        text-align: right;\n",
       "    }\n",
       "</style>\n",
       "<table border=\"1\" class=\"dataframe\">\n",
       "  <thead>\n",
       "    <tr style=\"text-align: right;\">\n",
       "      <th></th>\n",
       "      <th>Latitude</th>\n",
       "      <th>Longitude</th>\n",
       "      <th>Magnitude</th>\n",
       "      <th>Year</th>\n",
       "      <th>MagnitudeHat</th>\n",
       "      <th>Residual</th>\n",
       "    </tr>\n",
       "  </thead>\n",
       "  <tbody>\n",
       "    <tr>\n",
       "      <th>28045</th>\n",
       "      <td>-20.735</td>\n",
       "      <td>-174.325</td>\n",
       "      <td>5.00</td>\n",
       "      <td>2011.0</td>\n",
       "      <td>5.082450</td>\n",
       "      <td>-0.082450</td>\n",
       "    </tr>\n",
       "    <tr>\n",
       "      <th>28046</th>\n",
       "      <td>-23.422</td>\n",
       "      <td>-64.402</td>\n",
       "      <td>5.30</td>\n",
       "      <td>2011.0</td>\n",
       "      <td>5.462718</td>\n",
       "      <td>-0.162718</td>\n",
       "    </tr>\n",
       "    <tr>\n",
       "      <th>28047</th>\n",
       "      <td>-43.517</td>\n",
       "      <td>172.775</td>\n",
       "      <td>5.00</td>\n",
       "      <td>2011.0</td>\n",
       "      <td>4.999652</td>\n",
       "      <td>0.000348</td>\n",
       "    </tr>\n",
       "    <tr>\n",
       "      <th>28048</th>\n",
       "      <td>-5.365</td>\n",
       "      <td>141.543</td>\n",
       "      <td>5.00</td>\n",
       "      <td>2011.0</td>\n",
       "      <td>5.311424</td>\n",
       "      <td>-0.311424</td>\n",
       "    </tr>\n",
       "    <tr>\n",
       "      <th>28049</th>\n",
       "      <td>-56.958</td>\n",
       "      <td>-142.457</td>\n",
       "      <td>5.70</td>\n",
       "      <td>2011.0</td>\n",
       "      <td>5.627709</td>\n",
       "      <td>0.072291</td>\n",
       "    </tr>\n",
       "    <tr>\n",
       "      <th>...</th>\n",
       "      <td>...</td>\n",
       "      <td>...</td>\n",
       "      <td>...</td>\n",
       "      <td>...</td>\n",
       "      <td>...</td>\n",
       "      <td>...</td>\n",
       "    </tr>\n",
       "    <tr>\n",
       "      <th>30734</th>\n",
       "      <td>24.653</td>\n",
       "      <td>97.918</td>\n",
       "      <td>5.00</td>\n",
       "      <td>2011.0</td>\n",
       "      <td>4.872630</td>\n",
       "      <td>0.127370</td>\n",
       "    </tr>\n",
       "    <tr>\n",
       "      <th>30735</th>\n",
       "      <td>-49.155</td>\n",
       "      <td>121.555</td>\n",
       "      <td>5.00</td>\n",
       "      <td>2011.0</td>\n",
       "      <td>5.070451</td>\n",
       "      <td>-0.070451</td>\n",
       "    </tr>\n",
       "    <tr>\n",
       "      <th>30736</th>\n",
       "      <td>-26.851</td>\n",
       "      <td>-63.217</td>\n",
       "      <td>5.78</td>\n",
       "      <td>2011.0</td>\n",
       "      <td>5.694403</td>\n",
       "      <td>0.085597</td>\n",
       "    </tr>\n",
       "    <tr>\n",
       "      <th>30737</th>\n",
       "      <td>-26.803</td>\n",
       "      <td>-63.136</td>\n",
       "      <td>7.00</td>\n",
       "      <td>2011.0</td>\n",
       "      <td>6.632692</td>\n",
       "      <td>0.367308</td>\n",
       "    </tr>\n",
       "    <tr>\n",
       "      <th>30738</th>\n",
       "      <td>27.247</td>\n",
       "      <td>143.166</td>\n",
       "      <td>5.00</td>\n",
       "      <td>2011.0</td>\n",
       "      <td>5.319657</td>\n",
       "      <td>-0.319657</td>\n",
       "    </tr>\n",
       "  </tbody>\n",
       "</table>\n",
       "<p>2694 rows × 6 columns</p>\n",
       "</div>"
      ],
      "text/plain": [
       "       Latitude  Longitude  Magnitude    Year  MagnitudeHat  Residual\n",
       "28045   -20.735   -174.325       5.00  2011.0      5.082450 -0.082450\n",
       "28046   -23.422    -64.402       5.30  2011.0      5.462718 -0.162718\n",
       "28047   -43.517    172.775       5.00  2011.0      4.999652  0.000348\n",
       "28048    -5.365    141.543       5.00  2011.0      5.311424 -0.311424\n",
       "28049   -56.958   -142.457       5.70  2011.0      5.627709  0.072291\n",
       "...         ...        ...        ...     ...           ...       ...\n",
       "30734    24.653     97.918       5.00  2011.0      4.872630  0.127370\n",
       "30735   -49.155    121.555       5.00  2011.0      5.070451 -0.070451\n",
       "30736   -26.851    -63.217       5.78  2011.0      5.694403  0.085597\n",
       "30737   -26.803    -63.136       7.00  2011.0      6.632692  0.367308\n",
       "30738    27.247    143.166       5.00  2011.0      5.319657 -0.319657\n",
       "\n",
       "[2694 rows x 6 columns]"
      ]
     },
     "execution_count": 186,
     "metadata": {},
     "output_type": "execute_result"
    }
   ],
   "source": [
    "moo_global.df"
   ]
  },
  {
   "cell_type": "code",
   "execution_count": 193,
   "id": "59d5c889-b4ed-4e66-94bc-bfdcfe5ddfd1",
   "metadata": {},
   "outputs": [
    {
     "data": {
      "text/html": [
       "<div>\n",
       "<style scoped>\n",
       "    .dataframe tbody tr th:only-of-type {\n",
       "        vertical-align: middle;\n",
       "    }\n",
       "\n",
       "    .dataframe tbody tr th {\n",
       "        vertical-align: top;\n",
       "    }\n",
       "\n",
       "    .dataframe thead th {\n",
       "        text-align: right;\n",
       "    }\n",
       "</style>\n",
       "<table border=\"1\" class=\"dataframe\">\n",
       "  <thead>\n",
       "    <tr style=\"text-align: right;\">\n",
       "      <th></th>\n",
       "      <th>Latitude</th>\n",
       "      <th>Longitude</th>\n",
       "      <th>Magnitude</th>\n",
       "      <th>Year</th>\n",
       "      <th>MagnitudeHat</th>\n",
       "      <th>Residual</th>\n",
       "    </tr>\n",
       "  </thead>\n",
       "  <tbody>\n",
       "    <tr>\n",
       "      <th>30311</th>\n",
       "      <td>38.297</td>\n",
       "      <td>142.373</td>\n",
       "      <td>9.1</td>\n",
       "      <td>2011.0</td>\n",
       "      <td>8.514894</td>\n",
       "      <td>0.585106</td>\n",
       "    </tr>\n",
       "  </tbody>\n",
       "</table>\n",
       "</div>"
      ],
      "text/plain": [
       "       Latitude  Longitude  Magnitude    Year  MagnitudeHat  Residual\n",
       "30311    38.297    142.373        9.1  2011.0      8.514894  0.585106"
      ]
     },
     "execution_count": 193,
     "metadata": {},
     "output_type": "execute_result"
    }
   ],
   "source": [
    "moo_global.df.query('Magnitude>8')"
   ]
  },
  {
   "cell_type": "code",
   "execution_count": 189,
   "id": "6904ba0b-441b-4c31-a26b-de196c814b7c",
   "metadata": {},
   "outputs": [
    {
     "data": {
      "text/plain": [
       "[<matplotlib.lines.Line2D at 0x7f3864446700>]"
      ]
     },
     "execution_count": 189,
     "metadata": {},
     "output_type": "execute_result"
    },
    {
     "data": {
      "image/png": "[encoded data removed]",
      "text/plain": [
       "<Figure size 432x288 with 1 Axes>"
      ]
     },
     "metadata": {
      "needs_background": "light"
     },
     "output_type": "display_data"
    }
   ],
   "source": [
    "plt.plot((moo_global.df.Residual)**2)"
   ]
  },
  {
   "cell_type": "markdown",
   "id": "ea5eefc2-4dee-4c5a-b94a-e7df010d80e0",
   "metadata": {},
   "source": [
    "`-` vis"
   ]
  },
  {
   "cell_type": "code",
   "execution_count": 206,
   "id": "14f7d893-85e8-4fa9-a950-0177b457d53a",
   "metadata": {},
   "outputs": [],
   "source": [
    "#moo_global.vis(MagThresh=9,ResThresh=0.3) # <- 실행해봐요"
   ]
  },
  {
   "cell_type": "markdown",
   "id": "1407bf4d-c6bb-4931-9a2f-025e2965d72f",
   "metadata": {},
   "source": [
    "- 전체자료는 underlying에 위치 \n",
    "- 지진강도가 MagThresh 이상인 자료는 붉은점으로 시각화함 \n",
    "- 이상치정도(우리가 제안하는 새로운 메져) ResThresh 이상인 자료는 파란점으로 시각화함 "
   ]
  },
  {
   "cell_type": "code",
   "execution_count": 164,
   "id": "94762fa4-4756-49ad-86c6-2dbade594aba",
   "metadata": {},
   "outputs": [
    {
     "data": {
      "text/html": [
       "<div>\n",
       "<style scoped>\n",
       "    .dataframe tbody tr th:only-of-type {\n",
       "        vertical-align: middle;\n",
       "    }\n",
       "\n",
       "    .dataframe tbody tr th {\n",
       "        vertical-align: top;\n",
       "    }\n",
       "\n",
       "    .dataframe thead th {\n",
       "        text-align: right;\n",
       "    }\n",
       "</style>\n",
       "<table border=\"1\" class=\"dataframe\">\n",
       "  <thead>\n",
       "    <tr style=\"text-align: right;\">\n",
       "      <th></th>\n",
       "      <th>Latitude</th>\n",
       "      <th>Longitude</th>\n",
       "      <th>Magnitude</th>\n",
       "      <th>Year</th>\n",
       "      <th>MagnitudeHat</th>\n",
       "      <th>Residual</th>\n",
       "    </tr>\n",
       "  </thead>\n",
       "  <tbody>\n",
       "    <tr>\n",
       "      <th>11356</th>\n",
       "      <td>18.443</td>\n",
       "      <td>-72.571</td>\n",
       "      <td>7.0</td>\n",
       "      <td>2010.0</td>\n",
       "      <td>6.742410</td>\n",
       "      <td>0.257590</td>\n",
       "    </tr>\n",
       "    <tr>\n",
       "      <th>33065</th>\n",
       "      <td>18.443</td>\n",
       "      <td>-72.571</td>\n",
       "      <td>7.0</td>\n",
       "      <td>2010.0</td>\n",
       "      <td>6.252304</td>\n",
       "      <td>0.747696</td>\n",
       "    </tr>\n",
       "  </tbody>\n",
       "</table>\n",
       "</div>"
      ],
      "text/plain": [
       "       Latitude  Longitude  Magnitude    Year  MagnitudeHat  Residual\n",
       "11356    18.443    -72.571        7.0  2010.0      6.742410  0.257590\n",
       "33065    18.443    -72.571        7.0  2010.0      6.252304  0.747696"
      ]
     },
     "execution_count": 164,
     "metadata": {},
     "output_type": "execute_result"
    }
   ],
   "source": [
    "b # 2010년 아이티 Residual, theta = 2010년 mean, kappa =  2500"
   ]
  },
  {
   "cell_type": "code",
   "execution_count": null,
   "id": "d34b95cc-3966-46c1-867d-77b9577ec5d2",
   "metadata": {},
   "outputs": [],
   "source": []
  }
 ],
 "metadata": {
  "kernelspec": {
   "display_name": "Python 3 (ipykernel)",
   "language": "python",
   "name": "python3"
  },
  "language_info": {
   "codemirror_mode": {
    "name": "ipython",
    "version": 3
   },
   "file_extension": ".py",
   "mimetype": "text/x-python",
   "name": "python",
   "nbconvert_exporter": "python",
   "pygments_lexer": "ipython3",
   "version": "3.8.12"
  }
 },
 "nbformat": 4,
 "nbformat_minor": 5
}
