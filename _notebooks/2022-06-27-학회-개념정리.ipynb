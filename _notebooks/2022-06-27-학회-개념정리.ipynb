{
 "cells": [
  {
   "cell_type": "markdown",
   "id": "192f7dd2-0b07-444a-b92c-e888f4c6b1f3",
   "metadata": {
    "id": "cac470df-29e7-4148-9bbd-d8b9a32fa570",
    "tags": []
   },
   "source": [
    "# (학회) 개념 정리\n",
    "> \n",
    "\n",
    "- toc:true\n",
    "- branch: master\n",
    "- badges: true\n",
    "- comments: false\n",
    "- author: 최서연\n",
    "- categories: []"
   ]
  },
  {
   "cell_type": "markdown",
   "id": "e268e6e7-c2e7-468d-a93d-174d28ea0942",
   "metadata": {},
   "source": [
    "### Causal inference"
   ]
  },
  {
   "cell_type": "markdown",
   "id": "666f0066-c50d-47af-8a7c-630d3de7542f",
   "metadata": {},
   "source": [
    "### Frechet Regression"
   ]
  },
  {
   "cell_type": "markdown",
   "id": "5f46e9d9-b268-49f4-bd97-c6717c4939cb",
   "metadata": {},
   "source": [
    "### Hilbert Space"
   ]
  },
  {
   "cell_type": "markdown",
   "id": "24b2b134-4f9c-41d1-b853-69e3f6da8eea",
   "metadata": {},
   "source": [
    "### Hamiltonian Monte Carlo"
   ]
  },
  {
   "cell_type": "code",
   "execution_count": null,
   "id": "e5e302fe-5329-4cdc-b092-bd40a89cde5e",
   "metadata": {},
   "outputs": [],
   "source": []
  }
 ],
 "metadata": {
  "kernelspec": {
   "display_name": "Python 3 (ipykernel)",
   "language": "python",
   "name": "python3"
  },
  "language_info": {
   "codemirror_mode": {
    "name": "ipython",
    "version": 3
   },
   "file_extension": ".py",
   "mimetype": "text/x-python",
   "name": "python",
   "nbconvert_exporter": "python",
   "pygments_lexer": "ipython3",
   "version": "3.8.12"
  }
 },
 "nbformat": 4,
 "nbformat_minor": 5
}
