{
 "cells": [
  {
   "cell_type": "markdown",
   "id": "eb31f2a2-201c-4a28-9908-2f0d8139f569",
   "metadata": {
    "id": "eb31f2a2-201c-4a28-9908-2f0d8139f569",
    "tags": []
   },
   "source": [
    "# 데이터 과학 (15주차) 6월13일\n",
    "> 함수형모델 공부\n",
    "\n",
    "- toc:true\n",
    "- branch: master\n",
    "- badges: true\n",
    "- comments: false\n",
    "- author: 최서연\n",
    "- categories: [함수형모댈]"
   ]
  },
  {
   "cell_type": "markdown",
   "id": "91280833-a1b8-4cc4-966c-de68d3255aed",
   "metadata": {
    "id": "91280833-a1b8-4cc4-966c-de68d3255aed"
   },
   "source": [
    "### 강의영상"
   ]
  },
  {
   "cell_type": "markdown",
   "id": "ef5268fd-21fb-4d0a-974a-7db5d32cbdf2",
   "metadata": {
    "id": "ef5268fd-21fb-4d0a-974a-7db5d32cbdf2"
   },
   "source": [
    "> youtube: https://youtube.com/playlist?list=PLQqh36zP38-zHWBdwMLc0v7XeGagFoIqB"
   ]
  },
  {
   "cell_type": "markdown",
   "id": "70e0e8f2-2250-421d-9e72-683ea732fbd5",
   "metadata": {
    "id": "70e0e8f2-2250-421d-9e72-683ea732fbd5"
   },
   "source": [
    "### 함수형모델 "
   ]
  },
  {
   "cell_type": "markdown",
   "id": "72af70a7-6a16-4238-9e46-b609ca1539ef",
   "metadata": {
    "id": "72af70a7-6a16-4238-9e46-b609ca1539ef"
   },
   "source": [
    "`-` Imports"
   ]
  },
  {
   "cell_type": "code",
   "execution_count": 2,
   "id": "185c6f5b-d984-47b3-9909-2f24fc964a13",
   "metadata": {
    "id": "185c6f5b-d984-47b3-9909-2f24fc964a13"
   },
   "outputs": [],
   "source": [
    "import tensorflow as tf \n",
    "import tensorflow.experimental.numpy as tnp\n",
    "import matplotlib.pyplot as plt "
   ]
  },
  {
   "cell_type": "code",
   "execution_count": 3,
   "id": "038c7e68-a12e-49c7-89d7-d074466ae055",
   "metadata": {
    "id": "038c7e68-a12e-49c7-89d7-d074466ae055"
   },
   "outputs": [],
   "source": [
    "tnp.experimental_enable_numpy_behavior()"
   ]
  },
  {
   "cell_type": "markdown",
   "id": "f63c186a-aede-4867-ac39-346b029a3c2c",
   "metadata": {
    "id": "f63c186a-aede-4867-ac39-346b029a3c2c"
   },
   "source": [
    "`-` data"
   ]
  },
  {
   "cell_type": "code",
   "execution_count": 4,
   "id": "581dec0d-1ed3-486a-ab43-09b7986001ac",
   "metadata": {
    "id": "581dec0d-1ed3-486a-ab43-09b7986001ac"
   },
   "outputs": [],
   "source": [
    "x= tnp.linspace(0,1,100).reshape(100,1)\n",
    "y= x + tf.random.normal([100,1])*0.1"
   ]
  },
  {
   "cell_type": "code",
   "execution_count": null,
   "id": "5b57d4dc-7c0a-450f-9345-cc6b1c6ec695",
   "metadata": {
    "id": "5b57d4dc-7c0a-450f-9345-cc6b1c6ec695",
    "outputId": "056cf1ff-b6cc-4e68-a7be-b2e893cd090d"
   },
   "outputs": [
    {
     "data": {
      "text/plain": [
       "[<matplotlib.lines.Line2D at 0x7f3af44574f0>]"
      ]
     },
     "execution_count": 13,
     "metadata": {},
     "output_type": "execute_result"
    },
    {
     "data": {
      "image/png": "[encoded data removed]",
      "text/plain": [
       "<Figure size 432x288 with 1 Axes>"
      ]
     },
     "metadata": {
      "needs_background": "light"
     },
     "output_type": "display_data"
    }
   ],
   "source": [
    "plt.plot(x,y,'.')"
   ]
  },
  {
   "cell_type": "markdown",
   "id": "16e6c676-d9dd-4752-81f7-05fbfce5bae6",
   "metadata": {
    "id": "16e6c676-d9dd-4752-81f7-05fbfce5bae6"
   },
   "source": [
    "`-` input layer"
   ]
  },
  {
   "cell_type": "code",
   "execution_count": null,
   "id": "2bd395a9-5b0c-4a8f-9397-bf8e850afdb7",
   "metadata": {
    "id": "2bd395a9-5b0c-4a8f-9397-bf8e850afdb7"
   },
   "outputs": [],
   "source": [
    "x0= tf.keras.layers.Input(shape=(1,))"
   ]
  },
  {
   "cell_type": "markdown",
   "id": "30d7f873-9e65-44f7-ad11-035100c16606",
   "metadata": {
    "id": "30d7f873-9e65-44f7-ad11-035100c16606"
   },
   "source": [
    "`-` 아키텍처"
   ]
  },
  {
   "cell_type": "code",
   "execution_count": null,
   "id": "2ccdf51e-4267-4c6a-924d-dceb2712dc54",
   "metadata": {
    "id": "2ccdf51e-4267-4c6a-924d-dceb2712dc54"
   },
   "outputs": [],
   "source": [
    "l1=tf.keras.layers.Dense(30)\n",
    "a1=tf.keras.layers.Activation(tf.nn.relu)"
   ]
  },
  {
   "cell_type": "code",
   "execution_count": null,
   "id": "f4c413f7-2577-4664-9cfe-6eb0fce90101",
   "metadata": {
    "id": "f4c413f7-2577-4664-9cfe-6eb0fce90101"
   },
   "outputs": [],
   "source": [
    "x1=a1(l1(x0))"
   ]
  },
  {
   "cell_type": "code",
   "execution_count": null,
   "id": "fb6a29be-ae61-4fa3-a92f-a10bf21ae427",
   "metadata": {
    "id": "fb6a29be-ae61-4fa3-a92f-a10bf21ae427"
   },
   "outputs": [],
   "source": [
    "l2=tf.keras.layers.Dense(30)\n",
    "a2=tf.keras.layers.Activation(tf.nn.relu)"
   ]
  },
  {
   "cell_type": "code",
   "execution_count": null,
   "id": "72f9a9ed-4665-48f1-a26c-27e42c0a344f",
   "metadata": {
    "id": "72f9a9ed-4665-48f1-a26c-27e42c0a344f"
   },
   "outputs": [],
   "source": [
    "x2=a2(l2(x1))"
   ]
  },
  {
   "cell_type": "code",
   "execution_count": null,
   "id": "49f81dd2-5812-4ab5-8cf6-5f04cfd1c87b",
   "metadata": {
    "id": "49f81dd2-5812-4ab5-8cf6-5f04cfd1c87b"
   },
   "outputs": [],
   "source": [
    "l3=tf.keras.layers.Dense(1)\n",
    "x3=l3(x2) # output"
   ]
  },
  {
   "cell_type": "markdown",
   "id": "7adb7e7d-9d12-4059-887b-2552fb343e70",
   "metadata": {
    "id": "7adb7e7d-9d12-4059-887b-2552fb343e70"
   },
   "source": [
    "`-` input, output 으로 모델(net)설정"
   ]
  },
  {
   "cell_type": "code",
   "execution_count": null,
   "id": "241b8b9a-3e59-4b5d-8981-36cfe5a5b29a",
   "metadata": {
    "id": "241b8b9a-3e59-4b5d-8981-36cfe5a5b29a"
   },
   "outputs": [],
   "source": [
    "net = tf.keras.Model(inputs=x0, outputs=x3)"
   ]
  },
  {
   "cell_type": "code",
   "execution_count": null,
   "id": "9cfeb38a-1260-4fcc-adb5-39836ccb7d40",
   "metadata": {
    "id": "9cfeb38a-1260-4fcc-adb5-39836ccb7d40",
    "outputId": "117fcc3c-11b4-4169-9836-4daf659ea90e"
   },
   "outputs": [
    {
     "name": "stdout",
     "output_type": "stream",
     "text": [
      "Model: \"model\"\n",
      "_________________________________________________________________\n",
      " Layer (type)                Output Shape              Param #   \n",
      "=================================================================\n",
      " input_2 (InputLayer)        [(None, 1)]               0         \n",
      "                                                                 \n",
      " dense_1 (Dense)             (None, 30)                60        \n",
      "                                                                 \n",
      " activation_1 (Activation)   (None, 30)                0         \n",
      "                                                                 \n",
      " dense_2 (Dense)             (None, 30)                930       \n",
      "                                                                 \n",
      " activation_2 (Activation)   (None, 30)                0         \n",
      "                                                                 \n",
      " dense_3 (Dense)             (None, 1)                 31        \n",
      "                                                                 \n",
      "=================================================================\n",
      "Total params: 1,021\n",
      "Trainable params: 1,021\n",
      "Non-trainable params: 0\n",
      "_________________________________________________________________\n"
     ]
    }
   ],
   "source": [
    "net.summary()"
   ]
  },
  {
   "cell_type": "markdown",
   "id": "5bef22f2-fd04-4791-9b48-13b269aa8ab3",
   "metadata": {
    "id": "5bef22f2-fd04-4791-9b48-13b269aa8ab3"
   },
   "source": [
    "`-` compile and fit"
   ]
  },
  {
   "cell_type": "code",
   "execution_count": null,
   "id": "9d420119-d1bc-4384-8a87-feb6fa38bc32",
   "metadata": {
    "id": "9d420119-d1bc-4384-8a87-feb6fa38bc32"
   },
   "outputs": [],
   "source": [
    "net.compile(loss='mse', optimizer='sgd')"
   ]
  },
  {
   "cell_type": "code",
   "execution_count": null,
   "id": "f5aa955e-286f-4252-b773-1472f640bd48",
   "metadata": {
    "id": "f5aa955e-286f-4252-b773-1472f640bd48",
    "outputId": "d7574849-bf5e-4595-a2df-957dc10645ed"
   },
   "outputs": [
    {
     "name": "stdout",
     "output_type": "stream",
     "text": [
      "Epoch 1/100\n",
      "4/4 [==============================] - 0s 982us/step - loss: 0.0457\n",
      "Epoch 2/100\n",
      "4/4 [==============================] - 0s 1ms/step - loss: 0.0448\n",
      "Epoch 3/100\n",
      "4/4 [==============================] - 0s 921us/step - loss: 0.0440\n",
      "Epoch 4/100\n",
      "4/4 [==============================] - 0s 837us/step - loss: 0.0432\n",
      "Epoch 5/100\n",
      "4/4 [==============================] - 0s 778us/step - loss: 0.0423\n",
      "Epoch 6/100\n",
      "4/4 [==============================] - 0s 796us/step - loss: 0.0413\n",
      "Epoch 7/100\n",
      "4/4 [==============================] - 0s 785us/step - loss: 0.0405\n",
      "Epoch 8/100\n",
      "4/4 [==============================] - 0s 805us/step - loss: 0.0395\n",
      "Epoch 9/100\n",
      "4/4 [==============================] - 0s 815us/step - loss: 0.0388\n",
      "Epoch 10/100\n",
      "4/4 [==============================] - 0s 791us/step - loss: 0.0380\n",
      "Epoch 11/100\n",
      "4/4 [==============================] - 0s 864us/step - loss: 0.0372\n",
      "Epoch 12/100\n",
      "4/4 [==============================] - 0s 828us/step - loss: 0.0363\n",
      "Epoch 13/100\n",
      "4/4 [==============================] - 0s 825us/step - loss: 0.0354\n",
      "Epoch 14/100\n",
      "4/4 [==============================] - 0s 829us/step - loss: 0.0346\n",
      "Epoch 15/100\n",
      "4/4 [==============================] - 0s 793us/step - loss: 0.0339\n",
      "Epoch 16/100\n",
      "4/4 [==============================] - 0s 812us/step - loss: 0.0333\n",
      "Epoch 17/100\n",
      "4/4 [==============================] - 0s 817us/step - loss: 0.0326\n",
      "Epoch 18/100\n",
      "4/4 [==============================] - 0s 790us/step - loss: 0.0319\n",
      "Epoch 19/100\n",
      "4/4 [==============================] - 0s 814us/step - loss: 0.0313\n",
      "Epoch 20/100\n",
      "4/4 [==============================] - 0s 819us/step - loss: 0.0306\n",
      "Epoch 21/100\n",
      "4/4 [==============================] - 0s 802us/step - loss: 0.0300\n",
      "Epoch 22/100\n",
      "4/4 [==============================] - 0s 829us/step - loss: 0.0293\n",
      "Epoch 23/100\n",
      "4/4 [==============================] - 0s 841us/step - loss: 0.0289\n",
      "Epoch 24/100\n",
      "4/4 [==============================] - 0s 833us/step - loss: 0.0283\n",
      "Epoch 25/100\n",
      "4/4 [==============================] - 0s 826us/step - loss: 0.0276\n",
      "Epoch 26/100\n",
      "4/4 [==============================] - 0s 843us/step - loss: 0.0273\n",
      "Epoch 27/100\n",
      "4/4 [==============================] - 0s 819us/step - loss: 0.0269\n",
      "Epoch 28/100\n",
      "4/4 [==============================] - 0s 804us/step - loss: 0.0265\n",
      "Epoch 29/100\n",
      "4/4 [==============================] - 0s 826us/step - loss: 0.0260\n",
      "Epoch 30/100\n",
      "4/4 [==============================] - 0s 848us/step - loss: 0.0258\n",
      "Epoch 31/100\n",
      "4/4 [==============================] - 0s 858us/step - loss: 0.0254\n",
      "Epoch 32/100\n",
      "4/4 [==============================] - 0s 825us/step - loss: 0.0251\n",
      "Epoch 33/100\n",
      "4/4 [==============================] - 0s 856us/step - loss: 0.0248\n",
      "Epoch 34/100\n",
      "4/4 [==============================] - 0s 842us/step - loss: 0.0246\n",
      "Epoch 35/100\n",
      "4/4 [==============================] - 0s 844us/step - loss: 0.0242\n",
      "Epoch 36/100\n",
      "4/4 [==============================] - 0s 856us/step - loss: 0.0237\n",
      "Epoch 37/100\n",
      "4/4 [==============================] - 0s 903us/step - loss: 0.0235\n",
      "Epoch 38/100\n",
      "4/4 [==============================] - 0s 864us/step - loss: 0.0232\n",
      "Epoch 39/100\n",
      "4/4 [==============================] - 0s 867us/step - loss: 0.0230\n",
      "Epoch 40/100\n",
      "4/4 [==============================] - 0s 837us/step - loss: 0.0227\n",
      "Epoch 41/100\n",
      "4/4 [==============================] - 0s 907us/step - loss: 0.0225\n",
      "Epoch 42/100\n",
      "4/4 [==============================] - 0s 914us/step - loss: 0.0222\n",
      "Epoch 43/100\n",
      "4/4 [==============================] - 0s 896us/step - loss: 0.0219\n",
      "Epoch 44/100\n",
      "4/4 [==============================] - 0s 830us/step - loss: 0.0217\n",
      "Epoch 45/100\n",
      "4/4 [==============================] - 0s 859us/step - loss: 0.0213\n",
      "Epoch 46/100\n",
      "4/4 [==============================] - 0s 835us/step - loss: 0.0211\n",
      "Epoch 47/100\n",
      "4/4 [==============================] - 0s 839us/step - loss: 0.0209\n",
      "Epoch 48/100\n",
      "4/4 [==============================] - 0s 823us/step - loss: 0.0206\n",
      "Epoch 49/100\n",
      "4/4 [==============================] - 0s 824us/step - loss: 0.0204\n",
      "Epoch 50/100\n",
      "4/4 [==============================] - 0s 894us/step - loss: 0.0201\n",
      "Epoch 51/100\n",
      "4/4 [==============================] - 0s 890us/step - loss: 0.0199\n",
      "Epoch 52/100\n",
      "4/4 [==============================] - 0s 875us/step - loss: 0.0196\n",
      "Epoch 53/100\n",
      "4/4 [==============================] - 0s 836us/step - loss: 0.0194\n",
      "Epoch 54/100\n",
      "4/4 [==============================] - 0s 838us/step - loss: 0.0192\n",
      "Epoch 55/100\n",
      "4/4 [==============================] - 0s 849us/step - loss: 0.0191\n",
      "Epoch 56/100\n",
      "4/4 [==============================] - 0s 895us/step - loss: 0.0189\n",
      "Epoch 57/100\n",
      "4/4 [==============================] - 0s 947us/step - loss: 0.0187\n",
      "Epoch 58/100\n",
      "4/4 [==============================] - 0s 917us/step - loss: 0.0185\n",
      "Epoch 59/100\n",
      "4/4 [==============================] - 0s 883us/step - loss: 0.0183\n",
      "Epoch 60/100\n",
      "4/4 [==============================] - 0s 849us/step - loss: 0.0182\n",
      "Epoch 61/100\n",
      "4/4 [==============================] - 0s 838us/step - loss: 0.0180\n",
      "Epoch 62/100\n",
      "4/4 [==============================] - 0s 843us/step - loss: 0.0178\n",
      "Epoch 63/100\n",
      "4/4 [==============================] - 0s 837us/step - loss: 0.0176\n",
      "Epoch 64/100\n",
      "4/4 [==============================] - 0s 850us/step - loss: 0.0175\n",
      "Epoch 65/100\n",
      "4/4 [==============================] - 0s 871us/step - loss: 0.0173\n",
      "Epoch 66/100\n",
      "4/4 [==============================] - 0s 862us/step - loss: 0.0171\n",
      "Epoch 67/100\n",
      "4/4 [==============================] - 0s 828us/step - loss: 0.0169\n",
      "Epoch 68/100\n",
      "4/4 [==============================] - 0s 834us/step - loss: 0.0167\n",
      "Epoch 69/100\n",
      "4/4 [==============================] - 0s 842us/step - loss: 0.0165\n",
      "Epoch 70/100\n",
      "4/4 [==============================] - 0s 862us/step - loss: 0.0164\n",
      "Epoch 71/100\n",
      "4/4 [==============================] - 0s 925us/step - loss: 0.0162\n",
      "Epoch 72/100\n",
      "4/4 [==============================] - 0s 942us/step - loss: 0.0161\n",
      "Epoch 73/100\n",
      "4/4 [==============================] - 0s 960us/step - loss: 0.0158\n",
      "Epoch 74/100\n",
      "4/4 [==============================] - 0s 883us/step - loss: 0.0157\n",
      "Epoch 75/100\n",
      "4/4 [==============================] - 0s 890us/step - loss: 0.0155\n",
      "Epoch 76/100\n",
      "4/4 [==============================] - 0s 886us/step - loss: 0.0154\n",
      "Epoch 77/100\n",
      "4/4 [==============================] - 0s 867us/step - loss: 0.0152\n",
      "Epoch 78/100\n",
      "4/4 [==============================] - 0s 864us/step - loss: 0.0151\n",
      "Epoch 79/100\n",
      "4/4 [==============================] - 0s 951us/step - loss: 0.0150\n",
      "Epoch 80/100\n",
      "4/4 [==============================] - 0s 894us/step - loss: 0.0149\n",
      "Epoch 81/100\n",
      "4/4 [==============================] - 0s 901us/step - loss: 0.0148\n",
      "Epoch 82/100\n",
      "4/4 [==============================] - 0s 905us/step - loss: 0.0146\n",
      "Epoch 83/100\n",
      "4/4 [==============================] - 0s 893us/step - loss: 0.0145\n",
      "Epoch 84/100\n",
      "4/4 [==============================] - 0s 911us/step - loss: 0.0144\n",
      "Epoch 85/100\n",
      "4/4 [==============================] - 0s 890us/step - loss: 0.0143\n",
      "Epoch 86/100\n",
      "4/4 [==============================] - 0s 879us/step - loss: 0.0142\n",
      "Epoch 87/100\n",
      "4/4 [==============================] - 0s 867us/step - loss: 0.0141\n",
      "Epoch 88/100\n",
      "4/4 [==============================] - 0s 850us/step - loss: 0.0139\n",
      "Epoch 89/100\n",
      "4/4 [==============================] - 0s 827us/step - loss: 0.0138\n",
      "Epoch 90/100\n",
      "4/4 [==============================] - 0s 822us/step - loss: 0.0138\n",
      "Epoch 91/100\n",
      "4/4 [==============================] - 0s 869us/step - loss: 0.0136\n",
      "Epoch 92/100\n",
      "4/4 [==============================] - 0s 855us/step - loss: 0.0136\n",
      "Epoch 93/100\n",
      "4/4 [==============================] - 0s 867us/step - loss: 0.0135\n",
      "Epoch 94/100\n",
      "4/4 [==============================] - 0s 857us/step - loss: 0.0134\n",
      "Epoch 95/100\n",
      "4/4 [==============================] - 0s 849us/step - loss: 0.0134\n",
      "Epoch 96/100\n",
      "4/4 [==============================] - 0s 834us/step - loss: 0.0133\n",
      "Epoch 97/100\n",
      "4/4 [==============================] - 0s 822us/step - loss: 0.0132\n",
      "Epoch 98/100\n",
      "4/4 [==============================] - 0s 821us/step - loss: 0.0130\n",
      "Epoch 99/100\n",
      "4/4 [==============================] - 0s 831us/step - loss: 0.0129\n",
      "Epoch 100/100\n",
      "4/4 [==============================] - 0s 820us/step - loss: 0.0128\n"
     ]
    },
    {
     "data": {
      "text/plain": [
       "<keras.callbacks.History at 0x7f3ab0776470>"
      ]
     },
     "execution_count": 29,
     "metadata": {},
     "output_type": "execute_result"
    }
   ],
   "source": [
    "net.fit(x,y,epochs=100)"
   ]
  },
  {
   "cell_type": "code",
   "execution_count": null,
   "id": "a7aa3d79-c301-4b0d-8654-5659a92c3ee9",
   "metadata": {
    "id": "a7aa3d79-c301-4b0d-8654-5659a92c3ee9",
    "outputId": "f047be96-8382-4dac-977a-87bdc47af2c4"
   },
   "outputs": [
    {
     "data": {
      "text/plain": [
       "[<matplotlib.lines.Line2D at 0x7f3ab0605bd0>]"
      ]
     },
     "execution_count": 30,
     "metadata": {},
     "output_type": "execute_result"
    },
    {
     "data": {
      "image/png": "[encoded data removed]",
      "text/plain": [
       "<Figure size 432x288 with 1 Axes>"
      ]
     },
     "metadata": {
      "needs_background": "light"
     },
     "output_type": "display_data"
    }
   ],
   "source": [
    "plt.plot(x,y,'.')\n",
    "plt.plot(x,net(x),'--')"
   ]
  }
 ],
 "metadata": {
  "colab": {
   "provenance": []
  },
  "kernelspec": {
   "display_name": "Python 3 (ipykernel)",
   "language": "python",
   "name": "python3"
  },
  "language_info": {
   "codemirror_mode": {
    "name": "ipython",
    "version": 3
   },
   "file_extension": ".py",
   "mimetype": "text/x-python",
   "name": "python",
   "nbconvert_exporter": "python",
   "pygments_lexer": "ipython3",
   "version": "3.8.12"
  }
 },
 "nbformat": 4,
 "nbformat_minor": 5
}
