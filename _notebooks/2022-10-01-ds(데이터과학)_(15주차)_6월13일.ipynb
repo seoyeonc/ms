{
 "cells": [
  {
   "cell_type": "markdown",
   "id": "eb31f2a2-201c-4a28-9908-2f0d8139f569",
   "metadata": {
    "id": "eb31f2a2-201c-4a28-9908-2f0d8139f569",
    "tags": []
   },
   "source": [
    "# 데이터 과학 (15주차) 6월13일\n",
    "> 함수형모델 공부\n",
    "\n",
    "- toc:true\n",
    "- branch: master\n",
    "- badges: true\n",
    "- comments: false\n",
    "- author: 최서연\n",
    "- categories: [함수형모댈]"
   ]
  },
  {
   "cell_type": "markdown",
   "id": "91280833-a1b8-4cc4-966c-de68d3255aed",
   "metadata": {
    "id": "91280833-a1b8-4cc4-966c-de68d3255aed"
   },
   "source": [
    "### 강의영상"
   ]
  },
  {
   "cell_type": "markdown",
   "id": "ef5268fd-21fb-4d0a-974a-7db5d32cbdf2",
   "metadata": {
    "id": "ef5268fd-21fb-4d0a-974a-7db5d32cbdf2"
   },
   "source": [
    "> youtube: https://youtube.com/playlist?list=PLQqh36zP38-zHWBdwMLc0v7XeGagFoIqB"
   ]
  },
  {
   "cell_type": "markdown",
   "id": "70e0e8f2-2250-421d-9e72-683ea732fbd5",
   "metadata": {
    "id": "70e0e8f2-2250-421d-9e72-683ea732fbd5"
   },
   "source": [
    "### 함수형모델 "
   ]
  },
  {
   "cell_type": "markdown",
   "id": "df227c2e-23ec-405c-9d6e-1c3dd128f6b6",
   "metadata": {},
   "source": [
    "네트워크 오브젝트를 만들지 않고 레이어를 설계한 다음 인풋 오브젝트를 만들고 아웃풋 오브젝트를 만든다."
   ]
  },
  {
   "cell_type": "markdown",
   "id": "72af70a7-6a16-4238-9e46-b609ca1539ef",
   "metadata": {
    "id": "72af70a7-6a16-4238-9e46-b609ca1539ef"
   },
   "source": [
    "`-` Imports"
   ]
  },
  {
   "cell_type": "code",
   "execution_count": 2,
   "id": "185c6f5b-d984-47b3-9909-2f24fc964a13",
   "metadata": {
    "id": "185c6f5b-d984-47b3-9909-2f24fc964a13"
   },
   "outputs": [],
   "source": [
    "import tensorflow as tf \n",
    "import tensorflow.experimental.numpy as tnp\n",
    "import matplotlib.pyplot as plt "
   ]
  },
  {
   "cell_type": "code",
   "execution_count": 3,
   "id": "038c7e68-a12e-49c7-89d7-d074466ae055",
   "metadata": {
    "id": "038c7e68-a12e-49c7-89d7-d074466ae055"
   },
   "outputs": [],
   "source": [
    "tnp.experimental_enable_numpy_behavior()"
   ]
  },
  {
   "cell_type": "markdown",
   "id": "f63c186a-aede-4867-ac39-346b029a3c2c",
   "metadata": {
    "id": "f63c186a-aede-4867-ac39-346b029a3c2c"
   },
   "source": [
    "`-` data"
   ]
  },
  {
   "cell_type": "code",
   "execution_count": 4,
   "id": "581dec0d-1ed3-486a-ab43-09b7986001ac",
   "metadata": {
    "id": "581dec0d-1ed3-486a-ab43-09b7986001ac"
   },
   "outputs": [],
   "source": [
    "x= tnp.linspace(0,1,100).reshape(100,1)\n",
    "y= x + tf.random.normal([100,1])*0.1"
   ]
  },
  {
   "cell_type": "code",
   "execution_count": 6,
   "id": "5b57d4dc-7c0a-450f-9345-cc6b1c6ec695",
   "metadata": {
    "id": "5b57d4dc-7c0a-450f-9345-cc6b1c6ec695",
    "outputId": "056cf1ff-b6cc-4e68-a7be-b2e893cd090d"
   },
   "outputs": [
    {
     "data": {
      "text/plain": [
       "[<matplotlib.lines.Line2D at 0x7f48a065b580>]"
      ]
     },
     "execution_count": 6,
     "metadata": {},
     "output_type": "execute_result"
    },
    {
     "data": {
      "image/png": "[encoded data removed]",
      "text/plain": [
       "<Figure size 432x288 with 1 Axes>"
      ]
     },
     "metadata": {
      "needs_background": "light"
     },
     "output_type": "display_data"
    }
   ],
   "source": [
    "plt.plot(x,y,'.')"
   ]
  },
  {
   "cell_type": "markdown",
   "id": "16e6c676-d9dd-4752-81f7-05fbfce5bae6",
   "metadata": {
    "id": "16e6c676-d9dd-4752-81f7-05fbfce5bae6"
   },
   "source": [
    "`-` input layer"
   ]
  },
  {
   "cell_type": "code",
   "execution_count": 7,
   "id": "96ab5a77-0fde-4b8e-906f-e8cac4897cb1",
   "metadata": {},
   "outputs": [
    {
     "data": {
      "text/plain": [
       "\u001b[0;31mSignature:\u001b[0m\n",
       "\u001b[0mtf\u001b[0m\u001b[0;34m.\u001b[0m\u001b[0mkeras\u001b[0m\u001b[0;34m.\u001b[0m\u001b[0mlayers\u001b[0m\u001b[0;34m.\u001b[0m\u001b[0mInput\u001b[0m\u001b[0;34m(\u001b[0m\u001b[0;34m\u001b[0m\n",
       "\u001b[0;34m\u001b[0m    \u001b[0mshape\u001b[0m\u001b[0;34m=\u001b[0m\u001b[0;32mNone\u001b[0m\u001b[0;34m,\u001b[0m\u001b[0;34m\u001b[0m\n",
       "\u001b[0;34m\u001b[0m    \u001b[0mbatch_size\u001b[0m\u001b[0;34m=\u001b[0m\u001b[0;32mNone\u001b[0m\u001b[0;34m,\u001b[0m\u001b[0;34m\u001b[0m\n",
       "\u001b[0;34m\u001b[0m    \u001b[0mname\u001b[0m\u001b[0;34m=\u001b[0m\u001b[0;32mNone\u001b[0m\u001b[0;34m,\u001b[0m\u001b[0;34m\u001b[0m\n",
       "\u001b[0;34m\u001b[0m    \u001b[0mdtype\u001b[0m\u001b[0;34m=\u001b[0m\u001b[0;32mNone\u001b[0m\u001b[0;34m,\u001b[0m\u001b[0;34m\u001b[0m\n",
       "\u001b[0;34m\u001b[0m    \u001b[0msparse\u001b[0m\u001b[0;34m=\u001b[0m\u001b[0;32mNone\u001b[0m\u001b[0;34m,\u001b[0m\u001b[0;34m\u001b[0m\n",
       "\u001b[0;34m\u001b[0m    \u001b[0mtensor\u001b[0m\u001b[0;34m=\u001b[0m\u001b[0;32mNone\u001b[0m\u001b[0;34m,\u001b[0m\u001b[0;34m\u001b[0m\n",
       "\u001b[0;34m\u001b[0m    \u001b[0mragged\u001b[0m\u001b[0;34m=\u001b[0m\u001b[0;32mNone\u001b[0m\u001b[0;34m,\u001b[0m\u001b[0;34m\u001b[0m\n",
       "\u001b[0;34m\u001b[0m    \u001b[0mtype_spec\u001b[0m\u001b[0;34m=\u001b[0m\u001b[0;32mNone\u001b[0m\u001b[0;34m,\u001b[0m\u001b[0;34m\u001b[0m\n",
       "\u001b[0;34m\u001b[0m    \u001b[0;34m**\u001b[0m\u001b[0mkwargs\u001b[0m\u001b[0;34m,\u001b[0m\u001b[0;34m\u001b[0m\n",
       "\u001b[0;34m\u001b[0m\u001b[0;34m)\u001b[0m\u001b[0;34m\u001b[0m\u001b[0;34m\u001b[0m\u001b[0m\n",
       "\u001b[0;31mDocstring:\u001b[0m\n",
       "`Input()` is used to instantiate a Keras tensor.\n",
       "\n",
       "A Keras tensor is a symbolic tensor-like object,\n",
       "which we augment with certain attributes that allow us to build a Keras model\n",
       "just by knowing the inputs and outputs of the model.\n",
       "\n",
       "For instance, if `a`, `b` and `c` are Keras tensors,\n",
       "it becomes possible to do:\n",
       "`model = Model(input=[a, b], output=c)`\n",
       "\n",
       "Args:\n",
       "    shape: A shape tuple (integers), not including the batch size.\n",
       "        For instance, `shape=(32,)` indicates that the expected input\n",
       "        will be batches of 32-dimensional vectors. Elements of this tuple\n",
       "        can be None; 'None' elements represent dimensions where the shape is\n",
       "        not known.\n",
       "    batch_size: optional static batch size (integer).\n",
       "    name: An optional name string for the layer.\n",
       "        Should be unique in a model (do not reuse the same name twice).\n",
       "        It will be autogenerated if it isn't provided.\n",
       "    dtype: The data type expected by the input, as a string\n",
       "        (`float32`, `float64`, `int32`...)\n",
       "    sparse: A boolean specifying whether the placeholder to be created is\n",
       "        sparse. Only one of 'ragged' and 'sparse' can be True. Note that,\n",
       "        if `sparse` is False, sparse tensors can still be passed into the\n",
       "        input - they will be densified with a default value of 0.\n",
       "    tensor: Optional existing tensor to wrap into the `Input` layer.\n",
       "        If set, the layer will use the `tf.TypeSpec` of this tensor rather\n",
       "        than creating a new placeholder tensor.\n",
       "    ragged: A boolean specifying whether the placeholder to be created is\n",
       "        ragged. Only one of 'ragged' and 'sparse' can be True. In this case,\n",
       "        values of 'None' in the 'shape' argument represent ragged dimensions.\n",
       "        For more information about RaggedTensors, see\n",
       "        [this guide](https://www.tensorflow.org/guide/ragged_tensors).\n",
       "    type_spec: A `tf.TypeSpec` object to create the input placeholder from.\n",
       "        When provided, all other args except name must be None.\n",
       "    **kwargs: deprecated arguments support. Supports `batch_shape` and\n",
       "        `batch_input_shape`.\n",
       "\n",
       "Returns:\n",
       "  A `tensor`.\n",
       "\n",
       "Example:\n",
       "\n",
       "```python\n",
       "# this is a logistic regression in Keras\n",
       "x = Input(shape=(32,))\n",
       "y = Dense(16, activation='softmax')(x)\n",
       "model = Model(x, y)\n",
       "```\n",
       "\n",
       "Note that even if eager execution is enabled,\n",
       "`Input` produces a symbolic tensor-like object (i.e. a placeholder).\n",
       "This symbolic tensor-like object can be used with lower-level\n",
       "TensorFlow ops that take tensors as inputs, as such:\n",
       "\n",
       "```python\n",
       "x = Input(shape=(32,))\n",
       "y = tf.square(x)  # This op will be treated like a layer\n",
       "model = Model(x, y)\n",
       "```\n",
       "\n",
       "(This behavior does not work for higher-order TensorFlow APIs such as\n",
       "control flow and being directly watched by a `tf.GradientTape`).\n",
       "\n",
       "However, the resulting model will not track any variables that were\n",
       "used as inputs to TensorFlow ops. All variable usages must happen within\n",
       "Keras layers to make sure they will be tracked by the model's weights.\n",
       "\n",
       "The Keras Input can also create a placeholder from an arbitrary `tf.TypeSpec`,\n",
       "e.g:\n",
       "\n",
       "```python\n",
       "x = Input(type_spec=tf.RaggedTensorSpec(shape=[None, None],\n",
       "                                        dtype=tf.float32, ragged_rank=1))\n",
       "y = x.values\n",
       "model = Model(x, y)\n",
       "```\n",
       "When passing an arbitrary `tf.TypeSpec`, it must represent the signature of an\n",
       "entire batch instead of just one example.\n",
       "\n",
       "Raises:\n",
       "  ValueError: If both `sparse` and `ragged` are provided.\n",
       "  ValueError: If both `shape` and (`batch_input_shape` or `batch_shape`) are\n",
       "    provided.\n",
       "  ValueError: If `shape`, `tensor` and `type_spec` are None.\n",
       "  ValueError: If arguments besides `type_spec` are non-None while `type_spec`\n",
       "              is passed.\n",
       "  ValueError: if any unrecognized parameters are provided.\n",
       "\u001b[0;31mFile:\u001b[0m      ~/anaconda3/envs/csy/lib/python3.8/site-packages/keras/engine/input_layer.py\n",
       "\u001b[0;31mType:\u001b[0m      function\n"
      ]
     },
     "metadata": {},
     "output_type": "display_data"
    }
   ],
   "source": [
    "tf.keras.layers.Input?"
   ]
  },
  {
   "cell_type": "code",
   "execution_count": 8,
   "id": "2bd395a9-5b0c-4a8f-9397-bf8e850afdb7",
   "metadata": {
    "id": "2bd395a9-5b0c-4a8f-9397-bf8e850afdb7"
   },
   "outputs": [],
   "source": [
    "x0= tf.keras.layers.Input(shape=(1,))"
   ]
  },
  {
   "cell_type": "code",
   "execution_count": 9,
   "id": "56720159-1da0-46f0-9859-9ec617a06c13",
   "metadata": {},
   "outputs": [
    {
     "data": {
      "text/plain": [
       "TensorShape([100, 1])"
      ]
     },
     "execution_count": 9,
     "metadata": {},
     "output_type": "execute_result"
    }
   ],
   "source": [
    "x.shape"
   ]
  },
  {
   "cell_type": "markdown",
   "id": "7e661492-c062-4003-8109-7e7e4c9d2f32",
   "metadata": {},
   "source": [
    "길이가 1일 튜플을 넣자"
   ]
  },
  {
   "cell_type": "markdown",
   "id": "30d7f873-9e65-44f7-ad11-035100c16606",
   "metadata": {
    "id": "30d7f873-9e65-44f7-ad11-035100c16606"
   },
   "source": [
    "`-` 아키텍처"
   ]
  },
  {
   "cell_type": "code",
   "execution_count": 10,
   "id": "2ccdf51e-4267-4c6a-924d-dceb2712dc54",
   "metadata": {
    "id": "2ccdf51e-4267-4c6a-924d-dceb2712dc54"
   },
   "outputs": [],
   "source": [
    "l1=tf.keras.layers.Dense(30)\n",
    "a1=tf.keras.layers.Activation(tf.nn.relu)"
   ]
  },
  {
   "cell_type": "code",
   "execution_count": 11,
   "id": "f4c413f7-2577-4664-9cfe-6eb0fce90101",
   "metadata": {
    "id": "f4c413f7-2577-4664-9cfe-6eb0fce90101"
   },
   "outputs": [],
   "source": [
    "x1=a1(l1(x0))"
   ]
  },
  {
   "cell_type": "code",
   "execution_count": 12,
   "id": "fb6a29be-ae61-4fa3-a92f-a10bf21ae427",
   "metadata": {
    "id": "fb6a29be-ae61-4fa3-a92f-a10bf21ae427"
   },
   "outputs": [],
   "source": [
    "l2=tf.keras.layers.Dense(30)\n",
    "a2=tf.keras.layers.Activation(tf.nn.relu)"
   ]
  },
  {
   "cell_type": "code",
   "execution_count": 13,
   "id": "72f9a9ed-4665-48f1-a26c-27e42c0a344f",
   "metadata": {
    "id": "72f9a9ed-4665-48f1-a26c-27e42c0a344f"
   },
   "outputs": [],
   "source": [
    "x2=a2(l2(x1))"
   ]
  },
  {
   "cell_type": "code",
   "execution_count": 14,
   "id": "49f81dd2-5812-4ab5-8cf6-5f04cfd1c87b",
   "metadata": {
    "id": "49f81dd2-5812-4ab5-8cf6-5f04cfd1c87b"
   },
   "outputs": [],
   "source": [
    "l3=tf.keras.layers.Dense(1)\n",
    "x3=l3(x2) # output"
   ]
  },
  {
   "cell_type": "markdown",
   "id": "7adb7e7d-9d12-4059-887b-2552fb343e70",
   "metadata": {
    "id": "7adb7e7d-9d12-4059-887b-2552fb343e70"
   },
   "source": [
    "`-` input, output 으로 모델(net)설정"
   ]
  },
  {
   "cell_type": "code",
   "execution_count": 16,
   "id": "e394943e-66ad-4029-8358-cbaf5b5139fa",
   "metadata": {},
   "outputs": [
    {
     "data": {
      "text/plain": [
       "\u001b[0;31mInit signature:\u001b[0m \u001b[0mtf\u001b[0m\u001b[0;34m.\u001b[0m\u001b[0mkeras\u001b[0m\u001b[0;34m.\u001b[0m\u001b[0mModel\u001b[0m\u001b[0;34m(\u001b[0m\u001b[0;34m*\u001b[0m\u001b[0margs\u001b[0m\u001b[0;34m,\u001b[0m \u001b[0;34m**\u001b[0m\u001b[0mkwargs\u001b[0m\u001b[0;34m)\u001b[0m\u001b[0;34m\u001b[0m\u001b[0;34m\u001b[0m\u001b[0m\n",
       "\u001b[0;31mDocstring:\u001b[0m     \n",
       "`Model` groups layers into an object with training and inference features.\n",
       "\n",
       "Args:\n",
       "    inputs: The input(s) of the model: a `keras.Input` object or list of\n",
       "        `keras.Input` objects.\n",
       "    outputs: The output(s) of the model. See Functional API example below.\n",
       "    name: String, the name of the model.\n",
       "\n",
       "There are two ways to instantiate a `Model`:\n",
       "\n",
       "1 - With the \"Functional API\", where you start from `Input`,\n",
       "you chain layer calls to specify the model's forward pass,\n",
       "and finally you create your model from inputs and outputs:\n",
       "\n",
       "```python\n",
       "import tensorflow as tf\n",
       "\n",
       "inputs = tf.keras.Input(shape=(3,))\n",
       "x = tf.keras.layers.Dense(4, activation=tf.nn.relu)(inputs)\n",
       "outputs = tf.keras.layers.Dense(5, activation=tf.nn.softmax)(x)\n",
       "model = tf.keras.Model(inputs=inputs, outputs=outputs)\n",
       "```\n",
       "\n",
       "Note: Only dicts, lists, and tuples of input tensors are supported. Nested\n",
       "inputs are not supported (e.g. lists of list or dicts of dict).\n",
       "\n",
       "A new Functional API model can also be created by using the\n",
       "intermediate tensors. This enables you to quickly extract sub-components\n",
       "of the model.\n",
       "\n",
       "Example:\n",
       "\n",
       "```python\n",
       "inputs = keras.Input(shape=(None, None, 3))\n",
       "processed = keras.layers.RandomCrop(width=32, height=32)(inputs)\n",
       "conv = keras.layers.Conv2D(filters=2, kernel_size=3)(processed)\n",
       "pooling = keras.layers.GlobalAveragePooling2D()(conv)\n",
       "feature = keras.layers.Dense(10)(pooling)\n",
       "\n",
       "full_model = keras.Model(inputs, feature)\n",
       "backbone = keras.Model(processed, conv)\n",
       "activations = keras.Model(conv, feature)\n",
       "```\n",
       "\n",
       "Note that the `backbone` and `activations` models are not\n",
       "created with `keras.Input` objects, but with the tensors that are originated\n",
       "from `keras.Inputs` objects. Under the hood, the layers and weights will\n",
       "be shared across these models, so that user can train the `full_model`, and\n",
       "use `backbone` or `activations` to do feature extraction.\n",
       "The inputs and outputs of the model can be nested structures of tensors as\n",
       "well, and the created models are standard Functional API models that support\n",
       "all the existing APIs.\n",
       "\n",
       "2 - By subclassing the `Model` class: in that case, you should define your\n",
       "layers in `__init__()` and you should implement the model's forward pass\n",
       "in `call()`.\n",
       "\n",
       "```python\n",
       "import tensorflow as tf\n",
       "\n",
       "class MyModel(tf.keras.Model):\n",
       "\n",
       "  def __init__(self):\n",
       "    super().__init__()\n",
       "    self.dense1 = tf.keras.layers.Dense(4, activation=tf.nn.relu)\n",
       "    self.dense2 = tf.keras.layers.Dense(5, activation=tf.nn.softmax)\n",
       "\n",
       "  def call(self, inputs):\n",
       "    x = self.dense1(inputs)\n",
       "    return self.dense2(x)\n",
       "\n",
       "model = MyModel()\n",
       "```\n",
       "\n",
       "If you subclass `Model`, you can optionally have\n",
       "a `training` argument (boolean) in `call()`, which you can use to specify\n",
       "a different behavior in training and inference:\n",
       "\n",
       "```python\n",
       "import tensorflow as tf\n",
       "\n",
       "class MyModel(tf.keras.Model):\n",
       "\n",
       "  def __init__(self):\n",
       "    super().__init__()\n",
       "    self.dense1 = tf.keras.layers.Dense(4, activation=tf.nn.relu)\n",
       "    self.dense2 = tf.keras.layers.Dense(5, activation=tf.nn.softmax)\n",
       "    self.dropout = tf.keras.layers.Dropout(0.5)\n",
       "\n",
       "  def call(self, inputs, training=False):\n",
       "    x = self.dense1(inputs)\n",
       "    if training:\n",
       "      x = self.dropout(x, training=training)\n",
       "    return self.dense2(x)\n",
       "\n",
       "model = MyModel()\n",
       "```\n",
       "\n",
       "Once the model is created, you can config the model with losses and metrics\n",
       "with `model.compile()`, train the model with `model.fit()`, or use the model\n",
       "to do prediction with `model.predict()`.\n",
       "\u001b[0;31mFile:\u001b[0m           ~/anaconda3/envs/csy/lib/python3.8/site-packages/keras/engine/training.py\n",
       "\u001b[0;31mType:\u001b[0m           type\n",
       "\u001b[0;31mSubclasses:\u001b[0m     Model, LinearModel, WideDeepModel, Functional\n"
      ]
     },
     "metadata": {},
     "output_type": "display_data"
    }
   ],
   "source": [
    "tf.keras.Model?"
   ]
  },
  {
   "cell_type": "code",
   "execution_count": 15,
   "id": "241b8b9a-3e59-4b5d-8981-36cfe5a5b29a",
   "metadata": {
    "id": "241b8b9a-3e59-4b5d-8981-36cfe5a5b29a"
   },
   "outputs": [],
   "source": [
    "net = tf.keras.Model(inputs=x0, outputs=x3)"
   ]
  },
  {
   "cell_type": "code",
   "execution_count": 17,
   "id": "9cfeb38a-1260-4fcc-adb5-39836ccb7d40",
   "metadata": {
    "id": "9cfeb38a-1260-4fcc-adb5-39836ccb7d40",
    "outputId": "117fcc3c-11b4-4169-9836-4daf659ea90e"
   },
   "outputs": [
    {
     "name": "stdout",
     "output_type": "stream",
     "text": [
      "Model: \"model\"\n",
      "_________________________________________________________________\n",
      " Layer (type)                Output Shape              Param #   \n",
      "=================================================================\n",
      " input_1 (InputLayer)        [(None, 1)]               0         \n",
      "                                                                 \n",
      " dense (Dense)               (None, 30)                60        \n",
      "                                                                 \n",
      " activation (Activation)     (None, 30)                0         \n",
      "                                                                 \n",
      " dense_1 (Dense)             (None, 30)                930       \n",
      "                                                                 \n",
      " activation_1 (Activation)   (None, 30)                0         \n",
      "                                                                 \n",
      " dense_2 (Dense)             (None, 1)                 31        \n",
      "                                                                 \n",
      "=================================================================\n",
      "Total params: 1,021\n",
      "Trainable params: 1,021\n",
      "Non-trainable params: 0\n",
      "_________________________________________________________________\n"
     ]
    }
   ],
   "source": [
    "net.summary()"
   ]
  },
  {
   "cell_type": "markdown",
   "id": "5bef22f2-fd04-4791-9b48-13b269aa8ab3",
   "metadata": {
    "id": "5bef22f2-fd04-4791-9b48-13b269aa8ab3"
   },
   "source": [
    "`-` compile and fit"
   ]
  },
  {
   "cell_type": "code",
   "execution_count": 18,
   "id": "9d420119-d1bc-4384-8a87-feb6fa38bc32",
   "metadata": {
    "id": "9d420119-d1bc-4384-8a87-feb6fa38bc32"
   },
   "outputs": [],
   "source": [
    "net.compile(loss='mse', optimizer='sgd')"
   ]
  },
  {
   "cell_type": "code",
   "execution_count": 21,
   "id": "f5aa955e-286f-4252-b773-1472f640bd48",
   "metadata": {
    "id": "f5aa955e-286f-4252-b773-1472f640bd48",
    "outputId": "d7574849-bf5e-4595-a2df-957dc10645ed"
   },
   "outputs": [
    {
     "name": "stdout",
     "output_type": "stream",
     "text": [
      "Epoch 1/100\n",
      "4/4 [==============================] - 0s 2ms/step - loss: 0.0170\n",
      "Epoch 2/100\n",
      "4/4 [==============================] - 0s 2ms/step - loss: 0.0168\n",
      "Epoch 3/100\n",
      "4/4 [==============================] - 0s 2ms/step - loss: 0.0166\n",
      "Epoch 4/100\n",
      "4/4 [==============================] - 0s 2ms/step - loss: 0.0164\n",
      "Epoch 5/100\n",
      "4/4 [==============================] - 0s 2ms/step - loss: 0.0163\n",
      "Epoch 6/100\n",
      "4/4 [==============================] - 0s 3ms/step - loss: 0.0162\n",
      "Epoch 7/100\n",
      "4/4 [==============================] - 0s 3ms/step - loss: 0.0161\n",
      "Epoch 8/100\n",
      "4/4 [==============================] - 0s 3ms/step - loss: 0.0160\n",
      "Epoch 9/100\n",
      "4/4 [==============================] - 0s 2ms/step - loss: 0.0158\n",
      "Epoch 10/100\n",
      "4/4 [==============================] - 0s 3ms/step - loss: 0.0155\n",
      "Epoch 11/100\n",
      "4/4 [==============================] - 0s 3ms/step - loss: 0.0153\n",
      "Epoch 12/100\n",
      "4/4 [==============================] - 0s 3ms/step - loss: 0.0151\n",
      "Epoch 13/100\n",
      "4/4 [==============================] - 0s 3ms/step - loss: 0.0150\n",
      "Epoch 14/100\n",
      "4/4 [==============================] - 0s 2ms/step - loss: 0.0149\n",
      "Epoch 15/100\n",
      "4/4 [==============================] - 0s 3ms/step - loss: 0.0148\n",
      "Epoch 16/100\n",
      "4/4 [==============================] - 0s 3ms/step - loss: 0.0146\n",
      "Epoch 17/100\n",
      "4/4 [==============================] - 0s 2ms/step - loss: 0.0145\n",
      "Epoch 18/100\n",
      "4/4 [==============================] - 0s 2ms/step - loss: 0.0144\n",
      "Epoch 19/100\n",
      "4/4 [==============================] - 0s 3ms/step - loss: 0.0143\n",
      "Epoch 20/100\n",
      "4/4 [==============================] - 0s 2ms/step - loss: 0.0144\n",
      "Epoch 21/100\n",
      "4/4 [==============================] - 0s 3ms/step - loss: 0.0141\n",
      "Epoch 22/100\n",
      "4/4 [==============================] - 0s 2ms/step - loss: 0.0140\n",
      "Epoch 23/100\n",
      "4/4 [==============================] - 0s 2ms/step - loss: 0.0139\n",
      "Epoch 24/100\n",
      "4/4 [==============================] - 0s 2ms/step - loss: 0.0137\n",
      "Epoch 25/100\n",
      "4/4 [==============================] - 0s 3ms/step - loss: 0.0136\n",
      "Epoch 26/100\n",
      "4/4 [==============================] - 0s 3ms/step - loss: 0.0135\n",
      "Epoch 27/100\n",
      "4/4 [==============================] - 0s 3ms/step - loss: 0.0134\n",
      "Epoch 28/100\n",
      "4/4 [==============================] - 0s 2ms/step - loss: 0.0133\n",
      "Epoch 29/100\n",
      "4/4 [==============================] - 0s 2ms/step - loss: 0.0132\n",
      "Epoch 30/100\n",
      "4/4 [==============================] - 0s 3ms/step - loss: 0.0131\n",
      "Epoch 31/100\n",
      "4/4 [==============================] - 0s 3ms/step - loss: 0.0130\n",
      "Epoch 32/100\n",
      "4/4 [==============================] - 0s 2ms/step - loss: 0.0130\n",
      "Epoch 33/100\n",
      "4/4 [==============================] - 0s 2ms/step - loss: 0.0128\n",
      "Epoch 34/100\n",
      "4/4 [==============================] - 0s 3ms/step - loss: 0.0128\n",
      "Epoch 35/100\n",
      "4/4 [==============================] - 0s 2ms/step - loss: 0.0127\n",
      "Epoch 36/100\n",
      "4/4 [==============================] - 0s 2ms/step - loss: 0.0126\n",
      "Epoch 37/100\n",
      "4/4 [==============================] - 0s 3ms/step - loss: 0.0126\n",
      "Epoch 38/100\n",
      "4/4 [==============================] - 0s 2ms/step - loss: 0.0125\n",
      "Epoch 39/100\n",
      "4/4 [==============================] - 0s 2ms/step - loss: 0.0124\n",
      "Epoch 40/100\n",
      "4/4 [==============================] - 0s 2ms/step - loss: 0.0123\n",
      "Epoch 41/100\n",
      "4/4 [==============================] - 0s 2ms/step - loss: 0.0123\n",
      "Epoch 42/100\n",
      "4/4 [==============================] - 0s 3ms/step - loss: 0.0122\n",
      "Epoch 43/100\n",
      "4/4 [==============================] - 0s 3ms/step - loss: 0.0121\n",
      "Epoch 44/100\n",
      "4/4 [==============================] - 0s 3ms/step - loss: 0.0121\n",
      "Epoch 45/100\n",
      "4/4 [==============================] - 0s 3ms/step - loss: 0.0120\n",
      "Epoch 46/100\n",
      "4/4 [==============================] - 0s 3ms/step - loss: 0.0120\n",
      "Epoch 47/100\n",
      "4/4 [==============================] - 0s 3ms/step - loss: 0.0119\n",
      "Epoch 48/100\n",
      "4/4 [==============================] - 0s 3ms/step - loss: 0.0119\n",
      "Epoch 49/100\n",
      "4/4 [==============================] - 0s 3ms/step - loss: 0.0119\n",
      "Epoch 50/100\n",
      "4/4 [==============================] - 0s 3ms/step - loss: 0.0118\n",
      "Epoch 51/100\n",
      "4/4 [==============================] - 0s 3ms/step - loss: 0.0118\n",
      "Epoch 52/100\n",
      "4/4 [==============================] - 0s 2ms/step - loss: 0.0117\n",
      "Epoch 53/100\n",
      "4/4 [==============================] - 0s 3ms/step - loss: 0.0117\n",
      "Epoch 54/100\n",
      "4/4 [==============================] - 0s 2ms/step - loss: 0.0117\n",
      "Epoch 55/100\n",
      "4/4 [==============================] - 0s 2ms/step - loss: 0.0116\n",
      "Epoch 56/100\n",
      "4/4 [==============================] - 0s 3ms/step - loss: 0.0117\n",
      "Epoch 57/100\n",
      "4/4 [==============================] - 0s 3ms/step - loss: 0.0117\n",
      "Epoch 58/100\n",
      "4/4 [==============================] - 0s 3ms/step - loss: 0.0115\n",
      "Epoch 59/100\n",
      "4/4 [==============================] - 0s 3ms/step - loss: 0.0115\n",
      "Epoch 60/100\n",
      "4/4 [==============================] - 0s 2ms/step - loss: 0.0115\n",
      "Epoch 61/100\n",
      "4/4 [==============================] - 0s 3ms/step - loss: 0.0115\n",
      "Epoch 62/100\n",
      "4/4 [==============================] - 0s 2ms/step - loss: 0.0114\n",
      "Epoch 63/100\n",
      "4/4 [==============================] - 0s 2ms/step - loss: 0.0114\n",
      "Epoch 64/100\n",
      "4/4 [==============================] - 0s 3ms/step - loss: 0.0114\n",
      "Epoch 65/100\n",
      "4/4 [==============================] - 0s 3ms/step - loss: 0.0113\n",
      "Epoch 66/100\n",
      "4/4 [==============================] - 0s 2ms/step - loss: 0.0113\n",
      "Epoch 67/100\n",
      "4/4 [==============================] - 0s 3ms/step - loss: 0.0113\n",
      "Epoch 68/100\n",
      "4/4 [==============================] - 0s 3ms/step - loss: 0.0113\n",
      "Epoch 69/100\n",
      "4/4 [==============================] - 0s 3ms/step - loss: 0.0112\n",
      "Epoch 70/100\n",
      "4/4 [==============================] - ETA: 0s - loss: 0.013 - 0s 3ms/step - loss: 0.0112\n",
      "Epoch 71/100\n",
      "4/4 [==============================] - 0s 2ms/step - loss: 0.0112\n",
      "Epoch 72/100\n",
      "4/4 [==============================] - 0s 2ms/step - loss: 0.0111\n",
      "Epoch 73/100\n",
      "4/4 [==============================] - 0s 3ms/step - loss: 0.0111\n",
      "Epoch 74/100\n",
      "4/4 [==============================] - 0s 2ms/step - loss: 0.0112\n",
      "Epoch 75/100\n",
      "4/4 [==============================] - 0s 2ms/step - loss: 0.0111\n",
      "Epoch 76/100\n",
      "4/4 [==============================] - 0s 3ms/step - loss: 0.0110\n",
      "Epoch 77/100\n",
      "4/4 [==============================] - 0s 3ms/step - loss: 0.0110\n",
      "Epoch 78/100\n",
      "4/4 [==============================] - ETA: 0s - loss: 0.008 - 0s 3ms/step - loss: 0.0110\n",
      "Epoch 79/100\n",
      "4/4 [==============================] - 0s 3ms/step - loss: 0.0110\n",
      "Epoch 80/100\n",
      "4/4 [==============================] - 0s 2ms/step - loss: 0.0110\n",
      "Epoch 81/100\n",
      "4/4 [==============================] - 0s 2ms/step - loss: 0.0109\n",
      "Epoch 82/100\n",
      "4/4 [==============================] - 0s 3ms/step - loss: 0.0109\n",
      "Epoch 83/100\n",
      "4/4 [==============================] - 0s 2ms/step - loss: 0.0110\n",
      "Epoch 84/100\n",
      "4/4 [==============================] - 0s 2ms/step - loss: 0.0109\n",
      "Epoch 85/100\n",
      "4/4 [==============================] - 0s 3ms/step - loss: 0.0109\n",
      "Epoch 86/100\n",
      "4/4 [==============================] - 0s 3ms/step - loss: 0.0109\n",
      "Epoch 87/100\n",
      "4/4 [==============================] - 0s 2ms/step - loss: 0.0109\n",
      "Epoch 88/100\n",
      "4/4 [==============================] - 0s 2ms/step - loss: 0.0108\n",
      "Epoch 89/100\n",
      "4/4 [==============================] - 0s 2ms/step - loss: 0.0108\n",
      "Epoch 90/100\n",
      "4/4 [==============================] - 0s 3ms/step - loss: 0.0109\n",
      "Epoch 91/100\n",
      "4/4 [==============================] - 0s 2ms/step - loss: 0.0108\n",
      "Epoch 92/100\n",
      "4/4 [==============================] - 0s 2ms/step - loss: 0.0108\n",
      "Epoch 93/100\n",
      "4/4 [==============================] - 0s 2ms/step - loss: 0.0108\n",
      "Epoch 94/100\n",
      "4/4 [==============================] - 0s 2ms/step - loss: 0.0108\n",
      "Epoch 95/100\n",
      "4/4 [==============================] - 0s 2ms/step - loss: 0.0108\n",
      "Epoch 96/100\n",
      "4/4 [==============================] - 0s 2ms/step - loss: 0.0108\n",
      "Epoch 97/100\n",
      "4/4 [==============================] - 0s 2ms/step - loss: 0.0107\n",
      "Epoch 98/100\n",
      "4/4 [==============================] - 0s 2ms/step - loss: 0.0107\n",
      "Epoch 99/100\n",
      "4/4 [==============================] - 0s 2ms/step - loss: 0.0107\n",
      "Epoch 100/100\n",
      "4/4 [==============================] - 0s 2ms/step - loss: 0.0107\n"
     ]
    },
    {
     "data": {
      "text/plain": [
       "<keras.callbacks.History at 0x7f488c45ce50>"
      ]
     },
     "execution_count": 21,
     "metadata": {},
     "output_type": "execute_result"
    }
   ],
   "source": [
    "net.fit(x,y,epochs=100)"
   ]
  },
  {
   "cell_type": "code",
   "execution_count": 22,
   "id": "a7aa3d79-c301-4b0d-8654-5659a92c3ee9",
   "metadata": {
    "id": "a7aa3d79-c301-4b0d-8654-5659a92c3ee9",
    "outputId": "f047be96-8382-4dac-977a-87bdc47af2c4"
   },
   "outputs": [
    {
     "data": {
      "text/plain": [
       "[<matplotlib.lines.Line2D at 0x7f488c437220>]"
      ]
     },
     "execution_count": 22,
     "metadata": {},
     "output_type": "execute_result"
    },
    {
     "data": {
      "image/png": "[encoded data removed]",
      "text/plain": [
       "<Figure size 432x288 with 1 Axes>"
      ]
     },
     "metadata": {
      "needs_background": "light"
     },
     "output_type": "display_data"
    }
   ],
   "source": [
    "plt.plot(x,y,'.')\n",
    "plt.plot(x,net(x),'--')"
   ]
  },
  {
   "cell_type": "code",
   "execution_count": null,
   "id": "3d4b0e6c-a1c3-4595-95bb-a2bd6b28973d",
   "metadata": {},
   "outputs": [],
   "source": []
  }
 ],
 "metadata": {
  "colab": {
   "provenance": []
  },
  "kernelspec": {
   "display_name": "Python 3 (ipykernel)",
   "language": "python",
   "name": "python3"
  },
  "language_info": {
   "codemirror_mode": {
    "name": "ipython",
    "version": 3
   },
   "file_extension": ".py",
   "mimetype": "text/x-python",
   "name": "python",
   "nbconvert_exporter": "python",
   "pygments_lexer": "ipython3",
   "version": "3.8.12"
  }
 },
 "nbformat": 4,
 "nbformat_minor": 5
}
