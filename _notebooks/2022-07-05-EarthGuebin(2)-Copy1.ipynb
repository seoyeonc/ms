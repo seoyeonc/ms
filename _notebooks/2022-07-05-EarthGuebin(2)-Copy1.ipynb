{
 "cells": [
  {
   "cell_type": "markdown",
   "id": "5fca747e-5d9f-444c-a480-76b77415edd4",
   "metadata": {
    "id": "cac470df-29e7-4148-9bbd-d8b9a32fa570",
    "tags": []
   },
   "source": [
    "# (시도) Eearthquake (2)\n",
    "> \n",
    "\n",
    "- toc:true\n",
    "- branch: master\n",
    "- badges: true\n",
    "- comments: false\n",
    "- author: 최서연, 최규빈"
   ]
  },
  {
   "cell_type": "markdown",
   "id": "572e82f3-c9ef-47f1-a3db-2b7a9f6149e8",
   "metadata": {},
   "source": [
    "### imports"
   ]
  },
  {
   "cell_type": "code",
   "execution_count": 2,
   "id": "f8630cda-e3f6-4431-8863-e89bf6d2ed4a",
   "metadata": {},
   "outputs": [],
   "source": [
    "import tqdm\n",
    "import numpy as np\n",
    "import pandas as pd\n",
    "import matplotlib.pyplot as plt \n",
    "import plotly.express as px\n",
    "import warnings\n",
    "warnings.simplefilter(\"ignore\", np.ComplexWarning)\n",
    "from haversine import haversine\n",
    "from IPython.display import HTML"
   ]
  },
  {
   "cell_type": "code",
   "execution_count": 3,
   "id": "2ac1743d-2fb3-4dea-b5e7-a58f6be03603",
   "metadata": {},
   "outputs": [],
   "source": [
    "import rpy2\n",
    "import rpy2.robjects as ro \n",
    "from rpy2.robjects.vectors import FloatVector \n",
    "from rpy2.robjects.packages import importr"
   ]
  },
  {
   "cell_type": "markdown",
   "id": "5701a39d-1112-4251-b0df-a696b1610ba0",
   "metadata": {},
   "source": [
    "### load data and clean it"
   ]
  },
  {
   "cell_type": "markdown",
   "id": "8c59d1b1-f6e5-4278-a7aa-c456085374d2",
   "metadata": {},
   "source": [
    "`-` load"
   ]
  },
  {
   "cell_type": "code",
   "execution_count": 4,
   "id": "d51071e5-5241-48a4-9a74-bf32bfe535fb",
   "metadata": {},
   "outputs": [
    {
     "data": {
      "text/html": [
       "<div>\n",
       "<style scoped>\n",
       "    .dataframe tbody tr th:only-of-type {\n",
       "        vertical-align: middle;\n",
       "    }\n",
       "\n",
       "    .dataframe tbody tr th {\n",
       "        vertical-align: top;\n",
       "    }\n",
       "\n",
       "    .dataframe thead th {\n",
       "        text-align: right;\n",
       "    }\n",
       "</style>\n",
       "<table border=\"1\" class=\"dataframe\">\n",
       "  <thead>\n",
       "    <tr style=\"text-align: right;\">\n",
       "      <th></th>\n",
       "      <th>Date</th>\n",
       "      <th>Latitude</th>\n",
       "      <th>Longitude</th>\n",
       "      <th>Magnitude</th>\n",
       "    </tr>\n",
       "  </thead>\n",
       "  <tbody>\n",
       "    <tr>\n",
       "      <th>0</th>\n",
       "      <td>01/02/1965</td>\n",
       "      <td>19.2460</td>\n",
       "      <td>145.6160</td>\n",
       "      <td>6.0</td>\n",
       "    </tr>\n",
       "    <tr>\n",
       "      <th>1</th>\n",
       "      <td>01/04/1965</td>\n",
       "      <td>1.8630</td>\n",
       "      <td>127.3520</td>\n",
       "      <td>5.8</td>\n",
       "    </tr>\n",
       "    <tr>\n",
       "      <th>2</th>\n",
       "      <td>01/05/1965</td>\n",
       "      <td>-20.5790</td>\n",
       "      <td>-173.9720</td>\n",
       "      <td>6.2</td>\n",
       "    </tr>\n",
       "    <tr>\n",
       "      <th>3</th>\n",
       "      <td>01/08/1965</td>\n",
       "      <td>-59.0760</td>\n",
       "      <td>-23.5570</td>\n",
       "      <td>5.8</td>\n",
       "    </tr>\n",
       "    <tr>\n",
       "      <th>4</th>\n",
       "      <td>01/09/1965</td>\n",
       "      <td>11.9380</td>\n",
       "      <td>126.4270</td>\n",
       "      <td>5.8</td>\n",
       "    </tr>\n",
       "    <tr>\n",
       "      <th>...</th>\n",
       "      <td>...</td>\n",
       "      <td>...</td>\n",
       "      <td>...</td>\n",
       "      <td>...</td>\n",
       "    </tr>\n",
       "    <tr>\n",
       "      <th>23407</th>\n",
       "      <td>12/28/2016</td>\n",
       "      <td>38.3917</td>\n",
       "      <td>-118.8941</td>\n",
       "      <td>5.6</td>\n",
       "    </tr>\n",
       "    <tr>\n",
       "      <th>23408</th>\n",
       "      <td>12/28/2016</td>\n",
       "      <td>38.3777</td>\n",
       "      <td>-118.8957</td>\n",
       "      <td>5.5</td>\n",
       "    </tr>\n",
       "    <tr>\n",
       "      <th>23409</th>\n",
       "      <td>12/28/2016</td>\n",
       "      <td>36.9179</td>\n",
       "      <td>140.4262</td>\n",
       "      <td>5.9</td>\n",
       "    </tr>\n",
       "    <tr>\n",
       "      <th>23410</th>\n",
       "      <td>12/29/2016</td>\n",
       "      <td>-9.0283</td>\n",
       "      <td>118.6639</td>\n",
       "      <td>6.3</td>\n",
       "    </tr>\n",
       "    <tr>\n",
       "      <th>23411</th>\n",
       "      <td>12/30/2016</td>\n",
       "      <td>37.3973</td>\n",
       "      <td>141.4103</td>\n",
       "      <td>5.5</td>\n",
       "    </tr>\n",
       "  </tbody>\n",
       "</table>\n",
       "<p>23412 rows × 4 columns</p>\n",
       "</div>"
      ],
      "text/plain": [
       "             Date  Latitude  Longitude  Magnitude\n",
       "0      01/02/1965   19.2460   145.6160        6.0\n",
       "1      01/04/1965    1.8630   127.3520        5.8\n",
       "2      01/05/1965  -20.5790  -173.9720        6.2\n",
       "3      01/08/1965  -59.0760   -23.5570        5.8\n",
       "4      01/09/1965   11.9380   126.4270        5.8\n",
       "...           ...       ...        ...        ...\n",
       "23407  12/28/2016   38.3917  -118.8941        5.6\n",
       "23408  12/28/2016   38.3777  -118.8957        5.5\n",
       "23409  12/28/2016   36.9179   140.4262        5.9\n",
       "23410  12/29/2016   -9.0283   118.6639        6.3\n",
       "23411  12/30/2016   37.3973   141.4103        5.5\n",
       "\n",
       "[23412 rows x 4 columns]"
      ]
     },
     "execution_count": 4,
     "metadata": {},
     "output_type": "execute_result"
    }
   ],
   "source": [
    "df= pd.read_csv('https://raw.githubusercontent.com/plotly/datasets/master/earthquakes-23k.csv')\n",
    "df"
   ]
  },
  {
   "cell_type": "code",
   "execution_count": 5,
   "id": "e4c4e73f-95f2-4d17-a0d9-7bc459706bfc",
   "metadata": {},
   "outputs": [],
   "source": [
    "df_korea= pd.read_csv('earthquake_korea2.csv').iloc[:,[1,2,5,6]].rename(columns={'규모':'Magnitude'})"
   ]
  },
  {
   "cell_type": "markdown",
   "id": "2bdb592f-6fbf-4916-8084-c8ddaf6c679a",
   "metadata": {},
   "source": [
    "https://www.weather.go.kr/w/eqk-vol/search/korea.do?schOption=&xls=0&startTm=2012-01-02&endTm=2022-06-17&startSize=2&endSize=&startLat=&endLat=&startLon=&endLon=&lat=&lon=&dist=&keyword=&dpType=m"
   ]
  },
  {
   "cell_type": "code",
   "execution_count": 6,
   "id": "1eeb883f-2d2d-4442-a22c-e51efbc00df5",
   "metadata": {},
   "outputs": [],
   "source": [
    "df_global= pd.concat([pd.read_csv('00_05.csv'),pd.read_csv('05_10.csv'),pd.read_csv('10_15.csv'),pd.read_csv('15_20.csv')]).iloc[:,[0,1,2,4]].rename(columns={'latitude':'Latitude','longitude':'Longitude','mag':'Magnitude'}).reset_index().iloc[:,1:]"
   ]
  },
  {
   "cell_type": "markdown",
   "id": "dc469794-7aab-49aa-b98b-ad8f7dacb8ad",
   "metadata": {},
   "source": [
    "https://www.usgs.gov/programs/earthquake-hazards/lists-maps-and-statistics"
   ]
  },
  {
   "cell_type": "markdown",
   "id": "bfa8ecef-a7d9-4fec-bd52-0963f7463d15",
   "metadata": {},
   "source": [
    "`-` cleaning"
   ]
  },
  {
   "cell_type": "code",
   "execution_count": 7,
   "id": "4bdde104-5708-4d93-9443-02be730b970b",
   "metadata": {},
   "outputs": [
    {
     "data": {
      "text/plain": [
       "3378    1975-02-23T02:58:41.000Z\n",
       "Name: Date, dtype: object"
      ]
     },
     "execution_count": 7,
     "metadata": {},
     "output_type": "execute_result"
    }
   ],
   "source": [
    "df.Date[df.Date == '1975-02-23T02:58:41.000Z']"
   ]
  },
  {
   "cell_type": "code",
   "execution_count": 8,
   "id": "f6dded53-1ee4-4516-9e3a-7ef269279818",
   "metadata": {},
   "outputs": [],
   "source": [
    "df.iloc[3378,0] = '02/03/1975'"
   ]
  },
  {
   "cell_type": "code",
   "execution_count": 9,
   "id": "098c6f68-5dce-4d4e-afa7-5c13080fca2d",
   "metadata": {},
   "outputs": [
    {
     "data": {
      "text/plain": [
       "7512    1985-04-28T02:53:41.530Z\n",
       "Name: Date, dtype: object"
      ]
     },
     "execution_count": 9,
     "metadata": {},
     "output_type": "execute_result"
    }
   ],
   "source": [
    "df.Date[df.Date == '1985-04-28T02:53:41.530Z']"
   ]
  },
  {
   "cell_type": "code",
   "execution_count": 10,
   "id": "016111d3-fe84-45e4-8e7f-5feb0ef1d100",
   "metadata": {},
   "outputs": [],
   "source": [
    "df.iloc[7512,0] = '04/28/1985'"
   ]
  },
  {
   "cell_type": "code",
   "execution_count": 11,
   "id": "9fb351b8-8d99-4934-b00f-b611a7ab8a34",
   "metadata": {},
   "outputs": [
    {
     "data": {
      "text/plain": [
       "20650    2011-03-13T02:23:34.520Z\n",
       "Name: Date, dtype: object"
      ]
     },
     "execution_count": 11,
     "metadata": {},
     "output_type": "execute_result"
    }
   ],
   "source": [
    "df.Date[df.Date == '2011-03-13T02:23:34.520Z']"
   ]
  },
  {
   "cell_type": "code",
   "execution_count": 12,
   "id": "22f313ad-ecf9-4b2b-8dad-542af76a811b",
   "metadata": {},
   "outputs": [],
   "source": [
    "df.iloc[20650,0] = '03/13/2011'"
   ]
  },
  {
   "cell_type": "code",
   "execution_count": 13,
   "id": "b9592a92-dfd4-4bbe-a194-16568d9863d6",
   "metadata": {},
   "outputs": [
    {
     "data": {
      "text/html": [
       "<div>\n",
       "<style scoped>\n",
       "    .dataframe tbody tr th:only-of-type {\n",
       "        vertical-align: middle;\n",
       "    }\n",
       "\n",
       "    .dataframe tbody tr th {\n",
       "        vertical-align: top;\n",
       "    }\n",
       "\n",
       "    .dataframe thead th {\n",
       "        text-align: right;\n",
       "    }\n",
       "</style>\n",
       "<table border=\"1\" class=\"dataframe\">\n",
       "  <thead>\n",
       "    <tr style=\"text-align: right;\">\n",
       "      <th></th>\n",
       "      <th>Latitude</th>\n",
       "      <th>Longitude</th>\n",
       "      <th>Magnitude</th>\n",
       "      <th>Year</th>\n",
       "    </tr>\n",
       "  </thead>\n",
       "  <tbody>\n",
       "    <tr>\n",
       "      <th>0</th>\n",
       "      <td>19.2460</td>\n",
       "      <td>145.6160</td>\n",
       "      <td>6.0</td>\n",
       "      <td>1965</td>\n",
       "    </tr>\n",
       "    <tr>\n",
       "      <th>1</th>\n",
       "      <td>1.8630</td>\n",
       "      <td>127.3520</td>\n",
       "      <td>5.8</td>\n",
       "      <td>1965</td>\n",
       "    </tr>\n",
       "    <tr>\n",
       "      <th>2</th>\n",
       "      <td>-20.5790</td>\n",
       "      <td>-173.9720</td>\n",
       "      <td>6.2</td>\n",
       "      <td>1965</td>\n",
       "    </tr>\n",
       "    <tr>\n",
       "      <th>3</th>\n",
       "      <td>-59.0760</td>\n",
       "      <td>-23.5570</td>\n",
       "      <td>5.8</td>\n",
       "      <td>1965</td>\n",
       "    </tr>\n",
       "    <tr>\n",
       "      <th>4</th>\n",
       "      <td>11.9380</td>\n",
       "      <td>126.4270</td>\n",
       "      <td>5.8</td>\n",
       "      <td>1965</td>\n",
       "    </tr>\n",
       "    <tr>\n",
       "      <th>...</th>\n",
       "      <td>...</td>\n",
       "      <td>...</td>\n",
       "      <td>...</td>\n",
       "      <td>...</td>\n",
       "    </tr>\n",
       "    <tr>\n",
       "      <th>23407</th>\n",
       "      <td>38.3917</td>\n",
       "      <td>-118.8941</td>\n",
       "      <td>5.6</td>\n",
       "      <td>2016</td>\n",
       "    </tr>\n",
       "    <tr>\n",
       "      <th>23408</th>\n",
       "      <td>38.3777</td>\n",
       "      <td>-118.8957</td>\n",
       "      <td>5.5</td>\n",
       "      <td>2016</td>\n",
       "    </tr>\n",
       "    <tr>\n",
       "      <th>23409</th>\n",
       "      <td>36.9179</td>\n",
       "      <td>140.4262</td>\n",
       "      <td>5.9</td>\n",
       "      <td>2016</td>\n",
       "    </tr>\n",
       "    <tr>\n",
       "      <th>23410</th>\n",
       "      <td>-9.0283</td>\n",
       "      <td>118.6639</td>\n",
       "      <td>6.3</td>\n",
       "      <td>2016</td>\n",
       "    </tr>\n",
       "    <tr>\n",
       "      <th>23411</th>\n",
       "      <td>37.3973</td>\n",
       "      <td>141.4103</td>\n",
       "      <td>5.5</td>\n",
       "      <td>2016</td>\n",
       "    </tr>\n",
       "  </tbody>\n",
       "</table>\n",
       "<p>23412 rows × 4 columns</p>\n",
       "</div>"
      ],
      "text/plain": [
       "       Latitude  Longitude  Magnitude  Year\n",
       "0       19.2460   145.6160        6.0  1965\n",
       "1        1.8630   127.3520        5.8  1965\n",
       "2      -20.5790  -173.9720        6.2  1965\n",
       "3      -59.0760   -23.5570        5.8  1965\n",
       "4       11.9380   126.4270        5.8  1965\n",
       "...         ...        ...        ...   ...\n",
       "23407   38.3917  -118.8941        5.6  2016\n",
       "23408   38.3777  -118.8957        5.5  2016\n",
       "23409   36.9179   140.4262        5.9  2016\n",
       "23410   -9.0283   118.6639        6.3  2016\n",
       "23411   37.3973   141.4103        5.5  2016\n",
       "\n",
       "[23412 rows x 4 columns]"
      ]
     },
     "execution_count": 13,
     "metadata": {},
     "output_type": "execute_result"
    }
   ],
   "source": [
    "df= df.assign(Year=list(map(lambda x: x.split('/')[-1], df.Date))).iloc[:,1:]\n",
    "df"
   ]
  },
  {
   "cell_type": "code",
   "execution_count": 14,
   "id": "ce96a2f8",
   "metadata": {},
   "outputs": [],
   "source": [
    "df.Year = df.Year.astype(np.float64)"
   ]
  },
  {
   "cell_type": "code",
   "execution_count": 15,
   "id": "56ab5b70-6750-40db-b810-7208f8b2c120",
   "metadata": {},
   "outputs": [],
   "source": [
    "df_korea = df_korea.assign(Year=list(map(lambda x: x.split('/')[0], df_korea.발생시각))).iloc[:,1:]\n",
    "df_korea = df_korea.assign(Latitude=list(map(lambda x: x.split(' ')[0], df_korea.위도))).iloc[:,[0,2,3,4]]\n",
    "df_korea = df_korea.assign(Longitude=list(map(lambda x: x.split(' ')[0], df_korea.경도))).iloc[:,[0,2,3,4]]"
   ]
  },
  {
   "cell_type": "code",
   "execution_count": 16,
   "id": "b94778c7-5ac1-4a27-af7e-4e61875b23e6",
   "metadata": {},
   "outputs": [],
   "source": [
    "df_global = df_global.assign(Year=list(map(lambda x: x.split('-')[0], df_global.time))).iloc[:,1:]"
   ]
  },
  {
   "cell_type": "code",
   "execution_count": 17,
   "id": "f53ed97d-c585-4faf-b1ac-570abbdfbb8c",
   "metadata": {},
   "outputs": [],
   "source": [
    "df_korea.Year = df_korea.Year.astype(np.float64)\n",
    "df_korea.Latitude = df_korea.Latitude.astype(np.float64)\n",
    "df_korea.Longitude = df_korea.Longitude.astype(np.float64)\n",
    "df_global.Year = df_global.Year.astype(np.float64)"
   ]
  },
  {
   "cell_type": "code",
   "execution_count": 18,
   "id": "5f6e141b-c477-425d-bac5-bc7f43203391",
   "metadata": {},
   "outputs": [
    {
     "data": {
      "text/html": [
       "<div>\n",
       "<style scoped>\n",
       "    .dataframe tbody tr th:only-of-type {\n",
       "        vertical-align: middle;\n",
       "    }\n",
       "\n",
       "    .dataframe tbody tr th {\n",
       "        vertical-align: top;\n",
       "    }\n",
       "\n",
       "    .dataframe thead th {\n",
       "        text-align: right;\n",
       "    }\n",
       "</style>\n",
       "<table border=\"1\" class=\"dataframe\">\n",
       "  <thead>\n",
       "    <tr style=\"text-align: right;\">\n",
       "      <th></th>\n",
       "      <th>Latitude</th>\n",
       "      <th>Longitude</th>\n",
       "      <th>Magnitude</th>\n",
       "      <th>Year</th>\n",
       "    </tr>\n",
       "  </thead>\n",
       "  <tbody>\n",
       "    <tr>\n",
       "      <th>9665</th>\n",
       "      <td>-4.963</td>\n",
       "      <td>133.760</td>\n",
       "      <td>7.0</td>\n",
       "      <td>2010.0</td>\n",
       "    </tr>\n",
       "    <tr>\n",
       "      <th>9812</th>\n",
       "      <td>-43.522</td>\n",
       "      <td>171.830</td>\n",
       "      <td>7.0</td>\n",
       "      <td>2010.0</td>\n",
       "    </tr>\n",
       "    <tr>\n",
       "      <th>9990</th>\n",
       "      <td>-5.746</td>\n",
       "      <td>150.765</td>\n",
       "      <td>7.0</td>\n",
       "      <td>2010.0</td>\n",
       "    </tr>\n",
       "    <tr>\n",
       "      <th>10269</th>\n",
       "      <td>-2.174</td>\n",
       "      <td>136.543</td>\n",
       "      <td>7.0</td>\n",
       "      <td>2010.0</td>\n",
       "    </tr>\n",
       "    <tr>\n",
       "      <th>10781</th>\n",
       "      <td>-34.326</td>\n",
       "      <td>-71.799</td>\n",
       "      <td>7.0</td>\n",
       "      <td>2010.0</td>\n",
       "    </tr>\n",
       "    <tr>\n",
       "      <th>11096</th>\n",
       "      <td>25.930</td>\n",
       "      <td>128.425</td>\n",
       "      <td>7.0</td>\n",
       "      <td>2010.0</td>\n",
       "    </tr>\n",
       "    <tr>\n",
       "      <th>11356</th>\n",
       "      <td>18.443</td>\n",
       "      <td>-72.571</td>\n",
       "      <td>7.0</td>\n",
       "      <td>2010.0</td>\n",
       "    </tr>\n",
       "    <tr>\n",
       "      <th>31374</th>\n",
       "      <td>-4.963</td>\n",
       "      <td>133.760</td>\n",
       "      <td>7.0</td>\n",
       "      <td>2010.0</td>\n",
       "    </tr>\n",
       "    <tr>\n",
       "      <th>31521</th>\n",
       "      <td>-43.522</td>\n",
       "      <td>171.830</td>\n",
       "      <td>7.0</td>\n",
       "      <td>2010.0</td>\n",
       "    </tr>\n",
       "    <tr>\n",
       "      <th>31699</th>\n",
       "      <td>-5.746</td>\n",
       "      <td>150.765</td>\n",
       "      <td>7.0</td>\n",
       "      <td>2010.0</td>\n",
       "    </tr>\n",
       "    <tr>\n",
       "      <th>31978</th>\n",
       "      <td>-2.174</td>\n",
       "      <td>136.543</td>\n",
       "      <td>7.0</td>\n",
       "      <td>2010.0</td>\n",
       "    </tr>\n",
       "    <tr>\n",
       "      <th>32490</th>\n",
       "      <td>-34.326</td>\n",
       "      <td>-71.799</td>\n",
       "      <td>7.0</td>\n",
       "      <td>2010.0</td>\n",
       "    </tr>\n",
       "    <tr>\n",
       "      <th>32805</th>\n",
       "      <td>25.930</td>\n",
       "      <td>128.425</td>\n",
       "      <td>7.0</td>\n",
       "      <td>2010.0</td>\n",
       "    </tr>\n",
       "    <tr>\n",
       "      <th>33065</th>\n",
       "      <td>18.443</td>\n",
       "      <td>-72.571</td>\n",
       "      <td>7.0</td>\n",
       "      <td>2010.0</td>\n",
       "    </tr>\n",
       "  </tbody>\n",
       "</table>\n",
       "</div>"
      ],
      "text/plain": [
       "       Latitude  Longitude  Magnitude    Year\n",
       "9665     -4.963    133.760        7.0  2010.0\n",
       "9812    -43.522    171.830        7.0  2010.0\n",
       "9990     -5.746    150.765        7.0  2010.0\n",
       "10269    -2.174    136.543        7.0  2010.0\n",
       "10781   -34.326    -71.799        7.0  2010.0\n",
       "11096    25.930    128.425        7.0  2010.0\n",
       "11356    18.443    -72.571        7.0  2010.0\n",
       "31374    -4.963    133.760        7.0  2010.0\n",
       "31521   -43.522    171.830        7.0  2010.0\n",
       "31699    -5.746    150.765        7.0  2010.0\n",
       "31978    -2.174    136.543        7.0  2010.0\n",
       "32490   -34.326    -71.799        7.0  2010.0\n",
       "32805    25.930    128.425        7.0  2010.0\n",
       "33065    18.443    -72.571        7.0  2010.0"
      ]
     },
     "execution_count": 18,
     "metadata": {},
     "output_type": "execute_result"
    }
   ],
   "source": [
    "df_global[(df_global.Magnitude == 7.0) & (df_global.Year == 2010)]"
   ]
  },
  {
   "cell_type": "markdown",
   "id": "d6edbeb0-281e-41f9-b7db-da7901e30452",
   "metadata": {
    "tags": []
   },
   "source": [
    "### define class"
   ]
  },
  {
   "cell_type": "code",
   "execution_count": 19,
   "id": "2e112881-a970-4763-a5ce-0a103f335fce",
   "metadata": {},
   "outputs": [],
   "source": [
    "class MooYaHo:\n",
    "    def __init__(self,df):\n",
    "        self.df = df \n",
    "        self.f = df.Magnitude.to_numpy()\n",
    "        self.year = df.Year.to_numpy()\n",
    "        self.lat = df.Latitude.to_numpy()\n",
    "        self.long = df.Longitude.to_numpy()\n",
    "        self.n = len(self.f)\n",
    "        self.theta= None\n",
    "    def get_distance(self):\n",
    "        self.D = np.zeros([self.n,self.n])\n",
    "        locations = np.stack([self.lat, self.long],axis=1)\n",
    "        for i in tqdm.tqdm(range(self.n)):\n",
    "            for j in range(i,self.n): \n",
    "                self.D[i,j]=haversine(locations[i],locations[j])\n",
    "        self.D = self.D+self.D.T\n",
    "    def get_weightmatrix(self,theta=1,beta=0.5,kappa=4000):\n",
    "        self.theta = theta\n",
    "        dist = np.where(self.D<kappa,self.D,0)\n",
    "        self.W = np.exp(-(dist/self.theta)**2)\n",
    "\n",
    "    def _eigen(self):\n",
    "        d= self.W.sum(axis=1)\n",
    "        D= np.diag(d)\n",
    "        self.L = np.diag(1/np.sqrt(d)) @ (D-self.W) @ np.diag(1/np.sqrt(d))\n",
    "        self.lamb, self.Psi = np.linalg.eigh(self.L)\n",
    "        self.Lamb = np.diag(self.lamb)        \n",
    "    def fit(self,m):\n",
    "        self._eigen()\n",
    "        self.fhat = self.Psi[:,0:m]@self.Psi[:,0:m].T@self.f\n",
    "        self.df = self.df.assign(MagnitudeHat = self.fhat)\n",
    "        self.df = self.df.assign(Residual = self.df.Magnitude- self.df.MagnitudeHat)\n",
    "        plt.plot(self.f,'.')\n",
    "        plt.plot(self.fhat,'x')\n",
    "        \n",
    "    def vis(self,MagThresh=7,ResThresh=1):\n",
    "        fig = px.density_mapbox(self.df, \n",
    "                        lat='Latitude', \n",
    "                        lon='Longitude', \n",
    "                        z='Magnitude', \n",
    "                        radius=15,\n",
    "                        center=dict(lat=37, lon=160), \n",
    "                        zoom=1.5,\n",
    "                        height=900,\n",
    "                        opacity = 0.3,\n",
    "                        mapbox_style=\"stamen-terrain\")\n",
    "        fig.update_layout(margin={\"r\":0,\"t\":0,\"l\":0,\"b\":0})\n",
    "        fig.add_scattermapbox(lat = self.df.query('Magnitude > @MagThresh')['Latitude'],\n",
    "                      lon = self.df.query('Magnitude > @MagThresh')['Longitude'],\n",
    "                      text = self.df.query('Magnitude > @MagThresh')['Magnitude'],\n",
    "                      marker_size= 8,\n",
    "                      marker_color= 'red',\n",
    "                      opacity = 0.5\n",
    "                      )\n",
    "        fig.add_scattermapbox(lat = self.df.query('Residual**2 > @ResThresh')['Latitude'],\n",
    "                      lon = self.df.query('Residual**2 > @ResThresh')['Longitude'],\n",
    "                      text = self.df.query('Magnitude > @ResThresh')['Magnitude'],\n",
    "                      marker_size= 8,\n",
    "                      marker_color= 'blue',\n",
    "                      opacity = 0.5\n",
    "                      )\n",
    "        return HTML(fig.to_html(include_mathjax=False, config=dict({'scrollZoom':False})))"
   ]
  },
  {
   "cell_type": "code",
   "execution_count": 20,
   "id": "e1da0ee7-2136-4089-91d8-e0cb270553f9",
   "metadata": {},
   "outputs": [],
   "source": [
    "class MooYaHo2(MooYaHo): # ebayesthresh 기능추가\n",
    "    def fit2(self): # fit with ebayesthresh\n",
    "        self._eigen()\n",
    "        self.fbar = self.Psi.T @ self.f # fbar := graph fourier transform of f\n",
    "        self.power = self.fbar**2 \n",
    "        ebayesthresh = importr('EbayesThresh').ebayesthresh\n",
    "        self.power_threshed=np.array(ebayesthresh(FloatVector(self.fbar**2)))\n",
    "        self.fbar_threshed = np.where(self.power_threshed>0,self.fbar,0)\n",
    "        self.fhat = self.Psi@self.fbar_threshed\n",
    "        self.df = self.df.assign(MagnitudeHat = self.fhat)\n",
    "        self.df = self.df.assign(Residual = self.df.Magnitude- self.df.MagnitudeHat)\n",
    "        plt.plot(self.f,'.')\n",
    "        plt.plot(self.fhat,'x')\n",
    "        "
   ]
  },
  {
   "cell_type": "code",
   "execution_count": 21,
   "id": "46dd3930-8781-4176-93f0-fd27d364236f",
   "metadata": {},
   "outputs": [],
   "source": [
    "class MooYaHo3(MooYaHo2):\n",
    "    def vis(self,MagThresh=7,ResThresh=1):\n",
    "        fig = px.density_mapbox(self.df, \n",
    "                        lat='Latitude', \n",
    "                        lon='Longitude', \n",
    "                        z='Magnitude', \n",
    "                        radius=15,\n",
    "                        center=dict(lat=37, lon=126), \n",
    "                        zoom=5.7,\n",
    "                        height=900,\n",
    "                        opacity = 0.3,\n",
    "                        mapbox_style=\"stamen-terrain\")\n",
    "        fig.update_layout(margin={\"r\":0,\"t\":0,\"l\":0,\"b\":0})\n",
    "        fig.add_scattermapbox(lat = self.df.query('Magnitude > @MagThresh')['Latitude'],\n",
    "                      lon = self.df.query('Magnitude > @MagThresh')['Longitude'],\n",
    "                      text = self.df.query('Magnitude > @MagThresh')['Magnitude'],\n",
    "                      marker_size= 8,\n",
    "                      marker_color= 'red',\n",
    "                      opacity = 0.5\n",
    "                      )\n",
    "        fig.add_scattermapbox(lat = self.df.query('Residual**2 > @ResThresh')['Latitude'],\n",
    "                      lon = self.df.query('Residual**2 > @ResThresh')['Longitude'],\n",
    "                      text = self.df.query('Magnitude > @ResThresh')['Magnitude'],\n",
    "                      marker_size= 8,\n",
    "                      marker_color= 'blue',\n",
    "                      opacity = 0.5\n",
    "                      )\n",
    "        return HTML(fig.to_html(include_mathjax=False, config=dict({'scrollZoom':False})))"
   ]
  },
  {
   "cell_type": "code",
   "execution_count": 22,
   "id": "f89312bf-1f78-41b0-8198-15c3d4554332",
   "metadata": {},
   "outputs": [],
   "source": [
    "       ebayesthresh = importr('EbayesThresh').ebayesthresh"
   ]
  },
  {
   "cell_type": "markdown",
   "id": "458df404-7869-4e9c-9146-cf212024e421",
   "metadata": {
    "tags": []
   },
   "source": [
    "### analysis_df"
   ]
  },
  {
   "cell_type": "markdown",
   "id": "82e5b3ea-4303-4a2d-b533-5aa247a0414c",
   "metadata": {},
   "source": [
    "`-` make instance for analysis"
   ]
  },
  {
   "cell_type": "code",
   "execution_count": 18,
   "id": "ec53d0b7-4270-4b5a-ace6-f887af2df5ab",
   "metadata": {},
   "outputs": [],
   "source": [
    "moo=MooYaHo2(df.query(\"Year == 2016\"))"
   ]
  },
  {
   "cell_type": "markdown",
   "id": "fae50236-cf19-44d1-bf30-1cd8cd18bd92",
   "metadata": {},
   "source": [
    "- 테스트용으로 2016년 자료만 수집"
   ]
  },
  {
   "cell_type": "markdown",
   "id": "8eeb7048-957e-4ad1-8cb2-ab7a078602ac",
   "metadata": {},
   "source": [
    "`-` get distance "
   ]
  },
  {
   "cell_type": "code",
   "execution_count": 19,
   "id": "4f99cd72",
   "metadata": {},
   "outputs": [
    {
     "name": "stderr",
     "output_type": "stream",
     "text": [
      "100%|██████████| 469/469 [00:00<00:00, 1478.49it/s]\n"
     ]
    }
   ],
   "source": [
    "moo.get_distance()"
   ]
  },
  {
   "cell_type": "code",
   "execution_count": 20,
   "id": "9a0c1bc3-a15b-404e-af6c-052890541300",
   "metadata": {},
   "outputs": [
    {
     "data": {
      "text/plain": [
       "8647.918085847994"
      ]
     },
     "execution_count": 20,
     "metadata": {},
     "output_type": "execute_result"
    }
   ],
   "source": [
    "moo.D[moo.D>0].mean()"
   ]
  },
  {
   "cell_type": "markdown",
   "id": "eb60653b-b2a8-45ce-83d2-9fd234997717",
   "metadata": {},
   "source": [
    "- 0이 아닌 거리의 평균은 8600정도?"
   ]
  },
  {
   "cell_type": "code",
   "execution_count": 21,
   "id": "516dbf95",
   "metadata": {},
   "outputs": [
    {
     "data": {
      "text/plain": [
       "(array([18438., 25088., 29216., 29204., 30978., 28712., 22932., 17002.,\n",
       "        13158.,  4764.]),\n",
       " array([3.09519959e-01, 1.99516074e+03, 3.99001197e+03, 5.98486319e+03,\n",
       "        7.97971442e+03, 9.97456564e+03, 1.19694169e+04, 1.39642681e+04,\n",
       "        1.59591193e+04, 1.79539705e+04, 1.99488218e+04]),\n",
       " <BarContainer object of 10 artists>)"
      ]
     },
     "execution_count": 21,
     "metadata": {},
     "output_type": "execute_result"
    },
    {
     "data": {
      "image/png": "[encoded data removed]",
      "text/plain": [
       "<Figure size 432x288 with 1 Axes>"
      ]
     },
     "metadata": {
      "needs_background": "light"
     },
     "output_type": "display_data"
    }
   ],
   "source": [
    "plt.hist(moo.D[moo.D>0])"
   ]
  },
  {
   "cell_type": "markdown",
   "id": "bb7b7a6c-1559-4f3d-88a0-390e01695aae",
   "metadata": {},
   "source": [
    "- 히스토그램결과 -> 2500보다 거리가 작으면 거의 같은 지역이라고 봐도 무방할듯"
   ]
  },
  {
   "cell_type": "markdown",
   "id": "15745b57-e3ef-489a-93ac-2f1b81357c18",
   "metadata": {},
   "source": [
    "`-` weight matrix"
   ]
  },
  {
   "cell_type": "code",
   "execution_count": 22,
   "id": "2c124a87-4c3c-4d42-8386-23d2b349086e",
   "metadata": {},
   "outputs": [],
   "source": [
    "moo.get_weightmatrix(theta=(8647.92),kappa=2500) "
   ]
  },
  {
   "cell_type": "markdown",
   "id": "53af4c2e-085d-4265-93c6-09818811e331",
   "metadata": {},
   "source": [
    "- 평균적으로 노드는 `np.exp(-(dist/8647)**2)=np.exp(-1)=0.36787944117144233` 정도의 연결강도를 가진다. \n",
    "- 거리가 2500이하이면 weight를 1로 설정한다. "
   ]
  },
  {
   "cell_type": "markdown",
   "id": "798802db-1490-4a44-a01c-8fa27d0dad0c",
   "metadata": {},
   "source": [
    "`-` fit"
   ]
  },
  {
   "cell_type": "code",
   "execution_count": 23,
   "id": "33b507dc-1816-4435-ac86-3ba5aba7c422",
   "metadata": {},
   "outputs": [
    {
     "data": {
      "image/png": "[encoded data removed]",
      "text/plain": [
       "<Figure size 432x288 with 1 Axes>"
      ]
     },
     "metadata": {
      "needs_background": "light"
     },
     "output_type": "display_data"
    }
   ],
   "source": [
    "moo.fit2()"
   ]
  },
  {
   "cell_type": "code",
   "execution_count": 24,
   "id": "f6f31502-0bd8-4ea0-b6ee-8ab0f870a92f",
   "metadata": {},
   "outputs": [
    {
     "data": {
      "text/html": [
       "<div>\n",
       "<style scoped>\n",
       "    .dataframe tbody tr th:only-of-type {\n",
       "        vertical-align: middle;\n",
       "    }\n",
       "\n",
       "    .dataframe tbody tr th {\n",
       "        vertical-align: top;\n",
       "    }\n",
       "\n",
       "    .dataframe thead th {\n",
       "        text-align: right;\n",
       "    }\n",
       "</style>\n",
       "<table border=\"1\" class=\"dataframe\">\n",
       "  <thead>\n",
       "    <tr style=\"text-align: right;\">\n",
       "      <th></th>\n",
       "      <th>Latitude</th>\n",
       "      <th>Longitude</th>\n",
       "      <th>Magnitude</th>\n",
       "      <th>Year</th>\n",
       "      <th>MagnitudeHat</th>\n",
       "      <th>Residual</th>\n",
       "    </tr>\n",
       "  </thead>\n",
       "  <tbody>\n",
       "    <tr>\n",
       "      <th>22943</th>\n",
       "      <td>-50.5575</td>\n",
       "      <td>139.4489</td>\n",
       "      <td>6.3</td>\n",
       "      <td>2016.0</td>\n",
       "      <td>6.281381</td>\n",
       "      <td>0.018619</td>\n",
       "    </tr>\n",
       "    <tr>\n",
       "      <th>22944</th>\n",
       "      <td>-28.6278</td>\n",
       "      <td>-177.2810</td>\n",
       "      <td>5.8</td>\n",
       "      <td>2016.0</td>\n",
       "      <td>5.851652</td>\n",
       "      <td>-0.051652</td>\n",
       "    </tr>\n",
       "    <tr>\n",
       "      <th>22945</th>\n",
       "      <td>44.8069</td>\n",
       "      <td>129.9406</td>\n",
       "      <td>5.8</td>\n",
       "      <td>2016.0</td>\n",
       "      <td>6.064076</td>\n",
       "      <td>-0.264076</td>\n",
       "    </tr>\n",
       "    <tr>\n",
       "      <th>22946</th>\n",
       "      <td>24.8036</td>\n",
       "      <td>93.6505</td>\n",
       "      <td>6.7</td>\n",
       "      <td>2016.0</td>\n",
       "      <td>6.490338</td>\n",
       "      <td>0.209662</td>\n",
       "    </tr>\n",
       "    <tr>\n",
       "      <th>22947</th>\n",
       "      <td>30.6132</td>\n",
       "      <td>132.7337</td>\n",
       "      <td>5.8</td>\n",
       "      <td>2016.0</td>\n",
       "      <td>5.905925</td>\n",
       "      <td>-0.105925</td>\n",
       "    </tr>\n",
       "    <tr>\n",
       "      <th>...</th>\n",
       "      <td>...</td>\n",
       "      <td>...</td>\n",
       "      <td>...</td>\n",
       "      <td>...</td>\n",
       "      <td>...</td>\n",
       "      <td>...</td>\n",
       "    </tr>\n",
       "    <tr>\n",
       "      <th>23407</th>\n",
       "      <td>38.3917</td>\n",
       "      <td>-118.8941</td>\n",
       "      <td>5.6</td>\n",
       "      <td>2016.0</td>\n",
       "      <td>5.582930</td>\n",
       "      <td>0.017070</td>\n",
       "    </tr>\n",
       "    <tr>\n",
       "      <th>23408</th>\n",
       "      <td>38.3777</td>\n",
       "      <td>-118.8957</td>\n",
       "      <td>5.5</td>\n",
       "      <td>2016.0</td>\n",
       "      <td>5.710473</td>\n",
       "      <td>-0.210473</td>\n",
       "    </tr>\n",
       "    <tr>\n",
       "      <th>23409</th>\n",
       "      <td>36.9179</td>\n",
       "      <td>140.4262</td>\n",
       "      <td>5.9</td>\n",
       "      <td>2016.0</td>\n",
       "      <td>5.954437</td>\n",
       "      <td>-0.054437</td>\n",
       "    </tr>\n",
       "    <tr>\n",
       "      <th>23410</th>\n",
       "      <td>-9.0283</td>\n",
       "      <td>118.6639</td>\n",
       "      <td>6.3</td>\n",
       "      <td>2016.0</td>\n",
       "      <td>6.277083</td>\n",
       "      <td>0.022917</td>\n",
       "    </tr>\n",
       "    <tr>\n",
       "      <th>23411</th>\n",
       "      <td>37.3973</td>\n",
       "      <td>141.4103</td>\n",
       "      <td>5.5</td>\n",
       "      <td>2016.0</td>\n",
       "      <td>5.756306</td>\n",
       "      <td>-0.256306</td>\n",
       "    </tr>\n",
       "  </tbody>\n",
       "</table>\n",
       "<p>469 rows × 6 columns</p>\n",
       "</div>"
      ],
      "text/plain": [
       "       Latitude  Longitude  Magnitude    Year  MagnitudeHat  Residual\n",
       "22943  -50.5575   139.4489        6.3  2016.0      6.281381  0.018619\n",
       "22944  -28.6278  -177.2810        5.8  2016.0      5.851652 -0.051652\n",
       "22945   44.8069   129.9406        5.8  2016.0      6.064076 -0.264076\n",
       "22946   24.8036    93.6505        6.7  2016.0      6.490338  0.209662\n",
       "22947   30.6132   132.7337        5.8  2016.0      5.905925 -0.105925\n",
       "...         ...        ...        ...     ...           ...       ...\n",
       "23407   38.3917  -118.8941        5.6  2016.0      5.582930  0.017070\n",
       "23408   38.3777  -118.8957        5.5  2016.0      5.710473 -0.210473\n",
       "23409   36.9179   140.4262        5.9  2016.0      5.954437 -0.054437\n",
       "23410   -9.0283   118.6639        6.3  2016.0      6.277083  0.022917\n",
       "23411   37.3973   141.4103        5.5  2016.0      5.756306 -0.256306\n",
       "\n",
       "[469 rows x 6 columns]"
      ]
     },
     "execution_count": 24,
     "metadata": {},
     "output_type": "execute_result"
    }
   ],
   "source": [
    "moo.df"
   ]
  },
  {
   "cell_type": "code",
   "execution_count": 25,
   "id": "f23072aa-bcf5-40a3-9bc7-06d591df80aa",
   "metadata": {},
   "outputs": [
    {
     "data": {
      "text/html": [
       "<div>\n",
       "<style scoped>\n",
       "    .dataframe tbody tr th:only-of-type {\n",
       "        vertical-align: middle;\n",
       "    }\n",
       "\n",
       "    .dataframe tbody tr th {\n",
       "        vertical-align: top;\n",
       "    }\n",
       "\n",
       "    .dataframe thead th {\n",
       "        text-align: right;\n",
       "    }\n",
       "</style>\n",
       "<table border=\"1\" class=\"dataframe\">\n",
       "  <thead>\n",
       "    <tr style=\"text-align: right;\">\n",
       "      <th></th>\n",
       "      <th>Latitude</th>\n",
       "      <th>Longitude</th>\n",
       "      <th>Magnitude</th>\n",
       "      <th>Year</th>\n",
       "      <th>MagnitudeHat</th>\n",
       "      <th>Residual</th>\n",
       "    </tr>\n",
       "  </thead>\n",
       "  <tbody>\n",
       "    <tr>\n",
       "      <th>22969</th>\n",
       "      <td>59.6363</td>\n",
       "      <td>-153.4051</td>\n",
       "      <td>7.1</td>\n",
       "      <td>2016.0</td>\n",
       "      <td>6.778637</td>\n",
       "      <td>0.321363</td>\n",
       "    </tr>\n",
       "    <tr>\n",
       "      <th>22976</th>\n",
       "      <td>53.9776</td>\n",
       "      <td>158.5463</td>\n",
       "      <td>7.2</td>\n",
       "      <td>2016.0</td>\n",
       "      <td>7.210593</td>\n",
       "      <td>-0.010593</td>\n",
       "    </tr>\n",
       "    <tr>\n",
       "      <th>23005</th>\n",
       "      <td>-4.9521</td>\n",
       "      <td>94.3299</td>\n",
       "      <td>7.8</td>\n",
       "      <td>2016.0</td>\n",
       "      <td>7.745838</td>\n",
       "      <td>0.054162</td>\n",
       "    </tr>\n",
       "    <tr>\n",
       "      <th>23066</th>\n",
       "      <td>0.3819</td>\n",
       "      <td>-79.9218</td>\n",
       "      <td>7.8</td>\n",
       "      <td>2016.0</td>\n",
       "      <td>7.384892</td>\n",
       "      <td>0.415108</td>\n",
       "    </tr>\n",
       "    <tr>\n",
       "      <th>23116</th>\n",
       "      <td>-56.2409</td>\n",
       "      <td>-26.9353</td>\n",
       "      <td>7.2</td>\n",
       "      <td>2016.0</td>\n",
       "      <td>7.161455</td>\n",
       "      <td>0.038545</td>\n",
       "    </tr>\n",
       "    <tr>\n",
       "      <th>23193</th>\n",
       "      <td>18.5429</td>\n",
       "      <td>145.5073</td>\n",
       "      <td>7.7</td>\n",
       "      <td>2016.0</td>\n",
       "      <td>7.444264</td>\n",
       "      <td>0.255736</td>\n",
       "    </tr>\n",
       "    <tr>\n",
       "      <th>23203</th>\n",
       "      <td>-22.4765</td>\n",
       "      <td>173.1167</td>\n",
       "      <td>7.2</td>\n",
       "      <td>2016.0</td>\n",
       "      <td>6.674166</td>\n",
       "      <td>0.525834</td>\n",
       "    </tr>\n",
       "    <tr>\n",
       "      <th>23213</th>\n",
       "      <td>-55.2852</td>\n",
       "      <td>-31.8766</td>\n",
       "      <td>7.4</td>\n",
       "      <td>2016.0</td>\n",
       "      <td>7.353259</td>\n",
       "      <td>0.046741</td>\n",
       "    </tr>\n",
       "    <tr>\n",
       "      <th>23230</th>\n",
       "      <td>-0.0456</td>\n",
       "      <td>-17.8255</td>\n",
       "      <td>7.1</td>\n",
       "      <td>2016.0</td>\n",
       "      <td>6.991051</td>\n",
       "      <td>0.108949</td>\n",
       "    </tr>\n",
       "    <tr>\n",
       "      <th>23326</th>\n",
       "      <td>-42.7358</td>\n",
       "      <td>173.0499</td>\n",
       "      <td>7.8</td>\n",
       "      <td>2016.0</td>\n",
       "      <td>7.304564</td>\n",
       "      <td>0.495436</td>\n",
       "    </tr>\n",
       "    <tr>\n",
       "      <th>23369</th>\n",
       "      <td>-10.6787</td>\n",
       "      <td>161.3214</td>\n",
       "      <td>7.8</td>\n",
       "      <td>2016.0</td>\n",
       "      <td>7.436619</td>\n",
       "      <td>0.363381</td>\n",
       "    </tr>\n",
       "    <tr>\n",
       "      <th>23386</th>\n",
       "      <td>-4.5049</td>\n",
       "      <td>153.5216</td>\n",
       "      <td>7.9</td>\n",
       "      <td>2016.0</td>\n",
       "      <td>7.397445</td>\n",
       "      <td>0.502555</td>\n",
       "    </tr>\n",
       "    <tr>\n",
       "      <th>23403</th>\n",
       "      <td>-43.4029</td>\n",
       "      <td>-73.9395</td>\n",
       "      <td>7.6</td>\n",
       "      <td>2016.0</td>\n",
       "      <td>7.551050</td>\n",
       "      <td>0.048950</td>\n",
       "    </tr>\n",
       "  </tbody>\n",
       "</table>\n",
       "</div>"
      ],
      "text/plain": [
       "       Latitude  Longitude  Magnitude    Year  MagnitudeHat  Residual\n",
       "22969   59.6363  -153.4051        7.1  2016.0      6.778637  0.321363\n",
       "22976   53.9776   158.5463        7.2  2016.0      7.210593 -0.010593\n",
       "23005   -4.9521    94.3299        7.8  2016.0      7.745838  0.054162\n",
       "23066    0.3819   -79.9218        7.8  2016.0      7.384892  0.415108\n",
       "23116  -56.2409   -26.9353        7.2  2016.0      7.161455  0.038545\n",
       "23193   18.5429   145.5073        7.7  2016.0      7.444264  0.255736\n",
       "23203  -22.4765   173.1167        7.2  2016.0      6.674166  0.525834\n",
       "23213  -55.2852   -31.8766        7.4  2016.0      7.353259  0.046741\n",
       "23230   -0.0456   -17.8255        7.1  2016.0      6.991051  0.108949\n",
       "23326  -42.7358   173.0499        7.8  2016.0      7.304564  0.495436\n",
       "23369  -10.6787   161.3214        7.8  2016.0      7.436619  0.363381\n",
       "23386   -4.5049   153.5216        7.9  2016.0      7.397445  0.502555\n",
       "23403  -43.4029   -73.9395        7.6  2016.0      7.551050  0.048950"
      ]
     },
     "execution_count": 25,
     "metadata": {},
     "output_type": "execute_result"
    }
   ],
   "source": [
    "moo.df.query('Magnitude>7')"
   ]
  },
  {
   "cell_type": "code",
   "execution_count": 26,
   "id": "aa9cc6cc-88e1-4347-a349-cc1983285344",
   "metadata": {},
   "outputs": [
    {
     "data": {
      "text/plain": [
       "[<matplotlib.lines.Line2D at 0x7f387f631190>]"
      ]
     },
     "execution_count": 26,
     "metadata": {},
     "output_type": "execute_result"
    },
    {
     "data": {
      "image/png": "[encoded data removed]",
      "text/plain": [
       "<Figure size 432x288 with 1 Axes>"
      ]
     },
     "metadata": {
      "needs_background": "light"
     },
     "output_type": "display_data"
    }
   ],
   "source": [
    "plt.plot((moo.df.Residual)**2)"
   ]
  },
  {
   "cell_type": "markdown",
   "id": "26f32ee9-6a27-4ffe-ae08-9d712d579526",
   "metadata": {},
   "source": [
    "`-` vis"
   ]
  },
  {
   "cell_type": "code",
   "execution_count": 28,
   "id": "d636666e-439d-4728-8c7d-d2289142f9af",
   "metadata": {},
   "outputs": [],
   "source": [
    "#moo.vis(MagThresh=7,ResThresh=0.3) # <- 실행해봐요"
   ]
  },
  {
   "cell_type": "markdown",
   "id": "8bc79895-ccbd-494b-816e-326719f38e4e",
   "metadata": {},
   "source": [
    "- 전체자료는 underlying에 위치 \n",
    "- 지진강도가 MagThresh 이상인 자료는 붉은점으로 시각화함 \n",
    "- 이상치정도(우리가 제안하는 새로운 메져) ResThresh 이상인 자료는 파란점으로 시각화함 "
   ]
  },
  {
   "cell_type": "markdown",
   "id": "3f139003-e52c-4457-bc01-6182b970cd79",
   "metadata": {
    "tags": []
   },
   "source": [
    "### analysis_df_korea"
   ]
  },
  {
   "cell_type": "markdown",
   "id": "adc61812-80d0-4a28-9fbf-5718a8019a7e",
   "metadata": {},
   "source": [
    "`-` make instance for analysis"
   ]
  },
  {
   "cell_type": "code",
   "execution_count": 23,
   "id": "393502be-28d1-407d-bd99-57201ee54dab",
   "metadata": {},
   "outputs": [],
   "source": [
    "moo_korea=MooYaHo3(df_korea.query(\"Year >= 2010\"))"
   ]
  },
  {
   "cell_type": "markdown",
   "id": "f290f186-e2ca-4738-a8c7-49ecbfc3212d",
   "metadata": {},
   "source": [
    "`-` get distance "
   ]
  },
  {
   "cell_type": "code",
   "execution_count": 24,
   "id": "58b75192-2037-4c25-bf23-f6ed51b9b64b",
   "metadata": {},
   "outputs": [
    {
     "name": "stderr",
     "output_type": "stream",
     "text": [
      "100%|██████████| 1089/1089 [00:01<00:00, 689.74it/s]\n"
     ]
    }
   ],
   "source": [
    "moo_korea.get_distance()"
   ]
  },
  {
   "cell_type": "code",
   "execution_count": 25,
   "id": "9aef406d-f5ea-4396-8ff8-bbb0ec128ca4",
   "metadata": {},
   "outputs": [
    {
     "data": {
      "text/plain": [
       "280.08231084100714"
      ]
     },
     "execution_count": 25,
     "metadata": {},
     "output_type": "execute_result"
    }
   ],
   "source": [
    "moo_korea.D[moo_korea.D>0].mean()"
   ]
  },
  {
   "cell_type": "code",
   "execution_count": 26,
   "id": "f1e90d40-3415-46ec-88d3-30d2e8b9029a",
   "metadata": {},
   "outputs": [
    {
     "data": {
      "text/plain": [
       "(array([240072., 198280., 184446., 213856., 223120.,  70214.,  37058.,\n",
       "          5692.,   3788.,   4064.]),\n",
       " array([8.35112529e-01, 9.93726346e+01, 1.97910157e+02, 2.96447679e+02,\n",
       "        3.94985201e+02, 4.93522723e+02, 5.92060245e+02, 6.90597767e+02,\n",
       "        7.89135289e+02, 8.87672811e+02, 9.86210333e+02]),\n",
       " <BarContainer object of 10 artists>)"
      ]
     },
     "execution_count": 26,
     "metadata": {},
     "output_type": "execute_result"
    },
    {
     "data": {
      "image/png": "[encoded data removed]",
      "text/plain": [
       "<Figure size 432x288 with 1 Axes>"
      ]
     },
     "metadata": {
      "needs_background": "light"
     },
     "output_type": "display_data"
    }
   ],
   "source": [
    "plt.hist(moo_korea.D[moo_korea.D>0])"
   ]
  },
  {
   "cell_type": "markdown",
   "id": "9483e76b-e2d5-4248-856f-283cbf40c67a",
   "metadata": {},
   "source": [
    "`-` weight matrix"
   ]
  },
  {
   "cell_type": "code",
   "execution_count": 27,
   "id": "fee34ad6-b111-4ecc-b3c9-45d9d35b988a",
   "metadata": {},
   "outputs": [],
   "source": [
    "moo_korea.get_weightmatrix(theta=(280.08),kappa=200) "
   ]
  },
  {
   "cell_type": "markdown",
   "id": "486ffeb1-a42d-4369-8e71-0b019817315d",
   "metadata": {},
   "source": [
    "`-` fit"
   ]
  },
  {
   "cell_type": "code",
   "execution_count": 28,
   "id": "df4bed3e-e082-4fd7-a795-74a0cb3df20a",
   "metadata": {},
   "outputs": [
    {
     "data": {
      "image/png": "[encoded data removed]",
      "text/plain": [
       "<Figure size 432x288 with 1 Axes>"
      ]
     },
     "metadata": {
      "needs_background": "light"
     },
     "output_type": "display_data"
    }
   ],
   "source": [
    "moo_korea.fit2()"
   ]
  },
  {
   "cell_type": "code",
   "execution_count": 29,
   "id": "1ccfe313-af2a-44a1-b167-179ae4b4d6ca",
   "metadata": {},
   "outputs": [
    {
     "data": {
      "text/html": [
       "<div>\n",
       "<style scoped>\n",
       "    .dataframe tbody tr th:only-of-type {\n",
       "        vertical-align: middle;\n",
       "    }\n",
       "\n",
       "    .dataframe tbody tr th {\n",
       "        vertical-align: top;\n",
       "    }\n",
       "\n",
       "    .dataframe thead th {\n",
       "        text-align: right;\n",
       "    }\n",
       "</style>\n",
       "<table border=\"1\" class=\"dataframe\">\n",
       "  <thead>\n",
       "    <tr style=\"text-align: right;\">\n",
       "      <th></th>\n",
       "      <th>Magnitude</th>\n",
       "      <th>Year</th>\n",
       "      <th>Latitude</th>\n",
       "      <th>Longitude</th>\n",
       "      <th>MagnitudeHat</th>\n",
       "      <th>Residual</th>\n",
       "    </tr>\n",
       "  </thead>\n",
       "  <tbody>\n",
       "    <tr>\n",
       "      <th>0</th>\n",
       "      <td>2.6</td>\n",
       "      <td>2022.0</td>\n",
       "      <td>38.12</td>\n",
       "      <td>130.98</td>\n",
       "      <td>2.604306</td>\n",
       "      <td>-0.004306</td>\n",
       "    </tr>\n",
       "    <tr>\n",
       "      <th>1</th>\n",
       "      <td>2.3</td>\n",
       "      <td>2022.0</td>\n",
       "      <td>33.34</td>\n",
       "      <td>127.22</td>\n",
       "      <td>2.396215</td>\n",
       "      <td>-0.096215</td>\n",
       "    </tr>\n",
       "    <tr>\n",
       "      <th>2</th>\n",
       "      <td>2.3</td>\n",
       "      <td>2022.0</td>\n",
       "      <td>38.98</td>\n",
       "      <td>127.29</td>\n",
       "      <td>2.093405</td>\n",
       "      <td>0.206595</td>\n",
       "    </tr>\n",
       "    <tr>\n",
       "      <th>3</th>\n",
       "      <td>2.3</td>\n",
       "      <td>2022.0</td>\n",
       "      <td>38.85</td>\n",
       "      <td>125.78</td>\n",
       "      <td>2.441687</td>\n",
       "      <td>-0.141687</td>\n",
       "    </tr>\n",
       "    <tr>\n",
       "      <th>4</th>\n",
       "      <td>2.3</td>\n",
       "      <td>2022.0</td>\n",
       "      <td>37.26</td>\n",
       "      <td>126.10</td>\n",
       "      <td>2.674811</td>\n",
       "      <td>-0.374811</td>\n",
       "    </tr>\n",
       "    <tr>\n",
       "      <th>...</th>\n",
       "      <td>...</td>\n",
       "      <td>...</td>\n",
       "      <td>...</td>\n",
       "      <td>...</td>\n",
       "      <td>...</td>\n",
       "      <td>...</td>\n",
       "    </tr>\n",
       "    <tr>\n",
       "      <th>1084</th>\n",
       "      <td>2.5</td>\n",
       "      <td>2012.0</td>\n",
       "      <td>35.13</td>\n",
       "      <td>129.80</td>\n",
       "      <td>2.284130</td>\n",
       "      <td>0.215870</td>\n",
       "    </tr>\n",
       "    <tr>\n",
       "      <th>1085</th>\n",
       "      <td>2.7</td>\n",
       "      <td>2012.0</td>\n",
       "      <td>35.13</td>\n",
       "      <td>129.89</td>\n",
       "      <td>2.679352</td>\n",
       "      <td>0.020648</td>\n",
       "    </tr>\n",
       "    <tr>\n",
       "      <th>1086</th>\n",
       "      <td>2.2</td>\n",
       "      <td>2012.0</td>\n",
       "      <td>37.12</td>\n",
       "      <td>125.96</td>\n",
       "      <td>2.318098</td>\n",
       "      <td>-0.118098</td>\n",
       "    </tr>\n",
       "    <tr>\n",
       "      <th>1087</th>\n",
       "      <td>2.7</td>\n",
       "      <td>2012.0</td>\n",
       "      <td>38.51</td>\n",
       "      <td>126.23</td>\n",
       "      <td>2.380168</td>\n",
       "      <td>0.319832</td>\n",
       "    </tr>\n",
       "    <tr>\n",
       "      <th>1088</th>\n",
       "      <td>2.2</td>\n",
       "      <td>2012.0</td>\n",
       "      <td>36.79</td>\n",
       "      <td>128.75</td>\n",
       "      <td>2.177098</td>\n",
       "      <td>0.022902</td>\n",
       "    </tr>\n",
       "  </tbody>\n",
       "</table>\n",
       "<p>1089 rows × 6 columns</p>\n",
       "</div>"
      ],
      "text/plain": [
       "      Magnitude    Year  Latitude  Longitude  MagnitudeHat  Residual\n",
       "0           2.6  2022.0     38.12     130.98      2.604306 -0.004306\n",
       "1           2.3  2022.0     33.34     127.22      2.396215 -0.096215\n",
       "2           2.3  2022.0     38.98     127.29      2.093405  0.206595\n",
       "3           2.3  2022.0     38.85     125.78      2.441687 -0.141687\n",
       "4           2.3  2022.0     37.26     126.10      2.674811 -0.374811\n",
       "...         ...     ...       ...        ...           ...       ...\n",
       "1084        2.5  2012.0     35.13     129.80      2.284130  0.215870\n",
       "1085        2.7  2012.0     35.13     129.89      2.679352  0.020648\n",
       "1086        2.2  2012.0     37.12     125.96      2.318098 -0.118098\n",
       "1087        2.7  2012.0     38.51     126.23      2.380168  0.319832\n",
       "1088        2.2  2012.0     36.79     128.75      2.177098  0.022902\n",
       "\n",
       "[1089 rows x 6 columns]"
      ]
     },
     "execution_count": 29,
     "metadata": {},
     "output_type": "execute_result"
    }
   ],
   "source": [
    "moo_korea.df"
   ]
  },
  {
   "cell_type": "code",
   "execution_count": 30,
   "id": "a96815f7-4aad-46c5-ad1d-173e7d80ed3c",
   "metadata": {},
   "outputs": [
    {
     "data": {
      "text/html": [
       "<div>\n",
       "<style scoped>\n",
       "    .dataframe tbody tr th:only-of-type {\n",
       "        vertical-align: middle;\n",
       "    }\n",
       "\n",
       "    .dataframe tbody tr th {\n",
       "        vertical-align: top;\n",
       "    }\n",
       "\n",
       "    .dataframe thead th {\n",
       "        text-align: right;\n",
       "    }\n",
       "</style>\n",
       "<table border=\"1\" class=\"dataframe\">\n",
       "  <thead>\n",
       "    <tr style=\"text-align: right;\">\n",
       "      <th></th>\n",
       "      <th>Magnitude</th>\n",
       "      <th>Year</th>\n",
       "      <th>Latitude</th>\n",
       "      <th>Longitude</th>\n",
       "      <th>MagnitudeHat</th>\n",
       "      <th>Residual</th>\n",
       "    </tr>\n",
       "  </thead>\n",
       "  <tbody>\n",
       "    <tr>\n",
       "      <th>462</th>\n",
       "      <td>5.4</td>\n",
       "      <td>2017.0</td>\n",
       "      <td>36.11</td>\n",
       "      <td>129.37</td>\n",
       "      <td>5.229724</td>\n",
       "      <td>0.170276</td>\n",
       "    </tr>\n",
       "    <tr>\n",
       "      <th>781</th>\n",
       "      <td>5.8</td>\n",
       "      <td>2016.0</td>\n",
       "      <td>35.76</td>\n",
       "      <td>129.19</td>\n",
       "      <td>5.349949</td>\n",
       "      <td>0.450051</td>\n",
       "    </tr>\n",
       "    <tr>\n",
       "      <th>798</th>\n",
       "      <td>5.1</td>\n",
       "      <td>2016.0</td>\n",
       "      <td>35.77</td>\n",
       "      <td>129.19</td>\n",
       "      <td>4.620448</td>\n",
       "      <td>0.479552</td>\n",
       "    </tr>\n",
       "    <tr>\n",
       "      <th>932</th>\n",
       "      <td>5.1</td>\n",
       "      <td>2014.0</td>\n",
       "      <td>36.95</td>\n",
       "      <td>124.50</td>\n",
       "      <td>4.682705</td>\n",
       "      <td>0.417295</td>\n",
       "    </tr>\n",
       "  </tbody>\n",
       "</table>\n",
       "</div>"
      ],
      "text/plain": [
       "     Magnitude    Year  Latitude  Longitude  MagnitudeHat  Residual\n",
       "462        5.4  2017.0     36.11     129.37      5.229724  0.170276\n",
       "781        5.8  2016.0     35.76     129.19      5.349949  0.450051\n",
       "798        5.1  2016.0     35.77     129.19      4.620448  0.479552\n",
       "932        5.1  2014.0     36.95     124.50      4.682705  0.417295"
      ]
     },
     "execution_count": 30,
     "metadata": {},
     "output_type": "execute_result"
    }
   ],
   "source": [
    "moo_korea.df.query('Magnitude>5')"
   ]
  },
  {
   "cell_type": "code",
   "execution_count": 203,
   "id": "314fa596-0009-4fea-a8b3-d70daf595052",
   "metadata": {},
   "outputs": [
    {
     "data": {
      "text/plain": [
       "[<matplotlib.lines.Line2D at 0x7f3864383e50>]"
      ]
     },
     "execution_count": 203,
     "metadata": {},
     "output_type": "execute_result"
    },
    {
     "data": {
      "image/png": "[encoded data removed]",
      "text/plain": [
       "<Figure size 432x288 with 1 Axes>"
      ]
     },
     "metadata": {
      "needs_background": "light"
     },
     "output_type": "display_data"
    }
   ],
   "source": [
    "plt.plot((moo_korea.df.Residual)**2)"
   ]
  },
  {
   "cell_type": "markdown",
   "id": "e206a1d6-e7bf-4e92-a4f0-cf1ca9bfe096",
   "metadata": {},
   "source": [
    "`-` vis"
   ]
  },
  {
   "cell_type": "code",
   "execution_count": 205,
   "id": "9615e125-19ab-4e75-b4e7-e67058cbad77",
   "metadata": {},
   "outputs": [],
   "source": [
    "#moo_korea.vis(MagThresh=5,ResThresh=0.3) # <- 실행해봐요"
   ]
  },
  {
   "cell_type": "markdown",
   "id": "ca61eb8f-0344-4704-9b02-a519865a6083",
   "metadata": {
    "tags": []
   },
   "source": [
    "### analysis_df_global"
   ]
  },
  {
   "cell_type": "markdown",
   "id": "0d711324-8ff6-4df7-bbbb-b46882fd58e9",
   "metadata": {},
   "source": [
    "`-` make instance for analysis"
   ]
  },
  {
   "cell_type": "code",
   "execution_count": 219,
   "id": "1d0b9187-1e48-4557-b110-9c0cf36a819e",
   "metadata": {},
   "outputs": [],
   "source": [
    "moo_global=MooYaHo2(df_global.query(\"2010 <= Year < 2015\"))"
   ]
  },
  {
   "cell_type": "markdown",
   "id": "7552fd22-eb71-44b3-8cf9-ce37990d1c68",
   "metadata": {},
   "source": [
    "`-` get distance "
   ]
  },
  {
   "cell_type": "code",
   "execution_count": 220,
   "id": "d9a7e104-1cc8-4cab-9d7a-7c11f6852c8e",
   "metadata": {},
   "outputs": [
    {
     "name": "stderr",
     "output_type": "stream",
     "text": [
      "100%|██████████| 12498/12498 [03:18<00:00, 63.04it/s] \n"
     ]
    }
   ],
   "source": [
    "moo_global.get_distance()"
   ]
  },
  {
   "cell_type": "code",
   "execution_count": 221,
   "id": "a0e98271-e32d-4948-86be-8773273577ce",
   "metadata": {},
   "outputs": [
    {
     "data": {
      "text/plain": [
       "8810.865423093777"
      ]
     },
     "execution_count": 221,
     "metadata": {},
     "output_type": "execute_result"
    }
   ],
   "source": [
    "moo_global.D[moo_global.D>0].mean()"
   ]
  },
  {
   "cell_type": "code",
   "execution_count": 222,
   "id": "7bce867d-e21e-4329-b1e2-042c6c638d7c",
   "metadata": {},
   "outputs": [
    {
     "data": {
      "text/plain": [
       "(array([14176290., 16005894., 21186674., 22331128., 19394182., 17548252.,\n",
       "        16668048., 13316436., 12973260.,  2582550.]),\n",
       " array([8.97930163e-02, 2.00141141e+03, 4.00273303e+03, 6.00405465e+03,\n",
       "        8.00537626e+03, 1.00066979e+04, 1.20080195e+04, 1.40093411e+04,\n",
       "        1.60106627e+04, 1.80119844e+04, 2.00133060e+04]),\n",
       " <BarContainer object of 10 artists>)"
      ]
     },
     "execution_count": 222,
     "metadata": {},
     "output_type": "execute_result"
    },
    {
     "data": {
      "image/png": "[encoded data removed]",
      "text/plain": [
       "<Figure size 432x288 with 1 Axes>"
      ]
     },
     "metadata": {
      "needs_background": "light"
     },
     "output_type": "display_data"
    }
   ],
   "source": [
    "plt.hist(moo_global.D[moo_global.D>0])"
   ]
  },
  {
   "cell_type": "markdown",
   "id": "47e7e3aa-6bbc-49de-bd29-ad9ab660da00",
   "metadata": {},
   "source": [
    "`-` weight matrix"
   ]
  },
  {
   "cell_type": "code",
   "execution_count": 223,
   "id": "f45ef2ac-e190-4002-8550-1da1bd66f451",
   "metadata": {},
   "outputs": [],
   "source": [
    "moo_global.get_weightmatrix(theta=(8810.87),kappa=5000) "
   ]
  },
  {
   "cell_type": "markdown",
   "id": "20a99e24-ccf7-49aa-957e-123373959e9d",
   "metadata": {},
   "source": [
    "`-` fit"
   ]
  },
  {
   "cell_type": "code",
   "execution_count": 224,
   "id": "4c08f649-09f7-4b0a-842e-dd687df0f7c4",
   "metadata": {},
   "outputs": [
    {
     "data": {
      "image/png": "[encoded data removed]",
      "text/plain": [
       "<Figure size 432x288 with 1 Axes>"
      ]
     },
     "metadata": {
      "needs_background": "light"
     },
     "output_type": "display_data"
    }
   ],
   "source": [
    "moo_global.fit2()"
   ]
  },
  {
   "cell_type": "code",
   "execution_count": 228,
   "id": "7649a020-5bc6-4c54-9c91-17de2d9367ab",
   "metadata": {},
   "outputs": [
    {
     "data": {
      "text/html": [
       "<div>\n",
       "<style scoped>\n",
       "    .dataframe tbody tr th:only-of-type {\n",
       "        vertical-align: middle;\n",
       "    }\n",
       "\n",
       "    .dataframe tbody tr th {\n",
       "        vertical-align: top;\n",
       "    }\n",
       "\n",
       "    .dataframe thead th {\n",
       "        text-align: right;\n",
       "    }\n",
       "</style>\n",
       "<table border=\"1\" class=\"dataframe\">\n",
       "  <thead>\n",
       "    <tr style=\"text-align: right;\">\n",
       "      <th></th>\n",
       "      <th>Latitude</th>\n",
       "      <th>Longitude</th>\n",
       "      <th>Magnitude</th>\n",
       "      <th>Year</th>\n",
       "      <th>MagnitudeHat</th>\n",
       "      <th>Residual</th>\n",
       "    </tr>\n",
       "  </thead>\n",
       "  <tbody>\n",
       "    <tr>\n",
       "      <th>32803</th>\n",
       "      <td>-36.1220</td>\n",
       "      <td>-72.8980</td>\n",
       "      <td>8.8</td>\n",
       "      <td>2010.0</td>\n",
       "      <td>7.414503</td>\n",
       "      <td>1.385497</td>\n",
       "    </tr>\n",
       "    <tr>\n",
       "      <th>30311</th>\n",
       "      <td>38.2970</td>\n",
       "      <td>142.3730</td>\n",
       "      <td>9.1</td>\n",
       "      <td>2011.0</td>\n",
       "      <td>7.725537</td>\n",
       "      <td>1.374463</td>\n",
       "    </tr>\n",
       "    <tr>\n",
       "      <th>24388</th>\n",
       "      <td>-19.6097</td>\n",
       "      <td>-70.7691</td>\n",
       "      <td>8.2</td>\n",
       "      <td>2014.0</td>\n",
       "      <td>7.019946</td>\n",
       "      <td>1.180054</td>\n",
       "    </tr>\n",
       "    <tr>\n",
       "      <th>11094</th>\n",
       "      <td>-36.1220</td>\n",
       "      <td>-72.8980</td>\n",
       "      <td>8.8</td>\n",
       "      <td>2010.0</td>\n",
       "      <td>7.789490</td>\n",
       "      <td>1.010510</td>\n",
       "    </tr>\n",
       "    <tr>\n",
       "      <th>30296</th>\n",
       "      <td>36.2810</td>\n",
       "      <td>141.1110</td>\n",
       "      <td>7.9</td>\n",
       "      <td>2011.0</td>\n",
       "      <td>6.977472</td>\n",
       "      <td>0.922528</td>\n",
       "    </tr>\n",
       "    <tr>\n",
       "      <th>25633</th>\n",
       "      <td>-23.0090</td>\n",
       "      <td>-177.2320</td>\n",
       "      <td>7.4</td>\n",
       "      <td>2013.0</td>\n",
       "      <td>6.548436</td>\n",
       "      <td>0.851564</td>\n",
       "    </tr>\n",
       "    <tr>\n",
       "      <th>25056</th>\n",
       "      <td>37.1557</td>\n",
       "      <td>144.6611</td>\n",
       "      <td>7.1</td>\n",
       "      <td>2013.0</td>\n",
       "      <td>6.331439</td>\n",
       "      <td>0.768561</td>\n",
       "    </tr>\n",
       "    <tr>\n",
       "      <th>30291</th>\n",
       "      <td>38.0580</td>\n",
       "      <td>144.5900</td>\n",
       "      <td>7.7</td>\n",
       "      <td>2011.0</td>\n",
       "      <td>6.934626</td>\n",
       "      <td>0.765374</td>\n",
       "    </tr>\n",
       "    <tr>\n",
       "      <th>27513</th>\n",
       "      <td>0.8020</td>\n",
       "      <td>92.4630</td>\n",
       "      <td>8.2</td>\n",
       "      <td>2012.0</td>\n",
       "      <td>7.435028</td>\n",
       "      <td>0.764972</td>\n",
       "    </tr>\n",
       "    <tr>\n",
       "      <th>32001</th>\n",
       "      <td>7.8810</td>\n",
       "      <td>91.9360</td>\n",
       "      <td>7.5</td>\n",
       "      <td>2010.0</td>\n",
       "      <td>6.748295</td>\n",
       "      <td>0.751705</td>\n",
       "    </tr>\n",
       "    <tr>\n",
       "      <th>27527</th>\n",
       "      <td>2.3270</td>\n",
       "      <td>93.0630</td>\n",
       "      <td>8.6</td>\n",
       "      <td>2012.0</td>\n",
       "      <td>7.848862</td>\n",
       "      <td>0.751138</td>\n",
       "    </tr>\n",
       "    <tr>\n",
       "      <th>32492</th>\n",
       "      <td>-34.2900</td>\n",
       "      <td>-71.8910</td>\n",
       "      <td>6.9</td>\n",
       "      <td>2010.0</td>\n",
       "      <td>6.150213</td>\n",
       "      <td>0.749787</td>\n",
       "    </tr>\n",
       "    <tr>\n",
       "      <th>29133</th>\n",
       "      <td>52.0500</td>\n",
       "      <td>-171.8360</td>\n",
       "      <td>7.3</td>\n",
       "      <td>2011.0</td>\n",
       "      <td>6.559894</td>\n",
       "      <td>0.740106</td>\n",
       "    </tr>\n",
       "    <tr>\n",
       "      <th>25517</th>\n",
       "      <td>10.7010</td>\n",
       "      <td>-42.5940</td>\n",
       "      <td>6.6</td>\n",
       "      <td>2013.0</td>\n",
       "      <td>5.863637</td>\n",
       "      <td>0.736363</td>\n",
       "    </tr>\n",
       "    <tr>\n",
       "      <th>27599</th>\n",
       "      <td>16.4930</td>\n",
       "      <td>-98.2310</td>\n",
       "      <td>7.4</td>\n",
       "      <td>2012.0</td>\n",
       "      <td>6.671837</td>\n",
       "      <td>0.728163</td>\n",
       "    </tr>\n",
       "    <tr>\n",
       "      <th>27672</th>\n",
       "      <td>-22.1410</td>\n",
       "      <td>170.3400</td>\n",
       "      <td>6.6</td>\n",
       "      <td>2012.0</td>\n",
       "      <td>5.875359</td>\n",
       "      <td>0.724641</td>\n",
       "    </tr>\n",
       "    <tr>\n",
       "      <th>27384</th>\n",
       "      <td>-18.6850</td>\n",
       "      <td>-174.7050</td>\n",
       "      <td>6.6</td>\n",
       "      <td>2012.0</td>\n",
       "      <td>5.879631</td>\n",
       "      <td>0.720369</td>\n",
       "    </tr>\n",
       "    <tr>\n",
       "      <th>28574</th>\n",
       "      <td>-21.6110</td>\n",
       "      <td>-179.5280</td>\n",
       "      <td>7.3</td>\n",
       "      <td>2011.0</td>\n",
       "      <td>6.580621</td>\n",
       "      <td>0.719379</td>\n",
       "    </tr>\n",
       "    <tr>\n",
       "      <th>25773</th>\n",
       "      <td>30.3080</td>\n",
       "      <td>102.8880</td>\n",
       "      <td>6.6</td>\n",
       "      <td>2013.0</td>\n",
       "      <td>5.887813</td>\n",
       "      <td>0.712187</td>\n",
       "    </tr>\n",
       "    <tr>\n",
       "      <th>28001</th>\n",
       "      <td>-10.6170</td>\n",
       "      <td>165.1600</td>\n",
       "      <td>6.4</td>\n",
       "      <td>2012.0</td>\n",
       "      <td>5.688407</td>\n",
       "      <td>0.711593</td>\n",
       "    </tr>\n",
       "  </tbody>\n",
       "</table>\n",
       "</div>"
      ],
      "text/plain": [
       "       Latitude  Longitude  Magnitude    Year  MagnitudeHat  Residual\n",
       "32803  -36.1220   -72.8980        8.8  2010.0      7.414503  1.385497\n",
       "30311   38.2970   142.3730        9.1  2011.0      7.725537  1.374463\n",
       "24388  -19.6097   -70.7691        8.2  2014.0      7.019946  1.180054\n",
       "11094  -36.1220   -72.8980        8.8  2010.0      7.789490  1.010510\n",
       "30296   36.2810   141.1110        7.9  2011.0      6.977472  0.922528\n",
       "25633  -23.0090  -177.2320        7.4  2013.0      6.548436  0.851564\n",
       "25056   37.1557   144.6611        7.1  2013.0      6.331439  0.768561\n",
       "30291   38.0580   144.5900        7.7  2011.0      6.934626  0.765374\n",
       "27513    0.8020    92.4630        8.2  2012.0      7.435028  0.764972\n",
       "32001    7.8810    91.9360        7.5  2010.0      6.748295  0.751705\n",
       "27527    2.3270    93.0630        8.6  2012.0      7.848862  0.751138\n",
       "32492  -34.2900   -71.8910        6.9  2010.0      6.150213  0.749787\n",
       "29133   52.0500  -171.8360        7.3  2011.0      6.559894  0.740106\n",
       "25517   10.7010   -42.5940        6.6  2013.0      5.863637  0.736363\n",
       "27599   16.4930   -98.2310        7.4  2012.0      6.671837  0.728163\n",
       "27672  -22.1410   170.3400        6.6  2012.0      5.875359  0.724641\n",
       "27384  -18.6850  -174.7050        6.6  2012.0      5.879631  0.720369\n",
       "28574  -21.6110  -179.5280        7.3  2011.0      6.580621  0.719379\n",
       "25773   30.3080   102.8880        6.6  2013.0      5.887813  0.712187\n",
       "28001  -10.6170   165.1600        6.4  2012.0      5.688407  0.711593"
      ]
     },
     "execution_count": 228,
     "metadata": {},
     "output_type": "execute_result"
    }
   ],
   "source": [
    "moo_global.df.sort_values(\"Residual\",ascending=False).iloc[:20,:]"
   ]
  },
  {
   "cell_type": "code",
   "execution_count": 226,
   "id": "428a8c20-7519-463f-a924-83ffecb56c2c",
   "metadata": {},
   "outputs": [
    {
     "data": {
      "text/plain": [
       "[<matplotlib.lines.Line2D at 0x7fba883e5910>]"
      ]
     },
     "execution_count": 226,
     "metadata": {},
     "output_type": "execute_result"
    },
    {
     "data": {
      "image/png": "[encoded data removed]",
      "text/plain": [
       "<Figure size 432x288 with 1 Axes>"
      ]
     },
     "metadata": {
      "needs_background": "light"
     },
     "output_type": "display_data"
    }
   ],
   "source": [
    "plt.plot((moo_global.df.Residual)**2)"
   ]
  },
  {
   "cell_type": "markdown",
   "id": "ea5eefc2-4dee-4c5a-b94a-e7df010d80e0",
   "metadata": {},
   "source": [
    "`-` vis"
   ]
  },
  {
   "cell_type": "code",
   "execution_count": 231,
   "id": "14f7d893-85e8-4fa9-a950-0177b457d53a",
   "metadata": {},
   "outputs": [],
   "source": [
    "#moo_global.vis(MagThresh=7,ResThresh=0.3) # <- 실행해봐요"
   ]
  },
  {
   "cell_type": "markdown",
   "id": "7602c793-c958-4079-8024-b272e1467c31",
   "metadata": {
    "tags": []
   },
   "source": [
    "#### 시도"
   ]
  },
  {
   "cell_type": "markdown",
   "id": "9608f3d6-fab5-48a3-a24b-7d0c1211abec",
   "metadata": {},
   "source": [
    "1"
   ]
  },
  {
   "cell_type": "code",
   "execution_count": null,
   "id": "4cb68c40-59c8-4631-8803-9cccf9891315",
   "metadata": {},
   "outputs": [
    {
     "data": {
      "text/html": [
       "<div>\n",
       "<style scoped>\n",
       "    .dataframe tbody tr th:only-of-type {\n",
       "        vertical-align: middle;\n",
       "    }\n",
       "\n",
       "    .dataframe tbody tr th {\n",
       "        vertical-align: top;\n",
       "    }\n",
       "\n",
       "    .dataframe thead th {\n",
       "        text-align: right;\n",
       "    }\n",
       "</style>\n",
       "<table border=\"1\" class=\"dataframe\">\n",
       "  <thead>\n",
       "    <tr style=\"text-align: right;\">\n",
       "      <th></th>\n",
       "      <th>index</th>\n",
       "      <th>Latitude</th>\n",
       "      <th>Longitude</th>\n",
       "      <th>Magnitude</th>\n",
       "      <th>Year</th>\n",
       "      <th>MagnitudeHat</th>\n",
       "      <th>Residual</th>\n",
       "    </tr>\n",
       "  </thead>\n",
       "  <tbody>\n",
       "    <tr>\n",
       "      <th>0</th>\n",
       "      <td>30291</td>\n",
       "      <td>38.058</td>\n",
       "      <td>144.590</td>\n",
       "      <td>7.7</td>\n",
       "      <td>2011.0</td>\n",
       "      <td>6.601755</td>\n",
       "      <td>1.098245</td>\n",
       "    </tr>\n",
       "    <tr>\n",
       "      <th>1</th>\n",
       "      <td>30311</td>\n",
       "      <td>38.297</td>\n",
       "      <td>142.373</td>\n",
       "      <td>9.1</td>\n",
       "      <td>2011.0</td>\n",
       "      <td>8.053442</td>\n",
       "      <td>1.046558</td>\n",
       "    </tr>\n",
       "    <tr>\n",
       "      <th>2</th>\n",
       "      <td>32001</td>\n",
       "      <td>7.881</td>\n",
       "      <td>91.936</td>\n",
       "      <td>7.5</td>\n",
       "      <td>2010.0</td>\n",
       "      <td>6.497636</td>\n",
       "      <td>1.002364</td>\n",
       "    </tr>\n",
       "    <tr>\n",
       "      <th>3</th>\n",
       "      <td>32803</td>\n",
       "      <td>-36.122</td>\n",
       "      <td>-72.898</td>\n",
       "      <td>8.8</td>\n",
       "      <td>2010.0</td>\n",
       "      <td>7.820881</td>\n",
       "      <td>0.979119</td>\n",
       "    </tr>\n",
       "    <tr>\n",
       "      <th>4</th>\n",
       "      <td>11094</td>\n",
       "      <td>-36.122</td>\n",
       "      <td>-72.898</td>\n",
       "      <td>8.8</td>\n",
       "      <td>2010.0</td>\n",
       "      <td>7.824624</td>\n",
       "      <td>0.975376</td>\n",
       "    </tr>\n",
       "    <tr>\n",
       "      <th>5</th>\n",
       "      <td>27576</td>\n",
       "      <td>-35.200</td>\n",
       "      <td>-72.217</td>\n",
       "      <td>7.1</td>\n",
       "      <td>2012.0</td>\n",
       "      <td>6.174395</td>\n",
       "      <td>0.925605</td>\n",
       "    </tr>\n",
       "    <tr>\n",
       "      <th>6</th>\n",
       "      <td>30296</td>\n",
       "      <td>36.281</td>\n",
       "      <td>141.111</td>\n",
       "      <td>7.9</td>\n",
       "      <td>2011.0</td>\n",
       "      <td>7.029732</td>\n",
       "      <td>0.870268</td>\n",
       "    </tr>\n",
       "    <tr>\n",
       "      <th>7</th>\n",
       "      <td>30827</td>\n",
       "      <td>-19.702</td>\n",
       "      <td>167.947</td>\n",
       "      <td>7.3</td>\n",
       "      <td>2010.0</td>\n",
       "      <td>6.471801</td>\n",
       "      <td>0.828199</td>\n",
       "    </tr>\n",
       "    <tr>\n",
       "      <th>8</th>\n",
       "      <td>13481</td>\n",
       "      <td>-0.414</td>\n",
       "      <td>132.885</td>\n",
       "      <td>7.7</td>\n",
       "      <td>2009.0</td>\n",
       "      <td>6.881539</td>\n",
       "      <td>0.818461</td>\n",
       "    </tr>\n",
       "    <tr>\n",
       "      <th>9</th>\n",
       "      <td>32312</td>\n",
       "      <td>2.383</td>\n",
       "      <td>97.048</td>\n",
       "      <td>7.8</td>\n",
       "      <td>2010.0</td>\n",
       "      <td>7.002219</td>\n",
       "      <td>0.797781</td>\n",
       "    </tr>\n",
       "    <tr>\n",
       "      <th>10</th>\n",
       "      <td>12444</td>\n",
       "      <td>-45.762</td>\n",
       "      <td>166.562</td>\n",
       "      <td>7.8</td>\n",
       "      <td>2009.0</td>\n",
       "      <td>7.016742</td>\n",
       "      <td>0.783258</td>\n",
       "    </tr>\n",
       "    <tr>\n",
       "      <th>11</th>\n",
       "      <td>9520</td>\n",
       "      <td>-3.487</td>\n",
       "      <td>100.082</td>\n",
       "      <td>7.8</td>\n",
       "      <td>2010.0</td>\n",
       "      <td>7.037799</td>\n",
       "      <td>0.762201</td>\n",
       "    </tr>\n",
       "    <tr>\n",
       "      <th>12</th>\n",
       "      <td>27318</td>\n",
       "      <td>-44.806</td>\n",
       "      <td>-80.159</td>\n",
       "      <td>6.3</td>\n",
       "      <td>2012.0</td>\n",
       "      <td>5.556586</td>\n",
       "      <td>0.743414</td>\n",
       "    </tr>\n",
       "    <tr>\n",
       "      <th>13</th>\n",
       "      <td>12061</td>\n",
       "      <td>-15.489</td>\n",
       "      <td>-172.095</td>\n",
       "      <td>8.1</td>\n",
       "      <td>2009.0</td>\n",
       "      <td>7.381074</td>\n",
       "      <td>0.718926</td>\n",
       "    </tr>\n",
       "    <tr>\n",
       "      <th>14</th>\n",
       "      <td>11356</td>\n",
       "      <td>18.443</td>\n",
       "      <td>-72.571</td>\n",
       "      <td>7.0</td>\n",
       "      <td>2010.0</td>\n",
       "      <td>6.284525</td>\n",
       "      <td>0.715475</td>\n",
       "    </tr>\n",
       "    <tr>\n",
       "      <th>15</th>\n",
       "      <td>9893</td>\n",
       "      <td>-17.759</td>\n",
       "      <td>65.647</td>\n",
       "      <td>6.3</td>\n",
       "      <td>2010.0</td>\n",
       "      <td>5.598847</td>\n",
       "      <td>0.701153</td>\n",
       "    </tr>\n",
       "    <tr>\n",
       "      <th>16</th>\n",
       "      <td>29610</td>\n",
       "      <td>35.417</td>\n",
       "      <td>140.575</td>\n",
       "      <td>6.2</td>\n",
       "      <td>2011.0</td>\n",
       "      <td>5.500801</td>\n",
       "      <td>0.699199</td>\n",
       "    </tr>\n",
       "    <tr>\n",
       "      <th>17</th>\n",
       "      <td>28574</td>\n",
       "      <td>-21.611</td>\n",
       "      <td>-179.528</td>\n",
       "      <td>7.3</td>\n",
       "      <td>2011.0</td>\n",
       "      <td>6.601719</td>\n",
       "      <td>0.698281</td>\n",
       "    </tr>\n",
       "    <tr>\n",
       "      <th>18</th>\n",
       "      <td>14789</td>\n",
       "      <td>36.164</td>\n",
       "      <td>141.526</td>\n",
       "      <td>6.9</td>\n",
       "      <td>2008.0</td>\n",
       "      <td>6.206013</td>\n",
       "      <td>0.693987</td>\n",
       "    </tr>\n",
       "    <tr>\n",
       "      <th>19</th>\n",
       "      <td>14351</td>\n",
       "      <td>37.186</td>\n",
       "      <td>142.051</td>\n",
       "      <td>6.0</td>\n",
       "      <td>2008.0</td>\n",
       "      <td>5.318341</td>\n",
       "      <td>0.681659</td>\n",
       "    </tr>\n",
       "  </tbody>\n",
       "</table>\n",
       "</div>"
      ],
      "text/plain": [
       "    index  Latitude  Longitude  Magnitude    Year  MagnitudeHat  Residual\n",
       "0   30291    38.058    144.590        7.7  2011.0      6.601755  1.098245\n",
       "1   30311    38.297    142.373        9.1  2011.0      8.053442  1.046558\n",
       "2   32001     7.881     91.936        7.5  2010.0      6.497636  1.002364\n",
       "3   32803   -36.122    -72.898        8.8  2010.0      7.820881  0.979119\n",
       "4   11094   -36.122    -72.898        8.8  2010.0      7.824624  0.975376\n",
       "5   27576   -35.200    -72.217        7.1  2012.0      6.174395  0.925605\n",
       "6   30296    36.281    141.111        7.9  2011.0      7.029732  0.870268\n",
       "7   30827   -19.702    167.947        7.3  2010.0      6.471801  0.828199\n",
       "8   13481    -0.414    132.885        7.7  2009.0      6.881539  0.818461\n",
       "9   32312     2.383     97.048        7.8  2010.0      7.002219  0.797781\n",
       "10  12444   -45.762    166.562        7.8  2009.0      7.016742  0.783258\n",
       "11   9520    -3.487    100.082        7.8  2010.0      7.037799  0.762201\n",
       "12  27318   -44.806    -80.159        6.3  2012.0      5.556586  0.743414\n",
       "13  12061   -15.489   -172.095        8.1  2009.0      7.381074  0.718926\n",
       "14  11356    18.443    -72.571        7.0  2010.0      6.284525  0.715475\n",
       "15   9893   -17.759     65.647        6.3  2010.0      5.598847  0.701153\n",
       "16  29610    35.417    140.575        6.2  2011.0      5.500801  0.699199\n",
       "17  28574   -21.611   -179.528        7.3  2011.0      6.601719  0.698281\n",
       "18  14789    36.164    141.526        6.9  2008.0      6.206013  0.693987\n",
       "19  14351    37.186    142.051        6.0  2008.0      5.318341  0.681659"
      ]
     },
     "execution_count": 141,
     "metadata": {},
     "output_type": "execute_result"
    }
   ],
   "source": [
    "a.reset_index() # 2008~2012 데이터, Residual 상위 20개, 칠레(5위), 아이티(14위), 일본(2위) 만 육지고 모두 바다, \n",
    "# 피해규모 일본(15,000명 이상), 아이티(2,000명 이상), 칠레(14명)"
   ]
  },
  {
   "cell_type": "markdown",
   "id": "b9025cad-308a-489e-9c42-f719bfc9121b",
   "metadata": {},
   "source": [
    "---"
   ]
  },
  {
   "cell_type": "code",
   "execution_count": 166,
   "id": "90e37a71-fe6e-4f0e-82d6-da7a9eba52d8",
   "metadata": {},
   "outputs": [
    {
     "data": {
      "text/html": [
       "<div>\n",
       "<style scoped>\n",
       "    .dataframe tbody tr th:only-of-type {\n",
       "        vertical-align: middle;\n",
       "    }\n",
       "\n",
       "    .dataframe tbody tr th {\n",
       "        vertical-align: top;\n",
       "    }\n",
       "\n",
       "    .dataframe thead th {\n",
       "        text-align: right;\n",
       "    }\n",
       "</style>\n",
       "<table border=\"1\" class=\"dataframe\">\n",
       "  <thead>\n",
       "    <tr style=\"text-align: right;\">\n",
       "      <th></th>\n",
       "      <th>Rank</th>\n",
       "      <th>Fatalities</th>\n",
       "      <th>Magnitude</th>\n",
       "      <th>Location</th>\n",
       "      <th>Event</th>\n",
       "      <th>Date</th>\n",
       "    </tr>\n",
       "  </thead>\n",
       "  <tbody>\n",
       "    <tr>\n",
       "      <th>1</th>\n",
       "      <td>2</td>\n",
       "      <td>160000</td>\n",
       "      <td>7.0</td>\n",
       "      <td>Haiti</td>\n",
       "      <td>2010 Haiti earthquake</td>\n",
       "      <td>January 12, 2010</td>\n",
       "    </tr>\n",
       "    <tr>\n",
       "      <th>4</th>\n",
       "      <td>5</td>\n",
       "      <td>26271</td>\n",
       "      <td>6.6</td>\n",
       "      <td>Iran</td>\n",
       "      <td>2003 Bam earthquake</td>\n",
       "      <td>December 26, 2003</td>\n",
       "    </tr>\n",
       "    <tr>\n",
       "      <th>8</th>\n",
       "      <td>9</td>\n",
       "      <td>5782</td>\n",
       "      <td>6.4</td>\n",
       "      <td>Indonesia</td>\n",
       "      <td>2006 Yogyakarta earthquake</td>\n",
       "      <td>May 26, 2006</td>\n",
       "    </tr>\n",
       "    <tr>\n",
       "      <th>10</th>\n",
       "      <td>11</td>\n",
       "      <td>2968</td>\n",
       "      <td>6.9</td>\n",
       "      <td>China</td>\n",
       "      <td>2010 Yushu earthquake</td>\n",
       "      <td>April 13, 2010</td>\n",
       "    </tr>\n",
       "    <tr>\n",
       "      <th>11</th>\n",
       "      <td>12</td>\n",
       "      <td>2266</td>\n",
       "      <td>6.8</td>\n",
       "      <td>Algeria</td>\n",
       "      <td>2003 Boumerdès earthquake</td>\n",
       "      <td>May 21, 2003</td>\n",
       "    </tr>\n",
       "    <tr>\n",
       "      <th>14</th>\n",
       "      <td>15</td>\n",
       "      <td>1143</td>\n",
       "      <td>5.9</td>\n",
       "      <td>Afghanistan</td>\n",
       "      <td>June 2022 Afghanistan earthquake</td>\n",
       "      <td>June 21, 2022</td>\n",
       "    </tr>\n",
       "  </tbody>\n",
       "</table>\n",
       "</div>"
      ],
      "text/plain": [
       "    Rank  Fatalities  Magnitude     Location  \\\n",
       "1      2      160000        7.0        Haiti   \n",
       "4      5       26271        6.6         Iran   \n",
       "8      9        5782        6.4    Indonesia   \n",
       "10    11        2968        6.9        China   \n",
       "11    12        2266        6.8      Algeria   \n",
       "14    15        1143        5.9  Afghanistan   \n",
       "\n",
       "                               Event               Date  \n",
       "1              2010 Haiti earthquake   January 12, 2010  \n",
       "4                2003 Bam earthquake  December 26, 2003  \n",
       "8         2006 Yogyakarta earthquake       May 26, 2006  \n",
       "10             2010 Yushu earthquake     April 13, 2010  \n",
       "11         2003 Boumerdès earthquake       May 21, 2003  \n",
       "14  June 2022 Afghanistan earthquake      June 21, 2022  "
      ]
     },
     "execution_count": 166,
     "metadata": {},
     "output_type": "execute_result"
    }
   ],
   "source": [
    "pd.merge(pd.read_html('https://en.wikipedia.org/wiki/Lists_of_21st-century_earthquakes',encoding='utf-8')[0].query('Magnitude<=7')# List of deadliest earthquakes,a,how=left,on=Magnitude"
   ]
  },
  {
   "cell_type": "code",
   "execution_count": 167,
   "id": "05ea43e7-5db0-4582-82e6-f1463988b612",
   "metadata": {},
   "outputs": [
    {
     "data": {
      "text/html": [
       "<div>\n",
       "<style scoped>\n",
       "    .dataframe tbody tr th:only-of-type {\n",
       "        vertical-align: middle;\n",
       "    }\n",
       "\n",
       "    .dataframe tbody tr th {\n",
       "        vertical-align: top;\n",
       "    }\n",
       "\n",
       "    .dataframe thead th {\n",
       "        text-align: right;\n",
       "    }\n",
       "</style>\n",
       "<table border=\"1\" class=\"dataframe\">\n",
       "  <thead>\n",
       "    <tr style=\"text-align: right;\">\n",
       "      <th></th>\n",
       "      <th>Year</th>\n",
       "      <th>Fatalities</th>\n",
       "      <th>Magnitude</th>\n",
       "      <th>Event</th>\n",
       "      <th>Location</th>\n",
       "      <th>Date</th>\n",
       "      <th>Death toll</th>\n",
       "    </tr>\n",
       "  </thead>\n",
       "  <tbody>\n",
       "    <tr>\n",
       "      <th>1</th>\n",
       "      <td>2002</td>\n",
       "      <td>1000</td>\n",
       "      <td>6.1</td>\n",
       "      <td>2002 Hindu Kush earthquakes</td>\n",
       "      <td>Afghanistan</td>\n",
       "      <td>March 25</td>\n",
       "      <td>1685</td>\n",
       "    </tr>\n",
       "    <tr>\n",
       "      <th>2</th>\n",
       "      <td>2003</td>\n",
       "      <td>26271</td>\n",
       "      <td>6.6</td>\n",
       "      <td>2003 Bam earthquake</td>\n",
       "      <td>Iran</td>\n",
       "      <td>December 26</td>\n",
       "      <td>33819</td>\n",
       "    </tr>\n",
       "    <tr>\n",
       "      <th>5</th>\n",
       "      <td>2006</td>\n",
       "      <td>5782</td>\n",
       "      <td>6.4</td>\n",
       "      <td>2006 Yogyakarta earthquake</td>\n",
       "      <td>Indonesia</td>\n",
       "      <td>May 26</td>\n",
       "      <td>6605</td>\n",
       "    </tr>\n",
       "    <tr>\n",
       "      <th>9</th>\n",
       "      <td>2010</td>\n",
       "      <td>160000</td>\n",
       "      <td>7.0</td>\n",
       "      <td>2010 Haiti earthquake</td>\n",
       "      <td>Haiti</td>\n",
       "      <td>January 12</td>\n",
       "      <td>164627</td>\n",
       "    </tr>\n",
       "    <tr>\n",
       "      <th>11</th>\n",
       "      <td>2012</td>\n",
       "      <td>306</td>\n",
       "      <td>6.4</td>\n",
       "      <td>2012 East Azerbaijan earthquakes</td>\n",
       "      <td>Iran</td>\n",
       "      <td>August 11</td>\n",
       "      <td>689</td>\n",
       "    </tr>\n",
       "    <tr>\n",
       "      <th>13</th>\n",
       "      <td>2014</td>\n",
       "      <td>729</td>\n",
       "      <td>6.1</td>\n",
       "      <td>2014 Ludian earthquake</td>\n",
       "      <td>China</td>\n",
       "      <td>August 3</td>\n",
       "      <td>756</td>\n",
       "    </tr>\n",
       "    <tr>\n",
       "      <th>18</th>\n",
       "      <td>2019</td>\n",
       "      <td>51</td>\n",
       "      <td>6.4</td>\n",
       "      <td>2019 Albania earthquake</td>\n",
       "      <td>Albania</td>\n",
       "      <td>November 26</td>\n",
       "      <td>288</td>\n",
       "    </tr>\n",
       "    <tr>\n",
       "      <th>19</th>\n",
       "      <td>2020</td>\n",
       "      <td>119</td>\n",
       "      <td>7.0</td>\n",
       "      <td>2020 Aegean Sea earthquake</td>\n",
       "      <td>Turkey/ Greece</td>\n",
       "      <td>October 30</td>\n",
       "      <td>207</td>\n",
       "    </tr>\n",
       "    <tr>\n",
       "      <th>21</th>\n",
       "      <td>2022</td>\n",
       "      <td>1143</td>\n",
       "      <td>5.9</td>\n",
       "      <td>June 2022 Afghanistan earthquake</td>\n",
       "      <td>Afghanistan</td>\n",
       "      <td>June 21</td>\n",
       "      <td>1233</td>\n",
       "    </tr>\n",
       "  </tbody>\n",
       "</table>\n",
       "</div>"
      ],
      "text/plain": [
       "    Year  Fatalities  Magnitude                             Event  \\\n",
       "1   2002        1000        6.1       2002 Hindu Kush earthquakes   \n",
       "2   2003       26271        6.6               2003 Bam earthquake   \n",
       "5   2006        5782        6.4        2006 Yogyakarta earthquake   \n",
       "9   2010      160000        7.0             2010 Haiti earthquake   \n",
       "11  2012         306        6.4  2012 East Azerbaijan earthquakes   \n",
       "13  2014         729        6.1            2014 Ludian earthquake   \n",
       "18  2019          51        6.4           2019 Albania earthquake   \n",
       "19  2020         119        7.0        2020 Aegean Sea earthquake   \n",
       "21  2022        1143        5.9  June 2022 Afghanistan earthquake   \n",
       "\n",
       "          Location         Date  Death toll  \n",
       "1      Afghanistan     March 25        1685  \n",
       "2             Iran  December 26       33819  \n",
       "5        Indonesia       May 26        6605  \n",
       "9            Haiti   January 12      164627  \n",
       "11            Iran    August 11         689  \n",
       "13           China     August 3         756  \n",
       "18         Albania  November 26         288  \n",
       "19  Turkey/ Greece   October 30         207  \n",
       "21     Afghanistan      June 21        1233  "
      ]
     },
     "execution_count": 167,
     "metadata": {},
     "output_type": "execute_result"
    }
   ],
   "source": [
    "pd.read_html('https://en.wikipedia.org/wiki/Lists_of_21st-century_earthquakes',encoding='utf-8')[3].query('Magnitude<=7') # Deadliest earthquakes by year"
   ]
  },
  {
   "cell_type": "markdown",
   "id": "c89713ae-7352-446c-8843-219458597140",
   "metadata": {},
   "source": [
    "Plan : `2002~2006` 모아서 한 번, `2010~2014` 모아서 한 번"
   ]
  },
  {
   "cell_type": "code",
   "execution_count": null,
   "id": "ef815deb-f46c-4d79-a101-a2669beb0819",
   "metadata": {},
   "outputs": [],
   "source": []
  }
 ],
 "metadata": {
  "kernelspec": {
   "display_name": "Python 3 (ipykernel)",
   "language": "python",
   "name": "python3"
  },
  "language_info": {
   "codemirror_mode": {
    "name": "ipython",
    "version": 3
   },
   "file_extension": ".py",
   "mimetype": "text/x-python",
   "name": "python",
   "nbconvert_exporter": "python",
   "pygments_lexer": "ipython3",
   "version": "3.8.12"
  }
 },
 "nbformat": 4,
 "nbformat_minor": 5
}
