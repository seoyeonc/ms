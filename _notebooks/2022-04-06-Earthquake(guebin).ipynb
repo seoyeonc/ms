{
 "cells": [
  {
   "cell_type": "markdown",
   "id": "035edfb3-03a5-4973-b721-5c796f179bac",
   "metadata": {
    "id": "cac470df-29e7-4148-9bbd-d8b9a32fa570",
    "tags": []
   },
   "source": [
    "# Earthquake_standardization (guebin)\n",
    "> Non-Euclidean geometry\n",
    "\n",
    "- toc:true\n",
    "- branch: master\n",
    "- badges: true\n",
    "- comments: false\n",
    "- author: 최서연, 최규빈\n",
    "- categories: [Graph Laplacian, PCA, eigendecomposition]"
   ]
  },
  {
   "cell_type": "code",
   "execution_count": 1,
   "id": "b30626d5-def9-46a5-97dd-de50e0995194",
   "metadata": {},
   "outputs": [],
   "source": [
    "import tqdm"
   ]
  },
  {
   "cell_type": "code",
   "execution_count": 2,
   "id": "f4cbc022-5d75-4201-9427-46a79ed76844",
   "metadata": {},
   "outputs": [],
   "source": [
    "import numpy as np\n",
    "import pandas as pd\n",
    "import matplotlib.pyplot as plt \n",
    "import networkx as nx"
   ]
  },
  {
   "cell_type": "code",
   "execution_count": 3,
   "id": "6f353686-08a5-4dc4-9b99-fb96ce63c7c1",
   "metadata": {},
   "outputs": [],
   "source": [
    "import time "
   ]
  },
  {
   "cell_type": "code",
   "execution_count": 4,
   "id": "4ccab044-6f2e-4bbf-aa79-8172e117d6ed",
   "metadata": {},
   "outputs": [],
   "source": [
    "import warnings\n",
    "warnings.simplefilter(\"ignore\", np.ComplexWarning)"
   ]
  },
  {
   "cell_type": "code",
   "execution_count": 5,
   "id": "6a1f43b5-8c2f-4dc3-97c6-468f08231aef",
   "metadata": {},
   "outputs": [],
   "source": [
    "from haversine import haversine"
   ]
  },
  {
   "cell_type": "markdown",
   "id": "3261f833-5d30-45db-a51d-debffce01698",
   "metadata": {},
   "source": [
    "##### 1. Data"
   ]
  },
  {
   "cell_type": "code",
   "execution_count": 6,
   "id": "0d11f6c2-342b-4e76-9bd8-fda5079406a6",
   "metadata": {},
   "outputs": [],
   "source": [
    "df = pd.read_csv('https://raw.githubusercontent.com/plotly/datasets/master/earthquakes-23k.csv')"
   ]
  },
  {
   "cell_type": "code",
   "execution_count": 7,
   "id": "0910e5ea-6e0e-49d2-893b-fc04a47df73c",
   "metadata": {},
   "outputs": [],
   "source": [
    "_df = df.assign(Year=list(map(lambda x: x.split('/')[-1], df.Date))).query('Year>=\"2004\" & Year<=\"2011\"').reset_index().iloc[:,1:]"
   ]
  },
  {
   "cell_type": "code",
   "execution_count": 8,
   "id": "26b656ff-2b4e-494e-87f3-4374886adcb4",
   "metadata": {},
   "outputs": [],
   "source": [
    "N=len(_df)"
   ]
  },
  {
   "cell_type": "markdown",
   "id": "936be994-6000-403c-9d32-56c0ac6e563d",
   "metadata": {
    "tags": []
   },
   "source": [
    "##### 2. $f(x)$ "
   ]
  },
  {
   "cell_type": "code",
   "execution_count": 112,
   "id": "99e060f7-b36b-45bf-9480-39483515ebb7",
   "metadata": {},
   "outputs": [],
   "source": [
    "f_true = _df.loc[:,\"Magnitude\"]"
   ]
  },
  {
   "cell_type": "code",
   "execution_count": 113,
   "id": "6860f192-ff61-4020-8793-ef8b258ae495",
   "metadata": {
    "tags": []
   },
   "outputs": [],
   "source": [
    "f = (f_true-f_true.mean())/f_true.std()"
   ]
  },
  {
   "cell_type": "code",
   "execution_count": 8,
   "id": "788a3505-d049-4847-80fd-45b710255b49",
   "metadata": {},
   "outputs": [
    {
     "data": {
      "text/plain": [
       "4515.999999999998"
      ]
     },
     "execution_count": 8,
     "metadata": {},
     "output_type": "execute_result"
    }
   ],
   "source": [
    "f@f ## SST "
   ]
  },
  {
   "cell_type": "code",
   "execution_count": 9,
   "id": "70b8caf2-11de-44f0-b6a4-64830da16a0d",
   "metadata": {},
   "outputs": [
    {
     "data": {
      "text/plain": [
       "4515.999999999998"
      ]
     },
     "execution_count": 9,
     "metadata": {},
     "output_type": "execute_result"
    }
   ],
   "source": [
    "(f-np.mean(f))@(f-np.mean(f)) ## SSE"
   ]
  },
  {
   "cell_type": "code",
   "execution_count": 10,
   "id": "1bc84df5-ae4c-40ec-a35d-a261cc4ba0bc",
   "metadata": {},
   "outputs": [
    {
     "data": {
      "text/plain": [
       "1.788340861072209e-29"
      ]
     },
     "execution_count": 10,
     "metadata": {},
     "output_type": "execute_result"
    }
   ],
   "source": [
    "(f*0-np.mean(f))@(f*0-np.mean(f)) ## SSH"
   ]
  },
  {
   "cell_type": "markdown",
   "id": "4f185c78-ba52-4910-828b-c6e256491127",
   "metadata": {
    "tags": []
   },
   "source": [
    "##### 3. Haversine Fomula 사용한 거리 정의"
   ]
  },
  {
   "cell_type": "code",
   "execution_count": 15,
   "id": "c715fdc7-916d-4b6d-ad60-86cb3ab582cd",
   "metadata": {},
   "outputs": [],
   "source": [
    "# def dist(i,j):\n",
    "#     lat = np.array(_df.Latitude)\n",
    "#     long = np.array(_df.Longitude)\n",
    "#     return haversine((lat[i],long[i]),(lat[j],long[j]))"
   ]
  },
  {
   "cell_type": "code",
   "execution_count": 16,
   "id": "356fc02e-52b3-4d90-b782-437fecc82306",
   "metadata": {},
   "outputs": [],
   "source": [
    "locations = np.array(_df.iloc[:,[1,2]])"
   ]
  },
  {
   "cell_type": "code",
   "execution_count": 17,
   "id": "3666445f-6614-4ca5-8b07-c6aaecda5fbf",
   "metadata": {},
   "outputs": [],
   "source": [
    "dist_matrix = np.zeros((N,N))"
   ]
  },
  {
   "cell_type": "code",
   "execution_count": 18,
   "id": "4c1cc374-fbab-4101-9d86-51aae832b959",
   "metadata": {},
   "outputs": [],
   "source": [
    "for i in range(N):\n",
    "    for j in range(i,N): \n",
    "        dist_matrix[i,j]=haversine(locations[i],locations[j])"
   ]
  },
  {
   "cell_type": "code",
   "execution_count": 19,
   "id": "3594035b-9386-482a-bb03-24a05e49e52d",
   "metadata": {},
   "outputs": [],
   "source": [
    "dist_matrix = dist_matrix + dist_matrix.T"
   ]
  },
  {
   "cell_type": "code",
   "execution_count": 20,
   "id": "70a9a61a-ec7a-4725-ba25-9613809f037b",
   "metadata": {},
   "outputs": [
    {
     "data": {
      "text/plain": [
       "array([[    0.        ,  5961.60560635, 10594.64532549, ...,\n",
       "          283.48765909, 10831.08154775,  5512.17788275],\n",
       "       [ 5961.60560635,     0.        , 15875.7469962 , ...,\n",
       "         5819.50260123,  6953.06020638,  9935.96013871],\n",
       "       [10594.64532549, 15875.7469962 ,     0.        , ...,\n",
       "        10636.49108416, 12127.14372591,  9114.83672805],\n",
       "       ...,\n",
       "       [  283.48765909,  5819.50260123, 10636.49108416, ...,\n",
       "            0.        , 10553.19437367,  5793.83248054],\n",
       "       [10831.08154775,  6953.06020638, 12127.14372591, ...,\n",
       "        10553.19437367,     0.        , 16312.45397939],\n",
       "       [ 5512.17788275,  9935.96013871,  9114.83672805, ...,\n",
       "         5793.83248054, 16312.45397939,     0.        ]])"
      ]
     },
     "execution_count": 20,
     "metadata": {},
     "output_type": "execute_result"
    }
   ],
   "source": [
    "dist_matrix"
   ]
  },
  {
   "cell_type": "markdown",
   "id": "6df9996b-e928-4e94-b6d6-283f21d2454b",
   "metadata": {},
   "source": [
    "##### 4. Definition of a weighted adjacency matrix $W$"
   ]
  },
  {
   "cell_type": "markdown",
   "id": "b4a95968-c267-4ead-8316-610533a9dc2a",
   "metadata": {},
   "source": [
    "$$W_{u,v}=\\begin{cases}{exp(-\\frac{[dist(u,v)]^2}{2\\theta^2})} & \\quad \\text{if } dist(u,v) \\leq κ \\\\ 0 & \\quad \\text{otherwise} \\end{cases}$$"
   ]
  },
  {
   "cell_type": "code",
   "execution_count": 21,
   "id": "d393f720-c59b-4e68-9c7b-8fdd9029a2bf",
   "metadata": {},
   "outputs": [],
   "source": [
    "# def weight(i,j,theta=100000,kappa=100000):\n",
    "#     return np.exp( -np.abs(dist(i,j))**2 / (2*theta**2) ) if dist(i,j) <= kappa else 0"
   ]
  },
  {
   "cell_type": "code",
   "execution_count": 272,
   "id": "f775c3ec-a533-4e7c-b00e-87ec966c02a6",
   "metadata": {},
   "outputs": [],
   "source": [
    "theta,kappa = 5000, 100000"
   ]
  },
  {
   "cell_type": "code",
   "execution_count": 273,
   "id": "3e716c7b-1f2d-4362-9315-6dc31bddb383",
   "metadata": {},
   "outputs": [],
   "source": [
    "W = np.exp( -(dist_matrix/theta)**2)"
   ]
  },
  {
   "cell_type": "code",
   "execution_count": 274,
   "id": "8d6e1afd-bbed-4cc9-9b05-96c77e62db78",
   "metadata": {},
   "outputs": [
    {
     "data": {
      "text/plain": [
       "(array([10841178.,  1969350.,  1480598.,  1008046.,   847840.,   747678.,\n",
       "          679964.,   598564.,   718380.,  1511691.]),\n",
       " array([1.11428422e-07, 1.00000100e-01, 2.00000089e-01, 3.00000078e-01,\n",
       "        4.00000067e-01, 5.00000056e-01, 6.00000045e-01, 7.00000033e-01,\n",
       "        8.00000022e-01, 9.00000011e-01, 1.00000000e+00]),\n",
       " <BarContainer object of 10 artists>)"
      ]
     },
     "execution_count": 274,
     "metadata": {},
     "output_type": "execute_result"
    },
    {
     "data": {
      "image/png": "[encoded data removed]",
      "text/plain": [
       "<Figure size 432x288 with 1 Axes>"
      ]
     },
     "metadata": {
      "needs_background": "light"
     },
     "output_type": "display_data"
    }
   ],
   "source": [
    "plt.hist(W.reshape(-1))"
   ]
  },
  {
   "cell_type": "markdown",
   "id": "0d25eae0-8af8-4141-8d41-004b011dbf08",
   "metadata": {},
   "source": [
    "##### 5. The weight edge function with temporal edge $(v_t,v_{t+1})$"
   ]
  },
  {
   "cell_type": "markdown",
   "id": "d9deb546-963d-480e-97fe-efc1811cb75c",
   "metadata": {},
   "source": [
    "$$W_{u_r,v_s}=\\begin{cases} {W_{u,v}} & \\quad \\text{ if }  u,v \\in V_t  \\\\ W_{u,v} \\odot \\beta  & \\quad \\text{if }u=v \\text{ and } r=s-1 \\\\ 0 & \\quad \\text{otherwise} \\end{cases}$$"
   ]
  },
  {
   "cell_type": "code",
   "execution_count": 275,
   "id": "bac04d2b-1de1-42a7-9c6e-4e4083d4304a",
   "metadata": {},
   "outputs": [],
   "source": [
    "# def beta(i,j,b):\n",
    "#     if _df.Year[i] == _df.Year[j]:\n",
    "#         return 1\n",
    "#     elif abs(int(_df.Year[i]) - int(_df.Year[j])) == 1:\n",
    "#         return b\n",
    "#     else:\n",
    "#         return 0"
   ]
  },
  {
   "cell_type": "code",
   "execution_count": 276,
   "id": "866b150d-eb6d-4383-a5ff-cccf98fa05e7",
   "metadata": {},
   "outputs": [
    {
     "data": {
      "text/html": [
       "<div>\n",
       "<style scoped>\n",
       "    .dataframe tbody tr th:only-of-type {\n",
       "        vertical-align: middle;\n",
       "    }\n",
       "\n",
       "    .dataframe tbody tr th {\n",
       "        vertical-align: top;\n",
       "    }\n",
       "\n",
       "    .dataframe thead th {\n",
       "        text-align: right;\n",
       "    }\n",
       "</style>\n",
       "<table border=\"1\" class=\"dataframe\">\n",
       "  <thead>\n",
       "    <tr style=\"text-align: right;\">\n",
       "      <th></th>\n",
       "      <th>Date</th>\n",
       "      <th>Latitude</th>\n",
       "      <th>Longitude</th>\n",
       "      <th>Magnitude</th>\n",
       "    </tr>\n",
       "    <tr>\n",
       "      <th>Year</th>\n",
       "      <th></th>\n",
       "      <th></th>\n",
       "      <th></th>\n",
       "      <th></th>\n",
       "    </tr>\n",
       "  </thead>\n",
       "  <tbody>\n",
       "    <tr>\n",
       "      <th>2004</th>\n",
       "      <td>571</td>\n",
       "      <td>571</td>\n",
       "      <td>571</td>\n",
       "      <td>571</td>\n",
       "    </tr>\n",
       "    <tr>\n",
       "      <th>2005</th>\n",
       "      <td>533</td>\n",
       "      <td>533</td>\n",
       "      <td>533</td>\n",
       "      <td>533</td>\n",
       "    </tr>\n",
       "    <tr>\n",
       "      <th>2006</th>\n",
       "      <td>508</td>\n",
       "      <td>508</td>\n",
       "      <td>508</td>\n",
       "      <td>508</td>\n",
       "    </tr>\n",
       "    <tr>\n",
       "      <th>2007</th>\n",
       "      <td>608</td>\n",
       "      <td>608</td>\n",
       "      <td>608</td>\n",
       "      <td>608</td>\n",
       "    </tr>\n",
       "    <tr>\n",
       "      <th>2008</th>\n",
       "      <td>508</td>\n",
       "      <td>508</td>\n",
       "      <td>508</td>\n",
       "      <td>508</td>\n",
       "    </tr>\n",
       "    <tr>\n",
       "      <th>2009</th>\n",
       "      <td>517</td>\n",
       "      <td>517</td>\n",
       "      <td>517</td>\n",
       "      <td>517</td>\n",
       "    </tr>\n",
       "    <tr>\n",
       "      <th>2010</th>\n",
       "      <td>560</td>\n",
       "      <td>560</td>\n",
       "      <td>560</td>\n",
       "      <td>560</td>\n",
       "    </tr>\n",
       "    <tr>\n",
       "      <th>2011</th>\n",
       "      <td>712</td>\n",
       "      <td>712</td>\n",
       "      <td>712</td>\n",
       "      <td>712</td>\n",
       "    </tr>\n",
       "  </tbody>\n",
       "</table>\n",
       "</div>"
      ],
      "text/plain": [
       "      Date  Latitude  Longitude  Magnitude\n",
       "Year                                      \n",
       "2004   571       571        571        571\n",
       "2005   533       533        533        533\n",
       "2006   508       508        508        508\n",
       "2007   608       608        608        608\n",
       "2008   508       508        508        508\n",
       "2009   517       517        517        517\n",
       "2010   560       560        560        560\n",
       "2011   712       712        712        712"
      ]
     },
     "execution_count": 276,
     "metadata": {},
     "output_type": "execute_result"
    }
   ],
   "source": [
    "_df.groupby(\"Year\").aggregate(len)"
   ]
  },
  {
   "cell_type": "code",
   "execution_count": 277,
   "id": "8ba17092-6977-4e0d-8b60-505ebdc803bc",
   "metadata": {},
   "outputs": [],
   "source": [
    "Nlst = _df.groupby(\"Year\").aggregate(len).Date.tolist()\n",
    "Nlst = [0]+np.cumsum(Nlst).tolist()"
   ]
  },
  {
   "cell_type": "code",
   "execution_count": 278,
   "id": "d69bffdd-9211-4469-ba2a-899735b9efb8",
   "metadata": {},
   "outputs": [
    {
     "data": {
      "text/plain": [
       "[0, 571, 1104, 1612, 2220, 2728, 3245, 3805, 4517]"
      ]
     },
     "execution_count": 278,
     "metadata": {},
     "output_type": "execute_result"
    }
   ],
   "source": [
    "Nlst"
   ]
  },
  {
   "cell_type": "code",
   "execution_count": 279,
   "id": "08c5dc46-ea12-4a89-ad05-bf8406995c86",
   "metadata": {},
   "outputs": [
    {
     "data": {
      "text/plain": [
       "array([[0., 0., 0., ..., 0., 0., 0.],\n",
       "       [0., 0., 0., ..., 0., 0., 0.],\n",
       "       [0., 0., 0., ..., 0., 0., 0.],\n",
       "       ...,\n",
       "       [0., 0., 0., ..., 0., 0., 0.],\n",
       "       [0., 0., 0., ..., 0., 0., 0.],\n",
       "       [0., 0., 0., ..., 0., 0., 0.]])"
      ]
     },
     "execution_count": 279,
     "metadata": {},
     "output_type": "execute_result"
    }
   ],
   "source": [
    "beta =np.zeros((N,N))\n",
    "beta"
   ]
  },
  {
   "cell_type": "code",
   "execution_count": 280,
   "id": "ec62bf32-0005-4869-b945-c26d58e025ae",
   "metadata": {},
   "outputs": [],
   "source": [
    "for i in range(len(Nlst)-1):\n",
    "    beta[Nlst[i]:Nlst[i+1],Nlst[i]:Nlst[i+1]]= 1"
   ]
  },
  {
   "cell_type": "code",
   "execution_count": 281,
   "id": "a0855fe7-c3f7-4f6f-92e0-5fb375962ece",
   "metadata": {},
   "outputs": [
    {
     "data": {
      "text/plain": [
       "array([[1., 1., 1., ..., 0., 0., 0.],\n",
       "       [1., 1., 1., ..., 0., 0., 0.],\n",
       "       [1., 1., 1., ..., 0., 0., 0.],\n",
       "       ...,\n",
       "       [0., 0., 0., ..., 1., 1., 1.],\n",
       "       [0., 0., 0., ..., 1., 1., 1.],\n",
       "       [0., 0., 0., ..., 1., 1., 1.]])"
      ]
     },
     "execution_count": 281,
     "metadata": {},
     "output_type": "execute_result"
    }
   ],
   "source": [
    "beta"
   ]
  },
  {
   "cell_type": "code",
   "execution_count": 282,
   "id": "249b177f-cebf-408f-a609-a7f53f1c409b",
   "metadata": {},
   "outputs": [],
   "source": [
    "W = W * beta"
   ]
  },
  {
   "cell_type": "code",
   "execution_count": 283,
   "id": "1bbe5f78-91f9-4ff2-824f-f8e94a6e9398",
   "metadata": {},
   "outputs": [
    {
     "data": {
      "text/plain": [
       "<matplotlib.image.AxesImage at 0x7fc9ec6bcbb0>"
      ]
     },
     "execution_count": 283,
     "metadata": {},
     "output_type": "execute_result"
    },
    {
     "data": {
      "image/png": "[encoded data removed]",
      "text/plain": [
       "<Figure size 432x288 with 1 Axes>"
      ]
     },
     "metadata": {
      "needs_background": "light"
     },
     "output_type": "display_data"
    }
   ],
   "source": [
    "plt.imshow(W)"
   ]
  },
  {
   "cell_type": "markdown",
   "id": "2f266d2b-a4cd-4b84-8568-c524cc0932f3",
   "metadata": {},
   "source": [
    "##### 6. Definition of Graph Laplacian matrix\n",
    "- $L = D - W$"
   ]
  },
  {
   "cell_type": "code",
   "execution_count": 284,
   "id": "5e8e3a5c-441c-4b77-b0e2-dde3f7560bc2",
   "metadata": {},
   "outputs": [],
   "source": [
    "d = W.sum(axis=1)\n",
    "D = np.diag(d)"
   ]
  },
  {
   "cell_type": "code",
   "execution_count": 285,
   "id": "c294cd41-abbd-4860-9c8e-0dffffe0f911",
   "metadata": {},
   "outputs": [],
   "source": [
    "#L = D - W\n",
    "L = np.diag(1/np.sqrt(d)) @ (D-W) @ np.diag(1/np.sqrt(d))"
   ]
  },
  {
   "cell_type": "markdown",
   "id": "16292bd0-c0b1-414c-961d-a14aef400748",
   "metadata": {},
   "source": [
    "##### 7. Eigendecomposition\n",
    "- ${\\bf L} = {\\boldsymbol\\Psi} {\\boldsymbol\\Lambda} {\\boldsymbol\\Psi}^\\top$"
   ]
  },
  {
   "cell_type": "code",
   "execution_count": 286,
   "id": "02700222-adeb-4888-9f11-25d5caf09574",
   "metadata": {},
   "outputs": [],
   "source": [
    "λ, Ψ = np.linalg.eig(L)"
   ]
  },
  {
   "cell_type": "code",
   "execution_count": 287,
   "id": "8f346fd8-ca40-4498-966f-40e6d4669c2f",
   "metadata": {},
   "outputs": [],
   "source": [
    "Λ = np.diag(λ)"
   ]
  },
  {
   "cell_type": "markdown",
   "id": "e0f1c48a-ba26-4307-a515-00c74e15e9e0",
   "metadata": {},
   "source": [
    "##### 8. Principal components Analysis"
   ]
  },
  {
   "cell_type": "markdown",
   "id": "3c2eee04-2d19-457c-a4f9-3e4956d48a25",
   "metadata": {
    "tags": []
   },
   "source": [
    "- $comp_k = f @ np.outer(Ψ[:,k], Ψ[:,k]) $\n",
    "    - $k = 1, 2, 3, n$\n",
    "- $p = \\sum_{1}^{n} comp_{1}^{2},\\sum_{1}^{n} comp_{2}^{2},…,\\sum_{1}^{n} comp_{n}^{2}$\n",
    "- $p = \\frac{p}{\\sum(p)}$"
   ]
  },
  {
   "cell_type": "code",
   "execution_count": 288,
   "id": "6ce713cd-07d3-456a-a114-73abeed57725",
   "metadata": {},
   "outputs": [
    {
     "name": "stderr",
     "output_type": "stream",
     "text": [
      "100%|██████████| 4517/4517 [02:47<00:00, 27.00it/s]\n"
     ]
    }
   ],
   "source": [
    "fhats=[np.outer( Ψ.real[:,i], Ψ.real[:,i]) @ f for i in tqdm.tqdm(range(N))]\n",
    "fhats=np.array(fhats)"
   ]
  },
  {
   "cell_type": "code",
   "execution_count": 306,
   "id": "8b89517f-ae01-4990-b5e4-f88d0c32cb84",
   "metadata": {},
   "outputs": [
    {
     "data": {
      "text/plain": [
       "array([-3.14177377e+01,  2.35078786e+00, -6.17243810e-01, ...,\n",
       "       -9.22920450e-08, -5.02777717e-08, -1.35695836e-08])"
      ]
     },
     "execution_count": 306,
     "metadata": {},
     "output_type": "execute_result"
    }
   ],
   "source": [
    "fhats.sum(axis=1)"
   ]
  },
  {
   "cell_type": "code",
   "execution_count": 289,
   "id": "07621a3d-76ec-4d28-9512-2a84acbd3796",
   "metadata": {},
   "outputs": [],
   "source": [
    "powers=np.apply_along_axis(lambda x: np.sum(x**2), 1, fhats)"
   ]
  },
  {
   "cell_type": "code",
   "execution_count": 290,
   "id": "3c2478b7-11e0-4f2f-b00f-da015fa3133f",
   "metadata": {},
   "outputs": [
    {
     "data": {
      "text/plain": [
       "[<matplotlib.lines.Line2D at 0x7fc9ec5fe5b0>]"
      ]
     },
     "execution_count": 290,
     "metadata": {},
     "output_type": "execute_result"
    },
    {
     "data": {
      "image/png": "[encoded data removed]",
      "text/plain": [
       "<Figure size 432x288 with 1 Axes>"
      ]
     },
     "metadata": {
      "needs_background": "light"
     },
     "output_type": "display_data"
    }
   ],
   "source": [
    "plt.plot(λ,powers,'o')"
   ]
  },
  {
   "cell_type": "code",
   "execution_count": 291,
   "id": "69085f3e-4d6e-45b8-ae81-9e58c222720d",
   "metadata": {},
   "outputs": [
    {
     "data": {
      "text/plain": [
       "0.8016982954456664"
      ]
     },
     "execution_count": 291,
     "metadata": {},
     "output_type": "execute_result"
    }
   ],
   "source": [
    "powers[powers>1].sum() / powers.sum()"
   ]
  },
  {
   "cell_type": "code",
   "execution_count": 292,
   "id": "444e69cc-d1f3-48f2-8749-caa55742e6d3",
   "metadata": {},
   "outputs": [
    {
     "data": {
      "text/plain": [
       "1381"
      ]
     },
     "execution_count": 292,
     "metadata": {},
     "output_type": "execute_result"
    }
   ],
   "source": [
    "sum(powers>1)"
   ]
  },
  {
   "cell_type": "code",
   "execution_count": 293,
   "id": "688bdf2b-0a25-4ef8-8c52-9fc812bdd182",
   "metadata": {},
   "outputs": [],
   "source": [
    "fhats2=fhats.copy()"
   ]
  },
  {
   "cell_type": "code",
   "execution_count": 294,
   "id": "6376016d-a860-40da-bbca-72c23b16da0e",
   "metadata": {},
   "outputs": [],
   "source": [
    "fhats2[np.where(powers<1)]=0"
   ]
  },
  {
   "cell_type": "code",
   "execution_count": 295,
   "id": "1ac1f2bf-8059-496f-923c-c9ca95b58df5",
   "metadata": {},
   "outputs": [
    {
     "data": {
      "text/plain": [
       "array([[-6.54309557e-02, -6.52829220e-02, -3.41066218e-02, ...,\n",
       "         0.00000000e+00,  0.00000000e+00,  0.00000000e+00],\n",
       "       [ 0.00000000e+00,  0.00000000e+00,  0.00000000e+00, ...,\n",
       "         0.00000000e+00,  0.00000000e+00,  0.00000000e+00],\n",
       "       [ 0.00000000e+00,  0.00000000e+00,  0.00000000e+00, ...,\n",
       "         0.00000000e+00,  0.00000000e+00,  0.00000000e+00],\n",
       "       ...,\n",
       "       [ 0.00000000e+00,  0.00000000e+00,  0.00000000e+00, ...,\n",
       "        -3.21769993e-02,  4.11878944e-05, -1.56734109e-02],\n",
       "       [ 0.00000000e+00,  0.00000000e+00,  0.00000000e+00, ...,\n",
       "         2.91099820e-02, -2.33977849e-04, -1.53497150e-02],\n",
       "       [ 0.00000000e+00,  0.00000000e+00,  0.00000000e+00, ...,\n",
       "         0.00000000e+00,  0.00000000e+00,  0.00000000e+00]])"
      ]
     },
     "execution_count": 295,
     "metadata": {},
     "output_type": "execute_result"
    }
   ],
   "source": [
    "fhats2"
   ]
  },
  {
   "cell_type": "code",
   "execution_count": 302,
   "id": "edefd875-dcbf-4c20-80f1-6cd03f98ca58",
   "metadata": {},
   "outputs": [
    {
     "data": {
      "text/plain": [
       "[<matplotlib.lines.Line2D at 0x7fc9ec4cfbb0>]"
      ]
     },
     "execution_count": 302,
     "metadata": {},
     "output_type": "execute_result"
    },
    {
     "data": {
      "image/png": "[encoded data removed]",
      "text/plain": [
       "<Figure size 432x288 with 1 Axes>"
      ]
     },
     "metadata": {
      "needs_background": "light"
     },
     "output_type": "display_data"
    }
   ],
   "source": [
    "plt.plot(f,'o')\n",
    "plt.plot(fhats.sum(axis=0),'x')"
   ]
  },
  {
   "cell_type": "code",
   "execution_count": 233,
   "id": "d50cb4fd-cd51-4c11-b911-a06c818102f5",
   "metadata": {},
   "outputs": [
    {
     "data": {
      "text/plain": [
       "255"
      ]
     },
     "execution_count": 233,
     "metadata": {},
     "output_type": "execute_result"
    }
   ],
   "source": [
    "(np.argwhere(powers>1).reshape(-1)<1000).sum()"
   ]
  },
  {
   "cell_type": "code",
   "execution_count": 234,
   "id": "dd031082-39ed-43ee-8cd9-eb6440988b69",
   "metadata": {},
   "outputs": [
    {
     "data": {
      "text/plain": [
       "array([[   0],\n",
       "       [   3],\n",
       "       [   7],\n",
       "       ...,\n",
       "       [4511],\n",
       "       [4515],\n",
       "       [4516]])"
      ]
     },
     "execution_count": 234,
     "metadata": {},
     "output_type": "execute_result"
    }
   ],
   "source": [
    "np.argwhere(powers>1)"
   ]
  },
  {
   "cell_type": "code",
   "execution_count": null,
   "id": "cad3324d-269c-452b-b3a4-446f2199b275",
   "metadata": {},
   "outputs": [],
   "source": []
  },
  {
   "cell_type": "code",
   "execution_count": null,
   "id": "bbc17002-2563-4c76-b0d8-994d2ee5bc5e",
   "metadata": {},
   "outputs": [],
   "source": []
  },
  {
   "cell_type": "code",
   "execution_count": null,
   "id": "ae6e1368-0e36-499b-b5e7-85e66a64102e",
   "metadata": {},
   "outputs": [],
   "source": []
  },
  {
   "cell_type": "code",
   "execution_count": null,
   "id": "959b294a-fef3-4534-b8bc-e7c2f6960355",
   "metadata": {},
   "outputs": [],
   "source": []
  },
  {
   "cell_type": "code",
   "execution_count": null,
   "id": "6b8a28c0-f470-4e1f-a667-948d064b8ea0",
   "metadata": {},
   "outputs": [],
   "source": []
  },
  {
   "cell_type": "code",
   "execution_count": null,
   "id": "f5aa7919-c906-4c07-af9f-4d424984a666",
   "metadata": {},
   "outputs": [],
   "source": []
  },
  {
   "cell_type": "code",
   "execution_count": null,
   "id": "e25ddaa9-981e-4017-846d-ef5cb7155f9b",
   "metadata": {},
   "outputs": [],
   "source": [
    "def p(i):\n",
    "    return np.sum((f @ np.outer( Ψ[:,i], Ψ[:,i]))**2)"
   ]
  },
  {
   "cell_type": "code",
   "execution_count": null,
   "id": "9a9d1d21-c683-4286-9f3d-f15971b74ed4",
   "metadata": {},
   "outputs": [],
   "source": [
    "array_1 = np.array([p(i) for i in range(N)])"
   ]
  },
  {
   "cell_type": "code",
   "execution_count": null,
   "id": "0d504b17-7fea-4fc6-903a-506d3b127b84",
   "metadata": {},
   "outputs": [],
   "source": []
  },
  {
   "cell_type": "code",
   "execution_count": null,
   "id": "a3f523ae-03c4-4de8-b1d0-2f1f6e012ac3",
   "metadata": {},
   "outputs": [],
   "source": [
    "varprop = array_1/array_1.sum()\n",
    "_index = pd.DataFrame({'index':range(1,len(_df)),'varprop':varprop}).sort_values('varprop',ascending=False)\n",
    "_indexlst = _index.iloc[:25,0].tolist()"
   ]
  },
  {
   "cell_type": "code",
   "execution_count": null,
   "id": "a11e3c96-599c-4914-9d16-0f119555f6e9",
   "metadata": {},
   "outputs": [],
   "source": [
    "array_1"
   ]
  },
  {
   "cell_type": "code",
   "execution_count": null,
   "id": "72ec41f0-2a2d-45b5-88f4-c94b44328bd1",
   "metadata": {},
   "outputs": [],
   "source": [
    "_df[\"comp1\"] = f @ np.outer( Ψ[:,0], Ψ[:,0])\n",
    "_df[\"comp2\"] = f @ np.outer( Ψ[:,_indexlst[0]], Ψ[:,_indexlst[0]])\n",
    "_df[\"comp3\"] = f @ np.outer( Ψ[:,_indexlst[1]], Ψ[:,_indexlst[1]])\n",
    "_df[\"comp4\"] = f @ np.outer( Ψ[:,_indexlst[2]], Ψ[:,_indexlst[2]])\n",
    "_df[\"comp5\"] = f @ np.outer( Ψ[:,_indexlst[3]], Ψ[:,_indexlst[3]])\n",
    "_df[\"comp6\"] = f @ np.outer( Ψ[:,_indexlst[4]], Ψ[:,_indexlst[4]])\n",
    "_df[\"comp7\"] = f @ np.outer( Ψ[:,_indexlst[5]], Ψ[:,_indexlst[5]])"
   ]
  },
  {
   "cell_type": "markdown",
   "id": "075184e6-22d5-48ad-8f01-6e4415ffd46a",
   "metadata": {
    "tags": []
   },
   "source": [
    "##### **2004**, $n=571$"
   ]
  },
  {
   "cell_type": "code",
   "execution_count": null,
   "id": "a1c610b6-2c6d-4108-ad30-8b4cafc30b72",
   "metadata": {},
   "outputs": [],
   "source": [
    "_G1 = nx.Graph(_W[:len(_df.query('Year<=\"2004\"')),:len(_df.query('Year<=\"2004\"'))]-np.identity(len(_df.query('Year==\"2004\"'))))\n",
    "_pos1 = nx.spring_layout(_G1,iterations=20)\n",
    "m_pos1 = list(zip(_df.query('Year==\"2004\"').Longitude,_df.query('Year==\"2004\"').Latitude))"
   ]
  },
  {
   "cell_type": "code",
   "execution_count": null,
   "id": "14551652-eec8-4f9f-83c7-6d0bd8799bdf",
   "metadata": {},
   "outputs": [],
   "source": [
    "#collapse\n",
    "with plt.style.context('seaborn-dark'):\n",
    "    fig,ax = plt.subplots(figsize = (16,8))\n",
    "    nodes = nx.draw_networkx_nodes(_G1,m_pos1,node_color=_df.query('Year==\"2004\"').comp1,node_size = 10, ax=ax,cmap='bwr')\n",
    "    plt.colorbar(nodes)\n",
    "    plt.axis()\n",
    "    ax.set_axis_on()\n",
    "    ax.tick_params(left=True, bottom=True, labelleft=True, labelbottom=True)\n",
    "plt.show()"
   ]
  },
  {
   "cell_type": "code",
   "execution_count": null,
   "id": "3786a073-e349-4e96-9ccf-6b5d05caf5a4",
   "metadata": {
    "tags": []
   },
   "outputs": [],
   "source": [
    "#collapse\n",
    "with plt.style.context('seaborn-dark'):\n",
    "    fig,ax = plt.subplots(figsize = (16,8))\n",
    "    nodes = nx.draw_networkx_nodes(_G1,m_pos1,node_color=_df.query('Year==\"2004\"').comp2,node_size = 10,ax=ax,cmap='bwr')\n",
    "    plt.colorbar(nodes)\n",
    "    plt.axis()\n",
    "    ax.set_axis_on()\n",
    "    ax.tick_params(left=True, bottom=True, labelleft=True, labelbottom=True)\n",
    "plt.show()"
   ]
  },
  {
   "cell_type": "code",
   "execution_count": null,
   "id": "dd95e4a7-2666-487d-a648-c59bc7e37b4d",
   "metadata": {
    "tags": []
   },
   "outputs": [],
   "source": [
    "#collapse\n",
    "with plt.style.context('seaborn-dark'):\n",
    "    fig,ax = plt.subplots(figsize = (16,8))\n",
    "    nodes = nx.draw_networkx_nodes(_G1,m_pos1,node_color=_df.query('Year==\"2004\"').comp3,node_size = 10, ax=ax,cmap='bwr')\n",
    "    plt.colorbar(nodes)\n",
    "    plt.axis()\n",
    "    ax.set_axis_on()\n",
    "    ax.tick_params(left=True, bottom=True, labelleft=True, labelbottom=True)\n",
    "plt.show()"
   ]
  },
  {
   "cell_type": "code",
   "execution_count": null,
   "id": "646d7f5a-9e37-4f07-b7d9-0cb3280c2bf2",
   "metadata": {
    "tags": []
   },
   "outputs": [],
   "source": [
    "#collapse\n",
    "with plt.style.context('seaborn-dark'):\n",
    "    fig,ax = plt.subplots(figsize = (16,8))\n",
    "    nodes = nx.draw_networkx_nodes(_G1,m_pos1,node_color=_df.query('Year==\"2004\"').comp4,node_size = 10, ax=ax,cmap='bwr')\n",
    "    plt.colorbar(nodes)\n",
    "    plt.axis()\n",
    "    ax.set_axis_on()\n",
    "    ax.tick_params(left=True, bottom=True, labelleft=True, labelbottom=True)\n",
    "plt.show()"
   ]
  },
  {
   "cell_type": "code",
   "execution_count": null,
   "id": "5427aaca-fe90-4343-aeb7-e5b18ab7e379",
   "metadata": {
    "tags": []
   },
   "outputs": [],
   "source": [
    "#collapse\n",
    "with plt.style.context('seaborn-dark'):\n",
    "    fig,ax = plt.subplots(figsize = (16,8))\n",
    "    nodes = nx.draw_networkx_nodes(_G1,m_pos1,node_color=_df.query('Year==\"2004\"').comp5,node_size = 10, ax=ax,cmap='bwr')\n",
    "    plt.colorbar(nodes)\n",
    "    plt.axis()\n",
    "    ax.set_axis_on()\n",
    "    ax.tick_params(left=True, bottom=True, labelleft=True, labelbottom=True)\n",
    "plt.show()"
   ]
  },
  {
   "cell_type": "code",
   "execution_count": null,
   "id": "f1024e29-d637-45c5-a79b-308f0fc743eb",
   "metadata": {
    "tags": []
   },
   "outputs": [],
   "source": [
    "#collapse\n",
    "with plt.style.context('seaborn-dark'):\n",
    "    fig,ax = plt.subplots(figsize = (16,8))\n",
    "    nodes = nx.draw_networkx_nodes(_G1,m_pos1,node_color=_df.query('Year==\"2004\"').comp6,node_size = 10, ax=ax,cmap='bwr')\n",
    "    plt.colorbar(nodes)\n",
    "    plt.axis()\n",
    "    ax.set_axis_on()\n",
    "    ax.tick_params(left=True, bottom=True, labelleft=True, labelbottom=True)\n",
    "plt.show()"
   ]
  },
  {
   "cell_type": "code",
   "execution_count": null,
   "id": "579ccb46-2930-4df8-bf82-c3dd14d4e63a",
   "metadata": {
    "tags": []
   },
   "outputs": [],
   "source": [
    "#collapse\n",
    "with plt.style.context('seaborn-dark'):\n",
    "    fig,ax = plt.subplots(figsize = (16,8))\n",
    "    nodes = nx.draw_networkx_nodes(_G1,m_pos1,node_color=_df.query('Year==\"2004\"').comp7,node_size = 10, ax=ax,cmap='bwr')\n",
    "    plt.colorbar(nodes)\n",
    "    plt.axis()\n",
    "    ax.set_axis_on()\n",
    "    ax.tick_params(left=True, bottom=True, labelleft=True, labelbottom=True)\n",
    "plt.show()"
   ]
  },
  {
   "cell_type": "markdown",
   "id": "afcd78e3-fe8e-4c4f-81b7-cc00c7b5e018",
   "metadata": {
    "tags": []
   },
   "source": [
    "##### **2005**, $n=533$"
   ]
  },
  {
   "cell_type": "code",
   "execution_count": null,
   "id": "fff150b3-fba3-4e44-af03-f4dfb24f75c5",
   "metadata": {},
   "outputs": [],
   "source": [
    "_G2 = nx.Graph(_W[len(_df.query('Year<=\"2004\"')):len(_df.query('Year<=\"2005\"')),len(_df.query('Year<=\"2004\"')):len(_df.query('Year<=\"2005\"'))]-np.identity(len(_df.query('Year==\"2005\"'))))\n",
    "_pos2 = nx.spring_layout(_G2,iterations=20)\n",
    "m_pos2 = list(zip(_df.query('Year==\"2005\"').Longitude,_df.query('Year==\"2005\"').Latitude))"
   ]
  },
  {
   "cell_type": "code",
   "execution_count": null,
   "id": "02911df7-2294-4d31-a266-92a77ac59719",
   "metadata": {},
   "outputs": [],
   "source": [
    "#collapse\n",
    "with plt.style.context('seaborn-dark'):\n",
    "    fig,ax = plt.subplots(figsize = (16,8))\n",
    "    nodes = nx.draw_networkx_nodes(_G2,m_pos2,node_color=_df.query('Year==\"2005\"').comp1,node_size = 10, ax=ax,cmap='bwr')\n",
    "    plt.colorbar(nodes)\n",
    "    plt.axis()\n",
    "    ax.set_axis_on()\n",
    "    ax.tick_params(left=True, bottom=True, labelleft=True, labelbottom=True)\n",
    "plt.show()"
   ]
  },
  {
   "cell_type": "code",
   "execution_count": null,
   "id": "cba16e0d-780a-4eed-8d22-dad13382d59a",
   "metadata": {
    "tags": []
   },
   "outputs": [],
   "source": [
    "#collapse\n",
    "with plt.style.context('seaborn-dark'):\n",
    "    fig,ax = plt.subplots(figsize = (16,8))\n",
    "    nodes = nx.draw_networkx_nodes(_G2,m_pos2,node_color=_df.query('Year==\"2005\"').comp2,node_size = 10,ax=ax,cmap='bwr')\n",
    "    plt.colorbar(nodes)\n",
    "    plt.axis()\n",
    "    ax.set_axis_on()\n",
    "    ax.tick_params(left=True, bottom=True, labelleft=True, labelbottom=True)\n",
    "plt.show()"
   ]
  },
  {
   "cell_type": "code",
   "execution_count": null,
   "id": "a93a2640-5292-4fe5-8961-59d1e7b81464",
   "metadata": {
    "tags": []
   },
   "outputs": [],
   "source": [
    "#collapse\n",
    "with plt.style.context('seaborn-dark'):\n",
    "    fig,ax = plt.subplots(figsize = (16,8))\n",
    "    nodes = nx.draw_networkx_nodes(_G2,m_pos2,node_color=_df.query('Year==\"2005\"').comp3,node_size = 10, ax=ax,cmap='bwr')\n",
    "    plt.colorbar(nodes)\n",
    "    plt.axis()\n",
    "    ax.set_axis_on()\n",
    "    ax.tick_params(left=True, bottom=True, labelleft=True, labelbottom=True)\n",
    "plt.show()"
   ]
  },
  {
   "cell_type": "code",
   "execution_count": null,
   "id": "eb3e0e0b-37e2-4d94-aaa7-9dd6e589dd67",
   "metadata": {
    "tags": []
   },
   "outputs": [],
   "source": [
    "#collapse\n",
    "with plt.style.context('seaborn-dark'):\n",
    "    fig,ax = plt.subplots(figsize = (16,8))\n",
    "    nodes = nx.draw_networkx_nodes(_G2,m_pos2,node_color=_df.query('Year==\"2005\"').comp4,node_size = 10, ax=ax,cmap='bwr')\n",
    "    plt.colorbar(nodes)\n",
    "    plt.axis()\n",
    "    ax.set_axis_on()\n",
    "    ax.tick_params(left=True, bottom=True, labelleft=True, labelbottom=True)\n",
    "plt.show()"
   ]
  },
  {
   "cell_type": "code",
   "execution_count": null,
   "id": "d444fa90-99fa-49ab-877e-be3e8efc783f",
   "metadata": {
    "tags": []
   },
   "outputs": [],
   "source": [
    "#collapse\n",
    "with plt.style.context('seaborn-dark'):\n",
    "    fig,ax = plt.subplots(figsize = (16,8))\n",
    "    nodes = nx.draw_networkx_nodes(_G2,m_pos2,node_color=_df.query('Year==\"2005\"').comp5,node_size = 10, ax=ax,cmap='bwr')\n",
    "    plt.colorbar(nodes)\n",
    "    plt.axis()\n",
    "    ax.set_axis_on()\n",
    "    ax.tick_params(left=True, bottom=True, labelleft=True, labelbottom=True)\n",
    "plt.show()"
   ]
  },
  {
   "cell_type": "code",
   "execution_count": null,
   "id": "99437b06-fc02-41fb-8e4e-8047066be78f",
   "metadata": {
    "tags": []
   },
   "outputs": [],
   "source": [
    "#collapse\n",
    "with plt.style.context('seaborn-dark'):\n",
    "    fig,ax = plt.subplots(figsize = (16,8))\n",
    "    nodes = nx.draw_networkx_nodes(_G2,m_pos2,node_color=_df.query('Year==\"2005\"').comp6,node_size = 10, ax=ax,cmap='bwr')\n",
    "    plt.colorbar(nodes)\n",
    "    plt.axis()\n",
    "    ax.set_axis_on()\n",
    "    ax.tick_params(left=True, bottom=True, labelleft=True, labelbottom=True)\n",
    "plt.show()"
   ]
  },
  {
   "cell_type": "code",
   "execution_count": null,
   "id": "b0bffcbf-c31f-46df-bf60-a1435c4af0db",
   "metadata": {
    "tags": []
   },
   "outputs": [],
   "source": [
    "#collapse\n",
    "with plt.style.context('seaborn-dark'):\n",
    "    fig,ax = plt.subplots(figsize = (16,8))\n",
    "    nodes = nx.draw_networkx_nodes(_G2,m_pos2,node_color=_df.query('Year==\"2005\"').comp7,node_size = 10, ax=ax,cmap='bwr')\n",
    "    plt.colorbar(nodes)\n",
    "    plt.axis()\n",
    "    ax.set_axis_on()\n",
    "    ax.tick_params(left=True, bottom=True, labelleft=True, labelbottom=True)\n",
    "plt.show()"
   ]
  },
  {
   "cell_type": "markdown",
   "id": "3c1e24a6-981c-49c3-876f-4113ca197ad2",
   "metadata": {
    "tags": []
   },
   "source": [
    "##### **2006**, $n=512$"
   ]
  },
  {
   "cell_type": "code",
   "execution_count": null,
   "id": "6056deef-f1da-4495-890a-2b0583f2be24",
   "metadata": {},
   "outputs": [],
   "source": [
    "_G3 = nx.Graph(_W[len(_df.query('Year<=\"2005\"')):len(_df.query('Year<=\"2006\"')),len(_df.query('Year<=\"2005\"')):len(_df.query('Year<=\"2006\"'))]-np.identity(len(_df.query('Year==\"2006\"'))))\n",
    "_pos3 = nx.spring_layout(_G3,iterations=20)\n",
    "m_pos3 = list(zip(_df.query('Year==\"2006\"').Longitude,_df.query('Year==\"2006\"').Latitude))"
   ]
  },
  {
   "cell_type": "code",
   "execution_count": null,
   "id": "3afd03c5-5dfd-47b2-b5d3-79b3f25522cb",
   "metadata": {},
   "outputs": [],
   "source": [
    "#collapse\n",
    "with plt.style.context('seaborn-dark'):\n",
    "    fig,ax = plt.subplots(figsize = (16,8))\n",
    "    nodes = nx.draw_networkx_nodes(_G3,m_pos3,node_color=_df.query('Year==\"2006\"').comp1,node_size = 10, ax=ax,cmap='bwr')\n",
    "    plt.colorbar(nodes)\n",
    "    plt.axis()\n",
    "    ax.set_axis_on()\n",
    "    ax.tick_params(left=True, bottom=True, labelleft=True, labelbottom=True)\n",
    "plt.show()"
   ]
  },
  {
   "cell_type": "code",
   "execution_count": null,
   "id": "54c99568-6686-46e1-b81d-2e1d05549fda",
   "metadata": {
    "tags": []
   },
   "outputs": [],
   "source": [
    "#collapse\n",
    "with plt.style.context('seaborn-dark'):\n",
    "    fig,ax = plt.subplots(figsize = (16,8))\n",
    "    nodes = nx.draw_networkx_nodes(_G3,m_pos3,node_color=_df.query('Year==\"2006\"').comp2,node_size = 10,ax=ax,cmap='bwr')\n",
    "    plt.colorbar(nodes)\n",
    "    plt.axis()\n",
    "    ax.set_axis_on()\n",
    "    ax.tick_params(left=True, bottom=True, labelleft=True, labelbottom=True)\n",
    "plt.show()"
   ]
  },
  {
   "cell_type": "code",
   "execution_count": null,
   "id": "ccdc58b4-d454-408a-8159-1f23573d20a4",
   "metadata": {
    "tags": []
   },
   "outputs": [],
   "source": [
    "#collapse\n",
    "with plt.style.context('seaborn-dark'):\n",
    "    fig,ax = plt.subplots(figsize = (16,8))\n",
    "    nodes = nx.draw_networkx_nodes(_G3,m_pos3,node_color=_df.query('Year==\"2006\"').comp3,node_size = 10, ax=ax,cmap='bwr')\n",
    "    plt.colorbar(nodes)\n",
    "    plt.axis()\n",
    "    ax.set_axis_on()\n",
    "    ax.tick_params(left=True, bottom=True, labelleft=True, labelbottom=True)\n",
    "plt.show()"
   ]
  },
  {
   "cell_type": "code",
   "execution_count": null,
   "id": "2f62a01f-421f-4070-a0b3-5a23aa3c750b",
   "metadata": {
    "tags": []
   },
   "outputs": [],
   "source": [
    "#collapse\n",
    "with plt.style.context('seaborn-dark'):\n",
    "    fig,ax = plt.subplots(figsize = (16,8))\n",
    "    nodes = nx.draw_networkx_nodes(_G3,m_pos3,node_color=_df.query('Year==\"2006\"').comp4,node_size = 10, ax=ax,cmap='bwr')\n",
    "    plt.colorbar(nodes)\n",
    "    plt.axis()\n",
    "    ax.set_axis_on()\n",
    "    ax.tick_params(left=True, bottom=True, labelleft=True, labelbottom=True)\n",
    "plt.show()"
   ]
  },
  {
   "cell_type": "code",
   "execution_count": null,
   "id": "6881087c-2a73-4746-8578-ef35f60b0128",
   "metadata": {
    "tags": []
   },
   "outputs": [],
   "source": [
    "#collapse\n",
    "with plt.style.context('seaborn-dark'):\n",
    "    fig,ax = plt.subplots(figsize = (16,8))\n",
    "    nodes = nx.draw_networkx_nodes(_G3,m_pos3,node_color=_df.query('Year==\"2006\"').comp5,node_size = 10, ax=ax,cmap='bwr')\n",
    "    plt.colorbar(nodes)\n",
    "    plt.axis()\n",
    "    ax.set_axis_on()\n",
    "    ax.tick_params(left=True, bottom=True, labelleft=True, labelbottom=True)\n",
    "plt.show()"
   ]
  },
  {
   "cell_type": "code",
   "execution_count": null,
   "id": "b49ca238-f07b-4c00-a3ed-f5e0adfa8e9f",
   "metadata": {
    "tags": []
   },
   "outputs": [],
   "source": [
    "#collapse\n",
    "with plt.style.context('seaborn-dark'):\n",
    "    fig,ax = plt.subplots(figsize = (16,8))\n",
    "    nodes = nx.draw_networkx_nodes(_G3,m_pos3,node_color=_df.query('Year==\"2006\"').comp6,node_size = 10, ax=ax,cmap='bwr')\n",
    "    plt.colorbar(nodes)\n",
    "    plt.axis()\n",
    "    ax.set_axis_on()\n",
    "    ax.tick_params(left=True, bottom=True, labelleft=True, labelbottom=True)\n",
    "plt.show()"
   ]
  },
  {
   "cell_type": "code",
   "execution_count": null,
   "id": "bf0f68e6-6d33-4eba-8f8d-ed72a527acf6",
   "metadata": {
    "tags": []
   },
   "outputs": [],
   "source": [
    "#collapse\n",
    "with plt.style.context('seaborn-dark'):\n",
    "    fig,ax = plt.subplots(figsize = (16,8))\n",
    "    nodes = nx.draw_networkx_nodes(_G3,m_pos3,node_color=_df.query('Year==\"2006\"').comp7,node_size = 10, ax=ax,cmap='bwr')\n",
    "    plt.colorbar(nodes)\n",
    "    plt.axis()\n",
    "    ax.set_axis_on()\n",
    "    ax.tick_params(left=True, bottom=True, labelleft=True, labelbottom=True)\n",
    "plt.show()"
   ]
  },
  {
   "cell_type": "markdown",
   "id": "6390c074-5145-452a-845e-8da782131a46",
   "metadata": {
    "tags": []
   },
   "source": [
    "##### **2007**, $n=608$"
   ]
  },
  {
   "cell_type": "code",
   "execution_count": null,
   "id": "434e88ef-29bd-41ef-9063-06f3ab59812d",
   "metadata": {},
   "outputs": [],
   "source": [
    "_G4 = nx.Graph(_W[len(_df.query('Year<=\"2006\"')):len(_df.query('Year<=\"2007\"')),len(_df.query('Year<=\"2006\"')):len(_df.query('Year<=\"2007\"'))]-np.identity(len(_df.query('Year==\"2007\"'))))\n",
    "_pos4 = nx.spring_layout(_G4,iterations=20)\n",
    "m_pos4 = list(zip(_df.query('Year==\"2007\"').Longitude,_df.query('Year==\"2007\"').Latitude))"
   ]
  },
  {
   "cell_type": "code",
   "execution_count": null,
   "id": "be96ee82-e682-4422-b771-f8d2779e508d",
   "metadata": {},
   "outputs": [],
   "source": [
    "#collapse\n",
    "with plt.style.context('seaborn-dark'):\n",
    "    fig,ax = plt.subplots(figsize = (16,8))\n",
    "    nodes = nx.draw_networkx_nodes(_G4,m_pos4,node_color=_df.query('Year==\"2007\"').comp1,node_size = 10, ax=ax,cmap='bwr')\n",
    "    plt.colorbar(nodes)\n",
    "    plt.axis()\n",
    "    ax.set_axis_on()\n",
    "    ax.tick_params(left=True, bottom=True, labelleft=True, labelbottom=True)\n",
    "plt.show()"
   ]
  },
  {
   "cell_type": "code",
   "execution_count": null,
   "id": "b7c4340f-e62d-49c9-9cfd-b20073f15be5",
   "metadata": {
    "tags": []
   },
   "outputs": [],
   "source": [
    "#collapse\n",
    "with plt.style.context('seaborn-dark'):\n",
    "    fig,ax = plt.subplots(figsize = (16,8))\n",
    "    nodes = nx.draw_networkx_nodes(_G4,m_pos4,node_color=_df.query('Year==\"2007\"').comp2,node_size = 10,ax=ax,cmap='bwr')\n",
    "    plt.colorbar(nodes)\n",
    "    plt.axis()\n",
    "    ax.set_axis_on()\n",
    "    ax.tick_params(left=True, bottom=True, labelleft=True, labelbottom=True)\n",
    "plt.show()"
   ]
  },
  {
   "cell_type": "code",
   "execution_count": null,
   "id": "b4526f34-1bff-4313-91d8-96e386c17c23",
   "metadata": {
    "tags": []
   },
   "outputs": [],
   "source": [
    "#collapse\n",
    "with plt.style.context('seaborn-dark'):\n",
    "    fig,ax = plt.subplots(figsize = (16,8))\n",
    "    nodes = nx.draw_networkx_nodes(_G4,m_pos4,node_color=_df.query('Year==\"2007\"').comp3,node_size =10, ax=ax,cmap='bwr')\n",
    "    plt.colorbar(nodes)\n",
    "    plt.axis()\n",
    "    ax.set_axis_on()\n",
    "    ax.tick_params(left=True, bottom=True, labelleft=True, labelbottom=True)\n",
    "plt.show()"
   ]
  },
  {
   "cell_type": "code",
   "execution_count": null,
   "id": "ac7da1a3-e3ec-4f6e-99dd-0e7a56085517",
   "metadata": {
    "tags": []
   },
   "outputs": [],
   "source": [
    "#collapse\n",
    "with plt.style.context('seaborn-dark'):\n",
    "    fig,ax = plt.subplots(figsize = (16,8))\n",
    "    nodes = nx.draw_networkx_nodes(_G4,m_pos4,node_color=_df.query('Year==\"2007\"').comp4,node_size = 10, ax=ax,cmap='bwr')\n",
    "    plt.colorbar(nodes)\n",
    "    plt.axis()\n",
    "    ax.set_axis_on()\n",
    "    ax.tick_params(left=True, bottom=True, labelleft=True, labelbottom=True)\n",
    "plt.show()"
   ]
  },
  {
   "cell_type": "code",
   "execution_count": null,
   "id": "6a191ae8-963b-4ae8-bfe8-91af62fdb6d4",
   "metadata": {
    "tags": []
   },
   "outputs": [],
   "source": [
    "#collapse\n",
    "with plt.style.context('seaborn-dark'):\n",
    "    fig,ax = plt.subplots(figsize = (16,8))\n",
    "    nodes = nx.draw_networkx_nodes(_G4,m_pos4,node_color=_df.query('Year==\"2007\"').comp5,node_size = 10, ax=ax,cmap='bwr')\n",
    "    plt.colorbar(nodes)\n",
    "    plt.axis()\n",
    "    ax.set_axis_on()\n",
    "    ax.tick_params(left=True, bottom=True, labelleft=True, labelbottom=True)\n",
    "plt.show()"
   ]
  },
  {
   "cell_type": "code",
   "execution_count": null,
   "id": "fb26e907-d8e1-4228-abf3-fe12ddceb86f",
   "metadata": {
    "tags": []
   },
   "outputs": [],
   "source": [
    "#collapse\n",
    "with plt.style.context('seaborn-dark'):\n",
    "    fig,ax = plt.subplots(figsize = (16,8))\n",
    "    nodes = nx.draw_networkx_nodes(_G4,m_pos4,node_color=_df.query('Year==\"2007\"').comp6,node_size = 10, ax=ax,cmap='bwr')\n",
    "    plt.colorbar(nodes)\n",
    "    plt.axis()\n",
    "    ax.set_axis_on()\n",
    "    ax.tick_params(left=True, bottom=True, labelleft=True, labelbottom=True)\n",
    "plt.show()"
   ]
  },
  {
   "cell_type": "code",
   "execution_count": null,
   "id": "a146d4db-4b05-49fd-8d8b-0b7a186f9fc5",
   "metadata": {
    "tags": []
   },
   "outputs": [],
   "source": [
    "#collapse\n",
    "with plt.style.context('seaborn-dark'):\n",
    "    fig,ax = plt.subplots(figsize = (16,8))\n",
    "    nodes = nx.draw_networkx_nodes(_G4,m_pos4,node_color=_df.query('Year==\"2007\"').comp7,node_size = 10, ax=ax,cmap='bwr')\n",
    "    plt.colorbar(nodes)\n",
    "    plt.axis()\n",
    "    ax.set_axis_on()\n",
    "    ax.tick_params(left=True, bottom=True, labelleft=True, labelbottom=True)\n",
    "plt.show()"
   ]
  },
  {
   "cell_type": "markdown",
   "id": "dd0ac1b7-26c1-4f40-afd8-fbb150d47753",
   "metadata": {
    "tags": []
   },
   "source": [
    "##### **2008**, $n=508$"
   ]
  },
  {
   "cell_type": "code",
   "execution_count": null,
   "id": "533fba73-b2c8-4bf2-8a66-f09c8bae6e6f",
   "metadata": {},
   "outputs": [],
   "source": [
    "_G5 = nx.Graph(_W[len(_df.query('Year<=\"2007\"')):len(_df.query('Year<=\"2008\"')),len(_df.query('Year<=\"2007\"')):len(_df.query('Year<=\"2008\"'))]-np.identity(len(_df.query('Year==\"2008\"'))))\n",
    "_pos5 = nx.spring_layout(_G5,iterations=20)\n",
    "m_pos5 = list(zip(_df.query('Year==\"2008\"').Longitude,_df.query('Year==\"2008\"').Latitude))"
   ]
  },
  {
   "cell_type": "code",
   "execution_count": null,
   "id": "21e38668-cbd2-4ba2-97b2-b60581f21468",
   "metadata": {},
   "outputs": [],
   "source": [
    "#collapse\n",
    "with plt.style.context('seaborn-dark'):\n",
    "    fig,ax = plt.subplots(figsize = (16,8))\n",
    "    nodes = nx.draw_networkx_nodes(_G5,m_pos5,node_color=_df.query('Year==\"2008\"').comp1,node_size = 10, ax=ax,cmap='bwr')\n",
    "    plt.colorbar(nodes)\n",
    "    plt.axis()\n",
    "    ax.set_axis_on()\n",
    "    ax.tick_params(left=True, bottom=True, labelleft=True, labelbottom=True)\n",
    "plt.show()"
   ]
  },
  {
   "cell_type": "code",
   "execution_count": null,
   "id": "dbd5c7c6-c66c-4d07-aae3-f72f9dc9cb1b",
   "metadata": {
    "tags": []
   },
   "outputs": [],
   "source": [
    "#collapse\n",
    "with plt.style.context('seaborn-dark'):\n",
    "    fig,ax = plt.subplots(figsize = (16,8))\n",
    "    nodes = nx.draw_networkx_nodes(_G5,m_pos5,node_color=_df.query('Year==\"2008\"').comp2,node_size = 10,ax=ax,cmap='bwr')\n",
    "    plt.colorbar(nodes)\n",
    "    plt.axis()\n",
    "    ax.set_axis_on()\n",
    "    ax.tick_params(left=True, bottom=True, labelleft=True, labelbottom=True)\n",
    "plt.show()"
   ]
  },
  {
   "cell_type": "code",
   "execution_count": null,
   "id": "1ad4c034-a870-4951-9a00-d5bf7b66725d",
   "metadata": {
    "tags": []
   },
   "outputs": [],
   "source": [
    "#collapse\n",
    "with plt.style.context('seaborn-dark'):\n",
    "    fig,ax = plt.subplots(figsize = (16,8))\n",
    "    nodes = nx.draw_networkx_nodes(_G5,m_pos5,node_color=_df.query('Year==\"2008\"').comp3,node_size = 10, ax=ax,cmap='bwr')\n",
    "    plt.colorbar(nodes)\n",
    "    plt.axis()\n",
    "    ax.set_axis_on()\n",
    "    ax.tick_params(left=True, bottom=True, labelleft=True, labelbottom=True)\n",
    "plt.show()"
   ]
  },
  {
   "cell_type": "code",
   "execution_count": null,
   "id": "130fe0d9-5098-4697-b91c-b9a42f071c3f",
   "metadata": {
    "tags": []
   },
   "outputs": [],
   "source": [
    "#collapse\n",
    "with plt.style.context('seaborn-dark'):\n",
    "    fig,ax = plt.subplots(figsize = (16,8))\n",
    "    nodes = nx.draw_networkx_nodes(_G5,m_pos5,node_color=_df.query('Year==\"2008\"').comp4,node_size = 10, ax=ax,cmap='bwr')\n",
    "    plt.colorbar(nodes)\n",
    "    plt.axis()\n",
    "    ax.set_axis_on()\n",
    "    ax.tick_params(left=True, bottom=True, labelleft=True, labelbottom=True)\n",
    "plt.show()"
   ]
  },
  {
   "cell_type": "code",
   "execution_count": null,
   "id": "4dfd6130-068d-400b-b225-cc9c1d6d8de7",
   "metadata": {
    "tags": []
   },
   "outputs": [],
   "source": [
    "#collapse\n",
    "with plt.style.context('seaborn-dark'):\n",
    "    fig,ax = plt.subplots(figsize = (16,8))\n",
    "    nodes = nx.draw_networkx_nodes(_G5,m_pos5,node_color=_df.query('Year==\"2008\"').comp5,node_size = 10, ax=ax,cmap='bwr')\n",
    "    plt.colorbar(nodes)\n",
    "    plt.axis()\n",
    "    ax.set_axis_on()\n",
    "    ax.tick_params(left=True, bottom=True, labelleft=True, labelbottom=True)\n",
    "plt.show()"
   ]
  },
  {
   "cell_type": "code",
   "execution_count": null,
   "id": "98d66c6b-0107-4c31-89ff-1ff817dc9a37",
   "metadata": {
    "tags": []
   },
   "outputs": [],
   "source": [
    "#collapse\n",
    "with plt.style.context('seaborn-dark'):\n",
    "    fig,ax = plt.subplots(figsize = (16,8))\n",
    "    nodes = nx.draw_networkx_nodes(_G5,m_pos5,node_color=_df.query('Year==\"2008\"').comp6,node_size = 10, ax=ax,cmap='bwr')\n",
    "    plt.colorbar(nodes)\n",
    "    plt.axis()\n",
    "    ax.set_axis_on()\n",
    "    ax.tick_params(left=True, bottom=True, labelleft=True, labelbottom=True)\n",
    "plt.show()"
   ]
  },
  {
   "cell_type": "code",
   "execution_count": null,
   "id": "adb796b7-24e2-48a8-8150-a838f0c92cc7",
   "metadata": {
    "tags": []
   },
   "outputs": [],
   "source": [
    "#collapse\n",
    "with plt.style.context('seaborn-dark'):\n",
    "    fig,ax = plt.subplots(figsize = (16,8))\n",
    "    nodes = nx.draw_networkx_nodes(_G5,m_pos5,node_color=_df.query('Year==\"2008\"').comp7,node_size = 10, ax=ax,cmap='bwr')\n",
    "    plt.colorbar(nodes)\n",
    "    plt.axis()\n",
    "    ax.set_axis_on()\n",
    "    ax.tick_params(left=True, bottom=True, labelleft=True, labelbottom=True)\n",
    "plt.show()"
   ]
  },
  {
   "cell_type": "markdown",
   "id": "84ea7123-d04c-49c9-bdc7-a92e0ec93158",
   "metadata": {
    "tags": []
   },
   "source": [
    "##### **2009**, $n=517$"
   ]
  },
  {
   "cell_type": "code",
   "execution_count": null,
   "id": "ae5e420d-a4ff-492e-8f59-846ca0b0ba63",
   "metadata": {},
   "outputs": [],
   "source": [
    "_G6 = nx.Graph(_W[len(_df.query('Year<=\"2008\"')):len(_df.query('Year<=\"2009\"')),len(_df.query('Year<=\"2008\"')):len(_df.query('Year<=\"2009\"'))]-np.identity(len(_df.query('Year==\"2009\"'))))\n",
    "_pos6 = nx.spring_layout(_G6,iterations=20)\n",
    "m_pos6 = list(zip(_df.query('Year==\"2009\"').Longitude,_df.query('Year==\"2009\"').Latitude))"
   ]
  },
  {
   "cell_type": "code",
   "execution_count": null,
   "id": "69f9237e-50fb-4d7c-8d28-d119a86fd32b",
   "metadata": {},
   "outputs": [],
   "source": [
    "#collapse\n",
    "with plt.style.context('seaborn-dark'):\n",
    "    fig,ax = plt.subplots(figsize = (16,8))\n",
    "    nodes = nx.draw_networkx_nodes(_G6,m_pos6,node_color=_df.query('Year==\"2009\"').comp1,node_size = 10, ax=ax,cmap='bwr')\n",
    "    plt.colorbar(nodes)\n",
    "    plt.axis()\n",
    "    ax.set_axis_on()\n",
    "    ax.tick_params(left=True, bottom=True, labelleft=True, labelbottom=True)\n",
    "plt.show()"
   ]
  },
  {
   "cell_type": "code",
   "execution_count": null,
   "id": "f0036f36-f770-4690-b4fc-370c36f3856c",
   "metadata": {
    "tags": []
   },
   "outputs": [],
   "source": [
    "#collapse\n",
    "with plt.style.context('seaborn-dark'):\n",
    "    fig,ax = plt.subplots(figsize = (16,8))\n",
    "    nodes = nx.draw_networkx_nodes(_G6,m_pos6,node_color=_df.query('Year==\"2009\"').comp2,node_size = 10,ax=ax,cmap='bwr')\n",
    "    plt.colorbar(nodes)\n",
    "    plt.axis()\n",
    "    ax.set_axis_on()\n",
    "    ax.tick_params(left=True, bottom=True, labelleft=True, labelbottom=True)\n",
    "plt.show()"
   ]
  },
  {
   "cell_type": "code",
   "execution_count": null,
   "id": "419a33d4-1c82-4c7c-9aba-66be8e2dee72",
   "metadata": {
    "tags": []
   },
   "outputs": [],
   "source": [
    "#collapse\n",
    "with plt.style.context('seaborn-dark'):\n",
    "    fig,ax = plt.subplots(figsize = (16,8))\n",
    "    nodes = nx.draw_networkx_nodes(_G6,m_pos6,node_color=_df.query('Year==\"2009\"').comp3,node_size = 10, ax=ax,cmap='bwr')\n",
    "    plt.colorbar(nodes)\n",
    "    plt.axis()\n",
    "    ax.set_axis_on()\n",
    "    ax.tick_params(left=True, bottom=True, labelleft=True, labelbottom=True)\n",
    "plt.show()"
   ]
  },
  {
   "cell_type": "code",
   "execution_count": null,
   "id": "226209c3-39b8-4c90-8606-47e3f6817e60",
   "metadata": {
    "tags": []
   },
   "outputs": [],
   "source": [
    "#collapse\n",
    "with plt.style.context('seaborn-dark'):\n",
    "    fig,ax = plt.subplots(figsize = (16,8))\n",
    "    nodes = nx.draw_networkx_nodes(_G6,m_pos6,node_color=_df.query('Year==\"2009\"').comp4,node_size = 10, ax=ax,cmap='bwr')\n",
    "    plt.colorbar(nodes)\n",
    "    plt.axis()\n",
    "    ax.set_axis_on()\n",
    "    ax.tick_params(left=True, bottom=True, labelleft=True, labelbottom=True)\n",
    "plt.show()"
   ]
  },
  {
   "cell_type": "code",
   "execution_count": null,
   "id": "b4283aa8-f1f9-4c93-a343-3f1275feb4e1",
   "metadata": {
    "tags": []
   },
   "outputs": [],
   "source": [
    "#collapse\n",
    "with plt.style.context('seaborn-dark'):\n",
    "    fig,ax = plt.subplots(figsize = (16,8))\n",
    "    nodes = nx.draw_networkx_nodes(_G6,m_pos6,node_color=_df.query('Year==\"2009\"').comp5,node_size = 10, ax=ax,cmap='bwr')\n",
    "    plt.colorbar(nodes)\n",
    "    plt.axis()\n",
    "    ax.set_axis_on()\n",
    "    ax.tick_params(left=True, bottom=True, labelleft=True, labelbottom=True)\n",
    "plt.show()"
   ]
  },
  {
   "cell_type": "code",
   "execution_count": null,
   "id": "ad012f49-3367-4794-b84f-1a67defba267",
   "metadata": {
    "tags": []
   },
   "outputs": [],
   "source": [
    "#collapse\n",
    "with plt.style.context('seaborn-dark'):\n",
    "    fig,ax = plt.subplots(figsize = (16,8))\n",
    "    nodes = nx.draw_networkx_nodes(_G6,m_pos6,node_color=_df.query('Year==\"2009\"').comp6,node_size = 10, ax=ax,cmap='bwr')\n",
    "    plt.colorbar(nodes)\n",
    "    plt.axis()\n",
    "    ax.set_axis_on()\n",
    "    ax.tick_params(left=True, bottom=True, labelleft=True, labelbottom=True)\n",
    "plt.show()"
   ]
  },
  {
   "cell_type": "code",
   "execution_count": null,
   "id": "fbf4e86f-e87e-4899-a418-061963c243dc",
   "metadata": {
    "tags": []
   },
   "outputs": [],
   "source": [
    "#collapse\n",
    "with plt.style.context('seaborn-dark'):\n",
    "    fig,ax = plt.subplots(figsize = (16,8))\n",
    "    nodes = nx.draw_networkx_nodes(_G6,m_pos6,node_color=_df.query('Year==\"2009\"').comp7,node_size = 10, ax=ax,cmap='bwr')\n",
    "    plt.colorbar(nodes)\n",
    "    plt.axis()\n",
    "    ax.set_axis_on()\n",
    "    ax.tick_params(left=True, bottom=True, labelleft=True, labelbottom=True)\n",
    "plt.show()"
   ]
  },
  {
   "cell_type": "markdown",
   "id": "1da37a43-c129-477a-bb39-058a2294720f",
   "metadata": {
    "tags": []
   },
   "source": [
    "##### **2010**, $n=560$"
   ]
  },
  {
   "cell_type": "code",
   "execution_count": null,
   "id": "b74dc586-41fe-41a8-a656-1c8f485200b2",
   "metadata": {},
   "outputs": [],
   "source": [
    "_G7 = nx.Graph(_W[len(_df.query('Year<=\"2009\"')):len(_df.query('Year<=\"2010\"')),len(_df.query('Year<=\"2009\"')):len(_df.query('Year<=\"2010\"'))]-np.identity(len(_df.query('Year==\"2010\"'))))\n",
    "_pos7 = nx.spring_layout(_G7,iterations=20)\n",
    "m_pos7 = list(zip(_df.query('Year==\"2010\"').Longitude,_df.query('Year==\"2010\"').Latitude))"
   ]
  },
  {
   "cell_type": "code",
   "execution_count": null,
   "id": "232aaba2-0c1a-4792-9cf6-1b0e62e9431e",
   "metadata": {},
   "outputs": [],
   "source": [
    "#collapse\n",
    "with plt.style.context('seaborn-dark'):\n",
    "    fig,ax = plt.subplots(figsize = (16,8))\n",
    "    nodes = nx.draw_networkx_nodes(_G7,m_pos7,node_color=_df.query('Year==\"2010\"').comp1,node_size = 10, ax=ax,cmap='bwr')\n",
    "    plt.colorbar(nodes)\n",
    "    plt.axis()\n",
    "    ax.set_axis_on()\n",
    "    ax.tick_params(left=True, bottom=True, labelleft=True, labelbottom=True)\n",
    "plt.show()"
   ]
  },
  {
   "cell_type": "code",
   "execution_count": null,
   "id": "f5f6d4c5-d164-4fc4-99e5-5e6de0447b09",
   "metadata": {
    "tags": []
   },
   "outputs": [],
   "source": [
    "#collapse\n",
    "with plt.style.context('seaborn-dark'):\n",
    "    fig,ax = plt.subplots(figsize = (16,8))\n",
    "    nodes = nx.draw_networkx_nodes(_G7,m_pos7,node_color=_df.query('Year==\"2010\"').comp2,node_size = 10,ax=ax,cmap='bwr')\n",
    "    plt.colorbar(nodes)\n",
    "    plt.axis()\n",
    "    ax.set_axis_on()\n",
    "    ax.tick_params(left=True, bottom=True, labelleft=True, labelbottom=True)\n",
    "plt.show()"
   ]
  },
  {
   "cell_type": "code",
   "execution_count": null,
   "id": "81bed9aa-b744-433f-8f5a-6802707db258",
   "metadata": {
    "tags": []
   },
   "outputs": [],
   "source": [
    "#collapse\n",
    "with plt.style.context('seaborn-dark'):\n",
    "    fig,ax = plt.subplots(figsize = (16,8))\n",
    "    nodes = nx.draw_networkx_nodes(_G7,m_pos7,node_color=_df.query('Year==\"2010\"').comp3,node_size = 10, ax=ax,cmap='bwr')\n",
    "    plt.colorbar(nodes)\n",
    "    plt.axis()\n",
    "    ax.set_axis_on()\n",
    "    ax.tick_params(left=True, bottom=True, labelleft=True, labelbottom=True)\n",
    "plt.show()"
   ]
  },
  {
   "cell_type": "code",
   "execution_count": null,
   "id": "552b4f1e-80a4-4d3a-aa21-ef84052f2396",
   "metadata": {
    "tags": []
   },
   "outputs": [],
   "source": [
    "#collapse\n",
    "with plt.style.context('seaborn-dark'):\n",
    "    fig,ax = plt.subplots(figsize = (16,8))\n",
    "    nodes = nx.draw_networkx_nodes(_G7,m_pos7,node_color=_df.query('Year==\"2010\"').comp4,node_size = 10, ax=ax,cmap='bwr')\n",
    "    plt.colorbar(nodes)\n",
    "    plt.axis()\n",
    "    ax.set_axis_on()\n",
    "    ax.tick_params(left=True, bottom=True, labelleft=True, labelbottom=True)\n",
    "plt.show()"
   ]
  },
  {
   "cell_type": "code",
   "execution_count": null,
   "id": "3082565e-59aa-4d8d-8769-c498a830f5cd",
   "metadata": {
    "tags": []
   },
   "outputs": [],
   "source": [
    "#collapse\n",
    "with plt.style.context('seaborn-dark'):\n",
    "    fig,ax = plt.subplots(figsize = (16,8))\n",
    "    nodes = nx.draw_networkx_nodes(_G7,m_pos7,node_color=_df.query('Year==\"2010\"').comp5,node_size = 10, ax=ax,cmap='bwr')\n",
    "    plt.colorbar(nodes)\n",
    "    plt.axis()\n",
    "    ax.set_axis_on()\n",
    "    ax.tick_params(left=True, bottom=True, labelleft=True, labelbottom=True)\n",
    "plt.show()"
   ]
  },
  {
   "cell_type": "code",
   "execution_count": null,
   "id": "bc9327e5-8233-490e-8420-3cafb5168773",
   "metadata": {
    "tags": []
   },
   "outputs": [],
   "source": [
    "#collapse\n",
    "with plt.style.context('seaborn-dark'):\n",
    "    fig,ax = plt.subplots(figsize = (16,8))\n",
    "    nodes = nx.draw_networkx_nodes(_G7,m_pos7,node_color=_df.query('Year==\"2010\"').comp6,node_size = 10, ax=ax,cmap='bwr')\n",
    "    plt.colorbar(nodes)\n",
    "    plt.axis()\n",
    "    ax.set_axis_on()\n",
    "    ax.tick_params(left=True, bottom=True, labelleft=True, labelbottom=True)\n",
    "plt.show()"
   ]
  },
  {
   "cell_type": "code",
   "execution_count": null,
   "id": "576e9280-f209-47a2-999f-147948fd47df",
   "metadata": {
    "tags": []
   },
   "outputs": [],
   "source": [
    "#collapse\n",
    "with plt.style.context('seaborn-dark'):\n",
    "    fig,ax = plt.subplots(figsize = (16,8))\n",
    "    nodes = nx.draw_networkx_nodes(_G7,m_pos7,node_color=_df.query('Year==\"2010\"').comp7,node_size = 10, ax=ax,cmap='bwr')\n",
    "    plt.colorbar(nodes)\n",
    "    plt.axis()\n",
    "    ax.set_axis_on()\n",
    "    ax.tick_params(left=True, bottom=True, labelleft=True, labelbottom=True)\n",
    "plt.show()"
   ]
  },
  {
   "cell_type": "markdown",
   "id": "63e81806-a632-4a36-8fa5-2aaee8e3b771",
   "metadata": {
    "tags": []
   },
   "source": [
    "##### **2011**, $n=712$"
   ]
  },
  {
   "cell_type": "code",
   "execution_count": null,
   "id": "6f7daeac-c574-4530-b73b-4730a5286997",
   "metadata": {},
   "outputs": [],
   "source": [
    "_G8 = nx.Graph(_W[len(_df.query('Year<=\"2010\"')):len(_df.query('Year<=\"2011\"')),len(_df.query('Year<=\"2010\"')):len(_df.query('Year<=\"2011\"'))]-np.identity(len(_df.query('Year==\"2011\"'))))\n",
    "_pos8 = nx.spring_layout(_G8,iterations=20)\n",
    "m_pos8 = list(zip(_df.query('Year==\"2011\"').Longitude,_df.query('Year==\"2011\"').Latitude))"
   ]
  },
  {
   "cell_type": "code",
   "execution_count": null,
   "id": "cee1f519-ce04-4c33-bdab-d3e7d5e837d6",
   "metadata": {},
   "outputs": [],
   "source": [
    "#collapse\n",
    "with plt.style.context('seaborn-dark'):\n",
    "    fig,ax = plt.subplots(figsize = (16,8))\n",
    "    nodes = nx.draw_networkx_nodes(_G8,m_pos8,node_color=_df.query('Year==\"2011\"').comp1,node_size = 10, ax=ax,cmap='bwr')\n",
    "    plt.colorbar(nodes)\n",
    "    plt.axis()\n",
    "    ax.set_axis_on()\n",
    "    ax.tick_params(left=True, bottom=True, labelleft=True, labelbottom=True)\n",
    "plt.show()"
   ]
  },
  {
   "cell_type": "code",
   "execution_count": null,
   "id": "8f75f238-0944-423c-86ba-987a0030a3ff",
   "metadata": {
    "tags": []
   },
   "outputs": [],
   "source": [
    "#collapse\n",
    "with plt.style.context('seaborn-dark'):\n",
    "    fig,ax = plt.subplots(figsize = (16,8))\n",
    "    nodes = nx.draw_networkx_nodes(_G8,m_pos8,node_color=_df.query('Year==\"2011\"').comp2,node_size = 10,ax=ax,cmap='bwr')\n",
    "    plt.colorbar(nodes)\n",
    "    plt.axis()\n",
    "    ax.set_axis_on()\n",
    "    ax.tick_params(left=True, bottom=True, labelleft=True, labelbottom=True)\n",
    "plt.show()"
   ]
  },
  {
   "cell_type": "code",
   "execution_count": null,
   "id": "58ce17bc-1340-4ce4-8c2b-6e5b8ae3645f",
   "metadata": {
    "tags": []
   },
   "outputs": [],
   "source": [
    "#collapse\n",
    "with plt.style.context('seaborn-dark'):\n",
    "    fig,ax = plt.subplots(figsize = (16,8))\n",
    "    nodes = nx.draw_networkx_nodes(_G8,m_pos8,node_color=_df.query('Year==\"2011\"').comp3,node_size = 10, ax=ax,cmap='bwr')\n",
    "    plt.colorbar(nodes)\n",
    "    plt.axis()\n",
    "    ax.set_axis_on()\n",
    "    ax.tick_params(left=True, bottom=True, labelleft=True, labelbottom=True)\n",
    "plt.show()"
   ]
  },
  {
   "cell_type": "code",
   "execution_count": null,
   "id": "f73852e6-1bc5-4d61-8e1e-40e83bc83553",
   "metadata": {
    "tags": []
   },
   "outputs": [],
   "source": [
    "#collapse\n",
    "with plt.style.context('seaborn-dark'):\n",
    "    fig,ax = plt.subplots(figsize = (16,8))\n",
    "    nodes = nx.draw_networkx_nodes(_G8,m_pos8,node_color=_df.query('Year==\"2011\"').comp4,node_size = 10, ax=ax,cmap='bwr')\n",
    "    plt.colorbar(nodes)\n",
    "    plt.axis()\n",
    "    ax.set_axis_on()\n",
    "    ax.tick_params(left=True, bottom=True, labelleft=True, labelbottom=True)\n",
    "plt.show()"
   ]
  },
  {
   "cell_type": "code",
   "execution_count": null,
   "id": "6c84791b-ef29-4cac-83fc-0b594bf4e93d",
   "metadata": {
    "tags": []
   },
   "outputs": [],
   "source": [
    "#collapse\n",
    "with plt.style.context('seaborn-dark'):\n",
    "    fig,ax = plt.subplots(figsize = (16,8))\n",
    "    nodes = nx.draw_networkx_nodes(_G8,m_pos8,node_color=_df.query('Year==\"2011\"').comp5,node_size = 10, ax=ax,cmap='bwr')\n",
    "    plt.colorbar(nodes)\n",
    "    plt.axis()\n",
    "    ax.set_axis_on()\n",
    "    ax.tick_params(left=True, bottom=True, labelleft=True, labelbottom=True)\n",
    "plt.show()"
   ]
  },
  {
   "cell_type": "code",
   "execution_count": null,
   "id": "89d18a90-0fb1-4401-be6e-ee2af274aab3",
   "metadata": {
    "tags": []
   },
   "outputs": [],
   "source": [
    "#collapse\n",
    "with plt.style.context('seaborn-dark'):\n",
    "    fig,ax = plt.subplots(figsize = (16,8))\n",
    "    nodes = nx.draw_networkx_nodes(_G8,m_pos8,node_color=_df.query('Year==\"2011\"').comp6,node_size = 10, ax=ax,cmap='bwr')\n",
    "    plt.colorbar(nodes)\n",
    "    plt.axis()\n",
    "    ax.set_axis_on()\n",
    "    ax.tick_params(left=True, bottom=True, labelleft=True, labelbottom=True)\n",
    "plt.show()"
   ]
  },
  {
   "cell_type": "code",
   "execution_count": null,
   "id": "d54ac1c2-6c45-4476-a3bf-8f253361ea59",
   "metadata": {
    "tags": []
   },
   "outputs": [],
   "source": [
    "#collapse\n",
    "with plt.style.context('seaborn-dark'):\n",
    "    fig,ax = plt.subplots(figsize = (16,8))\n",
    "    nodes = nx.draw_networkx_nodes(_G8,m_pos8,node_color=_df.query('Year==\"2011\"').comp7,node_size = 10, ax=ax,cmap='bwr')\n",
    "    plt.colorbar(nodes)\n",
    "    plt.axis()\n",
    "    ax.set_axis_on()\n",
    "    ax.tick_params(left=True, bottom=True, labelleft=True, labelbottom=True)\n",
    "plt.show()"
   ]
  },
  {
   "cell_type": "code",
   "execution_count": null,
   "id": "cb6f0089-4e29-4ae7-bd08-c7cc3dafab7c",
   "metadata": {},
   "outputs": [],
   "source": []
  },
  {
   "cell_type": "code",
   "execution_count": null,
   "id": "230cee49-01ea-4129-a716-05ac90bd3686",
   "metadata": {},
   "outputs": [],
   "source": []
  },
  {
   "cell_type": "code",
   "execution_count": null,
   "id": "9a4f2f61-e54c-4b51-aea6-ebf4349ad5c2",
   "metadata": {},
   "outputs": [],
   "source": []
  },
  {
   "cell_type": "code",
   "execution_count": null,
   "id": "156ce5c3-b332-41d4-8fd9-469ea89d2e9e",
   "metadata": {},
   "outputs": [],
   "source": []
  },
  {
   "cell_type": "code",
   "execution_count": null,
   "id": "1e818787-b2f5-4df0-b0a6-f5b080e82cf7",
   "metadata": {},
   "outputs": [],
   "source": []
  },
  {
   "cell_type": "code",
   "execution_count": null,
   "id": "a9ae69ab-1722-4388-a430-4b53f0bb4a1e",
   "metadata": {},
   "outputs": [],
   "source": []
  }
 ],
 "metadata": {
  "kernelspec": {
   "display_name": "Python 3",
   "language": "python",
   "name": "python3"
  },
  "language_info": {
   "codemirror_mode": {
    "name": "ipython",
    "version": 3
   },
   "file_extension": ".py",
   "mimetype": "text/x-python",
   "name": "python",
   "nbconvert_exporter": "python",
   "pygments_lexer": "ipython3",
   "version": "3.9.12"
  },
  "toc-autonumbering": false,
  "toc-showcode": false
 },
 "nbformat": 4,
 "nbformat_minor": 5
}
