{
 "cells": [
  {
   "cell_type": "markdown",
   "id": "d4713598-d70d-4c2d-8cfa-0d091303bbeb",
   "metadata": {
    "id": "cac470df-29e7-4148-9bbd-d8b9a32fa570",
    "tags": []
   },
   "source": [
    "# 면담 정리 및 면담 준비 5월 4일\n",
    "> \n",
    "\n",
    "- toc:true\n",
    "- branch: master\n",
    "- badges: true\n",
    "- comments: false\n",
    "- author: 최서연\n",
    "- categories: []"
   ]
  },
  {
   "cell_type": "markdown",
   "id": "452df922-22de-4399-bda8-181f40fae46f",
   "metadata": {},
   "source": [
    "#### 지도학습(Supervised learning) vs 비지도학습(Unsupervised learning) vs"
   ]
  }
 ],
 "metadata": {
  "kernelspec": {
   "display_name": "Python 3 (ipykernel)",
   "language": "python",
   "name": "python3"
  },
  "language_info": {
   "codemirror_mode": {
    "name": "ipython",
    "version": 3
   },
   "file_extension": ".py",
   "mimetype": "text/x-python",
   "name": "python",
   "nbconvert_exporter": "python",
   "pygments_lexer": "ipython3",
   "version": "3.8.12"
  }
 },
 "nbformat": 4,
 "nbformat_minor": 5
}
