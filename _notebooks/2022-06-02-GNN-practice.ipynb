{
 "cells": [
  {
   "cell_type": "markdown",
   "id": "8261a69f-e5b5-4b65-9a9b-7acd6db0acce",
   "metadata": {
    "id": "cac470df-29e7-4148-9bbd-d8b9a32fa570",
    "tags": []
   },
   "source": [
    "# (시도) Node Classification with Graph Neural Networks\n",
    "> \n",
    "\n",
    "- toc:true\n",
    "- branch: master\n",
    "- badges: true\n",
    "- comments: false\n",
    "- author: 최서연\n",
    "- categories: [GNN]"
   ]
  },
  {
   "cell_type": "markdown",
   "id": "cf225bf2-8071-473f-a715-55080376bca0",
   "metadata": {},
   "source": [
    "### Import"
   ]
  },
  {
   "cell_type": "code",
   "execution_count": 1,
   "id": "98e7215f-d340-4c86-89ac-8155cc24a735",
   "metadata": {},
   "outputs": [
    {
     "name": "stderr",
     "output_type": "stream",
     "text": [
      "2022-06-02 17:45:06.354215: W tensorflow/stream_executor/platform/default/dso_loader.cc:64] Could not load dynamic library 'libcudart.so.11.0'; dlerror: libcudart.so.11.0: cannot open shared object file: No such file or directory\n",
      "2022-06-02 17:45:06.354238: I tensorflow/stream_executor/cuda/cudart_stub.cc:29] Ignore above cudart dlerror if you do not have a GPU set up on your machine.\n"
     ]
    }
   ],
   "source": [
    "import os\n",
    "import pandas as pd\n",
    "import numpy as np\n",
    "import networkx as nx\n",
    "import matplotlib.pyplot as plt\n",
    "import tensorflow as tf\n",
    "from tensorflow import keras\n",
    "from tensorflow.keras import layers"
   ]
  },
  {
   "cell_type": "markdown",
   "id": "4b3e76d9-0d98-4003-a973-40128d8b658c",
   "metadata": {},
   "source": [
    "### 데이터 구성"
   ]
  },
  {
   "cell_type": "markdown",
   "id": "56da2714-756a-4483-be05-c303d5fc2ef6",
   "metadata": {},
   "source": [
    "---"
   ]
  },
  {
   "cell_type": "markdown",
   "id": "aa4b1266-81bf-4c78-b9a2-ea7b56960f30",
   "metadata": {},
   "source": [
    "```python\n",
    "p = 0.3\n",
    "papers = pd.concat([pd.DataFrame(np.array([[p]*1500,[1-p]*1500]).reshape(1000,3),columns=['X1','X2','X3']),\n",
    "           pd.DataFrame(np.array([[1-p]*1500,[p]*1500]).reshape(1000,3),columns=['X4','X5','X6']),\n",
    "          pd.DataFrame(np.array([['Deep learning']*500,['Reinforcement learning']*500]).reshape(1000,1))],axis=1).reset_index().rename(columns={'index':'paper_id',0:'subject'})\n",
    "papers['paper_id'] = papers['paper_id']+1\n",
    "#시도1: 2500 행 모두 target/source 상관없이 1~1000 임의 부여\n",
    "citations = pd.DataFrame(np.array([[np.random.choice(range(1,1001),size=(2500,1))],\n",
    "                                   [np.random.choice(range(1,1001),size=(2500,1))]]).reshape(2500,2)).rename(columns = {0:'target',1:'source'})\n",
    "#시도2: 나머지 1250 행 reinforcement learning 행 500~1000를 target, source에 임의 부여\n",
    "citations =  pd.concat([pd.DataFrame(np.array([np.random.choice(range(1,501),size=(1250,1)),np.random.choice(range(1,501),size=(1250,1))]).reshape(1250,2)),\n",
    "                          pd.DataFrame(np.array([np.random.choice(range(501,1001),size=(1250,1)),np.random.choice(range(501,1001),size=(1250,1))]).reshape(1250,2))],ignore_index=True).rename(columns={0:'target',1:'source'})\n",
    "```"
   ]
  },
  {
   "cell_type": "markdown",
   "id": "afebde02-8eee-4c98-9b1e-be4dbe6c95e4",
   "metadata": {},
   "source": [
    "---"
   ]
  },
  {
   "cell_type": "code",
   "execution_count": 214,
   "id": "59fb6729-9919-4af5-9200-01366e25d839",
   "metadata": {},
   "outputs": [],
   "source": [
    "(x_train, y_train), (x_test, y_test) = tf.keras.datasets.mnist.load_data()"
   ]
  },
  {
   "cell_type": "code",
   "execution_count": 215,
   "id": "661a38f7-50c9-4c26-a39f-3bb983caf40f",
   "metadata": {},
   "outputs": [
    {
     "data": {
      "text/plain": [
       "((60000, 28, 28), (60000,), (10000, 28, 28), (10000,))"
      ]
     },
     "execution_count": 215,
     "metadata": {},
     "output_type": "execute_result"
    }
   ],
   "source": [
    "x_train.shape, y_train.shape, x_test.shape, y_test.shape"
   ]
  },
  {
   "cell_type": "code",
   "execution_count": 216,
   "id": "457a26b5-2d6b-4a9c-8f22-41bd602e90f3",
   "metadata": {},
   "outputs": [],
   "source": [
    "x_train, x_test = x_train[..., np.newaxis]/255.0, x_test[..., np.newaxis]/255.0"
   ]
  },
  {
   "cell_type": "code",
   "execution_count": 217,
   "id": "61143b09-3aae-4ed7-bd66-2104f4c44b4b",
   "metadata": {},
   "outputs": [],
   "source": [
    "def filter_36(x, y):\n",
    "    keep = (y == 3) | (y == 7)\n",
    "    x, y = x[keep], y[keep]\n",
    "    y = y == 3\n",
    "    return x,y"
   ]
  },
  {
   "cell_type": "code",
   "execution_count": 218,
   "id": "f7c40427-5d4c-4388-9014-0d941c559310",
   "metadata": {},
   "outputs": [],
   "source": [
    "x_train, y_train = filter_36(x_train, y_train)\n",
    "x_test, y_test = filter_36(x_test, y_test)"
   ]
  },
  {
   "cell_type": "code",
   "execution_count": 219,
   "id": "e9666b5d-9d15-47f4-8a3f-ef475321273f",
   "metadata": {},
   "outputs": [
    {
     "data": {
      "text/plain": [
       "<matplotlib.image.AxesImage at 0x7f11c5770fd0>"
      ]
     },
     "execution_count": 219,
     "metadata": {},
     "output_type": "execute_result"
    },
    {
     "data": {
      "image/png": "[encoded data removed]",
      "text/plain": [
       "<Figure size 432x288 with 1 Axes>"
      ]
     },
     "metadata": {
      "needs_background": "light"
     },
     "output_type": "display_data"
    }
   ],
   "source": [
    "plt.imshow(x_train[0])"
   ]
  },
  {
   "cell_type": "code",
   "execution_count": 220,
   "id": "900b756a-b05f-40f9-ad74-c38ef395ebd3",
   "metadata": {},
   "outputs": [
    {
     "data": {
      "text/plain": [
       "<matplotlib.image.AxesImage at 0x7f11c56e5730>"
      ]
     },
     "execution_count": 220,
     "metadata": {},
     "output_type": "execute_result"
    },
    {
     "data": {
      "image/png": "[encoded data removed]",
      "text/plain": [
       "<Figure size 432x288 with 1 Axes>"
      ]
     },
     "metadata": {
      "needs_background": "light"
     },
     "output_type": "display_data"
    }
   ],
   "source": [
    "plt.imshow(x_train[1000])"
   ]
  },
  {
   "cell_type": "code",
   "execution_count": 228,
   "id": "ad294a1c-6923-4abb-b8bb-1b016ce02a0b",
   "metadata": {},
   "outputs": [],
   "source": [
    "X= x_train.reshape(-1,784)/255\n",
    "y = list(map(lambda x: 0 if x == True else 1,y_train))\n",
    "XX = x_test.reshape(-1,784)/255\n",
    "yy = list(map(lambda x: 0 if x == True else 1,y_test))"
   ]
  },
  {
   "cell_type": "markdown",
   "id": "cbf1bd22-b233-4de1-9dac-e00f7afdbdfc",
   "metadata": {},
   "source": [
    "y가 3이면 0\n",
    "\n",
    "y가 7이면 1로"
   ]
  },
  {
   "cell_type": "code",
   "execution_count": 315,
   "id": "9a1a15f5-d810-4bb1-b363-ae67fad25295",
   "metadata": {},
   "outputs": [],
   "source": [
    "add_list = []"
   ]
  },
  {
   "cell_type": "code",
   "execution_count": 316,
   "id": "5a27093e-7a93-4309-81e1-5686b8607692",
   "metadata": {},
   "outputs": [],
   "source": [
    "add_list.append(X)"
   ]
  },
  {
   "cell_type": "code",
   "execution_count": 317,
   "id": "93eb3f4e-f69b-44be-8e25-28bf16a2ac72",
   "metadata": {},
   "outputs": [],
   "source": [
    "papers = pd.concat([pd.DataFrame(np.array(add_list).reshape(-1,784)),pd.DataFrame(np.array(y).reshape(-1,1))],axis=1).reset_index()"
   ]
  },
  {
   "cell_type": "code",
   "execution_count": 324,
   "id": "4687f4ba-21f3-46c8-ad83-d20539e739dd",
   "metadata": {},
   "outputs": [],
   "source": [
    "column_names = [\"paper_id\"] + [f\"X_{idx}\" for idx in range(1,785)] + [\"subject\"]\n",
    "papers.columns = column_names\n",
    "papers['paper_id'] = papers['paper_id'] + 1"
   ]
  },
  {
   "cell_type": "code",
   "execution_count": 449,
   "id": "1bb66ffe-5fba-496f-a96d-6a27cf8def06",
   "metadata": {},
   "outputs": [],
   "source": [
    "papers = papers.iloc[:5000,:]"
   ]
  },
  {
   "cell_type": "code",
   "execution_count": 450,
   "id": "7fa5eee4-c514-46b7-99c8-c60bec205edd",
   "metadata": {},
   "outputs": [],
   "source": [
    "_a = []"
   ]
  },
  {
   "cell_type": "code",
   "execution_count": 451,
   "id": "65f70b5d-08a7-462e-8a95-e7ed48740240",
   "metadata": {},
   "outputs": [],
   "source": [
    "for i in range(1,len(papers)+1):\n",
    "    for j in range(1,len(papers)+1):\n",
    "        _a.append([i])\n",
    "        _a.append([j])"
   ]
  },
  {
   "cell_type": "code",
   "execution_count": 452,
   "id": "57e0d479-ee90-4643-bf76-c0adc97b63c2",
   "metadata": {},
   "outputs": [],
   "source": [
    "citations = pd.DataFrame(np.array(_a).reshape(-1,2)).rename(columns = {0:'target',1:'source'})"
   ]
  },
  {
   "cell_type": "code",
   "execution_count": 454,
   "id": "21159b73-c3b8-490c-9917-24f708809ad9",
   "metadata": {},
   "outputs": [
    {
     "data": {
      "text/html": [
       "<div>\n",
       "<style scoped>\n",
       "    .dataframe tbody tr th:only-of-type {\n",
       "        vertical-align: middle;\n",
       "    }\n",
       "\n",
       "    .dataframe tbody tr th {\n",
       "        vertical-align: top;\n",
       "    }\n",
       "\n",
       "    .dataframe thead th {\n",
       "        text-align: right;\n",
       "    }\n",
       "</style>\n",
       "<table border=\"1\" class=\"dataframe\">\n",
       "  <thead>\n",
       "    <tr style=\"text-align: right;\">\n",
       "      <th></th>\n",
       "      <th>target</th>\n",
       "      <th>source</th>\n",
       "    </tr>\n",
       "  </thead>\n",
       "  <tbody>\n",
       "    <tr>\n",
       "      <th>0</th>\n",
       "      <td>1</td>\n",
       "      <td>1</td>\n",
       "    </tr>\n",
       "    <tr>\n",
       "      <th>1</th>\n",
       "      <td>1</td>\n",
       "      <td>2</td>\n",
       "    </tr>\n",
       "    <tr>\n",
       "      <th>2</th>\n",
       "      <td>1</td>\n",
       "      <td>3</td>\n",
       "    </tr>\n",
       "    <tr>\n",
       "      <th>3</th>\n",
       "      <td>1</td>\n",
       "      <td>4</td>\n",
       "    </tr>\n",
       "    <tr>\n",
       "      <th>4</th>\n",
       "      <td>1</td>\n",
       "      <td>5</td>\n",
       "    </tr>\n",
       "    <tr>\n",
       "      <th>...</th>\n",
       "      <td>...</td>\n",
       "      <td>...</td>\n",
       "    </tr>\n",
       "    <tr>\n",
       "      <th>24999995</th>\n",
       "      <td>5000</td>\n",
       "      <td>4996</td>\n",
       "    </tr>\n",
       "    <tr>\n",
       "      <th>24999996</th>\n",
       "      <td>5000</td>\n",
       "      <td>4997</td>\n",
       "    </tr>\n",
       "    <tr>\n",
       "      <th>24999997</th>\n",
       "      <td>5000</td>\n",
       "      <td>4998</td>\n",
       "    </tr>\n",
       "    <tr>\n",
       "      <th>24999998</th>\n",
       "      <td>5000</td>\n",
       "      <td>4999</td>\n",
       "    </tr>\n",
       "    <tr>\n",
       "      <th>24999999</th>\n",
       "      <td>5000</td>\n",
       "      <td>5000</td>\n",
       "    </tr>\n",
       "  </tbody>\n",
       "</table>\n",
       "<p>25000000 rows × 2 columns</p>\n",
       "</div>"
      ],
      "text/plain": [
       "          target  source\n",
       "0              1       1\n",
       "1              1       2\n",
       "2              1       3\n",
       "3              1       4\n",
       "4              1       5\n",
       "...          ...     ...\n",
       "24999995    5000    4996\n",
       "24999996    5000    4997\n",
       "24999997    5000    4998\n",
       "24999998    5000    4999\n",
       "24999999    5000    5000\n",
       "\n",
       "[25000000 rows x 2 columns]"
      ]
     },
     "execution_count": 454,
     "metadata": {},
     "output_type": "execute_result"
    }
   ],
   "source": [
    "citations"
   ]
  },
  {
   "cell_type": "markdown",
   "id": "43631d5c-935d-4626-9c1f-1aa769535094",
   "metadata": {
    "tags": []
   },
   "source": [
    "### 그래프 표현"
   ]
  },
  {
   "cell_type": "code",
   "execution_count": null,
   "id": "d2ed8314-238f-4155-b651-4424890d180f",
   "metadata": {},
   "outputs": [
    {
     "name": "stderr",
     "output_type": "stream",
     "text": [
      "/tmp/ipykernel_1854148/2181652251.py:5: SettingWithCopyWarning: \n",
      "A value is trying to be set on a copy of a slice from a DataFrame.\n",
      "Try using .loc[row_indexer,col_indexer] = value instead\n",
      "\n",
      "See the caveats in the documentation: https://pandas.pydata.org/pandas-docs/stable/user_guide/indexing.html#returning-a-view-versus-a-copy\n",
      "  papers[\"paper_id\"] = papers[\"paper_id\"].apply(lambda name: paper_idx[name])\n"
     ]
    },
    {
     "ename": "KeyError",
     "evalue": "5000",
     "output_type": "error",
     "traceback": [
      "\u001b[0;31m---------------------------------------------------------------------------\u001b[0m",
      "\u001b[0;31mKeyError\u001b[0m                                  Traceback (most recent call last)",
      "\u001b[0;32m/tmp/ipykernel_1854148/2181652251.py\u001b[0m in \u001b[0;36m<module>\u001b[0;34m\u001b[0m\n\u001b[1;32m      4\u001b[0m \u001b[0;34m\u001b[0m\u001b[0m\n\u001b[1;32m      5\u001b[0m \u001b[0mpapers\u001b[0m\u001b[0;34m[\u001b[0m\u001b[0;34m\"paper_id\"\u001b[0m\u001b[0;34m]\u001b[0m \u001b[0;34m=\u001b[0m \u001b[0mpapers\u001b[0m\u001b[0;34m[\u001b[0m\u001b[0;34m\"paper_id\"\u001b[0m\u001b[0;34m]\u001b[0m\u001b[0;34m.\u001b[0m\u001b[0mapply\u001b[0m\u001b[0;34m(\u001b[0m\u001b[0;32mlambda\u001b[0m \u001b[0mname\u001b[0m\u001b[0;34m:\u001b[0m \u001b[0mpaper_idx\u001b[0m\u001b[0;34m[\u001b[0m\u001b[0mname\u001b[0m\u001b[0;34m]\u001b[0m\u001b[0;34m)\u001b[0m\u001b[0;34m\u001b[0m\u001b[0;34m\u001b[0m\u001b[0m\n\u001b[0;32m----> 6\u001b[0;31m \u001b[0mcitations\u001b[0m\u001b[0;34m[\u001b[0m\u001b[0;34m\"source\"\u001b[0m\u001b[0;34m]\u001b[0m \u001b[0;34m=\u001b[0m \u001b[0mcitations\u001b[0m\u001b[0;34m[\u001b[0m\u001b[0;34m\"source\"\u001b[0m\u001b[0;34m]\u001b[0m\u001b[0;34m.\u001b[0m\u001b[0mapply\u001b[0m\u001b[0;34m(\u001b[0m\u001b[0;32mlambda\u001b[0m \u001b[0mname\u001b[0m\u001b[0;34m:\u001b[0m \u001b[0mpaper_idx\u001b[0m\u001b[0;34m[\u001b[0m\u001b[0mname\u001b[0m\u001b[0;34m]\u001b[0m\u001b[0;34m)\u001b[0m\u001b[0;34m\u001b[0m\u001b[0;34m\u001b[0m\u001b[0m\n\u001b[0m\u001b[1;32m      7\u001b[0m \u001b[0mcitations\u001b[0m\u001b[0;34m[\u001b[0m\u001b[0;34m\"target\"\u001b[0m\u001b[0;34m]\u001b[0m \u001b[0;34m=\u001b[0m \u001b[0mcitations\u001b[0m\u001b[0;34m[\u001b[0m\u001b[0;34m\"target\"\u001b[0m\u001b[0;34m]\u001b[0m\u001b[0;34m.\u001b[0m\u001b[0mapply\u001b[0m\u001b[0;34m(\u001b[0m\u001b[0;32mlambda\u001b[0m \u001b[0mname\u001b[0m\u001b[0;34m:\u001b[0m \u001b[0mpaper_idx\u001b[0m\u001b[0;34m[\u001b[0m\u001b[0mname\u001b[0m\u001b[0;34m]\u001b[0m\u001b[0;34m)\u001b[0m\u001b[0;34m\u001b[0m\u001b[0;34m\u001b[0m\u001b[0m\n\u001b[1;32m      8\u001b[0m \u001b[0mpapers\u001b[0m\u001b[0;34m[\u001b[0m\u001b[0;34m\"subject\"\u001b[0m\u001b[0;34m]\u001b[0m \u001b[0;34m=\u001b[0m \u001b[0mpapers\u001b[0m\u001b[0;34m[\u001b[0m\u001b[0;34m\"subject\"\u001b[0m\u001b[0;34m]\u001b[0m\u001b[0;34m.\u001b[0m\u001b[0mapply\u001b[0m\u001b[0;34m(\u001b[0m\u001b[0;32mlambda\u001b[0m \u001b[0mvalue\u001b[0m\u001b[0;34m:\u001b[0m \u001b[0mclass_idx\u001b[0m\u001b[0;34m[\u001b[0m\u001b[0mvalue\u001b[0m\u001b[0;34m]\u001b[0m\u001b[0;34m)\u001b[0m\u001b[0;34m\u001b[0m\u001b[0;34m\u001b[0m\u001b[0m\n",
      "\u001b[0;32m~/anaconda3/envs/csy/lib/python3.8/site-packages/pandas/core/series.py\u001b[0m in \u001b[0;36mapply\u001b[0;34m(self, func, convert_dtype, args, **kwargs)\u001b[0m\n\u001b[1;32m   4355\u001b[0m         \u001b[0mdtype\u001b[0m\u001b[0;34m:\u001b[0m \u001b[0mfloat64\u001b[0m\u001b[0;34m\u001b[0m\u001b[0;34m\u001b[0m\u001b[0m\n\u001b[1;32m   4356\u001b[0m         \"\"\"\n\u001b[0;32m-> 4357\u001b[0;31m         \u001b[0;32mreturn\u001b[0m \u001b[0mSeriesApply\u001b[0m\u001b[0;34m(\u001b[0m\u001b[0mself\u001b[0m\u001b[0;34m,\u001b[0m \u001b[0mfunc\u001b[0m\u001b[0;34m,\u001b[0m \u001b[0mconvert_dtype\u001b[0m\u001b[0;34m,\u001b[0m \u001b[0margs\u001b[0m\u001b[0;34m,\u001b[0m \u001b[0mkwargs\u001b[0m\u001b[0;34m)\u001b[0m\u001b[0;34m.\u001b[0m\u001b[0mapply\u001b[0m\u001b[0;34m(\u001b[0m\u001b[0;34m)\u001b[0m\u001b[0;34m\u001b[0m\u001b[0;34m\u001b[0m\u001b[0m\n\u001b[0m\u001b[1;32m   4358\u001b[0m \u001b[0;34m\u001b[0m\u001b[0m\n\u001b[1;32m   4359\u001b[0m     def _reduce(\n",
      "\u001b[0;32m~/anaconda3/envs/csy/lib/python3.8/site-packages/pandas/core/apply.py\u001b[0m in \u001b[0;36mapply\u001b[0;34m(self)\u001b[0m\n\u001b[1;32m   1041\u001b[0m             \u001b[0;32mreturn\u001b[0m \u001b[0mself\u001b[0m\u001b[0;34m.\u001b[0m\u001b[0mapply_str\u001b[0m\u001b[0;34m(\u001b[0m\u001b[0;34m)\u001b[0m\u001b[0;34m\u001b[0m\u001b[0;34m\u001b[0m\u001b[0m\n\u001b[1;32m   1042\u001b[0m \u001b[0;34m\u001b[0m\u001b[0m\n\u001b[0;32m-> 1043\u001b[0;31m         \u001b[0;32mreturn\u001b[0m \u001b[0mself\u001b[0m\u001b[0;34m.\u001b[0m\u001b[0mapply_standard\u001b[0m\u001b[0;34m(\u001b[0m\u001b[0;34m)\u001b[0m\u001b[0;34m\u001b[0m\u001b[0;34m\u001b[0m\u001b[0m\n\u001b[0m\u001b[1;32m   1044\u001b[0m \u001b[0;34m\u001b[0m\u001b[0m\n\u001b[1;32m   1045\u001b[0m     \u001b[0;32mdef\u001b[0m \u001b[0magg\u001b[0m\u001b[0;34m(\u001b[0m\u001b[0mself\u001b[0m\u001b[0;34m)\u001b[0m\u001b[0;34m:\u001b[0m\u001b[0;34m\u001b[0m\u001b[0;34m\u001b[0m\u001b[0m\n",
      "\u001b[0;32m~/anaconda3/envs/csy/lib/python3.8/site-packages/pandas/core/apply.py\u001b[0m in \u001b[0;36mapply_standard\u001b[0;34m(self)\u001b[0m\n\u001b[1;32m   1096\u001b[0m                 \u001b[0;31m# List[Union[Callable[..., Any], str]]]]]\"; expected\u001b[0m\u001b[0;34m\u001b[0m\u001b[0;34m\u001b[0m\u001b[0;34m\u001b[0m\u001b[0m\n\u001b[1;32m   1097\u001b[0m                 \u001b[0;31m# \"Callable[[Any], Any]\"\u001b[0m\u001b[0;34m\u001b[0m\u001b[0;34m\u001b[0m\u001b[0;34m\u001b[0m\u001b[0m\n\u001b[0;32m-> 1098\u001b[0;31m                 mapped = lib.map_infer(\n\u001b[0m\u001b[1;32m   1099\u001b[0m                     \u001b[0mvalues\u001b[0m\u001b[0;34m,\u001b[0m\u001b[0;34m\u001b[0m\u001b[0;34m\u001b[0m\u001b[0m\n\u001b[1;32m   1100\u001b[0m                     \u001b[0mf\u001b[0m\u001b[0;34m,\u001b[0m  \u001b[0;31m# type: ignore[arg-type]\u001b[0m\u001b[0;34m\u001b[0m\u001b[0;34m\u001b[0m\u001b[0m\n",
      "\u001b[0;32m~/anaconda3/envs/csy/lib/python3.8/site-packages/pandas/_libs/lib.pyx\u001b[0m in \u001b[0;36mpandas._libs.lib.map_infer\u001b[0;34m()\u001b[0m\n",
      "\u001b[0;32m/tmp/ipykernel_1854148/2181652251.py\u001b[0m in \u001b[0;36m<lambda>\u001b[0;34m(name)\u001b[0m\n\u001b[1;32m      4\u001b[0m \u001b[0;34m\u001b[0m\u001b[0m\n\u001b[1;32m      5\u001b[0m \u001b[0mpapers\u001b[0m\u001b[0;34m[\u001b[0m\u001b[0;34m\"paper_id\"\u001b[0m\u001b[0;34m]\u001b[0m \u001b[0;34m=\u001b[0m \u001b[0mpapers\u001b[0m\u001b[0;34m[\u001b[0m\u001b[0;34m\"paper_id\"\u001b[0m\u001b[0;34m]\u001b[0m\u001b[0;34m.\u001b[0m\u001b[0mapply\u001b[0m\u001b[0;34m(\u001b[0m\u001b[0;32mlambda\u001b[0m \u001b[0mname\u001b[0m\u001b[0;34m:\u001b[0m \u001b[0mpaper_idx\u001b[0m\u001b[0;34m[\u001b[0m\u001b[0mname\u001b[0m\u001b[0;34m]\u001b[0m\u001b[0;34m)\u001b[0m\u001b[0;34m\u001b[0m\u001b[0;34m\u001b[0m\u001b[0m\n\u001b[0;32m----> 6\u001b[0;31m \u001b[0mcitations\u001b[0m\u001b[0;34m[\u001b[0m\u001b[0;34m\"source\"\u001b[0m\u001b[0;34m]\u001b[0m \u001b[0;34m=\u001b[0m \u001b[0mcitations\u001b[0m\u001b[0;34m[\u001b[0m\u001b[0;34m\"source\"\u001b[0m\u001b[0;34m]\u001b[0m\u001b[0;34m.\u001b[0m\u001b[0mapply\u001b[0m\u001b[0;34m(\u001b[0m\u001b[0;32mlambda\u001b[0m \u001b[0mname\u001b[0m\u001b[0;34m:\u001b[0m \u001b[0mpaper_idx\u001b[0m\u001b[0;34m[\u001b[0m\u001b[0mname\u001b[0m\u001b[0;34m]\u001b[0m\u001b[0;34m)\u001b[0m\u001b[0;34m\u001b[0m\u001b[0;34m\u001b[0m\u001b[0m\n\u001b[0m\u001b[1;32m      7\u001b[0m \u001b[0mcitations\u001b[0m\u001b[0;34m[\u001b[0m\u001b[0;34m\"target\"\u001b[0m\u001b[0;34m]\u001b[0m \u001b[0;34m=\u001b[0m \u001b[0mcitations\u001b[0m\u001b[0;34m[\u001b[0m\u001b[0;34m\"target\"\u001b[0m\u001b[0;34m]\u001b[0m\u001b[0;34m.\u001b[0m\u001b[0mapply\u001b[0m\u001b[0;34m(\u001b[0m\u001b[0;32mlambda\u001b[0m \u001b[0mname\u001b[0m\u001b[0;34m:\u001b[0m \u001b[0mpaper_idx\u001b[0m\u001b[0;34m[\u001b[0m\u001b[0mname\u001b[0m\u001b[0;34m]\u001b[0m\u001b[0;34m)\u001b[0m\u001b[0;34m\u001b[0m\u001b[0;34m\u001b[0m\u001b[0m\n\u001b[1;32m      8\u001b[0m \u001b[0mpapers\u001b[0m\u001b[0;34m[\u001b[0m\u001b[0;34m\"subject\"\u001b[0m\u001b[0;34m]\u001b[0m \u001b[0;34m=\u001b[0m \u001b[0mpapers\u001b[0m\u001b[0;34m[\u001b[0m\u001b[0;34m\"subject\"\u001b[0m\u001b[0;34m]\u001b[0m\u001b[0;34m.\u001b[0m\u001b[0mapply\u001b[0m\u001b[0;34m(\u001b[0m\u001b[0;32mlambda\u001b[0m \u001b[0mvalue\u001b[0m\u001b[0;34m:\u001b[0m \u001b[0mclass_idx\u001b[0m\u001b[0;34m[\u001b[0m\u001b[0mvalue\u001b[0m\u001b[0;34m]\u001b[0m\u001b[0;34m)\u001b[0m\u001b[0;34m\u001b[0m\u001b[0;34m\u001b[0m\u001b[0m\n",
      "\u001b[0;31mKeyError\u001b[0m: 5000"
     ]
    }
   ],
   "source": [
    "class_values = sorted(papers[\"subject\"].unique())\n",
    "class_idx = {name: id for id, name in enumerate(class_values)}\n",
    "paper_idx = {name: idx for idx, name in enumerate(sorted(papers[\"paper_id\"].unique()))}\n",
    "\n",
    "papers[\"paper_id\"] = papers[\"paper_id\"].apply(lambda name: paper_idx[name])\n",
    "citations[\"source\"] = citations[\"source\"].apply(lambda name: paper_idx[name])\n",
    "citations[\"target\"] = citations[\"target\"].apply(lambda name: paper_idx[name])\n",
    "papers[\"subject\"] = papers[\"subject\"].apply(lambda value: class_idx[value])"
   ]
  },
  {
   "cell_type": "code",
   "execution_count": null,
   "id": "92af471b-f6ce-42bb-a849-1cbd33034fcb",
   "metadata": {},
   "outputs": [],
   "source": [
    "plt.figure(figsize=(10, 10))\n",
    "colors = papers[\"subject\"].tolist()\n",
    "cora_graph = nx.from_pandas_edgelist(citations.sample(n=800))\n",
    "subjects = list(papers[papers[\"paper_id\"].isin(list(cora_graph.nodes))][\"subject\"])\n",
    "nx.draw_spring(cora_graph, node_size=15, node_color=subjects)"
   ]
  },
  {
   "cell_type": "markdown",
   "id": "aea3bba9-d5dd-4595-8915-21d9ae9667a9",
   "metadata": {},
   "source": [
    "### Test vs Train"
   ]
  },
  {
   "cell_type": "code",
   "execution_count": 455,
   "id": "29b2ba4e-b70b-479b-92c6-e51a0a52dec9",
   "metadata": {},
   "outputs": [
    {
     "name": "stdout",
     "output_type": "stream",
     "text": [
      "Train data shape: (2495, 786)\n",
      "Test data shape: (2505, 786)\n"
     ]
    }
   ],
   "source": [
    "train_data, test_data = [], []\n",
    "\n",
    "for _, group_data in papers.groupby(\"subject\"):\n",
    "    # Select around 50% of the dataset for training.\n",
    "    random_selection = np.random.rand(len(group_data.index)) <= 0.5\n",
    "    train_data.append(group_data[random_selection])\n",
    "    test_data.append(group_data[~random_selection])\n",
    "\n",
    "train_data = pd.concat(train_data).sample(frac=1)\n",
    "test_data = pd.concat(test_data).sample(frac=1)\n",
    "\n",
    "print(\"Train data shape:\", train_data.shape)\n",
    "print(\"Test data shape:\", test_data.shape)"
   ]
  },
  {
   "cell_type": "code",
   "execution_count": 456,
   "id": "f87040a3-f0aa-4444-ac2c-24b6a4468a1f",
   "metadata": {},
   "outputs": [],
   "source": [
    "hidden_units = [32,32]\n",
    "learning_rate = 0.01\n",
    "dropout_rate = 0.5\n",
    "num_epochs = 300\n",
    "batch_size = 256"
   ]
  },
  {
   "cell_type": "code",
   "execution_count": 457,
   "id": "a02381d9-ed33-4314-a4d2-bf6ff83d9dfd",
   "metadata": {},
   "outputs": [],
   "source": [
    "def run_experiment(model, x_train, y_train):\n",
    "    # Compile the model.\n",
    "    model.compile(\n",
    "        optimizer=keras.optimizers.Adam(learning_rate),\n",
    "        loss=keras.losses.SparseCategoricalCrossentropy(from_logits=True),\n",
    "        metrics=[keras.metrics.SparseCategoricalAccuracy(name=\"acc\")],\n",
    "    )\n",
    "    # Create an early stopping callback.\n",
    "    early_stopping = keras.callbacks.EarlyStopping(\n",
    "        monitor=\"val_acc\", patience=50, restore_best_weights=True\n",
    "    )\n",
    "    # Fit the model.\n",
    "    history = model.fit(\n",
    "        x=x_train,\n",
    "        y=y_train,\n",
    "        epochs=num_epochs,\n",
    "        batch_size=batch_size,\n",
    "        validation_split=0.15,\n",
    "        callbacks=[early_stopping],\n",
    "    )\n",
    "\n",
    "    return history"
   ]
  },
  {
   "cell_type": "code",
   "execution_count": 458,
   "id": "e8d4e472-96c4-4336-814b-ead351e5fe15",
   "metadata": {},
   "outputs": [],
   "source": [
    "def display_learning_curves(history):\n",
    "    fig, (ax1, ax2) = plt.subplots(1, 2, figsize=(15, 5))\n",
    "\n",
    "    ax1.plot(history.history[\"loss\"])\n",
    "    ax1.plot(history.history[\"val_loss\"])\n",
    "    ax1.legend([\"train\", \"test\"], loc=\"upper right\")\n",
    "    ax1.set_xlabel(\"Epochs\")\n",
    "    ax1.set_ylabel(\"Loss\")\n",
    "\n",
    "    ax2.plot(history.history[\"acc\"])\n",
    "    ax2.plot(history.history[\"val_acc\"])\n",
    "    ax2.legend([\"train\", \"test\"], loc=\"upper right\")\n",
    "    ax2.set_xlabel(\"Epochs\")\n",
    "    ax2.set_ylabel(\"Accuracy\")\n",
    "    plt.show()"
   ]
  },
  {
   "cell_type": "code",
   "execution_count": 459,
   "id": "4ad6879b-52e8-4e32-8f1f-a47359a4e408",
   "metadata": {},
   "outputs": [],
   "source": [
    "def create_ffn(hidden_units, dropout_rate, name=None):\n",
    "    fnn_layers = []\n",
    "\n",
    "    for units in hidden_units:\n",
    "        fnn_layers.append(layers.BatchNormalization())\n",
    "        fnn_layers.append(layers.Dropout(dropout_rate))\n",
    "        fnn_layers.append(layers.Dense(units, activation=tf.nn.gelu))\n",
    "\n",
    "    return keras.Sequential(fnn_layers, name=name)"
   ]
  },
  {
   "cell_type": "code",
   "execution_count": 460,
   "id": "98affd7f-922e-496a-803d-05dfdbaa21d6",
   "metadata": {},
   "outputs": [],
   "source": [
    "feature_names = set(papers.columns) - {\"paper_id\", \"subject\"}\n",
    "num_features = len(feature_names)\n",
    "num_classes = len(class_idx)\n",
    "\n",
    "# Create train and test features as a numpy array.\n",
    "x_train = train_data[feature_names].to_numpy()\n",
    "x_test = test_data[feature_names].to_numpy()\n",
    "# Create train and test targets as a numpy array.\n",
    "y_train = train_data[\"subject\"]\n",
    "y_test = test_data[\"subject\"]"
   ]
  },
  {
   "cell_type": "code",
   "execution_count": 461,
   "id": "7005e167-e5cc-4106-b97f-c62ca7a11432",
   "metadata": {
    "tags": []
   },
   "outputs": [
    {
     "name": "stdout",
     "output_type": "stream",
     "text": [
      "Model: \"baseline\"\n",
      "__________________________________________________________________________________________________\n",
      " Layer (type)                   Output Shape         Param #     Connected to                     \n",
      "==================================================================================================\n",
      " input_features (InputLayer)    [(None, 784)]        0           []                               \n",
      "                                                                                                  \n",
      " ffn_block1 (Sequential)        (None, 32)           29440       ['input_features[0][0]']         \n",
      "                                                                                                  \n",
      " ffn_block2 (Sequential)        (None, 32)           2368        ['ffn_block1[0][0]']             \n",
      "                                                                                                  \n",
      " skip_connection2 (Add)         (None, 32)           0           ['ffn_block1[0][0]',             \n",
      "                                                                  'ffn_block2[0][0]']             \n",
      "                                                                                                  \n",
      " ffn_block3 (Sequential)        (None, 32)           2368        ['skip_connection2[0][0]']       \n",
      "                                                                                                  \n",
      " skip_connection3 (Add)         (None, 32)           0           ['skip_connection2[0][0]',       \n",
      "                                                                  'ffn_block3[0][0]']             \n",
      "                                                                                                  \n",
      " ffn_block4 (Sequential)        (None, 32)           2368        ['skip_connection3[0][0]']       \n",
      "                                                                                                  \n",
      " skip_connection4 (Add)         (None, 32)           0           ['skip_connection3[0][0]',       \n",
      "                                                                  'ffn_block4[0][0]']             \n",
      "                                                                                                  \n",
      " ffn_block5 (Sequential)        (None, 32)           2368        ['skip_connection4[0][0]']       \n",
      "                                                                                                  \n",
      " skip_connection5 (Add)         (None, 32)           0           ['skip_connection4[0][0]',       \n",
      "                                                                  'ffn_block5[0][0]']             \n",
      "                                                                                                  \n",
      " logits (Dense)                 (None, 2)            66          ['skip_connection5[0][0]']       \n",
      "                                                                                                  \n",
      "==================================================================================================\n",
      "Total params: 38,978\n",
      "Trainable params: 36,834\n",
      "Non-trainable params: 2,144\n",
      "__________________________________________________________________________________________________\n"
     ]
    }
   ],
   "source": [
    "def create_baseline_model(hidden_units, num_classes, dropout_rate=0.2):\n",
    "    inputs = layers.Input(shape=(num_features,), name=\"input_features\")\n",
    "    x = create_ffn(hidden_units, dropout_rate, name=f\"ffn_block1\")(inputs)\n",
    "    for block_idx in range(4):\n",
    "        # Create an FFN block.\n",
    "        x1 = create_ffn(hidden_units, dropout_rate, name=f\"ffn_block{block_idx + 2}\")(x)\n",
    "        # Add skip connection.\n",
    "        x = layers.Add(name=f\"skip_connection{block_idx + 2}\")([x, x1])\n",
    "    # Compute logits.\n",
    "    logits = layers.Dense(num_classes, name=\"logits\")(x)\n",
    "    # Create the model.\n",
    "    return keras.Model(inputs=inputs, outputs=logits, name=\"baseline\")\n",
    "\n",
    "\n",
    "baseline_model = create_baseline_model(hidden_units, num_classes, dropout_rate)\n",
    "baseline_model.summary()"
   ]
  },
  {
   "cell_type": "code",
   "execution_count": 462,
   "id": "d20c118a-26b8-45be-868d-f7da47a25162",
   "metadata": {
    "scrolled": true,
    "tags": []
   },
   "outputs": [
    {
     "name": "stdout",
     "output_type": "stream",
     "text": [
      "Epoch 1/300\n",
      "9/9 [==============================] - 2s 47ms/step - loss: 0.6886 - acc: 0.7580 - val_loss: 0.6983 - val_acc: 0.4507\n",
      "Epoch 2/300\n",
      "9/9 [==============================] - 0s 18ms/step - loss: 0.1663 - acc: 0.9429 - val_loss: 0.8778 - val_acc: 0.4507\n",
      "Epoch 3/300\n",
      "9/9 [==============================] - 0s 20ms/step - loss: 0.1517 - acc: 0.9486 - val_loss: 0.8383 - val_acc: 0.4507\n",
      "Epoch 4/300\n",
      "9/9 [==============================] - 0s 20ms/step - loss: 0.1310 - acc: 0.9561 - val_loss: 0.8872 - val_acc: 0.4507\n",
      "Epoch 5/300\n",
      "9/9 [==============================] - 0s 21ms/step - loss: 0.0984 - acc: 0.9651 - val_loss: 0.7821 - val_acc: 0.4507\n",
      "Epoch 6/300\n",
      "9/9 [==============================] - 0s 20ms/step - loss: 0.1001 - acc: 0.9623 - val_loss: 0.8425 - val_acc: 0.4507\n",
      "Epoch 7/300\n",
      "9/9 [==============================] - 0s 21ms/step - loss: 0.0904 - acc: 0.9670 - val_loss: 0.9597 - val_acc: 0.4507\n",
      "Epoch 8/300\n",
      "9/9 [==============================] - 0s 20ms/step - loss: 0.0849 - acc: 0.9684 - val_loss: 0.7426 - val_acc: 0.4507\n",
      "Epoch 9/300\n",
      "9/9 [==============================] - 0s 20ms/step - loss: 0.0863 - acc: 0.9698 - val_loss: 0.8980 - val_acc: 0.4507\n",
      "Epoch 10/300\n",
      "9/9 [==============================] - 0s 20ms/step - loss: 0.0768 - acc: 0.9703 - val_loss: 0.8290 - val_acc: 0.4507\n",
      "Epoch 11/300\n",
      "9/9 [==============================] - 0s 20ms/step - loss: 0.0775 - acc: 0.9736 - val_loss: 0.8428 - val_acc: 0.4507\n",
      "Epoch 12/300\n",
      "9/9 [==============================] - 0s 20ms/step - loss: 0.0607 - acc: 0.9769 - val_loss: 1.1768 - val_acc: 0.4507\n",
      "Epoch 13/300\n",
      "9/9 [==============================] - 0s 20ms/step - loss: 0.0833 - acc: 0.9684 - val_loss: 0.8277 - val_acc: 0.4507\n",
      "Epoch 14/300\n",
      "9/9 [==============================] - 0s 20ms/step - loss: 0.0653 - acc: 0.9755 - val_loss: 1.1279 - val_acc: 0.4507\n",
      "Epoch 15/300\n",
      "9/9 [==============================] - 0s 20ms/step - loss: 0.0546 - acc: 0.9783 - val_loss: 1.1278 - val_acc: 0.4507\n",
      "Epoch 16/300\n",
      "9/9 [==============================] - 0s 20ms/step - loss: 0.0650 - acc: 0.9797 - val_loss: 1.2620 - val_acc: 0.4507\n",
      "Epoch 17/300\n",
      "9/9 [==============================] - 0s 20ms/step - loss: 0.0428 - acc: 0.9858 - val_loss: 1.1649 - val_acc: 0.4507\n",
      "Epoch 18/300\n",
      "9/9 [==============================] - 0s 20ms/step - loss: 0.0549 - acc: 0.9802 - val_loss: 1.3596 - val_acc: 0.4507\n",
      "Epoch 19/300\n",
      "9/9 [==============================] - 0s 20ms/step - loss: 0.0569 - acc: 0.9778 - val_loss: 1.1887 - val_acc: 0.4507\n",
      "Epoch 20/300\n",
      "9/9 [==============================] - 0s 20ms/step - loss: 0.0457 - acc: 0.9830 - val_loss: 1.4334 - val_acc: 0.4507\n",
      "Epoch 21/300\n",
      "9/9 [==============================] - 0s 20ms/step - loss: 0.0485 - acc: 0.9802 - val_loss: 1.0609 - val_acc: 0.4507\n",
      "Epoch 22/300\n",
      "9/9 [==============================] - 0s 20ms/step - loss: 0.0440 - acc: 0.9811 - val_loss: 1.0820 - val_acc: 0.4507\n",
      "Epoch 23/300\n",
      "9/9 [==============================] - 0s 20ms/step - loss: 0.0487 - acc: 0.9802 - val_loss: 1.4079 - val_acc: 0.4507\n",
      "Epoch 24/300\n",
      "9/9 [==============================] - 0s 20ms/step - loss: 0.0515 - acc: 0.9811 - val_loss: 0.9959 - val_acc: 0.4507\n",
      "Epoch 25/300\n",
      "9/9 [==============================] - 0s 20ms/step - loss: 0.0519 - acc: 0.9788 - val_loss: 1.3277 - val_acc: 0.4507\n",
      "Epoch 26/300\n",
      "9/9 [==============================] - 0s 20ms/step - loss: 0.0499 - acc: 0.9788 - val_loss: 0.8057 - val_acc: 0.4507\n",
      "Epoch 27/300\n",
      "9/9 [==============================] - 0s 20ms/step - loss: 0.0419 - acc: 0.9854 - val_loss: 0.8878 - val_acc: 0.4507\n",
      "Epoch 28/300\n",
      "9/9 [==============================] - 0s 20ms/step - loss: 0.0544 - acc: 0.9797 - val_loss: 1.0855 - val_acc: 0.4507\n",
      "Epoch 29/300\n",
      "9/9 [==============================] - 0s 21ms/step - loss: 0.0493 - acc: 0.9821 - val_loss: 0.4144 - val_acc: 0.9600\n",
      "Epoch 30/300\n",
      "9/9 [==============================] - 0s 20ms/step - loss: 0.0518 - acc: 0.9821 - val_loss: 0.8995 - val_acc: 0.4507\n",
      "Epoch 31/300\n",
      "9/9 [==============================] - 0s 21ms/step - loss: 0.0472 - acc: 0.9816 - val_loss: 0.8771 - val_acc: 0.4507\n",
      "Epoch 32/300\n",
      "9/9 [==============================] - 0s 21ms/step - loss: 0.0442 - acc: 0.9821 - val_loss: 0.3209 - val_acc: 0.9893\n",
      "Epoch 33/300\n",
      "9/9 [==============================] - 0s 20ms/step - loss: 0.0398 - acc: 0.9849 - val_loss: 0.9869 - val_acc: 0.4507\n",
      "Epoch 34/300\n",
      "9/9 [==============================] - 0s 20ms/step - loss: 0.0470 - acc: 0.9877 - val_loss: 0.2652 - val_acc: 0.9920\n",
      "Epoch 35/300\n",
      "9/9 [==============================] - 0s 20ms/step - loss: 0.0365 - acc: 0.9887 - val_loss: 0.2271 - val_acc: 0.9920\n",
      "Epoch 36/300\n",
      "9/9 [==============================] - 0s 20ms/step - loss: 0.0337 - acc: 0.9892 - val_loss: 0.3055 - val_acc: 0.9467\n",
      "Epoch 37/300\n",
      "9/9 [==============================] - 0s 20ms/step - loss: 0.0407 - acc: 0.9840 - val_loss: 0.2650 - val_acc: 0.9707\n",
      "Epoch 38/300\n",
      "9/9 [==============================] - 0s 21ms/step - loss: 0.0323 - acc: 0.9877 - val_loss: 0.1592 - val_acc: 0.9867\n",
      "Epoch 39/300\n",
      "9/9 [==============================] - 0s 20ms/step - loss: 0.0470 - acc: 0.9821 - val_loss: 0.1550 - val_acc: 0.9787\n",
      "Epoch 40/300\n",
      "9/9 [==============================] - 0s 20ms/step - loss: 0.0428 - acc: 0.9811 - val_loss: 0.2270 - val_acc: 0.9787\n",
      "Epoch 41/300\n",
      "9/9 [==============================] - 0s 20ms/step - loss: 0.0304 - acc: 0.9887 - val_loss: 0.1353 - val_acc: 0.9893\n",
      "Epoch 42/300\n",
      "9/9 [==============================] - 0s 21ms/step - loss: 0.0414 - acc: 0.9840 - val_loss: 0.3085 - val_acc: 0.8693\n",
      "Epoch 43/300\n",
      "9/9 [==============================] - 0s 20ms/step - loss: 0.0378 - acc: 0.9863 - val_loss: 0.1179 - val_acc: 0.9920\n",
      "Epoch 44/300\n",
      "9/9 [==============================] - 0s 20ms/step - loss: 0.0422 - acc: 0.9863 - val_loss: 0.0998 - val_acc: 0.9920\n",
      "Epoch 45/300\n",
      "9/9 [==============================] - 0s 20ms/step - loss: 0.0366 - acc: 0.9840 - val_loss: 0.7612 - val_acc: 0.5200\n",
      "Epoch 46/300\n",
      "9/9 [==============================] - 0s 20ms/step - loss: 0.0387 - acc: 0.9863 - val_loss: 0.3523 - val_acc: 0.7920\n",
      "Epoch 47/300\n",
      "9/9 [==============================] - 0s 20ms/step - loss: 0.0336 - acc: 0.9901 - val_loss: 0.1056 - val_acc: 0.9920\n",
      "Epoch 48/300\n",
      "9/9 [==============================] - 0s 20ms/step - loss: 0.0451 - acc: 0.9858 - val_loss: 0.3044 - val_acc: 0.8533\n",
      "Epoch 49/300\n",
      "9/9 [==============================] - 0s 21ms/step - loss: 0.0407 - acc: 0.9844 - val_loss: 0.4935 - val_acc: 0.6480\n",
      "Epoch 50/300\n",
      "9/9 [==============================] - 0s 21ms/step - loss: 0.0400 - acc: 0.9840 - val_loss: 0.0846 - val_acc: 0.9920\n",
      "Epoch 51/300\n",
      "9/9 [==============================] - 0s 21ms/step - loss: 0.0313 - acc: 0.9887 - val_loss: 0.1706 - val_acc: 0.9653\n",
      "Epoch 52/300\n",
      "9/9 [==============================] - 0s 20ms/step - loss: 0.0342 - acc: 0.9896 - val_loss: 0.1790 - val_acc: 0.9467\n",
      "Epoch 53/300\n",
      "9/9 [==============================] - 0s 21ms/step - loss: 0.0318 - acc: 0.9873 - val_loss: 0.0536 - val_acc: 0.9920\n",
      "Epoch 54/300\n",
      "9/9 [==============================] - 0s 20ms/step - loss: 0.0345 - acc: 0.9849 - val_loss: 0.0548 - val_acc: 0.9920\n",
      "Epoch 55/300\n",
      "9/9 [==============================] - 0s 20ms/step - loss: 0.0288 - acc: 0.9892 - val_loss: 0.4993 - val_acc: 0.7093\n",
      "Epoch 56/300\n",
      "9/9 [==============================] - 0s 20ms/step - loss: 0.0370 - acc: 0.9882 - val_loss: 0.1926 - val_acc: 0.9227\n",
      "Epoch 57/300\n",
      "9/9 [==============================] - 0s 21ms/step - loss: 0.0346 - acc: 0.9868 - val_loss: 0.3022 - val_acc: 0.8453\n",
      "Epoch 58/300\n",
      "9/9 [==============================] - 0s 21ms/step - loss: 0.0358 - acc: 0.9825 - val_loss: 0.0585 - val_acc: 0.9840\n",
      "Epoch 59/300\n",
      "9/9 [==============================] - 0s 20ms/step - loss: 0.0380 - acc: 0.9863 - val_loss: 0.0543 - val_acc: 0.9867\n",
      "Epoch 60/300\n",
      "9/9 [==============================] - 0s 20ms/step - loss: 0.0357 - acc: 0.9868 - val_loss: 0.1075 - val_acc: 0.9627\n",
      "Epoch 61/300\n",
      "9/9 [==============================] - 0s 21ms/step - loss: 0.0387 - acc: 0.9858 - val_loss: 0.0778 - val_acc: 0.9707\n",
      "Epoch 62/300\n",
      "9/9 [==============================] - 0s 20ms/step - loss: 0.0447 - acc: 0.9825 - val_loss: 0.0797 - val_acc: 0.9707\n",
      "Epoch 63/300\n",
      "9/9 [==============================] - 0s 20ms/step - loss: 0.0368 - acc: 0.9863 - val_loss: 0.1042 - val_acc: 0.9760\n",
      "Epoch 64/300\n",
      "9/9 [==============================] - 0s 20ms/step - loss: 0.0402 - acc: 0.9840 - val_loss: 0.0374 - val_acc: 0.9920\n",
      "Epoch 65/300\n",
      "9/9 [==============================] - 0s 21ms/step - loss: 0.0443 - acc: 0.9868 - val_loss: 0.0290 - val_acc: 0.9973\n",
      "Epoch 66/300\n",
      "9/9 [==============================] - 0s 20ms/step - loss: 0.0511 - acc: 0.9840 - val_loss: 0.1031 - val_acc: 0.9653\n",
      "Epoch 67/300\n",
      "9/9 [==============================] - 0s 20ms/step - loss: 0.0431 - acc: 0.9830 - val_loss: 0.0398 - val_acc: 0.9920\n",
      "Epoch 68/300\n",
      "9/9 [==============================] - 0s 19ms/step - loss: 0.0418 - acc: 0.9835 - val_loss: 0.0730 - val_acc: 0.9787\n",
      "Epoch 69/300\n",
      "9/9 [==============================] - 0s 20ms/step - loss: 0.0317 - acc: 0.9910 - val_loss: 0.0360 - val_acc: 0.9920\n",
      "Epoch 70/300\n",
      "9/9 [==============================] - 0s 20ms/step - loss: 0.0259 - acc: 0.9925 - val_loss: 0.0299 - val_acc: 0.9920\n",
      "Epoch 71/300\n",
      "9/9 [==============================] - 0s 20ms/step - loss: 0.0396 - acc: 0.9892 - val_loss: 0.0259 - val_acc: 0.9920\n",
      "Epoch 72/300\n",
      "9/9 [==============================] - 0s 20ms/step - loss: 0.0341 - acc: 0.9887 - val_loss: 0.0239 - val_acc: 0.9947\n",
      "Epoch 73/300\n",
      "9/9 [==============================] - 0s 20ms/step - loss: 0.0280 - acc: 0.9896 - val_loss: 0.0231 - val_acc: 0.9920\n",
      "Epoch 74/300\n",
      "9/9 [==============================] - 0s 21ms/step - loss: 0.0298 - acc: 0.9896 - val_loss: 0.0287 - val_acc: 0.9920\n",
      "Epoch 75/300\n",
      "9/9 [==============================] - 0s 20ms/step - loss: 0.0261 - acc: 0.9915 - val_loss: 0.0175 - val_acc: 0.9947\n",
      "Epoch 76/300\n",
      "9/9 [==============================] - 0s 20ms/step - loss: 0.0248 - acc: 0.9920 - val_loss: 0.0255 - val_acc: 0.9920\n",
      "Epoch 77/300\n",
      "9/9 [==============================] - 0s 21ms/step - loss: 0.0268 - acc: 0.9925 - val_loss: 0.0265 - val_acc: 0.9920\n",
      "Epoch 78/300\n",
      "9/9 [==============================] - 0s 20ms/step - loss: 0.0290 - acc: 0.9892 - val_loss: 0.0204 - val_acc: 0.9920\n",
      "Epoch 79/300\n",
      "9/9 [==============================] - 0s 20ms/step - loss: 0.0360 - acc: 0.9858 - val_loss: 0.0220 - val_acc: 0.9920\n",
      "Epoch 80/300\n",
      "9/9 [==============================] - 0s 20ms/step - loss: 0.0321 - acc: 0.9882 - val_loss: 0.0182 - val_acc: 0.9920\n",
      "Epoch 81/300\n",
      "9/9 [==============================] - 0s 20ms/step - loss: 0.0365 - acc: 0.9854 - val_loss: 0.0301 - val_acc: 0.9920\n",
      "Epoch 82/300\n",
      "9/9 [==============================] - 0s 20ms/step - loss: 0.0331 - acc: 0.9873 - val_loss: 0.0209 - val_acc: 0.9920\n",
      "Epoch 83/300\n",
      "9/9 [==============================] - 0s 21ms/step - loss: 0.0253 - acc: 0.9915 - val_loss: 0.0194 - val_acc: 0.9920\n",
      "Epoch 84/300\n",
      "9/9 [==============================] - 0s 20ms/step - loss: 0.0279 - acc: 0.9906 - val_loss: 0.0213 - val_acc: 0.9920\n",
      "Epoch 85/300\n",
      "9/9 [==============================] - 0s 21ms/step - loss: 0.0265 - acc: 0.9896 - val_loss: 0.0281 - val_acc: 0.9947\n",
      "Epoch 86/300\n",
      "9/9 [==============================] - 0s 21ms/step - loss: 0.0296 - acc: 0.9901 - val_loss: 0.0149 - val_acc: 0.9947\n",
      "Epoch 87/300\n",
      "9/9 [==============================] - 0s 20ms/step - loss: 0.0326 - acc: 0.9892 - val_loss: 0.0572 - val_acc: 0.9867\n",
      "Epoch 88/300\n",
      "9/9 [==============================] - 0s 21ms/step - loss: 0.0319 - acc: 0.9887 - val_loss: 0.0358 - val_acc: 0.9893\n",
      "Epoch 89/300\n",
      "9/9 [==============================] - 0s 20ms/step - loss: 0.0320 - acc: 0.9887 - val_loss: 0.0246 - val_acc: 0.9920\n",
      "Epoch 90/300\n",
      "9/9 [==============================] - 0s 20ms/step - loss: 0.0310 - acc: 0.9882 - val_loss: 0.0982 - val_acc: 0.9680\n",
      "Epoch 91/300\n",
      "9/9 [==============================] - 0s 21ms/step - loss: 0.0447 - acc: 0.9854 - val_loss: 0.0461 - val_acc: 0.9867\n",
      "Epoch 92/300\n",
      "9/9 [==============================] - 0s 20ms/step - loss: 0.0397 - acc: 0.9835 - val_loss: 0.0215 - val_acc: 0.9920\n",
      "Epoch 93/300\n",
      "9/9 [==============================] - 0s 20ms/step - loss: 0.0271 - acc: 0.9915 - val_loss: 0.0245 - val_acc: 0.9920\n",
      "Epoch 94/300\n",
      "9/9 [==============================] - 0s 20ms/step - loss: 0.0295 - acc: 0.9906 - val_loss: 0.0243 - val_acc: 0.9920\n",
      "Epoch 95/300\n",
      "9/9 [==============================] - 0s 21ms/step - loss: 0.0217 - acc: 0.9925 - val_loss: 0.0341 - val_acc: 0.9920\n",
      "Epoch 96/300\n",
      "9/9 [==============================] - 0s 21ms/step - loss: 0.0271 - acc: 0.9910 - val_loss: 0.0301 - val_acc: 0.9920\n",
      "Epoch 97/300\n",
      "9/9 [==============================] - 0s 20ms/step - loss: 0.0246 - acc: 0.9925 - val_loss: 0.0219 - val_acc: 0.9920\n",
      "Epoch 98/300\n",
      "9/9 [==============================] - 0s 20ms/step - loss: 0.0361 - acc: 0.9896 - val_loss: 0.0400 - val_acc: 0.9840\n",
      "Epoch 99/300\n",
      "9/9 [==============================] - 0s 20ms/step - loss: 0.0256 - acc: 0.9906 - val_loss: 0.0209 - val_acc: 0.9920\n",
      "Epoch 100/300\n",
      "9/9 [==============================] - 0s 20ms/step - loss: 0.0322 - acc: 0.9901 - val_loss: 0.0157 - val_acc: 0.9947\n",
      "Epoch 101/300\n",
      "9/9 [==============================] - 0s 20ms/step - loss: 0.0196 - acc: 0.9948 - val_loss: 0.0129 - val_acc: 0.9973\n",
      "Epoch 102/300\n",
      "9/9 [==============================] - 0s 21ms/step - loss: 0.0323 - acc: 0.9868 - val_loss: 0.0236 - val_acc: 0.9920\n",
      "Epoch 103/300\n",
      "9/9 [==============================] - 0s 20ms/step - loss: 0.0224 - acc: 0.9915 - val_loss: 0.0187 - val_acc: 0.9920\n",
      "Epoch 104/300\n",
      "9/9 [==============================] - 0s 20ms/step - loss: 0.0225 - acc: 0.9929 - val_loss: 0.0158 - val_acc: 0.9920\n",
      "Epoch 105/300\n",
      "9/9 [==============================] - 0s 20ms/step - loss: 0.0350 - acc: 0.9896 - val_loss: 0.0371 - val_acc: 0.9867\n",
      "Epoch 106/300\n",
      "9/9 [==============================] - 0s 20ms/step - loss: 0.0265 - acc: 0.9920 - val_loss: 0.0313 - val_acc: 0.9893\n",
      "Epoch 107/300\n",
      "9/9 [==============================] - 0s 21ms/step - loss: 0.0221 - acc: 0.9906 - val_loss: 0.0175 - val_acc: 0.9947\n",
      "Epoch 108/300\n",
      "9/9 [==============================] - 0s 20ms/step - loss: 0.0195 - acc: 0.9925 - val_loss: 0.0314 - val_acc: 0.9920\n",
      "Epoch 109/300\n",
      "9/9 [==============================] - 0s 20ms/step - loss: 0.0292 - acc: 0.9896 - val_loss: 0.0176 - val_acc: 0.9947\n",
      "Epoch 110/300\n",
      "9/9 [==============================] - 0s 20ms/step - loss: 0.0365 - acc: 0.9858 - val_loss: 0.0188 - val_acc: 0.9920\n",
      "Epoch 111/300\n",
      "9/9 [==============================] - 0s 20ms/step - loss: 0.0330 - acc: 0.9896 - val_loss: 0.0146 - val_acc: 0.9947\n",
      "Epoch 112/300\n",
      "9/9 [==============================] - 0s 20ms/step - loss: 0.0237 - acc: 0.9925 - val_loss: 0.0142 - val_acc: 0.9947\n",
      "Epoch 113/300\n",
      "9/9 [==============================] - 0s 20ms/step - loss: 0.0245 - acc: 0.9910 - val_loss: 0.0529 - val_acc: 0.9893\n",
      "Epoch 114/300\n",
      "9/9 [==============================] - 0s 20ms/step - loss: 0.0302 - acc: 0.9901 - val_loss: 0.0183 - val_acc: 0.9947\n",
      "Epoch 115/300\n",
      "9/9 [==============================] - 0s 21ms/step - loss: 0.0238 - acc: 0.9920 - val_loss: 0.0335 - val_acc: 0.9893\n"
     ]
    }
   ],
   "source": [
    "history = run_experiment(baseline_model, x_train, y_train)"
   ]
  },
  {
   "cell_type": "code",
   "execution_count": 463,
   "id": "f57921d1-fa5d-45f2-9a04-4673c006392c",
   "metadata": {},
   "outputs": [
    {
     "data": {
      "image/png": "[encoded data removed]",
      "text/plain": [
       "<Figure size 1080x360 with 2 Axes>"
      ]
     },
     "metadata": {
      "needs_background": "light"
     },
     "output_type": "display_data"
    }
   ],
   "source": [
    "display_learning_curves(history)"
   ]
  },
  {
   "cell_type": "code",
   "execution_count": 16,
   "id": "c37eb17a-7aea-4c4d-912e-97ef6ace88e7",
   "metadata": {},
   "outputs": [
    {
     "name": "stdout",
     "output_type": "stream",
     "text": [
      "Test accuracy: 100.0%\n"
     ]
    }
   ],
   "source": [
    "_, test_accuracy = baseline_model.evaluate(x=x_test, y=y_test, verbose=0)\n",
    "print(f\"Test accuracy: {round(test_accuracy * 100, 2)}%\")"
   ]
  },
  {
   "cell_type": "markdown",
   "id": "ec16bd0c-202c-4b1a-b447-dbfd07558df0",
   "metadata": {
    "tags": []
   },
   "source": [
    "### baseline 모델 예측"
   ]
  },
  {
   "cell_type": "code",
   "execution_count": 464,
   "id": "7e996d18-027b-42dd-b821-4e68031387d9",
   "metadata": {},
   "outputs": [],
   "source": [
    "def generate_random_instances(num_instances):\n",
    "    token_probability = x_train.mean(axis=0)\n",
    "    instances = []\n",
    "    for _ in range(num_instances):\n",
    "        probabilities = np.random.uniform(size=len(token_probability))\n",
    "        instance = (probabilities <= token_probability).astype(int)\n",
    "        instances.append(instance)\n",
    "\n",
    "    return np.array(instances)\n",
    "\n",
    "\n",
    "def display_class_probabilities(probabilities):\n",
    "    for instance_idx, probs in enumerate(probabilities):\n",
    "        print(f\"Instance {instance_idx + 1}:\")\n",
    "        for class_idx, prob in enumerate(probs):\n",
    "            print(f\"- {class_values[class_idx]}: {round(prob * 100, 2)}%\")"
   ]
  },
  {
   "cell_type": "code",
   "execution_count": 465,
   "id": "aa584640-ef63-45eb-bb5a-1e463bbc8c82",
   "metadata": {},
   "outputs": [
    {
     "name": "stdout",
     "output_type": "stream",
     "text": [
      "Instance 1:\n",
      "- 0: 36.67%\n",
      "- 1: 63.33%\n",
      "Instance 2:\n",
      "- 0: 36.67%\n",
      "- 1: 63.33%\n"
     ]
    }
   ],
   "source": [
    "new_instances = generate_random_instances(num_classes)\n",
    "logits = baseline_model.predict(new_instances)\n",
    "probabilities = keras.activations.softmax(tf.convert_to_tensor(logits)).numpy()\n",
    "display_class_probabilities(probabilities)"
   ]
  },
  {
   "cell_type": "code",
   "execution_count": 470,
   "id": "89ed6e2b-10ab-46e8-9658-d4148430a7d6",
   "metadata": {},
   "outputs": [
    {
     "data": {
      "text/plain": [
       "array([   1,    1,    1, ..., 5000, 5000, 5000])"
      ]
     },
     "execution_count": 470,
     "metadata": {},
     "output_type": "execute_result"
    }
   ],
   "source": [
    "citations[[\"source\", \"target\"]].to_numpy().T[1]"
   ]
  },
  {
   "cell_type": "code",
   "execution_count": null,
   "id": "1b71e68a-d575-446d-8380-bbd4325e134c",
   "metadata": {},
   "outputs": [],
   "source": []
  },
  {
   "cell_type": "code",
   "execution_count": 471,
   "id": "9568b005-2d76-46f7-944f-45bc5b50f395",
   "metadata": {},
   "outputs": [
    {
     "name": "stdout",
     "output_type": "stream",
     "text": [
      "Edges shape: (2, 25000000)\n",
      "Nodes shape: (5000, 784)\n"
     ]
    }
   ],
   "source": [
    "# Create an edges array (sparse adjacency matrix) of shape [2, num_edges].\n",
    "edges = citations[[\"source\", \"target\"]].to_numpy().T\n",
    "# Create an edge weights array of ones.\n",
    "edge_weights = tf.ones(shape=edges.shape[1])\n",
    "# Create a node features array of shape [num_nodes, num_features].\n",
    "node_features = tf.cast(\n",
    "    papers.sort_values(\"paper_id\")[feature_names].to_numpy(), dtype=tf.dtypes.float32\n",
    ")\n",
    "# Create graph info tuple with node_features, edges, and edge_weights.\n",
    "graph_info = (node_features, edges, edge_weights)\n",
    "\n",
    "print(\"Edges shape:\", edges.shape)\n",
    "print(\"Nodes shape:\", node_features.shape)"
   ]
  },
  {
   "cell_type": "code",
   "execution_count": 472,
   "id": "8ede3b45-6350-400a-9bac-d9b1399b4f6b",
   "metadata": {},
   "outputs": [
    {
     "data": {
      "text/plain": [
       "TensorShape([25000000])"
      ]
     },
     "execution_count": 472,
     "metadata": {},
     "output_type": "execute_result"
    }
   ],
   "source": [
    "edge_weights.shape"
   ]
  },
  {
   "cell_type": "code",
   "execution_count": 473,
   "id": "e63fa74a-d1d6-496e-85ef-c65016d1d757",
   "metadata": {},
   "outputs": [],
   "source": [
    "class GraphConvLayer(layers.Layer):\n",
    "    def __init__(\n",
    "        self,\n",
    "        hidden_units,\n",
    "        dropout_rate=0.2,\n",
    "        aggregation_type=\"mean\",\n",
    "        combination_type=\"concat\",\n",
    "        normalize=False,\n",
    "        *args,\n",
    "        **kwargs,\n",
    "    ):\n",
    "        super(GraphConvLayer, self).__init__(*args, **kwargs)\n",
    "\n",
    "        self.aggregation_type = aggregation_type\n",
    "        self.combination_type = combination_type\n",
    "        self.normalize = normalize\n",
    "\n",
    "        self.ffn_prepare = create_ffn(hidden_units, dropout_rate)\n",
    "        if self.combination_type == \"gated\":\n",
    "            self.update_fn = layers.GRU(\n",
    "                units=hidden_units,\n",
    "                activation=\"tanh\",\n",
    "                recurrent_activation=\"sigmoid\",\n",
    "                dropout=dropout_rate,\n",
    "                return_state=True,\n",
    "                recurrent_dropout=dropout_rate,\n",
    "            )\n",
    "        else:\n",
    "            self.update_fn = create_ffn(hidden_units, dropout_rate)\n",
    "\n",
    "    def prepare(self, node_repesentations, weights=None):\n",
    "        # node_repesentations shape is [num_edges, embedding_dim].\n",
    "        messages = self.ffn_prepare(node_repesentations)\n",
    "        if weights is not None:\n",
    "            messages = messages * tf.expand_dims(weights, -1)\n",
    "        return messages\n",
    "\n",
    "    def aggregate(self, node_indices, neighbour_messages):\n",
    "        # node_indices shape is [num_edges].\n",
    "        # neighbour_messages shape: [num_edges, representation_dim].\n",
    "        num_nodes = tf.math.reduce_max(node_indices) + 1\n",
    "        if self.aggregation_type == \"sum\":\n",
    "            aggregated_message = tf.math.unsorted_segment_sum(\n",
    "                neighbour_messages, node_indices, num_segments=num_nodes\n",
    "            )\n",
    "        elif self.aggregation_type == \"mean\":\n",
    "            aggregated_message = tf.math.unsorted_segment_mean(\n",
    "                neighbour_messages, node_indices, num_segments=num_nodes\n",
    "            )\n",
    "        elif self.aggregation_type == \"max\":\n",
    "            aggregated_message = tf.math.unsorted_segment_max(\n",
    "                neighbour_messages, node_indices, num_segments=num_nodes\n",
    "            )\n",
    "        else:\n",
    "            raise ValueError(f\"Invalid aggregation type: {self.aggregation_type}.\")\n",
    "\n",
    "        return aggregated_message\n",
    "\n",
    "    def update(self, node_repesentations, aggregated_messages):\n",
    "        # node_repesentations shape is [num_nodes, representation_dim].\n",
    "        # aggregated_messages shape is [num_nodes, representation_dim].\n",
    "        if self.combination_type == \"gru\":\n",
    "            # Create a sequence of two elements for the GRU layer.\n",
    "            h = tf.stack([node_repesentations, aggregated_messages], axis=1)\n",
    "        elif self.combination_type == \"concat\":\n",
    "            # Concatenate the node_repesentations and aggregated_messages.\n",
    "            h = tf.concat([node_repesentations, aggregated_messages], axis=1)\n",
    "        elif self.combination_type == \"add\":\n",
    "            # Add node_repesentations and aggregated_messages.\n",
    "            h = node_repesentations + aggregated_messages\n",
    "        else:\n",
    "            raise ValueError(f\"Invalid combination type: {self.combination_type}.\")\n",
    "\n",
    "        # Apply the processing function.\n",
    "        node_embeddings = self.update_fn(h)\n",
    "        if self.combination_type == \"gru\":\n",
    "            node_embeddings = tf.unstack(node_embeddings, axis=1)[-1]\n",
    "\n",
    "        if self.normalize:\n",
    "            node_embeddings = tf.nn.l2_normalize(node_embeddings, axis=-1)\n",
    "        return node_embeddings\n",
    "\n",
    "    def call(self, inputs):\n",
    "        \"\"\"Process the inputs to produce the node_embeddings.\n",
    "\n",
    "        inputs: a tuple of three elements: node_repesentations, edges, edge_weights.\n",
    "        Returns: node_embeddings of shape [num_nodes, representation_dim].\n",
    "        \"\"\"\n",
    "\n",
    "        node_repesentations, edges, edge_weights = inputs\n",
    "        # Get node_indices (source) and neighbour_indices (target) from edges.\n",
    "        node_indices, neighbour_indices = edges[0], edges[1]\n",
    "        # neighbour_repesentations shape is [num_edges, representation_dim].\n",
    "        neighbour_repesentations = tf.gather(node_repesentations, neighbour_indices)\n",
    "\n",
    "        # Prepare the messages of the neighbours.\n",
    "        neighbour_messages = self.prepare(neighbour_repesentations, edge_weights)\n",
    "        # Aggregate the neighbour messages.\n",
    "        aggregated_messages = self.aggregate(node_indices, neighbour_messages)\n",
    "        # Update the node embedding with the neighbour messages.\n",
    "        return self.update(node_repesentations, aggregated_messages)\n"
   ]
  },
  {
   "cell_type": "code",
   "execution_count": 474,
   "id": "a394a02a-22f0-4ba5-84bb-f728a096725c",
   "metadata": {},
   "outputs": [],
   "source": [
    "class GNNNodeClassifier(tf.keras.Model):\n",
    "    def __init__(\n",
    "        self,\n",
    "        graph_info,\n",
    "        num_classes,\n",
    "        hidden_units,\n",
    "        aggregation_type=\"sum\",\n",
    "        combination_type=\"concat\",\n",
    "        dropout_rate=0.2,\n",
    "        normalize=True,\n",
    "        *args,\n",
    "        **kwargs,\n",
    "    ):\n",
    "        super(GNNNodeClassifier, self).__init__(*args, **kwargs)\n",
    "\n",
    "        # Unpack graph_info to three elements: node_features, edges, and edge_weight.\n",
    "        node_features, edges, edge_weights = graph_info\n",
    "        self.node_features = node_features\n",
    "        self.edges = edges\n",
    "        self.edge_weights = edge_weights\n",
    "        # Set edge_weights to ones if not provided.\n",
    "        if self.edge_weights is None:\n",
    "            self.edge_weights = tf.ones(shape=edges.shape[1])\n",
    "        # Scale edge_weights to sum to 1.\n",
    "        self.edge_weights = self.edge_weights / tf.math.reduce_sum(self.edge_weights)\n",
    "\n",
    "        # Create a process layer.\n",
    "        self.preprocess = create_ffn(hidden_units, dropout_rate, name=\"preprocess\")\n",
    "        # Create the first GraphConv layer.\n",
    "        self.conv1 = GraphConvLayer(\n",
    "            hidden_units,\n",
    "            dropout_rate,\n",
    "            aggregation_type,\n",
    "            combination_type,\n",
    "            normalize,\n",
    "            name=\"graph_conv1\",\n",
    "        )\n",
    "        # Create the second GraphConv layer.\n",
    "        self.conv2 = GraphConvLayer(\n",
    "            hidden_units,\n",
    "            dropout_rate,\n",
    "            aggregation_type,\n",
    "            combination_type,\n",
    "            normalize,\n",
    "            name=\"graph_conv2\",\n",
    "        )\n",
    "        # Create a postprocess layer.\n",
    "        self.postprocess = create_ffn(hidden_units, dropout_rate, name=\"postprocess\")\n",
    "        # Create a compute logits layer.\n",
    "        self.compute_logits = layers.Dense(units=num_classes, name=\"logits\")\n",
    "\n",
    "    def call(self, input_node_indices):\n",
    "        # Preprocess the node_features to produce node representations.\n",
    "        x = self.preprocess(self.node_features)\n",
    "        # Apply the first graph conv layer.\n",
    "        x1 = self.conv1((x, self.edges, self.edge_weights))\n",
    "        # Skip connection.\n",
    "        x = x1 + x\n",
    "        # Apply the second graph conv layer.\n",
    "        x2 = self.conv2((x, self.edges, self.edge_weights))\n",
    "        # Skip connection.\n",
    "        x = x2 + x\n",
    "        # Postprocess node embedding.\n",
    "        x = self.postprocess(x)\n",
    "        # Fetch node embeddings for the input node_indices.\n",
    "        node_embeddings = tf.gather(x, input_node_indices)\n",
    "        # Compute logits\n",
    "        return self.compute_logits(node_embeddings)\n"
   ]
  },
  {
   "cell_type": "code",
   "execution_count": 475,
   "id": "2ba18ae6-97d5-45d3-8dbd-ec7dd1ee38dc",
   "metadata": {},
   "outputs": [
    {
     "ename": "InvalidArgumentError",
     "evalue": "Exception encountered when calling layer \"graph_conv1\" (type GraphConvLayer).\n\nindices[24995000] = 5000 is not in [0, 5000) [Op:GatherV2]\n\nCall arguments received:\n  • inputs=('tf.Tensor(shape=(5000, 32), dtype=float32)', 'tf.Tensor(shape=(2, 25000000), dtype=int64)', 'tf.Tensor(shape=(25000000,), dtype=float32)')",
     "output_type": "error",
     "traceback": [
      "\u001b[0;31m---------------------------------------------------------------------------\u001b[0m",
      "\u001b[0;31mInvalidArgumentError\u001b[0m                      Traceback (most recent call last)",
      "\u001b[0;32m/tmp/ipykernel_1854148/645309841.py\u001b[0m in \u001b[0;36m<module>\u001b[0;34m\u001b[0m\n\u001b[1;32m      7\u001b[0m )\n\u001b[1;32m      8\u001b[0m \u001b[0;34m\u001b[0m\u001b[0m\n\u001b[0;32m----> 9\u001b[0;31m \u001b[0mprint\u001b[0m\u001b[0;34m(\u001b[0m\u001b[0;34m\"GNN output shape:\"\u001b[0m\u001b[0;34m,\u001b[0m \u001b[0mgnn_model\u001b[0m\u001b[0;34m(\u001b[0m\u001b[0;34m[\u001b[0m\u001b[0;36m1\u001b[0m\u001b[0;34m,\u001b[0m \u001b[0;36m10\u001b[0m\u001b[0;34m,\u001b[0m \u001b[0;36m100\u001b[0m\u001b[0;34m]\u001b[0m\u001b[0;34m)\u001b[0m\u001b[0;34m)\u001b[0m\u001b[0;34m\u001b[0m\u001b[0;34m\u001b[0m\u001b[0m\n\u001b[0m\u001b[1;32m     10\u001b[0m \u001b[0;34m\u001b[0m\u001b[0m\n\u001b[1;32m     11\u001b[0m \u001b[0mgnn_model\u001b[0m\u001b[0;34m.\u001b[0m\u001b[0msummary\u001b[0m\u001b[0;34m(\u001b[0m\u001b[0;34m)\u001b[0m\u001b[0;34m\u001b[0m\u001b[0;34m\u001b[0m\u001b[0m\n",
      "\u001b[0;32m~/anaconda3/envs/csy/lib/python3.8/site-packages/keras/utils/traceback_utils.py\u001b[0m in \u001b[0;36merror_handler\u001b[0;34m(*args, **kwargs)\u001b[0m\n\u001b[1;32m     65\u001b[0m     \u001b[0;32mexcept\u001b[0m \u001b[0mException\u001b[0m \u001b[0;32mas\u001b[0m \u001b[0me\u001b[0m\u001b[0;34m:\u001b[0m  \u001b[0;31m# pylint: disable=broad-except\u001b[0m\u001b[0;34m\u001b[0m\u001b[0;34m\u001b[0m\u001b[0m\n\u001b[1;32m     66\u001b[0m       \u001b[0mfiltered_tb\u001b[0m \u001b[0;34m=\u001b[0m \u001b[0m_process_traceback_frames\u001b[0m\u001b[0;34m(\u001b[0m\u001b[0me\u001b[0m\u001b[0;34m.\u001b[0m\u001b[0m__traceback__\u001b[0m\u001b[0;34m)\u001b[0m\u001b[0;34m\u001b[0m\u001b[0;34m\u001b[0m\u001b[0m\n\u001b[0;32m---> 67\u001b[0;31m       \u001b[0;32mraise\u001b[0m \u001b[0me\u001b[0m\u001b[0;34m.\u001b[0m\u001b[0mwith_traceback\u001b[0m\u001b[0;34m(\u001b[0m\u001b[0mfiltered_tb\u001b[0m\u001b[0;34m)\u001b[0m \u001b[0;32mfrom\u001b[0m \u001b[0;32mNone\u001b[0m\u001b[0;34m\u001b[0m\u001b[0;34m\u001b[0m\u001b[0m\n\u001b[0m\u001b[1;32m     68\u001b[0m     \u001b[0;32mfinally\u001b[0m\u001b[0;34m:\u001b[0m\u001b[0;34m\u001b[0m\u001b[0;34m\u001b[0m\u001b[0m\n\u001b[1;32m     69\u001b[0m       \u001b[0;32mdel\u001b[0m \u001b[0mfiltered_tb\u001b[0m\u001b[0;34m\u001b[0m\u001b[0;34m\u001b[0m\u001b[0m\n",
      "\u001b[0;32m/tmp/ipykernel_1854148/1070797468.py\u001b[0m in \u001b[0;36mcall\u001b[0;34m(self, input_node_indices)\u001b[0m\n\u001b[1;32m     54\u001b[0m         \u001b[0mx\u001b[0m \u001b[0;34m=\u001b[0m \u001b[0mself\u001b[0m\u001b[0;34m.\u001b[0m\u001b[0mpreprocess\u001b[0m\u001b[0;34m(\u001b[0m\u001b[0mself\u001b[0m\u001b[0;34m.\u001b[0m\u001b[0mnode_features\u001b[0m\u001b[0;34m)\u001b[0m\u001b[0;34m\u001b[0m\u001b[0;34m\u001b[0m\u001b[0m\n\u001b[1;32m     55\u001b[0m         \u001b[0;31m# Apply the first graph conv layer.\u001b[0m\u001b[0;34m\u001b[0m\u001b[0;34m\u001b[0m\u001b[0;34m\u001b[0m\u001b[0m\n\u001b[0;32m---> 56\u001b[0;31m         \u001b[0mx1\u001b[0m \u001b[0;34m=\u001b[0m \u001b[0mself\u001b[0m\u001b[0;34m.\u001b[0m\u001b[0mconv1\u001b[0m\u001b[0;34m(\u001b[0m\u001b[0;34m(\u001b[0m\u001b[0mx\u001b[0m\u001b[0;34m,\u001b[0m \u001b[0mself\u001b[0m\u001b[0;34m.\u001b[0m\u001b[0medges\u001b[0m\u001b[0;34m,\u001b[0m \u001b[0mself\u001b[0m\u001b[0;34m.\u001b[0m\u001b[0medge_weights\u001b[0m\u001b[0;34m)\u001b[0m\u001b[0;34m)\u001b[0m\u001b[0;34m\u001b[0m\u001b[0;34m\u001b[0m\u001b[0m\n\u001b[0m\u001b[1;32m     57\u001b[0m         \u001b[0;31m# Skip connection.\u001b[0m\u001b[0;34m\u001b[0m\u001b[0;34m\u001b[0m\u001b[0;34m\u001b[0m\u001b[0m\n\u001b[1;32m     58\u001b[0m         \u001b[0mx\u001b[0m \u001b[0;34m=\u001b[0m \u001b[0mx1\u001b[0m \u001b[0;34m+\u001b[0m \u001b[0mx\u001b[0m\u001b[0;34m\u001b[0m\u001b[0;34m\u001b[0m\u001b[0m\n",
      "\u001b[0;32m/tmp/ipykernel_1854148/1092583440.py\u001b[0m in \u001b[0;36mcall\u001b[0;34m(self, inputs)\u001b[0m\n\u001b[1;32m     92\u001b[0m         \u001b[0mnode_indices\u001b[0m\u001b[0;34m,\u001b[0m \u001b[0mneighbour_indices\u001b[0m \u001b[0;34m=\u001b[0m \u001b[0medges\u001b[0m\u001b[0;34m[\u001b[0m\u001b[0;36m0\u001b[0m\u001b[0;34m]\u001b[0m\u001b[0;34m,\u001b[0m \u001b[0medges\u001b[0m\u001b[0;34m[\u001b[0m\u001b[0;36m1\u001b[0m\u001b[0;34m]\u001b[0m\u001b[0;34m\u001b[0m\u001b[0;34m\u001b[0m\u001b[0m\n\u001b[1;32m     93\u001b[0m         \u001b[0;31m# neighbour_repesentations shape is [num_edges, representation_dim].\u001b[0m\u001b[0;34m\u001b[0m\u001b[0;34m\u001b[0m\u001b[0;34m\u001b[0m\u001b[0m\n\u001b[0;32m---> 94\u001b[0;31m         \u001b[0mneighbour_repesentations\u001b[0m \u001b[0;34m=\u001b[0m \u001b[0mtf\u001b[0m\u001b[0;34m.\u001b[0m\u001b[0mgather\u001b[0m\u001b[0;34m(\u001b[0m\u001b[0mnode_repesentations\u001b[0m\u001b[0;34m,\u001b[0m \u001b[0mneighbour_indices\u001b[0m\u001b[0;34m)\u001b[0m\u001b[0;34m\u001b[0m\u001b[0;34m\u001b[0m\u001b[0m\n\u001b[0m\u001b[1;32m     95\u001b[0m \u001b[0;34m\u001b[0m\u001b[0m\n\u001b[1;32m     96\u001b[0m         \u001b[0;31m# Prepare the messages of the neighbours.\u001b[0m\u001b[0;34m\u001b[0m\u001b[0;34m\u001b[0m\u001b[0;34m\u001b[0m\u001b[0m\n",
      "\u001b[0;31mInvalidArgumentError\u001b[0m: Exception encountered when calling layer \"graph_conv1\" (type GraphConvLayer).\n\nindices[24995000] = 5000 is not in [0, 5000) [Op:GatherV2]\n\nCall arguments received:\n  • inputs=('tf.Tensor(shape=(5000, 32), dtype=float32)', 'tf.Tensor(shape=(2, 25000000), dtype=int64)', 'tf.Tensor(shape=(25000000,), dtype=float32)')"
     ]
    }
   ],
   "source": [
    "gnn_model = GNNNodeClassifier(\n",
    "    graph_info=graph_info,\n",
    "    num_classes=num_classes,\n",
    "    hidden_units=hidden_units,\n",
    "    dropout_rate=dropout_rate,\n",
    "    name=\"gnn_model\",\n",
    ")\n",
    "\n",
    "print(\"GNN output shape:\", gnn_model([1, 10, 100]))\n",
    "\n",
    "gnn_model.summary()"
   ]
  },
  {
   "cell_type": "code",
   "execution_count": null,
   "id": "bfd3f2ce-6641-433a-9081-03bf1aed061a",
   "metadata": {
    "scrolled": true,
    "tags": []
   },
   "outputs": [],
   "source": [
    "x_train = train_data.paper_id.to_numpy()\n",
    "history = run_experiment(gnn_model, x_train, y_train)\n"
   ]
  },
  {
   "cell_type": "code",
   "execution_count": 24,
   "id": "b4b33891-cb48-4247-8257-1efcb54297fa",
   "metadata": {},
   "outputs": [
    {
     "data": {
      "image/png": "[encoded data removed]",
      "text/plain": [
       "<Figure size 1080x360 with 2 Axes>"
      ]
     },
     "metadata": {
      "needs_background": "light"
     },
     "output_type": "display_data"
    }
   ],
   "source": [
    "display_learning_curves(history)"
   ]
  },
  {
   "cell_type": "code",
   "execution_count": 25,
   "id": "664abed1-0e95-41f2-ae1e-a7e225341e19",
   "metadata": {},
   "outputs": [
    {
     "name": "stdout",
     "output_type": "stream",
     "text": [
      "Test accuracy: 100.0%\n"
     ]
    }
   ],
   "source": [
    "x_test = test_data.paper_id.to_numpy()\n",
    "_, test_accuracy = gnn_model.evaluate(x=x_test, y=y_test, verbose=0)\n",
    "print(f\"Test accuracy: {round(test_accuracy * 100, 2)}%\")\n"
   ]
  },
  {
   "cell_type": "code",
   "execution_count": 26,
   "id": "4027f863-9a8e-42fa-bafc-4850013c1463",
   "metadata": {},
   "outputs": [],
   "source": [
    "# First we add the N new_instances as nodes to the graph\n",
    "# by appending the new_instance to node_features.\n",
    "num_nodes = node_features.shape[0]\n",
    "new_node_features = np.concatenate([node_features, new_instances])\n",
    "# Second we add the M edges (citations) from each new node to a set\n",
    "# of existing nodes in a particular subject\n",
    "new_node_indices = [i + num_nodes for i in range(num_classes)]\n",
    "new_citations = []\n",
    "for subject_idx, group in papers.groupby(\"subject\"):\n",
    "    subject_papers = list(group.paper_id)\n",
    "    # Select random x papers specific subject.\n",
    "    selected_paper_indices1 = np.random.choice(subject_papers, 5)\n",
    "    # Select random y papers from any subject (where y < x).\n",
    "    selected_paper_indices2 = np.random.choice(list(papers.paper_id), 2)\n",
    "    # Merge the selected paper indices.\n",
    "    selected_paper_indices = np.concatenate(\n",
    "        [selected_paper_indices1, selected_paper_indices2], axis=0\n",
    "    )\n",
    "    # Create edges between a citing paper idx and the selected cited papers.\n",
    "    citing_paper_indx = new_node_indices[subject_idx]\n",
    "    for cited_paper_idx in selected_paper_indices:\n",
    "        new_citations.append([citing_paper_indx, cited_paper_idx])\n",
    "\n",
    "new_citations = np.array(new_citations).T\n",
    "new_edges = np.concatenate([edges, new_citations], axis=1)"
   ]
  },
  {
   "cell_type": "code",
   "execution_count": 27,
   "id": "02a396dc-4474-43a1-9ef5-29baa2d267c5",
   "metadata": {},
   "outputs": [
    {
     "name": "stdout",
     "output_type": "stream",
     "text": [
      "Original node_features shape: (1000, 6)\n",
      "Original edges shape: (2, 2500)\n",
      "New node_features shape: (1002, 6)\n",
      "New edges shape: (2, 2514)\n",
      "Instance 1:\n",
      "- Deep learning: 63.23%\n",
      "- Reinforcement learning: 36.77%\n",
      "Instance 2:\n",
      "- Deep learning: 44.98%\n",
      "- Reinforcement learning: 55.02%\n"
     ]
    }
   ],
   "source": [
    "print(\"Original node_features shape:\", gnn_model.node_features.shape)\n",
    "print(\"Original edges shape:\", gnn_model.edges.shape)\n",
    "gnn_model.node_features = new_node_features\n",
    "gnn_model.edges = new_edges\n",
    "gnn_model.edge_weights = tf.ones(shape=new_edges.shape[1])\n",
    "print(\"New node_features shape:\", gnn_model.node_features.shape)\n",
    "print(\"New edges shape:\", gnn_model.edges.shape)\n",
    "\n",
    "logits = gnn_model.predict(tf.convert_to_tensor(new_node_indices))\n",
    "probabilities = keras.activations.softmax(tf.convert_to_tensor(logits)).numpy()\n",
    "display_class_probabilities(probabilities)"
   ]
  },
  {
   "cell_type": "code",
   "execution_count": null,
   "id": "963bd966-22f7-477f-a5c2-6ea6eca8654f",
   "metadata": {},
   "outputs": [],
   "source": []
  }
 ],
 "metadata": {
  "kernelspec": {
   "display_name": "Python 3 (ipykernel)",
   "language": "python",
   "name": "python3"
  },
  "language_info": {
   "codemirror_mode": {
    "name": "ipython",
    "version": 3
   },
   "file_extension": ".py",
   "mimetype": "text/x-python",
   "name": "python",
   "nbconvert_exporter": "python",
   "pygments_lexer": "ipython3",
   "version": "3.8.12"
  }
 },
 "nbformat": 4,
 "nbformat_minor": 5
}
