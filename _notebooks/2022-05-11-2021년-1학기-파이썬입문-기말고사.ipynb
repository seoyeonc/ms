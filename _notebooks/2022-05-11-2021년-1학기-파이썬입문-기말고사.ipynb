{
 "cells": [
  {
   "cell_type": "markdown",
   "id": "69127edd-1836-41f2-9836-368f605df4ed",
   "metadata": {
    "id": "cac470df-29e7-4148-9bbd-d8b9a32fa570",
    "tags": []
   },
   "source": [
    "# (not done) 2021년 1학기 파이썬입문 기말고사\n",
    "> 공부\n",
    "\n",
    "- toc:true\n",
    "- branch: master\n",
    "- badges: true\n",
    "- comments: false\n",
    "- author: 최서연\n",
    "- categories: [Python]"
   ]
  },
  {
   "cell_type": "markdown",
   "id": "f7820126-da52-4215-ae5b-d3691608f2af",
   "metadata": {},
   "source": [
    "---"
   ]
  },
  {
   "cell_type": "markdown",
   "id": "178084d7-6add-4212-93c6-1fe7dcf51d33",
   "metadata": {},
   "source": [
    "가위바위보 예제 함수 구현해보기"
   ]
  },
  {
   "cell_type": "code",
   "execution_count": 92,
   "id": "536a9aeb-067d-42fe-91d7-53e6170d6b08",
   "metadata": {},
   "outputs": [],
   "source": [
    "import pandas as pd"
   ]
  },
  {
   "cell_type": "code",
   "execution_count": 180,
   "id": "68bd92d4-0ce8-4e5f-8a1d-badfac9285b4",
   "metadata": {},
   "outputs": [
    {
     "ename": "UnboundLocalError",
     "evalue": "local variable 'p1' referenced before assignment",
     "output_type": "error",
     "traceback": [
      "\u001b[0;31m---------------------------------------------------------------------------\u001b[0m",
      "\u001b[0;31mUnboundLocalError\u001b[0m                         Traceback (most recent call last)",
      "\u001b[0;32m/tmp/ipykernel_510666/1362001620.py\u001b[0m in \u001b[0;36m<module>\u001b[0;34m\u001b[0m\n\u001b[1;32m     28\u001b[0m     \u001b[0;32mreturn\u001b[0m \u001b[0mp1\u001b[0m\u001b[0;34m,\u001b[0m\u001b[0mp2\u001b[0m\u001b[0;34m\u001b[0m\u001b[0;34m\u001b[0m\u001b[0m\n\u001b[1;32m     29\u001b[0m \u001b[0;34m\u001b[0m\u001b[0m\n\u001b[0;32m---> 30\u001b[0;31m \u001b[0mwinner\u001b[0m\u001b[0;34m(\u001b[0m\u001b[0mchoice\u001b[0m\u001b[0;34m(\u001b[0m\u001b[0mdouble\u001b[0m\u001b[0;34m(\u001b[0m\u001b[0mplayer1\u001b[0m\u001b[0;34m)\u001b[0m\u001b[0;34m)\u001b[0m\u001b[0;34m.\u001b[0m\u001b[0mvalues\u001b[0m\u001b[0;34m.\u001b[0m\u001b[0mtolist\u001b[0m\u001b[0;34m(\u001b[0m\u001b[0;34m)\u001b[0m\u001b[0;34m,\u001b[0m\u001b[0mchoice2\u001b[0m\u001b[0;34m(\u001b[0m\u001b[0mdouble2\u001b[0m\u001b[0;34m(\u001b[0m\u001b[0mplayer2\u001b[0m\u001b[0;34m)\u001b[0m\u001b[0;34m)\u001b[0m\u001b[0;34m.\u001b[0m\u001b[0mvalues\u001b[0m\u001b[0;34m.\u001b[0m\u001b[0mtolist\u001b[0m\u001b[0;34m(\u001b[0m\u001b[0;34m)\u001b[0m\u001b[0;34m)\u001b[0m\u001b[0;34m\u001b[0m\u001b[0;34m\u001b[0m\u001b[0m\n\u001b[0m",
      "\u001b[0;32m/tmp/ipykernel_510666/1362001620.py\u001b[0m in \u001b[0;36mwinner\u001b[0;34m(value, value2)\u001b[0m\n\u001b[1;32m     26\u001b[0m     \u001b[0;32melif\u001b[0m \u001b[0;34m(\u001b[0m\u001b[0;34m'paper'\u001b[0m \u001b[0;32min\u001b[0m \u001b[0mvalue\u001b[0m\u001b[0;34m)\u001b[0m \u001b[0;32mand\u001b[0m \u001b[0;34m(\u001b[0m\u001b[0;34m'rock'\u001b[0m\u001b[0;34m)\u001b[0m \u001b[0;32min\u001b[0m \u001b[0mvalue2\u001b[0m\u001b[0;34m:\u001b[0m \u001b[0mp1\u001b[0m\u001b[0;34m=\u001b[0m\u001b[0;36m1\u001b[0m\u001b[0;34m;\u001b[0m\u001b[0mp2\u001b[0m\u001b[0;34m=\u001b[0m\u001b[0;36m0\u001b[0m\u001b[0;34m\u001b[0m\u001b[0;34m\u001b[0m\u001b[0m\n\u001b[1;32m     27\u001b[0m     \u001b[0;32melif\u001b[0m \u001b[0;34m(\u001b[0m\u001b[0;34m'paper'\u001b[0m \u001b[0;32min\u001b[0m \u001b[0mvalue\u001b[0m\u001b[0;34m)\u001b[0m \u001b[0;32mand\u001b[0m \u001b[0;34m(\u001b[0m\u001b[0;34m'sissors'\u001b[0m\u001b[0;34m)\u001b[0m \u001b[0;32min\u001b[0m \u001b[0mvalue2\u001b[0m\u001b[0;34m:\u001b[0m \u001b[0mp1\u001b[0m\u001b[0;34m=\u001b[0m\u001b[0;36m0\u001b[0m\u001b[0;34m;\u001b[0m\u001b[0mp2\u001b[0m\u001b[0;34m=\u001b[0m\u001b[0;36m1\u001b[0m\u001b[0;34m\u001b[0m\u001b[0;34m\u001b[0m\u001b[0m\n\u001b[0;32m---> 28\u001b[0;31m     \u001b[0;32mreturn\u001b[0m \u001b[0mp1\u001b[0m\u001b[0;34m,\u001b[0m\u001b[0mp2\u001b[0m\u001b[0;34m\u001b[0m\u001b[0;34m\u001b[0m\u001b[0m\n\u001b[0m\u001b[1;32m     29\u001b[0m \u001b[0;34m\u001b[0m\u001b[0m\n\u001b[1;32m     30\u001b[0m \u001b[0mwinner\u001b[0m\u001b[0;34m(\u001b[0m\u001b[0mchoice\u001b[0m\u001b[0;34m(\u001b[0m\u001b[0mdouble\u001b[0m\u001b[0;34m(\u001b[0m\u001b[0mplayer1\u001b[0m\u001b[0;34m)\u001b[0m\u001b[0;34m)\u001b[0m\u001b[0;34m.\u001b[0m\u001b[0mvalues\u001b[0m\u001b[0;34m.\u001b[0m\u001b[0mtolist\u001b[0m\u001b[0;34m(\u001b[0m\u001b[0;34m)\u001b[0m\u001b[0;34m,\u001b[0m\u001b[0mchoice2\u001b[0m\u001b[0;34m(\u001b[0m\u001b[0mdouble2\u001b[0m\u001b[0;34m(\u001b[0m\u001b[0mplayer2\u001b[0m\u001b[0;34m)\u001b[0m\u001b[0;34m)\u001b[0m\u001b[0;34m.\u001b[0m\u001b[0mvalues\u001b[0m\u001b[0;34m.\u001b[0m\u001b[0mtolist\u001b[0m\u001b[0;34m(\u001b[0m\u001b[0;34m)\u001b[0m\u001b[0;34m)\u001b[0m\u001b[0;34m\u001b[0m\u001b[0;34m\u001b[0m\u001b[0m\n",
      "\u001b[0;31mUnboundLocalError\u001b[0m: local variable 'p1' referenced before assignment"
     ]
    }
   ],
   "source": [
    "player1 = pd.DataFrame({'c':['rock', 'paper', 'sissors']})\n",
    "player2 = pd.DataFrame({'c':['rock', 'paper', 'sissors']})\n",
    "\n",
    "def double(player):\n",
    "    result = player.sample(2)\n",
    "    return result\n",
    "\n",
    "def double2(player):\n",
    "    result = player.sample(2)\n",
    "    return result\n",
    "\n",
    "def choice(double):\n",
    "    result = double.sample(1)\n",
    "    return result\n",
    "\n",
    "def choice2(double):\n",
    "    result = double.sample(1)\n",
    "    return result\n",
    "\n",
    "def winner(value,value2):\n",
    "    if value == value2 : p1 = 0.5;p2=0.5 \n",
    "    elif ('rock' in value) and ('paper') in value2:     p1=0;p2=1 \n",
    "    elif ('rock' in value) and ('sissors') in value2: p1=1;p2=0 \n",
    "    elif ('sissors' in value) and ('rock') in value2: p1=0;p2=1 \n",
    "    elif ('sissors' in value) and ('paper') in value2: p1=1;p2=0\n",
    "    elif ('paper' in value) and ('rock') in value2: p1=1;p2=0 \n",
    "    elif ('paper' in value) and ('sissors') in value2: p1=0;p2=1\n",
    "    return p1,p2\n",
    "\n",
    "winner(choice(double(player1)).values.tolist(),choice2(double2(player2)).values.tolist())"
   ]
  },
  {
   "cell_type": "code",
   "execution_count": null,
   "id": "038dfae8-4f66-4570-950a-81d67e3378ee",
   "metadata": {},
   "outputs": [],
   "source": []
  },
  {
   "cell_type": "code",
   "execution_count": null,
   "id": "df3bd33a-e82d-494a-95b8-6c9696d3f888",
   "metadata": {},
   "outputs": [],
   "source": []
  },
  {
   "cell_type": "markdown",
   "id": "c79362bb-1fec-43d7-bab2-63d572fc5dbb",
   "metadata": {},
   "source": [
    "---"
   ]
  },
  {
   "cell_type": "markdown",
   "id": "12a79f01-2511-4465-9b86-f6bb2a36a71e",
   "metadata": {},
   "source": [
    "빅데 21년 거 14주차에클래스 있음ㅎ"
   ]
  },
  {
   "cell_type": "markdown",
   "id": "f596f27a-2a4e-46c0-95fa-3459b3c85e7d",
   "metadata": {},
   "source": [
    "---"
   ]
  },
  {
   "cell_type": "code",
   "execution_count": 2,
   "id": "d3ccfa6e-ecbc-4c2c-9e90-54c27f41ba88",
   "metadata": {
    "tags": []
   },
   "outputs": [],
   "source": [
    "import numpy as np"
   ]
  },
  {
   "cell_type": "markdown",
   "id": "a178fb5b-4b23-438b-bf25-4c9a95ff8be4",
   "metadata": {
    "id": "a178fb5b-4b23-438b-bf25-4c9a95ff8be4",
    "tags": []
   },
   "source": [
    "### \\# 1. (20점)\n",
    "N사에서 게임유저들에게 여름방학 기념이벤트로 **진명왕의 집판검**이라는 이름의 아이템을 선물했다고 하자. **진명왕의 집판검**은 총 5회에 걸쳐서 강화(upgrade)될 수 있데 강화의 성공확률은 10%라고 하자. 강화가 5번성공하면 더 이상 강화가 진행되지 않는다고 하자. (따라서 더 이상 강화시도를 하지 않아도 무방하다) 아래는 이 아이템에 강화를 진행하였을때 각 강화상태를 설명한 예시이다. \n",
    "\n",
    "|시도횟수|강화성공여부|강화상태|비고|\n",
    "|:-:|:-:|:-:|:-|\n",
    "|1|강화실패|+0 $\\to$ +0|강화실패로 인하여 강화상태 변화없음 |\n",
    "|2|강화성공|+0 $\\to$ +1|강화성공으로 인한 강화상태 변화|\n",
    "|3|강화실패|+1 $\\to$ +1|강화실패로 인하여 강화상태 변화없음 |\n",
    "|4|강화성공|+1 $\\to$ +2|강화성공으로 인한 강화상태 변화|\n",
    "|5|강화성공|+2 $\\to$ +3|강화성공으로 인한 강화상태 변화|\n",
    "|6|강화성공|+3 $\\to$ +4|강화성공으로 인한 강화상태 변화|\n",
    "|7|강화실패|+4 $\\to$ +4|강화실패로 인하여 강화상태 변화없음 |\n",
    "|8|강화성공|+4 $\\to$ +5|모든 강화 성공|\n",
    "|9|-|+5 $\\to$ +5|더 이상 강화시도 하지 않음|\n",
    "|10|$\\dots$|$\\dots$|$\\dots$|\n",
    "\n",
    "\n",
    "강화는 하루에 한 번씩만 시도할 수 있으며 시도가능한 기간은 7월1일부터 8월31일까지로 한정되어 있다고 하자. 따라서 방학동안 유저들은 총 62번 시도를 할 수 있다. 방학이 끝난이후 100명 유저중 대략 몇명정도 +5 강화상태에 있겠는가? 파이썬을 통한 시뮬레이션을 활용하여 추론하라. (단, +5강화에 성공하지 못한 모든 유저는 반드시 하루에 한번 강화를 시도해야 한다고 가정하자.) "
   ]
  },
  {
   "cell_type": "markdown",
   "id": "53d23138-d98f-4741-aa2b-99297ccdbee2",
   "metadata": {},
   "source": [
    "---"
   ]
  },
  {
   "cell_type": "code",
   "execution_count": 49,
   "id": "db3da5c5-a0ce-485f-a35e-f2fe24e31016",
   "metadata": {},
   "outputs": [],
   "source": [
    "def RL(n):\n",
    "    total = 0https://lms.jbnu.ac.kr/board/index.jsp?board=notice\n",
    "    for i in range(0,n+1):\n",
    "        if sum(np.random.binomial(1,0.1,62))>=5 : total+=1\n",
    "    return total/nhttps://lms.jbnu.ac.kr/board/view.jsp?board=notice&id=68941"
   ]
  },
  {
   "cell_type": "code",
   "execution_count": 50,
   "id": "351811d4-8465-484d-a79b-b97587ca0147",
   "metadata": {},
   "outputs": [
    {
     "data": {
      "text/plain": [
       "0.71"
      ]
     },
     "execution_count": 50,
     "metadata": {},
     "output_type": "execute_result"
    }
   ],
   "source": [
    "RL(100)"
   ]
  },
  {
   "cell_type": "markdown",
   "id": "99a37d55-9d15-47a7-8ee1-33aeb7336b30",
   "metadata": {},
   "source": [
    "---"
   ]
  },
  {
   "cell_type": "markdown",
   "id": "a8af7991-1615-49b4-986a-b62cfc8832f1",
   "metadata": {},
   "source": [
    "---"
   ]
  },
  {
   "cell_type": "markdown",
   "id": "7813f112-1390-42fc-acd2-96ae2291981b",
   "metadata": {
    "id": "7813f112-1390-42fc-acd2-96ae2291981b"
   },
   "source": [
    "(풀이1)"
   ]
  },
  {
   "cell_type": "code",
   "execution_count": null,
   "id": "533a1887-3dc4-4386-aee9-271cd8b5d905",
   "metadata": {
    "id": "533a1887-3dc4-4386-aee9-271cd8b5d905",
    "outputId": "80c77fdc-1b81-4301-90c2-d8b499d4526c"
   },
   "outputs": [
    {
     "data": {
      "text/plain": [
       "0.7514"
      ]
     },
     "execution_count": 1,
     "metadata": {},
     "output_type": "execute_result"
    }
   ],
   "source": [
    "import numpy as np\n",
    "np.random.seed(1)\n",
    "sum(np.random.binomial(n=62, p=0.1, size=10000)>=5)/10000"
   ]
  },
  {
   "cell_type": "markdown",
   "id": "3ee9119b-6ceb-4638-b618-09d972658550",
   "metadata": {
    "id": "3ee9119b-6ceb-4638-b618-09d972658550"
   },
   "source": [
    "(풀이2)"
   ]
  },
  {
   "cell_type": "code",
   "execution_count": null,
   "id": "6f59c299-ab2e-478e-9bd1-58d36b3f729c",
   "metadata": {
    "id": "6f59c299-ab2e-478e-9bd1-58d36b3f729c"
   },
   "outputs": [],
   "source": [
    "class ExecutionSword():\n",
    "    def __init__(self,prob):\n",
    "        self.nuser=100000\n",
    "        self.prob=prob\n",
    "        self.attemptresult=None\n",
    "        self.upgradestate=pd.DataFrame({'day0':[0]*self.nuser})\n",
    "        self.failstate=pd.DataFrame({'day0':[0]*self.nuser})\n",
    "        self.ratio=0\n",
    "        self.day=0\n",
    "    def addday(self):\n",
    "        self.day=self.day+1            \n",
    "    def attempt(self):\n",
    "        self.attemptresult = np.random.binomial(n=1, p=self.prob, size=self.nuser)\n",
    "    def update(self):\n",
    "        # 강화상태 업데이트\n",
    "        self.upgradestate['day%s' % self.day] = np.minimum(5,self.upgradestate['day%s' % (self.day-1)]+self.attemptresult)\n",
    "        # 강화실패누적횟수 업데이트 \n",
    "        self.failstate['day%s' % self.day]=self.failstate['day%s' % (self.day-1)]+(self.attemptresult==0)*1\n",
    "        # 강화상태==5 or 강화상태==0 일 경우 강화실패누적횟수 초기화 \n",
    "        self.failstate['day%s' % self.day][self.upgradestate['day%s' % self.day]== 0]=0\n",
    "        self.failstate['day%s' % self.day][self.upgradestate['day%s' % self.day]== 5]=0\n",
    "    def reset(self):\n",
    "        # 실패횟수 = 2 인것을 찾아 index_ 에 저장 -> index_ 에 해당하는 유저의 강화횟수와 실패횟수를 모두 0으로 초기화 \n",
    "        index_= self.failstate['day%s' % self.day]==2\n",
    "        self.failstate['day%s' % self.day][index_] = 0\n",
    "        self.upgradestate['day%s' % self.day][index_] = 0\n",
    "    def arrangeprob(self):\n",
    "        self.ratio=sum(self.upgradestate['day%s' % self.day]==5) / self.nuser\n",
    "        if self.ratio > 0.5:\n",
    "            self.prob = 0.9"
   ]
  },
  {
   "cell_type": "code",
   "execution_count": null,
   "id": "483aa5fd-f6fa-4af3-a871-490beb097b8e",
   "metadata": {
    "id": "483aa5fd-f6fa-4af3-a871-490beb097b8e"
   },
   "outputs": [],
   "source": [
    "# 1 \n",
    "import pandas as pd\n",
    "s1=ExecutionSword(0.1)\n",
    "for i in range(62):\n",
    "    s1.addday()\n",
    "    s1.attempt()\n",
    "    s1.update()"
   ]
  },
  {
   "cell_type": "code",
   "execution_count": null,
   "id": "06e5c909-381d-46a6-88d0-6d5cd25c5ea1",
   "metadata": {
    "id": "06e5c909-381d-46a6-88d0-6d5cd25c5ea1",
    "outputId": "abf2d031-fc95-44c0-c924-7768c675d5c6"
   },
   "outputs": [
    {
     "data": {
      "text/plain": [
       "0.75551"
      ]
     },
     "execution_count": 4,
     "metadata": {},
     "output_type": "execute_result"
    }
   ],
   "source": [
    "sum(s1.upgradestate.day62==5)/s1.nuser"
   ]
  },
  {
   "cell_type": "markdown",
   "id": "935f7303-5473-481f-a690-3a07b59d475f",
   "metadata": {
    "id": "935f7303-5473-481f-a690-3a07b59d475f"
   },
   "source": [
    "### \\# 2. (70점)\n",
    "\n",
    "강화성공확률을 40%로 수정한다. 강화에 누적2회 실패하면 강화상태가 초기화 된다고 하자. (따라서 강화실패 누적횟수를 카운트하는 변수가 필요하다)\n",
    "단, 강화실패 누적횟수는 누적2회 달성시 0으로 초기화 된다. 또한 강화상태가 +0인 경우는 실패하여도 강화실패 누적횟수가 추가되지 않는다. \n",
    "\n",
    "|시도횟수|강화성공여부|강화상태|강화실패누적|비고|\n",
    "|:-:|:-:|:-:|:-:|:-|\n",
    "|1|강화성공|+0 $\\to$ +1| 0 $\\to$ 0|- |\n",
    "|2|강화성공|+1 $\\to$ +2|0 $\\to$ 0 |-|\n",
    "|3|강화실패|+2 $\\to$ +2 |0 $\\to$ 1|-| \n",
    "|4|강화성공|+2 $\\to$ +3 |1 $\\to$ 1|-|\n",
    "|5|강화실패|+3 $\\to$ +0 |1 $\\to$ 0| 강화실패로 누적2회로 인한 초기화|\n",
    "|6|강화실패|+0 $\\to$ +0|0 $\\to$ 0| 강화실패 누적횟수 증가하지 않음|\n",
    "|7|강화성공|+0 $\\to$ +1 |0 $\\to$ 0|-|\n",
    "|8|강화성공|+1 $\\to$ +2|0 $\\to$ 0|-|\n",
    "|9|강화성공|+2 $\\to$ +3|0 $\\to$ 0|-|\n",
    "|10|강화성공|+3 $\\to$ +4|0 $\\to$ 0|-|\n",
    "|11|강화성공|+4 $\\to$ +5|0 $\\to$ 0|모든 강화 성공|\n",
    "|12|-|+5 $\\to$ +5|0 $\\to$ 0|더 이상 강화시도 하지 않음|\n",
    "|13|$\\dots$|$\\dots$|$\\dots$|$\\dots$|"
   ]
  },
  {
   "cell_type": "markdown",
   "id": "9ce9401f-332f-487e-80f0-c2ce94d8b173",
   "metadata": {
    "id": "9ce9401f-332f-487e-80f0-c2ce94d8b173"
   },
   "source": [
    "`(1)` 이 경우 62일의 방학뒤에 100명의 유저중 대략 몇명정도 +5 강화상태에 있겠는가? 시뮬레이션을 활용하여 추론하라. (단, +5강화에 성공하지 못한 모든 유저는 반드시 하루에 한번 강화를 시도해야 한다고 가정하자.) "
   ]
  },
  {
   "cell_type": "markdown",
   "id": "fc7b2b76-c9b5-45a9-aa93-0b7a73517e56",
   "metadata": {},
   "source": [
    "---"
   ]
  },
  {
   "cell_type": "code",
   "execution_count": 77,
   "id": "d5d0e36b-b8bf-4748-a10e-673239a63d21",
   "metadata": {},
   "outputs": [],
   "source": [
    "def RL(n):\n",
    "    total = 0\n",
    "    a = 0\n",
    "    for i in range(0,n+1):\n",
    "        for i in range(1,63):\n",
    "            a += np.random.binomial(1,0.1,62)[i]\n",
    "            if a > 1 & np.random.binomial(1,0.1,62)[i]+np.random.binomial(1,0.1,62)[i+1]==0 : break\n",
    "            a = 0\n",
    "        if a  >= 5 : total+=1\n",
    "    return total"
   ]
  },
  {
   "cell_type": "code",
   "execution_count": 78,
   "id": "1b772eea-de33-402c-a627-626d693849ab",
   "metadata": {},
   "outputs": [
    {
     "data": {
      "text/plain": [
       "20"
      ]
     },
     "execution_count": 78,
     "metadata": {},
     "output_type": "execute_result"
    }
   ],
   "source": [
    "RL(100)"
   ]
  },
  {
   "cell_type": "markdown",
   "id": "7c719510-49a4-4035-850f-f22431224028",
   "metadata": {},
   "source": [
    "---"
   ]
  },
  {
   "cell_type": "markdown",
   "id": "1c0bdbe3-ad00-4561-bc15-5f579221a7dc",
   "metadata": {
    "id": "1c0bdbe3-ad00-4561-bc15-5f579221a7dc"
   },
   "source": [
    "`(2)` 31번째 시도 이후 대략 몇명의 유저가 +5 강화상태에 있겠는가? "
   ]
  },
  {
   "cell_type": "markdown",
   "id": "5c7d355d-2565-4441-b341-42cde21e30cd",
   "metadata": {},
   "source": [
    "---"
   ]
  },
  {
   "cell_type": "code",
   "execution_count": 85,
   "id": "0dd24c17-59bf-4606-be92-84feb22e4831",
   "metadata": {},
   "outputs": [],
   "source": [
    "def RL(n):\n",
    "    total = 0\n",
    "    a = 0\n",
    "    for i in range(0,n+1):\n",
    "        for i in range(1,32):\n",
    "            a += np.random.binomial(1,0.1,31)[i]\n",
    "            if a > 1 & np.random.binomial(1,0.1,31)[i]+np.random.binomial(1,0.1,31)[i+1]==0 : break\n",
    "            a = 0\n",
    "        if a  >= 5 : total+=1\n",
    "    return total"
   ]
  },
  {
   "cell_type": "code",
   "execution_count": 86,
   "id": "c8706b45-8fe1-4891-95c8-0a4f82e9048f",
   "metadata": {},
   "outputs": [
    {
     "ename": "IndexError",
     "evalue": "index 31 is out of bounds for axis 0 with size 31",
     "output_type": "error",
     "traceback": [
      "\u001b[0;31m---------------------------------------------------------------------------\u001b[0m",
      "\u001b[0;31mIndexError\u001b[0m                                Traceback (most recent call last)",
      "\u001b[0;32m/tmp/ipykernel_510666/861557367.py\u001b[0m in \u001b[0;36m<module>\u001b[0;34m\u001b[0m\n\u001b[0;32m----> 1\u001b[0;31m \u001b[0mRL\u001b[0m\u001b[0;34m(\u001b[0m\u001b[0;36m31\u001b[0m\u001b[0;34m)\u001b[0m\u001b[0;34m\u001b[0m\u001b[0;34m\u001b[0m\u001b[0m\n\u001b[0m",
      "\u001b[0;32m/tmp/ipykernel_510666/200542232.py\u001b[0m in \u001b[0;36mRL\u001b[0;34m(n)\u001b[0m\n\u001b[1;32m      5\u001b[0m         \u001b[0;32mfor\u001b[0m \u001b[0mi\u001b[0m \u001b[0;32min\u001b[0m \u001b[0mrange\u001b[0m\u001b[0;34m(\u001b[0m\u001b[0;36m1\u001b[0m\u001b[0;34m,\u001b[0m\u001b[0;36m32\u001b[0m\u001b[0;34m)\u001b[0m\u001b[0;34m:\u001b[0m\u001b[0;34m\u001b[0m\u001b[0;34m\u001b[0m\u001b[0m\n\u001b[1;32m      6\u001b[0m             \u001b[0ma\u001b[0m \u001b[0;34m+=\u001b[0m \u001b[0mnp\u001b[0m\u001b[0;34m.\u001b[0m\u001b[0mrandom\u001b[0m\u001b[0;34m.\u001b[0m\u001b[0mbinomial\u001b[0m\u001b[0;34m(\u001b[0m\u001b[0;36m1\u001b[0m\u001b[0;34m,\u001b[0m\u001b[0;36m0.1\u001b[0m\u001b[0;34m,\u001b[0m\u001b[0;36m31\u001b[0m\u001b[0;34m)\u001b[0m\u001b[0;34m[\u001b[0m\u001b[0mi\u001b[0m\u001b[0;34m]\u001b[0m\u001b[0;34m\u001b[0m\u001b[0;34m\u001b[0m\u001b[0m\n\u001b[0;32m----> 7\u001b[0;31m             \u001b[0;32mif\u001b[0m \u001b[0ma\u001b[0m \u001b[0;34m>\u001b[0m \u001b[0;36m1\u001b[0m \u001b[0;34m&\u001b[0m \u001b[0mnp\u001b[0m\u001b[0;34m.\u001b[0m\u001b[0mrandom\u001b[0m\u001b[0;34m.\u001b[0m\u001b[0mbinomial\u001b[0m\u001b[0;34m(\u001b[0m\u001b[0;36m1\u001b[0m\u001b[0;34m,\u001b[0m\u001b[0;36m0.1\u001b[0m\u001b[0;34m,\u001b[0m\u001b[0;36m31\u001b[0m\u001b[0;34m)\u001b[0m\u001b[0;34m[\u001b[0m\u001b[0mi\u001b[0m\u001b[0;34m]\u001b[0m\u001b[0;34m+\u001b[0m\u001b[0mnp\u001b[0m\u001b[0;34m.\u001b[0m\u001b[0mrandom\u001b[0m\u001b[0;34m.\u001b[0m\u001b[0mbinomial\u001b[0m\u001b[0;34m(\u001b[0m\u001b[0;36m1\u001b[0m\u001b[0;34m,\u001b[0m\u001b[0;36m0.1\u001b[0m\u001b[0;34m,\u001b[0m\u001b[0;36m31\u001b[0m\u001b[0;34m)\u001b[0m\u001b[0;34m[\u001b[0m\u001b[0mi\u001b[0m\u001b[0;34m+\u001b[0m\u001b[0;36m1\u001b[0m\u001b[0;34m]\u001b[0m\u001b[0;34m==\u001b[0m\u001b[0;36m0\u001b[0m \u001b[0;34m:\u001b[0m \u001b[0;32mbreak\u001b[0m\u001b[0;34m\u001b[0m\u001b[0;34m\u001b[0m\u001b[0m\n\u001b[0m\u001b[1;32m      8\u001b[0m             \u001b[0ma\u001b[0m \u001b[0;34m=\u001b[0m \u001b[0;36m0\u001b[0m\u001b[0;34m\u001b[0m\u001b[0;34m\u001b[0m\u001b[0m\n\u001b[1;32m      9\u001b[0m         \u001b[0;32mif\u001b[0m \u001b[0ma\u001b[0m  \u001b[0;34m>=\u001b[0m \u001b[0;36m5\u001b[0m \u001b[0;34m:\u001b[0m \u001b[0mtotal\u001b[0m\u001b[0;34m+=\u001b[0m\u001b[0;36m1\u001b[0m\u001b[0;34m\u001b[0m\u001b[0;34m\u001b[0m\u001b[0m\n",
      "\u001b[0;31mIndexError\u001b[0m: index 31 is out of bounds for axis 0 with size 31"
     ]
    }
   ],
   "source": [
    "RL(31)"
   ]
  },
  {
   "cell_type": "markdown",
   "id": "2a67df94-45cf-4000-8881-dda01268b939",
   "metadata": {},
   "source": [
    "---"
   ]
  },
  {
   "cell_type": "code",
   "execution_count": null,
   "id": "0eeb120f-3c17-4969-b63d-edab3c727930",
   "metadata": {
    "id": "0eeb120f-3c17-4969-b63d-edab3c727930"
   },
   "outputs": [],
   "source": [
    "# 2-1,2 \n",
    "s2=ExecutionSword(0.4)"
   ]
  },
  {
   "cell_type": "code",
   "execution_count": null,
   "id": "98a7c416-93dc-4876-8190-39e541dd0a98",
   "metadata": {
    "id": "98a7c416-93dc-4876-8190-39e541dd0a98"
   },
   "outputs": [],
   "source": [
    "for i in range(62):\n",
    "    s2.addday()\n",
    "    s2.attempt()\n",
    "    s2.update()\n",
    "    s2.reset() ## 초기화가 되는 조건이 있으므로 문제1에서 reset함수만 추가하면 된다. "
   ]
  },
  {
   "cell_type": "code",
   "execution_count": null,
   "id": "b3fe5901-8e4c-4faf-adcb-860dd446eed9",
   "metadata": {
    "id": "b3fe5901-8e4c-4faf-adcb-860dd446eed9",
    "outputId": "28fdd7d5-8604-4bcd-dedd-587170a5697d"
   },
   "outputs": [
    {
     "data": {
      "text/plain": [
       "0.36392"
      ]
     },
     "execution_count": 7,
     "metadata": {},
     "output_type": "execute_result"
    }
   ],
   "source": [
    "# 2-1\n",
    "sum(s2.upgradestate.day31==5)/s2.nuser"
   ]
  },
  {
   "cell_type": "code",
   "execution_count": null,
   "id": "f5df026d-3b96-4009-831a-69546b0815f1",
   "metadata": {
    "id": "f5df026d-3b96-4009-831a-69546b0815f1",
    "outputId": "8e777d36-8ccf-4bba-bd41-52fe1caec3c2"
   },
   "outputs": [
    {
     "data": {
      "text/plain": [
       "0.61803"
      ]
     },
     "execution_count": 8,
     "metadata": {},
     "output_type": "execute_result"
    }
   ],
   "source": [
    "# 2-2\n",
    "sum(s2.upgradestate.day62==5)/s2.nuser"
   ]
  },
  {
   "cell_type": "markdown",
   "id": "6de8d0c7-e6f4-4dd8-9769-3b629002ab1b",
   "metadata": {
    "id": "6de8d0c7-e6f4-4dd8-9769-3b629002ab1b"
   },
   "source": [
    "`(3)` 100명의 유저중 50명이상의 유저가 +5 강화상태에 도달하는 순간 모든 유저의 강화성공확률을 90%로 증가시킨다고 하자. 62일의 방학뒤에 100명의 유저 중 몇명 정도가 +5 강화상태에 있겠는가? "
   ]
  },
  {
   "cell_type": "code",
   "execution_count": null,
   "id": "8fb3bedb-0af9-45eb-9c82-76255fe46037",
   "metadata": {
    "id": "8fb3bedb-0af9-45eb-9c82-76255fe46037"
   },
   "outputs": [],
   "source": [
    "# 2-3 \n",
    "s3=ExecutionSword(0.4)"
   ]
  },
  {
   "cell_type": "code",
   "execution_count": null,
   "id": "7dbd6405-1ab3-48ab-9583-4cba8b763899",
   "metadata": {
    "id": "7dbd6405-1ab3-48ab-9583-4cba8b763899"
   },
   "outputs": [],
   "source": [
    "for i in range(62):\n",
    "    s3.addday()\n",
    "    s3.attempt()\n",
    "    s3.update()\n",
    "    s3.reset() ## 초기화가 되는 조건이 있으므로 reset함수 추가\n",
    "    s3.arrangeprob() ## 전체유저의 50%가 강화성공하면 강화확률이 조정되는 조건이 있으므로 arragneprob 추가 "
   ]
  },
  {
   "cell_type": "code",
   "execution_count": null,
   "id": "0e5623bc-aa2a-41d7-9a0b-974871bce6c4",
   "metadata": {
    "id": "0e5623bc-aa2a-41d7-9a0b-974871bce6c4",
    "outputId": "ff924233-053b-4497-d8d3-61355930af09"
   },
   "outputs": [
    {
     "data": {
      "text/plain": [
       "0.9993"
      ]
     },
     "execution_count": 11,
     "metadata": {},
     "output_type": "execute_result"
    }
   ],
   "source": [
    "sum(s3.upgradestate.day62==5)/s3.nuser"
   ]
  }
 ],
 "metadata": {
  "colab": {
   "name": "2021-06-14-(시험) 2021년 1학기 파이썬입문 기말고사 풀이 [파이썬].ipynb",
   "provenance": []
  },
  "kernelspec": {
   "display_name": "Python 3 (ipykernel)",
   "language": "python",
   "name": "python3"
  },
  "language_info": {
   "codemirror_mode": {
    "name": "ipython",
    "version": 3
   },
   "file_extension": ".py",
   "mimetype": "text/x-python",
   "name": "python",
   "nbconvert_exporter": "python",
   "pygments_lexer": "ipython3",
   "version": "3.8.12"
  }
 },
 "nbformat": 4,
 "nbformat_minor": 5
}
