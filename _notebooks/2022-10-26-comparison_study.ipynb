{
 "cells": [
  {
   "cell_type": "markdown",
   "id": "68e2d24b-d0bb-4000-861b-0308a3ebe5e1",
   "metadata": {
    "id": "cac470df-29e7-4148-9bbd-d8b9a32fa570",
    "tags": []
   },
   "source": [
    "# Novelty and Outlier Detection\n",
    "> \n",
    "\n",
    "- toc:true\n",
    "- branch: master\n",
    "- badges: true\n",
    "- comments: false\n",
    "- author: 최서연"
   ]
  },
  {
   "cell_type": "markdown",
   "id": "00b63067-2828-4d82-8a34-9c3a8dd00c34",
   "metadata": {},
   "source": [
    "https://scikit-learn.org/stable/modules/outlier_detection.html"
   ]
  },
  {
   "cell_type": "code",
   "execution_count": 1,
   "id": "d7a0878a-01c3-4aff-ade2-63a6176cdbee",
   "metadata": {},
   "outputs": [],
   "source": [
    "import numpy as np\n",
    "import matplotlib.pyplot as plt\n",
    "import matplotlib\n",
    "from sklearn.svm import OneClassSVM\n",
    "from sklearn.linear_model import SGDOneClassSVM\n",
    "from sklearn.kernel_approximation import Nystroem\n",
    "from sklearn.pipeline import make_pipeline"
   ]
  },
  {
   "cell_type": "code",
   "execution_count": 2,
   "id": "08f4a679-d7c0-4eaa-b9d1-d0fe1c190674",
   "metadata": {},
   "outputs": [],
   "source": [
    "font = {\"weight\": \"normal\", \"size\": 15}\n",
    "\n",
    "matplotlib.rc(\"font\", **font)"
   ]
  },
  {
   "cell_type": "markdown",
   "id": "1eb695c4-e718-40d7-b2ce-1536d7cfae61",
   "metadata": {
    "tags": []
   },
   "source": [
    "## EbayesThresh"
   ]
  },
  {
   "cell_type": "code",
   "execution_count": 3,
   "id": "555134b6-83d2-47d3-b051-ac0890387008",
   "metadata": {},
   "outputs": [],
   "source": [
    "%load_ext rpy2.ipython"
   ]
  },
  {
   "cell_type": "code",
   "execution_count": 4,
   "id": "0e9c2fbb-acf8-4171-8fcf-9ffb7d134ced",
   "metadata": {},
   "outputs": [],
   "source": [
    "%%R\n",
    "library(EbayesThresh)\n",
    "set.seed(1)\n",
    "x <- rnorm(1000) + sample(c( runif(25,-7,7), rep(0,975)))\n",
    "#plot(x,type='l')\n",
    "#mu <- EbayesThresh::ebayesthresh(x,sdev=2)\n",
    "#lines(mu,col=2,lty=2,lwd=2)"
   ]
  },
  {
   "cell_type": "markdown",
   "id": "38b8e763-4d17-488b-8274-2f30a148c901",
   "metadata": {},
   "source": [
    "### R + python"
   ]
  },
  {
   "cell_type": "markdown",
   "id": "0c991db2-7999-474b-bdcc-47e6a5bd2a78",
   "metadata": {},
   "source": [
    "`-` R환경에 있던 x를 가지고 오기"
   ]
  },
  {
   "cell_type": "code",
   "execution_count": 5,
   "id": "27e6e91a-d3d2-4f51-a25a-748dd2fa8c2b",
   "metadata": {},
   "outputs": [],
   "source": [
    "%R -o x "
   ]
  },
  {
   "cell_type": "code",
   "execution_count": 6,
   "id": "12efcd58-3c88-459d-93f4-b466eaa7585d",
   "metadata": {},
   "outputs": [],
   "source": [
    "_x = np.linspace(0,2,1000)\n",
    "_y1 =  3*np.sin(_x) + 1*np.sin(_x**2) + 5*np.sin(5*_x) \n",
    "_y = _y1 + x # x is epsilon"
   ]
  },
  {
   "cell_type": "code",
   "execution_count": null,
   "id": "2c9c10dd-4e57-4382-8e1f-f5c759496d5a",
   "metadata": {},
   "outputs": [],
   "source": []
  },
  {
   "cell_type": "code",
   "execution_count": 17,
   "id": "ca026275-45ee-421b-b966-2fc702dba08a",
   "metadata": {},
   "outputs": [],
   "source": [
    "from sklearn.neighbors import LocalOutlierFactor"
   ]
  },
  {
   "cell_type": "code",
   "execution_count": 18,
   "id": "c37814fa-b3b9-42e5-b369-981d5cf9bc52",
   "metadata": {},
   "outputs": [],
   "source": [
    "clf = LocalOutlierFactor(n_neighbors=2)"
   ]
  },
  {
   "cell_type": "code",
   "execution_count": 19,
   "id": "5955debe-5dd4-4d3c-b9ea-76fccd7d6295",
   "metadata": {},
   "outputs": [
    {
     "data": {
      "text/plain": [
       "array([1, 1])"
      ]
     },
     "execution_count": 19,
     "metadata": {},
     "output_type": "execute_result"
    }
   ],
   "source": [
    "clf.fit_predict([_x,_y])"
   ]
  },
  {
   "cell_type": "code",
   "execution_count": 20,
   "id": "e6c463de-664d-465b-ae32-b5c0d5ac8598",
   "metadata": {},
   "outputs": [
    {
     "data": {
      "text/plain": [
       "array([-1., -1.])"
      ]
     },
     "execution_count": 20,
     "metadata": {},
     "output_type": "execute_result"
    }
   ],
   "source": [
    "clf.negative_outlier_factor_"
   ]
  },
  {
   "cell_type": "code",
   "execution_count": null,
   "id": "c06c8044-bbc7-4fcd-9781-d5a6fd034871",
   "metadata": {},
   "outputs": [],
   "source": []
  },
  {
   "cell_type": "code",
   "execution_count": null,
   "id": "d896a23b-fa0b-46cb-a523-bf34fa1eb750",
   "metadata": {},
   "outputs": [],
   "source": []
  },
  {
   "cell_type": "code",
   "execution_count": 26,
   "id": "0d30b086-7f14-4394-b7a4-5b41c9175a92",
   "metadata": {},
   "outputs": [
    {
     "data": {
      "text/plain": [
       "LocalOutlierFactor(n_neighbors=2, novelty=True)"
      ]
     },
     "execution_count": 26,
     "metadata": {},
     "output_type": "execute_result"
    }
   ],
   "source": [
    "lof = LocalOutlierFactor(2,novelty=True)\n",
    "lof.fit([_x,_y])"
   ]
  },
  {
   "cell_type": "code",
   "execution_count": 27,
   "id": "cf365147-07b4-427f-a57a-9a2b9041022f",
   "metadata": {},
   "outputs": [
    {
     "ename": "AttributeError",
     "evalue": "'LocalOutlierFactor' object has no attribute 'summary'",
     "output_type": "error",
     "traceback": [
      "\u001b[0;31m---------------------------------------------------------------------------\u001b[0m",
      "\u001b[0;31mAttributeError\u001b[0m                            Traceback (most recent call last)",
      "\u001b[0;32m/tmp/ipykernel_2379934/1566520618.py\u001b[0m in \u001b[0;36m<module>\u001b[0;34m\u001b[0m\n\u001b[0;32m----> 1\u001b[0;31m \u001b[0mlof\u001b[0m\u001b[0;34m.\u001b[0m\u001b[0msummary\u001b[0m\u001b[0;34m(\u001b[0m\u001b[0;34m)\u001b[0m\u001b[0;34m\u001b[0m\u001b[0;34m\u001b[0m\u001b[0m\n\u001b[0m",
      "\u001b[0;31mAttributeError\u001b[0m: 'LocalOutlierFactor' object has no attribute 'summary'"
     ]
    }
   ],
   "source": [
    "lof.summary()"
   ]
  },
  {
   "cell_type": "code",
   "execution_count": null,
   "id": "a4bc084e-8eec-428c-bc12-01007008eb51",
   "metadata": {},
   "outputs": [],
   "source": []
  }
 ],
 "metadata": {
  "kernelspec": {
   "display_name": "Python 3 (ipykernel)",
   "language": "python",
   "name": "python3"
  },
  "language_info": {
   "codemirror_mode": {
    "name": "ipython",
    "version": 3
   },
   "file_extension": ".py",
   "mimetype": "text/x-python",
   "name": "python",
   "nbconvert_exporter": "python",
   "pygments_lexer": "ipython3",
   "version": "3.8.12"
  }
 },
 "nbformat": 4,
 "nbformat_minor": 5
}
