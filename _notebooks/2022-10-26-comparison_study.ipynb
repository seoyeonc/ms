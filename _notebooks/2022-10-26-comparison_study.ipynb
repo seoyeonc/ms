{
 "cells": [
  {
   "cell_type": "markdown",
   "id": "68e2d24b-d0bb-4000-861b-0308a3ebe5e1",
   "metadata": {
    "id": "cac470df-29e7-4148-9bbd-d8b9a32fa570",
    "tags": []
   },
   "source": [
    "# Outlier Detection\n",
    "> \n",
    "\n",
    "- toc:true\n",
    "- branch: master\n",
    "- badges: true\n",
    "- comments: false\n",
    "- author: 최서연"
   ]
  },
  {
   "cell_type": "markdown",
   "id": "00b63067-2828-4d82-8a34-9c3a8dd00c34",
   "metadata": {},
   "source": [
    "https://scikit-learn.org/stable/modules/outlier_detection.html"
   ]
  },
  {
   "cell_type": "markdown",
   "id": "f33e5a06-6f67-4144-89d3-803ba53e023b",
   "metadata": {},
   "source": [
    "**Inliers are labeled 1, while outliers are labeled -1**"
   ]
  },
  {
   "cell_type": "code",
   "execution_count": 754,
   "id": "d7a0878a-01c3-4aff-ade2-63a6176cdbee",
   "metadata": {},
   "outputs": [],
   "source": [
    "import numpy as np\n",
    "import matplotlib.pyplot as plt\n",
    "import matplotlib\n",
    "from sklearn.svm import OneClassSVM\n",
    "from sklearn.linear_model import SGDOneClassSVM\n",
    "from sklearn.kernel_approximation import Nystroem\n",
    "from sklearn.pipeline import make_pipeline\n",
    "\n",
    "import pandas as pd\n",
    "from sklearn.neighbors import LocalOutlierFactor\n",
    "\n",
    "import rpy2\n",
    "import rpy2.robjects as ro \n",
    "from rpy2.robjects.vectors import FloatVector \n",
    "from rpy2.robjects.packages import importr\n",
    "\n",
    "from sklearn.datasets import fetch_kddcup99, fetch_covtype, fetch_openml\n",
    "from sklearn.preprocessing import LabelBinarizer\n",
    "\n",
    "import tqdm\n",
    "\n",
    "from pygsp import graphs, filters, plotting, utils"
   ]
  },
  {
   "cell_type": "markdown",
   "id": "1eb695c4-e718-40d7-b2ce-1536d7cfae61",
   "metadata": {
    "tags": []
   },
   "source": [
    "## EbayesThresh"
   ]
  },
  {
   "cell_type": "code",
   "execution_count": 755,
   "id": "555134b6-83d2-47d3-b051-ac0890387008",
   "metadata": {},
   "outputs": [
    {
     "name": "stdout",
     "output_type": "stream",
     "text": [
      "The rpy2.ipython extension is already loaded. To reload it, use:\n",
      "  %reload_ext rpy2.ipython\n"
     ]
    }
   ],
   "source": [
    "%load_ext rpy2.ipython"
   ]
  },
  {
   "cell_type": "code",
   "execution_count": 756,
   "id": "0e9c2fbb-acf8-4171-8fcf-9ffb7d134ced",
   "metadata": {},
   "outputs": [],
   "source": [
    "%%R\n",
    "library(EbayesThresh)\n",
    "set.seed(1)\n",
    "x <- rnorm(1000) + sample(c( runif(25,-7,7), rep(0,975)))\n",
    "#plot(x,type='l')\n",
    "#mu <- EbayesThresh::ebayesthresh(x,sdev=2)\n",
    "#lines(mu,col=2,lty=2,lwd=2)"
   ]
  },
  {
   "cell_type": "code",
   "execution_count": 757,
   "id": "27e6e91a-d3d2-4f51-a25a-748dd2fa8c2b",
   "metadata": {},
   "outputs": [],
   "source": [
    "%R -o x "
   ]
  },
  {
   "cell_type": "code",
   "execution_count": 758,
   "id": "2307876d-6f3b-4f37-a278-e8b107963f13",
   "metadata": {},
   "outputs": [],
   "source": [
    "ebayesthresh = importr('EbayesThresh').ebayesthresh"
   ]
  },
  {
   "cell_type": "code",
   "execution_count": 759,
   "id": "f810ee92-bf54-4772-9fd4-631c1b652237",
   "metadata": {},
   "outputs": [],
   "source": [
    "xhat = np.array(ebayesthresh(FloatVector(x)))"
   ]
  },
  {
   "cell_type": "code",
   "execution_count": 760,
   "id": "a7d775fc-82d6-447c-8b87-ca8e4f91be0d",
   "metadata": {},
   "outputs": [
    {
     "data": {
      "text/plain": [
       "[<matplotlib.lines.Line2D at 0x7f7777538520>]"
      ]
     },
     "execution_count": 760,
     "metadata": {},
     "output_type": "execute_result"
    },
    {
     "data": {
      "image/png": "[encoded data removed]",
      "text/plain": [
       "<Figure size 432x288 with 1 Axes>"
      ]
     },
     "metadata": {
      "needs_background": "light"
     },
     "output_type": "display_data"
    }
   ],
   "source": [
    "plt.plot(x)\n",
    "plt.plot(xhat)"
   ]
  },
  {
   "cell_type": "code",
   "execution_count": 777,
   "id": "0498dc22-fc4a-456f-9244-5ed2692a2a41",
   "metadata": {},
   "outputs": [],
   "source": [
    "outlier_true_index = np.where(xhat!=0)"
   ]
  },
  {
   "cell_type": "code",
   "execution_count": 762,
   "id": "e0451959-f7ff-4361-8c24-954f85d05f20",
   "metadata": {},
   "outputs": [],
   "source": [
    "outlier_true_value = xhat[xhat!=0]"
   ]
  },
  {
   "cell_type": "markdown",
   "id": "82cb0191-fb98-4dad-bdce-0afabaceb58c",
   "metadata": {},
   "source": [
    "## sklearn.neighbors.LocalOutlierFactor"
   ]
  },
  {
   "cell_type": "markdown",
   "id": "f623159f-2c9d-47d0-bd62-4e6ad4bd677f",
   "metadata": {},
   "source": [
    "### 1. sin"
   ]
  },
  {
   "cell_type": "code",
   "execution_count": 763,
   "id": "12efcd58-3c88-459d-93f4-b466eaa7585d",
   "metadata": {},
   "outputs": [],
   "source": [
    "_x = np.linspace(0,2,1000)\n",
    "_y1 =  3*np.sin(_x) + 1*np.sin(_x**2) + 5*np.sin(5*_x) \n",
    "_y = _y1 + x # x is epsilon"
   ]
  },
  {
   "cell_type": "code",
   "execution_count": 764,
   "id": "2c9c10dd-4e57-4382-8e1f-f5c759496d5a",
   "metadata": {},
   "outputs": [],
   "source": [
    "_df=pd.DataFrame({'x':_x, 'y':_y})"
   ]
  },
  {
   "cell_type": "code",
   "execution_count": 765,
   "id": "8d1cc3f6-b33c-4e82-a4f4-8481b28ca6b5",
   "metadata": {},
   "outputs": [],
   "source": [
    "X = np.array(_df)"
   ]
  },
  {
   "cell_type": "code",
   "execution_count": 766,
   "id": "c37814fa-b3b9-42e5-b369-981d5cf9bc52",
   "metadata": {},
   "outputs": [],
   "source": [
    "clf = LocalOutlierFactor(n_neighbors=2)"
   ]
  },
  {
   "cell_type": "code",
   "execution_count": 767,
   "id": "5955debe-5dd4-4d3c-b9ea-76fccd7d6295",
   "metadata": {
    "scrolled": true,
    "tags": []
   },
   "outputs": [
    {
     "data": {
      "text/plain": [
       "array([ 1,  1,  1,  1, -1,  1,  1,  1,  1,  1,  1,  1,  1, -1,  1,  1,  1,\n",
       "        1,  1,  1,  1,  1,  1,  1,  1,  1,  1,  1,  1,  1,  1,  1, -1,  1,\n",
       "        1, -1,  1,  1,  1,  1,  1,  1,  1,  1,  1,  1,  1,  1, -1,  1,  1,\n",
       "       -1,  1,  1,  1, -1,  1,  1,  1,  1, -1,  1,  1,  1,  1,  1, -1, -1,\n",
       "        1, -1,  1,  1,  1, -1,  1,  1,  1,  1,  1,  1,  1,  1,  1,  1, -1,\n",
       "        1,  1,  1,  1,  1,  1,  1,  1,  1,  1,  1,  1,  1,  1,  1, -1,  1,\n",
       "        1,  1,  1,  1,  1,  1,  1,  1,  1,  1, -1,  1,  1,  1, -1,  1, -1,\n",
       "        1,  1,  1,  1,  1,  1,  1,  1,  1,  1,  1,  1,  1,  1,  1,  1,  1,\n",
       "        1,  1,  1,  1, -1,  1,  1,  1,  1,  1,  1,  1,  1, -1,  1,  1,  1,\n",
       "        1,  1, -1,  1,  1,  1,  1,  1,  1,  1,  1,  1,  1,  1,  1,  1,  1,\n",
       "        1,  1,  1,  1,  1,  1,  1,  1,  1,  1,  1,  1,  1, -1,  1,  1,  1,\n",
       "        1, -1,  1,  1, -1,  1, -1, -1,  1,  1,  1,  1,  1,  1,  1,  1,  1,\n",
       "       -1,  1,  1,  1,  1,  1,  1,  1,  1,  1,  1,  1,  1,  1,  1,  1,  1,\n",
       "        1,  1,  1,  1,  1,  1, -1,  1,  1,  1, -1,  1,  1,  1,  1,  1,  1,\n",
       "        1,  1,  1,  1,  1, -1,  1,  1,  1,  1,  1,  1,  1,  1,  1, -1,  1,\n",
       "        1, -1,  1,  1,  1,  1,  1,  1,  1,  1,  1,  1,  1,  1,  1,  1,  1,\n",
       "        1, -1,  1, -1,  1,  1,  1,  1,  1,  1, -1,  1, -1,  1,  1, -1, -1,\n",
       "        1,  1, -1,  1,  1,  1,  1,  1, -1,  1,  1,  1,  1, -1, -1,  1, -1,\n",
       "        1,  1,  1,  1,  1,  1,  1,  1,  1,  1,  1, -1,  1,  1,  1,  1,  1,\n",
       "        1,  1,  1,  1,  1,  1,  1,  1,  1,  1,  1,  1,  1,  1,  1,  1,  1,\n",
       "        1,  1,  1,  1, -1,  1,  1,  1,  1,  1,  1,  1,  1,  1,  1,  1, -1,\n",
       "        1, -1,  1, -1,  1,  1,  1,  1,  1,  1,  1,  1,  1,  1,  1,  1,  1,\n",
       "        1,  1,  1,  1,  1,  1,  1,  1,  1,  1,  1,  1,  1, -1, -1, -1,  1,\n",
       "        1,  1,  1,  1,  1,  1,  1,  1,  1,  1, -1,  1, -1,  1,  1,  1, -1,\n",
       "        1,  1,  1,  1,  1, -1,  1,  1,  1,  1,  1,  1,  1,  1, -1,  1,  1,\n",
       "        1,  1,  1,  1,  1,  1,  1,  1,  1,  1,  1,  1,  1,  1,  1,  1,  1,\n",
       "        1,  1,  1, -1,  1,  1,  1, -1,  1,  1,  1,  1,  1,  1,  1, -1,  1,\n",
       "        1,  1, -1, -1,  1,  1,  1,  1,  1,  1,  1,  1,  1,  1,  1,  1, -1,\n",
       "        1,  1,  1,  1,  1,  1,  1,  1, -1,  1,  1,  1,  1,  1,  1,  1,  1,\n",
       "        1, -1,  1,  1,  1,  1,  1,  1,  1,  1,  1,  1,  1,  1,  1, -1,  1,\n",
       "        1,  1,  1,  1,  1,  1,  1,  1,  1,  1,  1,  1,  1,  1,  1,  1,  1,\n",
       "        1, -1,  1,  1,  1,  1,  1,  1, -1,  1,  1,  1,  1,  1,  1,  1,  1,\n",
       "        1,  1,  1,  1,  1,  1,  1,  1,  1,  1,  1,  1, -1,  1,  1,  1,  1,\n",
       "        1,  1,  1,  1,  1,  1,  1,  1,  1,  1,  1,  1,  1,  1,  1,  1,  1,\n",
       "       -1,  1,  1,  1, -1,  1,  1,  1,  1,  1,  1, -1,  1,  1,  1, -1,  1,\n",
       "       -1,  1,  1,  1,  1,  1,  1, -1,  1,  1,  1, -1,  1,  1,  1,  1,  1,\n",
       "        1, -1,  1,  1, -1,  1, -1, -1,  1, -1,  1,  1,  1,  1,  1,  1,  1,\n",
       "        1,  1,  1,  1,  1,  1,  1,  1,  1,  1,  1,  1,  1,  1,  1,  1,  1,\n",
       "       -1,  1, -1,  1,  1,  1, -1, -1,  1, -1,  1,  1, -1,  1,  1,  1,  1,\n",
       "        1,  1,  1,  1,  1,  1,  1,  1,  1,  1,  1, -1,  1,  1,  1,  1,  1,\n",
       "        1, -1,  1,  1,  1,  1,  1,  1, -1,  1,  1,  1, -1, -1,  1,  1,  1,\n",
       "        1,  1,  1,  1,  1,  1,  1,  1,  1,  1,  1,  1,  1,  1,  1,  1,  1,\n",
       "        1,  1,  1,  1,  1,  1, -1,  1,  1,  1,  1,  1,  1,  1,  1,  1,  1,\n",
       "        1,  1,  1,  1,  1,  1,  1,  1, -1,  1,  1,  1,  1,  1,  1,  1,  1,\n",
       "        1,  1,  1,  1,  1,  1,  1,  1, -1,  1,  1,  1,  1,  1,  1, -1,  1,\n",
       "        1,  1, -1,  1,  1,  1,  1,  1,  1, -1,  1,  1,  1,  1,  1,  1,  1,\n",
       "        1,  1,  1,  1,  1,  1,  1,  1,  1,  1, -1,  1,  1,  1,  1,  1,  1,\n",
       "        1,  1,  1,  1, -1,  1,  1,  1,  1,  1,  1,  1,  1,  1,  1,  1, -1,\n",
       "        1,  1,  1,  1,  1,  1,  1,  1,  1,  1,  1, -1,  1, -1,  1,  1,  1,\n",
       "        1,  1,  1,  1,  1,  1,  1,  1, -1,  1,  1,  1, -1, -1,  1,  1,  1,\n",
       "       -1,  1,  1,  1,  1,  1, -1,  1,  1,  1,  1,  1,  1, -1,  1, -1,  1,\n",
       "        1,  1,  1, -1,  1,  1,  1,  1,  1,  1,  1,  1,  1,  1,  1,  1,  1,\n",
       "       -1, -1,  1,  1,  1,  1,  1,  1,  1,  1,  1,  1, -1, -1,  1,  1,  1,\n",
       "        1,  1,  1,  1,  1,  1,  1,  1,  1,  1,  1, -1,  1,  1,  1,  1,  1,\n",
       "        1,  1,  1, -1,  1,  1,  1,  1,  1,  1,  1,  1,  1,  1,  1,  1,  1,\n",
       "        1,  1,  1,  1,  1,  1,  1,  1, -1,  1,  1,  1,  1,  1,  1,  1,  1,\n",
       "        1,  1,  1,  1, -1,  1, -1,  1,  1,  1,  1,  1,  1,  1,  1,  1,  1,\n",
       "        1, -1,  1,  1,  1,  1,  1,  1,  1,  1,  1, -1,  1,  1,  1,  1,  1,\n",
       "        1,  1,  1,  1,  1,  1,  1,  1,  1,  1,  1,  1, -1,  1])"
      ]
     },
     "execution_count": 767,
     "metadata": {},
     "output_type": "execute_result"
    }
   ],
   "source": [
    "clf.fit_predict(X)"
   ]
  },
  {
   "cell_type": "markdown",
   "id": "55bc53eb-ddaa-428d-97b1-fbbb406a7dc4",
   "metadata": {},
   "source": [
    "outlier"
   ]
  },
  {
   "cell_type": "code",
   "execution_count": 266,
   "id": "d896a23b-fa0b-46cb-a523-bf34fa1eb750",
   "metadata": {},
   "outputs": [],
   "source": [
    "outlier_first_index = np.where(clf.fit_predict(X)==-1)"
   ]
  },
  {
   "cell_type": "code",
   "execution_count": 278,
   "id": "3351759e-3713-490d-8657-834f6fbfdee0",
   "metadata": {},
   "outputs": [],
   "source": [
    "outlier_first_value = clf.fit_predict(X)[clf.fit_predict(X)==-1]"
   ]
  },
  {
   "cell_type": "code",
   "execution_count": 267,
   "id": "05e991a7-c26f-4e8a-8b33-6b62d5716e37",
   "metadata": {},
   "outputs": [
    {
     "data": {
      "text/plain": [
       "121"
      ]
     },
     "execution_count": 267,
     "metadata": {},
     "output_type": "execute_result"
    }
   ],
   "source": [
    "len(df[outlier_first_index])"
   ]
  },
  {
   "cell_type": "code",
   "execution_count": 268,
   "id": "4d9d591d-fd1b-4572-b108-c48e13d97895",
   "metadata": {},
   "outputs": [
    {
     "data": {
      "text/plain": [
       "[<matplotlib.lines.Line2D at 0x7f7781355400>,\n",
       " <matplotlib.lines.Line2D at 0x7f77813554f0>]"
      ]
     },
     "execution_count": 268,
     "metadata": {},
     "output_type": "execute_result"
    },
    {
     "data": {
      "image/png": "[encoded data removed]",
      "text/plain": [
       "<Figure size 432x288 with 1 Axes>"
      ]
     },
     "metadata": {
      "needs_background": "light"
     },
     "output_type": "display_data"
    }
   ],
   "source": [
    "plt.plot(df[outlier_first],'.')"
   ]
  },
  {
   "cell_type": "code",
   "execution_count": 269,
   "id": "59488a71-50cb-4f1e-a6be-0d534ee49090",
   "metadata": {},
   "outputs": [],
   "source": [
    "class SIMUL:\n",
    "    def __init__(self,df):\n",
    "        self.df = df\n",
    "        self.y = df.y.to_numpy()\n",
    "        #self.y1 = df.y1.to_numpy()\n",
    "        self.x = df.x.to_numpy()\n",
    "        self.n = len(self.y)\n",
    "        self.W = w\n",
    "    def _eigen(self):\n",
    "        d= self.W.sum(axis=1)\n",
    "        D= np.diag(d)\n",
    "        self.L = np.diag(1/np.sqrt(d)) @ (D-self.W) @ np.diag(1/np.sqrt(d))\n",
    "        self.lamb, self.Psi = np.linalg.eigh(self.L)\n",
    "        self.Lamb = np.diag(self.lamb)      \n",
    "    def fit(self,sd=5): # fit with ebayesthresh\n",
    "        self._eigen()\n",
    "        self.ybar = self.Psi.T @ self.y # fbar := graph fourier transform of f\n",
    "        self.power = self.ybar**2 \n",
    "        ebayesthresh = importr('EbayesThresh').ebayesthresh\n",
    "        self.power_threshed=np.array(ebayesthresh(FloatVector(self.ybar**2),sd=sd))\n",
    "        self.ybar_threshed = np.where(self.power_threshed>0,self.ybar,0)\n",
    "        self.yhat = self.Psi@self.ybar_threshed\n",
    "        self.df = self.df.assign(yHat = self.yhat)\n",
    "        self.df = self.df.assign(Residual = self.df.y- self.df.yHat)"
   ]
  },
  {
   "cell_type": "code",
   "execution_count": 270,
   "id": "f0d325cb-971b-4840-8fb7-fd34ba58e83e",
   "metadata": {},
   "outputs": [],
   "source": [
    "w=np.zeros((1000,1000))"
   ]
  },
  {
   "cell_type": "code",
   "execution_count": 271,
   "id": "c0c82d1a-231e-4a82-be7c-f53a094c5717",
   "metadata": {},
   "outputs": [],
   "source": [
    "for i in range(1000):\n",
    "    for j in range(1000):\n",
    "        if i==j :\n",
    "            w[i,j] = 0\n",
    "        elif np.abs(i-j) <= 1 : \n",
    "            w[i,j] = 1"
   ]
  },
  {
   "cell_type": "code",
   "execution_count": 272,
   "id": "1e3fcb1b-1bad-4cbd-ada2-21d214a39488",
   "metadata": {},
   "outputs": [],
   "source": [
    "_simul = SIMUL(_df)"
   ]
  },
  {
   "cell_type": "code",
   "execution_count": 273,
   "id": "4c281156-5754-410c-b51c-0b0bdeaeb7a8",
   "metadata": {},
   "outputs": [],
   "source": [
    "_simul.fit()"
   ]
  },
  {
   "cell_type": "code",
   "execution_count": 298,
   "id": "a0eb857f-03a9-46c4-a743-ff8bd32e81b7",
   "metadata": {},
   "outputs": [],
   "source": [
    "outlier_simul_first_index = np.array(_simul.df.query('Residual**2>2').reset_index()['index'])"
   ]
  },
  {
   "cell_type": "code",
   "execution_count": 302,
   "id": "4e8ceb2b-2a57-4cd9-a220-4f6abf36a77d",
   "metadata": {},
   "outputs": [],
   "source": [
    "outlier_simul_first_value = np.array(_simul.df.query('Residual**2>2').reset_index()['y'])"
   ]
  },
  {
   "cell_type": "code",
   "execution_count": 274,
   "id": "d4163864-c0af-430a-baf4-4726d76d01de",
   "metadata": {},
   "outputs": [
    {
     "data": {
      "text/plain": [
       "179"
      ]
     },
     "execution_count": 274,
     "metadata": {},
     "output_type": "execute_result"
    }
   ],
   "source": [
    "len(_simul.df.query('Residual**2>2'))"
   ]
  },
  {
   "cell_type": "code",
   "execution_count": 275,
   "id": "368e08e0-a410-4545-8c6c-62e177a58b7a",
   "metadata": {},
   "outputs": [
    {
     "data": {
      "text/plain": [
       "[<matplotlib.lines.Line2D at 0x7f7780f548b0>,\n",
       " <matplotlib.lines.Line2D at 0x7f7780f54a00>]"
      ]
     },
     "execution_count": 275,
     "metadata": {},
     "output_type": "execute_result"
    },
    {
     "data": {
      "image/png": "[encoded data removed]",
      "text/plain": [
       "<Figure size 432x288 with 1 Axes>"
      ]
     },
     "metadata": {
      "needs_background": "light"
     },
     "output_type": "display_data"
    }
   ],
   "source": [
    "plt.plot(df[_simul.df.query('Residual**2>2').reset_index()['index'],],'.')"
   ]
  },
  {
   "cell_type": "code",
   "execution_count": 371,
   "id": "8f9c3ef4-af4d-4a62-a670-d40d752c388b",
   "metadata": {},
   "outputs": [
    {
     "data": {
      "text/plain": [
       "19"
      ]
     },
     "execution_count": 371,
     "metadata": {},
     "output_type": "execute_result"
    }
   ],
   "source": [
    "len(outlier_true_value)"
   ]
  },
  {
   "cell_type": "code",
   "execution_count": 372,
   "id": "a5b22847-469c-41f7-9842-754976aad1a6",
   "metadata": {
    "tags": []
   },
   "outputs": [
    {
     "data": {
      "text/plain": [
       "121"
      ]
     },
     "execution_count": 372,
     "metadata": {},
     "output_type": "execute_result"
    }
   ],
   "source": [
    "len(outlier_first_value)"
   ]
  },
  {
   "cell_type": "code",
   "execution_count": 373,
   "id": "9c9f7977-cf48-4932-a469-7727d098482e",
   "metadata": {},
   "outputs": [
    {
     "data": {
      "text/plain": [
       "179"
      ]
     },
     "execution_count": 373,
     "metadata": {},
     "output_type": "execute_result"
    }
   ],
   "source": [
    "len(_simul.df.query('Residual**2>2'))"
   ]
  },
  {
   "cell_type": "code",
   "execution_count": 559,
   "id": "be6079f8-ca93-495f-a579-b36f063db4f6",
   "metadata": {},
   "outputs": [
    {
     "data": {
      "text/plain": [
       "[<matplotlib.lines.Line2D at 0x7f777c2da070>]"
      ]
     },
     "execution_count": 559,
     "metadata": {},
     "output_type": "execute_result"
    },
    {
     "data": {
      "image/png": "[encoded data removed]",
      "text/plain": [
       "<Figure size 432x288 with 1 Axes>"
      ]
     },
     "metadata": {
      "needs_background": "light"
     },
     "output_type": "display_data"
    }
   ],
   "source": [
    "plt.plot(xhat,'go')\n",
    "plt.plot(_df.loc[outlier_first_index].reset_index()['index'],_df.loc[outlier_first_index].reset_index()['y'],'r.')\n",
    "plt.plot(outlier_simul_first_index,outlier_simul_first_value,'b.')\n",
    "plt.plot(_y1,'k-')"
   ]
  },
  {
   "cell_type": "code",
   "execution_count": 560,
   "id": "bc5c9a79-9cde-42d4-862b-6b79eae78561",
   "metadata": {},
   "outputs": [
    {
     "data": {
      "text/plain": [
       "11"
      ]
     },
     "execution_count": 560,
     "metadata": {},
     "output_type": "execute_result"
    }
   ],
   "source": [
    "len(np.intersect1d(outlier_true_index,outlier_first_index))"
   ]
  },
  {
   "cell_type": "code",
   "execution_count": 543,
   "id": "1a701a6b-0982-4221-8d82-77eaff36a4b8",
   "metadata": {},
   "outputs": [
    {
     "data": {
      "text/plain": [
       "0.5789473684210527"
      ]
     },
     "execution_count": 543,
     "metadata": {},
     "output_type": "execute_result"
    }
   ],
   "source": [
    "len(np.intersect1d(outlier_true_index,outlier_first_index))/len(np.array(outlier_true_index).tolist()[0])"
   ]
  },
  {
   "cell_type": "code",
   "execution_count": 561,
   "id": "c9817f3e-3d5b-4adb-8925-817e03fef0b9",
   "metadata": {},
   "outputs": [
    {
     "data": {
      "text/plain": [
       "19"
      ]
     },
     "execution_count": 561,
     "metadata": {},
     "output_type": "execute_result"
    }
   ],
   "source": [
    "len(np.intersect1d(outlier_true_index,outlier_simul_first_index))"
   ]
  },
  {
   "cell_type": "code",
   "execution_count": 544,
   "id": "4de027fb-a7ca-4c69-b7c5-f1fe7bdb2ec0",
   "metadata": {},
   "outputs": [
    {
     "data": {
      "text/plain": [
       "1.0"
      ]
     },
     "execution_count": 544,
     "metadata": {},
     "output_type": "execute_result"
    }
   ],
   "source": [
    "len(np.intersect1d(outlier_true_index,outlier_simul_first_index))/len(np.array(outlier_true_index).tolist()[0])"
   ]
  },
  {
   "cell_type": "markdown",
   "id": "9a5dc37c-128e-4926-8d12-edf87d7e8df0",
   "metadata": {},
   "source": [
    "### 2. two dimensional manifold"
   ]
  },
  {
   "cell_type": "code",
   "execution_count": 657,
   "id": "99878a7e-6a32-44b0-be28-dbece559a18f",
   "metadata": {},
   "outputs": [],
   "source": [
    "np.random.seed(777)\n",
    "pi=np.pi\n",
    "n=1000\n",
    "ang=np.linspace(-pi,pi-2*pi/n,n)\n",
    "r=2+np.sin(np.linspace(0,6*pi,n))\n",
    "vx=r*np.cos(ang)\n",
    "vy=r*np.sin(ang)\n",
    "f1=10*np.sin(np.linspace(0,3*pi,n))\n",
    "f = f1 + x"
   ]
  },
  {
   "cell_type": "code",
   "execution_count": 658,
   "id": "e14507f9-936c-471e-89a1-5590ebedbf2a",
   "metadata": {},
   "outputs": [],
   "source": [
    "_df = pd.DataFrame({'x' : vx, 'y' : vy, 'f' : f})"
   ]
  },
  {
   "cell_type": "code",
   "execution_count": 659,
   "id": "39da72f9-06f8-4493-85bf-3dfb2727d293",
   "metadata": {},
   "outputs": [],
   "source": [
    "X = np.array(_df)"
   ]
  },
  {
   "cell_type": "code",
   "execution_count": 660,
   "id": "731ffd04-3051-4d17-b144-a8665879ed3b",
   "metadata": {},
   "outputs": [],
   "source": [
    "clf = LocalOutlierFactor(n_neighbors=2)"
   ]
  },
  {
   "cell_type": "code",
   "execution_count": 661,
   "id": "888a6ea8-dbe3-4e56-98b8-131ed31d6704",
   "metadata": {
    "scrolled": true,
    "tags": []
   },
   "outputs": [
    {
     "data": {
      "text/plain": [
       "array([ 1,  1,  1, -1,  1, -1, -1,  1,  1,  1,  1,  1,  1, -1,  1,  1,  1,\n",
       "        1,  1,  1,  1,  1,  1, -1,  1,  1,  1,  1,  1,  1, -1,  1,  1,  1,\n",
       "       -1,  1,  1,  1,  1, -1,  1,  1,  1,  1,  1,  1,  1,  1,  1,  1,  1,\n",
       "        1,  1, -1,  1,  1, -1,  1,  1,  1, -1,  1,  1,  1, -1,  1,  1, -1,\n",
       "        1,  1, -1,  1,  1,  1,  1,  1,  1,  1,  1,  1,  1,  1,  1,  1,  1,\n",
       "       -1,  1, -1,  1,  1, -1,  1,  1,  1,  1,  1, -1,  1,  1,  1,  1,  1,\n",
       "        1,  1,  1,  1,  1,  1,  1,  1,  1,  1,  1,  1,  1,  1,  1,  1,  1,\n",
       "        1,  1, -1,  1,  1,  1,  1,  1,  1, -1,  1,  1,  1,  1,  1,  1,  1,\n",
       "        1,  1,  1,  1, -1, -1,  1,  1,  1,  1,  1,  1,  1,  1,  1,  1,  1,\n",
       "        1,  1,  1,  1,  1,  1,  1,  1,  1,  1,  1,  1,  1,  1,  1,  1,  1,\n",
       "        1,  1,  1,  1,  1,  1,  1,  1,  1,  1,  1,  1,  1,  1,  1,  1, -1,\n",
       "        1,  1,  1,  1,  1,  1,  1,  1,  1,  1,  1,  1,  1,  1,  1,  1,  1,\n",
       "       -1, -1,  1,  1,  1,  1,  1,  1,  1, -1,  1,  1,  1,  1,  1,  1, -1,\n",
       "        1,  1,  1,  1, -1,  1,  1,  1,  1,  1, -1,  1,  1,  1,  1,  1,  1,\n",
       "       -1,  1,  1,  1,  1,  1,  1, -1,  1,  1,  1,  1,  1,  1,  1,  1,  1,\n",
       "        1, -1,  1, -1,  1,  1,  1,  1,  1,  1, -1,  1,  1,  1,  1,  1,  1,\n",
       "        1,  1,  1, -1, -1,  1,  1,  1, -1, -1, -1,  1,  1, -1,  1,  1, -1,\n",
       "       -1,  1,  1,  1,  1,  1,  1,  1,  1,  1,  1,  1,  1, -1,  1, -1,  1,\n",
       "        1,  1,  1,  1,  1,  1,  1,  1,  1,  1,  1,  1,  1,  1,  1,  1,  1,\n",
       "        1,  1,  1,  1,  1,  1,  1,  1,  1,  1,  1,  1,  1,  1,  1,  1,  1,\n",
       "        1, -1,  1,  1, -1, -1,  1,  1,  1,  1,  1,  1,  1,  1,  1,  1,  1,\n",
       "        1, -1,  1,  1,  1,  1,  1,  1,  1,  1,  1,  1,  1,  1,  1,  1,  1,\n",
       "        1,  1,  1,  1,  1,  1,  1,  1,  1,  1,  1,  1, -1,  1, -1,  1, -1,\n",
       "        1,  1,  1,  1,  1,  1,  1,  1,  1,  1,  1,  1,  1,  1,  1,  1,  1,\n",
       "        1,  1, -1,  1,  1,  1,  1, -1,  1,  1, -1,  1,  1,  1,  1,  1, -1,\n",
       "        1,  1,  1,  1,  1,  1,  1,  1, -1,  1,  1,  1,  1,  1,  1,  1, -1,\n",
       "        1,  1,  1,  1,  1,  1,  1,  1,  1,  1,  1,  1,  1,  1,  1,  1,  1,\n",
       "        1,  1, -1,  1,  1,  1,  1,  1,  1,  1, -1,  1,  1,  1,  1,  1,  1,\n",
       "        1,  1,  1,  1,  1,  1,  1,  1,  1,  1,  1,  1,  1,  1,  1, -1,  1,\n",
       "        1, -1,  1,  1,  1,  1,  1,  1, -1,  1,  1,  1,  1, -1, -1,  1,  1,\n",
       "        1,  1,  1,  1,  1, -1,  1,  1,  1,  1,  1,  1,  1,  1,  1,  1,  1,\n",
       "        1,  1,  1,  1,  1,  1,  1,  1, -1,  1,  1,  1,  1,  1,  1,  1,  1,\n",
       "        1,  1,  1,  1,  1,  1,  1,  1, -1,  1, -1,  1,  1,  1,  1,  1,  1,\n",
       "        1,  1,  1,  1, -1,  1,  1,  1, -1,  1,  1,  1,  1, -1,  1,  1,  1,\n",
       "       -1,  1,  1,  1,  1,  1,  1,  1,  1,  1,  1,  1, -1,  1,  1,  1,  1,\n",
       "        1,  1,  1,  1,  1,  1, -1,  1,  1,  1,  1,  1,  1,  1,  1,  1,  1,\n",
       "       -1,  1,  1, -1,  1,  1, -1,  1,  1, -1,  1,  1,  1, -1,  1,  1,  1,\n",
       "        1,  1,  1,  1,  1,  1,  1,  1,  1,  1,  1, -1,  1,  1,  1,  1,  1,\n",
       "        1, -1,  1,  1, -1,  1,  1,  1,  1, -1,  1,  1, -1,  1,  1,  1,  1,\n",
       "        1, -1,  1,  1,  1,  1,  1,  1,  1,  1,  1, -1,  1, -1,  1,  1,  1,\n",
       "        1,  1,  1,  1, -1,  1,  1,  1,  1,  1,  1,  1,  1, -1,  1,  1, -1,\n",
       "        1,  1,  1,  1,  1,  1,  1,  1,  1,  1,  1,  1,  1,  1,  1,  1, -1,\n",
       "        1,  1,  1,  1,  1,  1,  1,  1,  1,  1,  1,  1,  1,  1,  1,  1,  1,\n",
       "        1,  1,  1,  1,  1,  1,  1,  1,  1, -1,  1,  1,  1,  1,  1,  1,  1,\n",
       "        1,  1,  1, -1,  1,  1,  1,  1,  1,  1,  1,  1,  1,  1,  1,  1,  1,\n",
       "        1,  1,  1,  1,  1,  1,  1,  1,  1,  1,  1,  1,  1,  1,  1,  1,  1,\n",
       "        1,  1,  1,  1,  1,  1,  1,  1,  1,  1,  1, -1,  1,  1,  1,  1,  1,\n",
       "        1,  1,  1,  1,  1,  1,  1,  1,  1,  1,  1, -1,  1,  1,  1,  1, -1,\n",
       "       -1,  1,  1, -1, -1,  1,  1,  1,  1,  1,  1,  1,  1, -1,  1,  1,  1,\n",
       "        1, -1,  1,  1, -1, -1, -1,  1,  1, -1,  1,  1,  1,  1,  1,  1,  1,\n",
       "        1,  1,  1,  1,  1,  1, -1,  1,  1,  1,  1,  1,  1,  1,  1, -1, -1,\n",
       "       -1,  1,  1, -1,  1,  1,  1,  1,  1,  1,  1,  1,  1, -1, -1,  1,  1,\n",
       "        1,  1,  1,  1,  1,  1,  1,  1,  1,  1,  1,  1,  1, -1,  1,  1,  1,\n",
       "        1,  1,  1,  1,  1,  1, -1,  1,  1,  1,  1,  1,  1,  1,  1,  1,  1,\n",
       "        1,  1,  1,  1,  1,  1,  1,  1,  1,  1, -1,  1,  1,  1,  1, -1, -1,\n",
       "        1,  1,  1,  1, -1,  1,  1,  1,  1,  1,  1,  1, -1,  1,  1,  1,  1,\n",
       "        1, -1,  1,  1,  1,  1,  1,  1, -1,  1, -1, -1,  1,  1, -1, -1,  1,\n",
       "        1, -1,  1,  1,  1, -1,  1,  1,  1, -1,  1,  1,  1,  1,  1,  1,  1,\n",
       "        1,  1,  1,  1,  1,  1,  1,  1,  1,  1,  1,  1, -1,  1])"
      ]
     },
     "execution_count": 661,
     "metadata": {},
     "output_type": "execute_result"
    }
   ],
   "source": [
    "clf.fit_predict(X)"
   ]
  },
  {
   "cell_type": "markdown",
   "id": "105181c7-186f-4ae0-a6ac-c8ca5923610c",
   "metadata": {},
   "source": [
    "outlier"
   ]
  },
  {
   "cell_type": "code",
   "execution_count": 662,
   "id": "c4750f1f-a80b-4723-b77d-99b77cf3f89d",
   "metadata": {},
   "outputs": [],
   "source": [
    "outlier_first_index = np.where(clf.fit_predict(X)==-1)"
   ]
  },
  {
   "cell_type": "code",
   "execution_count": 663,
   "id": "89bc91da-f206-443b-962b-9e2f64ef0c0d",
   "metadata": {},
   "outputs": [],
   "source": [
    "outlier_first_value = clf.fit_predict(X)[clf.fit_predict(X)==-1]"
   ]
  },
  {
   "cell_type": "code",
   "execution_count": 664,
   "id": "90499213-01bd-4383-960c-6cfbac3d6bcd",
   "metadata": {},
   "outputs": [
    {
     "data": {
      "text/plain": [
       "129"
      ]
     },
     "execution_count": 664,
     "metadata": {},
     "output_type": "execute_result"
    }
   ],
   "source": [
    "len(df[outlier_first_index])"
   ]
  },
  {
   "cell_type": "code",
   "execution_count": 665,
   "id": "132a70b5-cf89-4dd4-ae91-be72eabbc057",
   "metadata": {},
   "outputs": [],
   "source": [
    "class SIMUL:\n",
    "    def __init__(self,df):\n",
    "        self.df = df \n",
    "        self.f = df.f.to_numpy()\n",
    "        self.x = df.x.to_numpy()\n",
    "        self.y = df.y.to_numpy()\n",
    "        self.n = len(self.f)\n",
    "        self.theta= None\n",
    "    def get_distance(self):\n",
    "        self.D = np.zeros([self.n,self.n])\n",
    "        locations = np.stack([self.x, self.y],axis=1)\n",
    "        for i in tqdm.tqdm(range(self.n)):\n",
    "            for j in range(i,self.n):\n",
    "                self.D[i,j]=np.linalg.norm(locations[i]-locations[j])\n",
    "        self.D = self.D + self.D.T\n",
    "    def get_weightmatrix(self,theta=1,beta=0.5,kappa=4000):\n",
    "        self.theta = theta\n",
    "        dist = np.where(self.D < kappa,self.D,0)\n",
    "        self.W = np.exp(-(dist/self.theta)**2)\n",
    "    def _eigen(self):\n",
    "        d= self.W.sum(axis=1)\n",
    "        D= np.diag(d)\n",
    "        self.L = np.diag(1/np.sqrt(d)) @ (D-self.W) @ np.diag(1/np.sqrt(d))\n",
    "        self.lamb, self.Psi = np.linalg.eigh(self.L)\n",
    "        self.Lamb = np.diag(self.lamb)       \n",
    "    def fit(self,sd=5,ref=60): # fit with ebayesthresh\n",
    "        self._eigen()\n",
    "        self.fbar = self.Psi.T @ self.f # fbar := graph fourier transform of f\n",
    "        self.power = self.fbar**2 \n",
    "        ebayesthresh = importr('EbayesThresh').ebayesthresh\n",
    "        self.power_threshed=np.array(ebayesthresh(FloatVector(self.fbar**2),sd=sd))\n",
    "        self.fbar_threshed = np.where(self.power_threshed>0,self.fbar,0)\n",
    "        self.fhat = self.Psi@self.fbar_threshed\n",
    "        self.df = self.df.assign(fHat = self.fhat)\n",
    "        self.df = self.df.assign(Residual = self.df.f- self.df.fHat)\n",
    "        self.bottom = np.zeros_like(self.f)\n",
    "        self.width=0.05\n",
    "        self.depth=0.05"
   ]
  },
  {
   "cell_type": "code",
   "execution_count": 666,
   "id": "3d728754-4d0f-4dce-a72e-e8daf08eaf45",
   "metadata": {},
   "outputs": [],
   "source": [
    "_simul = SIMUL(_df)"
   ]
  },
  {
   "cell_type": "code",
   "execution_count": 667,
   "id": "6f93aa9b-624d-483e-b053-556ce7869643",
   "metadata": {},
   "outputs": [
    {
     "name": "stderr",
     "output_type": "stream",
     "text": [
      "100%|██████████| 1000/1000 [00:02<00:00, 476.37it/s]\n"
     ]
    }
   ],
   "source": [
    "_simul.get_distance()"
   ]
  },
  {
   "cell_type": "code",
   "execution_count": 668,
   "id": "9f9e2b72-4234-41bd-8fec-d11337f9fb7f",
   "metadata": {},
   "outputs": [],
   "source": [
    "_simul.get_weightmatrix(theta=(_simul.D[_simul.D>0].mean()),kappa=2500) "
   ]
  },
  {
   "cell_type": "code",
   "execution_count": 669,
   "id": "180a2a47-ea8c-4cfb-a12d-63c4522e38cf",
   "metadata": {},
   "outputs": [],
   "source": [
    "_simul.fit()"
   ]
  },
  {
   "cell_type": "code",
   "execution_count": 670,
   "id": "d1ebe817-5bc8-4bf3-b341-18536ffd8264",
   "metadata": {},
   "outputs": [],
   "source": [
    "outlier_simul_first_index = np.array(_simul.df.query('Residual**2>2').reset_index()['index'])"
   ]
  },
  {
   "cell_type": "code",
   "execution_count": 671,
   "id": "7deb2eda-9790-43cc-acd6-1608481496c1",
   "metadata": {},
   "outputs": [],
   "source": [
    "outlier_simul_first_value = np.array(_simul.df.query('Residual**2>2').reset_index()['y'])"
   ]
  },
  {
   "cell_type": "code",
   "execution_count": 672,
   "id": "dd7d58b8-f3af-43d0-a799-089b6ea25c51",
   "metadata": {},
   "outputs": [
    {
     "data": {
      "text/plain": [
       "205"
      ]
     },
     "execution_count": 672,
     "metadata": {},
     "output_type": "execute_result"
    }
   ],
   "source": [
    "len(_simul.df.query('Residual**2>2'))"
   ]
  },
  {
   "cell_type": "code",
   "execution_count": 673,
   "id": "76d12a69-0110-44a1-86ff-bb9bd77bbd62",
   "metadata": {},
   "outputs": [
    {
     "data": {
      "text/plain": [
       "19"
      ]
     },
     "execution_count": 673,
     "metadata": {},
     "output_type": "execute_result"
    }
   ],
   "source": [
    "len(outlier_true_value)"
   ]
  },
  {
   "cell_type": "code",
   "execution_count": 674,
   "id": "36773d4c-0bb8-4b28-a2d5-5ecb0f91cd6a",
   "metadata": {
    "tags": []
   },
   "outputs": [
    {
     "data": {
      "text/plain": [
       "129"
      ]
     },
     "execution_count": 674,
     "metadata": {},
     "output_type": "execute_result"
    }
   ],
   "source": [
    "len(outlier_first_value)"
   ]
  },
  {
   "cell_type": "code",
   "execution_count": 675,
   "id": "a8b49244-58ef-49b8-96d5-2913db35cf04",
   "metadata": {},
   "outputs": [
    {
     "data": {
      "text/plain": [
       "205"
      ]
     },
     "execution_count": 675,
     "metadata": {},
     "output_type": "execute_result"
    }
   ],
   "source": [
    "len(_simul.df.query('Residual**2>2'))"
   ]
  },
  {
   "cell_type": "code",
   "execution_count": 676,
   "id": "2f9851e3-20f5-425b-ab8c-f87f10cf1ccc",
   "metadata": {},
   "outputs": [
    {
     "data": {
      "text/plain": [
       "14"
      ]
     },
     "execution_count": 676,
     "metadata": {},
     "output_type": "execute_result"
    }
   ],
   "source": [
    "len(np.intersect1d(outlier_true_index,outlier_first_index))"
   ]
  },
  {
   "cell_type": "code",
   "execution_count": 677,
   "id": "38d45255-1186-49eb-87c1-b7f8685d6e60",
   "metadata": {},
   "outputs": [
    {
     "data": {
      "text/plain": [
       "0.7368421052631579"
      ]
     },
     "execution_count": 677,
     "metadata": {},
     "output_type": "execute_result"
    }
   ],
   "source": [
    "len(np.intersect1d(outlier_true_index,outlier_first_index))/len(np.array(outlier_true_index).tolist()[0])"
   ]
  },
  {
   "cell_type": "code",
   "execution_count": 678,
   "id": "303015e7-c1cb-4bd9-9a3e-029655906776",
   "metadata": {},
   "outputs": [
    {
     "data": {
      "text/plain": [
       "19"
      ]
     },
     "execution_count": 678,
     "metadata": {},
     "output_type": "execute_result"
    }
   ],
   "source": [
    "len(np.intersect1d(outlier_true_index,outlier_simul_first_index))"
   ]
  },
  {
   "cell_type": "code",
   "execution_count": 679,
   "id": "adad037b-49a4-4def-8ad3-173f592ec9ae",
   "metadata": {},
   "outputs": [
    {
     "data": {
      "text/plain": [
       "1.0"
      ]
     },
     "execution_count": 679,
     "metadata": {},
     "output_type": "execute_result"
    }
   ],
   "source": [
    "len(np.intersect1d(outlier_true_index,outlier_simul_first_index))/len(np.array(outlier_true_index).tolist()[0])"
   ]
  },
  {
   "cell_type": "markdown",
   "id": "b1c60da8-8490-4029-8253-c30fd10f0daa",
   "metadata": {},
   "source": [
    "### 3. Bunny"
   ]
  },
  {
   "cell_type": "code",
   "execution_count": 732,
   "id": "0cd2f046-49c2-4957-abcd-e63cffd24d3c",
   "metadata": {},
   "outputs": [],
   "source": [
    "G = graphs.Bunny()\n",
    "n = G.N"
   ]
  },
  {
   "cell_type": "code",
   "execution_count": 733,
   "id": "bd36771b-98c7-49fe-bc59-2a8991de15ec",
   "metadata": {},
   "outputs": [],
   "source": [
    "g = filters.Heat(G, tau=75) "
   ]
  },
  {
   "cell_type": "code",
   "execution_count": 734,
   "id": "adedd2ae-4b70-4064-892f-0a95365a69d0",
   "metadata": {},
   "outputs": [],
   "source": [
    "normal = np.random.randn(n)*0.3\n",
    "unif = np.concatenate([np.random.rand(63)*3, np.zeros(n-63)]); np.random.shuffle(unif)\n",
    "noise = normal + unif "
   ]
  },
  {
   "cell_type": "code",
   "execution_count": 735,
   "id": "2d932f1a-5db2-41e2-87f8-ca4b366e1a9e",
   "metadata": {},
   "outputs": [
    {
     "name": "stderr",
     "output_type": "stream",
     "text": [
      "2022-10-27 14:59:33,943:[WARNING](pygsp.graphs.graph.lmax): The largest eigenvalue G.lmax is not available, we need to estimate it. Explicitly call G.estimate_lmax() or G.compute_fourier_basis() once beforehand to suppress the warning.\n"
     ]
    }
   ],
   "source": [
    "f = np.zeros(n)\n",
    "f[1000] = 3234\n",
    "f = g.filter(f, method='chebyshev') "
   ]
  },
  {
   "cell_type": "code",
   "execution_count": 736,
   "id": "76148f03-648b-4679-9485-676330f8ef37",
   "metadata": {},
   "outputs": [],
   "source": [
    "_W = G.W.toarray()\n",
    "_x = G.coords[:,0]\n",
    "_y = G.coords[:,1]\n",
    "_z = G.coords[:,2]"
   ]
  },
  {
   "cell_type": "code",
   "execution_count": 737,
   "id": "e60eb972-c6a5-4212-a209-8df1572f1f3c",
   "metadata": {},
   "outputs": [],
   "source": [
    "_df = pd.DataFrame({'x' : _x, 'y' : _y, 'z' : _z, 'f' : f, 'noise' : noise})"
   ]
  },
  {
   "cell_type": "code",
   "execution_count": 739,
   "id": "a475fc55-d572-4fee-b60d-7325912beed9",
   "metadata": {},
   "outputs": [],
   "source": [
    "X = np.array(_df)"
   ]
  },
  {
   "cell_type": "code",
   "execution_count": 740,
   "id": "e58f7ef8-5b34-4613-8141-f4c5ad92069a",
   "metadata": {},
   "outputs": [],
   "source": [
    "clf = LocalOutlierFactor(n_neighbors=2)"
   ]
  },
  {
   "cell_type": "code",
   "execution_count": 741,
   "id": "9d75083a-95d4-40d9-9b85-5daca72926c6",
   "metadata": {
    "scrolled": true,
    "tags": []
   },
   "outputs": [
    {
     "data": {
      "text/plain": [
       "array([1, 1, 1, ..., 1, 1, 1])"
      ]
     },
     "execution_count": 741,
     "metadata": {},
     "output_type": "execute_result"
    }
   ],
   "source": [
    "clf.fit_predict(X[:,:4])"
   ]
  },
  {
   "cell_type": "markdown",
   "id": "d6e753bb-dd42-491c-a091-55abc5ed4064",
   "metadata": {},
   "source": [
    "outlier"
   ]
  },
  {
   "cell_type": "code",
   "execution_count": 742,
   "id": "1dfe3324-bb53-4bdc-8443-295d6aac7636",
   "metadata": {},
   "outputs": [],
   "source": [
    "outlier_first_index = np.where(clf.fit_predict(X[:,:4])==-1)"
   ]
  },
  {
   "cell_type": "code",
   "execution_count": 743,
   "id": "4899cdb1-6539-466b-b9f4-f8e53a1948e2",
   "metadata": {},
   "outputs": [],
   "source": [
    "outlier_first_value = clf.fit_predict(X)[clf.fit_predict(X[:,:4])==-1]"
   ]
  },
  {
   "cell_type": "code",
   "execution_count": 744,
   "id": "29855080-1c90-4930-b43f-f711f113871f",
   "metadata": {},
   "outputs": [],
   "source": [
    "class SIMUL:\n",
    "    def __init__(self,df):\n",
    "        self.df = df \n",
    "        self.f = df.f.to_numpy()\n",
    "        self.z = df.z.to_numpy()\n",
    "        self.x = df.x.to_numpy()\n",
    "        self.y = df.y.to_numpy()\n",
    "        self.noise = df.noise.to_numpy()\n",
    "        self.fnoise = self.f + self.noise\n",
    "        self.W = W\n",
    "        self.n = len(self.f)\n",
    "        self.theta= None\n",
    "    def _eigen(self):\n",
    "        d= self.W.sum(axis=1)\n",
    "        D= np.diag(d)\n",
    "        self.L = np.diag(1/np.sqrt(d)) @ (D-self.W) @ np.diag(1/np.sqrt(d))\n",
    "        self.lamb, self.Psi = np.linalg.eigh(self.L)\n",
    "        self.Lamb = np.diag(self.lamb)       \n",
    "    def fit(self,sd=5,ref=6): # fit with ebayesthresh\n",
    "        self._eigen()\n",
    "        self.fbar = self.Psi.T @ self.fnoise # fbar := graph fourier transform of f\n",
    "        self.power = self.fbar**2 \n",
    "        ebayesthresh = importr('EbayesThresh').ebayesthresh\n",
    "        self.power_threshed=np.array(ebayesthresh(FloatVector(self.fbar**2),sd=sd))\n",
    "        self.fbar_threshed = np.where(self.power_threshed>0,self.fbar,0)\n",
    "        self.fhat = self.Psi@self.fbar_threshed\n",
    "        self.df = self.df.assign(fnoise = self.fnoise)\n",
    "        self.df = self.df.assign(fHat = self.fhat)\n",
    "        self.df = self.df.assign(Residual = self.df.f + self.df.noise - self.df.fHat)\n",
    "        self.bottom = np.zeros_like(self.f)\n",
    "        self.width=0.05\n",
    "        self.depth=0.05"
   ]
  },
  {
   "cell_type": "code",
   "execution_count": 745,
   "id": "1264e581-5996-4bc3-aaea-ef171aeb155e",
   "metadata": {},
   "outputs": [],
   "source": [
    "_simul = SIMUL(_df)"
   ]
  },
  {
   "cell_type": "code",
   "execution_count": 746,
   "id": "25c02cd3-30ff-423c-a926-0b3065758a07",
   "metadata": {},
   "outputs": [],
   "source": [
    "_simul.fit()"
   ]
  },
  {
   "cell_type": "code",
   "execution_count": 747,
   "id": "951d484e-a5b4-4048-a85d-b77a895d9e2f",
   "metadata": {},
   "outputs": [],
   "source": [
    "outlier_simul_first_index = np.array(_simul.df.query('Residual**2>2').reset_index()['index'])"
   ]
  },
  {
   "cell_type": "code",
   "execution_count": 748,
   "id": "cbbc4867-57da-456f-a254-ce44a91a8ff3",
   "metadata": {},
   "outputs": [],
   "source": [
    "outlier_simul_first_value = np.array(_simul.df.query('Residual**2>2').reset_index()['y'])"
   ]
  },
  {
   "cell_type": "code",
   "execution_count": null,
   "id": "64f3031e-5c90-4311-82f7-56f64c9ba50a",
   "metadata": {},
   "outputs": [],
   "source": [
    "len(outlier_true_value)"
   ]
  },
  {
   "cell_type": "code",
   "execution_count": 750,
   "id": "c58957ab-4979-42a4-8052-5b7460296d9b",
   "metadata": {
    "tags": []
   },
   "outputs": [
    {
     "data": {
      "text/plain": [
       "33"
      ]
     },
     "execution_count": 752,
     "metadata": {},
     "output_type": "execute_result"
    }
   ],
   "source": [
    "len(outlier_first_value)"
   ]
  },
  {
   "cell_type": "code",
   "execution_count": 751,
   "id": "1f71b087-58c7-4e08-b28f-ae7c91b1be43",
   "metadata": {},
   "outputs": [
    {
     "data": {
      "text/plain": [
       "33"
      ]
     },
     "execution_count": 753,
     "metadata": {},
     "output_type": "execute_result"
    }
   ],
   "source": [
    "len(_simul.df.query('Residual**2>2'))"
   ]
  },
  {
   "cell_type": "code",
   "execution_count": null,
   "id": "1b2c7bbb-6a47-4d98-911a-4992b285c10e",
   "metadata": {},
   "outputs": [],
   "source": [
    "len(np.intersect1d(outlier_true_index,outlier_first_index))"
   ]
  },
  {
   "cell_type": "code",
   "execution_count": null,
   "id": "9d6bd4aa-cad7-44c1-8f24-675b2a796eb3",
   "metadata": {},
   "outputs": [],
   "source": [
    "len(np.intersect1d(outlier_true_index,outlier_first_index))/len(np.array(outlier_true_index).tolist()[0])"
   ]
  },
  {
   "cell_type": "code",
   "execution_count": null,
   "id": "96cfbb11-0a6b-48f2-8438-492baf7aec1f",
   "metadata": {},
   "outputs": [],
   "source": [
    "len(np.intersect1d(outlier_true_index,outlier_simul_first_index))"
   ]
  },
  {
   "cell_type": "code",
   "execution_count": null,
   "id": "7cb4e9ee-1957-4803-ac8e-6bdea2a37d50",
   "metadata": {},
   "outputs": [],
   "source": [
    "len(np.intersect1d(outlier_true_index,outlier_simul_first_index))/len(np.array(outlier_true_index).tolist()[0])"
   ]
  },
  {
   "cell_type": "markdown",
   "id": "c27dfb44-8d71-45d3-9e2e-a8e3fdb221b8",
   "metadata": {},
   "source": [
    "---"
   ]
  },
  {
   "cell_type": "markdown",
   "id": "4995c31f-f3a5-4162-b4d6-a565f2345cee",
   "metadata": {
    "tags": []
   },
   "source": [
    "## Robust covariance estimation and Mahalanobis distances relevance"
   ]
  },
  {
   "cell_type": "code",
   "execution_count": 795,
   "id": "6c2b8a8e-1854-4a79-b6ed-13e49bb85408",
   "metadata": {},
   "outputs": [],
   "source": [
    "X = np.array(_df)"
   ]
  },
  {
   "cell_type": "code",
   "execution_count": 796,
   "id": "6032c679-503c-4798-8806-edce2baf7421",
   "metadata": {},
   "outputs": [],
   "source": [
    "gen_cov = np.eye(2)\n",
    "gen_cov[0, 0] = 2.0\n",
    "outliers_cov = np.eye(2)\n",
    "outliers_cov[np.arange(1, 2), np.arange(1, 2)] = 10.0\n",
    "#X[-19:] = np.dot(np.random.randn(19, 2), outliers_cov)"
   ]
  },
  {
   "cell_type": "code",
   "execution_count": 797,
   "id": "8a7a7a6a-ac0b-4a73-be4f-f3a1e17cdece",
   "metadata": {},
   "outputs": [],
   "source": [
    "X[outlier_true_index] = np.dot(np.random.randn(len(np.array(outlier_true_index).tolist()[0]), 2), outliers_cov)"
   ]
  },
  {
   "cell_type": "code",
   "execution_count": 798,
   "id": "6d2ecf0f-732f-4b19-b0e2-cc3b96cf2672",
   "metadata": {},
   "outputs": [
    {
     "name": "stdout",
     "output_type": "stream",
     "text": [
      "Estimated covariance matrix:\n",
      "MCD (Robust):\n",
      "[[ 0.15386072 -0.54901492]\n",
      " [-0.54901492  8.79174353]]\n",
      "MLE:\n",
      "[[ 0.36007923  0.41324122]\n",
      " [ 0.41324122 14.42624345]]\n"
     ]
    }
   ],
   "source": [
    "import matplotlib.pyplot as plt\n",
    "from sklearn.covariance import EmpiricalCovariance, MinCovDet\n",
    "\n",
    "# fit a MCD robust estimator to data\n",
    "robust_cov = MinCovDet().fit(X)\n",
    "# fit a MLE estimator to data\n",
    "emp_cov = EmpiricalCovariance().fit(X)\n",
    "print(\n",
    "    \"Estimated covariance matrix:\\nMCD (Robust):\\n{}\\nMLE:\\n{}\".format(\n",
    "        robust_cov.covariance_, emp_cov.covariance_\n",
    "    ))"
   ]
  },
  {
   "cell_type": "code",
   "execution_count": 799,
   "id": "23874614-094b-4c6a-aa57-9b1ae50ffe0a",
   "metadata": {},
   "outputs": [
    {
     "data": {
      "image/png": "[encoded data removed]",
      "text/plain": [
       "<Figure size 720x360 with 1 Axes>"
      ]
     },
     "metadata": {
      "needs_background": "light"
     },
     "output_type": "display_data"
    }
   ],
   "source": [
    "fig, ax = plt.subplots(figsize=(10, 5))\n",
    "# Plot data set\n",
    "inlier_plot = ax.scatter(X[:, 0], X[:, 1], color=\"black\", label=\"inliers\")\n",
    "outlier_plot = ax.scatter(\n",
    "    X[:, 0][outlier_true_index], X[:, 1][outlier_true_index], color=\"red\", label=\"outliers\"\n",
    ")\n",
    "ax.set_xlim(-2.0, 2.0)\n",
    "ax.set_title(\"Mahalanobis distances of a contaminated data set\")\n",
    "xx, yy = np.meshgrid(\n",
    "    np.linspace(plt.xlim()[0], plt.xlim()[1], 100),\n",
    "    np.linspace(plt.ylim()[0], plt.ylim()[1], 100),\n",
    ")\n",
    "zz = np.c_[xx.ravel(), yy.ravel()]\n",
    "# Calculate the MLE based Mahalanobis distances of the meshgrid\n",
    "mahal_emp_cov = emp_cov.mahalanobis(zz)\n",
    "mahal_emp_cov = mahal_emp_cov.reshape(xx.shape)\n",
    "emp_cov_contour = plt.contour(\n",
    "    xx, yy, np.sqrt(mahal_emp_cov), cmap=plt.cm.PuBu_r, linestyles=\"dashed\"\n",
    ")\n",
    "# Calculate the MCD based Mahalanobis distances\n",
    "mahal_robust_cov = robust_cov.mahalanobis(zz)\n",
    "mahal_robust_cov = mahal_robust_cov.reshape(xx.shape)\n",
    "robust_contour = ax.contour(\n",
    "    xx, yy, np.sqrt(mahal_robust_cov), cmap=plt.cm.YlOrBr_r, linestyles=\"dotted\"\n",
    ")\n",
    "\n",
    "# Add legend\n",
    "ax.legend(\n",
    "    [\n",
    "        emp_cov_contour.collections[1],\n",
    "        robust_contour.collections[1],\n",
    "        inlier_plot,\n",
    "        outlier_plot,\n",
    "    ],\n",
    "    [\"MLE dist\", \"MCD dist\", \"inliers\", \"outliers\"],\n",
    "    loc=\"upper left\",\n",
    "    borderaxespad=0,\n",
    ")\n",
    "\n",
    "plt.show()\n"
   ]
  },
  {
   "cell_type": "code",
   "execution_count": null,
   "id": "f36f6136-c1cd-40b6-8922-a1cac9811bad",
   "metadata": {},
   "outputs": [],
   "source": []
  },
  {
   "cell_type": "code",
   "execution_count": null,
   "id": "fdc8f868-2a67-4d5b-9203-6c81286ab525",
   "metadata": {},
   "outputs": [],
   "source": []
  }
 ],
 "metadata": {
  "kernelspec": {
   "display_name": "Python 3 (ipykernel)",
   "language": "python",
   "name": "python3"
  },
  "language_info": {
   "codemirror_mode": {
    "name": "ipython",
    "version": 3
   },
   "file_extension": ".py",
   "mimetype": "text/x-python",
   "name": "python",
   "nbconvert_exporter": "python",
   "pygments_lexer": "ipython3",
   "version": "3.8.12"
  }
 },
 "nbformat": 4,
 "nbformat_minor": 5
}
