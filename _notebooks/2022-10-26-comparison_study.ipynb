{
 "cells": [
  {
   "cell_type": "markdown",
   "id": "68e2d24b-d0bb-4000-861b-0308a3ebe5e1",
   "metadata": {
    "id": "cac470df-29e7-4148-9bbd-d8b9a32fa570",
    "tags": []
   },
   "source": [
    "# Outlier Detection\n",
    "> \n",
    "\n",
    "- toc:true\n",
    "- branch: master\n",
    "- badges: true\n",
    "- comments: false\n",
    "- author: 최서연"
   ]
  },
  {
   "cell_type": "markdown",
   "id": "00b63067-2828-4d82-8a34-9c3a8dd00c34",
   "metadata": {},
   "source": [
    "https://scikit-learn.org/stable/modules/outlier_detection.html"
   ]
  },
  {
   "cell_type": "markdown",
   "id": "f33e5a06-6f67-4144-89d3-803ba53e023b",
   "metadata": {},
   "source": [
    "**Inliers are labeled 1, while outliers are labeled -1**"
   ]
  },
  {
   "cell_type": "code",
   "execution_count": 263,
   "id": "d7a0878a-01c3-4aff-ade2-63a6176cdbee",
   "metadata": {},
   "outputs": [],
   "source": [
    "import numpy as np\n",
    "import matplotlib.pyplot as plt\n",
    "import matplotlib\n",
    "from sklearn.svm import OneClassSVM\n",
    "from sklearn.linear_model import SGDOneClassSVM\n",
    "from sklearn.kernel_approximation import Nystroem\n",
    "from sklearn.pipeline import make_pipeline\n",
    "\n",
    "import pandas as pd\n",
    "from sklearn.neighbors import LocalOutlierFactor\n",
    "\n",
    "import rpy2\n",
    "import rpy2.robjects as ro \n",
    "from rpy2.robjects.vectors import FloatVector \n",
    "from rpy2.robjects.packages import importr\n",
    "\n",
    "from sklearn.datasets import fetch_kddcup99, fetch_covtype, fetch_openml\n",
    "from sklearn.preprocessing import LabelBinarizer\n",
    "\n",
    "import tqdm\n",
    "\n",
    "from pygsp import graphs, filters, plotting, utils\n",
    "\n",
    "from sklearn.metrics import confusion_matrix\n",
    "from sklearn.metrics import precision_score, recall_score, f1_score, accuracy_score\n",
    "\n",
    "import plotly.graph_objects as go\n",
    "from IPython.display import HTML"
   ]
  },
  {
   "cell_type": "markdown",
   "id": "1eb695c4-e718-40d7-b2ce-1536d7cfae61",
   "metadata": {
    "tags": []
   },
   "source": [
    "## EbayesThresh"
   ]
  },
  {
   "cell_type": "code",
   "execution_count": 151,
   "id": "555134b6-83d2-47d3-b051-ac0890387008",
   "metadata": {},
   "outputs": [
    {
     "name": "stdout",
     "output_type": "stream",
     "text": [
      "The rpy2.ipython extension is already loaded. To reload it, use:\n",
      "  %reload_ext rpy2.ipython\n"
     ]
    }
   ],
   "source": [
    "%load_ext rpy2.ipython"
   ]
  },
  {
   "cell_type": "code",
   "execution_count": 152,
   "id": "0e9c2fbb-acf8-4171-8fcf-9ffb7d134ced",
   "metadata": {},
   "outputs": [],
   "source": [
    "%%R\n",
    "library(EbayesThresh)\n",
    "set.seed(1)\n",
    "x <- rnorm(1000) + sample(c( runif(25,-7,7), rep(0,975)))\n",
    "#plot(x,type='l')\n",
    "#mu <- EbayesThresh::ebayesthresh(x,sdev=2)\n",
    "#lines(mu,col=2,lty=2,lwd=2)"
   ]
  },
  {
   "cell_type": "code",
   "execution_count": 153,
   "id": "27e6e91a-d3d2-4f51-a25a-748dd2fa8c2b",
   "metadata": {},
   "outputs": [],
   "source": [
    "%R -o x "
   ]
  },
  {
   "cell_type": "code",
   "execution_count": 154,
   "id": "2307876d-6f3b-4f37-a278-e8b107963f13",
   "metadata": {},
   "outputs": [],
   "source": [
    "ebayesthresh = importr('EbayesThresh').ebayesthresh"
   ]
  },
  {
   "cell_type": "code",
   "execution_count": 155,
   "id": "f810ee92-bf54-4772-9fd4-631c1b652237",
   "metadata": {},
   "outputs": [],
   "source": [
    "xhat = np.array(ebayesthresh(FloatVector(x)))"
   ]
  },
  {
   "cell_type": "code",
   "execution_count": 156,
   "id": "a7d775fc-82d6-447c-8b87-ca8e4f91be0d",
   "metadata": {},
   "outputs": [
    {
     "data": {
      "text/plain": [
       "[<matplotlib.lines.Line2D at 0x7fc2fd04d9d0>]"
      ]
     },
     "execution_count": 156,
     "metadata": {},
     "output_type": "execute_result"
    },
    {
     "data": {
      "image/png": "[encoded data removed]",
      "text/plain": [
       "<Figure size 432x288 with 1 Axes>"
      ]
     },
     "metadata": {
      "needs_background": "light"
     },
     "output_type": "display_data"
    }
   ],
   "source": [
    "plt.plot(x)\n",
    "plt.plot(xhat)"
   ]
  },
  {
   "cell_type": "code",
   "execution_count": 157,
   "id": "0498dc22-fc4a-456f-9244-5ed2692a2a41",
   "metadata": {},
   "outputs": [],
   "source": [
    "outlier_true_index = np.where(xhat!=0)"
   ]
  },
  {
   "cell_type": "code",
   "execution_count": 158,
   "id": "11436773-07ec-4226-b13a-77f92b0586fd",
   "metadata": {},
   "outputs": [
    {
     "data": {
      "text/plain": [
       "(array([ 27,  35,  55, 140, 205, 258, 282, 289, 424, 469, 494, 606, 658,\n",
       "        674, 693, 815, 934, 959, 970]),)"
      ]
     },
     "execution_count": 158,
     "metadata": {},
     "output_type": "execute_result"
    }
   ],
   "source": [
    "outlier_true_index"
   ]
  },
  {
   "cell_type": "code",
   "execution_count": 159,
   "id": "e0451959-f7ff-4361-8c24-954f85d05f20",
   "metadata": {},
   "outputs": [],
   "source": [
    "outlier_true_value = xhat[xhat!=0]"
   ]
  },
  {
   "cell_type": "markdown",
   "id": "6431a644-ad0d-4af2-958f-2d8a3630a550",
   "metadata": {},
   "source": [
    "package와 비교를 위해 outlier는 -1, inlier는 1로 표시"
   ]
  },
  {
   "cell_type": "code",
   "execution_count": 160,
   "id": "e5060d21-d145-483b-8b12-0ce0c5bb59cc",
   "metadata": {},
   "outputs": [],
   "source": [
    "outlier_true_one = xhat"
   ]
  },
  {
   "cell_type": "code",
   "execution_count": 161,
   "id": "738fdaf1-721f-4e0a-88ae-141336704faf",
   "metadata": {},
   "outputs": [],
   "source": [
    "outlier_true_one = list(map(lambda x: -1 if x!=0 else 1,outlier_true_one))"
   ]
  },
  {
   "cell_type": "markdown",
   "id": "82cb0191-fb98-4dad-bdce-0afabaceb58c",
   "metadata": {},
   "source": [
    "## sklearn.neighbors.LocalOutlierFactor"
   ]
  },
  {
   "cell_type": "markdown",
   "id": "95f5c152-78a8-43e5-a1dd-1a6a6504570f",
   "metadata": {},
   "source": [
    "### 1. linear"
   ]
  },
  {
   "cell_type": "code",
   "execution_count": 162,
   "id": "febeae05-f211-4508-84b6-7191adc9fa80",
   "metadata": {},
   "outputs": [],
   "source": [
    "_x = np.linspace(0,2,1000)\n",
    "_y1 = 5*_x**2\n",
    "_y = _y1 + x # x is epsilon"
   ]
  },
  {
   "cell_type": "code",
   "execution_count": 163,
   "id": "07c03394-fa5e-4c25-ba7d-206ad162dc43",
   "metadata": {},
   "outputs": [],
   "source": [
    "_df=pd.DataFrame({'x':_x, 'y':_y})"
   ]
  },
  {
   "cell_type": "code",
   "execution_count": 164,
   "id": "f83594a0-cd16-471d-8088-9ebffe6f5189",
   "metadata": {},
   "outputs": [],
   "source": [
    "X = np.array(_df)"
   ]
  },
  {
   "cell_type": "code",
   "execution_count": 165,
   "id": "67119f56-b364-4996-9ce1-47ee30b262af",
   "metadata": {},
   "outputs": [],
   "source": [
    "clf = LocalOutlierFactor(n_neighbors=2)"
   ]
  },
  {
   "cell_type": "code",
   "execution_count": 166,
   "id": "7d0b00fb-6c6f-4174-9ca5-1907c473f9cb",
   "metadata": {
    "scrolled": true,
    "tags": []
   },
   "outputs": [
    {
     "data": {
      "text/plain": [
       "array([-1, -1,  1,  1, -1,  1, -1,  1,  1,  1,  1,  1, -1,  1,  1,  1,  1,\n",
       "        1,  1,  1,  1,  1,  1,  1,  1,  1,  1, -1, -1,  1, -1,  1,  1,  1,\n",
       "       -1, -1,  1,  1,  1,  1,  1, -1,  1,  1,  1,  1,  1,  1,  1,  1,  1,\n",
       "        1,  1,  1,  1, -1,  1,  1,  1,  1,  1,  1,  1,  1,  1,  1,  1,  1,\n",
       "        1,  1,  1,  1,  1,  1,  1,  1,  1,  1,  1,  1,  1,  1,  1, -1,  1,\n",
       "        1, -1,  1,  1,  1,  1,  1,  1,  1,  1,  1,  1,  1,  1,  1,  1,  1,\n",
       "       -1,  1,  1,  1,  1,  1,  1,  1,  1,  1,  1,  1,  1,  1,  1,  1,  1,\n",
       "        1,  1,  1,  1,  1,  1,  1,  1,  1,  1,  1,  1,  1,  1,  1,  1,  1,\n",
       "        1,  1,  1, -1, -1,  1, -1,  1,  1,  1,  1,  1,  1,  1,  1,  1, -1,\n",
       "       -1, -1,  1,  1,  1,  1,  1,  1,  1,  1,  1,  1,  1,  1,  1,  1,  1,\n",
       "        1,  1, -1,  1,  1,  1,  1,  1,  1, -1,  1,  1,  1,  1,  1,  1, -1,\n",
       "        1,  1,  1,  1, -1,  1,  1,  1,  1, -1,  1,  1,  1,  1,  1,  1,  1,\n",
       "       -1, -1,  1,  1,  1,  1,  1,  1,  1,  1,  1,  1,  1,  1,  1,  1,  1,\n",
       "        1,  1,  1,  1,  1,  1,  1, -1,  1,  1,  1,  1,  1,  1,  1,  1,  1,\n",
       "        1,  1,  1,  1,  1,  1, -1,  1,  1,  1,  1,  1,  1,  1,  1,  1, -1,\n",
       "        1, -1,  1, -1,  1,  1,  1,  1,  1, -1,  1,  1,  1,  1, -1,  1,  1,\n",
       "        1, -1,  1,  1,  1,  1,  1,  1,  1,  1, -1,  1,  1,  1,  1,  1,  1,\n",
       "       -1,  1,  1,  1,  1,  1,  1,  1,  1, -1,  1,  1,  1, -1,  1,  1,  1,\n",
       "        1,  1,  1,  1,  1,  1,  1,  1,  1,  1,  1,  1,  1,  1,  1,  1,  1,\n",
       "        1,  1,  1,  1,  1,  1,  1,  1,  1,  1,  1,  1,  1,  1,  1,  1,  1,\n",
       "        1,  1,  1,  1,  1, -1,  1,  1,  1,  1,  1,  1,  1,  1,  1,  1,  1,\n",
       "        1,  1,  1,  1,  1,  1,  1, -1,  1,  1,  1,  1,  1,  1,  1,  1,  1,\n",
       "        1,  1,  1,  1,  1, -1,  1,  1,  1,  1,  1, -1,  1,  1, -1,  1,  1,\n",
       "        1,  1,  1,  1,  1,  1,  1, -1,  1,  1,  1,  1,  1,  1,  1,  1,  1,\n",
       "        1,  1,  1,  1,  1,  1,  1,  1,  1,  1,  1,  1,  1,  1,  1,  1, -1,\n",
       "        1,  1,  1,  1,  1,  1,  1,  1,  1, -1,  1,  1,  1,  1,  1,  1,  1,\n",
       "        1,  1,  1,  1,  1,  1,  1,  1,  1,  1, -1,  1, -1,  1,  1,  1,  1,\n",
       "        1,  1, -1, -1,  1,  1,  1,  1,  1,  1, -1,  1, -1,  1,  1,  1,  1,\n",
       "        1,  1, -1,  1,  1,  1,  1,  1, -1, -1,  1,  1,  1,  1,  1,  1, -1,\n",
       "        1, -1,  1,  1,  1,  1,  1,  1,  1, -1,  1,  1,  1,  1,  1, -1,  1,\n",
       "        1,  1,  1,  1,  1,  1,  1,  1,  1,  1,  1,  1,  1,  1,  1,  1,  1,\n",
       "        1,  1,  1, -1,  1,  1,  1, -1,  1,  1,  1,  1,  1,  1,  1,  1,  1,\n",
       "        1,  1,  1,  1,  1,  1,  1,  1,  1,  1,  1,  1,  1,  1,  1,  1, -1,\n",
       "        1,  1,  1,  1, -1,  1,  1,  1,  1,  1,  1,  1,  1, -1, -1, -1,  1,\n",
       "       -1,  1, -1,  1,  1,  1, -1, -1,  1,  1,  1,  1,  1,  1,  1,  1,  1,\n",
       "        1,  1,  1,  1, -1,  1,  1,  1,  1,  1,  1, -1,  1,  1,  1,  1,  1,\n",
       "       -1,  1,  1,  1,  1,  1,  1,  1,  1,  1,  1,  1, -1,  1,  1,  1,  1,\n",
       "        1,  1,  1,  1,  1, -1, -1,  1,  1, -1,  1,  1,  1,  1,  1,  1,  1,\n",
       "        1,  1,  1,  1,  1,  1,  1,  1,  1, -1,  1,  1, -1, -1,  1, -1,  1,\n",
       "        1, -1,  1,  1,  1,  1,  1,  1,  1,  1,  1, -1,  1,  1,  1, -1,  1,\n",
       "        1,  1, -1,  1,  1,  1,  1,  1,  1,  1,  1,  1,  1, -1, -1,  1, -1,\n",
       "        1,  1,  1,  1,  1,  1,  1,  1, -1,  1,  1,  1,  1,  1,  1,  1,  1,\n",
       "        1,  1, -1,  1,  1,  1,  1,  1,  1,  1, -1,  1,  1,  1,  1,  1, -1,\n",
       "       -1,  1,  1,  1,  1,  1,  1,  1,  1,  1,  1,  1,  1,  1,  1,  1,  1,\n",
       "        1,  1,  1,  1,  1,  1,  1, -1,  1, -1,  1,  1,  1,  1,  1,  1,  1,\n",
       "        1,  1,  1,  1,  1,  1,  1,  1,  1,  1,  1,  1,  1,  1,  1,  1,  1,\n",
       "        1,  1,  1,  1,  1,  1,  1,  1,  1, -1,  1,  1,  1,  1,  1, -1, -1,\n",
       "        1,  1,  1,  1,  1,  1,  1, -1,  1,  1,  1, -1,  1,  1,  1,  1, -1,\n",
       "        1,  1,  1,  1,  1,  1,  1, -1,  1,  1,  1,  1,  1,  1,  1,  1,  1,\n",
       "        1,  1,  1,  1,  1,  1,  1,  1, -1, -1,  1,  1,  1,  1, -1,  1,  1,\n",
       "        1,  1, -1,  1,  1,  1,  1,  1,  1,  1,  1,  1,  1,  1,  1,  1,  1,\n",
       "        1,  1,  1,  1,  1,  1,  1,  1,  1,  1,  1,  1,  1,  1,  1,  1,  1,\n",
       "       -1,  1,  1,  1,  1,  1,  1,  1,  1,  1,  1,  1,  1,  1,  1,  1, -1,\n",
       "        1,  1,  1,  1,  1,  1,  1,  1,  1,  1,  1,  1,  1, -1,  1, -1,  1,\n",
       "        1, -1,  1, -1,  1,  1,  1,  1,  1,  1,  1,  1,  1,  1,  1, -1, -1,\n",
       "        1,  1,  1,  1,  1,  1,  1,  1,  1,  1,  1,  1,  1,  1,  1,  1,  1,\n",
       "        1,  1,  1,  1,  1,  1,  1, -1,  1,  1,  1,  1, -1,  1,  1,  1,  1,\n",
       "        1, -1,  1,  1,  1,  1,  1,  1,  1,  1, -1,  1,  1,  1,  1,  1,  1,\n",
       "        1,  1,  1,  1, -1,  1,  1,  1,  1,  1,  1,  1,  1,  1])"
      ]
     },
     "execution_count": 166,
     "metadata": {},
     "output_type": "execute_result"
    }
   ],
   "source": [
    "clf.fit_predict(X)"
   ]
  },
  {
   "cell_type": "markdown",
   "id": "088a2171-8294-4c4e-b104-479c7b8f7fe7",
   "metadata": {},
   "source": [
    "outlier"
   ]
  },
  {
   "cell_type": "code",
   "execution_count": 167,
   "id": "dd982e5b-5a36-49e1-9cef-3de5b0eb256d",
   "metadata": {},
   "outputs": [],
   "source": [
    "outlier_first_index = np.where(clf.fit_predict(X)==-1)"
   ]
  },
  {
   "cell_type": "code",
   "execution_count": 168,
   "id": "435b29b2-1d45-4ff2-bc76-ccdbe5417d2a",
   "metadata": {},
   "outputs": [],
   "source": [
    "outlier_first_value = clf.fit_predict(X)[clf.fit_predict(X)==-1]"
   ]
  },
  {
   "cell_type": "code",
   "execution_count": 169,
   "id": "c8cae061-9f07-4b1a-842e-71fe1b007a65",
   "metadata": {},
   "outputs": [],
   "source": [
    "class SIMUL:\n",
    "    def __init__(self,df):\n",
    "        self.df = df\n",
    "        self.y = df.y.to_numpy()\n",
    "        #self.y1 = df.y1.to_numpy()\n",
    "        self.x = df.x.to_numpy()\n",
    "        self.n = len(self.y)\n",
    "        self.W = w\n",
    "    def _eigen(self):\n",
    "        d= self.W.sum(axis=1)\n",
    "        D= np.diag(d)\n",
    "        self.L = np.diag(1/np.sqrt(d)) @ (D-self.W) @ np.diag(1/np.sqrt(d))\n",
    "        self.lamb, self.Psi = np.linalg.eigh(self.L)\n",
    "        self.Lamb = np.diag(self.lamb)      \n",
    "    def fit(self,sd=5): # fit with ebayesthresh\n",
    "        self._eigen()\n",
    "        self.ybar = self.Psi.T @ self.y # fbar := graph fourier transform of f\n",
    "        self.power = self.ybar**2 \n",
    "        ebayesthresh = importr('EbayesThresh').ebayesthresh\n",
    "        self.power_threshed=np.array(ebayesthresh(FloatVector(self.ybar**2),sd=sd))\n",
    "        self.ybar_threshed = np.where(self.power_threshed>0,self.ybar,0)\n",
    "        self.yhat = self.Psi@self.ybar_threshed\n",
    "        self.df = self.df.assign(yHat = self.yhat)\n",
    "        self.df = self.df.assign(Residual = self.df.y- self.df.yHat)"
   ]
  },
  {
   "cell_type": "code",
   "execution_count": 170,
   "id": "154ee8f5-7395-4bbd-9cfd-84ce9e90b03e",
   "metadata": {},
   "outputs": [],
   "source": [
    "w=np.zeros((1000,1000))"
   ]
  },
  {
   "cell_type": "code",
   "execution_count": 171,
   "id": "d92a30d1-b657-43d9-91bd-b87c82451b0a",
   "metadata": {},
   "outputs": [],
   "source": [
    "for i in range(1000):\n",
    "    for j in range(1000):\n",
    "        if i==j :\n",
    "            w[i,j] = 0\n",
    "        elif np.abs(i-j) <= 1 : \n",
    "            w[i,j] = 1"
   ]
  },
  {
   "cell_type": "code",
   "execution_count": 172,
   "id": "c6cd73d3-a3b4-4ef7-a12d-9a38bb87ad26",
   "metadata": {},
   "outputs": [],
   "source": [
    "_simul = SIMUL(_df)"
   ]
  },
  {
   "cell_type": "code",
   "execution_count": 173,
   "id": "2467a583-e79a-4b92-ab2f-785860f2c126",
   "metadata": {},
   "outputs": [],
   "source": [
    "_simul.fit()"
   ]
  },
  {
   "cell_type": "code",
   "execution_count": 174,
   "id": "5c867606-7660-464e-8956-8d47d036fb82",
   "metadata": {},
   "outputs": [],
   "source": [
    "outlier_simul_first_index = np.array(_simul.df.query('Residual**2>2').reset_index()['index'])"
   ]
  },
  {
   "cell_type": "code",
   "execution_count": 175,
   "id": "fc09437f-4c09-4968-8700-9a397ae55af8",
   "metadata": {},
   "outputs": [],
   "source": [
    "outlier_simul_first_value = np.array(_simul.df.query('Residual**2>2').reset_index()['y'])"
   ]
  },
  {
   "cell_type": "code",
   "execution_count": 176,
   "id": "febc0da9-7ce3-484e-b2c5-47e503ad4b66",
   "metadata": {},
   "outputs": [],
   "source": [
    "outlier_simul_one = (_simul.df['Residual']**2).tolist()"
   ]
  },
  {
   "cell_type": "code",
   "execution_count": 177,
   "id": "2e8dc1c8-af80-49d3-b412-d506004ce648",
   "metadata": {},
   "outputs": [],
   "source": [
    "outlier_simul_one = list(map(lambda x: -1 if x > 2 else 1,outlier_simul_one))"
   ]
  },
  {
   "cell_type": "code",
   "execution_count": 184,
   "id": "3e5a8a61-9ded-4994-9a05-3d60c9b87c0f",
   "metadata": {},
   "outputs": [
    {
     "data": {
      "text/plain": [
       "[<matplotlib.lines.Line2D at 0x7fc303977430>]"
      ]
     },
     "execution_count": 184,
     "metadata": {},
     "output_type": "execute_result"
    },
    {
     "data": {
      "image/png": "[encoded data removed]",
      "text/plain": [
       "<Figure size 720x432 with 1 Axes>"
      ]
     },
     "metadata": {
      "needs_background": "light"
     },
     "output_type": "display_data"
    }
   ],
   "source": [
    "plt.figure(figsize=(10,6))\n",
    "plt.plot(_df.loc[outlier_first_index].reset_index()['index'],_df.loc[outlier_first_index].reset_index()['y'],'r.')\n",
    "plt.plot(_y1+xhat,'go',alpha=0.3)"
   ]
  },
  {
   "cell_type": "code",
   "execution_count": 185,
   "id": "260274bd-570c-45d3-8dc2-8f14110c7f9f",
   "metadata": {},
   "outputs": [
    {
     "data": {
      "text/plain": [
       "[<matplotlib.lines.Line2D at 0x7fc2fc7ebc40>]"
      ]
     },
     "execution_count": 185,
     "metadata": {},
     "output_type": "execute_result"
    },
    {
     "data": {
      "image/png": "[encoded data removed]",
      "text/plain": [
       "<Figure size 720x432 with 1 Axes>"
      ]
     },
     "metadata": {
      "needs_background": "light"
     },
     "output_type": "display_data"
    }
   ],
   "source": [
    "plt.figure(figsize=(10,6))\n",
    "plt.plot(outlier_simul_first_index,outlier_simul_first_value,'b.')\n",
    "plt.plot(_y1+xhat,'go',alpha=0.3)"
   ]
  },
  {
   "cell_type": "code",
   "execution_count": 186,
   "id": "7f9d5079-5566-411f-8f09-0a844f873898",
   "metadata": {
    "tags": []
   },
   "outputs": [
    {
     "data": {
      "text/plain": [
       "(19, 121, 191)"
      ]
     },
     "execution_count": 186,
     "metadata": {},
     "output_type": "execute_result"
    }
   ],
   "source": [
    "len(outlier_true_value),len(outlier_first_value),len(_simul.df.query('Residual**2>2'))"
   ]
  },
  {
   "cell_type": "code",
   "execution_count": 192,
   "id": "0b602b4e-e8c7-411e-a1ff-594722a5892d",
   "metadata": {},
   "outputs": [
    {
     "name": "stdout",
     "output_type": "stream",
     "text": [
      "19 개 outlier 중에 19 개 detecting\n"
     ]
    }
   ],
   "source": [
    "print(len(outlier_true_value),\"개 outlier 중에\",len(np.intersect1d(outlier_true_index,outlier_first_index)),\"개 detecting\")"
   ]
  },
  {
   "cell_type": "code",
   "execution_count": 193,
   "id": "95171c16-948d-4df6-88ab-6f860eb77dfd",
   "metadata": {},
   "outputs": [
    {
     "data": {
      "text/plain": [
       "1.0"
      ]
     },
     "execution_count": 193,
     "metadata": {},
     "output_type": "execute_result"
    }
   ],
   "source": [
    "len(np.intersect1d(outlier_true_index,outlier_first_index))/len(np.array(outlier_true_index).tolist()[0])"
   ]
  },
  {
   "cell_type": "code",
   "execution_count": 194,
   "id": "b0ad488c-a91b-4c61-a476-2478bcdd3c9f",
   "metadata": {},
   "outputs": [
    {
     "name": "stdout",
     "output_type": "stream",
     "text": [
      "19 개 outlier 중에 19 개 detecting\n"
     ]
    }
   ],
   "source": [
    "print(len(outlier_true_value),\"개 outlier 중에\",len(np.intersect1d(outlier_true_index,outlier_simul_first_index)),\"개 detecting\")"
   ]
  },
  {
   "cell_type": "code",
   "execution_count": 195,
   "id": "71d68342-076e-4507-8866-b4e6154f0f28",
   "metadata": {},
   "outputs": [
    {
     "data": {
      "text/plain": [
       "1.0"
      ]
     },
     "execution_count": 195,
     "metadata": {},
     "output_type": "execute_result"
    }
   ],
   "source": [
    "len(np.intersect1d(outlier_true_index,outlier_simul_first_index))/len(np.array(outlier_true_index).tolist()[0])"
   ]
  },
  {
   "cell_type": "code",
   "execution_count": 196,
   "id": "437438c5-4937-4bbd-9855-e9f6e34eb426",
   "metadata": {},
   "outputs": [],
   "source": [
    "conf_matrix = confusion_matrix(outlier_true_one, clf.fit_predict(X))"
   ]
  },
  {
   "cell_type": "code",
   "execution_count": 197,
   "id": "181e17f5-2e57-4f69-b7d2-a06296a9e22c",
   "metadata": {},
   "outputs": [
    {
     "data": {
      "image/png": "[encoded data removed]",
      "text/plain": [
       "<Figure size 360x360 with 1 Axes>"
      ]
     },
     "metadata": {
      "needs_background": "light"
     },
     "output_type": "display_data"
    }
   ],
   "source": [
    "fig, ax = plt.subplots(figsize=(5, 5))\n",
    "ax.matshow(conf_matrix, cmap=plt.cm.Oranges, alpha=0.3)\n",
    "for i in range(conf_matrix.shape[0]):\n",
    "    for j in range(conf_matrix.shape[1]):\n",
    "        ax.text(x=j, y=i,s=conf_matrix[i, j], va='center', ha='center', size='xx-large')\n",
    "plt.xlabel('Predictions', fontsize=18)\n",
    "plt.ylabel('Actuals', fontsize=18)\n",
    "plt.title('Confusion Matrix', fontsize=18)\n",
    "plt.show()"
   ]
  },
  {
   "cell_type": "code",
   "execution_count": 198,
   "id": "b6909fad-9331-48b8-a181-9b4244567983",
   "metadata": {},
   "outputs": [
    {
     "data": {
      "text/plain": [
       "1.0"
      ]
     },
     "execution_count": 198,
     "metadata": {},
     "output_type": "execute_result"
    }
   ],
   "source": [
    "conf_matrix[0][0] / (conf_matrix[0][0] + conf_matrix[0][1])"
   ]
  },
  {
   "cell_type": "code",
   "execution_count": 199,
   "id": "1e6bc1b2-b751-4a51-a30f-a5fba09c304c",
   "metadata": {},
   "outputs": [
    {
     "name": "stdout",
     "output_type": "stream",
     "text": [
      "Accuracy: 0.898\n",
      "Precision: 1.000\n",
      "Recall: 0.896\n",
      "F1 Score: 0.945\n"
     ]
    }
   ],
   "source": [
    "print('Accuracy: %.3f' % accuracy_score(outlier_true_one, clf.fit_predict(X)))\n",
    "print('Precision: %.3f' % precision_score(outlier_true_one, clf.fit_predict(X)))\n",
    "print('Recall: %.3f' % recall_score(outlier_true_one, clf.fit_predict(X)))\n",
    "print('F1 Score: %.3f' % f1_score(outlier_true_one, clf.fit_predict(X)))"
   ]
  },
  {
   "cell_type": "code",
   "execution_count": 200,
   "id": "bdfc8295-a3f2-4c69-8ea0-534e2f22d293",
   "metadata": {},
   "outputs": [],
   "source": [
    "conf_matrix = confusion_matrix(outlier_true_one, outlier_simul_one)"
   ]
  },
  {
   "cell_type": "code",
   "execution_count": 201,
   "id": "7dca0cc5-a0a3-4911-b605-9984340a5313",
   "metadata": {},
   "outputs": [
    {
     "data": {
      "image/png": "[encoded data removed]",
      "text/plain": [
       "<Figure size 360x360 with 1 Axes>"
      ]
     },
     "metadata": {
      "needs_background": "light"
     },
     "output_type": "display_data"
    }
   ],
   "source": [
    "fig, ax = plt.subplots(figsize=(5, 5))\n",
    "ax.matshow(conf_matrix, cmap=plt.cm.Oranges, alpha=0.3)\n",
    "for i in range(conf_matrix.shape[0]):\n",
    "    for j in range(conf_matrix.shape[1]):\n",
    "        ax.text(x=j, y=i,s=conf_matrix[i, j], va='center', ha='center', size='xx-large')\n",
    "plt.xlabel('Predictions', fontsize=18)\n",
    "plt.ylabel('Actuals', fontsize=18)\n",
    "plt.title('Confusion Matrix', fontsize=18)\n",
    "plt.show()"
   ]
  },
  {
   "cell_type": "code",
   "execution_count": 202,
   "id": "7f254705-8cfb-4e4d-abe5-723a538dbce0",
   "metadata": {},
   "outputs": [
    {
     "data": {
      "text/plain": [
       "1.0"
      ]
     },
     "execution_count": 202,
     "metadata": {},
     "output_type": "execute_result"
    }
   ],
   "source": [
    "conf_matrix[0][0] / (conf_matrix[0][0] + conf_matrix[0][1])"
   ]
  },
  {
   "cell_type": "code",
   "execution_count": 203,
   "id": "3ff54737-3d0e-47ac-b097-1ad2355c7929",
   "metadata": {},
   "outputs": [
    {
     "name": "stdout",
     "output_type": "stream",
     "text": [
      "Accuracy: 0.828\n",
      "Precision: 1.000\n",
      "Recall: 0.825\n",
      "F1 Score: 0.904\n"
     ]
    }
   ],
   "source": [
    "print('Accuracy: %.3f' % accuracy_score(outlier_true_one, outlier_simul_one))\n",
    "print('Precision: %.3f' % precision_score(outlier_true_one, outlier_simul_one))\n",
    "print('Recall: %.3f' % recall_score(outlier_true_one, outlier_simul_one))\n",
    "print('F1 Score: %.3f' % f1_score(outlier_true_one, outlier_simul_one))"
   ]
  },
  {
   "cell_type": "markdown",
   "id": "f623159f-2c9d-47d0-bd62-4e6ad4bd677f",
   "metadata": {},
   "source": [
    "### 2. sin"
   ]
  },
  {
   "cell_type": "code",
   "execution_count": 204,
   "id": "12efcd58-3c88-459d-93f4-b466eaa7585d",
   "metadata": {},
   "outputs": [],
   "source": [
    "_x = np.linspace(0,2,1000)\n",
    "_y1 =  3*np.sin(_x) + 1*np.sin(_x**2) + 5*np.sin(5*_x) \n",
    "_y = _y1 + x # x is epsilon"
   ]
  },
  {
   "cell_type": "code",
   "execution_count": 205,
   "id": "2c9c10dd-4e57-4382-8e1f-f5c759496d5a",
   "metadata": {},
   "outputs": [],
   "source": [
    "_df=pd.DataFrame({'x':_x, 'y':_y})"
   ]
  },
  {
   "cell_type": "markdown",
   "id": "ad1298a7-ee16-4c43-903b-8a6f8bd7a355",
   "metadata": {},
   "source": [
    "---"
   ]
  },
  {
   "cell_type": "markdown",
   "id": "aeaf0c06-9c8f-49b4-b36c-d88e2af992d6",
   "metadata": {},
   "source": [
    "그래프를 위한 데이터(_df) 그래프 (robust covari)"
   ]
  },
  {
   "cell_type": "code",
   "execution_count": 206,
   "id": "bdcbcf8d-d986-40d7-ab67-5fec84ef025b",
   "metadata": {},
   "outputs": [],
   "source": [
    "_df1=pd.DataFrame({'x':_x, 'y':_y})"
   ]
  },
  {
   "cell_type": "markdown",
   "id": "df471d0c-6219-4021-8a1d-c56f592bc0a7",
   "metadata": {},
   "source": [
    "---"
   ]
  },
  {
   "cell_type": "code",
   "execution_count": 207,
   "id": "8d1cc3f6-b33c-4e82-a4f4-8481b28ca6b5",
   "metadata": {},
   "outputs": [],
   "source": [
    "X = np.array(_df)"
   ]
  },
  {
   "cell_type": "code",
   "execution_count": 208,
   "id": "c37814fa-b3b9-42e5-b369-981d5cf9bc52",
   "metadata": {},
   "outputs": [],
   "source": [
    "clf = LocalOutlierFactor(n_neighbors=2)"
   ]
  },
  {
   "cell_type": "code",
   "execution_count": 209,
   "id": "5955debe-5dd4-4d3c-b9ea-76fccd7d6295",
   "metadata": {
    "scrolled": true,
    "tags": []
   },
   "outputs": [
    {
     "data": {
      "text/plain": [
       "array([ 1,  1,  1,  1, -1,  1,  1,  1,  1,  1,  1,  1,  1, -1,  1,  1,  1,\n",
       "        1,  1,  1,  1,  1,  1,  1,  1,  1,  1,  1,  1,  1,  1,  1, -1,  1,\n",
       "        1, -1,  1,  1,  1,  1,  1,  1,  1,  1,  1,  1,  1,  1, -1,  1,  1,\n",
       "       -1,  1,  1,  1, -1,  1,  1,  1,  1, -1,  1,  1,  1,  1,  1, -1, -1,\n",
       "        1, -1,  1,  1,  1, -1,  1,  1,  1,  1,  1,  1,  1,  1,  1,  1, -1,\n",
       "        1,  1,  1,  1,  1,  1,  1,  1,  1,  1,  1,  1,  1,  1,  1, -1,  1,\n",
       "        1,  1,  1,  1,  1,  1,  1,  1,  1,  1, -1,  1,  1,  1, -1,  1, -1,\n",
       "        1,  1,  1,  1,  1,  1,  1,  1,  1,  1,  1,  1,  1,  1,  1,  1,  1,\n",
       "        1,  1,  1,  1, -1,  1,  1,  1,  1,  1,  1,  1,  1, -1,  1,  1,  1,\n",
       "        1,  1, -1,  1,  1,  1,  1,  1,  1,  1,  1,  1,  1,  1,  1,  1,  1,\n",
       "        1,  1,  1,  1,  1,  1,  1,  1,  1,  1,  1,  1,  1, -1,  1,  1,  1,\n",
       "        1, -1,  1,  1, -1,  1, -1, -1,  1,  1,  1,  1,  1,  1,  1,  1,  1,\n",
       "       -1,  1,  1,  1,  1,  1,  1,  1,  1,  1,  1,  1,  1,  1,  1,  1,  1,\n",
       "        1,  1,  1,  1,  1,  1, -1,  1,  1,  1, -1,  1,  1,  1,  1,  1,  1,\n",
       "        1,  1,  1,  1,  1, -1,  1,  1,  1,  1,  1,  1,  1,  1,  1, -1,  1,\n",
       "        1, -1,  1,  1,  1,  1,  1,  1,  1,  1,  1,  1,  1,  1,  1,  1,  1,\n",
       "        1, -1,  1, -1,  1,  1,  1,  1,  1,  1, -1,  1, -1,  1,  1, -1, -1,\n",
       "        1,  1, -1,  1,  1,  1,  1,  1, -1,  1,  1,  1,  1, -1, -1,  1, -1,\n",
       "        1,  1,  1,  1,  1,  1,  1,  1,  1,  1,  1, -1,  1,  1,  1,  1,  1,\n",
       "        1,  1,  1,  1,  1,  1,  1,  1,  1,  1,  1,  1,  1,  1,  1,  1,  1,\n",
       "        1,  1,  1,  1, -1,  1,  1,  1,  1,  1,  1,  1,  1,  1,  1,  1, -1,\n",
       "        1, -1,  1, -1,  1,  1,  1,  1,  1,  1,  1,  1,  1,  1,  1,  1,  1,\n",
       "        1,  1,  1,  1,  1,  1,  1,  1,  1,  1,  1,  1,  1, -1, -1, -1,  1,\n",
       "        1,  1,  1,  1,  1,  1,  1,  1,  1,  1, -1,  1, -1,  1,  1,  1, -1,\n",
       "        1,  1,  1,  1,  1, -1,  1,  1,  1,  1,  1,  1,  1,  1, -1,  1,  1,\n",
       "        1,  1,  1,  1,  1,  1,  1,  1,  1,  1,  1,  1,  1,  1,  1,  1,  1,\n",
       "        1,  1,  1, -1,  1,  1,  1, -1,  1,  1,  1,  1,  1,  1,  1, -1,  1,\n",
       "        1,  1, -1, -1,  1,  1,  1,  1,  1,  1,  1,  1,  1,  1,  1,  1, -1,\n",
       "        1,  1,  1,  1,  1,  1,  1,  1, -1,  1,  1,  1,  1,  1,  1,  1,  1,\n",
       "        1, -1,  1,  1,  1,  1,  1,  1,  1,  1,  1,  1,  1,  1,  1, -1,  1,\n",
       "        1,  1,  1,  1,  1,  1,  1,  1,  1,  1,  1,  1,  1,  1,  1,  1,  1,\n",
       "        1, -1,  1,  1,  1,  1,  1,  1, -1,  1,  1,  1,  1,  1,  1,  1,  1,\n",
       "        1,  1,  1,  1,  1,  1,  1,  1,  1,  1,  1,  1, -1,  1,  1,  1,  1,\n",
       "        1,  1,  1,  1,  1,  1,  1,  1,  1,  1,  1,  1,  1,  1,  1,  1,  1,\n",
       "       -1,  1,  1,  1, -1,  1,  1,  1,  1,  1,  1, -1,  1,  1,  1, -1,  1,\n",
       "       -1,  1,  1,  1,  1,  1,  1, -1,  1,  1,  1, -1,  1,  1,  1,  1,  1,\n",
       "        1, -1,  1,  1, -1,  1, -1, -1,  1, -1,  1,  1,  1,  1,  1,  1,  1,\n",
       "        1,  1,  1,  1,  1,  1,  1,  1,  1,  1,  1,  1,  1,  1,  1,  1,  1,\n",
       "       -1,  1, -1,  1,  1,  1, -1, -1,  1, -1,  1,  1, -1,  1,  1,  1,  1,\n",
       "        1,  1,  1,  1,  1,  1,  1,  1,  1,  1,  1, -1,  1,  1,  1,  1,  1,\n",
       "        1, -1,  1,  1,  1,  1,  1,  1, -1,  1,  1,  1, -1, -1,  1,  1,  1,\n",
       "        1,  1,  1,  1,  1,  1,  1,  1,  1,  1,  1,  1,  1,  1,  1,  1,  1,\n",
       "        1,  1,  1,  1,  1,  1, -1,  1,  1,  1,  1,  1,  1,  1,  1,  1,  1,\n",
       "        1,  1,  1,  1,  1,  1,  1,  1, -1,  1,  1,  1,  1,  1,  1,  1,  1,\n",
       "        1,  1,  1,  1,  1,  1,  1,  1, -1,  1,  1,  1,  1,  1,  1, -1,  1,\n",
       "        1,  1, -1,  1,  1,  1,  1,  1,  1, -1,  1,  1,  1,  1,  1,  1,  1,\n",
       "        1,  1,  1,  1,  1,  1,  1,  1,  1,  1, -1,  1,  1,  1,  1,  1,  1,\n",
       "        1,  1,  1,  1, -1,  1,  1,  1,  1,  1,  1,  1,  1,  1,  1,  1, -1,\n",
       "        1,  1,  1,  1,  1,  1,  1,  1,  1,  1,  1, -1,  1, -1,  1,  1,  1,\n",
       "        1,  1,  1,  1,  1,  1,  1,  1, -1,  1,  1,  1, -1, -1,  1,  1,  1,\n",
       "       -1,  1,  1,  1,  1,  1, -1,  1,  1,  1,  1,  1,  1, -1,  1, -1,  1,\n",
       "        1,  1,  1, -1,  1,  1,  1,  1,  1,  1,  1,  1,  1,  1,  1,  1,  1,\n",
       "       -1, -1,  1,  1,  1,  1,  1,  1,  1,  1,  1,  1, -1, -1,  1,  1,  1,\n",
       "        1,  1,  1,  1,  1,  1,  1,  1,  1,  1,  1, -1,  1,  1,  1,  1,  1,\n",
       "        1,  1,  1, -1,  1,  1,  1,  1,  1,  1,  1,  1,  1,  1,  1,  1,  1,\n",
       "        1,  1,  1,  1,  1,  1,  1,  1, -1,  1,  1,  1,  1,  1,  1,  1,  1,\n",
       "        1,  1,  1,  1, -1,  1, -1,  1,  1,  1,  1,  1,  1,  1,  1,  1,  1,\n",
       "        1, -1,  1,  1,  1,  1,  1,  1,  1,  1,  1, -1,  1,  1,  1,  1,  1,\n",
       "        1,  1,  1,  1,  1,  1,  1,  1,  1,  1,  1,  1, -1,  1])"
      ]
     },
     "execution_count": 209,
     "metadata": {},
     "output_type": "execute_result"
    }
   ],
   "source": [
    "clf.fit_predict(X)"
   ]
  },
  {
   "cell_type": "markdown",
   "id": "55bc53eb-ddaa-428d-97b1-fbbb406a7dc4",
   "metadata": {},
   "source": [
    "outlier"
   ]
  },
  {
   "cell_type": "code",
   "execution_count": 210,
   "id": "d896a23b-fa0b-46cb-a523-bf34fa1eb750",
   "metadata": {},
   "outputs": [],
   "source": [
    "outlier_first_index = np.where(clf.fit_predict(X)==-1)"
   ]
  },
  {
   "cell_type": "code",
   "execution_count": 211,
   "id": "3351759e-3713-490d-8657-834f6fbfdee0",
   "metadata": {},
   "outputs": [],
   "source": [
    "outlier_first_value = clf.fit_predict(X)[clf.fit_predict(X)==-1]"
   ]
  },
  {
   "cell_type": "code",
   "execution_count": 212,
   "id": "59488a71-50cb-4f1e-a6be-0d534ee49090",
   "metadata": {},
   "outputs": [],
   "source": [
    "class SIMUL:\n",
    "    def __init__(self,df):\n",
    "        self.df = df\n",
    "        self.y = df.y.to_numpy()\n",
    "        #self.y1 = df.y1.to_numpy()\n",
    "        self.x = df.x.to_numpy()\n",
    "        self.n = len(self.y)\n",
    "        self.W = w\n",
    "    def _eigen(self):\n",
    "        d= self.W.sum(axis=1)\n",
    "        D= np.diag(d)\n",
    "        self.L = np.diag(1/np.sqrt(d)) @ (D-self.W) @ np.diag(1/np.sqrt(d))\n",
    "        self.lamb, self.Psi = np.linalg.eigh(self.L)\n",
    "        self.Lamb = np.diag(self.lamb)      \n",
    "    def fit(self,sd=5): # fit with ebayesthresh\n",
    "        self._eigen()\n",
    "        self.ybar = self.Psi.T @ self.y # fbar := graph fourier transform of f\n",
    "        self.power = self.ybar**2 \n",
    "        ebayesthresh = importr('EbayesThresh').ebayesthresh\n",
    "        self.power_threshed=np.array(ebayesthresh(FloatVector(self.ybar**2),sd=sd))\n",
    "        self.ybar_threshed = np.where(self.power_threshed>0,self.ybar,0)\n",
    "        self.yhat = self.Psi@self.ybar_threshed\n",
    "        self.df = self.df.assign(yHat = self.yhat)\n",
    "        self.df = self.df.assign(Residual = self.df.y- self.df.yHat)"
   ]
  },
  {
   "cell_type": "code",
   "execution_count": 213,
   "id": "f0d325cb-971b-4840-8fb7-fd34ba58e83e",
   "metadata": {},
   "outputs": [],
   "source": [
    "w=np.zeros((1000,1000))"
   ]
  },
  {
   "cell_type": "code",
   "execution_count": 214,
   "id": "c0c82d1a-231e-4a82-be7c-f53a094c5717",
   "metadata": {},
   "outputs": [],
   "source": [
    "for i in range(1000):\n",
    "    for j in range(1000):\n",
    "        if i==j :\n",
    "            w[i,j] = 0\n",
    "        elif np.abs(i-j) <= 1 : \n",
    "            w[i,j] = 1"
   ]
  },
  {
   "cell_type": "code",
   "execution_count": 215,
   "id": "1e3fcb1b-1bad-4cbd-ada2-21d214a39488",
   "metadata": {},
   "outputs": [],
   "source": [
    "_simul = SIMUL(_df)"
   ]
  },
  {
   "cell_type": "code",
   "execution_count": 216,
   "id": "4c281156-5754-410c-b51c-0b0bdeaeb7a8",
   "metadata": {},
   "outputs": [],
   "source": [
    "_simul.fit()"
   ]
  },
  {
   "cell_type": "code",
   "execution_count": 217,
   "id": "a0eb857f-03a9-46c4-a743-ff8bd32e81b7",
   "metadata": {},
   "outputs": [],
   "source": [
    "outlier_simul_first_index = np.array(_simul.df.query('Residual**2>2').reset_index()['index'])"
   ]
  },
  {
   "cell_type": "code",
   "execution_count": 218,
   "id": "4e8ceb2b-2a57-4cd9-a220-4f6abf36a77d",
   "metadata": {},
   "outputs": [],
   "source": [
    "outlier_simul_first_value = np.array(_simul.df.query('Residual**2>2').reset_index()['y'])"
   ]
  },
  {
   "cell_type": "code",
   "execution_count": 219,
   "id": "4c604c45-e834-4c62-95fe-53b1f977f890",
   "metadata": {},
   "outputs": [],
   "source": [
    "outlier_simul_one = (_simul.df['Residual']**2).tolist()"
   ]
  },
  {
   "cell_type": "code",
   "execution_count": 220,
   "id": "f9e896d5-c0f4-49a9-ab1a-7aecadfd3ca1",
   "metadata": {},
   "outputs": [],
   "source": [
    "outlier_simul_one = list(map(lambda x: -1 if x > 2 else 1,outlier_simul_one))"
   ]
  },
  {
   "cell_type": "code",
   "execution_count": 223,
   "id": "be6079f8-ca93-495f-a579-b36f063db4f6",
   "metadata": {},
   "outputs": [
    {
     "data": {
      "text/plain": [
       "[<matplotlib.lines.Line2D at 0x7fc2fd099760>]"
      ]
     },
     "execution_count": 223,
     "metadata": {},
     "output_type": "execute_result"
    },
    {
     "data": {
      "image/png": "[encoded data removed]",
      "text/plain": [
       "<Figure size 720x432 with 1 Axes>"
      ]
     },
     "metadata": {
      "needs_background": "light"
     },
     "output_type": "display_data"
    }
   ],
   "source": [
    "plt.figure(figsize=(10,6))\n",
    "plt.plot(_df.loc[outlier_first_index].reset_index()['index'],_df.loc[outlier_first_index].reset_index()['y'],'r.')\n",
    "plt.plot(_y1+xhat,'go',alpha=0.3)"
   ]
  },
  {
   "cell_type": "code",
   "execution_count": 224,
   "id": "8b3223ca-cb2c-4ba9-a6b5-dc4a1c96f46e",
   "metadata": {},
   "outputs": [
    {
     "data": {
      "text/plain": [
       "[<matplotlib.lines.Line2D at 0x7fc2fcf1a940>]"
      ]
     },
     "execution_count": 224,
     "metadata": {},
     "output_type": "execute_result"
    },
    {
     "data": {
      "image/png": "[encoded data removed]",
      "text/plain": [
       "<Figure size 720x432 with 1 Axes>"
      ]
     },
     "metadata": {
      "needs_background": "light"
     },
     "output_type": "display_data"
    }
   ],
   "source": [
    "plt.figure(figsize=(10,6))\n",
    "plt.plot(outlier_simul_first_index,outlier_simul_first_value,'b.')\n",
    "plt.plot(_y1+xhat,'go',alpha=0.3)"
   ]
  },
  {
   "cell_type": "code",
   "execution_count": 225,
   "id": "8f9c3ef4-af4d-4a62-a670-d40d752c388b",
   "metadata": {
    "tags": []
   },
   "outputs": [
    {
     "data": {
      "text/plain": [
       "(19, 121, 179)"
      ]
     },
     "execution_count": 225,
     "metadata": {},
     "output_type": "execute_result"
    }
   ],
   "source": [
    "len(outlier_true_value),len(outlier_first_value),len(_simul.df.query('Residual**2>2'))"
   ]
  },
  {
   "cell_type": "code",
   "execution_count": 226,
   "id": "bc5c9a79-9cde-42d4-862b-6b79eae78561",
   "metadata": {},
   "outputs": [
    {
     "name": "stdout",
     "output_type": "stream",
     "text": [
      "19 개 outlier 중에 11 개 detecting\n"
     ]
    }
   ],
   "source": [
    "print(len(outlier_true_value),\"개 outlier 중에\",len(np.intersect1d(outlier_true_index,outlier_first_index)),\"개 detecting\")"
   ]
  },
  {
   "cell_type": "code",
   "execution_count": 227,
   "id": "1a701a6b-0982-4221-8d82-77eaff36a4b8",
   "metadata": {},
   "outputs": [
    {
     "data": {
      "text/plain": [
       "0.5789473684210527"
      ]
     },
     "execution_count": 227,
     "metadata": {},
     "output_type": "execute_result"
    }
   ],
   "source": [
    "len(np.intersect1d(outlier_true_index,outlier_first_index))/len(np.array(outlier_true_index).tolist()[0])"
   ]
  },
  {
   "cell_type": "code",
   "execution_count": 228,
   "id": "c9817f3e-3d5b-4adb-8925-817e03fef0b9",
   "metadata": {},
   "outputs": [
    {
     "name": "stdout",
     "output_type": "stream",
     "text": [
      "19 개 outlier 중에 19 개 detecting\n"
     ]
    }
   ],
   "source": [
    "print(len(outlier_true_value),\"개 outlier 중에\",len(np.intersect1d(outlier_true_index,outlier_simul_first_index)),\"개 detecting\")"
   ]
  },
  {
   "cell_type": "code",
   "execution_count": 229,
   "id": "4de027fb-a7ca-4c69-b7c5-f1fe7bdb2ec0",
   "metadata": {},
   "outputs": [
    {
     "data": {
      "text/plain": [
       "1.0"
      ]
     },
     "execution_count": 229,
     "metadata": {},
     "output_type": "execute_result"
    }
   ],
   "source": [
    "len(np.intersect1d(outlier_true_index,outlier_simul_first_index))/len(np.array(outlier_true_index).tolist()[0])"
   ]
  },
  {
   "cell_type": "code",
   "execution_count": 230,
   "id": "6a25467c-4cbc-427d-9aac-ec0465d259ff",
   "metadata": {},
   "outputs": [],
   "source": [
    "conf_matrix = confusion_matrix(outlier_true_one, clf.fit_predict(X))"
   ]
  },
  {
   "cell_type": "code",
   "execution_count": 231,
   "id": "8ad3b731-e0da-41ac-a8fa-564c7345e4db",
   "metadata": {},
   "outputs": [
    {
     "data": {
      "image/png": "[encoded data removed]",
      "text/plain": [
       "<Figure size 360x360 with 1 Axes>"
      ]
     },
     "metadata": {
      "needs_background": "light"
     },
     "output_type": "display_data"
    }
   ],
   "source": [
    "fig, ax = plt.subplots(figsize=(5, 5))\n",
    "ax.matshow(conf_matrix, cmap=plt.cm.Oranges, alpha=0.3)\n",
    "for i in range(conf_matrix.shape[0]):\n",
    "    for j in range(conf_matrix.shape[1]):\n",
    "        ax.text(x=j, y=i,s=conf_matrix[i, j], va='center', ha='center', size='xx-large')\n",
    "plt.xlabel('Predictions', fontsize=18)\n",
    "plt.ylabel('Actuals', fontsize=18)\n",
    "plt.title('Confusion Matrix', fontsize=18)\n",
    "plt.show()"
   ]
  },
  {
   "cell_type": "code",
   "execution_count": 232,
   "id": "68c463cb-a989-42dd-95b5-50df3627cc94",
   "metadata": {},
   "outputs": [
    {
     "data": {
      "text/plain": [
       "0.5789473684210527"
      ]
     },
     "execution_count": 232,
     "metadata": {},
     "output_type": "execute_result"
    }
   ],
   "source": [
    "conf_matrix[0][0] / (conf_matrix[0][0] + conf_matrix[0][1])"
   ]
  },
  {
   "cell_type": "code",
   "execution_count": 233,
   "id": "57631a66-c436-4197-8913-e0534618b020",
   "metadata": {},
   "outputs": [
    {
     "name": "stdout",
     "output_type": "stream",
     "text": [
      "Accuracy: 0.882\n",
      "Precision: 0.991\n",
      "Recall: 0.888\n",
      "F1 Score: 0.937\n"
     ]
    }
   ],
   "source": [
    "print('Accuracy: %.3f' % accuracy_score(outlier_true_one, clf.fit_predict(X)))\n",
    "print('Precision: %.3f' % precision_score(outlier_true_one, clf.fit_predict(X)))\n",
    "print('Recall: %.3f' % recall_score(outlier_true_one, clf.fit_predict(X)))\n",
    "print('F1 Score: %.3f' % f1_score(outlier_true_one, clf.fit_predict(X)))"
   ]
  },
  {
   "cell_type": "code",
   "execution_count": 234,
   "id": "3303591b-d471-4206-9785-459a35dfb656",
   "metadata": {},
   "outputs": [],
   "source": [
    "conf_matrix = confusion_matrix(outlier_true_one, outlier_simul_one)"
   ]
  },
  {
   "cell_type": "code",
   "execution_count": 235,
   "id": "f2bccfaf-6e47-4567-abed-69c2417c472b",
   "metadata": {},
   "outputs": [
    {
     "data": {
      "image/png": "[encoded data removed]",
      "text/plain": [
       "<Figure size 360x360 with 1 Axes>"
      ]
     },
     "metadata": {
      "needs_background": "light"
     },
     "output_type": "display_data"
    }
   ],
   "source": [
    "fig, ax = plt.subplots(figsize=(5, 5))\n",
    "ax.matshow(conf_matrix, cmap=plt.cm.Oranges, alpha=0.3)\n",
    "for i in range(conf_matrix.shape[0]):\n",
    "    for j in range(conf_matrix.shape[1]):\n",
    "        ax.text(x=j, y=i,s=conf_matrix[i, j], va='center', ha='center', size='xx-large')\n",
    "plt.xlabel('Predictions', fontsize=18)\n",
    "plt.ylabel('Actuals', fontsize=18)\n",
    "plt.title('Confusion Matrix', fontsize=18)\n",
    "plt.show()"
   ]
  },
  {
   "cell_type": "code",
   "execution_count": 236,
   "id": "ee890787-164e-4e89-9f79-d6385c6e6599",
   "metadata": {},
   "outputs": [
    {
     "data": {
      "text/plain": [
       "1.0"
      ]
     },
     "execution_count": 236,
     "metadata": {},
     "output_type": "execute_result"
    }
   ],
   "source": [
    "conf_matrix[0][0] / (conf_matrix[0][0] + conf_matrix[0][1])"
   ]
  },
  {
   "cell_type": "code",
   "execution_count": 237,
   "id": "b5ed6110-6bbd-4004-9fed-269cd9b8c337",
   "metadata": {},
   "outputs": [
    {
     "name": "stdout",
     "output_type": "stream",
     "text": [
      "Accuracy: 0.840\n",
      "Precision: 1.000\n",
      "Recall: 0.837\n",
      "F1 Score: 0.911\n"
     ]
    }
   ],
   "source": [
    "print('Accuracy: %.3f' % accuracy_score(outlier_true_one, outlier_simul_one))\n",
    "print('Precision: %.3f' % precision_score(outlier_true_one, outlier_simul_one))\n",
    "print('Recall: %.3f' % recall_score(outlier_true_one, outlier_simul_one))\n",
    "print('F1 Score: %.3f' % f1_score(outlier_true_one, outlier_simul_one))"
   ]
  },
  {
   "cell_type": "markdown",
   "id": "9a5dc37c-128e-4926-8d12-edf87d7e8df0",
   "metadata": {
    "tags": []
   },
   "source": [
    "### 3. two dimensional manifold"
   ]
  },
  {
   "cell_type": "code",
   "execution_count": 238,
   "id": "99878a7e-6a32-44b0-be28-dbece559a18f",
   "metadata": {},
   "outputs": [],
   "source": [
    "np.random.seed(777)\n",
    "pi=np.pi\n",
    "n=1000\n",
    "ang=np.linspace(-pi,pi-2*pi/n,n)\n",
    "r=2+np.sin(np.linspace(0,6*pi,n))\n",
    "vx=r*np.cos(ang)\n",
    "vy=r*np.sin(ang)\n",
    "f1=10*np.sin(np.linspace(0,3*pi,n))\n",
    "f = f1 + x"
   ]
  },
  {
   "cell_type": "code",
   "execution_count": 239,
   "id": "e14507f9-936c-471e-89a1-5590ebedbf2a",
   "metadata": {},
   "outputs": [],
   "source": [
    "_df = pd.DataFrame({'x' : vx, 'y' : vy, 'f' : f})"
   ]
  },
  {
   "cell_type": "code",
   "execution_count": 240,
   "id": "39da72f9-06f8-4493-85bf-3dfb2727d293",
   "metadata": {},
   "outputs": [],
   "source": [
    "X = np.array(_df)"
   ]
  },
  {
   "cell_type": "code",
   "execution_count": 241,
   "id": "731ffd04-3051-4d17-b144-a8665879ed3b",
   "metadata": {},
   "outputs": [],
   "source": [
    "clf = LocalOutlierFactor(n_neighbors=2)"
   ]
  },
  {
   "cell_type": "code",
   "execution_count": 242,
   "id": "888a6ea8-dbe3-4e56-98b8-131ed31d6704",
   "metadata": {
    "scrolled": true,
    "tags": []
   },
   "outputs": [
    {
     "data": {
      "text/plain": [
       "array([ 1,  1,  1, -1,  1, -1, -1,  1,  1,  1,  1,  1,  1, -1,  1,  1,  1,\n",
       "        1,  1,  1,  1,  1,  1, -1,  1,  1,  1,  1,  1,  1, -1,  1,  1,  1,\n",
       "       -1,  1,  1,  1,  1, -1,  1,  1,  1,  1,  1,  1,  1,  1,  1,  1,  1,\n",
       "        1,  1, -1,  1,  1, -1,  1,  1,  1, -1,  1,  1,  1, -1,  1,  1, -1,\n",
       "        1,  1, -1,  1,  1,  1,  1,  1,  1,  1,  1,  1,  1,  1,  1,  1,  1,\n",
       "       -1,  1, -1,  1,  1, -1,  1,  1,  1,  1,  1, -1,  1,  1,  1,  1,  1,\n",
       "        1,  1,  1,  1,  1,  1,  1,  1,  1,  1,  1,  1,  1,  1,  1,  1,  1,\n",
       "        1,  1, -1,  1,  1,  1,  1,  1,  1, -1,  1,  1,  1,  1,  1,  1,  1,\n",
       "        1,  1,  1,  1, -1, -1,  1,  1,  1,  1,  1,  1,  1,  1,  1,  1,  1,\n",
       "        1,  1,  1,  1,  1,  1,  1,  1,  1,  1,  1,  1,  1,  1,  1,  1,  1,\n",
       "        1,  1,  1,  1,  1,  1,  1,  1,  1,  1,  1,  1,  1,  1,  1,  1, -1,\n",
       "        1,  1,  1,  1,  1,  1,  1,  1,  1,  1,  1,  1,  1,  1,  1,  1,  1,\n",
       "       -1, -1,  1,  1,  1,  1,  1,  1,  1, -1,  1,  1,  1,  1,  1,  1, -1,\n",
       "        1,  1,  1,  1, -1,  1,  1,  1,  1,  1, -1,  1,  1,  1,  1,  1,  1,\n",
       "       -1,  1,  1,  1,  1,  1,  1, -1,  1,  1,  1,  1,  1,  1,  1,  1,  1,\n",
       "        1, -1,  1, -1,  1,  1,  1,  1,  1,  1, -1,  1,  1,  1,  1,  1,  1,\n",
       "        1,  1,  1, -1, -1,  1,  1,  1, -1, -1, -1,  1,  1, -1,  1,  1, -1,\n",
       "       -1,  1,  1,  1,  1,  1,  1,  1,  1,  1,  1,  1,  1, -1,  1, -1,  1,\n",
       "        1,  1,  1,  1,  1,  1,  1,  1,  1,  1,  1,  1,  1,  1,  1,  1,  1,\n",
       "        1,  1,  1,  1,  1,  1,  1,  1,  1,  1,  1,  1,  1,  1,  1,  1,  1,\n",
       "        1, -1,  1,  1, -1, -1,  1,  1,  1,  1,  1,  1,  1,  1,  1,  1,  1,\n",
       "        1, -1,  1,  1,  1,  1,  1,  1,  1,  1,  1,  1,  1,  1,  1,  1,  1,\n",
       "        1,  1,  1,  1,  1,  1,  1,  1,  1,  1,  1,  1, -1,  1, -1,  1, -1,\n",
       "        1,  1,  1,  1,  1,  1,  1,  1,  1,  1,  1,  1,  1,  1,  1,  1,  1,\n",
       "        1,  1, -1,  1,  1,  1,  1, -1,  1,  1, -1,  1,  1,  1,  1,  1, -1,\n",
       "        1,  1,  1,  1,  1,  1,  1,  1, -1,  1,  1,  1,  1,  1,  1,  1, -1,\n",
       "        1,  1,  1,  1,  1,  1,  1,  1,  1,  1,  1,  1,  1,  1,  1,  1,  1,\n",
       "        1,  1, -1,  1,  1,  1,  1,  1,  1,  1, -1,  1,  1,  1,  1,  1,  1,\n",
       "        1,  1,  1,  1,  1,  1,  1,  1,  1,  1,  1,  1,  1,  1,  1, -1,  1,\n",
       "        1, -1,  1,  1,  1,  1,  1,  1, -1,  1,  1,  1,  1, -1, -1,  1,  1,\n",
       "        1,  1,  1,  1,  1, -1,  1,  1,  1,  1,  1,  1,  1,  1,  1,  1,  1,\n",
       "        1,  1,  1,  1,  1,  1,  1,  1, -1,  1,  1,  1,  1,  1,  1,  1,  1,\n",
       "        1,  1,  1,  1,  1,  1,  1,  1, -1,  1, -1,  1,  1,  1,  1,  1,  1,\n",
       "        1,  1,  1,  1, -1,  1,  1,  1, -1,  1,  1,  1,  1, -1,  1,  1,  1,\n",
       "       -1,  1,  1,  1,  1,  1,  1,  1,  1,  1,  1,  1, -1,  1,  1,  1,  1,\n",
       "        1,  1,  1,  1,  1,  1, -1,  1,  1,  1,  1,  1,  1,  1,  1,  1,  1,\n",
       "       -1,  1,  1, -1,  1,  1, -1,  1,  1, -1,  1,  1,  1, -1,  1,  1,  1,\n",
       "        1,  1,  1,  1,  1,  1,  1,  1,  1,  1,  1, -1,  1,  1,  1,  1,  1,\n",
       "        1, -1,  1,  1, -1,  1,  1,  1,  1, -1,  1,  1, -1,  1,  1,  1,  1,\n",
       "        1, -1,  1,  1,  1,  1,  1,  1,  1,  1,  1, -1,  1, -1,  1,  1,  1,\n",
       "        1,  1,  1,  1, -1,  1,  1,  1,  1,  1,  1,  1,  1, -1,  1,  1, -1,\n",
       "        1,  1,  1,  1,  1,  1,  1,  1,  1,  1,  1,  1,  1,  1,  1,  1, -1,\n",
       "        1,  1,  1,  1,  1,  1,  1,  1,  1,  1,  1,  1,  1,  1,  1,  1,  1,\n",
       "        1,  1,  1,  1,  1,  1,  1,  1,  1, -1,  1,  1,  1,  1,  1,  1,  1,\n",
       "        1,  1,  1, -1,  1,  1,  1,  1,  1,  1,  1,  1,  1,  1,  1,  1,  1,\n",
       "        1,  1,  1,  1,  1,  1,  1,  1,  1,  1,  1,  1,  1,  1,  1,  1,  1,\n",
       "        1,  1,  1,  1,  1,  1,  1,  1,  1,  1,  1, -1,  1,  1,  1,  1,  1,\n",
       "        1,  1,  1,  1,  1,  1,  1,  1,  1,  1,  1, -1,  1,  1,  1,  1, -1,\n",
       "       -1,  1,  1, -1, -1,  1,  1,  1,  1,  1,  1,  1,  1, -1,  1,  1,  1,\n",
       "        1, -1,  1,  1, -1, -1, -1,  1,  1, -1,  1,  1,  1,  1,  1,  1,  1,\n",
       "        1,  1,  1,  1,  1,  1, -1,  1,  1,  1,  1,  1,  1,  1,  1, -1, -1,\n",
       "       -1,  1,  1, -1,  1,  1,  1,  1,  1,  1,  1,  1,  1, -1, -1,  1,  1,\n",
       "        1,  1,  1,  1,  1,  1,  1,  1,  1,  1,  1,  1,  1, -1,  1,  1,  1,\n",
       "        1,  1,  1,  1,  1,  1, -1,  1,  1,  1,  1,  1,  1,  1,  1,  1,  1,\n",
       "        1,  1,  1,  1,  1,  1,  1,  1,  1,  1, -1,  1,  1,  1,  1, -1, -1,\n",
       "        1,  1,  1,  1, -1,  1,  1,  1,  1,  1,  1,  1, -1,  1,  1,  1,  1,\n",
       "        1, -1,  1,  1,  1,  1,  1,  1, -1,  1, -1, -1,  1,  1, -1, -1,  1,\n",
       "        1, -1,  1,  1,  1, -1,  1,  1,  1, -1,  1,  1,  1,  1,  1,  1,  1,\n",
       "        1,  1,  1,  1,  1,  1,  1,  1,  1,  1,  1,  1, -1,  1])"
      ]
     },
     "execution_count": 242,
     "metadata": {},
     "output_type": "execute_result"
    }
   ],
   "source": [
    "clf.fit_predict(X)"
   ]
  },
  {
   "cell_type": "markdown",
   "id": "105181c7-186f-4ae0-a6ac-c8ca5923610c",
   "metadata": {},
   "source": [
    "outlier"
   ]
  },
  {
   "cell_type": "code",
   "execution_count": 243,
   "id": "c4750f1f-a80b-4723-b77d-99b77cf3f89d",
   "metadata": {},
   "outputs": [],
   "source": [
    "outlier_first_index = np.where(clf.fit_predict(X)==-1)"
   ]
  },
  {
   "cell_type": "code",
   "execution_count": 244,
   "id": "89bc91da-f206-443b-962b-9e2f64ef0c0d",
   "metadata": {},
   "outputs": [],
   "source": [
    "outlier_first_value = clf.fit_predict(X)[clf.fit_predict(X)==-1]"
   ]
  },
  {
   "cell_type": "code",
   "execution_count": 245,
   "id": "132a70b5-cf89-4dd4-ae91-be72eabbc057",
   "metadata": {},
   "outputs": [],
   "source": [
    "class SIMUL:\n",
    "    def __init__(self,df):\n",
    "        self.df = df \n",
    "        self.f = df.f.to_numpy()\n",
    "        self.x = df.x.to_numpy()\n",
    "        self.y = df.y.to_numpy()\n",
    "        self.n = len(self.f)\n",
    "        self.theta= None\n",
    "    def get_distance(self):\n",
    "        self.D = np.zeros([self.n,self.n])\n",
    "        locations = np.stack([self.x, self.y],axis=1)\n",
    "        for i in tqdm.tqdm(range(self.n)):\n",
    "            for j in range(i,self.n):\n",
    "                self.D[i,j]=np.linalg.norm(locations[i]-locations[j])\n",
    "        self.D = self.D + self.D.T\n",
    "    def get_weightmatrix(self,theta=1,beta=0.5,kappa=4000):\n",
    "        self.theta = theta\n",
    "        dist = np.where(self.D < kappa,self.D,0)\n",
    "        self.W = np.exp(-(dist/self.theta)**2)\n",
    "    def _eigen(self):\n",
    "        d= self.W.sum(axis=1)\n",
    "        D= np.diag(d)\n",
    "        self.L = np.diag(1/np.sqrt(d)) @ (D-self.W) @ np.diag(1/np.sqrt(d))\n",
    "        self.lamb, self.Psi = np.linalg.eigh(self.L)\n",
    "        self.Lamb = np.diag(self.lamb)       \n",
    "    def fit(self,sd=5,ref=60): # fit with ebayesthresh\n",
    "        self._eigen()\n",
    "        self.fbar = self.Psi.T @ self.f # fbar := graph fourier transform of f\n",
    "        self.power = self.fbar**2 \n",
    "        ebayesthresh = importr('EbayesThresh').ebayesthresh\n",
    "        self.power_threshed=np.array(ebayesthresh(FloatVector(self.fbar**2),sd=sd))\n",
    "        self.fbar_threshed = np.where(self.power_threshed>0,self.fbar,0)\n",
    "        self.fhat = self.Psi@self.fbar_threshed\n",
    "        self.df = self.df.assign(fHat = self.fhat)\n",
    "        self.df = self.df.assign(Residual = self.df.f- self.df.fHat)\n",
    "        self.bottom = np.zeros_like(self.f)\n",
    "        self.width=0.05\n",
    "        self.depth=0.05"
   ]
  },
  {
   "cell_type": "code",
   "execution_count": 246,
   "id": "3d728754-4d0f-4dce-a72e-e8daf08eaf45",
   "metadata": {},
   "outputs": [],
   "source": [
    "_simul = SIMUL(_df)"
   ]
  },
  {
   "cell_type": "code",
   "execution_count": 247,
   "id": "6f93aa9b-624d-483e-b053-556ce7869643",
   "metadata": {},
   "outputs": [
    {
     "name": "stderr",
     "output_type": "stream",
     "text": [
      "100%|██████████| 1000/1000 [00:01<00:00, 530.60it/s]\n"
     ]
    }
   ],
   "source": [
    "_simul.get_distance()"
   ]
  },
  {
   "cell_type": "code",
   "execution_count": 248,
   "id": "9f9e2b72-4234-41bd-8fec-d11337f9fb7f",
   "metadata": {},
   "outputs": [],
   "source": [
    "_simul.get_weightmatrix(theta=(_simul.D[_simul.D>0].mean()),kappa=2500) "
   ]
  },
  {
   "cell_type": "code",
   "execution_count": 249,
   "id": "180a2a47-ea8c-4cfb-a12d-63c4522e38cf",
   "metadata": {},
   "outputs": [],
   "source": [
    "_simul.fit()"
   ]
  },
  {
   "cell_type": "code",
   "execution_count": 250,
   "id": "d1ebe817-5bc8-4bf3-b341-18536ffd8264",
   "metadata": {},
   "outputs": [],
   "source": [
    "outlier_simul_first_index = np.array(_simul.df.query('Residual**2>2').reset_index()['index'])"
   ]
  },
  {
   "cell_type": "code",
   "execution_count": 251,
   "id": "7deb2eda-9790-43cc-acd6-1608481496c1",
   "metadata": {},
   "outputs": [],
   "source": [
    "outlier_simul_first_value = np.array(_simul.df.query('Residual**2>2').reset_index()['y'])"
   ]
  },
  {
   "cell_type": "code",
   "execution_count": 252,
   "id": "13518fad-8194-4368-9939-1a72f7f93fc0",
   "metadata": {},
   "outputs": [],
   "source": [
    "outlier_simul_one = (_simul.df['Residual']**2).tolist()"
   ]
  },
  {
   "cell_type": "code",
   "execution_count": 253,
   "id": "f1a7dff5-06f3-4fd9-b37c-446e3275f980",
   "metadata": {},
   "outputs": [],
   "source": [
    "outlier_simul_one = list(map(lambda x: -1 if x > 2 else 1,outlier_simul_one))"
   ]
  },
  {
   "cell_type": "code",
   "execution_count": 254,
   "id": "76d12a69-0110-44a1-86ff-bb9bd77bbd62",
   "metadata": {},
   "outputs": [
    {
     "data": {
      "text/plain": [
       "(19, 129, 205)"
      ]
     },
     "execution_count": 254,
     "metadata": {},
     "output_type": "execute_result"
    }
   ],
   "source": [
    "len(outlier_true_value),len(outlier_first_value),len(_simul.df.query('Residual**2>2'))"
   ]
  },
  {
   "cell_type": "code",
   "execution_count": 255,
   "id": "2f9851e3-20f5-425b-ab8c-f87f10cf1ccc",
   "metadata": {},
   "outputs": [
    {
     "name": "stdout",
     "output_type": "stream",
     "text": [
      "19 개 outlier 중에 14 개 detecting\n"
     ]
    }
   ],
   "source": [
    "print(len(outlier_true_value),\"개 outlier 중에\",len(np.intersect1d(outlier_true_index,outlier_first_index)),\"개 detecting\")"
   ]
  },
  {
   "cell_type": "code",
   "execution_count": 256,
   "id": "38d45255-1186-49eb-87c1-b7f8685d6e60",
   "metadata": {},
   "outputs": [
    {
     "data": {
      "text/plain": [
       "0.7368421052631579"
      ]
     },
     "execution_count": 256,
     "metadata": {},
     "output_type": "execute_result"
    }
   ],
   "source": [
    "len(np.intersect1d(outlier_true_index,outlier_first_index))/len(np.array(outlier_true_index).tolist()[0])"
   ]
  },
  {
   "cell_type": "code",
   "execution_count": 257,
   "id": "303015e7-c1cb-4bd9-9a3e-029655906776",
   "metadata": {},
   "outputs": [
    {
     "name": "stdout",
     "output_type": "stream",
     "text": [
      "19 개 outlier 중에 19 개 detecting\n"
     ]
    }
   ],
   "source": [
    "print(len(outlier_true_value),\"개 outlier 중에\",len(np.intersect1d(outlier_true_index,outlier_simul_first_index)),\"개 detecting\")"
   ]
  },
  {
   "cell_type": "code",
   "execution_count": 258,
   "id": "adad037b-49a4-4def-8ad3-173f592ec9ae",
   "metadata": {},
   "outputs": [
    {
     "data": {
      "text/plain": [
       "1.0"
      ]
     },
     "execution_count": 258,
     "metadata": {},
     "output_type": "execute_result"
    }
   ],
   "source": [
    "len(np.intersect1d(outlier_true_index,outlier_simul_first_index))/len(np.array(outlier_true_index).tolist()[0])"
   ]
  },
  {
   "cell_type": "code",
   "execution_count": 271,
   "id": "5945aafa-4dd6-474a-b5bb-b317b9586326",
   "metadata": {},
   "outputs": [],
   "source": [
    "# fig = go.Figure(data=[go.Scatter3d(\n",
    "#     x=vx,\n",
    "#     y=vy,\n",
    "#     z=f,\n",
    "#     mode='markers',\n",
    "#     marker=dict(\n",
    "#         size=3,\n",
    "#         color=f,                # set color to an array/list of desired values\n",
    "#         colorscale='Viridis',   # choose a colorscale\n",
    "#         opacity=0.2\n",
    "#     )\n",
    "# )])\n",
    "# fig.add_scatter3d(x=_df.loc[outlier_first_index]['x'],y=_df.loc[outlier_first_index]['y'],z=_df.loc[outlier_first_index]['f'], mode=\"markers\",marker=dict(size=3, color=\"blue\"),name='f',opacity=0.5)\n",
    "# fig.add_scatter3d(x=_simul.df.loc[outlier_simul_first_index]['x'],y=_simul.df.loc[outlier_simul_first_index]['y'],z=_simul.df.loc[outlier_simul_first_index]['f'], mode=\"markers\",marker=dict(size=3, color=\"red\"),name='f',opacity=0.5)\n",
    "# fig.add_trace(go.Scatter3d(x=vx,y=vy,z=[0]*1000,mode='lines',line_color='#000000',name='z=0'))\n",
    "# fig.update_layout(margin=dict(l=0, r=0, b=0, t=0),scene = dict(xaxis = dict(range=[-3,3],),\n",
    "#                                          yaxis = dict(range=[-3,3],),\n",
    "#                                          zaxis = dict(range=[-10,10],),),width=800,height=800,autosize=False)\n",
    "# fig.show()"
   ]
  },
  {
   "cell_type": "code",
   "execution_count": 275,
   "id": "19ff03af-c0d7-493e-82dd-f41b17a3964f",
   "metadata": {},
   "outputs": [
    {
     "data": {
      "text/plain": [
       "<mpl_toolkits.mplot3d.art3d.Poly3DCollection at 0x7fc2ef671f10>"
      ]
     },
     "execution_count": 275,
     "metadata": {},
     "output_type": "execute_result"
    },
    {
     "data": {
      "image/png": "[encoded data removed]",
      "text/plain": [
       "<Figure size 2400x800 with 1 Axes>"
      ]
     },
     "metadata": {
      "needs_background": "light"
     },
     "output_type": "display_data"
    }
   ],
   "source": [
    "p=plt.figure(figsize=(12,4), dpi=200)  # Make figure object \n",
    "ax=p.add_subplot(1,1,1, projection='3d')\n",
    "ax.grid(False)\n",
    "ax.ticklabel_format(style='sci', axis='x',scilimits=(0,0))\n",
    "ax.ticklabel_format(style='sci', axis='y',scilimits=(0,0))\n",
    "ax.ticklabel_format(style='sci', axis='z',scilimits=(0,0))\n",
    "top = f\n",
    "bottom = np.zeros_like(top)\n",
    "width=depth=0.05\n",
    "ax.scatter3D(vx,vy,f,zdir='z',s=10,marker='.',c='green',alpha=0.2)\n",
    "ax.scatter3D(_df.loc[outlier_first_index]['x'],_df.loc[outlier_first_index]['y'],_df.loc[outlier_first_index]['f'], zdir='z',s=10,marker='.',c='blue',alpha=0.5)\n",
    "ax.scatter3D(_simul.df.loc[outlier_simul_first_index]['x'],_simul.df.loc[outlier_simul_first_index]['y'],_simul.df.loc[outlier_simul_first_index]['f'], zdir='z',s=10,marker='.',c='red',alpha=0.5)\n",
    "ax.bar3d(vx, vy, bottom, width, depth, 0, color='Black',shade=False)"
   ]
  },
  {
   "cell_type": "code",
   "execution_count": 276,
   "id": "3039f447-7606-41ba-8308-23f38c848af1",
   "metadata": {},
   "outputs": [],
   "source": [
    "conf_matrix = confusion_matrix(outlier_true_one, clf.fit_predict(X))"
   ]
  },
  {
   "cell_type": "code",
   "execution_count": 277,
   "id": "ffd884e0-0f9d-4d42-ad98-5aa235f08c49",
   "metadata": {},
   "outputs": [
    {
     "data": {
      "image/png": "[encoded data removed]",
      "text/plain": [
       "<Figure size 360x360 with 1 Axes>"
      ]
     },
     "metadata": {
      "needs_background": "light"
     },
     "output_type": "display_data"
    }
   ],
   "source": [
    "fig, ax = plt.subplots(figsize=(5, 5))\n",
    "ax.matshow(conf_matrix, cmap=plt.cm.Oranges, alpha=0.3)\n",
    "for i in range(conf_matrix.shape[0]):\n",
    "    for j in range(conf_matrix.shape[1]):\n",
    "        ax.text(x=j, y=i,s=conf_matrix[i, j], va='center', ha='center', size='xx-large')\n",
    "plt.xlabel('Predictions', fontsize=18)\n",
    "plt.ylabel('Actuals', fontsize=18)\n",
    "plt.title('Confusion Matrix', fontsize=18)\n",
    "plt.show()"
   ]
  },
  {
   "cell_type": "code",
   "execution_count": 278,
   "id": "bfcc59b2-2ed5-45ee-a6f0-69dd74fbf2a1",
   "metadata": {},
   "outputs": [
    {
     "data": {
      "text/plain": [
       "0.7368421052631579"
      ]
     },
     "execution_count": 278,
     "metadata": {},
     "output_type": "execute_result"
    }
   ],
   "source": [
    "conf_matrix[0][0] / (conf_matrix[0][0] + conf_matrix[0][1])"
   ]
  },
  {
   "cell_type": "code",
   "execution_count": 279,
   "id": "3b224073-0126-45d1-8d23-dd9cc0f74845",
   "metadata": {},
   "outputs": [
    {
     "name": "stdout",
     "output_type": "stream",
     "text": [
      "Accuracy: 0.880\n",
      "Precision: 0.994\n",
      "Recall: 0.883\n",
      "F1 Score: 0.935\n"
     ]
    }
   ],
   "source": [
    "print('Accuracy: %.3f' % accuracy_score(outlier_true_one, clf.fit_predict(X)))\n",
    "print('Precision: %.3f' % precision_score(outlier_true_one, clf.fit_predict(X)))\n",
    "print('Recall: %.3f' % recall_score(outlier_true_one, clf.fit_predict(X)))\n",
    "print('F1 Score: %.3f' % f1_score(outlier_true_one, clf.fit_predict(X)))"
   ]
  },
  {
   "cell_type": "code",
   "execution_count": 280,
   "id": "db559f3f-2732-4590-aa90-fa3108958560",
   "metadata": {},
   "outputs": [],
   "source": [
    "conf_matrix = confusion_matrix(outlier_true_one, outlier_simul_one)"
   ]
  },
  {
   "cell_type": "code",
   "execution_count": 281,
   "id": "343cea3a-db73-4262-b64e-04ce3c349e6a",
   "metadata": {},
   "outputs": [
    {
     "data": {
      "image/png": "[encoded data removed]",
      "text/plain": [
       "<Figure size 360x360 with 1 Axes>"
      ]
     },
     "metadata": {
      "needs_background": "light"
     },
     "output_type": "display_data"
    }
   ],
   "source": [
    "fig, ax = plt.subplots(figsize=(5, 5))\n",
    "ax.matshow(conf_matrix, cmap=plt.cm.Oranges, alpha=0.3)\n",
    "for i in range(conf_matrix.shape[0]):\n",
    "    for j in range(conf_matrix.shape[1]):\n",
    "        ax.text(x=j, y=i,s=conf_matrix[i, j], va='center', ha='center', size='xx-large')\n",
    "plt.xlabel('Predictions', fontsize=18)\n",
    "plt.ylabel('Actuals', fontsize=18)\n",
    "plt.title('Confusion Matrix', fontsize=18)\n",
    "plt.show()"
   ]
  },
  {
   "cell_type": "code",
   "execution_count": 282,
   "id": "44affb0f-88a7-4e6f-bdcb-042f1325dbf4",
   "metadata": {},
   "outputs": [
    {
     "data": {
      "text/plain": [
       "1.0"
      ]
     },
     "execution_count": 282,
     "metadata": {},
     "output_type": "execute_result"
    }
   ],
   "source": [
    "conf_matrix[0][0] / (conf_matrix[0][0] + conf_matrix[0][1])"
   ]
  },
  {
   "cell_type": "code",
   "execution_count": 283,
   "id": "e52d1722-1075-488d-b6c3-eaa8a1064360",
   "metadata": {},
   "outputs": [
    {
     "name": "stdout",
     "output_type": "stream",
     "text": [
      "Accuracy: 0.814\n",
      "Precision: 1.000\n",
      "Recall: 0.810\n",
      "F1 Score: 0.895\n"
     ]
    }
   ],
   "source": [
    "print('Accuracy: %.3f' % accuracy_score(outlier_true_one, outlier_simul_one))\n",
    "print('Precision: %.3f' % precision_score(outlier_true_one, outlier_simul_one))\n",
    "print('Recall: %.3f' % recall_score(outlier_true_one, outlier_simul_one))\n",
    "print('F1 Score: %.3f' % f1_score(outlier_true_one, outlier_simul_one))"
   ]
  },
  {
   "cell_type": "markdown",
   "id": "b1c60da8-8490-4029-8253-c30fd10f0daa",
   "metadata": {},
   "source": [
    "### 4. Bunny"
   ]
  },
  {
   "cell_type": "code",
   "execution_count": 284,
   "id": "0cd2f046-49c2-4957-abcd-e63cffd24d3c",
   "metadata": {},
   "outputs": [],
   "source": [
    "G = graphs.Bunny()\n",
    "n = G.N"
   ]
  },
  {
   "cell_type": "code",
   "execution_count": 285,
   "id": "bd36771b-98c7-49fe-bc59-2a8991de15ec",
   "metadata": {},
   "outputs": [],
   "source": [
    "g = filters.Heat(G, tau=75) "
   ]
  },
  {
   "cell_type": "code",
   "execution_count": 286,
   "id": "adedd2ae-4b70-4064-892f-0a95365a69d0",
   "metadata": {},
   "outputs": [],
   "source": [
    "np.random.seed(1)\n",
    "normal = np.random.randn(n)*0.3\n",
    "unif = np.concatenate([np.random.rand(63)*3, np.zeros(n-63)]); np.random.shuffle(unif)\n",
    "noise = normal + unif "
   ]
  },
  {
   "cell_type": "code",
   "execution_count": 287,
   "id": "6fb21d07-2e80-4e25-8cfc-b89327b378c7",
   "metadata": {},
   "outputs": [],
   "source": [
    "outlier_true_index = np.where(noise>1)"
   ]
  },
  {
   "cell_type": "code",
   "execution_count": 288,
   "id": "175e43b8-6c9e-4d79-8891-397688427a15",
   "metadata": {},
   "outputs": [],
   "source": [
    "outlier_true_value = noise[noise>1]"
   ]
  },
  {
   "cell_type": "code",
   "execution_count": 289,
   "id": "43ab1bcd-652d-4de6-b18c-e39949670304",
   "metadata": {},
   "outputs": [],
   "source": [
    "outlier_true_one = noise"
   ]
  },
  {
   "cell_type": "code",
   "execution_count": 290,
   "id": "b56ca300-76d6-420d-a08d-0246dc19756a",
   "metadata": {},
   "outputs": [],
   "source": [
    "outlier_true_one = list(map(lambda x: -1 if x > 1 else 1,outlier_true_one))"
   ]
  },
  {
   "cell_type": "code",
   "execution_count": 291,
   "id": "cd91c6a2-c711-498f-8f9f-ebea69281c89",
   "metadata": {},
   "outputs": [
    {
     "data": {
      "text/plain": [
       "[<matplotlib.lines.Line2D at 0x7fc2e677c640>]"
      ]
     },
     "execution_count": 291,
     "metadata": {},
     "output_type": "execute_result"
    },
    {
     "data": {
      "image/png": "[encoded data removed]",
      "text/plain": [
       "<Figure size 432x288 with 1 Axes>"
      ]
     },
     "metadata": {
      "needs_background": "light"
     },
     "output_type": "display_data"
    }
   ],
   "source": [
    "plt.plot(normal,'.')\n",
    "plt.plot(unif,'.')\n",
    "#plt.plot(noise,'--')"
   ]
  },
  {
   "cell_type": "code",
   "execution_count": 292,
   "id": "2d932f1a-5db2-41e2-87f8-ca4b366e1a9e",
   "metadata": {},
   "outputs": [
    {
     "name": "stderr",
     "output_type": "stream",
     "text": [
      "2022-10-30 08:37:13,950:[WARNING](pygsp.graphs.graph.lmax): The largest eigenvalue G.lmax is not available, we need to estimate it. Explicitly call G.estimate_lmax() or G.compute_fourier_basis() once beforehand to suppress the warning.\n"
     ]
    }
   ],
   "source": [
    "f = np.zeros(n)\n",
    "f[1000] = 3234\n",
    "f = g.filter(f, method='chebyshev') "
   ]
  },
  {
   "cell_type": "code",
   "execution_count": 293,
   "id": "76148f03-648b-4679-9485-676330f8ef37",
   "metadata": {},
   "outputs": [],
   "source": [
    "_W = G.W.toarray()\n",
    "_x = G.coords[:,0]\n",
    "_y = G.coords[:,1]\n",
    "_z = G.coords[:,2]"
   ]
  },
  {
   "cell_type": "code",
   "execution_count": 294,
   "id": "e60eb972-c6a5-4212-a209-8df1572f1f3c",
   "metadata": {},
   "outputs": [],
   "source": [
    "_df = pd.DataFrame({'x' : _x, 'y' : _y, 'z' : _z, 'f' : f, 'noise' : noise})"
   ]
  },
  {
   "cell_type": "code",
   "execution_count": 295,
   "id": "a475fc55-d572-4fee-b60d-7325912beed9",
   "metadata": {},
   "outputs": [],
   "source": [
    "X = np.array(_df)"
   ]
  },
  {
   "cell_type": "code",
   "execution_count": 296,
   "id": "e58f7ef8-5b34-4613-8141-f4c5ad92069a",
   "metadata": {},
   "outputs": [],
   "source": [
    "clf = LocalOutlierFactor(n_neighbors=2)"
   ]
  },
  {
   "cell_type": "code",
   "execution_count": 297,
   "id": "9d75083a-95d4-40d9-9b85-5daca72926c6",
   "metadata": {
    "scrolled": true,
    "tags": []
   },
   "outputs": [
    {
     "data": {
      "text/plain": [
       "array([1, 1, 1, ..., 1, 1, 1])"
      ]
     },
     "execution_count": 297,
     "metadata": {},
     "output_type": "execute_result"
    }
   ],
   "source": [
    "clf.fit_predict(X[:,:4])"
   ]
  },
  {
   "cell_type": "markdown",
   "id": "d6e753bb-dd42-491c-a091-55abc5ed4064",
   "metadata": {},
   "source": [
    "outlier"
   ]
  },
  {
   "cell_type": "code",
   "execution_count": 298,
   "id": "1dfe3324-bb53-4bdc-8443-295d6aac7636",
   "metadata": {},
   "outputs": [],
   "source": [
    "outlier_first_index = np.where(clf.fit_predict(X[:,:4])==-1)"
   ]
  },
  {
   "cell_type": "code",
   "execution_count": 299,
   "id": "4899cdb1-6539-466b-b9f4-f8e53a1948e2",
   "metadata": {},
   "outputs": [],
   "source": [
    "outlier_first_value = clf.fit_predict(X)[clf.fit_predict(X[:,:4])==-1]"
   ]
  },
  {
   "cell_type": "code",
   "execution_count": 300,
   "id": "29855080-1c90-4930-b43f-f711f113871f",
   "metadata": {},
   "outputs": [],
   "source": [
    "class SIMUL:\n",
    "    def __init__(self,df):\n",
    "        self.df = df \n",
    "        self.f = df.f.to_numpy()\n",
    "        self.z = df.z.to_numpy()\n",
    "        self.x = df.x.to_numpy()\n",
    "        self.y = df.y.to_numpy()\n",
    "        self.noise = df.noise.to_numpy()\n",
    "        self.fnoise = self.f + self.noise\n",
    "        self.W = _W\n",
    "        self.n = len(self.f)\n",
    "        self.theta= None\n",
    "    def _eigen(self):\n",
    "        d= self.W.sum(axis=1)\n",
    "        D= np.diag(d)\n",
    "        self.L = np.diag(1/np.sqrt(d)) @ (D-self.W) @ np.diag(1/np.sqrt(d))\n",
    "        self.lamb, self.Psi = np.linalg.eigh(self.L)\n",
    "        self.Lamb = np.diag(self.lamb)       \n",
    "    def fit(self,sd=5,ref=6): # fit with ebayesthresh\n",
    "        self._eigen()\n",
    "        self.fbar = self.Psi.T @ self.fnoise # fbar := graph fourier transform of f\n",
    "        self.power = self.fbar**2 \n",
    "        ebayesthresh = importr('EbayesThresh').ebayesthresh\n",
    "        self.power_threshed=np.array(ebayesthresh(FloatVector(self.fbar**2),sd=sd))\n",
    "        self.fbar_threshed = np.where(self.power_threshed>0,self.fbar,0)\n",
    "        self.fhat = self.Psi@self.fbar_threshed\n",
    "        self.df = self.df.assign(fnoise = self.fnoise)\n",
    "        self.df = self.df.assign(fHat = self.fhat)\n",
    "        self.df = self.df.assign(Residual = self.df.f + self.df.noise - self.df.fHat)\n",
    "        self.bottom = np.zeros_like(self.f)\n",
    "        self.width=0.05\n",
    "        self.depth=0.05"
   ]
  },
  {
   "cell_type": "code",
   "execution_count": 301,
   "id": "1264e581-5996-4bc3-aaea-ef171aeb155e",
   "metadata": {},
   "outputs": [],
   "source": [
    "_simul = SIMUL(_df)"
   ]
  },
  {
   "cell_type": "code",
   "execution_count": 302,
   "id": "25c02cd3-30ff-423c-a926-0b3065758a07",
   "metadata": {},
   "outputs": [],
   "source": [
    "_simul.fit()"
   ]
  },
  {
   "cell_type": "code",
   "execution_count": 303,
   "id": "951d484e-a5b4-4048-a85d-b77a895d9e2f",
   "metadata": {},
   "outputs": [],
   "source": [
    "outlier_simul_first_index = np.array(_simul.df.query('Residual**2>2').reset_index()['index'])"
   ]
  },
  {
   "cell_type": "code",
   "execution_count": 304,
   "id": "cbbc4867-57da-456f-a254-ce44a91a8ff3",
   "metadata": {},
   "outputs": [],
   "source": [
    "outlier_simul_first_value = np.array(_simul.df.query('Residual**2>2').reset_index()['y'])"
   ]
  },
  {
   "cell_type": "code",
   "execution_count": 305,
   "id": "6daff7aa-a502-4037-818b-f07c9d08331e",
   "metadata": {},
   "outputs": [],
   "source": [
    "outlier_simul_one = (_simul.df['Residual']**2).tolist()"
   ]
  },
  {
   "cell_type": "code",
   "execution_count": 306,
   "id": "0382c499-51dc-4c20-acd6-99ec76291b91",
   "metadata": {},
   "outputs": [],
   "source": [
    "outlier_simul_one = list(map(lambda x: -1 if x > 2 else 1,outlier_simul_one))"
   ]
  },
  {
   "cell_type": "code",
   "execution_count": 307,
   "id": "64f3031e-5c90-4311-82f7-56f64c9ba50a",
   "metadata": {},
   "outputs": [
    {
     "data": {
      "text/plain": [
       "(43, 33, 32)"
      ]
     },
     "execution_count": 307,
     "metadata": {},
     "output_type": "execute_result"
    }
   ],
   "source": [
    "len(outlier_true_value),len(outlier_first_value),len(_simul.df.query('Residual**2>2'))"
   ]
  },
  {
   "cell_type": "code",
   "execution_count": 308,
   "id": "1b2c7bbb-6a47-4d98-911a-4992b285c10e",
   "metadata": {},
   "outputs": [
    {
     "name": "stdout",
     "output_type": "stream",
     "text": [
      "43 개 outlier 중에 0 개 detecting\n"
     ]
    }
   ],
   "source": [
    "print(len(outlier_true_value),\"개 outlier 중에\",len(np.intersect1d(outlier_true_index,outlier_first_index)),\"개 detecting\")"
   ]
  },
  {
   "cell_type": "code",
   "execution_count": 309,
   "id": "9d6bd4aa-cad7-44c1-8f24-675b2a796eb3",
   "metadata": {},
   "outputs": [
    {
     "data": {
      "text/plain": [
       "0.0"
      ]
     },
     "execution_count": 309,
     "metadata": {},
     "output_type": "execute_result"
    }
   ],
   "source": [
    "len(np.intersect1d(outlier_true_index,outlier_first_index))/len(np.array(outlier_true_index).tolist()[0])"
   ]
  },
  {
   "cell_type": "code",
   "execution_count": 310,
   "id": "96cfbb11-0a6b-48f2-8438-492baf7aec1f",
   "metadata": {},
   "outputs": [
    {
     "name": "stdout",
     "output_type": "stream",
     "text": [
      "43 개 outlier 중에 31 개 detecting\n"
     ]
    }
   ],
   "source": [
    "print(len(outlier_true_value),\"개 outlier 중에\",len(np.intersect1d(outlier_true_index,outlier_simul_first_index)),\"개 detecting\")"
   ]
  },
  {
   "cell_type": "code",
   "execution_count": 311,
   "id": "7cb4e9ee-1957-4803-ac8e-6bdea2a37d50",
   "metadata": {},
   "outputs": [
    {
     "data": {
      "text/plain": [
       "0.7209302325581395"
      ]
     },
     "execution_count": 311,
     "metadata": {},
     "output_type": "execute_result"
    }
   ],
   "source": [
    "len(np.intersect1d(outlier_true_index,outlier_simul_first_index))/len(np.array(outlier_true_index).tolist()[0])"
   ]
  },
  {
   "cell_type": "code",
   "execution_count": 312,
   "id": "5a926507-b744-4556-9f9f-061f35749d34",
   "metadata": {},
   "outputs": [],
   "source": [
    "conf_matrix = confusion_matrix(outlier_true_one, clf.fit_predict(X[:,:4]))"
   ]
  },
  {
   "cell_type": "code",
   "execution_count": 313,
   "id": "70d00186-92b1-4d15-9a50-e56fbaf27bd7",
   "metadata": {},
   "outputs": [
    {
     "data": {
      "image/png": "[encoded data removed]",
      "text/plain": [
       "<Figure size 360x360 with 1 Axes>"
      ]
     },
     "metadata": {
      "needs_background": "light"
     },
     "output_type": "display_data"
    }
   ],
   "source": [
    "fig, ax = plt.subplots(figsize=(5, 5))\n",
    "ax.matshow(conf_matrix, cmap=plt.cm.Oranges, alpha=0.3)\n",
    "for i in range(conf_matrix.shape[0]):\n",
    "    for j in range(conf_matrix.shape[1]):\n",
    "        ax.text(x=j, y=i,s=conf_matrix[i, j], va='center', ha='center', size='xx-large')\n",
    "plt.xlabel('Predictions', fontsize=18)\n",
    "plt.ylabel('Actuals', fontsize=18)\n",
    "plt.title('Confusion Matrix', fontsize=18)\n",
    "plt.show()"
   ]
  },
  {
   "cell_type": "code",
   "execution_count": 314,
   "id": "fcaa2535-d781-4be7-8621-9d601f112077",
   "metadata": {},
   "outputs": [
    {
     "data": {
      "text/plain": [
       "0.0"
      ]
     },
     "execution_count": 314,
     "metadata": {},
     "output_type": "execute_result"
    }
   ],
   "source": [
    "conf_matrix[0][0] / (conf_matrix[0][0] + conf_matrix[0][1])"
   ]
  },
  {
   "cell_type": "code",
   "execution_count": 315,
   "id": "478f1195-c318-4d40-8451-0d40a1dae007",
   "metadata": {},
   "outputs": [
    {
     "name": "stdout",
     "output_type": "stream",
     "text": [
      "Accuracy: 0.970\n",
      "Precision: 0.983\n",
      "Recall: 0.987\n",
      "F1 Score: 0.985\n"
     ]
    }
   ],
   "source": [
    "print('Accuracy: %.3f' % accuracy_score(outlier_true_one, clf.fit_predict(X[:,:4])))\n",
    "print('Precision: %.3f' % precision_score(outlier_true_one, clf.fit_predict(X[:,:4])))\n",
    "print('Recall: %.3f' % recall_score(outlier_true_one, clf.fit_predict(X[:,:4])))\n",
    "print('F1 Score: %.3f' % f1_score(outlier_true_one, clf.fit_predict(X[:,:4])))"
   ]
  },
  {
   "cell_type": "code",
   "execution_count": 316,
   "id": "1936f289-e6ac-4278-adac-c801a40127de",
   "metadata": {},
   "outputs": [],
   "source": [
    "conf_matrix = confusion_matrix(outlier_true_one, outlier_simul_one)"
   ]
  },
  {
   "cell_type": "code",
   "execution_count": 317,
   "id": "0863c20f-f28a-4e0b-a3f0-677dcd0db50a",
   "metadata": {},
   "outputs": [
    {
     "data": {
      "image/png": "[encoded data removed]",
      "text/plain": [
       "<Figure size 360x360 with 1 Axes>"
      ]
     },
     "metadata": {
      "needs_background": "light"
     },
     "output_type": "display_data"
    }
   ],
   "source": [
    "fig, ax = plt.subplots(figsize=(5, 5))\n",
    "ax.matshow(conf_matrix, cmap=plt.cm.Oranges, alpha=0.3)\n",
    "for i in range(conf_matrix.shape[0]):\n",
    "    for j in range(conf_matrix.shape[1]):\n",
    "        ax.text(x=j, y=i,s=conf_matrix[i, j], va='center', ha='center', size='xx-large')\n",
    "plt.xlabel('Predictions', fontsize=18)\n",
    "plt.ylabel('Actuals', fontsize=18)\n",
    "plt.title('Confusion Matrix', fontsize=18)\n",
    "plt.show()"
   ]
  },
  {
   "cell_type": "code",
   "execution_count": 318,
   "id": "56d0f52f-9359-42b8-b5c2-7d518deb8739",
   "metadata": {},
   "outputs": [
    {
     "data": {
      "text/plain": [
       "0.7209302325581395"
      ]
     },
     "execution_count": 318,
     "metadata": {},
     "output_type": "execute_result"
    }
   ],
   "source": [
    "conf_matrix[0][0] / (conf_matrix[0][0] + conf_matrix[0][1])"
   ]
  },
  {
   "cell_type": "code",
   "execution_count": 319,
   "id": "3df3d341-8398-44e2-818e-a6860ee7747c",
   "metadata": {},
   "outputs": [
    {
     "name": "stdout",
     "output_type": "stream",
     "text": [
      "Accuracy: 0.995\n",
      "Precision: 0.995\n",
      "Recall: 1.000\n",
      "F1 Score: 0.997\n"
     ]
    }
   ],
   "source": [
    "print('Accuracy: %.3f' % accuracy_score(outlier_true_one, outlier_simul_one))\n",
    "print('Precision: %.3f' % precision_score(outlier_true_one, outlier_simul_one))\n",
    "print('Recall: %.3f' % recall_score(outlier_true_one, outlier_simul_one))\n",
    "print('F1 Score: %.3f' % f1_score(outlier_true_one, outlier_simul_one))"
   ]
  },
  {
   "cell_type": "markdown",
   "id": "c27dfb44-8d71-45d3-9e2e-a8e3fdb221b8",
   "metadata": {},
   "source": [
    "---"
   ]
  },
  {
   "cell_type": "markdown",
   "id": "4995c31f-f3a5-4162-b4d6-a565f2345cee",
   "metadata": {
    "tags": []
   },
   "source": [
    "## Robust covariance estimation and Mahalanobis distances relevance"
   ]
  },
  {
   "cell_type": "code",
   "execution_count": 320,
   "id": "6c2b8a8e-1854-4a79-b6ed-13e49bb85408",
   "metadata": {},
   "outputs": [],
   "source": [
    "X = np.array(_df1)"
   ]
  },
  {
   "cell_type": "code",
   "execution_count": 321,
   "id": "6032c679-503c-4798-8806-edce2baf7421",
   "metadata": {},
   "outputs": [],
   "source": [
    "gen_cov = np.eye(2)\n",
    "gen_cov[0, 0] = 2.0\n",
    "outliers_cov = np.eye(2)\n",
    "outliers_cov[np.arange(1, 2), np.arange(1, 2)] = 7.0\n",
    "#X[-19:] = np.dot(np.random.randn(19, 2), outliers_cov)"
   ]
  },
  {
   "cell_type": "code",
   "execution_count": 322,
   "id": "4607f545-8a1f-44a3-b8c4-44c186e94f6b",
   "metadata": {},
   "outputs": [],
   "source": [
    "outlier_true_index = np.where(xhat!=0)"
   ]
  },
  {
   "cell_type": "code",
   "execution_count": 323,
   "id": "8a7a7a6a-ac0b-4a73-be4f-f3a1e17cdece",
   "metadata": {},
   "outputs": [],
   "source": [
    "X[outlier_true_index] = np.dot(np.random.randn(19, 2), outliers_cov)"
   ]
  },
  {
   "cell_type": "code",
   "execution_count": 324,
   "id": "6d2ecf0f-732f-4b19-b0e2-cc3b96cf2672",
   "metadata": {},
   "outputs": [
    {
     "name": "stdout",
     "output_type": "stream",
     "text": [
      "Estimated covariance matrix:\n",
      "MCD (Robust):\n",
      "[[ 0.15301981 -0.52519999]\n",
      " [-0.52519999  8.58914921]]\n",
      "MLE:\n",
      "[[ 0.37922374  0.35339286]\n",
      " [ 0.35339286 12.20401282]]\n"
     ]
    }
   ],
   "source": [
    "import matplotlib.pyplot as plt\n",
    "from sklearn.covariance import EmpiricalCovariance, MinCovDet\n",
    "\n",
    "# fit a MCD robust estimator to data\n",
    "robust_cov = MinCovDet().fit(X)\n",
    "# fit a MLE estimator to data\n",
    "emp_cov = EmpiricalCovariance().fit(X)\n",
    "print(\n",
    "    \"Estimated covariance matrix:\\nMCD (Robust):\\n{}\\nMLE:\\n{}\".format(\n",
    "        robust_cov.covariance_, emp_cov.covariance_\n",
    "    ))"
   ]
  },
  {
   "cell_type": "code",
   "execution_count": 325,
   "id": "23874614-094b-4c6a-aa57-9b1ae50ffe0a",
   "metadata": {},
   "outputs": [
    {
     "data": {
      "image/png": "[encoded data removed]",
      "text/plain": [
       "<Figure size 720x360 with 1 Axes>"
      ]
     },
     "metadata": {
      "needs_background": "light"
     },
     "output_type": "display_data"
    }
   ],
   "source": [
    "fig, ax = plt.subplots(figsize=(10, 5))\n",
    "# Plot data set\n",
    "inlier_plot = ax.scatter(X[:, 0], X[:, 1], color=\"black\", label=\"inliers\")\n",
    "outlier_plot = ax.scatter(\n",
    "    X[:, 0][outlier_true_index], X[:, 1][outlier_true_index], color=\"red\", label=\"outliers\"\n",
    ")\n",
    "ax.set_xlim(-2.0, 2.0)\n",
    "ax.set_title(\"Mahalanobis distances of a contaminated data set\")\n",
    "xx, yy = np.meshgrid(\n",
    "    np.linspace(plt.xlim()[0], plt.xlim()[1], 100),\n",
    "    np.linspace(plt.ylim()[0], plt.ylim()[1], 100),\n",
    ")\n",
    "zz = np.c_[xx.ravel(), yy.ravel()]\n",
    "# Calculate the MLE based Mahalanobis distances of the meshgrid\n",
    "mahal_emp_cov = emp_cov.mahalanobis(zz)\n",
    "mahal_emp_cov = mahal_emp_cov.reshape(xx.shape)\n",
    "emp_cov_contour = plt.contour(\n",
    "    xx, yy, np.sqrt(mahal_emp_cov), cmap=plt.cm.PuBu_r, linestyles=\"dashed\"\n",
    ")\n",
    "# Calculate the MCD based Mahalanobis distances\n",
    "mahal_robust_cov = robust_cov.mahalanobis(zz)\n",
    "mahal_robust_cov = mahal_robust_cov.reshape(xx.shape)\n",
    "robust_contour = ax.contour(\n",
    "    xx, yy, np.sqrt(mahal_robust_cov), cmap=plt.cm.YlOrBr_r, linestyles=\"dotted\"\n",
    ")\n",
    "\n",
    "# Add legend\n",
    "ax.legend(\n",
    "    [\n",
    "        emp_cov_contour.collections[1],\n",
    "        robust_contour.collections[1],\n",
    "        inlier_plot,\n",
    "        outlier_plot,\n",
    "    ],\n",
    "    [\"MLE dist\", \"MCD dist\", \"inliers\", \"outliers\"],\n",
    "    loc=\"upper left\",\n",
    "    borderaxespad=0,\n",
    ")\n",
    "\n",
    "plt.show()\n"
   ]
  },
  {
   "cell_type": "code",
   "execution_count": null,
   "id": "f36f6136-c1cd-40b6-8922-a1cac9811bad",
   "metadata": {},
   "outputs": [],
   "source": []
  },
  {
   "cell_type": "code",
   "execution_count": null,
   "id": "fdc8f868-2a67-4d5b-9203-6c81286ab525",
   "metadata": {},
   "outputs": [],
   "source": []
  }
 ],
 "metadata": {
  "kernelspec": {
   "display_name": "Python 3 (ipykernel)",
   "language": "python",
   "name": "python3"
  },
  "language_info": {
   "codemirror_mode": {
    "name": "ipython",
    "version": 3
   },
   "file_extension": ".py",
   "mimetype": "text/x-python",
   "name": "python",
   "nbconvert_exporter": "python",
   "pygments_lexer": "ipython3",
   "version": "3.8.12"
  }
 },
 "nbformat": 4,
 "nbformat_minor": 5
}
