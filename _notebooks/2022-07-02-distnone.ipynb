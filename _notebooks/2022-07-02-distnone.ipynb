{
 "cells": [
  {
   "cell_type": "markdown",
   "id": "50b5159e-4ae7-4f06-9c20-febd41ae4a4a",
   "metadata": {
    "id": "cac470df-29e7-4148-9bbd-d8b9a32fa570",
    "tags": []
   },
   "source": [
    "# Dist_None\n",
    "> \n",
    "\n",
    "- toc:true\n",
    "- branch: master\n",
    "- badges: true\n",
    "- comments: false\n",
    "- author: 최서연\n",
    "- categories: [논문연구]"
   ]
  },
  {
   "cell_type": "code",
   "execution_count": null,
   "id": "9960a043-ae4a-4fc2-bfbf-7819da2593bf",
   "metadata": {},
   "outputs": [],
   "source": [
    "import numpy as np\n",
    "import pandas as pd"
   ]
  },
  {
   "cell_type": "code",
   "execution_count": null,
   "id": "7cfb567b-70a9-40f5-b5a0-87cf2665008a",
   "metadata": {},
   "outputs": [],
   "source": [
    "img1 = np.random.randn(28*28).reshape(28,28)\n",
    "img2 = np.random.randn(28*28).reshape(28,28)\n",
    "img3 = np.random.randn(28*28).reshape(28,28)\n",
    "img4 = np.random.randn(28*28).reshape(28,28)\n",
    "img5 = np.random.randn(28*28).reshape(28,28)"
   ]
  },
  {
   "cell_type": "code",
   "execution_count": null,
   "id": "3eba8e5d-58af-42d2-ac78-bca7d679a422",
   "metadata": {},
   "outputs": [],
   "source": [
    "_a = [1]*5+[2]*5+[3]*5+[4]*5+[5]*5\n",
    "_b = [1,2,3,4,5]*5"
   ]
  },
  {
   "cell_type": "markdown",
   "id": "4d0e27da-555a-4a25-a959-d539e229b571",
   "metadata": {},
   "source": [
    "`-` 2번째 데이터"
   ]
  },
  {
   "cell_type": "code",
   "execution_count": null,
   "id": "0ed30896-09ae-4db5-aa0c-a064253cb357",
   "metadata": {},
   "outputs": [],
   "source": [
    "df=pd.DataFrame({'t':_a ,'s':_b})\n",
    "df"
   ]
  },
  {
   "cell_type": "markdown",
   "id": "45a9a326-cbbf-45e7-be3d-d1468d095060",
   "metadata": {},
   "source": [
    "`-` 3번째 데이터"
   ]
  },
  {
   "cell_type": "code",
   "execution_count": null,
   "id": "311d939a-d201-4024-9984-0a0d53449ac4",
   "metadata": {},
   "outputs": [],
   "source": [
    "df=df.assign(third = [0]*25)"
   ]
  },
  {
   "cell_type": "code",
   "execution_count": null,
   "id": "f5c25d0a-c2ba-4b7b-afc5-a91f19cf1941",
   "metadata": {},
   "outputs": [],
   "source": [
    "df"
   ]
  },
  {
   "cell_type": "code",
   "execution_count": null,
   "id": "39e5d369-4e78-40ef-a16b-0c3adc88a935",
   "metadata": {},
   "outputs": [],
   "source": [
    "df.third[0] = np.exp(((img1-img1)**2).sum())"
   ]
  },
  {
   "cell_type": "code",
   "execution_count": null,
   "id": "c36042b7-f87d-422d-acab-46f8ac2413c2",
   "metadata": {},
   "outputs": [],
   "source": [
    "theta= 5000\n",
    "df.third[1] = np.exp(-((img1-img2)**2/theta).sum())"
   ]
  },
  {
   "cell_type": "code",
   "execution_count": null,
   "id": "498fa3c6-108e-4035-91fc-3ec011f18793",
   "metadata": {},
   "outputs": [],
   "source": [
    "df"
   ]
  },
  {
   "cell_type": "code",
   "execution_count": null,
   "id": "f06e4c45-a2b0-4c7f-bf57-194a0752c16e",
   "metadata": {},
   "outputs": [],
   "source": [
    "!git add .\n",
    "!git commit -m .\n",
    "!git push"
   ]
  },
  {
   "cell_type": "code",
   "execution_count": null,
   "id": "9f21af8b-37de-4d6a-8021-a3dc2780ba5f",
   "metadata": {},
   "outputs": [],
   "source": []
  }
 ],
 "metadata": {
  "kernelspec": {
   "display_name": "Python 3 (ipykernel)",
   "language": "python",
   "name": "python3"
  },
  "language_info": {
   "codemirror_mode": {
    "name": "ipython",
    "version": 3
   },
   "file_extension": ".py",
   "mimetype": "text/x-python",
   "name": "python",
   "nbconvert_exporter": "python",
   "pygments_lexer": "ipython3",
   "version": "3.8.12"
  }
 },
 "nbformat": 4,
 "nbformat_minor": 5
}
