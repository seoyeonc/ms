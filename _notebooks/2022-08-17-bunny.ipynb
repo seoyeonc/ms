{
 "cells": [
  {
   "cell_type": "markdown",
   "id": "9aa15020-295c-4a49-a10e-b0a85100d82f",
   "metadata": {
    "id": "cac470df-29e7-4148-9bbd-d8b9a32fa570",
    "tags": []
   },
   "source": [
    "# (guebin) Bunny\n",
    "> \n",
    "\n",
    "- toc:true\n",
    "- branch: master\n",
    "- badges: true\n",
    "- comments: false\n",
    "- author: 최서연, 최규빈"
   ]
  },
  {
   "cell_type": "code",
   "execution_count": 309,
   "id": "18987715-44a3-4c32-8d2e-aeabbbbb424f",
   "metadata": {},
   "outputs": [],
   "source": [
    "import numpy as np\n",
    "import matplotlib.pyplot as plt\n",
    "from matplotlib import cm\n",
    "from pygsp import graphs, filters, plotting, utils\n",
    "import plotly.express as px\n",
    "from IPython.display import HTML"
   ]
  },
  {
   "cell_type": "code",
   "execution_count": 399,
   "id": "a872e681-0553-4b81-ae32-3e9c45489f27",
   "metadata": {},
   "outputs": [],
   "source": [
    "G = graphs.Bunny()\n",
    "n = G.N"
   ]
  },
  {
   "cell_type": "code",
   "execution_count": 400,
   "id": "dda5bba8-4b37-4677-81e0-bf980e22267b",
   "metadata": {},
   "outputs": [],
   "source": [
    "g = filters.Heat(G, tau=100)"
   ]
  },
  {
   "cell_type": "code",
   "execution_count": 401,
   "id": "fe4c0409-4936-45d4-b79a-762546f71bab",
   "metadata": {},
   "outputs": [
    {
     "data": {
      "text/plain": [
       "[<matplotlib.lines.Line2D at 0x7f3ea18348d0>]"
      ]
     },
     "execution_count": 401,
     "metadata": {},
     "output_type": "execute_result"
    },
    {
     "data": {
      "image/png": "[encoded data removed]",
      "text/plain": [
       "<Figure size 432x288 with 1 Axes>"
      ]
     },
     "metadata": {
      "needs_background": "light"
     },
     "output_type": "display_data"
    }
   ],
   "source": [
    "normal = np.random.randn(n)*0.3\n",
    "unif = np.concatenate([np.random.rand(63)*3, np.zeros(n-63)]); np.random.shuffle(unif)\n",
    "noise = normal + unif \n",
    "plt.plot(noise); plt.plot(unif)"
   ]
  },
  {
   "cell_type": "code",
   "execution_count": 405,
   "id": "192f3250-4add-4882-9673-0c06223ca995",
   "metadata": {},
   "outputs": [],
   "source": [
    "f[1000] = 1234\n",
    "f = g.filter(f, method='chebyshev') "
   ]
  },
  {
   "cell_type": "code",
   "execution_count": 407,
   "id": "d1685897-16e5-45df-9fde-315a75cb738d",
   "metadata": {},
   "outputs": [],
   "source": [
    "W = G.W.toarray()\n",
    "x = G.coords[:,0]\n",
    "y = G.coords[:,1]\n",
    "z = G.coords[:,2]"
   ]
  },
  {
   "cell_type": "code",
   "execution_count": 422,
   "id": "f865fdac-7ac6-4621-a8d2-c13803e4b78e",
   "metadata": {},
   "outputs": [],
   "source": [
    "# fig = px.scatter_3d(x=x,y=y,z=z,\n",
    "#                     color=f,\n",
    "#                     opacity=0.7,\n",
    "#                     height=400,\n",
    "#                     size=abs(f+noise),\n",
    "#                     range_color=[-2,4],\n",
    "#                     color_continuous_scale='jet')\n",
    "# fig.update_layout(margin=dict(l=0, r=0, b=0, t=0))\n",
    "# fig.update_traces(marker=dict(line=dict(width=0)))\n",
    "# HTML(fig.to_html(include_mathjax=False, config=dict({'scrollZoom':False})))"
   ]
  },
  {
   "cell_type": "code",
   "execution_count": 423,
   "id": "eea461f2-a2fa-4d25-a424-3d1d78104998",
   "metadata": {},
   "outputs": [],
   "source": [
    "# fig = px.scatter_3d(x=x,y=y,z=z,\n",
    "#                     color=f+noise,\n",
    "#                     opacity=1,\n",
    "#                     height=400,\n",
    "#                     size=abs(f+noise),\n",
    "#                     range_color=[-2,4],\n",
    "#                     color_continuous_scale='jet')\n",
    "# fig.update_layout(margin=dict(l=0, r=0, b=0, t=0))\n",
    "# fig.update_traces(marker=dict(line=dict(width=0)))\n",
    "# HTML(fig.to_html(include_mathjax=False, config=dict({'scrollZoom':False})))"
   ]
  },
  {
   "cell_type": "code",
   "execution_count": 106,
   "id": "92f789a3-242d-4c51-8f43-ec6b9ab58661",
   "metadata": {},
   "outputs": [
    {
     "name": "stdout",
     "output_type": "stream",
     "text": [
      "remote: Enumerating objects: 22, done.\u001b[K\n",
      "remote: Counting objects: 100% (22/22), done.\u001b[K\n",
      "remote: Compressing objects: 100% (11/11), done.\u001b[K\n",
      "remote: Total 22 (delta 11), reused 22 (delta 11), pack-reused 0\u001b[K\n",
      "Unpacking objects: 100% (22/22), 86.21 KiB | 248.00 KiB/s, done.\n",
      "From https://github.com/seoyeonc/ms\n",
      "   0b74ac6..c115deb  master     -> origin/master\n",
      "   2e7697e..e6055fd  gh-pages   -> origin/gh-pages\n",
      "Updating 0b74ac6..c115deb\n",
      "error: Your local changes to the following files would be overwritten by merge:\n",
      "\t_notebooks/2022-08-17-bunny.ipynb\n",
      "Please commit your changes or stash them before you merge.\n",
      "Aborting\n"
     ]
    }
   ],
   "source": [
    "!git fetch \n",
    "!git pull"
   ]
  },
  {
   "cell_type": "code",
   "execution_count": 107,
   "id": "0931e3a6-de45-4753-9ec6-b11458a826b3",
   "metadata": {},
   "outputs": [
    {
     "name": "stdout",
     "output_type": "stream",
     "text": [
      "[master e6042fd] .\n",
      " 1 file changed, 177 insertions(+), 395 deletions(-)\n",
      " rewrite _notebooks/2022-08-17-bunny.ipynb (99%)\n",
      "To https://github.com/seoyeonc/ms.git\n",
      " \u001b[31m! [rejected]       \u001b[m master -> master (non-fast-forward)\n",
      "\u001b[31merror: failed to push some refs to 'https://github.com/seoyeonc/ms.git'\n",
      "\u001b[m\u001b[33mhint: Updates were rejected because the tip of your current branch is behind\u001b[m\n",
      "\u001b[33mhint: its remote counterpart. Integrate the remote changes (e.g.\u001b[m\n",
      "\u001b[33mhint: 'git pull ...') before pushing again.\u001b[m\n",
      "\u001b[33mhint: See the 'Note about fast-forwards' in 'git push --help' for details.\u001b[m\n"
     ]
    }
   ],
   "source": [
    "!git add .\n",
    "!git commit -m .\n",
    "!git push"
   ]
  },
  {
   "cell_type": "code",
   "execution_count": null,
   "id": "10cb1786-088e-4e66-9d97-026dfc471719",
   "metadata": {},
   "outputs": [],
   "source": []
  }
 ],
 "metadata": {
  "kernelspec": {
   "display_name": "Python 3 (ipykernel)",
   "language": "python",
   "name": "python3"
  },
  "language_info": {
   "codemirror_mode": {
    "name": "ipython",
    "version": 3
   },
   "file_extension": ".py",
   "mimetype": "text/x-python",
   "name": "python",
   "nbconvert_exporter": "python",
   "pygments_lexer": "ipython3",
   "version": "3.7.13"
  }
 },
 "nbformat": 4,
 "nbformat_minor": 5
}
