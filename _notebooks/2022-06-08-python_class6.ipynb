{
 "cells": [
  {
   "cell_type": "markdown",
   "id": "f310446f-2bc5-4dc6-8455-856a7b62ebdf",
   "metadata": {
    "id": "b9918d88-edd6-44b5-8919-e7c24f94005a",
    "tags": []
   },
   "source": [
    "# (study) 파이썬 입문 (14주차) 6월6일\n",
    "> 클래스 공부 7,8,9,10 단계\n",
    "\n",
    "- toc:true\n",
    "- branch: master\n",
    "- badges: true\n",
    "- comments: false\n",
    "- author: 최서연\n",
    "- categories: [Python, class]"
   ]
  },
  {
   "cell_type": "markdown",
   "id": "5f35b233-952a-4856-928e-2dfa84a2e423",
   "metadata": {
    "id": "5f35b233-952a-4856-928e-2dfa84a2e423"
   },
   "source": [
    "## 강의영상 "
   ]
  },
  {
   "cell_type": "markdown",
   "id": "44758ab2-2b3a-443a-9033-1a149d5f54e5",
   "metadata": {
    "id": "44758ab2-2b3a-443a-9033-1a149d5f54e5"
   },
   "source": [
    "> youtube: https://youtube.com/playlist?list=PLQqh36zP38-zK8hV8OkKlOejWQYlvVWQh"
   ]
  },
  {
   "cell_type": "markdown",
   "id": "ccc524c1-2b20-49e8-9c2b-99a862efd0cb",
   "metadata": {
    "id": "ccc524c1-2b20-49e8-9c2b-99a862efd0cb"
   },
   "source": [
    "`-` (1/8) 클래스 공부 7단계 (1)\n",
    "\n",
    "`-` (2/8) 클래스 공부 7단계 (2) \n",
    "\n",
    "`-` (3/8) 클래스 공부 7단계 (3) \n",
    "\n",
    "`-` (4/8) 클래스 공부 8단계 \n",
    "\n",
    "`-` (5/8) 클래스 공부 9단계 (1) \n",
    "\n",
    "`-` (6/8) 클래스 공부 9단계 (2) \n",
    "\n",
    "`-` (7/8) 클래스 공부 10단계 (1) \n",
    "\n",
    "`-` (8/8) 클래스 공부 10단계 (2) "
   ]
  },
  {
   "cell_type": "markdown",
   "id": "27c95e8e-6350-401b-ae22-502325057da8",
   "metadata": {
    "id": "27c95e8e-6350-401b-ae22-502325057da8"
   },
   "source": [
    "## imports"
   ]
  },
  {
   "cell_type": "code",
   "execution_count": 1,
   "id": "55594792-2872-47f1-a3b4-d1d07a916ff6",
   "metadata": {
    "id": "55594792-2872-47f1-a3b4-d1d07a916ff6"
   },
   "outputs": [],
   "source": [
    "import numpy as np\n",
    "import matplotlib.pyplot as plt\n",
    "import pandas as pd"
   ]
  },
  {
   "cell_type": "markdown",
   "id": "274ad496-0c09-497d-ae22-e60bbdfe540a",
   "metadata": {
    "id": "274ad496-0c09-497d-ae22-e60bbdfe540a"
   },
   "source": [
    "## 클래스공부 7단계 "
   ]
  },
  {
   "cell_type": "markdown",
   "id": "c4dd59ef-dbd9-4e5b-82fa-d450673dee1e",
   "metadata": {
    "id": "c4dd59ef-dbd9-4e5b-82fa-d450673dee1e"
   },
   "source": [
    "### 함수공부 "
   ]
  },
  {
   "cell_type": "markdown",
   "id": "ec9d18e8-9500-4bd0-919e-2b5e006bba5d",
   "metadata": {
    "id": "ec9d18e8-9500-4bd0-919e-2b5e006bba5d"
   },
   "source": [
    "`-` 다시 함수를 공부해봅시다. "
   ]
  },
  {
   "cell_type": "code",
   "execution_count": 2,
   "id": "c61e1964-449c-4714-b862-e94cdc18ce26",
   "metadata": {
    "id": "c61e1964-449c-4714-b862-e94cdc18ce26"
   },
   "outputs": [],
   "source": [
    "def f(x):\n",
    "    return x+1 "
   ]
  },
  {
   "cell_type": "code",
   "execution_count": 3,
   "id": "bbf7e9eb-b112-43cc-a8b2-c85250f49eeb",
   "metadata": {
    "id": "bbf7e9eb-b112-43cc-a8b2-c85250f49eeb",
    "outputId": "5c81e865-3bd9-4c62-d4db-396613b29211"
   },
   "outputs": [
    {
     "data": {
      "text/plain": [
       "4"
      ]
     },
     "execution_count": 3,
     "metadata": {},
     "output_type": "execute_result"
    }
   ],
   "source": [
    "f(3)"
   ]
  },
  {
   "cell_type": "markdown",
   "id": "e890dc95-0ce8-44cd-a8a6-c0c74e7c93a8",
   "metadata": {
    "id": "e890dc95-0ce8-44cd-a8a6-c0c74e7c93a8"
   },
   "source": [
    "`-` 함수의 사용방법? \n",
    "- 입력으로 변수 x를 받음 = 입력으로 인스턴스 x를 받음. \n",
    "- 출력으로 변수 x+1을 리턴 = 출력으로 인스턴스 x+1을 리턴. "
   ]
  },
  {
   "cell_type": "markdown",
   "id": "eb2c37da-c03d-4608-a5c2-347fe945bd05",
   "metadata": {
    "id": "eb2c37da-c03d-4608-a5c2-347fe945bd05"
   },
   "source": [
    "`-` 사실1: 파이썬에서 함수는 인스턴스를 입력으로 받고 인스턴스를 출력한다. "
   ]
  },
  {
   "cell_type": "markdown",
   "id": "5fc903a6-0f11-4f34-bb00-e62a5760e3c6",
   "metadata": {
    "id": "5fc903a6-0f11-4f34-bb00-e62a5760e3c6"
   },
   "source": [
    "`-` 함수의 자료형? "
   ]
  },
  {
   "cell_type": "code",
   "execution_count": 4,
   "id": "9138fe78-2191-4794-a795-eed7be0bab7e",
   "metadata": {
    "id": "9138fe78-2191-4794-a795-eed7be0bab7e",
    "outputId": "ada73a8d-6868-475f-dea5-4f3b6f0a6d60"
   },
   "outputs": [
    {
     "data": {
      "text/plain": [
       "\u001b[0;31mSignature:\u001b[0m \u001b[0mf\u001b[0m\u001b[0;34m(\u001b[0m\u001b[0mx\u001b[0m\u001b[0;34m)\u001b[0m\u001b[0;34m\u001b[0m\u001b[0;34m\u001b[0m\u001b[0m\n",
       "\u001b[0;31mDocstring:\u001b[0m <no docstring>\n",
       "\u001b[0;31mFile:\u001b[0m      /tmp/ipykernel_2046213/2907208198.py\n",
       "\u001b[0;31mType:\u001b[0m      function\n"
      ]
     },
     "metadata": {},
     "output_type": "display_data"
    }
   ],
   "source": [
    "?f"
   ]
  },
  {
   "cell_type": "markdown",
   "id": "7f3e73e1-7f3b-459b-8ba0-eff6e9f40a35",
   "metadata": {
    "id": "7f3e73e1-7f3b-459b-8ba0-eff6e9f40a35"
   },
   "source": [
    "- type이 functiond이다. \n",
    "- f는 function class의 instance이다. \n",
    "- 결국 f 역시 하나의 오브젝트에 불과하다. "
   ]
  },
  {
   "cell_type": "markdown",
   "id": "0ded30c1-8a30-4668-8146-50b771d7f961",
   "metadata": {
    "id": "0ded30c1-8a30-4668-8146-50b771d7f961"
   },
   "source": [
    "`-` 사실2: 함수도 결국 인스턴스이다. -> 함수의 입력으로 함수를 쓸 수도 있고 함수의 출력으로 함수가 나올 수도 있다. "
   ]
  },
  {
   "cell_type": "markdown",
   "id": "bfbecd50-d7b8-4e3b-8c88-fc57d6ceea11",
   "metadata": {
    "id": "bfbecd50-d7b8-4e3b-8c88-fc57d6ceea11"
   },
   "source": [
    "### 함수형 프로그래밍 "
   ]
  },
  {
   "cell_type": "markdown",
   "id": "4992da27-49b9-4c60-87ef-9fc70fdfe907",
   "metadata": {
    "id": "4992da27-49b9-4c60-87ef-9fc70fdfe907"
   },
   "source": [
    "(예제1) 숫자입력, 함수출력 "
   ]
  },
  {
   "cell_type": "code",
   "execution_count": 5,
   "id": "c9325260-0e14-49df-baf6-65498b718923",
   "metadata": {
    "id": "c9325260-0e14-49df-baf6-65498b718923"
   },
   "outputs": [],
   "source": [
    "def f(a):\n",
    "    def _f(x):\n",
    "        return (x-a)**2 \n",
    "    return _f"
   ]
  },
  {
   "cell_type": "code",
   "execution_count": 6,
   "id": "316cdf9d-2c01-4b2c-a99c-5c58b036ecd9",
   "metadata": {
    "id": "316cdf9d-2c01-4b2c-a99c-5c58b036ecd9"
   },
   "outputs": [],
   "source": [
    "g=f(10) # g(x)=(x-10)**2 "
   ]
  },
  {
   "cell_type": "code",
   "execution_count": 7,
   "id": "1f93db16-307e-49b0-adba-e13203c7271d",
   "metadata": {
    "id": "1f93db16-307e-49b0-adba-e13203c7271d",
    "outputId": "b80fd497-9a1f-4591-fac2-de589199c934"
   },
   "outputs": [
    {
     "data": {
      "text/plain": [
       "64"
      ]
     },
     "execution_count": 7,
     "metadata": {},
     "output_type": "execute_result"
    }
   ],
   "source": [
    "g(2) # (2-10)**2 = 64"
   ]
  },
  {
   "cell_type": "markdown",
   "id": "26cfbe81-f023-457b-86c2-2703b97c9f59",
   "metadata": {
    "id": "26cfbe81-f023-457b-86c2-2703b97c9f59"
   },
   "source": [
    "- 해석: f(a)는 a를 입력으로 받고 g(x)=(x-a)^2 를 함수를 리턴해주는 함수 "
   ]
  },
  {
   "cell_type": "markdown",
   "id": "9d53ed99-7086-4ed9-afe3-a65bcd105418",
   "metadata": {
    "id": "9d53ed99-7086-4ed9-afe3-a65bcd105418"
   },
   "source": [
    "(예제1)의 다른표현: 익명함수 lambda "
   ]
  },
  {
   "cell_type": "markdown",
   "id": "5599dc98-446d-4acc-9afb-909180b649b3",
   "metadata": {
    "id": "5599dc98-446d-4acc-9afb-909180b649b3"
   },
   "source": [
    "표현1"
   ]
  },
  {
   "cell_type": "code",
   "execution_count": 8,
   "id": "c96e9ad9-6ba6-4e6e-aa90-4466c2e8dbcd",
   "metadata": {
    "id": "c96e9ad9-6ba6-4e6e-aa90-4466c2e8dbcd"
   },
   "outputs": [],
   "source": [
    "def f(a):\n",
    "    _f = lambda x: (x-a)**2 ### lambda x: (x-a)**2 가 실행되는 순간 함수오브젝트가 만들어지고 그것이 _f 로 저장됨 \n",
    "    return _f"
   ]
  },
  {
   "cell_type": "code",
   "execution_count": 9,
   "id": "995de952-76da-445c-afaf-417292b856e3",
   "metadata": {
    "id": "995de952-76da-445c-afaf-417292b856e3"
   },
   "outputs": [],
   "source": [
    "g=f(10) # g(x)=(x-10)**2 "
   ]
  },
  {
   "cell_type": "code",
   "execution_count": 10,
   "id": "480d4a3a-52e6-4e6c-ac7f-214e469f0f93",
   "metadata": {
    "id": "480d4a3a-52e6-4e6c-ac7f-214e469f0f93",
    "outputId": "9ff3e1a4-752e-4019-c721-ae91f05f8ae4"
   },
   "outputs": [
    {
     "data": {
      "text/plain": [
       "49"
      ]
     },
     "execution_count": 10,
     "metadata": {},
     "output_type": "execute_result"
    }
   ],
   "source": [
    "g(3) # (3-10)**2 = 49"
   ]
  },
  {
   "cell_type": "markdown",
   "id": "9b4d19e8-6382-44ee-ba06-0fd214c947c0",
   "metadata": {
    "id": "9b4d19e8-6382-44ee-ba06-0fd214c947c0"
   },
   "source": [
    "표현2"
   ]
  },
  {
   "cell_type": "code",
   "execution_count": 11,
   "id": "0c773623-9fe9-41a2-94a7-a011bdc31c2c",
   "metadata": {
    "id": "0c773623-9fe9-41a2-94a7-a011bdc31c2c"
   },
   "outputs": [],
   "source": [
    "def f(a):\n",
    "    return lambda x: (x-a)**2 "
   ]
  },
  {
   "cell_type": "code",
   "execution_count": 12,
   "id": "b49ac351-d93c-4091-a541-ad48bb3216b3",
   "metadata": {
    "id": "b49ac351-d93c-4091-a541-ad48bb3216b3"
   },
   "outputs": [],
   "source": [
    "g=f(10) # g(x)=(x-10)**2 "
   ]
  },
  {
   "cell_type": "code",
   "execution_count": 13,
   "id": "1014a19e-8857-4c07-99fe-a7c52250b2a4",
   "metadata": {
    "id": "1014a19e-8857-4c07-99fe-a7c52250b2a4",
    "outputId": "c483db1d-fb72-478b-a878-0e4ed13f0966"
   },
   "outputs": [
    {
     "data": {
      "text/plain": [
       "49"
      ]
     },
     "execution_count": 13,
     "metadata": {},
     "output_type": "execute_result"
    }
   ],
   "source": [
    "g(3) # (3-10)**2 = 49"
   ]
  },
  {
   "cell_type": "markdown",
   "id": "d74918f3-1229-4110-bcf8-c4effcb76c4b",
   "metadata": {
    "id": "d74918f3-1229-4110-bcf8-c4effcb76c4b"
   },
   "source": [
    "- `lambda x: (x-a)**2` 는 $\\text{lambda}(x) = (x-a)^2$의 느낌으로 기억하면 외우기 쉽다. \n",
    "- `lambda x: (x-a)**2` 는 \"아직 이름이 없는 함수오브젝트를 (가칭 lambda 라고 하자) 만들고 기능은 x를 입력으로 하고 (x-a)**2를 출력하도록 하자\" 라는 뜻으로 해석하면 된다. "
   ]
  },
  {
   "cell_type": "markdown",
   "id": "382a0ef1-8775-47f7-b6ff-7b810155a4e3",
   "metadata": {
    "id": "382a0ef1-8775-47f7-b6ff-7b810155a4e3"
   },
   "source": [
    "(예제2) 함수입력, 숫자출력 "
   ]
  },
  {
   "cell_type": "code",
   "execution_count": 14,
   "id": "3e65dba6-56a1-484f-96b0-9e81437b442b",
   "metadata": {
    "id": "3e65dba6-56a1-484f-96b0-9e81437b442b"
   },
   "outputs": [],
   "source": [
    "def f(x):\n",
    "    return x**2 "
   ]
  },
  {
   "cell_type": "code",
   "execution_count": 15,
   "id": "5b54f359-5354-4363-9ce6-53142e9044f1",
   "metadata": {
    "id": "5b54f359-5354-4363-9ce6-53142e9044f1"
   },
   "outputs": [],
   "source": [
    "def d(f,x): # 함수를 입력을 받는 함수를 정의 \n",
    "    h=0.000000000001\n",
    "    return (f(x+h)-f(x))/h "
   ]
  },
  {
   "cell_type": "code",
   "execution_count": 16,
   "id": "a113630a-1949-4b17-8d4a-819dceb5f97e",
   "metadata": {
    "id": "a113630a-1949-4b17-8d4a-819dceb5f97e",
    "outputId": "8b1cc7b1-d31d-4c7e-b609-bd9535449331"
   },
   "outputs": [
    {
     "data": {
      "text/plain": [
       "8.000711204658728"
      ]
     },
     "execution_count": 16,
     "metadata": {},
     "output_type": "execute_result"
    }
   ],
   "source": [
    "d(f,4) # f'(4) = 2*4 = 8"
   ]
  },
  {
   "cell_type": "markdown",
   "id": "6064f0ad-91f9-445e-a5ce-5b688fbfc2ed",
   "metadata": {
    "id": "6064f0ad-91f9-445e-a5ce-5b688fbfc2ed"
   },
   "source": [
    "(예제3) 함수입력, 함수출력 "
   ]
  },
  {
   "cell_type": "code",
   "execution_count": 17,
   "id": "aa89a380-2991-49be-bc1c-80b47d6b2890",
   "metadata": {
    "id": "aa89a380-2991-49be-bc1c-80b47d6b2890"
   },
   "outputs": [],
   "source": [
    "def f(x): \n",
    "    return x**2 "
   ]
  },
  {
   "cell_type": "code",
   "execution_count": 18,
   "id": "941f9481-1825-4d09-8ffe-96983e91ffd8",
   "metadata": {
    "id": "941f9481-1825-4d09-8ffe-96983e91ffd8"
   },
   "outputs": [],
   "source": [
    "def derivate(f): \n",
    "    def df(x): \n",
    "        h=0.000000000001\n",
    "        return (f(x+h)-f(x))/h \n",
    "    return df"
   ]
  },
  {
   "cell_type": "code",
   "execution_count": 19,
   "id": "424663d6-9688-4f3c-b570-7f6f824a9b1d",
   "metadata": {
    "id": "424663d6-9688-4f3c-b570-7f6f824a9b1d"
   },
   "outputs": [],
   "source": [
    "ff = derivate(f)"
   ]
  },
  {
   "cell_type": "code",
   "execution_count": 20,
   "id": "fe68cb16-b951-4e25-ad83-6adf3db67ed2",
   "metadata": {
    "id": "fe68cb16-b951-4e25-ad83-6adf3db67ed2",
    "outputId": "88a01b95-b1c4-410c-b50d-5595427df922"
   },
   "outputs": [
    {
     "data": {
      "text/plain": [
       "14.004797321831575"
      ]
     },
     "execution_count": 20,
     "metadata": {},
     "output_type": "execute_result"
    }
   ],
   "source": [
    "ff(7) # f의 도함수"
   ]
  },
  {
   "cell_type": "markdown",
   "id": "5ccebdc0-fba2-4347-b6f3-a32275d87f2f",
   "metadata": {
    "id": "5ccebdc0-fba2-4347-b6f3-a32275d87f2f"
   },
   "source": [
    "**원래함수 시각화**"
   ]
  },
  {
   "cell_type": "code",
   "execution_count": 21,
   "id": "3b4b862c-0393-47b8-a431-8ca711bf7687",
   "metadata": {
    "id": "3b4b862c-0393-47b8-a431-8ca711bf7687",
    "outputId": "d86db7cc-8b05-4a1c-8dfc-d7ddd4d1063f"
   },
   "outputs": [
    {
     "data": {
      "text/plain": [
       "[<matplotlib.lines.Line2D at 0x7fdff26c2bb0>]"
      ]
     },
     "execution_count": 21,
     "metadata": {},
     "output_type": "execute_result"
    },
    {
     "data": {
      "image/png": "[encoded data removed]",
      "text/plain": [
       "<Figure size 432x288 with 1 Axes>"
      ]
     },
     "metadata": {
      "needs_background": "light"
     },
     "output_type": "display_data"
    }
   ],
   "source": [
    "x = np.linspace(-1,1,100)\n",
    "plt.plot(x,f(x))"
   ]
  },
  {
   "cell_type": "markdown",
   "id": "16e457cb-349f-4ba1-aa15-185f9bbd3434",
   "metadata": {
    "id": "16e457cb-349f-4ba1-aa15-185f9bbd3434"
   },
   "source": [
    "**도함수 시각화**"
   ]
  },
  {
   "cell_type": "code",
   "execution_count": 22,
   "id": "85f7e1c4-8bb8-43c6-b0c0-62235811cbc5",
   "metadata": {
    "id": "85f7e1c4-8bb8-43c6-b0c0-62235811cbc5",
    "outputId": "dd5dc656-5ce0-40f3-8f97-e29acdc064e2"
   },
   "outputs": [
    {
     "data": {
      "text/plain": [
       "[<matplotlib.lines.Line2D at 0x7fdff25d4520>]"
      ]
     },
     "execution_count": 22,
     "metadata": {},
     "output_type": "execute_result"
    },
    {
     "data": {
      "image/png": "[encoded data removed]",
      "text/plain": [
       "<Figure size 432x288 with 1 Axes>"
      ]
     },
     "metadata": {
      "needs_background": "light"
     },
     "output_type": "display_data"
    }
   ],
   "source": [
    "x = np.linspace(-1,1,100)\n",
    "plt.plot(x,ff(x))"
   ]
  },
  {
   "cell_type": "markdown",
   "id": "07e6c811-2c69-4986-a8bc-c31d5b959d80",
   "metadata": {
    "id": "07e6c811-2c69-4986-a8bc-c31d5b959d80"
   },
   "source": [
    "(예제3)의 다른표현 "
   ]
  },
  {
   "cell_type": "code",
   "execution_count": 23,
   "id": "56a3ecb9-9b19-4526-96d4-4c485156f506",
   "metadata": {
    "id": "56a3ecb9-9b19-4526-96d4-4c485156f506"
   },
   "outputs": [],
   "source": [
    "def f(x): \n",
    "    return x**2 "
   ]
  },
  {
   "cell_type": "code",
   "execution_count": 24,
   "id": "71130cbb-32b4-4f03-9062-7d8534df4f0b",
   "metadata": {
    "id": "71130cbb-32b4-4f03-9062-7d8534df4f0b"
   },
   "outputs": [],
   "source": [
    "def derivate(f): \n",
    "    h=0.000000000001\n",
    "    return lambda x: (f(x+h)-f(x))/h "
   ]
  },
  {
   "cell_type": "code",
   "execution_count": 25,
   "id": "acc7bfec-bfaa-421f-995b-6b6bf39bb826",
   "metadata": {
    "id": "acc7bfec-bfaa-421f-995b-6b6bf39bb826"
   },
   "outputs": [],
   "source": [
    "ff = derivate(f)"
   ]
  },
  {
   "cell_type": "code",
   "execution_count": 26,
   "id": "20bc7147-ee65-4f3a-86fc-e9ecc70bdc28",
   "metadata": {
    "id": "20bc7147-ee65-4f3a-86fc-e9ecc70bdc28",
    "outputId": "f95787f9-becd-4cb7-adf4-1b258420dccf"
   },
   "outputs": [
    {
     "data": {
      "text/plain": [
       "20.00888343900442"
      ]
     },
     "execution_count": 26,
     "metadata": {},
     "output_type": "execute_result"
    }
   ],
   "source": [
    "ff(10)"
   ]
  },
  {
   "cell_type": "markdown",
   "id": "111efcbd-589c-421b-a358-cb6de57a1e12",
   "metadata": {
    "id": "111efcbd-589c-421b-a358-cb6de57a1e12"
   },
   "source": [
    "(예제4) 함수들의 리스트 "
   ]
  },
  {
   "cell_type": "code",
   "execution_count": 27,
   "id": "391a271d-a630-48d9-91d7-75e31a53529f",
   "metadata": {
    "id": "391a271d-a630-48d9-91d7-75e31a53529f",
    "outputId": "13727fe4-e73f-4637-a971-601aa6a7911f"
   },
   "outputs": [
    {
     "data": {
      "text/plain": [
       "[<function __main__.<lambda>(x)>,\n",
       " <function __main__.<lambda>(x)>,\n",
       " <function __main__.<lambda>(x)>]"
      ]
     },
     "execution_count": 27,
     "metadata": {},
     "output_type": "execute_result"
    }
   ],
   "source": [
    "flst = [lambda x: x, lambda x: x**2, lambda x: x**3] \n",
    "flst"
   ]
  },
  {
   "cell_type": "code",
   "execution_count": 28,
   "id": "6cebb511-5730-468d-8037-0033d428f400",
   "metadata": {
    "id": "6cebb511-5730-468d-8037-0033d428f400",
    "outputId": "7234b746-2f1d-4cb3-8598-8cef06c63d61"
   },
   "outputs": [
    {
     "name": "stdout",
     "output_type": "stream",
     "text": [
      "2\n",
      "4\n",
      "8\n"
     ]
    }
   ],
   "source": [
    "for f in flst:\n",
    "    print(f(2))"
   ]
  },
  {
   "cell_type": "code",
   "execution_count": 29,
   "id": "61b728c3-df60-4483-9847-5c3e5beb9e38",
   "metadata": {
    "id": "61b728c3-df60-4483-9847-5c3e5beb9e38",
    "outputId": "9e859c68-3160-439f-d529-28d85a6694bf"
   },
   "outputs": [
    {
     "data": {
      "image/png": "[encoded data removed]",
      "text/plain": [
       "<Figure size 432x288 with 1 Axes>"
      ]
     },
     "metadata": {
      "needs_background": "light"
     },
     "output_type": "display_data"
    }
   ],
   "source": [
    "for f in flst: \n",
    "    plt.plot(x,f(x),'--')"
   ]
  },
  {
   "cell_type": "markdown",
   "id": "18d4494f-e92e-4d78-b688-58229bac1403",
   "metadata": {
    "id": "18d4494f-e92e-4d78-b688-58229bac1403"
   },
   "source": [
    "위의코드는 아래와 같음 "
   ]
  },
  {
   "cell_type": "code",
   "execution_count": 30,
   "id": "cf3eae2c-1b8d-4b7c-9293-9c80ce8b490a",
   "metadata": {
    "id": "cf3eae2c-1b8d-4b7c-9293-9c80ce8b490a",
    "outputId": "02f8229c-c1e7-42f8-d7f8-f69e1e5cd1a1"
   },
   "outputs": [
    {
     "data": {
      "text/plain": [
       "[<matplotlib.lines.Line2D at 0x7fdff24d0550>]"
      ]
     },
     "execution_count": 30,
     "metadata": {},
     "output_type": "execute_result"
    },
    {
     "data": {
      "image/png": "[encoded data removed]",
      "text/plain": [
       "<Figure size 432x288 with 1 Axes>"
      ]
     },
     "metadata": {
      "needs_background": "light"
     },
     "output_type": "display_data"
    }
   ],
   "source": [
    "plt.plot(x,(lambda x: x)(x),'--')\n",
    "plt.plot(x,(lambda x: x**2)(x),'--')\n",
    "plt.plot(x,(lambda x: x**3)(x),'--')"
   ]
  },
  {
   "cell_type": "markdown",
   "id": "0a227d06-8b2a-4607-9b4c-5b1010565d2a",
   "metadata": {
    "id": "0a227d06-8b2a-4607-9b4c-5b1010565d2a"
   },
   "source": [
    "### 정리 "
   ]
  },
  {
   "cell_type": "markdown",
   "id": "9147c1a3-5486-4606-80ad-cf23365fdef6",
   "metadata": {
    "id": "9147c1a3-5486-4606-80ad-cf23365fdef6"
   },
   "source": [
    "`-` 지금까지 개념 \n",
    "- 함수: 변수를 입력으로 받아서 변수를 출력하는 개념 \n",
    "- 변수: 어떠한 값을 저장하는 용도로 쓰거나 함수의 입력 혹은 출력으로 사용함"
   ]
  },
  {
   "cell_type": "markdown",
   "id": "94bc4aac-cac9-41ea-8ff7-841e855ff33d",
   "metadata": {
    "id": "94bc4aac-cac9-41ea-8ff7-841e855ff33d"
   },
   "source": [
    "`-` 파이썬의 함수형프로그래밍을 잘하려면?\n",
    "- 변수든 함수이든 둘다 인스턴스임. \n",
    "- 변수를 함수처럼: 메소드 \n",
    "- 함수를 변수처럼($\\star$): 함수자체를 함수의 입력으로 혹은 출력으로 쓸 수도 있음. 함수를 특정 값처럼 생각해서 함수들의 list를 만들 수도 있다. "
   ]
  },
  {
   "cell_type": "markdown",
   "id": "77024899-816b-43aa-a548-5ea00abe5a20",
   "metadata": {
    "id": "77024899-816b-43aa-a548-5ea00abe5a20"
   },
   "source": [
    "### callable object"
   ]
  },
  {
   "cell_type": "markdown",
   "id": "161d7cab-d168-4551-b678-d0c5f70aaa06",
   "metadata": {
    "id": "161d7cab-d168-4551-b678-d0c5f70aaa06"
   },
   "source": [
    "`-` 함수 오브젝트의 비밀? "
   ]
  },
  {
   "cell_type": "code",
   "execution_count": 31,
   "id": "086789c1-cda4-4e5d-a1a2-d9ef9d9645c6",
   "metadata": {
    "id": "086789c1-cda4-4e5d-a1a2-d9ef9d9645c6"
   },
   "outputs": [],
   "source": [
    "f = lambda x: x+1 "
   ]
  },
  {
   "cell_type": "code",
   "execution_count": 34,
   "id": "3a631ed0-31df-4eaf-9e27-dcea3fbdd236",
   "metadata": {
    "id": "3a631ed0-31df-4eaf-9e27-dcea3fbdd236"
   },
   "outputs": [],
   "source": [
    "lst=[1,2,3]"
   ]
  },
  {
   "cell_type": "code",
   "execution_count": 35,
   "id": "5cd68c8e-de7d-49ef-ac74-145c4c1730d5",
   "metadata": {
    "id": "5cd68c8e-de7d-49ef-ac74-145c4c1730d5",
    "outputId": "d33a17a4-c8a6-4d59-8e68-0713a5ce7ed9"
   },
   "outputs": [
    {
     "data": {
      "text/plain": [
       "{'__call__'}"
      ]
     },
     "execution_count": 35,
     "metadata": {},
     "output_type": "execute_result"
    }
   ],
   "source": [
    "set(dir(f)) & {'__call__'}"
   ]
  },
  {
   "cell_type": "markdown",
   "id": "aeb5411a-718b-4110-8e61-064436a5fb8a",
   "metadata": {
    "id": "aeb5411a-718b-4110-8e61-064436a5fb8a"
   },
   "source": [
    "- 함수 오브젝트에는 숨겨진 기능 `__call__`이 있다. "
   ]
  },
  {
   "cell_type": "code",
   "execution_count": 36,
   "id": "8255eaca-249d-41ab-b301-e347cbb05f92",
   "metadata": {
    "id": "8255eaca-249d-41ab-b301-e347cbb05f92",
    "outputId": "31058bb5-5470-4a96-fe1c-ab2e6695ff6e"
   },
   "outputs": [
    {
     "data": {
      "text/plain": [
       "4"
      ]
     },
     "execution_count": 36,
     "metadata": {},
     "output_type": "execute_result"
    }
   ],
   "source": [
    "f.__call__(3) # f(3)"
   ]
  },
  {
   "cell_type": "code",
   "execution_count": 37,
   "id": "166956d2-aff0-4fe5-b82c-ad8213f1d3cd",
   "metadata": {
    "id": "166956d2-aff0-4fe5-b82c-ad8213f1d3cd",
    "outputId": "08585193-d008-43da-a365-9e6cb738fd96"
   },
   "outputs": [
    {
     "data": {
      "text/plain": [
       "5"
      ]
     },
     "execution_count": 37,
     "metadata": {},
     "output_type": "execute_result"
    }
   ],
   "source": [
    "f.__call__(4) # f(4)"
   ]
  },
  {
   "cell_type": "markdown",
   "id": "a4e7cc40-e25b-492f-b386-0015a86f7e90",
   "metadata": {
    "id": "a4e7cc40-e25b-492f-b386-0015a86f7e90"
   },
   "source": [
    "- 여기에 우리가 정의한 내용이 있다. "
   ]
  },
  {
   "cell_type": "markdown",
   "id": "ef3d1b6e-0146-419d-b8c8-edc6cfe052fb",
   "metadata": {
    "id": "ef3d1b6e-0146-419d-b8c8-edc6cfe052fb"
   },
   "source": [
    "`-` 함수처럼 쓸 수 없는 인스턴스는 단지 call이 없는 것일 뿐이다. "
   ]
  },
  {
   "cell_type": "code",
   "execution_count": 38,
   "id": "e07a2406-5bf1-4034-a4e0-2f86cc79147b",
   "metadata": {
    "id": "e07a2406-5bf1-4034-a4e0-2f86cc79147b"
   },
   "outputs": [],
   "source": [
    "class Klass: \n",
    "    def __init__(self):\n",
    "        self.name='guebin'"
   ]
  },
  {
   "cell_type": "code",
   "execution_count": 39,
   "id": "05ca178c-b4db-4c78-a240-1af974a95c5f",
   "metadata": {
    "id": "05ca178c-b4db-4c78-a240-1af974a95c5f"
   },
   "outputs": [],
   "source": [
    "a=Klass()"
   ]
  },
  {
   "cell_type": "code",
   "execution_count": 40,
   "id": "3bc3d9e8-c85c-4a9c-89a1-373ad0e85737",
   "metadata": {
    "id": "3bc3d9e8-c85c-4a9c-89a1-373ad0e85737",
    "outputId": "71bb89f0-09b9-49f3-ea80-5e0f4183f413"
   },
   "outputs": [
    {
     "ename": "TypeError",
     "evalue": "'Klass' object is not callable",
     "output_type": "error",
     "traceback": [
      "\u001b[0;31m---------------------------------------------------------------------------\u001b[0m",
      "\u001b[0;31mTypeError\u001b[0m                                 Traceback (most recent call last)",
      "\u001b[0;32m/tmp/ipykernel_2046213/3657634075.py\u001b[0m in \u001b[0;36m<module>\u001b[0;34m\u001b[0m\n\u001b[0;32m----> 1\u001b[0;31m \u001b[0ma\u001b[0m\u001b[0;34m(\u001b[0m\u001b[0;34m)\u001b[0m\u001b[0;34m\u001b[0m\u001b[0;34m\u001b[0m\u001b[0m\n\u001b[0m",
      "\u001b[0;31mTypeError\u001b[0m: 'Klass' object is not callable"
     ]
    }
   ],
   "source": [
    "a()"
   ]
  },
  {
   "cell_type": "markdown",
   "id": "c2e7316e-8604-4b13-8be9-f578bc0c6a19",
   "metadata": {
    "id": "c2e7316e-8604-4b13-8be9-f578bc0c6a19"
   },
   "source": [
    "- a는 callable이 아니라고 한다. "
   ]
  },
  {
   "cell_type": "code",
   "execution_count": 41,
   "id": "ffeb48c9-2daa-4bee-a66b-cb15905401ea",
   "metadata": {
    "id": "ffeb48c9-2daa-4bee-a66b-cb15905401ea"
   },
   "outputs": [],
   "source": [
    "class Klass2(Klass):  # 상속 \n",
    "    def __call__(self):\n",
    "        print(self.name)"
   ]
  },
  {
   "cell_type": "code",
   "execution_count": 42,
   "id": "21162165-5fa3-4fb4-ae6c-ebcf2108aa9d",
   "metadata": {
    "id": "21162165-5fa3-4fb4-ae6c-ebcf2108aa9d"
   },
   "outputs": [],
   "source": [
    "b=Klass2()"
   ]
  },
  {
   "cell_type": "code",
   "execution_count": 43,
   "id": "3ed53872-b922-4ee7-b1ba-96c1b4ed4817",
   "metadata": {
    "id": "3ed53872-b922-4ee7-b1ba-96c1b4ed4817",
    "outputId": "e137f73c-315d-425a-c310-cf48a93f1a42"
   },
   "outputs": [
    {
     "name": "stdout",
     "output_type": "stream",
     "text": [
      "guebin\n"
     ]
    }
   ],
   "source": [
    "b()"
   ]
  },
  {
   "cell_type": "markdown",
   "id": "f0e60eda-6ac3-4e56-9caa-037f5f1e5805",
   "metadata": {
    "id": "f0e60eda-6ac3-4e56-9caa-037f5f1e5805"
   },
   "source": [
    "- b는 callable object! 즉 숨겨진 메서드로 `__call__`를 가진 오브젝트!\n",
    "- Klass는 callable object를 만들지 못하지만 Klass2는 callable object를 만든다. "
   ]
  },
  {
   "cell_type": "markdown",
   "id": "f65621f5-6d6c-4a07-96d3-a43895cab05b",
   "metadata": {
    "id": "f65621f5-6d6c-4a07-96d3-a43895cab05b"
   },
   "source": [
    "`-` 클래스로 함수를 만들기"
   ]
  },
  {
   "cell_type": "code",
   "execution_count": 44,
   "id": "b3fdb913-0a94-4ead-be30-0122be11e2ce",
   "metadata": {
    "id": "b3fdb913-0a94-4ead-be30-0122be11e2ce"
   },
   "outputs": [],
   "source": [
    "class AddConstant: \n",
    "    def __init__(self,c):\n",
    "        self.c = c \n",
    "    def __call__(self,a):\n",
    "        return a + self.c "
   ]
  },
  {
   "cell_type": "code",
   "execution_count": 45,
   "id": "29caa0de-8048-4a0a-8748-091c7963ff65",
   "metadata": {
    "id": "29caa0de-8048-4a0a-8748-091c7963ff65"
   },
   "outputs": [],
   "source": [
    "f = AddConstant(3) # callable object생성, f.c에는 3이 저장되어있음. "
   ]
  },
  {
   "cell_type": "code",
   "execution_count": 46,
   "id": "3aebe0ae-5410-47d7-a1e0-019c400853dc",
   "metadata": {
    "id": "3aebe0ae-5410-47d7-a1e0-019c400853dc",
    "outputId": "3a67a089-3ffd-4a7f-95bf-80839340633a"
   },
   "outputs": [
    {
     "data": {
      "text/plain": [
       "8"
      ]
     },
     "execution_count": 46,
     "metadata": {},
     "output_type": "execute_result"
    }
   ],
   "source": [
    "f(5) # f.c 와 5를 더하는 기능을 수행, # f(x) = x+3 을 수행함"
   ]
  },
  {
   "cell_type": "code",
   "execution_count": 47,
   "id": "e123304f-bc0f-468a-a648-196a86d00f4f",
   "metadata": {
    "id": "e123304f-bc0f-468a-a648-196a86d00f4f",
    "outputId": "8903fd7b-42cf-49f5-8dbe-5b26b0f83beb"
   },
   "outputs": [
    {
     "data": {
      "text/plain": [
       "13"
      ]
     },
     "execution_count": 47,
     "metadata": {},
     "output_type": "execute_result"
    }
   ],
   "source": [
    "f(10) "
   ]
  },
  {
   "cell_type": "markdown",
   "id": "065657b2-f7fa-42da-8ec3-386c49aa646d",
   "metadata": {
    "id": "065657b2-f7fa-42da-8ec3-386c49aa646d"
   },
   "source": [
    "`-` 클래스도 그러고보니까 `오브젝트` 아니었나? 클래스도 함수처럼 `Klass()`와 같이 사용하면 인스턴스를 만들었음. -> `Klass.__call__()` 은 `Klass()`와 같은 역할을 할 것이다. "
   ]
  },
  {
   "cell_type": "code",
   "execution_count": 48,
   "id": "716d8828-ddcb-4d01-acdb-608c7f64cb71",
   "metadata": {
    "id": "716d8828-ddcb-4d01-acdb-608c7f64cb71"
   },
   "outputs": [],
   "source": [
    "class Klass: \n",
    "    def __init__(self):\n",
    "        self.name='hynn'"
   ]
  },
  {
   "cell_type": "code",
   "execution_count": 49,
   "id": "649d6a85-a7ff-409e-9ad7-64331b6afa16",
   "metadata": {
    "id": "649d6a85-a7ff-409e-9ad7-64331b6afa16"
   },
   "outputs": [],
   "source": [
    "a=Klass.__call__() # 이것이 a=Klass() 와 같은 효과 "
   ]
  },
  {
   "cell_type": "code",
   "execution_count": 50,
   "id": "92e29e72-dd34-4dd5-bd0f-b501b858ea50",
   "metadata": {
    "id": "92e29e72-dd34-4dd5-bd0f-b501b858ea50",
    "outputId": "1be3d53b-ec04-4894-88ef-5fc3a04312aa"
   },
   "outputs": [
    {
     "data": {
      "text/plain": [
       "'hynn'"
      ]
     },
     "execution_count": 50,
     "metadata": {},
     "output_type": "execute_result"
    }
   ],
   "source": [
    "a.name"
   ]
  },
  {
   "cell_type": "markdown",
   "id": "03152bb0-c42b-40eb-8ccb-e449637a369e",
   "metadata": {
    "id": "03152bb0-c42b-40eb-8ccb-e449637a369e"
   },
   "source": [
    "### 파이썬의 비밀 1~4"
   ]
  },
  {
   "cell_type": "markdown",
   "id": "22070ba1-6faa-4c59-a5e4-ad1dfa31ef25",
   "metadata": {
    "id": "22070ba1-6faa-4c59-a5e4-ad1dfa31ef25"
   },
   "source": [
    "- 파이썬의 비밀1: 자료형은 클래스의 이름이다. \n",
    "- 파이썬의 비밀2: 클래스에는 `__str__`처럼 숨겨진 메서드가 존재한다. 이를 이용하여 파이썬 내부의 기능을 가로챌 수 있다. \n",
    "- 파이썬의 비밀3: 주피터노트북에서는 \"오브젝트이름+엔터\"를 쳐서 나오는 출력은 `__repr__`로 가로챌 수 있따. (주피터의 비밀) \n",
    "- 파이썬의 비밀4: 함수와 클래스는 숨겨진 메소드에 `__call__`을 가진 오브젝트일 뿐이다. "
   ]
  },
  {
   "cell_type": "markdown",
   "id": "d85aee6c-0f45-4ea0-ae7e-0051f6daf591",
   "metadata": {
    "id": "d85aee6c-0f45-4ea0-ae7e-0051f6daf591"
   },
   "source": [
    "## 클래스공부 8단계 "
   ]
  },
  {
   "cell_type": "markdown",
   "id": "f6131ab1-d5ed-48af-a62f-b8806b33574c",
   "metadata": {
    "id": "f6131ab1-d5ed-48af-a62f-b8806b33574c"
   },
   "source": [
    "### for문의 복습"
   ]
  },
  {
   "cell_type": "markdown",
   "id": "ea98657e-be2b-4582-a55a-5752bd269fe5",
   "metadata": {
    "id": "ea98657e-be2b-4582-a55a-5752bd269fe5"
   },
   "source": [
    "`-` 아래와 같은 예제들을 관찰하여 for문을 복습하자. "
   ]
  },
  {
   "cell_type": "markdown",
   "id": "a52b9896-30cb-4889-8d13-99c1774356d0",
   "metadata": {
    "id": "a52b9896-30cb-4889-8d13-99c1774356d0"
   },
   "source": [
    "(예제1)"
   ]
  },
  {
   "cell_type": "code",
   "execution_count": 51,
   "id": "d0ed00e7-82cb-4625-83f6-6bcbdad96250",
   "metadata": {
    "id": "d0ed00e7-82cb-4625-83f6-6bcbdad96250",
    "outputId": "ff888c14-1cf9-4e43-cc70-04365626497c"
   },
   "outputs": [
    {
     "name": "stdout",
     "output_type": "stream",
     "text": [
      "1\n",
      "2\n",
      "3\n",
      "4\n"
     ]
    }
   ],
   "source": [
    "for i in [1,2,3,4]:\n",
    "    print(i)"
   ]
  },
  {
   "cell_type": "markdown",
   "id": "91dda4dd-34f7-43cd-bc9b-777b854677ae",
   "metadata": {
    "id": "91dda4dd-34f7-43cd-bc9b-777b854677ae"
   },
   "source": [
    "(예제2)"
   ]
  },
  {
   "cell_type": "code",
   "execution_count": 52,
   "id": "3bafeb0b-dd27-456d-b45d-e386da434a69",
   "metadata": {
    "id": "3bafeb0b-dd27-456d-b45d-e386da434a69",
    "outputId": "da395f78-575f-4a24-8610-c38343307ae1"
   },
   "outputs": [
    {
     "name": "stdout",
     "output_type": "stream",
     "text": [
      "1\n",
      "2\n",
      "3\n",
      "4\n"
     ]
    }
   ],
   "source": [
    "for i in (1,2,3,4): \n",
    "    print(i)"
   ]
  },
  {
   "cell_type": "markdown",
   "id": "c432cb3a-8c51-4d66-ab3c-5a0f68bf4d67",
   "metadata": {
    "id": "c432cb3a-8c51-4d66-ab3c-5a0f68bf4d67"
   },
   "source": [
    "(예제3)"
   ]
  },
  {
   "cell_type": "code",
   "execution_count": 53,
   "id": "30481770-bd13-4352-96fc-d09a047085ec",
   "metadata": {
    "id": "30481770-bd13-4352-96fc-d09a047085ec",
    "outputId": "adcb8171-7de8-407e-c35d-b05b3af5bf5d"
   },
   "outputs": [
    {
     "name": "stdout",
     "output_type": "stream",
     "text": [
      "1\n",
      "2\n",
      "3\n",
      "4\n"
     ]
    }
   ],
   "source": [
    "for i in '1234':\n",
    "    print(i)"
   ]
  },
  {
   "cell_type": "markdown",
   "id": "ded40d35-aba4-42da-9217-963dc23e0388",
   "metadata": {
    "id": "ded40d35-aba4-42da-9217-963dc23e0388"
   },
   "source": [
    "(예제4)"
   ]
  },
  {
   "cell_type": "code",
   "execution_count": 54,
   "id": "c4b7d27f-d997-4bf9-88e3-2f7037236f97",
   "metadata": {
    "id": "c4b7d27f-d997-4bf9-88e3-2f7037236f97",
    "outputId": "d9c708e4-bbb7-46f8-8f57-cf2261c7d6ad"
   },
   "outputs": [
    {
     "ename": "TypeError",
     "evalue": "'int' object is not iterable",
     "output_type": "error",
     "traceback": [
      "\u001b[0;31m---------------------------------------------------------------------------\u001b[0m",
      "\u001b[0;31mTypeError\u001b[0m                                 Traceback (most recent call last)",
      "\u001b[0;32m/tmp/ipykernel_2046213/2370651252.py\u001b[0m in \u001b[0;36m<module>\u001b[0;34m\u001b[0m\n\u001b[1;32m      1\u001b[0m \u001b[0ma\u001b[0m\u001b[0;34m=\u001b[0m\u001b[0;36m5\u001b[0m\u001b[0;34m\u001b[0m\u001b[0;34m\u001b[0m\u001b[0m\n\u001b[0;32m----> 2\u001b[0;31m \u001b[0;32mfor\u001b[0m \u001b[0mi\u001b[0m \u001b[0;32min\u001b[0m \u001b[0ma\u001b[0m\u001b[0;34m:\u001b[0m\u001b[0;34m\u001b[0m\u001b[0;34m\u001b[0m\u001b[0m\n\u001b[0m\u001b[1;32m      3\u001b[0m     \u001b[0mprint\u001b[0m\u001b[0;34m(\u001b[0m\u001b[0mi\u001b[0m\u001b[0;34m)\u001b[0m\u001b[0;34m\u001b[0m\u001b[0;34m\u001b[0m\u001b[0m\n",
      "\u001b[0;31mTypeError\u001b[0m: 'int' object is not iterable"
     ]
    }
   ],
   "source": [
    "a=5 \n",
    "for i in a:\n",
    "    print(i) "
   ]
  },
  {
   "cell_type": "markdown",
   "id": "5e79ad33-0c57-4264-be6d-c0ca185f3c6c",
   "metadata": {
    "id": "5e79ad33-0c57-4264-be6d-c0ca185f3c6c"
   },
   "source": [
    "- 5라고 출력되어야 하지 않나?"
   ]
  },
  {
   "cell_type": "markdown",
   "id": "c768040c-cd18-4dd6-846f-365de4ca7a68",
   "metadata": {
    "id": "c768040c-cd18-4dd6-846f-365de4ca7a68"
   },
   "source": [
    "`-` 의문1: \n",
    "\n",
    "```python\n",
    "for i in ???:\n",
    "    print(i)\n",
    "```\n",
    "\n",
    "에서 ??? 자리에 올수 있는 것이 무엇일까? "
   ]
  },
  {
   "cell_type": "markdown",
   "id": "39baa628-016c-4b90-9f39-47e519212983",
   "metadata": {
    "id": "39baa628-016c-4b90-9f39-47e519212983"
   },
   "source": [
    "(예제5)"
   ]
  },
  {
   "cell_type": "markdown",
   "id": "99656288-0025-4ffd-910b-15dabd1a52ba",
   "metadata": {
    "id": "99656288-0025-4ffd-910b-15dabd1a52ba"
   },
   "source": [
    "*상황1*"
   ]
  },
  {
   "cell_type": "code",
   "execution_count": 55,
   "id": "6c6956fe-8ad0-41db-98d0-5a48aed06808",
   "metadata": {
    "id": "6c6956fe-8ad0-41db-98d0-5a48aed06808",
    "outputId": "f5ec8bec-23df-4bba-8685-5833e5fb34ef"
   },
   "outputs": [
    {
     "name": "stdout",
     "output_type": "stream",
     "text": [
      "[1, 2, 3, 4]\n",
      "[3, 4, 5, 6]\n"
     ]
    }
   ],
   "source": [
    "lst = [[1,2,3,4],[3,4,5,6]]\n",
    "for l in lst: \n",
    "    print(l)"
   ]
  },
  {
   "cell_type": "markdown",
   "id": "21db51d8-d2c8-4699-997f-cf13e22aa3fd",
   "metadata": {
    "id": "21db51d8-d2c8-4699-997f-cf13e22aa3fd"
   },
   "source": [
    "*상황2*"
   ]
  },
  {
   "cell_type": "code",
   "execution_count": 56,
   "id": "55d06b01-219f-4503-94f5-dbd0445edf40",
   "metadata": {
    "id": "55d06b01-219f-4503-94f5-dbd0445edf40",
    "outputId": "15c38177-11a9-48ad-90b9-738945a8c366"
   },
   "outputs": [
    {
     "data": {
      "text/html": [
       "<div>\n",
       "<style scoped>\n",
       "    .dataframe tbody tr th:only-of-type {\n",
       "        vertical-align: middle;\n",
       "    }\n",
       "\n",
       "    .dataframe tbody tr th {\n",
       "        vertical-align: top;\n",
       "    }\n",
       "\n",
       "    .dataframe thead th {\n",
       "        text-align: right;\n",
       "    }\n",
       "</style>\n",
       "<table border=\"1\" class=\"dataframe\">\n",
       "  <thead>\n",
       "    <tr style=\"text-align: right;\">\n",
       "      <th></th>\n",
       "      <th>0</th>\n",
       "      <th>1</th>\n",
       "      <th>2</th>\n",
       "      <th>3</th>\n",
       "    </tr>\n",
       "  </thead>\n",
       "  <tbody>\n",
       "    <tr>\n",
       "      <th>0</th>\n",
       "      <td>1</td>\n",
       "      <td>2</td>\n",
       "      <td>3</td>\n",
       "      <td>4</td>\n",
       "    </tr>\n",
       "    <tr>\n",
       "      <th>1</th>\n",
       "      <td>3</td>\n",
       "      <td>4</td>\n",
       "      <td>5</td>\n",
       "      <td>6</td>\n",
       "    </tr>\n",
       "  </tbody>\n",
       "</table>\n",
       "</div>"
      ],
      "text/plain": [
       "   0  1  2  3\n",
       "0  1  2  3  4\n",
       "1  3  4  5  6"
      ]
     },
     "execution_count": 56,
     "metadata": {},
     "output_type": "execute_result"
    }
   ],
   "source": [
    "df=pd.DataFrame(lst)\n",
    "df"
   ]
  },
  {
   "cell_type": "code",
   "execution_count": 57,
   "id": "94ec8fac-f336-4da9-a885-4b51a80c274c",
   "metadata": {
    "id": "94ec8fac-f336-4da9-a885-4b51a80c274c",
    "outputId": "a1b47a96-2ed9-425b-b794-d2984a48e4e8"
   },
   "outputs": [
    {
     "name": "stdout",
     "output_type": "stream",
     "text": [
      "0\n",
      "1\n",
      "2\n",
      "3\n"
     ]
    }
   ],
   "source": [
    "for i in df:\n",
    "    print(i)"
   ]
  },
  {
   "cell_type": "markdown",
   "id": "a33305e7-5f29-42ac-b011-5dda092a2417",
   "metadata": {
    "id": "a33305e7-5f29-42ac-b011-5dda092a2417"
   },
   "source": [
    "칼럼이름들이 나오는것 같음 -> 확인해보자. "
   ]
  },
  {
   "cell_type": "code",
   "execution_count": 58,
   "id": "9715b7c0-3780-4316-a738-ff6da1db55d3",
   "metadata": {
    "id": "9715b7c0-3780-4316-a738-ff6da1db55d3",
    "outputId": "12e328f2-f10b-46f9-c229-9c6490f8dc7b"
   },
   "outputs": [
    {
     "data": {
      "text/html": [
       "<div>\n",
       "<style scoped>\n",
       "    .dataframe tbody tr th:only-of-type {\n",
       "        vertical-align: middle;\n",
       "    }\n",
       "\n",
       "    .dataframe tbody tr th {\n",
       "        vertical-align: top;\n",
       "    }\n",
       "\n",
       "    .dataframe thead th {\n",
       "        text-align: right;\n",
       "    }\n",
       "</style>\n",
       "<table border=\"1\" class=\"dataframe\">\n",
       "  <thead>\n",
       "    <tr style=\"text-align: right;\">\n",
       "      <th></th>\n",
       "      <th>X1</th>\n",
       "      <th>X2</th>\n",
       "      <th>X3</th>\n",
       "      <th>X4</th>\n",
       "    </tr>\n",
       "  </thead>\n",
       "  <tbody>\n",
       "    <tr>\n",
       "      <th>0</th>\n",
       "      <td>1</td>\n",
       "      <td>2</td>\n",
       "      <td>3</td>\n",
       "      <td>4</td>\n",
       "    </tr>\n",
       "    <tr>\n",
       "      <th>1</th>\n",
       "      <td>3</td>\n",
       "      <td>4</td>\n",
       "      <td>5</td>\n",
       "      <td>6</td>\n",
       "    </tr>\n",
       "  </tbody>\n",
       "</table>\n",
       "</div>"
      ],
      "text/plain": [
       "   X1  X2  X3  X4\n",
       "0   1   2   3   4\n",
       "1   3   4   5   6"
      ]
     },
     "execution_count": 58,
     "metadata": {},
     "output_type": "execute_result"
    }
   ],
   "source": [
    "df.columns = pd.Index(['X'+str(i) for i in range(1,5)])\n",
    "df"
   ]
  },
  {
   "cell_type": "code",
   "execution_count": 59,
   "id": "d4a613d4-9bc5-4998-8a4b-8dc03b6455fc",
   "metadata": {
    "id": "d4a613d4-9bc5-4998-8a4b-8dc03b6455fc",
    "outputId": "3c995ad7-36de-4186-8648-828effbfa9d1"
   },
   "outputs": [
    {
     "name": "stdout",
     "output_type": "stream",
     "text": [
      "X1\n",
      "X2\n",
      "X3\n",
      "X4\n"
     ]
    }
   ],
   "source": [
    "for i in df: \n",
    "    print(i) "
   ]
  },
  {
   "cell_type": "markdown",
   "id": "ae134aa7-e881-424e-bec5-3e3aed341010",
   "metadata": {
    "id": "ae134aa7-e881-424e-bec5-3e3aed341010"
   },
   "source": [
    "`-` 의문2: for의 출력결과는 어떻게 예측할 수 있을까?"
   ]
  },
  {
   "cell_type": "markdown",
   "id": "d237971a-1c99-4b80-aa58-ad04bbebed7c",
   "metadata": {
    "id": "d237971a-1c99-4b80-aa58-ad04bbebed7c"
   },
   "source": [
    "### for문의 동작원리 "
   ]
  },
  {
   "cell_type": "markdown",
   "id": "caa2cc0b-2a26-4f5e-975f-e4e8c556638a",
   "metadata": {
    "id": "caa2cc0b-2a26-4f5e-975f-e4e8c556638a"
   },
   "source": [
    "`-` 의문1의 해결: 아래의 ??? 자리에 올 수 있는 것은 dir()하여 `__iter__`가 있는 object이다. \n",
    "\n",
    "```python\n",
    "for i in ???:\n",
    "    print(i)\n",
    "```\n",
    "\n",
    "이러한 오브젝트를 iterable object라고 한다. "
   ]
  },
  {
   "cell_type": "markdown",
   "id": "1b21e6ae-1f20-4e17-a0bf-52b00b5b423b",
   "metadata": {
    "id": "1b21e6ae-1f20-4e17-a0bf-52b00b5b423b"
   },
   "source": [
    "`-` 확인 "
   ]
  },
  {
   "cell_type": "code",
   "execution_count": 60,
   "id": "1918793e-7000-4db2-a572-eaa880b7a407",
   "metadata": {
    "id": "1918793e-7000-4db2-a572-eaa880b7a407",
    "outputId": "8e7983cc-0f52-4686-e995-4ea71ba1280c"
   },
   "outputs": [
    {
     "data": {
      "text/plain": [
       "{'__iter__'}"
      ]
     },
     "execution_count": 60,
     "metadata": {},
     "output_type": "execute_result"
    }
   ],
   "source": [
    "a=[1,2,3] \n",
    "set(dir(a)) & {'__iter__'}"
   ]
  },
  {
   "cell_type": "code",
   "execution_count": 61,
   "id": "bf610b41-72bd-43c6-b1de-7355c3ecc65d",
   "metadata": {
    "id": "bf610b41-72bd-43c6-b1de-7355c3ecc65d",
    "outputId": "ea376500-dd26-4df5-9245-b547e87c943c"
   },
   "outputs": [
    {
     "data": {
      "text/plain": [
       "{'__iter__'}"
      ]
     },
     "execution_count": 61,
     "metadata": {},
     "output_type": "execute_result"
    }
   ],
   "source": [
    "a=1,2,3\n",
    "set(dir(a)) & {'__iter__'}"
   ]
  },
  {
   "cell_type": "code",
   "execution_count": 62,
   "id": "042f60fc-649c-4056-adcc-a6681b7dcf4b",
   "metadata": {
    "id": "042f60fc-649c-4056-adcc-a6681b7dcf4b",
    "outputId": "63a30428-8e49-489c-8e1c-c05f41e5a01e"
   },
   "outputs": [
    {
     "data": {
      "text/plain": [
       "{'__iter__'}"
      ]
     },
     "execution_count": 62,
     "metadata": {},
     "output_type": "execute_result"
    }
   ],
   "source": [
    "a='123'\n",
    "set(dir(a)) & {'__iter__'}"
   ]
  },
  {
   "cell_type": "code",
   "execution_count": 63,
   "id": "ae4cab8b-76bf-44be-97c6-7a9d2ccf322d",
   "metadata": {
    "id": "ae4cab8b-76bf-44be-97c6-7a9d2ccf322d",
    "outputId": "e3e24179-458d-4965-da44-9f4c3717ebc0"
   },
   "outputs": [
    {
     "data": {
      "text/plain": [
       "set()"
      ]
     },
     "execution_count": 63,
     "metadata": {},
     "output_type": "execute_result"
    }
   ],
   "source": [
    "a=5\n",
    "set(dir(a)) & {'__iter__'}"
   ]
  },
  {
   "cell_type": "markdown",
   "id": "89b47097-babc-4927-b600-b862b51aef3e",
   "metadata": {
    "id": "89b47097-babc-4927-b600-b862b51aef3e"
   },
   "source": [
    "- 예상대로 예제1~4에서는 int의 클래스의 instance만 `__iter__` 가 없다. "
   ]
  },
  {
   "cell_type": "markdown",
   "id": "5a85f4ab-845a-4229-8eca-860ade15579a",
   "metadata": {
    "id": "5a85f4ab-845a-4229-8eca-860ade15579a"
   },
   "source": [
    "`-` `__iter__`의 역할: iterable object를 iterator로 만들 수 있다!"
   ]
  },
  {
   "cell_type": "code",
   "execution_count": 65,
   "id": "167d3e5e-2d3c-410d-bad8-d5d12ad184fd",
   "metadata": {
    "id": "167d3e5e-2d3c-410d-bad8-d5d12ad184fd",
    "outputId": "e27f910a-e6db-408a-cee2-2ebfeb21ddea"
   },
   "outputs": [
    {
     "data": {
      "text/plain": [
       "[1, 2, 3]"
      ]
     },
     "execution_count": 65,
     "metadata": {},
     "output_type": "execute_result"
    }
   ],
   "source": [
    "lst = [1,2,3] \n",
    "lst "
   ]
  },
  {
   "cell_type": "code",
   "execution_count": 66,
   "id": "03c64f3a-eb40-4001-9121-264ada69ac15",
   "metadata": {
    "id": "03c64f3a-eb40-4001-9121-264ada69ac15",
    "outputId": "06439af7-5ea9-40dd-aff4-f81b3bb2fa6f"
   },
   "outputs": [
    {
     "data": {
      "text/plain": [
       "2"
      ]
     },
     "execution_count": 66,
     "metadata": {},
     "output_type": "execute_result"
    }
   ],
   "source": [
    "lst[1] # 충실한 리스트"
   ]
  },
  {
   "cell_type": "code",
   "execution_count": 67,
   "id": "93cfa0ec-8476-411e-8825-528cc7277608",
   "metadata": {
    "id": "93cfa0ec-8476-411e-8825-528cc7277608",
    "outputId": "e67ac67b-2f3a-43fb-c16b-657999eb9a67"
   },
   "outputs": [
    {
     "data": {
      "text/plain": [
       "<list_iterator at 0x7fdff23cf070>"
      ]
     },
     "execution_count": 67,
     "metadata": {},
     "output_type": "execute_result"
    }
   ],
   "source": [
    "ltor = iter(lst)\n",
    "#ltor = lst.__iter__() \n",
    "ltor"
   ]
  },
  {
   "cell_type": "code",
   "execution_count": 68,
   "id": "63b6d956-f0c2-4727-959e-6c0436503352",
   "metadata": {
    "id": "63b6d956-f0c2-4727-959e-6c0436503352",
    "outputId": "079ec95c-bda1-4166-fd58-8281028f0974"
   },
   "outputs": [
    {
     "ename": "TypeError",
     "evalue": "'list_iterator' object is not subscriptable",
     "output_type": "error",
     "traceback": [
      "\u001b[0;31m---------------------------------------------------------------------------\u001b[0m",
      "\u001b[0;31mTypeError\u001b[0m                                 Traceback (most recent call last)",
      "\u001b[0;32m/tmp/ipykernel_2046213/3608210670.py\u001b[0m in \u001b[0;36m<module>\u001b[0;34m\u001b[0m\n\u001b[0;32m----> 1\u001b[0;31m \u001b[0mltor\u001b[0m\u001b[0;34m[\u001b[0m\u001b[0;36m1\u001b[0m\u001b[0;34m]\u001b[0m \u001b[0;31m# 더이상 리스트가 아니다\u001b[0m\u001b[0;34m\u001b[0m\u001b[0;34m\u001b[0m\u001b[0m\n\u001b[0m",
      "\u001b[0;31mTypeError\u001b[0m: 'list_iterator' object is not subscriptable"
     ]
    }
   ],
   "source": [
    "ltor[1] # 더이상 리스트가 아니다"
   ]
  },
  {
   "cell_type": "code",
   "execution_count": 69,
   "id": "8a890a41-d070-4c31-b014-efb2e71b2fa6",
   "metadata": {
    "id": "8a890a41-d070-4c31-b014-efb2e71b2fa6",
    "outputId": "dea32bb9-6d11-42df-9cb5-6ae6f27b3eac"
   },
   "outputs": [
    {
     "data": {
      "text/plain": [
       "\u001b[0;31mType:\u001b[0m        list_iterator\n",
       "\u001b[0;31mString form:\u001b[0m <list_iterator object at 0x7fdff23cf070>\n",
       "\u001b[0;31mDocstring:\u001b[0m   <no docstring>\n"
      ]
     },
     "metadata": {},
     "output_type": "display_data"
    }
   ],
   "source": [
    "ltor?"
   ]
  },
  {
   "cell_type": "markdown",
   "id": "222573b7-f988-43d3-9db8-6e4ccd0c98f2",
   "metadata": {
    "id": "222573b7-f988-43d3-9db8-6e4ccd0c98f2"
   },
   "source": [
    "`-` iterator가 되면 무엇이 좋은가? -> 숨겨진 기능 `__next__`가 열린다. "
   ]
  },
  {
   "cell_type": "code",
   "execution_count": 70,
   "id": "dba689d7-04df-4bed-9ef3-0ecd7f7cd6c8",
   "metadata": {
    "id": "dba689d7-04df-4bed-9ef3-0ecd7f7cd6c8",
    "outputId": "cef3cf14-ab0d-43ab-e16f-8643498d7e8c"
   },
   "outputs": [
    {
     "data": {
      "text/plain": [
       "(set(), {'__next__'})"
      ]
     },
     "execution_count": 70,
     "metadata": {},
     "output_type": "execute_result"
    }
   ],
   "source": [
    "set(dir(lst)) & {'__next__'}, set(dir(ltor)) & {'__next__'}"
   ]
  },
  {
   "cell_type": "markdown",
   "id": "5295332e-840d-4556-a941-7e0e2403847e",
   "metadata": {
    "id": "5295332e-840d-4556-a941-7e0e2403847e"
   },
   "source": [
    "- lst에는 `__next__`가 없지만 ltor에는 있다!"
   ]
  },
  {
   "cell_type": "markdown",
   "id": "688c53eb-2a1a-420f-b7f0-ca5c848475df",
   "metadata": {
    "id": "688c53eb-2a1a-420f-b7f0-ca5c848475df"
   },
   "source": [
    "`-` 그래서 `__next__`의 기능은? -> 원소를 차례대로 꺼내준다 + 더 이상 꺼낼 원소가 없으면 StopIteration Error를 발생시킨다. "
   ]
  },
  {
   "cell_type": "code",
   "execution_count": 71,
   "id": "948e0e7d-b59c-442a-a180-eff40f1f0fae",
   "metadata": {
    "id": "948e0e7d-b59c-442a-a180-eff40f1f0fae",
    "outputId": "d607f2f5-6d4d-4ec2-b516-f38a72b9d97b"
   },
   "outputs": [
    {
     "data": {
      "text/plain": [
       "[1, 2, 3]"
      ]
     },
     "execution_count": 71,
     "metadata": {},
     "output_type": "execute_result"
    }
   ],
   "source": [
    "lst"
   ]
  },
  {
   "cell_type": "code",
   "execution_count": 72,
   "id": "b0ec41e5-5948-45de-8d29-ed637ef3f2c3",
   "metadata": {
    "id": "b0ec41e5-5948-45de-8d29-ed637ef3f2c3",
    "outputId": "b23cf95c-10cc-49c6-a161-45c933b0cdba"
   },
   "outputs": [
    {
     "data": {
      "text/plain": [
       "1"
      ]
     },
     "execution_count": 72,
     "metadata": {},
     "output_type": "execute_result"
    }
   ],
   "source": [
    "ltor.__next__() "
   ]
  },
  {
   "cell_type": "code",
   "execution_count": 73,
   "id": "0c2b9dfe-12d7-45d7-bd50-58510d200ef7",
   "metadata": {
    "id": "0c2b9dfe-12d7-45d7-bd50-58510d200ef7",
    "outputId": "11c779de-e205-49d2-a7dc-22d52790c44e"
   },
   "outputs": [
    {
     "data": {
      "text/plain": [
       "2"
      ]
     },
     "execution_count": 73,
     "metadata": {},
     "output_type": "execute_result"
    }
   ],
   "source": [
    "ltor.__next__() "
   ]
  },
  {
   "cell_type": "code",
   "execution_count": 74,
   "id": "164172a4-cc77-453b-ad9c-008531f8f2f5",
   "metadata": {
    "id": "164172a4-cc77-453b-ad9c-008531f8f2f5",
    "outputId": "0adf9eae-ce44-419b-d968-4a1d7f397b15"
   },
   "outputs": [
    {
     "data": {
      "text/plain": [
       "3"
      ]
     },
     "execution_count": 74,
     "metadata": {},
     "output_type": "execute_result"
    }
   ],
   "source": [
    "ltor.__next__() "
   ]
  },
  {
   "cell_type": "code",
   "execution_count": 75,
   "id": "8f308288-6c64-47b0-9f8a-ada563de9f46",
   "metadata": {
    "id": "8f308288-6c64-47b0-9f8a-ada563de9f46",
    "outputId": "02fea5fc-20ed-4122-bd33-651be68f45dc"
   },
   "outputs": [
    {
     "ename": "StopIteration",
     "evalue": "",
     "output_type": "error",
     "traceback": [
      "\u001b[0;31m---------------------------------------------------------------------------\u001b[0m",
      "\u001b[0;31mStopIteration\u001b[0m                             Traceback (most recent call last)",
      "\u001b[0;32m/tmp/ipykernel_2046213/190431829.py\u001b[0m in \u001b[0;36m<module>\u001b[0;34m\u001b[0m\n\u001b[0;32m----> 1\u001b[0;31m \u001b[0mltor\u001b[0m\u001b[0;34m.\u001b[0m\u001b[0m__next__\u001b[0m\u001b[0;34m(\u001b[0m\u001b[0;34m)\u001b[0m\u001b[0;34m\u001b[0m\u001b[0;34m\u001b[0m\u001b[0m\n\u001b[0m",
      "\u001b[0;31mStopIteration\u001b[0m: "
     ]
    }
   ],
   "source": [
    "ltor.__next__()"
   ]
  },
  {
   "cell_type": "markdown",
   "id": "772a8845-85df-4373-93ff-84590752b8f3",
   "metadata": {
    "id": "772a8845-85df-4373-93ff-84590752b8f3"
   },
   "source": [
    "`-` for문의 동작원리 \n",
    "\n",
    "```python\n",
    "for i in lst:\n",
    "    print(i)\n",
    "```\n",
    "\n",
    "(1) `lst.__iter__()` 혹은 `iter(lst)` 를 이용하여 lst를 iterator로 만든다. (iterable object를 iterator object로 만든다) \n",
    "\n",
    "(2) iterator에서 `.__next__()`함수를 호출하고 결과를 i에 저장한뒤에 for문 블락안에 있는 내용 (들여쓰기 된 내용)을 실행한다. -> 반복\n",
    "\n",
    "(3) StopIteration 에러가 발생하면 for문을 멈춘다. "
   ]
  },
  {
   "cell_type": "markdown",
   "id": "96cc15a4-bfb1-4b31-96e4-3347d60c75db",
   "metadata": {
    "id": "96cc15a4-bfb1-4b31-96e4-3347d60c75db"
   },
   "source": [
    "`-` 아래의 ??? 자리에 올 수 있는 것이 iterable object가 아니라 iterator 자체이여도 for문이 돌아갈까? (당연히 돌아가야 할 것 같음)\n",
    "\n",
    "\n",
    "```python\n",
    "for i in ???:\n",
    "    print(i)\n",
    "```"
   ]
  },
  {
   "cell_type": "code",
   "execution_count": 76,
   "id": "de5d081c-ce6e-4a87-b521-5a63a721ddf5",
   "metadata": {
    "id": "de5d081c-ce6e-4a87-b521-5a63a721ddf5",
    "outputId": "a438396f-2519-4209-8c85-797615a13bed"
   },
   "outputs": [
    {
     "name": "stdout",
     "output_type": "stream",
     "text": [
      "1\n",
      "2\n",
      "3\n"
     ]
    }
   ],
   "source": [
    "for i in iter([1,2,3]):\n",
    "    print(i)"
   ]
  },
  {
   "cell_type": "markdown",
   "id": "00060cfa-050a-4cb4-b125-9b84729b5d15",
   "metadata": {
    "id": "00060cfa-050a-4cb4-b125-9b84729b5d15"
   },
   "source": [
    "- 당연히가능!"
   ]
  },
  {
   "cell_type": "markdown",
   "id": "7738486b-0ae7-44b2-938a-4bbdb1e2fee2",
   "metadata": {
    "id": "7738486b-0ae7-44b2-938a-4bbdb1e2fee2"
   },
   "source": [
    "`-` a가 iterator일때 iter(a) 의 출력결과가 a와 같도록 조정한다면 for문의 동작원리 (1)-(3)을 수정하지 않아도 좋다. -> 실제로 이렇게 동작한다. "
   ]
  },
  {
   "cell_type": "markdown",
   "id": "03e5c4ca-2a3c-47cc-8093-2dc815287c87",
   "metadata": {
    "id": "03e5c4ca-2a3c-47cc-8093-2dc815287c87"
   },
   "source": [
    "`-` 요약\n",
    "- iterable object는 숨겨진 기능으로 `__iter__`를 가진다. \n",
    "- iterator object는 숨겨진 기능으로 `__iter__`와 `__next__`를 가진다. (즉 iterator는 그 자체로 iterable object가 된다!)"
   ]
  },
  {
   "cell_type": "code",
   "execution_count": 79,
   "id": "047c0bd1-e344-472d-a326-3081b686c69c",
   "metadata": {
    "id": "047c0bd1-e344-472d-a326-3081b686c69c"
   },
   "outputs": [],
   "source": [
    "lst = [1,2,3]\n",
    "ltor = iter(lst) "
   ]
  },
  {
   "cell_type": "code",
   "execution_count": 80,
   "id": "83cc288d-5b1a-4d72-8431-f8851ee035ac",
   "metadata": {
    "id": "83cc288d-5b1a-4d72-8431-f8851ee035ac",
    "outputId": "22a95552-f323-415b-9675-1f610549c05c"
   },
   "outputs": [
    {
     "data": {
      "text/plain": [
       "{'__iter__'}"
      ]
     },
     "execution_count": 80,
     "metadata": {},
     "output_type": "execute_result"
    }
   ],
   "source": [
    "set(dir(lst)) & {'__iter__', '__next__'}"
   ]
  },
  {
   "cell_type": "code",
   "execution_count": 81,
   "id": "3ee21197-0b90-4bc0-bbf5-f9f95389d571",
   "metadata": {
    "id": "3ee21197-0b90-4bc0-bbf5-f9f95389d571",
    "outputId": "f017e14e-d80d-41b6-9476-6422ccd340cd"
   },
   "outputs": [
    {
     "data": {
      "text/plain": [
       "{'__iter__', '__next__'}"
      ]
     },
     "execution_count": 81,
     "metadata": {},
     "output_type": "execute_result"
    }
   ],
   "source": [
    "set(dir(ltor)) & {'__iter__', '__next__'}"
   ]
  },
  {
   "cell_type": "markdown",
   "id": "e1c5978d-4d89-4746-8e9a-d2883a998d48",
   "metadata": {
    "id": "e1c5978d-4d89-4746-8e9a-d2883a998d48"
   },
   "source": [
    "`-` 의문2의 해결: for의 출력결과는 어떻게 예측할 수 있을까? iterator를 만들어서 `.__next__()`의 출력값을 확인하면 알 수 있다. "
   ]
  },
  {
   "cell_type": "code",
   "execution_count": 82,
   "id": "4372b25a-8549-4a5f-9758-a6b61bbac6de",
   "metadata": {
    "id": "4372b25a-8549-4a5f-9758-a6b61bbac6de",
    "outputId": "42b4bfcd-2951-4df4-daa2-393c1e44fb3c"
   },
   "outputs": [
    {
     "name": "stdout",
     "output_type": "stream",
     "text": [
      "X1\n",
      "X2\n",
      "X3\n",
      "X4\n"
     ]
    }
   ],
   "source": [
    "for i in df:\n",
    "    print(i)"
   ]
  },
  {
   "cell_type": "code",
   "execution_count": 83,
   "id": "914a2668-4ede-4086-8120-0e8086bb0105",
   "metadata": {
    "id": "914a2668-4ede-4086-8120-0e8086bb0105",
    "outputId": "bd91d3e1-1d94-4cf8-aaa0-f59a0eefd148"
   },
   "outputs": [
    {
     "data": {
      "text/plain": [
       "'X1'"
      ]
     },
     "execution_count": 83,
     "metadata": {},
     "output_type": "execute_result"
    }
   ],
   "source": [
    "dftor=iter(df)\n",
    "dftor.__next__()"
   ]
  },
  {
   "cell_type": "code",
   "execution_count": 84,
   "id": "d3ecc854-d968-4119-b5b3-d2792622ec4f",
   "metadata": {
    "id": "d3ecc854-d968-4119-b5b3-d2792622ec4f",
    "outputId": "7651c6e1-08f3-4be6-d43c-4323d7020a9f"
   },
   "outputs": [
    {
     "data": {
      "text/plain": [
       "'X2'"
      ]
     },
     "execution_count": 84,
     "metadata": {},
     "output_type": "execute_result"
    }
   ],
   "source": [
    "dftor.__next__()"
   ]
  },
  {
   "cell_type": "code",
   "execution_count": 85,
   "id": "84af5aa0-bef6-4f8f-af3a-5f022761241d",
   "metadata": {
    "id": "84af5aa0-bef6-4f8f-af3a-5f022761241d",
    "outputId": "cfa9f8cf-686d-4e7d-a0f5-7a6dac5f1411"
   },
   "outputs": [
    {
     "data": {
      "text/plain": [
       "'X3'"
      ]
     },
     "execution_count": 85,
     "metadata": {},
     "output_type": "execute_result"
    }
   ],
   "source": [
    "dftor.__next__()"
   ]
  },
  {
   "cell_type": "code",
   "execution_count": 86,
   "id": "8816805d-6409-4c7d-9b5f-ee3787297cba",
   "metadata": {
    "id": "8816805d-6409-4c7d-9b5f-ee3787297cba",
    "outputId": "6bab54d6-6ff5-48d9-ef81-4b5b82f26f66"
   },
   "outputs": [
    {
     "data": {
      "text/plain": [
       "'X4'"
      ]
     },
     "execution_count": 86,
     "metadata": {},
     "output_type": "execute_result"
    }
   ],
   "source": [
    "dftor.__next__()"
   ]
  },
  {
   "cell_type": "code",
   "execution_count": 87,
   "id": "056190e0-df99-4d3b-8572-5a36fb3f8b6d",
   "metadata": {
    "id": "056190e0-df99-4d3b-8572-5a36fb3f8b6d",
    "outputId": "b759ef01-5ab8-423b-89ec-95cfe9b06e79"
   },
   "outputs": [
    {
     "ename": "StopIteration",
     "evalue": "",
     "output_type": "error",
     "traceback": [
      "\u001b[0;31m---------------------------------------------------------------------------\u001b[0m",
      "\u001b[0;31mStopIteration\u001b[0m                             Traceback (most recent call last)",
      "\u001b[0;32m/tmp/ipykernel_2046213/2067653472.py\u001b[0m in \u001b[0;36m<module>\u001b[0;34m\u001b[0m\n\u001b[0;32m----> 1\u001b[0;31m \u001b[0mdftor\u001b[0m\u001b[0;34m.\u001b[0m\u001b[0m__next__\u001b[0m\u001b[0;34m(\u001b[0m\u001b[0;34m)\u001b[0m\u001b[0;34m\u001b[0m\u001b[0;34m\u001b[0m\u001b[0m\n\u001b[0m",
      "\u001b[0;31mStopIteration\u001b[0m: "
     ]
    }
   ],
   "source": [
    "dftor.__next__()"
   ]
  },
  {
   "cell_type": "markdown",
   "id": "3f2a7f95-5cfd-4e32-94ad-cb24ee6fc80c",
   "metadata": {
    "id": "3f2a7f95-5cfd-4e32-94ad-cb24ee6fc80c"
   },
   "source": [
    "### range()"
   ]
  },
  {
   "cell_type": "markdown",
   "id": "c1f7ef9e-31a1-45b7-85da-c9bb01ba7124",
   "metadata": {
    "id": "c1f7ef9e-31a1-45b7-85da-c9bb01ba7124"
   },
   "source": [
    "`-` 파이썬에서 for문을 처음 배울 때: range(5)를 써라!"
   ]
  },
  {
   "cell_type": "code",
   "execution_count": 88,
   "id": "854c130d-50f2-4359-81d2-400455d0ed42",
   "metadata": {
    "id": "854c130d-50f2-4359-81d2-400455d0ed42",
    "outputId": "a059934c-9a4e-4de4-8cb5-5b6a6313143c"
   },
   "outputs": [
    {
     "name": "stdout",
     "output_type": "stream",
     "text": [
      "0\n",
      "1\n",
      "2\n",
      "3\n",
      "4\n"
     ]
    }
   ],
   "source": [
    "for i in range(5):\n",
    "    print(i)"
   ]
  },
  {
   "cell_type": "markdown",
   "id": "492cbb83-77dd-479b-867e-e7bf5fac2d9b",
   "metadata": {
    "id": "492cbb83-77dd-479b-867e-e7bf5fac2d9b"
   },
   "source": [
    "- range(5)가 도데체 무엇이길래? "
   ]
  },
  {
   "cell_type": "markdown",
   "id": "d49ec3aa-c710-439e-9e3d-9465fc8149df",
   "metadata": {
    "id": "d49ec3aa-c710-439e-9e3d-9465fc8149df"
   },
   "source": [
    "`-` `range(5)`의 정체는 그냥 iterable object이다. "
   ]
  },
  {
   "cell_type": "code",
   "execution_count": 89,
   "id": "935d2d16-2558-4eed-a50c-fc32709c5649",
   "metadata": {
    "id": "935d2d16-2558-4eed-a50c-fc32709c5649",
    "outputId": "daadcd66-3e54-4f1b-d0fe-7ec5ba41b6e4"
   },
   "outputs": [
    {
     "data": {
      "text/plain": [
       "{'__iter__'}"
      ]
     },
     "execution_count": 89,
     "metadata": {},
     "output_type": "execute_result"
    }
   ],
   "source": [
    "set(dir(range(5))) & {'__iter__','__next__'}"
   ]
  },
  {
   "cell_type": "markdown",
   "id": "958809bc-fd7c-4028-85b8-c2bf003d0f4b",
   "metadata": {
    "id": "958809bc-fd7c-4028-85b8-c2bf003d0f4b"
   },
   "source": [
    "`-` 그래서 언제든지 iterator로 바꿀 수 있다. "
   ]
  },
  {
   "cell_type": "code",
   "execution_count": 90,
   "id": "b7dd4661-e1d8-4b48-96ae-8ddb1aaf9298",
   "metadata": {
    "id": "b7dd4661-e1d8-4b48-96ae-8ddb1aaf9298",
    "outputId": "47f3df41-5171-44d0-e2c2-0b01cf31d8ee"
   },
   "outputs": [
    {
     "data": {
      "text/plain": [
       "<range_iterator at 0x7fdff23aec00>"
      ]
     },
     "execution_count": 90,
     "metadata": {},
     "output_type": "execute_result"
    }
   ],
   "source": [
    "rtor= iter(range(5))\n",
    "rtor"
   ]
  },
  {
   "cell_type": "code",
   "execution_count": 91,
   "id": "5d2069a6-43ce-4776-b21f-5ca51c09b953",
   "metadata": {
    "id": "5d2069a6-43ce-4776-b21f-5ca51c09b953",
    "outputId": "25f5070c-91bc-42ce-8ce0-1660311fd267"
   },
   "outputs": [
    {
     "data": {
      "text/plain": [
       "{'__iter__', '__next__'}"
      ]
     },
     "execution_count": 91,
     "metadata": {},
     "output_type": "execute_result"
    }
   ],
   "source": [
    "set(dir(rtor)) &  {'__iter__','__next__'}"
   ]
  },
  {
   "cell_type": "markdown",
   "id": "0b8be6a3-8ce2-4e4c-ad96-b107ff847617",
   "metadata": {
    "id": "0b8be6a3-8ce2-4e4c-ad96-b107ff847617"
   },
   "source": [
    "`-` for문에서 range(5)가 행동하는 방법? "
   ]
  },
  {
   "cell_type": "code",
   "execution_count": 92,
   "id": "8022ca1a-f77f-49e6-b36b-d7bef6e19f12",
   "metadata": {
    "id": "8022ca1a-f77f-49e6-b36b-d7bef6e19f12"
   },
   "outputs": [],
   "source": [
    "rtor = iter(range(5))"
   ]
  },
  {
   "cell_type": "code",
   "execution_count": 93,
   "id": "ff50ba82-0a54-416b-a115-584c6810f613",
   "metadata": {
    "id": "ff50ba82-0a54-416b-a115-584c6810f613",
    "outputId": "bc58a248-f2dc-467f-c9cd-9b74079abc47"
   },
   "outputs": [
    {
     "data": {
      "text/plain": [
       "0"
      ]
     },
     "execution_count": 93,
     "metadata": {},
     "output_type": "execute_result"
    }
   ],
   "source": [
    "rtor.__next__()"
   ]
  },
  {
   "cell_type": "code",
   "execution_count": 94,
   "id": "87bc00ee-4673-4658-bd4d-3f99accfe37a",
   "metadata": {
    "id": "87bc00ee-4673-4658-bd4d-3f99accfe37a",
    "outputId": "f2247a95-e0df-4154-ea36-f824752a9e95"
   },
   "outputs": [
    {
     "data": {
      "text/plain": [
       "1"
      ]
     },
     "execution_count": 94,
     "metadata": {},
     "output_type": "execute_result"
    }
   ],
   "source": [
    "rtor.__next__()"
   ]
  },
  {
   "cell_type": "code",
   "execution_count": 95,
   "id": "b51389e9-1760-4fa1-8ba7-49358835fc7c",
   "metadata": {
    "id": "b51389e9-1760-4fa1-8ba7-49358835fc7c",
    "outputId": "7f84fed2-f196-45b8-f179-32b33b3566ec"
   },
   "outputs": [
    {
     "data": {
      "text/plain": [
       "2"
      ]
     },
     "execution_count": 95,
     "metadata": {},
     "output_type": "execute_result"
    }
   ],
   "source": [
    "rtor.__next__()"
   ]
  },
  {
   "cell_type": "code",
   "execution_count": 96,
   "id": "d59ca90b-2916-474d-8696-8d0dc8080920",
   "metadata": {
    "id": "d59ca90b-2916-474d-8696-8d0dc8080920",
    "outputId": "521ad019-2fd5-41f2-b322-57c01f8c78e9"
   },
   "outputs": [
    {
     "data": {
      "text/plain": [
       "3"
      ]
     },
     "execution_count": 96,
     "metadata": {},
     "output_type": "execute_result"
    }
   ],
   "source": [
    "rtor.__next__()"
   ]
  },
  {
   "cell_type": "code",
   "execution_count": 97,
   "id": "ccebd2c3-f4d4-4b57-a357-bb2b1db40951",
   "metadata": {
    "id": "ccebd2c3-f4d4-4b57-a357-bb2b1db40951",
    "outputId": "cff02c68-5ab4-4c5a-ae38-4642b288dbf7"
   },
   "outputs": [
    {
     "data": {
      "text/plain": [
       "4"
      ]
     },
     "execution_count": 97,
     "metadata": {},
     "output_type": "execute_result"
    }
   ],
   "source": [
    "rtor.__next__()"
   ]
  },
  {
   "cell_type": "code",
   "execution_count": 98,
   "id": "fc31c2c7-0a72-4ddd-9736-eebf2f6c5086",
   "metadata": {
    "id": "fc31c2c7-0a72-4ddd-9736-eebf2f6c5086",
    "outputId": "accc0fbf-8df1-4a90-eb35-67d48aacf35b"
   },
   "outputs": [
    {
     "ename": "StopIteration",
     "evalue": "",
     "output_type": "error",
     "traceback": [
      "\u001b[0;31m---------------------------------------------------------------------------\u001b[0m",
      "\u001b[0;31mStopIteration\u001b[0m                             Traceback (most recent call last)",
      "\u001b[0;32m/tmp/ipykernel_2046213/1496931225.py\u001b[0m in \u001b[0;36m<module>\u001b[0;34m\u001b[0m\n\u001b[0;32m----> 1\u001b[0;31m \u001b[0mrtor\u001b[0m\u001b[0;34m.\u001b[0m\u001b[0m__next__\u001b[0m\u001b[0;34m(\u001b[0m\u001b[0;34m)\u001b[0m\u001b[0;34m\u001b[0m\u001b[0;34m\u001b[0m\u001b[0m\n\u001b[0m",
      "\u001b[0;31mStopIteration\u001b[0m: "
     ]
    }
   ],
   "source": [
    "rtor.__next__()"
   ]
  },
  {
   "cell_type": "markdown",
   "id": "9c71573e-37ad-4113-ad80-112b7b2ed369",
   "metadata": {
    "id": "9c71573e-37ad-4113-ad80-112b7b2ed369"
   },
   "source": [
    "### zip "
   ]
  },
  {
   "cell_type": "markdown",
   "id": "c26c7538-af57-49e9-bc5f-89c3870d9536",
   "metadata": {
    "id": "c26c7538-af57-49e9-bc5f-89c3870d9536"
   },
   "source": [
    "`-` 이터레이터의 개념을 알면 for문에 대한 이해도가 대폭 상승한다. "
   ]
  },
  {
   "cell_type": "code",
   "execution_count": 99,
   "id": "0449442d-7aac-4e7e-a365-7f3863fc6663",
   "metadata": {
    "id": "0449442d-7aac-4e7e-a365-7f3863fc6663",
    "outputId": "19b83e27-43a9-4178-8199-68885be31287"
   },
   "outputs": [
    {
     "name": "stdout",
     "output_type": "stream",
     "text": [
      "(1, 'a')\n",
      "(2, 'b')\n",
      "(3, 'c')\n"
     ]
    }
   ],
   "source": [
    "for i in zip([1,2,3],'abc'):\n",
    "    print(i)"
   ]
  },
  {
   "cell_type": "markdown",
   "id": "848c6723-2431-4a91-bf6a-71eb2678220b",
   "metadata": {
    "id": "848c6723-2431-4a91-bf6a-71eb2678220b"
   },
   "source": [
    "- zip은 뭐지?"
   ]
  },
  {
   "cell_type": "code",
   "execution_count": 100,
   "id": "d237d50d-dea1-4a46-944a-0ea8db29ebf1",
   "metadata": {
    "id": "d237d50d-dea1-4a46-944a-0ea8db29ebf1",
    "outputId": "e635cefa-95eb-4e93-e4f9-7ff8f7476d35"
   },
   "outputs": [
    {
     "data": {
      "text/plain": [
       "<zip at 0x7fdff2359bc0>"
      ]
     },
     "execution_count": 100,
     "metadata": {},
     "output_type": "execute_result"
    }
   ],
   "source": [
    "zip([1,2,3],'abc')"
   ]
  },
  {
   "cell_type": "markdown",
   "id": "09ca740f-bdfc-4537-bd2a-20702357d286",
   "metadata": {
    "id": "09ca740f-bdfc-4537-bd2a-20702357d286"
   },
   "source": [
    "`-` 어차피 `for i in ????`: 의 ???? 자리는 iterable object의 자리이다. "
   ]
  },
  {
   "cell_type": "code",
   "execution_count": 101,
   "id": "6918b78e-5d2a-496d-8d5b-1b818506bbe2",
   "metadata": {
    "id": "6918b78e-5d2a-496d-8d5b-1b818506bbe2",
    "outputId": "db39f8ef-c506-4947-8b2c-004d60232930"
   },
   "outputs": [
    {
     "data": {
      "text/plain": [
       "{'__iter__', '__next__'}"
      ]
     },
     "execution_count": 101,
     "metadata": {},
     "output_type": "execute_result"
    }
   ],
   "source": [
    "set(dir(zip([1,2,3],'abc'))) & {'__iter__','__next__'}"
   ]
  },
  {
   "cell_type": "markdown",
   "id": "efa3a85e-12ca-4ed6-aed1-1d1ad34b3405",
   "metadata": {
    "id": "efa3a85e-12ca-4ed6-aed1-1d1ad34b3405"
   },
   "source": [
    "- `__next__()`함수가 있음 $\\to$ `zip([1,2,3],'abc')`은 그자체로 iterator 였다!"
   ]
  },
  {
   "cell_type": "code",
   "execution_count": 102,
   "id": "72688cd7-eac5-4edf-ae72-10f204064284",
   "metadata": {
    "id": "72688cd7-eac5-4edf-ae72-10f204064284"
   },
   "outputs": [],
   "source": [
    "z= zip([1,2,3],'abc')"
   ]
  },
  {
   "cell_type": "code",
   "execution_count": 103,
   "id": "ad0a9787-113b-47e9-a724-c602db3774a9",
   "metadata": {
    "id": "ad0a9787-113b-47e9-a724-c602db3774a9",
    "outputId": "c1e319d9-7a8b-4dfa-8b09-ed30b677f1de"
   },
   "outputs": [
    {
     "data": {
      "text/plain": [
       "(1, 'a')"
      ]
     },
     "execution_count": 103,
     "metadata": {},
     "output_type": "execute_result"
    }
   ],
   "source": [
    "z.__next__()"
   ]
  },
  {
   "cell_type": "code",
   "execution_count": 104,
   "id": "679f6962-8dd9-47f5-955c-882d48de30cd",
   "metadata": {
    "id": "679f6962-8dd9-47f5-955c-882d48de30cd",
    "outputId": "dbc13464-6391-4771-fe26-378bbf8cd497"
   },
   "outputs": [
    {
     "data": {
      "text/plain": [
       "(2, 'b')"
      ]
     },
     "execution_count": 104,
     "metadata": {},
     "output_type": "execute_result"
    }
   ],
   "source": [
    "z.__next__()"
   ]
  },
  {
   "cell_type": "code",
   "execution_count": 105,
   "id": "998a6c69-1480-4aca-a34a-417b45188df6",
   "metadata": {
    "id": "998a6c69-1480-4aca-a34a-417b45188df6",
    "outputId": "882b0df9-ac9a-45bc-d841-65fe7427936c"
   },
   "outputs": [
    {
     "data": {
      "text/plain": [
       "(3, 'c')"
      ]
     },
     "execution_count": 105,
     "metadata": {},
     "output_type": "execute_result"
    }
   ],
   "source": [
    "z.__next__()"
   ]
  },
  {
   "cell_type": "code",
   "execution_count": 106,
   "id": "a119cb06-3997-4d2b-86c8-07fd929a8f18",
   "metadata": {
    "id": "a119cb06-3997-4d2b-86c8-07fd929a8f18",
    "outputId": "8e7183f6-e71c-4ab0-d7c7-7ead336aad0d"
   },
   "outputs": [
    {
     "ename": "StopIteration",
     "evalue": "",
     "output_type": "error",
     "traceback": [
      "\u001b[0;31m---------------------------------------------------------------------------\u001b[0m",
      "\u001b[0;31mStopIteration\u001b[0m                             Traceback (most recent call last)",
      "\u001b[0;32m/tmp/ipykernel_2046213/4267025455.py\u001b[0m in \u001b[0;36m<module>\u001b[0;34m\u001b[0m\n\u001b[0;32m----> 1\u001b[0;31m \u001b[0mz\u001b[0m\u001b[0;34m.\u001b[0m\u001b[0m__next__\u001b[0m\u001b[0;34m(\u001b[0m\u001b[0;34m)\u001b[0m\u001b[0;34m\u001b[0m\u001b[0;34m\u001b[0m\u001b[0m\n\u001b[0m",
      "\u001b[0;31mStopIteration\u001b[0m: "
     ]
    }
   ],
   "source": [
    "z.__next__()"
   ]
  },
  {
   "cell_type": "markdown",
   "id": "dd6d89e2-7d75-4c8c-9257-11dbd0ffc087",
   "metadata": {
    "id": "dd6d89e2-7d75-4c8c-9257-11dbd0ffc087"
   },
   "source": [
    "### 사용자정의 이터레이터"
   ]
  },
  {
   "cell_type": "markdown",
   "id": "c7e908a4-0efa-4e17-8ee7-58f0e5ddc107",
   "metadata": {
    "id": "c7e908a4-0efa-4e17-8ee7-58f0e5ddc107"
   },
   "source": [
    "`-` 내가 이터레이터를 만들어보자. "
   ]
  },
  {
   "cell_type": "code",
   "execution_count": 107,
   "id": "ad1b7ef5-ddfd-4585-aafb-d094e1b03ec1",
   "metadata": {
    "id": "ad1b7ef5-ddfd-4585-aafb-d094e1b03ec1"
   },
   "outputs": [],
   "source": [
    "class Klass: # 찌를 내는순간 for문이 멈추도록 하는 이터레이터를 만들자\n",
    "    def __init__(self): \n",
    "        self.candidate = [\"묵\",\"찌\",\"빠\"] \n",
    "    def __iter__(self):\n",
    "        return self \n",
    "    def __next__(self):\n",
    "        action = np.random.choice(self.candidate)\n",
    "        if action == \"찌\":\n",
    "            print(\"찌가 나와서 for문을 멈춥니다\")\n",
    "            raise StopIteration\n",
    "        else:\n",
    "            return action"
   ]
  },
  {
   "cell_type": "code",
   "execution_count": 117,
   "id": "11fea581-b1c8-4ea3-bf2b-f6a0a989d18d",
   "metadata": {
    "id": "11fea581-b1c8-4ea3-bf2b-f6a0a989d18d"
   },
   "outputs": [],
   "source": [
    "a= Klass()"
   ]
  },
  {
   "cell_type": "code",
   "execution_count": 118,
   "id": "642d8765-ec84-4e4b-bb18-4b344e030b97",
   "metadata": {
    "id": "642d8765-ec84-4e4b-bb18-4b344e030b97",
    "outputId": "a93c7c4c-aaab-498b-81be-f8b1b9dca17d"
   },
   "outputs": [
    {
     "data": {
      "text/plain": [
       "{'__iter__', '__next__'}"
      ]
     },
     "execution_count": 118,
     "metadata": {},
     "output_type": "execute_result"
    }
   ],
   "source": [
    "set(dir(a)) & {'__iter__', '__next__'} # a는 이터레이터!"
   ]
  },
  {
   "cell_type": "code",
   "execution_count": 124,
   "id": "8176c2b5-ed43-494b-9cfb-277cbbe45f04",
   "metadata": {
    "id": "8176c2b5-ed43-494b-9cfb-277cbbe45f04",
    "outputId": "cad5a57f-f5d3-443a-d839-c658442f14bb"
   },
   "outputs": [
    {
     "data": {
      "text/plain": [
       "'빠'"
      ]
     },
     "execution_count": 124,
     "metadata": {},
     "output_type": "execute_result"
    }
   ],
   "source": [
    "a.__next__()"
   ]
  },
  {
   "cell_type": "code",
   "execution_count": 125,
   "id": "d2a20d5b-79f9-4853-b34c-a70a291b3efb",
   "metadata": {
    "id": "d2a20d5b-79f9-4853-b34c-a70a291b3efb",
    "outputId": "390cf4e5-d561-42b0-c245-998b8d0b487c"
   },
   "outputs": [
    {
     "data": {
      "text/plain": [
       "'빠'"
      ]
     },
     "execution_count": 125,
     "metadata": {},
     "output_type": "execute_result"
    }
   ],
   "source": [
    "a.__next__()"
   ]
  },
  {
   "cell_type": "code",
   "execution_count": 126,
   "id": "0cb421aa-b6a2-4eb9-9662-5ebc8e043473",
   "metadata": {
    "id": "0cb421aa-b6a2-4eb9-9662-5ebc8e043473",
    "outputId": "0444b246-5729-4557-befa-68d3a4a5c4ed"
   },
   "outputs": [
    {
     "name": "stdout",
     "output_type": "stream",
     "text": [
      "찌가 나와서 for문을 멈춥니다\n"
     ]
    },
    {
     "ename": "StopIteration",
     "evalue": "",
     "output_type": "error",
     "traceback": [
      "\u001b[0;31m---------------------------------------------------------------------------\u001b[0m",
      "\u001b[0;31mStopIteration\u001b[0m                             Traceback (most recent call last)",
      "\u001b[0;32m/tmp/ipykernel_2046213/1464353201.py\u001b[0m in \u001b[0;36m<module>\u001b[0;34m\u001b[0m\n\u001b[0;32m----> 1\u001b[0;31m \u001b[0ma\u001b[0m\u001b[0;34m.\u001b[0m\u001b[0m__next__\u001b[0m\u001b[0;34m(\u001b[0m\u001b[0;34m)\u001b[0m\u001b[0;34m\u001b[0m\u001b[0;34m\u001b[0m\u001b[0m\n\u001b[0m",
      "\u001b[0;32m/tmp/ipykernel_2046213/2569486800.py\u001b[0m in \u001b[0;36m__next__\u001b[0;34m(self)\u001b[0m\n\u001b[1;32m      8\u001b[0m         \u001b[0;32mif\u001b[0m \u001b[0maction\u001b[0m \u001b[0;34m==\u001b[0m \u001b[0;34m\"찌\"\u001b[0m\u001b[0;34m:\u001b[0m\u001b[0;34m\u001b[0m\u001b[0;34m\u001b[0m\u001b[0m\n\u001b[1;32m      9\u001b[0m             \u001b[0mprint\u001b[0m\u001b[0;34m(\u001b[0m\u001b[0;34m\"찌가 나와서 for문을 멈춥니다\"\u001b[0m\u001b[0;34m)\u001b[0m\u001b[0;34m\u001b[0m\u001b[0;34m\u001b[0m\u001b[0m\n\u001b[0;32m---> 10\u001b[0;31m             \u001b[0;32mraise\u001b[0m \u001b[0mStopIteration\u001b[0m\u001b[0;34m\u001b[0m\u001b[0;34m\u001b[0m\u001b[0m\n\u001b[0m\u001b[1;32m     11\u001b[0m         \u001b[0;32melse\u001b[0m\u001b[0;34m:\u001b[0m\u001b[0;34m\u001b[0m\u001b[0;34m\u001b[0m\u001b[0m\n\u001b[1;32m     12\u001b[0m             \u001b[0;32mreturn\u001b[0m \u001b[0maction\u001b[0m\u001b[0;34m\u001b[0m\u001b[0;34m\u001b[0m\u001b[0m\n",
      "\u001b[0;31mStopIteration\u001b[0m: "
     ]
    }
   ],
   "source": [
    "a.__next__()"
   ]
  },
  {
   "cell_type": "code",
   "execution_count": 127,
   "id": "a86efc82-2bc9-44b4-8548-f3e786439175",
   "metadata": {
    "id": "a86efc82-2bc9-44b4-8548-f3e786439175",
    "outputId": "3a606851-bb15-4e3a-d72a-6c74305b67f0"
   },
   "outputs": [
    {
     "data": {
      "text/plain": [
       "'묵'"
      ]
     },
     "execution_count": 127,
     "metadata": {},
     "output_type": "execute_result"
    }
   ],
   "source": [
    "a.__next__()"
   ]
  },
  {
   "cell_type": "code",
   "execution_count": 131,
   "id": "dc13d516-45b1-4c67-b54f-4b4691acbd87",
   "metadata": {
    "id": "dc13d516-45b1-4c67-b54f-4b4691acbd87",
    "outputId": "75289f4a-0c7a-449f-e6e1-957a270546fe"
   },
   "outputs": [
    {
     "name": "stdout",
     "output_type": "stream",
     "text": [
      "빠\n",
      "묵\n",
      "묵\n",
      "묵\n",
      "빠\n",
      "찌가 나와서 for문을 멈춥니다\n"
     ]
    }
   ],
   "source": [
    "for i in a:\n",
    "    print(i)"
   ]
  },
  {
   "cell_type": "markdown",
   "id": "07f9296a-ad24-486f-bb30-1bfbab3b55d5",
   "metadata": {
    "id": "07f9296a-ad24-486f-bb30-1bfbab3b55d5"
   },
   "source": [
    "### 파이썬의 비밀 1~5"
   ]
  },
  {
   "cell_type": "markdown",
   "id": "b6315cbd-1d06-4480-9cd9-a7fad010e1c9",
   "metadata": {
    "id": "b6315cbd-1d06-4480-9cd9-a7fad010e1c9"
   },
   "source": [
    "- 파이썬의 비밀1: 자료형은 클래스의 이름이다. \n",
    "- 파이썬의 비밀2: 클래스에는 `__str__`처럼 숨겨진 메서드가 존재한다. 이를 이용하여 파이썬 내부의 기능을 가로챌 수 있다. \n",
    "- 파이썬의 비밀3: 주피터노트북에서는 \"오브젝트이름+엔터\"를 쳐서 나오는 출력은 `__repr__`로 가로챌 수 있따. (주피터의 비밀) \n",
    "- 파이썬의 비밀4: 함수와 클래스는 숨겨진 메소드에 `__call__`을 가진 오브젝트일 뿐이다. \n",
    "- 파이썬의 비밀5: for문의 비밀 (iterable object, iterator, StopIteration Error)"
   ]
  },
  {
   "cell_type": "markdown",
   "id": "ab41c776-dba5-472a-a875-303340095f5d",
   "metadata": {
    "id": "ab41c776-dba5-472a-a875-303340095f5d"
   },
   "source": [
    "## 클래스공부 9단계 "
   ]
  },
  {
   "cell_type": "markdown",
   "id": "dd7e355c-533f-4e9c-9ec3-5143923b63a0",
   "metadata": {
    "id": "dd7e355c-533f-4e9c-9ec3-5143923b63a0"
   },
   "source": [
    "### 예비학습 (변수의 범위)"
   ]
  },
  {
   "cell_type": "markdown",
   "id": "c8ab0e3a-9f50-4f55-9aaa-0c0536b175d2",
   "metadata": {
    "id": "c8ab0e3a-9f50-4f55-9aaa-0c0536b175d2"
   },
   "source": [
    "**커널을 재시작하고 아래를 관찰하자**"
   ]
  },
  {
   "cell_type": "markdown",
   "id": "6e12709a-765d-4446-b911-f7500aa301fd",
   "metadata": {
    "id": "6e12709a-765d-4446-b911-f7500aa301fd"
   },
   "source": [
    "**예제1**"
   ]
  },
  {
   "cell_type": "markdown",
   "id": "3455a3aa-7d2c-44a9-9944-ab021c027dd2",
   "metadata": {
    "id": "3455a3aa-7d2c-44a9-9944-ab021c027dd2"
   },
   "source": [
    "`-` 관찰1: 함수내의변수 출력 "
   ]
  },
  {
   "cell_type": "code",
   "execution_count": 2,
   "id": "d66fc562-133c-4db7-91d4-5e586b410e82",
   "metadata": {
    "id": "d66fc562-133c-4db7-91d4-5e586b410e82"
   },
   "outputs": [],
   "source": [
    "def f():\n",
    "    x=10 \n",
    "    print(x)"
   ]
  },
  {
   "cell_type": "code",
   "execution_count": 3,
   "id": "14e51a05-d94c-47d1-aa6c-163c5a9d43cf",
   "metadata": {
    "id": "14e51a05-d94c-47d1-aa6c-163c5a9d43cf",
    "outputId": "616ee860-3090-410e-d938-e6b7dbca78cb"
   },
   "outputs": [
    {
     "name": "stdout",
     "output_type": "stream",
     "text": [
      "10\n"
     ]
    }
   ],
   "source": [
    "f()"
   ]
  },
  {
   "cell_type": "markdown",
   "id": "cb8b173a-dbba-40e6-8c4a-33e4e0145976",
   "metadata": {
    "id": "cb8b173a-dbba-40e6-8c4a-33e4e0145976"
   },
   "source": [
    "`-` 관찰2: 함수내의 변수가 없을 경우 출력이 되지 않음 "
   ]
  },
  {
   "cell_type": "code",
   "execution_count": 4,
   "id": "de9fab3d-a5e7-487c-b2fa-15ace98f54e0",
   "metadata": {
    "id": "de9fab3d-a5e7-487c-b2fa-15ace98f54e0"
   },
   "outputs": [],
   "source": [
    "def g():\n",
    "    print(x)"
   ]
  },
  {
   "cell_type": "code",
   "execution_count": 5,
   "id": "0bf00389-366b-46e5-ae51-8bd5309ee8ad",
   "metadata": {
    "id": "0bf00389-366b-46e5-ae51-8bd5309ee8ad",
    "outputId": "fc0c0467-e8f8-4a35-fa66-69dd9aaf8de5"
   },
   "outputs": [
    {
     "ename": "NameError",
     "evalue": "name 'x' is not defined",
     "output_type": "error",
     "traceback": [
      "\u001b[0;31m---------------------------------------------------------------------------\u001b[0m",
      "\u001b[0;31mNameError\u001b[0m                                 Traceback (most recent call last)",
      "\u001b[0;32m/tmp/ipykernel_2090322/258099874.py\u001b[0m in \u001b[0;36m<module>\u001b[0;34m\u001b[0m\n\u001b[0;32m----> 1\u001b[0;31m \u001b[0mg\u001b[0m\u001b[0;34m(\u001b[0m\u001b[0;34m)\u001b[0m\u001b[0;34m\u001b[0m\u001b[0;34m\u001b[0m\u001b[0m\n\u001b[0m",
      "\u001b[0;32m/tmp/ipykernel_2090322/1814961753.py\u001b[0m in \u001b[0;36mg\u001b[0;34m()\u001b[0m\n\u001b[1;32m      1\u001b[0m \u001b[0;32mdef\u001b[0m \u001b[0mg\u001b[0m\u001b[0;34m(\u001b[0m\u001b[0;34m)\u001b[0m\u001b[0;34m:\u001b[0m\u001b[0;34m\u001b[0m\u001b[0;34m\u001b[0m\u001b[0m\n\u001b[0;32m----> 2\u001b[0;31m     \u001b[0mprint\u001b[0m\u001b[0;34m(\u001b[0m\u001b[0mx\u001b[0m\u001b[0;34m)\u001b[0m\u001b[0;34m\u001b[0m\u001b[0;34m\u001b[0m\u001b[0m\n\u001b[0m",
      "\u001b[0;31mNameError\u001b[0m: name 'x' is not defined"
     ]
    }
   ],
   "source": [
    "g()"
   ]
  },
  {
   "cell_type": "markdown",
   "id": "396591ed-1104-4176-b394-68e5a38e74f1",
   "metadata": {
    "id": "396591ed-1104-4176-b394-68e5a38e74f1"
   },
   "source": [
    "`-` 관찰3: 동일한 이름의 변수가 globald에 있다면 함수내에 (local에) 그 이름의 변수가 선언되지 않아도 global의 변수를 빌려서 사용함 "
   ]
  },
  {
   "cell_type": "code",
   "execution_count": 6,
   "id": "7321bfb5-9479-4e35-b78d-5de813474030",
   "metadata": {
    "id": "7321bfb5-9479-4e35-b78d-5de813474030"
   },
   "outputs": [],
   "source": [
    "x=20 \n",
    "def g():\n",
    "    print(x)"
   ]
  },
  {
   "cell_type": "code",
   "execution_count": 7,
   "id": "43e6e68a-d3a1-4455-9932-2a73bdd2c3c3",
   "metadata": {
    "id": "43e6e68a-d3a1-4455-9932-2a73bdd2c3c3",
    "outputId": "0f032cfc-ebb1-4e28-9bbf-ac0d5ec6deac"
   },
   "outputs": [
    {
     "name": "stdout",
     "output_type": "stream",
     "text": [
      "20\n"
     ]
    }
   ],
   "source": [
    "g()"
   ]
  },
  {
   "cell_type": "markdown",
   "id": "5b097acc-6389-474d-bc1f-aa4e116b825a",
   "metadata": {
    "id": "5b097acc-6389-474d-bc1f-aa4e116b825a"
   },
   "source": [
    "`-` 관찰4: f()가 실행되면서 `x=10`이 함수내에 (=local에) 실행되지만 이 결과가 외부의 x=20에 (=global에) 영향을 미치지는 못함 "
   ]
  },
  {
   "cell_type": "code",
   "execution_count": 8,
   "id": "a21029ba-9311-4cf1-960c-f3539487a81c",
   "metadata": {
    "id": "a21029ba-9311-4cf1-960c-f3539487a81c",
    "outputId": "614fdd3e-5f2f-43ea-dbc4-31cf9b4789f2"
   },
   "outputs": [
    {
     "name": "stdout",
     "output_type": "stream",
     "text": [
      "10\n"
     ]
    }
   ],
   "source": [
    "f()"
   ]
  },
  {
   "cell_type": "code",
   "execution_count": 9,
   "id": "8d642bef-e5a4-4bce-8419-25a2dc42b5c6",
   "metadata": {
    "id": "8d642bef-e5a4-4bce-8419-25a2dc42b5c6",
    "outputId": "4b4fea8d-1ccb-4da0-d7e6-80c0a2fb00b0"
   },
   "outputs": [
    {
     "data": {
      "text/plain": [
       "20"
      ]
     },
     "execution_count": 9,
     "metadata": {},
     "output_type": "execute_result"
    }
   ],
   "source": [
    "x"
   ]
  },
  {
   "cell_type": "markdown",
   "id": "38a3adde-79be-4b11-90ab-3ee25e4045d9",
   "metadata": {
    "id": "38a3adde-79be-4b11-90ab-3ee25e4045d9"
   },
   "source": [
    "**예제2**"
   ]
  },
  {
   "cell_type": "markdown",
   "id": "5a95eded-44a2-4a91-b244-fcd2bf4186f8",
   "metadata": {
    "id": "5a95eded-44a2-4a91-b244-fcd2bf4186f8"
   },
   "source": [
    "(코드1)"
   ]
  },
  {
   "cell_type": "code",
   "execution_count": 10,
   "id": "0e6cfa28-f719-4f3a-8f32-c53b8f789c3b",
   "metadata": {
    "id": "0e6cfa28-f719-4f3a-8f32-c53b8f789c3b",
    "outputId": "36187efe-2457-4758-9533-a5e8d6cdbf12"
   },
   "outputs": [
    {
     "name": "stdout",
     "output_type": "stream",
     "text": [
      "38 39\n"
     ]
    }
   ],
   "source": [
    "x = 38 \n",
    "def nextyear():\n",
    "    y= x+1 \n",
    "    print(x,y) \n",
    "nextyear()"
   ]
  },
  {
   "cell_type": "markdown",
   "id": "ecd3feb4-aa19-4d8f-88f7-e2005eae6281",
   "metadata": {
    "id": "ecd3feb4-aa19-4d8f-88f7-e2005eae6281"
   },
   "source": [
    "(코드2)"
   ]
  },
  {
   "cell_type": "code",
   "execution_count": 11,
   "id": "a89cff7c-e375-440e-9781-39ced70a4c27",
   "metadata": {
    "id": "a89cff7c-e375-440e-9781-39ced70a4c27",
    "outputId": "54e1bcf2-c26e-4906-ba5e-a857bb6ca484"
   },
   "outputs": [
    {
     "ename": "UnboundLocalError",
     "evalue": "local variable 'x' referenced before assignment",
     "output_type": "error",
     "traceback": [
      "\u001b[0;31m---------------------------------------------------------------------------\u001b[0m",
      "\u001b[0;31mUnboundLocalError\u001b[0m                         Traceback (most recent call last)",
      "\u001b[0;32m/tmp/ipykernel_2090322/3080202250.py\u001b[0m in \u001b[0;36m<module>\u001b[0;34m\u001b[0m\n\u001b[1;32m      4\u001b[0m     \u001b[0mprint\u001b[0m\u001b[0;34m(\u001b[0m\u001b[0mx\u001b[0m\u001b[0;34m,\u001b[0m\u001b[0my\u001b[0m\u001b[0;34m)\u001b[0m\u001b[0;34m\u001b[0m\u001b[0;34m\u001b[0m\u001b[0m\n\u001b[1;32m      5\u001b[0m     \u001b[0mx\u001b[0m\u001b[0;34m=\u001b[0m \u001b[0;36m0\u001b[0m\u001b[0;34m\u001b[0m\u001b[0;34m\u001b[0m\u001b[0m\n\u001b[0;32m----> 6\u001b[0;31m \u001b[0mnextyear\u001b[0m\u001b[0;34m(\u001b[0m\u001b[0;34m)\u001b[0m\u001b[0;34m\u001b[0m\u001b[0;34m\u001b[0m\u001b[0m\n\u001b[0m",
      "\u001b[0;32m/tmp/ipykernel_2090322/3080202250.py\u001b[0m in \u001b[0;36mnextyear\u001b[0;34m()\u001b[0m\n\u001b[1;32m      1\u001b[0m \u001b[0mx\u001b[0m \u001b[0;34m=\u001b[0m \u001b[0;36m38\u001b[0m\u001b[0;34m\u001b[0m\u001b[0;34m\u001b[0m\u001b[0m\n\u001b[1;32m      2\u001b[0m \u001b[0;32mdef\u001b[0m \u001b[0mnextyear\u001b[0m\u001b[0;34m(\u001b[0m\u001b[0;34m)\u001b[0m\u001b[0;34m:\u001b[0m\u001b[0;34m\u001b[0m\u001b[0;34m\u001b[0m\u001b[0m\n\u001b[0;32m----> 3\u001b[0;31m     \u001b[0my\u001b[0m\u001b[0;34m=\u001b[0m \u001b[0mx\u001b[0m\u001b[0;34m+\u001b[0m\u001b[0;36m1\u001b[0m\u001b[0;34m\u001b[0m\u001b[0;34m\u001b[0m\u001b[0m\n\u001b[0m\u001b[1;32m      4\u001b[0m     \u001b[0mprint\u001b[0m\u001b[0;34m(\u001b[0m\u001b[0mx\u001b[0m\u001b[0;34m,\u001b[0m\u001b[0my\u001b[0m\u001b[0;34m)\u001b[0m\u001b[0;34m\u001b[0m\u001b[0;34m\u001b[0m\u001b[0m\n\u001b[1;32m      5\u001b[0m     \u001b[0mx\u001b[0m\u001b[0;34m=\u001b[0m \u001b[0;36m0\u001b[0m\u001b[0;34m\u001b[0m\u001b[0;34m\u001b[0m\u001b[0m\n",
      "\u001b[0;31mUnboundLocalError\u001b[0m: local variable 'x' referenced before assignment"
     ]
    }
   ],
   "source": [
    "x = 38 \n",
    "def nextyear():\n",
    "    y= x+1 \n",
    "    print(x,y) \n",
    "    x= 0\n",
    "nextyear()"
   ]
  },
  {
   "cell_type": "markdown",
   "id": "9a17eb17-58f0-4621-9d34-39391252991a",
   "metadata": {
    "id": "9a17eb17-58f0-4621-9d34-39391252991a"
   },
   "source": [
    "`-` 해석: \n",
    "- 잘못된 해석: 코드1은 실행되었고, 코드2에서 에러가 났다. 코드1과 2의 차이점은 `x=0` 이라는 코드가 코드2에 추가로 포함되어있다는 것이다. 따라서 `x=0`이 잘못된 코드이고 이걸 실행하는 과정에서 에러가 발생했다. \n",
    "- 올바른 해석: 코드1에서는 x가 global variable 이고 코드2에서는 x가 local variable이어서 생기는 문제"
   ]
  },
  {
   "cell_type": "markdown",
   "id": "78bcd105-33c1-494b-b050-0b82a7ceb7fa",
   "metadata": {
    "id": "78bcd105-33c1-494b-b050-0b82a7ceb7fa"
   },
   "source": [
    "`-` 코드2의 올바른 수정"
   ]
  },
  {
   "cell_type": "code",
   "execution_count": 12,
   "id": "6a08ad57-13f1-4d94-8f8d-6752f813af91",
   "metadata": {
    "id": "6a08ad57-13f1-4d94-8f8d-6752f813af91",
    "outputId": "f78c3dfd-0cae-453b-fe14-93d2a66ce917"
   },
   "outputs": [
    {
     "name": "stdout",
     "output_type": "stream",
     "text": [
      "0 1\n"
     ]
    }
   ],
   "source": [
    "x = 38 \n",
    "def nextyear():\n",
    "    x= 0\n",
    "    y= x+1 \n",
    "    print(x,y) \n",
    "nextyear()"
   ]
  },
  {
   "cell_type": "markdown",
   "id": "709b52af-0405-47f9-ac68-3bfca1583a9b",
   "metadata": {
    "id": "709b52af-0405-47f9-ac68-3bfca1583a9b"
   },
   "source": [
    "### 인스턴스 변수, 클래스 변수 (복습?)"
   ]
  },
  {
   "cell_type": "markdown",
   "id": "6ae35466-1c13-497a-9faf-bc5f3d1eebab",
   "metadata": {
    "id": "6ae35466-1c13-497a-9faf-bc5f3d1eebab"
   },
   "source": [
    "`-` 예비학습이 주는 교훈 \n",
    "\n",
    "(원칙1) global 에서 정의된 이름은 local 에서 정의된 이름이 없을 경우 그를 대신할 수 있다 (local은 경우에 따라서 global에 있는 변수를 빌려 쓸 수 있다) \n",
    "\n",
    "(원칙2) local과 global에서 같은 이름 'x'가 각각 정의되어 있는 경우? global의 변수와 local의 변수는 각각 따로 행동하며 서로 영향을 주지 않는다. (독립적이다) \n",
    "- 만약에 local이 global의 변수를 같이 쓰고 있었다고 할지라도, 추후 새롭게 local에 새롭게 같은 이름의 변수가 정의된다면 그 순간 local과 global의 변수를 각자 따로 행동하며 서로 영향을 주지 않는다. $\\to$ 아래예제확인"
   ]
  },
  {
   "cell_type": "code",
   "execution_count": 13,
   "id": "c23222ba-d109-4a48-8c9c-eb1d1c921f7d",
   "metadata": {
    "id": "c23222ba-d109-4a48-8c9c-eb1d1c921f7d"
   },
   "outputs": [],
   "source": [
    "x= 10 \n",
    "def f():\n",
    "    print(x)"
   ]
  },
  {
   "cell_type": "code",
   "execution_count": 14,
   "id": "e673f2ca-1eec-44a5-a285-77f4fa24dbb8",
   "metadata": {
    "id": "e673f2ca-1eec-44a5-a285-77f4fa24dbb8",
    "outputId": "211cc24e-58d9-4dde-ebf2-0470f4ce06a5"
   },
   "outputs": [
    {
     "name": "stdout",
     "output_type": "stream",
     "text": [
      "10\n"
     ]
    }
   ],
   "source": [
    "f() # x를 빌려쓰는 신세"
   ]
  },
  {
   "cell_type": "code",
   "execution_count": 15,
   "id": "b130a98e-83ab-49ce-aa18-5ae1b4714f19",
   "metadata": {
    "id": "b130a98e-83ab-49ce-aa18-5ae1b4714f19"
   },
   "outputs": [],
   "source": [
    "def f():\n",
    "    x=20 # 이제 새롭게 x를 정의했으니까 \n",
    "    print(x)"
   ]
  },
  {
   "cell_type": "code",
   "execution_count": 16,
   "id": "e3696044-fcb2-416b-8194-e237063e5e28",
   "metadata": {
    "id": "e3696044-fcb2-416b-8194-e237063e5e28",
    "outputId": "d1ac2736-56f9-4155-8442-6c0581d15565"
   },
   "outputs": [
    {
     "name": "stdout",
     "output_type": "stream",
     "text": [
      "20\n"
     ]
    }
   ],
   "source": [
    "f() # 다른길을 간다."
   ]
  },
  {
   "cell_type": "markdown",
   "id": "64263eb3-8e1a-4fda-a5e4-c07a37ea6c0f",
   "metadata": {
    "id": "64263eb3-8e1a-4fda-a5e4-c07a37ea6c0f"
   },
   "source": [
    "`-` 이전에 공부하였던 인스턴스변수와 클래스변수 역시 비슷한 행동을 보인다. "
   ]
  },
  {
   "cell_type": "code",
   "execution_count": 17,
   "id": "297ee6da-d441-44c3-90e8-2f5d1c3c4529",
   "metadata": {
    "id": "297ee6da-d441-44c3-90e8-2f5d1c3c4529"
   },
   "outputs": [],
   "source": [
    "class Moo:\n",
    "    x=0 # 클래스변수"
   ]
  },
  {
   "cell_type": "code",
   "execution_count": 18,
   "id": "dc9895de-9e46-4042-9d15-4b5ef190d590",
   "metadata": {
    "id": "dc9895de-9e46-4042-9d15-4b5ef190d590"
   },
   "outputs": [],
   "source": [
    "moo=Moo()"
   ]
  },
  {
   "cell_type": "markdown",
   "id": "f3d39718-6727-4697-a333-1ee752ace4ea",
   "metadata": {
    "id": "f3d39718-6727-4697-a333-1ee752ace4ea"
   },
   "source": [
    "(관찰1)"
   ]
  },
  {
   "cell_type": "code",
   "execution_count": 19,
   "id": "c3b3a000-8955-4450-8a18-eb7df746ed21",
   "metadata": {
    "id": "c3b3a000-8955-4450-8a18-eb7df746ed21",
    "outputId": "bb0c16a4-d125-4895-dc01-f7090965d022"
   },
   "outputs": [
    {
     "data": {
      "text/plain": [
       "(0, 0)"
      ]
     },
     "execution_count": 19,
     "metadata": {},
     "output_type": "execute_result"
    }
   ],
   "source": [
    "Moo.x, moo.x"
   ]
  },
  {
   "cell_type": "markdown",
   "id": "0bc4f03a-fac0-4aa4-bcbc-7aa32b53f67a",
   "metadata": {
    "id": "0bc4f03a-fac0-4aa4-bcbc-7aa32b53f67a"
   },
   "source": [
    "- moo.x는 사실 정의한적 없지만 Moo.x를 빌려쓰고 있다. (원칙1)"
   ]
  },
  {
   "cell_type": "markdown",
   "id": "48682f45-cad1-4781-abab-efb188d32940",
   "metadata": {
    "id": "48682f45-cad1-4781-abab-efb188d32940"
   },
   "source": [
    "(관찰2)"
   ]
  },
  {
   "cell_type": "code",
   "execution_count": 20,
   "id": "4e6a8c3f-d935-4007-a5bb-2e6b004a1682",
   "metadata": {
    "id": "4e6a8c3f-d935-4007-a5bb-2e6b004a1682"
   },
   "outputs": [],
   "source": [
    "Moo.x = 100 "
   ]
  },
  {
   "cell_type": "code",
   "execution_count": 21,
   "id": "e7544588-1f54-4f90-9550-508e42887812",
   "metadata": {
    "id": "e7544588-1f54-4f90-9550-508e42887812",
    "outputId": "acf334f4-a7f5-4625-f3e7-37f761c9874f"
   },
   "outputs": [
    {
     "data": {
      "text/plain": [
       "(100, 100)"
      ]
     },
     "execution_count": 21,
     "metadata": {},
     "output_type": "execute_result"
    }
   ],
   "source": [
    "Moo.x, moo.x"
   ]
  },
  {
   "cell_type": "markdown",
   "id": "d2e8e613-d808-4055-a5f6-ee3c4f6175c3",
   "metadata": {
    "id": "d2e8e613-d808-4055-a5f6-ee3c4f6175c3"
   },
   "source": [
    "- Moo.x 를 변화시키면 moo.x 도 변화한다 (빌려쓰고 있는 것이니까, 원칙1의 재확인)"
   ]
  },
  {
   "cell_type": "markdown",
   "id": "89227c41-0739-4c5c-a498-c689432f23d8",
   "metadata": {
    "id": "89227c41-0739-4c5c-a498-c689432f23d8"
   },
   "source": [
    "(관찰3)"
   ]
  },
  {
   "cell_type": "code",
   "execution_count": 22,
   "id": "b1236220-aefd-4e19-8ace-58deecb09c6d",
   "metadata": {
    "id": "b1236220-aefd-4e19-8ace-58deecb09c6d"
   },
   "outputs": [],
   "source": [
    "moo.x = 200"
   ]
  },
  {
   "cell_type": "code",
   "execution_count": 23,
   "id": "0f51aab2-fbb5-45a3-b6aa-e2d9104d3b5b",
   "metadata": {
    "id": "0f51aab2-fbb5-45a3-b6aa-e2d9104d3b5b",
    "outputId": "8dd466a3-ff96-4d7f-cf1c-48fcbfe06658"
   },
   "outputs": [
    {
     "data": {
      "text/plain": [
       "(100, 200)"
      ]
     },
     "execution_count": 23,
     "metadata": {},
     "output_type": "execute_result"
    }
   ],
   "source": [
    "Moo.x, moo.x"
   ]
  },
  {
   "cell_type": "markdown",
   "id": "f4379ece-2b5b-441f-9e77-9ee260045c10",
   "metadata": {
    "id": "f4379ece-2b5b-441f-9e77-9ee260045c10"
   },
   "source": [
    "- moo.x=200을 하는 순간 새롭게 인스턴스변수를 선언한 셈이된다. 따라서 원칙2가 적용되어 이제부터 Moo.x 와 moo.x 는 서로 독립적으로 행동한다. "
   ]
  },
  {
   "cell_type": "markdown",
   "id": "f896a5a8-bfaf-4eb8-a79a-50e61008a2a3",
   "metadata": {
    "id": "f896a5a8-bfaf-4eb8-a79a-50e61008a2a3"
   },
   "source": [
    "(관찰4)"
   ]
  },
  {
   "cell_type": "code",
   "execution_count": 24,
   "id": "04d0d790-3961-41f3-b443-fc130d1c151d",
   "metadata": {
    "id": "04d0d790-3961-41f3-b443-fc130d1c151d"
   },
   "outputs": [],
   "source": [
    "Moo.x = - 99 "
   ]
  },
  {
   "cell_type": "code",
   "execution_count": 25,
   "id": "7030089b-a8b3-46c5-8a75-a25c3ce08f2b",
   "metadata": {
    "id": "7030089b-a8b3-46c5-8a75-a25c3ce08f2b",
    "outputId": "5b018e2a-3571-4ab1-b45e-054a5d3d3991"
   },
   "outputs": [
    {
     "data": {
      "text/plain": [
       "(-99, 200)"
      ]
     },
     "execution_count": 25,
     "metadata": {},
     "output_type": "execute_result"
    }
   ],
   "source": [
    "Moo.x, moo.x "
   ]
  },
  {
   "cell_type": "code",
   "execution_count": 26,
   "id": "01215d16-7e34-4492-8956-ba2e20051198",
   "metadata": {
    "id": "01215d16-7e34-4492-8956-ba2e20051198"
   },
   "outputs": [],
   "source": [
    "moo.x = 99"
   ]
  },
  {
   "cell_type": "code",
   "execution_count": 27,
   "id": "a594d37d-19ad-4f60-9257-ccdc7e83f230",
   "metadata": {
    "id": "a594d37d-19ad-4f60-9257-ccdc7e83f230",
    "outputId": "01605565-04fb-447d-b6ba-850b9fa87b34"
   },
   "outputs": [
    {
     "data": {
      "text/plain": [
       "(-99, 99)"
      ]
     },
     "execution_count": 27,
     "metadata": {},
     "output_type": "execute_result"
    }
   ],
   "source": [
    "Moo.x, moo.x "
   ]
  },
  {
   "cell_type": "markdown",
   "id": "bf78aae5-9e6b-4590-89d4-6a8eb109f2ad",
   "metadata": {
    "id": "bf78aae5-9e6b-4590-89d4-6a8eb109f2ad"
   },
   "source": [
    "- Moo.x 를 바꾼다고 해서 moo.x 가 영향받지 않고 moo.x 를 바꿔도 Moo.x 가 영향받지 않음 (완전히 독립, 원칙2의 재확인) "
   ]
  },
  {
   "cell_type": "markdown",
   "id": "7c1774e0-deb3-4767-8947-a7e1d0765d4b",
   "metadata": {
    "id": "7c1774e0-deb3-4767-8947-a7e1d0765d4b"
   },
   "source": [
    "`-` 포인트: (1) 클래스변수와 인스턴스 변수의 구분 (2) 인스턴스 변수가 정의되지 않으면 클래스변수를 빌려쓸 수 있음 (3) 인스턴스변수와 클래스변수가 같은 이름으로 저장되어 있으면 각각 독립적으로 행동"
   ]
  },
  {
   "cell_type": "markdown",
   "id": "431a758f-a325-4e9a-b0ec-a85492c06be0",
   "metadata": {
    "id": "431a758f-a325-4e9a-b0ec-a85492c06be0"
   },
   "source": [
    "### 인스턴스 메서드"
   ]
  },
  {
   "cell_type": "markdown",
   "id": "a78c20e2-ba1c-48a4-bf3c-78023278e9f4",
   "metadata": {
    "id": "a78c20e2-ba1c-48a4-bf3c-78023278e9f4"
   },
   "source": [
    "`-` self 비밀: 사실 클래스에서 정의된 함수의 첫번째 인자의 이름이 꼭 self일 필요는 없다. (무엇으로 전달하든 클래스안에서 정의된 메소드의 첫번째 인자는 기본적으로 instance의 태명역할을 한다) "
   ]
  },
  {
   "cell_type": "code",
   "execution_count": 28,
   "id": "38ac834e-fae8-47a4-8e40-1312dac537cd",
   "metadata": {
    "id": "38ac834e-fae8-47a4-8e40-1312dac537cd"
   },
   "outputs": [],
   "source": [
    "class Moo: \n",
    "    def __init__(abab):\n",
    "        abab.name = 'guebin'\n",
    "    def f(cdcd):\n",
    "        print(cdcd.name)"
   ]
  },
  {
   "cell_type": "code",
   "execution_count": 29,
   "id": "0604244b-b1c6-4b3d-8f3d-8ebbfe71ce82",
   "metadata": {
    "id": "0604244b-b1c6-4b3d-8f3d-8ebbfe71ce82"
   },
   "outputs": [],
   "source": [
    "moo=Moo()"
   ]
  },
  {
   "cell_type": "code",
   "execution_count": 30,
   "id": "632f46fc-fa46-402d-bff6-da803aeea14e",
   "metadata": {
    "id": "632f46fc-fa46-402d-bff6-da803aeea14e",
    "outputId": "58f5a574-bdf1-42eb-a702-5f57196789a0"
   },
   "outputs": [
    {
     "data": {
      "text/plain": [
       "'guebin'"
      ]
     },
     "execution_count": 30,
     "metadata": {},
     "output_type": "execute_result"
    }
   ],
   "source": [
    "moo.name"
   ]
  },
  {
   "cell_type": "code",
   "execution_count": 31,
   "id": "b11438ae-c58a-4c26-8541-da361b41cb3f",
   "metadata": {
    "id": "b11438ae-c58a-4c26-8541-da361b41cb3f",
    "outputId": "6647ecf9-ab61-47ac-ee1e-27991614a2e7"
   },
   "outputs": [
    {
     "name": "stdout",
     "output_type": "stream",
     "text": [
      "guebin\n"
     ]
    }
   ],
   "source": [
    "moo.f()"
   ]
  },
  {
   "cell_type": "markdown",
   "id": "682b8a1e-0a88-4d67-82a1-214fbed2aceb",
   "metadata": {
    "id": "682b8a1e-0a88-4d67-82a1-214fbed2aceb"
   },
   "source": [
    "`-` 인스턴스 메서드: 위의 `__init__`와 `f`와 같이 첫번째 인자를 인스턴스의 태명으로 받는 함수를 인스턴스 메서드 (간단히 메서드) 라고 한다. \n",
    "- 인스턴스 메소드는` self.f()`와 같이 사용한다. 의미는 `f(self)` 이다. "
   ]
  },
  {
   "cell_type": "code",
   "execution_count": 32,
   "id": "8783aadc-0a86-475c-aa57-943262300674",
   "metadata": {
    "id": "8783aadc-0a86-475c-aa57-943262300674"
   },
   "outputs": [],
   "source": [
    "moo.name = 'hynn'"
   ]
  },
  {
   "cell_type": "code",
   "execution_count": 33,
   "id": "a2edead8-c0ab-4995-8ec5-2358368b091c",
   "metadata": {
    "id": "a2edead8-c0ab-4995-8ec5-2358368b091c"
   },
   "outputs": [],
   "source": [
    "moo.__init__() # 인스턴스메서드의 사용예시: self.__init__()의 꼴로 사용 "
   ]
  },
  {
   "cell_type": "code",
   "execution_count": 34,
   "id": "f6d8c272-f3b5-4fd5-824f-6db9770b44d9",
   "metadata": {
    "id": "f6d8c272-f3b5-4fd5-824f-6db9770b44d9",
    "outputId": "bb37ca7b-bc44-4058-9898-4ce43d37b347"
   },
   "outputs": [
    {
     "data": {
      "text/plain": [
       "'guebin'"
      ]
     },
     "execution_count": 34,
     "metadata": {},
     "output_type": "execute_result"
    }
   ],
   "source": [
    "moo.name"
   ]
  },
  {
   "cell_type": "code",
   "execution_count": 35,
   "id": "c22e2b69-08cf-41b8-af86-8b2d4d068d2f",
   "metadata": {
    "id": "c22e2b69-08cf-41b8-af86-8b2d4d068d2f",
    "outputId": "18776ea9-f93b-45a9-8c0e-8ce3075bff2e"
   },
   "outputs": [
    {
     "name": "stdout",
     "output_type": "stream",
     "text": [
      "guebin\n"
     ]
    }
   ],
   "source": [
    "moo.f() # 인스턴스메서드의 사용예시: self.__init__()의 꼴로 사용 "
   ]
  },
  {
   "cell_type": "markdown",
   "id": "d1735872-67b0-4e07-b7e5-a3f414a32470",
   "metadata": {
    "id": "d1735872-67b0-4e07-b7e5-a3f414a32470"
   },
   "source": [
    "`-` 아래와 같이 사용할 수 없다. "
   ]
  },
  {
   "cell_type": "markdown",
   "id": "72d44033-41cd-4034-a916-6a326fd5f284",
   "metadata": {},
   "source": [
    "클래스.메서드 할 수 없음"
   ]
  },
  {
   "cell_type": "code",
   "execution_count": 36,
   "id": "c909a802-65ea-41b5-a3e3-bb6ed99e626c",
   "metadata": {
    "id": "c909a802-65ea-41b5-a3e3-bb6ed99e626c",
    "outputId": "62bd6dbd-f0e4-4466-8705-4d5792e1f93c"
   },
   "outputs": [
    {
     "ename": "TypeError",
     "evalue": "__init__() missing 1 required positional argument: 'abab'",
     "output_type": "error",
     "traceback": [
      "\u001b[0;31m---------------------------------------------------------------------------\u001b[0m",
      "\u001b[0;31mTypeError\u001b[0m                                 Traceback (most recent call last)",
      "\u001b[0;32m/tmp/ipykernel_2090322/3136314191.py\u001b[0m in \u001b[0;36m<module>\u001b[0;34m\u001b[0m\n\u001b[0;32m----> 1\u001b[0;31m \u001b[0mMoo\u001b[0m\u001b[0;34m.\u001b[0m\u001b[0m__init__\u001b[0m\u001b[0;34m(\u001b[0m\u001b[0;34m)\u001b[0m\u001b[0;34m\u001b[0m\u001b[0;34m\u001b[0m\u001b[0m\n\u001b[0m",
      "\u001b[0;31mTypeError\u001b[0m: __init__() missing 1 required positional argument: 'abab'"
     ]
    }
   ],
   "source": [
    "Moo.__init__()"
   ]
  },
  {
   "cell_type": "code",
   "execution_count": 37,
   "id": "783dfd7a-227e-4673-bb5e-d26e7a3bbd9f",
   "metadata": {
    "id": "783dfd7a-227e-4673-bb5e-d26e7a3bbd9f",
    "outputId": "5ff4908b-2a8f-4f9a-846f-9812f04b2044"
   },
   "outputs": [
    {
     "ename": "TypeError",
     "evalue": "f() missing 1 required positional argument: 'cdcd'",
     "output_type": "error",
     "traceback": [
      "\u001b[0;31m---------------------------------------------------------------------------\u001b[0m",
      "\u001b[0;31mTypeError\u001b[0m                                 Traceback (most recent call last)",
      "\u001b[0;32m/tmp/ipykernel_2090322/2343752147.py\u001b[0m in \u001b[0;36m<module>\u001b[0;34m\u001b[0m\n\u001b[0;32m----> 1\u001b[0;31m \u001b[0mMoo\u001b[0m\u001b[0;34m.\u001b[0m\u001b[0mf\u001b[0m\u001b[0;34m(\u001b[0m\u001b[0;34m)\u001b[0m\u001b[0;34m\u001b[0m\u001b[0;34m\u001b[0m\u001b[0m\n\u001b[0m",
      "\u001b[0;31mTypeError\u001b[0m: f() missing 1 required positional argument: 'cdcd'"
     ]
    }
   ],
   "source": [
    "Moo.f()"
   ]
  },
  {
   "cell_type": "markdown",
   "id": "adf2dd85-b33c-4de1-99ac-9d774f641c3f",
   "metadata": {
    "id": "adf2dd85-b33c-4de1-99ac-9d774f641c3f"
   },
   "source": [
    "### 클러스 메서드"
   ]
  },
  {
   "cell_type": "markdown",
   "id": "5aa1cfcc-c2ae-4c95-a2c0-511a7e9a1df9",
   "metadata": {
    "id": "5aa1cfcc-c2ae-4c95-a2c0-511a7e9a1df9"
   },
   "source": [
    "`-` 클래스 메서드: 함수의 첫 인자로 클래스오브젝트를 받는 메서드를 클래스메서드라고 한다. "
   ]
  },
  {
   "cell_type": "markdown",
   "id": "e1af1a3b-acef-4340-81c6-1ab6c79ea1de",
   "metadata": {
    "id": "e1af1a3b-acef-4340-81c6-1ab6c79ea1de"
   },
   "source": [
    "`-` 목표: `Moo.f()`와 같은 형태로 사용할 수 있는 함수를 만들어 보자 -> 클래스메서드를 만들어보자!"
   ]
  },
  {
   "cell_type": "code",
   "execution_count": 38,
   "id": "a95d0687-c334-4fdc-8448-d01824513854",
   "metadata": {
    "id": "a95d0687-c334-4fdc-8448-d01824513854"
   },
   "outputs": [],
   "source": [
    "class Moo: \n",
    "    def f(self):\n",
    "        print(\"인스턴스 메서드\")"
   ]
  },
  {
   "cell_type": "code",
   "execution_count": 39,
   "id": "a81091e5-b62e-40b9-a580-5eda9b602a63",
   "metadata": {
    "id": "a81091e5-b62e-40b9-a580-5eda9b602a63"
   },
   "outputs": [],
   "source": [
    "moo=Moo()"
   ]
  },
  {
   "cell_type": "code",
   "execution_count": 40,
   "id": "8cbae546-c8c3-4920-8c41-bad13bb8d333",
   "metadata": {
    "id": "8cbae546-c8c3-4920-8c41-bad13bb8d333",
    "outputId": "4fc61047-83f4-46b6-9d76-21312cc91ac9"
   },
   "outputs": [
    {
     "name": "stdout",
     "output_type": "stream",
     "text": [
      "인스턴스 메서드\n"
     ]
    }
   ],
   "source": [
    "moo.f()"
   ]
  },
  {
   "cell_type": "code",
   "execution_count": 41,
   "id": "c2a6f9fa-e986-4d4b-b713-391734a66fb0",
   "metadata": {
    "id": "c2a6f9fa-e986-4d4b-b713-391734a66fb0",
    "outputId": "3db70b15-a498-47f4-bba6-72b3b7d2d581"
   },
   "outputs": [
    {
     "ename": "TypeError",
     "evalue": "f() missing 1 required positional argument: 'self'",
     "output_type": "error",
     "traceback": [
      "\u001b[0;31m---------------------------------------------------------------------------\u001b[0m",
      "\u001b[0;31mTypeError\u001b[0m                                 Traceback (most recent call last)",
      "\u001b[0;32m/tmp/ipykernel_2090322/2343752147.py\u001b[0m in \u001b[0;36m<module>\u001b[0;34m\u001b[0m\n\u001b[0;32m----> 1\u001b[0;31m \u001b[0mMoo\u001b[0m\u001b[0;34m.\u001b[0m\u001b[0mf\u001b[0m\u001b[0;34m(\u001b[0m\u001b[0;34m)\u001b[0m\u001b[0;34m\u001b[0m\u001b[0;34m\u001b[0m\u001b[0m\n\u001b[0m",
      "\u001b[0;31mTypeError\u001b[0m: f() missing 1 required positional argument: 'self'"
     ]
    }
   ],
   "source": [
    "Moo.f()"
   ]
  },
  {
   "cell_type": "code",
   "execution_count": 42,
   "id": "726c0fa0-fab3-4ba6-8c40-fd6a8911a8a9",
   "metadata": {
    "id": "726c0fa0-fab3-4ba6-8c40-fd6a8911a8a9"
   },
   "outputs": [],
   "source": [
    "class Moo: \n",
    "    @classmethod\n",
    "    def f(cls): # 함수의 첫 인자로 클래스오브젝트를 받는다. cls는 클래스 Moo의 별명?이라고 생각하면 된다. \n",
    "        print(\"클래스 메서드\")"
   ]
  },
  {
   "cell_type": "code",
   "execution_count": 43,
   "id": "cb6561b8-06d6-4e38-a13b-cafbab9e7952",
   "metadata": {
    "id": "cb6561b8-06d6-4e38-a13b-cafbab9e7952"
   },
   "outputs": [],
   "source": [
    "moo=Moo()"
   ]
  },
  {
   "cell_type": "code",
   "execution_count": 44,
   "id": "1a8dd3b4-b45c-4905-bc9a-1065ba4c4287",
   "metadata": {
    "id": "1a8dd3b4-b45c-4905-bc9a-1065ba4c4287",
    "outputId": "7c255ab7-ba20-44cf-c340-9bec30900c67"
   },
   "outputs": [
    {
     "name": "stdout",
     "output_type": "stream",
     "text": [
      "클래스 메서드\n"
     ]
    }
   ],
   "source": [
    "Moo.f()"
   ]
  },
  {
   "cell_type": "code",
   "execution_count": 45,
   "id": "689b1990-8008-4da9-9951-dd478fd7abce",
   "metadata": {
    "id": "689b1990-8008-4da9-9951-dd478fd7abce",
    "outputId": "39cf07ba-9654-411a-db72-c89e1ec131d5"
   },
   "outputs": [
    {
     "name": "stdout",
     "output_type": "stream",
     "text": [
      "클래스 메서드\n"
     ]
    }
   ],
   "source": [
    "moo.f() # 인스턴스 메서드를 따로 정의한적은 없지만 같은 이름의 클래스 메서드가 있으므로 빌려와서 씀!"
   ]
  },
  {
   "cell_type": "markdown",
   "id": "74989a11-d5ec-49af-b758-47cbf5e6225e",
   "metadata": {
    "id": "74989a11-d5ec-49af-b758-47cbf5e6225e"
   },
   "source": [
    "`-` 예제"
   ]
  },
  {
   "cell_type": "code",
   "execution_count": 46,
   "id": "506ba355-d15f-4741-af82-b6d89597616f",
   "metadata": {
    "id": "506ba355-d15f-4741-af82-b6d89597616f"
   },
   "outputs": [],
   "source": [
    "class Moo:\n",
    "    @classmethod\n",
    "    def set_class_x(cls,value): # 클래스 메서드 \n",
    "        cls.x = value # 클래스변수선언, note: Moo.x = value 와 같은 코드!\n",
    "    def set_instance_x(self,value): # 인스턴스 메서드\n",
    "        self.x = value # 인스턴스 변수선언"
   ]
  },
  {
   "cell_type": "code",
   "execution_count": 47,
   "id": "49ff2a3b-7f66-4b60-8d19-9764a176b2cf",
   "metadata": {
    "id": "49ff2a3b-7f66-4b60-8d19-9764a176b2cf"
   },
   "outputs": [],
   "source": [
    "moo=Moo()"
   ]
  },
  {
   "cell_type": "code",
   "execution_count": 48,
   "id": "1c9995be-b175-498b-b415-db1e45347495",
   "metadata": {
    "id": "1c9995be-b175-498b-b415-db1e45347495"
   },
   "outputs": [],
   "source": [
    "Moo.set_class_x(10) # 클래스메서드로 클래스변수에 10을 설정 "
   ]
  },
  {
   "cell_type": "code",
   "execution_count": 49,
   "id": "3e56b598-65aa-4747-afed-23bb411bd8d5",
   "metadata": {
    "id": "3e56b598-65aa-4747-afed-23bb411bd8d5",
    "outputId": "a712d2d0-5750-4178-f2f5-545b2a30405c"
   },
   "outputs": [
    {
     "ename": "TypeError",
     "evalue": "set_instance_x() missing 1 required positional argument: 'value'",
     "output_type": "error",
     "traceback": [
      "\u001b[0;31m---------------------------------------------------------------------------\u001b[0m",
      "\u001b[0;31mTypeError\u001b[0m                                 Traceback (most recent call last)",
      "\u001b[0;32m/tmp/ipykernel_2090322/4018557741.py\u001b[0m in \u001b[0;36m<module>\u001b[0;34m\u001b[0m\n\u001b[0;32m----> 1\u001b[0;31m \u001b[0mMoo\u001b[0m\u001b[0;34m.\u001b[0m\u001b[0mset_instance_x\u001b[0m\u001b[0;34m(\u001b[0m\u001b[0;36m10\u001b[0m\u001b[0;34m)\u001b[0m \u001b[0;31m# 클래스에서 인스턴스 메서드를 사용 -> 사용불가\u001b[0m\u001b[0;34m\u001b[0m\u001b[0;34m\u001b[0m\u001b[0m\n\u001b[0m",
      "\u001b[0;31mTypeError\u001b[0m: set_instance_x() missing 1 required positional argument: 'value'"
     ]
    }
   ],
   "source": [
    "Moo.set_instance_x(10) # 클래스에서 인스턴스 메서드를 사용 -> 사용불가"
   ]
  },
  {
   "cell_type": "code",
   "execution_count": 50,
   "id": "2c323a2e-9555-4795-ae52-1e0dcaa84c41",
   "metadata": {
    "id": "2c323a2e-9555-4795-ae52-1e0dcaa84c41",
    "outputId": "be5c4578-4927-4515-d156-c7bbce9d9b30"
   },
   "outputs": [
    {
     "data": {
      "text/plain": [
       "(10, 10)"
      ]
     },
     "execution_count": 50,
     "metadata": {},
     "output_type": "execute_result"
    }
   ],
   "source": [
    "Moo.x, moo.x # 인스턴스변수는 따로 설정하지 않았지만 클래스 변수값을 빌려쓰고 있음"
   ]
  },
  {
   "cell_type": "code",
   "execution_count": 51,
   "id": "9cb8f944-bda4-43fa-91cf-5325c46a72cf",
   "metadata": {
    "id": "9cb8f944-bda4-43fa-91cf-5325c46a72cf"
   },
   "outputs": [],
   "source": [
    "moo.set_class_x(20) # 인스턴스에서는 원래 set_class_x 라는 메서드는 없지만 클래스에서 빌려씀 "
   ]
  },
  {
   "cell_type": "code",
   "execution_count": 52,
   "id": "89f7ac40-df91-46ad-aa94-7c12eb577593",
   "metadata": {
    "id": "89f7ac40-df91-46ad-aa94-7c12eb577593",
    "outputId": "a370b1a4-6ca9-4c23-f994-1a4e2b026178"
   },
   "outputs": [
    {
     "data": {
      "text/plain": [
       "(20, 20)"
      ]
     },
     "execution_count": 52,
     "metadata": {},
     "output_type": "execute_result"
    }
   ],
   "source": [
    "Moo.x, moo.x # 현재 moo.x는 클래스 변수를 빌려쓰고 있는 상황이므로 같이 바뀜 "
   ]
  },
  {
   "cell_type": "code",
   "execution_count": 53,
   "id": "d869eaaa-e82d-495d-aee3-190d0a7f38fd",
   "metadata": {
    "id": "d869eaaa-e82d-495d-aee3-190d0a7f38fd"
   },
   "outputs": [],
   "source": [
    "moo.set_instance_x(-20) # 인스턴스에서 인스턴스 메서드를 사용하여 인스턴스 변수값을 -20으로 설정 \n",
    "#-> 이때부터 인스턴스변수와 클래스 변수는 서로 독립적인 노선을 간다."
   ]
  },
  {
   "cell_type": "code",
   "execution_count": 54,
   "id": "4ca93c00-0b22-4911-a80c-701ac6402134",
   "metadata": {
    "id": "4ca93c00-0b22-4911-a80c-701ac6402134",
    "outputId": "ea8f8e0b-4854-49c8-a121-dc48344e38cd"
   },
   "outputs": [
    {
     "data": {
      "text/plain": [
       "(20, -20)"
      ]
     },
     "execution_count": 54,
     "metadata": {},
     "output_type": "execute_result"
    }
   ],
   "source": [
    "Moo.x, moo.x"
   ]
  },
  {
   "cell_type": "code",
   "execution_count": 55,
   "id": "535a3b7e-cfc4-49d5-9ec5-e41111a951f9",
   "metadata": {
    "id": "535a3b7e-cfc4-49d5-9ec5-e41111a951f9",
    "outputId": "5fd115df-7d92-4064-a58f-af7b1de3924e"
   },
   "outputs": [
    {
     "data": {
      "text/plain": [
       "(30, -20)"
      ]
     },
     "execution_count": 55,
     "metadata": {},
     "output_type": "execute_result"
    }
   ],
   "source": [
    "Moo.set_class_x(30) # 독립적인 노선을 가기로 했으므로 클래스변수만 30으로 바뀜 \n",
    "Moo.x, moo.x"
   ]
  },
  {
   "cell_type": "code",
   "execution_count": 56,
   "id": "ddc582d6-f234-44ee-8ca6-60aa5d1ffb0a",
   "metadata": {
    "id": "ddc582d6-f234-44ee-8ca6-60aa5d1ffb0a",
    "outputId": "20516cdc-0f43-4b58-8e95-3b92f846f2cc"
   },
   "outputs": [
    {
     "data": {
      "text/plain": [
       "(-40, -20)"
      ]
     },
     "execution_count": 56,
     "metadata": {},
     "output_type": "execute_result"
    }
   ],
   "source": [
    "moo.set_class_x(-40) # 여전히 인스턴스에서 set_class_x라는 함수는 없으므로 클래스메소드를 빌려쓰고 있음\n",
    "Moo.x, moo.x"
   ]
  },
  {
   "cell_type": "markdown",
   "id": "52971455-d025-44fb-a1d5-5d0b6a4a7484",
   "metadata": {
    "id": "52971455-d025-44fb-a1d5-5d0b6a4a7484"
   },
   "source": [
    "### 스태틱 메서드"
   ]
  },
  {
   "cell_type": "markdown",
   "id": "8a16dd30-1a41-4344-b0ab-8cc652016d3a",
   "metadata": {
    "id": "8a16dd30-1a41-4344-b0ab-8cc652016d3a"
   },
   "source": [
    "`-` 스태틱 메서드: 첫 인자로 인스턴스와 클래스 모두 받지 않음. (클래스안에 정의되어 있지만 그냥 함수와 같음)"
   ]
  },
  {
   "cell_type": "code",
   "execution_count": 65,
   "id": "c2df87c7-0c14-4785-b7d0-7f02612a6d54",
   "metadata": {
    "id": "c2df87c7-0c14-4785-b7d0-7f02612a6d54"
   },
   "outputs": [],
   "source": [
    "class Cals: \n",
    "    @staticmethod\n",
    "    def add(a,b):\n",
    "        return a+b\n",
    "    @staticmethod\n",
    "    def sub(a,b):\n",
    "        return a-b "
   ]
  },
  {
   "cell_type": "code",
   "execution_count": 66,
   "id": "6288c1ce-e3d9-46d5-8ed3-0c4c9677013f",
   "metadata": {
    "id": "6288c1ce-e3d9-46d5-8ed3-0c4c9677013f"
   },
   "outputs": [],
   "source": [
    "fs = Cals()"
   ]
  },
  {
   "cell_type": "code",
   "execution_count": 67,
   "id": "3934e73c-9e94-4065-891d-dc8f28de8ef5",
   "metadata": {
    "id": "3934e73c-9e94-4065-891d-dc8f28de8ef5",
    "outputId": "a8399449-5ac3-49be-ecbe-f82b9fc83769"
   },
   "outputs": [
    {
     "data": {
      "text/plain": [
       "3"
      ]
     },
     "execution_count": 67,
     "metadata": {},
     "output_type": "execute_result"
    }
   ],
   "source": [
    "fs.add(1,2)"
   ]
  },
  {
   "cell_type": "code",
   "execution_count": 68,
   "id": "91b67104-0498-43d8-b7ea-d5a7beddcace",
   "metadata": {
    "id": "91b67104-0498-43d8-b7ea-d5a7beddcace",
    "outputId": "bdc25646-2a2f-40e8-a4de-881fb58246f2"
   },
   "outputs": [
    {
     "data": {
      "text/plain": [
       "-1"
      ]
     },
     "execution_count": 68,
     "metadata": {},
     "output_type": "execute_result"
    }
   ],
   "source": [
    "fs.sub(1,2)"
   ]
  },
  {
   "cell_type": "markdown",
   "id": "39aada6e-c8a9-489c-afb3-4f5ce5d4e578",
   "metadata": {
    "id": "39aada6e-c8a9-489c-afb3-4f5ce5d4e578"
   },
   "source": [
    "- fs는 그냥 함수들을 묶어놓은 느낌? 정리하게 편하게? "
   ]
  },
  {
   "cell_type": "markdown",
   "id": "0fb68668-bcf4-4d28-ad9d-5fdd81c030ab",
   "metadata": {
    "id": "0fb68668-bcf4-4d28-ad9d-5fdd81c030ab"
   },
   "source": [
    "## 클래스공부 10단계"
   ]
  },
  {
   "cell_type": "markdown",
   "id": "c517d3e7-d130-4a99-bb34-b3bd555f121b",
   "metadata": {
    "id": "c517d3e7-d130-4a99-bb34-b3bd555f121b"
   },
   "source": [
    "### 문자열 join"
   ]
  },
  {
   "cell_type": "markdown",
   "id": "fcf63d65-9d3c-4b15-8d04-66f530a60a7d",
   "metadata": {
    "id": "fcf63d65-9d3c-4b15-8d04-66f530a60a7d"
   },
   "source": [
    "`-` 예제"
   ]
  },
  {
   "cell_type": "code",
   "execution_count": 69,
   "id": "5b0c22b8-88a7-4929-a8eb-2d8ff85ce704",
   "metadata": {
    "id": "5b0c22b8-88a7-4929-a8eb-2d8ff85ce704",
    "outputId": "8acc0fd7-e39f-4912-8278-89067b14bd6b"
   },
   "outputs": [
    {
     "data": {
      "text/plain": [
       "['a', 'b', 'c', 'd']"
      ]
     },
     "execution_count": 69,
     "metadata": {},
     "output_type": "execute_result"
    }
   ],
   "source": [
    "lst = list('abcd')\n",
    "lst"
   ]
  },
  {
   "cell_type": "code",
   "execution_count": 70,
   "id": "11f00357-5996-4659-b493-30b2784f37f8",
   "metadata": {
    "id": "11f00357-5996-4659-b493-30b2784f37f8",
    "outputId": "abd49ddd-00e5-4076-8241-21a97799f870"
   },
   "outputs": [
    {
     "data": {
      "text/plain": [
       "'abcd'"
      ]
     },
     "execution_count": 70,
     "metadata": {},
     "output_type": "execute_result"
    }
   ],
   "source": [
    "''.join(lst)"
   ]
  },
  {
   "cell_type": "markdown",
   "id": "aee33cea-eb64-4a0e-b650-79d7e7e96829",
   "metadata": {
    "id": "aee33cea-eb64-4a0e-b650-79d7e7e96829"
   },
   "source": [
    "`-` 해설: ''는 string object 이고 `.join`는 string object에 소속된 메서드이다. "
   ]
  },
  {
   "cell_type": "code",
   "execution_count": 71,
   "id": "0e8e74bf-f58e-47e3-a7b7-fd29f8a39bb2",
   "metadata": {
    "id": "0e8e74bf-f58e-47e3-a7b7-fd29f8a39bb2",
    "outputId": "28ec7ab8-3d7f-42aa-ac17-8005c24081ab"
   },
   "outputs": [
    {
     "data": {
      "text/plain": [
       "'abcd'"
      ]
     },
     "execution_count": 71,
     "metadata": {},
     "output_type": "execute_result"
    }
   ],
   "source": [
    "a=''\n",
    "a.join(lst) # join(a,lst) 와 같은 효과 "
   ]
  },
  {
   "cell_type": "markdown",
   "id": "dd54f770-cc79-43a6-9b42-c0ec78c219f2",
   "metadata": {
    "id": "dd54f770-cc79-43a6-9b42-c0ec78c219f2"
   },
   "source": [
    "`-` join의 간단한 사용방법"
   ]
  },
  {
   "cell_type": "code",
   "execution_count": 72,
   "id": "48de7545-ac88-4969-8640-e8ae1f67fa8b",
   "metadata": {
    "id": "48de7545-ac88-4969-8640-e8ae1f67fa8b",
    "outputId": "0a2c6521-6e49-44ce-9ad7-ed8ff5873d34"
   },
   "outputs": [
    {
     "data": {
      "text/plain": [
       "'a-b-c-d'"
      ]
     },
     "execution_count": 72,
     "metadata": {},
     "output_type": "execute_result"
    }
   ],
   "source": [
    "'-'.join(lst)"
   ]
  },
  {
   "cell_type": "markdown",
   "id": "976efc4a-9b46-408c-a061-b1fc60affbe3",
   "metadata": {
    "id": "976efc4a-9b46-408c-a061-b1fc60affbe3"
   },
   "source": [
    "### matplotlib "
   ]
  },
  {
   "cell_type": "markdown",
   "id": "4fd20544-8b82-4d47-ba81-a0642b5ae994",
   "metadata": {
    "id": "4fd20544-8b82-4d47-ba81-a0642b5ae994"
   },
   "source": [
    "`-` 파이썬의 모든것은 객체이다: matplotlib의 다른 사용 (객체지향적 언어로 그림그리기!)"
   ]
  },
  {
   "cell_type": "markdown",
   "id": "03d5bab6-11f9-4d60-b058-fb5e1c89967c",
   "metadata": {
    "id": "03d5bab6-11f9-4d60-b058-fb5e1c89967c"
   },
   "source": [
    "`-` 그림오브젝트 생성"
   ]
  },
  {
   "cell_type": "code",
   "execution_count": 73,
   "id": "eff0a028-09bc-4262-90a5-34d79cdc0a90",
   "metadata": {
    "id": "eff0a028-09bc-4262-90a5-34d79cdc0a90",
    "outputId": "6c4155a0-44e0-42ab-8bd6-6365b60d8e3d"
   },
   "outputs": [
    {
     "data": {
      "text/plain": [
       "<Figure size 432x288 with 0 Axes>"
      ]
     },
     "metadata": {},
     "output_type": "display_data"
    }
   ],
   "source": [
    "fig = plt.figure() # 그림오브젝트 생성되고 fig라는 이름이 붙음"
   ]
  },
  {
   "cell_type": "markdown",
   "id": "7abac1c0-387a-4e9a-80a0-6658acd08a8b",
   "metadata": {
    "id": "7abac1c0-387a-4e9a-80a0-6658acd08a8b"
   },
   "source": [
    "`-` 그림오브젝트의 액시즈를 확인 -> 아무것도 없음"
   ]
  },
  {
   "cell_type": "code",
   "execution_count": 74,
   "id": "59c846f4-5ba5-4234-be92-b061e22ad4f9",
   "metadata": {
    "id": "59c846f4-5ba5-4234-be92-b061e22ad4f9",
    "outputId": "cc69e494-e9fe-4929-f4fc-a97c3551ce3c"
   },
   "outputs": [
    {
     "data": {
      "text/plain": [
       "[]"
      ]
     },
     "execution_count": 74,
     "metadata": {},
     "output_type": "execute_result"
    }
   ],
   "source": [
    "fig.axes"
   ]
  },
  {
   "cell_type": "markdown",
   "id": "4e7eeac6-dfa8-4f89-a05c-ddd62f017270",
   "metadata": {
    "id": "4e7eeac6-dfa8-4f89-a05c-ddd62f017270"
   },
   "source": [
    "`-` (0,0)자리에 (가로=1,세로=1) 크기의 액시즈를 넣어보자. "
   ]
  },
  {
   "cell_type": "code",
   "execution_count": 75,
   "id": "bf9367b2-a36d-4b51-ad1e-fe37cda60dda",
   "metadata": {
    "id": "bf9367b2-a36d-4b51-ad1e-fe37cda60dda",
    "outputId": "129053d7-a1ef-4d9a-cad4-4bd66ca94df3"
   },
   "outputs": [
    {
     "data": {
      "text/plain": [
       "<Axes:>"
      ]
     },
     "execution_count": 75,
     "metadata": {},
     "output_type": "execute_result"
    }
   ],
   "source": [
    "fig.add_axes([0,0,1,1]) "
   ]
  },
  {
   "cell_type": "code",
   "execution_count": 76,
   "id": "f6dd4db3-aaf2-4f59-8573-3bc596464568",
   "metadata": {
    "id": "f6dd4db3-aaf2-4f59-8573-3bc596464568",
    "outputId": "3f5b9b1e-abab-4c3e-ac11-8cd947495c4d"
   },
   "outputs": [
    {
     "data": {
      "text/plain": [
       "[<Axes:>]"
      ]
     },
     "execution_count": 76,
     "metadata": {},
     "output_type": "execute_result"
    }
   ],
   "source": [
    "fig.axes"
   ]
  },
  {
   "cell_type": "code",
   "execution_count": 77,
   "id": "7bfd90ac-c4d5-4815-997a-12e149bc0759",
   "metadata": {
    "id": "7bfd90ac-c4d5-4815-997a-12e149bc0759",
    "outputId": "43b2746e-c4ae-42dd-ffa9-4ca8983f287a"
   },
   "outputs": [
    {
     "data": {
      "image/png": "[encoded data removed]",
      "text/plain": [
       "<Figure size 432x288 with 1 Axes>"
      ]
     },
     "execution_count": 77,
     "metadata": {},
     "output_type": "execute_result"
    }
   ],
   "source": [
    "fig"
   ]
  },
  {
   "cell_type": "markdown",
   "id": "1c1cbac1-f5b0-42f7-b209-76ea5adb2eee",
   "metadata": {
    "id": "1c1cbac1-f5b0-42f7-b209-76ea5adb2eee"
   },
   "source": [
    "`-` (0,1.2) 위치에 (가로=1,세로=1) 크기의 액시즈 추가"
   ]
  },
  {
   "cell_type": "code",
   "execution_count": 78,
   "id": "a437eac9-aba0-4deb-a3bb-c21f7fad1f77",
   "metadata": {
    "id": "a437eac9-aba0-4deb-a3bb-c21f7fad1f77",
    "outputId": "aa7a5414-dbe7-4e22-8f82-4a4678be063d"
   },
   "outputs": [
    {
     "data": {
      "image/png": "[encoded data removed]",
      "text/plain": [
       "<Figure size 432x288 with 2 Axes>"
      ]
     },
     "execution_count": 78,
     "metadata": {},
     "output_type": "execute_result"
    }
   ],
   "source": [
    "fig.add_axes([0,1.2, 1,1]) \n",
    "fig"
   ]
  },
  {
   "cell_type": "markdown",
   "id": "02c3ba29-638b-499a-af6a-e57719c42599",
   "metadata": {
    "id": "02c3ba29-638b-499a-af6a-e57719c42599"
   },
   "source": [
    "`-` (0.5,0.5) 위치에 (가로=1, 세로=1) 크기의 그림 추가 "
   ]
  },
  {
   "cell_type": "code",
   "execution_count": 79,
   "id": "f9704930-1068-4189-bb6d-1a6f061ca001",
   "metadata": {
    "id": "f9704930-1068-4189-bb6d-1a6f061ca001",
    "outputId": "52429d9a-3d95-437d-939c-ee4354e76fae"
   },
   "outputs": [
    {
     "data": {
      "text/plain": [
       "<Axes:>"
      ]
     },
     "execution_count": 79,
     "metadata": {},
     "output_type": "execute_result"
    }
   ],
   "source": [
    "fig.add_axes([0.5,0.5, 1,1])"
   ]
  },
  {
   "cell_type": "code",
   "execution_count": 80,
   "id": "56eff8f1-5ce4-49d7-ae8c-1e81ab0e8b59",
   "metadata": {
    "id": "56eff8f1-5ce4-49d7-ae8c-1e81ab0e8b59",
    "outputId": "cad74728-1aa5-4ffe-f489-513ac70ec1f5"
   },
   "outputs": [
    {
     "data": {
      "image/png": "[encoded data removed]",
      "text/plain": [
       "<Figure size 432x288 with 3 Axes>"
      ]
     },
     "execution_count": 80,
     "metadata": {},
     "output_type": "execute_result"
    }
   ],
   "source": [
    "fig"
   ]
  },
  {
   "cell_type": "markdown",
   "id": "b53a95cd-707d-4be8-945c-3bf60a417797",
   "metadata": {
    "id": "b53a95cd-707d-4be8-945c-3bf60a417797"
   },
   "source": [
    "`-` fig의 세번째 액시즈에 접근"
   ]
  },
  {
   "cell_type": "code",
   "execution_count": 81,
   "id": "a145ef7a-c7a2-4712-bdfe-aeaff32fd3cd",
   "metadata": {
    "id": "a145ef7a-c7a2-4712-bdfe-aeaff32fd3cd",
    "outputId": "b117cb2a-2763-4c61-b4fa-70274ffcc65f"
   },
   "outputs": [
    {
     "data": {
      "text/plain": [
       "<Axes:>"
      ]
     },
     "execution_count": 81,
     "metadata": {},
     "output_type": "execute_result"
    }
   ],
   "source": [
    "a3 = fig.axes[2] # 이것역시 오브젝트임 \n",
    "a3"
   ]
  },
  {
   "cell_type": "markdown",
   "id": "52497531-b2fb-40b2-b9ea-6a35874b890a",
   "metadata": {
    "id": "52497531-b2fb-40b2-b9ea-6a35874b890a"
   },
   "source": [
    "`-` 액시즈의 메소드중에 plot이 있음 -> 이것으로 그림을 그려봄"
   ]
  },
  {
   "cell_type": "code",
   "execution_count": 82,
   "id": "96c3b383-ca63-430c-b1ef-6c05cb4af64c",
   "metadata": {
    "id": "96c3b383-ca63-430c-b1ef-6c05cb4af64c",
    "outputId": "7d522ea9-733c-4aa5-b3e8-c8f0905b087e"
   },
   "outputs": [
    {
     "data": {
      "text/plain": [
       "[<matplotlib.lines.Line2D at 0x7f7c980c5ca0>]"
      ]
     },
     "execution_count": 82,
     "metadata": {},
     "output_type": "execute_result"
    }
   ],
   "source": [
    "a3.plot([1,2,3],[4,5,3],'--r')"
   ]
  },
  {
   "cell_type": "code",
   "execution_count": 83,
   "id": "464c6a1b-20ec-42c2-936a-d5739abb3a5b",
   "metadata": {
    "id": "464c6a1b-20ec-42c2-936a-d5739abb3a5b",
    "outputId": "7b12e8aa-38ff-421d-c5cc-3ec2b1e9e70f"
   },
   "outputs": [
    {
     "data": {
      "image/png": "[encoded data removed]",
      "text/plain": [
       "<Figure size 432x288 with 3 Axes>"
      ]
     },
     "execution_count": 83,
     "metadata": {},
     "output_type": "execute_result"
    }
   ],
   "source": [
    "fig"
   ]
  },
  {
   "cell_type": "markdown",
   "id": "87b19358-794b-4803-8fb7-1b08957d0983",
   "metadata": {
    "id": "87b19358-794b-4803-8fb7-1b08957d0983"
   },
   "source": [
    "`-` 다시 세번째 축에 접근하여 다른그림을 그려보자. "
   ]
  },
  {
   "cell_type": "code",
   "execution_count": 84,
   "id": "032e22ed-1e1f-4eec-86b2-cf0b67dc799e",
   "metadata": {
    "id": "032e22ed-1e1f-4eec-86b2-cf0b67dc799e",
    "outputId": "68576de8-c3bf-4bb9-f05a-8d0b4a649bbc"
   },
   "outputs": [
    {
     "data": {
      "image/png": "[encoded data removed]",
      "text/plain": [
       "<Figure size 432x288 with 3 Axes>"
      ]
     },
     "execution_count": 84,
     "metadata": {},
     "output_type": "execute_result"
    }
   ],
   "source": [
    "fig.axes[-1].plot([1,2,3],[5,4,3],':o')\n",
    "fig"
   ]
  },
  {
   "cell_type": "markdown",
   "id": "7ff36d90-21a7-403c-86c5-144a07035244",
   "metadata": {
    "id": "7ff36d90-21a7-403c-86c5-144a07035244"
   },
   "source": [
    "`-` 이제 첫번째 축에 접근하여 새로운 그림을 그려보자. "
   ]
  },
  {
   "cell_type": "code",
   "execution_count": 85,
   "id": "3345e173-6497-4d9d-874f-0e66ae7d3223",
   "metadata": {
    "id": "3345e173-6497-4d9d-874f-0e66ae7d3223",
    "outputId": "d7be2d27-a055-4632-e32a-475138c1d6b7"
   },
   "outputs": [
    {
     "data": {
      "image/png": "[encoded data removed]",
      "text/plain": [
       "<Figure size 432x288 with 3 Axes>"
      ]
     },
     "execution_count": 85,
     "metadata": {},
     "output_type": "execute_result"
    }
   ],
   "source": [
    "fig.axes[0].plot([1,2,3],[4,1,4],'--b')\n",
    "fig"
   ]
  },
  {
   "cell_type": "markdown",
   "id": "36c0be87-e770-4bf7-92db-aba81ebde27d",
   "metadata": {
    "id": "36c0be87-e770-4bf7-92db-aba81ebde27d"
   },
   "source": [
    "`-` 클래스에 대한 이해가 없다면 위와 같은 그림을 그리기도 힘들고 코드를 해석하기도 힘듦"
   ]
  },
  {
   "cell_type": "markdown",
   "id": "d46dfd37-b4ae-4209-8a26-7ea4d00fe9a3",
   "metadata": {
    "id": "d46dfd37-b4ae-4209-8a26-7ea4d00fe9a3"
   },
   "source": [
    "### 참조와 에일리어싱"
   ]
  },
  {
   "cell_type": "markdown",
   "id": "1038204b-9a9d-45c3-acfc-d767a16fb8c1",
   "metadata": {
    "id": "1038204b-9a9d-45c3-acfc-d767a16fb8c1"
   },
   "source": [
    "`-` 아래의 코드를 관찰하자. "
   ]
  },
  {
   "cell_type": "code",
   "execution_count": 86,
   "id": "dcd4a205-3409-443a-94a5-95c35a265374",
   "metadata": {
    "id": "dcd4a205-3409-443a-94a5-95c35a265374"
   },
   "outputs": [],
   "source": [
    "a=[1,2,3]\n",
    "b=a\n",
    "a=a+[4]"
   ]
  },
  {
   "cell_type": "markdown",
   "id": "3dcdd769-65d2-43bf-88c7-3c24ad855168",
   "metadata": {
    "id": "3dcdd769-65d2-43bf-88c7-3c24ad855168"
   },
   "source": [
    "현재 a,b의 출력결과는? "
   ]
  },
  {
   "cell_type": "code",
   "execution_count": 87,
   "id": "8d288b5e-87c9-45f2-808c-0a7c679611aa",
   "metadata": {
    "id": "8d288b5e-87c9-45f2-808c-0a7c679611aa",
    "outputId": "044850dd-1d61-45c4-8f22-333fc2185655"
   },
   "outputs": [
    {
     "data": {
      "text/plain": [
       "([1, 2, 3, 4], [1, 2, 3])"
      ]
     },
     "execution_count": 87,
     "metadata": {},
     "output_type": "execute_result"
    }
   ],
   "source": [
    "a, b"
   ]
  },
  {
   "cell_type": "markdown",
   "id": "6adeca81-6d42-4e89-a3e3-6cf1de9de873",
   "metadata": {
    "id": "6adeca81-6d42-4e89-a3e3-6cf1de9de873"
   },
   "source": [
    "`-` 이제 다시 아래의 코드를 관찰하자. "
   ]
  },
  {
   "cell_type": "code",
   "execution_count": 88,
   "id": "dcc04676-859a-40b3-be0e-7e4357051302",
   "metadata": {
    "id": "dcc04676-859a-40b3-be0e-7e4357051302"
   },
   "outputs": [],
   "source": [
    "a=[1,2,3]\n",
    "b=a\n",
    "a.append(4)"
   ]
  },
  {
   "cell_type": "markdown",
   "id": "59cad5e3-3704-43a6-888c-69a06afc58a1",
   "metadata": {
    "id": "59cad5e3-3704-43a6-888c-69a06afc58a1"
   },
   "source": [
    "현재 a,b의 출력결과는? "
   ]
  },
  {
   "cell_type": "code",
   "execution_count": 89,
   "id": "2ea21763-8d76-4f63-a581-971ab0d3581a",
   "metadata": {
    "id": "2ea21763-8d76-4f63-a581-971ab0d3581a",
    "outputId": "25308e20-87f0-4ff2-d753-7601da17bd63"
   },
   "outputs": [
    {
     "data": {
      "text/plain": [
       "([1, 2, 3, 4], [1, 2, 3, 4])"
      ]
     },
     "execution_count": 89,
     "metadata": {},
     "output_type": "execute_result"
    }
   ],
   "source": [
    "a,b"
   ]
  },
  {
   "cell_type": "markdown",
   "id": "b8df2f9e-2c30-43f5-b9ef-dec8f8ceef6e",
   "metadata": {
    "id": "b8df2f9e-2c30-43f5-b9ef-dec8f8ceef6e"
   },
   "source": [
    "`-` 아래의 코드를 다시 살펴보자. \n",
    "\n",
    "```python\n",
    "a=[1,2,3]\n",
    "b=a\n",
    "a.append(4)\n",
    "```"
   ]
  },
  {
   "cell_type": "markdown",
   "id": "9a41f080-baf4-4349-a75c-9d6655df415c",
   "metadata": {
    "id": "9a41f080-baf4-4349-a75c-9d6655df415c"
   },
   "source": [
    "a,b라는 변수들은 메모리에 어떻게 저장이 되어있을까? \n",
    "\n",
    "상상력을 조금 발휘하면 아래와 같이 여길 수 있다. "
   ]
  },
  {
   "cell_type": "markdown",
   "id": "9e410ad2-3e47-4555-8d1f-8b420a673a18",
   "metadata": {
    "id": "9e410ad2-3e47-4555-8d1f-8b420a673a18"
   },
   "source": [
    "(1) 메모리는 변수를 담을 방이 여러개 있는 호텔이라고 생각하자. "
   ]
  },
  {
   "cell_type": "markdown",
   "id": "9a08edc6",
   "metadata": {
    "id": "9a08edc6"
   },
   "source": [
    "(2) 아래를 실행하였을 경우 \n",
    "```python\n",
    "a=[1,2,3]\n",
    "```\n",
    "- 메모리주소1에 존재하는 방을 a라고 하고, 그 방에 [1,2,3]을 넣는다. "
   ]
  },
  {
   "cell_type": "markdown",
   "id": "48a6b8fe-3805-42ef-b083-cc00f18391cc",
   "metadata": {
    "id": "48a6b8fe-3805-42ef-b083-cc00f18391cc"
   },
   "source": [
    "(3) 아래를 실행하였을 경우 \n",
    "```python\n",
    "b=a\n",
    "```\n",
    "- 메모리주소38에 존재하는 방을 b라고 하고, 그 방에 a를 넣어야하는데, a는 [1,2,3]이니까 [1,2,3]을 넣는다. "
   ]
  },
  {
   "cell_type": "markdown",
   "id": "0c71fe3c-0932-463d-b1c0-3e05e232a230",
   "metadata": {
    "id": "0c71fe3c-0932-463d-b1c0-3e05e232a230"
   },
   "source": [
    "(4) 아래를 실행하면 \n",
    "```python\n",
    "a.append(4)\n",
    "```\n",
    "- 방 a로가서 [1,2,3]을 [1,2,3,4]로 바꾼다. \n",
    "- 그리고 방 b에는 아무것도 하지 않는다. "
   ]
  },
  {
   "cell_type": "markdown",
   "id": "b5e33ddc-4886-49a4-b0d1-c96e85ffc954",
   "metadata": {
    "id": "b5e33ddc-4886-49a4-b0d1-c96e85ffc954"
   },
   "source": [
    "`-` R에서는 맞는 비유인데, 파이썬은 적절하지 않은 비유이다. "
   ]
  },
  {
   "cell_type": "code",
   "execution_count": 90,
   "id": "0972d4a1-25d3-4d29-b937-46aab78aff67",
   "metadata": {
    "id": "0972d4a1-25d3-4d29-b937-46aab78aff67",
    "outputId": "a5ec4d1c-5993-4388-a002-c0f0cedfc515"
   },
   "outputs": [
    {
     "data": {
      "text/plain": [
       "140173103370496"
      ]
     },
     "execution_count": 90,
     "metadata": {},
     "output_type": "execute_result"
    }
   ],
   "source": [
    "id(a)"
   ]
  },
  {
   "cell_type": "code",
   "execution_count": 91,
   "id": "34d7c890-7996-4460-80f2-fca87972bf74",
   "metadata": {
    "id": "34d7c890-7996-4460-80f2-fca87972bf74",
    "outputId": "349056c4-8876-4eeb-f7e5-5fd9acdc7258"
   },
   "outputs": [
    {
     "data": {
      "text/plain": [
       "140173103370496"
      ]
     },
     "execution_count": 91,
     "metadata": {},
     "output_type": "execute_result"
    }
   ],
   "source": [
    "id(b)"
   ]
  },
  {
   "cell_type": "markdown",
   "id": "0fc1ed50-a1d5-4830-b7f3-77da53b6a9dc",
   "metadata": {
    "id": "0fc1ed50-a1d5-4830-b7f3-77da53b6a9dc"
   },
   "source": [
    "실제로는 a,b가 저장된 메모리 주소가 동일함 "
   ]
  },
  {
   "cell_type": "markdown",
   "id": "4a01ff2c-6134-4de8-91f7-afc9bdb93cd7",
   "metadata": {
    "id": "4a01ff2c-6134-4de8-91f7-afc9bdb93cd7"
   },
   "source": [
    "`-` 파이썬에서는 아래가 더 적절한 비유이다. "
   ]
  },
  {
   "cell_type": "markdown",
   "id": "8e451db1-be78-4543-b130-1881bc55922f",
   "metadata": {
    "id": "8e451db1-be78-4543-b130-1881bc55922f"
   },
   "source": [
    "(1) 메모리는 변수를 담을 방이 여러개 있는 호텔이라고 생각하자. "
   ]
  },
  {
   "cell_type": "markdown",
   "id": "b4958a5f-63a9-4cbc-abe0-f825881eb3fe",
   "metadata": {
    "id": "b4958a5f-63a9-4cbc-abe0-f825881eb3fe"
   },
   "source": [
    "(2) 아래를 실행하였을 경우 \n",
    "```python\n",
    "a=[1,2,3]\n",
    "```\n",
    "- 메모리주소139851743661952에서 [1,2,3]을 생성해요 \n",
    "- 방 139851743661952의 방문에 a라는 포스트잇을 붙인다. \n",
    "- 앞으로 [1,2,3]에 접근하기 위해서는 여러 메모리방중에서 a라는 포스트잇이 붙은 방을 찾아가면 된다. "
   ]
  },
  {
   "cell_type": "markdown",
   "id": "33d4fcaf-c2db-4f6c-a5a4-ccf9ed6108c9",
   "metadata": {
    "id": "33d4fcaf-c2db-4f6c-a5a4-ccf9ed6108c9"
   },
   "source": [
    "(3) 아래를 실행하였을 경우 \n",
    "```python\n",
    "b=a\n",
    "```\n",
    "- a라는 포스트잇이 있는데, a라는 포스트잇이랑 b라는 포스트잇과 같은 효과를 주도록 한다. \n",
    "- 쉽게말하면 b라는 포스트잇을 방 139851743661952의 방문에 붙인다는 이야기. \n",
    "- 앞으로 [1,2,3]에 접근하기 위해서는 여러 메모리방중에서 a라는 포스트잇이 붙어 있거나 b라는 포스트잇이 붙어있는 방을 찾아가면 된다. "
   ]
  },
  {
   "cell_type": "markdown",
   "id": "a6d5caba-f21e-4338-9962-67e17a8a11b4",
   "metadata": {
    "id": "a6d5caba-f21e-4338-9962-67e17a8a11b4"
   },
   "source": [
    "(4) 아래를 실행하면 \n",
    "```python\n",
    "a.append(4)\n",
    "```\n",
    "- a라는 포스트잇이 붙어있는 방으로 가서, 그 내용물 append함수를 써서 4를 추가하라. 즉 내용물 [1,2,3]을 [1,2,3,4]로 바꾸라. \n",
    "- 같은방에 a,b라는 포스트잇이 모두 붙어있음. 따라서 b라는 포스트잇이 붙은 방을 찾아가서 내용물을 열어보면 [1,2,3,4]가 나온다. "
   ]
  },
  {
   "cell_type": "markdown",
   "id": "99eeebcc",
   "metadata": {
    "id": "99eeebcc"
   },
   "source": [
    "`-` 결론: 파이썬의 모든것은 오브젝트이다. 그리고 모든 오브젝트는 메모리주소위에 올라간다. 하지만 그 메모리주소에 붙어있는 포스트잇이 하나라는 보장은 없다. "
   ]
  }
 ],
 "metadata": {
  "celltoolbar": "Slideshow",
  "colab": {
   "name": "2022-06-06-(14주차) 6월6일.ipynb",
   "provenance": []
  },
  "kernelspec": {
   "display_name": "Python 3 (ipykernel)",
   "language": "python",
   "name": "python3"
  },
  "language_info": {
   "codemirror_mode": {
    "name": "ipython",
    "version": 3
   },
   "file_extension": ".py",
   "mimetype": "text/x-python",
   "name": "python",
   "nbconvert_exporter": "python",
   "pygments_lexer": "ipython3",
   "version": "3.8.12"
  }
 },
 "nbformat": 4,
 "nbformat_minor": 5
}
