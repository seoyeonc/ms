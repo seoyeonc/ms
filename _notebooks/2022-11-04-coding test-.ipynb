{
 "cells": [
  {
   "cell_type": "markdown",
   "id": "a6341c58-3da4-423d-97f1-5e682149cd09",
   "metadata": {
    "id": "cac470df-29e7-4148-9bbd-d8b9a32fa570",
    "tags": []
   },
   "source": [
    "# Coding\n",
    "> \n",
    "\n",
    "- toc:true\n",
    "- branch: master\n",
    "- badges: true\n",
    "- comments: false\n",
    "- author: 최서연"
   ]
  },
  {
   "cell_type": "markdown",
   "id": "5e0f85cc-460d-4b67-8c05-43606bd7d6f0",
   "metadata": {
    "tags": []
   },
   "source": [
    "### 무지의 먹방 라이브 p.316"
   ]
  },
  {
   "cell_type": "markdown",
   "id": "072af7eb-13ab-41f4-8089-b3483df0ddf1",
   "metadata": {},
   "source": [
    "https://school.programmers.co.kr/learn/courses/30/lessons/42891?language=python3"
   ]
  },
  {
   "cell_type": "markdown",
   "id": "ebf2687f-2596-4475-9153-38c3765b9958",
   "metadata": {},
   "source": [
    "- Greedy 접근 방식"
   ]
  },
  {
   "cell_type": "code",
   "execution_count": 1,
   "id": "979892a0-2f58-49a2-b7ad-bc6b84f07314",
   "metadata": {},
   "outputs": [],
   "source": [
    "import heapq"
   ]
  },
  {
   "cell_type": "code",
   "execution_count": 9,
   "id": "7628b873-7cd0-48b3-8116-92561a8d19fb",
   "metadata": {},
   "outputs": [],
   "source": [
    "def solution(food_times, k):\n",
    "    if sum(food_times) <= k :\n",
    "        return -1\n",
    "    \n",
    "    q = []\n",
    "    for i in range(len(food_times)):\n",
    "        heapq.heappush(q,(food_times[i],i+1))\n",
    "        \n",
    "    sum_value = 0\n",
    "    previous = 0\n",
    "    \n",
    "    length = len(food_times)\n",
    "    \n",
    "    while sum_value + ((q[0][0] - previous) * length) <= k:\n",
    "        now = heapq.heappop(q)[0]\n",
    "        sum_value += (now - previous) * length\n",
    "        length -=1\n",
    "        previous = now\n",
    "        \n",
    "    result = sorted(q,key = lambda x: x[1])\n",
    "    return result[(k - sum_value) % length][1]"
   ]
  },
  {
   "cell_type": "code",
   "execution_count": 10,
   "id": "3d015c5b-e775-425e-b79d-7ae131d8f8b1",
   "metadata": {},
   "outputs": [
    {
     "data": {
      "text/plain": [
       "1"
      ]
     },
     "execution_count": 10,
     "metadata": {},
     "output_type": "execute_result"
    }
   ],
   "source": [
    "solution([3,1,2],5)"
   ]
  },
  {
   "cell_type": "code",
   "execution_count": 333,
   "id": "133d6348-607a-475c-b3b9-56e21b6c9237",
   "metadata": {},
   "outputs": [],
   "source": [
    "cost = [19,78,27,18,20]"
   ]
  },
  {
   "cell_type": "code",
   "execution_count": 334,
   "id": "a7076bb1-f308-4c90-a544-7f1dc3bbec86",
   "metadata": {},
   "outputs": [
    {
     "data": {
      "text/plain": [
       "[18, 19, 20, 27, 78]"
      ]
     },
     "execution_count": 334,
     "metadata": {},
     "output_type": "execute_result"
    }
   ],
   "source": [
    "sorted(cost)"
   ]
  },
  {
   "cell_type": "code",
   "execution_count": 335,
   "id": "61de5a58-73b8-4b0f-a0a2-2b0b9863caeb",
   "metadata": {},
   "outputs": [],
   "source": [
    "q = []\n",
    "for i in range(len(cost)):\n",
    "    heapq.heappush(q,(cost[i],i))\n"
   ]
  },
  {
   "cell_type": "code",
   "execution_count": 336,
   "id": "6be99de0-6711-4aca-b5c9-1a8a38fddea9",
   "metadata": {},
   "outputs": [
    {
     "data": {
      "text/plain": [
       "[(18, 3), (19, 0), (27, 2), (78, 1), (20, 4)]"
      ]
     },
     "execution_count": 336,
     "metadata": {},
     "output_type": "execute_result"
    }
   ],
   "source": [
    "q"
   ]
  },
  {
   "cell_type": "code",
   "execution_count": 337,
   "id": "ca9fd0f7-b208-4536-af97-2772f6df098d",
   "metadata": {},
   "outputs": [
    {
     "data": {
      "text/plain": [
       "5"
      ]
     },
     "execution_count": 337,
     "metadata": {},
     "output_type": "execute_result"
    }
   ],
   "source": [
    "len(q)"
   ]
  },
  {
   "cell_type": "code",
   "execution_count": 340,
   "id": "c890b01c-8214-4df4-88d4-d7134a6e6335",
   "metadata": {},
   "outputs": [
    {
     "data": {
      "text/plain": [
       "(19, 0)"
      ]
     },
     "execution_count": 340,
     "metadata": {},
     "output_type": "execute_result"
    }
   ],
   "source": [
    "q[1]"
   ]
  },
  {
   "cell_type": "code",
   "execution_count": 342,
   "id": "3c032650-6901-44b3-8e5c-ef60705593dd",
   "metadata": {},
   "outputs": [
    {
     "data": {
      "text/plain": [
       "[(78, 1), (27, 2), (20, 4), (19, 0), (18, 3)]"
      ]
     },
     "execution_count": 342,
     "metadata": {},
     "output_type": "execute_result"
    }
   ],
   "source": [
    "sorted(q,reverse = True)"
   ]
  },
  {
   "cell_type": "code",
   "execution_count": 343,
   "id": "4ca1dbc5-6302-4008-90b5-16d394ca045e",
   "metadata": {},
   "outputs": [
    {
     "data": {
      "text/plain": [
       "5"
      ]
     },
     "execution_count": 343,
     "metadata": {},
     "output_type": "execute_result"
    }
   ],
   "source": [
    "len(q)"
   ]
  },
  {
   "cell_type": "code",
   "execution_count": 345,
   "id": "b6b3fd01-2bc6-4c95-9a97-73f0fe2f7ded",
   "metadata": {},
   "outputs": [
    {
     "data": {
      "text/plain": [
       "18"
      ]
     },
     "execution_count": 345,
     "metadata": {},
     "output_type": "execute_result"
    }
   ],
   "source": [
    "q[0][0]"
   ]
  },
  {
   "cell_type": "code",
   "execution_count": 349,
   "id": "bba6a851-cc29-4c06-8e61-e1f6fcfa9ca7",
   "metadata": {},
   "outputs": [
    {
     "data": {
      "text/plain": [
       "18"
      ]
     },
     "execution_count": 349,
     "metadata": {},
     "output_type": "execute_result"
    }
   ],
   "source": [
    "18 % (10**9 + 7)"
   ]
  },
  {
   "cell_type": "code",
   "execution_count": 408,
   "id": "a7c3575e-8df5-4623-8292-efc333fa6dd6",
   "metadata": {},
   "outputs": [],
   "source": [
    "def solution(cost, x):\n",
    "    # Write your code here\n",
    "    color1 = 0\n",
    "    color2 = 0\n",
    "    x1 = x\n",
    "    \n",
    "    q = []\n",
    "    for i in range(len(cost)):\n",
    "        heapq.heappush(q,(cost[i],i))\n",
    "    q1 = sorted(q,reverse = True)\n",
    "    \n",
    "    qq = []\n",
    "    for i in range(len(cost)):\n",
    "        heapq.heappush(qq,(i,cost[i]))\n",
    "    qq1 = sorted(qq,reverse = True)\n",
    "    \n",
    "        \n",
    "    if x == sum(cost):\n",
    "        for i in range(len(cost)):\n",
    "            color1 += 2**(i)\n",
    "            color2 += 2**(i)\n",
    "    elif x < q1[0][0]:\n",
    "        for i in range(len(q1)):\n",
    "            if x < q1[i][0]:\n",
    "                color1 += 0\n",
    "            else:\n",
    "                color1 += 2**q1[i][1]\n",
    "                x -= q1[i][0]\n",
    "    elif x1 > qq1[0][1]:\n",
    "        for i in range(len(qq)):\n",
    "            if x1 < qq1[i][1]:\n",
    "                color2 += 0\n",
    "            else:\n",
    "                color2 += 2**qq1[i][0]\n",
    "                x1 -= qq1[i][1]\n",
    "                \n",
    "    return max(color1, color2) % (10**9 + 7)"
   ]
  },
  {
   "cell_type": "code",
   "execution_count": 411,
   "id": "8e153b8a-c831-4e6c-bdaa-aceaeedea418",
   "metadata": {},
   "outputs": [
    {
     "data": {
      "text/plain": [
       "7"
      ]
     },
     "execution_count": 411,
     "metadata": {},
     "output_type": "execute_result"
    }
   ],
   "source": [
    "solution([3,4,1],8)"
   ]
  },
  {
   "cell_type": "code",
   "execution_count": 412,
   "id": "4290607d-2c6f-4495-ae6e-86c20799ad03",
   "metadata": {},
   "outputs": [
    {
     "data": {
      "text/plain": [
       "16"
      ]
     },
     "execution_count": 412,
     "metadata": {},
     "output_type": "execute_result"
    }
   ],
   "source": [
    "solution([19,78,27,18,20],20)"
   ]
  },
  {
   "cell_type": "code",
   "execution_count": 413,
   "id": "f63fed39-c5ab-4a80-b9bc-6449d7e06322",
   "metadata": {},
   "outputs": [
    {
     "data": {
      "text/plain": [
       "827028281"
      ]
     },
     "execution_count": 413,
     "metadata": {},
     "output_type": "execute_result"
    }
   ],
   "source": [
    "solution([19,78,27,18,20,22,21,90],200)"
   ]
  },
  {
   "cell_type": "code",
   "execution_count": 419,
   "id": "274c6b3b-ecbb-449c-b0d5-7757e0faa6e5",
   "metadata": {},
   "outputs": [],
   "source": [
    "cost = [19,78,27,18,20,22,21,90]"
   ]
  },
  {
   "cell_type": "code",
   "execution_count": 420,
   "id": "95083382-9959-4bff-90d4-8027eebf87d5",
   "metadata": {},
   "outputs": [],
   "source": [
    "qq = []\n",
    "for i in range(len(cost)):\n",
    "        heapq.heappush(qq,(i,cost[i]))"
   ]
  },
  {
   "cell_type": "code",
   "execution_count": 421,
   "id": "ef10d953-b19e-4b9c-9b72-f080b2f89229",
   "metadata": {},
   "outputs": [],
   "source": [
    "qq1 = sorted(qq,reverse = True)"
   ]
  },
  {
   "cell_type": "code",
   "execution_count": 422,
   "id": "90bcf616-1f91-472a-b0e6-032d6561dd2c",
   "metadata": {},
   "outputs": [
    {
     "data": {
      "text/plain": [
       "[(7, 90), (6, 21), (5, 22), (4, 20), (3, 18), (2, 27), (1, 78), (0, 19)]"
      ]
     },
     "execution_count": 422,
     "metadata": {},
     "output_type": "execute_result"
    }
   ],
   "source": [
    "qq1"
   ]
  },
  {
   "cell_type": "code",
   "execution_count": 423,
   "id": "c26f89b1-095b-475e-bcc3-ac1b65376a4b",
   "metadata": {},
   "outputs": [
    {
     "data": {
      "text/plain": [
       "90"
      ]
     },
     "execution_count": 423,
     "metadata": {},
     "output_type": "execute_result"
    }
   ],
   "source": [
    "qq1[0][1]"
   ]
  },
  {
   "cell_type": "code",
   "execution_count": 428,
   "id": "b6ec0011-fade-45d2-9215-bc641a9a10a5",
   "metadata": {},
   "outputs": [
    {
     "data": {
      "text/plain": [
       "128"
      ]
     },
     "execution_count": 428,
     "metadata": {},
     "output_type": "execute_result"
    }
   ],
   "source": [
    "2**qq1[0][0]"
   ]
  },
  {
   "cell_type": "code",
   "execution_count": 429,
   "id": "ec3f8d6a-dbf8-46d7-929b-d0cc2527c224",
   "metadata": {},
   "outputs": [
    {
     "data": {
      "text/plain": [
       "90"
      ]
     },
     "execution_count": 429,
     "metadata": {},
     "output_type": "execute_result"
    }
   ],
   "source": [
    "qq1[0][1]"
   ]
  },
  {
   "cell_type": "code",
   "execution_count": 430,
   "id": "0cd05136-8b41-4c81-9b01-af481c844d89",
   "metadata": {},
   "outputs": [
    {
     "data": {
      "text/plain": [
       "110"
      ]
     },
     "execution_count": 430,
     "metadata": {},
     "output_type": "execute_result"
    }
   ],
   "source": [
    "200-90"
   ]
  },
  {
   "cell_type": "code",
   "execution_count": null,
   "id": "2d3431db-8353-4020-850c-df58b67ec0ee",
   "metadata": {},
   "outputs": [],
   "source": [
    "2"
   ]
  },
  {
   "cell_type": "code",
   "execution_count": null,
   "id": "6cfda1ea-5b70-458d-b1f8-349f3df77797",
   "metadata": {},
   "outputs": [],
   "source": [
    "0 + 1 + 2 = 3\n",
    "\n",
    "3"
   ]
  },
  {
   "cell_type": "code",
   "execution_count": 364,
   "id": "bf0e55c4-fbfb-44f2-b4b1-67d198b0cdb3",
   "metadata": {},
   "outputs": [
    {
     "data": {
      "text/plain": [
       "16"
      ]
     },
     "execution_count": 364,
     "metadata": {},
     "output_type": "execute_result"
    }
   ],
   "source": [
    "2**q[2][1]"
   ]
  },
  {
   "cell_type": "code",
   "execution_count": 128,
   "id": "667d4579-0297-44ce-83d6-24322d850426",
   "metadata": {},
   "outputs": [],
   "source": [
    "eee=[]\n",
    "heapq.heappush(eee,20)\n",
    "heapq.heappush(eee,0)\n",
    "heapq.heappush(eee,30)"
   ]
  },
  {
   "cell_type": "code",
   "execution_count": 129,
   "id": "b931dd12-0a5f-4d9e-9bbc-043aec786bcd",
   "metadata": {},
   "outputs": [
    {
     "data": {
      "text/plain": [
       "[0, 20, 30]"
      ]
     },
     "execution_count": 129,
     "metadata": {},
     "output_type": "execute_result"
    }
   ],
   "source": [
    "eee"
   ]
  },
  {
   "cell_type": "code",
   "execution_count": 130,
   "id": "60f37a60-0fd2-4302-8f27-2559b47d58e4",
   "metadata": {},
   "outputs": [
    {
     "data": {
      "text/plain": [
       "0"
      ]
     },
     "execution_count": 130,
     "metadata": {},
     "output_type": "execute_result"
    }
   ],
   "source": [
    "heapq.heappop(eee)"
   ]
  },
  {
   "cell_type": "markdown",
   "id": "ffab496f-e4d1-48a7-8225-88fb46484e1d",
   "metadata": {
    "tags": []
   },
   "source": [
    "### 문자열 압축 p. 323"
   ]
  },
  {
   "cell_type": "markdown",
   "id": "50f8ee42-63ab-45f7-b497-06fdc2d8ab2d",
   "metadata": {},
   "source": [
    "https://school.programmers.co.kr/learn/courses/30/lessons/60057"
   ]
  },
  {
   "cell_type": "code",
   "execution_count": 12,
   "id": "43a5f168-08c7-4bd4-8eb7-5c57c0941ba6",
   "metadata": {},
   "outputs": [],
   "source": [
    "def solution(s):\n",
    "    answer = len(s)\n",
    "    for step in range(1,len(s) // 2 + 1):\n",
    "        compressed = \"\"\n",
    "        prev = s[0:step]\n",
    "        count = 1\n",
    "        \n",
    "        for j in range(step, len(s), step):\n",
    "            if prev == s[j:j + step]:\n",
    "                count += 1\n",
    "                \n",
    "            else:\n",
    "                compressed += str(count) + prev if count >= 2 else prev\n",
    "                prev = s[j:j + step]\n",
    "                count = 1\n",
    "                \n",
    "        compressed += str(count) + prev if count >=2 else prev\n",
    "        answer = min(answer, len(compressed))\n",
    "    return answer"
   ]
  },
  {
   "cell_type": "code",
   "execution_count": 17,
   "id": "3729a349-9c49-412a-95b4-7fa288ac0db7",
   "metadata": {},
   "outputs": [
    {
     "data": {
      "text/plain": [
       "10"
      ]
     },
     "execution_count": 17,
     "metadata": {},
     "output_type": "execute_result"
    }
   ],
   "source": [
    "solution('aaabbabababbd')"
   ]
  },
  {
   "cell_type": "code",
   "execution_count": 324,
   "id": "605755a2-cd97-490b-8a58-40656fe833c7",
   "metadata": {},
   "outputs": [
    {
     "data": {
      "text/plain": [
       "7"
      ]
     },
     "execution_count": 324,
     "metadata": {},
     "output_type": "execute_result"
    }
   ],
   "source": [
    "7%(10**9 + 7)"
   ]
  },
  {
   "cell_type": "markdown",
   "id": "80c7b04f-6201-43c6-9b1b-4558d8d0a4f3",
   "metadata": {
    "tags": []
   },
   "source": [
    "### 자물쇠와 열쇠 p.325"
   ]
  },
  {
   "cell_type": "markdown",
   "id": "85db8c68-fdf1-4f37-af73-afa2f23bc7b0",
   "metadata": {},
   "source": [
    "https://school.programmers.co.kr/learn/courses/30/lessons/60059"
   ]
  },
  {
   "cell_type": "code",
   "execution_count": 20,
   "id": "4d568b5b-4728-43b7-988f-ad1cfd4b76a6",
   "metadata": {},
   "outputs": [],
   "source": [
    "def rotate_a_matrix_by_90_degree(a):\n",
    "    n = len(a)\n",
    "    m = len(a[0])\n",
    "    result = [[0] * n for _ in range(m)]\n",
    "    for i in range(n):\n",
    "        for j in range(m):\n",
    "            result[j][n - i - 1] = a[i][j]\n",
    "    return result\n",
    "\n",
    "def check(new_lock):\n",
    "    lock_length = len(new_lock) // 3\n",
    "    for i in range(lock_length, lock_length * 2):\n",
    "        for j in range(lock_length, lock_length * 2):\n",
    "            if new_lock[i][j] != 1:\n",
    "                return False\n",
    "    return True\n",
    "\n",
    "def solution(key, lock):\n",
    "    n = len(lock)\n",
    "    m = len(key)\n",
    "    new_lock = [[0] * (n * 3) for _ in range(n * 3)]\n",
    "    for i in range(n):\n",
    "        for j in range(n):\n",
    "            new_lock[i + n][j + n] = lock[i][j]\n",
    "            \n",
    "    for rotation in range(4):\n",
    "        key = rotate_a_matrix_by_90_degree(key)\n",
    "        for x in range(n * 2):\n",
    "            for y in range(n * 2):\n",
    "                for i in range(m):\n",
    "                    for j in range(m):\n",
    "                        new_lock[x+ i][y + j] += key[i][j]\n",
    "                if check(new_lock) == True:\n",
    "                    return True\n",
    "                for i in range(m):\n",
    "                    for j in range(m):\n",
    "                        new_lock[x+i][y+j] -= key[i][j]\n",
    "    return False"
   ]
  },
  {
   "cell_type": "code",
   "execution_count": 21,
   "id": "edf353df-0bf8-4799-be31-a5470dcecf0b",
   "metadata": {},
   "outputs": [
    {
     "data": {
      "text/plain": [
       "True"
      ]
     },
     "execution_count": 21,
     "metadata": {},
     "output_type": "execute_result"
    }
   ],
   "source": [
    "solution([[0, 0, 0], [1, 0, 0], [0, 1, 1]],[[1, 1, 1], [1, 1, 0], [1, 0, 1]])"
   ]
  },
  {
   "cell_type": "markdown",
   "id": "5f49ba5f-73e8-41c8-8a23-e95e9698ad76",
   "metadata": {
    "tags": []
   },
   "source": [
    "### 기둥과 보 설치 p.329"
   ]
  },
  {
   "cell_type": "markdown",
   "id": "19447189-d2ee-4eb6-8415-ddb1e9609bc7",
   "metadata": {},
   "source": [
    "https://school.programmers.co.kr/learn/courses/30/lessons/60061"
   ]
  },
  {
   "cell_type": "code",
   "execution_count": 138,
   "id": "852781dd-b41f-4735-9b9e-ebc9f108c2e1",
   "metadata": {},
   "outputs": [],
   "source": [
    "def possible(answer):\n",
    "    for x, y, stuff in answer:\n",
    "        if stuff == 0:\n",
    "            if y == 0 or [x - 1, y, 1] in answer or [x,y,1] in answer or [x, y - 1, 0] in answer:\n",
    "                continue\n",
    "            return False\n",
    "        elif stuff == 1:\n",
    "            if [x, y - 1 ,0] in answer or [x+1,y-1,0] in answer or ([x-1, y,1] in answer and [x + 1, y,1] in answer):\n",
    "                continue\n",
    "            return False\n",
    "    return True\n",
    "\n",
    "\n",
    "def solution(n, build_frame):\n",
    "    answer = []\n",
    "    for frame in build_frame:\n",
    "        x,y,stuff,operate = frame\n",
    "        if operate == 0:\n",
    "            answer.remove([x,y,stuff])\n",
    "            if not possible(answer):\n",
    "                answer.append([x,y,stuff])\n",
    "        if operate == 1:\n",
    "            answer.append([x,y,stuff])\n",
    "            if not possible(answer):\n",
    "                answer.remove([x,y,stuff])\n",
    "    return sorted(answer)"
   ]
  },
  {
   "cell_type": "code",
   "execution_count": 139,
   "id": "664878ad-6405-4b79-a08f-c55605e1053c",
   "metadata": {},
   "outputs": [
    {
     "data": {
      "text/plain": [
       "[[1, 0, 0],\n",
       " [1, 1, 1],\n",
       " [2, 1, 0],\n",
       " [2, 2, 1],\n",
       " [3, 2, 1],\n",
       " [4, 2, 1],\n",
       " [5, 0, 0],\n",
       " [5, 1, 0]]"
      ]
     },
     "execution_count": 139,
     "metadata": {},
     "output_type": "execute_result"
    }
   ],
   "source": [
    "solution(5,([1,0,0,1],[1,1,1,1],[2,1,0,1],[2,2,1,1],[5,0,0,1],[5,1,0,1],[4,2,1,1],[3,2,1,1]))"
   ]
  },
  {
   "cell_type": "code",
   "execution_count": 140,
   "id": "04f9e5c7-c447-4921-ae1c-d7195f8852c2",
   "metadata": {},
   "outputs": [
    {
     "data": {
      "text/plain": [
       "[[0, 0, 0], [0, 1, 1], [1, 1, 1], [2, 1, 1], [3, 1, 1], [4, 0, 0]]"
      ]
     },
     "execution_count": 140,
     "metadata": {},
     "output_type": "execute_result"
    }
   ],
   "source": [
    "solution(5,([0,0,0,1],[2,0,0,1],[4,0,0,1],[0,1,1,1],[1,1,1,1],[2,1,1,1],[3,1,1,1],[2,0,0,0],[1,1,1,0],[2,2,0,1]))"
   ]
  },
  {
   "cell_type": "markdown",
   "id": "fb081cc8-9b3c-4e6e-8dbc-7d07872a005b",
   "metadata": {
    "tags": []
   },
   "source": [
    "### 외벽 점검 p.335"
   ]
  },
  {
   "cell_type": "markdown",
   "id": "f78f3f7e-f907-4dd7-af51-b46600e75f66",
   "metadata": {},
   "source": [
    "https://school.programmers.co.kr/learn/courses/30/lessons/60062"
   ]
  },
  {
   "cell_type": "code",
   "execution_count": 35,
   "id": "61a7ccf7-d1d5-4aa4-9327-3d370b0884ea",
   "metadata": {},
   "outputs": [],
   "source": [
    "from itertools import permutations"
   ]
  },
  {
   "cell_type": "code",
   "execution_count": 41,
   "id": "bcf91ef8-f2c4-46aa-a87a-c3d590c518e9",
   "metadata": {},
   "outputs": [],
   "source": [
    "def solution(n, weak, dist):\n",
    "    length = len(weak)\n",
    "    for i in range(length):\n",
    "        weak.append(weak[i] + n)\n",
    "    answer = len(dist) + 1\n",
    "    for start in range(length):\n",
    "        for friends in list(permutations(dist,len(dist))):\n",
    "            count = 1\n",
    "            position = weak[start] + friends[count - 1]\n",
    "            for index in range(start, start + length):\n",
    "                if position < weak[index]:\n",
    "                    count += 1\n",
    "                    if count > len(dist):\n",
    "                        break\n",
    "                    position = weak[index] + friends[count - 1]\n",
    "            answer = min(answer, count)\n",
    "    if answer > len(dist):\n",
    "        return -1\n",
    "    return answer"
   ]
  },
  {
   "cell_type": "code",
   "execution_count": 42,
   "id": "977511ff-29dd-4fd6-8f02-3df5f731f647",
   "metadata": {},
   "outputs": [
    {
     "data": {
      "text/plain": [
       "2"
      ]
     },
     "execution_count": 42,
     "metadata": {},
     "output_type": "execute_result"
    }
   ],
   "source": [
    "solution(12,[1, 5, 6, 10],[1, 2, 3, 4])"
   ]
  },
  {
   "cell_type": "code",
   "execution_count": 43,
   "id": "a3e9d26f-dfb6-41ae-acd1-a62264d6521a",
   "metadata": {},
   "outputs": [
    {
     "data": {
      "text/plain": [
       "1"
      ]
     },
     "execution_count": 43,
     "metadata": {},
     "output_type": "execute_result"
    }
   ],
   "source": [
    "solution(12,[1, 3, 4, 9, 10],[3, 5, 7])"
   ]
  },
  {
   "cell_type": "markdown",
   "id": "631c8655-ca57-4638-a5b4-a133fe6af16b",
   "metadata": {
    "tags": []
   },
   "source": [
    "### 괄호 변환 p.346"
   ]
  },
  {
   "cell_type": "markdown",
   "id": "550ef4db-e103-4d7f-9522-583bc0797d22",
   "metadata": {},
   "source": [
    "https://school.programmers.co.kr/learn/courses/30/lessons/60058"
   ]
  },
  {
   "cell_type": "markdown",
   "id": "004187ca-b8bf-4182-ac75-358df741b89e",
   "metadata": {},
   "source": [
    "DFS 알고리즘"
   ]
  },
  {
   "cell_type": "code",
   "execution_count": 60,
   "id": "a8326845-7a10-48cc-8d88-3e4963efc6ec",
   "metadata": {},
   "outputs": [],
   "source": [
    "def balanced_index(p):\n",
    "    count = 0\n",
    "    for i in range(len(p)):\n",
    "        if p[i] == '(':\n",
    "            count += 1\n",
    "        else:\n",
    "            count -= 1\n",
    "        if count == 0:\n",
    "            return i\n",
    "        \n",
    "def check_proper(p):\n",
    "    count = 0\n",
    "    for i in p:\n",
    "        if i == '(':\n",
    "            count += 1\n",
    "        else:\n",
    "            if count == 0:\n",
    "                return False\n",
    "            count -= 1\n",
    "    return True\n",
    "\n",
    "def solution(p):\n",
    "    answer = ''\n",
    "    if p == '':\n",
    "        return answer\n",
    "    index = balanced_index(p)\n",
    "    u = p[:index + 1]\n",
    "    v = p[index + 1:]\n",
    "    if check_proper(u):\n",
    "        answer = u + solution(v)\n",
    "    else:\n",
    "        answer = '('\n",
    "        answer += solution(v)\n",
    "        answer += ')'\n",
    "        u = list(u[1:-1])\n",
    "        for i in range(len(u)):\n",
    "            if u[i] == '(':\n",
    "                u[i] = ')'\n",
    "            else:\n",
    "                u[i] = '('\n",
    "        answer += \"\".join(u)\n",
    "    return answer"
   ]
  },
  {
   "cell_type": "code",
   "execution_count": 61,
   "id": "03dda44a-e87d-4168-9673-19c7562778ac",
   "metadata": {},
   "outputs": [
    {
     "data": {
      "text/plain": [
       "'(()())()'"
      ]
     },
     "execution_count": 61,
     "metadata": {},
     "output_type": "execute_result"
    }
   ],
   "source": [
    "solution('(()())()')"
   ]
  },
  {
   "cell_type": "code",
   "execution_count": 62,
   "id": "e9a559ad-650f-41a7-a8d2-a432858a9620",
   "metadata": {},
   "outputs": [
    {
     "data": {
      "text/plain": [
       "'()'"
      ]
     },
     "execution_count": 62,
     "metadata": {},
     "output_type": "execute_result"
    }
   ],
   "source": [
    "solution(')(')"
   ]
  },
  {
   "cell_type": "code",
   "execution_count": 64,
   "id": "b317836f-4380-47db-914f-4efafba0bc06",
   "metadata": {},
   "outputs": [
    {
     "data": {
      "text/plain": [
       "'()(())()'"
      ]
     },
     "execution_count": 64,
     "metadata": {},
     "output_type": "execute_result"
    }
   ],
   "source": [
    "solution('()))((()')"
   ]
  },
  {
   "cell_type": "markdown",
   "id": "dd3af5ff-7570-4048-b4cc-129ef4c5f1ac",
   "metadata": {
    "tags": []
   },
   "source": [
    "### 블록 이동하기 p.355"
   ]
  },
  {
   "cell_type": "markdown",
   "id": "b515301c-280e-402a-aabe-c8af25a27d2d",
   "metadata": {},
   "source": [
    "https://school.programmers.co.kr/learn/courses/30/lessons/60063"
   ]
  },
  {
   "cell_type": "markdown",
   "id": "092e0f78-4d8d-4be0-9500-52a5c42fdd14",
   "metadata": {},
   "source": [
    "BFS 유형"
   ]
  },
  {
   "cell_type": "code",
   "execution_count": 65,
   "id": "cc266d29-5df8-4864-a82b-cff1add222b2",
   "metadata": {},
   "outputs": [],
   "source": [
    "from collections import deque"
   ]
  },
  {
   "cell_type": "code",
   "execution_count": 98,
   "id": "209f441c-4712-4d66-adf9-138a53b1d94a",
   "metadata": {},
   "outputs": [],
   "source": [
    "def get_next_pos(pos,board):\n",
    "    next_pos = []\n",
    "    pos = list(pos)\n",
    "    pos1_x, pos1_y, pos2_x, pos2_y = pos[0][0], pos[0][1], pos[1][0], pos[1][1]\n",
    "    dx = [-1,1,0,0]\n",
    "    dy = [0,0,-1,1]\n",
    "    for i in range(4):\n",
    "        pos1_next_x, pos1_next_y, pos2_next_x, pos2_next_y = pos1_x + dx[i], pos1_y + dy[i], pos2_x + dx[i], pos2_y + dy[i]\n",
    "        if board[pos1_next_x][pos1_next_y] == 0 and board[pos2_next_x][pos2_next_y] == 0:\n",
    "            next_pos.append({(pos1_next_x,pos1_next_y),(pos2_next_x, pos2_next_y)})\n",
    "    if pos1_x == pos2_x:\n",
    "        for i in [-1,1]:\n",
    "            if board[pos1_x + i][pos1_y] == 0 and board[pos2_x + i][pos2_y] == 0:\n",
    "                next_pos.append({(pos1_x,pos1_y),(pos1_x + i, pos1_y)})\n",
    "                next_pos.append({(pos2_x,pos2_y),(pos2_x + i, pos2_y)})\n",
    "    elif pos1_y == pos2_y:\n",
    "        for i in [-1,1]:\n",
    "            if board[pos1_x][pos1_y + i] == 0 and board[pos2_x][pos2_y + i] == 0:\n",
    "                next_pos.append({(pos1_x,pos1_y),(pos1_x, pos1_y + i)})\n",
    "                next_pos.append({(pos2_x,pos2_y),(pos2_x, pos2_y + i)})\n",
    "    return next_pos\n",
    "\n",
    "def solution(board):\n",
    "    n = len(board)\n",
    "    new_board = [[1] * (n + 2) for _ in range(n + 2)]\n",
    "    for i in range(n):\n",
    "        for j in range(n):\n",
    "            new_board[i + 1][j + 1] = board[i][j]\n",
    "    q = deque()\n",
    "    visited = []\n",
    "    pos = {(1,1),(1,2)}\n",
    "    q.append((pos,0))\n",
    "    visited.append(pos)\n",
    "    while q:\n",
    "        pos, cost = q.popleft()\n",
    "        if (n,n) in pos:\n",
    "            return cost\n",
    "        for next_pos in get_next_pos(pos,new_board):\n",
    "            if next_pos not in visited:\n",
    "                q.append((next_pos, cost + 1))\n",
    "                visited.append(next_pos)\n",
    "    return 0"
   ]
  },
  {
   "cell_type": "code",
   "execution_count": 99,
   "id": "3a3e2682-18fc-4b5b-b34f-e7c1c74bccf1",
   "metadata": {},
   "outputs": [
    {
     "data": {
      "text/plain": [
       "7"
      ]
     },
     "execution_count": 99,
     "metadata": {},
     "output_type": "execute_result"
    }
   ],
   "source": [
    "solution([[0, 0, 0, 1, 1],[0, 0, 0, 1, 0],[0, 1, 0, 1, 1],[1, 1, 0, 0, 1],[0, 0, 0, 0, 0]])"
   ]
  },
  {
   "cell_type": "markdown",
   "id": "f41ce9a2-0f5c-4990-bf75-e93d8faf4e3a",
   "metadata": {
    "tags": []
   },
   "source": [
    "### 실패율 p.361"
   ]
  },
  {
   "cell_type": "markdown",
   "id": "a100c694-45d3-469c-9669-093c5b0c9cda",
   "metadata": {},
   "source": [
    "https://school.programmers.co.kr/learn/courses/30/lessons/42889"
   ]
  },
  {
   "cell_type": "markdown",
   "id": "b434a141-6e4e-4924-855a-e94d92b1d91d",
   "metadata": {},
   "source": [
    "O(NlogN)"
   ]
  },
  {
   "cell_type": "code",
   "execution_count": 101,
   "id": "69e90ab8-57ca-403b-9b0e-c2e93c75cd38",
   "metadata": {},
   "outputs": [],
   "source": [
    "def solution(N,stages):\n",
    "    answer = []\n",
    "    length = len(stages)\n",
    "    \n",
    "    for i in range(1, N+1):\n",
    "        count = stages.count(i)\n",
    "        \n",
    "        if length ==0:\n",
    "            fail = 0\n",
    "        else:\n",
    "            fail = count / length\n",
    "            \n",
    "        answer.append((i, fail))\n",
    "        length -= count\n",
    "        \n",
    "    answer = sorted(answer, key=lambda t: t[1], reverse = True)\n",
    "    \n",
    "    answer = [i[0] for i in answer]\n",
    "    return answer"
   ]
  },
  {
   "cell_type": "code",
   "execution_count": 102,
   "id": "b8162177-5667-4c97-9ced-bd90ec16a69d",
   "metadata": {},
   "outputs": [
    {
     "data": {
      "text/plain": [
       "[3, 4, 2, 1, 5]"
      ]
     },
     "execution_count": 102,
     "metadata": {},
     "output_type": "execute_result"
    }
   ],
   "source": [
    "solution(5,[2, 1, 2, 6, 2, 4, 3, 3])"
   ]
  },
  {
   "cell_type": "code",
   "execution_count": 103,
   "id": "85d0987d-7c9e-4c4a-803b-1914731149fe",
   "metadata": {},
   "outputs": [
    {
     "data": {
      "text/plain": [
       "[4, 1, 2, 3]"
      ]
     },
     "execution_count": 103,
     "metadata": {},
     "output_type": "execute_result"
    }
   ],
   "source": [
    "solution(4,[4,4,4,4,4])"
   ]
  },
  {
   "cell_type": "markdown",
   "id": "317cdf47-0f40-460c-8e51-a6dac24a1fb8",
   "metadata": {
    "tags": []
   },
   "source": [
    "### 가사 검색 p.370"
   ]
  },
  {
   "cell_type": "markdown",
   "id": "d6502fbc-9897-4555-9ca4-b660506cc8d3",
   "metadata": {},
   "source": [
    "https://school.programmers.co.kr/learn/courses/30/lessons/60060"
   ]
  },
  {
   "cell_type": "code",
   "execution_count": 104,
   "id": "d03b6d4e-4b7d-4c4f-979d-c4b06642d21a",
   "metadata": {},
   "outputs": [],
   "source": [
    "from bisect import bisect_left, bisect_right"
   ]
  },
  {
   "cell_type": "code",
   "execution_count": 108,
   "id": "6d083c15-e136-4f1c-8da9-109a3bc0b69a",
   "metadata": {},
   "outputs": [],
   "source": [
    "def count_by_range(a, left_value, right_value):\n",
    "    right_index = bisect_right(a, right_value)\n",
    "    left_index = bisect_left(a,left_value)\n",
    "    return right_index - left_index\n",
    "\n",
    "array = [[] for _ in range(10001)]\n",
    "\n",
    "reserved_array = [[] for _ in range(10001)]\n",
    "\n",
    "def solution(words, queries):\n",
    "    answer = []\n",
    "    for word in words:\n",
    "        array[len(word)].append(word)\n",
    "        reserved_array[len(word)].append(word[::-1])\n",
    "        \n",
    "    for i in range(10001):\n",
    "        array[i].sort()\n",
    "        reserved_array[i].sort()\n",
    "        \n",
    "    for q in queries:\n",
    "        if q[0] != '?':\n",
    "            res = count_by_range(array[len(q)], q.replace('?','a'), q.replace('?','z'))\n",
    "        else:\n",
    "            res = count_by_range(reserved_array[len(q)], q[::-1].replace('?','a'),q[::-1].replace('?','z'))\n",
    "            \n",
    "        answer.append(res)\n",
    "    return answer"
   ]
  },
  {
   "cell_type": "code",
   "execution_count": 109,
   "id": "ab3485e1-fcd3-43c3-8a86-7eb8d304c8f7",
   "metadata": {},
   "outputs": [
    {
     "data": {
      "text/plain": [
       "[3, 2, 4, 1, 0]"
      ]
     },
     "execution_count": 109,
     "metadata": {},
     "output_type": "execute_result"
    }
   ],
   "source": [
    "solution([\"frodo\", \"front\", \"frost\", \"frozen\", \"frame\", \"kakao\"],[\"fro??\", \"????o\", \"fr???\", \"fro???\", \"pro?\"])"
   ]
  },
  {
   "cell_type": "code",
   "execution_count": 141,
   "id": "1dfd1e55-3366-443a-939a-76fa166cf631",
   "metadata": {},
   "outputs": [],
   "source": [
    "array = [[] for _ in range(10001)]"
   ]
  },
  {
   "cell_type": "code",
   "execution_count": 146,
   "id": "cb6f258c-aff7-4cd6-b0aa-cdeac9de4246",
   "metadata": {},
   "outputs": [
    {
     "data": {
      "text/plain": [
       "2"
      ]
     },
     "execution_count": 146,
     "metadata": {},
     "output_type": "execute_result"
    }
   ],
   "source": [
    "3 - 3//2 "
   ]
  },
  {
   "cell_type": "code",
   "execution_count": 293,
   "id": "8ba79e22-1a83-4827-a600-774891d5ad50",
   "metadata": {},
   "outputs": [],
   "source": [
    "def solution(x, y, z):\n",
    "    # Write your code here\n",
    "    if x > y:\n",
    "        if x - z == y:\n",
    "            answer = x\n",
    "        elif x - z != y and z % 2 == 0:\n",
    "            answer = x\n",
    "        elif x - z != y and (z - (x - y)) % 2 == 0:\n",
    "            answer = x + (z-(x-y))//2\n",
    "        else:\n",
    "            answer = -1\n",
    "    elif x <= y:\n",
    "        if x + z == y:\n",
    "            answer = y\n",
    "        elif x + z != y and z % 2 == 0:\n",
    "            answer = x + z//2\n",
    "        elif x + z != y and (z + (y - x)) % 2 == 0:\n",
    "            answer = x + (z-(y-z))//2\n",
    "        else:\n",
    "            answer = -1\n",
    "    return answer"
   ]
  },
  {
   "cell_type": "code",
   "execution_count": 294,
   "id": "271c6329-7af7-4d10-80c8-a9a0417befbb",
   "metadata": {},
   "outputs": [
    {
     "data": {
      "text/plain": [
       "11"
      ]
     },
     "execution_count": 294,
     "metadata": {},
     "output_type": "execute_result"
    }
   ],
   "source": [
    "solution(5,8,7)"
   ]
  },
  {
   "cell_type": "code",
   "execution_count": 295,
   "id": "a22cd718-f2c7-4b8c-9d93-e1639e379f1c",
   "metadata": {},
   "outputs": [
    {
     "data": {
      "text/plain": [
       "2"
      ]
     },
     "execution_count": 295,
     "metadata": {},
     "output_type": "execute_result"
    }
   ],
   "source": [
    "4//2"
   ]
  },
  {
   "cell_type": "code",
   "execution_count": 296,
   "id": "941dd0a8-401b-47a6-8be5-48b1c96211eb",
   "metadata": {},
   "outputs": [
    {
     "data": {
      "text/plain": [
       "8"
      ]
     },
     "execution_count": 296,
     "metadata": {},
     "output_type": "execute_result"
    }
   ],
   "source": [
    "solution(8,5,3)"
   ]
  },
  {
   "cell_type": "code",
   "execution_count": 297,
   "id": "1a139af9-c31f-449c-98a9-dccfc50df1d1",
   "metadata": {},
   "outputs": [
    {
     "data": {
      "text/plain": [
       "7"
      ]
     },
     "execution_count": 297,
     "metadata": {},
     "output_type": "execute_result"
    }
   ],
   "source": [
    "solution(3,4,6)"
   ]
  },
  {
   "cell_type": "code",
   "execution_count": 285,
   "id": "cee6ed17-afac-4d81-b7b0-ad4b637af2ee",
   "metadata": {},
   "outputs": [
    {
     "data": {
      "text/plain": [
       "3"
      ]
     },
     "execution_count": 285,
     "metadata": {},
     "output_type": "execute_result"
    }
   ],
   "source": [
    " // 2"
   ]
  },
  {
   "cell_type": "code",
   "execution_count": 299,
   "id": "d9584a0a-2e2b-41f1-a029-55349aaed0ff",
   "metadata": {},
   "outputs": [
    {
     "data": {
      "text/plain": [
       "4"
      ]
     },
     "execution_count": 299,
     "metadata": {},
     "output_type": "execute_result"
    }
   ],
   "source": [
    "2**2"
   ]
  },
  {
   "cell_type": "code",
   "execution_count": 300,
   "id": "258cc5df-219e-41ab-ac04-9bc18dde5cdd",
   "metadata": {},
   "outputs": [
    {
     "data": {
      "text/plain": [
       "2"
      ]
     },
     "execution_count": 300,
     "metadata": {},
     "output_type": "execute_result"
    }
   ],
   "source": [
    "sum([1,1])"
   ]
  },
  {
   "cell_type": "code",
   "execution_count": 494,
   "id": "9311dd7d-340f-474f-b7bd-671cd4136fb1",
   "metadata": {},
   "outputs": [],
   "source": [
    "box = [5, 15, 19]"
   ]
  },
  {
   "cell_type": "code",
   "execution_count": 495,
   "id": "ae6256d0-efec-42f9-9931-cac0b2c636a4",
   "metadata": {},
   "outputs": [],
   "source": [
    "box = [1,5,7,6]"
   ]
  },
  {
   "cell_type": "code",
   "execution_count": 447,
   "id": "e1ad5464-6952-4c01-b97e-ee99d4730a9b",
   "metadata": {},
   "outputs": [],
   "source": [
    "box = [10,3,5,7]"
   ]
  },
  {
   "cell_type": "code",
   "execution_count": 462,
   "id": "7afbc39f-4276-4c1e-82fa-c840a364c7ff",
   "metadata": {},
   "outputs": [
    {
     "data": {
      "text/plain": [
       "4"
      ]
     },
     "execution_count": 462,
     "metadata": {},
     "output_type": "execute_result"
    }
   ],
   "source": [
    "len(box)"
   ]
  },
  {
   "cell_type": "code",
   "execution_count": 463,
   "id": "ab99c3b6-a581-4d62-976e-ce51042dadd9",
   "metadata": {},
   "outputs": [
    {
     "data": {
      "text/plain": [
       "19"
      ]
     },
     "execution_count": 463,
     "metadata": {},
     "output_type": "execute_result"
    }
   ],
   "source": [
    "sum(box)"
   ]
  },
  {
   "cell_type": "code",
   "execution_count": 464,
   "id": "1f8bdc5b-2406-4573-9d2b-82d352759d9d",
   "metadata": {},
   "outputs": [
    {
     "data": {
      "text/plain": [
       "4"
      ]
     },
     "execution_count": 464,
     "metadata": {},
     "output_type": "execute_result"
    }
   ],
   "source": [
    "sum(box) // len(box)"
   ]
  },
  {
   "cell_type": "code",
   "execution_count": 465,
   "id": "c6e256f1-3f5a-4d01-a316-82ed80d3c86f",
   "metadata": {},
   "outputs": [],
   "source": [
    "q = []\n",
    "for i in range(len(box)):\n",
    "    heapq.heappush(q,(box[i],i+1))"
   ]
  },
  {
   "cell_type": "code",
   "execution_count": 466,
   "id": "0b3e5818-04c3-4e19-a780-b60a1bbf53fd",
   "metadata": {},
   "outputs": [],
   "source": [
    "q = sorted(q,reverse=True)"
   ]
  },
  {
   "cell_type": "code",
   "execution_count": 469,
   "id": "a59ded81-3015-4921-b06e-1ee2f3565974",
   "metadata": {},
   "outputs": [
    {
     "data": {
      "text/plain": [
       "[(7, 3), (6, 4), (5, 2), (1, 1)]"
      ]
     },
     "execution_count": 469,
     "metadata": {},
     "output_type": "execute_result"
    }
   ],
   "source": [
    "q"
   ]
  },
  {
   "cell_type": "code",
   "execution_count": 468,
   "id": "78db9252-374b-4f45-a4aa-827cb3a5a70d",
   "metadata": {},
   "outputs": [
    {
     "data": {
      "text/plain": [
       "(7, 3)"
      ]
     },
     "execution_count": 468,
     "metadata": {},
     "output_type": "execute_result"
    }
   ],
   "source": [
    "max(q)"
   ]
  },
  {
   "cell_type": "code",
   "execution_count": 598,
   "id": "3577c15e-ac9b-4b42-b98b-79825c7d11c4",
   "metadata": {},
   "outputs": [],
   "source": [
    "def solution(box):\n",
    "    # Write your code here\n",
    "    q = []\n",
    "    for i in range(len(box)):\n",
    "        heapq.heappush(q,(box[i],i+1))\n",
    "    q = sorted(q,reverse=True)\n",
    "    \n",
    "    if q[0][1] >= 2 :\n",
    "        boxresult = sum(box) // len(box)\n",
    "    else:\n",
    "        boxresult = max(box)\n",
    "    return boxresult"
   ]
  },
  {
   "cell_type": "code",
   "execution_count": null,
   "id": "919c66a9-eb5f-4a9d-8f5e-f48aa0ae8da3",
   "metadata": {},
   "outputs": [],
   "source": [
    "def solution(box):\n",
    "    # Write your code here\n",
    "    q = []\n",
    "    for i in range(len(box)):\n",
    "        heapq.heappush(q,(box[i],i+1))\n",
    "    q = sorted(q,reverse=True)\n",
    "    \n",
    "    if q[0][1] >= 2 and (sum(box) / len(box) ) * (len(box)  -1)  != int((sum(box) / len(box) ) * (len(box)  -1) ):\n",
    "        boxresult = sum(box) - int((sum(box) / len(box) ) * (len(box)  -1) )\n",
    "    if q[0][1] >= 2 and (sum(box) / len(box) ) * (len(box)  -1)  == int((sum(box) / len(box) ) * (len(box)  -1) ):\n",
    "        boxresult = sum(box) // len(box)\n",
    "    else:\n",
    "        boxresult = max(box)\n",
    "    return boxresult"
   ]
  },
  {
   "cell_type": "code",
   "execution_count": 599,
   "id": "1757c5b8-39a1-405f-b2c4-f28ee6f9f212",
   "metadata": {},
   "outputs": [],
   "source": [
    "box = [3,8,11,7]"
   ]
  },
  {
   "cell_type": "code",
   "execution_count": 582,
   "id": "d7228f5e-d026-4756-8947-ec8f7201bca5",
   "metadata": {},
   "outputs": [
    {
     "data": {
      "text/plain": [
       "29"
      ]
     },
     "execution_count": 582,
     "metadata": {},
     "output_type": "execute_result"
    }
   ],
   "source": [
    "sum(box)"
   ]
  },
  {
   "cell_type": "code",
   "execution_count": 584,
   "id": "602744d2-cfe6-4efa-bfd2-d9afab728c6e",
   "metadata": {},
   "outputs": [
    {
     "data": {
      "text/plain": [
       "21.75"
      ]
     },
     "execution_count": 584,
     "metadata": {},
     "output_type": "execute_result"
    }
   ],
   "source": [
    "(sum(box) / len(box) ) * (len(box)  -1) "
   ]
  },
  {
   "cell_type": "code",
   "execution_count": 603,
   "id": "5c90b4e2-cda6-4445-9a9a-32ed15fe4670",
   "metadata": {},
   "outputs": [
    {
     "data": {
      "text/plain": [
       "False"
      ]
     },
     "execution_count": 603,
     "metadata": {},
     "output_type": "execute_result"
    }
   ],
   "source": [
    "(sum(box) / len(box) ) * (len(box)  -1)  == int((sum(box) / len(box) ) * (len(box)  -1) )"
   ]
  },
  {
   "cell_type": "code",
   "execution_count": 596,
   "id": "2a0c4fe5-46f3-48ac-b335-afab469442ac",
   "metadata": {},
   "outputs": [
    {
     "data": {
      "text/plain": [
       "13"
      ]
     },
     "execution_count": 596,
     "metadata": {},
     "output_type": "execute_result"
    }
   ],
   "source": [
    "sum(box) - int((sum(box) / len(box) ) * (len(box)  -1) )"
   ]
  },
  {
   "cell_type": "code",
   "execution_count": 597,
   "id": "0a83eee5-ad38-4fd4-905c-979d1e90a880",
   "metadata": {},
   "outputs": [
    {
     "data": {
      "text/plain": [
       "(13, 0)"
      ]
     },
     "execution_count": 597,
     "metadata": {},
     "output_type": "execute_result"
    }
   ],
   "source": [
    "sum(box) // len(box) , sum(box) % len(box)"
   ]
  },
  {
   "cell_type": "code",
   "execution_count": 570,
   "id": "c9a48f18-a2d9-4b47-ae85-4b9e6aa09030",
   "metadata": {},
   "outputs": [
    {
     "data": {
      "text/plain": [
       "8"
      ]
     },
     "execution_count": 570,
     "metadata": {},
     "output_type": "execute_result"
    }
   ],
   "source": [
    "8"
   ]
  },
  {
   "cell_type": "code",
   "execution_count": 601,
   "id": "1dbc593e-d5c9-4021-93db-126498b9f23b",
   "metadata": {},
   "outputs": [],
   "source": [
    "box = [1,5,7,6]"
   ]
  },
  {
   "cell_type": "code",
   "execution_count": 568,
   "id": "27ddb89f-226e-4ae5-81bb-7df28ec3c181",
   "metadata": {},
   "outputs": [
    {
     "data": {
      "text/plain": [
       "(4, 3)"
      ]
     },
     "execution_count": 568,
     "metadata": {},
     "output_type": "execute_result"
    }
   ],
   "source": [
    "sum(box) // len(box) , sum(box) % len(box)"
   ]
  },
  {
   "cell_type": "code",
   "execution_count": 594,
   "id": "ac08531c-058f-47d6-bbcf-80721900202f",
   "metadata": {},
   "outputs": [],
   "source": [
    "box = [5,15,19]"
   ]
  },
  {
   "cell_type": "code",
   "execution_count": 572,
   "id": "9a67ac49-d0d1-4c97-8acd-fe16d4f8d2f7",
   "metadata": {},
   "outputs": [
    {
     "data": {
      "text/plain": [
       "(13, 0)"
      ]
     },
     "execution_count": 572,
     "metadata": {},
     "output_type": "execute_result"
    }
   ],
   "source": [
    "sum(box) // len(box) , sum(box) % len(box)"
   ]
  },
  {
   "cell_type": "code",
   "execution_count": 602,
   "id": "d14d0a48-5a16-46de-a587-c48a26d4e1b7",
   "metadata": {},
   "outputs": [
    {
     "data": {
      "text/plain": [
       "5"
      ]
     },
     "execution_count": 602,
     "metadata": {},
     "output_type": "execute_result"
    }
   ],
   "source": [
    "solution(box)"
   ]
  },
  {
   "cell_type": "code",
   "execution_count": 555,
   "id": "20c97d57-4f64-4241-aaad-93606e533a20",
   "metadata": {},
   "outputs": [],
   "source": [
    "q = []\n",
    "for i in range(len(box)):\n",
    "    heapq.heappush(q,(box[i],i+1))\n",
    "q = sorted(q,reverse=True)"
   ]
  },
  {
   "cell_type": "code",
   "execution_count": null,
   "id": "8f4ac1ae-0a30-4bc0-bf38-314e2ee2d067",
   "metadata": {},
   "outputs": [],
   "source": []
  }
 ],
 "metadata": {
  "kernelspec": {
   "display_name": "Python 3 (ipykernel)",
   "language": "python",
   "name": "python3"
  },
  "language_info": {
   "codemirror_mode": {
    "name": "ipython",
    "version": 3
   },
   "file_extension": ".py",
   "mimetype": "text/x-python",
   "name": "python",
   "nbconvert_exporter": "python",
   "pygments_lexer": "ipython3",
   "version": "3.8.12"
  }
 },
 "nbformat": 4,
 "nbformat_minor": 5
}
