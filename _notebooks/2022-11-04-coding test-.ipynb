{
 "cells": [
  {
   "cell_type": "markdown",
   "id": "a6341c58-3da4-423d-97f1-5e682149cd09",
   "metadata": {
    "id": "cac470df-29e7-4148-9bbd-d8b9a32fa570",
    "tags": []
   },
   "source": [
    "# Coding\n",
    "> \n",
    "\n",
    "- toc:true\n",
    "- branch: master\n",
    "- badges: true\n",
    "- comments: false\n",
    "- author: 최서연"
   ]
  },
  {
   "cell_type": "markdown",
   "id": "5e0f85cc-460d-4b67-8c05-43606bd7d6f0",
   "metadata": {
    "tags": []
   },
   "source": [
    "### 무지의 먹방 라이브"
   ]
  },
  {
   "cell_type": "markdown",
   "id": "072af7eb-13ab-41f4-8089-b3483df0ddf1",
   "metadata": {},
   "source": [
    "https://school.programmers.co.kr/learn/courses/30/lessons/42891?language=python3"
   ]
  },
  {
   "cell_type": "code",
   "execution_count": null,
   "id": "613b9bf2-47e5-4d17-88e2-165890204970",
   "metadata": {},
   "outputs": [],
   "source": []
  }
 ],
 "metadata": {
  "kernelspec": {
   "display_name": "Python 3 (ipykernel)",
   "language": "python",
   "name": "python3"
  },
  "language_info": {
   "codemirror_mode": {
    "name": "ipython",
    "version": 3
   },
   "file_extension": ".py",
   "mimetype": "text/x-python",
   "name": "python",
   "nbconvert_exporter": "python",
   "pygments_lexer": "ipython3",
   "version": "3.8.12"
  }
 },
 "nbformat": 4,
 "nbformat_minor": 5
}
