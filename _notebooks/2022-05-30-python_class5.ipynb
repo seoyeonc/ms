{
 "cells": [
  {
   "cell_type": "markdown",
   "id": "73b1afda-ba0a-41f9-9195-fa68ec36e54c",
   "metadata": {
    "id": "b9918d88-edd6-44b5-8919-e7c24f94005a",
    "tags": []
   },
   "source": [
    "# (study) 파이썬 입문 (13주차) 5월23일\n",
    "> 클래스 공부 6단계\n",
    "\n",
    "- toc:true\n",
    "- branch: master\n",
    "- badges: true\n",
    "- comments: false\n",
    "- author: 최서연\n",
    "- categories: [Python, class, 사용자정의함수]"
   ]
  },
  {
   "cell_type": "markdown",
   "id": "cc2db806-d941-4a46-a0d5-46433621532c",
   "metadata": {
    "id": "cc2db806-d941-4a46-a0d5-46433621532c"
   },
   "source": [
    "## 강의영상"
   ]
  },
  {
   "cell_type": "markdown",
   "id": "eee74c77-a438-4b4f-9216-38b1c7016437",
   "metadata": {
    "id": "eee74c77-a438-4b4f-9216-38b1c7016437"
   },
   "source": [
    "> youtube: https://youtube.com/playlist?list=PLQqh36zP38-xw_UHDXp5ZpYywkCxpN4SE"
   ]
  },
  {
   "cell_type": "markdown",
   "id": "6e059796-2fac-4016-8f4d-140665866c91",
   "metadata": {
    "id": "6e059796-2fac-4016-8f4d-140665866c91"
   },
   "source": [
    "`-` (1/4) 인사관리 예제 (1)\n",
    "\n",
    "`-` (2/4) 인사관리 예제 (2)\n",
    "\n",
    "`-` (3/4) 리스트의 상속 \n",
    "\n",
    "`-` (4/4) 사용자정의 자료형의 유용함"
   ]
  },
  {
   "cell_type": "markdown",
   "id": "842d2d65-c3b6-495a-aca4-8c680c1fd8f1",
   "metadata": {
    "id": "842d2d65-c3b6-495a-aca4-8c680c1fd8f1"
   },
   "source": [
    "## 클래스공부 6단계 "
   ]
  },
  {
   "cell_type": "markdown",
   "id": "3efb395a-9882-4030-a00d-d246e8389240",
   "metadata": {
    "id": "3efb395a-9882-4030-a00d-d246e8389240"
   },
   "source": [
    "`-` 상속 "
   ]
  },
  {
   "cell_type": "markdown",
   "id": "dbdcdb38-ce76-4e11-b961-d72cd89deb2a",
   "metadata": {
    "id": "dbdcdb38-ce76-4e11-b961-d72cd89deb2a"
   },
   "source": [
    "### 인사관리 예제 "
   ]
  },
  {
   "cell_type": "markdown",
   "id": "6f5ba495-4616-4961-86d5-795937591fd1",
   "metadata": {
    "id": "6f5ba495-4616-4961-86d5-795937591fd1"
   },
   "source": [
    "`-` 아래와 같은 클래스를 만들자. \n",
    "- 이름, 직급, 연봉에 대한 정보가 있다.\n",
    "- 연봉을 올려주는 메소드가 존재함. "
   ]
  },
  {
   "cell_type": "code",
   "execution_count": 1,
   "id": "a0c75b30-d56e-4009-9d5a-32ea3d6d2da4",
   "metadata": {
    "id": "a0c75b30-d56e-4009-9d5a-32ea3d6d2da4"
   },
   "outputs": [],
   "source": [
    "class Employee:\n",
    "    def __init__(self,name,position=None,pay=0):\n",
    "        self.name = name\n",
    "        self.position = position\n",
    "        self.pay = pay \n",
    "    def _repr_html_(self):\n",
    "        html_str = \"\"\"\n",
    "        이름: {} <br/>\n",
    "        직급: {} <br/>\n",
    "        연봉: {} <br/>\n",
    "        \"\"\".format(self.name,self.position,self.pay)\n",
    "        return html_str\n",
    "    def giveraise(self,pct): \n",
    "        self.pay = self.pay * (1+pct) "
   ]
  },
  {
   "cell_type": "markdown",
   "id": "dfbffc83-9a8e-4c30-ade5-a3da3290aa08",
   "metadata": {
    "id": "dfbffc83-9a8e-4c30-ade5-a3da3290aa08"
   },
   "source": [
    "`-` 확인"
   ]
  },
  {
   "cell_type": "code",
   "execution_count": 2,
   "id": "d95d671b-79d9-413d-b5d0-b87951df35b7",
   "metadata": {
    "id": "d95d671b-79d9-413d-b5d0-b87951df35b7"
   },
   "outputs": [],
   "source": [
    "iu=Employee('iu',position='staff',pay=5000)\n",
    "hynn=Employee('hynn',position='staff',pay=4000)\n",
    "hd=Employee('hodong',position='mgr',pay=8000)"
   ]
  },
  {
   "cell_type": "code",
   "execution_count": 3,
   "id": "09209c32-5c7d-414f-aa60-7dc6167b062d",
   "metadata": {
    "id": "09209c32-5c7d-414f-aa60-7dc6167b062d",
    "outputId": "d4bb0d33-3377-4b8f-c0d9-9a2e2e77a116"
   },
   "outputs": [
    {
     "data": {
      "text/html": [
       "\n",
       "        이름: iu <br/>\n",
       "        직급: staff <br/>\n",
       "        연봉: 5000 <br/>\n",
       "        "
      ],
      "text/plain": [
       "<__main__.Employee at 0x7feb043af6a0>"
      ]
     },
     "execution_count": 3,
     "metadata": {},
     "output_type": "execute_result"
    }
   ],
   "source": [
    "iu"
   ]
  },
  {
   "cell_type": "code",
   "execution_count": 4,
   "id": "f5ae380c-d1be-419d-b24e-0d17d72d72d9",
   "metadata": {
    "id": "f5ae380c-d1be-419d-b24e-0d17d72d72d9",
    "outputId": "0477dd32-ac9a-4c68-91b8-0a2e4f3506e2"
   },
   "outputs": [
    {
     "data": {
      "text/html": [
       "\n",
       "        이름: iu <br/>\n",
       "        직급: staff <br/>\n",
       "        연봉: 5500.0 <br/>\n",
       "        "
      ],
      "text/plain": [
       "<__main__.Employee at 0x7feb043af6a0>"
      ]
     },
     "execution_count": 4,
     "metadata": {},
     "output_type": "execute_result"
    }
   ],
   "source": [
    "iu.giveraise(0.1)\n",
    "iu"
   ]
  },
  {
   "cell_type": "code",
   "execution_count": 5,
   "id": "46b0d5f5-5da0-41b6-9dd3-b1963c38e0b1",
   "metadata": {
    "id": "46b0d5f5-5da0-41b6-9dd3-b1963c38e0b1",
    "outputId": "9a955922-eddc-4a6b-96f9-ea51ecfba47b"
   },
   "outputs": [
    {
     "data": {
      "text/html": [
       "\n",
       "        이름: hynn <br/>\n",
       "        직급: staff <br/>\n",
       "        연봉: 4800.0 <br/>\n",
       "        "
      ],
      "text/plain": [
       "<__main__.Employee at 0x7feb043af940>"
      ]
     },
     "execution_count": 5,
     "metadata": {},
     "output_type": "execute_result"
    }
   ],
   "source": [
    "hynn.giveraise(0.2)\n",
    "hynn"
   ]
  },
  {
   "cell_type": "markdown",
   "id": "c0f2bb0d-b759-497f-8964-d5398b845dff",
   "metadata": {
    "id": "c0f2bb0d-b759-497f-8964-d5398b845dff"
   },
   "source": [
    "`-` 회사의 모든 직원의 연봉을 10%씩 올려보자. "
   ]
  },
  {
   "cell_type": "code",
   "execution_count": 6,
   "id": "a830ac20-a629-43b7-97e0-1f256f6a28b8",
   "metadata": {
    "id": "a830ac20-a629-43b7-97e0-1f256f6a28b8"
   },
   "outputs": [],
   "source": [
    "iu=Employee('iu',position='staff',pay=5000)\n",
    "hynn=Employee('hynn',position='staff',pay=4000)\n",
    "hd=Employee('hodong',position='mgr',pay=8000)"
   ]
  },
  {
   "cell_type": "code",
   "execution_count": 7,
   "id": "bcd8303b-101a-48cc-a952-8b7c47f4dc38",
   "metadata": {
    "id": "bcd8303b-101a-48cc-a952-8b7c47f4dc38"
   },
   "outputs": [],
   "source": [
    "for i in [iu, hynn, hd]:\n",
    "    i.giveraise(0.1) "
   ]
  },
  {
   "cell_type": "code",
   "execution_count": 8,
   "id": "83af4bca-785d-4251-8428-fa33d939d9dd",
   "metadata": {
    "id": "83af4bca-785d-4251-8428-fa33d939d9dd",
    "outputId": "454b4dbc-9722-4f3c-87d6-50cc3a86f9ea"
   },
   "outputs": [
    {
     "data": {
      "text/html": [
       "\n",
       "        이름: iu <br/>\n",
       "        직급: staff <br/>\n",
       "        연봉: 5500.0 <br/>\n",
       "        "
      ],
      "text/plain": [
       "<__main__.Employee at 0x7feb043f7f10>"
      ]
     },
     "execution_count": 8,
     "metadata": {},
     "output_type": "execute_result"
    }
   ],
   "source": [
    "iu"
   ]
  },
  {
   "cell_type": "code",
   "execution_count": 9,
   "id": "2c707924-d946-4bca-b91c-eff4c9b3d6fd",
   "metadata": {
    "id": "2c707924-d946-4bca-b91c-eff4c9b3d6fd",
    "outputId": "dd3c22dc-a8fc-4602-d152-a15b36b4473f"
   },
   "outputs": [
    {
     "data": {
      "text/html": [
       "\n",
       "        이름: hynn <br/>\n",
       "        직급: staff <br/>\n",
       "        연봉: 4400.0 <br/>\n",
       "        "
      ],
      "text/plain": [
       "<__main__.Employee at 0x7feb043f7d90>"
      ]
     },
     "execution_count": 9,
     "metadata": {},
     "output_type": "execute_result"
    }
   ],
   "source": [
    "hynn"
   ]
  },
  {
   "cell_type": "code",
   "execution_count": 10,
   "id": "b55e423d-3ecb-42d5-9eba-cbfa3a731265",
   "metadata": {
    "id": "b55e423d-3ecb-42d5-9eba-cbfa3a731265",
    "outputId": "cdd14c4c-a14e-4950-fdc7-05fbfdc591d2"
   },
   "outputs": [
    {
     "data": {
      "text/html": [
       "\n",
       "        이름: hodong <br/>\n",
       "        직급: mgr <br/>\n",
       "        연봉: 8800.0 <br/>\n",
       "        "
      ],
      "text/plain": [
       "<__main__.Employee at 0x7feb043f7ca0>"
      ]
     },
     "execution_count": 10,
     "metadata": {},
     "output_type": "execute_result"
    }
   ],
   "source": [
    "hd"
   ]
  },
  {
   "cell_type": "markdown",
   "id": "6f88fd31-6465-4805-9a3f-68081af1ec86",
   "metadata": {
    "id": "6f88fd31-6465-4805-9a3f-68081af1ec86"
   },
   "source": [
    "`-` 매니저직급은 일반직원들의 상승분에서 5%의 보너스가 추가되어 상승한다고 가정하고 모든 직원의 연봉을 10%씩 올리는 코드를 구현해보자. "
   ]
  },
  {
   "cell_type": "markdown",
   "id": "d271c537-317c-4a63-9884-e9ed5bd127a5",
   "metadata": {
    "id": "d271c537-317c-4a63-9884-e9ed5bd127a5"
   },
   "source": [
    "(구현1)"
   ]
  },
  {
   "cell_type": "code",
   "execution_count": 11,
   "id": "d01cf1cb-a271-4a6a-84a9-b40f66ca5e9d",
   "metadata": {
    "id": "d01cf1cb-a271-4a6a-84a9-b40f66ca5e9d"
   },
   "outputs": [],
   "source": [
    "iu=Employee('iu',position='staff',pay=5000)\n",
    "hynn=Employee('hynn',position='staff',pay=4000)\n",
    "hd=Employee('hodong',position='mgr',pay=8000)"
   ]
  },
  {
   "cell_type": "code",
   "execution_count": 12,
   "id": "0e842e11-4e25-4dee-9be2-9b86241c3118",
   "metadata": {
    "id": "0e842e11-4e25-4dee-9be2-9b86241c3118"
   },
   "outputs": [],
   "source": [
    "for i in [iu,hynn,hd]: \n",
    "    if i.position == 'mgr':\n",
    "        i.giveraise(0.1 + 0.05) \n",
    "    else: \n",
    "        i.giveraise(0.1) "
   ]
  },
  {
   "cell_type": "code",
   "execution_count": 13,
   "id": "976e0669-8001-4207-82ea-7a5c1db58a9c",
   "metadata": {
    "id": "976e0669-8001-4207-82ea-7a5c1db58a9c",
    "outputId": "b660ffe6-d3e3-4c67-cb28-79a99f7fc289"
   },
   "outputs": [
    {
     "data": {
      "text/html": [
       "\n",
       "        이름: iu <br/>\n",
       "        직급: staff <br/>\n",
       "        연봉: 5500.0 <br/>\n",
       "        "
      ],
      "text/plain": [
       "<__main__.Employee at 0x7feb043af130>"
      ]
     },
     "execution_count": 13,
     "metadata": {},
     "output_type": "execute_result"
    }
   ],
   "source": [
    "iu"
   ]
  },
  {
   "cell_type": "code",
   "execution_count": 14,
   "id": "1fbf37ef-20f4-47f7-a0bd-da6d8f40cb8d",
   "metadata": {
    "id": "1fbf37ef-20f4-47f7-a0bd-da6d8f40cb8d",
    "outputId": "3603a7d1-ff13-4265-d3e5-0274611f6c6c"
   },
   "outputs": [
    {
     "data": {
      "text/html": [
       "\n",
       "        이름: hynn <br/>\n",
       "        직급: staff <br/>\n",
       "        연봉: 4400.0 <br/>\n",
       "        "
      ],
      "text/plain": [
       "<__main__.Employee at 0x7feb043af0d0>"
      ]
     },
     "execution_count": 14,
     "metadata": {},
     "output_type": "execute_result"
    }
   ],
   "source": [
    "hynn"
   ]
  },
  {
   "cell_type": "code",
   "execution_count": 15,
   "id": "41c78669-4a41-48b3-96b2-6a93aeb7c3ba",
   "metadata": {
    "id": "41c78669-4a41-48b3-96b2-6a93aeb7c3ba",
    "outputId": "0855a424-7dcf-4d21-cdc5-0fedcd0dd6a4"
   },
   "outputs": [
    {
     "data": {
      "text/html": [
       "\n",
       "        이름: hodong <br/>\n",
       "        직급: mgr <br/>\n",
       "        연봉: 9200.0 <br/>\n",
       "        "
      ],
      "text/plain": [
       "<__main__.Employee at 0x7feb043afcd0>"
      ]
     },
     "execution_count": 15,
     "metadata": {},
     "output_type": "execute_result"
    }
   ],
   "source": [
    "hd"
   ]
  },
  {
   "cell_type": "markdown",
   "id": "3503967a-0601-41c3-87af-7e9c22dfb931",
   "metadata": {
    "id": "3503967a-0601-41c3-87af-7e9c22dfb931"
   },
   "source": [
    "(구현2) 새로운 클래스를 만들자 "
   ]
  },
  {
   "cell_type": "code",
   "execution_count": 16,
   "id": "0601c97f-71f4-41d1-8ab5-5a17a12d8d7c",
   "metadata": {
    "id": "0601c97f-71f4-41d1-8ab5-5a17a12d8d7c"
   },
   "outputs": [],
   "source": [
    "class Manager: \n",
    "    def __init__(self,name,position=None,pay=0):\n",
    "        self.name = name\n",
    "        self.position = position\n",
    "        self.pay = pay \n",
    "    def _repr_html_(self):\n",
    "        html_str = \"\"\"\n",
    "        이름: {} <br/>\n",
    "        직급: {} <br/>\n",
    "        연봉: {} <br/>\n",
    "        \"\"\".format(self.name,self.position,self.pay)\n",
    "        return html_str\n",
    "    def giveraise(self,pct): \n",
    "        self.pay = self.pay * (1+pct+0.05)     "
   ]
  },
  {
   "cell_type": "code",
   "execution_count": 17,
   "id": "9b3c460e-412f-446e-a7cc-627a166d6ab0",
   "metadata": {
    "id": "9b3c460e-412f-446e-a7cc-627a166d6ab0"
   },
   "outputs": [],
   "source": [
    "iu=Employee('iu',position='staff',pay=5000)\n",
    "hynn=Employee('hynn',position='staff',pay=4000)\n",
    "hd=Manager('hodong',position='mgr',pay=8000)"
   ]
  },
  {
   "cell_type": "code",
   "execution_count": 18,
   "id": "77699b3f-94eb-435f-8c4a-19a646969ebd",
   "metadata": {
    "id": "77699b3f-94eb-435f-8c4a-19a646969ebd"
   },
   "outputs": [],
   "source": [
    "for i in [iu,hynn,hd]: \n",
    "    i.giveraise(0.1) "
   ]
  },
  {
   "cell_type": "code",
   "execution_count": 19,
   "id": "2e625f58-e686-4af5-8646-eea6a6fe8f90",
   "metadata": {
    "id": "2e625f58-e686-4af5-8646-eea6a6fe8f90",
    "outputId": "3dbd43a4-6273-4073-b460-6a3d82810ee0"
   },
   "outputs": [
    {
     "data": {
      "text/html": [
       "\n",
       "        이름: iu <br/>\n",
       "        직급: staff <br/>\n",
       "        연봉: 5500.0 <br/>\n",
       "        "
      ],
      "text/plain": [
       "<__main__.Employee at 0x7feb043f7ee0>"
      ]
     },
     "execution_count": 19,
     "metadata": {},
     "output_type": "execute_result"
    }
   ],
   "source": [
    "iu"
   ]
  },
  {
   "cell_type": "code",
   "execution_count": 20,
   "id": "6c18b268-1cea-48b9-818e-e5182e6aa353",
   "metadata": {
    "id": "6c18b268-1cea-48b9-818e-e5182e6aa353",
    "outputId": "3b4772d7-e530-42f4-cdba-0e4b2a765eef"
   },
   "outputs": [
    {
     "data": {
      "text/html": [
       "\n",
       "        이름: hynn <br/>\n",
       "        직급: staff <br/>\n",
       "        연봉: 4400.0 <br/>\n",
       "        "
      ],
      "text/plain": [
       "<__main__.Employee at 0x7feb043f7850>"
      ]
     },
     "execution_count": 20,
     "metadata": {},
     "output_type": "execute_result"
    }
   ],
   "source": [
    "hynn"
   ]
  },
  {
   "cell_type": "code",
   "execution_count": 21,
   "id": "d9aa0577-ee2d-4f53-9dde-326ce92928e0",
   "metadata": {
    "id": "d9aa0577-ee2d-4f53-9dde-326ce92928e0",
    "outputId": "58ba4355-63bd-4065-93be-7882b50d0734"
   },
   "outputs": [
    {
     "data": {
      "text/html": [
       "\n",
       "        이름: hodong <br/>\n",
       "        직급: mgr <br/>\n",
       "        연봉: 9200.000000000002 <br/>\n",
       "        "
      ],
      "text/plain": [
       "<__main__.Manager at 0x7feb043f7820>"
      ]
     },
     "execution_count": 21,
     "metadata": {},
     "output_type": "execute_result"
    }
   ],
   "source": [
    "hd"
   ]
  },
  {
   "cell_type": "markdown",
   "id": "63696539-febb-4b64-8663-4492002be013",
   "metadata": {
    "id": "63696539-febb-4b64-8663-4492002be013"
   },
   "source": [
    "(구현3) 상속이용!"
   ]
  },
  {
   "cell_type": "code",
   "execution_count": 22,
   "id": "ec845610-0b5b-4bc1-bc3d-b645896adab5",
   "metadata": {
    "id": "ec845610-0b5b-4bc1-bc3d-b645896adab5"
   },
   "outputs": [],
   "source": [
    "class Manager(Employee): \n",
    "    def giveraise(self,pct): \n",
    "        self.pay = self.pay * (1+pct+0.05)     "
   ]
  },
  {
   "cell_type": "code",
   "execution_count": 23,
   "id": "e2dc364e-ab0c-483d-80bf-9ba473c18842",
   "metadata": {
    "id": "e2dc364e-ab0c-483d-80bf-9ba473c18842"
   },
   "outputs": [],
   "source": [
    "iu=Employee('iu',position='staff',pay=5000)\n",
    "hynn=Employee('hynn',position='staff',pay=4000)\n",
    "hd=Manager('hodong',position='mgr',pay=8000)"
   ]
  },
  {
   "cell_type": "code",
   "execution_count": 24,
   "id": "36aff4c6-a922-44e4-9d22-8b0bd719b548",
   "metadata": {
    "id": "36aff4c6-a922-44e4-9d22-8b0bd719b548"
   },
   "outputs": [],
   "source": [
    "for i in [iu,hynn,hd]:\n",
    "    i.giveraise(0.1) "
   ]
  },
  {
   "cell_type": "code",
   "execution_count": 25,
   "id": "871f48c2-9795-465c-bf10-952a2649deed",
   "metadata": {
    "id": "871f48c2-9795-465c-bf10-952a2649deed",
    "outputId": "15e309d2-f2e6-40cb-932a-6178d07607b1"
   },
   "outputs": [
    {
     "data": {
      "text/html": [
       "\n",
       "        이름: iu <br/>\n",
       "        직급: staff <br/>\n",
       "        연봉: 5500.0 <br/>\n",
       "        "
      ],
      "text/plain": [
       "<__main__.Employee at 0x7feb043af4c0>"
      ]
     },
     "execution_count": 25,
     "metadata": {},
     "output_type": "execute_result"
    }
   ],
   "source": [
    "iu"
   ]
  },
  {
   "cell_type": "code",
   "execution_count": 26,
   "id": "d6621ea0-6119-4c4b-8997-9ca226d95c1e",
   "metadata": {
    "id": "d6621ea0-6119-4c4b-8997-9ca226d95c1e",
    "outputId": "825f6711-e236-4e04-c2c5-2389291e34e1"
   },
   "outputs": [
    {
     "data": {
      "text/html": [
       "\n",
       "        이름: hynn <br/>\n",
       "        직급: staff <br/>\n",
       "        연봉: 4400.0 <br/>\n",
       "        "
      ],
      "text/plain": [
       "<__main__.Employee at 0x7feb043af820>"
      ]
     },
     "execution_count": 26,
     "metadata": {},
     "output_type": "execute_result"
    }
   ],
   "source": [
    "hynn"
   ]
  },
  {
   "cell_type": "code",
   "execution_count": 27,
   "id": "6659ddf9-a27c-432a-a286-6f88e314b7d0",
   "metadata": {
    "id": "6659ddf9-a27c-432a-a286-6f88e314b7d0",
    "outputId": "bb3b2dbc-f477-4b05-baa3-0c9f03401918"
   },
   "outputs": [
    {
     "data": {
      "text/html": [
       "\n",
       "        이름: hodong <br/>\n",
       "        직급: mgr <br/>\n",
       "        연봉: 9200.000000000002 <br/>\n",
       "        "
      ],
      "text/plain": [
       "<__main__.Manager at 0x7feb043af5b0>"
      ]
     },
     "execution_count": 27,
     "metadata": {},
     "output_type": "execute_result"
    }
   ],
   "source": [
    "hd"
   ]
  },
  {
   "cell_type": "markdown",
   "id": "f9dd6bec-7d2c-476f-9d42-561d8fb50412",
   "metadata": {
    "id": "f9dd6bec-7d2c-476f-9d42-561d8fb50412"
   },
   "source": [
    "`-` 요약: 이미 만들어진 클래스에서 대부분의 기능은 그대로 쓰지만 일부기능만 변경 혹은 추가하고 싶다면 클래스를 상속하면 된다!"
   ]
  },
  {
   "cell_type": "markdown",
   "id": "cce1e030-7eef-49ae-9455-5c800828abd6",
   "metadata": {
    "id": "cce1e030-7eef-49ae-9455-5c800828abd6"
   },
   "source": [
    "### 리스트의 상속"
   ]
  },
  {
   "cell_type": "markdown",
   "id": "da4e9e2f-b35b-473a-b40f-d180a06efefe",
   "metadata": {
    "id": "da4e9e2f-b35b-473a-b40f-d180a06efefe"
   },
   "source": [
    "- ref: http://www.kyobobook.co.kr/product/detailViewKor.laf?mallGb=KOR&ejkGb=KOR&barcode=9791165213190"
   ]
  },
  {
   "cell_type": "markdown",
   "id": "6b01fd93-fae1-4885-8ae3-33afcbd1734d",
   "metadata": {
    "id": "6b01fd93-fae1-4885-8ae3-33afcbd1734d"
   },
   "source": [
    "`-` list와 비슷한데 멤버들의 빈도가 계산되는 메소드를 포함하는 새로운 나만의 list를 만들고 싶다. "
   ]
  },
  {
   "cell_type": "code",
   "execution_count": 28,
   "id": "5ae7032a-cb96-41b2-892e-587eacaf826c",
   "metadata": {
    "id": "5ae7032a-cb96-41b2-892e-587eacaf826c",
    "outputId": "7bc59178-4a06-465e-b3ec-28ecbd36b8fa"
   },
   "outputs": [
    {
     "data": {
      "text/plain": [
       "['a', 'b', 'a', 'c', 'b', 'a', 'd']"
      ]
     },
     "execution_count": 28,
     "metadata": {},
     "output_type": "execute_result"
    }
   ],
   "source": [
    "lst = ['a','b','a','c','b','a','d']\n",
    "lst"
   ]
  },
  {
   "cell_type": "markdown",
   "id": "daa0d71c-95be-4917-b7b0-e1ae4767f687",
   "metadata": {
    "id": "daa0d71c-95be-4917-b7b0-e1ae4767f687"
   },
   "source": [
    "`-` 아래와 같은 딕셔너리를 만들고 싶다. "
   ]
  },
  {
   "cell_type": "code",
   "execution_count": 29,
   "id": "d3f4be91-172b-4fbb-b210-fe874f5e2a56",
   "metadata": {
    "id": "d3f4be91-172b-4fbb-b210-fe874f5e2a56",
    "outputId": "48538748-7e3f-4337-979e-f66c2cf16d66"
   },
   "outputs": [
    {
     "data": {
      "text/plain": [
       "{'a': 3, 'b': 2, 'c': 1, 'd': 1}"
      ]
     },
     "execution_count": 29,
     "metadata": {},
     "output_type": "execute_result"
    }
   ],
   "source": [
    "freq = {'a':3, 'b':2, 'c':1, 'd':1} \n",
    "freq"
   ]
  },
  {
   "cell_type": "markdown",
   "id": "bb5a0891-6351-4d93-8792-99973fef15d8",
   "metadata": {
    "id": "bb5a0891-6351-4d93-8792-99973fef15d8"
   },
   "source": [
    "- `lst.frequency()`를 입력하면 위의 기능이 수행되도록 변형된 list를 쓰고 싶다. "
   ]
  },
  {
   "cell_type": "markdown",
   "id": "36956582-5cc7-4e39-ba63-c96a462746be",
   "metadata": {
    "id": "36956582-5cc7-4e39-ba63-c96a462746be"
   },
   "source": [
    "`-` 구현"
   ]
  },
  {
   "cell_type": "markdown",
   "id": "e8a8df8f-aee1-4b7e-bf63-26c805a4165c",
   "metadata": {
    "id": "e8a8df8f-aee1-4b7e-bf63-26c805a4165c"
   },
   "source": [
    "(시도1) 반쯤 성공? "
   ]
  },
  {
   "cell_type": "code",
   "execution_count": 30,
   "id": "70c6221a-e2b5-4482-a031-0bd279e55736",
   "metadata": {
    "id": "70c6221a-e2b5-4482-a031-0bd279e55736",
    "outputId": "ab839fa3-2076-4ce2-8fcf-97c5ca5dacbb"
   },
   "outputs": [
    {
     "data": {
      "text/plain": [
       "['a', 'b', 'a', 'c', 'b', 'a', 'd']"
      ]
     },
     "execution_count": 30,
     "metadata": {},
     "output_type": "execute_result"
    }
   ],
   "source": [
    "lst"
   ]
  },
  {
   "cell_type": "code",
   "execution_count": 31,
   "id": "49b1c694-74e6-477e-9e23-eb661b421b21",
   "metadata": {
    "id": "49b1c694-74e6-477e-9e23-eb661b421b21",
    "outputId": "a8ee1c03-c31b-47ca-9a52-b148e032e6ec"
   },
   "outputs": [
    {
     "data": {
      "text/plain": [
       "{'a': 0, 'b': 0, 'c': 0, 'd': 0}"
      ]
     },
     "execution_count": 31,
     "metadata": {},
     "output_type": "execute_result"
    }
   ],
   "source": [
    "freq = {'a':0, 'b':0, 'c':0, 'd':0} \n",
    "freq"
   ]
  },
  {
   "cell_type": "code",
   "execution_count": 32,
   "id": "cd2d2d5c-360f-4c24-a92c-fa112c712534",
   "metadata": {
    "id": "cd2d2d5c-360f-4c24-a92c-fa112c712534"
   },
   "outputs": [],
   "source": [
    "for item in lst:\n",
    "    freq[item] = freq[item] + 1 "
   ]
  },
  {
   "cell_type": "code",
   "execution_count": 33,
   "id": "4bd872e5-fff7-426c-98bb-68278f54ca75",
   "metadata": {
    "id": "4bd872e5-fff7-426c-98bb-68278f54ca75",
    "outputId": "2481b695-48fe-4fdb-f5f3-442b576f4d8e"
   },
   "outputs": [
    {
     "data": {
      "text/plain": [
       "{'a': 3, 'b': 2, 'c': 1, 'd': 1}"
      ]
     },
     "execution_count": 33,
     "metadata": {},
     "output_type": "execute_result"
    }
   ],
   "source": [
    "freq"
   ]
  },
  {
   "cell_type": "markdown",
   "id": "4f18d762-705f-4fd8-8daf-e32ecf0331bb",
   "metadata": {
    "id": "4f18d762-705f-4fd8-8daf-e32ecf0331bb"
   },
   "source": [
    "(시도2) 실패"
   ]
  },
  {
   "cell_type": "code",
   "execution_count": 35,
   "id": "507ab8fb-25c2-40a8-8ee2-e52a1b324c74",
   "metadata": {
    "id": "507ab8fb-25c2-40a8-8ee2-e52a1b324c74",
    "outputId": "fd114be9-8bb2-4c83-e713-b3aee5bdeec9"
   },
   "outputs": [
    {
     "data": {
      "text/plain": [
       "['a', 'b', 'a', 'c', 'b', 'a', 'd']"
      ]
     },
     "execution_count": 35,
     "metadata": {},
     "output_type": "execute_result"
    }
   ],
   "source": [
    "lst"
   ]
  },
  {
   "cell_type": "code",
   "execution_count": 36,
   "id": "c855398b-eedf-4261-84f1-e6c0a18f755b",
   "metadata": {
    "id": "c855398b-eedf-4261-84f1-e6c0a18f755b",
    "outputId": "c6ec5f9d-82e8-49fb-d647-1dd64e3a5477"
   },
   "outputs": [
    {
     "data": {
      "text/plain": [
       "{}"
      ]
     },
     "execution_count": 36,
     "metadata": {},
     "output_type": "execute_result"
    }
   ],
   "source": [
    "freq = dict()\n",
    "freq"
   ]
  },
  {
   "cell_type": "code",
   "execution_count": 37,
   "id": "24986dc3-5216-4046-a4af-4b900a7863e1",
   "metadata": {
    "id": "24986dc3-5216-4046-a4af-4b900a7863e1",
    "outputId": "c6d3f2ff-87b1-4a64-9fd5-5fb1f833d67e"
   },
   "outputs": [
    {
     "ename": "KeyError",
     "evalue": "'a'",
     "output_type": "error",
     "traceback": [
      "\u001b[0;31m---------------------------------------------------------------------------\u001b[0m",
      "\u001b[0;31mKeyError\u001b[0m                                  Traceback (most recent call last)",
      "\u001b[0;32m/tmp/ipykernel_847290/251886214.py\u001b[0m in \u001b[0;36m<module>\u001b[0;34m\u001b[0m\n\u001b[1;32m      1\u001b[0m \u001b[0;32mfor\u001b[0m \u001b[0mitem\u001b[0m \u001b[0;32min\u001b[0m \u001b[0mlst\u001b[0m\u001b[0;34m:\u001b[0m\u001b[0;34m\u001b[0m\u001b[0;34m\u001b[0m\u001b[0m\n\u001b[0;32m----> 2\u001b[0;31m     \u001b[0mfreq\u001b[0m\u001b[0;34m[\u001b[0m\u001b[0mitem\u001b[0m\u001b[0;34m]\u001b[0m \u001b[0;34m=\u001b[0m \u001b[0mfreq\u001b[0m\u001b[0;34m[\u001b[0m\u001b[0mitem\u001b[0m\u001b[0;34m]\u001b[0m \u001b[0;34m+\u001b[0m \u001b[0;36m1\u001b[0m\u001b[0;34m\u001b[0m\u001b[0;34m\u001b[0m\u001b[0m\n\u001b[0m",
      "\u001b[0;31mKeyError\u001b[0m: 'a'"
     ]
    }
   ],
   "source": [
    "for item in lst:\n",
    "    freq[item] = freq[item] + 1 "
   ]
  },
  {
   "cell_type": "markdown",
   "id": "ea1b55fd-8b1f-4ee5-a85a-1bc281e2d3b5",
   "metadata": {
    "id": "ea1b55fd-8b1f-4ee5-a85a-1bc281e2d3b5"
   },
   "source": [
    "에러이유? `freq['a']`를 호출할 수 없다 -> freq.get('a',0) 이용"
   ]
  },
  {
   "cell_type": "code",
   "execution_count": 38,
   "id": "c124deaa-ec5d-4975-8580-86435af7477a",
   "metadata": {
    "id": "c124deaa-ec5d-4975-8580-86435af7477a",
    "outputId": "2a300c1b-7aaf-4c02-c121-0b7d850f8eee"
   },
   "outputs": [
    {
     "ename": "KeyError",
     "evalue": "'a'",
     "output_type": "error",
     "traceback": [
      "\u001b[0;31m---------------------------------------------------------------------------\u001b[0m",
      "\u001b[0;31mKeyError\u001b[0m                                  Traceback (most recent call last)",
      "\u001b[0;32m/tmp/ipykernel_847290/3081565143.py\u001b[0m in \u001b[0;36m<module>\u001b[0;34m\u001b[0m\n\u001b[0;32m----> 1\u001b[0;31m \u001b[0mfreq\u001b[0m\u001b[0;34m[\u001b[0m\u001b[0;34m'a'\u001b[0m\u001b[0;34m]\u001b[0m\u001b[0;34m\u001b[0m\u001b[0;34m\u001b[0m\u001b[0m\n\u001b[0m",
      "\u001b[0;31mKeyError\u001b[0m: 'a'"
     ]
    }
   ],
   "source": [
    "freq['a']"
   ]
  },
  {
   "cell_type": "code",
   "execution_count": 39,
   "id": "aa44ea61-c767-4274-b7ec-ae4dd7d9a106",
   "metadata": {
    "id": "aa44ea61-c767-4274-b7ec-ae4dd7d9a106",
    "outputId": "13ee692b-8176-47b7-c0ca-28671060f37d"
   },
   "outputs": [
    {
     "data": {
      "text/plain": [
       "\u001b[0;31mSignature:\u001b[0m \u001b[0mfreq\u001b[0m\u001b[0;34m.\u001b[0m\u001b[0mget\u001b[0m\u001b[0;34m(\u001b[0m\u001b[0mkey\u001b[0m\u001b[0;34m,\u001b[0m \u001b[0mdefault\u001b[0m\u001b[0;34m=\u001b[0m\u001b[0;32mNone\u001b[0m\u001b[0;34m,\u001b[0m \u001b[0;34m/\u001b[0m\u001b[0;34m)\u001b[0m\u001b[0;34m\u001b[0m\u001b[0;34m\u001b[0m\u001b[0m\n",
       "\u001b[0;31mDocstring:\u001b[0m Return the value for key if key is in the dictionary, else default.\n",
       "\u001b[0;31mType:\u001b[0m      builtin_function_or_method\n"
      ]
     },
     "metadata": {},
     "output_type": "display_data"
    }
   ],
   "source": [
    "freq.get?"
   ]
  },
  {
   "cell_type": "markdown",
   "id": "f2a32b70-055e-46c2-b73b-64d65f9a053f",
   "metadata": {
    "id": "f2a32b70-055e-46c2-b73b-64d65f9a053f"
   },
   "source": [
    "- key에 대응하는 값이 있으면 그 값을 리턴하고 없으면 default를 리턴 "
   ]
  },
  {
   "cell_type": "code",
   "execution_count": 40,
   "id": "eff76469-8809-4665-8880-5af9e9cf2605",
   "metadata": {
    "id": "eff76469-8809-4665-8880-5af9e9cf2605"
   },
   "outputs": [],
   "source": [
    "freq.get('a') # freq['a']에 해당하는 자료가 없어도 에러가 나지 않음 "
   ]
  },
  {
   "cell_type": "code",
   "execution_count": 41,
   "id": "4ef1deff-307b-4f88-84da-f0e5165e68b1",
   "metadata": {
    "id": "4ef1deff-307b-4f88-84da-f0e5165e68b1",
    "outputId": "ba7d3f82-d921-4e12-9f3c-241aaf9ea4f6"
   },
   "outputs": [
    {
     "data": {
      "text/plain": [
       "0"
      ]
     },
     "execution_count": 41,
     "metadata": {},
     "output_type": "execute_result"
    }
   ],
   "source": [
    "freq.get('a',0) # freq['a']에 해당하는 자료가 없어도 에러가 나지 않음 + freq['a']에 해당하는 자료가 없으면 0을 리턴"
   ]
  },
  {
   "cell_type": "markdown",
   "id": "60461141-6ffa-45d3-a564-220b08b293f9",
   "metadata": {
    "id": "60461141-6ffa-45d3-a564-220b08b293f9"
   },
   "source": [
    "(시도3)"
   ]
  },
  {
   "cell_type": "code",
   "execution_count": 42,
   "id": "791d95b6-2e51-4ff4-95c3-12c567c330f7",
   "metadata": {
    "id": "791d95b6-2e51-4ff4-95c3-12c567c330f7",
    "outputId": "e0e369bf-241e-45b8-e036-02a27a6b4368"
   },
   "outputs": [
    {
     "data": {
      "text/plain": [
       "['a', 'b', 'a', 'c', 'b', 'a', 'd']"
      ]
     },
     "execution_count": 42,
     "metadata": {},
     "output_type": "execute_result"
    }
   ],
   "source": [
    "lst"
   ]
  },
  {
   "cell_type": "code",
   "execution_count": 43,
   "id": "547b9217-9dbd-4450-b80b-802b53cc0a16",
   "metadata": {
    "id": "547b9217-9dbd-4450-b80b-802b53cc0a16",
    "outputId": "0a22e929-871b-4b94-ce58-94dfa2e144c9"
   },
   "outputs": [
    {
     "data": {
      "text/plain": [
       "{}"
      ]
     },
     "execution_count": 43,
     "metadata": {},
     "output_type": "execute_result"
    }
   ],
   "source": [
    "freq = dict()\n",
    "freq"
   ]
  },
  {
   "cell_type": "code",
   "execution_count": 44,
   "id": "2099c412-ea01-414a-ab1d-b4d1131d3651",
   "metadata": {
    "id": "2099c412-ea01-414a-ab1d-b4d1131d3651"
   },
   "outputs": [],
   "source": [
    "for item in lst:\n",
    "    freq[item] = freq.get(item,0) + 1 "
   ]
  },
  {
   "cell_type": "code",
   "execution_count": 45,
   "id": "acf2f050-d826-4f79-950d-1893146eab8b",
   "metadata": {
    "id": "acf2f050-d826-4f79-950d-1893146eab8b",
    "outputId": "965a594a-b761-471e-b12e-6ea06e9fe18d"
   },
   "outputs": [
    {
     "data": {
      "text/plain": [
       "{'a': 3, 'b': 2, 'c': 1, 'd': 1}"
      ]
     },
     "execution_count": 45,
     "metadata": {},
     "output_type": "execute_result"
    }
   ],
   "source": [
    "freq"
   ]
  },
  {
   "cell_type": "markdown",
   "id": "a008c0fe-cf26-49f6-bcc7-7649730de252",
   "metadata": {
    "id": "a008c0fe-cf26-49f6-bcc7-7649730de252"
   },
   "source": [
    "`-` 이것을 내가 정의하는 새로운 list의 메소드로 넣고 싶다. "
   ]
  },
  {
   "cell_type": "code",
   "execution_count": 46,
   "id": "7507971e-97d9-44e0-93ae-2dd80879008e",
   "metadata": {
    "id": "7507971e-97d9-44e0-93ae-2dd80879008e"
   },
   "outputs": [],
   "source": [
    "class L(list): \n",
    "    def frequency(self):\n",
    "        freq = dict()\n",
    "        for item in self:\n",
    "            freq[item] = freq.get(item,0) + 1 \n",
    "        return freq "
   ]
  },
  {
   "cell_type": "code",
   "execution_count": 47,
   "id": "ed359a47-79b0-4575-8a3f-3ee73bb8fe06",
   "metadata": {
    "id": "ed359a47-79b0-4575-8a3f-3ee73bb8fe06"
   },
   "outputs": [],
   "source": [
    "lst = L([1,1,1,2,2,3])"
   ]
  },
  {
   "cell_type": "code",
   "execution_count": 48,
   "id": "c8982725-0fe8-40f6-85ad-138fa500ca8e",
   "metadata": {
    "id": "c8982725-0fe8-40f6-85ad-138fa500ca8e",
    "outputId": "d1ccf8ce-880c-4f89-f996-be0615377be5"
   },
   "outputs": [
    {
     "data": {
      "text/plain": [
       "[1, 1, 1, 2, 2, 3]"
      ]
     },
     "execution_count": 48,
     "metadata": {},
     "output_type": "execute_result"
    }
   ],
   "source": [
    "lst # 원래 list에 있는 repr 기능을 상속받아서 이루어지는 결과"
   ]
  },
  {
   "cell_type": "code",
   "execution_count": 50,
   "id": "4660fefc-bb05-400c-8161-88c603152de9",
   "metadata": {},
   "outputs": [
    {
     "data": {
      "text/plain": [
       "\u001b[0;31mType:\u001b[0m            L\n",
       "\u001b[0;31mString form:\u001b[0m     [1, 1, 1, 2, 2, 3]\n",
       "\u001b[0;31mLength:\u001b[0m          6\n",
       "\u001b[0;31mDocstring:\u001b[0m       <no docstring>\n",
       "\u001b[0;31mClass docstring:\u001b[0m\n",
       "Built-in mutable sequence.\n",
       "\n",
       "If no argument is given, the constructor creates a new empty list.\n",
       "The argument must be an iterable if specified.\n"
      ]
     },
     "metadata": {},
     "output_type": "display_data"
    }
   ],
   "source": [
    "lst?"
   ]
  },
  {
   "cell_type": "code",
   "execution_count": 51,
   "id": "6c0673df-80f2-4de1-8da3-56a3b0b4568a",
   "metadata": {
    "id": "6c0673df-80f2-4de1-8da3-56a3b0b4568a",
    "outputId": "b6dc6c6d-654f-4b66-9ab5-118dc0fd6a0d"
   },
   "outputs": [
    {
     "data": {
      "text/plain": [
       "[1, 1, 1, 2, 2, 3, 4, 5, 6]"
      ]
     },
     "execution_count": 51,
     "metadata": {},
     "output_type": "execute_result"
    }
   ],
   "source": [
    "_lst = L([4,5,6])\n",
    "lst + _lst # L자료형끼리의 덧셈"
   ]
  },
  {
   "cell_type": "code",
   "execution_count": 52,
   "id": "84c848f4-df06-4441-89c5-aac60b26557d",
   "metadata": {
    "id": "84c848f4-df06-4441-89c5-aac60b26557d",
    "outputId": "4e321aeb-ec16-4b54-993b-0e51e531e420"
   },
   "outputs": [
    {
     "data": {
      "text/plain": [
       "[1, 1, 1, 2, 2, 3, 4, 5, 6]"
      ]
     },
     "execution_count": 52,
     "metadata": {},
     "output_type": "execute_result"
    }
   ],
   "source": [
    "lst + [4,5,6] # L자료형과 list자료형의 덧셈도 가능"
   ]
  },
  {
   "cell_type": "markdown",
   "id": "8fa629ac-34d1-4a10-9f9d-c182af00cdd4",
   "metadata": {
    "id": "8fa629ac-34d1-4a10-9f9d-c182af00cdd4"
   },
   "source": [
    "- L자료형의 덧셈은 list의 덧셈과 완전히 같음 "
   ]
  },
  {
   "cell_type": "code",
   "execution_count": 53,
   "id": "81e99f37-09fe-4c7f-8780-0d56b091ac79",
   "metadata": {
    "id": "81e99f37-09fe-4c7f-8780-0d56b091ac79",
    "outputId": "d0ab18f8-91bd-41d5-8ca2-67622d049b8b"
   },
   "outputs": [
    {
     "data": {
      "text/plain": [
       "[1, 1, 1, 2, 2, 3, 10]"
      ]
     },
     "execution_count": 53,
     "metadata": {},
     "output_type": "execute_result"
    }
   ],
   "source": [
    "lst.append(10) # append함수도 그대로 쓸 수 있음\n",
    "lst"
   ]
  },
  {
   "cell_type": "markdown",
   "id": "ad6112d2-ddb8-4200-89d0-245c2447e988",
   "metadata": {
    "id": "ad6112d2-ddb8-4200-89d0-245c2447e988"
   },
   "source": [
    "`-` 기존리스트에서 추가로 frequency() 메소드가 존재함. "
   ]
  },
  {
   "cell_type": "code",
   "execution_count": 54,
   "id": "2f311d63-f44d-4451-9412-7477cf0d2d2d",
   "metadata": {
    "id": "2f311d63-f44d-4451-9412-7477cf0d2d2d",
    "outputId": "3717a659-85f5-4b92-bd8b-74b4ee7ac86e"
   },
   "outputs": [
    {
     "data": {
      "text/plain": [
       "{1: 3, 2: 2, 3: 1, 10: 1}"
      ]
     },
     "execution_count": 54,
     "metadata": {},
     "output_type": "execute_result"
    }
   ],
   "source": [
    "lst.frequency()"
   ]
  },
  {
   "cell_type": "markdown",
   "id": "993c4786-ecf4-4e37-b75f-cc0f2ad1c39d",
   "metadata": {
    "id": "993c4786-ecf4-4e37-b75f-cc0f2ad1c39d"
   },
   "source": [
    "## Appendix: 사용자정의 자료형의 유용함"
   ]
  },
  {
   "cell_type": "markdown",
   "id": "f4cc6218-0994-4f4b-8686-25837ba102f8",
   "metadata": {
    "id": "f4cc6218-0994-4f4b-8686-25837ba102f8"
   },
   "source": [
    "`-` 사용자정의 자료형이 어떤 경우에는 유용할 수 있다. "
   ]
  },
  {
   "cell_type": "code",
   "execution_count": 55,
   "id": "bb7ee8c2-a197-4c1c-a5a3-90df12ce6aeb",
   "metadata": {
    "id": "bb7ee8c2-a197-4c1c-a5a3-90df12ce6aeb"
   },
   "outputs": [],
   "source": [
    "import pandas as pd \n",
    "import numpy as np\n",
    "import matplotlib.pyplot as plt"
   ]
  },
  {
   "cell_type": "markdown",
   "id": "759a9cda-f60d-4360-8b77-63bd25a79c82",
   "metadata": {
    "id": "759a9cda-f60d-4360-8b77-63bd25a79c82"
   },
   "source": [
    "`-` 예제1"
   ]
  },
  {
   "cell_type": "code",
   "execution_count": 56,
   "id": "5bed1172-7c4d-42f1-80de-516ac71385a6",
   "metadata": {
    "id": "5bed1172-7c4d-42f1-80de-516ac71385a6"
   },
   "outputs": [],
   "source": [
    "year = ['2016','2017','2017','2017',2017,2018,2018,2019,2019] \n",
    "value = np.random.randn(9)"
   ]
  },
  {
   "cell_type": "code",
   "execution_count": 57,
   "id": "ca9391d1-5bfe-464b-a709-18adc1112200",
   "metadata": {
    "id": "ca9391d1-5bfe-464b-a709-18adc1112200",
    "outputId": "ac534d42-ea00-4379-f3d7-5835d674ff9a"
   },
   "outputs": [
    {
     "data": {
      "text/html": [
       "<div>\n",
       "<style scoped>\n",
       "    .dataframe tbody tr th:only-of-type {\n",
       "        vertical-align: middle;\n",
       "    }\n",
       "\n",
       "    .dataframe tbody tr th {\n",
       "        vertical-align: top;\n",
       "    }\n",
       "\n",
       "    .dataframe thead th {\n",
       "        text-align: right;\n",
       "    }\n",
       "</style>\n",
       "<table border=\"1\" class=\"dataframe\">\n",
       "  <thead>\n",
       "    <tr style=\"text-align: right;\">\n",
       "      <th></th>\n",
       "      <th>year</th>\n",
       "      <th>value</th>\n",
       "    </tr>\n",
       "  </thead>\n",
       "  <tbody>\n",
       "    <tr>\n",
       "      <th>0</th>\n",
       "      <td>2016</td>\n",
       "      <td>-2.302688</td>\n",
       "    </tr>\n",
       "    <tr>\n",
       "      <th>1</th>\n",
       "      <td>2017</td>\n",
       "      <td>2.472312</td>\n",
       "    </tr>\n",
       "    <tr>\n",
       "      <th>2</th>\n",
       "      <td>2017</td>\n",
       "      <td>-0.026192</td>\n",
       "    </tr>\n",
       "    <tr>\n",
       "      <th>3</th>\n",
       "      <td>2017</td>\n",
       "      <td>-0.264954</td>\n",
       "    </tr>\n",
       "    <tr>\n",
       "      <th>4</th>\n",
       "      <td>2017</td>\n",
       "      <td>0.312092</td>\n",
       "    </tr>\n",
       "    <tr>\n",
       "      <th>5</th>\n",
       "      <td>2018</td>\n",
       "      <td>0.487921</td>\n",
       "    </tr>\n",
       "    <tr>\n",
       "      <th>6</th>\n",
       "      <td>2018</td>\n",
       "      <td>-0.372992</td>\n",
       "    </tr>\n",
       "    <tr>\n",
       "      <th>7</th>\n",
       "      <td>2019</td>\n",
       "      <td>-0.783505</td>\n",
       "    </tr>\n",
       "    <tr>\n",
       "      <th>8</th>\n",
       "      <td>2019</td>\n",
       "      <td>0.434551</td>\n",
       "    </tr>\n",
       "  </tbody>\n",
       "</table>\n",
       "</div>"
      ],
      "text/plain": [
       "   year     value\n",
       "0  2016 -2.302688\n",
       "1  2017  2.472312\n",
       "2  2017 -0.026192\n",
       "3  2017 -0.264954\n",
       "4  2017  0.312092\n",
       "5  2018  0.487921\n",
       "6  2018 -0.372992\n",
       "7  2019 -0.783505\n",
       "8  2019  0.434551"
      ]
     },
     "execution_count": 57,
     "metadata": {},
     "output_type": "execute_result"
    }
   ],
   "source": [
    "df= pd.DataFrame({'year':year,'value':value})\n",
    "df"
   ]
  },
  {
   "cell_type": "code",
   "execution_count": 58,
   "id": "dbc4952e-cda0-4ed9-8d1a-0d45d5e56378",
   "metadata": {
    "id": "dbc4952e-cda0-4ed9-8d1a-0d45d5e56378",
    "outputId": "66081bf0-2651-46ea-9007-7fd12f87169d"
   },
   "outputs": [
    {
     "ename": "TypeError",
     "evalue": "'value' must be an instance of str or bytes, not a int",
     "output_type": "error",
     "traceback": [
      "\u001b[0;31m---------------------------------------------------------------------------\u001b[0m",
      "\u001b[0;31mTypeError\u001b[0m                                 Traceback (most recent call last)",
      "\u001b[0;32m/tmp/ipykernel_847290/1597755330.py\u001b[0m in \u001b[0;36m<module>\u001b[0;34m\u001b[0m\n\u001b[0;32m----> 1\u001b[0;31m \u001b[0mplt\u001b[0m\u001b[0;34m.\u001b[0m\u001b[0mplot\u001b[0m\u001b[0;34m(\u001b[0m\u001b[0mdf\u001b[0m\u001b[0;34m.\u001b[0m\u001b[0myear\u001b[0m\u001b[0;34m,\u001b[0m\u001b[0mdf\u001b[0m\u001b[0;34m.\u001b[0m\u001b[0mvalue\u001b[0m\u001b[0;34m)\u001b[0m\u001b[0;34m\u001b[0m\u001b[0;34m\u001b[0m\u001b[0m\n\u001b[0m",
      "\u001b[0;32m~/anaconda3/envs/csy/lib/python3.8/site-packages/matplotlib/pyplot.py\u001b[0m in \u001b[0;36mplot\u001b[0;34m(scalex, scaley, data, *args, **kwargs)\u001b[0m\n\u001b[1;32m   2755\u001b[0m \u001b[0;34m@\u001b[0m\u001b[0m_copy_docstring_and_deprecators\u001b[0m\u001b[0;34m(\u001b[0m\u001b[0mAxes\u001b[0m\u001b[0;34m.\u001b[0m\u001b[0mplot\u001b[0m\u001b[0;34m)\u001b[0m\u001b[0;34m\u001b[0m\u001b[0;34m\u001b[0m\u001b[0m\n\u001b[1;32m   2756\u001b[0m \u001b[0;32mdef\u001b[0m \u001b[0mplot\u001b[0m\u001b[0;34m(\u001b[0m\u001b[0;34m*\u001b[0m\u001b[0margs\u001b[0m\u001b[0;34m,\u001b[0m \u001b[0mscalex\u001b[0m\u001b[0;34m=\u001b[0m\u001b[0;32mTrue\u001b[0m\u001b[0;34m,\u001b[0m \u001b[0mscaley\u001b[0m\u001b[0;34m=\u001b[0m\u001b[0;32mTrue\u001b[0m\u001b[0;34m,\u001b[0m \u001b[0mdata\u001b[0m\u001b[0;34m=\u001b[0m\u001b[0;32mNone\u001b[0m\u001b[0;34m,\u001b[0m \u001b[0;34m**\u001b[0m\u001b[0mkwargs\u001b[0m\u001b[0;34m)\u001b[0m\u001b[0;34m:\u001b[0m\u001b[0;34m\u001b[0m\u001b[0;34m\u001b[0m\u001b[0m\n\u001b[0;32m-> 2757\u001b[0;31m     return gca().plot(\n\u001b[0m\u001b[1;32m   2758\u001b[0m         \u001b[0;34m*\u001b[0m\u001b[0margs\u001b[0m\u001b[0;34m,\u001b[0m \u001b[0mscalex\u001b[0m\u001b[0;34m=\u001b[0m\u001b[0mscalex\u001b[0m\u001b[0;34m,\u001b[0m \u001b[0mscaley\u001b[0m\u001b[0;34m=\u001b[0m\u001b[0mscaley\u001b[0m\u001b[0;34m,\u001b[0m\u001b[0;34m\u001b[0m\u001b[0;34m\u001b[0m\u001b[0m\n\u001b[1;32m   2759\u001b[0m         **({\"data\": data} if data is not None else {}), **kwargs)\n",
      "\u001b[0;32m~/anaconda3/envs/csy/lib/python3.8/site-packages/matplotlib/axes/_axes.py\u001b[0m in \u001b[0;36mplot\u001b[0;34m(self, scalex, scaley, data, *args, **kwargs)\u001b[0m\n\u001b[1;32m   1630\u001b[0m         \"\"\"\n\u001b[1;32m   1631\u001b[0m         \u001b[0mkwargs\u001b[0m \u001b[0;34m=\u001b[0m \u001b[0mcbook\u001b[0m\u001b[0;34m.\u001b[0m\u001b[0mnormalize_kwargs\u001b[0m\u001b[0;34m(\u001b[0m\u001b[0mkwargs\u001b[0m\u001b[0;34m,\u001b[0m \u001b[0mmlines\u001b[0m\u001b[0;34m.\u001b[0m\u001b[0mLine2D\u001b[0m\u001b[0;34m)\u001b[0m\u001b[0;34m\u001b[0m\u001b[0;34m\u001b[0m\u001b[0m\n\u001b[0;32m-> 1632\u001b[0;31m         \u001b[0mlines\u001b[0m \u001b[0;34m=\u001b[0m \u001b[0;34m[\u001b[0m\u001b[0;34m*\u001b[0m\u001b[0mself\u001b[0m\u001b[0;34m.\u001b[0m\u001b[0m_get_lines\u001b[0m\u001b[0;34m(\u001b[0m\u001b[0;34m*\u001b[0m\u001b[0margs\u001b[0m\u001b[0;34m,\u001b[0m \u001b[0mdata\u001b[0m\u001b[0;34m=\u001b[0m\u001b[0mdata\u001b[0m\u001b[0;34m,\u001b[0m \u001b[0;34m**\u001b[0m\u001b[0mkwargs\u001b[0m\u001b[0;34m)\u001b[0m\u001b[0;34m]\u001b[0m\u001b[0;34m\u001b[0m\u001b[0;34m\u001b[0m\u001b[0m\n\u001b[0m\u001b[1;32m   1633\u001b[0m         \u001b[0;32mfor\u001b[0m \u001b[0mline\u001b[0m \u001b[0;32min\u001b[0m \u001b[0mlines\u001b[0m\u001b[0;34m:\u001b[0m\u001b[0;34m\u001b[0m\u001b[0;34m\u001b[0m\u001b[0m\n\u001b[1;32m   1634\u001b[0m             \u001b[0mself\u001b[0m\u001b[0;34m.\u001b[0m\u001b[0madd_line\u001b[0m\u001b[0;34m(\u001b[0m\u001b[0mline\u001b[0m\u001b[0;34m)\u001b[0m\u001b[0;34m\u001b[0m\u001b[0;34m\u001b[0m\u001b[0m\n",
      "\u001b[0;32m~/anaconda3/envs/csy/lib/python3.8/site-packages/matplotlib/axes/_base.py\u001b[0m in \u001b[0;36m__call__\u001b[0;34m(self, data, *args, **kwargs)\u001b[0m\n\u001b[1;32m    310\u001b[0m                 \u001b[0mthis\u001b[0m \u001b[0;34m+=\u001b[0m \u001b[0margs\u001b[0m\u001b[0;34m[\u001b[0m\u001b[0;36m0\u001b[0m\u001b[0;34m]\u001b[0m\u001b[0;34m,\u001b[0m\u001b[0;34m\u001b[0m\u001b[0;34m\u001b[0m\u001b[0m\n\u001b[1;32m    311\u001b[0m                 \u001b[0margs\u001b[0m \u001b[0;34m=\u001b[0m \u001b[0margs\u001b[0m\u001b[0;34m[\u001b[0m\u001b[0;36m1\u001b[0m\u001b[0;34m:\u001b[0m\u001b[0;34m]\u001b[0m\u001b[0;34m\u001b[0m\u001b[0;34m\u001b[0m\u001b[0m\n\u001b[0;32m--> 312\u001b[0;31m             \u001b[0;32myield\u001b[0m \u001b[0;32mfrom\u001b[0m \u001b[0mself\u001b[0m\u001b[0;34m.\u001b[0m\u001b[0m_plot_args\u001b[0m\u001b[0;34m(\u001b[0m\u001b[0mthis\u001b[0m\u001b[0;34m,\u001b[0m \u001b[0mkwargs\u001b[0m\u001b[0;34m)\u001b[0m\u001b[0;34m\u001b[0m\u001b[0;34m\u001b[0m\u001b[0m\n\u001b[0m\u001b[1;32m    313\u001b[0m \u001b[0;34m\u001b[0m\u001b[0m\n\u001b[1;32m    314\u001b[0m     \u001b[0;32mdef\u001b[0m \u001b[0mget_next_color\u001b[0m\u001b[0;34m(\u001b[0m\u001b[0mself\u001b[0m\u001b[0;34m)\u001b[0m\u001b[0;34m:\u001b[0m\u001b[0;34m\u001b[0m\u001b[0;34m\u001b[0m\u001b[0m\n",
      "\u001b[0;32m~/anaconda3/envs/csy/lib/python3.8/site-packages/matplotlib/axes/_base.py\u001b[0m in \u001b[0;36m_plot_args\u001b[0;34m(self, tup, kwargs, return_kwargs)\u001b[0m\n\u001b[1;32m    491\u001b[0m \u001b[0;34m\u001b[0m\u001b[0m\n\u001b[1;32m    492\u001b[0m         \u001b[0;32mif\u001b[0m \u001b[0mself\u001b[0m\u001b[0;34m.\u001b[0m\u001b[0maxes\u001b[0m\u001b[0;34m.\u001b[0m\u001b[0mxaxis\u001b[0m \u001b[0;32mis\u001b[0m \u001b[0;32mnot\u001b[0m \u001b[0;32mNone\u001b[0m\u001b[0;34m:\u001b[0m\u001b[0;34m\u001b[0m\u001b[0;34m\u001b[0m\u001b[0m\n\u001b[0;32m--> 493\u001b[0;31m             \u001b[0mself\u001b[0m\u001b[0;34m.\u001b[0m\u001b[0maxes\u001b[0m\u001b[0;34m.\u001b[0m\u001b[0mxaxis\u001b[0m\u001b[0;34m.\u001b[0m\u001b[0mupdate_units\u001b[0m\u001b[0;34m(\u001b[0m\u001b[0mx\u001b[0m\u001b[0;34m)\u001b[0m\u001b[0;34m\u001b[0m\u001b[0;34m\u001b[0m\u001b[0m\n\u001b[0m\u001b[1;32m    494\u001b[0m         \u001b[0;32mif\u001b[0m \u001b[0mself\u001b[0m\u001b[0;34m.\u001b[0m\u001b[0maxes\u001b[0m\u001b[0;34m.\u001b[0m\u001b[0myaxis\u001b[0m \u001b[0;32mis\u001b[0m \u001b[0;32mnot\u001b[0m \u001b[0;32mNone\u001b[0m\u001b[0;34m:\u001b[0m\u001b[0;34m\u001b[0m\u001b[0;34m\u001b[0m\u001b[0m\n\u001b[1;32m    495\u001b[0m             \u001b[0mself\u001b[0m\u001b[0;34m.\u001b[0m\u001b[0maxes\u001b[0m\u001b[0;34m.\u001b[0m\u001b[0myaxis\u001b[0m\u001b[0;34m.\u001b[0m\u001b[0mupdate_units\u001b[0m\u001b[0;34m(\u001b[0m\u001b[0my\u001b[0m\u001b[0;34m)\u001b[0m\u001b[0;34m\u001b[0m\u001b[0;34m\u001b[0m\u001b[0m\n",
      "\u001b[0;32m~/anaconda3/envs/csy/lib/python3.8/site-packages/matplotlib/axis.py\u001b[0m in \u001b[0;36mupdate_units\u001b[0;34m(self, data)\u001b[0m\n\u001b[1;32m   1447\u001b[0m         \u001b[0mneednew\u001b[0m \u001b[0;34m=\u001b[0m \u001b[0mself\u001b[0m\u001b[0;34m.\u001b[0m\u001b[0mconverter\u001b[0m \u001b[0;34m!=\u001b[0m \u001b[0mconverter\u001b[0m\u001b[0;34m\u001b[0m\u001b[0;34m\u001b[0m\u001b[0m\n\u001b[1;32m   1448\u001b[0m         \u001b[0mself\u001b[0m\u001b[0;34m.\u001b[0m\u001b[0mconverter\u001b[0m \u001b[0;34m=\u001b[0m \u001b[0mconverter\u001b[0m\u001b[0;34m\u001b[0m\u001b[0;34m\u001b[0m\u001b[0m\n\u001b[0;32m-> 1449\u001b[0;31m         \u001b[0mdefault\u001b[0m \u001b[0;34m=\u001b[0m \u001b[0mself\u001b[0m\u001b[0;34m.\u001b[0m\u001b[0mconverter\u001b[0m\u001b[0;34m.\u001b[0m\u001b[0mdefault_units\u001b[0m\u001b[0;34m(\u001b[0m\u001b[0mdata\u001b[0m\u001b[0;34m,\u001b[0m \u001b[0mself\u001b[0m\u001b[0;34m)\u001b[0m\u001b[0;34m\u001b[0m\u001b[0;34m\u001b[0m\u001b[0m\n\u001b[0m\u001b[1;32m   1450\u001b[0m         \u001b[0;32mif\u001b[0m \u001b[0mdefault\u001b[0m \u001b[0;32mis\u001b[0m \u001b[0;32mnot\u001b[0m \u001b[0;32mNone\u001b[0m \u001b[0;32mand\u001b[0m \u001b[0mself\u001b[0m\u001b[0;34m.\u001b[0m\u001b[0munits\u001b[0m \u001b[0;32mis\u001b[0m \u001b[0;32mNone\u001b[0m\u001b[0;34m:\u001b[0m\u001b[0;34m\u001b[0m\u001b[0;34m\u001b[0m\u001b[0m\n\u001b[1;32m   1451\u001b[0m             \u001b[0mself\u001b[0m\u001b[0;34m.\u001b[0m\u001b[0mset_units\u001b[0m\u001b[0;34m(\u001b[0m\u001b[0mdefault\u001b[0m\u001b[0;34m)\u001b[0m\u001b[0;34m\u001b[0m\u001b[0;34m\u001b[0m\u001b[0m\n",
      "\u001b[0;32m~/anaconda3/envs/csy/lib/python3.8/site-packages/matplotlib/category.py\u001b[0m in \u001b[0;36mdefault_units\u001b[0;34m(data, axis)\u001b[0m\n\u001b[1;32m    114\u001b[0m         \u001b[0;31m# the conversion call stack is default_units -> axis_info -> convert\u001b[0m\u001b[0;34m\u001b[0m\u001b[0;34m\u001b[0m\u001b[0;34m\u001b[0m\u001b[0m\n\u001b[1;32m    115\u001b[0m         \u001b[0;32mif\u001b[0m \u001b[0maxis\u001b[0m\u001b[0;34m.\u001b[0m\u001b[0munits\u001b[0m \u001b[0;32mis\u001b[0m \u001b[0;32mNone\u001b[0m\u001b[0;34m:\u001b[0m\u001b[0;34m\u001b[0m\u001b[0;34m\u001b[0m\u001b[0m\n\u001b[0;32m--> 116\u001b[0;31m             \u001b[0maxis\u001b[0m\u001b[0;34m.\u001b[0m\u001b[0mset_units\u001b[0m\u001b[0;34m(\u001b[0m\u001b[0mUnitData\u001b[0m\u001b[0;34m(\u001b[0m\u001b[0mdata\u001b[0m\u001b[0;34m)\u001b[0m\u001b[0;34m)\u001b[0m\u001b[0;34m\u001b[0m\u001b[0;34m\u001b[0m\u001b[0m\n\u001b[0m\u001b[1;32m    117\u001b[0m         \u001b[0;32melse\u001b[0m\u001b[0;34m:\u001b[0m\u001b[0;34m\u001b[0m\u001b[0;34m\u001b[0m\u001b[0m\n\u001b[1;32m    118\u001b[0m             \u001b[0maxis\u001b[0m\u001b[0;34m.\u001b[0m\u001b[0munits\u001b[0m\u001b[0;34m.\u001b[0m\u001b[0mupdate\u001b[0m\u001b[0;34m(\u001b[0m\u001b[0mdata\u001b[0m\u001b[0;34m)\u001b[0m\u001b[0;34m\u001b[0m\u001b[0;34m\u001b[0m\u001b[0m\n",
      "\u001b[0;32m~/anaconda3/envs/csy/lib/python3.8/site-packages/matplotlib/category.py\u001b[0m in \u001b[0;36m__init__\u001b[0;34m(self, data)\u001b[0m\n\u001b[1;32m    190\u001b[0m         \u001b[0mself\u001b[0m\u001b[0;34m.\u001b[0m\u001b[0m_counter\u001b[0m \u001b[0;34m=\u001b[0m \u001b[0mitertools\u001b[0m\u001b[0;34m.\u001b[0m\u001b[0mcount\u001b[0m\u001b[0;34m(\u001b[0m\u001b[0;34m)\u001b[0m\u001b[0;34m\u001b[0m\u001b[0;34m\u001b[0m\u001b[0m\n\u001b[1;32m    191\u001b[0m         \u001b[0;32mif\u001b[0m \u001b[0mdata\u001b[0m \u001b[0;32mis\u001b[0m \u001b[0;32mnot\u001b[0m \u001b[0;32mNone\u001b[0m\u001b[0;34m:\u001b[0m\u001b[0;34m\u001b[0m\u001b[0;34m\u001b[0m\u001b[0m\n\u001b[0;32m--> 192\u001b[0;31m             \u001b[0mself\u001b[0m\u001b[0;34m.\u001b[0m\u001b[0mupdate\u001b[0m\u001b[0;34m(\u001b[0m\u001b[0mdata\u001b[0m\u001b[0;34m)\u001b[0m\u001b[0;34m\u001b[0m\u001b[0;34m\u001b[0m\u001b[0m\n\u001b[0m\u001b[1;32m    193\u001b[0m \u001b[0;34m\u001b[0m\u001b[0m\n\u001b[1;32m    194\u001b[0m     \u001b[0;34m@\u001b[0m\u001b[0mstaticmethod\u001b[0m\u001b[0;34m\u001b[0m\u001b[0;34m\u001b[0m\u001b[0m\n",
      "\u001b[0;32m~/anaconda3/envs/csy/lib/python3.8/site-packages/matplotlib/category.py\u001b[0m in \u001b[0;36mupdate\u001b[0;34m(self, data)\u001b[0m\n\u001b[1;32m    225\u001b[0m         \u001b[0;32mfor\u001b[0m \u001b[0mval\u001b[0m \u001b[0;32min\u001b[0m \u001b[0mOrderedDict\u001b[0m\u001b[0;34m.\u001b[0m\u001b[0mfromkeys\u001b[0m\u001b[0;34m(\u001b[0m\u001b[0mdata\u001b[0m\u001b[0;34m)\u001b[0m\u001b[0;34m:\u001b[0m\u001b[0;34m\u001b[0m\u001b[0;34m\u001b[0m\u001b[0m\n\u001b[1;32m    226\u001b[0m             \u001b[0;31m# OrderedDict just iterates over unique values in data.\u001b[0m\u001b[0;34m\u001b[0m\u001b[0;34m\u001b[0m\u001b[0;34m\u001b[0m\u001b[0m\n\u001b[0;32m--> 227\u001b[0;31m             \u001b[0m_api\u001b[0m\u001b[0;34m.\u001b[0m\u001b[0mcheck_isinstance\u001b[0m\u001b[0;34m(\u001b[0m\u001b[0;34m(\u001b[0m\u001b[0mstr\u001b[0m\u001b[0;34m,\u001b[0m \u001b[0mbytes\u001b[0m\u001b[0;34m)\u001b[0m\u001b[0;34m,\u001b[0m \u001b[0mvalue\u001b[0m\u001b[0;34m=\u001b[0m\u001b[0mval\u001b[0m\u001b[0;34m)\u001b[0m\u001b[0;34m\u001b[0m\u001b[0;34m\u001b[0m\u001b[0m\n\u001b[0m\u001b[1;32m    228\u001b[0m             \u001b[0;32mif\u001b[0m \u001b[0mconvertible\u001b[0m\u001b[0;34m:\u001b[0m\u001b[0;34m\u001b[0m\u001b[0;34m\u001b[0m\u001b[0m\n\u001b[1;32m    229\u001b[0m                 \u001b[0;31m# this will only be called so long as convertible is True.\u001b[0m\u001b[0;34m\u001b[0m\u001b[0;34m\u001b[0m\u001b[0;34m\u001b[0m\u001b[0m\n",
      "\u001b[0;32m~/anaconda3/envs/csy/lib/python3.8/site-packages/matplotlib/_api/__init__.py\u001b[0m in \u001b[0;36mcheck_isinstance\u001b[0;34m(_types, **kwargs)\u001b[0m\n\u001b[1;32m     91\u001b[0m                 \u001b[0mnames\u001b[0m\u001b[0;34m.\u001b[0m\u001b[0mremove\u001b[0m\u001b[0;34m(\u001b[0m\u001b[0;34m\"None\"\u001b[0m\u001b[0;34m)\u001b[0m\u001b[0;34m\u001b[0m\u001b[0;34m\u001b[0m\u001b[0m\n\u001b[1;32m     92\u001b[0m                 \u001b[0mnames\u001b[0m\u001b[0;34m.\u001b[0m\u001b[0mappend\u001b[0m\u001b[0;34m(\u001b[0m\u001b[0;34m\"None\"\u001b[0m\u001b[0;34m)\u001b[0m\u001b[0;34m\u001b[0m\u001b[0;34m\u001b[0m\u001b[0m\n\u001b[0;32m---> 93\u001b[0;31m             raise TypeError(\n\u001b[0m\u001b[1;32m     94\u001b[0m                 \"{!r} must be an instance of {}, not a {}\".format(\n\u001b[1;32m     95\u001b[0m                     \u001b[0mk\u001b[0m\u001b[0;34m,\u001b[0m\u001b[0;34m\u001b[0m\u001b[0;34m\u001b[0m\u001b[0m\n",
      "\u001b[0;31mTypeError\u001b[0m: 'value' must be an instance of str or bytes, not a int"
     ]
    },
    {
     "data": {
      "image/png": "[encoded data removed]",
      "text/plain": [
       "<Figure size 432x288 with 1 Axes>"
      ]
     },
     "metadata": {
      "needs_background": "light"
     },
     "output_type": "display_data"
    }
   ],
   "source": [
    "plt.plot(df.year,df.value)"
   ]
  },
  {
   "cell_type": "markdown",
   "id": "805662f9-7347-4771-97b8-de92778a58d2",
   "metadata": {
    "id": "805662f9-7347-4771-97b8-de92778a58d2"
   },
   "source": [
    "에러의 이유: df.year에 str, int가 동시에 있음"
   ]
  },
  {
   "cell_type": "code",
   "execution_count": 59,
   "id": "095742d9-9169-462a-b02d-df5a430eaad3",
   "metadata": {
    "id": "095742d9-9169-462a-b02d-df5a430eaad3",
    "outputId": "ca83a9d5-fc3a-4d41-e71d-6313683a80b1"
   },
   "outputs": [
    {
     "data": {
      "text/plain": [
       "array(['2016', '2017', '2017', '2017', 2017, 2018, 2018, 2019, 2019],\n",
       "      dtype=object)"
      ]
     },
     "execution_count": 59,
     "metadata": {},
     "output_type": "execute_result"
    }
   ],
   "source": [
    "np.array(df.year)"
   ]
  },
  {
   "cell_type": "markdown",
   "id": "11a60608-b71b-4bee-a4a7-e7cdabefdad8",
   "metadata": {
    "id": "11a60608-b71b-4bee-a4a7-e7cdabefdad8"
   },
   "source": [
    "자료형을 바꿔주면 해결할 수 있다. "
   ]
  },
  {
   "cell_type": "code",
   "execution_count": 60,
   "id": "31c7ff35-7b86-4a8c-8362-24c480b04bac",
   "metadata": {
    "id": "31c7ff35-7b86-4a8c-8362-24c480b04bac",
    "outputId": "b5f0cd51-cf45-4439-bda8-34a82f63b847"
   },
   "outputs": [
    {
     "data": {
      "text/plain": [
       "array([2016., 2017., 2017., 2017., 2017., 2018., 2018., 2019., 2019.])"
      ]
     },
     "execution_count": 60,
     "metadata": {},
     "output_type": "execute_result"
    }
   ],
   "source": [
    "np.array(df.year, dtype=np.float64)\n",
    "#np.array(df.year).astype(np.float64)\n",
    "#df.year.astype(np.float64)"
   ]
  },
  {
   "cell_type": "code",
   "execution_count": 61,
   "id": "e437d307-bc70-4192-b365-e3192b192e8d",
   "metadata": {
    "id": "e437d307-bc70-4192-b365-e3192b192e8d",
    "outputId": "90a6265f-113c-4896-c630-1ec6c117ac15"
   },
   "outputs": [
    {
     "data": {
      "text/plain": [
       "[<matplotlib.lines.Line2D at 0x7feaca4db760>]"
      ]
     },
     "execution_count": 61,
     "metadata": {},
     "output_type": "execute_result"
    },
    {
     "data": {
      "image/png": "[encoded data removed]",
      "text/plain": [
       "<Figure size 432x288 with 1 Axes>"
      ]
     },
     "metadata": {
      "needs_background": "light"
     },
     "output_type": "display_data"
    }
   ],
   "source": [
    "plt.plot(df.year.astype(np.float64),df.value,'.')"
   ]
  },
  {
   "cell_type": "markdown",
   "id": "01774303-10e2-45f7-ab4e-6d809d4debfd",
   "metadata": {
    "id": "01774303-10e2-45f7-ab4e-6d809d4debfd"
   },
   "source": [
    "`-` 예제2"
   ]
  },
  {
   "cell_type": "code",
   "execution_count": 62,
   "id": "56f4f949-7d05-4a47-bb0e-99c14616a082",
   "metadata": {
    "id": "56f4f949-7d05-4a47-bb0e-99c14616a082"
   },
   "outputs": [],
   "source": [
    "year = ['2016','2017','2017','2017년','2017년',2018,2018,2019,2019] \n",
    "value = np.random.randn(9)"
   ]
  },
  {
   "cell_type": "code",
   "execution_count": 63,
   "id": "6c4d4b0d-2d82-4925-ae5a-f4d8cdf3b613",
   "metadata": {
    "id": "6c4d4b0d-2d82-4925-ae5a-f4d8cdf3b613",
    "outputId": "70016df5-6a9d-4fa2-c460-e37284ff8da2"
   },
   "outputs": [
    {
     "data": {
      "text/html": [
       "<div>\n",
       "<style scoped>\n",
       "    .dataframe tbody tr th:only-of-type {\n",
       "        vertical-align: middle;\n",
       "    }\n",
       "\n",
       "    .dataframe tbody tr th {\n",
       "        vertical-align: top;\n",
       "    }\n",
       "\n",
       "    .dataframe thead th {\n",
       "        text-align: right;\n",
       "    }\n",
       "</style>\n",
       "<table border=\"1\" class=\"dataframe\">\n",
       "  <thead>\n",
       "    <tr style=\"text-align: right;\">\n",
       "      <th></th>\n",
       "      <th>year</th>\n",
       "      <th>value</th>\n",
       "    </tr>\n",
       "  </thead>\n",
       "  <tbody>\n",
       "    <tr>\n",
       "      <th>0</th>\n",
       "      <td>2016</td>\n",
       "      <td>-0.678625</td>\n",
       "    </tr>\n",
       "    <tr>\n",
       "      <th>1</th>\n",
       "      <td>2017</td>\n",
       "      <td>-0.878156</td>\n",
       "    </tr>\n",
       "    <tr>\n",
       "      <th>2</th>\n",
       "      <td>2017</td>\n",
       "      <td>0.432160</td>\n",
       "    </tr>\n",
       "    <tr>\n",
       "      <th>3</th>\n",
       "      <td>2017년</td>\n",
       "      <td>0.519398</td>\n",
       "    </tr>\n",
       "    <tr>\n",
       "      <th>4</th>\n",
       "      <td>2017년</td>\n",
       "      <td>0.640570</td>\n",
       "    </tr>\n",
       "    <tr>\n",
       "      <th>5</th>\n",
       "      <td>2018</td>\n",
       "      <td>-0.904019</td>\n",
       "    </tr>\n",
       "    <tr>\n",
       "      <th>6</th>\n",
       "      <td>2018</td>\n",
       "      <td>1.148045</td>\n",
       "    </tr>\n",
       "    <tr>\n",
       "      <th>7</th>\n",
       "      <td>2019</td>\n",
       "      <td>-0.594485</td>\n",
       "    </tr>\n",
       "    <tr>\n",
       "      <th>8</th>\n",
       "      <td>2019</td>\n",
       "      <td>-1.015366</td>\n",
       "    </tr>\n",
       "  </tbody>\n",
       "</table>\n",
       "</div>"
      ],
      "text/plain": [
       "    year     value\n",
       "0   2016 -0.678625\n",
       "1   2017 -0.878156\n",
       "2   2017  0.432160\n",
       "3  2017년  0.519398\n",
       "4  2017년  0.640570\n",
       "5   2018 -0.904019\n",
       "6   2018  1.148045\n",
       "7   2019 -0.594485\n",
       "8   2019 -1.015366"
      ]
     },
     "execution_count": 63,
     "metadata": {},
     "output_type": "execute_result"
    }
   ],
   "source": [
    "df= pd.DataFrame({'year':year,'value':value})\n",
    "df"
   ]
  },
  {
   "cell_type": "code",
   "execution_count": 64,
   "id": "31024b10-7afd-4d87-b630-9c39f4805118",
   "metadata": {
    "id": "31024b10-7afd-4d87-b630-9c39f4805118",
    "outputId": "2b420c15-3b70-48ec-be8e-f2946bb856b7"
   },
   "outputs": [
    {
     "ename": "ValueError",
     "evalue": "could not convert string to float: '2017년'",
     "output_type": "error",
     "traceback": [
      "\u001b[0;31m---------------------------------------------------------------------------\u001b[0m",
      "\u001b[0;31mValueError\u001b[0m                                Traceback (most recent call last)",
      "\u001b[0;32m/tmp/ipykernel_847290/3544192572.py\u001b[0m in \u001b[0;36m<module>\u001b[0;34m\u001b[0m\n\u001b[0;32m----> 1\u001b[0;31m \u001b[0mnp\u001b[0m\u001b[0;34m.\u001b[0m\u001b[0marray\u001b[0m\u001b[0;34m(\u001b[0m\u001b[0mdf\u001b[0m\u001b[0;34m.\u001b[0m\u001b[0myear\u001b[0m\u001b[0;34m,\u001b[0m\u001b[0mdtype\u001b[0m\u001b[0;34m=\u001b[0m\u001b[0mnp\u001b[0m\u001b[0;34m.\u001b[0m\u001b[0mfloat64\u001b[0m\u001b[0;34m)\u001b[0m \u001b[0;31m# 타입을 일괄적으로 바꾸기 어렵다.\u001b[0m\u001b[0;34m\u001b[0m\u001b[0;34m\u001b[0m\u001b[0m\n\u001b[0m",
      "\u001b[0;32m~/anaconda3/envs/csy/lib/python3.8/site-packages/pandas/core/series.py\u001b[0m in \u001b[0;36m__array__\u001b[0;34m(self, dtype)\u001b[0m\n\u001b[1;32m    855\u001b[0m               dtype='datetime64[ns]')\n\u001b[1;32m    856\u001b[0m         \"\"\"\n\u001b[0;32m--> 857\u001b[0;31m         \u001b[0;32mreturn\u001b[0m \u001b[0mnp\u001b[0m\u001b[0;34m.\u001b[0m\u001b[0masarray\u001b[0m\u001b[0;34m(\u001b[0m\u001b[0mself\u001b[0m\u001b[0;34m.\u001b[0m\u001b[0m_values\u001b[0m\u001b[0;34m,\u001b[0m \u001b[0mdtype\u001b[0m\u001b[0;34m)\u001b[0m\u001b[0;34m\u001b[0m\u001b[0;34m\u001b[0m\u001b[0m\n\u001b[0m\u001b[1;32m    858\u001b[0m \u001b[0;34m\u001b[0m\u001b[0m\n\u001b[1;32m    859\u001b[0m     \u001b[0;31m# ----------------------------------------------------------------------\u001b[0m\u001b[0;34m\u001b[0m\u001b[0;34m\u001b[0m\u001b[0;34m\u001b[0m\u001b[0m\n",
      "\u001b[0;31mValueError\u001b[0m: could not convert string to float: '2017년'"
     ]
    }
   ],
   "source": [
    "np.array(df.year,dtype=np.float64) # 타입을 일괄적으로 바꾸기 어렵다. "
   ]
  },
  {
   "cell_type": "code",
   "execution_count": 65,
   "id": "6a0d10cd-e0f2-46a7-b20b-27a4d39decbd",
   "metadata": {
    "id": "6a0d10cd-e0f2-46a7-b20b-27a4d39decbd",
    "outputId": "7398576a-ef3b-42e6-abec-54cf63b1b6f5"
   },
   "outputs": [
    {
     "data": {
      "text/plain": [
       "{'2016': 1, '2017': 2, '2017년': 2, 2018: 2, 2019: 2}"
      ]
     },
     "execution_count": 65,
     "metadata": {},
     "output_type": "execute_result"
    }
   ],
   "source": [
    "L(df.year).frequency()"
   ]
  },
  {
   "cell_type": "markdown",
   "id": "7e183ff6-7818-444e-823a-c1cc414b3b59",
   "metadata": {
    "id": "7e183ff6-7818-444e-823a-c1cc414b3b59"
   },
   "source": [
    "- '2016'와 같은 형태, '2017년'와 같은 형태, 숫자형이 혼합 -> 맞춤형 변환이 필요함"
   ]
  },
  {
   "cell_type": "code",
   "execution_count": 66,
   "id": "37f10682-cbf5-488b-9a50-d71af183ea89",
   "metadata": {
    "id": "37f10682-cbf5-488b-9a50-d71af183ea89",
    "outputId": "dc21f3fc-a0ca-4e52-ca8e-ff64facf0dff"
   },
   "outputs": [
    {
     "data": {
      "text/plain": [
       "'2017'"
      ]
     },
     "execution_count": 66,
     "metadata": {},
     "output_type": "execute_result"
    }
   ],
   "source": [
    "'2017년'.replace(\"년\",\"\")"
   ]
  },
  {
   "cell_type": "code",
   "execution_count": 67,
   "id": "f583eaec-eb3e-403f-9a70-2d8063d533d1",
   "metadata": {
    "id": "f583eaec-eb3e-403f-9a70-2d8063d533d1",
    "outputId": "b319ae4e-d730-4087-d4cd-71d376372a23"
   },
   "outputs": [
    {
     "data": {
      "text/plain": [
       "['2016', '2017', '2017', '2017년', '2017년', 2018, 2018, 2019, 2019]"
      ]
     },
     "execution_count": 67,
     "metadata": {},
     "output_type": "execute_result"
    }
   ],
   "source": [
    "L(df.year)"
   ]
  },
  {
   "cell_type": "code",
   "execution_count": 70,
   "id": "7153275b-5c27-4863-9104-e2bb89c0e49e",
   "metadata": {
    "id": "7153275b-5c27-4863-9104-e2bb89c0e49e"
   },
   "outputs": [],
   "source": [
    "def f(a): ## 사실 데이터의 구조를 모르면 이런 함수를 짤 수 없음 --> 자료의 구조를 확인해준다는 의미에서 freq가 있다면 편리하다. \n",
    "    if type(a) is str: \n",
    "        if \"년\" in a:\n",
    "            return int(a.replace(\"년\",\"\"))\n",
    "        else: \n",
    "            return int(a) \n",
    "    else: \n",
    "        return a "
   ]
  },
  {
   "cell_type": "code",
   "execution_count": 71,
   "id": "0199d944-300b-47bf-b47d-f48b2d4280f9",
   "metadata": {
    "id": "0199d944-300b-47bf-b47d-f48b2d4280f9",
    "outputId": "379e6668-0154-4302-fceb-ed4152b328bb"
   },
   "outputs": [
    {
     "data": {
      "text/plain": [
       "[2016, 2017, 2017, 2017, 2017, 2018, 2018, 2019, 2019]"
      ]
     },
     "execution_count": 71,
     "metadata": {},
     "output_type": "execute_result"
    }
   ],
   "source": [
    "[f(a) for a in df.year]"
   ]
  },
  {
   "cell_type": "code",
   "execution_count": 72,
   "id": "b31f561e-922f-4878-8392-b3c494f44b3e",
   "metadata": {
    "id": "b31f561e-922f-4878-8392-b3c494f44b3e"
   },
   "outputs": [],
   "source": [
    "df.year= [f(a) for a in df.year]"
   ]
  },
  {
   "cell_type": "code",
   "execution_count": 73,
   "id": "e8f6cd2e-4460-4543-8a98-974728ec52cd",
   "metadata": {
    "id": "e8f6cd2e-4460-4543-8a98-974728ec52cd",
    "outputId": "fb5401b7-3ef2-4bf5-c304-46b289c0c2b3"
   },
   "outputs": [
    {
     "data": {
      "text/html": [
       "<div>\n",
       "<style scoped>\n",
       "    .dataframe tbody tr th:only-of-type {\n",
       "        vertical-align: middle;\n",
       "    }\n",
       "\n",
       "    .dataframe tbody tr th {\n",
       "        vertical-align: top;\n",
       "    }\n",
       "\n",
       "    .dataframe thead th {\n",
       "        text-align: right;\n",
       "    }\n",
       "</style>\n",
       "<table border=\"1\" class=\"dataframe\">\n",
       "  <thead>\n",
       "    <tr style=\"text-align: right;\">\n",
       "      <th></th>\n",
       "      <th>year</th>\n",
       "      <th>value</th>\n",
       "    </tr>\n",
       "  </thead>\n",
       "  <tbody>\n",
       "    <tr>\n",
       "      <th>0</th>\n",
       "      <td>2016</td>\n",
       "      <td>-0.678625</td>\n",
       "    </tr>\n",
       "    <tr>\n",
       "      <th>1</th>\n",
       "      <td>2017</td>\n",
       "      <td>-0.878156</td>\n",
       "    </tr>\n",
       "    <tr>\n",
       "      <th>2</th>\n",
       "      <td>2017</td>\n",
       "      <td>0.432160</td>\n",
       "    </tr>\n",
       "    <tr>\n",
       "      <th>3</th>\n",
       "      <td>2017</td>\n",
       "      <td>0.519398</td>\n",
       "    </tr>\n",
       "    <tr>\n",
       "      <th>4</th>\n",
       "      <td>2017</td>\n",
       "      <td>0.640570</td>\n",
       "    </tr>\n",
       "    <tr>\n",
       "      <th>5</th>\n",
       "      <td>2018</td>\n",
       "      <td>-0.904019</td>\n",
       "    </tr>\n",
       "    <tr>\n",
       "      <th>6</th>\n",
       "      <td>2018</td>\n",
       "      <td>1.148045</td>\n",
       "    </tr>\n",
       "    <tr>\n",
       "      <th>7</th>\n",
       "      <td>2019</td>\n",
       "      <td>-0.594485</td>\n",
       "    </tr>\n",
       "    <tr>\n",
       "      <th>8</th>\n",
       "      <td>2019</td>\n",
       "      <td>-1.015366</td>\n",
       "    </tr>\n",
       "  </tbody>\n",
       "</table>\n",
       "</div>"
      ],
      "text/plain": [
       "   year     value\n",
       "0  2016 -0.678625\n",
       "1  2017 -0.878156\n",
       "2  2017  0.432160\n",
       "3  2017  0.519398\n",
       "4  2017  0.640570\n",
       "5  2018 -0.904019\n",
       "6  2018  1.148045\n",
       "7  2019 -0.594485\n",
       "8  2019 -1.015366"
      ]
     },
     "execution_count": 73,
     "metadata": {},
     "output_type": "execute_result"
    }
   ],
   "source": [
    "df"
   ]
  },
  {
   "cell_type": "code",
   "execution_count": 74,
   "id": "c8ac2416-c3cc-41b0-baff-bfd150115a43",
   "metadata": {
    "id": "c8ac2416-c3cc-41b0-baff-bfd150115a43",
    "outputId": "4a1f0245-99bd-49ed-c48a-7f99c45fca25"
   },
   "outputs": [
    {
     "data": {
      "text/plain": [
       "[<matplotlib.lines.Line2D at 0x7feaca3c73d0>]"
      ]
     },
     "execution_count": 74,
     "metadata": {},
     "output_type": "execute_result"
    },
    {
     "data": {
      "image/png": "[encoded data removed]",
      "text/plain": [
       "<Figure size 432x288 with 1 Axes>"
      ]
     },
     "metadata": {
      "needs_background": "light"
     },
     "output_type": "display_data"
    }
   ],
   "source": [
    "plt.plot(df.year, df.value, '.')"
   ]
  }
 ],
 "metadata": {
  "colab": {
   "name": "2022-05-25-(13주차) 5월30일.ipynb",
   "provenance": []
  },
  "kernelspec": {
   "display_name": "Python 3 (ipykernel)",
   "language": "python",
   "name": "python3"
  },
  "language_info": {
   "codemirror_mode": {
    "name": "ipython",
    "version": 3
   },
   "file_extension": ".py",
   "mimetype": "text/x-python",
   "name": "python",
   "nbconvert_exporter": "python",
   "pygments_lexer": "ipython3",
   "version": "3.8.12"
  }
 },
 "nbformat": 4,
 "nbformat_minor": 5
}
