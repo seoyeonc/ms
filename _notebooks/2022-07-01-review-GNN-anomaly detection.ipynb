{
 "cells": [
  {
   "cell_type": "markdown",
   "id": "5cb274e3-624b-4428-9b16-33ec919f8e3b",
   "metadata": {
    "id": "cac470df-29e7-4148-9bbd-d8b9a32fa570",
    "tags": []
   },
   "source": [
    "# (review) Graph Neural Network-Based Anomaly Detection in Multivariate Time Series\n",
    "> 논문\n",
    "\n",
    "- toc:true\n",
    "- branch: master\n",
    "- badges: true\n",
    "- comments: false\n",
    "- author: 최서연\n",
    "- categories: [GNN]"
   ]
  },
  {
   "cell_type": "markdown",
   "id": "aa6b055e-1a7d-4c4c-85a6-a818bbe2efc4",
   "metadata": {},
   "source": [
    "- 생각해본 자료\n",
    "    - https://www.airkorea.or.kr/web/pmRelay?itemCode=11008&pMENU_NO=109\n",
    "    - 미세먼지(일평균)\n",
    "    \n",
    "    \n",
    "git 사용"
   ]
  },
  {
   "cell_type": "markdown",
   "id": "bd662654-a78e-46bd-a011-44d1c4cdfb13",
   "metadata": {},
   "source": [
    "github code : https://github.com/d-ailin/GDN"
   ]
  },
  {
   "cell_type": "markdown",
   "id": "7242bd44-de1c-4448-ac12-2c4ce6399f05",
   "metadata": {},
   "source": [
    "https://arxiv.org/pdf/2106.06947.pdf"
   ]
  },
  {
   "cell_type": "code",
   "execution_count": 150,
   "id": "cd725751-9a7c-416a-9540-8d4f5493a338",
   "metadata": {},
   "outputs": [],
   "source": [
    "import pandas as pd\n",
    "import matplotlib.pyplot as plt"
   ]
  },
  {
   "cell_type": "markdown",
   "id": "59bb3247-9a39-4d2c-8cfc-e85dd410ddf4",
   "metadata": {},
   "source": [
    "## 3 Proposed Framework"
   ]
  },
  {
   "cell_type": "markdown",
   "id": "8cdbece6-6ddb-477e-b7a2-38b782a1aa93",
   "metadata": {
    "tags": []
   },
   "source": [
    "### 3.1 Problem Statement"
   ]
  },
  {
   "cell_type": "markdown",
   "id": "e5b40619-5146-413c-a6b4-9d1b58fe5aab",
   "metadata": {},
   "source": [
    "- $N$ 개 sensors\n",
    "- $T_{min}$ 개 time stick\n",
    "- $S_{train} = [ s^{(1)}_{train} \\dots s^{(T_{min}}_{train} ]$"
   ]
  },
  {
   "cell_type": "code",
   "execution_count": 52,
   "id": "0a13d0f3-8239-4819-8535-94cb36198937",
   "metadata": {},
   "outputs": [
    {
     "data": {
      "text/html": [
       "<div>\n",
       "<style scoped>\n",
       "    .dataframe tbody tr th:only-of-type {\n",
       "        vertical-align: middle;\n",
       "    }\n",
       "\n",
       "    .dataframe tbody tr th {\n",
       "        vertical-align: top;\n",
       "    }\n",
       "\n",
       "    .dataframe thead th {\n",
       "        text-align: right;\n",
       "    }\n",
       "</style>\n",
       "<table border=\"1\" class=\"dataframe\">\n",
       "  <thead>\n",
       "    <tr style=\"text-align: right;\">\n",
       "      <th></th>\n",
       "      <th>0</th>\n",
       "      <th>1</th>\n",
       "      <th>2</th>\n",
       "      <th>3</th>\n",
       "      <th>4</th>\n",
       "      <th>5</th>\n",
       "      <th>6</th>\n",
       "      <th>7</th>\n",
       "      <th>8</th>\n",
       "      <th>9</th>\n",
       "      <th>...</th>\n",
       "      <th>355</th>\n",
       "      <th>356</th>\n",
       "      <th>357</th>\n",
       "      <th>358</th>\n",
       "      <th>359</th>\n",
       "      <th>360</th>\n",
       "      <th>361</th>\n",
       "      <th>362</th>\n",
       "      <th>363</th>\n",
       "      <th>364</th>\n",
       "    </tr>\n",
       "  </thead>\n",
       "  <tbody>\n",
       "    <tr>\n",
       "      <th>0</th>\n",
       "      <td>서울1</td>\n",
       "      <td>서울2</td>\n",
       "      <td>서울3</td>\n",
       "      <td>서울4</td>\n",
       "      <td>서울5</td>\n",
       "      <td>서울6</td>\n",
       "      <td>서울7</td>\n",
       "      <td>서울8</td>\n",
       "      <td>서울9</td>\n",
       "      <td>서울10</td>\n",
       "      <td>...</td>\n",
       "      <td>서울356</td>\n",
       "      <td>서울357</td>\n",
       "      <td>서울358</td>\n",
       "      <td>서울359</td>\n",
       "      <td>서울360</td>\n",
       "      <td>서울361</td>\n",
       "      <td>서울362</td>\n",
       "      <td>서울363</td>\n",
       "      <td>서울364</td>\n",
       "      <td>서울365</td>\n",
       "    </tr>\n",
       "    <tr>\n",
       "      <th>0</th>\n",
       "      <td>경기1</td>\n",
       "      <td>경기2</td>\n",
       "      <td>경기3</td>\n",
       "      <td>경기4</td>\n",
       "      <td>경기5</td>\n",
       "      <td>경기6</td>\n",
       "      <td>경기7</td>\n",
       "      <td>경기8</td>\n",
       "      <td>경기9</td>\n",
       "      <td>경기10</td>\n",
       "      <td>...</td>\n",
       "      <td>경기356</td>\n",
       "      <td>경기357</td>\n",
       "      <td>경기358</td>\n",
       "      <td>경기359</td>\n",
       "      <td>경기360</td>\n",
       "      <td>경기361</td>\n",
       "      <td>경기362</td>\n",
       "      <td>경기363</td>\n",
       "      <td>경기364</td>\n",
       "      <td>경기365</td>\n",
       "    </tr>\n",
       "    <tr>\n",
       "      <th>0</th>\n",
       "      <td>부산1</td>\n",
       "      <td>부산2</td>\n",
       "      <td>부산3</td>\n",
       "      <td>부산4</td>\n",
       "      <td>부산5</td>\n",
       "      <td>부산6</td>\n",
       "      <td>부산7</td>\n",
       "      <td>부산8</td>\n",
       "      <td>부산9</td>\n",
       "      <td>부산10</td>\n",
       "      <td>...</td>\n",
       "      <td>부산356</td>\n",
       "      <td>부산357</td>\n",
       "      <td>부산358</td>\n",
       "      <td>부산359</td>\n",
       "      <td>부산360</td>\n",
       "      <td>부산361</td>\n",
       "      <td>부산362</td>\n",
       "      <td>부산363</td>\n",
       "      <td>부산364</td>\n",
       "      <td>부산365</td>\n",
       "    </tr>\n",
       "  </tbody>\n",
       "</table>\n",
       "<p>3 rows × 365 columns</p>\n",
       "</div>"
      ],
      "text/plain": [
       "   0    1    2    3    4    5    6    7    8     9    ...    355    356  \\\n",
       "0  서울1  서울2  서울3  서울4  서울5  서울6  서울7  서울8  서울9  서울10  ...  서울356  서울357   \n",
       "0  경기1  경기2  경기3  경기4  경기5  경기6  경기7  경기8  경기9  경기10  ...  경기356  경기357   \n",
       "0  부산1  부산2  부산3  부산4  부산5  부산6  부산7  부산8  부산9  부산10  ...  부산356  부산357   \n",
       "\n",
       "     357    358    359    360    361    362    363    364  \n",
       "0  서울358  서울359  서울360  서울361  서울362  서울363  서울364  서울365  \n",
       "0  경기358  경기359  경기360  경기361  경기362  경기363  경기364  경기365  \n",
       "0  부산358  부산359  부산360  부산361  부산362  부산363  부산364  부산365  \n",
       "\n",
       "[3 rows x 365 columns]"
      ]
     },
     "execution_count": 52,
     "metadata": {},
     "output_type": "execute_result"
    }
   ],
   "source": [
    "Strain = pd.concat([pd.DataFrame([f\"서울{idx}\" for idx in range(1,366)]).T,\n",
    "           pd.DataFrame([f\"경기{idx}\" for idx in range(1,366)]).T,\n",
    "          pd.DataFrame([f\"부산{idx}\" for idx in range(1,366)]).T],axis=0)\n",
    "Strain"
   ]
  },
  {
   "cell_type": "code",
   "execution_count": 55,
   "id": "b39aa793-fbd8-49e7-86e7-bde08ce9a15f",
   "metadata": {},
   "outputs": [
    {
     "data": {
      "text/plain": [
       "0    서울1\n",
       "0    경기1\n",
       "0    부산1\n",
       "Name: 0, dtype: object"
      ]
     },
     "execution_count": 55,
     "metadata": {},
     "output_type": "execute_result"
    }
   ],
   "source": [
    "Strain_1 = Strain.iloc[:,0]\n",
    "Strain_1"
   ]
  },
  {
   "cell_type": "code",
   "execution_count": 56,
   "id": "7db18001-ed05-408f-9a62-1c3f12c0c395",
   "metadata": {},
   "outputs": [
    {
     "data": {
      "text/plain": [
       "0    서울365\n",
       "0    경기365\n",
       "0    부산365\n",
       "Name: 364, dtype: object"
      ]
     },
     "execution_count": 56,
     "metadata": {},
     "output_type": "execute_result"
    }
   ],
   "source": [
    "Strain_365 = Strain.iloc[:,364]\n",
    "Strain_365"
   ]
  },
  {
   "cell_type": "markdown",
   "id": "db492e0a-0bd0-4520-804e-0a3a3d637319",
   "metadata": {},
   "source": [
    "$S_{train}^{(t)} \\in \\mathbb{R}^{N}$"
   ]
  },
  {
   "cell_type": "code",
   "execution_count": 58,
   "id": "c70484cc-d8f6-4846-9966-3ba81f832e88",
   "metadata": {},
   "outputs": [
    {
     "data": {
      "text/html": [
       "<div>\n",
       "<style scoped>\n",
       "    .dataframe tbody tr th:only-of-type {\n",
       "        vertical-align: middle;\n",
       "    }\n",
       "\n",
       "    .dataframe tbody tr th {\n",
       "        vertical-align: top;\n",
       "    }\n",
       "\n",
       "    .dataframe thead th {\n",
       "        text-align: right;\n",
       "    }\n",
       "</style>\n",
       "<table border=\"1\" class=\"dataframe\">\n",
       "  <thead>\n",
       "    <tr style=\"text-align: right;\">\n",
       "      <th></th>\n",
       "      <th>0</th>\n",
       "      <th>1</th>\n",
       "      <th>2</th>\n",
       "      <th>3</th>\n",
       "      <th>4</th>\n",
       "      <th>5</th>\n",
       "      <th>6</th>\n",
       "      <th>7</th>\n",
       "      <th>8</th>\n",
       "      <th>9</th>\n",
       "      <th>...</th>\n",
       "      <th>355</th>\n",
       "      <th>356</th>\n",
       "      <th>357</th>\n",
       "      <th>358</th>\n",
       "      <th>359</th>\n",
       "      <th>360</th>\n",
       "      <th>361</th>\n",
       "      <th>362</th>\n",
       "      <th>363</th>\n",
       "      <th>364</th>\n",
       "    </tr>\n",
       "  </thead>\n",
       "  <tbody>\n",
       "    <tr>\n",
       "      <th>0</th>\n",
       "      <td>서울366</td>\n",
       "      <td>서울367</td>\n",
       "      <td>서울368</td>\n",
       "      <td>서울369</td>\n",
       "      <td>서울370</td>\n",
       "      <td>서울371</td>\n",
       "      <td>서울372</td>\n",
       "      <td>서울373</td>\n",
       "      <td>서울374</td>\n",
       "      <td>서울375</td>\n",
       "      <td>...</td>\n",
       "      <td>서울721</td>\n",
       "      <td>서울722</td>\n",
       "      <td>서울723</td>\n",
       "      <td>서울724</td>\n",
       "      <td>서울725</td>\n",
       "      <td>서울726</td>\n",
       "      <td>서울727</td>\n",
       "      <td>서울728</td>\n",
       "      <td>서울729</td>\n",
       "      <td>서울730</td>\n",
       "    </tr>\n",
       "    <tr>\n",
       "      <th>0</th>\n",
       "      <td>경기366</td>\n",
       "      <td>경기367</td>\n",
       "      <td>경기368</td>\n",
       "      <td>경기369</td>\n",
       "      <td>경기370</td>\n",
       "      <td>경기371</td>\n",
       "      <td>경기372</td>\n",
       "      <td>경기373</td>\n",
       "      <td>경기374</td>\n",
       "      <td>경기375</td>\n",
       "      <td>...</td>\n",
       "      <td>경기721</td>\n",
       "      <td>경기722</td>\n",
       "      <td>경기723</td>\n",
       "      <td>경기724</td>\n",
       "      <td>경기725</td>\n",
       "      <td>경기726</td>\n",
       "      <td>경기727</td>\n",
       "      <td>경기728</td>\n",
       "      <td>경기729</td>\n",
       "      <td>경기730</td>\n",
       "    </tr>\n",
       "    <tr>\n",
       "      <th>0</th>\n",
       "      <td>부산366</td>\n",
       "      <td>부산367</td>\n",
       "      <td>부산368</td>\n",
       "      <td>부산369</td>\n",
       "      <td>부산370</td>\n",
       "      <td>부산371</td>\n",
       "      <td>부산372</td>\n",
       "      <td>부산373</td>\n",
       "      <td>부산374</td>\n",
       "      <td>부산375</td>\n",
       "      <td>...</td>\n",
       "      <td>부산721</td>\n",
       "      <td>부산722</td>\n",
       "      <td>부산723</td>\n",
       "      <td>부산724</td>\n",
       "      <td>부산725</td>\n",
       "      <td>부산726</td>\n",
       "      <td>부산727</td>\n",
       "      <td>부산728</td>\n",
       "      <td>부산729</td>\n",
       "      <td>부산730</td>\n",
       "    </tr>\n",
       "  </tbody>\n",
       "</table>\n",
       "<p>3 rows × 365 columns</p>\n",
       "</div>"
      ],
      "text/plain": [
       "     0      1      2      3      4      5      6      7      8      9    ...  \\\n",
       "0  서울366  서울367  서울368  서울369  서울370  서울371  서울372  서울373  서울374  서울375  ...   \n",
       "0  경기366  경기367  경기368  경기369  경기370  경기371  경기372  경기373  경기374  경기375  ...   \n",
       "0  부산366  부산367  부산368  부산369  부산370  부산371  부산372  부산373  부산374  부산375  ...   \n",
       "\n",
       "     355    356    357    358    359    360    361    362    363    364  \n",
       "0  서울721  서울722  서울723  서울724  서울725  서울726  서울727  서울728  서울729  서울730  \n",
       "0  경기721  경기722  경기723  경기724  경기725  경기726  경기727  경기728  경기729  경기730  \n",
       "0  부산721  부산722  부산723  부산724  부산725  부산726  부산727  부산728  부산729  부산730  \n",
       "\n",
       "[3 rows x 365 columns]"
      ]
     },
     "execution_count": 58,
     "metadata": {},
     "output_type": "execute_result"
    }
   ],
   "source": [
    "Stest = pd.concat([pd.DataFrame([f\"서울{idx}\" for idx in range(366,731)]).T,\n",
    "           pd.DataFrame([f\"경기{idx}\" for idx in range(366,731)]).T,\n",
    "          pd.DataFrame([f\"부산{idx}\" for idx in range(366,731)]).T],axis=0)\n",
    "Stest"
   ]
  },
  {
   "cell_type": "code",
   "execution_count": 59,
   "id": "b850afe8-46d9-4217-8178-28bc1c1310a4",
   "metadata": {},
   "outputs": [
    {
     "data": {
      "text/plain": [
       "0    서울366\n",
       "0    경기366\n",
       "0    부산366\n",
       "Name: 0, dtype: object"
      ]
     },
     "execution_count": 59,
     "metadata": {},
     "output_type": "execute_result"
    }
   ],
   "source": [
    "Steat_1 = Stest.iloc[:,0]\n",
    "Steat_1"
   ]
  },
  {
   "cell_type": "code",
   "execution_count": 62,
   "id": "b4964801-e9a4-43b6-9de9-55d2753bd600",
   "metadata": {},
   "outputs": [
    {
     "data": {
      "text/plain": [
       "0    서울730\n",
       "0    경기730\n",
       "0    부산730\n",
       "Name: 364, dtype: object"
      ]
     },
     "execution_count": 62,
     "metadata": {},
     "output_type": "execute_result"
    }
   ],
   "source": [
    "Stest_365 = Stest.iloc[:,364]\n",
    "Stest_365"
   ]
  },
  {
   "cell_type": "markdown",
   "id": "717ad14a-07d0-4628-b515-18391650f7b5",
   "metadata": {},
   "source": [
    "$a(t) \\in \\{ 0,1 \\}$"
   ]
  },
  {
   "cell_type": "markdown",
   "id": "87fbb6b6-a0f9-40a0-b03b-775b672ee53a",
   "metadata": {},
   "source": [
    "$a(t) = 1$  indicates that time t is anomalous."
   ]
  },
  {
   "cell_type": "code",
   "execution_count": 68,
   "id": "f34120ce-d2bc-4e60-9f3c-c808058adfef",
   "metadata": {},
   "outputs": [
    {
     "data": {
      "text/plain": [
       "[<matplotlib.lines.Line2D at 0x7f34be1de5e0>]"
      ]
     },
     "execution_count": 68,
     "metadata": {},
     "output_type": "execute_result"
    },
    {
     "data": {
      "image/png": "[encoded data removed]",
      "text/plain": [
       "<Figure size 432x288 with 1 Axes>"
      ]
     },
     "metadata": {
      "needs_background": "light"
     },
     "output_type": "display_data"
    }
   ],
   "source": [
    "plt.plot([1,2,3,4,5,6,7,8,9,10,11],[2,2,2,2,2,4,2,2,2,2,2])"
   ]
  },
  {
   "cell_type": "markdown",
   "id": "4da0b8da-969c-4b3c-b99f-51d412a661b7",
   "metadata": {},
   "source": [
    "여기서 $a(6) = 1$, 나머지는 0"
   ]
  },
  {
   "cell_type": "markdown",
   "id": "85d50af3-8129-4b2e-ad8f-4b1d1f617abe",
   "metadata": {},
   "source": [
    "### 3.3 Sensor Embedding"
   ]
  },
  {
   "cell_type": "markdown",
   "id": "b6cfaf50-3850-4b5a-82e8-628514dfaa9f",
   "metadata": {},
   "source": [
    "we do this by introducing an embedding vector for each sensor, representing its characteristics:"
   ]
  },
  {
   "cell_type": "markdown",
   "id": "2f277851-0300-4fec-98a1-4dbdfff36757",
   "metadata": {},
   "source": [
    "$v_i \\in \\mathbb{R}^{d} , \\text{for  } i \\in \\{ 1,2, \\dots , N \\}$"
   ]
  },
  {
   "cell_type": "code",
   "execution_count": 77,
   "id": "cf152367-8269-4f2a-abe1-28cc0a9a97d7",
   "metadata": {},
   "outputs": [
    {
     "data": {
      "text/plain": [
       "['V_서울', 'V_부산', 'V_경기']"
      ]
     },
     "execution_count": 77,
     "metadata": {},
     "output_type": "execute_result"
    }
   ],
   "source": [
    "['V_서울','V_부산', 'V_경기']"
   ]
  },
  {
   "cell_type": "code",
   "execution_count": 80,
   "id": "c05e99d6-e33c-4f16-af86-953193ae460b",
   "metadata": {},
   "outputs": [
    {
     "data": {
      "text/html": [
       "<div>\n",
       "<style scoped>\n",
       "    .dataframe tbody tr th:only-of-type {\n",
       "        vertical-align: middle;\n",
       "    }\n",
       "\n",
       "    .dataframe tbody tr th {\n",
       "        vertical-align: top;\n",
       "    }\n",
       "\n",
       "    .dataframe thead th {\n",
       "        text-align: right;\n",
       "    }\n",
       "</style>\n",
       "<table border=\"1\" class=\"dataframe\">\n",
       "  <thead>\n",
       "    <tr style=\"text-align: right;\">\n",
       "      <th></th>\n",
       "      <th>0</th>\n",
       "      <th>1</th>\n",
       "      <th>2</th>\n",
       "      <th>3</th>\n",
       "      <th>4</th>\n",
       "      <th>5</th>\n",
       "      <th>6</th>\n",
       "      <th>7</th>\n",
       "      <th>8</th>\n",
       "    </tr>\n",
       "  </thead>\n",
       "  <tbody>\n",
       "    <tr>\n",
       "      <th>0</th>\n",
       "      <td>서울1</td>\n",
       "      <td>서울2</td>\n",
       "      <td>서울3</td>\n",
       "      <td>서울4</td>\n",
       "      <td>서울5</td>\n",
       "      <td>서울6</td>\n",
       "      <td>서울7</td>\n",
       "      <td>서울8</td>\n",
       "      <td>서울9</td>\n",
       "    </tr>\n",
       "  </tbody>\n",
       "</table>\n",
       "</div>"
      ],
      "text/plain": [
       "     0    1    2    3    4    5    6    7    8\n",
       "0  서울1  서울2  서울3  서울4  서울5  서울6  서울7  서울8  서울9"
      ]
     },
     "execution_count": 80,
     "metadata": {},
     "output_type": "execute_result"
    }
   ],
   "source": [
    "v_서울 = pd.DataFrame([f\"서울{idx}\" for idx in range(1,10)]).T\n",
    "v_서울"
   ]
  },
  {
   "cell_type": "markdown",
   "id": "a50de1d1-52c2-4638-90a6-4b313d3435c5",
   "metadata": {},
   "source": [
    "$v_i$의 $d$ 는 임의로 정하는 것이며, 이는 $S_{traIn}$의 행을 의미한다.\n",
    "- v_서울은 1행에서 10개를 뽑은 것"
   ]
  },
  {
   "cell_type": "markdown",
   "id": "54c146fe-4050-49c0-9e07-0ad8558bc80a",
   "metadata": {},
   "source": [
    "### 3.4 Graph Structure Learning"
   ]
  },
  {
   "cell_type": "markdown",
   "id": "e63a7381-bc47-4f11-98d7-b8826047c968",
   "metadata": {},
   "source": [
    "This prior information can be flexibly represented as a set of candidate relations $\\mathcal{C}_i$ for each sensor $i$, i.e. the sensors it could be dependent on:"
   ]
  },
  {
   "cell_type": "markdown",
   "id": "f04441ca-7412-4d8c-bf91-f631738a9517",
   "metadata": {},
   "source": [
    "$\\mathcal{C}_i \\subseteq \\{ 1,2, \\dots , N \\} \\ \\{ i \\}$"
   ]
  },
  {
   "cell_type": "code",
   "execution_count": 81,
   "id": "8e485bbd-c41e-4e65-b843-20b6dfb5e50c",
   "metadata": {},
   "outputs": [
    {
     "data": {
      "text/plain": [
       "['경기', '인천']"
      ]
     },
     "execution_count": 81,
     "metadata": {},
     "output_type": "execute_result"
    }
   ],
   "source": [
    "C_서울 = ['경기','인천']\n",
    "C_서울"
   ]
  },
  {
   "cell_type": "markdown",
   "id": "99136c08-f4d2-43eb-bc26-4afc6b249a49",
   "metadata": {},
   "source": [
    "위와 같이 인접 구역을 의미하며, 인접 거리에 대한 정의는 임의로"
   ]
  },
  {
   "cell_type": "markdown",
   "id": "60b0cd28-a46b-45c4-be30-20ab1c740101",
   "metadata": {},
   "source": [
    "$e_{ji} = \\cfrac{v_i^{\\top} v_j}{||v_i||\\cdot||v_j||} \\text{for  } j \\in \\mathcal{C}_i$"
   ]
  },
  {
   "cell_type": "markdown",
   "id": "ad49e3a4-8eed-4dc6-a474-ac5225fde79e",
   "metadata": {},
   "source": [
    "위는 distance 개념"
   ]
  },
  {
   "cell_type": "markdown",
   "id": "57e8cc5a-0a72-4b9a-a37f-9a8dc6ba1b5a",
   "metadata": {},
   "source": [
    "$A_{ji} = \\mathbb{1} \\{ j \\in \\text{TopK } (\\{e_{ki} : k \\in \\mathcal(C)_i \\} ) \\}$"
   ]
  },
  {
   "cell_type": "markdown",
   "id": "ba6efec9-3121-4ef2-b1c9-7bb09ea64b21",
   "metadata": {},
   "source": [
    "연결 되면 1이 되고, 연결되어 있지 않으면 0이 된다.\n",
    "\n",
    "cosine 유사도가 높은 몇 개들이 선택될 걸"
   ]
  },
  {
   "cell_type": "markdown",
   "id": "eb456b1b-e5fc-45c0-84af-16872db5b8b2",
   "metadata": {},
   "source": [
    "$e_{ji}$와 $A_{ji}$는 모두 $\\mathcal{C}_i$의 연장선이다."
   ]
  },
  {
   "cell_type": "markdown",
   "id": "e7efbf83-db7a-4b27-a140-0437ff3fc2b9",
   "metadata": {},
   "source": [
    "$\\mathcal{C}_i$에서 아무리 길게 정해도 $A_{ji}$에서 정한 top을 넘으면 잘림!"
   ]
  },
  {
   "cell_type": "markdown",
   "id": "d2d5cc35-64a1-4ce6-bf69-29a7c22fa2a4",
   "metadata": {},
   "source": [
    "TopK denotes the indices of top-k val\u0002ues among its input (i.e. the normalized dot products)."
   ]
  },
  {
   "cell_type": "markdown",
   "id": "9493577f-a022-4304-b8b0-c52be2d64a14",
   "metadata": {},
   "source": [
    "###  3.5 Graph Attention-Based Forecasting"
   ]
  },
  {
   "cell_type": "markdown",
   "id": "c2571c54-b42b-449c-9663-1e26a56cd461",
   "metadata": {},
   "source": [
    "$x^{(t)} \\in \\mathbb{R}^{N \\times w}$"
   ]
  },
  {
   "cell_type": "markdown",
   "id": "20c992fc-4ff2-409f-b3e7-4a9215e3ad24",
   "metadata": {},
   "source": [
    "$x^{(t)} := [s^{(t-w)},s^{(t-w+1)},\\dots, s^{(t-1)}]$"
   ]
  },
  {
   "cell_type": "code",
   "execution_count": 92,
   "id": "922a084e-8b73-4f7e-89e6-9511ee6c9599",
   "metadata": {},
   "outputs": [
    {
     "data": {
      "text/html": [
       "<div>\n",
       "<style scoped>\n",
       "    .dataframe tbody tr th:only-of-type {\n",
       "        vertical-align: middle;\n",
       "    }\n",
       "\n",
       "    .dataframe tbody tr th {\n",
       "        vertical-align: top;\n",
       "    }\n",
       "\n",
       "    .dataframe thead th {\n",
       "        text-align: right;\n",
       "    }\n",
       "</style>\n",
       "<table border=\"1\" class=\"dataframe\">\n",
       "  <thead>\n",
       "    <tr style=\"text-align: right;\">\n",
       "      <th></th>\n",
       "      <th>0</th>\n",
       "      <th>1</th>\n",
       "      <th>2</th>\n",
       "      <th>3</th>\n",
       "      <th>4</th>\n",
       "    </tr>\n",
       "  </thead>\n",
       "  <tbody>\n",
       "    <tr>\n",
       "      <th>0</th>\n",
       "      <td>서울1</td>\n",
       "      <td>서울2</td>\n",
       "      <td>서울t-w</td>\n",
       "      <td>서울t-2</td>\n",
       "      <td>서울t-1</td>\n",
       "    </tr>\n",
       "    <tr>\n",
       "      <th>1</th>\n",
       "      <td>경기1</td>\n",
       "      <td>경기2</td>\n",
       "      <td>경기t-w</td>\n",
       "      <td>경기t-2</td>\n",
       "      <td>경기t-1</td>\n",
       "    </tr>\n",
       "    <tr>\n",
       "      <th>2</th>\n",
       "      <td>인천1</td>\n",
       "      <td>인천2</td>\n",
       "      <td>인천t-w</td>\n",
       "      <td>인천t-2</td>\n",
       "      <td>인천t-1</td>\n",
       "    </tr>\n",
       "  </tbody>\n",
       "</table>\n",
       "</div>"
      ],
      "text/plain": [
       "     0    1      2      3      4\n",
       "0  서울1  서울2  서울t-w  서울t-2  서울t-1\n",
       "1  경기1  경기2  경기t-w  경기t-2  경기t-1\n",
       "2  인천1  인천2  인천t-w  인천t-2  인천t-1"
      ]
     },
     "execution_count": 92,
     "metadata": {},
     "output_type": "execute_result"
    }
   ],
   "source": [
    "x_t = pd.DataFrame([['서울1','서울2','서울t-w','서울t-2','서울t-1'],['경기1','경기2','경기t-w','경기t-2','경기t-1'],['인천1','인천2','인천t-w','인천t-2','인천t-1']])\n",
    "x_t"
   ]
  },
  {
   "cell_type": "markdown",
   "id": "14db343e-0b85-4ce3-ba26-846053de1583",
   "metadata": {},
   "source": [
    "이 $x_t$는 $S_{train}$에서 추출된 w 열 만큼의 데이터이다."
   ]
  },
  {
   "cell_type": "markdown",
   "id": "70c069c0-4822-45f8-9696-9d308ca25e63",
   "metadata": {},
   "source": [
    "그리고 w는 moving 수, window(siding window size)를 의미한다."
   ]
  },
  {
   "cell_type": "code",
   "execution_count": 99,
   "id": "934b63c7-1258-4eed-83cf-652b6191a0a4",
   "metadata": {},
   "outputs": [
    {
     "data": {
      "text/plain": [
       "0    서울t-1\n",
       "1    경기t-1\n",
       "2    인천t-1\n",
       "Name: 4, dtype: object"
      ]
     },
     "execution_count": 99,
     "metadata": {},
     "output_type": "execute_result"
    }
   ],
   "source": [
    "s_t_1 = x_t.iloc[:,4] # S(t-1)\n",
    "s_t_1"
   ]
  },
  {
   "cell_type": "code",
   "execution_count": 100,
   "id": "b72ded4a-629e-48f6-947b-8f01473827d7",
   "metadata": {},
   "outputs": [
    {
     "data": {
      "text/plain": [
       "0    서울t-w\n",
       "1    경기t-w\n",
       "2    인천t-w\n",
       "Name: 2, dtype: object"
      ]
     },
     "execution_count": 100,
     "metadata": {},
     "output_type": "execute_result"
    }
   ],
   "source": [
    "s_t_w = x_t.iloc[:,2] # S(t-w)\n",
    "s_t_w"
   ]
  },
  {
   "cell_type": "markdown",
   "id": "fe622ac4-7c08-41e2-ac20-1b6c0c09dde7",
   "metadata": {},
   "source": [
    "여기서 입력 데이터는 $N \\times w$ size의 $S$"
   ]
  },
  {
   "cell_type": "markdown",
   "id": "ce53e0b7-9c22-4634-9ab2-7bea719a1fe4",
   "metadata": {},
   "source": [
    "**Feature Extractor**"
   ]
  },
  {
   "cell_type": "markdown",
   "id": "3aca1e35-9ea1-4368-8fcd-a2800404c9c2",
   "metadata": {},
   "source": [
    "$z_i^{(t)} = \\text{ReLU} \\big( \\alpha_{i,i} \\mathbf{W} x_{i}^{(t)} + \\sum_{j \\in \\mathbb{N}(i)} \\alpha_{i,j} \\mathbf{W} x_{j}^{(t)} \\big)$"
   ]
  },
  {
   "cell_type": "markdown",
   "id": "9a0d7819-744a-4ab0-93b4-167fd4b8cf0a",
   "metadata": {},
   "source": [
    "여기서 $z_{i}^{(t)}$는 $d \\times 1$ 행렬"
   ]
  },
  {
   "cell_type": "markdown",
   "id": "8575400a-a670-40ef-be49-a92415e2060b",
   "metadata": {},
   "source": [
    "$x_{i}^{(t)} \\in \\mathbb{R}^{w}$"
   ]
  },
  {
   "cell_type": "markdown",
   "id": "28f1c1bf-ec85-4d58-bafd-969b9b72ffae",
   "metadata": {},
   "source": [
    "$\\mathcal{N}(i) = \\{ j | A_{ji} > 0 \\}$"
   ]
  },
  {
   "cell_type": "markdown",
   "id": "b5984582-80eb-4ad1-8d7b-ee7dde269fc2",
   "metadata": {},
   "source": [
    "$\\mathcal{N}(i) = \\mathcal{N}(서울) = \\{ 경기, 인천 \\}$"
   ]
  },
  {
   "cell_type": "markdown",
   "id": "7c44c091-0606-4c99-ab2e-b2518bc3d00b",
   "metadata": {},
   "source": [
    "$\\mathbf{W} \\in \\mathbb{R}^{d \\times w}$"
   ]
  },
  {
   "cell_type": "markdown",
   "id": "19769999-c113-4d57-a44e-b7558c15fde4",
   "metadata": {},
   "source": [
    "우리가 학습시킬 $\\mathbf{W}$"
   ]
  },
  {
   "cell_type": "markdown",
   "id": "4c106850-716d-45a0-9e4d-886bccc0e2c4",
   "metadata": {},
   "source": [
    "$g_{i}^{(t)} = v_i \\oplus \\mathbf{W} x_{i}^{(t)}$"
   ]
  },
  {
   "cell_type": "markdown",
   "id": "8bc128be-1f01-4226-a479-be66b1df4e2a",
   "metadata": {},
   "source": [
    "(2d X 1) = (d X 1) (d X 1)"
   ]
  },
  {
   "cell_type": "markdown",
   "id": "ce94305b-f1da-41c2-b9b0-98d6e3c6eb00",
   "metadata": {},
   "source": [
    "$\\pi(i,j) = \\text{LeakyReLU}(a^{\\top}(g_{i}^{(t)} \\oplus g_{j}^{(t)}))$"
   ]
  },
  {
   "cell_type": "markdown",
   "id": "881a2b89-19f5-4013-b7da-91a362a11d14",
   "metadata": {},
   "source": [
    "$\\pi(i,j) = X\\hat{\\beta}$"
   ]
  },
  {
   "cell_type": "markdown",
   "id": "5067f3f4-e979-4e40-b3dc-a909df530137",
   "metadata": {},
   "source": [
    "$\\alpha_{i,j} = \\cfrac{exp(\\pi(i,j))}{\\sum_{k \\in \\mathbb{N} \\cup\\{ i\\}}exp(\\pi (i,k))}$"
   ]
  },
  {
   "cell_type": "markdown",
   "id": "d14157d0-bfd3-4193-bb05-2ddeceb003df",
   "metadata": {},
   "source": [
    "$\\alpha$는 확률 p랑 비슷, feature가 비슷하면 1에 가까울 것, 거리 상관 없이\n",
    "- i가 j에 끼치는 영향이 z의 relu구하는 식에서 사라질테니까"
   ]
  },
  {
   "cell_type": "markdown",
   "id": "038a8d01-ff1a-48a1-84c2-5b81dd0f657c",
   "metadata": {},
   "source": [
    "We use LeakyReLU as the non-linear activation to compute the attention coefficient, and normalize the attention coefficents using the **softmax function** in Eq. (8)(알파 구하는 식을 의미)."
   ]
  },
  {
   "cell_type": "markdown",
   "id": "053f244d-91dd-4d9e-984e-233e0e330d06",
   "metadata": {},
   "source": [
    "**Output Layer**"
   ]
  },
  {
   "cell_type": "markdown",
   "id": "7bed2470-1064-4b6c-952b-db1c8f503d47",
   "metadata": {},
   "source": [
    "From the above feature extractor, we obtain representations for all $N$ nodes, namely $\\{ z^{(t)}_{1},\\dots , z^{(t)}_{N} \\}$. For each $z^{(t)}_{i}$, we *element-wise* multiply (denoted ◦) it with the *corresponding time series embedding* $v_i$, and use the results across all nodes as the input of stacked *fully-connected layers* with output dimensionality N, to predict the vector of sensor values at time step $t$, i.e. $s^{(t)}$:"
   ]
  },
  {
   "cell_type": "markdown",
   "id": "b9427132-2cf2-49ba-be6f-9ec37d954126",
   "metadata": {},
   "source": [
    "$\\hat{s}^{(t)} = f_{\\theta} ([v_1 \\circ z_{1}^{(t)} , \\dots , v_N \\circ z_{N}^{(t)}])$"
   ]
  },
  {
   "cell_type": "markdown",
   "id": "68391078-6310-478e-bcb6-049e75e9ef01",
   "metadata": {},
   "source": [
    "여기서 $v_1$과 $z_{i}^{(t)}$는 모두 $d \\times 1$ 행렬\n",
    "- 특히 $z_{i}^{(t)}$는 근처 정보를 요약한 것"
   ]
  },
  {
   "cell_type": "markdown",
   "id": "6d3aeb4b-6f84-4f01-9311-57a220117a10",
   "metadata": {},
   "source": [
    "The model’s predicted output is denoted as $\\hat{s}^{(t)}$. We use the Mean Squared Error between the predicted output $\\hat{s}^{(t)}$ and the observed data, $s^{(t)}$, as the loss function for minimization"
   ]
  },
  {
   "cell_type": "markdown",
   "id": "9ed01f95-62f9-4fee-9730-3b3421ecd178",
   "metadata": {},
   "source": [
    "$L_{MSE} = \\cfrac{1}{T_{train}-w} \\displaystyle\\sum^{T_{train}}_{t=w+1} ||\\hat{s}^{(t)} - s^{(t)}||^{2}_{2}$"
   ]
  },
  {
   "cell_type": "markdown",
   "id": "49c99a58-87b7-4016-bf85-fcd49301a312",
   "metadata": {},
   "source": [
    "오차 제곱합 구하기"
   ]
  },
  {
   "cell_type": "markdown",
   "id": "19cf196d-175d-40ba-b810-b8d7b0030209",
   "metadata": {},
   "source": [
    "### 3.6 Graph Deviation Scoring"
   ]
  },
  {
   "cell_type": "markdown",
   "id": "0df93a51-fd70-441d-9518-7c27e4ae7953",
   "metadata": {},
   "source": [
    "The anomalousness score compares the expected behavior at time t to the observed behavior, computing an error value $Err$ at time $t$ and sensor $i$:"
   ]
  },
  {
   "cell_type": "markdown",
   "id": "caac8224-ed16-4f70-b0db-c3f25c9f2c1b",
   "metadata": {},
   "source": [
    "$Err_i (t) = |s_{i}^{(t)} - \\hat{s}_{i}^{(t)}|$"
   ]
  },
  {
   "cell_type": "markdown",
   "id": "16cf0ed5-b590-45eb-a24e-3f7469e66c32",
   "metadata": {},
   "source": [
    "To prevent the deviations arising from any one sensor from being overly dominant over the other sensors, we perform **a robust normalization** of the error values of each sensor:"
   ]
  },
  {
   "cell_type": "markdown",
   "id": "c3fff707-df70-450b-9582-75003c29c9bb",
   "metadata": {},
   "source": [
    "$a_i (t) = \\cfrac{Err_i (t) - \\tilde{\\mu}_i}{\\tilde{\\sigma}_i}$"
   ]
  },
  {
   "cell_type": "markdown",
   "id": "b02e3116-9045-407b-b24c-acffc8a6bd5d",
   "metadata": {},
   "source": [
    "표준화"
   ]
  },
  {
   "cell_type": "markdown",
   "id": "09f25a4f-36d2-448e-b581-ec03813be3dc",
   "metadata": {},
   "source": [
    "to compute the overall anomalousness at time tick $t$, we aggregate over sensors using the max function (we use max as it is plausible for anomalies to affect only a small subset of sensors, or even a single sensor) :"
   ]
  },
  {
   "cell_type": "markdown",
   "id": "1cf23bee-afcb-4e01-bf44-11a51882613a",
   "metadata": {},
   "source": [
    "$A(t) = \\max\\limits_i a_i(t)$"
   ]
  },
  {
   "cell_type": "markdown",
   "id": "ce0ab421-e325-46b7-b5d6-bed6591be2d6",
   "metadata": {},
   "source": [
    "ex) 모든 시점의 (a_서울)에서 가장 큰 값"
   ]
  },
  {
   "cell_type": "code",
   "execution_count": 116,
   "id": "24ade40b-8e19-4ae1-a9cc-2822ab5437e2",
   "metadata": {},
   "outputs": [
    {
     "data": {
      "text/plain": [
       "[<matplotlib.lines.Line2D at 0x7f34bda47d30>]"
      ]
     },
     "execution_count": 116,
     "metadata": {},
     "output_type": "execute_result"
    },
    {
     "data": {
      "image/png": "[encoded data removed]",
      "text/plain": [
       "<Figure size 432x288 with 1 Axes>"
      ]
     },
     "metadata": {
      "needs_background": "light"
     },
     "output_type": "display_data"
    }
   ],
   "source": [
    "plt.plot([1,2,3,4,5,6,7,8,9,10,11],[2,2,2,2,2,4,2,2,2,2,2],color='red') \n",
    "plt.plot([1,2,3,4,5,6,7,8,9,10,11],[1.5,1.5,1.5,1.5,1.5,2.5,1.5,1.5,1.5,1.5,1.5],color='orange') \n",
    "plt.plot([1,2,3,4,5,6,7,8,9,10,11],[1,1,1,1,1,2,1,1,1,1,1],color='yellow') \n",
    "plt.plot([1,2,3,4,5,6,7,8,9,10,11],[0.5,0.5,0.5,0.5,0.5,0.5,0.5,0.5,0.5,0.5,0.5],color='green') \n",
    "plt.plot([1,2,3,4,5,6,7,8,9,10,11],[3.5,3.5,3.5,3.5,3.5,3.5,3.5,3.5,3.5,3.5,3.5],color='blue') "
   ]
  },
  {
   "cell_type": "markdown",
   "id": "ff2c5d11-5fad-4078-a54f-15934be34eda",
   "metadata": {},
   "source": [
    "빨주노초파 순으로 t = 1,2,3,4,5 라고 가정하면, 빨간색에서 anomaly값이 가장 크니까, $A(t)$의 값은 $a_{서울}(1)$에서 최대인 4가 된다."
   ]
  },
  {
   "cell_type": "markdown",
   "id": "258856a1-4fba-4cef-9d96-39559a4e0623",
   "metadata": {},
   "source": [
    "Finally, a time tick t is labelled as an anomaly if $A_s(t)$ exceeds a fixed threshold. While different approaches could be employed to set the threshold such as extreme value theory (Siffer et al. 2017), to avoid introducing additional hyperparameters, we use in our experiments a simple approach of setting the threshold as the max of $A_s(t)$ over the validation data."
   ]
  },
  {
   "cell_type": "markdown",
   "id": "73c7a7a0-c1ef-4900-aa1b-06e4527c2066",
   "metadata": {},
   "source": [
    "이 $A$를 threshold로 놓고 넘으면 이상치라 판별"
   ]
  },
  {
   "cell_type": "markdown",
   "id": "11910172-5ac6-47e9-87bd-a4c03d7555da",
   "metadata": {},
   "source": [
    "## 4 Experiments"
   ]
  },
  {
   "cell_type": "markdown",
   "id": "1fc348b1-d769-4ab3-8294-dd889ff20e38",
   "metadata": {},
   "source": [
    "평가지표\n",
    "- RQ1 (Accuracy): Does our method outperform baseline methods in accuracy of anomaly detection in multivariate time series, based on ground truth labelled anomalies?\n",
    "    - Anomaly detection accuracy in terms of precision(%), recall(%), and F1-score\n",
    "- RQ2 (Ablation): How do the various components of the method contribute to its performance?\n",
    "- RQ3 (Interpretability of Model): How can we understand our model based on its embeddings and its learned graph structure?\n",
    "- RQ4 (Localizing Anomalies): Can our method localize anomalies and help users to identify the affected sensors, as well as to understand how the anomaly deviates from the expected behavior?"
   ]
  },
  {
   "cell_type": "markdown",
   "id": "dde79e14-a5da-4b1a-b60b-381b3d9ff997",
   "metadata": {},
   "source": [
    "dataset\n",
    "\n",
    "The Secure Water Treatment (SWaT) \n",
    "\n",
    "Water Distribution (WADI)"
   ]
  },
  {
   "cell_type": "markdown",
   "id": "feaf30c0-9c0c-48fd-b294-3b4443927886",
   "metadata": {},
   "source": [
    "크기가 너무 커서 10초의 중앙값을 가져오는 downsampling 진행 후 두 데이터셋 다 **2160**개 가지고 있음"
   ]
  },
  {
   "cell_type": "code",
   "execution_count": 120,
   "id": "a258786f-20e2-402b-9573-232b68af3436",
   "metadata": {},
   "outputs": [
    {
     "data": {
      "text/html": [
       "<div>\n",
       "<style scoped>\n",
       "    .dataframe tbody tr th:only-of-type {\n",
       "        vertical-align: middle;\n",
       "    }\n",
       "\n",
       "    .dataframe tbody tr th {\n",
       "        vertical-align: top;\n",
       "    }\n",
       "\n",
       "    .dataframe thead th {\n",
       "        text-align: right;\n",
       "    }\n",
       "</style>\n",
       "<table border=\"1\" class=\"dataframe\">\n",
       "  <thead>\n",
       "    <tr style=\"text-align: right;\">\n",
       "      <th></th>\n",
       "      <th>timestamp</th>\n",
       "      <th>M-6</th>\n",
       "      <th>M-1</th>\n",
       "      <th>M-2</th>\n",
       "      <th>S-2</th>\n",
       "      <th>P-10</th>\n",
       "      <th>T-4</th>\n",
       "      <th>T-5</th>\n",
       "      <th>F-7</th>\n",
       "      <th>M-3</th>\n",
       "      <th>...</th>\n",
       "      <th>F-5</th>\n",
       "      <th>D-14</th>\n",
       "      <th>T-9</th>\n",
       "      <th>P-14</th>\n",
       "      <th>T-8</th>\n",
       "      <th>P-11</th>\n",
       "      <th>D-15</th>\n",
       "      <th>D-16</th>\n",
       "      <th>M-7</th>\n",
       "      <th>F-8</th>\n",
       "    </tr>\n",
       "  </thead>\n",
       "  <tbody>\n",
       "    <tr>\n",
       "      <th>0</th>\n",
       "      <td>0</td>\n",
       "      <td>-1.0</td>\n",
       "      <td>0.999976</td>\n",
       "      <td>-0.748738</td>\n",
       "      <td>-1.0</td>\n",
       "      <td>0.994353</td>\n",
       "      <td>0.0</td>\n",
       "      <td>-1.0</td>\n",
       "      <td>-0.642857</td>\n",
       "      <td>1.000046</td>\n",
       "      <td>...</td>\n",
       "      <td>-0.059837</td>\n",
       "      <td>-1.0</td>\n",
       "      <td>-0.333329</td>\n",
       "      <td>0.999426</td>\n",
       "      <td>-1.0</td>\n",
       "      <td>0.941907</td>\n",
       "      <td>-1.000000</td>\n",
       "      <td>-1.000000</td>\n",
       "      <td>-1.001157</td>\n",
       "      <td>-0.826087</td>\n",
       "    </tr>\n",
       "    <tr>\n",
       "      <th>1</th>\n",
       "      <td>1</td>\n",
       "      <td>-1.0</td>\n",
       "      <td>0.999976</td>\n",
       "      <td>-0.748738</td>\n",
       "      <td>-1.0</td>\n",
       "      <td>0.993788</td>\n",
       "      <td>0.0</td>\n",
       "      <td>-1.0</td>\n",
       "      <td>-0.964286</td>\n",
       "      <td>1.000046</td>\n",
       "      <td>...</td>\n",
       "      <td>-0.059238</td>\n",
       "      <td>-1.0</td>\n",
       "      <td>-0.333329</td>\n",
       "      <td>0.999296</td>\n",
       "      <td>-1.0</td>\n",
       "      <td>0.944196</td>\n",
       "      <td>-1.000000</td>\n",
       "      <td>-1.000000</td>\n",
       "      <td>-1.001157</td>\n",
       "      <td>-0.869565</td>\n",
       "    </tr>\n",
       "    <tr>\n",
       "      <th>2</th>\n",
       "      <td>2</td>\n",
       "      <td>-1.0</td>\n",
       "      <td>0.999976</td>\n",
       "      <td>-0.748738</td>\n",
       "      <td>-1.0</td>\n",
       "      <td>0.994353</td>\n",
       "      <td>0.0</td>\n",
       "      <td>-1.0</td>\n",
       "      <td>-0.785714</td>\n",
       "      <td>1.000046</td>\n",
       "      <td>...</td>\n",
       "      <td>-0.059163</td>\n",
       "      <td>-1.0</td>\n",
       "      <td>-0.333329</td>\n",
       "      <td>0.999611</td>\n",
       "      <td>-1.0</td>\n",
       "      <td>0.943751</td>\n",
       "      <td>0.952800</td>\n",
       "      <td>0.983735</td>\n",
       "      <td>-1.001157</td>\n",
       "      <td>-0.869565</td>\n",
       "    </tr>\n",
       "    <tr>\n",
       "      <th>3</th>\n",
       "      <td>3</td>\n",
       "      <td>-1.0</td>\n",
       "      <td>0.999976</td>\n",
       "      <td>-0.748738</td>\n",
       "      <td>-1.0</td>\n",
       "      <td>0.993506</td>\n",
       "      <td>0.0</td>\n",
       "      <td>-1.0</td>\n",
       "      <td>-0.892857</td>\n",
       "      <td>1.000046</td>\n",
       "      <td>...</td>\n",
       "      <td>-0.058563</td>\n",
       "      <td>-1.0</td>\n",
       "      <td>-0.333329</td>\n",
       "      <td>0.999500</td>\n",
       "      <td>-1.0</td>\n",
       "      <td>0.941081</td>\n",
       "      <td>0.951874</td>\n",
       "      <td>-1.000000</td>\n",
       "      <td>-1.001157</td>\n",
       "      <td>-0.782609</td>\n",
       "    </tr>\n",
       "    <tr>\n",
       "      <th>4</th>\n",
       "      <td>4</td>\n",
       "      <td>-1.0</td>\n",
       "      <td>0.999976</td>\n",
       "      <td>-0.748738</td>\n",
       "      <td>-1.0</td>\n",
       "      <td>0.994353</td>\n",
       "      <td>0.0</td>\n",
       "      <td>-1.0</td>\n",
       "      <td>-0.964286</td>\n",
       "      <td>1.000046</td>\n",
       "      <td>...</td>\n",
       "      <td>-0.056016</td>\n",
       "      <td>-1.0</td>\n",
       "      <td>-1.000000</td>\n",
       "      <td>0.999519</td>\n",
       "      <td>-1.0</td>\n",
       "      <td>0.941653</td>\n",
       "      <td>-1.000000</td>\n",
       "      <td>-1.000000</td>\n",
       "      <td>-1.001157</td>\n",
       "      <td>-0.869565</td>\n",
       "    </tr>\n",
       "    <tr>\n",
       "      <th>...</th>\n",
       "      <td>...</td>\n",
       "      <td>...</td>\n",
       "      <td>...</td>\n",
       "      <td>...</td>\n",
       "      <td>...</td>\n",
       "      <td>...</td>\n",
       "      <td>...</td>\n",
       "      <td>...</td>\n",
       "      <td>...</td>\n",
       "      <td>...</td>\n",
       "      <td>...</td>\n",
       "      <td>...</td>\n",
       "      <td>...</td>\n",
       "      <td>...</td>\n",
       "      <td>...</td>\n",
       "      <td>...</td>\n",
       "      <td>...</td>\n",
       "      <td>...</td>\n",
       "      <td>...</td>\n",
       "      <td>...</td>\n",
       "      <td>...</td>\n",
       "    </tr>\n",
       "    <tr>\n",
       "      <th>1560</th>\n",
       "      <td>1560</td>\n",
       "      <td>-1.0</td>\n",
       "      <td>-0.621155</td>\n",
       "      <td>-1.036327</td>\n",
       "      <td>0.0</td>\n",
       "      <td>0.994070</td>\n",
       "      <td>0.0</td>\n",
       "      <td>-1.0</td>\n",
       "      <td>-0.928571</td>\n",
       "      <td>0.591862</td>\n",
       "      <td>...</td>\n",
       "      <td>0.013526</td>\n",
       "      <td>-1.0</td>\n",
       "      <td>0.000000</td>\n",
       "      <td>0.999500</td>\n",
       "      <td>0.0</td>\n",
       "      <td>0.598373</td>\n",
       "      <td>-1.000000</td>\n",
       "      <td>0.000000</td>\n",
       "      <td>-0.999096</td>\n",
       "      <td>-1.000000</td>\n",
       "    </tr>\n",
       "    <tr>\n",
       "      <th>1561</th>\n",
       "      <td>1561</td>\n",
       "      <td>-1.0</td>\n",
       "      <td>-0.622580</td>\n",
       "      <td>-1.031021</td>\n",
       "      <td>0.0</td>\n",
       "      <td>0.992094</td>\n",
       "      <td>0.0</td>\n",
       "      <td>-1.0</td>\n",
       "      <td>-0.928571</td>\n",
       "      <td>0.824871</td>\n",
       "      <td>...</td>\n",
       "      <td>0.015624</td>\n",
       "      <td>-1.0</td>\n",
       "      <td>0.000000</td>\n",
       "      <td>0.999352</td>\n",
       "      <td>0.0</td>\n",
       "      <td>0.659135</td>\n",
       "      <td>1.024063</td>\n",
       "      <td>0.000000</td>\n",
       "      <td>-0.999096</td>\n",
       "      <td>-1.000000</td>\n",
       "    </tr>\n",
       "    <tr>\n",
       "      <th>1562</th>\n",
       "      <td>1562</td>\n",
       "      <td>-1.0</td>\n",
       "      <td>-0.624111</td>\n",
       "      <td>-1.025695</td>\n",
       "      <td>0.0</td>\n",
       "      <td>0.991529</td>\n",
       "      <td>0.0</td>\n",
       "      <td>-1.0</td>\n",
       "      <td>0.964286</td>\n",
       "      <td>1.000022</td>\n",
       "      <td>...</td>\n",
       "      <td>-0.835887</td>\n",
       "      <td>-1.0</td>\n",
       "      <td>0.000000</td>\n",
       "      <td>0.999463</td>\n",
       "      <td>0.0</td>\n",
       "      <td>0.762036</td>\n",
       "      <td>1.023137</td>\n",
       "      <td>0.000000</td>\n",
       "      <td>-0.999096</td>\n",
       "      <td>-1.000000</td>\n",
       "    </tr>\n",
       "    <tr>\n",
       "      <th>1563</th>\n",
       "      <td>1563</td>\n",
       "      <td>-1.0</td>\n",
       "      <td>-0.625548</td>\n",
       "      <td>-1.020368</td>\n",
       "      <td>0.0</td>\n",
       "      <td>0.991529</td>\n",
       "      <td>0.0</td>\n",
       "      <td>-1.0</td>\n",
       "      <td>-0.964286</td>\n",
       "      <td>0.855654</td>\n",
       "      <td>...</td>\n",
       "      <td>-0.826820</td>\n",
       "      <td>-1.0</td>\n",
       "      <td>0.000000</td>\n",
       "      <td>0.999444</td>\n",
       "      <td>0.0</td>\n",
       "      <td>0.763498</td>\n",
       "      <td>-1.000000</td>\n",
       "      <td>0.000000</td>\n",
       "      <td>-0.999096</td>\n",
       "      <td>-1.000000</td>\n",
       "    </tr>\n",
       "    <tr>\n",
       "      <th>1564</th>\n",
       "      <td>1564</td>\n",
       "      <td>-1.0</td>\n",
       "      <td>-0.627090</td>\n",
       "      <td>-1.020368</td>\n",
       "      <td>0.0</td>\n",
       "      <td>0.992658</td>\n",
       "      <td>0.0</td>\n",
       "      <td>-1.0</td>\n",
       "      <td>-0.321429</td>\n",
       "      <td>0.614329</td>\n",
       "      <td>...</td>\n",
       "      <td>-0.822549</td>\n",
       "      <td>-1.0</td>\n",
       "      <td>0.000000</td>\n",
       "      <td>0.999611</td>\n",
       "      <td>0.0</td>\n",
       "      <td>0.934280</td>\n",
       "      <td>1.022212</td>\n",
       "      <td>0.000000</td>\n",
       "      <td>-0.999096</td>\n",
       "      <td>-1.000000</td>\n",
       "    </tr>\n",
       "  </tbody>\n",
       "</table>\n",
       "<p>1565 rows × 28 columns</p>\n",
       "</div>"
      ],
      "text/plain": [
       "      timestamp  M-6       M-1       M-2  S-2      P-10  T-4  T-5       F-7  \\\n",
       "0             0 -1.0  0.999976 -0.748738 -1.0  0.994353  0.0 -1.0 -0.642857   \n",
       "1             1 -1.0  0.999976 -0.748738 -1.0  0.993788  0.0 -1.0 -0.964286   \n",
       "2             2 -1.0  0.999976 -0.748738 -1.0  0.994353  0.0 -1.0 -0.785714   \n",
       "3             3 -1.0  0.999976 -0.748738 -1.0  0.993506  0.0 -1.0 -0.892857   \n",
       "4             4 -1.0  0.999976 -0.748738 -1.0  0.994353  0.0 -1.0 -0.964286   \n",
       "...         ...  ...       ...       ...  ...       ...  ...  ...       ...   \n",
       "1560       1560 -1.0 -0.621155 -1.036327  0.0  0.994070  0.0 -1.0 -0.928571   \n",
       "1561       1561 -1.0 -0.622580 -1.031021  0.0  0.992094  0.0 -1.0 -0.928571   \n",
       "1562       1562 -1.0 -0.624111 -1.025695  0.0  0.991529  0.0 -1.0  0.964286   \n",
       "1563       1563 -1.0 -0.625548 -1.020368  0.0  0.991529  0.0 -1.0 -0.964286   \n",
       "1564       1564 -1.0 -0.627090 -1.020368  0.0  0.992658  0.0 -1.0 -0.321429   \n",
       "\n",
       "           M-3  ...       F-5  D-14       T-9      P-14  T-8      P-11  \\\n",
       "0     1.000046  ... -0.059837  -1.0 -0.333329  0.999426 -1.0  0.941907   \n",
       "1     1.000046  ... -0.059238  -1.0 -0.333329  0.999296 -1.0  0.944196   \n",
       "2     1.000046  ... -0.059163  -1.0 -0.333329  0.999611 -1.0  0.943751   \n",
       "3     1.000046  ... -0.058563  -1.0 -0.333329  0.999500 -1.0  0.941081   \n",
       "4     1.000046  ... -0.056016  -1.0 -1.000000  0.999519 -1.0  0.941653   \n",
       "...        ...  ...       ...   ...       ...       ...  ...       ...   \n",
       "1560  0.591862  ...  0.013526  -1.0  0.000000  0.999500  0.0  0.598373   \n",
       "1561  0.824871  ...  0.015624  -1.0  0.000000  0.999352  0.0  0.659135   \n",
       "1562  1.000022  ... -0.835887  -1.0  0.000000  0.999463  0.0  0.762036   \n",
       "1563  0.855654  ... -0.826820  -1.0  0.000000  0.999444  0.0  0.763498   \n",
       "1564  0.614329  ... -0.822549  -1.0  0.000000  0.999611  0.0  0.934280   \n",
       "\n",
       "          D-15      D-16       M-7       F-8  \n",
       "0    -1.000000 -1.000000 -1.001157 -0.826087  \n",
       "1    -1.000000 -1.000000 -1.001157 -0.869565  \n",
       "2     0.952800  0.983735 -1.001157 -0.869565  \n",
       "3     0.951874 -1.000000 -1.001157 -0.782609  \n",
       "4    -1.000000 -1.000000 -1.001157 -0.869565  \n",
       "...        ...       ...       ...       ...  \n",
       "1560 -1.000000  0.000000 -0.999096 -1.000000  \n",
       "1561  1.024063  0.000000 -0.999096 -1.000000  \n",
       "1562  1.023137  0.000000 -0.999096 -1.000000  \n",
       "1563 -1.000000  0.000000 -0.999096 -1.000000  \n",
       "1564  1.022212  0.000000 -0.999096 -1.000000  \n",
       "\n",
       "[1565 rows x 28 columns]"
      ]
     },
     "execution_count": 120,
     "metadata": {},
     "output_type": "execute_result"
    }
   ],
   "source": [
    "S_train = pd.read_csv('https://raw.githubusercontent.com/d-ailin/GDN/main/data/msl/train.csv')\n",
    "S_train"
   ]
  },
  {
   "cell_type": "code",
   "execution_count": 119,
   "id": "9b546431-5a5a-4bdd-86da-4c50d773004d",
   "metadata": {},
   "outputs": [
    {
     "data": {
      "text/html": [
       "<div>\n",
       "<style scoped>\n",
       "    .dataframe tbody tr th:only-of-type {\n",
       "        vertical-align: middle;\n",
       "    }\n",
       "\n",
       "    .dataframe tbody tr th {\n",
       "        vertical-align: top;\n",
       "    }\n",
       "\n",
       "    .dataframe thead th {\n",
       "        text-align: right;\n",
       "    }\n",
       "</style>\n",
       "<table border=\"1\" class=\"dataframe\">\n",
       "  <thead>\n",
       "    <tr style=\"text-align: right;\">\n",
       "      <th></th>\n",
       "      <th>timestamp</th>\n",
       "      <th>M-6</th>\n",
       "      <th>M-1</th>\n",
       "      <th>M-2</th>\n",
       "      <th>S-2</th>\n",
       "      <th>P-10</th>\n",
       "      <th>T-4</th>\n",
       "      <th>T-5</th>\n",
       "      <th>F-7</th>\n",
       "      <th>M-3</th>\n",
       "      <th>...</th>\n",
       "      <th>D-14</th>\n",
       "      <th>T-9</th>\n",
       "      <th>P-14</th>\n",
       "      <th>T-8</th>\n",
       "      <th>P-11</th>\n",
       "      <th>D-15</th>\n",
       "      <th>D-16</th>\n",
       "      <th>M-7</th>\n",
       "      <th>F-8</th>\n",
       "      <th>attack</th>\n",
       "    </tr>\n",
       "  </thead>\n",
       "  <tbody>\n",
       "    <tr>\n",
       "      <th>0</th>\n",
       "      <td>0</td>\n",
       "      <td>-1.000000</td>\n",
       "      <td>0.999906</td>\n",
       "      <td>-0.748738</td>\n",
       "      <td>-1.0</td>\n",
       "      <td>0.992941</td>\n",
       "      <td>0.0</td>\n",
       "      <td>-1.0</td>\n",
       "      <td>-0.892857</td>\n",
       "      <td>1.000000</td>\n",
       "      <td>...</td>\n",
       "      <td>-1.0</td>\n",
       "      <td>0.639967</td>\n",
       "      <td>0.992941</td>\n",
       "      <td>-1.0</td>\n",
       "      <td>0.930975</td>\n",
       "      <td>-1.000000</td>\n",
       "      <td>-1.000000</td>\n",
       "      <td>-0.999133</td>\n",
       "      <td>-1.000000</td>\n",
       "      <td>0.0</td>\n",
       "    </tr>\n",
       "    <tr>\n",
       "      <th>1</th>\n",
       "      <td>1</td>\n",
       "      <td>-1.000000</td>\n",
       "      <td>0.999906</td>\n",
       "      <td>-0.748738</td>\n",
       "      <td>-1.0</td>\n",
       "      <td>0.993788</td>\n",
       "      <td>0.0</td>\n",
       "      <td>-1.0</td>\n",
       "      <td>-0.892857</td>\n",
       "      <td>1.000000</td>\n",
       "      <td>...</td>\n",
       "      <td>-1.0</td>\n",
       "      <td>0.639967</td>\n",
       "      <td>0.993788</td>\n",
       "      <td>-1.0</td>\n",
       "      <td>0.918009</td>\n",
       "      <td>0.832485</td>\n",
       "      <td>-1.000000</td>\n",
       "      <td>-0.999133</td>\n",
       "      <td>-0.565217</td>\n",
       "      <td>0.0</td>\n",
       "    </tr>\n",
       "    <tr>\n",
       "      <th>2</th>\n",
       "      <td>2</td>\n",
       "      <td>-1.000000</td>\n",
       "      <td>0.999906</td>\n",
       "      <td>-0.748738</td>\n",
       "      <td>-1.0</td>\n",
       "      <td>0.993788</td>\n",
       "      <td>0.0</td>\n",
       "      <td>-1.0</td>\n",
       "      <td>-0.428571</td>\n",
       "      <td>1.000000</td>\n",
       "      <td>...</td>\n",
       "      <td>-1.0</td>\n",
       "      <td>0.639967</td>\n",
       "      <td>0.993788</td>\n",
       "      <td>-1.0</td>\n",
       "      <td>0.927861</td>\n",
       "      <td>0.831559</td>\n",
       "      <td>-1.000000</td>\n",
       "      <td>-0.999133</td>\n",
       "      <td>-1.000000</td>\n",
       "      <td>0.0</td>\n",
       "    </tr>\n",
       "    <tr>\n",
       "      <th>3</th>\n",
       "      <td>3</td>\n",
       "      <td>-1.000000</td>\n",
       "      <td>0.999906</td>\n",
       "      <td>-0.748738</td>\n",
       "      <td>-1.0</td>\n",
       "      <td>0.994635</td>\n",
       "      <td>0.0</td>\n",
       "      <td>-1.0</td>\n",
       "      <td>-0.500000</td>\n",
       "      <td>1.000000</td>\n",
       "      <td>...</td>\n",
       "      <td>-1.0</td>\n",
       "      <td>0.639967</td>\n",
       "      <td>0.994635</td>\n",
       "      <td>-1.0</td>\n",
       "      <td>0.921442</td>\n",
       "      <td>0.831559</td>\n",
       "      <td>-1.000000</td>\n",
       "      <td>-0.999133</td>\n",
       "      <td>-1.000000</td>\n",
       "      <td>0.0</td>\n",
       "    </tr>\n",
       "    <tr>\n",
       "      <th>4</th>\n",
       "      <td>4</td>\n",
       "      <td>-1.000000</td>\n",
       "      <td>0.999906</td>\n",
       "      <td>-0.748738</td>\n",
       "      <td>-1.0</td>\n",
       "      <td>0.994635</td>\n",
       "      <td>0.0</td>\n",
       "      <td>-1.0</td>\n",
       "      <td>-0.892857</td>\n",
       "      <td>1.000000</td>\n",
       "      <td>...</td>\n",
       "      <td>-1.0</td>\n",
       "      <td>0.637897</td>\n",
       "      <td>0.994635</td>\n",
       "      <td>-1.0</td>\n",
       "      <td>0.916484</td>\n",
       "      <td>0.831559</td>\n",
       "      <td>-1.000000</td>\n",
       "      <td>-0.999133</td>\n",
       "      <td>-1.000000</td>\n",
       "      <td>0.0</td>\n",
       "    </tr>\n",
       "    <tr>\n",
       "      <th>...</th>\n",
       "      <td>...</td>\n",
       "      <td>...</td>\n",
       "      <td>...</td>\n",
       "      <td>...</td>\n",
       "      <td>...</td>\n",
       "      <td>...</td>\n",
       "      <td>...</td>\n",
       "      <td>...</td>\n",
       "      <td>...</td>\n",
       "      <td>...</td>\n",
       "      <td>...</td>\n",
       "      <td>...</td>\n",
       "      <td>...</td>\n",
       "      <td>...</td>\n",
       "      <td>...</td>\n",
       "      <td>...</td>\n",
       "      <td>...</td>\n",
       "      <td>...</td>\n",
       "      <td>...</td>\n",
       "      <td>...</td>\n",
       "      <td>...</td>\n",
       "    </tr>\n",
       "    <tr>\n",
       "      <th>2044</th>\n",
       "      <td>2044</td>\n",
       "      <td>129.891892</td>\n",
       "      <td>0.525484</td>\n",
       "      <td>0.977248</td>\n",
       "      <td>0.0</td>\n",
       "      <td>0.994353</td>\n",
       "      <td>0.0</td>\n",
       "      <td>-1.0</td>\n",
       "      <td>1.000000</td>\n",
       "      <td>-0.364356</td>\n",
       "      <td>...</td>\n",
       "      <td>-1.0</td>\n",
       "      <td>0.000000</td>\n",
       "      <td>0.994353</td>\n",
       "      <td>0.0</td>\n",
       "      <td>0.761019</td>\n",
       "      <td>1.244331</td>\n",
       "      <td>0.079743</td>\n",
       "      <td>-0.999602</td>\n",
       "      <td>-1.000000</td>\n",
       "      <td>1.0</td>\n",
       "    </tr>\n",
       "    <tr>\n",
       "      <th>2045</th>\n",
       "      <td>2045</td>\n",
       "      <td>129.891892</td>\n",
       "      <td>0.999965</td>\n",
       "      <td>-0.748749</td>\n",
       "      <td>0.0</td>\n",
       "      <td>0.993788</td>\n",
       "      <td>0.0</td>\n",
       "      <td>-1.0</td>\n",
       "      <td>1.000000</td>\n",
       "      <td>-0.893946</td>\n",
       "      <td>...</td>\n",
       "      <td>-1.0</td>\n",
       "      <td>0.000000</td>\n",
       "      <td>0.993788</td>\n",
       "      <td>0.0</td>\n",
       "      <td>0.749642</td>\n",
       "      <td>-1.000000</td>\n",
       "      <td>0.092316</td>\n",
       "      <td>-0.999602</td>\n",
       "      <td>-1.000000</td>\n",
       "      <td>1.0</td>\n",
       "    </tr>\n",
       "    <tr>\n",
       "      <th>2046</th>\n",
       "      <td>2046</td>\n",
       "      <td>129.891892</td>\n",
       "      <td>0.999965</td>\n",
       "      <td>-0.748749</td>\n",
       "      <td>0.0</td>\n",
       "      <td>0.992941</td>\n",
       "      <td>0.0</td>\n",
       "      <td>-1.0</td>\n",
       "      <td>0.821429</td>\n",
       "      <td>-1.377165</td>\n",
       "      <td>...</td>\n",
       "      <td>-1.0</td>\n",
       "      <td>0.000000</td>\n",
       "      <td>0.992941</td>\n",
       "      <td>0.0</td>\n",
       "      <td>0.719134</td>\n",
       "      <td>-1.000000</td>\n",
       "      <td>0.092316</td>\n",
       "      <td>-0.999602</td>\n",
       "      <td>-1.000000</td>\n",
       "      <td>1.0</td>\n",
       "    </tr>\n",
       "    <tr>\n",
       "      <th>2047</th>\n",
       "      <td>2047</td>\n",
       "      <td>129.891892</td>\n",
       "      <td>0.999965</td>\n",
       "      <td>-0.748749</td>\n",
       "      <td>0.0</td>\n",
       "      <td>0.993223</td>\n",
       "      <td>0.0</td>\n",
       "      <td>-1.0</td>\n",
       "      <td>0.071429</td>\n",
       "      <td>-0.796085</td>\n",
       "      <td>...</td>\n",
       "      <td>-1.0</td>\n",
       "      <td>0.000000</td>\n",
       "      <td>0.993223</td>\n",
       "      <td>0.0</td>\n",
       "      <td>0.734452</td>\n",
       "      <td>1.242480</td>\n",
       "      <td>-1.000000</td>\n",
       "      <td>-0.999602</td>\n",
       "      <td>-1.000000</td>\n",
       "      <td>1.0</td>\n",
       "    </tr>\n",
       "    <tr>\n",
       "      <th>2048</th>\n",
       "      <td>2048</td>\n",
       "      <td>129.891892</td>\n",
       "      <td>0.999965</td>\n",
       "      <td>-0.748749</td>\n",
       "      <td>0.0</td>\n",
       "      <td>0.994635</td>\n",
       "      <td>0.0</td>\n",
       "      <td>-1.0</td>\n",
       "      <td>-0.535714</td>\n",
       "      <td>-0.057054</td>\n",
       "      <td>...</td>\n",
       "      <td>-1.0</td>\n",
       "      <td>0.000000</td>\n",
       "      <td>0.994635</td>\n",
       "      <td>0.0</td>\n",
       "      <td>0.738520</td>\n",
       "      <td>1.241555</td>\n",
       "      <td>-1.000000</td>\n",
       "      <td>-0.999602</td>\n",
       "      <td>-1.000000</td>\n",
       "      <td>1.0</td>\n",
       "    </tr>\n",
       "  </tbody>\n",
       "</table>\n",
       "<p>2049 rows × 29 columns</p>\n",
       "</div>"
      ],
      "text/plain": [
       "      timestamp         M-6       M-1       M-2  S-2      P-10  T-4  T-5  \\\n",
       "0             0   -1.000000  0.999906 -0.748738 -1.0  0.992941  0.0 -1.0   \n",
       "1             1   -1.000000  0.999906 -0.748738 -1.0  0.993788  0.0 -1.0   \n",
       "2             2   -1.000000  0.999906 -0.748738 -1.0  0.993788  0.0 -1.0   \n",
       "3             3   -1.000000  0.999906 -0.748738 -1.0  0.994635  0.0 -1.0   \n",
       "4             4   -1.000000  0.999906 -0.748738 -1.0  0.994635  0.0 -1.0   \n",
       "...         ...         ...       ...       ...  ...       ...  ...  ...   \n",
       "2044       2044  129.891892  0.525484  0.977248  0.0  0.994353  0.0 -1.0   \n",
       "2045       2045  129.891892  0.999965 -0.748749  0.0  0.993788  0.0 -1.0   \n",
       "2046       2046  129.891892  0.999965 -0.748749  0.0  0.992941  0.0 -1.0   \n",
       "2047       2047  129.891892  0.999965 -0.748749  0.0  0.993223  0.0 -1.0   \n",
       "2048       2048  129.891892  0.999965 -0.748749  0.0  0.994635  0.0 -1.0   \n",
       "\n",
       "           F-7       M-3  ...  D-14       T-9      P-14  T-8      P-11  \\\n",
       "0    -0.892857  1.000000  ...  -1.0  0.639967  0.992941 -1.0  0.930975   \n",
       "1    -0.892857  1.000000  ...  -1.0  0.639967  0.993788 -1.0  0.918009   \n",
       "2    -0.428571  1.000000  ...  -1.0  0.639967  0.993788 -1.0  0.927861   \n",
       "3    -0.500000  1.000000  ...  -1.0  0.639967  0.994635 -1.0  0.921442   \n",
       "4    -0.892857  1.000000  ...  -1.0  0.637897  0.994635 -1.0  0.916484   \n",
       "...        ...       ...  ...   ...       ...       ...  ...       ...   \n",
       "2044  1.000000 -0.364356  ...  -1.0  0.000000  0.994353  0.0  0.761019   \n",
       "2045  1.000000 -0.893946  ...  -1.0  0.000000  0.993788  0.0  0.749642   \n",
       "2046  0.821429 -1.377165  ...  -1.0  0.000000  0.992941  0.0  0.719134   \n",
       "2047  0.071429 -0.796085  ...  -1.0  0.000000  0.993223  0.0  0.734452   \n",
       "2048 -0.535714 -0.057054  ...  -1.0  0.000000  0.994635  0.0  0.738520   \n",
       "\n",
       "          D-15      D-16       M-7       F-8  attack  \n",
       "0    -1.000000 -1.000000 -0.999133 -1.000000     0.0  \n",
       "1     0.832485 -1.000000 -0.999133 -0.565217     0.0  \n",
       "2     0.831559 -1.000000 -0.999133 -1.000000     0.0  \n",
       "3     0.831559 -1.000000 -0.999133 -1.000000     0.0  \n",
       "4     0.831559 -1.000000 -0.999133 -1.000000     0.0  \n",
       "...        ...       ...       ...       ...     ...  \n",
       "2044  1.244331  0.079743 -0.999602 -1.000000     1.0  \n",
       "2045 -1.000000  0.092316 -0.999602 -1.000000     1.0  \n",
       "2046 -1.000000  0.092316 -0.999602 -1.000000     1.0  \n",
       "2047  1.242480 -1.000000 -0.999602 -1.000000     1.0  \n",
       "2048  1.241555 -1.000000 -0.999602 -1.000000     1.0  \n",
       "\n",
       "[2049 rows x 29 columns]"
      ]
     },
     "execution_count": 119,
     "metadata": {},
     "output_type": "execute_result"
    }
   ],
   "source": [
    "S_test = pd.read_csv('https://raw.githubusercontent.com/d-ailin/GDN/main/data/msl/test.csv')\n",
    "S_test"
   ]
  },
  {
   "cell_type": "code",
   "execution_count": 145,
   "id": "f3ecfc35-4491-4652-9755-91d70f849f69",
   "metadata": {},
   "outputs": [
    {
     "data": {
      "text/html": [
       "<div>\n",
       "<style scoped>\n",
       "    .dataframe tbody tr th:only-of-type {\n",
       "        vertical-align: middle;\n",
       "    }\n",
       "\n",
       "    .dataframe tbody tr th {\n",
       "        vertical-align: top;\n",
       "    }\n",
       "\n",
       "    .dataframe thead th {\n",
       "        text-align: right;\n",
       "    }\n",
       "</style>\n",
       "<table border=\"1\" class=\"dataframe\">\n",
       "  <thead>\n",
       "    <tr style=\"text-align: right;\">\n",
       "      <th></th>\n",
       "      <th>0</th>\n",
       "    </tr>\n",
       "  </thead>\n",
       "  <tbody>\n",
       "    <tr>\n",
       "      <th>0</th>\n",
       "      <td>M-6</td>\n",
       "    </tr>\n",
       "    <tr>\n",
       "      <th>1</th>\n",
       "      <td>M-1</td>\n",
       "    </tr>\n",
       "    <tr>\n",
       "      <th>2</th>\n",
       "      <td>M-2</td>\n",
       "    </tr>\n",
       "    <tr>\n",
       "      <th>3</th>\n",
       "      <td>S-2</td>\n",
       "    </tr>\n",
       "    <tr>\n",
       "      <th>4</th>\n",
       "      <td>P-10</td>\n",
       "    </tr>\n",
       "    <tr>\n",
       "      <th>5</th>\n",
       "      <td>T-4</td>\n",
       "    </tr>\n",
       "    <tr>\n",
       "      <th>6</th>\n",
       "      <td>T-5</td>\n",
       "    </tr>\n",
       "    <tr>\n",
       "      <th>7</th>\n",
       "      <td>F-7</td>\n",
       "    </tr>\n",
       "    <tr>\n",
       "      <th>8</th>\n",
       "      <td>M-3</td>\n",
       "    </tr>\n",
       "    <tr>\n",
       "      <th>9</th>\n",
       "      <td>M-4</td>\n",
       "    </tr>\n",
       "    <tr>\n",
       "      <th>10</th>\n",
       "      <td>M-5</td>\n",
       "    </tr>\n",
       "    <tr>\n",
       "      <th>11</th>\n",
       "      <td>P-15</td>\n",
       "    </tr>\n",
       "    <tr>\n",
       "      <th>12</th>\n",
       "      <td>C-1</td>\n",
       "    </tr>\n",
       "    <tr>\n",
       "      <th>13</th>\n",
       "      <td>C-2</td>\n",
       "    </tr>\n",
       "    <tr>\n",
       "      <th>14</th>\n",
       "      <td>T-12</td>\n",
       "    </tr>\n",
       "    <tr>\n",
       "      <th>15</th>\n",
       "      <td>T-13</td>\n",
       "    </tr>\n",
       "    <tr>\n",
       "      <th>16</th>\n",
       "      <td>F-4</td>\n",
       "    </tr>\n",
       "    <tr>\n",
       "      <th>17</th>\n",
       "      <td>F-5</td>\n",
       "    </tr>\n",
       "    <tr>\n",
       "      <th>18</th>\n",
       "      <td>D-14</td>\n",
       "    </tr>\n",
       "    <tr>\n",
       "      <th>19</th>\n",
       "      <td>T-9</td>\n",
       "    </tr>\n",
       "    <tr>\n",
       "      <th>20</th>\n",
       "      <td>P-14</td>\n",
       "    </tr>\n",
       "    <tr>\n",
       "      <th>21</th>\n",
       "      <td>T-8</td>\n",
       "    </tr>\n",
       "    <tr>\n",
       "      <th>22</th>\n",
       "      <td>P-11</td>\n",
       "    </tr>\n",
       "    <tr>\n",
       "      <th>23</th>\n",
       "      <td>D-15</td>\n",
       "    </tr>\n",
       "    <tr>\n",
       "      <th>24</th>\n",
       "      <td>D-16</td>\n",
       "    </tr>\n",
       "    <tr>\n",
       "      <th>25</th>\n",
       "      <td>M-7</td>\n",
       "    </tr>\n",
       "    <tr>\n",
       "      <th>26</th>\n",
       "      <td>F-8</td>\n",
       "    </tr>\n",
       "  </tbody>\n",
       "</table>\n",
       "</div>"
      ],
      "text/plain": [
       "       0\n",
       "0    M-6\n",
       "1    M-1\n",
       "2    M-2\n",
       "3    S-2\n",
       "4   P-10\n",
       "5    T-4\n",
       "6    T-5\n",
       "7    F-7\n",
       "8    M-3\n",
       "9    M-4\n",
       "10   M-5\n",
       "11  P-15\n",
       "12   C-1\n",
       "13   C-2\n",
       "14  T-12\n",
       "15  T-13\n",
       "16   F-4\n",
       "17   F-5\n",
       "18  D-14\n",
       "19   T-9\n",
       "20  P-14\n",
       "21   T-8\n",
       "22  P-11\n",
       "23  D-15\n",
       "24  D-16\n",
       "25   M-7\n",
       "26   F-8"
      ]
     },
     "execution_count": 145,
     "metadata": {},
     "output_type": "execute_result"
    }
   ],
   "source": [
    "listset = pd.read_csv('https://raw.githubusercontent.com/d-ailin/GDN/main/data/msl/list.txt',header=None)\n",
    "listset"
   ]
  },
  {
   "cell_type": "code",
   "execution_count": null,
   "id": "bb4b12cb-fe8b-490a-ba8c-663d4b808a10",
   "metadata": {},
   "outputs": [],
   "source": []
  }
 ],
 "metadata": {
  "kernelspec": {
   "display_name": "Python 3 (ipykernel)",
   "language": "python",
   "name": "python3"
  },
  "language_info": {
   "codemirror_mode": {
    "name": "ipython",
    "version": 3
   },
   "file_extension": ".py",
   "mimetype": "text/x-python",
   "name": "python",
   "nbconvert_exporter": "python",
   "pygments_lexer": "ipython3",
   "version": "3.8.12"
  }
 },
 "nbformat": 4,
 "nbformat_minor": 5
}
