{
 "cells": [
  {
   "cell_type": "markdown",
   "id": "65463e2e-d319-41d4-ac31-38f58aa1ed97",
   "metadata": {
    "id": "b9918d88-edd6-44b5-8919-e7c24f94005a",
    "tags": []
   },
   "source": [
    "# (study) 파이썬 입문 (12주차) 5월23일\n",
    "> 클래스 공부 4단계, 5단계\n",
    "\n",
    "- toc:true\n",
    "- branch: master\n",
    "- badges: true\n",
    "- comments: false\n",
    "- author: 최서연\n",
    "- categories: [Python, class]"
   ]
  },
  {
   "cell_type": "markdown",
   "id": "5672f9f4-d57f-4c7d-8eb3-cdfb5071115a",
   "metadata": {
    "id": "5672f9f4-d57f-4c7d-8eb3-cdfb5071115a"
   },
   "source": [
    "## 강의영상 "
   ]
  },
  {
   "cell_type": "markdown",
   "id": "bbfa629a-e8ca-45b0-aeb7-5a14e531a04d",
   "metadata": {
    "id": "bbfa629a-e8ca-45b0-aeb7-5a14e531a04d"
   },
   "source": [
    "> youtube: https://youtube.com/playlist?list=PLQqh36zP38-yFD2egdVArP7O2A5r8s0Gz"
   ]
  },
  {
   "cell_type": "markdown",
   "id": "8e2821c0-468e-4e34-a294-684865b28897",
   "metadata": {
    "id": "8e2821c0-468e-4e34-a294-684865b28897"
   },
   "source": [
    "`-` (1/4) motivating example\n",
    "\n",
    "`-` (2/4) `__str__`, 파이썬의 비밀2 \n",
    "\n",
    "`-` (3/4) `__repr__`, 파이썬의 비밀3 \n",
    "\n",
    "`-` (4/4) 주피터노트북의 비밀 (`_repr_html_`), `__repr__`와 `__str__`의 우선적용 순위"
   ]
  },
  {
   "cell_type": "markdown",
   "id": "2ed1bd61-cacc-462f-b58e-c6d79e11b4da",
   "metadata": {
    "id": "2ed1bd61-cacc-462f-b58e-c6d79e11b4da"
   },
   "source": [
    "## imports"
   ]
  },
  {
   "cell_type": "code",
   "execution_count": 1,
   "id": "1de25c03-a912-4c0f-aa02-d446c0da1bdb",
   "metadata": {
    "id": "1de25c03-a912-4c0f-aa02-d446c0da1bdb"
   },
   "outputs": [],
   "source": [
    "import numpy as np"
   ]
  },
  {
   "cell_type": "markdown",
   "id": "e2ff7ae9-5b40-44c1-97b2-2fceb17a2ffc",
   "metadata": {
    "id": "e2ff7ae9-5b40-44c1-97b2-2fceb17a2ffc"
   },
   "source": [
    "## 클래스공부 4단계"
   ]
  },
  {
   "cell_type": "markdown",
   "id": "b0ef5554-03ba-425e-8281-574b4a63ddca",
   "metadata": {
    "id": "b0ef5554-03ba-425e-8281-574b4a63ddca"
   },
   "source": [
    "### Motivating Example"
   ]
  },
  {
   "cell_type": "markdown",
   "id": "5694d318-4e59-426c-b0d9-f1fb4c422eb2",
   "metadata": {
    "id": "5694d318-4e59-426c-b0d9-f1fb4c422eb2"
   },
   "source": [
    "`-` 가위바위보"
   ]
  },
  {
   "cell_type": "code",
   "execution_count": 2,
   "id": "230e5868-b43a-4e81-b0bb-0cb7c0bf3f53",
   "metadata": {
    "id": "230e5868-b43a-4e81-b0bb-0cb7c0bf3f53"
   },
   "outputs": [],
   "source": [
    "class RPC: \n",
    "    def __init__(self,candidate=['가위','바위','보']):\n",
    "        self.candidate = candidate\n",
    "    def throw(self):\n",
    "        print(np.random.choice(self.candidate))"
   ]
  },
  {
   "cell_type": "code",
   "execution_count": 3,
   "id": "08cebb3b-e0ee-46c2-9e40-5a5f723c3e28",
   "metadata": {
    "id": "08cebb3b-e0ee-46c2-9e40-5a5f723c3e28"
   },
   "outputs": [],
   "source": [
    "a=RPC() # __init__는 암묵적으로 실행"
   ]
  },
  {
   "cell_type": "code",
   "execution_count": 4,
   "id": "d49e49cc-0e07-45f6-a76a-47cd00fe2401",
   "metadata": {
    "id": "d49e49cc-0e07-45f6-a76a-47cd00fe2401",
    "outputId": "44fe26de-5f27-4d83-db31-f3e62e45f278"
   },
   "outputs": [
    {
     "name": "stdout",
     "output_type": "stream",
     "text": [
      "바위\n"
     ]
    }
   ],
   "source": [
    "a.throw()"
   ]
  },
  {
   "cell_type": "markdown",
   "id": "5ff0b4e3-c638-4c89-a65a-0449d3b2341a",
   "metadata": {
    "id": "5ff0b4e3-c638-4c89-a65a-0449d3b2341a"
   },
   "source": [
    "`-` 생각해보니까 throw는 choose + show 의 결합인것 같다. "
   ]
  },
  {
   "cell_type": "code",
   "execution_count": 5,
   "id": "36988ccc-e472-41a1-ba21-7dfe0de5d55f",
   "metadata": {
    "id": "36988ccc-e472-41a1-ba21-7dfe0de5d55f"
   },
   "outputs": [],
   "source": [
    "class RPC: ## 시점1\n",
    "    def __init__(self,candidate=['가위','바위','보']):\n",
    "        self.candidate = candidate\n",
    "    def choose(self):\n",
    "        self.actions = np.random.choice(self.candidate)\n",
    "    def show(self):\n",
    "        print(self.actions)"
   ]
  },
  {
   "cell_type": "code",
   "execution_count": 6,
   "id": "a36587b7-af46-4345-aeca-e89f7e585245",
   "metadata": {
    "id": "a36587b7-af46-4345-aeca-e89f7e585245"
   },
   "outputs": [],
   "source": [
    "a=RPC() ## 시점2"
   ]
  },
  {
   "cell_type": "code",
   "execution_count": 7,
   "id": "9e14fa06-d6b1-4117-8d90-2905a03420c0",
   "metadata": {
    "id": "9e14fa06-d6b1-4117-8d90-2905a03420c0",
    "outputId": "881e4290-14d4-423d-b3f3-aa59a07cf0d6"
   },
   "outputs": [
    {
     "ename": "AttributeError",
     "evalue": "'RPC' object has no attribute 'actions'",
     "output_type": "error",
     "traceback": [
      "\u001b[0;31m---------------------------------------------------------------------------\u001b[0m",
      "\u001b[0;31mAttributeError\u001b[0m                            Traceback (most recent call last)",
      "\u001b[0;32m/tmp/ipykernel_577026/4082246120.py\u001b[0m in \u001b[0;36m<module>\u001b[0;34m\u001b[0m\n\u001b[0;32m----> 1\u001b[0;31m \u001b[0ma\u001b[0m\u001b[0;34m.\u001b[0m\u001b[0mactions\u001b[0m \u001b[0;31m## 시점3\u001b[0m\u001b[0;34m\u001b[0m\u001b[0;34m\u001b[0m\u001b[0m\n\u001b[0m",
      "\u001b[0;31mAttributeError\u001b[0m: 'RPC' object has no attribute 'actions'"
     ]
    }
   ],
   "source": [
    "a.actions ## 시점3"
   ]
  },
  {
   "cell_type": "code",
   "execution_count": 8,
   "id": "54f05874-d826-4367-9e95-42b794411fae",
   "metadata": {
    "id": "54f05874-d826-4367-9e95-42b794411fae"
   },
   "outputs": [],
   "source": [
    "a.choose() ## 시점4"
   ]
  },
  {
   "cell_type": "code",
   "execution_count": 9,
   "id": "02e36727-fa0a-4489-92d3-c23e9a2c7187",
   "metadata": {
    "id": "02e36727-fa0a-4489-92d3-c23e9a2c7187",
    "outputId": "13d7860e-cc98-4ca7-e0d9-a1fd81509e5e"
   },
   "outputs": [
    {
     "data": {
      "text/plain": [
       "'보'"
      ]
     },
     "execution_count": 9,
     "metadata": {},
     "output_type": "execute_result"
    }
   ],
   "source": [
    "a.actions ## 시점5 "
   ]
  },
  {
   "cell_type": "code",
   "execution_count": 10,
   "id": "26d7e0d7-feb0-4240-bb1a-c8d8706e9544",
   "metadata": {
    "id": "26d7e0d7-feb0-4240-bb1a-c8d8706e9544",
    "outputId": "452516b7-edf6-4c8c-f434-445065fc9b9d"
   },
   "outputs": [
    {
     "name": "stdout",
     "output_type": "stream",
     "text": [
      "보\n"
     ]
    }
   ],
   "source": [
    "a.show() ## 시점6"
   ]
  },
  {
   "cell_type": "markdown",
   "id": "6e338d81-ba8e-4b1d-b253-bb0f64ca7cca",
   "metadata": {
    "id": "6e338d81-ba8e-4b1d-b253-bb0f64ca7cca"
   },
   "source": [
    "***보충학습***: 위와 같은코드"
   ]
  },
  {
   "cell_type": "code",
   "execution_count": 11,
   "id": "320d36c0-63f0-4df3-b7ae-812d480a300a",
   "metadata": {
    "id": "320d36c0-63f0-4df3-b7ae-812d480a300a"
   },
   "outputs": [],
   "source": [
    "class _RPC: ## 시점1\n",
    "    pass # <- 이렇게하면 아무기능이 없는 비어있는 클래스가 정의된다 "
   ]
  },
  {
   "cell_type": "code",
   "execution_count": 12,
   "id": "1cb1db10-f570-4313-b00c-b46b4cef9462",
   "metadata": {
    "id": "1cb1db10-f570-4313-b00c-b46b4cef9462"
   },
   "outputs": [],
   "source": [
    "_a = _RPC() ## 시점2\n",
    "def _init(_a,candidate=['가위','바위','보']):\n",
    "    _a.candidate = candidate \n",
    "_init(_a)"
   ]
  },
  {
   "cell_type": "code",
   "execution_count": 13,
   "id": "54ba6d27-d0ba-4349-9fdc-8776b5f92235",
   "metadata": {
    "id": "54ba6d27-d0ba-4349-9fdc-8776b5f92235",
    "outputId": "619c6a2d-e35b-4110-b785-f418bd2e1993"
   },
   "outputs": [
    {
     "ename": "AttributeError",
     "evalue": "'_RPC' object has no attribute 'actions'",
     "output_type": "error",
     "traceback": [
      "\u001b[0;31m---------------------------------------------------------------------------\u001b[0m",
      "\u001b[0;31mAttributeError\u001b[0m                            Traceback (most recent call last)",
      "\u001b[0;32m/tmp/ipykernel_577026/2546139601.py\u001b[0m in \u001b[0;36m<module>\u001b[0;34m\u001b[0m\n\u001b[0;32m----> 1\u001b[0;31m \u001b[0m_a\u001b[0m\u001b[0;34m.\u001b[0m\u001b[0mactions\u001b[0m \u001b[0;31m## 시점3\u001b[0m\u001b[0;34m\u001b[0m\u001b[0;34m\u001b[0m\u001b[0m\n\u001b[0m",
      "\u001b[0;31mAttributeError\u001b[0m: '_RPC' object has no attribute 'actions'"
     ]
    }
   ],
   "source": [
    "_a.actions ## 시점3"
   ]
  },
  {
   "cell_type": "code",
   "execution_count": 14,
   "id": "2326bec6-cf92-4a04-b3da-a4875f622a80",
   "metadata": {
    "id": "2326bec6-cf92-4a04-b3da-a4875f622a80"
   },
   "outputs": [],
   "source": [
    "def _choose(_a): ## 시점4\n",
    "    _a.actions = np.random.choice(_a.candidate)\n",
    "_choose(_a)"
   ]
  },
  {
   "cell_type": "code",
   "execution_count": 15,
   "id": "8d42046c-83fa-4e80-a5f1-7359cd44bc12",
   "metadata": {
    "id": "8d42046c-83fa-4e80-a5f1-7359cd44bc12",
    "outputId": "a86571d7-c85c-44f4-db60-fc9186f7533a"
   },
   "outputs": [
    {
     "data": {
      "text/plain": [
       "'가위'"
      ]
     },
     "execution_count": 15,
     "metadata": {},
     "output_type": "execute_result"
    }
   ],
   "source": [
    "_a.actions ## 시점5"
   ]
  },
  {
   "cell_type": "code",
   "execution_count": 16,
   "id": "32fafddc-805a-4c0b-bb59-5c666024e3b4",
   "metadata": {
    "id": "32fafddc-805a-4c0b-bb59-5c666024e3b4",
    "outputId": "bfea5ce6-9b1c-4042-b630-1c9e11e8abb5"
   },
   "outputs": [
    {
     "name": "stdout",
     "output_type": "stream",
     "text": [
      "가위\n"
     ]
    }
   ],
   "source": [
    "def _show(_a): ## 시점6\n",
    "    print(_a.actions)\n",
    "_show(_a)"
   ]
  },
  {
   "cell_type": "markdown",
   "id": "5f464d9f-8dd8-4edd-a4af-538fc8da6484",
   "metadata": {
    "id": "5f464d9f-8dd8-4edd-a4af-538fc8da6484"
   },
   "source": [
    "`-` 또 다른 인스턴스 b를 만들자. b는 가위만 낼 수 있다. "
   ]
  },
  {
   "cell_type": "code",
   "execution_count": 17,
   "id": "dcb8f022-a329-401b-a007-1af5506724f7",
   "metadata": {
    "id": "dcb8f022-a329-401b-a007-1af5506724f7"
   },
   "outputs": [],
   "source": [
    "b=RPC(['가위'])"
   ]
  },
  {
   "cell_type": "code",
   "execution_count": 18,
   "id": "14a09544-ed36-4bd2-8b52-219ae63c357f",
   "metadata": {
    "id": "14a09544-ed36-4bd2-8b52-219ae63c357f",
    "outputId": "0905770a-dc68-4a43-f9ad-1949371242b1"
   },
   "outputs": [
    {
     "data": {
      "text/plain": [
       "['가위']"
      ]
     },
     "execution_count": 18,
     "metadata": {},
     "output_type": "execute_result"
    }
   ],
   "source": [
    "b.candidate"
   ]
  },
  {
   "cell_type": "code",
   "execution_count": 19,
   "id": "e95fd404-9b39-48b8-9702-b826580fe2c7",
   "metadata": {
    "id": "e95fd404-9b39-48b8-9702-b826580fe2c7",
    "outputId": "da1c72b7-0e84-4835-bc6d-694dd1913874"
   },
   "outputs": [
    {
     "name": "stdout",
     "output_type": "stream",
     "text": [
      "가위\n"
     ]
    }
   ],
   "source": [
    "b.choose()\n",
    "b.show()"
   ]
  },
  {
   "cell_type": "markdown",
   "id": "f9db90ca-0f73-4ba1-950a-abbd7bd6b1ab",
   "metadata": {
    "id": "f9db90ca-0f73-4ba1-950a-abbd7bd6b1ab"
   },
   "source": [
    "`-` a,b의 선택들을 모아서 기록을 하고 싶다. "
   ]
  },
  {
   "cell_type": "code",
   "execution_count": 20,
   "id": "3b891854-81af-4a21-8edb-6d6f621a4730",
   "metadata": {
    "id": "3b891854-81af-4a21-8edb-6d6f621a4730"
   },
   "outputs": [],
   "source": [
    "class RPC:\n",
    "    def __init__(self,candidate=['가위','바위','보']):\n",
    "        self.candidate = candidate\n",
    "        self.actions = list() \n",
    "    def choose(self):\n",
    "        self.actions.append(np.random.choice(self.candidate))\n",
    "    def show(self):\n",
    "        print(self.actions[-1])"
   ]
  },
  {
   "cell_type": "code",
   "execution_count": 21,
   "id": "ca9e6461-b03d-4300-9d6f-c27443b49902",
   "metadata": {
    "id": "ca9e6461-b03d-4300-9d6f-c27443b49902"
   },
   "outputs": [],
   "source": [
    "a=RPC()\n",
    "b=RPC(['가위'])"
   ]
  },
  {
   "cell_type": "code",
   "execution_count": 22,
   "id": "adbefee7-9c06-4cb0-846e-3efc969671d7",
   "metadata": {
    "id": "adbefee7-9c06-4cb0-846e-3efc969671d7",
    "outputId": "e82c4f69-29f9-4b61-9227-503c078e2b8c"
   },
   "outputs": [
    {
     "name": "stdout",
     "output_type": "stream",
     "text": [
      "바위\n",
      "가위\n",
      "가위\n",
      "가위\n",
      "보\n"
     ]
    }
   ],
   "source": [
    "for i in range(5):\n",
    "    a.choose()\n",
    "    a.show()"
   ]
  },
  {
   "cell_type": "code",
   "execution_count": 23,
   "id": "38fc21db-0245-4ee9-9943-03dc6c29a033",
   "metadata": {
    "id": "38fc21db-0245-4ee9-9943-03dc6c29a033",
    "outputId": "6e078758-9400-4233-946e-435e4ce6b430"
   },
   "outputs": [
    {
     "data": {
      "text/plain": [
       "['바위', '가위', '가위', '가위', '보']"
      ]
     },
     "execution_count": 23,
     "metadata": {},
     "output_type": "execute_result"
    }
   ],
   "source": [
    "a.actions"
   ]
  },
  {
   "cell_type": "code",
   "execution_count": 24,
   "id": "313082bb-7f14-4498-8439-3296644e391c",
   "metadata": {
    "id": "313082bb-7f14-4498-8439-3296644e391c",
    "outputId": "0443598b-d787-4e39-868e-34ffaac844fb"
   },
   "outputs": [
    {
     "name": "stdout",
     "output_type": "stream",
     "text": [
      "가위\n",
      "가위\n",
      "가위\n",
      "가위\n",
      "가위\n"
     ]
    }
   ],
   "source": [
    "for i in range(5):\n",
    "    b.choose()\n",
    "    b.show()"
   ]
  },
  {
   "cell_type": "code",
   "execution_count": 25,
   "id": "547bf452-225d-47a1-9410-314d344ba2c7",
   "metadata": {
    "id": "547bf452-225d-47a1-9410-314d344ba2c7",
    "outputId": "2f7e4ae2-0155-4442-be12-d1bea6f8c5a3"
   },
   "outputs": [
    {
     "data": {
      "text/plain": [
       "['가위', '가위', '가위', '가위', '가위']"
      ]
     },
     "execution_count": 25,
     "metadata": {},
     "output_type": "execute_result"
    }
   ],
   "source": [
    "b.actions"
   ]
  },
  {
   "cell_type": "markdown",
   "id": "f4881c6f-a631-412a-bdce-00a58669e8a3",
   "metadata": {
    "id": "f4881c6f-a631-412a-bdce-00a58669e8a3"
   },
   "source": [
    "`-` info라는 함수를 만들어서 a,b 오브젝트가 가지고 있는 정보를 모두 보도록 하자. "
   ]
  },
  {
   "cell_type": "markdown",
   "id": "c2c2f666-5b53-44a5-89f0-c26b04e1f8ef",
   "metadata": {
    "id": "c2c2f666-5b53-44a5-89f0-c26b04e1f8ef"
   },
   "source": [
    "(예비학습) 문자열 `\\n`이 포함된다면?"
   ]
  },
  {
   "cell_type": "code",
   "execution_count": 26,
   "id": "94f60cd5-a497-46f7-97cc-4dc38f859da4",
   "metadata": {
    "id": "94f60cd5-a497-46f7-97cc-4dc38f859da4",
    "outputId": "4d60c1c5-44c6-4b8f-d06e-fecd6bec8724"
   },
   "outputs": [
    {
     "data": {
      "text/plain": [
       "'asdf\\n1234'"
      ]
     },
     "execution_count": 26,
     "metadata": {},
     "output_type": "execute_result"
    }
   ],
   "source": [
    "'asdf\\n1234'"
   ]
  },
  {
   "cell_type": "code",
   "execution_count": 27,
   "id": "a2e365d2-a37c-4a72-813a-ab5628e733fe",
   "metadata": {
    "id": "a2e365d2-a37c-4a72-813a-ab5628e733fe",
    "outputId": "911e739c-9325-42a7-fb6b-9170bc14ab50"
   },
   "outputs": [
    {
     "name": "stdout",
     "output_type": "stream",
     "text": [
      "asdf\n",
      "1234\n"
     ]
    }
   ],
   "source": [
    "print('asdf\\n1234')"
   ]
  },
  {
   "cell_type": "markdown",
   "id": "a975efcc-7156-435a-baa4-e34f82a3ecc8",
   "metadata": {
    "id": "a975efcc-7156-435a-baa4-e34f82a3ecc8"
   },
   "source": [
    "예비학습 끝"
   ]
  },
  {
   "cell_type": "code",
   "execution_count": 28,
   "id": "28d87b79-ecf0-4e58-beb0-4b0c19dc4a43",
   "metadata": {
    "id": "28d87b79-ecf0-4e58-beb0-4b0c19dc4a43"
   },
   "outputs": [],
   "source": [
    "class RPC: \n",
    "    def __init__(self,candidate=['가위','바위','보']):\n",
    "        self.candidate = candidate\n",
    "        self.actions = list() \n",
    "    def choose(self):\n",
    "        self.actions.append(np.random.choice(self.candidate))\n",
    "    def show(self):\n",
    "        print(self.actions[-1])\n",
    "    def info(self):\n",
    "        print(\"낼 수 있는 패: {}\\n기록: {}\".format(self.candidate,self.actions))"
   ]
  },
  {
   "cell_type": "code",
   "execution_count": 29,
   "id": "4e2d801d-bb58-411e-8f7f-077b3a9a2318",
   "metadata": {
    "id": "4e2d801d-bb58-411e-8f7f-077b3a9a2318"
   },
   "outputs": [],
   "source": [
    "a=RPC()\n",
    "b=RPC(['가위'])"
   ]
  },
  {
   "cell_type": "code",
   "execution_count": 30,
   "id": "379bf1d7-b401-47f0-8300-8ab577c4812f",
   "metadata": {
    "id": "379bf1d7-b401-47f0-8300-8ab577c4812f",
    "outputId": "d4f4c4ee-9fed-4df2-88f5-4ca138bc5349"
   },
   "outputs": [
    {
     "name": "stdout",
     "output_type": "stream",
     "text": [
      "가위\n",
      "바위\n",
      "바위\n",
      "보\n",
      "보\n"
     ]
    }
   ],
   "source": [
    "for i in range(5):\n",
    "    a.choose()\n",
    "    a.show()    "
   ]
  },
  {
   "cell_type": "code",
   "execution_count": 31,
   "id": "3234d721-e37e-4d2c-adf9-d1a0b15f0ef6",
   "metadata": {
    "id": "3234d721-e37e-4d2c-adf9-d1a0b15f0ef6",
    "outputId": "5c5ef9ba-4730-4078-f907-828ea4925320"
   },
   "outputs": [
    {
     "name": "stdout",
     "output_type": "stream",
     "text": [
      "가위\n",
      "가위\n",
      "가위\n",
      "가위\n",
      "가위\n"
     ]
    }
   ],
   "source": [
    "for i in range(5):\n",
    "    b.choose()\n",
    "    b.show()"
   ]
  },
  {
   "cell_type": "code",
   "execution_count": 32,
   "id": "d996add0-7f9a-4b7c-a301-d629ec61f8d1",
   "metadata": {
    "id": "d996add0-7f9a-4b7c-a301-d629ec61f8d1",
    "outputId": "461bf173-4e3a-4bb3-c6ce-dfa64d335d7d"
   },
   "outputs": [
    {
     "name": "stdout",
     "output_type": "stream",
     "text": [
      "낼 수 있는 패: ['가위', '바위', '보']\n",
      "기록: ['가위', '바위', '바위', '보', '보']\n"
     ]
    }
   ],
   "source": [
    "a.info()"
   ]
  },
  {
   "cell_type": "code",
   "execution_count": 33,
   "id": "9356118f-5e8c-4c59-afcf-80a6c431a82f",
   "metadata": {
    "id": "9356118f-5e8c-4c59-afcf-80a6c431a82f",
    "outputId": "0c39ece1-3a75-4654-98ba-68030fe5bee5"
   },
   "outputs": [
    {
     "name": "stdout",
     "output_type": "stream",
     "text": [
      "낼 수 있는 패: ['가위']\n",
      "기록: ['가위', '가위', '가위', '가위', '가위']\n"
     ]
    }
   ],
   "source": [
    "b.info()"
   ]
  },
  {
   "cell_type": "markdown",
   "id": "6a2337af-c7a7-45c2-b282-964c800b5794",
   "metadata": {
    "id": "6a2337af-c7a7-45c2-b282-964c800b5794"
   },
   "source": [
    "`-` 만들고보니까 info와 print의 기능이 거의 비슷함 $\\to$ print(a)를 하면 a.info()와 동일한 효과를 내도록 만들 수 있을까? "
   ]
  },
  {
   "cell_type": "markdown",
   "id": "ac4b78a7-7345-4e6d-a6ba-3d19c6f67e03",
   "metadata": {
    "id": "ac4b78a7-7345-4e6d-a6ba-3d19c6f67e03"
   },
   "source": [
    "`-` 말도 안되는 소리같다. 왜? \n",
    "- 이유1: print는 파이썬 내장기능, 내장기능을 우리가 맘대로 커스터마이징해서 쓰기는 어려울 것 같다. \n",
    "- 이유2: 이유1이 해결된다고 쳐도 문제다. 그럼 지금까지 우리가 사용했던 수 많은 print()의 결과는 어떻게 되는가? "
   ]
  },
  {
   "cell_type": "markdown",
   "id": "9e6b3443-8f01-439a-8e08-b89363355f42",
   "metadata": {
    "id": "9e6b3443-8f01-439a-8e08-b89363355f42"
   },
   "source": [
    "`-` 그런데 a의 자료형(RPC자료형)에 해당하는 오브젝트들에 한정하여 print를 수정하는 방법이 가능하다면? (그럼 다른 오브젝트들은 수정된 print에 영향을 받지 않음)"
   ]
  },
  {
   "cell_type": "markdown",
   "id": "eea530e6-c0bd-4ead-a287-5177e3fd6a14",
   "metadata": {
    "id": "eea530e6-c0bd-4ead-a287-5177e3fd6a14"
   },
   "source": [
    "### `__str__`"
   ]
  },
  {
   "cell_type": "markdown",
   "id": "9801bfa9-8ffe-424a-a936-2f5e430c382e",
   "metadata": {
    "id": "9801bfa9-8ffe-424a-a936-2f5e430c382e"
   },
   "source": [
    "`-` 관찰1: 현재 print(a)의 결과는 아래와 같다. "
   ]
  },
  {
   "cell_type": "code",
   "execution_count": 34,
   "id": "426a151c-f996-488b-8112-36e8394e405d",
   "metadata": {
    "id": "426a151c-f996-488b-8112-36e8394e405d",
    "outputId": "b4942864-e7ca-42d5-9ced-1dea3ce8fff0"
   },
   "outputs": [
    {
     "name": "stdout",
     "output_type": "stream",
     "text": [
      "<__main__.RPC object at 0x7fe0b1160d90>\n"
     ]
    }
   ],
   "source": [
    "print(a)"
   ]
  },
  {
   "cell_type": "markdown",
   "id": "eb3837d4-a6c2-4028-9d0e-6cb05a00549e",
   "metadata": {
    "id": "eb3837d4-a6c2-4028-9d0e-6cb05a00549e"
   },
   "source": [
    "- a는 RPC클래스에서 만든 오브젝트이며 a가 저장된 메모리 주소는 0x7fef32fef8b0라는 의미"
   ]
  },
  {
   "cell_type": "markdown",
   "id": "a2b80530-f77b-4a23-940f-30a1686c61d8",
   "metadata": {
    "id": "a2b80530-f77b-4a23-940f-30a1686c61d8"
   },
   "source": [
    "`-` 관찰2: a에는 `__str__`이 있다. "
   ]
  },
  {
   "cell_type": "code",
   "execution_count": 35,
   "id": "f62e5487-c8e0-4008-8b36-e3efa5ca050c",
   "metadata": {
    "id": "f62e5487-c8e0-4008-8b36-e3efa5ca050c",
    "outputId": "12e16301-1f15-4986-8572-ec10e5746d99"
   },
   "outputs": [
    {
     "data": {
      "text/plain": [
       "{'__str__'}"
      ]
     },
     "execution_count": 35,
     "metadata": {},
     "output_type": "execute_result"
    }
   ],
   "source": [
    "set(dir(a)) & {'__str__'}"
   ]
  },
  {
   "cell_type": "markdown",
   "id": "071d86ff-5766-4507-abcc-121f460589bf",
   "metadata": {
    "id": "071d86ff-5766-4507-abcc-121f460589bf"
   },
   "source": [
    "이것을 함수처럼 사용하니까 아래와 같이 된다. "
   ]
  },
  {
   "cell_type": "code",
   "execution_count": 37,
   "id": "5bbbef6e-2678-41c0-8020-0d1dbf507558",
   "metadata": {
    "id": "5bbbef6e-2678-41c0-8020-0d1dbf507558",
    "outputId": "0af13be7-4e1b-44db-e917-575517806db4"
   },
   "outputs": [
    {
     "data": {
      "text/plain": [
       "'<__main__.RPC object at 0x7fe0b1160d90>'"
      ]
     },
     "execution_count": 37,
     "metadata": {},
     "output_type": "execute_result"
    }
   ],
   "source": [
    "a.__str__()"
   ]
  },
  {
   "cell_type": "markdown",
   "id": "556e7929-d190-4399-aad8-b90acde4a23a",
   "metadata": {
    "id": "556e7929-d190-4399-aad8-b90acde4a23a"
   },
   "source": [
    "?? print(a)를 해서 나오는 문자열이 리턴된다.. "
   ]
  },
  {
   "cell_type": "code",
   "execution_count": 38,
   "id": "6863033a-e727-460a-9744-b8206a885df2",
   "metadata": {
    "id": "6863033a-e727-460a-9744-b8206a885df2",
    "outputId": "3158bf97-c8db-45a5-da78-d78344975871"
   },
   "outputs": [
    {
     "name": "stdout",
     "output_type": "stream",
     "text": [
      "<__main__.RPC object at 0x7fe0b1160d90>\n"
     ]
    }
   ],
   "source": [
    "print(a.__str__()) # 이거 print(a)를 실행한 결과와 같다?"
   ]
  },
  {
   "cell_type": "markdown",
   "id": "16a60ffc-e183-4c8a-8f5f-a7e5b07dbe49",
   "metadata": {
    "id": "16a60ffc-e183-4c8a-8f5f-a7e5b07dbe49"
   },
   "source": [
    "`-` 생각: 만약에 내가 `a.__str__()`라는 함수를 재정의하여 리턴값을 'guebin hahaha'로 바꾸게 되면 print(a)해서 나오는 결과는 어떻게 될까? (약간 해커같죠)"
   ]
  },
  {
   "cell_type": "markdown",
   "id": "8d3bb4b3-7d5e-46da-8578-6f348a084117",
   "metadata": {
    "id": "8d3bb4b3-7d5e-46da-8578-6f348a084117"
   },
   "source": [
    "(예비학습) 함수덮어씌우기"
   ]
  },
  {
   "cell_type": "code",
   "execution_count": 39,
   "id": "b92a20f5-1867-4d2f-9b1b-9ff1dedcac8d",
   "metadata": {
    "id": "b92a20f5-1867-4d2f-9b1b-9ff1dedcac8d"
   },
   "outputs": [],
   "source": [
    "def f():\n",
    "    print('asdf')"
   ]
  },
  {
   "cell_type": "code",
   "execution_count": 40,
   "id": "c31b52f1-c9b7-4515-9092-90d5f8d64a4f",
   "metadata": {
    "id": "c31b52f1-c9b7-4515-9092-90d5f8d64a4f",
    "outputId": "bca4bbcb-b4ee-41dd-91a3-59e4c6ffeb42"
   },
   "outputs": [
    {
     "name": "stdout",
     "output_type": "stream",
     "text": [
      "asdf\n"
     ]
    }
   ],
   "source": [
    "f()"
   ]
  },
  {
   "cell_type": "code",
   "execution_count": 41,
   "id": "acd19ebd-a3e7-4a71-a1fd-ab4cf3610e54",
   "metadata": {
    "id": "acd19ebd-a3e7-4a71-a1fd-ab4cf3610e54"
   },
   "outputs": [],
   "source": [
    "def f():\n",
    "    print('guebin hahaha')"
   ]
  },
  {
   "cell_type": "code",
   "execution_count": 42,
   "id": "d5f46285-56da-45f4-8c9a-020883aa0ac2",
   "metadata": {
    "id": "d5f46285-56da-45f4-8c9a-020883aa0ac2",
    "outputId": "092bbbe7-8037-4706-bd6b-04782ecc8124"
   },
   "outputs": [
    {
     "name": "stdout",
     "output_type": "stream",
     "text": [
      "guebin hahaha\n"
     ]
    }
   ],
   "source": [
    "f()"
   ]
  },
  {
   "cell_type": "markdown",
   "id": "abe0e1c8-dbc2-415e-b966-f5c5d11a0b46",
   "metadata": {
    "id": "abe0e1c8-dbc2-415e-b966-f5c5d11a0b46"
   },
   "source": [
    "이런식으로 함수가 이미 정의되어 있더라도, 내가 나중에 덮어씌우면 그 함수의 기능을 다시 정의한다. "
   ]
  },
  {
   "cell_type": "markdown",
   "id": "92598d67-c4d2-4b93-89df-a878623fc314",
   "metadata": {
    "id": "92598d67-c4d2-4b93-89df-a878623fc314"
   },
   "source": [
    "(해킹시작)"
   ]
  },
  {
   "cell_type": "code",
   "execution_count": 48,
   "id": "fa98d2b0-5a97-4d71-b943-c5e81ddeb930",
   "metadata": {
    "id": "fa98d2b0-5a97-4d71-b943-c5e81ddeb930"
   },
   "outputs": [],
   "source": [
    "class RPC: \n",
    "    def __init__(self,candidate=['가위','바위','보']):\n",
    "        self.candidate = candidate\n",
    "        self.actions = list() \n",
    "    def choose(self):\n",
    "        self.actions.append(np.random.choice(self.candidate))\n",
    "    def show(self):\n",
    "        print(self.actions[-1])\n",
    "    def __str__(self):\n",
    "        return 'guebin hahaha'\n",
    "    def info(self):\n",
    "        print(\"낼 수 있는 패: {}\\n기록: {}\".format(self.candidate,self.actions))"
   ]
  },
  {
   "cell_type": "code",
   "execution_count": 49,
   "id": "5cc38d1b-d9dc-4b70-915b-cca73a817bf6",
   "metadata": {
    "id": "5cc38d1b-d9dc-4b70-915b-cca73a817bf6"
   },
   "outputs": [],
   "source": [
    "a=RPC()"
   ]
  },
  {
   "cell_type": "code",
   "execution_count": 50,
   "id": "ed055ff8-23a5-40a2-87f0-4b6d085a3828",
   "metadata": {
    "id": "ed055ff8-23a5-40a2-87f0-4b6d085a3828",
    "outputId": "1781fea2-dae5-40b5-e019-a0d370deaa00"
   },
   "outputs": [
    {
     "name": "stdout",
     "output_type": "stream",
     "text": [
      "guebin hahaha\n"
     ]
    }
   ],
   "source": [
    "print(a)"
   ]
  },
  {
   "cell_type": "code",
   "execution_count": 51,
   "id": "ab474b67-7ae5-487b-b37c-bf6270666295",
   "metadata": {
    "id": "ab474b67-7ae5-487b-b37c-bf6270666295",
    "outputId": "e614e905-7bf8-49c7-c652-34a2dd2d5e38"
   },
   "outputs": [
    {
     "name": "stdout",
     "output_type": "stream",
     "text": [
      "guebin hahaha\n"
     ]
    }
   ],
   "source": [
    "print(a.__str__())"
   ]
  },
  {
   "cell_type": "markdown",
   "id": "15874a2c-d33f-431f-af80-c08336f5e932",
   "metadata": {
    "id": "15874a2c-d33f-431f-af80-c08336f5e932"
   },
   "source": [
    "`-` `__str__`의 리턴값을 info에서 타이핑했던 문자열로 재정의한다면? "
   ]
  },
  {
   "cell_type": "code",
   "execution_count": 52,
   "id": "dca15743-0574-426e-bbde-827a34d8e8cd",
   "metadata": {
    "id": "dca15743-0574-426e-bbde-827a34d8e8cd"
   },
   "outputs": [],
   "source": [
    "class RPC: \n",
    "    def __init__(self,candidate=['가위','바위','보']):\n",
    "        self.candidate = candidate\n",
    "        self.actions = list() \n",
    "    def choose(self):\n",
    "        self.actions.append(np.random.choice(self.candidate))\n",
    "    def show(self):\n",
    "        print(self.actions[-1])\n",
    "    def __str__(self):\n",
    "        return \"낼 수 있는 패: {}\\n기록: {}\".format(self.candidate,self.actions)"
   ]
  },
  {
   "cell_type": "code",
   "execution_count": 53,
   "id": "f999975d-d5e2-4e6b-85d8-7ca29fc41f6c",
   "metadata": {
    "id": "f999975d-d5e2-4e6b-85d8-7ca29fc41f6c"
   },
   "outputs": [],
   "source": [
    "a=RPC()"
   ]
  },
  {
   "cell_type": "code",
   "execution_count": 54,
   "id": "0298dc8b-07cc-46b2-a64c-673e7398ecb1",
   "metadata": {
    "id": "0298dc8b-07cc-46b2-a64c-673e7398ecb1",
    "outputId": "d1c55421-439e-4876-94a9-9e8829f5f281"
   },
   "outputs": [
    {
     "name": "stdout",
     "output_type": "stream",
     "text": [
      "낼 수 있는 패: ['가위', '바위', '보']\n",
      "기록: []\n"
     ]
    }
   ],
   "source": [
    "print(a)"
   ]
  },
  {
   "cell_type": "code",
   "execution_count": 55,
   "id": "861189ae-4eb9-4739-9114-dd46c78b4a77",
   "metadata": {
    "id": "861189ae-4eb9-4739-9114-dd46c78b4a77",
    "outputId": "41ffcf8e-40c9-4b82-bc16-76f0c824d3dd"
   },
   "outputs": [
    {
     "name": "stdout",
     "output_type": "stream",
     "text": [
      "바위\n"
     ]
    }
   ],
   "source": [
    "a.choose()\n",
    "a.show()"
   ]
  },
  {
   "cell_type": "code",
   "execution_count": 56,
   "id": "70bb9b57-31e7-4278-afa8-86791549b42a",
   "metadata": {
    "id": "70bb9b57-31e7-4278-afa8-86791549b42a",
    "outputId": "59e7f460-33c1-4c40-9ec6-4e2dc5f50a75"
   },
   "outputs": [
    {
     "name": "stdout",
     "output_type": "stream",
     "text": [
      "낼 수 있는 패: ['가위', '바위', '보']\n",
      "기록: ['바위']\n"
     ]
    }
   ],
   "source": [
    "print(a)"
   ]
  },
  {
   "cell_type": "markdown",
   "id": "85f8594a-3370-48b4-8f5f-6b5837d3790a",
   "metadata": {
    "id": "85f8594a-3370-48b4-8f5f-6b5837d3790a"
   },
   "source": [
    "### 파이썬의 비밀2"
   ]
  },
  {
   "cell_type": "markdown",
   "id": "ff0665bc-2558-44c8-9082-53c068170c4d",
   "metadata": {
    "id": "ff0665bc-2558-44c8-9082-53c068170c4d"
   },
   "source": [
    "`-` `print(a)`와 `print(a.__str__())`는 같은 문법이다. "
   ]
  },
  {
   "cell_type": "markdown",
   "id": "1efe8a6c-6433-41fd-800b-41e5f36c59fd",
   "metadata": {
    "id": "1efe8a6c-6433-41fd-800b-41e5f36c59fd"
   },
   "source": [
    "`-` 참고로 `a.__str__()`와 `str(a)`도 같은 문법이다. "
   ]
  },
  {
   "cell_type": "code",
   "execution_count": 57,
   "id": "4a773778-6814-49b7-a663-10745345bb06",
   "metadata": {
    "id": "4a773778-6814-49b7-a663-10745345bb06",
    "outputId": "3324ab38-7999-4a75-d759-7781bc97dd2e"
   },
   "outputs": [
    {
     "data": {
      "text/plain": [
       "\"낼 수 있는 패: ['가위', '바위', '보']\\n기록: ['바위']\""
      ]
     },
     "execution_count": 57,
     "metadata": {},
     "output_type": "execute_result"
    }
   ],
   "source": [
    "a.__str__()"
   ]
  },
  {
   "cell_type": "code",
   "execution_count": 58,
   "id": "b7b6ab09-571c-4dd7-b54d-0c52febaad70",
   "metadata": {
    "id": "b7b6ab09-571c-4dd7-b54d-0c52febaad70",
    "outputId": "ec6b3774-0a72-4771-88a7-2690e373bec2"
   },
   "outputs": [
    {
     "data": {
      "text/plain": [
       "\"낼 수 있는 패: ['가위', '바위', '보']\\n기록: ['바위']\""
      ]
     },
     "execution_count": 58,
     "metadata": {},
     "output_type": "execute_result"
    }
   ],
   "source": [
    "str(a)"
   ]
  },
  {
   "cell_type": "markdown",
   "id": "98965999-57db-4325-9d1d-9a9f52172ecf",
   "metadata": {
    "id": "98965999-57db-4325-9d1d-9a9f52172ecf"
   },
   "source": [
    "`-` 지금까지 우리가 썼던 기능들 확인!"
   ]
  },
  {
   "cell_type": "markdown",
   "id": "4adb175d-1a2b-40af-aaba-82276e546339",
   "metadata": {
    "id": "4adb175d-1a2b-40af-aaba-82276e546339"
   },
   "source": [
    "(예제1)"
   ]
  },
  {
   "cell_type": "code",
   "execution_count": 59,
   "id": "09479b1a-3acd-4941-9cbd-71696a6c575d",
   "metadata": {
    "id": "09479b1a-3acd-4941-9cbd-71696a6c575d"
   },
   "outputs": [],
   "source": [
    "a=[1,2,3]"
   ]
  },
  {
   "cell_type": "code",
   "execution_count": 60,
   "id": "9a65e349-d644-442f-add2-1bd7ae109ae3",
   "metadata": {
    "id": "9a65e349-d644-442f-add2-1bd7ae109ae3",
    "outputId": "8c70d838-c0b2-4b94-b44a-b6a746e21782"
   },
   "outputs": [
    {
     "name": "stdout",
     "output_type": "stream",
     "text": [
      "[1, 2, 3]\n"
     ]
    }
   ],
   "source": [
    "print(a)"
   ]
  },
  {
   "cell_type": "code",
   "execution_count": 61,
   "id": "bfbb45b2-da32-4357-bd1e-b87e74997dc8",
   "metadata": {
    "id": "bfbb45b2-da32-4357-bd1e-b87e74997dc8",
    "outputId": "cb1f5450-b721-4990-95bd-8a8510299a2f"
   },
   "outputs": [
    {
     "data": {
      "text/plain": [
       "'[1, 2, 3]'"
      ]
     },
     "execution_count": 61,
     "metadata": {},
     "output_type": "execute_result"
    }
   ],
   "source": [
    "a.__str__()"
   ]
  },
  {
   "cell_type": "code",
   "execution_count": 62,
   "id": "fd5fd0a5-326c-4f06-80e5-9300ffe22f87",
   "metadata": {
    "id": "fd5fd0a5-326c-4f06-80e5-9300ffe22f87",
    "outputId": "a33890bd-80ac-4d67-a2c0-98691c46827f"
   },
   "outputs": [
    {
     "data": {
      "text/plain": [
       "'[1, 2, 3]'"
      ]
     },
     "execution_count": 62,
     "metadata": {},
     "output_type": "execute_result"
    }
   ],
   "source": [
    "str(a)"
   ]
  },
  {
   "cell_type": "markdown",
   "id": "7f7fbd6e-0b36-4cee-adbf-9fb638ab9321",
   "metadata": {
    "id": "7f7fbd6e-0b36-4cee-adbf-9fb638ab9321"
   },
   "source": [
    "(예제2)"
   ]
  },
  {
   "cell_type": "code",
   "execution_count": 63,
   "id": "288f9aa1-6f40-460c-9448-a4ac08751bf7",
   "metadata": {
    "id": "288f9aa1-6f40-460c-9448-a4ac08751bf7",
    "outputId": "cbf148ce-d4b9-4eea-fa4e-e8b4a6ffc0ef"
   },
   "outputs": [
    {
     "name": "stdout",
     "output_type": "stream",
     "text": [
      "{1, 2, 3}\n"
     ]
    }
   ],
   "source": [
    "a={1,2,3}\n",
    "print(a)"
   ]
  },
  {
   "cell_type": "code",
   "execution_count": 64,
   "id": "15ac99ae-14d9-4323-b30b-879972f00d54",
   "metadata": {
    "id": "15ac99ae-14d9-4323-b30b-879972f00d54",
    "outputId": "1d4be44a-c06f-49d7-8e34-8b42e8923a68"
   },
   "outputs": [
    {
     "data": {
      "text/plain": [
       "'{1, 2, 3}'"
      ]
     },
     "execution_count": 64,
     "metadata": {},
     "output_type": "execute_result"
    }
   ],
   "source": [
    "a.__str__()"
   ]
  },
  {
   "cell_type": "code",
   "execution_count": 65,
   "id": "127a4135-326d-44b9-8b21-f44b7a362122",
   "metadata": {
    "id": "127a4135-326d-44b9-8b21-f44b7a362122",
    "outputId": "fc769e6e-44f3-4f68-b88b-6120ffb18ca1"
   },
   "outputs": [
    {
     "data": {
      "text/plain": [
       "'{1, 2, 3}'"
      ]
     },
     "execution_count": 65,
     "metadata": {},
     "output_type": "execute_result"
    }
   ],
   "source": [
    "str(a)"
   ]
  },
  {
   "cell_type": "markdown",
   "id": "79ee97bd-0b6b-4f1e-b77b-bf4ce1ad71ac",
   "metadata": {
    "id": "79ee97bd-0b6b-4f1e-b77b-bf4ce1ad71ac"
   },
   "source": [
    "(예제3)"
   ]
  },
  {
   "cell_type": "code",
   "execution_count": 76,
   "id": "84a6555d-ec40-4cbf-a94c-6095055a6789",
   "metadata": {
    "id": "84a6555d-ec40-4cbf-a94c-6095055a6789",
    "outputId": "be1bd8a5-0f66-40b3-ab0c-3ece4ce6ea10"
   },
   "outputs": [
    {
     "data": {
      "text/plain": [
       "()"
      ]
     },
     "execution_count": 76,
     "metadata": {},
     "output_type": "execute_result"
    }
   ],
   "source": [
    "a=np.array(1)\n",
    "a.shape"
   ]
  },
  {
   "cell_type": "code",
   "execution_count": 77,
   "id": "c3aa22fb-dcb8-40e1-9755-23a4f40d638e",
   "metadata": {
    "id": "c3aa22fb-dcb8-40e1-9755-23a4f40d638e",
    "outputId": "6be0b1ef-4a35-4264-8f96-ee0236a5832e"
   },
   "outputs": [
    {
     "name": "stdout",
     "output_type": "stream",
     "text": [
      "()\n"
     ]
    }
   ],
   "source": [
    "print(a.shape)"
   ]
  },
  {
   "cell_type": "code",
   "execution_count": 78,
   "id": "5ca86282-605e-48be-9c3b-5b9c6a4bc24c",
   "metadata": {
    "id": "5ca86282-605e-48be-9c3b-5b9c6a4bc24c",
    "outputId": "35e48433-e9a2-4ec8-a3fb-842c65159f53"
   },
   "outputs": [
    {
     "data": {
      "text/plain": [
       "'()'"
      ]
     },
     "execution_count": 78,
     "metadata": {},
     "output_type": "execute_result"
    }
   ],
   "source": [
    "a.shape.__str__()"
   ]
  },
  {
   "cell_type": "code",
   "execution_count": 79,
   "id": "681b0503-6cac-46b1-8cd4-430656c83bb9",
   "metadata": {
    "id": "681b0503-6cac-46b1-8cd4-430656c83bb9",
    "outputId": "a522e23c-e134-43e6-ff80-38e7266c58b6"
   },
   "outputs": [
    {
     "data": {
      "text/plain": [
       "'()'"
      ]
     },
     "execution_count": 79,
     "metadata": {},
     "output_type": "execute_result"
    }
   ],
   "source": [
    "str(a.shape)"
   ]
  },
  {
   "cell_type": "markdown",
   "id": "0787f4be-3bd4-48ff-ae8a-f7be37103b11",
   "metadata": {
    "id": "0787f4be-3bd4-48ff-ae8a-f7be37103b11"
   },
   "source": [
    "(예제4)"
   ]
  },
  {
   "cell_type": "code",
   "execution_count": 80,
   "id": "e6192fd3-fee5-4572-a259-eb5065f5a751",
   "metadata": {
    "id": "e6192fd3-fee5-4572-a259-eb5065f5a751",
    "outputId": "12ea586f-6125-411a-9594-049ca9906b67"
   },
   "outputs": [
    {
     "name": "stdout",
     "output_type": "stream",
     "text": [
      "range(0, 10)\n"
     ]
    }
   ],
   "source": [
    "a=range(10) \n",
    "print(a)"
   ]
  },
  {
   "cell_type": "code",
   "execution_count": 81,
   "id": "8d530992-0a9e-4629-a27d-e2d873d21ce0",
   "metadata": {
    "id": "8d530992-0a9e-4629-a27d-e2d873d21ce0",
    "outputId": "b43e566a-eea8-40e3-c66f-d0da779f5f62"
   },
   "outputs": [
    {
     "data": {
      "text/plain": [
       "'range(0, 10)'"
      ]
     },
     "execution_count": 81,
     "metadata": {},
     "output_type": "execute_result"
    }
   ],
   "source": [
    "a.__str__()"
   ]
  },
  {
   "cell_type": "code",
   "execution_count": 82,
   "id": "464d261f-22fb-468b-bdbf-df1bed047364",
   "metadata": {
    "id": "464d261f-22fb-468b-bdbf-df1bed047364",
    "outputId": "ce91c937-54a8-48b4-dfe1-b5edbba6eee2"
   },
   "outputs": [
    {
     "data": {
      "text/plain": [
       "'range(0, 10)'"
      ]
     },
     "execution_count": 82,
     "metadata": {},
     "output_type": "execute_result"
    }
   ],
   "source": [
    "str(a)"
   ]
  },
  {
   "cell_type": "markdown",
   "id": "65aee2dd-85eb-4e9b-9c1d-33d296540aa1",
   "metadata": {
    "id": "65aee2dd-85eb-4e9b-9c1d-33d296540aa1"
   },
   "source": [
    "(예제5)"
   ]
  },
  {
   "cell_type": "code",
   "execution_count": 83,
   "id": "ecc96019-4be7-46cb-a09f-030f063c2d94",
   "metadata": {
    "id": "ecc96019-4be7-46cb-a09f-030f063c2d94",
    "outputId": "bed0304a-0bb8-416b-cdd3-29b3ee2abd19"
   },
   "outputs": [
    {
     "name": "stdout",
     "output_type": "stream",
     "text": [
      "[[ 0  1  2  3  4  5  6  7  8  9]\n",
      " [10 11 12 13 14 15 16 17 18 19]\n",
      " [20 21 22 23 24 25 26 27 28 29]\n",
      " [30 31 32 33 34 35 36 37 38 39]\n",
      " [40 41 42 43 44 45 46 47 48 49]\n",
      " [50 51 52 53 54 55 56 57 58 59]\n",
      " [60 61 62 63 64 65 66 67 68 69]\n",
      " [70 71 72 73 74 75 76 77 78 79]\n",
      " [80 81 82 83 84 85 86 87 88 89]\n",
      " [90 91 92 93 94 95 96 97 98 99]]\n"
     ]
    }
   ],
   "source": [
    "a = np.arange(100).reshape(10,10)\n",
    "print(a)"
   ]
  },
  {
   "cell_type": "code",
   "execution_count": 84,
   "id": "a21bb91a-eaa9-4242-81e7-0014eeed307b",
   "metadata": {
    "id": "a21bb91a-eaa9-4242-81e7-0014eeed307b",
    "outputId": "438f648c-112f-40c0-c650-c0f671b55291"
   },
   "outputs": [
    {
     "data": {
      "text/plain": [
       "'[[ 0  1  2  3  4  5  6  7  8  9]\\n [10 11 12 13 14 15 16 17 18 19]\\n [20 21 22 23 24 25 26 27 28 29]\\n [30 31 32 33 34 35 36 37 38 39]\\n [40 41 42 43 44 45 46 47 48 49]\\n [50 51 52 53 54 55 56 57 58 59]\\n [60 61 62 63 64 65 66 67 68 69]\\n [70 71 72 73 74 75 76 77 78 79]\\n [80 81 82 83 84 85 86 87 88 89]\\n [90 91 92 93 94 95 96 97 98 99]]'"
      ]
     },
     "execution_count": 84,
     "metadata": {},
     "output_type": "execute_result"
    }
   ],
   "source": [
    "a.__str__()"
   ]
  },
  {
   "cell_type": "code",
   "execution_count": 85,
   "id": "9f9993e6-c123-4a3d-8d3a-f17f17f4aac3",
   "metadata": {
    "id": "9f9993e6-c123-4a3d-8d3a-f17f17f4aac3",
    "outputId": "5b800bd0-e6cc-42c9-dc6a-b35b8767c44a"
   },
   "outputs": [
    {
     "data": {
      "text/plain": [
       "'[[ 0  1  2  3  4  5  6  7  8  9]\\n [10 11 12 13 14 15 16 17 18 19]\\n [20 21 22 23 24 25 26 27 28 29]\\n [30 31 32 33 34 35 36 37 38 39]\\n [40 41 42 43 44 45 46 47 48 49]\\n [50 51 52 53 54 55 56 57 58 59]\\n [60 61 62 63 64 65 66 67 68 69]\\n [70 71 72 73 74 75 76 77 78 79]\\n [80 81 82 83 84 85 86 87 88 89]\\n [90 91 92 93 94 95 96 97 98 99]]'"
      ]
     },
     "execution_count": 85,
     "metadata": {},
     "output_type": "execute_result"
    }
   ],
   "source": [
    "str(a)"
   ]
  },
  {
   "cell_type": "markdown",
   "id": "b924513d-697f-4893-9f64-d4778f20191a",
   "metadata": {
    "id": "b924513d-697f-4893-9f64-d4778f20191a"
   },
   "source": [
    "### `__repr__`"
   ]
  },
  {
   "cell_type": "markdown",
   "id": "dfc1dc66-46a7-49bc-b36e-45689296dc64",
   "metadata": {
    "id": "dfc1dc66-46a7-49bc-b36e-45689296dc64"
   },
   "source": [
    "`-` 생각해보니까 print를 해서 우리가 원하는 정보를 확인하는건 아니었음 "
   ]
  },
  {
   "cell_type": "code",
   "execution_count": 86,
   "id": "aa0eac9f-d4f4-401c-af8c-1df7367a6339",
   "metadata": {
    "id": "aa0eac9f-d4f4-401c-af8c-1df7367a6339"
   },
   "outputs": [],
   "source": [
    "a=[1,2,3]"
   ]
  },
  {
   "cell_type": "code",
   "execution_count": 87,
   "id": "699af803-0337-473d-96bf-40290809432b",
   "metadata": {
    "id": "699af803-0337-473d-96bf-40290809432b",
    "outputId": "711b1158-b210-45eb-d0a7-3fb5efcf2750"
   },
   "outputs": [
    {
     "data": {
      "text/plain": [
       "[1, 2, 3]"
      ]
     },
     "execution_count": 87,
     "metadata": {},
     "output_type": "execute_result"
    }
   ],
   "source": [
    "a"
   ]
  },
  {
   "cell_type": "code",
   "execution_count": 88,
   "id": "7fb3ec8d-77d8-4565-a00f-410416612ff1",
   "metadata": {
    "id": "7fb3ec8d-77d8-4565-a00f-410416612ff1",
    "outputId": "2be5dbc5-655d-4b8a-bc4f-29fcfd30d18b"
   },
   "outputs": [
    {
     "name": "stdout",
     "output_type": "stream",
     "text": [
      "[1, 2, 3]\n"
     ]
    }
   ],
   "source": [
    "print(a) "
   ]
  },
  {
   "cell_type": "markdown",
   "id": "05b0d35a-00fe-42e3-986b-f88b205613ad",
   "metadata": {
    "id": "05b0d35a-00fe-42e3-986b-f88b205613ad"
   },
   "source": [
    "`-` `a + 엔터`는 `print(a) + 엔터`와 같은효과인가? "
   ]
  },
  {
   "cell_type": "markdown",
   "id": "0b259da3-1beb-47aa-8201-63d854e12fb1",
   "metadata": {
    "id": "0b259da3-1beb-47aa-8201-63d854e12fb1"
   },
   "source": [
    "(반례)"
   ]
  },
  {
   "cell_type": "code",
   "execution_count": 89,
   "id": "7708cb84-1794-424d-9a02-01e27da9f629",
   "metadata": {
    "id": "7708cb84-1794-424d-9a02-01e27da9f629"
   },
   "outputs": [],
   "source": [
    "a=np.array([1,2,3,4]).reshape(2,2)"
   ]
  },
  {
   "cell_type": "code",
   "execution_count": 90,
   "id": "78ba0692-ebb6-4b3a-8d2c-c7fe4c2b9a82",
   "metadata": {
    "id": "78ba0692-ebb6-4b3a-8d2c-c7fe4c2b9a82",
    "outputId": "5ea5c183-8880-40e0-8963-2041ea0c3f92"
   },
   "outputs": [
    {
     "data": {
      "text/plain": [
       "array([[1, 2],\n",
       "       [3, 4]])"
      ]
     },
     "execution_count": 90,
     "metadata": {},
     "output_type": "execute_result"
    }
   ],
   "source": [
    "a"
   ]
  },
  {
   "cell_type": "code",
   "execution_count": 91,
   "id": "e4d12aa9-10a5-4ac7-a6c3-f56692b73b3a",
   "metadata": {
    "id": "e4d12aa9-10a5-4ac7-a6c3-f56692b73b3a",
    "outputId": "f6e7bb01-d8b9-4fc8-a78c-1e5adab0320c"
   },
   "outputs": [
    {
     "name": "stdout",
     "output_type": "stream",
     "text": [
      "[[1 2]\n",
      " [3 4]]\n"
     ]
    }
   ],
   "source": [
    "print(a)"
   ]
  },
  {
   "cell_type": "markdown",
   "id": "7cc70eed-8b4d-4323-ae3e-d0abdc237865",
   "metadata": {
    "id": "7cc70eed-8b4d-4323-ae3e-d0abdc237865"
   },
   "source": [
    "`-` `a + 엔터`는 `print(a) + 엔터`가 다른 경우도 있다. $\\to$ 추측: 서로 다른 숨겨진 기능이 있다! $\\to$ 결론: 추측이 맞다. 그 기능은 `__repr__`에 저장되어있음. "
   ]
  },
  {
   "cell_type": "code",
   "execution_count": 92,
   "id": "3d4a08ab-240d-4a1a-b45d-a33f3aa67097",
   "metadata": {
    "id": "3d4a08ab-240d-4a1a-b45d-a33f3aa67097"
   },
   "outputs": [],
   "source": [
    "class RPC: \n",
    "    def __init__(self,candidate=['가위','바위','보']):\n",
    "        self.candidate = candidate\n",
    "        self.actions = list() \n",
    "    def choose(self):\n",
    "        self.actions.append(np.random.choice(self.candidate))\n",
    "    def show(self):\n",
    "        print(self.actions[-1])\n",
    "    def __repr__(self):\n",
    "        return \"낼 수 있는 패: {}\\n기록: {}\".format(self.candidate,self.actions)"
   ]
  },
  {
   "cell_type": "code",
   "execution_count": 93,
   "id": "6277f323-d91f-482c-9916-f19d1f12dbe6",
   "metadata": {
    "id": "6277f323-d91f-482c-9916-f19d1f12dbe6"
   },
   "outputs": [],
   "source": [
    "a=RPC()"
   ]
  },
  {
   "cell_type": "code",
   "execution_count": 94,
   "id": "f7410839-09b7-40c6-ad5a-38ab20c0b099",
   "metadata": {
    "id": "f7410839-09b7-40c6-ad5a-38ab20c0b099",
    "outputId": "c95d1d39-a5e9-4c1d-ee3b-36ca52a550a6"
   },
   "outputs": [
    {
     "data": {
      "text/plain": [
       "낼 수 있는 패: ['가위', '바위', '보']\n",
       "기록: []"
      ]
     },
     "execution_count": 94,
     "metadata": {},
     "output_type": "execute_result"
    }
   ],
   "source": [
    "a # print(a.__repr__())"
   ]
  },
  {
   "cell_type": "markdown",
   "id": "20dc847c-e628-42ce-9d81-b113b7121152",
   "metadata": {
    "id": "20dc847c-e628-42ce-9d81-b113b7121152"
   },
   "source": [
    "`-` 그럼 우리가 지금까지 했던것은?"
   ]
  },
  {
   "cell_type": "code",
   "execution_count": 95,
   "id": "2bb0d79f-fef9-421e-bc5d-9c7756e9bffb",
   "metadata": {
    "id": "2bb0d79f-fef9-421e-bc5d-9c7756e9bffb"
   },
   "outputs": [],
   "source": [
    "a = np.array([1,2,3])"
   ]
  },
  {
   "cell_type": "code",
   "execution_count": 96,
   "id": "1f678e9a-75e1-47d8-ac73-1d7cba46cb89",
   "metadata": {
    "id": "1f678e9a-75e1-47d8-ac73-1d7cba46cb89",
    "outputId": "1f623080-b122-4fea-e0e0-cc2e44ad5c78"
   },
   "outputs": [
    {
     "data": {
      "text/plain": [
       "array([1, 2, 3])"
      ]
     },
     "execution_count": 96,
     "metadata": {},
     "output_type": "execute_result"
    }
   ],
   "source": [
    "a"
   ]
  },
  {
   "cell_type": "code",
   "execution_count": 97,
   "id": "67cf65b4-828f-4103-bb7f-53b3b445dfec",
   "metadata": {
    "id": "67cf65b4-828f-4103-bb7f-53b3b445dfec",
    "outputId": "7b81f31b-68ed-4e08-8f17-3c24678fbd87"
   },
   "outputs": [
    {
     "name": "stdout",
     "output_type": "stream",
     "text": [
      "[1 2 3]\n"
     ]
    }
   ],
   "source": [
    "print(a)"
   ]
  },
  {
   "cell_type": "code",
   "execution_count": 98,
   "id": "e55ed163-2b0a-4147-a4e7-cbe67635ddc3",
   "metadata": {
    "id": "e55ed163-2b0a-4147-a4e7-cbe67635ddc3",
    "outputId": "251a2283-9975-4b47-b5ea-48c97cf0202c"
   },
   "outputs": [
    {
     "data": {
      "text/plain": [
       "'array([1, 2, 3])'"
      ]
     },
     "execution_count": 98,
     "metadata": {},
     "output_type": "execute_result"
    }
   ],
   "source": [
    "a.__repr__()"
   ]
  },
  {
   "cell_type": "code",
   "execution_count": 99,
   "id": "b9228031-1079-4629-b037-2cd1baeb8aa4",
   "metadata": {
    "id": "b9228031-1079-4629-b037-2cd1baeb8aa4",
    "outputId": "bb8dd942-2303-42a4-8ae2-f1e8ef2e12a5"
   },
   "outputs": [
    {
     "data": {
      "text/plain": [
       "'[1 2 3]'"
      ]
     },
     "execution_count": 99,
     "metadata": {},
     "output_type": "execute_result"
    }
   ],
   "source": [
    "a.__str__()"
   ]
  },
  {
   "cell_type": "markdown",
   "id": "34fe0e73-2dac-4c33-a702-3bc5de08e0bf",
   "metadata": {
    "id": "34fe0e73-2dac-4c33-a702-3bc5de08e0bf"
   },
   "source": [
    "### 파이썬의 비밀3"
   ]
  },
  {
   "cell_type": "markdown",
   "id": "e5c6d8de-9576-4f15-be2b-199db0f7f585",
   "metadata": {
    "id": "e5c6d8de-9576-4f15-be2b-199db0f7f585"
   },
   "source": [
    "`-` 대화형콘솔에서 `오브젝트이름+엔터`를 쳐서 나오는 출력은 `__repr__`의 결과와 연관있다. "
   ]
  },
  {
   "cell_type": "code",
   "execution_count": 100,
   "id": "f220910e-6a46-4055-91a1-0443db77d703",
   "metadata": {
    "id": "f220910e-6a46-4055-91a1-0443db77d703",
    "outputId": "88284d84-a0b7-42b3-97dc-8eb2d494d418"
   },
   "outputs": [
    {
     "data": {
      "text/plain": [
       "array([[   0,    1,    2, ...,   97,   98,   99],\n",
       "       [ 100,  101,  102, ...,  197,  198,  199],\n",
       "       [ 200,  201,  202, ...,  297,  298,  299],\n",
       "       ...,\n",
       "       [9700, 9701, 9702, ..., 9797, 9798, 9799],\n",
       "       [9800, 9801, 9802, ..., 9897, 9898, 9899],\n",
       "       [9900, 9901, 9902, ..., 9997, 9998, 9999]])"
      ]
     },
     "execution_count": 100,
     "metadata": {},
     "output_type": "execute_result"
    }
   ],
   "source": [
    "a = np.array(range(10000)).reshape(100,100)\n",
    "a"
   ]
  },
  {
   "cell_type": "code",
   "execution_count": 104,
   "id": "7d84ba3b-6792-4640-81d5-dac0edd90866",
   "metadata": {},
   "outputs": [
    {
     "name": "stdout",
     "output_type": "stream",
     "text": [
      "[[   0    1    2 ...   97   98   99]\n",
      " [ 100  101  102 ...  197  198  199]\n",
      " [ 200  201  202 ...  297  298  299]\n",
      " ...\n",
      " [9700 9701 9702 ... 9797 9798 9799]\n",
      " [9800 9801 9802 ... 9897 9898 9899]\n",
      " [9900 9901 9902 ... 9997 9998 9999]]\n"
     ]
    }
   ],
   "source": [
    "print(a)"
   ]
  },
  {
   "cell_type": "code",
   "execution_count": 101,
   "id": "56f4236c-3091-4506-a30b-9a2af6267dbd",
   "metadata": {
    "id": "56f4236c-3091-4506-a30b-9a2af6267dbd",
    "outputId": "8e4af568-6aef-42aa-9730-d26e3eaf609c"
   },
   "outputs": [
    {
     "data": {
      "text/plain": [
       "'array([[   0,    1,    2, ...,   97,   98,   99],\\n       [ 100,  101,  102, ...,  197,  198,  199],\\n       [ 200,  201,  202, ...,  297,  298,  299],\\n       ...,\\n       [9700, 9701, 9702, ..., 9797, 9798, 9799],\\n       [9800, 9801, 9802, ..., 9897, 9898, 9899],\\n       [9900, 9901, 9902, ..., 9997, 9998, 9999]])'"
      ]
     },
     "execution_count": 101,
     "metadata": {},
     "output_type": "execute_result"
    }
   ],
   "source": [
    "a.__repr__()"
   ]
  },
  {
   "cell_type": "markdown",
   "id": "eb754296-9e98-4c56-a88e-7ab4ef93b65e",
   "metadata": {
    "id": "eb754296-9e98-4c56-a88e-7ab4ef93b65e"
   },
   "source": [
    "`-` 참고로 `a.__repr__()`은 `repr(a)`와 같다. "
   ]
  },
  {
   "cell_type": "markdown",
   "id": "ca9996bf-3a56-4cd4-87d1-54b5df2f7589",
   "metadata": {},
   "source": [
    "representation"
   ]
  },
  {
   "cell_type": "code",
   "execution_count": 102,
   "id": "83e9c573-3ffe-455a-9008-e359e917235b",
   "metadata": {
    "id": "83e9c573-3ffe-455a-9008-e359e917235b",
    "outputId": "01cf061b-1787-4585-a403-de1aab6e8674"
   },
   "outputs": [
    {
     "data": {
      "text/plain": [
       "'array([[   0,    1,    2, ...,   97,   98,   99],\\n       [ 100,  101,  102, ...,  197,  198,  199],\\n       [ 200,  201,  202, ...,  297,  298,  299],\\n       ...,\\n       [9700, 9701, 9702, ..., 9797, 9798, 9799],\\n       [9800, 9801, 9802, ..., 9897, 9898, 9899],\\n       [9900, 9901, 9902, ..., 9997, 9998, 9999]])'"
      ]
     },
     "execution_count": 102,
     "metadata": {},
     "output_type": "execute_result"
    }
   ],
   "source": [
    "repr(a)"
   ]
  },
  {
   "cell_type": "markdown",
   "id": "b853109d-8a34-47eb-bebc-aa676c9a9951",
   "metadata": {
    "id": "b853109d-8a34-47eb-bebc-aa676c9a9951"
   },
   "source": [
    "### 주피터노트북의 비밀 (`_repr_html_`)"
   ]
  },
  {
   "cell_type": "markdown",
   "id": "59436e66-9bc9-4ff9-85a0-e90caf052e9a",
   "metadata": {
    "id": "59436e66-9bc9-4ff9-85a0-e90caf052e9a"
   },
   "source": [
    "`-` 요즘에는 IDE의 발전에 따라서 `오브젝트이름+엔터`칠떄 나오는 출력의 형태도 다양해지고 있음 "
   ]
  },
  {
   "cell_type": "markdown",
   "id": "7ba5a6f6-96fd-4dc8-81f0-bb59e3ad7fdc",
   "metadata": {},
   "source": [
    "통합 개발 환경(Integrated Development Environment, IDE)이란 공통된 개발자 툴을 하나의 그래픽 사용자 인터페이스(Graphical User Interface, GUI)로 결합하는 애플리케이션을 구축하기 위한 소프트웨어입니다"
   ]
  },
  {
   "cell_type": "code",
   "execution_count": 105,
   "id": "57353a34-2102-485f-94b9-02691e0b7a45",
   "metadata": {
    "id": "57353a34-2102-485f-94b9-02691e0b7a45"
   },
   "outputs": [],
   "source": [
    "import pandas as pd "
   ]
  },
  {
   "cell_type": "code",
   "execution_count": 106,
   "id": "12c1791e-17d5-430f-b500-1730f2dd207f",
   "metadata": {
    "id": "12c1791e-17d5-430f-b500-1730f2dd207f"
   },
   "outputs": [],
   "source": [
    "df = pd.DataFrame({'a':[1,2,3],'b':[2,3,4]})"
   ]
  },
  {
   "cell_type": "code",
   "execution_count": 107,
   "id": "3695bd31-6440-438b-8dd2-2082a0383d74",
   "metadata": {
    "id": "3695bd31-6440-438b-8dd2-2082a0383d74",
    "outputId": "d2b7ff0c-4f16-40cf-d739-2953be51b7d4"
   },
   "outputs": [
    {
     "data": {
      "text/html": [
       "<div>\n",
       "<style scoped>\n",
       "    .dataframe tbody tr th:only-of-type {\n",
       "        vertical-align: middle;\n",
       "    }\n",
       "\n",
       "    .dataframe tbody tr th {\n",
       "        vertical-align: top;\n",
       "    }\n",
       "\n",
       "    .dataframe thead th {\n",
       "        text-align: right;\n",
       "    }\n",
       "</style>\n",
       "<table border=\"1\" class=\"dataframe\">\n",
       "  <thead>\n",
       "    <tr style=\"text-align: right;\">\n",
       "      <th></th>\n",
       "      <th>a</th>\n",
       "      <th>b</th>\n",
       "    </tr>\n",
       "  </thead>\n",
       "  <tbody>\n",
       "    <tr>\n",
       "      <th>0</th>\n",
       "      <td>1</td>\n",
       "      <td>2</td>\n",
       "    </tr>\n",
       "    <tr>\n",
       "      <th>1</th>\n",
       "      <td>2</td>\n",
       "      <td>3</td>\n",
       "    </tr>\n",
       "    <tr>\n",
       "      <th>2</th>\n",
       "      <td>3</td>\n",
       "      <td>4</td>\n",
       "    </tr>\n",
       "  </tbody>\n",
       "</table>\n",
       "</div>"
      ],
      "text/plain": [
       "   a  b\n",
       "0  1  2\n",
       "1  2  3\n",
       "2  3  4"
      ]
     },
     "execution_count": 107,
     "metadata": {},
     "output_type": "execute_result"
    }
   ],
   "source": [
    "df"
   ]
  },
  {
   "cell_type": "markdown",
   "id": "ccd06376-9ec9-4962-9fb7-48c3c286aad3",
   "metadata": {
    "id": "ccd06376-9ec9-4962-9fb7-48c3c286aad3"
   },
   "source": [
    "- 예쁘게나온다."
   ]
  },
  {
   "cell_type": "markdown",
   "id": "88997bd2-ff38-4ba2-87b2-5719f3633db0",
   "metadata": {
    "id": "88997bd2-ff38-4ba2-87b2-5719f3633db0"
   },
   "source": [
    "`-` 위의결과는 `print(df.__repr__())`의 결과와 조금 다르게 나온다?"
   ]
  },
  {
   "cell_type": "code",
   "execution_count": 108,
   "id": "a32f9cd5-b247-47b2-bc42-92f64283afe8",
   "metadata": {
    "id": "a32f9cd5-b247-47b2-bc42-92f64283afe8",
    "outputId": "e47aca1f-9cea-480f-a6c5-2f4fb56d5bec"
   },
   "outputs": [
    {
     "name": "stdout",
     "output_type": "stream",
     "text": [
      "   a  b\n",
      "0  1  2\n",
      "1  2  3\n",
      "2  3  4\n"
     ]
    }
   ],
   "source": [
    "print(df.__repr__())"
   ]
  },
  {
   "cell_type": "markdown",
   "id": "c34dff62-ce00-4b9a-93c3-bec4e25710ad",
   "metadata": {
    "id": "c34dff62-ce00-4b9a-93c3-bec4e25710ad"
   },
   "source": [
    "`-` `print(df.__repr__())`는 예전 검은화면에서 코딩할때가 나오는 출력임 \n",
    "\n",
    "```\n",
    "Python 3.10.2 | packaged by conda-forge | (main, Feb  1 2022, 19:28:35) [GCC 9.4.0] on linux\n",
    "Type \"help\", \"copyright\", \"credits\" or \"license\" for more information.\n",
    ">>> import pandas as pd \n",
    ">>> df = pd.DataFrame({'a':[1,2,3],'b':[2,3,4]})\n",
    ">>> df\n",
    "   a  b\n",
    "0  1  2\n",
    "1  2  3\n",
    "2  3  4\n",
    ">>> \n",
    "```"
   ]
  },
  {
   "cell_type": "markdown",
   "id": "94a7c9df-f79a-4472-8d5b-2d0c72792233",
   "metadata": {
    "id": "94a7c9df-f79a-4472-8d5b-2d0c72792233"
   },
   "source": [
    "`-` 주피터에서는? \"오브젝트이름+엔터\"치면 `HTML(df._repr_html_())`이 실행되고, `_repr_html_()`이 정의되어 있지 않으면 `print(df.__repr__())`이 실행된다. "
   ]
  },
  {
   "cell_type": "code",
   "execution_count": 109,
   "id": "624fac07-fcff-4828-9607-cb0c02020906",
   "metadata": {
    "id": "624fac07-fcff-4828-9607-cb0c02020906",
    "outputId": "87c03a21-6efe-4e21-b28a-63a484da98e5"
   },
   "outputs": [
    {
     "data": {
      "text/plain": [
       "'<div>\\n<style scoped>\\n    .dataframe tbody tr th:only-of-type {\\n        vertical-align: middle;\\n    }\\n\\n    .dataframe tbody tr th {\\n        vertical-align: top;\\n    }\\n\\n    .dataframe thead th {\\n        text-align: right;\\n    }\\n</style>\\n<table border=\"1\" class=\"dataframe\">\\n  <thead>\\n    <tr style=\"text-align: right;\">\\n      <th></th>\\n      <th>a</th>\\n      <th>b</th>\\n    </tr>\\n  </thead>\\n  <tbody>\\n    <tr>\\n      <th>0</th>\\n      <td>1</td>\\n      <td>2</td>\\n    </tr>\\n    <tr>\\n      <th>1</th>\\n      <td>2</td>\\n      <td>3</td>\\n    </tr>\\n    <tr>\\n      <th>2</th>\\n      <td>3</td>\\n      <td>4</td>\\n    </tr>\\n  </tbody>\\n</table>\\n</div>'"
      ]
     },
     "execution_count": 109,
     "metadata": {},
     "output_type": "execute_result"
    }
   ],
   "source": [
    "df._repr_html_()"
   ]
  },
  {
   "cell_type": "markdown",
   "id": "822659b3-08dc-475a-a988-2f9eb028e318",
   "metadata": {
    "id": "822659b3-08dc-475a-a988-2f9eb028e318"
   },
   "source": [
    "- html코드!"
   ]
  },
  {
   "cell_type": "code",
   "execution_count": 110,
   "id": "c5d9cff2-3a85-4900-9176-d68a5ed40332",
   "metadata": {
    "id": "c5d9cff2-3a85-4900-9176-d68a5ed40332"
   },
   "outputs": [],
   "source": [
    "from IPython.core.display import HTML"
   ]
  },
  {
   "cell_type": "code",
   "execution_count": 111,
   "id": "b5c500d6-06f3-49ac-bcea-7c38e42f9553",
   "metadata": {
    "id": "b5c500d6-06f3-49ac-bcea-7c38e42f9553",
    "outputId": "9b30e258-427e-4703-b0dd-ef16634bb1d7"
   },
   "outputs": [
    {
     "data": {
      "text/html": [
       "<div>\n",
       "<style scoped>\n",
       "    .dataframe tbody tr th:only-of-type {\n",
       "        vertical-align: middle;\n",
       "    }\n",
       "\n",
       "    .dataframe tbody tr th {\n",
       "        vertical-align: top;\n",
       "    }\n",
       "\n",
       "    .dataframe thead th {\n",
       "        text-align: right;\n",
       "    }\n",
       "</style>\n",
       "<table border=\"1\" class=\"dataframe\">\n",
       "  <thead>\n",
       "    <tr style=\"text-align: right;\">\n",
       "      <th></th>\n",
       "      <th>a</th>\n",
       "      <th>b</th>\n",
       "    </tr>\n",
       "  </thead>\n",
       "  <tbody>\n",
       "    <tr>\n",
       "      <th>0</th>\n",
       "      <td>1</td>\n",
       "      <td>2</td>\n",
       "    </tr>\n",
       "    <tr>\n",
       "      <th>1</th>\n",
       "      <td>2</td>\n",
       "      <td>3</td>\n",
       "    </tr>\n",
       "    <tr>\n",
       "      <th>2</th>\n",
       "      <td>3</td>\n",
       "      <td>4</td>\n",
       "    </tr>\n",
       "  </tbody>\n",
       "</table>\n",
       "</div>"
      ],
      "text/plain": [
       "<IPython.core.display.HTML object>"
      ]
     },
     "execution_count": 111,
     "metadata": {},
     "output_type": "execute_result"
    }
   ],
   "source": [
    "HTML(df._repr_html_())"
   ]
  },
  {
   "cell_type": "code",
   "execution_count": 125,
   "id": "d3c74d56-87f4-4206-84bc-7f8cc96059a4",
   "metadata": {},
   "outputs": [
    {
     "data": {
      "text/plain": [
       "{'_repr_html_'}"
      ]
     },
     "execution_count": 125,
     "metadata": {},
     "output_type": "execute_result"
    }
   ],
   "source": [
    "set(dir(df)) & {'_repr_html_'}"
   ]
  },
  {
   "cell_type": "markdown",
   "id": "02d888a9-6240-4b08-a9b1-e1eb0bc1060c",
   "metadata": {
    "id": "02d888a9-6240-4b08-a9b1-e1eb0bc1060c"
   },
   "source": [
    "`-` 물론 `df._repr_html_()`함수가 내부적으로 있어도 html이 지원되지 않는 환경이라면 `print(df.__repr__())`이 내부적으로 수행된다. "
   ]
  },
  {
   "cell_type": "markdown",
   "id": "d924ba3d-6ba9-47c2-b898-2af3d905172d",
   "metadata": {
    "id": "d924ba3d-6ba9-47c2-b898-2af3d905172d"
   },
   "source": [
    "### `__repr__`와 `__str__`의 우선적용 순위"
   ]
  },
  {
   "cell_type": "markdown",
   "id": "1a18551d-0966-4538-8e66-119a9e9a3299",
   "metadata": {
    "id": "1a18551d-0966-4538-8e66-119a9e9a3299"
   },
   "source": [
    "(예제1) "
   ]
  },
  {
   "cell_type": "markdown",
   "id": "6686f0bc-82be-42a2-9b07-ab45091f2a4b",
   "metadata": {
    "id": "6686f0bc-82be-42a2-9b07-ab45091f2a4b"
   },
   "source": [
    "`-` 아래의 예제를 관찰하자. "
   ]
  },
  {
   "cell_type": "code",
   "execution_count": 126,
   "id": "94a9578e-b8fa-413e-941c-7066a2b4b042",
   "metadata": {
    "id": "94a9578e-b8fa-413e-941c-7066a2b4b042"
   },
   "outputs": [],
   "source": [
    "class RPC: \n",
    "    def __init__(self,candidate=['가위','바위','보']):\n",
    "        self.candidate = candidate\n",
    "        self.actions = list() \n",
    "    def choose(self):\n",
    "        self.actions.append(np.random.choice(self.candidate))\n",
    "    def show(self):\n",
    "        print(self.actions[-1])\n",
    "    def __repr__(self):\n",
    "        return \"낼 수 있는 패: {}\\n기록: {}\".format(self.candidate,self.actions)"
   ]
  },
  {
   "cell_type": "code",
   "execution_count": 127,
   "id": "72a31521-60f7-48b9-aeab-51567064c212",
   "metadata": {
    "id": "72a31521-60f7-48b9-aeab-51567064c212",
    "outputId": "88fe1968-0ade-4749-8c9f-89166efc11a9"
   },
   "outputs": [
    {
     "data": {
      "text/plain": [
       "낼 수 있는 패: ['가위', '바위', '보']\n",
       "기록: []"
      ]
     },
     "execution_count": 127,
     "metadata": {},
     "output_type": "execute_result"
    }
   ],
   "source": [
    "a=RPC()\n",
    "a"
   ]
  },
  {
   "cell_type": "code",
   "execution_count": 128,
   "id": "8a2ca858-c1af-4236-abde-4d1b09265b4b",
   "metadata": {
    "id": "8a2ca858-c1af-4236-abde-4d1b09265b4b",
    "outputId": "4d0f5637-c08e-4a06-e153-c022462a469f"
   },
   "outputs": [
    {
     "data": {
      "text/plain": [
       "\"낼 수 있는 패: ['가위', '바위', '보']\\n기록: []\""
      ]
     },
     "execution_count": 128,
     "metadata": {},
     "output_type": "execute_result"
    }
   ],
   "source": [
    "a.__repr__()"
   ]
  },
  {
   "cell_type": "code",
   "execution_count": 129,
   "id": "c648fc7d-0fd9-42cf-9c61-af9d442db666",
   "metadata": {
    "id": "c648fc7d-0fd9-42cf-9c61-af9d442db666",
    "outputId": "6cc5ff8d-ee3d-434a-e487-cf824d1127b7"
   },
   "outputs": [
    {
     "data": {
      "text/plain": [
       "\"낼 수 있는 패: ['가위', '바위', '보']\\n기록: []\""
      ]
     },
     "execution_count": 129,
     "metadata": {},
     "output_type": "execute_result"
    }
   ],
   "source": [
    "repr(a)"
   ]
  },
  {
   "cell_type": "markdown",
   "id": "fb0493ee-37b7-46f1-a1ad-65d28cf366c6",
   "metadata": {
    "id": "fb0493ee-37b7-46f1-a1ad-65d28cf366c6"
   },
   "source": [
    "`-` 여기까지는 상식수준의 결과임. 이제 아래를 관찰하라. "
   ]
  },
  {
   "cell_type": "code",
   "execution_count": 130,
   "id": "6965817d-980d-4b1c-8011-942fadc04cbf",
   "metadata": {
    "id": "6965817d-980d-4b1c-8011-942fadc04cbf",
    "outputId": "d432b70c-5a08-4a86-f7dd-8036db693d30"
   },
   "outputs": [
    {
     "name": "stdout",
     "output_type": "stream",
     "text": [
      "낼 수 있는 패: ['가위', '바위', '보']\n",
      "기록: []\n"
     ]
    }
   ],
   "source": [
    "print(a) # print(a.__str__())"
   ]
  },
  {
   "cell_type": "code",
   "execution_count": 131,
   "id": "b0d96f4d-d578-43f0-b787-69ba28fc90f1",
   "metadata": {
    "id": "b0d96f4d-d578-43f0-b787-69ba28fc90f1",
    "outputId": "6c0989de-6863-4417-b930-46663f45a748"
   },
   "outputs": [
    {
     "data": {
      "text/plain": [
       "\"낼 수 있는 패: ['가위', '바위', '보']\\n기록: []\""
      ]
     },
     "execution_count": 131,
     "metadata": {},
     "output_type": "execute_result"
    }
   ],
   "source": [
    "a.__str__()"
   ]
  },
  {
   "cell_type": "code",
   "execution_count": 132,
   "id": "4604e6dc-ba75-4c6e-b511-f6e3c94e6e14",
   "metadata": {
    "id": "4604e6dc-ba75-4c6e-b511-f6e3c94e6e14",
    "outputId": "8d4ed7c6-40a9-440e-a125-8b3e0335ce5f"
   },
   "outputs": [
    {
     "data": {
      "text/plain": [
       "\"낼 수 있는 패: ['가위', '바위', '보']\\n기록: []\""
      ]
     },
     "execution_count": 132,
     "metadata": {},
     "output_type": "execute_result"
    }
   ],
   "source": [
    "str(a)"
   ]
  },
  {
   "cell_type": "markdown",
   "id": "497f6fd6-3e8d-42ea-87a2-0b9b9556fe33",
   "metadata": {
    "id": "497f6fd6-3e8d-42ea-87a2-0b9b9556fe33"
   },
   "source": [
    "- `__str__()`은 건드린적이 없는데? $\\to$ 건드린적은 없는데 기능이 바뀌어있음 "
   ]
  },
  {
   "cell_type": "code",
   "execution_count": 133,
   "id": "7b7bcfca-3711-4b6d-b890-9e775e9fe89e",
   "metadata": {
    "id": "7b7bcfca-3711-4b6d-b890-9e775e9fe89e",
    "outputId": "60caef26-137c-4c51-966b-dc29a83dfd98"
   },
   "outputs": [
    {
     "data": {
      "text/plain": [
       "\u001b[0;31mSignature:\u001b[0m      \u001b[0ma\u001b[0m\u001b[0;34m.\u001b[0m\u001b[0m__str__\u001b[0m\u001b[0;34m(\u001b[0m\u001b[0;34m)\u001b[0m\u001b[0;34m\u001b[0m\u001b[0;34m\u001b[0m\u001b[0m\n",
       "\u001b[0;31mCall signature:\u001b[0m \u001b[0ma\u001b[0m\u001b[0;34m.\u001b[0m\u001b[0m__str__\u001b[0m\u001b[0;34m(\u001b[0m\u001b[0;34m*\u001b[0m\u001b[0margs\u001b[0m\u001b[0;34m,\u001b[0m \u001b[0;34m**\u001b[0m\u001b[0mkwargs\u001b[0m\u001b[0;34m)\u001b[0m\u001b[0;34m\u001b[0m\u001b[0;34m\u001b[0m\u001b[0m\n",
       "\u001b[0;31mType:\u001b[0m           method-wrapper\n",
       "\u001b[0;31mString form:\u001b[0m    <method-wrapper '__str__' of RPC object at 0x7fe091e34df0>\n",
       "\u001b[0;31mDocstring:\u001b[0m      Return str(self).\n"
      ]
     },
     "metadata": {},
     "output_type": "display_data"
    }
   ],
   "source": [
    "a.__str__??"
   ]
  },
  {
   "cell_type": "code",
   "execution_count": 134,
   "id": "1660a5f9-265b-4a4c-a08d-f522dd50a923",
   "metadata": {
    "id": "1660a5f9-265b-4a4c-a08d-f522dd50a923",
    "outputId": "b4417404-36dc-4d0c-b480-7e4c9edb4f53"
   },
   "outputs": [
    {
     "data": {
      "text/plain": [
       "\u001b[0;31mSignature:\u001b[0m \u001b[0ma\u001b[0m\u001b[0;34m.\u001b[0m\u001b[0m__repr__\u001b[0m\u001b[0;34m(\u001b[0m\u001b[0;34m)\u001b[0m\u001b[0;34m\u001b[0m\u001b[0;34m\u001b[0m\u001b[0m\n",
       "\u001b[0;31mDocstring:\u001b[0m Return repr(self).\n",
       "\u001b[0;31mSource:\u001b[0m   \n",
       "    \u001b[0;32mdef\u001b[0m \u001b[0m__repr__\u001b[0m\u001b[0;34m(\u001b[0m\u001b[0mself\u001b[0m\u001b[0;34m)\u001b[0m\u001b[0;34m:\u001b[0m\u001b[0;34m\u001b[0m\n",
       "\u001b[0;34m\u001b[0m        \u001b[0;32mreturn\u001b[0m \u001b[0;34m\"낼 수 있는 패: {}\\n기록: {}\"\u001b[0m\u001b[0;34m.\u001b[0m\u001b[0mformat\u001b[0m\u001b[0;34m(\u001b[0m\u001b[0mself\u001b[0m\u001b[0;34m.\u001b[0m\u001b[0mcandidate\u001b[0m\u001b[0;34m,\u001b[0m\u001b[0mself\u001b[0m\u001b[0;34m.\u001b[0m\u001b[0mactions\u001b[0m\u001b[0;34m)\u001b[0m\u001b[0;34m\u001b[0m\u001b[0;34m\u001b[0m\u001b[0m\n",
       "\u001b[0;31mFile:\u001b[0m      /tmp/ipykernel_577026/1255092133.py\n",
       "\u001b[0;31mType:\u001b[0m      method\n"
      ]
     },
     "metadata": {},
     "output_type": "display_data"
    }
   ],
   "source": [
    "a.__repr__??"
   ]
  },
  {
   "cell_type": "markdown",
   "id": "c44c0427-a284-4a09-9117-97b953089e46",
   "metadata": {
    "id": "c44c0427-a284-4a09-9117-97b953089e46"
   },
   "source": [
    "(예제2)"
   ]
  },
  {
   "cell_type": "markdown",
   "id": "b0013789-eede-4bfe-8678-cf3cf8258412",
   "metadata": {
    "id": "b0013789-eede-4bfe-8678-cf3cf8258412"
   },
   "source": [
    "`-` 아래의 예제를 관찰하자."
   ]
  },
  {
   "cell_type": "code",
   "execution_count": 135,
   "id": "cbc933f6-945a-4a15-bcd1-3081997bd438",
   "metadata": {
    "id": "cbc933f6-945a-4a15-bcd1-3081997bd438"
   },
   "outputs": [],
   "source": [
    "class RPC: \n",
    "    def __init__(self,candidate=['가위','바위','보']):\n",
    "        self.candidate = candidate\n",
    "        self.actions = list() \n",
    "    def choose(self):\n",
    "        self.actions.append(np.random.choice(self.candidate))\n",
    "    def show(self):\n",
    "        print(self.actions[-1])\n",
    "    def __str__(self):\n",
    "        return \"낼 수 있는 패: {}\\n기록: {}\".format(self.candidate,self.actions)"
   ]
  },
  {
   "cell_type": "code",
   "execution_count": 136,
   "id": "011a9ac9-27be-4858-840b-c1a42b7537a5",
   "metadata": {
    "id": "011a9ac9-27be-4858-840b-c1a42b7537a5"
   },
   "outputs": [],
   "source": [
    "a=RPC()"
   ]
  },
  {
   "cell_type": "code",
   "execution_count": 137,
   "id": "94553af4-2bef-4f76-9d7a-6995e76e5015",
   "metadata": {
    "id": "94553af4-2bef-4f76-9d7a-6995e76e5015",
    "outputId": "6c410d88-340b-48d8-e961-ecbb113314ee"
   },
   "outputs": [
    {
     "name": "stdout",
     "output_type": "stream",
     "text": [
      "낼 수 있는 패: ['가위', '바위', '보']\n",
      "기록: []\n"
     ]
    }
   ],
   "source": [
    "print(a)"
   ]
  },
  {
   "cell_type": "code",
   "execution_count": 138,
   "id": "e946b91c-56e4-4fe8-b8a5-a529398b17a9",
   "metadata": {
    "id": "e946b91c-56e4-4fe8-b8a5-a529398b17a9",
    "outputId": "0af59175-37d4-47c6-fa06-214072f75fc8"
   },
   "outputs": [
    {
     "data": {
      "text/plain": [
       "<__main__.RPC at 0x7fe091deaeb0>"
      ]
     },
     "execution_count": 138,
     "metadata": {},
     "output_type": "execute_result"
    }
   ],
   "source": [
    "a"
   ]
  },
  {
   "cell_type": "code",
   "execution_count": 139,
   "id": "dd60031c-fc7c-4bae-ada2-404e42014613",
   "metadata": {
    "id": "dd60031c-fc7c-4bae-ada2-404e42014613",
    "outputId": "6e83d7bf-2c4a-4578-ad07-3f6981bef06f"
   },
   "outputs": [
    {
     "data": {
      "text/plain": [
       "\"낼 수 있는 패: ['가위', '바위', '보']\\n기록: []\""
      ]
     },
     "execution_count": 139,
     "metadata": {},
     "output_type": "execute_result"
    }
   ],
   "source": [
    "a.__str__()"
   ]
  },
  {
   "cell_type": "code",
   "execution_count": 140,
   "id": "4723ecf4-1eeb-43ca-9f2a-7e0bcd38d02e",
   "metadata": {
    "id": "4723ecf4-1eeb-43ca-9f2a-7e0bcd38d02e",
    "outputId": "34604447-f8a2-412d-8c1a-0e2758b4a1cc"
   },
   "outputs": [
    {
     "data": {
      "text/plain": [
       "'<__main__.RPC object at 0x7fe091deaeb0>'"
      ]
     },
     "execution_count": 140,
     "metadata": {},
     "output_type": "execute_result"
    }
   ],
   "source": [
    "a.__repr__()"
   ]
  },
  {
   "cell_type": "code",
   "execution_count": 141,
   "id": "307ab477-b4c2-40c7-bee5-7bdc86cbca9e",
   "metadata": {
    "id": "307ab477-b4c2-40c7-bee5-7bdc86cbca9e",
    "outputId": "cf1daa4d-4d24-48b2-d6ce-0af6074d83e2"
   },
   "outputs": [
    {
     "data": {
      "text/plain": [
       "\u001b[0;31mSignature:\u001b[0m \u001b[0ma\u001b[0m\u001b[0;34m.\u001b[0m\u001b[0m__str__\u001b[0m\u001b[0;34m(\u001b[0m\u001b[0;34m)\u001b[0m\u001b[0;34m\u001b[0m\u001b[0;34m\u001b[0m\u001b[0m\n",
       "\u001b[0;31mDocstring:\u001b[0m Return str(self).\n",
       "\u001b[0;31mSource:\u001b[0m   \n",
       "    \u001b[0;32mdef\u001b[0m \u001b[0m__str__\u001b[0m\u001b[0;34m(\u001b[0m\u001b[0mself\u001b[0m\u001b[0;34m)\u001b[0m\u001b[0;34m:\u001b[0m\u001b[0;34m\u001b[0m\n",
       "\u001b[0;34m\u001b[0m        \u001b[0;32mreturn\u001b[0m \u001b[0;34m\"낼 수 있는 패: {}\\n기록: {}\"\u001b[0m\u001b[0;34m.\u001b[0m\u001b[0mformat\u001b[0m\u001b[0;34m(\u001b[0m\u001b[0mself\u001b[0m\u001b[0;34m.\u001b[0m\u001b[0mcandidate\u001b[0m\u001b[0;34m,\u001b[0m\u001b[0mself\u001b[0m\u001b[0;34m.\u001b[0m\u001b[0mactions\u001b[0m\u001b[0;34m)\u001b[0m\u001b[0;34m\u001b[0m\u001b[0;34m\u001b[0m\u001b[0m\n",
       "\u001b[0;31mFile:\u001b[0m      /tmp/ipykernel_577026/2068707480.py\n",
       "\u001b[0;31mType:\u001b[0m      method\n"
      ]
     },
     "metadata": {},
     "output_type": "display_data"
    }
   ],
   "source": [
    "a.__str__??"
   ]
  },
  {
   "cell_type": "code",
   "execution_count": 142,
   "id": "edaaa177-b16c-4bd2-b530-313cef5d78bb",
   "metadata": {
    "id": "edaaa177-b16c-4bd2-b530-313cef5d78bb",
    "outputId": "cd96133a-1338-4871-c5ad-62efeb6b176b"
   },
   "outputs": [
    {
     "data": {
      "text/plain": [
       "\u001b[0;31mSignature:\u001b[0m      \u001b[0ma\u001b[0m\u001b[0;34m.\u001b[0m\u001b[0m__repr__\u001b[0m\u001b[0;34m(\u001b[0m\u001b[0;34m)\u001b[0m\u001b[0;34m\u001b[0m\u001b[0;34m\u001b[0m\u001b[0m\n",
       "\u001b[0;31mCall signature:\u001b[0m \u001b[0ma\u001b[0m\u001b[0;34m.\u001b[0m\u001b[0m__repr__\u001b[0m\u001b[0;34m(\u001b[0m\u001b[0;34m*\u001b[0m\u001b[0margs\u001b[0m\u001b[0;34m,\u001b[0m \u001b[0;34m**\u001b[0m\u001b[0mkwargs\u001b[0m\u001b[0;34m)\u001b[0m\u001b[0;34m\u001b[0m\u001b[0;34m\u001b[0m\u001b[0m\n",
       "\u001b[0;31mType:\u001b[0m           method-wrapper\n",
       "\u001b[0;31mString form:\u001b[0m    <method-wrapper '__repr__' of RPC object at 0x7fe091deaeb0>\n",
       "\u001b[0;31mDocstring:\u001b[0m      Return repr(self).\n"
      ]
     },
     "metadata": {},
     "output_type": "display_data"
    }
   ],
   "source": [
    "a.__repr__??"
   ]
  },
  {
   "cell_type": "markdown",
   "id": "9f9bc434-01ee-405c-b187-22e178ff1325",
   "metadata": {
    "id": "9f9bc434-01ee-405c-b187-22e178ff1325"
   },
   "source": [
    "(예제3)"
   ]
  },
  {
   "cell_type": "code",
   "execution_count": 143,
   "id": "180c7b07-dab1-4cf8-bd7d-552b28579ca0",
   "metadata": {
    "id": "180c7b07-dab1-4cf8-bd7d-552b28579ca0"
   },
   "outputs": [],
   "source": [
    "class RPC: \n",
    "    def __init__(self,candidate=['가위','바위','보']):\n",
    "        self.candidate = candidate\n",
    "        self.actions = list() \n",
    "    def choose(self):\n",
    "        self.actions.append(np.random.choice(self.candidate))\n",
    "    def show(self):\n",
    "        print(self.actions[-1])\n",
    "    def __repr__(self):\n",
    "        return \"guebin hahaha\"\n",
    "    def __str__(self):\n",
    "        return \"낼 수 있는 패: {}\\n기록: {}\".format(self.candidate,self.actions)"
   ]
  },
  {
   "cell_type": "code",
   "execution_count": 144,
   "id": "63de60cf-bbeb-445e-8438-1fc5e935599c",
   "metadata": {
    "id": "63de60cf-bbeb-445e-8438-1fc5e935599c"
   },
   "outputs": [],
   "source": [
    "a=RPC()"
   ]
  },
  {
   "cell_type": "code",
   "execution_count": 145,
   "id": "16a3a5dc-b1a1-4789-a479-77e7e6da4e4b",
   "metadata": {
    "id": "16a3a5dc-b1a1-4789-a479-77e7e6da4e4b",
    "outputId": "5975c4d1-9221-4d44-95ed-2ce6eb650dbc"
   },
   "outputs": [
    {
     "data": {
      "text/plain": [
       "guebin hahaha"
      ]
     },
     "execution_count": 145,
     "metadata": {},
     "output_type": "execute_result"
    }
   ],
   "source": [
    "a"
   ]
  },
  {
   "cell_type": "code",
   "execution_count": 146,
   "id": "6a8f48ea-1b6d-4a4d-8d79-a413aa59532a",
   "metadata": {
    "id": "6a8f48ea-1b6d-4a4d-8d79-a413aa59532a",
    "outputId": "d546789d-1bef-4eda-de9f-f61105236dc8"
   },
   "outputs": [
    {
     "name": "stdout",
     "output_type": "stream",
     "text": [
      "낼 수 있는 패: ['가위', '바위', '보']\n",
      "기록: []\n"
     ]
    }
   ],
   "source": [
    "print(a)"
   ]
  },
  {
   "cell_type": "markdown",
   "id": "7b90e488-57ba-4feb-934d-8ea1a0c3a9f8",
   "metadata": {
    "id": "7b90e488-57ba-4feb-934d-8ea1a0c3a9f8"
   },
   "source": [
    "`-` `__str__`와 `__repr__`을 건드리지 않고 출력결과를 바꾸고 싶다면? "
   ]
  },
  {
   "cell_type": "code",
   "execution_count": 147,
   "id": "dccdee21-15b7-4509-a204-cefc0a95b5e6",
   "metadata": {
    "id": "dccdee21-15b7-4509-a204-cefc0a95b5e6"
   },
   "outputs": [],
   "source": [
    "class RPC: \n",
    "    def __init__(self,candidate=['가위','바위','보']):\n",
    "        self.candidate = candidate\n",
    "        self.actions = list() \n",
    "    def choose(self):\n",
    "        self.actions.append(np.random.choice(self.candidate))\n",
    "    def show(self):\n",
    "        print(self.actions[-1])\n",
    "    def _repr_html_(self):\n",
    "        html_str = \"\"\"\n",
    "        낼 수 있는 패: {} <br/> \n",
    "        기록: {}\n",
    "        \"\"\"\n",
    "        return html_str.format(self.candidate,self.actions)"
   ]
  },
  {
   "cell_type": "code",
   "execution_count": 148,
   "id": "a577d2fd-911c-4484-85a8-b24d535f48ae",
   "metadata": {
    "id": "a577d2fd-911c-4484-85a8-b24d535f48ae"
   },
   "outputs": [],
   "source": [
    "a=RPC()"
   ]
  },
  {
   "cell_type": "code",
   "execution_count": 149,
   "id": "90bc8883-014d-40c9-a359-67cf1b8d0e1e",
   "metadata": {
    "id": "90bc8883-014d-40c9-a359-67cf1b8d0e1e",
    "outputId": "9925f505-fb79-44e7-ef99-98e5823a3da4"
   },
   "outputs": [
    {
     "data": {
      "text/plain": [
       "'<__main__.RPC object at 0x7fe091dea4f0>'"
      ]
     },
     "execution_count": 149,
     "metadata": {},
     "output_type": "execute_result"
    }
   ],
   "source": [
    "str(a)"
   ]
  },
  {
   "cell_type": "code",
   "execution_count": 150,
   "id": "094f8e46-9cf5-4a18-8550-a0191eca5551",
   "metadata": {
    "id": "094f8e46-9cf5-4a18-8550-a0191eca5551",
    "outputId": "565a6c9a-c209-4ccd-89bd-bab5d7871cbe"
   },
   "outputs": [
    {
     "data": {
      "text/plain": [
       "'<__main__.RPC object at 0x7fe091dea4f0>'"
      ]
     },
     "execution_count": 150,
     "metadata": {},
     "output_type": "execute_result"
    }
   ],
   "source": [
    "repr(a)"
   ]
  },
  {
   "cell_type": "code",
   "execution_count": 151,
   "id": "d3c3088a-05a3-46ac-bc90-328d1a6283b1",
   "metadata": {
    "id": "d3c3088a-05a3-46ac-bc90-328d1a6283b1",
    "outputId": "bff150ad-3ede-4911-f4e2-4efe5946c893"
   },
   "outputs": [
    {
     "data": {
      "text/html": [
       "\n",
       "        낼 수 있는 패: ['가위', '바위', '보'] <br/> \n",
       "        기록: []\n",
       "        "
      ],
      "text/plain": [
       "<__main__.RPC at 0x7fe091dea4f0>"
      ]
     },
     "execution_count": 151,
     "metadata": {},
     "output_type": "execute_result"
    }
   ],
   "source": [
    "a"
   ]
  },
  {
   "cell_type": "code",
   "execution_count": 152,
   "id": "8302677d-f821-49bf-b5c7-4b18254ce4ca",
   "metadata": {
    "id": "8302677d-f821-49bf-b5c7-4b18254ce4ca",
    "outputId": "e6c51b2b-847a-40ae-eee5-a3c9ffa889c4"
   },
   "outputs": [
    {
     "name": "stdout",
     "output_type": "stream",
     "text": [
      "가위\n",
      "보\n",
      "보\n",
      "가위\n",
      "가위\n"
     ]
    }
   ],
   "source": [
    "for i in range(5):\n",
    "    a.choose()\n",
    "    a.show()"
   ]
  },
  {
   "cell_type": "code",
   "execution_count": 153,
   "id": "7cb509b5-ab67-4be0-891d-017202b6d373",
   "metadata": {
    "id": "7cb509b5-ab67-4be0-891d-017202b6d373",
    "outputId": "d5c027cc-d666-4022-a6e5-33bc20ff825d"
   },
   "outputs": [
    {
     "data": {
      "text/html": [
       "\n",
       "        낼 수 있는 패: ['가위', '바위', '보'] <br/> \n",
       "        기록: ['가위', '보', '보', '가위', '가위']\n",
       "        "
      ],
      "text/plain": [
       "<__main__.RPC at 0x7fe091dea4f0>"
      ]
     },
     "execution_count": 153,
     "metadata": {},
     "output_type": "execute_result"
    }
   ],
   "source": [
    "a"
   ]
  },
  {
   "cell_type": "markdown",
   "id": "1f5e07f7-8515-4438-83c7-db93b5f91496",
   "metadata": {
    "id": "1f5e07f7-8515-4438-83c7-db93b5f91496"
   },
   "source": [
    "## 숙제"
   ]
  },
  {
   "cell_type": "markdown",
   "id": "2427f0d4-5481-4a0b-8f87-dbcf837f4c95",
   "metadata": {
    "id": "2427f0d4-5481-4a0b-8f87-dbcf837f4c95"
   },
   "source": [
    "아래의 클래스를 수정하여 \n",
    "```python\n",
    "class RPC: \n",
    "    def __init__(self,candidate=['가위','바위','보']):\n",
    "        self.candidate = candidate\n",
    "        self.actions = list() \n",
    "    def choose(self):\n",
    "        self.actions.append(np.random.choice(self.candidate))\n",
    "    def show(self):\n",
    "        print(self.actions[-1])\n",
    "    def _repr_html_(self):\n",
    "        html_str = \"\"\"\n",
    "        낼 수 있는 패: {} <br/> \n",
    "        기록: {}\n",
    "        \"\"\"\n",
    "        return html_str.format(self.candidate,self.actions)\n",
    "```\n",
    "클래스에서 생성된 인스턴스의 출력결과가 아래와 같도록 하라. \n",
    "\n",
    "```\n",
    "학번: 202143052 \n",
    "낼 수 있는 패: ['가위', '바위', '보']\n",
    "기록: ['가위', '가위', '보', '보', '바위']\n",
    "```\n",
    "\n",
    "\n"
   ]
  },
  {
   "cell_type": "code",
   "execution_count": 160,
   "id": "000ca921-90f2-4797-96b8-ba9a9713120f",
   "metadata": {},
   "outputs": [],
   "source": [
    "class RPC: \n",
    "    def __init__(self,candidate=['가위','바위','보']):\n",
    "        self.candidate = candidate\n",
    "        self.actions = list() \n",
    "    def choose(self):\n",
    "        self.actions.append(np.random.choice(self.candidate))\n",
    "    def show(self):\n",
    "        print(self.actions[-1])\n",
    "    def _repr_html_(self):\n",
    "        html_str = \"\"\"\n",
    "        학번: 202150754 <br/>\n",
    "        낼 수 있는 패: {} <br/> \n",
    "        기록: {}\n",
    "        \"\"\"\n",
    "        return html_str.format(self.candidate,self.actions)"
   ]
  },
  {
   "cell_type": "code",
   "execution_count": 161,
   "id": "a755916c-ad92-43fc-8cb9-80f1f4606a9d",
   "metadata": {},
   "outputs": [],
   "source": [
    "a=RPC()"
   ]
  },
  {
   "cell_type": "code",
   "execution_count": 162,
   "id": "ab3f9de5-eaae-46dc-bfa7-db48969ee502",
   "metadata": {},
   "outputs": [
    {
     "name": "stdout",
     "output_type": "stream",
     "text": [
      "바위\n",
      "보\n",
      "바위\n",
      "바위\n",
      "보\n"
     ]
    }
   ],
   "source": [
    "for i in range(5):\n",
    "    a.choose()\n",
    "    a.show()"
   ]
  },
  {
   "cell_type": "code",
   "execution_count": 163,
   "id": "f3272e70-fa41-406e-be0b-2175040bba02",
   "metadata": {},
   "outputs": [
    {
     "data": {
      "text/html": [
       "\n",
       "        학번: 202150754 <br/>\n",
       "        낼 수 있는 패: ['가위', '바위', '보'] <br/> \n",
       "        기록: ['바위', '보', '바위', '바위', '보']\n",
       "        "
      ],
      "text/plain": [
       "<__main__.RPC at 0x7fe091deac40>"
      ]
     },
     "execution_count": 163,
     "metadata": {},
     "output_type": "execute_result"
    }
   ],
   "source": [
    "a"
   ]
  },
  {
   "cell_type": "markdown",
   "id": "4a5ae76b-d802-4139-9209-97eb115a9d6a",
   "metadata": {
    "id": "2e046eea-514c-4039-8f0b-281f98a343d1"
   },
   "source": [
    "## 강의영상"
   ]
  },
  {
   "cell_type": "markdown",
   "id": "d4cbf166-9a22-4eb9-8537-95be2895541d",
   "metadata": {
    "id": "d5cdb9bb-1cd0-4d46-8099-0f59ea8df6dd"
   },
   "source": [
    "> youtube: https://youtube.com/playlist?list=PLQqh36zP38-xtwQxx2ib8xsD6p4GYy7yE"
   ]
  },
  {
   "cell_type": "markdown",
   "id": "4f3b8913-aafd-441a-8cf6-dacd873842a8",
   "metadata": {
    "id": "2c948a52-fd4b-4f74-809c-31e89e1fc931"
   },
   "source": [
    "`-` (1/4) `__add__` (1) \n",
    "\n",
    "`-` (2/4) `__add__` (2) \n",
    "\n",
    "`-` (3/4) `__add__` (3) \n",
    "\n",
    "`-` (4/4) `__mul__` "
   ]
  },
  {
   "cell_type": "markdown",
   "id": "d4494b6c-3dd1-4e2f-86cc-ea0f466c9438",
   "metadata": {
    "id": "94757db4-b208-4422-9ea2-39079b767153"
   },
   "source": [
    "## imports"
   ]
  },
  {
   "cell_type": "code",
   "execution_count": null,
   "id": "f3d49b9e-a7f9-42ed-8b13-8a5898725927",
   "metadata": {
    "id": "40fbf84d-4da1-4af4-abb9-edfe2ecf7df0"
   },
   "outputs": [],
   "source": [
    "import numpy as np"
   ]
  },
  {
   "cell_type": "markdown",
   "id": "362d0cdc-1bae-4a48-b706-935b717caf84",
   "metadata": {
    "id": "4f29e70f-f08d-4d8c-8bb3-602642655547"
   },
   "source": [
    "## 클래스공부 5단계"
   ]
  },
  {
   "cell_type": "markdown",
   "id": "d045f0d6-059b-448a-a672-8af9920b8d93",
   "metadata": {
    "id": "8c2d9c90-7924-4503-b8c4-4984e175d50e"
   },
   "source": [
    "`-` 지난시간까지 배운것: RPC자료형에 한정해서 print()등의 기능을 조작할 수 있었다. (재정의 할 수 있었다) "
   ]
  },
  {
   "cell_type": "markdown",
   "id": "1adbadd9-ec4b-49d8-9a6a-15a3a9c923d9",
   "metadata": {
    "id": "05b9a997-845d-4d27-8a00-b0b0c227864b"
   },
   "source": [
    "`-` 이번시간에 배울것: 특정자료형에 한정하여 print 이외의 파이썬 내부기능을 조작하여 보자. (재정의하여 보자)"
   ]
  },
  {
   "cell_type": "markdown",
   "id": "56ab6be4-f216-4b91-bfa0-2a91e7e273c3",
   "metadata": {
    "id": "f8514b25-6330-4184-b6ba-64c5fd6c3912"
   },
   "source": [
    "### motive"
   ]
  },
  {
   "cell_type": "markdown",
   "id": "21701b56-0ff1-4e4e-94df-5d3bd9432711",
   "metadata": {
    "id": "e8a309ab-f043-47db-87bf-7d0f6c66bff9"
   },
   "source": [
    "`-` 아래의 연산구조를 관찰하자. "
   ]
  },
  {
   "cell_type": "code",
   "execution_count": null,
   "id": "02f2c2bb-7096-4ea2-b424-b95684abd331",
   "metadata": {
    "id": "c5df4948-d644-450e-b4a3-5cf7ce5e0e1a",
    "outputId": "45a6bbd0-9765-4e09-c90f-c99bc522f6ef"
   },
   "outputs": [
    {
     "data": {
      "text/plain": [
       "3"
      ]
     },
     "execution_count": 3,
     "metadata": {},
     "output_type": "execute_result"
    }
   ],
   "source": [
    "a=1 \n",
    "b=2 \n",
    "a+b "
   ]
  },
  {
   "cell_type": "markdown",
   "id": "e60b0c01-582c-461d-b243-f0a684cf8b28",
   "metadata": {
    "id": "c5e6c2ec-b353-4b5f-ab16-822fcd1a9303"
   },
   "source": [
    "- a라는 인스턴스와 b라는 인스턴스를 +라는 기호가 연결하고 있다. "
   ]
  },
  {
   "cell_type": "markdown",
   "id": "119461ad-edd2-4e71-936c-cbe8728b71ea",
   "metadata": {
    "id": "6bc57e13-b3d1-4e93-b9ec-162c7e6ac266"
   },
   "source": [
    "`-` 이번에는 아래의 연산구조를 관찰하자."
   ]
  },
  {
   "cell_type": "code",
   "execution_count": null,
   "id": "3e057233-2e82-4d69-ad94-d1717d6a3df3",
   "metadata": {
    "id": "65164b9c-d821-4afe-b0d4-472f5aed8c07",
    "outputId": "f35763b1-9d8c-40fd-9c3c-8559c5ddb31c"
   },
   "outputs": [
    {
     "data": {
      "text/plain": [
       "[1, 2, 3, 4]"
      ]
     },
     "execution_count": 4,
     "metadata": {},
     "output_type": "execute_result"
    }
   ],
   "source": [
    "a=[1,2]\n",
    "b=[3,4]\n",
    "a+b"
   ]
  },
  {
   "cell_type": "markdown",
   "id": "07302578-906d-4241-9b44-b6b69d79c9d6",
   "metadata": {
    "id": "40a21b92-c296-4d9b-b1b9-1c0b94b2c9f1"
   },
   "source": [
    "- a라는 인스턴스와 b라는 인스턴스를 +라는 기호가 연결하고 있다. "
   ]
  },
  {
   "cell_type": "markdown",
   "id": "a0caa9b9-be09-4ec9-a782-b48d6b2a2c56",
   "metadata": {
    "id": "732a191f-b0c6-4a97-99b2-17f9673bc088"
   },
   "source": [
    "`-` 동작이 다른 이유?\n",
    "- 클래스를 배우기 이전: int자료형의 `+`는 \"정수의 덧셈\"을 의미하고 list자료형의 `+`는 \"자료의 추가\"를 의미한다. \n",
    "- 클래스를 배운 이후: 아마 클래스는 `+`라는 연산을 정의하는 숨겨진 메소드가 있을것이다. (print가 그랬듯이) 그리고 int클래스에서는 그 메소드를 \"정수의 덧셈\"이 되도록 정의하였고 list클래스에서는 그 메소드를 \"자료의 추가\"를 의미하도록 정의하였다. "
   ]
  },
  {
   "cell_type": "markdown",
   "id": "5983af9d-45d2-4f18-aedc-876d5a501b5e",
   "metadata": {
    "id": "09b1a3f7-6f32-4d3c-8513-10a3f0fc0b18"
   },
   "source": [
    "`-` 아래의 결과를 관찰"
   ]
  },
  {
   "cell_type": "code",
   "execution_count": null,
   "id": "6e05f0f5-bb7d-4945-8a87-c4b48dda8698",
   "metadata": {
    "id": "295f38ba-6a8e-48ee-88c2-2dc0cf062e62"
   },
   "outputs": [],
   "source": [
    "a=1\n",
    "b=2"
   ]
  },
  {
   "cell_type": "code",
   "execution_count": null,
   "id": "63685501-06be-4d74-8269-509c1a5dfc07",
   "metadata": {
    "id": "124e0c71-1783-4bd0-91f8-6e2cfa45258c",
    "outputId": "c8216638-6498-40c4-f1f5-817e266eea77"
   },
   "outputs": [
    {
     "data": {
      "text/plain": [
       "3"
      ]
     },
     "execution_count": 19,
     "metadata": {},
     "output_type": "execute_result"
    }
   ],
   "source": [
    "a.__add__(b)"
   ]
  },
  {
   "cell_type": "code",
   "execution_count": null,
   "id": "2112e531-ce06-4fa2-bdf2-4c1a77baa4b3",
   "metadata": {
    "id": "e3085db5-b91b-4a79-9eda-08523a23cfc7",
    "outputId": "035589f1-1181-4283-8937-8cb4e92b5e26"
   },
   "outputs": [
    {
     "data": {
      "text/plain": [
       "3"
      ]
     },
     "execution_count": 20,
     "metadata": {},
     "output_type": "execute_result"
    }
   ],
   "source": [
    "b.__add__(a)"
   ]
  },
  {
   "cell_type": "code",
   "execution_count": null,
   "id": "2287a038-f4e8-46b9-8dec-9ec28f2882db",
   "metadata": {
    "id": "64bc3e01-1407-4436-a295-9cb51cdbbba6"
   },
   "outputs": [],
   "source": [
    "a=[1,2]\n",
    "b=[3,4]"
   ]
  },
  {
   "cell_type": "code",
   "execution_count": null,
   "id": "f6518682-d46d-4986-9f4b-46a6601538ea",
   "metadata": {
    "id": "d21c935b-ba65-459f-abda-103ad3c22460",
    "outputId": "c90e35a8-db35-4bbc-d3f7-6ded6fae8f70"
   },
   "outputs": [
    {
     "data": {
      "text/plain": [
       "[1, 2, 3, 4]"
      ]
     },
     "execution_count": 22,
     "metadata": {},
     "output_type": "execute_result"
    }
   ],
   "source": [
    "a.__add__(b)"
   ]
  },
  {
   "cell_type": "code",
   "execution_count": null,
   "id": "5ec730d7-5fd3-468f-8896-5c119e701d63",
   "metadata": {
    "id": "4cfc2e68-1e4f-48b0-80a8-7d92664d2745",
    "outputId": "2c800d6e-284b-4809-dc5f-2a8517041880"
   },
   "outputs": [
    {
     "data": {
      "text/plain": [
       "[3, 4, 1, 2]"
      ]
     },
     "execution_count": 23,
     "metadata": {},
     "output_type": "execute_result"
    }
   ],
   "source": [
    "b.__add__(a)"
   ]
  },
  {
   "cell_type": "markdown",
   "id": "a13b8716-e14c-4ee1-b2ac-c6b0f284b423",
   "metadata": {
    "id": "91adf3ae-5aa6-441a-8f05-8606d6a3305e"
   },
   "source": [
    "`-` a+b는 사실 내부적으로 `a.__add__(b)`의 축약구문이다. 따라서 만약 `a.__add__(b)`의 기능을 바꾸면 (재정의하면) a+b의 기능도 바뀔 것이다. "
   ]
  },
  {
   "cell_type": "markdown",
   "id": "72e4af51-ec0f-4172-ad29-8a72d8ef951a",
   "metadata": {
    "id": "fc2ca88c-d00e-4c69-9a37-31a58cddface"
   },
   "source": [
    "### `__add__`"
   ]
  },
  {
   "cell_type": "markdown",
   "id": "bbb92df3-4007-440d-a4fc-cf6410023b71",
   "metadata": {
    "id": "2a8f074f-2e7f-4e4e-9161-3fa49cb6ff04"
   },
   "source": [
    "`-` 학생예제"
   ]
  },
  {
   "cell_type": "code",
   "execution_count": null,
   "id": "db8b0ea8-46fb-4746-b8b0-a169d3a3e67e",
   "metadata": {
    "id": "d16ee08a-9eed-493d-932c-082eab17de6d"
   },
   "outputs": [],
   "source": [
    "class Student:\n",
    "    def __init__(self,age=20.0, semester=0): \n",
    "        self.age = age\n",
    "        self.semester = semester\n",
    "        print(\"입학을 축하합니다. 당신의 나이는 {}이고 현재 학기는 {}학기 입니다.\".format(self.age,self.semester))\n",
    "    def __add__(self,val): \n",
    "        # val == 0: 휴학 \n",
    "        # val == 1: 등록 \n",
    "        if val==0: \n",
    "            self.age=self.age+0.5\n",
    "        elif val==1:\n",
    "            self.age=self.age+0.5 \n",
    "            self.semester= self.semester+1 \n",
    "    def _repr_html_(self):\n",
    "        html_str = \"\"\"\n",
    "        나이: {} <br/>\n",
    "        학기: {} <br/>\n",
    "        \"\"\"\n",
    "        return html_str.format(self.age,self.semester)"
   ]
  },
  {
   "cell_type": "code",
   "execution_count": null,
   "id": "985e75a2-35b6-44ab-9ed1-041992aff2a6",
   "metadata": {
    "id": "acd5bbba-6c99-4299-b8db-25b95a8339ad",
    "outputId": "82960614-f501-483d-9e3e-4958e60236b5"
   },
   "outputs": [
    {
     "name": "stdout",
     "output_type": "stream",
     "text": [
      "입학을 축하합니다. 당신의 나이는 20.0이고 현재 학기는 0학기 입니다.\n"
     ]
    }
   ],
   "source": [
    "iu= Student()"
   ]
  },
  {
   "cell_type": "code",
   "execution_count": null,
   "id": "e61b407b-845e-40c5-9bf9-351506373e33",
   "metadata": {
    "id": "3e46a724-1f59-4372-9b32-cb446dd67a90",
    "outputId": "ac2256f0-b006-4dc6-b834-0267c13b7a94"
   },
   "outputs": [
    {
     "data": {
      "text/html": [
       "\n",
       "        나이: 20.0 <br/>\n",
       "        학기: 0 <br/>\n",
       "        "
      ],
      "text/plain": [
       "<__main__.Student at 0x7f8c68390250>"
      ]
     },
     "execution_count": 106,
     "metadata": {},
     "output_type": "execute_result"
    }
   ],
   "source": [
    "iu"
   ]
  },
  {
   "cell_type": "code",
   "execution_count": null,
   "id": "554894ed-9e0e-4189-817c-d9e39d6af7b5",
   "metadata": {
    "id": "7ebf6ac2-0b00-4b33-b9ca-4298c02a18e5",
    "outputId": "f24ba9f6-0065-4efa-b411-590565b13902"
   },
   "outputs": [
    {
     "data": {
      "text/html": [
       "\n",
       "        나이: 20.5 <br/>\n",
       "        학기: 1 <br/>\n",
       "        "
      ],
      "text/plain": [
       "<__main__.Student at 0x7f8c68390250>"
      ]
     },
     "execution_count": 107,
     "metadata": {},
     "output_type": "execute_result"
    }
   ],
   "source": [
    "iu + 1 ## 1학년 1학기 등록\n",
    "iu"
   ]
  },
  {
   "cell_type": "code",
   "execution_count": null,
   "id": "22fa0b06-573b-4042-a5b5-aeb3203d2653",
   "metadata": {
    "id": "56ebe2e3-1fd9-4e11-bd36-b4e101fd8c16",
    "outputId": "4c66054d-67b6-4837-adc9-ea608cf7bb79"
   },
   "outputs": [
    {
     "data": {
      "text/html": [
       "\n",
       "        나이: 21.0 <br/>\n",
       "        학기: 1 <br/>\n",
       "        "
      ],
      "text/plain": [
       "<__main__.Student at 0x7f8c68390250>"
      ]
     },
     "execution_count": 108,
     "metadata": {},
     "output_type": "execute_result"
    }
   ],
   "source": [
    "iu + 0 ## 휴학함\n",
    "iu "
   ]
  },
  {
   "cell_type": "markdown",
   "id": "2df7e109-7b2c-4dfc-a379-f31840d610af",
   "metadata": {
    "id": "505ccf18-4dc1-4daa-918e-bb82d4147966"
   },
   "source": [
    "`-` 연산을 연속으로 하고 싶다. "
   ]
  },
  {
   "cell_type": "code",
   "execution_count": null,
   "id": "38bf89e9-b356-405c-80a0-6d4f11d94c28",
   "metadata": {
    "id": "7c0caf3e-313f-43e7-a123-4069296d64e0",
    "outputId": "ddf0c584-255d-42eb-f330-05f7a80f04a5"
   },
   "outputs": [
    {
     "ename": "TypeError",
     "evalue": "unsupported operand type(s) for +: 'NoneType' and 'int'",
     "output_type": "error",
     "traceback": [
      "\u001b[0;31m---------------------------------------------------------------------------\u001b[0m",
      "\u001b[0;31mTypeError\u001b[0m                                 Traceback (most recent call last)",
      "Input \u001b[0;32mIn [109]\u001b[0m, in \u001b[0;36m<cell line: 1>\u001b[0;34m()\u001b[0m\n\u001b[0;32m----> 1\u001b[0m \u001b[43miu\u001b[49m\u001b[43m \u001b[49m\u001b[38;5;241;43m+\u001b[39;49m\u001b[43m \u001b[49m\u001b[38;5;241;43m1\u001b[39;49m\u001b[43m \u001b[49m\u001b[38;5;241;43m+\u001b[39;49m\u001b[43m \u001b[49m\u001b[38;5;241;43m0\u001b[39;49m \u001b[38;5;241m+\u001b[39m \u001b[38;5;241m0\u001b[39m \u001b[38;5;241m+\u001b[39m \u001b[38;5;241m0\u001b[39m \u001b[38;5;241m+\u001b[39m \u001b[38;5;241m0\u001b[39m\n",
      "\u001b[0;31mTypeError\u001b[0m: unsupported operand type(s) for +: 'NoneType' and 'int'"
     ]
    }
   ],
   "source": [
    "iu + 1 + 0 + 0 + 0 + 0"
   ]
  },
  {
   "cell_type": "markdown",
   "id": "05c3606a-d75a-494e-9624-d9f7481af863",
   "metadata": {
    "id": "1f3bcc32-8bdc-4113-a5ac-ccc03ce02892"
   },
   "source": [
    "`-` 에러의 이유?"
   ]
  },
  {
   "cell_type": "markdown",
   "id": "2cfff8e9-7764-4291-9338-a6c98d0777ba",
   "metadata": {
    "id": "cf18b8fb-e426-42aa-a444-fc50811d0a53"
   },
   "source": [
    "(되는코드)"
   ]
  },
  {
   "cell_type": "code",
   "execution_count": null,
   "id": "55bc13a4-b0fa-4085-9712-606121e3e5f7",
   "metadata": {
    "id": "c7afcba6-cd7f-49c4-829b-cb95e539d468",
    "outputId": "8e19d21f-30fc-43ff-d5cd-41cb316e5676"
   },
   "outputs": [
    {
     "data": {
      "text/plain": [
       "3"
      ]
     },
     "execution_count": 110,
     "metadata": {},
     "output_type": "execute_result"
    }
   ],
   "source": [
    "(1+1)+1 # 1+1+1은 이렇게 볼 수 있다"
   ]
  },
  {
   "cell_type": "code",
   "execution_count": null,
   "id": "b0819829-b267-4fe4-bc47-562fb18c8532",
   "metadata": {
    "id": "1093b39c-22a3-40fe-8ace-4c6f359d4b84",
    "outputId": "21c6287d-2e25-46b2-eb1f-19f450347e4d"
   },
   "outputs": [
    {
     "data": {
      "text/plain": [
       "int"
      ]
     },
     "execution_count": 111,
     "metadata": {},
     "output_type": "execute_result"
    }
   ],
   "source": [
    "_a = (1+1) \n",
    "type(_a)"
   ]
  },
  {
   "cell_type": "code",
   "execution_count": null,
   "id": "f2ab280e-69dd-4bcb-acc5-9b946d631783",
   "metadata": {
    "id": "c0d6f071-b717-4b74-b517-2cd8252b6067",
    "outputId": "6f7056ee-d6e5-42ce-ebe2-57401748fc33"
   },
   "outputs": [
    {
     "data": {
      "text/plain": [
       "3"
      ]
     },
     "execution_count": 112,
     "metadata": {},
     "output_type": "execute_result"
    }
   ],
   "source": [
    "_a+1 # 이 연산은 int인스턴스 + int인스턴스 "
   ]
  },
  {
   "cell_type": "markdown",
   "id": "b1361016-fe72-4771-9192-fa02a6e07563",
   "metadata": {
    "id": "d73d6270-5ca1-48c5-8bb5-68fcb277e8a1"
   },
   "source": [
    "(안되는코드)"
   ]
  },
  {
   "cell_type": "code",
   "execution_count": null,
   "id": "8523ee17-b7fe-4414-ad87-8866cf26fc0b",
   "metadata": {
    "id": "ba96b54a-97cf-4dab-b567-a5e61c1c6f04",
    "outputId": "9c12e8ec-6044-46e6-be51-3a545ee3250b"
   },
   "outputs": [
    {
     "ename": "TypeError",
     "evalue": "unsupported operand type(s) for +: 'NoneType' and 'int'",
     "output_type": "error",
     "traceback": [
      "\u001b[0;31m---------------------------------------------------------------------------\u001b[0m",
      "\u001b[0;31mTypeError\u001b[0m                                 Traceback (most recent call last)",
      "Input \u001b[0;32mIn [113]\u001b[0m, in \u001b[0;36m<cell line: 1>\u001b[0;34m()\u001b[0m\n\u001b[0;32m----> 1\u001b[0m \u001b[43miu\u001b[49m\u001b[38;5;241;43m+\u001b[39;49m\u001b[38;5;241;43m1\u001b[39;49m\u001b[38;5;241;43m+\u001b[39;49m\u001b[38;5;241;43m1\u001b[39;49m\n",
      "\u001b[0;31mTypeError\u001b[0m: unsupported operand type(s) for +: 'NoneType' and 'int'"
     ]
    }
   ],
   "source": [
    "iu+1+1"
   ]
  },
  {
   "cell_type": "code",
   "execution_count": null,
   "id": "cf477b54-5840-4761-b4cc-f0082c01b8c1",
   "metadata": {
    "id": "bd502898-27f8-49a4-8b89-f7b81e8c1538",
    "outputId": "3de3083f-c818-402e-a2a4-cf431941ccee"
   },
   "outputs": [
    {
     "data": {
      "text/plain": [
       "NoneType"
      ]
     },
     "execution_count": 114,
     "metadata": {},
     "output_type": "execute_result"
    }
   ],
   "source": [
    "_a=iu+1 \n",
    "type(_a)"
   ]
  },
  {
   "cell_type": "code",
   "execution_count": null,
   "id": "9792fcff-a99b-47a2-a007-23c7b1053a55",
   "metadata": {
    "id": "f52d83e5-6f39-40a7-a8e7-6bd57053f4f6",
    "outputId": "37481ff6-d607-4ec4-b5e7-b25710dfd940"
   },
   "outputs": [
    {
     "ename": "TypeError",
     "evalue": "unsupported operand type(s) for +: 'NoneType' and 'int'",
     "output_type": "error",
     "traceback": [
      "\u001b[0;31m---------------------------------------------------------------------------\u001b[0m",
      "\u001b[0;31mTypeError\u001b[0m                                 Traceback (most recent call last)",
      "Input \u001b[0;32mIn [115]\u001b[0m, in \u001b[0;36m<cell line: 1>\u001b[0;34m()\u001b[0m\n\u001b[0;32m----> 1\u001b[0m \u001b[43m_a\u001b[49m\u001b[38;5;241;43m+\u001b[39;49m\u001b[38;5;241;43m1\u001b[39;49m\n",
      "\u001b[0;31mTypeError\u001b[0m: unsupported operand type(s) for +: 'NoneType' and 'int'"
     ]
    }
   ],
   "source": [
    "_a+1 "
   ]
  },
  {
   "cell_type": "markdown",
   "id": "59625ca1-e18b-4aa5-9f2f-1e72dead0515",
   "metadata": {
    "id": "2634daa1-1ea2-40bf-880d-d959c8f481ac"
   },
   "source": [
    "`-` 에러를 해결하는 방법: iu+1의 결과로 Student클래스의 인스턴스가 리턴되면 된다. "
   ]
  },
  {
   "cell_type": "code",
   "execution_count": null,
   "id": "4592d10c-3455-4d44-897d-b66e1298edf0",
   "metadata": {
    "id": "d6a2b27e-8605-48f3-b2d2-54ac526e71cd"
   },
   "outputs": [],
   "source": [
    "class Student:\n",
    "    def __init__(self,age=20.0, semester=0): \n",
    "        self.age = age\n",
    "        self.semester = semester\n",
    "        print(\"입학을 축하합니다. 당신의 나이는 {}이고 현재 학기는 {}학기 입니다.\".format(self.age,self.semester))\n",
    "    def __add__(self,val): \n",
    "        # val == 0: 휴학 \n",
    "        # val == 1: 등록 \n",
    "        if val==0: \n",
    "            self.age=self.age+0.5\n",
    "        elif val==1:\n",
    "            self.age=self.age+0.5 \n",
    "            self.semester= self.semester+1 \n",
    "        return self\n",
    "    def _repr_html_(self):\n",
    "        html_str = \"\"\"\n",
    "        나이: {} <br/>\n",
    "        학기: {} <br/>\n",
    "        \"\"\"\n",
    "        return html_str.format(self.age,self.semester)"
   ]
  },
  {
   "cell_type": "code",
   "execution_count": null,
   "id": "655277e1-e4fc-450f-9295-3e7473ed3b1b",
   "metadata": {
    "id": "fe1a1af2-e591-4750-af5c-4dd2b933416e",
    "outputId": "c13995f5-0008-4f7c-fdfb-8e0f0d2bdb5a"
   },
   "outputs": [
    {
     "name": "stdout",
     "output_type": "stream",
     "text": [
      "입학을 축하합니다. 당신의 나이는 20.0이고 현재 학기는 0학기 입니다.\n"
     ]
    }
   ],
   "source": [
    "iu = Student()"
   ]
  },
  {
   "cell_type": "code",
   "execution_count": null,
   "id": "48e61e35-2dfe-4161-8ebd-e8c2c95c02b8",
   "metadata": {
    "id": "e2a94a03-efdc-436f-9644-ebd903a03a1e",
    "outputId": "74f34eb9-962b-416f-bd0f-aae5d82cde3b"
   },
   "outputs": [
    {
     "data": {
      "text/html": [
       "\n",
       "        나이: 20.5 <br/>\n",
       "        학기: 1 <br/>\n",
       "        "
      ],
      "text/plain": [
       "<__main__.Student at 0x7f8c6030e940>"
      ]
     },
     "execution_count": 127,
     "metadata": {},
     "output_type": "execute_result"
    }
   ],
   "source": [
    "iu+1 # __add__의 return에 Student클래스의 인스턴스가 리턴되면서 자동으로 _repr_html_() 실행"
   ]
  },
  {
   "cell_type": "code",
   "execution_count": null,
   "id": "5ca0c753-5231-4ae1-bd14-f0f731ee531f",
   "metadata": {
    "id": "22780f68-9de4-4076-b2cc-fa2951f8c2f5",
    "outputId": "84b98dc1-9d3f-49af-9f90-582d3228debe"
   },
   "outputs": [
    {
     "data": {
      "text/html": [
       "\n",
       "        나이: 23.0 <br/>\n",
       "        학기: 2 <br/>\n",
       "        "
      ],
      "text/plain": [
       "<__main__.Student at 0x7f8c6030e940>"
      ]
     },
     "execution_count": 128,
     "metadata": {},
     "output_type": "execute_result"
    }
   ],
   "source": [
    "iu+1 +0+0+0+0"
   ]
  },
  {
   "cell_type": "markdown",
   "id": "f15fcebc-9735-4095-aec1-0d2102122679",
   "metadata": {
    "id": "81d937a0-a71d-4c83-a1d6-4ae77e9bec53"
   },
   "source": [
    "### `__mul__`"
   ]
  },
  {
   "cell_type": "code",
   "execution_count": null,
   "id": "54ab0e07-6f4f-4204-b9ad-7ec1590e6054",
   "metadata": {
    "id": "0764ebba-de58-4765-8d98-e9dbb992e8b2"
   },
   "outputs": [],
   "source": [
    "class RPC: \n",
    "    def __init__(self,candidate=['가위','바위','보']):\n",
    "        self.candidate = candidate\n",
    "        self.actions = list() \n",
    "        self.results = list()\n",
    "    def __mul__(self,other):\n",
    "        self.choose()\n",
    "        other.choose()\n",
    "        if self.actions[-1]=='가위' and other.actions[-1]=='가위':\n",
    "            self.results.append(0)\n",
    "            other.results.append(0)\n",
    "        if self.actions[-1]=='가위' and other.actions[-1]=='바위':\n",
    "            self.results.append(-1)\n",
    "            other.results.append(1)\n",
    "        if self.actions[-1]=='가위' and other.actions[-1]=='보':\n",
    "            self.results.append(1)\n",
    "            other.results.append(-1)\n",
    "        if self.actions[-1]=='바위' and other.actions[-1]=='가위':\n",
    "            self.results.append(1)\n",
    "            other.results.append(-1)\n",
    "        if self.actions[-1]=='바위' and other.actions[-1]=='바위':\n",
    "            self.results.append(0)\n",
    "            other.results.append(0)\n",
    "        if self.actions[-1]=='바위' and other.actions[-1]=='보':\n",
    "            self.results.append(-1)\n",
    "            other.results.append(1)\n",
    "        if self.actions[-1]=='보' and other.actions[-1]=='가위':\n",
    "            self.results.append(-1)\n",
    "            other.results.append(1)\n",
    "        if self.actions[-1]=='보' and other.actions[-1]=='바위':\n",
    "            self.results.append(1)\n",
    "            other.results.append(-1)\n",
    "        if self.actions[-1]=='보' and other.actions[-1]=='보':\n",
    "            self.results.append(0)\n",
    "            other.results.append(0)\n",
    "    def choose(self):\n",
    "        self.actions.append(np.random.choice(self.candidate))\n",
    "    def _repr_html_(self):\n",
    "        html_str = \"\"\"\n",
    "        낼 수 있는 패: {} <br/> \n",
    "        액션: {} <br/>\n",
    "        승패: {}\n",
    "        \"\"\"\n",
    "        return html_str.format(self.candidate,self.actions,self.results)"
   ]
  },
  {
   "cell_type": "code",
   "execution_count": null,
   "id": "bc3fda58-e907-4451-acd7-344a53268809",
   "metadata": {
    "id": "a1ad190f-16e5-4d39-91c2-27ac90680f52"
   },
   "outputs": [],
   "source": [
    "a=RPC()\n",
    "b=RPC()"
   ]
  },
  {
   "cell_type": "code",
   "execution_count": null,
   "id": "edb0c1f0-fc45-4458-87c9-051b0541bc3b",
   "metadata": {
    "id": "019ae33a-0e04-498c-87f7-11175638ccfe",
    "outputId": "554be739-1fb0-4280-b050-98a4227b461b"
   },
   "outputs": [
    {
     "data": {
      "text/html": [
       "\n",
       "        낼 수 있는 패: ['가위', '바위', '보'] <br/> \n",
       "        액션: [] <br/>\n",
       "        승패: []\n",
       "        "
      ],
      "text/plain": [
       "<__main__.RPC at 0x7f8c442be280>"
      ]
     },
     "execution_count": 231,
     "metadata": {},
     "output_type": "execute_result"
    }
   ],
   "source": [
    "a"
   ]
  },
  {
   "cell_type": "code",
   "execution_count": null,
   "id": "6a43ec55-4ad6-45fa-9fd5-7dac61d6e07d",
   "metadata": {
    "id": "d4e29984-79bc-49bf-a23a-5847f8646b31",
    "outputId": "93363b69-60f7-48dd-f5ac-dc77c608552e"
   },
   "outputs": [
    {
     "data": {
      "text/html": [
       "\n",
       "        낼 수 있는 패: ['가위', '바위', '보'] <br/> \n",
       "        액션: [] <br/>\n",
       "        승패: []\n",
       "        "
      ],
      "text/plain": [
       "<__main__.RPC at 0x7f8c442be520>"
      ]
     },
     "execution_count": 232,
     "metadata": {},
     "output_type": "execute_result"
    }
   ],
   "source": [
    "b"
   ]
  },
  {
   "cell_type": "code",
   "execution_count": null,
   "id": "511b9ce3-a154-4226-b518-29b378f255aa",
   "metadata": {
    "id": "5d96944f-2c2d-441e-b40c-6d15fb62e4f6"
   },
   "outputs": [],
   "source": [
    "a*b"
   ]
  },
  {
   "cell_type": "code",
   "execution_count": null,
   "id": "05a1d790-2567-4bbd-88d8-dd6a5fa668fe",
   "metadata": {
    "id": "df6d5221-ab05-47f7-9e1a-4fd6af4bb37f",
    "outputId": "2c7246c7-1463-4ce9-ae3a-14bb126ef199"
   },
   "outputs": [
    {
     "data": {
      "text/html": [
       "\n",
       "        낼 수 있는 패: ['가위', '바위', '보'] <br/> \n",
       "        액션: ['보'] <br/>\n",
       "        승패: [-1]\n",
       "        "
      ],
      "text/plain": [
       "<__main__.RPC at 0x7f8c442be280>"
      ]
     },
     "execution_count": 234,
     "metadata": {},
     "output_type": "execute_result"
    }
   ],
   "source": [
    "a"
   ]
  },
  {
   "cell_type": "code",
   "execution_count": null,
   "id": "b5a0eef2-0549-48e4-b55d-ad07f71f3854",
   "metadata": {
    "id": "6dabab87-9ec0-4169-9608-107a5f67d03e",
    "outputId": "99a6b2ec-8fd1-42ee-9f25-4de9db54aef2"
   },
   "outputs": [
    {
     "data": {
      "text/html": [
       "\n",
       "        낼 수 있는 패: ['가위', '바위', '보'] <br/> \n",
       "        액션: ['가위'] <br/>\n",
       "        승패: [1]\n",
       "        "
      ],
      "text/plain": [
       "<__main__.RPC at 0x7f8c442be520>"
      ]
     },
     "execution_count": 235,
     "metadata": {},
     "output_type": "execute_result"
    }
   ],
   "source": [
    "b"
   ]
  },
  {
   "cell_type": "code",
   "execution_count": null,
   "id": "24012907-ac13-4356-b4a7-458e7d09be04",
   "metadata": {
    "id": "0cd8a823-e35e-4f4a-bb1f-6a977b0893e8"
   },
   "outputs": [],
   "source": [
    "for i in range(5):\n",
    "    a*b"
   ]
  },
  {
   "cell_type": "code",
   "execution_count": null,
   "id": "dd6e1263-143b-4bdd-b858-87ae02d5d76c",
   "metadata": {
    "id": "e867085a-e448-428f-bff8-7c4f4df3534e",
    "outputId": "a15e85c1-1a94-4b43-8b1b-20feb8730276"
   },
   "outputs": [
    {
     "data": {
      "text/html": [
       "\n",
       "        낼 수 있는 패: ['가위', '바위', '보'] <br/> \n",
       "        액션: ['보', '가위', '바위', '바위', '가위', '보'] <br/>\n",
       "        승패: [-1, -1, 0, 1, -1, 1]\n",
       "        "
      ],
      "text/plain": [
       "<__main__.RPC at 0x7f8c442be280>"
      ]
     },
     "execution_count": 237,
     "metadata": {},
     "output_type": "execute_result"
    }
   ],
   "source": [
    "a"
   ]
  },
  {
   "cell_type": "code",
   "execution_count": null,
   "id": "ee2769a3-05ae-4911-a46f-f7e7a0201b96",
   "metadata": {
    "id": "7985add7-1b89-4186-85d8-7d67b03f439c",
    "outputId": "e6e9a42b-f9af-4afd-8b54-b61d6d8e1e0a"
   },
   "outputs": [
    {
     "data": {
      "text/html": [
       "\n",
       "        낼 수 있는 패: ['가위', '바위', '보'] <br/> \n",
       "        액션: ['가위', '바위', '바위', '가위', '바위', '바위'] <br/>\n",
       "        승패: [1, 1, 0, -1, 1, -1]\n",
       "        "
      ],
      "text/plain": [
       "<__main__.RPC at 0x7f8c442be520>"
      ]
     },
     "execution_count": 238,
     "metadata": {},
     "output_type": "execute_result"
    }
   ],
   "source": [
    "b"
   ]
  },
  {
   "cell_type": "code",
   "execution_count": null,
   "id": "1b054370-0af2-498b-8cc2-ee62e86bed24",
   "metadata": {
    "id": "f8bec85e-b483-42fb-9244-971bc1b19398"
   },
   "outputs": [],
   "source": [
    "for i in range(50000):\n",
    "    a*b"
   ]
  },
  {
   "cell_type": "code",
   "execution_count": null,
   "id": "cc267323-c263-432f-961c-493b7505f838",
   "metadata": {
    "id": "58f82c4b-d6a2-4a32-b8e9-ce867e9755bf",
    "outputId": "bedaa170-0608-42c2-929a-a908f30074bb"
   },
   "outputs": [
    {
     "data": {
      "text/plain": [
       "-0.005739311282646082"
      ]
     },
     "execution_count": 241,
     "metadata": {},
     "output_type": "execute_result"
    }
   ],
   "source": [
    "sum(a.results)/len(a.results)"
   ]
  },
  {
   "cell_type": "code",
   "execution_count": null,
   "id": "0d83c4d1-41a6-4cee-91d0-727455ea22ce",
   "metadata": {
    "id": "e3999e83-060e-4f8c-8f2e-3cbb7421ed2a",
    "outputId": "0bbccddb-cd56-4151-ac79-66c81df1bdcb"
   },
   "outputs": [
    {
     "data": {
      "text/plain": [
       "0.005739311282646082"
      ]
     },
     "execution_count": 242,
     "metadata": {},
     "output_type": "execute_result"
    }
   ],
   "source": [
    "sum(b.results)/len(a.results)"
   ]
  },
  {
   "cell_type": "markdown",
   "id": "591a6352-11bf-4fe1-b273-f8dfa6224258",
   "metadata": {
    "id": "aa7c4b9c-c340-46cc-aac4-1a9dd189c1ac"
   },
   "source": [
    "## 숙제"
   ]
  },
  {
   "cell_type": "markdown",
   "id": "ce6bf359-25aa-4406-92e4-a8430d907cb4",
   "metadata": {
    "id": "58363836-883f-4685-855f-c025e30598c8"
   },
   "source": [
    "RPC클래스에서 player a와 player b를 만들어라. Player a는 ['가위','보'] 중에 하나를 낼 수 있다. 그리고 Player b는 ['가위','바위'] 중에 하나를 낼 수 있다. 두 player는 가지고 있는 패를 (같은확률로) 랜덤으로 낸다. (즉 player a가 가위만 내거나 보만 내는 경우는 없다.)"
   ]
  },
  {
   "cell_type": "markdown",
   "id": "8d94f361-93f1-46a2-8155-5e2558b404e9",
   "metadata": {
    "id": "0d7acc3e-e2a3-489b-91ad-2480cbb20bf6"
   },
   "source": [
    "(1) 누가 더 유리한가? 이유를 스스로 생각해보라. (이유를 정리하여 숙제로 제출할 필요 없음) "
   ]
  },
  {
   "cell_type": "markdown",
   "id": "354d76bc-6d96-4ed2-9cb9-e40b0579d83f",
   "metadata": {
    "id": "5ec40b69-ac85-417d-bacf-b0bbb72c0400"
   },
   "source": [
    "(2) 50000번의 시뮬레이션을 해보고 결과를 분석해보라. "
   ]
  }
 ],
 "metadata": {
  "colab": {
   "name": "2022-05-23-(12주차) 5월23일.ipynb",
   "provenance": []
  },
  "kernelspec": {
   "display_name": "Python 3 (ipykernel)",
   "language": "python",
   "name": "python3"
  },
  "language_info": {
   "codemirror_mode": {
    "name": "ipython",
    "version": 3
   },
   "file_extension": ".py",
   "mimetype": "text/x-python",
   "name": "python",
   "nbconvert_exporter": "python",
   "pygments_lexer": "ipython3",
   "version": "3.8.12"
  }
 },
 "nbformat": 4,
 "nbformat_minor": 5
}
